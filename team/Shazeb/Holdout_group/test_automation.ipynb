{
 "cells": [
  {
   "cell_type": "code",
   "execution_count": 9,
   "metadata": {},
   "outputs": [],
   "source": [
    "import logging\n",
    "from google.auth import credentials\n",
    "from google.auth.transport.requests import Request\n",
    "from google.cloud import bigquery\n",
    "import json\n",
    "import os\n",
    "import numpy as np\n",
    "import pandas as pd\n",
    "\n",
    "# Define your Google Cloud project ID directly in the notebook\n",
    "project_id = \"logistics-data-storage-staging\"  # Set your project ID here directly\n",
    "\n",
    "logging.info(f\"Initializing BigQuery client for project: {project_id}\")\n",
    "\n",
    "# Load the credentials from the file created in the GitHub Action workflow\n",
    "credentials_path = '/tmp/credentials.json'\n",
    "\n",
    "# Check if the credentials file exists\n",
    "if os.path.exists(credentials_path):\n",
    "    # Load credentials from the file\n",
    "    with open(credentials_path, 'r') as f:\n",
    "        creds_data = json.load(f)\n",
    "    \n",
    "    # Rebuild credentials object using the loaded data\n",
    "    credentials = credentials.Credentials.from_authorized_user_info(creds_data)\n",
    "    \n",
    "    # Refresh credentials if necessary\n",
    "    if credentials.expired and credentials.refresh_token:\n",
    "        credentials.refresh(Request())\n",
    "else:\n",
    "    raise FileNotFoundError(f\"Credentials file not found at {credentials_path}\")\n",
    "\n",
    "# Now initialize the BigQuery client with the credentials and project_id explicitly set\n",
    "try:\n",
    "    client = bigquery.Client(credentials=credentials, project=project_id)\n",
    "    logging.info(f\"BigQuery client initialized successfully for project: {project_id}\")\n",
    "except Exception as e:\n",
    "    logging.error(f\"Failed to initialize BigQuery client: {e}\")\n",
    "    raise e\n",
    "\n",
    "# Define the query\n",
    "test_query = \"\"\"\n",
    "Select *\n",
    "FROM `logistics-data-storage-staging.long_term_pricing.abc_performance` \n",
    "\"\"\"\n",
    "\n",
    "# Run the query and store the result in a DataFrame\n",
    "test_df = client.query(test_query).to_dataframe()\n",
    "\n",
    "# Display the result\n",
    "test_df.head()  # You can display the first few rows of the result\n"
   ]
  }
 ],
 "metadata": {
  "kernelspec": {
   "display_name": ".venv",
   "language": "python",
   "name": "python3"
  },
  "language_info": {
   "codemirror_mode": {
    "name": "ipython",
    "version": 3
   },
   "file_extension": ".py",
   "mimetype": "text/x-python",
   "name": "python",
   "nbconvert_exporter": "python",
   "pygments_lexer": "ipython3",
   "version": "3.12.4"
  }
 },
 "nbformat": 4,
 "nbformat_minor": 2
}
