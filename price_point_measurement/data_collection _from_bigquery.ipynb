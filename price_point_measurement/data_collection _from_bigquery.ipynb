{
 "cells": [
  {
   "cell_type": "markdown",
   "metadata": {},
   "source": [
    "# Data collection directly from Bigquery\n",
    "\n",
    "There are two libraries we can use to get data directly from Big Query\n",
    "* pandas-gbq: open source library maintained by PyData\n",
    "* google-cloud-bigquery: open source library maintained by google\n",
    "\n",
    "Google-cloud-bigquery have more new features, full API functionality and could also run queries more quickly. \n",
    "However the authentification with google-cloud-bigquery requires service account, which we are not allowed to have based on DH default settings. We are contacting data engineering team to get it. Till then we can use pandas-gbq to run the query \n",
    "\n",
    "https://cloud.google.com/bigquery/docs/pandas-gbq-migration"
   ]
  },
  {
   "cell_type": "markdown",
   "metadata": {},
   "source": [
    "## 1. Data collection with pandas.gbq\n",
    "\n",
    "The following code shows how you import libraries, define a query, run it and get the data.\n",
    "More info about the library:\n",
    "* Documentation: https://pandas-gbq.readthedocs.io/en/latest/\n",
    "* Github: https://github.com/pydata/pandas-gbq/"
   ]
  },
  {
   "cell_type": "code",
   "execution_count": 1,
   "metadata": {},
   "outputs": [
    {
     "data": {
      "text/plain": [
       "'C:\\\\Users\\\\y.zhang\\\\Documents\\\\Projects\\\\bigquery'"
      ]
     },
     "execution_count": 1,
     "metadata": {},
     "output_type": "execute_result"
    }
   ],
   "source": [
    "# load packages\n",
    "import os\n",
    "import pandas as pd\n",
    "import numpy as np\n",
    "import matplotlib.pyplot as plt\n",
    "from pandas.io import gbq\n",
    "cwd=os.getcwd()\n",
    "cwd"
   ]
  },
  {
   "cell_type": "markdown",
   "metadata": {},
   "source": [
    "The following example shows how you define a query and then get the data using the API, which is saved as a data frame. The first time when you run the query, you need to log in your google account and authorize pandas-gbq to process the data."
   ]
  },
  {
   "cell_type": "code",
   "execution_count": 2,
   "metadata": {},
   "outputs": [],
   "source": [
    "# define the query you want ot run\n",
    "query=\"\"\"select * from `fulfillment-dwh-production.cl.orders` limit 10\"\"\""
   ]
  },
  {
   "cell_type": "code",
   "execution_count": 4,
   "metadata": {},
   "outputs": [
    {
     "name": "stderr",
     "output_type": "stream",
     "text": [
      "Downloading: 100%|███████████████████████████████████████████████████████████████████| 10/10 [00:00<00:00, 23.38rows/s]\n"
     ]
    },
    {
     "data": {
      "text/html": [
       "<div>\n",
       "<style scoped>\n",
       "    .dataframe tbody tr th:only-of-type {\n",
       "        vertical-align: middle;\n",
       "    }\n",
       "\n",
       "    .dataframe tbody tr th {\n",
       "        vertical-align: top;\n",
       "    }\n",
       "\n",
       "    .dataframe thead th {\n",
       "        text-align: right;\n",
       "    }\n",
       "</style>\n",
       "<table border=\"1\" class=\"dataframe\">\n",
       "  <thead>\n",
       "    <tr style=\"text-align: right;\">\n",
       "      <th></th>\n",
       "      <th>country_code</th>\n",
       "      <th>region</th>\n",
       "      <th>order_id</th>\n",
       "      <th>platform_order_id</th>\n",
       "      <th>platform_order_code</th>\n",
       "      <th>platform</th>\n",
       "      <th>entity</th>\n",
       "      <th>created_date</th>\n",
       "      <th>created_at</th>\n",
       "      <th>order_placed_at</th>\n",
       "      <th>...</th>\n",
       "      <th>tags</th>\n",
       "      <th>order_value</th>\n",
       "      <th>capacity</th>\n",
       "      <th>vendor_order_number</th>\n",
       "      <th>customer</th>\n",
       "      <th>vendor</th>\n",
       "      <th>porygon</th>\n",
       "      <th>deliveries</th>\n",
       "      <th>cancellation</th>\n",
       "      <th>timings</th>\n",
       "    </tr>\n",
       "  </thead>\n",
       "  <tbody>\n",
       "    <tr>\n",
       "      <td>0</td>\n",
       "      <td>uy</td>\n",
       "      <td>Americas</td>\n",
       "      <td>1231758</td>\n",
       "      <td>34145238</td>\n",
       "      <td>102298690</td>\n",
       "      <td>PedidosYa</td>\n",
       "      <td>{'id': 'PY_UY', 'display_name': 'PY - Uruguay'...</td>\n",
       "      <td>2019-06-14</td>\n",
       "      <td>2019-06-14 23:50:44.806628+00:00</td>\n",
       "      <td>2019-06-14 23:50:44.593000+00:00</td>\n",
       "      <td>...</td>\n",
       "      <td>[preorder]</td>\n",
       "      <td>100000</td>\n",
       "      <td>50</td>\n",
       "      <td>None</td>\n",
       "      <td>{'location': 'POINT(-56.1547 -34.9246)'}</td>\n",
       "      <td>{'id': 93, 'vendor_code': '49162', 'name': 'Ea...</td>\n",
       "      <td>[]</td>\n",
       "      <td>[{'id': 1279934, 'created_at': 2019-06-14 23:5...</td>\n",
       "      <td>{'source': 'api', 'performed_by': None, 'reaso...</td>\n",
       "      <td>{'updated_prep_time': 0, 'hold_back_time': 0, ...</td>\n",
       "    </tr>\n",
       "    <tr>\n",
       "      <td>1</td>\n",
       "      <td>uy</td>\n",
       "      <td>Americas</td>\n",
       "      <td>1231156</td>\n",
       "      <td>34137590</td>\n",
       "      <td>102277460</td>\n",
       "      <td>PedidosYa</td>\n",
       "      <td>{'id': 'PY_UY', 'display_name': 'PY - Uruguay'...</td>\n",
       "      <td>2019-06-14</td>\n",
       "      <td>2019-06-14 23:02:54.229943+00:00</td>\n",
       "      <td>2019-06-14 23:02:53.943000+00:00</td>\n",
       "      <td>...</td>\n",
       "      <td>[existing_address]</td>\n",
       "      <td>69500</td>\n",
       "      <td>34</td>\n",
       "      <td>None</td>\n",
       "      <td>{'location': 'POINT(-56.1472 -34.8849)'}</td>\n",
       "      <td>{'id': 593, 'vendor_code': '66736', 'name': 'F...</td>\n",
       "      <td>[]</td>\n",
       "      <td>[{'id': 1279313, 'created_at': 2019-06-14 23:0...</td>\n",
       "      <td>{'source': 'api', 'performed_by': None, 'reaso...</td>\n",
       "      <td>{'updated_prep_time': 2100, 'hold_back_time': ...</td>\n",
       "    </tr>\n",
       "    <tr>\n",
       "      <td>2</td>\n",
       "      <td>uy</td>\n",
       "      <td>Americas</td>\n",
       "      <td>1231342</td>\n",
       "      <td>34139778</td>\n",
       "      <td>102283249</td>\n",
       "      <td>PedidosYa</td>\n",
       "      <td>{'id': 'PY_UY', 'display_name': 'PY - Uruguay'...</td>\n",
       "      <td>2019-06-14</td>\n",
       "      <td>2019-06-14 23:18:43.445022+00:00</td>\n",
       "      <td>2019-06-14 23:18:43.233000+00:00</td>\n",
       "      <td>...</td>\n",
       "      <td>[existing_address]</td>\n",
       "      <td>28500</td>\n",
       "      <td>14</td>\n",
       "      <td>None</td>\n",
       "      <td>{'location': 'POINT(-56.0426 -34.8718)'}</td>\n",
       "      <td>{'id': 442, 'vendor_code': '63176', 'name': 'M...</td>\n",
       "      <td>[]</td>\n",
       "      <td>[{'id': 1279501, 'created_at': 2019-06-14 23:1...</td>\n",
       "      <td>{'source': 'api', 'performed_by': None, 'reaso...</td>\n",
       "      <td>{'updated_prep_time': 1200, 'hold_back_time': ...</td>\n",
       "    </tr>\n",
       "    <tr>\n",
       "      <td>3</td>\n",
       "      <td>uy</td>\n",
       "      <td>Americas</td>\n",
       "      <td>1231347</td>\n",
       "      <td>34139868</td>\n",
       "      <td>102283509</td>\n",
       "      <td>PedidosYa</td>\n",
       "      <td>{'id': 'PY_UY', 'display_name': 'PY - Uruguay'...</td>\n",
       "      <td>2019-06-14</td>\n",
       "      <td>2019-06-14 23:19:28.782375+00:00</td>\n",
       "      <td>2019-06-14 23:19:28.485000+00:00</td>\n",
       "      <td>...</td>\n",
       "      <td>[existing_address]</td>\n",
       "      <td>91000</td>\n",
       "      <td>44</td>\n",
       "      <td>None</td>\n",
       "      <td>{'location': 'POINT(-56.1498 -34.9117)'}</td>\n",
       "      <td>{'id': 200, 'vendor_code': '53702', 'name': 'L...</td>\n",
       "      <td>[]</td>\n",
       "      <td>[{'id': 1279506, 'created_at': 2019-06-14 23:1...</td>\n",
       "      <td>{'source': 'dispatcher', 'performed_by': None,...</td>\n",
       "      <td>{'updated_prep_time': 1994, 'hold_back_time': ...</td>\n",
       "    </tr>\n",
       "    <tr>\n",
       "      <td>4</td>\n",
       "      <td>uy</td>\n",
       "      <td>Americas</td>\n",
       "      <td>1231808</td>\n",
       "      <td>34145932</td>\n",
       "      <td>102300915</td>\n",
       "      <td>PedidosYa</td>\n",
       "      <td>{'id': 'PY_UY', 'display_name': 'PY - Uruguay'...</td>\n",
       "      <td>2019-06-14</td>\n",
       "      <td>2019-06-14 23:54:53.402779+00:00</td>\n",
       "      <td>2019-06-14 23:54:53.129000+00:00</td>\n",
       "      <td>...</td>\n",
       "      <td>[existing_address]</td>\n",
       "      <td>91000</td>\n",
       "      <td>44</td>\n",
       "      <td>None</td>\n",
       "      <td>{'location': 'POINT(-56.1528 -34.901)'}</td>\n",
       "      <td>{'id': 658, 'vendor_code': '88448', 'name': 'L...</td>\n",
       "      <td>[]</td>\n",
       "      <td>[{'id': 1279989, 'created_at': 2019-06-14 23:5...</td>\n",
       "      <td>{'source': 'dispatcher', 'performed_by': None,...</td>\n",
       "      <td>{'updated_prep_time': 600, 'hold_back_time': 1...</td>\n",
       "    </tr>\n",
       "  </tbody>\n",
       "</table>\n",
       "<p>5 rows × 40 columns</p>\n",
       "</div>"
      ],
      "text/plain": [
       "  country_code    region  order_id  platform_order_id platform_order_code  \\\n",
       "0           uy  Americas   1231758           34145238           102298690   \n",
       "1           uy  Americas   1231156           34137590           102277460   \n",
       "2           uy  Americas   1231342           34139778           102283249   \n",
       "3           uy  Americas   1231347           34139868           102283509   \n",
       "4           uy  Americas   1231808           34145932           102300915   \n",
       "\n",
       "    platform                                             entity created_date  \\\n",
       "0  PedidosYa  {'id': 'PY_UY', 'display_name': 'PY - Uruguay'...   2019-06-14   \n",
       "1  PedidosYa  {'id': 'PY_UY', 'display_name': 'PY - Uruguay'...   2019-06-14   \n",
       "2  PedidosYa  {'id': 'PY_UY', 'display_name': 'PY - Uruguay'...   2019-06-14   \n",
       "3  PedidosYa  {'id': 'PY_UY', 'display_name': 'PY - Uruguay'...   2019-06-14   \n",
       "4  PedidosYa  {'id': 'PY_UY', 'display_name': 'PY - Uruguay'...   2019-06-14   \n",
       "\n",
       "                        created_at                  order_placed_at  ...  \\\n",
       "0 2019-06-14 23:50:44.806628+00:00 2019-06-14 23:50:44.593000+00:00  ...   \n",
       "1 2019-06-14 23:02:54.229943+00:00 2019-06-14 23:02:53.943000+00:00  ...   \n",
       "2 2019-06-14 23:18:43.445022+00:00 2019-06-14 23:18:43.233000+00:00  ...   \n",
       "3 2019-06-14 23:19:28.782375+00:00 2019-06-14 23:19:28.485000+00:00  ...   \n",
       "4 2019-06-14 23:54:53.402779+00:00 2019-06-14 23:54:53.129000+00:00  ...   \n",
       "\n",
       "                 tags  order_value capacity  vendor_order_number  \\\n",
       "0          [preorder]       100000       50                 None   \n",
       "1  [existing_address]        69500       34                 None   \n",
       "2  [existing_address]        28500       14                 None   \n",
       "3  [existing_address]        91000       44                 None   \n",
       "4  [existing_address]        91000       44                 None   \n",
       "\n",
       "                                   customer  \\\n",
       "0  {'location': 'POINT(-56.1547 -34.9246)'}   \n",
       "1  {'location': 'POINT(-56.1472 -34.8849)'}   \n",
       "2  {'location': 'POINT(-56.0426 -34.8718)'}   \n",
       "3  {'location': 'POINT(-56.1498 -34.9117)'}   \n",
       "4   {'location': 'POINT(-56.1528 -34.901)'}   \n",
       "\n",
       "                                              vendor  porygon  \\\n",
       "0  {'id': 93, 'vendor_code': '49162', 'name': 'Ea...       []   \n",
       "1  {'id': 593, 'vendor_code': '66736', 'name': 'F...       []   \n",
       "2  {'id': 442, 'vendor_code': '63176', 'name': 'M...       []   \n",
       "3  {'id': 200, 'vendor_code': '53702', 'name': 'L...       []   \n",
       "4  {'id': 658, 'vendor_code': '88448', 'name': 'L...       []   \n",
       "\n",
       "                                          deliveries  \\\n",
       "0  [{'id': 1279934, 'created_at': 2019-06-14 23:5...   \n",
       "1  [{'id': 1279313, 'created_at': 2019-06-14 23:0...   \n",
       "2  [{'id': 1279501, 'created_at': 2019-06-14 23:1...   \n",
       "3  [{'id': 1279506, 'created_at': 2019-06-14 23:1...   \n",
       "4  [{'id': 1279989, 'created_at': 2019-06-14 23:5...   \n",
       "\n",
       "                                        cancellation  \\\n",
       "0  {'source': 'api', 'performed_by': None, 'reaso...   \n",
       "1  {'source': 'api', 'performed_by': None, 'reaso...   \n",
       "2  {'source': 'api', 'performed_by': None, 'reaso...   \n",
       "3  {'source': 'dispatcher', 'performed_by': None,...   \n",
       "4  {'source': 'dispatcher', 'performed_by': None,...   \n",
       "\n",
       "                                             timings  \n",
       "0  {'updated_prep_time': 0, 'hold_back_time': 0, ...  \n",
       "1  {'updated_prep_time': 2100, 'hold_back_time': ...  \n",
       "2  {'updated_prep_time': 1200, 'hold_back_time': ...  \n",
       "3  {'updated_prep_time': 1994, 'hold_back_time': ...  \n",
       "4  {'updated_prep_time': 600, 'hold_back_time': 1...  \n",
       "\n",
       "[5 rows x 40 columns]"
      ]
     },
     "execution_count": 4,
     "metadata": {},
     "output_type": "execute_result"
    }
   ],
   "source": [
    "# run the query and save the results as data frame named df\n",
    "df=gbq.read_gbq(query,project_id=\"fulfillment-dwh-production\")\n",
    "# get first 10 rows of datasets\n",
    "df.head()"
   ]
  },
  {
   "cell_type": "markdown",
   "metadata": {},
   "source": [
    "Then you can continue to manipulate and visualize data with pandas and other libraries"
   ]
  },
  {
   "cell_type": "markdown",
   "metadata": {},
   "source": [
    "## 2. Data collection with google-cloud-bigquery\n",
    "\n",
    "The following code shows how you import libraries, define a query, run it and get the data. More info about the library:\n",
    "Documentation: https://googleapis.dev/python/bigquery/latest/index.html\n",
    "Github: https://github.com/pydata/pandas-gbq/"
   ]
  },
  {
   "cell_type": "code",
   "execution_count": 5,
   "metadata": {},
   "outputs": [
    {
     "data": {
      "text/plain": [
       "'C:\\\\Users\\\\y.zhang\\\\Documents\\\\Projects\\\\bigquery'"
      ]
     },
     "execution_count": 5,
     "metadata": {},
     "output_type": "execute_result"
    }
   ],
   "source": [
    "# load packages\n",
    "import os\n",
    "import pandas as pd\n",
    "import numpy as np\n",
    "import matplotlib.pyplot as plt\n",
    "from google.cloud import bigquery\n",
    "from google.oauth2 import service_account\n",
    "cwd=os.getcwd() # get working directory\n",
    "cwd"
   ]
  },
  {
   "cell_type": "markdown",
   "metadata": {},
   "source": [
    "### There are two ways to for authentification\n",
    "* service account: https://cloud.google.com/docs/authentication/getting-started\n",
    "* end user credential (OAuth client ID - client json) https://cloud.google.com/bigquery/docs/authentication/end-user-installed\n",
    "\n",
    "However, currently we do not have permissions to create credentials. We are contacting Riccardo to get this solved. google-cloud-bigquery should give us results more quickly with more features etc.\n",
    "\n",
    "I will update the file after I got answer from Ricardo"
   ]
  },
  {
   "cell_type": "code",
   "execution_count": null,
   "metadata": {},
   "outputs": [],
   "source": []
  },
  {
   "cell_type": "code",
   "execution_count": null,
   "metadata": {},
   "outputs": [],
   "source": []
  }
 ],
 "metadata": {
  "kernelspec": {
   "display_name": "Python 3",
   "language": "python",
   "name": "python3"
  },
  "language_info": {
   "codemirror_mode": {
    "name": "ipython",
    "version": 3
   },
   "file_extension": ".py",
   "mimetype": "text/x-python",
   "name": "python",
   "nbconvert_exporter": "python",
   "pygments_lexer": "ipython3",
   "version": "3.7.4"
  }
 },
 "nbformat": 4,
 "nbformat_minor": 2
}
