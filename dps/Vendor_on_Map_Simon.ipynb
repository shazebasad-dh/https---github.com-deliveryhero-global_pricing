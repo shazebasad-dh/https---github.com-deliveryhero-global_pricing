{
  "nbformat": 4,
  "nbformat_minor": 0,
  "metadata": {
    "colab": {
      "name": "Vendor on Map.ipynb",
      "provenance": [],
      "collapsed_sections": []
    },
    "kernelspec": {
      "name": "python3",
      "display_name": "Python 3"
    }
  },
  "cells": [
    {
      "cell_type": "code",
      "metadata": {
        "id": "UT9KMYstRszp",
        "outputId": "486cf10d-fdf1-45ff-e096-d01f8d0197ab",
        "colab": {
          "base_uri": "https://localhost:8080/",
          "height": 462
        }
      },
      "source": [
        "pip install geopandas"
      ],
      "execution_count": null,
      "outputs": [
        {
          "output_type": "stream",
          "text": [
            "Collecting geopandas\n",
            "\u001b[?25l  Downloading https://files.pythonhosted.org/packages/f7/a4/e66aafbefcbb717813bf3a355c8c4fc3ed04ea1dd7feb2920f2f4f868921/geopandas-0.8.1-py2.py3-none-any.whl (962kB)\n",
            "\u001b[K     |████████████████████████████████| 972kB 2.4MB/s \n",
            "\u001b[?25hCollecting pyproj>=2.2.0\n",
            "\u001b[?25l  Downloading https://files.pythonhosted.org/packages/e5/c3/071e080230ac4b6c64f1a2e2f9161c9737a2bc7b683d2c90b024825000c0/pyproj-2.6.1.post1-cp36-cp36m-manylinux2010_x86_64.whl (10.9MB)\n",
            "\u001b[K     |████████████████████████████████| 10.9MB 13.5MB/s \n",
            "\u001b[?25hRequirement already satisfied: shapely in /usr/local/lib/python3.6/dist-packages (from geopandas) (1.7.1)\n",
            "Collecting fiona\n",
            "\u001b[?25l  Downloading https://files.pythonhosted.org/packages/36/8b/e8b2c11bed5373c8e98edb85ce891b09aa1f4210fd451d0fb3696b7695a2/Fiona-1.8.17-cp36-cp36m-manylinux1_x86_64.whl (14.8MB)\n",
            "\u001b[K     |████████████████████████████████| 14.8MB 328kB/s \n",
            "\u001b[?25hRequirement already satisfied: pandas>=0.23.0 in /usr/local/lib/python3.6/dist-packages (from geopandas) (1.1.2)\n",
            "Collecting munch\n",
            "  Downloading https://files.pythonhosted.org/packages/cc/ab/85d8da5c9a45e072301beb37ad7f833cd344e04c817d97e0cc75681d248f/munch-2.5.0-py2.py3-none-any.whl\n",
            "Requirement already satisfied: click<8,>=4.0 in /usr/local/lib/python3.6/dist-packages (from fiona->geopandas) (7.1.2)\n",
            "Requirement already satisfied: attrs>=17 in /usr/local/lib/python3.6/dist-packages (from fiona->geopandas) (20.2.0)\n",
            "Collecting cligj>=0.5\n",
            "  Downloading https://files.pythonhosted.org/packages/e4/be/30a58b4b0733850280d01f8bd132591b4668ed5c7046761098d665ac2174/cligj-0.5.0-py3-none-any.whl\n",
            "Collecting click-plugins>=1.0\n",
            "  Downloading https://files.pythonhosted.org/packages/e9/da/824b92d9942f4e472702488857914bdd50f73021efea15b4cad9aca8ecef/click_plugins-1.1.1-py2.py3-none-any.whl\n",
            "Requirement already satisfied: six>=1.7 in /usr/local/lib/python3.6/dist-packages (from fiona->geopandas) (1.15.0)\n",
            "Requirement already satisfied: numpy>=1.15.4 in /usr/local/lib/python3.6/dist-packages (from pandas>=0.23.0->geopandas) (1.18.5)\n",
            "Requirement already satisfied: pytz>=2017.2 in /usr/local/lib/python3.6/dist-packages (from pandas>=0.23.0->geopandas) (2018.9)\n",
            "Requirement already satisfied: python-dateutil>=2.7.3 in /usr/local/lib/python3.6/dist-packages (from pandas>=0.23.0->geopandas) (2.8.1)\n",
            "Installing collected packages: pyproj, munch, cligj, click-plugins, fiona, geopandas\n",
            "Successfully installed click-plugins-1.1.1 cligj-0.5.0 fiona-1.8.17 geopandas-0.8.1 munch-2.5.0 pyproj-2.6.1.post1\n"
          ],
          "name": "stdout"
        }
      ]
    },
    {
      "cell_type": "code",
      "metadata": {
        "id": "exhOFG2cMC-M",
        "outputId": "577fb291-fac7-4b05-8e51-f67300dbfc14",
        "colab": {
          "base_uri": "https://localhost:8080/",
          "height": 68
        }
      },
      "source": [
        "# load packages\n",
        "from math import sin, cos, sqrt, atan2, radians\n",
        "import folium\n",
        "from folium import FeatureGroup, LayerControl\n",
        "from folium.plugins import TimestampedGeoJson\n",
        "from folium import plugins\n",
        "import json\n",
        "import os\n",
        "import pandas as pd\n",
        "import numpy as np\n",
        "import seaborn as sns\n",
        "import matplotlib.pyplot as plt\n",
        "from pandas.io import gbq\n",
        "from google.cloud import bigquery\n",
        "import geopandas as gpd\n",
        "from shapely.geometry import Polygon\n",
        "from shapely import wkt\n",
        "import re\n",
        "import geopy.distance\n",
        "%matplotlib inline\n",
        "from google.colab import drive # to allow colab save file in my drive\n",
        "drive.mount('/content/drive')\n",
        "from google.colab import auth\n",
        "from google.colab import files\n",
        "auth.authenticate_user()\n",
        "print('Authenticated')\n",
        "cwd=os.getcwd()\n",
        "cwd\n",
        "%unload_ext google.colab.data_table"
      ],
      "execution_count": null,
      "outputs": [
        {
          "output_type": "stream",
          "text": [
            "Mounted at /content/drive\n",
            "Authenticated\n",
            "The google.colab.data_table extension is not loaded.\n"
          ],
          "name": "stdout"
        }
      ]
    },
    {
      "cell_type": "code",
      "metadata": {
        "id": "jF_G1yW1Mn2k"
      },
      "source": [
        "# define project id\n",
        "project_id = \"fulfillment-dwh-production\"\n",
        "client = bigquery.Client(project = project_id)"
      ],
      "execution_count": null,
      "outputs": []
    },
    {
      "cell_type": "markdown",
      "metadata": {
        "id": "bpKq0CLKYj6V"
      },
      "source": [
        "### Get Info for the Vendor\n",
        "##### Please update your desired entity ID and vendor code in the below code"
      ]
    },
    {
      "cell_type": "code",
      "metadata": {
        "id": "vfAIkoSfia1U",
        "outputId": "98e905b9-a31c-4786-ba84-76780a70d65b",
        "colab": {
          "base_uri": "https://localhost:8080/",
          "height": 266
        }
      },
      "source": [
        "query1 = \"\"\"\n",
        "\n",
        "select distinct vendor_code\n",
        ", v.name\n",
        ", h.settings.delivery_fee.amount DF\n",
        ", TO_JSON_STRING(v.location) as location\n",
        ", TO_JSON_STRING(h.shape) as shape\n",
        ", h.active_from\n",
        "from cl.vendors_v2 v\n",
        "left join unnest(delivery_areas) de\n",
        "left join unnest(history) h\n",
        "left join unnest(porygon) p\n",
        "where entity_id = \"TB_AE\" and h.active_to is Null and de.is_deleted = False \n",
        "and vendor_code = '603414'\n",
        "order by 3, 6 desc\n",
        "\n",
        "\"\"\"\n",
        "\n",
        "bigquery1 = client.query(query1).to_dataframe()\n",
        "bigquery1.head(50)"
      ],
      "execution_count": null,
      "outputs": [
        {
          "output_type": "execute_result",
          "data": {
            "text/html": [
              "<div>\n",
              "<style scoped>\n",
              "    .dataframe tbody tr th:only-of-type {\n",
              "        vertical-align: middle;\n",
              "    }\n",
              "\n",
              "    .dataframe tbody tr th {\n",
              "        vertical-align: top;\n",
              "    }\n",
              "\n",
              "    .dataframe thead th {\n",
              "        text-align: right;\n",
              "    }\n",
              "</style>\n",
              "<table border=\"1\" class=\"dataframe\">\n",
              "  <thead>\n",
              "    <tr style=\"text-align: right;\">\n",
              "      <th></th>\n",
              "      <th>vendor_code</th>\n",
              "      <th>name</th>\n",
              "      <th>DF</th>\n",
              "      <th>location</th>\n",
              "      <th>shape</th>\n",
              "      <th>active_from</th>\n",
              "    </tr>\n",
              "  </thead>\n",
              "  <tbody>\n",
              "    <tr>\n",
              "      <th>0</th>\n",
              "      <td>603414</td>\n",
              "      <td>WEST WING, Al Barsha 3</td>\n",
              "      <td>0.0</td>\n",
              "      <td>\"POINT(55.2075347 25.0803116)\"</td>\n",
              "      <td>\"POLYGON((55.2196884155273 25.1097720137809, 5...</td>\n",
              "      <td>2020-10-04 07:30:54.511780+00:00</td>\n",
              "    </tr>\n",
              "    <tr>\n",
              "      <th>1</th>\n",
              "      <td>603414</td>\n",
              "      <td>WEST WING, Al Barsha 3</td>\n",
              "      <td>0.0</td>\n",
              "      <td>\"POINT(55.2075347 25.0803116)\"</td>\n",
              "      <td>\"POLYGON((55.2196884155273 25.1097720137809, 5...</td>\n",
              "      <td>2020-08-26 19:38:08.993279+00:00</td>\n",
              "    </tr>\n",
              "    <tr>\n",
              "      <th>2</th>\n",
              "      <td>603414</td>\n",
              "      <td>WEST WING, Al Barsha 3</td>\n",
              "      <td>0.0</td>\n",
              "      <td>\"POINT(55.2075347 25.0803116)\"</td>\n",
              "      <td>\"POLYGON((55.2519607334398 25.0473784184849, 5...</td>\n",
              "      <td>2020-07-16 14:29:49.702558+00:00</td>\n",
              "    </tr>\n",
              "    <tr>\n",
              "      <th>3</th>\n",
              "      <td>603414</td>\n",
              "      <td>WEST WING, Al Barsha 3</td>\n",
              "      <td>3.0</td>\n",
              "      <td>\"POINT(55.2075347 25.0803116)\"</td>\n",
              "      <td>\"POLYGON((55.2270269393921 25.033116704347, 55...</td>\n",
              "      <td>2020-10-04 07:30:44.665441+00:00</td>\n",
              "    </tr>\n",
              "    <tr>\n",
              "      <th>4</th>\n",
              "      <td>603414</td>\n",
              "      <td>WEST WING, Al Barsha 3</td>\n",
              "      <td>3.0</td>\n",
              "      <td>\"POINT(55.2075347 25.0803116)\"</td>\n",
              "      <td>\"POLYGON((55.2340221405029 25.1024661735572, 5...</td>\n",
              "      <td>2020-10-04 07:30:23.154984+00:00</td>\n",
              "    </tr>\n",
              "    <tr>\n",
              "      <th>5</th>\n",
              "      <td>603414</td>\n",
              "      <td>WEST WING, Al Barsha 3</td>\n",
              "      <td>5.0</td>\n",
              "      <td>\"POINT(55.2075347 25.0803116)\"</td>\n",
              "      <td>\"POLYGON((55.2489394973964 25.0573256553693, 5...</td>\n",
              "      <td>2020-10-04 07:30:31.829529+00:00</td>\n",
              "    </tr>\n",
              "    <tr>\n",
              "      <th>6</th>\n",
              "      <td>603414</td>\n",
              "      <td>WEST WING, Al Barsha 3</td>\n",
              "      <td>5.0</td>\n",
              "      <td>\"POINT(55.2075347 25.0803116)\"</td>\n",
              "      <td>\"POLYGON((55.2340221405029 25.1024661735572, 5...</td>\n",
              "      <td>2020-08-26 19:40:23.953177+00:00</td>\n",
              "    </tr>\n",
              "  </tbody>\n",
              "</table>\n",
              "</div>"
            ],
            "text/plain": [
              "  vendor_code  ...                      active_from\n",
              "0      603414  ... 2020-10-04 07:30:54.511780+00:00\n",
              "1      603414  ... 2020-08-26 19:38:08.993279+00:00\n",
              "2      603414  ... 2020-07-16 14:29:49.702558+00:00\n",
              "3      603414  ... 2020-10-04 07:30:44.665441+00:00\n",
              "4      603414  ... 2020-10-04 07:30:23.154984+00:00\n",
              "5      603414  ... 2020-10-04 07:30:31.829529+00:00\n",
              "6      603414  ... 2020-08-26 19:40:23.953177+00:00\n",
              "\n",
              "[7 rows x 6 columns]"
            ]
          },
          "metadata": {
            "tags": []
          },
          "execution_count": 49
        }
      ]
    },
    {
      "cell_type": "code",
      "metadata": {
        "id": "YJGUxdyjrLeO",
        "outputId": "3997f0c8-1f1e-48ad-8673-41fd9dda0835",
        "colab": {
          "base_uri": "https://localhost:8080/",
          "height": 142
        }
      },
      "source": [
        "bigquery1=bigquery1.groupby('DF').first().reset_index()\n",
        "bigquery1"
      ],
      "execution_count": null,
      "outputs": [
        {
          "output_type": "execute_result",
          "data": {
            "text/html": [
              "<div>\n",
              "<style scoped>\n",
              "    .dataframe tbody tr th:only-of-type {\n",
              "        vertical-align: middle;\n",
              "    }\n",
              "\n",
              "    .dataframe tbody tr th {\n",
              "        vertical-align: top;\n",
              "    }\n",
              "\n",
              "    .dataframe thead th {\n",
              "        text-align: right;\n",
              "    }\n",
              "</style>\n",
              "<table border=\"1\" class=\"dataframe\">\n",
              "  <thead>\n",
              "    <tr style=\"text-align: right;\">\n",
              "      <th></th>\n",
              "      <th>DF</th>\n",
              "      <th>vendor_code</th>\n",
              "      <th>name</th>\n",
              "      <th>location</th>\n",
              "      <th>shape</th>\n",
              "      <th>active_from</th>\n",
              "    </tr>\n",
              "  </thead>\n",
              "  <tbody>\n",
              "    <tr>\n",
              "      <th>0</th>\n",
              "      <td>0.0</td>\n",
              "      <td>603414</td>\n",
              "      <td>WEST WING, Al Barsha 3</td>\n",
              "      <td>\"POINT(55.2075347 25.0803116)\"</td>\n",
              "      <td>\"POLYGON((55.2196884155273 25.1097720137809, 5...</td>\n",
              "      <td>2020-10-04 07:30:54.511780+00:00</td>\n",
              "    </tr>\n",
              "    <tr>\n",
              "      <th>1</th>\n",
              "      <td>3.0</td>\n",
              "      <td>603414</td>\n",
              "      <td>WEST WING, Al Barsha 3</td>\n",
              "      <td>\"POINT(55.2075347 25.0803116)\"</td>\n",
              "      <td>\"POLYGON((55.2270269393921 25.033116704347, 55...</td>\n",
              "      <td>2020-10-04 07:30:44.665441+00:00</td>\n",
              "    </tr>\n",
              "    <tr>\n",
              "      <th>2</th>\n",
              "      <td>5.0</td>\n",
              "      <td>603414</td>\n",
              "      <td>WEST WING, Al Barsha 3</td>\n",
              "      <td>\"POINT(55.2075347 25.0803116)\"</td>\n",
              "      <td>\"POLYGON((55.2489394973964 25.0573256553693, 5...</td>\n",
              "      <td>2020-10-04 07:30:31.829529+00:00</td>\n",
              "    </tr>\n",
              "  </tbody>\n",
              "</table>\n",
              "</div>"
            ],
            "text/plain": [
              "    DF  ...                      active_from\n",
              "0  0.0  ... 2020-10-04 07:30:54.511780+00:00\n",
              "1  3.0  ... 2020-10-04 07:30:44.665441+00:00\n",
              "2  5.0  ... 2020-10-04 07:30:31.829529+00:00\n",
              "\n",
              "[3 rows x 6 columns]"
            ]
          },
          "metadata": {
            "tags": []
          },
          "execution_count": 50
        }
      ]
    },
    {
      "cell_type": "code",
      "metadata": {
        "id": "bbd1Y9Nny9Ub",
        "outputId": "d3164e36-4cc4-447c-fd74-7fd88e7b8a1d",
        "colab": {
          "base_uri": "https://localhost:8080/",
          "height": 142
        }
      },
      "source": [
        "query2 = \"\"\"\n",
        "\n",
        "select distinct dpc.vendor_code\n",
        ", dpc.scheme_id\n",
        ", dpc.travel_time_fee_config.travel_time_threshold\n",
        ", dpc.travel_time_fee_config.fee\n",
        "from cl.dynamic_pricing_config dpc \n",
        "where dpc.entity_id = \"TB_AE\" \n",
        "and dpc.vendor_code = '603414'\n",
        "order by 4\n",
        "\n",
        "\"\"\"\n",
        "\n",
        "bigquery2 = client.query(query2).to_dataframe()\n",
        "bigquery2.head(50)"
      ],
      "execution_count": null,
      "outputs": [
        {
          "output_type": "execute_result",
          "data": {
            "text/html": [
              "<div>\n",
              "<style scoped>\n",
              "    .dataframe tbody tr th:only-of-type {\n",
              "        vertical-align: middle;\n",
              "    }\n",
              "\n",
              "    .dataframe tbody tr th {\n",
              "        vertical-align: top;\n",
              "    }\n",
              "\n",
              "    .dataframe thead th {\n",
              "        text-align: right;\n",
              "    }\n",
              "</style>\n",
              "<table border=\"1\" class=\"dataframe\">\n",
              "  <thead>\n",
              "    <tr style=\"text-align: right;\">\n",
              "      <th></th>\n",
              "      <th>vendor_code</th>\n",
              "      <th>scheme_id</th>\n",
              "      <th>travel_time_threshold</th>\n",
              "      <th>fee</th>\n",
              "    </tr>\n",
              "  </thead>\n",
              "  <tbody>\n",
              "    <tr>\n",
              "      <th>0</th>\n",
              "      <td>603414</td>\n",
              "      <td>637</td>\n",
              "      <td>10.433333</td>\n",
              "      <td>0</td>\n",
              "    </tr>\n",
              "    <tr>\n",
              "      <th>1</th>\n",
              "      <td>603414</td>\n",
              "      <td>637</td>\n",
              "      <td>15.75</td>\n",
              "      <td>3</td>\n",
              "    </tr>\n",
              "    <tr>\n",
              "      <th>2</th>\n",
              "      <td>603414</td>\n",
              "      <td>637</td>\n",
              "      <td>None</td>\n",
              "      <td>5</td>\n",
              "    </tr>\n",
              "  </tbody>\n",
              "</table>\n",
              "</div>"
            ],
            "text/plain": [
              "  vendor_code  scheme_id travel_time_threshold fee\n",
              "0      603414        637             10.433333   0\n",
              "1      603414        637                 15.75   3\n",
              "2      603414        637                  None   5"
            ]
          },
          "metadata": {
            "tags": []
          },
          "execution_count": 60
        }
      ]
    },
    {
      "cell_type": "code",
      "metadata": {
        "id": "ex2eq2IOzDJ5",
        "outputId": "012f89b2-bce1-41a1-cff5-43d6f9d3fdc8",
        "colab": {
          "base_uri": "https://localhost:8080/",
          "height": 151
        }
      },
      "source": [
        "query3 = \"\"\"\n",
        "\n",
        "SELECT * FROM `fulfillment-dwh-production.dl.tes_driving_time_formula`\n",
        "where country_code = 'ae' and created_date >= '2020-10-02' and city_id is null\n",
        "order by created_date desc limit 1\n",
        "\"\"\"\n",
        "\n",
        "bigquery3 = client.query(query3).to_dataframe()\n",
        "bigquery3.head(50)"
      ],
      "execution_count": null,
      "outputs": [
        {
          "output_type": "execute_result",
          "data": {
            "text/html": [
              "<div>\n",
              "<style scoped>\n",
              "    .dataframe tbody tr th:only-of-type {\n",
              "        vertical-align: middle;\n",
              "    }\n",
              "\n",
              "    .dataframe tbody tr th {\n",
              "        vertical-align: top;\n",
              "    }\n",
              "\n",
              "    .dataframe thead th {\n",
              "        text-align: right;\n",
              "    }\n",
              "</style>\n",
              "<table border=\"1\" class=\"dataframe\">\n",
              "  <thead>\n",
              "    <tr style=\"text-align: right;\">\n",
              "      <th></th>\n",
              "      <th>id</th>\n",
              "      <th>country_code</th>\n",
              "      <th>city_id</th>\n",
              "      <th>formula</th>\n",
              "      <th>created</th>\n",
              "      <th>creator_id</th>\n",
              "      <th>created_at</th>\n",
              "      <th>created_by</th>\n",
              "      <th>updated_at</th>\n",
              "      <th>updated_by</th>\n",
              "      <th>region</th>\n",
              "      <th>merge_layer_run_from</th>\n",
              "      <th>created_date</th>\n",
              "      <th>merge_layer_created_at</th>\n",
              "      <th>merge_layer_updated_at</th>\n",
              "    </tr>\n",
              "  </thead>\n",
              "  <tbody>\n",
              "    <tr>\n",
              "      <th>0</th>\n",
              "      <td>3f5b0f01-0a43-4c95-94c2-f6b085febfe3</td>\n",
              "      <td>ae</td>\n",
              "      <td>None</td>\n",
              "      <td>0.138x</td>\n",
              "      <td>2020-10-07 03:36:45.875811+00:00</td>\n",
              "      <td>system</td>\n",
              "      <td>2020-10-07 03:36:45.908424+00:00</td>\n",
              "      <td>system</td>\n",
              "      <td>2020-10-07 03:36:45.908424+00:00</td>\n",
              "      <td>system</td>\n",
              "      <td>eu</td>\n",
              "      <td>2020-10-07 03:00:00+00:00</td>\n",
              "      <td>2020-10-07</td>\n",
              "      <td>2020-10-07 07:18:18.976000+00:00</td>\n",
              "      <td>2020-10-07 07:18:18.976000+00:00</td>\n",
              "    </tr>\n",
              "  </tbody>\n",
              "</table>\n",
              "</div>"
            ],
            "text/plain": [
              "                                     id  ...           merge_layer_updated_at\n",
              "0  3f5b0f01-0a43-4c95-94c2-f6b085febfe3  ... 2020-10-07 07:18:18.976000+00:00\n",
              "\n",
              "[1 rows x 15 columns]"
            ]
          },
          "metadata": {
            "tags": []
          },
          "execution_count": 61
        }
      ]
    },
    {
      "cell_type": "code",
      "metadata": {
        "id": "jhLv-zrGzktf",
        "outputId": "195400bd-6a8d-45e5-c04d-45c175a4759f",
        "colab": {
          "base_uri": "https://localhost:8080/",
          "height": 111
        }
      },
      "source": [
        "bigquery2['coef'] = bigquery3['formula'].str[0:4].astype('float')\n",
        "form = bigquery2.fillna(method='ffill').head(2)\n",
        "form[\"distance\"] = form[\"travel_time_threshold\"].astype('float')/form[\"coef\"] *60\n",
        "form"
      ],
      "execution_count": null,
      "outputs": [
        {
          "output_type": "execute_result",
          "data": {
            "text/html": [
              "<div>\n",
              "<style scoped>\n",
              "    .dataframe tbody tr th:only-of-type {\n",
              "        vertical-align: middle;\n",
              "    }\n",
              "\n",
              "    .dataframe tbody tr th {\n",
              "        vertical-align: top;\n",
              "    }\n",
              "\n",
              "    .dataframe thead th {\n",
              "        text-align: right;\n",
              "    }\n",
              "</style>\n",
              "<table border=\"1\" class=\"dataframe\">\n",
              "  <thead>\n",
              "    <tr style=\"text-align: right;\">\n",
              "      <th></th>\n",
              "      <th>vendor_code</th>\n",
              "      <th>scheme_id</th>\n",
              "      <th>travel_time_threshold</th>\n",
              "      <th>fee</th>\n",
              "      <th>coef</th>\n",
              "      <th>distance</th>\n",
              "    </tr>\n",
              "  </thead>\n",
              "  <tbody>\n",
              "    <tr>\n",
              "      <th>0</th>\n",
              "      <td>603414</td>\n",
              "      <td>637</td>\n",
              "      <td>10.433333</td>\n",
              "      <td>0</td>\n",
              "      <td>0.13</td>\n",
              "      <td>4815.384462</td>\n",
              "    </tr>\n",
              "    <tr>\n",
              "      <th>1</th>\n",
              "      <td>603414</td>\n",
              "      <td>637</td>\n",
              "      <td>15.75</td>\n",
              "      <td>3</td>\n",
              "      <td>0.13</td>\n",
              "      <td>7269.230769</td>\n",
              "    </tr>\n",
              "  </tbody>\n",
              "</table>\n",
              "</div>"
            ],
            "text/plain": [
              "  vendor_code  scheme_id travel_time_threshold fee  coef     distance\n",
              "0      603414        637             10.433333   0  0.13  4815.384462\n",
              "1      603414        637                 15.75   3  0.13  7269.230769"
            ]
          },
          "metadata": {
            "tags": []
          },
          "execution_count": 109
        }
      ]
    },
    {
      "cell_type": "markdown",
      "metadata": {
        "id": "PHmqIqXQVBCy"
      },
      "source": [
        "### Extract vendor location and put it on the map"
      ]
    },
    {
      "cell_type": "code",
      "metadata": {
        "id": "_arNG6poVAY5"
      },
      "source": [
        "loc1=bigquery1.iloc[0][\"location\"]\n",
        "loc2=re.split(r'[,\\s]', loc1) \n",
        "vend_y=float(loc2[0][7:])\n",
        "vend_x=float(loc2[-1][:-3])"
      ],
      "execution_count": null,
      "outputs": []
    },
    {
      "cell_type": "code",
      "metadata": {
        "id": "E4FBQOndFwEp",
        "outputId": "a9011347-80b9-4b79-9f2d-c4f085e1aaef",
        "colab": {
          "base_uri": "https://localhost:8080/",
          "height": 808
        }
      },
      "source": [
        "m = folium.Map(location=[vend_x,vend_y],zoom_start=13)\n",
        "tooltip = bigquery1.iloc[0][\"name\"]\n",
        "folium.Marker([vend_x,vend_y], popup='<i>Mt. Hood Meadows</i>', tooltip=tooltip).add_to(m)\n",
        "m"
      ],
      "execution_count": null,
      "outputs": [
        {
          "output_type": "execute_result",
          "data": {
            "text/html": [
              "<div style=\"width:100%;\"><div style=\"position:relative;width:100%;height:0;padding-bottom:60%;\"><span style=\"color:#565656\">Make this Notebook Trusted to load map: File -> Trust Notebook</span><iframe src=\"about:blank\" style=\"position:absolute;width:100%;height:100%;left:0;top:0;border:none !important;\" data-html=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 onload=\"this.contentDocument.open();this.contentDocument.write(atob(this.getAttribute('data-html')));this.contentDocument.close();\" allowfullscreen webkitallowfullscreen mozallowfullscreen></iframe></div></div>"
            ],
            "text/plain": [
              "<folium.folium.Map at 0x7f2bf1067780>"
            ]
          },
          "metadata": {
            "tags": []
          },
          "execution_count": 111
        }
      ]
    },
    {
      "cell_type": "markdown",
      "metadata": {
        "id": "srRBwGd9WAIJ"
      },
      "source": [
        "### Extract vendor delivery areas and plot them on the map"
      ]
    },
    {
      "cell_type": "code",
      "metadata": {
        "id": "4J6rT8gTWDJk"
      },
      "source": [
        "da11=bigquery1.iloc[0][\"shape\"]\n",
        "da12=re.split(r'[,\\s]', da11)\n",
        "da12[0]=da12[0][10:]\n",
        "da12[-1]=da12[-1][:-3]\n",
        "da_1_x = []\n",
        "da_1_y = []\n",
        "for i in range(0,len(da12),3):\n",
        "  da_1_x.append(float(da12[i+1]))\n",
        "  da_1_y.append(float(da12[i]))\n",
        "\n",
        "da21=bigquery1.iloc[1][\"shape\"]\n",
        "da22=re.split(r'[,\\s]', da21)\n",
        "da22[0]=da22[0][10:]\n",
        "da22[-1]=da22[-1][:-3]\n",
        "da_2_x = []\n",
        "da_2_y = []\n",
        "for i in range(0,len(da22),3):\n",
        "  da_2_x.append(float(da22[i+1]))\n",
        "  da_2_y.append(float(da22[i]))\n",
        "\n",
        "da31=bigquery1.iloc[2][\"shape\"]\n",
        "da32=re.split(r'[,\\s]', da31)\n",
        "da32[0]=da32[0][10:]\n",
        "da32[-1]=da32[-1][:-3]\n",
        "da_3_x = []\n",
        "da_3_y = []\n",
        "for i in range(0,len(da32),3):\n",
        "  da_3_x.append(float(da32[i+1]))\n",
        "  da_3_y.append(float(da32[i]))"
      ],
      "execution_count": null,
      "outputs": []
    },
    {
      "cell_type": "code",
      "metadata": {
        "id": "RofsvBu6wXd_",
        "outputId": "c136488a-422c-4fb0-f40d-76cfc53cd419",
        "colab": {
          "base_uri": "https://localhost:8080/",
          "height": 71
        }
      },
      "source": [
        "polygon_geom_7 = Polygon(zip(da_3_y, da_3_x))\n",
        "polygon_geom_5 = Polygon(zip(da_2_y, da_2_x))\n",
        "polygon_geom_0 = Polygon(zip(da_1_y, da_1_x))\n",
        "crs = {'init': 'epsg:4326'}\n",
        " \n",
        "polygon_7 = gpd.GeoDataFrame(index=[0], crs=crs, geometry=[polygon_geom_7]) \n",
        "polygon_5 = gpd.GeoDataFrame(index=[0], crs=crs, geometry=[polygon_geom_5])  \n",
        "polygon_0 = gpd.GeoDataFrame(index=[0], crs=crs, geometry=[polygon_geom_0])      "
      ],
      "execution_count": null,
      "outputs": [
        {
          "output_type": "stream",
          "text": [
            "/usr/local/lib/python3.6/dist-packages/pyproj/crs/crs.py:53: FutureWarning: '+init=<authority>:<code>' syntax is deprecated. '<authority>:<code>' is the preferred initialization method. When making the change, be mindful of axis order changes: https://pyproj4.github.io/pyproj/stable/gotchas.html#axis-order-changes-in-proj-6\n",
            "  return _prepare_from_string(\" \".join(pjargs))\n"
          ],
          "name": "stderr"
        }
      ]
    },
    {
      "cell_type": "code",
      "metadata": {
        "id": "eF5iBcwTwoR0",
        "outputId": "06cff224-2c78-464f-afab-570453e645dd",
        "colab": {
          "base_uri": "https://localhost:8080/",
          "height": 34
        }
      },
      "source": [
        "style2 = {'fillColor': '#00FFFFFF', 'lineColor': '#00FFFFFF'}\n",
        "style3 = {'fillColor': '#178', 'lineColor': '#178'}\n",
        "style4 = {'fillColor': '#1', 'lineColor': '#1'}\n",
        "\n",
        "folium.GeoJson(polygon_7,style_function=lambda x:style2).add_to(m)\n",
        "folium.GeoJson(polygon_5,style_function=lambda x:style3).add_to(m)\n",
        "folium.GeoJson(polygon_0,style_function=lambda x:style4).add_to(m)"
      ],
      "execution_count": null,
      "outputs": [
        {
          "output_type": "execute_result",
          "data": {
            "text/plain": [
              "<folium.features.GeoJson at 0x7f2bf117c748>"
            ]
          },
          "metadata": {
            "tags": []
          },
          "execution_count": 114
        }
      ]
    },
    {
      "cell_type": "code",
      "metadata": {
        "id": "Pue9XwAgKXQb",
        "outputId": "f2cee9b1-eec3-4d13-e5ea-834063d9d9c4",
        "colab": {
          "base_uri": "https://localhost:8080/",
          "height": 808
        }
      },
      "source": [
        "m"
      ],
      "execution_count": null,
      "outputs": [
        {
          "output_type": "execute_result",
          "data": {
            "text/html": [
              "<div style=\"width:100%;\"><div style=\"position:relative;width:100%;height:0;padding-bottom:60%;\"><span style=\"color:#565656\">Make this Notebook Trusted to load map: File -> Trust Notebook</span><iframe src=\"about:blank\" style=\"position:absolute;width:100%;height:100%;left:0;top:0;border:none !important;\" data-html=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 onload=\"this.contentDocument.open();this.contentDocument.write(atob(this.getAttribute('data-html')));this.contentDocument.close();\" allowfullscreen webkitallowfullscreen mozallowfullscreen></iframe></div></div>"
            ],
            "text/plain": [
              "<folium.folium.Map at 0x7f2bf1067780>"
            ]
          },
          "metadata": {
            "tags": []
          },
          "execution_count": 115
        }
      ]
    },
    {
      "cell_type": "markdown",
      "metadata": {
        "id": "3CZH0cLDM4sB"
      },
      "source": [
        "### Calculate radius for each tier and draw the DPS circles\n",
        "##### Please decide which option do you go for and only run the code in that part\n",
        "##### Option A: Radius of each tier equals to the max distance between vendor and the border of each tier delivery area\n",
        "##### Option B: Radius of each tier equals to the threshold of the travel time in its zone\n",
        "##### Option C: Input radius according to your business knowlegde"
      ]
    },
    {
      "cell_type": "markdown",
      "metadata": {
        "id": "9P0VzaGS3f3R"
      },
      "source": [
        "##### Option A: Radius of each tier equals to the max distance between vendor and the border of each tier delivery area"
      ]
    },
    {
      "cell_type": "code",
      "metadata": {
        "id": "oQKZ-uK1GAx7"
      },
      "source": [
        "coords_1=(vend_x,vend_y)\n",
        "\n",
        "pairs1 = zip(da_1_x, da_1_y)\n",
        "distance1 = []\n",
        "for point in pairs1:\n",
        "  coords_2=(point[0],point[1])\n",
        "  distance1.append(geopy.distance.vincenty(coords_1, coords_2).m)\n",
        "radius1 = max(distance1)\n",
        "\n",
        "pairs2 = zip(da_2_x, da_2_y)\n",
        "distance2 = []\n",
        "for point in pairs2:\n",
        "  coords_2=(point[0],point[1])\n",
        "  distance2.append(geopy.distance.vincenty(coords_1, coords_2).m)\n",
        "radius2 = max(distance2)\n",
        "\n",
        "pairs3 = zip(da_3_x, da_3_y)\n",
        "distance3 = []\n",
        "for point in pairs3:\n",
        "  coords_2=(point[0],point[1])\n",
        "  distance3.append(geopy.distance.vincenty(coords_1, coords_2).m)\n",
        "radius3 = max(distance3)"
      ],
      "execution_count": null,
      "outputs": []
    },
    {
      "cell_type": "markdown",
      "metadata": {
        "id": "OE7BYCLO3q_B"
      },
      "source": [
        "##### Option B: Radius of each tier equals to the threshold of the travel time in its zone"
      ]
    },
    {
      "cell_type": "code",
      "metadata": {
        "id": "PYMcp21Rh9c5"
      },
      "source": [
        "coords_1=(vend_x,vend_y)\n",
        "radius1 = form.iloc[0][\"distance\"]\n",
        "radius2 = form.iloc[0][\"distance\"]\n",
        "pairs3 = zip(da_3_x, da_3_y)\n",
        "distance3 = []\n",
        "for point in pairs3:\n",
        "  coords_2=(point[0],point[1])\n",
        "  distance3.append(geopy.distance.vincenty(coords_1, coords_2).m)\n",
        "radius3 = max(distance3)"
      ],
      "execution_count": null,
      "outputs": []
    },
    {
      "cell_type": "markdown",
      "metadata": {
        "id": "x5yf0rt44Gcp"
      },
      "source": [
        "##### Option C: Input radius according to your business knowlegde"
      ]
    },
    {
      "cell_type": "code",
      "metadata": {
        "id": "vzPtGrgr4MbP",
        "outputId": "336ed89d-aed4-40e7-df61-45b47dd1ce57",
        "colab": {
          "base_uri": "https://localhost:8080/",
          "height": 68
        }
      },
      "source": [
        "radius1 = input(\"Input radius1 in meter: \")\n",
        "radius2 = input(\"Input radius2 in meter: \")\n",
        "radius3 = input(\"Input radius3 in meter: \")"
      ],
      "execution_count": null,
      "outputs": [
        {
          "output_type": "stream",
          "text": [
            "Input radius1 in meter: 3500\n",
            "Input radius2 in meter: 5500\n",
            "Input radius3 in meter: 8000\n"
          ],
          "name": "stdout"
        }
      ]
    },
    {
      "cell_type": "markdown",
      "metadata": {
        "id": "TDryC3R45b6t"
      },
      "source": [
        "# ----------------------------------------------------------------------------\n",
        "##### Selection stage ends here and run the following codes"
      ]
    },
    {
      "cell_type": "code",
      "metadata": {
        "id": "fvdHBUDjNBrw",
        "outputId": "e3edb47e-7e28-4603-bb34-6be097976d98",
        "colab": {
          "base_uri": "https://localhost:8080/",
          "height": 34
        }
      },
      "source": [
        "# Please update DPS distance thresholds here\n",
        "folium.Circle(location=[vend_x,vend_y], popup='tier 1', radius=radius1, weight=1, color=\"red\", fill=False).add_to(m)\n",
        "folium.Circle(location=[vend_x,vend_y], popup='tier 2', radius=radius2, weight=1, color=\"red\", fill=False).add_to(m)\n",
        "folium.Circle(location=[vend_x,vend_y], popup='tier 3', radius=radius3, weight=1, color=\"red\", fill=False).add_to(m)"
      ],
      "execution_count": null,
      "outputs": [
        {
          "output_type": "execute_result",
          "data": {
            "text/plain": [
              "<folium.vector_layers.Circle at 0x7f2bf26d1048>"
            ]
          },
          "metadata": {
            "tags": []
          },
          "execution_count": 117
        }
      ]
    },
    {
      "cell_type": "code",
      "metadata": {
        "id": "YQtKMLNdNuGM",
        "outputId": "039e2da9-e681-48ad-9444-9523cd2a873c",
        "colab": {
          "base_uri": "https://localhost:8080/",
          "height": 808
        }
      },
      "source": [
        "m"
      ],
      "execution_count": null,
      "outputs": [
        {
          "output_type": "execute_result",
          "data": {
            "text/html": [
              "<div style=\"width:100%;\"><div style=\"position:relative;width:100%;height:0;padding-bottom:60%;\"><span style=\"color:#565656\">Make this Notebook Trusted to load map: File -> Trust Notebook</span><iframe src=\"about:blank\" style=\"position:absolute;width:100%;height:100%;left:0;top:0;border:none !important;\" data-html=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 onload=\"this.contentDocument.open();this.contentDocument.write(atob(this.getAttribute('data-html')));this.contentDocument.close();\" allowfullscreen webkitallowfullscreen mozallowfullscreen></iframe></div></div>"
            ],
            "text/plain": [
              "<folium.folium.Map at 0x7f2bf1067780>"
            ]
          },
          "metadata": {
            "tags": []
          },
          "execution_count": 118
        }
      ]
    }
  ]
}
