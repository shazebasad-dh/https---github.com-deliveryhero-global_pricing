{
  "nbformat": 4,
  "nbformat_minor": 0,
  "metadata": {
    "colab": {
      "name": "Commission_check.ipynb",
      "provenance": [],
      "collapsed_sections": [],
      "toc_visible": true
    },
    "kernelspec": {
      "name": "python3",
      "display_name": "Python 3"
    }
  },
  "cells": [
    {
      "cell_type": "code",
      "metadata": {
        "colab": {
          "base_uri": "https://localhost:8080/"
        },
        "id": "JKnPLNyFo6wg",
        "outputId": "bad22358-c3dc-4efe-fa08-7a006d97e6c4"
      },
      "source": [
        "#load packages\n",
        "import pymc3 as pm\n",
        "from datetime import datetime, timedelta, time, date\n",
        "from scipy import stats\n",
        "import json\n",
        "import os\n",
        "import pandas as pd\n",
        "import numpy as np\n",
        "import seaborn as sns\n",
        "import matplotlib.pyplot as plt\n",
        "from pandas.io import gbq\n",
        "from google.cloud import bigquery\n",
        "import plotly.offline as pyo\n",
        "import plotly.graph_objs as go\n",
        "import plotly.express as px\n",
        "from plotly.subplots import make_subplots\n",
        "import plotly.graph_objects as go\n",
        "import scipy.stats as stats\n",
        "#import geopandas\n",
        "from shapely import wkt\n",
        "import scipy\n",
        "from scipy import signal\n",
        "%matplotlib inline\n",
        "from IPython.core.pylabtools import figsize\n",
        "from google.colab import drive # to allow colab save file in my drive\n",
        "drive.mount('/content/drive')\n",
        "from google.colab import auth\n",
        "auth.authenticate_user()\n",
        "print('Authenticated')\n",
        "cwd=os.getcwd()\n",
        "cwd\n",
        "%unload_ext google.colab.data_table\n",
        "print(f\"Running on PyMC3 v{pm.__version__}\")"
      ],
      "execution_count": null,
      "outputs": [
        {
          "output_type": "stream",
          "text": [
            "Drive already mounted at /content/drive; to attempt to forcibly remount, call drive.mount(\"/content/drive\", force_remount=True).\n",
            "Authenticated\n",
            "The google.colab.data_table extension is not loaded.\n",
            "Running on PyMC3 v3.7\n"
          ],
          "name": "stdout"
        }
      ]
    },
    {
      "cell_type": "markdown",
      "metadata": {
        "id": "f6R3qVzAifCW"
      },
      "source": [
        "# load data"
      ]
    },
    {
      "cell_type": "code",
      "metadata": {
        "id": "qrNHah5tvqZB"
      },
      "source": [
        "project_id = \"logistics-data-staging-flat\"\n",
        "client = bigquery.Client(project = project_id)\n",
        "\n",
        "query = \"\"\"\n",
        "with countries as (\n",
        "select rdbms_id, entity_id,country_iso \n",
        "from `dhh---analytics-apac.pandata.dim_countries`\n",
        "group by 1,2,3\n",
        "order by 3\n",
        ")\n",
        "\n",
        "select\n",
        "  entity_id\n",
        "  , order_code_google\n",
        "  , cen_order.value.commission_local as central_commission\n",
        "  , IFNULL(order_commissions.commission_local,\n",
        "    CASE WHEN fct_orders.country_name in ('Thailand', 'Philippines', 'Hong Kong')\n",
        "    THEN commission_base_local * commission_percentage_combined\n",
        "    ELSE fct_orders.commission_local END) as reg_commission,\n",
        "from `dhh---analytics-apac.pandata.fct_orders` as fct_orders\n",
        "left join countries co on fct_orders.rdbms_id = co.rdbms_id\n",
        "left join `dhh---analytics-apac.pandata_report.order_commissions` as order_commissions\n",
        "         on order_commissions.rdbms_id = fct_orders.rdbms_id\n",
        "        and order_commissions.order_code = fct_orders.code\n",
        "        and order_commissions.billing_tool != 'backend'\n",
        "left join `fulfillment-dwh-production.cl_central_dwh.orders` cen_order on co.entity_id = cen_order.global_entity_id and cen_order.order_id = fct_orders.order_code_google\n",
        "where is_billable\n",
        "      AND fct_orders.date_utc between \"2021-01-01\" and \"2021-01-07\"\n",
        "      AND fct_orders.created_date_local < current_date()\n",
        "group by 1,2,3,4\n",
        "    \"\"\"\n",
        "\n",
        "df = client.query(query).to_dataframe()"
      ],
      "execution_count": null,
      "outputs": []
    },
    {
      "cell_type": "code",
      "metadata": {
        "colab": {
          "base_uri": "https://localhost:8080/",
          "height": 197
        },
        "id": "m1Hq6cs9jVZf",
        "outputId": "290a9d82-4459-4a94-f19d-46a3bb0c4bd9"
      },
      "source": [
        "df.head()"
      ],
      "execution_count": null,
      "outputs": [
        {
          "output_type": "execute_result",
          "data": {
            "text/html": [
              "<div>\n",
              "<style scoped>\n",
              "    .dataframe tbody tr th:only-of-type {\n",
              "        vertical-align: middle;\n",
              "    }\n",
              "\n",
              "    .dataframe tbody tr th {\n",
              "        vertical-align: top;\n",
              "    }\n",
              "\n",
              "    .dataframe thead th {\n",
              "        text-align: right;\n",
              "    }\n",
              "</style>\n",
              "<table border=\"1\" class=\"dataframe\">\n",
              "  <thead>\n",
              "    <tr style=\"text-align: right;\">\n",
              "      <th></th>\n",
              "      <th>entity_id</th>\n",
              "      <th>order_code_google</th>\n",
              "      <th>central_commission</th>\n",
              "      <th>reg_commission</th>\n",
              "    </tr>\n",
              "  </thead>\n",
              "  <tbody>\n",
              "    <tr>\n",
              "      <th>0</th>\n",
              "      <td>FP_JP</td>\n",
              "      <td>l8jr-ao7i</td>\n",
              "      <td>412</td>\n",
              "      <td>412.0</td>\n",
              "    </tr>\n",
              "    <tr>\n",
              "      <th>1</th>\n",
              "      <td>FP_JP</td>\n",
              "      <td>a9qz-85uv</td>\n",
              "      <td>660</td>\n",
              "      <td>660.0</td>\n",
              "    </tr>\n",
              "    <tr>\n",
              "      <th>2</th>\n",
              "      <td>FP_JP</td>\n",
              "      <td>g8fl-flqj</td>\n",
              "      <td>2188</td>\n",
              "      <td>2188.0</td>\n",
              "    </tr>\n",
              "    <tr>\n",
              "      <th>3</th>\n",
              "      <td>FP_JP</td>\n",
              "      <td>a5vd-z32v</td>\n",
              "      <td>695</td>\n",
              "      <td>695.0</td>\n",
              "    </tr>\n",
              "    <tr>\n",
              "      <th>4</th>\n",
              "      <td>FP_JP</td>\n",
              "      <td>b3gk-br9a</td>\n",
              "      <td>234</td>\n",
              "      <td>234.0</td>\n",
              "    </tr>\n",
              "  </tbody>\n",
              "</table>\n",
              "</div>"
            ],
            "text/plain": [
              "  entity_id order_code_google central_commission  reg_commission\n",
              "0     FP_JP         l8jr-ao7i                412           412.0\n",
              "1     FP_JP         a9qz-85uv                660           660.0\n",
              "2     FP_JP         g8fl-flqj               2188          2188.0\n",
              "3     FP_JP         a5vd-z32v                695           695.0\n",
              "4     FP_JP         b3gk-br9a                234           234.0"
            ]
          },
          "metadata": {
            "tags": []
          },
          "execution_count": 15
        }
      ]
    },
    {
      "cell_type": "markdown",
      "metadata": {
        "id": "JrIbIxo41LND"
      },
      "source": [
        "## check missing value"
      ]
    },
    {
      "cell_type": "code",
      "metadata": {
        "colab": {
          "base_uri": "https://localhost:8080/"
        },
        "id": "vhECFVKzywnw",
        "outputId": "4c77453b-9b37-4d11-f552-4671f8a3c3d2"
      },
      "source": [
        "# find out how many orders are without commission \n",
        "print(\"central data\", df['central_commission'].isna().sum())\n",
        "print(\"regional data\", df['reg_commission'].isna().sum())"
      ],
      "execution_count": null,
      "outputs": [
        {
          "output_type": "stream",
          "text": [
            "central data 220\n",
            "regional data 0\n"
          ],
          "name": "stdout"
        }
      ]
    },
    {
      "cell_type": "code",
      "metadata": {
        "id": "ISoRQqjuzkRG"
      },
      "source": [
        "df = df.dropna()\n",
        "df['central_commission'] = df['central_commission'].astype(float)"
      ],
      "execution_count": null,
      "outputs": []
    },
    {
      "cell_type": "code",
      "metadata": {
        "colab": {
          "base_uri": "https://localhost:8080/",
          "height": 287
        },
        "id": "BJZyHVAbrYE5",
        "outputId": "91dbdf4d-34dc-4d6c-8a90-175ea63c9277"
      },
      "source": [
        "df.describe()"
      ],
      "execution_count": null,
      "outputs": [
        {
          "output_type": "execute_result",
          "data": {
            "text/html": [
              "<div>\n",
              "<style scoped>\n",
              "    .dataframe tbody tr th:only-of-type {\n",
              "        vertical-align: middle;\n",
              "    }\n",
              "\n",
              "    .dataframe tbody tr th {\n",
              "        vertical-align: top;\n",
              "    }\n",
              "\n",
              "    .dataframe thead th {\n",
              "        text-align: right;\n",
              "    }\n",
              "</style>\n",
              "<table border=\"1\" class=\"dataframe\">\n",
              "  <thead>\n",
              "    <tr style=\"text-align: right;\">\n",
              "      <th></th>\n",
              "      <th>central_commission</th>\n",
              "      <th>reg_commission</th>\n",
              "    </tr>\n",
              "  </thead>\n",
              "  <tbody>\n",
              "    <tr>\n",
              "      <th>count</th>\n",
              "      <td>1.352994e+07</td>\n",
              "      <td>1.352994e+07</td>\n",
              "    </tr>\n",
              "    <tr>\n",
              "      <th>mean</th>\n",
              "      <td>1.334658e+02</td>\n",
              "      <td>1.344991e+02</td>\n",
              "    </tr>\n",
              "    <tr>\n",
              "      <th>std</th>\n",
              "      <td>1.144202e+03</td>\n",
              "      <td>1.144126e+03</td>\n",
              "    </tr>\n",
              "    <tr>\n",
              "      <th>min</th>\n",
              "      <td>-2.322000e+03</td>\n",
              "      <td>-2.322000e+03</td>\n",
              "    </tr>\n",
              "    <tr>\n",
              "      <th>25%</th>\n",
              "      <td>9.730000e+00</td>\n",
              "      <td>1.144000e+01</td>\n",
              "    </tr>\n",
              "    <tr>\n",
              "      <th>50%</th>\n",
              "      <td>2.900000e+01</td>\n",
              "      <td>3.000000e+01</td>\n",
              "    </tr>\n",
              "    <tr>\n",
              "      <th>75%</th>\n",
              "      <td>5.607000e+01</td>\n",
              "      <td>5.753571e+01</td>\n",
              "    </tr>\n",
              "    <tr>\n",
              "      <th>max</th>\n",
              "      <td>7.632000e+05</td>\n",
              "      <td>7.632000e+05</td>\n",
              "    </tr>\n",
              "  </tbody>\n",
              "</table>\n",
              "</div>"
            ],
            "text/plain": [
              "       central_commission  reg_commission\n",
              "count        1.352994e+07    1.352994e+07\n",
              "mean         1.334658e+02    1.344991e+02\n",
              "std          1.144202e+03    1.144126e+03\n",
              "min         -2.322000e+03   -2.322000e+03\n",
              "25%          9.730000e+00    1.144000e+01\n",
              "50%          2.900000e+01    3.000000e+01\n",
              "75%          5.607000e+01    5.753571e+01\n",
              "max          7.632000e+05    7.632000e+05"
            ]
          },
          "metadata": {
            "tags": []
          },
          "execution_count": 18
        }
      ]
    },
    {
      "cell_type": "markdown",
      "metadata": {
        "id": "khZtaNOb1d8b"
      },
      "source": [
        "## check unequal ones"
      ]
    },
    {
      "cell_type": "code",
      "metadata": {
        "id": "ABuP5uvs7xn8"
      },
      "source": [
        "df['equal'] = np.where(df['central_commission'] == df['reg_commission'], True, False)"
      ],
      "execution_count": null,
      "outputs": []
    },
    {
      "cell_type": "code",
      "metadata": {
        "id": "rp7KwcDr9xfc"
      },
      "source": [
        "equal = df.pivot_table(\"order_code_google\",index=\"entity_id\",columns=\"equal\",aggfunc=\"count\").reset_index()\n",
        "equal = equal.fillna(0)\n",
        "equal[\"total\"] = equal[False] + equal[True]\n",
        "equal[\"false_percentage\"] = equal[False]/equal[\"total\"]"
      ],
      "execution_count": null,
      "outputs": []
    },
    {
      "cell_type": "code",
      "metadata": {
        "colab": {
          "base_uri": "https://localhost:8080/",
          "height": 542
        },
        "id": "LEb0Qlmq-LbJ",
        "outputId": "2e2caba3-7d21-47e5-9b7b-1012aadb8184"
      },
      "source": [
        "fig = px.bar(equal, x='entity_id', y='false_percentage')\n",
        "fig.show()"
      ],
      "execution_count": null,
      "outputs": [
        {
          "output_type": "display_data",
          "data": {
            "text/html": [
              "<html>\n",
              "<head><meta charset=\"utf-8\" /></head>\n",
              "<body>\n",
              "    <div>\n",
              "            <script src=\"https://cdnjs.cloudflare.com/ajax/libs/mathjax/2.7.5/MathJax.js?config=TeX-AMS-MML_SVG\"></script><script type=\"text/javascript\">if (window.MathJax) {MathJax.Hub.Config({SVG: {font: \"STIX-Web\"}});}</script>\n",
              "                <script type=\"text/javascript\">window.PlotlyConfig = {MathJaxConfig: 'local'};</script>\n",
              "        <script src=\"https://cdn.plot.ly/plotly-latest.min.js\"></script>    \n",
              "            <div id=\"3eb45e0a-294f-464e-98db-c92049d3b849\" class=\"plotly-graph-div\" style=\"height:525px; width:100%;\"></div>\n",
              "            <script type=\"text/javascript\">\n",
              "                \n",
              "                    window.PLOTLYENV=window.PLOTLYENV || {};\n",
              "                    \n",
              "                if (document.getElementById(\"3eb45e0a-294f-464e-98db-c92049d3b849\")) {\n",
              "                    Plotly.newPlot(\n",
              "                        '3eb45e0a-294f-464e-98db-c92049d3b849',\n",
              "                        [{\"alignmentgroup\": \"True\", \"hoverlabel\": {\"namelength\": 0}, \"hovertemplate\": \"entity_id=%{x}<br>false_percentage=%{y}\", \"legendgroup\": \"\", \"marker\": {\"color\": \"#636efa\"}, \"name\": \"\", \"offsetgroup\": \"\", \"orientation\": \"v\", \"showlegend\": false, \"textposition\": \"auto\", \"type\": \"bar\", \"x\": [\"FP_BD\", \"FP_HK\", \"FP_JP\", \"FP_KH\", \"FP_LA\", \"FP_MM\", \"FP_MY\", \"FP_PH\", \"FP_PK\", \"FP_SG\", \"FP_TH\", \"FP_TW\"], \"xaxis\": \"x\", \"y\": [0.13604080681560643, 8.925335994273504e-06, 0.0, 1.4682131845543973e-05, 0.0, 0.0, 0.5675725037298476, 0.9760043629453254, 0.010032466396802331, 0.000188162413110578, 0.15806706548284663, 8.779066024429214e-06], \"yaxis\": \"y\"}],\n",
              "                        {\"barmode\": \"relative\", \"legend\": {\"tracegroupgap\": 0}, \"margin\": {\"t\": 60}, \"template\": {\"data\": {\"bar\": [{\"error_x\": {\"color\": \"#2a3f5f\"}, \"error_y\": {\"color\": \"#2a3f5f\"}, \"marker\": {\"line\": {\"color\": \"#E5ECF6\", \"width\": 0.5}}, \"type\": \"bar\"}], \"barpolar\": [{\"marker\": {\"line\": {\"color\": \"#E5ECF6\", \"width\": 0.5}}, \"type\": \"barpolar\"}], \"carpet\": [{\"aaxis\": {\"endlinecolor\": \"#2a3f5f\", \"gridcolor\": \"white\", \"linecolor\": \"white\", \"minorgridcolor\": \"white\", \"startlinecolor\": \"#2a3f5f\"}, \"baxis\": {\"endlinecolor\": \"#2a3f5f\", \"gridcolor\": \"white\", \"linecolor\": \"white\", \"minorgridcolor\": \"white\", \"startlinecolor\": \"#2a3f5f\"}, \"type\": \"carpet\"}], \"choropleth\": [{\"colorbar\": {\"outlinewidth\": 0, \"ticks\": \"\"}, \"type\": \"choropleth\"}], \"contour\": [{\"colorbar\": {\"outlinewidth\": 0, \"ticks\": \"\"}, \"colorscale\": [[0.0, \"#0d0887\"], [0.1111111111111111, \"#46039f\"], [0.2222222222222222, \"#7201a8\"], [0.3333333333333333, \"#9c179e\"], [0.4444444444444444, \"#bd3786\"], [0.5555555555555556, \"#d8576b\"], [0.6666666666666666, \"#ed7953\"], [0.7777777777777778, \"#fb9f3a\"], [0.8888888888888888, \"#fdca26\"], [1.0, \"#f0f921\"]], \"type\": \"contour\"}], \"contourcarpet\": [{\"colorbar\": {\"outlinewidth\": 0, \"ticks\": \"\"}, \"type\": \"contourcarpet\"}], \"heatmap\": [{\"colorbar\": {\"outlinewidth\": 0, \"ticks\": \"\"}, \"colorscale\": [[0.0, \"#0d0887\"], [0.1111111111111111, \"#46039f\"], [0.2222222222222222, \"#7201a8\"], [0.3333333333333333, \"#9c179e\"], [0.4444444444444444, \"#bd3786\"], [0.5555555555555556, \"#d8576b\"], [0.6666666666666666, \"#ed7953\"], [0.7777777777777778, \"#fb9f3a\"], [0.8888888888888888, \"#fdca26\"], [1.0, \"#f0f921\"]], \"type\": \"heatmap\"}], \"heatmapgl\": [{\"colorbar\": {\"outlinewidth\": 0, \"ticks\": \"\"}, \"colorscale\": [[0.0, \"#0d0887\"], [0.1111111111111111, \"#46039f\"], [0.2222222222222222, \"#7201a8\"], [0.3333333333333333, \"#9c179e\"], [0.4444444444444444, \"#bd3786\"], [0.5555555555555556, \"#d8576b\"], [0.6666666666666666, \"#ed7953\"], [0.7777777777777778, \"#fb9f3a\"], [0.8888888888888888, \"#fdca26\"], [1.0, \"#f0f921\"]], \"type\": \"heatmapgl\"}], \"histogram\": [{\"marker\": {\"colorbar\": {\"outlinewidth\": 0, \"ticks\": \"\"}}, \"type\": \"histogram\"}], \"histogram2d\": [{\"colorbar\": {\"outlinewidth\": 0, \"ticks\": \"\"}, \"colorscale\": [[0.0, \"#0d0887\"], [0.1111111111111111, \"#46039f\"], [0.2222222222222222, \"#7201a8\"], [0.3333333333333333, \"#9c179e\"], [0.4444444444444444, \"#bd3786\"], [0.5555555555555556, \"#d8576b\"], [0.6666666666666666, \"#ed7953\"], [0.7777777777777778, \"#fb9f3a\"], [0.8888888888888888, \"#fdca26\"], [1.0, \"#f0f921\"]], \"type\": \"histogram2d\"}], \"histogram2dcontour\": [{\"colorbar\": {\"outlinewidth\": 0, \"ticks\": \"\"}, \"colorscale\": [[0.0, \"#0d0887\"], [0.1111111111111111, \"#46039f\"], [0.2222222222222222, \"#7201a8\"], [0.3333333333333333, \"#9c179e\"], [0.4444444444444444, \"#bd3786\"], [0.5555555555555556, \"#d8576b\"], [0.6666666666666666, \"#ed7953\"], [0.7777777777777778, \"#fb9f3a\"], [0.8888888888888888, \"#fdca26\"], [1.0, \"#f0f921\"]], \"type\": \"histogram2dcontour\"}], \"mesh3d\": [{\"colorbar\": {\"outlinewidth\": 0, \"ticks\": \"\"}, \"type\": \"mesh3d\"}], \"parcoords\": [{\"line\": {\"colorbar\": {\"outlinewidth\": 0, \"ticks\": \"\"}}, \"type\": \"parcoords\"}], \"pie\": [{\"automargin\": true, \"type\": \"pie\"}], \"scatter\": [{\"marker\": {\"colorbar\": {\"outlinewidth\": 0, \"ticks\": \"\"}}, \"type\": \"scatter\"}], \"scatter3d\": [{\"line\": {\"colorbar\": {\"outlinewidth\": 0, \"ticks\": \"\"}}, \"marker\": {\"colorbar\": {\"outlinewidth\": 0, \"ticks\": \"\"}}, \"type\": \"scatter3d\"}], \"scattercarpet\": [{\"marker\": {\"colorbar\": {\"outlinewidth\": 0, \"ticks\": \"\"}}, \"type\": \"scattercarpet\"}], \"scattergeo\": [{\"marker\": {\"colorbar\": {\"outlinewidth\": 0, \"ticks\": \"\"}}, \"type\": \"scattergeo\"}], \"scattergl\": [{\"marker\": {\"colorbar\": {\"outlinewidth\": 0, \"ticks\": \"\"}}, \"type\": \"scattergl\"}], \"scattermapbox\": [{\"marker\": {\"colorbar\": {\"outlinewidth\": 0, \"ticks\": \"\"}}, \"type\": \"scattermapbox\"}], \"scatterpolar\": [{\"marker\": {\"colorbar\": {\"outlinewidth\": 0, \"ticks\": \"\"}}, \"type\": \"scatterpolar\"}], \"scatterpolargl\": [{\"marker\": {\"colorbar\": {\"outlinewidth\": 0, \"ticks\": \"\"}}, \"type\": \"scatterpolargl\"}], \"scatterternary\": [{\"marker\": {\"colorbar\": {\"outlinewidth\": 0, \"ticks\": \"\"}}, \"type\": \"scatterternary\"}], \"surface\": [{\"colorbar\": {\"outlinewidth\": 0, \"ticks\": \"\"}, \"colorscale\": [[0.0, \"#0d0887\"], [0.1111111111111111, \"#46039f\"], [0.2222222222222222, \"#7201a8\"], [0.3333333333333333, \"#9c179e\"], [0.4444444444444444, \"#bd3786\"], [0.5555555555555556, \"#d8576b\"], [0.6666666666666666, \"#ed7953\"], [0.7777777777777778, \"#fb9f3a\"], [0.8888888888888888, \"#fdca26\"], [1.0, \"#f0f921\"]], \"type\": \"surface\"}], \"table\": [{\"cells\": {\"fill\": {\"color\": \"#EBF0F8\"}, \"line\": {\"color\": \"white\"}}, \"header\": {\"fill\": {\"color\": \"#C8D4E3\"}, \"line\": {\"color\": \"white\"}}, \"type\": \"table\"}]}, \"layout\": {\"annotationdefaults\": {\"arrowcolor\": \"#2a3f5f\", \"arrowhead\": 0, \"arrowwidth\": 1}, \"coloraxis\": {\"colorbar\": {\"outlinewidth\": 0, \"ticks\": \"\"}}, \"colorscale\": {\"diverging\": [[0, \"#8e0152\"], [0.1, \"#c51b7d\"], [0.2, \"#de77ae\"], [0.3, \"#f1b6da\"], [0.4, \"#fde0ef\"], [0.5, \"#f7f7f7\"], [0.6, \"#e6f5d0\"], [0.7, \"#b8e186\"], [0.8, \"#7fbc41\"], [0.9, \"#4d9221\"], [1, \"#276419\"]], \"sequential\": [[0.0, \"#0d0887\"], [0.1111111111111111, \"#46039f\"], [0.2222222222222222, \"#7201a8\"], [0.3333333333333333, \"#9c179e\"], [0.4444444444444444, \"#bd3786\"], [0.5555555555555556, \"#d8576b\"], [0.6666666666666666, \"#ed7953\"], [0.7777777777777778, \"#fb9f3a\"], [0.8888888888888888, \"#fdca26\"], [1.0, \"#f0f921\"]], \"sequentialminus\": [[0.0, \"#0d0887\"], [0.1111111111111111, \"#46039f\"], [0.2222222222222222, \"#7201a8\"], [0.3333333333333333, \"#9c179e\"], [0.4444444444444444, \"#bd3786\"], [0.5555555555555556, \"#d8576b\"], [0.6666666666666666, \"#ed7953\"], [0.7777777777777778, \"#fb9f3a\"], [0.8888888888888888, \"#fdca26\"], [1.0, \"#f0f921\"]]}, \"colorway\": [\"#636efa\", \"#EF553B\", \"#00cc96\", \"#ab63fa\", \"#FFA15A\", \"#19d3f3\", \"#FF6692\", \"#B6E880\", \"#FF97FF\", \"#FECB52\"], \"font\": {\"color\": \"#2a3f5f\"}, \"geo\": {\"bgcolor\": \"white\", \"lakecolor\": \"white\", \"landcolor\": \"#E5ECF6\", \"showlakes\": true, \"showland\": true, \"subunitcolor\": \"white\"}, \"hoverlabel\": {\"align\": \"left\"}, \"hovermode\": \"closest\", \"mapbox\": {\"style\": \"light\"}, \"paper_bgcolor\": \"white\", \"plot_bgcolor\": \"#E5ECF6\", \"polar\": {\"angularaxis\": {\"gridcolor\": \"white\", \"linecolor\": \"white\", \"ticks\": \"\"}, \"bgcolor\": \"#E5ECF6\", \"radialaxis\": {\"gridcolor\": \"white\", \"linecolor\": \"white\", \"ticks\": \"\"}}, \"scene\": {\"xaxis\": {\"backgroundcolor\": \"#E5ECF6\", \"gridcolor\": \"white\", \"gridwidth\": 2, \"linecolor\": \"white\", \"showbackground\": true, \"ticks\": \"\", \"zerolinecolor\": \"white\"}, \"yaxis\": {\"backgroundcolor\": \"#E5ECF6\", \"gridcolor\": \"white\", \"gridwidth\": 2, \"linecolor\": \"white\", \"showbackground\": true, \"ticks\": \"\", \"zerolinecolor\": \"white\"}, \"zaxis\": {\"backgroundcolor\": \"#E5ECF6\", \"gridcolor\": \"white\", \"gridwidth\": 2, \"linecolor\": \"white\", \"showbackground\": true, \"ticks\": \"\", \"zerolinecolor\": \"white\"}}, \"shapedefaults\": {\"line\": {\"color\": \"#2a3f5f\"}}, \"ternary\": {\"aaxis\": {\"gridcolor\": \"white\", \"linecolor\": \"white\", \"ticks\": \"\"}, \"baxis\": {\"gridcolor\": \"white\", \"linecolor\": \"white\", \"ticks\": \"\"}, \"bgcolor\": \"#E5ECF6\", \"caxis\": {\"gridcolor\": \"white\", \"linecolor\": \"white\", \"ticks\": \"\"}}, \"title\": {\"x\": 0.05}, \"xaxis\": {\"automargin\": true, \"gridcolor\": \"white\", \"linecolor\": \"white\", \"ticks\": \"\", \"title\": {\"standoff\": 15}, \"zerolinecolor\": \"white\", \"zerolinewidth\": 2}, \"yaxis\": {\"automargin\": true, \"gridcolor\": \"white\", \"linecolor\": \"white\", \"ticks\": \"\", \"title\": {\"standoff\": 15}, \"zerolinecolor\": \"white\", \"zerolinewidth\": 2}}}, \"xaxis\": {\"anchor\": \"y\", \"domain\": [0.0, 1.0], \"title\": {\"text\": \"entity_id\"}}, \"yaxis\": {\"anchor\": \"x\", \"domain\": [0.0, 1.0], \"title\": {\"text\": \"false_percentage\"}}},\n",
              "                        {\"responsive\": true}\n",
              "                    ).then(function(){\n",
              "                            \n",
              "var gd = document.getElementById('3eb45e0a-294f-464e-98db-c92049d3b849');\n",
              "var x = new MutationObserver(function (mutations, observer) {{\n",
              "        var display = window.getComputedStyle(gd).display;\n",
              "        if (!display || display === 'none') {{\n",
              "            console.log([gd, 'removed!']);\n",
              "            Plotly.purge(gd);\n",
              "            observer.disconnect();\n",
              "        }}\n",
              "}});\n",
              "\n",
              "// Listen for the removal of the full notebook cells\n",
              "var notebookContainer = gd.closest('#notebook-container');\n",
              "if (notebookContainer) {{\n",
              "    x.observe(notebookContainer, {childList: true});\n",
              "}}\n",
              "\n",
              "// Listen for the clearing of the current output cell\n",
              "var outputEl = gd.closest('.output');\n",
              "if (outputEl) {{\n",
              "    x.observe(outputEl, {childList: true});\n",
              "}}\n",
              "\n",
              "                        })\n",
              "                };\n",
              "                \n",
              "            </script>\n",
              "        </div>\n",
              "</body>\n",
              "</html>"
            ]
          },
          "metadata": {
            "tags": []
          }
        }
      ]
    },
    {
      "cell_type": "code",
      "metadata": {
        "colab": {
          "base_uri": "https://localhost:8080/"
        },
        "id": "sytr64We9pGM",
        "outputId": "eefcfd2b-f57b-42a5-f2f3-2195ef4eb034"
      },
      "source": [
        "df['equal'].value_counts()"
      ],
      "execution_count": null,
      "outputs": [
        {
          "output_type": "execute_result",
          "data": {
            "text/plain": [
              "True     9840425\n",
              "False    3689510\n",
              "Name: equal, dtype: int64"
            ]
          },
          "metadata": {
            "tags": []
          },
          "execution_count": 22
        }
      ]
    },
    {
      "cell_type": "markdown",
      "metadata": {
        "id": "NHE59T8p1tdC"
      },
      "source": [
        "## Check descriptive data"
      ]
    },
    {
      "cell_type": "code",
      "metadata": {
        "id": "E3l3AGYhkHH2"
      },
      "source": [
        "df_melt = pd.melt(df, id_vars = [\"entity_id\",\"order_code_google\"], value_vars = [\"central_commission\", \"reg_commission\"],var_name = \"source\", value_name = \"commission\")"
      ],
      "execution_count": null,
      "outputs": []
    },
    {
      "cell_type": "code",
      "metadata": {
        "colab": {
          "base_uri": "https://localhost:8080/",
          "height": 197
        },
        "id": "VO-sKiWYr5az",
        "outputId": "348c233c-a3de-4aff-cba2-6789062d9fcd"
      },
      "source": [
        "df_melt.head()"
      ],
      "execution_count": null,
      "outputs": [
        {
          "output_type": "execute_result",
          "data": {
            "text/html": [
              "<div>\n",
              "<style scoped>\n",
              "    .dataframe tbody tr th:only-of-type {\n",
              "        vertical-align: middle;\n",
              "    }\n",
              "\n",
              "    .dataframe tbody tr th {\n",
              "        vertical-align: top;\n",
              "    }\n",
              "\n",
              "    .dataframe thead th {\n",
              "        text-align: right;\n",
              "    }\n",
              "</style>\n",
              "<table border=\"1\" class=\"dataframe\">\n",
              "  <thead>\n",
              "    <tr style=\"text-align: right;\">\n",
              "      <th></th>\n",
              "      <th>entity_id</th>\n",
              "      <th>order_code_google</th>\n",
              "      <th>source</th>\n",
              "      <th>commission</th>\n",
              "    </tr>\n",
              "  </thead>\n",
              "  <tbody>\n",
              "    <tr>\n",
              "      <th>0</th>\n",
              "      <td>FP_JP</td>\n",
              "      <td>l8jr-ao7i</td>\n",
              "      <td>central_commission</td>\n",
              "      <td>412.0</td>\n",
              "    </tr>\n",
              "    <tr>\n",
              "      <th>1</th>\n",
              "      <td>FP_JP</td>\n",
              "      <td>a9qz-85uv</td>\n",
              "      <td>central_commission</td>\n",
              "      <td>660.0</td>\n",
              "    </tr>\n",
              "    <tr>\n",
              "      <th>2</th>\n",
              "      <td>FP_JP</td>\n",
              "      <td>g8fl-flqj</td>\n",
              "      <td>central_commission</td>\n",
              "      <td>2188.0</td>\n",
              "    </tr>\n",
              "    <tr>\n",
              "      <th>3</th>\n",
              "      <td>FP_JP</td>\n",
              "      <td>a5vd-z32v</td>\n",
              "      <td>central_commission</td>\n",
              "      <td>695.0</td>\n",
              "    </tr>\n",
              "    <tr>\n",
              "      <th>4</th>\n",
              "      <td>FP_JP</td>\n",
              "      <td>b3gk-br9a</td>\n",
              "      <td>central_commission</td>\n",
              "      <td>234.0</td>\n",
              "    </tr>\n",
              "  </tbody>\n",
              "</table>\n",
              "</div>"
            ],
            "text/plain": [
              "  entity_id order_code_google              source  commission\n",
              "0     FP_JP         l8jr-ao7i  central_commission       412.0\n",
              "1     FP_JP         a9qz-85uv  central_commission       660.0\n",
              "2     FP_JP         g8fl-flqj  central_commission      2188.0\n",
              "3     FP_JP         a5vd-z32v  central_commission       695.0\n",
              "4     FP_JP         b3gk-br9a  central_commission       234.0"
            ]
          },
          "metadata": {
            "tags": []
          },
          "execution_count": 24
        }
      ]
    },
    {
      "cell_type": "code",
      "metadata": {
        "id": "C8AW5yWR0JLd"
      },
      "source": [
        "entities = df_melt.entity_id.unique().tolist()\n",
        "sources = df_melt.source.unique().tolist()"
      ],
      "execution_count": null,
      "outputs": []
    },
    {
      "cell_type": "code",
      "metadata": {
        "colab": {
          "base_uri": "https://localhost:8080/",
          "height": 787
        },
        "id": "TO1jI9mJnWR4",
        "outputId": "3b099624-d2f5-4c85-8fc4-47d63d6a9776"
      },
      "source": [
        "# create empty array list\n",
        "rows_list = []\n",
        "\n",
        "for entity in entities:\n",
        "  for source in sources:\n",
        "    df_agg = df_melt[df_melt[\"entity_id\"] == entity]\n",
        "    df_agg = df_agg[df_agg[\"source\"] == source]\n",
        "    sum = df_agg[\"commission\"].sum()\n",
        "    mean = df_agg[\"commission\"].mean()\n",
        "    std = df_agg[\"commission\"].std()\n",
        "    min = df_agg[\"commission\"].min()\n",
        "    quantile25 = df_agg[\"commission\"].quantile(.25) \n",
        "    median = df_agg[\"commission\"].median()\n",
        "    quantile75 = df_agg[\"commission\"].quantile(.75) \n",
        "    max = df_agg[\"commission\"].max() \n",
        "    rows_list.append([entity, source,sum,mean,\n",
        "                      std,\n",
        "                      min, quantile25,median,quantile75,max])\n",
        "\n",
        "result = pd.DataFrame(rows_list, columns=['entity','source','sum','mean','std',\n",
        "                                          'min','quantile25','median','quantile75','max'])\n",
        "result"
      ],
      "execution_count": null,
      "outputs": [
        {
          "output_type": "execute_result",
          "data": {
            "text/html": [
              "<div>\n",
              "<style scoped>\n",
              "    .dataframe tbody tr th:only-of-type {\n",
              "        vertical-align: middle;\n",
              "    }\n",
              "\n",
              "    .dataframe tbody tr th {\n",
              "        vertical-align: top;\n",
              "    }\n",
              "\n",
              "    .dataframe thead th {\n",
              "        text-align: right;\n",
              "    }\n",
              "</style>\n",
              "<table border=\"1\" class=\"dataframe\">\n",
              "  <thead>\n",
              "    <tr style=\"text-align: right;\">\n",
              "      <th></th>\n",
              "      <th>entity</th>\n",
              "      <th>source</th>\n",
              "      <th>sum</th>\n",
              "      <th>mean</th>\n",
              "      <th>std</th>\n",
              "      <th>min</th>\n",
              "      <th>quantile25</th>\n",
              "      <th>median</th>\n",
              "      <th>quantile75</th>\n",
              "      <th>max</th>\n",
              "    </tr>\n",
              "  </thead>\n",
              "  <tbody>\n",
              "    <tr>\n",
              "      <th>0</th>\n",
              "      <td>FP_JP</td>\n",
              "      <td>central_commission</td>\n",
              "      <td>1.491862e+07</td>\n",
              "      <td>454.351241</td>\n",
              "      <td>294.228630</td>\n",
              "      <td>0.000000</td>\n",
              "      <td>273.00</td>\n",
              "      <td>383.0000</td>\n",
              "      <td>546.0000</td>\n",
              "      <td>6583.000000</td>\n",
              "    </tr>\n",
              "    <tr>\n",
              "      <th>1</th>\n",
              "      <td>FP_JP</td>\n",
              "      <td>reg_commission</td>\n",
              "      <td>1.491862e+07</td>\n",
              "      <td>454.351241</td>\n",
              "      <td>294.228630</td>\n",
              "      <td>0.000000</td>\n",
              "      <td>273.00</td>\n",
              "      <td>383.0000</td>\n",
              "      <td>546.0000</td>\n",
              "      <td>6583.000000</td>\n",
              "    </tr>\n",
              "    <tr>\n",
              "      <th>2</th>\n",
              "      <td>FP_BD</td>\n",
              "      <td>central_commission</td>\n",
              "      <td>1.672689e+07</td>\n",
              "      <td>53.392601</td>\n",
              "      <td>75.251184</td>\n",
              "      <td>0.000000</td>\n",
              "      <td>12.10</td>\n",
              "      <td>36.4000</td>\n",
              "      <td>64.4000</td>\n",
              "      <td>4510.000000</td>\n",
              "    </tr>\n",
              "    <tr>\n",
              "      <th>3</th>\n",
              "      <td>FP_BD</td>\n",
              "      <td>reg_commission</td>\n",
              "      <td>1.672121e+07</td>\n",
              "      <td>53.374478</td>\n",
              "      <td>75.234645</td>\n",
              "      <td>0.000000</td>\n",
              "      <td>12.10</td>\n",
              "      <td>36.4000</td>\n",
              "      <td>64.4000</td>\n",
              "      <td>4510.000000</td>\n",
              "    </tr>\n",
              "    <tr>\n",
              "      <th>4</th>\n",
              "      <td>FP_HK</td>\n",
              "      <td>central_commission</td>\n",
              "      <td>2.235594e+07</td>\n",
              "      <td>39.906864</td>\n",
              "      <td>49.974692</td>\n",
              "      <td>0.000000</td>\n",
              "      <td>19.20</td>\n",
              "      <td>30.2400</td>\n",
              "      <td>47.5200</td>\n",
              "      <td>3358.320000</td>\n",
              "    </tr>\n",
              "    <tr>\n",
              "      <th>5</th>\n",
              "      <td>FP_HK</td>\n",
              "      <td>reg_commission</td>\n",
              "      <td>2.235594e+07</td>\n",
              "      <td>39.906864</td>\n",
              "      <td>49.974692</td>\n",
              "      <td>0.000000</td>\n",
              "      <td>19.20</td>\n",
              "      <td>30.2400</td>\n",
              "      <td>47.5200</td>\n",
              "      <td>3358.320000</td>\n",
              "    </tr>\n",
              "    <tr>\n",
              "      <th>6</th>\n",
              "      <td>FP_KH</td>\n",
              "      <td>central_commission</td>\n",
              "      <td>1.507708e+05</td>\n",
              "      <td>1.106818</td>\n",
              "      <td>0.944394</td>\n",
              "      <td>-0.080000</td>\n",
              "      <td>0.53</td>\n",
              "      <td>0.8300</td>\n",
              "      <td>1.3500</td>\n",
              "      <td>31.540000</td>\n",
              "    </tr>\n",
              "    <tr>\n",
              "      <th>7</th>\n",
              "      <td>FP_KH</td>\n",
              "      <td>reg_commission</td>\n",
              "      <td>1.507708e+05</td>\n",
              "      <td>1.106818</td>\n",
              "      <td>0.944394</td>\n",
              "      <td>-0.080000</td>\n",
              "      <td>0.53</td>\n",
              "      <td>0.8300</td>\n",
              "      <td>1.3500</td>\n",
              "      <td>31.540000</td>\n",
              "    </tr>\n",
              "    <tr>\n",
              "      <th>8</th>\n",
              "      <td>FP_LA</td>\n",
              "      <td>central_commission</td>\n",
              "      <td>9.895177e+08</td>\n",
              "      <td>9854.674199</td>\n",
              "      <td>8672.365659</td>\n",
              "      <td>0.000000</td>\n",
              "      <td>4500.00</td>\n",
              "      <td>7500.0000</td>\n",
              "      <td>12000.0000</td>\n",
              "      <td>763200.000000</td>\n",
              "    </tr>\n",
              "    <tr>\n",
              "      <th>9</th>\n",
              "      <td>FP_LA</td>\n",
              "      <td>reg_commission</td>\n",
              "      <td>9.895177e+08</td>\n",
              "      <td>9854.674199</td>\n",
              "      <td>8672.365659</td>\n",
              "      <td>0.000000</td>\n",
              "      <td>4500.00</td>\n",
              "      <td>7500.0000</td>\n",
              "      <td>12000.0000</td>\n",
              "      <td>763200.000000</td>\n",
              "    </tr>\n",
              "    <tr>\n",
              "      <th>10</th>\n",
              "      <td>FP_MM</td>\n",
              "      <td>central_commission</td>\n",
              "      <td>2.530095e+08</td>\n",
              "      <td>1151.681541</td>\n",
              "      <td>1121.316025</td>\n",
              "      <td>-293.400000</td>\n",
              "      <td>507.50</td>\n",
              "      <td>840.0000</td>\n",
              "      <td>1400.0000</td>\n",
              "      <td>62925.900000</td>\n",
              "    </tr>\n",
              "    <tr>\n",
              "      <th>11</th>\n",
              "      <td>FP_MM</td>\n",
              "      <td>reg_commission</td>\n",
              "      <td>2.530095e+08</td>\n",
              "      <td>1151.681541</td>\n",
              "      <td>1121.316025</td>\n",
              "      <td>-293.400000</td>\n",
              "      <td>507.50</td>\n",
              "      <td>840.0000</td>\n",
              "      <td>1400.0000</td>\n",
              "      <td>62925.900000</td>\n",
              "    </tr>\n",
              "    <tr>\n",
              "      <th>12</th>\n",
              "      <td>FP_MY</td>\n",
              "      <td>central_commission</td>\n",
              "      <td>1.591259e+07</td>\n",
              "      <td>6.290570</td>\n",
              "      <td>4.991688</td>\n",
              "      <td>0.000000</td>\n",
              "      <td>3.24</td>\n",
              "      <td>5.1300</td>\n",
              "      <td>7.9300</td>\n",
              "      <td>1065.600000</td>\n",
              "    </tr>\n",
              "    <tr>\n",
              "      <th>13</th>\n",
              "      <td>FP_MY</td>\n",
              "      <td>reg_commission</td>\n",
              "      <td>1.591752e+07</td>\n",
              "      <td>6.292521</td>\n",
              "      <td>4.991615</td>\n",
              "      <td>0.000000</td>\n",
              "      <td>3.24</td>\n",
              "      <td>5.1300</td>\n",
              "      <td>7.9375</td>\n",
              "      <td>1065.600000</td>\n",
              "    </tr>\n",
              "    <tr>\n",
              "      <th>14</th>\n",
              "      <td>FP_PH</td>\n",
              "      <td>central_commission</td>\n",
              "      <td>8.244159e+07</td>\n",
              "      <td>46.351565</td>\n",
              "      <td>71.628732</td>\n",
              "      <td>-134.150000</td>\n",
              "      <td>13.35</td>\n",
              "      <td>30.8000</td>\n",
              "      <td>59.5100</td>\n",
              "      <td>38194.070000</td>\n",
              "    </tr>\n",
              "    <tr>\n",
              "      <th>15</th>\n",
              "      <td>FP_PH</td>\n",
              "      <td>reg_commission</td>\n",
              "      <td>9.642132e+07</td>\n",
              "      <td>54.211461</td>\n",
              "      <td>71.518581</td>\n",
              "      <td>-134.151786</td>\n",
              "      <td>23.00</td>\n",
              "      <td>39.3125</td>\n",
              "      <td>66.2500</td>\n",
              "      <td>38194.071429</td>\n",
              "    </tr>\n",
              "    <tr>\n",
              "      <th>16</th>\n",
              "      <td>FP_PK</td>\n",
              "      <td>central_commission</td>\n",
              "      <td>9.743229e+07</td>\n",
              "      <td>103.273769</td>\n",
              "      <td>144.564921</td>\n",
              "      <td>-2322.000000</td>\n",
              "      <td>43.72</td>\n",
              "      <td>75.6000</td>\n",
              "      <td>136.6400</td>\n",
              "      <td>49280.000000</td>\n",
              "    </tr>\n",
              "    <tr>\n",
              "      <th>17</th>\n",
              "      <td>FP_PK</td>\n",
              "      <td>reg_commission</td>\n",
              "      <td>9.743144e+07</td>\n",
              "      <td>103.272866</td>\n",
              "      <td>144.562364</td>\n",
              "      <td>-2322.000000</td>\n",
              "      <td>43.72</td>\n",
              "      <td>75.6000</td>\n",
              "      <td>136.6400</td>\n",
              "      <td>49280.000000</td>\n",
              "    </tr>\n",
              "    <tr>\n",
              "      <th>18</th>\n",
              "      <td>FP_SG</td>\n",
              "      <td>central_commission</td>\n",
              "      <td>2.325741e+06</td>\n",
              "      <td>4.207857</td>\n",
              "      <td>3.729350</td>\n",
              "      <td>-4.690000</td>\n",
              "      <td>1.99</td>\n",
              "      <td>3.2900</td>\n",
              "      <td>5.2900</td>\n",
              "      <td>187.020000</td>\n",
              "    </tr>\n",
              "    <tr>\n",
              "      <th>19</th>\n",
              "      <td>FP_SG</td>\n",
              "      <td>reg_commission</td>\n",
              "      <td>2.325742e+06</td>\n",
              "      <td>4.207857</td>\n",
              "      <td>3.729351</td>\n",
              "      <td>-4.690000</td>\n",
              "      <td>1.99</td>\n",
              "      <td>3.2900</td>\n",
              "      <td>5.2900</td>\n",
              "      <td>187.020000</td>\n",
              "    </tr>\n",
              "    <tr>\n",
              "      <th>20</th>\n",
              "      <td>FP_TH</td>\n",
              "      <td>central_commission</td>\n",
              "      <td>1.021970e+08</td>\n",
              "      <td>34.693393</td>\n",
              "      <td>29.958222</td>\n",
              "      <td>-14.000000</td>\n",
              "      <td>18.00</td>\n",
              "      <td>27.0000</td>\n",
              "      <td>41.4900</td>\n",
              "      <td>1808.000000</td>\n",
              "    </tr>\n",
              "    <tr>\n",
              "      <th>21</th>\n",
              "      <td>FP_TH</td>\n",
              "      <td>reg_commission</td>\n",
              "      <td>1.021993e+08</td>\n",
              "      <td>34.694197</td>\n",
              "      <td>29.958534</td>\n",
              "      <td>-14.000000</td>\n",
              "      <td>18.00</td>\n",
              "      <td>27.0000</td>\n",
              "      <td>41.4952</td>\n",
              "      <td>1808.000000</td>\n",
              "    </tr>\n",
              "    <tr>\n",
              "      <th>22</th>\n",
              "      <td>FP_TW</td>\n",
              "      <td>central_commission</td>\n",
              "      <td>2.087953e+08</td>\n",
              "      <td>61.100910</td>\n",
              "      <td>45.691534</td>\n",
              "      <td>-37.000000</td>\n",
              "      <td>33.00</td>\n",
              "      <td>49.0000</td>\n",
              "      <td>74.0000</td>\n",
              "      <td>3051.720000</td>\n",
              "    </tr>\n",
              "    <tr>\n",
              "      <th>23</th>\n",
              "      <td>FP_TW</td>\n",
              "      <td>reg_commission</td>\n",
              "      <td>2.087953e+08</td>\n",
              "      <td>61.100910</td>\n",
              "      <td>45.691534</td>\n",
              "      <td>-37.000000</td>\n",
              "      <td>33.00</td>\n",
              "      <td>49.0000</td>\n",
              "      <td>74.0000</td>\n",
              "      <td>3051.720000</td>\n",
              "    </tr>\n",
              "  </tbody>\n",
              "</table>\n",
              "</div>"
            ],
            "text/plain": [
              "   entity              source  ...  quantile75            max\n",
              "0   FP_JP  central_commission  ...    546.0000    6583.000000\n",
              "1   FP_JP      reg_commission  ...    546.0000    6583.000000\n",
              "2   FP_BD  central_commission  ...     64.4000    4510.000000\n",
              "3   FP_BD      reg_commission  ...     64.4000    4510.000000\n",
              "4   FP_HK  central_commission  ...     47.5200    3358.320000\n",
              "5   FP_HK      reg_commission  ...     47.5200    3358.320000\n",
              "6   FP_KH  central_commission  ...      1.3500      31.540000\n",
              "7   FP_KH      reg_commission  ...      1.3500      31.540000\n",
              "8   FP_LA  central_commission  ...  12000.0000  763200.000000\n",
              "9   FP_LA      reg_commission  ...  12000.0000  763200.000000\n",
              "10  FP_MM  central_commission  ...   1400.0000   62925.900000\n",
              "11  FP_MM      reg_commission  ...   1400.0000   62925.900000\n",
              "12  FP_MY  central_commission  ...      7.9300    1065.600000\n",
              "13  FP_MY      reg_commission  ...      7.9375    1065.600000\n",
              "14  FP_PH  central_commission  ...     59.5100   38194.070000\n",
              "15  FP_PH      reg_commission  ...     66.2500   38194.071429\n",
              "16  FP_PK  central_commission  ...    136.6400   49280.000000\n",
              "17  FP_PK      reg_commission  ...    136.6400   49280.000000\n",
              "18  FP_SG  central_commission  ...      5.2900     187.020000\n",
              "19  FP_SG      reg_commission  ...      5.2900     187.020000\n",
              "20  FP_TH  central_commission  ...     41.4900    1808.000000\n",
              "21  FP_TH      reg_commission  ...     41.4952    1808.000000\n",
              "22  FP_TW  central_commission  ...     74.0000    3051.720000\n",
              "23  FP_TW      reg_commission  ...     74.0000    3051.720000\n",
              "\n",
              "[24 rows x 10 columns]"
            ]
          },
          "metadata": {
            "tags": []
          },
          "execution_count": 26
        }
      ]
    }
  ]
}