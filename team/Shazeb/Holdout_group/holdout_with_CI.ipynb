{
 "cells": [
  {
   "cell_type": "code",
   "execution_count": 2,
   "metadata": {},
   "outputs": [],
   "source": [
    "import numpy as np\n",
    "import pandas as pd\n",
    "from google.cloud import bigquery, storage\n",
    "import matplotlib.pyplot as plt\n",
    "import seaborn as sns\n",
    "from scipy import stats\n",
    "from scipy.stats import ttest_ind, t\n",
    "import plotly.express as px\n",
    "import db_dtypes\n",
    "import bigframes.pandas as bpd\n",
    "from IPython.display import display, HTML\n",
    "import math\n",
    "import statsmodels.api as sm\n",
    "from typing import Union\n",
    "import logging\n",
    "import sys\n",
    "from google.cloud.exceptions import NotFound\n",
    "import time\n",
    "import os\n",
    "import json\n",
    "from google.auth.transport.requests import Request\n",
    "from google.oauth2.credentials import Credentials\n",
    "from google.auth import default\n",
    "from typing import Union\n",
    "from datetime import date, timedelta, datetime\n",
    "from tqdm.auto import tqdm\n",
    "import fastparquet as fp\n",
    "import io\n",
    "from joblib import Parallel, delayed\n",
    "import gc\n",
    "import numpy as np\n",
    "\n",
    "\n",
    "# Configure logging\n",
    "logging.basicConfig(\n",
    "    level=logging.INFO,\n",
    "    format='%(asctime)s %(levelname)s:%(message)s',\n",
    "    handlers=[\n",
    "        logging.StreamHandler(sys.stdout)\n",
    "    ],\n",
    "    force=True\n",
    ")\n",
    "\n",
    "\n",
    "# ------------------------------------------------------------------------------\n",
    "# Data Queries\n",
    "# ------------------------------------------------------------------------------\n",
    "\n",
    "def get_marketing_data(entities, week, vertical):\n",
    "    \n",
    "    mkt_data = f\"\"\"\n",
    "\n",
    "    WITH holdout_entities AS (\n",
    "    SELECT \n",
    "        entity_id,\n",
    "        MIN(CASE WHEN is_customer_holdout THEN created_date END) AS release_date\n",
    "    FROM `fulfillment-dwh-production.cl.dps_holdout_users` AS d\n",
    "    WHERE \n",
    "        is_customer_holdout = TRUE \n",
    "        AND created_date < '{week}'\n",
    "        AND entity_id in {entities}\n",
    "    GROUP BY entity_id\n",
    "    HAVING COUNT(CASE WHEN is_customer_holdout THEN customer_id END) > 100\n",
    "    ),\n",
    "    orders as (\n",
    "    SELECT\n",
    "        dps.entity_id entity_id\n",
    "        ,dps.dps_customer_id customer_id\n",
    "        ,COUNT(case when mkt.order_date <= e.release_date then mkt.order_id end) AS orders_pre\n",
    "        ,COUNT(case when mkt.order_date > e.release_date then mkt.order_id end) AS orders_post\n",
    "        ,SUM(case when mkt.order_date <= e.release_date then mkt.analytical_profit end) AS analytical_profit_pre\n",
    "        ,SUM(case when mkt.order_date > e.release_date then mkt.analytical_profit end) AS analytical_profit_post\n",
    "    FROM `fulfillment-dwh-production.cl.dps_sessions_mapped_to_orders` dps\n",
    "    JOIN holdout_entities AS e\n",
    "        ON dps.entity_id = e.entity_id\n",
    "    left join fulfillment-dwh-production.curated_data_shared_mkt.bima_order_profitability mkt\n",
    "        ON mkt.global_entity_id = dps.entity_id\n",
    "        AND mkt.order_id = dps.platform_order_code\n",
    "        AND order_date >= DATE_SUB(release_date, INTERVAL 8 WEEK)\n",
    "        AND order_date < '{week}'\n",
    "        AND global_entity_id in {entities}\n",
    "    WHERE dps.created_date >= DATE_SUB(e.release_date, INTERVAL 8 WEEK) \n",
    "        AND dps.created_date < '{week}'\n",
    "        AND dps.platform_order_code IS NOT NULL\n",
    "        AND dps.is_own_delivery\n",
    "        AND dps.is_sent\n",
    "        AND vendor_vertical_parent IN ('Restaurant','restaurant','restaurants')\n",
    "        AND dps.entity_id in {entities}\n",
    "    GROUP BY 1, 2\n",
    "    ), \n",
    "    customer_information AS (\n",
    "    SELECT\n",
    "            e.entity_id,\n",
    "            e.release_date,\n",
    "            CASE WHEN d.created_date <= e.release_date THEN FALSE ELSE COALESCE(is_customer_holdout, FALSE) END AS is_customer_holdout,\n",
    "            d.customer_id\n",
    "    FROM `fulfillment-dwh-production.cl.dps_holdout_users` AS d\n",
    "    JOIN holdout_entities AS e\n",
    "            ON d.entity_id = e.entity_id\n",
    "    LEFT JOIN `fulfillment-dwh-production.cl._bad_dps_logs_ids` bad_ids\n",
    "        ON d.customer_id = bad_ids.id\n",
    "    WHERE d.created_date >= '2025-01-01' \n",
    "        AND d.created_date < '{week}'\n",
    "        AND d.customer_id IS NOT NULL\n",
    "        AND bad_ids.id IS NULL\n",
    "        AND d.entity_id in {entities}\n",
    "    GROUP BY 1, 2, 3, 4\n",
    "    )\n",
    "    SELECT  p.brand_name,\n",
    "            e.entity_id,\n",
    "            e.customer_id,\n",
    "            e.is_customer_holdout,\n",
    "            o.orders_pre,\n",
    "            o.orders_post,\n",
    "            o.analytical_profit_pre,\n",
    "            o.analytical_profit_post\n",
    "    FROM customer_information e\n",
    "    LEFT JOIN orders o\n",
    "        ON o.customer_id = e.customer_id\n",
    "        AND o.entity_id = e.entity_id\n",
    "    LEFT JOIN (\n",
    "        SELECT DISTINCT\n",
    "            p.entity_id,\n",
    "            c.country_name,\n",
    "            c.region,\n",
    "            CASE \n",
    "                WHEN p.brand_name IN (\"Foodora\", \"Foodpanda\", \"Yemeksepeti\") THEN \"Pandora\"\n",
    "                WHEN p.brand_name IN (\"eFood\", \"Foody\") THEN \"GR/CY\"\n",
    "                WHEN p.brand_name = \"PedidosYa\" THEN \"PEYA\"\n",
    "                WHEN p.brand_name = \"Baemin\" THEN \"Woowa\"\n",
    "                WHEN p.brand_name = \"FoodPanda\" THEN \"FP APAC\"\n",
    "                ELSE p.brand_name\n",
    "            END AS brand_name\n",
    "        FROM `fulfillment-dwh-production.cl.countries` c\n",
    "        LEFT JOIN UNNEST(c.platforms) p\n",
    "    ) p\n",
    "    ON e.entity_id = p.entity_id\n",
    "\n",
    "    \"\"\"\n",
    "\n",
    "    return mkt_data\n",
    "\n",
    "\n",
    "def get_dps_data(entities, week):\n",
    "\n",
    "    dps_data = f\"\"\"\n",
    "\n",
    "    WITH holdout_entities AS (\n",
    "    SELECT \n",
    "        entity_id,\n",
    "        MIN(CASE WHEN is_customer_holdout THEN created_date END) AS release_date\n",
    "    FROM `fulfillment-dwh-production.cl.dps_holdout_users` AS d\n",
    "    WHERE \n",
    "        is_customer_holdout = TRUE \n",
    "        AND created_date < '{week}'\n",
    "        AND entity_id in {entities}\n",
    "    GROUP BY entity_id\n",
    "    HAVING COUNT(CASE WHEN is_customer_holdout THEN customer_id END) > 100\n",
    "    ),\n",
    "    orders as (\n",
    "    SELECT\n",
    "         dps.entity_id entity_id\n",
    "        ,dps.dps_customer_id customer_id\n",
    "        ,COUNT(case when dps.created_date <= e.release_date then dps.platform_order_code end) AS orders_pre\n",
    "        ,COUNT(case when dps.created_date > e.release_date then dps.platform_order_code end) AS orders_post\n",
    "        ,SUM(case when dps.created_date <= e.release_date then dps.fully_loaded_gross_profit_eur end) AS analytical_profit_pre\n",
    "        ,SUM(case when dps.created_date > e.release_date then dps.fully_loaded_gross_profit_eur end) AS analytical_profit_post\n",
    "    FROM `fulfillment-dwh-production.cl.dps_sessions_mapped_to_orders` dps\n",
    "    JOIN holdout_entities AS e\n",
    "        ON dps.entity_id = e.entity_id\n",
    "    WHERE dps.created_date >= DATE_SUB(e.release_date, INTERVAL 8 WEEK) \n",
    "        AND dps.created_date < '{week}'\n",
    "        AND dps.platform_order_code IS NOT NULL\n",
    "        AND dps.is_own_delivery\n",
    "        AND dps.is_sent\n",
    "        AND vendor_vertical_parent IN ('Restaurant','restaurant','restaurants')\n",
    "        AND dps.entity_id not in {entities}\n",
    "    GROUP BY 1, 2\n",
    "    ), \n",
    "    customer_information AS (\n",
    "    SELECT\n",
    "            e.entity_id,\n",
    "            e.release_date,\n",
    "            CASE WHEN d.created_date <= e.release_date THEN FALSE ELSE COALESCE(is_customer_holdout, FALSE) END AS is_customer_holdout,\n",
    "            d.customer_id\n",
    "    FROM `fulfillment-dwh-production.cl.dps_holdout_users` AS d\n",
    "    JOIN holdout_entities AS e\n",
    "            ON d.entity_id = e.entity_id\n",
    "    LEFT JOIN `fulfillment-dwh-production.cl._bad_dps_logs_ids` bad_ids\n",
    "        ON d.customer_id = bad_ids.id\n",
    "    WHERE d.created_date BETWEEN '2025-01-01' AND '{week}'\n",
    "        AND d.customer_id IS NOT NULL\n",
    "        AND bad_ids.id IS NULL\n",
    "    GROUP BY 1, 2, 3, 4\n",
    "    )\n",
    "    SELECT \n",
    "        p.brand_name,\n",
    "        e.entity_id,\n",
    "        e.customer_id,\n",
    "        e.is_customer_holdout,\n",
    "        o.orders_pre,\n",
    "        o.orders_post,\n",
    "        o.analytical_profit_pre,\n",
    "        o.analytical_profit_post\n",
    "    FROM customer_information e\n",
    "    LEFT JOIN orders o\n",
    "        ON o.customer_id = e.customer_id\n",
    "        AND o.entity_id = e.entity_id\n",
    "    LEFT JOIN (\n",
    "        SELECT DISTINCT\n",
    "            p.entity_id,\n",
    "            c.country_name,\n",
    "            c.region,\n",
    "            CASE \n",
    "                WHEN p.brand_name IN (\"Foodora\", \"Foodpanda\", \"Yemeksepeti\") THEN \"Pandora\"\n",
    "                WHEN p.brand_name IN (\"eFood\", \"Foody\") THEN \"GR/CY\"\n",
    "                WHEN p.brand_name = \"PedidosYa\" THEN \"PEYA\"\n",
    "                WHEN p.brand_name = \"Baemin\" THEN \"Woowa\"\n",
    "                WHEN p.brand_name = \"FoodPanda\" THEN \"FP APAC\"\n",
    "                ELSE p.brand_name\n",
    "            END AS brand_name\n",
    "        FROM `fulfillment-dwh-production.cl.countries` c\n",
    "        LEFT JOIN UNNEST(c.platforms) p\n",
    "    ) p\n",
    "    ON e.entity_id = p.entity_id\n",
    "\n",
    "    \"\"\"\n",
    "\n",
    "    return dps_data\n",
    "\n",
    "\n",
    "def get_brands():\n",
    "\n",
    "    brand = \"\"\"\n",
    "\n",
    "    select DISTINCT\n",
    "            p.entity_id,\n",
    "            c.country_name,\n",
    "            c.region,\n",
    "            (CASE \n",
    "                WHEN p.brand_name = \"Foodora\" OR p.brand_name = \"Foodpanda\" OR p.brand_name = \"Yemeksepeti\" THEN \"Pandora\"\n",
    "                WHEN p.brand_name = \"eFood\" OR p.brand_name = \"Foody\" THEN \"GR/CY\"\n",
    "                WHEN p.brand_name = \"PedidosYa\" THEN \"PEYA\"\n",
    "                WHEN p.brand_name = \"Baemin\" THEN \"Woowa\"\n",
    "                WHEN p.brand_name = \"FoodPanda\" THEN \"FP APAC\"\n",
    "                ELSE p.brand_name\n",
    "                END) brand_name\n",
    "    from `fulfillment-dwh-production.cl.countries` c\n",
    "    left join unnest(c.platforms) p\n",
    "\n",
    "    \"\"\"\n",
    "\n",
    "    return brand\n",
    "\n",
    "# ------------------------------------------------------------------------------\n",
    "# Data Extraction\n",
    "# ------------------------------------------------------------------------------\n",
    "\n",
    "def initialize_bigquery_client(project_id_pass):\n",
    "   \n",
    "    project_id = project_id_pass \n",
    "\n",
    "    logging.info(f\"Initializing BigQuery client for project: {project_id}\")\n",
    "\n",
    "    if os.getenv(\"GITHUB_ACTIONS\"):\n",
    "        credentials_path = \"/tmp/credentials.json\" \n",
    "    else:\n",
    "        credentials, project = default()  \n",
    "        project_id = project if project else project_id \n",
    "\n",
    "    if os.getenv(\"GITHUB_ACTIONS\") and not os.path.exists(credentials_path):\n",
    "        raise FileNotFoundError(f\"Credentials file not found at {credentials_path}. Make sure to set up authentication in GitHub Actions.\")\n",
    "\n",
    "    if os.getenv(\"GITHUB_ACTIONS\"):\n",
    "        with open(credentials_path, \"r\") as f:\n",
    "            creds_data = json.load(f)\n",
    "\n",
    "        credentials = Credentials.from_authorized_user_info(creds_data)\n",
    "\n",
    "        if credentials.expired and credentials.refresh_token:\n",
    "            credentials.refresh(Request())\n",
    "\n",
    "    try:\n",
    "        client = bigquery.Client(credentials=credentials, project=project_id)\n",
    "        logging.info(f\"BigQuery client initialized successfully for project: {project_id}\")\n",
    "        return client \n",
    "    except Exception as e:\n",
    "        logging.error(f\"Failed to initialize BigQuery client: {e}\")\n",
    "        raise e\n",
    "\n",
    "\n",
    "def get_iso_week_mondays(year, min_date=None, max_date=None):\n",
    "    d = date(year, 1, 4)\n",
    "    d -= timedelta(days=d.weekday())\n",
    "\n",
    "    mondays = []\n",
    "    while d.year <= year or (d.year == year + 1 and d.isocalendar()[1] == 1):\n",
    "        if (\n",
    "            d.isocalendar()[0] == year and\n",
    "            (min_date is None or d > min_date) and\n",
    "            (max_date is None or d <= max_date)\n",
    "        ):\n",
    "            mondays.append(d)\n",
    "        d += timedelta(weeks=1)\n",
    "\n",
    "    return mondays\n",
    "\n",
    "def combined_data(client, mkt, dps):\n",
    "    \n",
    "    try:\n",
    "        mkt_df = client.query(mkt).to_dataframe()\n",
    "    except Exception as e:\n",
    "        logging.error(f\"Error executing marketing data query: {e}\")\n",
    "        mkt_df = pd.DataFrame() \n",
    "\n",
    "    try:\n",
    "        dps_df = client.query(dps).to_dataframe()\n",
    "    except Exception as e:\n",
    "        logging.error(f\"Error executing DPS data query: {e}\")\n",
    "        dps_df = pd.DataFrame()\n",
    "\n",
    "    combined = pd.concat([mkt_df, dps_df], ignore_index=True)\n",
    "\n",
    "    return combined\n",
    "\n",
    "\n",
    "def extract_data(client, mkt_data, dps_data):\n",
    "    \n",
    "    start_time = time.time()\n",
    "    logging.info(f\"start_time: {start_time:.2f}\")\n",
    "\n",
    "    combined_df = combined_data(client,mkt_data, dps_data)\n",
    "    elapsed_time = time.time() - start_time\n",
    "    logging.info(f\"Time to extract and combine data from DB: {elapsed_time:.2f} seconds\")\n",
    "    \n",
    "    return combined_df \n",
    "\n",
    "\n",
    "def get_cumm_data(project,entities, week):\n",
    "\n",
    "    client = initialize_bigquery_client(project)\n",
    "    \n",
    "    final_df = pd.DataFrame()\n",
    "\n",
    "    for w_no in tqdm(week, desc=f'{week} - Week No', position=1):\n",
    "\n",
    "    #for w_no in week:\n",
    "        \n",
    "        print(f\"Querying for week starting {w_no}\")\n",
    "        \n",
    "        tmp = extract_data(client ,get_marketing_data(entities, w_no), get_dps_data(entities,w_no))\n",
    "\n",
    "        # Add the as_of_date column\n",
    "        tmp[\"as_of_date\"] = w_no\n",
    "\n",
    "        # Append to the final dataframe\n",
    "        final_df = pd.concat([final_df, tmp], ignore_index=True)\n",
    "\n",
    "    return final_df\n",
    "\n",
    "\n",
    "# ------------------------------------------------------------------------------\n",
    "# Data Clean Up\n",
    "# ------------------------------------------------------------------------------\n",
    "\n",
    "def fill_nans(df):\n",
    "\n",
    "    df = df.fillna({\n",
    "        'orders_pre': 0,\n",
    "        'orders_post': 0,\n",
    "        'analytical_profit_pre': 0,\n",
    "        'analytical_profit_post': 0,\n",
    "    })\n",
    "\n",
    "    return df\n",
    "\n",
    "def drop_users_with_no_data(df):\n",
    "\n",
    "    mask1 = (\n",
    "        (df['orders_pre'] == 0) &\n",
    "        (df['orders_post'] == 0) &\n",
    "        (df['analytical_profit_pre'] == 0) &\n",
    "        (df['analytical_profit_post'] == 0)\n",
    "    )\n",
    "\n",
    "    mask2 = (\n",
    "        (df['orders_pre'].isna()) &\n",
    "        (df['orders_post'].isna()) &\n",
    "        (df['analytical_profit_pre'].isna()) &\n",
    "        (df['analytical_profit_post'].isna())\n",
    "    ) \n",
    "\n",
    "    df = df[~(mask1 |   mask2)]\n",
    "    \n",
    "    return df\n",
    "\n",
    "def apply_cleanup(df):\n",
    "\n",
    "    #NaN's are converted to 0's where applicable\n",
    "    data_cleaned = fill_nans(df) \n",
    "    \n",
    "    #remove customers with no data in the pre and the post period\n",
    "    raw_data_final = drop_users_with_no_data(data_cleaned)\n",
    "\n",
    "    return raw_data_final\n",
    "\n",
    "# ------------------------------------------------------------------------------\n",
    "# Performing Statistical Analysis\n",
    "# ------------------------------------------------------------------------------\n",
    "\n",
    "\n",
    "## Confidence Intervals for separate groups ##\n",
    "\n",
    "def bootstrap_single_group(\n",
    "    df: pd.DataFrame,\n",
    "    adjusted_metric: str,\n",
    "    n_resamples: int = 1000,\n",
    "    alpha: float = 0.05,\n",
    "    seed: int = 42\n",
    ") -> dict:\n",
    "    \n",
    "    # Drop NaNs for safety\n",
    "    group = df[adjusted_metric].dropna().values\n",
    "\n",
    "    if len(group) == 0:\n",
    "        raise ValueError(f\"No valid data found for metric: {adjusted_metric}\")\n",
    "\n",
    "    # If all values are the same, skip bootstrap\n",
    "    if np.all(group == group[0]):\n",
    "        mean_val = group[0]\n",
    "        return {\n",
    "            \"mean\": round(mean_val, 4),\n",
    "            \"ci\": (round(mean_val, 4), round(mean_val, 4))\n",
    "        }\n",
    "\n",
    "    # Use scipy's bootstrap with percentile CI\n",
    "    res = stats.bootstrap(\n",
    "        (group,),\n",
    "        statistic=np.mean,\n",
    "        n_resamples=n_resamples,\n",
    "        method='percentile',\n",
    "        confidence_level=1 - alpha,\n",
    "        random_state=seed\n",
    "    )\n",
    "\n",
    "    bootstrap_means = res.bootstrap_distribution\n",
    "    ci = res.confidence_interval\n",
    "    mean_val = np.mean(group)\n",
    "    bootstrap_mean = np.mean(bootstrap_means)\n",
    "\n",
    "    return {\n",
    "        \"mean\": round(mean_val, 4),\n",
    "        \"ci\": (round(ci.low, 4), round(ci.high, 4)),\n",
    "        \"bootstrap_mean\": round(bootstrap_mean, 4),\n",
    "        \"bootstrap_means\" : bootstrap_means\n",
    "    }\n",
    "\n",
    "def plot_bootstrap_single_distribution(boot_result: dict, alpha: float = 0.05):\n",
    "    \n",
    "    boot_means = boot_result[\"bootstrap_means\"]\n",
    "    mean_val = boot_result[\"mean\"]\n",
    "    ci_low, ci_high = boot_result[\"ci\"]\n",
    "\n",
    "    plt.figure(figsize=(10, 6))\n",
    "    plt.hist(boot_means, bins=50, edgecolor='black', alpha=0.7)\n",
    "    plt.axvline(mean_val, color='red', linestyle='--', linewidth=2, label=f'Mean: {mean_val}')\n",
    "    plt.axvline(ci_low, color='green', linestyle='--', linewidth=2, label=f'{100*(1-alpha):.0f}% CI Low: {ci_low}')\n",
    "    plt.axvline(ci_high, color='green', linestyle='--', linewidth=2, label=f'{100*(1-alpha):.0f}% CI High: {ci_high}')\n",
    "    \n",
    "    plt.title(\"Bootstrap Distribution of the Mean\")\n",
    "    plt.xlabel(\"Mean Values\")\n",
    "    plt.ylabel(\"Frequency\")\n",
    "    plt.legend()\n",
    "    plt.grid(True)\n",
    "    plt.tight_layout()\n",
    "    plt.show()\n",
    "\n",
    "def plot_bootstrap_comparison_single_group(\n",
    "    result1: dict, label1: str,\n",
    "    result2: dict, label2: str,\n",
    "    alpha: float = 0.05\n",
    "):\n",
    "    plt.figure(figsize=(12, 6))\n",
    "\n",
    "    # Plot 1\n",
    "    plt.hist(result1[\"boot_means\"], bins=50, alpha=0.5, label=f'{label1} Dist', edgecolor='black')\n",
    "    plt.axvline(result1[\"mean\"], color='red', linestyle='--', label=f'{label1} Mean: {result1[\"mean\"]}')\n",
    "    plt.axvline(result1[\"ci\"][0], color='green', linestyle='--', label=f'{label1} CI Low: {result1[\"ci\"][0]}')\n",
    "    plt.axvline(result1[\"ci\"][1], color='green', linestyle='--', label=f'{label1} CI High: {result1[\"ci\"][1]}')\n",
    "\n",
    "    # Plot 2\n",
    "    plt.hist(result2[\"boot_means\"], bins=50, alpha=0.5, label=f'{label2} Dist', edgecolor='black')\n",
    "    plt.axvline(result2[\"mean\"], color='blue', linestyle='--', label=f'{label2} Mean: {result2[\"mean\"]}')\n",
    "    plt.axvline(result2[\"ci\"][0], color='purple', linestyle='--', label=f'{label2} CI Low: {result2[\"ci\"][0]}')\n",
    "    plt.axvline(result2[\"ci\"][1], color='purple', linestyle='--', label=f'{label2} CI High: {result2[\"ci\"][1]}')\n",
    "\n",
    "    plt.title(\"Bootstrap Distribution Comparison\")\n",
    "    plt.xlabel(\"Mean Values\")\n",
    "    plt.ylabel(\"Frequency\")\n",
    "    plt.legend()\n",
    "    plt.grid(True)\n",
    "    plt.tight_layout()\n",
    "    plt.show()\n",
    "\n",
    "\n",
    "def t_confidence_interval(data, alpha=0.05):\n",
    "    \n",
    "    data = np.array(data)\n",
    "    n = len(data)\n",
    "    mean = np.mean(data)\n",
    "    sem = np.std(data, ddof=1) / np.sqrt(n)\n",
    "    t_crit = t.ppf(1 - alpha / 2, df=n - 1)\n",
    "\n",
    "    ci_lower = mean - t_crit * sem\n",
    "    ci_upper = mean + t_crit * sem\n",
    "\n",
    "    return {\n",
    "        \"mean\": round(mean,3),\n",
    "        \"ci\": (round(ci_lower,3), round(ci_upper,3))\n",
    "    }\n",
    "\n",
    "\n",
    "## Confidence Intervals for the Difference in Means of Two Groups ##\n",
    "\n",
    "# def bootstrap_diff_means(df: pd.DataFrame, adjusted_metric: str, n_resamples: int = 500, alpha: float = 0.05, seed: int = 42):\n",
    "    \n",
    "#     np.random.seed(seed)\n",
    "\n",
    "#     # Split the data\n",
    "#     group_a = df[df[\"is_customer_holdout\"] == False][adjusted_metric].values\n",
    "#     group_b = df[df[\"is_customer_holdout\"] == True][adjusted_metric].values\n",
    "\n",
    "#     total_non_holdout = df[df[\"is_customer_holdout\"] == False][adjusted_metric].sum()\n",
    "#     total_holdout = df[df[\"is_customer_holdout\"] == True][adjusted_metric].sum()\n",
    "\n",
    "#     # Unique user counts\n",
    "#     n_users_non_holdout = df[df[\"is_customer_holdout\"] == False][\"customer_id\"].nunique()\n",
    "#     n_users_holdout = df[df[\"is_customer_holdout\"] == True][\"customer_id\"].nunique()\n",
    "\n",
    "#     mean_non_holdout = np.mean(group_a)\n",
    "#     mean_holdout = np.mean(group_b)\n",
    "\n",
    "#     logging.info(\"\")\n",
    "#     res = stats.bootstrap(\n",
    "#         (group_a, group_b),\n",
    "#         statistic=lambda a, b: np.mean(a) - np.mean(b),\n",
    "#         n_resamples=n_resamples,\n",
    "#         method='percentile',\n",
    "#         random_state=seed\n",
    "#     )\n",
    "\n",
    "#     ci = res.confidence_interval\n",
    "#     #boot_diffs = res.bootstrap_distribution\n",
    "\n",
    "#     observed_diff = np.mean(group_a) - np.mean(group_b)\n",
    "\n",
    "#     if mean_holdout != 0:\n",
    "#         pct_diff = observed_diff / mean_holdout\n",
    "#         pct_ci_low = ci.low / mean_holdout\n",
    "#         pct_ci_high = ci.high / mean_holdout\n",
    "#     else:\n",
    "#         pct_diff, pct_ci_low, pct_ci_high = np.nan, np.nan, np.nan\n",
    "\n",
    "#     # Compute two-tailed bootstrap p-value\n",
    "#     #p_value = np.mean(np.abs(boot_diffs - np.mean(boot_diffs)) >= np.abs(observed_diff - np.mean(boot_diffs)))\n",
    "\n",
    "#     bootstrap_ci_lb = round(ci.low, 4)\n",
    "#     bootstrap_ci_ub = round(ci.high, 4)\n",
    "#     #bootstrap_mean = round(np.mean(boot_diffs), 4)\n",
    "\n",
    "#     print(f\"Observed Mean Diff: {observed_diff:.4f}\")\n",
    "#     #print(f\"Bootstrap Mean Diff: {bootstrap_mean}\")\n",
    "#     print(f\"Bootstrap {100*(1-alpha):.0f}% CI: ({bootstrap_ci_lb}, {bootstrap_ci_ub})\")\n",
    "#     #print(f\"Bootstrap P-value: {p_value:.4f}\")\n",
    "#     print(f\"Users: Non-Holdout = {n_users_non_holdout}, Holdout = {n_users_holdout}\")\n",
    "\n",
    "#     return {\n",
    "#         \"observed_diff\": observed_diff,\n",
    "#         \"mean_non_holdout\": mean_non_holdout,\n",
    "#         \"mean_holdout\": mean_holdout,\n",
    "#         \"ci\": (bootstrap_ci_lb, bootstrap_ci_ub),\n",
    "#         \"pct_diff\": pct_diff,\n",
    "#         \"pct_ci\": (round(pct_ci_low, 4), round(pct_ci_high, 4)),\n",
    "#         \"total_non_holdout\": total_non_holdout,\n",
    "#         \"total_holdout\": total_holdout,\n",
    "#         \"n_users_non_holdout\": n_users_non_holdout,\n",
    "#         \"n_users_holdout\": n_users_holdout\n",
    "#     }\n",
    "\n",
    "def bootstrap_diff_means(\n",
    "    df: pd.DataFrame,\n",
    "    adjusted_metric: str,\n",
    "    n_resamples: int = 1000,\n",
    "    alpha: float = 0.05,\n",
    "    seed: int = 42,\n",
    "    store_boot_diffs: bool = False,\n",
    "    verbose: bool = True\n",
    "):\n",
    "    rng = np.random.default_rng(seed)\n",
    "\n",
    "    group_a = df[df[\"is_customer_holdout\"] == False][adjusted_metric].values\n",
    "    group_b = df[df[\"is_customer_holdout\"] == True][adjusted_metric].values\n",
    "\n",
    "    total_non_holdout = group_a.sum()\n",
    "    total_holdout = group_b.sum()\n",
    "\n",
    "    non_holdout = df[~df[\"is_customer_holdout\"]]\n",
    "    holdout = df[df[\"is_customer_holdout\"]]\n",
    "    n_users_non_holdout = non_holdout[\"customer_id\"].nunique()\n",
    "    n_users_holdout = holdout[\"customer_id\"].nunique()\n",
    "\n",
    "    mean_non_holdout = np.mean(group_a)\n",
    "    mean_holdout = np.mean(group_b)\n",
    "\n",
    "    res = stats.bootstrap(\n",
    "        (group_a, group_b),\n",
    "        statistic=lambda a, b: np.mean(a) - np.mean(b),\n",
    "        n_resamples=n_resamples,\n",
    "        method='percentile',\n",
    "        random_state=rng\n",
    "    )\n",
    "\n",
    "    ci = res.confidence_interval\n",
    "    observed_diff = mean_non_holdout - mean_holdout\n",
    "\n",
    "    if np.isclose(mean_holdout, 0):\n",
    "        pct_diff = observed_diff / abs(mean_holdout)\n",
    "        pct_ci_low = ci.low / abs(mean_holdout)\n",
    "        pct_ci_high = ci.high / abs(mean_holdout)\n",
    "    else:\n",
    "        pct_diff = pct_ci_low = pct_ci_high = np.nan\n",
    "\n",
    "    bootstrap_ci_lb = round(ci.low, 4)\n",
    "    bootstrap_ci_ub = round(ci.high, 4)\n",
    "    bootstrap_mean = round(np.mean(res.bootstrap_distribution), 4)\n",
    "\n",
    "\n",
    "    result = {\n",
    "        \"observed_diff\": observed_diff,\n",
    "        \"bootstrap_mean\": bootstrap_mean,\n",
    "        \"mean_non_holdout\": mean_non_holdout,\n",
    "        \"mean_holdout\": mean_holdout,\n",
    "        \"ci\": (bootstrap_ci_lb, bootstrap_ci_ub),\n",
    "        \"pct_diff\": pct_diff,\n",
    "        \"pct_ci\": (round(pct_ci_low, 4), round(pct_ci_high, 4)),\n",
    "        \"total_non_holdout\": total_non_holdout,\n",
    "        \"total_holdout\": total_holdout,\n",
    "        \"n_users_non_holdout\": n_users_non_holdout,\n",
    "        \"n_users_holdout\": n_users_holdout\n",
    "    }\n",
    "\n",
    "    if store_boot_diffs:\n",
    "        result[\"boot_diffs\"] = res.bootstrap_distribution\n",
    "\n",
    "    return result\n",
    "\n",
    "def bootstrap_diff_means_parallel(\n",
    "    df: pd.DataFrame,\n",
    "    adjusted_metric: str,\n",
    "    n_resamples: int = 1000,\n",
    "    alpha: float = 0.05,\n",
    "    seed: int = 42,\n",
    "    store_boot_diffs: bool = False,\n",
    "    n_jobs: int = -1,\n",
    "):\n",
    "    rng = np.random.default_rng(seed)\n",
    "\n",
    "    group_a = df[~df[\"is_customer_holdout\"]][adjusted_metric].values\n",
    "    group_b = df[df[\"is_customer_holdout\"]][adjusted_metric].values\n",
    "\n",
    "    total_non_holdout = group_a.sum()\n",
    "    total_holdout = group_b.sum()\n",
    "\n",
    "    non_holdout = df[~df[\"is_customer_holdout\"]]\n",
    "    holdout = df[df[\"is_customer_holdout\"]]\n",
    "    n_users_non_holdout = non_holdout[\"customer_id\"].nunique()\n",
    "    n_users_holdout = holdout[\"customer_id\"].nunique()\n",
    "\n",
    "    mean_non_holdout = np.mean(group_a)\n",
    "    mean_holdout = np.mean(group_b)\n",
    "    observed_diff = mean_non_holdout - mean_holdout\n",
    "\n",
    "    def single_resample(_):\n",
    "        local_rng = np.random.default_rng(seed + _)\n",
    "\n",
    "        resample_a = local_rng.choice(group_a, size=group_a.shape[0], replace=True)\n",
    "        resample_b = local_rng.choice(group_b, size=group_b.shape[0], replace=True)\n",
    "\n",
    "        return np.mean(resample_a) - np.mean(resample_b)\n",
    "\n",
    "    diffs = Parallel(n_jobs=n_jobs)(\n",
    "        delayed(single_resample)(i) for i in range(n_resamples)\n",
    "    )\n",
    "\n",
    "    diffs = np.array(diffs)\n",
    "    ci_low = np.nanpercentile(diffs, 100 * (alpha / 2))\n",
    "    ci_high = np.nanpercentile(diffs, 100 * (1 - alpha / 2))\n",
    "\n",
    "    if not np.isclose(mean_holdout, 0):\n",
    "        pct_diff = observed_diff / abs(mean_holdout)\n",
    "        pct_ci_low = ci_low / abs(mean_holdout)\n",
    "        pct_ci_high = ci_high / abs(mean_holdout)\n",
    "    else:\n",
    "        pct_diff = pct_ci_low = pct_ci_high = np.nan\n",
    "\n",
    "    result = {\n",
    "        \"observed_diff\": observed_diff,\n",
    "        \"bootstrap_mean\": np.mean(diffs),\n",
    "        \"mean_non_holdout\": mean_non_holdout,\n",
    "        \"mean_holdout\": mean_holdout,\n",
    "        \"ci\": (ci_low, ci_high),\n",
    "        \"pct_diff\": pct_diff,\n",
    "        \"pct_ci\": (pct_ci_low, pct_ci_high),\n",
    "        \"total_non_holdout\": total_non_holdout,\n",
    "        \"total_holdout\": total_holdout,\n",
    "        \"n_users_non_holdout\": n_users_non_holdout,\n",
    "        \"n_users_holdout\": n_users_holdout\n",
    "    }\n",
    "\n",
    "    if store_boot_diffs:\n",
    "        result[\"boot_diffs\"] = diffs\n",
    "\n",
    "    return result\n",
    "\n",
    "\n",
    "def bootstrap_profit_per_order_parallel(\n",
    "    df: pd.DataFrame,\n",
    "    profit_col: str,\n",
    "    orders_col: str,\n",
    "    n_resamples: int = 1000,\n",
    "    alpha: float = 0.05,\n",
    "    seed: int = 42,\n",
    "    n_jobs: int = -1 \n",
    "):\n",
    "    rng = np.random.default_rng(seed)\n",
    "\n",
    "    group_a = df[df[\"is_customer_holdout\"] == False][[profit_col, orders_col]].values\n",
    "    group_b = df[df[\"is_customer_holdout\"] == True][[profit_col, orders_col]].values\n",
    "\n",
    "    total_profit_non_holdout = group_a[:, 0].sum()\n",
    "    total_orders_non_holdout = group_a[:, 1].sum()\n",
    "    total_profit_holdout = group_b[:, 0].sum()\n",
    "    total_orders_holdout = group_b[:, 1].sum()\n",
    "\n",
    "    ratio_non_holdout = total_profit_non_holdout / total_orders_non_holdout if total_orders_non_holdout != 0 else np.nan\n",
    "    ratio_holdout = total_profit_holdout / total_orders_holdout if total_orders_holdout != 0 else np.nan\n",
    "    observed_diff = ratio_non_holdout - ratio_holdout\n",
    "\n",
    "    def single_resample(_):\n",
    "        \n",
    "        local_rng = np.random.default_rng(seed + _)\n",
    "\n",
    "        sample_a_idx = local_rng.integers(0, group_a.shape[0], group_a.shape[0])\n",
    "        sample_b_idx = local_rng.integers(0, group_b.shape[0], group_b.shape[0])\n",
    "\n",
    "        profit_a = group_a[sample_a_idx, 0].sum()\n",
    "        orders_a = group_a[sample_a_idx, 1].sum()\n",
    "        profit_b = group_b[sample_b_idx, 0].sum()\n",
    "        orders_b = group_b[sample_b_idx, 1].sum()\n",
    "\n",
    "        ratio_a = profit_a / orders_a if orders_a != 0 else np.nan\n",
    "        ratio_b = profit_b / orders_b if orders_b != 0 else np.nan\n",
    "\n",
    "        return ratio_a - ratio_b\n",
    "\n",
    "    # ✅ PARALLEL BOOTSTRAPPING\n",
    "    diffs = Parallel(n_jobs=n_jobs)(\n",
    "        delayed(single_resample)(i) for i in range(n_resamples)\n",
    "    )\n",
    "\n",
    "    diffs = np.array(diffs)\n",
    "    ci_low = np.nanpercentile(diffs, 100 * (alpha / 2))\n",
    "    ci_high = np.nanpercentile(diffs, 100 * (1 - alpha / 2))\n",
    "\n",
    "    return {\n",
    "        \"observed_diff\": observed_diff,\n",
    "        \"ci\": (ci_low, ci_high),\n",
    "        \"non_holdout_ratio\": ratio_non_holdout,\n",
    "        \"holdout_ratio\": ratio_holdout\n",
    "    }\n",
    "\n",
    "\n",
    "## applying confidence intervals ##\n",
    "\n",
    "def apply_bootstrap_diff_means(\n",
    "    df: pd.DataFrame,\n",
    "    group_col: str,\n",
    "    adjusted_metrics: list,\n",
    "    n_resamples: int = 1000,\n",
    "    alpha: float = 0.05,\n",
    "    seed: int = 42\n",
    ") -> pd.DataFrame:\n",
    "    \n",
    "    results = []\n",
    "\n",
    "    all_groups = df[group_col].dropna().unique()\n",
    "    all_weeks = sorted(df[\"as_of_date\"].dropna().unique())\n",
    "\n",
    "    for group_val in tqdm(all_groups, desc=f\"{group_col} groups\"):\n",
    "        df_group = df[df[group_col] == group_val]\n",
    "\n",
    "        for week in tqdm(all_weeks, desc=\"Weeks\", leave=False):\n",
    "            df_cumulative = df_group[df_group[\"as_of_date\"] == week]\n",
    "\n",
    "            if df_cumulative[\"is_customer_holdout\"].nunique() < 2:\n",
    "                continue\n",
    "\n",
    "            row = {\n",
    "                group_col: group_val,\n",
    "                \"as_of_date\": week\n",
    "            }\n",
    "\n",
    "            for metric in adjusted_metrics:\n",
    "                if metric not in df_cumulative.columns:\n",
    "                    continue\n",
    "\n",
    "                try:\n",
    "                    result = bootstrap_diff_means_parallel(\n",
    "                        df=df_cumulative,\n",
    "                        adjusted_metric=metric,\n",
    "                        n_resamples=n_resamples,\n",
    "                        alpha=alpha,\n",
    "                        seed=seed\n",
    "                    )\n",
    "\n",
    "                    # Add flattened metric results to row\n",
    "                    row[f\"{metric}_observed_diff\"] = result[\"observed_diff\"]\n",
    "                    row[f\"{metric}_ci_low\"] = result[\"ci\"][0]\n",
    "                    row[f\"{metric}_ci_high\"] = result[\"ci\"][1]\n",
    "                    \n",
    "                    # Absolute uplift = per-user diff × non-holdout user count\n",
    "                    row[f\"{metric}_abs_lift\"] = result[\"observed_diff\"] * result[\"n_users_non_holdout\"]\n",
    "                    row[f\"{metric}_abs_ci_low\"] = result[\"ci\"][0] * result[\"n_users_non_holdout\"]\n",
    "                    row[f\"{metric}_abs_ci_high\"] = result[\"ci\"][1] * result[\"n_users_non_holdout\"]\n",
    "                    \n",
    "                    row[f\"{metric}_pct_diff\"] = result[\"pct_diff\"]\n",
    "                    row[f\"{metric}_pct_ci_low\"] = result[\"pct_ci\"][0]\n",
    "                    row[f\"{metric}_pct_ci_high\"] = result[\"pct_ci\"][1]\n",
    "                    \n",
    "                    row[f\"{metric}_total_non_holdout\"] = result[\"total_non_holdout\"]\n",
    "                    row[f\"{metric}_total_holdout\"] = result[\"total_holdout\"]\n",
    "                                        \n",
    "                    row[f\"{metric}_mean_non_holdout\"] = result[\"mean_non_holdout\"]\n",
    "                    row[f\"{metric}_mean_holdout\"] = result[\"mean_holdout\"]\n",
    "                    #row[f\"{metric}_p_value\"] = result[\"p_value\"]\n",
    "                    row[f\"{metric}_n_users_non_holdout\"] = result[\"n_users_non_holdout\"]\n",
    "                    row[f\"{metric}_n_users_holdout\"] = result[\"n_users_holdout\"]\n",
    "                    # Optionally: remove or comment out if too large\n",
    "                    # row[f\"{metric}_boot_diffs\"] = result[\"boot_diffs\"]\n",
    "\n",
    "                except Exception as e:\n",
    "                    print(f\"Error with {group_col}={group_val}, week={week}, metric={metric}: {e}\")\n",
    "                    continue\n",
    "\n",
    "            print(f\"\\nBrand/Entity: {group_val}\")\n",
    "            print(f\"Week: {week.date()}\")\n",
    "            \n",
    "            results.append(row)\n",
    "            gc.collect()\n",
    "\n",
    "    return pd.DataFrame(results)\n",
    "\n",
    "\n",
    "# def apply_bootstrap_diff_means(\n",
    "#     df: pd.DataFrame,\n",
    "#     group_col: str,\n",
    "#     adjusted_metrics: list,\n",
    "#     n_resamples: int = 1000,\n",
    "#     alpha: float = 0.05,\n",
    "#     seed: int = 42\n",
    "# ) -> pd.DataFrame:\n",
    "    \n",
    "#     results = []\n",
    "\n",
    "#     all_groups = df[group_col].dropna().unique()\n",
    "#     all_weeks = sorted(df[\"as_of_date\"].dropna().unique())\n",
    "\n",
    "#     for group_val in tqdm(all_groups, desc=f\"{group_col} groups\"):\n",
    "#         df_group = df[df[group_col] == group_val]\n",
    "\n",
    "#         for week in tqdm(all_weeks, desc=\"Weeks\", leave=False):\n",
    "#             df_cumulative = df_group[df_group[\"as_of_date\"] == week]\n",
    "\n",
    "#             if df_cumulative[\"is_customer_holdout\"].nunique() < 2:\n",
    "#                 continue\n",
    "\n",
    "#             row = {\n",
    "#                 group_col: group_val,\n",
    "#                 \"as_of_date\": week\n",
    "#             }\n",
    "\n",
    "#             for metric in adjusted_metrics:\n",
    "#                 if metric not in df_cumulative.columns:\n",
    "#                     continue\n",
    "\n",
    "#                 try:\n",
    "#                     result = bootstrap_diff_means_parallel(\n",
    "#                         df=df_cumulative,\n",
    "#                         adjusted_metric=metric,\n",
    "#                         n_resamples=n_resamples,\n",
    "#                         alpha=alpha,\n",
    "#                         seed=seed\n",
    "#                     )\n",
    "\n",
    "#                     # Add flattened metric results to row\n",
    "#                     row[f\"{metric}_observed_diff\"] = result[\"observed_diff\"]\n",
    "#                     row[f\"{metric}_ci_low\"] = result[\"ci\"][0]\n",
    "#                     row[f\"{metric}_ci_high\"] = result[\"ci\"][1]\n",
    "                    \n",
    "#                     # Absolute uplift = per-user diff × non-holdout user count\n",
    "#                     row[f\"{metric}_abs_lift\"] = result[\"observed_diff\"] * result[\"n_users_non_holdout\"]\n",
    "#                     row[f\"{metric}_abs_ci_low\"] = result[\"ci\"][0] * result[\"n_users_non_holdout\"]\n",
    "#                     row[f\"{metric}_abs_ci_high\"] = result[\"ci\"][1] * result[\"n_users_non_holdout\"]\n",
    "                    \n",
    "#                     row[f\"{metric}_pct_diff\"] = result[\"pct_diff\"]\n",
    "#                     row[f\"{metric}_pct_ci_low\"] = result[\"pct_ci\"][0]\n",
    "#                     row[f\"{metric}_pct_ci_high\"] = result[\"pct_ci\"][1]\n",
    "                    \n",
    "#                     row[f\"{metric}_total_non_holdout\"] = result[\"total_non_holdout\"]\n",
    "#                     row[f\"{metric}_total_holdout\"] = result[\"total_holdout\"]\n",
    "#                     row[f\"{metric}_mean_non_holdout\"] = result[\"mean_non_holdout\"]\n",
    "#                     row[f\"{metric}_mean_holdout\"] = result[\"mean_holdout\"]\n",
    "#                     #row[f\"{metric}_p_value\"] = result[\"p_value\"]\n",
    "#                     row[f\"{metric}_n_users_non_holdout\"] = result[\"n_users_non_holdout\"]\n",
    "#                     row[f\"{metric}_n_users_holdout\"] = result[\"n_users_holdout\"]\n",
    "#                     # Optionally: remove or comment out if too large\n",
    "#                     # row[f\"{metric}_boot_diffs\"] = result[\"boot_diffs\"]\n",
    "\n",
    "#                 except Exception as e:\n",
    "#                     print(f\"Error with {group_col}={group_val}, week={week}, metric={metric}: {e}\")\n",
    "#                     continue\n",
    "            \n",
    "#             profit_col = adjusted_metrics[0]\n",
    "#             orders_col = adjusted_metrics[1]\n",
    "\n",
    "#             if profit_col in df_cumulative.columns and orders_col in df_cumulative.columns:\n",
    "#                 try:\n",
    "#                     result_ratio = bootstrap_profit_per_order_parallel(\n",
    "#                         df=df_cumulative,\n",
    "#                         profit_col=profit_col,\n",
    "#                         orders_col=orders_col,\n",
    "#                         n_resamples=n_resamples,\n",
    "#                         alpha=alpha,\n",
    "#                         seed=seed,\n",
    "#                         n_jobs=-1   # ✅ use parallel for profit per order too\n",
    "#                     )\n",
    "\n",
    "#                     row[\"profit_per_order_observed_diff\"] = result_ratio[\"observed_diff\"]\n",
    "#                     row[\"profit_per_order_ci_low\"] = result_ratio[\"ci\"][0]\n",
    "#                     row[\"profit_per_order_ci_high\"] = result_ratio[\"ci\"][1]\n",
    "#                     row[\"profit_per_order_non_holdout\"] = result_ratio[\"non_holdout_ratio\"]\n",
    "#                     row[\"profit_per_order_holdout\"] = result_ratio[\"holdout_ratio\"]\n",
    "\n",
    "#                 except Exception as e:\n",
    "#                     print(f\"Error with profit per order for {group_val}, week={week}: {e}\")\n",
    "\n",
    "#             print(f\"\\nBrand/Entity: {group_val}\")\n",
    "#             print(f\"Week: {week.date()}\")\n",
    "            \n",
    "#             results.append(row)\n",
    "#             gc.collect()\n",
    "\n",
    "#     return pd.DataFrame(results)\n",
    "\n",
    "\n",
    "# def apply_bootstrap_diff_means(\n",
    "#     df: pd.DataFrame,\n",
    "#     group_col: str,\n",
    "#     adjusted_metrics: list,\n",
    "#     n_resamples: int = 500,\n",
    "#     alpha: float = 0.05,\n",
    "#     seed: int = 42\n",
    "# ) -> pd.DataFrame:\n",
    "    \n",
    "#     results = []\n",
    "\n",
    "#     all_groups = df[group_col].dropna().unique()\n",
    "#     all_weeks = sorted(df[\"as_of_date\"].dropna().unique())\n",
    "\n",
    "#     for group_val in tqdm(all_groups, desc=f\"{group_col} groups\"):\n",
    "#         df_group = df[df[group_col] == group_val]\n",
    "\n",
    "#         for week in tqdm(all_weeks, desc=\"Weeks\", leave=False):\n",
    "#             df_cumulative = df_group[df_group[\"as_of_date\"] == week]\n",
    "\n",
    "#             if df_cumulative[\"is_customer_holdout\"].nunique() < 2:\n",
    "#                 continue  # Must have both groups\n",
    "\n",
    "#             for metric in adjusted_metrics:\n",
    "#                 if metric not in df_cumulative.columns:\n",
    "#                     continue  # Skip if metric not available\n",
    "\n",
    "#                 try:\n",
    "#                     result = bootstrap_diff_means(\n",
    "#                         df=df_cumulative,\n",
    "#                         adjusted_metric=metric,\n",
    "#                         n_resamples=n_resamples,\n",
    "#                         alpha=alpha,\n",
    "#                         seed=seed\n",
    "#                     )\n",
    "#                     result.update({\n",
    "#                         group_col: group_val,\n",
    "#                         \"as_of_date\": week,\n",
    "#                         \"adjusted_metric\": metric\n",
    "#                     })\n",
    "#                     results.append(result)\n",
    "#                 except Exception as e:\n",
    "#                     print(f\"Error with {group_col}={group_val}, week={week}, metric={metric}: {e}\")\n",
    "#                     continue\n",
    "\n",
    "#     return pd.DataFrame(results)\n",
    "\n",
    "# def bootstrap_diff_means(df: pd.DataFrame, adjusted_metric: str, n_resamples: int = 5000, alpha: float = 0.05, seed: int = 42):\n",
    "\n",
    "#     np.random.seed(seed)\n",
    "\n",
    "#     # Split the data\n",
    "#     group_a = df[df[\"is_customer_holdout\"] == False][adjusted_metric].values\n",
    "#     group_b = df[df[\"is_customer_holdout\"] == True][adjusted_metric].values\n",
    "\n",
    "#     n_a, n_b = len(group_a), len(group_b)\n",
    "\n",
    "#     # Pre-allocate\n",
    "#     boot_means_a = np.empty(n_resamples)\n",
    "#     boot_means_b = np.empty(n_resamples)\n",
    "#     boot_diffs = np.empty(n_resamples)\n",
    "\n",
    "#     for i in range(n_resamples):\n",
    "#         sample_a = np.random.choice(group_a, n_a, replace=True)\n",
    "#         sample_b = np.random.choice(group_b, n_b, replace=True)\n",
    "#         boot_means_a[i] = np.mean(sample_a)\n",
    "#         boot_means_b[i] = np.mean(sample_b)\n",
    "#         boot_diffs[i] = boot_means_a[i] - boot_means_b[i]\n",
    "\n",
    "#     # Observed\n",
    "#     observed_a = np.mean(group_a)\n",
    "#     observed_b = np.mean(group_b)\n",
    "#     observed_diff = observed_a - observed_b\n",
    "\n",
    "#     # Confidence Intervals\n",
    "#     ci_a = np.percentile(boot_means_a, [100 * alpha / 2, 100 * (1 - alpha / 2)])\n",
    "#     ci_b = np.percentile(boot_means_b, [100 * alpha / 2, 100 * (1 - alpha / 2)])\n",
    "#     ci_diff = np.percentile(boot_diffs, [100 * alpha / 2, 100 * (1 - alpha / 2)])\n",
    "\n",
    "#     # Two-tailed p-value\n",
    "#     p_value = np.mean(np.abs(boot_diffs) >= np.abs(observed_diff))\n",
    "\n",
    "#     # Round for display\n",
    "#     print(f\"Control Mean: {observed_a:.4f}, 95% CI: ({ci_a[0]:.4f}, {ci_a[1]:.4f})\")\n",
    "#     print(f\"Treatment Mean: {observed_b:.4f}, 95% CI: ({ci_b[0]:.4f}, {ci_b[1]:.4f})\")\n",
    "#     print(f\"Observed Mean Diff (Control - Treatment): {observed_diff:.4f}\")\n",
    "#     print(f\"Bootstrap Mean Diff: {np.mean(boot_diffs):.4f}, 95% CI: ({ci_diff[0]:.4f}, {ci_diff[1]:.4f})\")\n",
    "#     print(f\"Bootstrap P-value: {p_value:.4f}\")\n",
    "\n",
    "#     return {\n",
    "#         \"means\": {\n",
    "#             \"control\": observed_a,\n",
    "#             \"treatment\": observed_b\n",
    "#         },\n",
    "#         \"ci\": {\n",
    "#             \"control\": tuple(ci_a),\n",
    "#             \"treatment\": tuple(ci_b),\n",
    "#             \"diff\": tuple(ci_diff)\n",
    "#         },\n",
    "#         \"observed_diff\": observed_diff,\n",
    "#         \"bootstrap_mean_diff\": np.mean(boot_diffs),\n",
    "#         \"p_value\": p_value,\n",
    "#         \"boot_diffs\": boot_diffs\n",
    "#     }\n",
    "\n",
    "\n",
    "def plot_bootstrap_distribution(result_dict):\n",
    "    \n",
    "    diffs = result_dict[\"boot_diffs\"]\n",
    "    observed = result_dict[\"observed_diff\"]\n",
    "    ci_low, ci_high = result_dict[\"ci\"]\n",
    "\n",
    "    plt.figure(figsize=(10, 6))\n",
    "    sns.histplot(diffs, bins=50, kde=True, color=\"skyblue\")\n",
    "\n",
    "    # Plot observed mean difference\n",
    "    plt.axvline(observed, color=\"red\", linestyle=\"solid\", linewidth=2, label=f'Observed Mean Diff ({observed:.4f})')\n",
    "\n",
    "    # Plot confidence interval bounds\n",
    "    plt.axvline(ci_low, color=\"black\", linestyle=\"dotted\", linewidth=2, label=f'Lower CI ({ci_low:.4f})')\n",
    "    plt.axvline(ci_high, color=\"black\", linestyle=\"dotted\", linewidth=2, label=f'Upper CI ({ci_high:.4f})')\n",
    "\n",
    "    plt.title(\"Bootstrap Distribution of Mean Differences\", fontsize=14)\n",
    "    plt.xlabel(\"Mean Difference\", fontsize=12)\n",
    "    plt.ylabel(\"Frequency\", fontsize=12)\n",
    "    plt.legend()\n",
    "    plt.grid(True)\n",
    "    plt.tight_layout()\n",
    "    plt.show()\n",
    "\n",
    "\n",
    "def plot_bootstrap_comparison_differences_in_means(result_dict_1, result_dict_2, label_1=\"Group 1\", label_2=\"Group 2\"):\n",
    "    \n",
    "    diffs_1 = result_dict_1[\"boot_diffs\"]\n",
    "    observed_1 = result_dict_1[\"observed_diff\"]\n",
    "    ci_low_1, ci_high_1 = result_dict_1[\"ci\"]\n",
    "\n",
    "    diffs_2 = result_dict_2[\"boot_diffs\"]\n",
    "    observed_2 = result_dict_2[\"observed_diff\"]\n",
    "    ci_low_2, ci_high_2 = result_dict_2[\"ci\"]\n",
    "\n",
    "    plt.figure(figsize=(12, 7))\n",
    "\n",
    "    # Plot both distributions\n",
    "    sns.histplot(diffs_1, bins=50, kde=True, color=\"skyblue\", label=f'{label_1} Bootstrap', stat=\"density\", alpha=0.6)\n",
    "    sns.histplot(diffs_2, bins=50, kde=True, color=\"orange\", label=f'{label_2} Bootstrap', stat=\"density\", alpha=0.6)\n",
    "\n",
    "    # Observed mean lines\n",
    "    plt.axvline(observed_1, color=\"blue\", linestyle=\"solid\", linewidth=2, label=f'{label_1} Observed ({observed_1:.4f})')\n",
    "    plt.axvline(observed_2, color=\"darkorange\", linestyle=\"solid\", linewidth=2, label=f'{label_2} Observed ({observed_2:.4f})')\n",
    "\n",
    "    # CI bounds\n",
    "    plt.axvline(ci_low_1, color=\"blue\", linestyle=\"dotted\", linewidth=1.5, label=f'{label_1} CI Low ({ci_low_1:.4f})')\n",
    "    plt.axvline(ci_high_1, color=\"blue\", linestyle=\"dotted\", linewidth=1.5, label=f'{label_1} CI High ({ci_high_1:.4f})')\n",
    "\n",
    "    plt.axvline(ci_low_2, color=\"darkorange\", linestyle=\"dotted\", linewidth=1.5, label=f'{label_2} CI Low ({ci_low_2:.4f})')\n",
    "    plt.axvline(ci_high_2, color=\"darkorange\", linestyle=\"dotted\", linewidth=1.5, label=f'{label_2} CI High ({ci_high_2:.4f})')\n",
    "\n",
    "    plt.title(\"Comparison of Bootstrap Distributions\", fontsize=16)\n",
    "    plt.xlabel(\"Mean Difference\", fontsize=13)\n",
    "    plt.ylabel(\"Density\", fontsize=13)\n",
    "    plt.legend()\n",
    "    plt.grid(True)\n",
    "    plt.tight_layout()\n",
    "    plt.show()\n",
    "\n",
    "\n",
    "def welchs_ttest_with_ci(df: pd.DataFrame, adjusted_metric: str, alpha: float = 0.05):\n",
    "    \n",
    "    group_a = df[df[\"is_customer_holdout\"] == False][adjusted_metric].values\n",
    "    group_b = df[df[\"is_customer_holdout\"] == True][adjusted_metric].values\n",
    "\n",
    "    # Means and sizes\n",
    "    mean_a, mean_b = np.mean(group_a), np.mean(group_b)\n",
    "    n_a, n_b = len(group_a), len(group_b)\n",
    "    var_a, var_b = np.var(group_a, ddof=1), np.var(group_b, ddof=1)\n",
    "\n",
    "    # Welch's t-test\n",
    "    t_stat, p_value = ttest_ind(group_a, group_b, equal_var=False)\n",
    "\n",
    "    # Observed difference\n",
    "    observed_diff = mean_a - mean_b\n",
    "\n",
    "    # Standard error of the difference\n",
    "    se_diff = np.sqrt(var_a / n_a + var_b / n_b)\n",
    "\n",
    "    # Degrees of freedom (Welch-Satterthwaite equation)\n",
    "    df_denom = (var_a / n_a + var_b / n_b) ** 2\n",
    "    df_numer = ((var_a / n_a) ** 2) / (n_a - 1) + ((var_b / n_b) ** 2) / (n_b - 1)\n",
    "    df_eff = df_denom / df_numer\n",
    "\n",
    "    # t critical value\n",
    "    t_crit = t.ppf(1 - alpha / 2, df=df_eff)\n",
    "\n",
    "    # Confidence interval\n",
    "    ci_lower = observed_diff - t_crit * se_diff\n",
    "    ci_upper = observed_diff + t_crit * se_diff\n",
    "\n",
    "    mean_holdout = np.mean(group_b)\n",
    "\n",
    "    if mean_holdout != 0:\n",
    "        pct_diff = observed_diff / abs(mean_holdout)\n",
    "        pct_ci_low = ci_lower / abs(mean_holdout)\n",
    "        pct_ci_high = ci_upper / abs(mean_holdout)\n",
    "    else:\n",
    "        pct_diff = pct_ci_low = pct_ci_high = np.nan\n",
    "\n",
    "    return {\n",
    "        \"observed_diff\": observed_diff,\n",
    "        \"t_statistic\": t_stat,\n",
    "        \"p_value\": p_value,\n",
    "        \"ci\": (ci_lower, ci_upper),\n",
    "        \"se\": se_diff,\n",
    "        \"pct_diff\": pct_diff,\n",
    "        \"pct_ci\": (pct_ci_low, pct_ci_high)\n",
    "    }\n",
    "\n",
    "def apply_welchs_diff_means(\n",
    "    df: pd.DataFrame,\n",
    "    group_col: str,\n",
    "    adjusted_metrics: list,\n",
    "    alpha: float = 0.05\n",
    ") -> pd.DataFrame:\n",
    "    \n",
    "    results = []\n",
    "\n",
    "    all_groups = df[group_col].dropna().unique()\n",
    "    all_weeks = sorted(df[\"as_of_date\"].dropna().unique())\n",
    "\n",
    "    for group_val in tqdm(all_groups, desc=f\"{group_col} groups\"):\n",
    "        df_group = df[df[group_col] == group_val]\n",
    "\n",
    "        for week in tqdm(all_weeks, desc=\"Weeks\", leave=False):\n",
    "            df_cumulative = df_group[df_group[\"as_of_date\"] == week]\n",
    "\n",
    "            if df_cumulative[\"is_customer_holdout\"].nunique() < 2:\n",
    "                continue\n",
    "\n",
    "            row = {\n",
    "                group_col: group_val,\n",
    "                \"as_of_date\": week\n",
    "            }\n",
    "\n",
    "            # ✅ initialize summary list\n",
    "            metric_summaries = []\n",
    "\n",
    "            for metric in adjusted_metrics:\n",
    "                if metric not in df_cumulative.columns:\n",
    "                    continue\n",
    "\n",
    "                try:\n",
    "                    result = welchs_ttest_with_ci(\n",
    "                        df=df_cumulative,\n",
    "                        adjusted_metric=metric,\n",
    "                        alpha=alpha\n",
    "                    )\n",
    "\n",
    "                    non_holdout = df_cumulative[df_cumulative[\"is_customer_holdout\"] == False]\n",
    "                    holdout = df_cumulative[df_cumulative[\"is_customer_holdout\"] == True]\n",
    "\n",
    "                    mean_non_holdout = non_holdout[metric].mean()\n",
    "                    mean_holdout = holdout[metric].mean()\n",
    "                    n_users_non_holdout = non_holdout.shape[0]\n",
    "                    n_users_holdout = holdout.shape[0]\n",
    "\n",
    "                    observed_diff = result[\"observed_diff\"]\n",
    "                    ci_low, ci_high = result[\"ci\"]\n",
    "                    pct_diff = result[\"pct_diff\"]\n",
    "                    pct_ci_low, pct_ci_high = result[\"pct_ci\"]\n",
    "                    \n",
    "                    # Assign to row\n",
    "                    row[f\"{metric}_observed_diff\"] = observed_diff\n",
    "                    row[f\"{metric}_ci_low\"] = ci_low\n",
    "                    row[f\"{metric}_ci_high\"] = ci_high\n",
    "                    \n",
    "                    row[f\"{metric}_pct_diff\"] = pct_diff\n",
    "                    row[f\"{metric}_pct_ci_low\"] = pct_ci_low\n",
    "                    row[f\"{metric}_pct_ci_high\"] = pct_ci_high\n",
    "                    \n",
    "                    row[f\"{metric}_se\"] = result[\"se\"]\n",
    "                    row[f\"{metric}_t_statistic\"] = result[\"t_statistic\"]\n",
    "                    row[f\"{metric}_p_value\"] = result[\"p_value\"]\n",
    "                    row[f\"{metric}_mean_non_holdout\"] = mean_non_holdout\n",
    "                    row[f\"{metric}_mean_holdout\"] = mean_holdout\n",
    "                    row[f\"{metric}_n_users_non_holdout\"] = n_users_non_holdout\n",
    "                    row[f\"{metric}_n_users_holdout\"] = n_users_holdout\n",
    "\n",
    "                    # ✅ accumulate summary for printing\n",
    "                    metric_summaries.append(\n",
    "                        f\"{metric}: Diff={observed_diff:.4f}, CI=({ci_low}, {ci_high}), \"\n",
    "                        f\"Users NHO={n_users_non_holdout}, HO={n_users_holdout}\"\n",
    "                    )\n",
    "\n",
    "                except Exception as e:\n",
    "                    print(f\"Error with {group_col}={group_val}, week={week}, metric={metric}: {e}\")\n",
    "                    continue\n",
    "\n",
    "            # ✅ outside metric loop: print all metric summaries\n",
    "            if metric_summaries:\n",
    "                print(f\"\\nBrand/Entity: {group_val}\")\n",
    "                print(f\"Week: {week.date()}\")\n",
    "                print(\"Results:\")\n",
    "                for summary in metric_summaries:\n",
    "                    print(f\"    {summary}\")\n",
    "\n",
    "\n",
    "            results.append(row)\n",
    "\n",
    "    return pd.DataFrame(results)\n",
    "\n",
    "\n",
    "def plot_ttest_distribution(observed_diff, se_diff, ci, alpha=0.05, n_points=1000):\n",
    "    \n",
    "    # Simulate normal distribution around observed_diff\n",
    "    x = np.linspace(observed_diff - 4*se_diff, observed_diff + 4*se_diff, n_points)\n",
    "    y = norm.pdf(x, loc=observed_diff, scale=se_diff)\n",
    "\n",
    "    plt.figure(figsize=(10, 6))\n",
    "    plt.plot(x, y, label=\"Sampling Distribution (Normal)\", color='skyblue')\n",
    "    \n",
    "    # Observed difference\n",
    "    plt.axvline(observed_diff, color='red', linestyle='-', label='Observed Mean Diff')\n",
    "    plt.text(observed_diff, max(y)*0.9, f\"{observed_diff:.4f}\", color='red', ha='center', va='bottom', fontsize=10)\n",
    "\n",
    "    # CI bounds\n",
    "    plt.axvline(ci[0], color='black', linestyle='--', label=f'{100*(1-alpha):.0f}% CI')\n",
    "    plt.axvline(ci[1], color='black', linestyle='--')\n",
    "    plt.text(ci[0], max(y)*0.6, f\"{ci[0]:.4f}\", color='black', ha='right', va='bottom', fontsize=10)\n",
    "    plt.text(ci[1], max(y)*0.6, f\"{ci[1]:.4f}\", color='black', ha='left', va='bottom', fontsize=10)\n",
    "\n",
    "    # Labels and formatting\n",
    "    plt.title(\"Sampling Distribution of Mean Difference (Welch’s t-test)\")\n",
    "    plt.xlabel(\"Mean Difference\")\n",
    "    plt.ylabel(\"Density\")\n",
    "    plt.legend()\n",
    "    plt.grid(True)\n",
    "    plt.tight_layout()\n",
    "    plt.show()\n",
    "\n",
    "\n",
    "## applying CUPED ##\n",
    "\n",
    "\n",
    "# def cuped_adjustment_raw(df, pre_metric, post_metric):\n",
    "    \n",
    "#     theta = np.cov(df[pre_metric], df[post_metric])[0, 1] / np.var(df[pre_metric])\n",
    "#     df[post_metric + '_cuped'] = df[post_metric] - theta * (df[pre_metric] - df[pre_metric].mean())\n",
    "\n",
    "#     return df\n",
    "\n",
    "def cuped_adjustment_raw(df, pre_metric, post_metric):\n",
    "    df = df.copy()  # Avoid SettingWithCopyWarning\n",
    "    mask = df[pre_metric] > 0\n",
    "\n",
    "    pre = df.loc[mask, pre_metric]\n",
    "    post = df.loc[mask, post_metric]\n",
    "\n",
    "    if pre.var() == 0:\n",
    "        df[post_metric + '_cuped'] = df[post_metric]\n",
    "        return df\n",
    "\n",
    "    theta = np.cov(pre, post)[0, 1] / pre.var()\n",
    "    df.loc[mask, post_metric + '_cuped'] = post - theta * (pre - pre.mean())\n",
    "    df[post_metric + '_cuped'] = df[post_metric + '_cuped'].fillna(df[post_metric])\n",
    "\n",
    "    return df\n",
    "\n",
    "\n",
    "def apply_cuped_adjustment(df, pre_post_metric_pairs):\n",
    "    \n",
    "    final_df = pd.DataFrame()\n",
    "\n",
    "    entities = df['entity_id'].dropna().unique()\n",
    "    weeks = df['as_of_date'].dropna().unique()\n",
    "\n",
    "    entity_loop = tqdm(entities, desc='Entities', position=0)\n",
    "    for entity_id in entity_loop:\n",
    "        tmp_entity = df[df['entity_id'] == entity_id]\n",
    "\n",
    "        week_loop = tqdm(weeks, desc='Weeks', position=1, leave=False)\n",
    "        for as_of_date in week_loop:\n",
    "            tmp_week = tmp_entity[tmp_entity['as_of_date'] == as_of_date].copy()\n",
    "            tmp_week[\"as_of_date\"] = pd.to_datetime(tmp_week[\"as_of_date\"])\n",
    "\n",
    "            for holdout_flag in [True, False]:\n",
    "                group_label = 'Holdout' if holdout_flag else 'Non-holdout'\n",
    "                tmp_group = tmp_week[tmp_week['is_customer_holdout'] == holdout_flag]\n",
    "\n",
    "                if tmp_group.empty:\n",
    "                    continue\n",
    "\n",
    "                tqdm.write(f\"[{group_label}] Processing Entity: {entity_id}, Week: {as_of_date}\")\n",
    "\n",
    "                for pre_metric, post_metric in pre_post_metric_pairs:\n",
    "                    try:\n",
    "                        tmp_group = cuped_adjustment_raw(tmp_group, pre_metric, post_metric)\n",
    "                    except Exception as e:\n",
    "                        tqdm.write(f\"⚠️ Error in CUPED for Entity {entity_id}, Week {as_of_date}: {e}\")\n",
    "                        continue\n",
    "\n",
    "                final_df = pd.concat([final_df, tmp_group], ignore_index=True)\n",
    "\n",
    "    return final_df\n",
    "\n",
    "\n",
    "# def apply_cuped_adjustment(df, entities, weeks, pre_post_metric_pairs):\n",
    "    \n",
    "#     final_df = pd.DataFrame()\n",
    "\n",
    "#     for holdout_flag in [True, False]:\n",
    "#         group_label = 'Holdout' if holdout_flag else 'Non-holdout'\n",
    "#         df_subset = df[df['is_customer_holdout'] == holdout_flag]\n",
    "\n",
    "#         entity_loop = tqdm(entities, desc=f'{group_label} - Entities', position=0)\n",
    "#         for entity_id in entity_loop:\n",
    "#             tmp = df_subset[df_subset['entity_id'] == entity_id]\n",
    "\n",
    "#             week_loop = tqdm(weeks, desc=f'{group_label} - Weeks', position=1, leave=False)\n",
    "#             for as_of_date in week_loop:\n",
    "#                 tqdm.write(f\"[{group_label}] Processing Entity: {entity_id}, Week: {as_of_date}\")\n",
    "\n",
    "#                 tmp2 = tmp[tmp['as_of_date'] == as_of_date].copy()\n",
    "#                 tmp2[\"as_of_date\"] = pd.to_datetime(tmp2[\"as_of_date\"])\n",
    "\n",
    "#                 for pre_metric, post_metric in pre_post_metric_pairs:\n",
    "#                     try:\n",
    "#                         tmp2 = cuped_adjustment_raw(tmp2, pre_metric, post_metric)\n",
    "#                     except Exception as e:\n",
    "#                         tqdm.write(f\"⚠️ Error in CUPED for Entity {entity_id}, Week {as_of_date}: {e}\")\n",
    "#                         continue\n",
    "\n",
    "#                 final_df = pd.concat([final_df, tmp2], ignore_index=True)\n",
    "\n",
    "#     return final_df\n",
    "\n",
    "\n",
    "\n",
    "# def apply_cuped_adjustment(df, entities, weeks, pre_post_metric_pairs):\n",
    "    \n",
    "#     final_df = pd.DataFrame()\n",
    "\n",
    "#     for holdout_flag in [True, False]:\n",
    "#         group_label = 'Holdout' if holdout_flag else 'Non-holdout'\n",
    "#         df_subset = df[df['is_customer_holdout'] == holdout_flag]\n",
    "\n",
    "#         for entity_id in tqdm(entities, desc=f'{group_label} - Entities', position=1):\n",
    "#             tmp = df_subset[df_subset['entity_id'] == entity_id]\n",
    "\n",
    "#             for as_of_date in tqdm(weeks, desc=f'{group_label} - Weeks', leave=False, position=2):\n",
    "#                 tmp2 = tmp[tmp['as_of_date'] == as_of_date].copy()\n",
    "#                 tmp2[\"as_of_date\"] = pd.to_datetime(tmp2[\"as_of_date\"])\n",
    "\n",
    "#                 for pre_metric, post_metric in pre_post_metric_pairs:\n",
    "#                     tmp2 = cuped_adjustment_raw(tmp2, pre_metric, post_metric)\n",
    "\n",
    "#                 final_df = pd.concat([final_df, tmp2], ignore_index=True)\n",
    "\n",
    "#     return final_df\n",
    "\n",
    "# def cuped_adjustment(df, pre_metric_profit, post_metric_profit,  pre_metric_orders, post_metric_orders):\n",
    "    \n",
    "#     theta_flgp = np.cov(df[pre_metric_profit], df[post_metric_profit])[0, 1] / np.var(df[pre_metric_profit])\n",
    "#     df[post_metric_profit + '_cuped'] = df[post_metric_profit] - theta_flgp * (df[pre_metric_profit] - df[pre_metric_profit].mean())\n",
    "\n",
    "#     theta_orders = np.cov(df[pre_metric_orders], df[post_metric_orders])[0, 1] / np.var(df[pre_metric_orders])\n",
    "#     df[post_metric_orders + '_cuped'] = df[post_metric_orders] - theta_orders * (df[pre_metric_orders] - df[pre_metric_orders].mean())\n",
    "\n",
    "#     return df\n",
    "\n",
    "\n",
    "# def apply_cuped_adjustment(df, entities, week):\n",
    "    \n",
    "#     final_df = pd.DataFrame()\n",
    "\n",
    "#     for holdout_flag in [True, False]:\n",
    "        \n",
    "#         group_label = 'Holdout' if holdout_flag else 'Non-holdout'\n",
    "        \n",
    "#         df_subset = df[df['is_customer_holdout'] == holdout_flag]\n",
    "\n",
    "#         for i in tqdm(entities, desc=f'{group_label} - Entities', position=1):\n",
    "#             tmp = df_subset[df_subset['entity_id'] == i]\n",
    "\n",
    "#             for j in tqdm(week, desc=f'{group_label} - Weeks', leave=False, position=2):\n",
    "#                 tmp2 = tmp[tmp['as_of_date'] == j]\n",
    "#                 tmp2[\"as_of_date\"] = pd.to_datetime(tmp2[\"as_of_date\"])\n",
    "\n",
    "#                 adjusted = cuped_adjustment(\n",
    "#                     tmp2,\n",
    "#                     \"analytical_profit_pre\",\n",
    "#                     \"analytical_profit_post\",\n",
    "#                     \"orders_pre\",\n",
    "#                     \"orders_post\"\n",
    "#                 )\n",
    "                \n",
    "#                 final_df = pd.concat([final_df, adjusted], ignore_index=True)\n",
    "\n",
    "#     return final_df\n",
    "\n",
    "\n",
    "# ------------------------------------------------------------------------------\n",
    "# Data Storage Cloud Bucket\n",
    "# ------------------------------------------------------------------------------\n",
    "\n",
    "\n",
    "def upload_parquet_to_gcs(df, bucket, destination_blob, overwrite=True):\n",
    "    \n",
    "    parquet_buffer = io.BytesIO()\n",
    "    \n",
    "    try:\n",
    "        # Check if the blob (file) already exists in GCS\n",
    "        blob = bucket.blob(destination_blob)\n",
    "        if blob.exists() and not overwrite:\n",
    "            logging.info(f\"⚠️ File already exists at {destination_blob}. Skipping upload due to overwrite=False.\")\n",
    "            return\n",
    "\n",
    "        # Convert DataFrame to parquet and upload\n",
    "        df.to_parquet(parquet_buffer, engine=\"fastparquet\", index=False)\n",
    "        parquet_buffer.seek(0)\n",
    "\n",
    "        blob.upload_from_file(parquet_buffer, content_type=\"application/octet-stream\")\n",
    "        logging.info(f\"✅ Data uploaded to GCS at {destination_blob} {'(overwritten)' if overwrite else ''}\")\n",
    "\n",
    "    except Exception as e:\n",
    "        logging.error(f\"❌ Error uploading Parquet to GCS: {e}\")\n",
    "\n",
    "\n",
    "def store_data_cloud(df, week):\n",
    "\n",
    "    #Configuration\n",
    "    GCS_BUCKET_NAME = \"holdout_data\"\n",
    "    PROJECT_ID = \"logistics-data-storage-staging\"\n",
    "\n",
    "    #Initialize Google Cloud clients\n",
    "    storage_client = storage.Client(project=PROJECT_ID)\n",
    "    bigquery_client = bigquery.Client(project=PROJECT_ID)\n",
    "    bucket = storage_client.bucket(GCS_BUCKET_NAME)\n",
    "   \n",
    "    for i in tqdm(week, desc= 'Week', position=0):\n",
    "    \n",
    "        GCS_PARQUET_PATH = \"parquet_files/cuped_holdout_as_of_\" + str(i) + \".parquet\"  \n",
    "        \n",
    "        df = df[df['as_of_date'] == i]\n",
    "\n",
    "        upload_parquet_to_gcs(df, bucket, GCS_PARQUET_PATH, overwrite=True)\n",
    "\n",
    "\n",
    "# ------------------------------------------------------------------------------\n",
    "# Testing Functions\n",
    "# ------------------------------------------------------------------------------\n",
    "\n",
    "\n",
    "def CI_comparison_single(df, metric, entity, holdout=True):\n",
    "    \n",
    "    filtered_df = df[(df[\"is_customer_holdout\"] == holdout) & (df[\"entity_id\"] == entity)]\n",
    "\n",
    "    if len(filtered_df) < 2:\n",
    "        logging.warning(f\"Not enough data for entity '{entity}' and holdout={holdout}. Rows: {len(filtered_df)}\")\n",
    "        return None\n",
    "\n",
    "    CI_bootstrap = bootstrap_single_group(filtered_df, metric)   \n",
    "    CI_t_interval = t_confidence_interval(filtered_df[metric])\n",
    "\n",
    "    return CI_bootstrap, CI_t_interval\n",
    "\n",
    "\n",
    "def CI_comparison_differences(df, metric, entity):\n",
    "\n",
    "    filtered_df = df[df['entity_id'] == entity]\n",
    "\n",
    "    CI_bootstrap = bootstrap_diff_means(filtered_df, metric)\n",
    "    CI_welch = welchs_ttest_with_ci(filtered_df, metric)\n",
    "\n",
    "    return CI_bootstrap, CI_welch\n",
    "\n"
   ]
  },
  {
   "cell_type": "code",
   "execution_count": 3,
   "metadata": {},
   "outputs": [
    {
     "ename": "FileNotFoundError",
     "evalue": "[Errno 2] No such file or directory: '/Users/shazeb.asad/global_pricing/team/Shazeb/Holdout_group/.holdout_data_latest_cuped.pkl'",
     "output_type": "error",
     "traceback": [
      "\u001b[31m---------------------------------------------------------------------------\u001b[39m",
      "\u001b[31mFileNotFoundError\u001b[39m                         Traceback (most recent call last)",
      "\u001b[36mCell\u001b[39m\u001b[36m \u001b[39m\u001b[32mIn[3]\u001b[39m\u001b[32m, line 50\u001b[39m\n\u001b[32m     44\u001b[39m pre_post_metrics = [\n\u001b[32m     45\u001b[39m (\u001b[33m\"\u001b[39m\u001b[33manalytical_profit_pre\u001b[39m\u001b[33m\"\u001b[39m, \u001b[33m\"\u001b[39m\u001b[33manalytical_profit_post\u001b[39m\u001b[33m\"\u001b[39m),\n\u001b[32m     46\u001b[39m (\u001b[33m\"\u001b[39m\u001b[33morders_pre\u001b[39m\u001b[33m\"\u001b[39m, \u001b[33m\"\u001b[39m\u001b[33morders_post\u001b[39m\u001b[33m\"\u001b[39m)\n\u001b[32m     47\u001b[39m ]\n\u001b[32m     49\u001b[39m \u001b[38;5;66;03m#raw_cuped_cumm_df = apply_cuped_adjustment(cleaned_cumm_df, pre_post_metrics)\u001b[39;00m\n\u001b[32m---> \u001b[39m\u001b[32m50\u001b[39m raw_cuped_cumm_df = \u001b[43mpd\u001b[49m\u001b[43m.\u001b[49m\u001b[43mread_pickle\u001b[49m\u001b[43m(\u001b[49m\u001b[33;43m\"\u001b[39;49m\u001b[33;43m/Users/shazeb.asad/global_pricing/team/Shazeb/Holdout_group/.holdout_data_latest_cuped.pkl\u001b[39;49m\u001b[33;43m\"\u001b[39;49m\u001b[43m)\u001b[49m\n\u001b[32m     52\u001b[39m \u001b[38;5;66;03m# ------------------------------------------------------------------------------\u001b[39;00m\n\u001b[32m     53\u001b[39m \u001b[38;5;66;03m# Store CUPED adjusted raw data in big query buckets and in a table\u001b[39;00m\n\u001b[32m     54\u001b[39m \u001b[38;5;66;03m# ------------------------------------------------------------------------------\u001b[39;00m\n\u001b[32m   (...)\u001b[39m\u001b[32m     65\u001b[39m \u001b[38;5;66;03m# Calculate CI \u001b[39;00m\n\u001b[32m     66\u001b[39m \u001b[38;5;66;03m# ------------------------------------------------------------------------------\u001b[39;00m\n\u001b[32m     68\u001b[39m adjusted_metrics = [\n\u001b[32m     69\u001b[39m \u001b[33m\"\u001b[39m\u001b[33manalytical_profit_post_cuped\u001b[39m\u001b[33m\"\u001b[39m, \u001b[33m\"\u001b[39m\u001b[33morders_post_cuped\u001b[39m\u001b[33m\"\u001b[39m\n\u001b[32m     70\u001b[39m ]\n",
      "\u001b[36mFile \u001b[39m\u001b[32m~/global_pricing/venv_bayesian/lib/python3.13/site-packages/pandas/io/pickle.py:185\u001b[39m, in \u001b[36mread_pickle\u001b[39m\u001b[34m(filepath_or_buffer, compression, storage_options)\u001b[39m\n\u001b[32m    123\u001b[39m \u001b[38;5;250m\u001b[39m\u001b[33;03m\"\"\"\u001b[39;00m\n\u001b[32m    124\u001b[39m \u001b[33;03mLoad pickled pandas object (or any object) from file.\u001b[39;00m\n\u001b[32m    125\u001b[39m \n\u001b[32m   (...)\u001b[39m\u001b[32m    182\u001b[39m \u001b[33;03m4    4    9\u001b[39;00m\n\u001b[32m    183\u001b[39m \u001b[33;03m\"\"\"\u001b[39;00m\n\u001b[32m    184\u001b[39m excs_to_catch = (\u001b[38;5;167;01mAttributeError\u001b[39;00m, \u001b[38;5;167;01mImportError\u001b[39;00m, \u001b[38;5;167;01mModuleNotFoundError\u001b[39;00m, \u001b[38;5;167;01mTypeError\u001b[39;00m)\n\u001b[32m--> \u001b[39m\u001b[32m185\u001b[39m \u001b[38;5;28;01mwith\u001b[39;00m \u001b[43mget_handle\u001b[49m\u001b[43m(\u001b[49m\n\u001b[32m    186\u001b[39m \u001b[43m    \u001b[49m\u001b[43mfilepath_or_buffer\u001b[49m\u001b[43m,\u001b[49m\n\u001b[32m    187\u001b[39m \u001b[43m    \u001b[49m\u001b[33;43m\"\u001b[39;49m\u001b[33;43mrb\u001b[39;49m\u001b[33;43m\"\u001b[39;49m\u001b[43m,\u001b[49m\n\u001b[32m    188\u001b[39m \u001b[43m    \u001b[49m\u001b[43mcompression\u001b[49m\u001b[43m=\u001b[49m\u001b[43mcompression\u001b[49m\u001b[43m,\u001b[49m\n\u001b[32m    189\u001b[39m \u001b[43m    \u001b[49m\u001b[43mis_text\u001b[49m\u001b[43m=\u001b[49m\u001b[38;5;28;43;01mFalse\u001b[39;49;00m\u001b[43m,\u001b[49m\n\u001b[32m    190\u001b[39m \u001b[43m    \u001b[49m\u001b[43mstorage_options\u001b[49m\u001b[43m=\u001b[49m\u001b[43mstorage_options\u001b[49m\u001b[43m,\u001b[49m\n\u001b[32m    191\u001b[39m \u001b[43m\u001b[49m\u001b[43m)\u001b[49m \u001b[38;5;28;01mas\u001b[39;00m handles:\n\u001b[32m    192\u001b[39m     \u001b[38;5;66;03m# 1) try standard library Pickle\u001b[39;00m\n\u001b[32m    193\u001b[39m     \u001b[38;5;66;03m# 2) try pickle_compat (older pandas version) to handle subclass changes\u001b[39;00m\n\u001b[32m    194\u001b[39m     \u001b[38;5;66;03m# 3) try pickle_compat with latin-1 encoding upon a UnicodeDecodeError\u001b[39;00m\n\u001b[32m    196\u001b[39m     \u001b[38;5;28;01mtry\u001b[39;00m:\n\u001b[32m    197\u001b[39m         \u001b[38;5;66;03m# TypeError for Cython complaints about object.__new__ vs Tick.__new__\u001b[39;00m\n\u001b[32m    198\u001b[39m         \u001b[38;5;28;01mtry\u001b[39;00m:\n",
      "\u001b[36mFile \u001b[39m\u001b[32m~/global_pricing/venv_bayesian/lib/python3.13/site-packages/pandas/io/common.py:882\u001b[39m, in \u001b[36mget_handle\u001b[39m\u001b[34m(path_or_buf, mode, encoding, compression, memory_map, is_text, errors, storage_options)\u001b[39m\n\u001b[32m    873\u001b[39m         handle = \u001b[38;5;28mopen\u001b[39m(\n\u001b[32m    874\u001b[39m             handle,\n\u001b[32m    875\u001b[39m             ioargs.mode,\n\u001b[32m   (...)\u001b[39m\u001b[32m    878\u001b[39m             newline=\u001b[33m\"\u001b[39m\u001b[33m\"\u001b[39m,\n\u001b[32m    879\u001b[39m         )\n\u001b[32m    880\u001b[39m     \u001b[38;5;28;01melse\u001b[39;00m:\n\u001b[32m    881\u001b[39m         \u001b[38;5;66;03m# Binary mode\u001b[39;00m\n\u001b[32m--> \u001b[39m\u001b[32m882\u001b[39m         handle = \u001b[38;5;28;43mopen\u001b[39;49m\u001b[43m(\u001b[49m\u001b[43mhandle\u001b[49m\u001b[43m,\u001b[49m\u001b[43m \u001b[49m\u001b[43mioargs\u001b[49m\u001b[43m.\u001b[49m\u001b[43mmode\u001b[49m\u001b[43m)\u001b[49m\n\u001b[32m    883\u001b[39m     handles.append(handle)\n\u001b[32m    885\u001b[39m \u001b[38;5;66;03m# Convert BytesIO or file objects passed with an encoding\u001b[39;00m\n",
      "\u001b[31mFileNotFoundError\u001b[39m: [Errno 2] No such file or directory: '/Users/shazeb.asad/global_pricing/team/Shazeb/Holdout_group/.holdout_data_latest_cuped.pkl'"
     ]
    }
   ],
   "source": [
    "if __name__ == \"__main__\":\n",
    "\n",
    "    # ------------------------------------------------------------------------------\n",
    "    # GET DATA FROM DB\n",
    "    # ------------------------------------------------------------------------------\n",
    "\n",
    "    ## extract cummulative data for entities YTD ##\n",
    "    \n",
    "    # list of weeks \n",
    "    today = date.today()\n",
    "    this_monday = today - timedelta(days=today.weekday())\n",
    "\n",
    "    week_mondays = get_iso_week_mondays(2025, min_date=date(2025,5, 5), max_date=this_monday)\n",
    "    \n",
    "    # list of entities\n",
    "    \n",
    "    # entities = tuple(set(('FP_PK','PY_DO','PY_BO', 'FP_TW', 'PY_PY', 'DJ_CZ', 'PY_EC',\n",
    "    # 'MJM_AT' ,'PY_PE', 'PY_AR' ,'PY_GT','PY_SV' ,'FP_PH','PY_NI' ,'NP_HU' ,'FP_MM','EF_GR' ,\n",
    "    # 'AP_PA' ,'YS_TR', 'PY_UY' ,'OP_SE' ,'PY_CL' ,'FP_BD' ,'FP_SG' ,'FO_NO' ,'PY_CR', 'FP_LA',\n",
    "    # 'PY_HN', 'FP_MY' ,'FP_TH', 'FY_CY', 'PY_VE','PO_FI','TB_QA','TB_OM',\n",
    "    # 'TB_KW','TB_JO','TB_IQ','TB_BH','TB_AE','HS_SA','FP_HK')))\n",
    "\n",
    "    entities = (\n",
    "        'FP_PK','PY_DO'\n",
    "    )\n",
    "    \n",
    "    project = \"logistics-customer-staging\"\n",
    "\n",
    "    #raw_cumm_df = get_cumm_data(project, entities, week_mondays)\n",
    "\n",
    "    # ------------------------------------------------------------------------------\n",
    "    # CLEAN DATA\n",
    "    # ------------------------------------------------------------------------------\n",
    "\n",
    "    #logging.info(f\"length of dataframe before cleanup: {len(raw_cumm_df)}\")\n",
    "    #cleaned_cumm_df = apply_cleanup(raw_cumm_df)\n",
    "    #logging.info(f\"length of dataframe after cleanup: {len(cleaned_cumm_df)}\")\n",
    "\n",
    "\n",
    "    # ------------------------------------------------------------------------------\n",
    "    # CUPED ADJUSTED DATA\n",
    "    # ------------------------------------------------------------------------------\n",
    "\n",
    "    pre_post_metrics = [\n",
    "    (\"analytical_profit_pre\", \"analytical_profit_post\"),\n",
    "    (\"orders_pre\", \"orders_post\")\n",
    "    ]\n",
    "    \n",
    "    #raw_cuped_cumm_df = apply_cuped_adjustment(cleaned_cumm_df, pre_post_metrics)\n",
    "    raw_cuped_cumm_df = pd.read_pickle(\"/Users/shazeb.asad/global_pricing/team/Shazeb/Holdout_group/.holdout_data_latest_cuped.pkl\")\n",
    "\n",
    "    # ------------------------------------------------------------------------------\n",
    "    # Store CUPED adjusted raw data in big query buckets and in a table\n",
    "    # ------------------------------------------------------------------------------\n",
    "\n",
    "    #store_data_cloud(cleaned_cumm_df, week_mondays)\n",
    "\n",
    "    # ------------------------------------------------------------------------------\n",
    "    # Comparison of Bootstrapped CI and t-test CI\n",
    "    # ------------------------------------------------------------------------------\n",
    "\n",
    "    #CI_comparison_single(raw_cuped_cumm_df, \"orders_post_cuped\",\"PY_DO\", holdout = True)\n",
    "\n",
    "    # ------------------------------------------------------------------------------\n",
    "    # Calculate CI \n",
    "    # ------------------------------------------------------------------------------\n",
    "\n",
    "    adjusted_metrics = [\n",
    "    \"analytical_profit_post_cuped\", \"orders_post_cuped\"\n",
    "    ]\n",
    "\n",
    "    #a = raw_cuped_cumm_df[raw_cuped_cumm_df['entity_id'] == \"DJ_CZ\"]\n",
    "    #boostrapped_df = apply_bootstrap_diff_means(raw_cuped_cumm_df, \"entity_id\",  adjusted_metrics, n_resamples = 500, alpha = 0.05, seed = 42)\n",
    "\n",
    "\n",
    "    # ------------------------------------------------------------------------------\n",
    "    # Calculate Proftiable Growth\n",
    "    # ------------------------------------------------------------------------------\n",
    "\n",
    "    "
   ]
  },
  {
   "cell_type": "code",
   "execution_count": 57,
   "metadata": {},
   "outputs": [
    {
     "data": {
      "text/html": [
       "<div>\n",
       "<style scoped>\n",
       "    .dataframe tbody tr th:only-of-type {\n",
       "        vertical-align: middle;\n",
       "    }\n",
       "\n",
       "    .dataframe tbody tr th {\n",
       "        vertical-align: top;\n",
       "    }\n",
       "\n",
       "    .dataframe thead th {\n",
       "        text-align: right;\n",
       "    }\n",
       "</style>\n",
       "<table border=\"1\" class=\"dataframe\">\n",
       "  <thead>\n",
       "    <tr style=\"text-align: right;\">\n",
       "      <th></th>\n",
       "      <th>brand_name</th>\n",
       "      <th>as_of_date</th>\n",
       "      <th>analytical_profit_post_cuped_observed_diff</th>\n",
       "      <th>analytical_profit_post_cuped_ci_low</th>\n",
       "      <th>analytical_profit_post_cuped_ci_high</th>\n",
       "      <th>analytical_profit_post_cuped_pct_diff</th>\n",
       "      <th>analytical_profit_post_cuped_pct_ci_low</th>\n",
       "      <th>analytical_profit_post_cuped_pct_ci_high</th>\n",
       "      <th>analytical_profit_post_cuped_se</th>\n",
       "      <th>analytical_profit_post_cuped_t_statistic</th>\n",
       "      <th>...</th>\n",
       "      <th>orders_post_cuped_pct_diff</th>\n",
       "      <th>orders_post_cuped_pct_ci_low</th>\n",
       "      <th>orders_post_cuped_pct_ci_high</th>\n",
       "      <th>orders_post_cuped_se</th>\n",
       "      <th>orders_post_cuped_t_statistic</th>\n",
       "      <th>orders_post_cuped_p_value</th>\n",
       "      <th>orders_post_cuped_mean_non_holdout</th>\n",
       "      <th>orders_post_cuped_mean_holdout</th>\n",
       "      <th>orders_post_cuped_n_users_non_holdout</th>\n",
       "      <th>orders_post_cuped_n_users_holdout</th>\n",
       "    </tr>\n",
       "  </thead>\n",
       "  <tbody>\n",
       "    <tr>\n",
       "      <th>0</th>\n",
       "      <td>Talabat</td>\n",
       "      <td>2025-05-05</td>\n",
       "      <td>0.611234</td>\n",
       "      <td>0.445730</td>\n",
       "      <td>0.776737</td>\n",
       "      <td>0.029149</td>\n",
       "      <td>0.021256</td>\n",
       "      <td>0.037042</td>\n",
       "      <td>0.084442</td>\n",
       "      <td>7.238530</td>\n",
       "      <td>...</td>\n",
       "      <td>0.015133</td>\n",
       "      <td>0.010234</td>\n",
       "      <td>0.020032</td>\n",
       "      <td>0.026349</td>\n",
       "      <td>6.053999</td>\n",
       "      <td>1.415181e-09</td>\n",
       "      <td>10.700324</td>\n",
       "      <td>10.540809</td>\n",
       "      <td>10517537</td>\n",
       "      <td>213227</td>\n",
       "    </tr>\n",
       "    <tr>\n",
       "      <th>1</th>\n",
       "      <td>PEYA</td>\n",
       "      <td>2025-05-05</td>\n",
       "      <td>0.250919</td>\n",
       "      <td>0.191243</td>\n",
       "      <td>0.310595</td>\n",
       "      <td>0.030092</td>\n",
       "      <td>0.022935</td>\n",
       "      <td>0.037249</td>\n",
       "      <td>0.030447</td>\n",
       "      <td>8.241077</td>\n",
       "      <td>...</td>\n",
       "      <td>0.016452</td>\n",
       "      <td>0.011866</td>\n",
       "      <td>0.021038</td>\n",
       "      <td>0.012740</td>\n",
       "      <td>7.031718</td>\n",
       "      <td>2.044832e-12</td>\n",
       "      <td>5.534631</td>\n",
       "      <td>5.445049</td>\n",
       "      <td>12864330</td>\n",
       "      <td>260758</td>\n",
       "    </tr>\n",
       "    <tr>\n",
       "      <th>2</th>\n",
       "      <td>Pandora</td>\n",
       "      <td>2025-05-05</td>\n",
       "      <td>0.310044</td>\n",
       "      <td>0.273632</td>\n",
       "      <td>0.346455</td>\n",
       "      <td>0.061880</td>\n",
       "      <td>0.054613</td>\n",
       "      <td>0.069148</td>\n",
       "      <td>0.018578</td>\n",
       "      <td>16.688952</td>\n",
       "      <td>...</td>\n",
       "      <td>-0.006437</td>\n",
       "      <td>-0.009782</td>\n",
       "      <td>-0.003092</td>\n",
       "      <td>0.010414</td>\n",
       "      <td>-3.771240</td>\n",
       "      <td>1.624524e-04</td>\n",
       "      <td>6.062046</td>\n",
       "      <td>6.101319</td>\n",
       "      <td>31826438</td>\n",
       "      <td>645722</td>\n",
       "    </tr>\n",
       "    <tr>\n",
       "      <th>3</th>\n",
       "      <td>HungerStation</td>\n",
       "      <td>2025-05-05</td>\n",
       "      <td>0.059318</td>\n",
       "      <td>0.000892</td>\n",
       "      <td>0.117744</td>\n",
       "      <td>0.012034</td>\n",
       "      <td>0.000181</td>\n",
       "      <td>0.023887</td>\n",
       "      <td>0.029809</td>\n",
       "      <td>1.989897</td>\n",
       "      <td>...</td>\n",
       "      <td>0.007004</td>\n",
       "      <td>0.000420</td>\n",
       "      <td>0.013588</td>\n",
       "      <td>0.009391</td>\n",
       "      <td>2.084885</td>\n",
       "      <td>3.708171e-02</td>\n",
       "      <td>2.815059</td>\n",
       "      <td>2.795480</td>\n",
       "      <td>6078005</td>\n",
       "      <td>122976</td>\n",
       "    </tr>\n",
       "    <tr>\n",
       "      <th>4</th>\n",
       "      <td>GR/CY</td>\n",
       "      <td>2025-05-05</td>\n",
       "      <td>0.312899</td>\n",
       "      <td>0.117786</td>\n",
       "      <td>0.508011</td>\n",
       "      <td>0.048861</td>\n",
       "      <td>0.018393</td>\n",
       "      <td>0.079329</td>\n",
       "      <td>0.099546</td>\n",
       "      <td>3.143272</td>\n",
       "      <td>...</td>\n",
       "      <td>0.045991</td>\n",
       "      <td>0.033539</td>\n",
       "      <td>0.058443</td>\n",
       "      <td>0.039618</td>\n",
       "      <td>7.239172</td>\n",
       "      <td>4.606418e-13</td>\n",
       "      <td>6.522746</td>\n",
       "      <td>6.235948</td>\n",
       "      <td>1676654</td>\n",
       "      <td>33804</td>\n",
       "    </tr>\n",
       "    <tr>\n",
       "      <th>5</th>\n",
       "      <td>Glovo</td>\n",
       "      <td>2025-05-05</td>\n",
       "      <td>0.395131</td>\n",
       "      <td>0.293446</td>\n",
       "      <td>0.496816</td>\n",
       "      <td>0.073753</td>\n",
       "      <td>0.054773</td>\n",
       "      <td>0.092734</td>\n",
       "      <td>0.051880</td>\n",
       "      <td>7.616214</td>\n",
       "      <td>...</td>\n",
       "      <td>0.003565</td>\n",
       "      <td>-0.006176</td>\n",
       "      <td>0.013307</td>\n",
       "      <td>0.022142</td>\n",
       "      <td>0.717323</td>\n",
       "      <td>4.731766e-01</td>\n",
       "      <td>4.470727</td>\n",
       "      <td>4.454844</td>\n",
       "      <td>3875971</td>\n",
       "      <td>78849</td>\n",
       "    </tr>\n",
       "  </tbody>\n",
       "</table>\n",
       "<p>6 rows × 28 columns</p>\n",
       "</div>"
      ],
      "text/plain": [
       "      brand_name as_of_date  analytical_profit_post_cuped_observed_diff  \\\n",
       "0        Talabat 2025-05-05                                    0.611234   \n",
       "1           PEYA 2025-05-05                                    0.250919   \n",
       "2        Pandora 2025-05-05                                    0.310044   \n",
       "3  HungerStation 2025-05-05                                    0.059318   \n",
       "4          GR/CY 2025-05-05                                    0.312899   \n",
       "5          Glovo 2025-05-05                                    0.395131   \n",
       "\n",
       "   analytical_profit_post_cuped_ci_low  analytical_profit_post_cuped_ci_high  \\\n",
       "0                             0.445730                              0.776737   \n",
       "1                             0.191243                              0.310595   \n",
       "2                             0.273632                              0.346455   \n",
       "3                             0.000892                              0.117744   \n",
       "4                             0.117786                              0.508011   \n",
       "5                             0.293446                              0.496816   \n",
       "\n",
       "   analytical_profit_post_cuped_pct_diff  \\\n",
       "0                               0.029149   \n",
       "1                               0.030092   \n",
       "2                               0.061880   \n",
       "3                               0.012034   \n",
       "4                               0.048861   \n",
       "5                               0.073753   \n",
       "\n",
       "   analytical_profit_post_cuped_pct_ci_low  \\\n",
       "0                                 0.021256   \n",
       "1                                 0.022935   \n",
       "2                                 0.054613   \n",
       "3                                 0.000181   \n",
       "4                                 0.018393   \n",
       "5                                 0.054773   \n",
       "\n",
       "   analytical_profit_post_cuped_pct_ci_high  analytical_profit_post_cuped_se  \\\n",
       "0                                  0.037042                         0.084442   \n",
       "1                                  0.037249                         0.030447   \n",
       "2                                  0.069148                         0.018578   \n",
       "3                                  0.023887                         0.029809   \n",
       "4                                  0.079329                         0.099546   \n",
       "5                                  0.092734                         0.051880   \n",
       "\n",
       "   analytical_profit_post_cuped_t_statistic  ...  orders_post_cuped_pct_diff  \\\n",
       "0                                  7.238530  ...                    0.015133   \n",
       "1                                  8.241077  ...                    0.016452   \n",
       "2                                 16.688952  ...                   -0.006437   \n",
       "3                                  1.989897  ...                    0.007004   \n",
       "4                                  3.143272  ...                    0.045991   \n",
       "5                                  7.616214  ...                    0.003565   \n",
       "\n",
       "   orders_post_cuped_pct_ci_low  orders_post_cuped_pct_ci_high  \\\n",
       "0                      0.010234                       0.020032   \n",
       "1                      0.011866                       0.021038   \n",
       "2                     -0.009782                      -0.003092   \n",
       "3                      0.000420                       0.013588   \n",
       "4                      0.033539                       0.058443   \n",
       "5                     -0.006176                       0.013307   \n",
       "\n",
       "   orders_post_cuped_se  orders_post_cuped_t_statistic  \\\n",
       "0              0.026349                       6.053999   \n",
       "1              0.012740                       7.031718   \n",
       "2              0.010414                      -3.771240   \n",
       "3              0.009391                       2.084885   \n",
       "4              0.039618                       7.239172   \n",
       "5              0.022142                       0.717323   \n",
       "\n",
       "   orders_post_cuped_p_value  orders_post_cuped_mean_non_holdout  \\\n",
       "0               1.415181e-09                           10.700324   \n",
       "1               2.044832e-12                            5.534631   \n",
       "2               1.624524e-04                            6.062046   \n",
       "3               3.708171e-02                            2.815059   \n",
       "4               4.606418e-13                            6.522746   \n",
       "5               4.731766e-01                            4.470727   \n",
       "\n",
       "   orders_post_cuped_mean_holdout  orders_post_cuped_n_users_non_holdout  \\\n",
       "0                       10.540809                               10517537   \n",
       "1                        5.445049                               12864330   \n",
       "2                        6.101319                               31826438   \n",
       "3                        2.795480                                6078005   \n",
       "4                        6.235948                                1676654   \n",
       "5                        4.454844                                3875971   \n",
       "\n",
       "   orders_post_cuped_n_users_holdout  \n",
       "0                             213227  \n",
       "1                             260758  \n",
       "2                             645722  \n",
       "3                             122976  \n",
       "4                              33804  \n",
       "5                              78849  \n",
       "\n",
       "[6 rows x 28 columns]"
      ]
     },
     "execution_count": 57,
     "metadata": {},
     "output_type": "execute_result"
    }
   ],
   "source": [
    "tt_wel"
   ]
  },
  {
   "cell_type": "code",
   "execution_count": 56,
   "metadata": {},
   "outputs": [
    {
     "data": {
      "application/vnd.jupyter.widget-view+json": {
       "model_id": "3ea86a1001f041a78fe9cd7676dbbc0e",
       "version_major": 2,
       "version_minor": 0
      },
      "text/plain": [
       "brand_name groups:   0%|          | 0/6 [00:00<?, ?it/s]"
      ]
     },
     "metadata": {},
     "output_type": "display_data"
    },
    {
     "data": {
      "application/vnd.jupyter.widget-view+json": {
       "model_id": "d613c3b83b124cd2aa3e390a44948a18",
       "version_major": 2,
       "version_minor": 0
      },
      "text/plain": [
       "Weeks:   0%|          | 0/1 [00:00<?, ?it/s]"
      ]
     },
     "metadata": {},
     "output_type": "display_data"
    },
    {
     "name": "stdout",
     "output_type": "stream",
     "text": [
      "\n",
      "Brand/Entity: Talabat\n",
      "Week: 2025-05-05\n",
      "Results:\n",
      "    analytical_profit_post_cuped: Diff=0.6112, CI=(0.44573022044770316, 0.7767374528919901), Users NHO=10517537, HO=213227\n",
      "    orders_post_cuped: Diff=0.1595, CI=(0.10787250153789266, 0.21115833435583106), Users NHO=10517537, HO=213227\n"
     ]
    },
    {
     "data": {
      "application/vnd.jupyter.widget-view+json": {
       "model_id": "711e721cfad4451b9641780a9f48b41e",
       "version_major": 2,
       "version_minor": 0
      },
      "text/plain": [
       "Weeks:   0%|          | 0/1 [00:00<?, ?it/s]"
      ]
     },
     "metadata": {},
     "output_type": "display_data"
    },
    {
     "name": "stdout",
     "output_type": "stream",
     "text": [
      "\n",
      "Brand/Entity: PEYA\n",
      "Week: 2025-05-05\n",
      "Results:\n",
      "    analytical_profit_post_cuped: Diff=0.2509, CI=(0.19124296830203721, 0.3105949163499856), Users NHO=12864330, HO=260758\n",
      "    orders_post_cuped: Diff=0.0896, CI=(0.06461312954170588, 0.11455253193077027), Users NHO=12864330, HO=260758\n"
     ]
    },
    {
     "data": {
      "application/vnd.jupyter.widget-view+json": {
       "model_id": "126732e578fb49e39a92fa7b3c45fd38",
       "version_major": 2,
       "version_minor": 0
      },
      "text/plain": [
       "Weeks:   0%|          | 0/1 [00:00<?, ?it/s]"
      ]
     },
     "metadata": {},
     "output_type": "display_data"
    },
    {
     "name": "stdout",
     "output_type": "stream",
     "text": [
      "\n",
      "Brand/Entity: Pandora\n",
      "Week: 2025-05-05\n",
      "Results:\n",
      "    analytical_profit_post_cuped: Diff=0.3100, CI=(0.27363171792357577, 0.34645537877365207), Users NHO=31826438, HO=645722\n",
      "    orders_post_cuped: Diff=-0.0393, CI=(-0.05968415954869748, -0.018862389697259025), Users NHO=31826438, HO=645722\n"
     ]
    },
    {
     "data": {
      "application/vnd.jupyter.widget-view+json": {
       "model_id": "5308d4fb9fe24c899ca3529edd83f7e4",
       "version_major": 2,
       "version_minor": 0
      },
      "text/plain": [
       "Weeks:   0%|          | 0/1 [00:00<?, ?it/s]"
      ]
     },
     "metadata": {},
     "output_type": "display_data"
    },
    {
     "name": "stdout",
     "output_type": "stream",
     "text": [
      "\n",
      "Brand/Entity: HungerStation\n",
      "Week: 2025-05-05\n",
      "Results:\n",
      "    analytical_profit_post_cuped: Diff=0.0593, CI=(0.0008917248043752088, 0.11774374946663063), Users NHO=6078005, HO=122976\n",
      "    orders_post_cuped: Diff=0.0196, CI=(0.0011729289118166432, 0.03798433938892176), Users NHO=6078005, HO=122976\n"
     ]
    },
    {
     "data": {
      "application/vnd.jupyter.widget-view+json": {
       "model_id": "fa3191976ec94fb98d5b9fc966cd69b4",
       "version_major": 2,
       "version_minor": 0
      },
      "text/plain": [
       "Weeks:   0%|          | 0/1 [00:00<?, ?it/s]"
      ]
     },
     "metadata": {},
     "output_type": "display_data"
    },
    {
     "name": "stdout",
     "output_type": "stream",
     "text": [
      "\n",
      "Brand/Entity: GR/CY\n",
      "Week: 2025-05-05\n",
      "Results:\n",
      "    analytical_profit_post_cuped: Diff=0.3129, CI=(0.11778635302928339, 0.5080112976105328), Users NHO=1676654, HO=33804\n",
      "    orders_post_cuped: Diff=0.2868, CI=(0.20914649392699097, 0.36444967694805314), Users NHO=1676654, HO=33804\n"
     ]
    },
    {
     "data": {
      "application/vnd.jupyter.widget-view+json": {
       "model_id": "fb71b68eb93b477d8f63efc94fa04f7f",
       "version_major": 2,
       "version_minor": 0
      },
      "text/plain": [
       "Weeks:   0%|          | 0/1 [00:00<?, ?it/s]"
      ]
     },
     "metadata": {},
     "output_type": "display_data"
    },
    {
     "name": "stdout",
     "output_type": "stream",
     "text": [
      "\n",
      "Brand/Entity: Glovo\n",
      "Week: 2025-05-05\n",
      "Results:\n",
      "    analytical_profit_post_cuped: Diff=0.3951, CI=(0.2934460565730736, 0.496815786411621), Users NHO=3875971, HO=78849\n",
      "    orders_post_cuped: Diff=0.0159, CI=(-0.027515019748854612, 0.059280777989007986), Users NHO=3875971, HO=78849\n"
     ]
    }
   ],
   "source": [
    "tt_wel = apply_welchs_diff_means(raw_cuped_cumm_df_brand, \"brand_name\",  adjusted_metrics, alpha = 0.05)"
   ]
  },
  {
   "cell_type": "code",
   "execution_count": 65,
   "metadata": {},
   "outputs": [],
   "source": [
    "boostrapped_df.to_csv(\"brand_level_boostrapping.csv\")"
   ]
  },
  {
   "cell_type": "code",
   "execution_count": 67,
   "metadata": {},
   "outputs": [
    {
     "data": {
      "application/vnd.jupyter.widget-view+json": {
       "model_id": "ed4241ecb2764c7db339d9417714f303",
       "version_major": 2,
       "version_minor": 0
      },
      "text/plain": [
       "entity_id groups:   0%|          | 0/55 [00:00<?, ?it/s]"
      ]
     },
     "metadata": {},
     "output_type": "display_data"
    },
    {
     "data": {
      "application/vnd.jupyter.widget-view+json": {
       "model_id": "ffef40a5b12e4d1dada2ae0563aa24b8",
       "version_major": 2,
       "version_minor": 0
      },
      "text/plain": [
       "Weeks:   0%|          | 0/1 [00:00<?, ?it/s]"
      ]
     },
     "metadata": {},
     "output_type": "display_data"
    },
    {
     "name": "stderr",
     "output_type": "stream",
     "text": [
      "Traceback (most recent call last):\n",
      "Traceback (most recent call last):\n",
      "  File \"/Users/shazeb.asad/global_pricing/venv_bayesian/lib/python3.13/site-packages/debugpy/_vendored/pydevd/_pydevd_bundle/pydevd_comm.py\", line 422, in _on_run\n",
      "    cmd.send(self.sock)\n",
      "    ~~~~~~~~^^^^^^^^^^^\n",
      "  File \"/Users/shazeb.asad/global_pricing/venv_bayesian/lib/python3.13/site-packages/debugpy/_vendored/pydevd/_pydevd_bundle/pydevd_comm.py\", line 422, in _on_run\n",
      "    cmd.send(self.sock)\n",
      "    ~~~~~~~~^^^^^^^^^^^\n",
      "  File \"/Users/shazeb.asad/global_pricing/venv_bayesian/lib/python3.13/site-packages/debugpy/_vendored/pydevd/_pydevd_bundle/pydevd_net_command.py\", line 111, in send\n",
      "    sock.sendall((\"Content-Length: %s\\r\\n\\r\\n\" % len(as_bytes)).encode(\"ascii\"))\n",
      "    ~~~~~~~~~~~~^^^^^^^^^^^^^^^^^^^^^^^^^^^^^^^^^^^^^^^^^^^^^^^^^^^^^^^^^^^^^^^^\n",
      "  File \"/Users/shazeb.asad/global_pricing/venv_bayesian/lib/python3.13/site-packages/debugpy/_vendored/pydevd/_pydevd_bundle/pydevd_net_command.py\", line 111, in send\n",
      "    sock.sendall((\"Content-Length: %s\\r\\n\\r\\n\" % len(as_bytes)).encode(\"ascii\"))\n",
      "    ~~~~~~~~~~~~^^^^^^^^^^^^^^^^^^^^^^^^^^^^^^^^^^^^^^^^^^^^^^^^^^^^^^^^^^^^^^^^\n",
      "OSError: [Errno 9] Bad file descriptor\n",
      "OSError: [Errno 9] Bad file descriptor\n",
      "\n",
      "During handling of the above exception, another exception occurred:\n",
      "\n",
      "\n",
      "During handling of the above exception, another exception occurred:\n",
      "\n",
      "Traceback (most recent call last):\n",
      "Traceback (most recent call last):\n",
      "Traceback (most recent call last):\n",
      "Traceback (most recent call last):\n",
      "  File \"/Users/shazeb.asad/global_pricing/venv_bayesian/lib/python3.13/site-packages/debugpy/_vendored/pydevd/_pydevd_bundle/pydevd_comm.py\", line 422, in _on_run\n",
      "    cmd.send(self.sock)\n",
      "    ~~~~~~~~^^^^^^^^^^^\n",
      "  File \"/Users/shazeb.asad/global_pricing/venv_bayesian/lib/python3.13/site-packages/debugpy/_vendored/pydevd/_pydevd_bundle/pydevd_comm.py\", line 422, in _on_run\n",
      "    cmd.send(self.sock)\n",
      "    ~~~~~~~~^^^^^^^^^^^\n",
      "  File \"/Users/shazeb.asad/global_pricing/venv_bayesian/lib/python3.13/site-packages/debugpy/_vendored/pydevd/_pydevd_bundle/pydevd_daemon_thread.py\", line 53, in run\n",
      "    self._on_run()\n",
      "    ~~~~~~~~~~~~^^\n",
      "  File \"/Users/shazeb.asad/global_pricing/venv_bayesian/lib/python3.13/site-packages/debugpy/_vendored/pydevd/_pydevd_bundle/pydevd_daemon_thread.py\", line 53, in run\n",
      "    self._on_run()\n",
      "    ~~~~~~~~~~~~^^\n",
      "  File \"/Users/shazeb.asad/global_pricing/venv_bayesian/lib/python3.13/site-packages/debugpy/_vendored/pydevd/_pydevd_bundle/pydevd_net_command.py\", line 111, in send\n",
      "    sock.sendall((\"Content-Length: %s\\r\\n\\r\\n\" % len(as_bytes)).encode(\"ascii\"))\n",
      "    ~~~~~~~~~~~~^^^^^^^^^^^^^^^^^^^^^^^^^^^^^^^^^^^^^^^^^^^^^^^^^^^^^^^^^^^^^^^^\n",
      "  File \"/Users/shazeb.asad/global_pricing/venv_bayesian/lib/python3.13/site-packages/debugpy/_vendored/pydevd/_pydevd_bundle/pydevd_net_command.py\", line 111, in send\n",
      "    sock.sendall((\"Content-Length: %s\\r\\n\\r\\n\" % len(as_bytes)).encode(\"ascii\"))\n",
      "    ~~~~~~~~~~~~^^^^^^^^^^^^^^^^^^^^^^^^^^^^^^^^^^^^^^^^^^^^^^^^^^^^^^^^^^^^^^^^\n",
      "  File \"/Users/shazeb.asad/global_pricing/venv_bayesian/lib/python3.13/site-packages/debugpy/_vendored/pydevd/_pydevd_bundle/pydevd_comm.py\", line 432, in _on_run\n",
      "    self.py_db.dispose_and_kill_all_pydevd_threads()\n",
      "    ~~~~~~~~~~~~~~~~~~~~~~~~~~~~~~~~~~~~~~~~~~~~~~^^\n",
      "  File \"/Users/shazeb.asad/global_pricing/venv_bayesian/lib/python3.13/site-packages/debugpy/_vendored/pydevd/_pydevd_bundle/pydevd_comm.py\", line 432, in _on_run\n",
      "    self.py_db.dispose_and_kill_all_pydevd_threads()\n",
      "    ~~~~~~~~~~~~~~~~~~~~~~~~~~~~~~~~~~~~~~~~~~~~~~^^\n",
      "OSError: [Errno 9] Bad file descriptor\n",
      "OSError: [Errno 9] Bad file descriptor\n",
      "  File \"/Users/shazeb.asad/global_pricing/venv_bayesian/lib/python3.13/site-packages/debugpy/_vendored/pydevd/pydevd.py\", line 2558, in dispose_and_kill_all_pydevd_threads\n",
      "    self._client_socket.close()\n",
      "    ~~~~~~~~~~~~~~~~~~~~~~~~~^^\n",
      "\n",
      "During handling of the above exception, another exception occurred:\n",
      "\n",
      "  File \"/Users/shazeb.asad/global_pricing/venv_bayesian/lib/python3.13/site-packages/debugpy/_vendored/pydevd/pydevd.py\", line 2558, in dispose_and_kill_all_pydevd_threads\n",
      "    self._client_socket.close()\n",
      "    ~~~~~~~~~~~~~~~~~~~~~~~~~^^\n",
      "\n",
      "During handling of the above exception, another exception occurred:\n",
      "\n",
      "  File \"/opt/homebrew/Cellar/python@3.13/3.13.2/Frameworks/Python.framework/Versions/3.13/lib/python3.13/socket.py\", line 505, in close\n",
      "    self._real_close()\n",
      "    ~~~~~~~~~~~~~~~~^^\n",
      "  File \"/opt/homebrew/Cellar/python@3.13/3.13.2/Frameworks/Python.framework/Versions/3.13/lib/python3.13/socket.py\", line 505, in close\n",
      "    self._real_close()\n",
      "    ~~~~~~~~~~~~~~~~^^\n",
      "Traceback (most recent call last):\n",
      "  File \"/opt/homebrew/Cellar/python@3.13/3.13.2/Frameworks/Python.framework/Versions/3.13/lib/python3.13/socket.py\", line 499, in _real_close\n",
      "    _ss.close(self)\n",
      "    ~~~~~~~~~^^^^^^\n",
      "Traceback (most recent call last):\n",
      "  File \"/Users/shazeb.asad/global_pricing/venv_bayesian/lib/python3.13/site-packages/debugpy/_vendored/pydevd/_pydevd_bundle/pydevd_daemon_thread.py\", line 53, in run\n",
      "    self._on_run()\n",
      "    ~~~~~~~~~~~~^^\n",
      "OSError: [Errno 9] Bad file descriptor\n",
      "  File \"/opt/homebrew/Cellar/python@3.13/3.13.2/Frameworks/Python.framework/Versions/3.13/lib/python3.13/socket.py\", line 499, in _real_close\n",
      "    _ss.close(self)\n",
      "    ~~~~~~~~~^^^^^^\n",
      "  File \"/Users/shazeb.asad/global_pricing/venv_bayesian/lib/python3.13/site-packages/debugpy/_vendored/pydevd/_pydevd_bundle/pydevd_daemon_thread.py\", line 53, in run\n",
      "    self._on_run()\n",
      "    ~~~~~~~~~~~~^^\n",
      "  File \"/Users/shazeb.asad/global_pricing/venv_bayesian/lib/python3.13/site-packages/debugpy/_vendored/pydevd/_pydevd_bundle/pydevd_comm.py\", line 432, in _on_run\n",
      "    self.py_db.dispose_and_kill_all_pydevd_threads()\n",
      "    ~~~~~~~~~~~~~~~~~~~~~~~~~~~~~~~~~~~~~~~~~~~~~~^^\n",
      "OSError: [Errno 9] Bad file descriptor\n",
      "  File \"/Users/shazeb.asad/global_pricing/venv_bayesian/lib/python3.13/site-packages/debugpy/_vendored/pydevd/_pydevd_bundle/pydevd_comm.py\", line 432, in _on_run\n",
      "    self.py_db.dispose_and_kill_all_pydevd_threads()\n",
      "    ~~~~~~~~~~~~~~~~~~~~~~~~~~~~~~~~~~~~~~~~~~~~~~^^\n",
      "  File \"/Users/shazeb.asad/global_pricing/venv_bayesian/lib/python3.13/site-packages/debugpy/_vendored/pydevd/pydevd.py\", line 2558, in dispose_and_kill_all_pydevd_threads\n",
      "    self._client_socket.close()\n",
      "    ~~~~~~~~~~~~~~~~~~~~~~~~~^^\n",
      "  File \"/Users/shazeb.asad/global_pricing/venv_bayesian/lib/python3.13/site-packages/debugpy/_vendored/pydevd/pydevd.py\", line 2558, in dispose_and_kill_all_pydevd_threads\n",
      "    self._client_socket.close()\n",
      "    ~~~~~~~~~~~~~~~~~~~~~~~~~^^\n",
      "  File \"/opt/homebrew/Cellar/python@3.13/3.13.2/Frameworks/Python.framework/Versions/3.13/lib/python3.13/socket.py\", line 505, in close\n",
      "    self._real_close()\n",
      "    ~~~~~~~~~~~~~~~~^^\n",
      "  File \"/opt/homebrew/Cellar/python@3.13/3.13.2/Frameworks/Python.framework/Versions/3.13/lib/python3.13/socket.py\", line 505, in close\n",
      "    self._real_close()\n",
      "    ~~~~~~~~~~~~~~~~^^\n",
      "  File \"/opt/homebrew/Cellar/python@3.13/3.13.2/Frameworks/Python.framework/Versions/3.13/lib/python3.13/socket.py\", line 499, in _real_close\n",
      "    _ss.close(self)\n",
      "    ~~~~~~~~~^^^^^^\n",
      "OSError: [Errno 9] Bad file descriptor\n",
      "  File \"/opt/homebrew/Cellar/python@3.13/3.13.2/Frameworks/Python.framework/Versions/3.13/lib/python3.13/socket.py\", line 499, in _real_close\n",
      "    _ss.close(self)\n",
      "    ~~~~~~~~~^^^^^^\n",
      "OSError: [Errno 9] Bad file descriptor\n",
      "Traceback (most recent call last):\n",
      "  File \"/Users/shazeb.asad/global_pricing/venv_bayesian/lib/python3.13/site-packages/debugpy/_vendored/pydevd/_pydevd_bundle/pydevd_comm.py\", line 422, in _on_run\n",
      "    cmd.send(self.sock)\n",
      "    ~~~~~~~~^^^^^^^^^^^\n",
      "Traceback (most recent call last):\n",
      "  File \"/Users/shazeb.asad/global_pricing/venv_bayesian/lib/python3.13/site-packages/debugpy/_vendored/pydevd/_pydevd_bundle/pydevd_net_command.py\", line 111, in send\n",
      "    sock.sendall((\"Content-Length: %s\\r\\n\\r\\n\" % len(as_bytes)).encode(\"ascii\"))\n",
      "    ~~~~~~~~~~~~^^^^^^^^^^^^^^^^^^^^^^^^^^^^^^^^^^^^^^^^^^^^^^^^^^^^^^^^^^^^^^^^\n",
      "  File \"/Users/shazeb.asad/global_pricing/venv_bayesian/lib/python3.13/site-packages/debugpy/_vendored/pydevd/_pydevd_bundle/pydevd_comm.py\", line 422, in _on_run\n",
      "    cmd.send(self.sock)\n",
      "    ~~~~~~~~^^^^^^^^^^^\n",
      "OSError: [Errno 9] Bad file descriptor\n",
      "Traceback (most recent call last):\n",
      "  File \"/Users/shazeb.asad/global_pricing/venv_bayesian/lib/python3.13/site-packages/debugpy/_vendored/pydevd/_pydevd_bundle/pydevd_net_command.py\", line 111, in send\n",
      "    sock.sendall((\"Content-Length: %s\\r\\n\\r\\n\" % len(as_bytes)).encode(\"ascii\"))\n",
      "    ~~~~~~~~~~~~^^^^^^^^^^^^^^^^^^^^^^^^^^^^^^^^^^^^^^^^^^^^^^^^^^^^^^^^^^^^^^^^\n",
      "\n",
      "During handling of the above exception, another exception occurred:\n",
      "\n",
      "  File \"/Users/shazeb.asad/global_pricing/venv_bayesian/lib/python3.13/site-packages/debugpy/_vendored/pydevd/_pydevd_bundle/pydevd_comm.py\", line 422, in _on_run\n",
      "    cmd.send(self.sock)\n",
      "    ~~~~~~~~^^^^^^^^^^^\n",
      "OSError: [Errno 9] Bad file descriptor\n",
      "\n",
      "During handling of the above exception, another exception occurred:\n",
      "\n",
      "  File \"/Users/shazeb.asad/global_pricing/venv_bayesian/lib/python3.13/site-packages/debugpy/_vendored/pydevd/_pydevd_bundle/pydevd_net_command.py\", line 111, in send\n",
      "    sock.sendall((\"Content-Length: %s\\r\\n\\r\\n\" % len(as_bytes)).encode(\"ascii\"))\n",
      "    ~~~~~~~~~~~~^^^^^^^^^^^^^^^^^^^^^^^^^^^^^^^^^^^^^^^^^^^^^^^^^^^^^^^^^^^^^^^^\n",
      "Traceback (most recent call last):\n",
      "Traceback (most recent call last):\n",
      "OSError: [Errno 9] Bad file descriptor\n",
      "  File \"/Users/shazeb.asad/global_pricing/venv_bayesian/lib/python3.13/site-packages/debugpy/_vendored/pydevd/_pydevd_bundle/pydevd_daemon_thread.py\", line 53, in run\n",
      "    self._on_run()\n",
      "    ~~~~~~~~~~~~^^\n",
      "  File \"/Users/shazeb.asad/global_pricing/venv_bayesian/lib/python3.13/site-packages/debugpy/_vendored/pydevd/_pydevd_bundle/pydevd_daemon_thread.py\", line 53, in run\n",
      "    self._on_run()\n",
      "    ~~~~~~~~~~~~^^\n",
      "Traceback (most recent call last):\n",
      "  File \"/Users/shazeb.asad/global_pricing/venv_bayesian/lib/python3.13/site-packages/debugpy/_vendored/pydevd/_pydevd_bundle/pydevd_comm.py\", line 432, in _on_run\n",
      "    self.py_db.dispose_and_kill_all_pydevd_threads()\n",
      "    ~~~~~~~~~~~~~~~~~~~~~~~~~~~~~~~~~~~~~~~~~~~~~~^^\n",
      "  File \"/Users/shazeb.asad/global_pricing/venv_bayesian/lib/python3.13/site-packages/debugpy/_vendored/pydevd/_pydevd_bundle/pydevd_comm.py\", line 432, in _on_run\n",
      "    self.py_db.dispose_and_kill_all_pydevd_threads()\n",
      "    ~~~~~~~~~~~~~~~~~~~~~~~~~~~~~~~~~~~~~~~~~~~~~~^^\n",
      "  File \"/Users/shazeb.asad/global_pricing/venv_bayesian/lib/python3.13/site-packages/debugpy/_vendored/pydevd/_pydevd_bundle/pydevd_comm.py\", line 422, in _on_run\n",
      "    cmd.send(self.sock)\n",
      "    ~~~~~~~~^^^^^^^^^^^\n",
      "\n",
      "During handling of the above exception, another exception occurred:\n",
      "\n",
      "  File \"/Users/shazeb.asad/global_pricing/venv_bayesian/lib/python3.13/site-packages/debugpy/_vendored/pydevd/pydevd.py\", line 2558, in dispose_and_kill_all_pydevd_threads\n",
      "    self._client_socket.close()\n",
      "    ~~~~~~~~~~~~~~~~~~~~~~~~~^^\n",
      "  File \"/Users/shazeb.asad/global_pricing/venv_bayesian/lib/python3.13/site-packages/debugpy/_vendored/pydevd/pydevd.py\", line 2558, in dispose_and_kill_all_pydevd_threads\n",
      "    self._client_socket.close()\n",
      "    ~~~~~~~~~~~~~~~~~~~~~~~~~^^\n",
      "Traceback (most recent call last):\n",
      "  File \"/opt/homebrew/Cellar/python@3.13/3.13.2/Frameworks/Python.framework/Versions/3.13/lib/python3.13/socket.py\", line 505, in close\n",
      "    self._real_close()\n",
      "    ~~~~~~~~~~~~~~~~^^\n",
      "  File \"/opt/homebrew/Cellar/python@3.13/3.13.2/Frameworks/Python.framework/Versions/3.13/lib/python3.13/socket.py\", line 505, in close\n",
      "    self._real_close()\n",
      "    ~~~~~~~~~~~~~~~~^^\n",
      "  File \"/Users/shazeb.asad/global_pricing/venv_bayesian/lib/python3.13/site-packages/debugpy/_vendored/pydevd/_pydevd_bundle/pydevd_net_command.py\", line 111, in send\n",
      "    sock.sendall((\"Content-Length: %s\\r\\n\\r\\n\" % len(as_bytes)).encode(\"ascii\"))\n",
      "    ~~~~~~~~~~~~^^^^^^^^^^^^^^^^^^^^^^^^^^^^^^^^^^^^^^^^^^^^^^^^^^^^^^^^^^^^^^^^\n",
      "  File \"/Users/shazeb.asad/global_pricing/venv_bayesian/lib/python3.13/site-packages/debugpy/_vendored/pydevd/_pydevd_bundle/pydevd_daemon_thread.py\", line 53, in run\n",
      "    self._on_run()\n",
      "    ~~~~~~~~~~~~^^\n",
      "  File \"/opt/homebrew/Cellar/python@3.13/3.13.2/Frameworks/Python.framework/Versions/3.13/lib/python3.13/socket.py\", line 499, in _real_close\n",
      "    _ss.close(self)\n",
      "    ~~~~~~~~~^^^^^^\n",
      "  File \"/opt/homebrew/Cellar/python@3.13/3.13.2/Frameworks/Python.framework/Versions/3.13/lib/python3.13/socket.py\", line 499, in _real_close\n",
      "    _ss.close(self)\n",
      "    ~~~~~~~~~^^^^^^\n",
      "OSError: [Errno 9] Bad file descriptor\n",
      "Traceback (most recent call last):\n",
      "Traceback (most recent call last):\n",
      "OSError: [Errno 9] Bad file descriptor\n",
      "  File \"/Users/shazeb.asad/global_pricing/venv_bayesian/lib/python3.13/site-packages/debugpy/_vendored/pydevd/_pydevd_bundle/pydevd_comm.py\", line 432, in _on_run\n",
      "    self.py_db.dispose_and_kill_all_pydevd_threads()\n",
      "    ~~~~~~~~~~~~~~~~~~~~~~~~~~~~~~~~~~~~~~~~~~~~~~^^\n",
      "  File \"/Users/shazeb.asad/global_pricing/venv_bayesian/lib/python3.13/site-packages/debugpy/_vendored/pydevd/_pydevd_bundle/pydevd_comm.py\", line 422, in _on_run\n",
      "    cmd.send(self.sock)\n",
      "    ~~~~~~~~^^^^^^^^^^^\n",
      "\n",
      "During handling of the above exception, another exception occurred:\n",
      "\n",
      "  File \"/Users/shazeb.asad/global_pricing/venv_bayesian/lib/python3.13/site-packages/debugpy/_vendored/pydevd/_pydevd_bundle/pydevd_comm.py\", line 422, in _on_run\n",
      "    cmd.send(self.sock)\n",
      "    ~~~~~~~~^^^^^^^^^^^\n",
      "  File \"/Users/shazeb.asad/global_pricing/venv_bayesian/lib/python3.13/site-packages/debugpy/_vendored/pydevd/pydevd.py\", line 2558, in dispose_and_kill_all_pydevd_threads\n",
      "    self._client_socket.close()\n",
      "    ~~~~~~~~~~~~~~~~~~~~~~~~~^^\n",
      "Traceback (most recent call last):\n",
      "  File \"/Users/shazeb.asad/global_pricing/venv_bayesian/lib/python3.13/site-packages/debugpy/_vendored/pydevd/_pydevd_bundle/pydevd_net_command.py\", line 111, in send\n",
      "    sock.sendall((\"Content-Length: %s\\r\\n\\r\\n\" % len(as_bytes)).encode(\"ascii\"))\n",
      "    ~~~~~~~~~~~~^^^^^^^^^^^^^^^^^^^^^^^^^^^^^^^^^^^^^^^^^^^^^^^^^^^^^^^^^^^^^^^^\n",
      "  File \"/Users/shazeb.asad/global_pricing/venv_bayesian/lib/python3.13/site-packages/debugpy/_vendored/pydevd/_pydevd_bundle/pydevd_net_command.py\", line 111, in send\n",
      "    sock.sendall((\"Content-Length: %s\\r\\n\\r\\n\" % len(as_bytes)).encode(\"ascii\"))\n",
      "    ~~~~~~~~~~~~^^^^^^^^^^^^^^^^^^^^^^^^^^^^^^^^^^^^^^^^^^^^^^^^^^^^^^^^^^^^^^^^\n",
      "  File \"/opt/homebrew/Cellar/python@3.13/3.13.2/Frameworks/Python.framework/Versions/3.13/lib/python3.13/socket.py\", line 505, in close\n",
      "    self._real_close()\n",
      "    ~~~~~~~~~~~~~~~~^^\n",
      "OSError: [Errno 9] Bad file descriptor\n",
      "  File \"/Users/shazeb.asad/global_pricing/venv_bayesian/lib/python3.13/site-packages/debugpy/_vendored/pydevd/_pydevd_bundle/pydevd_daemon_thread.py\", line 53, in run\n",
      "    self._on_run()\n",
      "    ~~~~~~~~~~~~^^\n",
      "OSError: [Errno 9] Bad file descriptor\n",
      "OSError: [Errno 9] Bad file descriptor\n",
      "  File \"/opt/homebrew/Cellar/python@3.13/3.13.2/Frameworks/Python.framework/Versions/3.13/lib/python3.13/socket.py\", line 499, in _real_close\n",
      "    _ss.close(self)\n",
      "    ~~~~~~~~~^^^^^^\n",
      "  File \"/Users/shazeb.asad/global_pricing/venv_bayesian/lib/python3.13/site-packages/debugpy/_vendored/pydevd/_pydevd_bundle/pydevd_comm.py\", line 432, in _on_run\n",
      "    self.py_db.dispose_and_kill_all_pydevd_threads()\n",
      "    ~~~~~~~~~~~~~~~~~~~~~~~~~~~~~~~~~~~~~~~~~~~~~~^^\n",
      "\n",
      "During handling of the above exception, another exception occurred:\n",
      "\n",
      "\n",
      "During handling of the above exception, another exception occurred:\n",
      "\n",
      "  File \"/Users/shazeb.asad/global_pricing/venv_bayesian/lib/python3.13/site-packages/debugpy/_vendored/pydevd/pydevd.py\", line 2558, in dispose_and_kill_all_pydevd_threads\n",
      "    self._client_socket.close()\n",
      "    ~~~~~~~~~~~~~~~~~~~~~~~~~^^\n",
      "Traceback (most recent call last):\n",
      "Traceback (most recent call last):\n",
      "  File \"/opt/homebrew/Cellar/python@3.13/3.13.2/Frameworks/Python.framework/Versions/3.13/lib/python3.13/socket.py\", line 505, in close\n",
      "    self._real_close()\n",
      "    ~~~~~~~~~~~~~~~~^^\n",
      "  File \"/Users/shazeb.asad/global_pricing/venv_bayesian/lib/python3.13/site-packages/debugpy/_vendored/pydevd/_pydevd_bundle/pydevd_daemon_thread.py\", line 53, in run\n",
      "    self._on_run()\n",
      "    ~~~~~~~~~~~~^^\n",
      "  File \"/Users/shazeb.asad/global_pricing/venv_bayesian/lib/python3.13/site-packages/debugpy/_vendored/pydevd/_pydevd_bundle/pydevd_daemon_thread.py\", line 53, in run\n",
      "    self._on_run()\n",
      "    ~~~~~~~~~~~~^^\n",
      "OSError: [Errno 9] Bad file descriptor\n",
      "  File \"/Users/shazeb.asad/global_pricing/venv_bayesian/lib/python3.13/site-packages/debugpy/_vendored/pydevd/_pydevd_bundle/pydevd_comm.py\", line 432, in _on_run\n",
      "    self.py_db.dispose_and_kill_all_pydevd_threads()\n",
      "    ~~~~~~~~~~~~~~~~~~~~~~~~~~~~~~~~~~~~~~~~~~~~~~^^\n",
      "  File \"/opt/homebrew/Cellar/python@3.13/3.13.2/Frameworks/Python.framework/Versions/3.13/lib/python3.13/socket.py\", line 499, in _real_close\n",
      "    _ss.close(self)\n",
      "    ~~~~~~~~~^^^^^^\n",
      "  File \"/Users/shazeb.asad/global_pricing/venv_bayesian/lib/python3.13/site-packages/debugpy/_vendored/pydevd/_pydevd_bundle/pydevd_comm.py\", line 432, in _on_run\n",
      "    self.py_db.dispose_and_kill_all_pydevd_threads()\n",
      "    ~~~~~~~~~~~~~~~~~~~~~~~~~~~~~~~~~~~~~~~~~~~~~~^^\n",
      "  File \"/Users/shazeb.asad/global_pricing/venv_bayesian/lib/python3.13/site-packages/debugpy/_vendored/pydevd/pydevd.py\", line 2558, in dispose_and_kill_all_pydevd_threads\n",
      "    self._client_socket.close()\n",
      "    ~~~~~~~~~~~~~~~~~~~~~~~~~^^\n",
      "  File \"/Users/shazeb.asad/global_pricing/venv_bayesian/lib/python3.13/site-packages/debugpy/_vendored/pydevd/pydevd.py\", line 2558, in dispose_and_kill_all_pydevd_threads\n",
      "    self._client_socket.close()\n",
      "    ~~~~~~~~~~~~~~~~~~~~~~~~~^^\n",
      "  File \"/opt/homebrew/Cellar/python@3.13/3.13.2/Frameworks/Python.framework/Versions/3.13/lib/python3.13/socket.py\", line 505, in close\n",
      "    self._real_close()\n",
      "    ~~~~~~~~~~~~~~~~^^\n",
      "OSError: [Errno 9] Bad file descriptor\n",
      "  File \"/opt/homebrew/Cellar/python@3.13/3.13.2/Frameworks/Python.framework/Versions/3.13/lib/python3.13/socket.py\", line 499, in _real_close\n",
      "    _ss.close(self)\n",
      "    ~~~~~~~~~^^^^^^\n",
      "  File \"/opt/homebrew/Cellar/python@3.13/3.13.2/Frameworks/Python.framework/Versions/3.13/lib/python3.13/socket.py\", line 505, in close\n",
      "    self._real_close()\n",
      "    ~~~~~~~~~~~~~~~~^^\n",
      "OSError: [Errno 9] Bad file descriptor\n",
      "  File \"/opt/homebrew/Cellar/python@3.13/3.13.2/Frameworks/Python.framework/Versions/3.13/lib/python3.13/socket.py\", line 499, in _real_close\n",
      "    _ss.close(self)\n",
      "    ~~~~~~~~~^^^^^^\n",
      "OSError: [Errno 9] Bad file descriptor\n",
      "0.00s - Debugger warning: It seems that frozen modules are being used, which may\n",
      "0.00s - make the debugger miss breakpoints. Please pass -Xfrozen_modules=off\n",
      "0.00s - to python to disable frozen modules.\n",
      "0.00s - Note: Debugging will proceed. Set PYDEVD_DISABLE_FILE_VALIDATION=1 to disable this validation.\n",
      "0.01s - Debugger warning: It seems that frozen modules are being used, which may\n",
      "0.00s - make the debugger miss breakpoints. Please pass -Xfrozen_modules=off\n",
      "0.00s - to python to disable frozen modules.\n",
      "0.00s - Note: Debugging will proceed. Set PYDEVD_DISABLE_FILE_VALIDATION=1 to disable this validation.\n",
      "0.01s - Debugger warning: It seems that frozen modules are being used, which may\n",
      "0.00s - make the debugger miss breakpoints. Please pass -Xfrozen_modules=off\n",
      "0.00s - to python to disable frozen modules.\n",
      "0.00s - Note: Debugging will proceed. Set PYDEVD_DISABLE_FILE_VALIDATION=1 to disable this validation.\n",
      "0.00s - Debugger warning: It seems that frozen modules are being used, which may\n",
      "0.00s - make the debugger miss breakpoints. Please pass -Xfrozen_modules=off\n",
      "0.00s - to python to disable frozen modules.\n",
      "0.00s - Note: Debugging will proceed. Set PYDEVD_DISABLE_FILE_VALIDATION=1 to disable this validation.\n",
      "0.01s - Debugger warning: It seems that frozen modules are being used, which may\n",
      "0.00s - make the debugger miss breakpoints. Please pass -Xfrozen_modules=off\n",
      "0.00s - to python to disable frozen modules.\n",
      "0.00s - Note: Debugging will proceed. Set PYDEVD_DISABLE_FILE_VALIDATION=1 to disable this validation.\n",
      "0.01s - Debugger warning: It seems that frozen modules are being used, which may\n",
      "0.00s - make the debugger miss breakpoints. Please pass -Xfrozen_modules=off\n",
      "0.00s - to python to disable frozen modules.\n",
      "0.00s - Note: Debugging will proceed. Set PYDEVD_DISABLE_FILE_VALIDATION=1 to disable this validation.\n",
      "0.00s - Debugger warning: It seems that frozen modules are being used, which may\n",
      "0.00s - make the debugger miss breakpoints. Please pass -Xfrozen_modules=off\n",
      "0.00s - to python to disable frozen modules.\n",
      "0.00s - Note: Debugging will proceed. Set PYDEVD_DISABLE_FILE_VALIDATION=1 to disable this validation.\n",
      "0.01s - Debugger warning: It seems that frozen modules are being used, which may\n",
      "0.00s - make the debugger miss breakpoints. Please pass -Xfrozen_modules=off\n",
      "0.00s - to python to disable frozen modules.\n",
      "0.00s - Note: Debugging will proceed. Set PYDEVD_DISABLE_FILE_VALIDATION=1 to disable this validation.\n",
      "0.00s - Debugger warning: It seems that frozen modules are being used, which may\n",
      "0.00s - make the debugger miss breakpoints. Please pass -Xfrozen_modules=off\n",
      "0.00s - to python to disable frozen modules.\n",
      "0.00s - Note: Debugging will proceed. Set PYDEVD_DISABLE_FILE_VALIDATION=1 to disable this validation.\n",
      "0.01s - Debugger warning: It seems that frozen modules are being used, which may\n",
      "0.00s - make the debugger miss breakpoints. Please pass -Xfrozen_modules=off\n",
      "0.00s - to python to disable frozen modules.\n",
      "0.00s - Note: Debugging will proceed. Set PYDEVD_DISABLE_FILE_VALIDATION=1 to disable this validation.\n"
     ]
    },
    {
     "name": "stdout",
     "output_type": "stream",
     "text": [
      "\n",
      "Brand/Entity: TB_IQ\n",
      "Week: 2025-05-05\n"
     ]
    },
    {
     "data": {
      "application/vnd.jupyter.widget-view+json": {
       "model_id": "5399eb37130b4effbca89a0388c76977",
       "version_major": 2,
       "version_minor": 0
      },
      "text/plain": [
       "Weeks:   0%|          | 0/1 [00:00<?, ?it/s]"
      ]
     },
     "metadata": {},
     "output_type": "display_data"
    },
    {
     "name": "stdout",
     "output_type": "stream",
     "text": [
      "\n",
      "Brand/Entity: TB_KW\n",
      "Week: 2025-05-05\n"
     ]
    },
    {
     "data": {
      "application/vnd.jupyter.widget-view+json": {
       "model_id": "05ff3c16469b4c53b9241f8b9d76d8f0",
       "version_major": 2,
       "version_minor": 0
      },
      "text/plain": [
       "Weeks:   0%|          | 0/1 [00:00<?, ?it/s]"
      ]
     },
     "metadata": {},
     "output_type": "display_data"
    },
    {
     "name": "stdout",
     "output_type": "stream",
     "text": [
      "\n",
      "Brand/Entity: PY_AR\n",
      "Week: 2025-05-05\n"
     ]
    },
    {
     "data": {
      "application/vnd.jupyter.widget-view+json": {
       "model_id": "eecb751246334a23b55b7873b65e7713",
       "version_major": 2,
       "version_minor": 0
      },
      "text/plain": [
       "Weeks:   0%|          | 0/1 [00:00<?, ?it/s]"
      ]
     },
     "metadata": {},
     "output_type": "display_data"
    },
    {
     "name": "stdout",
     "output_type": "stream",
     "text": [
      "\n",
      "Brand/Entity: FP_PH\n",
      "Week: 2025-05-05\n"
     ]
    },
    {
     "data": {
      "application/vnd.jupyter.widget-view+json": {
       "model_id": "3e7950bc160b4626ab437a34f9500209",
       "version_major": 2,
       "version_minor": 0
      },
      "text/plain": [
       "Weeks:   0%|          | 0/1 [00:00<?, ?it/s]"
      ]
     },
     "metadata": {},
     "output_type": "display_data"
    },
    {
     "name": "stdout",
     "output_type": "stream",
     "text": [
      "\n",
      "Brand/Entity: MJM_AT\n",
      "Week: 2025-05-05\n"
     ]
    },
    {
     "data": {
      "application/vnd.jupyter.widget-view+json": {
       "model_id": "67174241471d473ab4ec8e4706450f08",
       "version_major": 2,
       "version_minor": 0
      },
      "text/plain": [
       "Weeks:   0%|          | 0/1 [00:00<?, ?it/s]"
      ]
     },
     "metadata": {},
     "output_type": "display_data"
    },
    {
     "name": "stdout",
     "output_type": "stream",
     "text": [
      "\n",
      "Brand/Entity: FP_TW\n",
      "Week: 2025-05-05\n"
     ]
    },
    {
     "data": {
      "application/vnd.jupyter.widget-view+json": {
       "model_id": "7eb3f9117fae468fa94a9b935af77222",
       "version_major": 2,
       "version_minor": 0
      },
      "text/plain": [
       "Weeks:   0%|          | 0/1 [00:00<?, ?it/s]"
      ]
     },
     "metadata": {},
     "output_type": "display_data"
    },
    {
     "name": "stdout",
     "output_type": "stream",
     "text": [
      "\n",
      "Brand/Entity: FO_NO\n",
      "Week: 2025-05-05\n"
     ]
    },
    {
     "data": {
      "application/vnd.jupyter.widget-view+json": {
       "model_id": "eea9117f33334d4b9f7c07c59f4862a9",
       "version_major": 2,
       "version_minor": 0
      },
      "text/plain": [
       "Weeks:   0%|          | 0/1 [00:00<?, ?it/s]"
      ]
     },
     "metadata": {},
     "output_type": "display_data"
    },
    {
     "name": "stdout",
     "output_type": "stream",
     "text": [
      "\n",
      "Brand/Entity: FP_SG\n",
      "Week: 2025-05-05\n"
     ]
    },
    {
     "data": {
      "application/vnd.jupyter.widget-view+json": {
       "model_id": "e55a4cf9256942b699587079dc152be0",
       "version_major": 2,
       "version_minor": 0
      },
      "text/plain": [
       "Weeks:   0%|          | 0/1 [00:00<?, ?it/s]"
      ]
     },
     "metadata": {},
     "output_type": "display_data"
    },
    {
     "name": "stdout",
     "output_type": "stream",
     "text": [
      "\n",
      "Brand/Entity: YS_TR\n",
      "Week: 2025-05-05\n"
     ]
    },
    {
     "data": {
      "application/vnd.jupyter.widget-view+json": {
       "model_id": "c6ea32f948d4473993e0ae0e8354aa2f",
       "version_major": 2,
       "version_minor": 0
      },
      "text/plain": [
       "Weeks:   0%|          | 0/1 [00:00<?, ?it/s]"
      ]
     },
     "metadata": {},
     "output_type": "display_data"
    },
    {
     "name": "stdout",
     "output_type": "stream",
     "text": [
      "\n",
      "Brand/Entity: PY_BO\n",
      "Week: 2025-05-05\n"
     ]
    },
    {
     "data": {
      "application/vnd.jupyter.widget-view+json": {
       "model_id": "b3c7bf572e7c4620995adeec0075d73f",
       "version_major": 2,
       "version_minor": 0
      },
      "text/plain": [
       "Weeks:   0%|          | 0/1 [00:00<?, ?it/s]"
      ]
     },
     "metadata": {},
     "output_type": "display_data"
    },
    {
     "name": "stdout",
     "output_type": "stream",
     "text": [
      "\n",
      "Brand/Entity: PY_HN\n",
      "Week: 2025-05-05\n"
     ]
    },
    {
     "data": {
      "application/vnd.jupyter.widget-view+json": {
       "model_id": "7bd483c693624fc48e56932b3e6a9b06",
       "version_major": 2,
       "version_minor": 0
      },
      "text/plain": [
       "Weeks:   0%|          | 0/1 [00:00<?, ?it/s]"
      ]
     },
     "metadata": {},
     "output_type": "display_data"
    },
    {
     "name": "stdout",
     "output_type": "stream",
     "text": [
      "\n",
      "Brand/Entity: HS_SA\n",
      "Week: 2025-05-05\n"
     ]
    },
    {
     "data": {
      "application/vnd.jupyter.widget-view+json": {
       "model_id": "ccfee7cc43c141469b5026ffdf69b998",
       "version_major": 2,
       "version_minor": 0
      },
      "text/plain": [
       "Weeks:   0%|          | 0/1 [00:00<?, ?it/s]"
      ]
     },
     "metadata": {},
     "output_type": "display_data"
    },
    {
     "name": "stdout",
     "output_type": "stream",
     "text": [
      "\n",
      "Brand/Entity: TB_OM\n",
      "Week: 2025-05-05\n"
     ]
    },
    {
     "data": {
      "application/vnd.jupyter.widget-view+json": {
       "model_id": "53c2790a54674e629a01a350ad8c6651",
       "version_major": 2,
       "version_minor": 0
      },
      "text/plain": [
       "Weeks:   0%|          | 0/1 [00:00<?, ?it/s]"
      ]
     },
     "metadata": {},
     "output_type": "display_data"
    },
    {
     "name": "stdout",
     "output_type": "stream",
     "text": [
      "\n",
      "Brand/Entity: EF_GR\n",
      "Week: 2025-05-05\n"
     ]
    },
    {
     "data": {
      "application/vnd.jupyter.widget-view+json": {
       "model_id": "cd703fd0091d46ce845554a203f19ffb",
       "version_major": 2,
       "version_minor": 0
      },
      "text/plain": [
       "Weeks:   0%|          | 0/1 [00:00<?, ?it/s]"
      ]
     },
     "metadata": {},
     "output_type": "display_data"
    },
    {
     "name": "stdout",
     "output_type": "stream",
     "text": [
      "\n",
      "Brand/Entity: FP_PK\n",
      "Week: 2025-05-05\n"
     ]
    },
    {
     "data": {
      "application/vnd.jupyter.widget-view+json": {
       "model_id": "76ca76b168fe491eb81daf208526f17a",
       "version_major": 2,
       "version_minor": 0
      },
      "text/plain": [
       "Weeks:   0%|          | 0/1 [00:00<?, ?it/s]"
      ]
     },
     "metadata": {},
     "output_type": "display_data"
    },
    {
     "name": "stdout",
     "output_type": "stream",
     "text": [
      "\n",
      "Brand/Entity: FP_BD\n",
      "Week: 2025-05-05\n"
     ]
    },
    {
     "data": {
      "application/vnd.jupyter.widget-view+json": {
       "model_id": "a8d11069b5db483e87b69b4e740f85ec",
       "version_major": 2,
       "version_minor": 0
      },
      "text/plain": [
       "Weeks:   0%|          | 0/1 [00:00<?, ?it/s]"
      ]
     },
     "metadata": {},
     "output_type": "display_data"
    },
    {
     "name": "stdout",
     "output_type": "stream",
     "text": [
      "\n",
      "Brand/Entity: PY_GT\n",
      "Week: 2025-05-05\n"
     ]
    },
    {
     "data": {
      "application/vnd.jupyter.widget-view+json": {
       "model_id": "c3c9e84fb3574a94829d3b2fb6c95471",
       "version_major": 2,
       "version_minor": 0
      },
      "text/plain": [
       "Weeks:   0%|          | 0/1 [00:00<?, ?it/s]"
      ]
     },
     "metadata": {},
     "output_type": "display_data"
    },
    {
     "name": "stdout",
     "output_type": "stream",
     "text": [
      "\n",
      "Brand/Entity: TB_AE\n",
      "Week: 2025-05-05\n"
     ]
    },
    {
     "data": {
      "application/vnd.jupyter.widget-view+json": {
       "model_id": "59186d54414348c692c82a874c9688b1",
       "version_major": 2,
       "version_minor": 0
      },
      "text/plain": [
       "Weeks:   0%|          | 0/1 [00:00<?, ?it/s]"
      ]
     },
     "metadata": {},
     "output_type": "display_data"
    },
    {
     "name": "stdout",
     "output_type": "stream",
     "text": [
      "\n",
      "Brand/Entity: OP_SE\n",
      "Week: 2025-05-05\n"
     ]
    },
    {
     "data": {
      "application/vnd.jupyter.widget-view+json": {
       "model_id": "3d5ede93023e48f28acd4ecea255b6e2",
       "version_major": 2,
       "version_minor": 0
      },
      "text/plain": [
       "Weeks:   0%|          | 0/1 [00:00<?, ?it/s]"
      ]
     },
     "metadata": {},
     "output_type": "display_data"
    },
    {
     "name": "stdout",
     "output_type": "stream",
     "text": [
      "\n",
      "Brand/Entity: FP_MY\n",
      "Week: 2025-05-05\n"
     ]
    },
    {
     "data": {
      "application/vnd.jupyter.widget-view+json": {
       "model_id": "d04b15d562664da8a98bc3e3e5752466",
       "version_major": 2,
       "version_minor": 0
      },
      "text/plain": [
       "Weeks:   0%|          | 0/1 [00:00<?, ?it/s]"
      ]
     },
     "metadata": {},
     "output_type": "display_data"
    },
    {
     "name": "stdout",
     "output_type": "stream",
     "text": [
      "\n",
      "Brand/Entity: PY_SV\n",
      "Week: 2025-05-05\n"
     ]
    },
    {
     "data": {
      "application/vnd.jupyter.widget-view+json": {
       "model_id": "8aa7b379d3184a01a0f1081ddb39810d",
       "version_major": 2,
       "version_minor": 0
      },
      "text/plain": [
       "Weeks:   0%|          | 0/1 [00:00<?, ?it/s]"
      ]
     },
     "metadata": {},
     "output_type": "display_data"
    },
    {
     "name": "stdout",
     "output_type": "stream",
     "text": [
      "\n",
      "Brand/Entity: TB_QA\n",
      "Week: 2025-05-05\n"
     ]
    },
    {
     "data": {
      "application/vnd.jupyter.widget-view+json": {
       "model_id": "639e0d09bb8c4f21a9f8a95e326d91a8",
       "version_major": 2,
       "version_minor": 0
      },
      "text/plain": [
       "Weeks:   0%|          | 0/1 [00:00<?, ?it/s]"
      ]
     },
     "metadata": {},
     "output_type": "display_data"
    },
    {
     "name": "stdout",
     "output_type": "stream",
     "text": [
      "\n",
      "Brand/Entity: TB_BH\n",
      "Week: 2025-05-05\n"
     ]
    },
    {
     "data": {
      "application/vnd.jupyter.widget-view+json": {
       "model_id": "12339e10f809413fa81bc5e1eab98f62",
       "version_major": 2,
       "version_minor": 0
      },
      "text/plain": [
       "Weeks:   0%|          | 0/1 [00:00<?, ?it/s]"
      ]
     },
     "metadata": {},
     "output_type": "display_data"
    },
    {
     "name": "stdout",
     "output_type": "stream",
     "text": [
      "\n",
      "Brand/Entity: TB_JO\n",
      "Week: 2025-05-05\n"
     ]
    },
    {
     "data": {
      "application/vnd.jupyter.widget-view+json": {
       "model_id": "87d0c27d2b1a467eb8c3ef9ed9c6a014",
       "version_major": 2,
       "version_minor": 0
      },
      "text/plain": [
       "Weeks:   0%|          | 0/1 [00:00<?, ?it/s]"
      ]
     },
     "metadata": {},
     "output_type": "display_data"
    },
    {
     "name": "stdout",
     "output_type": "stream",
     "text": [
      "\n",
      "Brand/Entity: NP_HU\n",
      "Week: 2025-05-05\n"
     ]
    },
    {
     "data": {
      "application/vnd.jupyter.widget-view+json": {
       "model_id": "0a152f874fbc4d648f4dac69cef8adfd",
       "version_major": 2,
       "version_minor": 0
      },
      "text/plain": [
       "Weeks:   0%|          | 0/1 [00:00<?, ?it/s]"
      ]
     },
     "metadata": {},
     "output_type": "display_data"
    },
    {
     "name": "stdout",
     "output_type": "stream",
     "text": [
      "\n",
      "Brand/Entity: PY_DO\n",
      "Week: 2025-05-05\n"
     ]
    },
    {
     "data": {
      "application/vnd.jupyter.widget-view+json": {
       "model_id": "fc339a9bd0a140f782abc4871934c4e3",
       "version_major": 2,
       "version_minor": 0
      },
      "text/plain": [
       "Weeks:   0%|          | 0/1 [00:00<?, ?it/s]"
      ]
     },
     "metadata": {},
     "output_type": "display_data"
    },
    {
     "name": "stdout",
     "output_type": "stream",
     "text": [
      "\n",
      "Brand/Entity: PY_PE\n",
      "Week: 2025-05-05\n"
     ]
    },
    {
     "data": {
      "application/vnd.jupyter.widget-view+json": {
       "model_id": "400faaf0fa1c448f81c069f70ae9d4b9",
       "version_major": 2,
       "version_minor": 0
      },
      "text/plain": [
       "Weeks:   0%|          | 0/1 [00:00<?, ?it/s]"
      ]
     },
     "metadata": {},
     "output_type": "display_data"
    },
    {
     "name": "stdout",
     "output_type": "stream",
     "text": [
      "\n",
      "Brand/Entity: FP_LA\n",
      "Week: 2025-05-05\n"
     ]
    },
    {
     "data": {
      "application/vnd.jupyter.widget-view+json": {
       "model_id": "9be85ecf5cdd4d61b2e3bc40413bc80c",
       "version_major": 2,
       "version_minor": 0
      },
      "text/plain": [
       "Weeks:   0%|          | 0/1 [00:00<?, ?it/s]"
      ]
     },
     "metadata": {},
     "output_type": "display_data"
    },
    {
     "name": "stdout",
     "output_type": "stream",
     "text": [
      "\n",
      "Brand/Entity: PY_NI\n",
      "Week: 2025-05-05\n"
     ]
    },
    {
     "data": {
      "application/vnd.jupyter.widget-view+json": {
       "model_id": "1e984704758f4e5b8fb3b5c355b38024",
       "version_major": 2,
       "version_minor": 0
      },
      "text/plain": [
       "Weeks:   0%|          | 0/1 [00:00<?, ?it/s]"
      ]
     },
     "metadata": {},
     "output_type": "display_data"
    },
    {
     "name": "stdout",
     "output_type": "stream",
     "text": [
      "\n",
      "Brand/Entity: FP_MM\n",
      "Week: 2025-05-05\n"
     ]
    },
    {
     "data": {
      "application/vnd.jupyter.widget-view+json": {
       "model_id": "e84c02b0fd4d454880e6646f4c7eddd1",
       "version_major": 2,
       "version_minor": 0
      },
      "text/plain": [
       "Weeks:   0%|          | 0/1 [00:00<?, ?it/s]"
      ]
     },
     "metadata": {},
     "output_type": "display_data"
    },
    {
     "name": "stdout",
     "output_type": "stream",
     "text": [
      "\n",
      "Brand/Entity: PY_CL\n",
      "Week: 2025-05-05\n"
     ]
    },
    {
     "data": {
      "application/vnd.jupyter.widget-view+json": {
       "model_id": "236d8dd542934469ad83fed38ef7545a",
       "version_major": 2,
       "version_minor": 0
      },
      "text/plain": [
       "Weeks:   0%|          | 0/1 [00:00<?, ?it/s]"
      ]
     },
     "metadata": {},
     "output_type": "display_data"
    },
    {
     "name": "stdout",
     "output_type": "stream",
     "text": [
      "\n",
      "Brand/Entity: PY_PY\n",
      "Week: 2025-05-05\n"
     ]
    },
    {
     "data": {
      "application/vnd.jupyter.widget-view+json": {
       "model_id": "a7c653e3b30c41ecb1384956f109252e",
       "version_major": 2,
       "version_minor": 0
      },
      "text/plain": [
       "Weeks:   0%|          | 0/1 [00:00<?, ?it/s]"
      ]
     },
     "metadata": {},
     "output_type": "display_data"
    },
    {
     "name": "stdout",
     "output_type": "stream",
     "text": [
      "\n",
      "Brand/Entity: FP_TH\n",
      "Week: 2025-05-05\n"
     ]
    },
    {
     "data": {
      "application/vnd.jupyter.widget-view+json": {
       "model_id": "9bc1fb1364654bd8bfe99d9c8371e382",
       "version_major": 2,
       "version_minor": 0
      },
      "text/plain": [
       "Weeks:   0%|          | 0/1 [00:00<?, ?it/s]"
      ]
     },
     "metadata": {},
     "output_type": "display_data"
    },
    {
     "name": "stdout",
     "output_type": "stream",
     "text": [
      "\n",
      "Brand/Entity: PY_UY\n",
      "Week: 2025-05-05\n"
     ]
    },
    {
     "data": {
      "application/vnd.jupyter.widget-view+json": {
       "model_id": "a0a945bc1d5748ecac0f2c2094eb6dff",
       "version_major": 2,
       "version_minor": 0
      },
      "text/plain": [
       "Weeks:   0%|          | 0/1 [00:00<?, ?it/s]"
      ]
     },
     "metadata": {},
     "output_type": "display_data"
    },
    {
     "name": "stdout",
     "output_type": "stream",
     "text": [
      "\n",
      "Brand/Entity: DJ_CZ\n",
      "Week: 2025-05-05\n"
     ]
    },
    {
     "data": {
      "application/vnd.jupyter.widget-view+json": {
       "model_id": "419ff943989e4aa3810d3f8615f09490",
       "version_major": 2,
       "version_minor": 0
      },
      "text/plain": [
       "Weeks:   0%|          | 0/1 [00:00<?, ?it/s]"
      ]
     },
     "metadata": {},
     "output_type": "display_data"
    },
    {
     "name": "stdout",
     "output_type": "stream",
     "text": [
      "\n",
      "Brand/Entity: PY_EC\n",
      "Week: 2025-05-05\n"
     ]
    },
    {
     "data": {
      "application/vnd.jupyter.widget-view+json": {
       "model_id": "7b88b739bc8347a1b8d01259c15621dd",
       "version_major": 2,
       "version_minor": 0
      },
      "text/plain": [
       "Weeks:   0%|          | 0/1 [00:00<?, ?it/s]"
      ]
     },
     "metadata": {},
     "output_type": "display_data"
    },
    {
     "name": "stdout",
     "output_type": "stream",
     "text": [
      "\n",
      "Brand/Entity: FY_CY\n",
      "Week: 2025-05-05\n"
     ]
    },
    {
     "data": {
      "application/vnd.jupyter.widget-view+json": {
       "model_id": "0556b34c91584de6b06ae4fa4ed0f451",
       "version_major": 2,
       "version_minor": 0
      },
      "text/plain": [
       "Weeks:   0%|          | 0/1 [00:00<?, ?it/s]"
      ]
     },
     "metadata": {},
     "output_type": "display_data"
    },
    {
     "name": "stdout",
     "output_type": "stream",
     "text": [
      "\n",
      "Brand/Entity: PY_VE\n",
      "Week: 2025-05-05\n"
     ]
    },
    {
     "data": {
      "application/vnd.jupyter.widget-view+json": {
       "model_id": "8280787131974e7188ffa4d87b83f374",
       "version_major": 2,
       "version_minor": 0
      },
      "text/plain": [
       "Weeks:   0%|          | 0/1 [00:00<?, ?it/s]"
      ]
     },
     "metadata": {},
     "output_type": "display_data"
    },
    {
     "name": "stdout",
     "output_type": "stream",
     "text": [
      "\n",
      "Brand/Entity: AP_PA\n",
      "Week: 2025-05-05\n"
     ]
    },
    {
     "data": {
      "application/vnd.jupyter.widget-view+json": {
       "model_id": "6e7152c62030440589f500353715cef0",
       "version_major": 2,
       "version_minor": 0
      },
      "text/plain": [
       "Weeks:   0%|          | 0/1 [00:00<?, ?it/s]"
      ]
     },
     "metadata": {},
     "output_type": "display_data"
    },
    {
     "name": "stdout",
     "output_type": "stream",
     "text": [
      "\n",
      "Brand/Entity: PO_FI\n",
      "Week: 2025-05-05\n"
     ]
    },
    {
     "data": {
      "application/vnd.jupyter.widget-view+json": {
       "model_id": "360418b332f04cc2b598f2165c6bad77",
       "version_major": 2,
       "version_minor": 0
      },
      "text/plain": [
       "Weeks:   0%|          | 0/1 [00:00<?, ?it/s]"
      ]
     },
     "metadata": {},
     "output_type": "display_data"
    },
    {
     "name": "stdout",
     "output_type": "stream",
     "text": [
      "\n",
      "Brand/Entity: PY_CR\n",
      "Week: 2025-05-05\n"
     ]
    },
    {
     "data": {
      "application/vnd.jupyter.widget-view+json": {
       "model_id": "c33204f988e7408d828e9ab52adeb560",
       "version_major": 2,
       "version_minor": 0
      },
      "text/plain": [
       "Weeks:   0%|          | 0/1 [00:00<?, ?it/s]"
      ]
     },
     "metadata": {},
     "output_type": "display_data"
    },
    {
     "name": "stdout",
     "output_type": "stream",
     "text": [
      "\n",
      "Brand/Entity: HF_EG\n",
      "Week: 2025-05-05\n"
     ]
    },
    {
     "data": {
      "application/vnd.jupyter.widget-view+json": {
       "model_id": "ad86c194c6fc44a3bdb47679a8ba485c",
       "version_major": 2,
       "version_minor": 0
      },
      "text/plain": [
       "Weeks:   0%|          | 0/1 [00:00<?, ?it/s]"
      ]
     },
     "metadata": {},
     "output_type": "display_data"
    },
    {
     "name": "stdout",
     "output_type": "stream",
     "text": [
      "\n",
      "Brand/Entity: GV_RO\n",
      "Week: 2025-05-05\n"
     ]
    },
    {
     "data": {
      "application/vnd.jupyter.widget-view+json": {
       "model_id": "266e2a52759943dd80a46353448c94ed",
       "version_major": 2,
       "version_minor": 0
      },
      "text/plain": [
       "Weeks:   0%|          | 0/1 [00:00<?, ?it/s]"
      ]
     },
     "metadata": {},
     "output_type": "display_data"
    },
    {
     "name": "stdout",
     "output_type": "stream",
     "text": [
      "\n",
      "Brand/Entity: GV_RS\n",
      "Week: 2025-05-05\n"
     ]
    },
    {
     "data": {
      "application/vnd.jupyter.widget-view+json": {
       "model_id": "907d6f7dddef40019f533cdb4af3a58f",
       "version_major": 2,
       "version_minor": 0
      },
      "text/plain": [
       "Weeks:   0%|          | 0/1 [00:00<?, ?it/s]"
      ]
     },
     "metadata": {},
     "output_type": "display_data"
    },
    {
     "name": "stdout",
     "output_type": "stream",
     "text": [
      "\n",
      "Brand/Entity: GV_CI\n",
      "Week: 2025-05-05\n"
     ]
    },
    {
     "data": {
      "application/vnd.jupyter.widget-view+json": {
       "model_id": "0b964a882bfa4d02a72e920ee16aa463",
       "version_major": 2,
       "version_minor": 0
      },
      "text/plain": [
       "Weeks:   0%|          | 0/1 [00:00<?, ?it/s]"
      ]
     },
     "metadata": {},
     "output_type": "display_data"
    },
    {
     "name": "stdout",
     "output_type": "stream",
     "text": [
      "\n",
      "Brand/Entity: GV_KE\n",
      "Week: 2025-05-05\n"
     ]
    },
    {
     "data": {
      "application/vnd.jupyter.widget-view+json": {
       "model_id": "40c8fcd32a204e58b96aa404a50686a9",
       "version_major": 2,
       "version_minor": 0
      },
      "text/plain": [
       "Weeks:   0%|          | 0/1 [00:00<?, ?it/s]"
      ]
     },
     "metadata": {},
     "output_type": "display_data"
    },
    {
     "name": "stdout",
     "output_type": "stream",
     "text": [
      "\n",
      "Brand/Entity: GV_BG\n",
      "Week: 2025-05-05\n"
     ]
    },
    {
     "data": {
      "application/vnd.jupyter.widget-view+json": {
       "model_id": "65695bbef0014ba49ad0d13cac8c3b34",
       "version_major": 2,
       "version_minor": 0
      },
      "text/plain": [
       "Weeks:   0%|          | 0/1 [00:00<?, ?it/s]"
      ]
     },
     "metadata": {},
     "output_type": "display_data"
    },
    {
     "name": "stdout",
     "output_type": "stream",
     "text": [
      "\n",
      "Brand/Entity: GV_NG\n",
      "Week: 2025-05-05\n"
     ]
    },
    {
     "data": {
      "application/vnd.jupyter.widget-view+json": {
       "model_id": "3f8eaf3406914e05ad4bc3fc8e9ac072",
       "version_major": 2,
       "version_minor": 0
      },
      "text/plain": [
       "Weeks:   0%|          | 0/1 [00:00<?, ?it/s]"
      ]
     },
     "metadata": {},
     "output_type": "display_data"
    },
    {
     "name": "stdout",
     "output_type": "stream",
     "text": [
      "\n",
      "Brand/Entity: GV_HR\n",
      "Week: 2025-05-05\n"
     ]
    },
    {
     "data": {
      "application/vnd.jupyter.widget-view+json": {
       "model_id": "97ee5fe7e9b943f3b6492def8f50f3a4",
       "version_major": 2,
       "version_minor": 0
      },
      "text/plain": [
       "Weeks:   0%|          | 0/1 [00:00<?, ?it/s]"
      ]
     },
     "metadata": {},
     "output_type": "display_data"
    },
    {
     "name": "stdout",
     "output_type": "stream",
     "text": [
      "\n",
      "Brand/Entity: GV_UG\n",
      "Week: 2025-05-05\n"
     ]
    },
    {
     "data": {
      "application/vnd.jupyter.widget-view+json": {
       "model_id": "480103ffd00f4e8a9d4f29aac30990b2",
       "version_major": 2,
       "version_minor": 0
      },
      "text/plain": [
       "Weeks:   0%|          | 0/1 [00:00<?, ?it/s]"
      ]
     },
     "metadata": {},
     "output_type": "display_data"
    },
    {
     "name": "stdout",
     "output_type": "stream",
     "text": [
      "\n",
      "Brand/Entity: GV_BA\n",
      "Week: 2025-05-05\n"
     ]
    },
    {
     "data": {
      "application/vnd.jupyter.widget-view+json": {
       "model_id": "6146081c18a246f29752b9263997313c",
       "version_major": 2,
       "version_minor": 0
      },
      "text/plain": [
       "Weeks:   0%|          | 0/1 [00:00<?, ?it/s]"
      ]
     },
     "metadata": {},
     "output_type": "display_data"
    },
    {
     "name": "stdout",
     "output_type": "stream",
     "text": [
      "\n",
      "Brand/Entity: GV_MA\n",
      "Week: 2025-05-05\n"
     ]
    },
    {
     "data": {
      "application/vnd.jupyter.widget-view+json": {
       "model_id": "23b9da70741849cb9199034323432d0f",
       "version_major": 2,
       "version_minor": 0
      },
      "text/plain": [
       "Weeks:   0%|          | 0/1 [00:00<?, ?it/s]"
      ]
     },
     "metadata": {},
     "output_type": "display_data"
    },
    {
     "name": "stdout",
     "output_type": "stream",
     "text": [
      "\n",
      "Brand/Entity: GV_TN\n",
      "Week: 2025-05-05\n"
     ]
    },
    {
     "data": {
      "application/vnd.jupyter.widget-view+json": {
       "model_id": "c0753fa21d704ad0932c83c1c7d83949",
       "version_major": 2,
       "version_minor": 0
      },
      "text/plain": [
       "Weeks:   0%|          | 0/1 [00:00<?, ?it/s]"
      ]
     },
     "metadata": {},
     "output_type": "display_data"
    },
    {
     "name": "stdout",
     "output_type": "stream",
     "text": [
      "\n",
      "Brand/Entity: GV_MD\n",
      "Week: 2025-05-05\n"
     ]
    },
    {
     "data": {
      "application/vnd.jupyter.widget-view+json": {
       "model_id": "6d9105a4f9e24b1f8b01599c6dd4c10d",
       "version_major": 2,
       "version_minor": 0
      },
      "text/plain": [
       "Weeks:   0%|          | 0/1 [00:00<?, ?it/s]"
      ]
     },
     "metadata": {},
     "output_type": "display_data"
    },
    {
     "name": "stdout",
     "output_type": "stream",
     "text": [
      "\n",
      "Brand/Entity: GV_ME\n",
      "Week: 2025-05-05\n"
     ]
    }
   ],
   "source": [
    "boostrapped_df = apply_bootstrap_diff_means(raw_cuped_cumm_df_brand, \"entity_id\",  adjusted_metrics, n_resamples = 1000, alpha = 0.05, seed = 42)"
   ]
  },
  {
   "cell_type": "code",
   "execution_count": 51,
   "metadata": {},
   "outputs": [
    {
     "data": {
      "text/html": [
       "<div>\n",
       "<style scoped>\n",
       "    .dataframe tbody tr th:only-of-type {\n",
       "        vertical-align: middle;\n",
       "    }\n",
       "\n",
       "    .dataframe tbody tr th {\n",
       "        vertical-align: top;\n",
       "    }\n",
       "\n",
       "    .dataframe thead th {\n",
       "        text-align: right;\n",
       "    }\n",
       "</style>\n",
       "<table border=\"1\" class=\"dataframe\">\n",
       "  <thead>\n",
       "    <tr style=\"text-align: right;\">\n",
       "      <th></th>\n",
       "      <th>brand_name</th>\n",
       "      <th>as_of_date</th>\n",
       "      <th>analytical_profit_post_cuped_observed_diff</th>\n",
       "      <th>analytical_profit_post_cuped_ci_low</th>\n",
       "      <th>analytical_profit_post_cuped_ci_high</th>\n",
       "      <th>analytical_profit_post_cuped_abs_lift</th>\n",
       "      <th>analytical_profit_post_cuped_abs_ci_low</th>\n",
       "      <th>analytical_profit_post_cuped_abs_ci_high</th>\n",
       "      <th>analytical_profit_post_cuped_pct_diff</th>\n",
       "      <th>analytical_profit_post_cuped_pct_ci_low</th>\n",
       "      <th>...</th>\n",
       "      <th>orders_post_cuped_abs_ci_high</th>\n",
       "      <th>orders_post_cuped_pct_diff</th>\n",
       "      <th>orders_post_cuped_pct_ci_low</th>\n",
       "      <th>orders_post_cuped_pct_ci_high</th>\n",
       "      <th>orders_post_cuped_total_non_holdout</th>\n",
       "      <th>orders_post_cuped_total_holdout</th>\n",
       "      <th>orders_post_cuped_mean_non_holdout</th>\n",
       "      <th>orders_post_cuped_mean_holdout</th>\n",
       "      <th>orders_post_cuped_n_users_non_holdout</th>\n",
       "      <th>orders_post_cuped_n_users_holdout</th>\n",
       "    </tr>\n",
       "  </thead>\n",
       "  <tbody>\n",
       "    <tr>\n",
       "      <th>0</th>\n",
       "      <td>Talabat</td>\n",
       "      <td>2025-05-05</td>\n",
       "      <td>0.611234</td>\n",
       "      <td>0.442433</td>\n",
       "      <td>0.773039</td>\n",
       "      <td>6.260849e+06</td>\n",
       "      <td>4.531822e+06</td>\n",
       "      <td>7.918211e+06</td>\n",
       "      <td>0.029149</td>\n",
       "      <td>0.021099</td>\n",
       "      <td>...</td>\n",
       "      <td>2.199832e+06</td>\n",
       "      <td>0.015133</td>\n",
       "      <td>0.010122</td>\n",
       "      <td>0.020375</td>\n",
       "      <td>112541054.0</td>\n",
       "      <td>2247585.0</td>\n",
       "      <td>10.700324</td>\n",
       "      <td>10.540809</td>\n",
       "      <td>10242968</td>\n",
       "      <td>207701</td>\n",
       "    </tr>\n",
       "    <tr>\n",
       "      <th>1</th>\n",
       "      <td>PEYA</td>\n",
       "      <td>2025-05-05</td>\n",
       "      <td>0.250919</td>\n",
       "      <td>0.191199</td>\n",
       "      <td>0.310079</td>\n",
       "      <td>3.206832e+06</td>\n",
       "      <td>2.443588e+06</td>\n",
       "      <td>3.962916e+06</td>\n",
       "      <td>0.030092</td>\n",
       "      <td>0.022930</td>\n",
       "      <td>...</td>\n",
       "      <td>1.466168e+06</td>\n",
       "      <td>0.016452</td>\n",
       "      <td>0.011926</td>\n",
       "      <td>0.021069</td>\n",
       "      <td>71199326.0</td>\n",
       "      <td>1419840.0</td>\n",
       "      <td>5.534631</td>\n",
       "      <td>5.445049</td>\n",
       "      <td>12780349</td>\n",
       "      <td>259056</td>\n",
       "    </tr>\n",
       "    <tr>\n",
       "      <th>2</th>\n",
       "      <td>Pandora</td>\n",
       "      <td>2025-05-05</td>\n",
       "      <td>0.310044</td>\n",
       "      <td>0.272734</td>\n",
       "      <td>0.344605</td>\n",
       "      <td>9.867578e+06</td>\n",
       "      <td>8.680154e+06</td>\n",
       "      <td>1.096754e+07</td>\n",
       "      <td>0.061880</td>\n",
       "      <td>0.054434</td>\n",
       "      <td>...</td>\n",
       "      <td>-6.132586e+05</td>\n",
       "      <td>-0.006437</td>\n",
       "      <td>-0.009677</td>\n",
       "      <td>-0.003158</td>\n",
       "      <td>192933327.0</td>\n",
       "      <td>3939756.0</td>\n",
       "      <td>6.062046</td>\n",
       "      <td>6.101319</td>\n",
       "      <td>31826426</td>\n",
       "      <td>645722</td>\n",
       "    </tr>\n",
       "    <tr>\n",
       "      <th>3</th>\n",
       "      <td>HungerStation</td>\n",
       "      <td>2025-05-05</td>\n",
       "      <td>0.059318</td>\n",
       "      <td>0.005589</td>\n",
       "      <td>0.121708</td>\n",
       "      <td>3.605335e+05</td>\n",
       "      <td>3.396972e+04</td>\n",
       "      <td>7.397441e+05</td>\n",
       "      <td>0.012034</td>\n",
       "      <td>0.001134</td>\n",
       "      <td>...</td>\n",
       "      <td>2.308970e+05</td>\n",
       "      <td>0.007004</td>\n",
       "      <td>0.000950</td>\n",
       "      <td>0.013589</td>\n",
       "      <td>17109943.0</td>\n",
       "      <td>343777.0</td>\n",
       "      <td>2.815059</td>\n",
       "      <td>2.795480</td>\n",
       "      <td>6078005</td>\n",
       "      <td>122976</td>\n",
       "    </tr>\n",
       "    <tr>\n",
       "      <th>4</th>\n",
       "      <td>GR/CY</td>\n",
       "      <td>2025-05-05</td>\n",
       "      <td>0.312899</td>\n",
       "      <td>0.131400</td>\n",
       "      <td>0.520522</td>\n",
       "      <td>5.157374e+05</td>\n",
       "      <td>2.165813e+05</td>\n",
       "      <td>8.579540e+05</td>\n",
       "      <td>0.048861</td>\n",
       "      <td>0.020519</td>\n",
       "      <td>...</td>\n",
       "      <td>5.854916e+05</td>\n",
       "      <td>0.045991</td>\n",
       "      <td>0.032868</td>\n",
       "      <td>0.056963</td>\n",
       "      <td>10936389.0</td>\n",
       "      <td>210800.0</td>\n",
       "      <td>6.522746</td>\n",
       "      <td>6.235948</td>\n",
       "      <td>1648256</td>\n",
       "      <td>33239</td>\n",
       "    </tr>\n",
       "    <tr>\n",
       "      <th>5</th>\n",
       "      <td>Glovo</td>\n",
       "      <td>2025-05-05</td>\n",
       "      <td>0.395131</td>\n",
       "      <td>0.301718</td>\n",
       "      <td>0.493048</td>\n",
       "      <td>1.525237e+06</td>\n",
       "      <td>1.164657e+06</td>\n",
       "      <td>1.903203e+06</td>\n",
       "      <td>0.073753</td>\n",
       "      <td>0.056317</td>\n",
       "      <td>...</td>\n",
       "      <td>2.290185e+05</td>\n",
       "      <td>0.003565</td>\n",
       "      <td>-0.006031</td>\n",
       "      <td>0.013318</td>\n",
       "      <td>17328408.0</td>\n",
       "      <td>351260.0</td>\n",
       "      <td>4.470727</td>\n",
       "      <td>4.454844</td>\n",
       "      <td>3860079</td>\n",
       "      <td>78530</td>\n",
       "    </tr>\n",
       "  </tbody>\n",
       "</table>\n",
       "<p>6 rows × 32 columns</p>\n",
       "</div>"
      ],
      "text/plain": [
       "      brand_name as_of_date  analytical_profit_post_cuped_observed_diff  \\\n",
       "0        Talabat 2025-05-05                                    0.611234   \n",
       "1           PEYA 2025-05-05                                    0.250919   \n",
       "2        Pandora 2025-05-05                                    0.310044   \n",
       "3  HungerStation 2025-05-05                                    0.059318   \n",
       "4          GR/CY 2025-05-05                                    0.312899   \n",
       "5          Glovo 2025-05-05                                    0.395131   \n",
       "\n",
       "   analytical_profit_post_cuped_ci_low  analytical_profit_post_cuped_ci_high  \\\n",
       "0                             0.442433                              0.773039   \n",
       "1                             0.191199                              0.310079   \n",
       "2                             0.272734                              0.344605   \n",
       "3                             0.005589                              0.121708   \n",
       "4                             0.131400                              0.520522   \n",
       "5                             0.301718                              0.493048   \n",
       "\n",
       "   analytical_profit_post_cuped_abs_lift  \\\n",
       "0                           6.260849e+06   \n",
       "1                           3.206832e+06   \n",
       "2                           9.867578e+06   \n",
       "3                           3.605335e+05   \n",
       "4                           5.157374e+05   \n",
       "5                           1.525237e+06   \n",
       "\n",
       "   analytical_profit_post_cuped_abs_ci_low  \\\n",
       "0                             4.531822e+06   \n",
       "1                             2.443588e+06   \n",
       "2                             8.680154e+06   \n",
       "3                             3.396972e+04   \n",
       "4                             2.165813e+05   \n",
       "5                             1.164657e+06   \n",
       "\n",
       "   analytical_profit_post_cuped_abs_ci_high  \\\n",
       "0                              7.918211e+06   \n",
       "1                              3.962916e+06   \n",
       "2                              1.096754e+07   \n",
       "3                              7.397441e+05   \n",
       "4                              8.579540e+05   \n",
       "5                              1.903203e+06   \n",
       "\n",
       "   analytical_profit_post_cuped_pct_diff  \\\n",
       "0                               0.029149   \n",
       "1                               0.030092   \n",
       "2                               0.061880   \n",
       "3                               0.012034   \n",
       "4                               0.048861   \n",
       "5                               0.073753   \n",
       "\n",
       "   analytical_profit_post_cuped_pct_ci_low  ...  \\\n",
       "0                                 0.021099  ...   \n",
       "1                                 0.022930  ...   \n",
       "2                                 0.054434  ...   \n",
       "3                                 0.001134  ...   \n",
       "4                                 0.020519  ...   \n",
       "5                                 0.056317  ...   \n",
       "\n",
       "   orders_post_cuped_abs_ci_high  orders_post_cuped_pct_diff  \\\n",
       "0                   2.199832e+06                    0.015133   \n",
       "1                   1.466168e+06                    0.016452   \n",
       "2                  -6.132586e+05                   -0.006437   \n",
       "3                   2.308970e+05                    0.007004   \n",
       "4                   5.854916e+05                    0.045991   \n",
       "5                   2.290185e+05                    0.003565   \n",
       "\n",
       "   orders_post_cuped_pct_ci_low  orders_post_cuped_pct_ci_high  \\\n",
       "0                      0.010122                       0.020375   \n",
       "1                      0.011926                       0.021069   \n",
       "2                     -0.009677                      -0.003158   \n",
       "3                      0.000950                       0.013589   \n",
       "4                      0.032868                       0.056963   \n",
       "5                     -0.006031                       0.013318   \n",
       "\n",
       "   orders_post_cuped_total_non_holdout  orders_post_cuped_total_holdout  \\\n",
       "0                          112541054.0                        2247585.0   \n",
       "1                           71199326.0                        1419840.0   \n",
       "2                          192933327.0                        3939756.0   \n",
       "3                           17109943.0                         343777.0   \n",
       "4                           10936389.0                         210800.0   \n",
       "5                           17328408.0                         351260.0   \n",
       "\n",
       "   orders_post_cuped_mean_non_holdout  orders_post_cuped_mean_holdout  \\\n",
       "0                           10.700324                       10.540809   \n",
       "1                            5.534631                        5.445049   \n",
       "2                            6.062046                        6.101319   \n",
       "3                            2.815059                        2.795480   \n",
       "4                            6.522746                        6.235948   \n",
       "5                            4.470727                        4.454844   \n",
       "\n",
       "   orders_post_cuped_n_users_non_holdout  orders_post_cuped_n_users_holdout  \n",
       "0                               10242968                             207701  \n",
       "1                               12780349                             259056  \n",
       "2                               31826426                             645722  \n",
       "3                                6078005                             122976  \n",
       "4                                1648256                              33239  \n",
       "5                                3860079                              78530  \n",
       "\n",
       "[6 rows x 32 columns]"
      ]
     },
     "execution_count": 51,
     "metadata": {},
     "output_type": "execute_result"
    }
   ],
   "source": [
    "boostrapped_df"
   ]
  },
  {
   "cell_type": "code",
   "execution_count": 58,
   "metadata": {},
   "outputs": [
    {
     "data": {
      "text/html": [
       "<div>\n",
       "<style scoped>\n",
       "    .dataframe tbody tr th:only-of-type {\n",
       "        vertical-align: middle;\n",
       "    }\n",
       "\n",
       "    .dataframe tbody tr th {\n",
       "        vertical-align: top;\n",
       "    }\n",
       "\n",
       "    .dataframe thead th {\n",
       "        text-align: right;\n",
       "    }\n",
       "</style>\n",
       "<table border=\"1\" class=\"dataframe\">\n",
       "  <thead>\n",
       "    <tr style=\"text-align: right;\">\n",
       "      <th></th>\n",
       "      <th>brand_name</th>\n",
       "      <th>as_of_date</th>\n",
       "      <th>analytical_profit_post_cuped_observed_diff</th>\n",
       "      <th>analytical_profit_post_cuped_ci_low</th>\n",
       "      <th>analytical_profit_post_cuped_ci_high</th>\n",
       "      <th>analytical_profit_post_cuped_pct_diff</th>\n",
       "      <th>analytical_profit_post_cuped_pct_ci_low</th>\n",
       "      <th>analytical_profit_post_cuped_pct_ci_high</th>\n",
       "      <th>analytical_profit_post_cuped_se</th>\n",
       "      <th>analytical_profit_post_cuped_t_statistic</th>\n",
       "      <th>...</th>\n",
       "      <th>orders_post_cuped_pct_diff</th>\n",
       "      <th>orders_post_cuped_pct_ci_low</th>\n",
       "      <th>orders_post_cuped_pct_ci_high</th>\n",
       "      <th>orders_post_cuped_se</th>\n",
       "      <th>orders_post_cuped_t_statistic</th>\n",
       "      <th>orders_post_cuped_p_value</th>\n",
       "      <th>orders_post_cuped_mean_non_holdout</th>\n",
       "      <th>orders_post_cuped_mean_holdout</th>\n",
       "      <th>orders_post_cuped_n_users_non_holdout</th>\n",
       "      <th>orders_post_cuped_n_users_holdout</th>\n",
       "    </tr>\n",
       "  </thead>\n",
       "  <tbody>\n",
       "    <tr>\n",
       "      <th>0</th>\n",
       "      <td>Talabat</td>\n",
       "      <td>2025-05-05</td>\n",
       "      <td>0.611234</td>\n",
       "      <td>0.445730</td>\n",
       "      <td>0.776737</td>\n",
       "      <td>0.029149</td>\n",
       "      <td>0.021256</td>\n",
       "      <td>0.037042</td>\n",
       "      <td>0.084442</td>\n",
       "      <td>7.238530</td>\n",
       "      <td>...</td>\n",
       "      <td>0.015133</td>\n",
       "      <td>0.010234</td>\n",
       "      <td>0.020032</td>\n",
       "      <td>0.026349</td>\n",
       "      <td>6.053999</td>\n",
       "      <td>1.415181e-09</td>\n",
       "      <td>10.700324</td>\n",
       "      <td>10.540809</td>\n",
       "      <td>10517537</td>\n",
       "      <td>213227</td>\n",
       "    </tr>\n",
       "    <tr>\n",
       "      <th>1</th>\n",
       "      <td>PEYA</td>\n",
       "      <td>2025-05-05</td>\n",
       "      <td>0.250919</td>\n",
       "      <td>0.191243</td>\n",
       "      <td>0.310595</td>\n",
       "      <td>0.030092</td>\n",
       "      <td>0.022935</td>\n",
       "      <td>0.037249</td>\n",
       "      <td>0.030447</td>\n",
       "      <td>8.241077</td>\n",
       "      <td>...</td>\n",
       "      <td>0.016452</td>\n",
       "      <td>0.011866</td>\n",
       "      <td>0.021038</td>\n",
       "      <td>0.012740</td>\n",
       "      <td>7.031718</td>\n",
       "      <td>2.044832e-12</td>\n",
       "      <td>5.534631</td>\n",
       "      <td>5.445049</td>\n",
       "      <td>12864330</td>\n",
       "      <td>260758</td>\n",
       "    </tr>\n",
       "    <tr>\n",
       "      <th>2</th>\n",
       "      <td>Pandora</td>\n",
       "      <td>2025-05-05</td>\n",
       "      <td>0.310044</td>\n",
       "      <td>0.273632</td>\n",
       "      <td>0.346455</td>\n",
       "      <td>0.061880</td>\n",
       "      <td>0.054613</td>\n",
       "      <td>0.069148</td>\n",
       "      <td>0.018578</td>\n",
       "      <td>16.688952</td>\n",
       "      <td>...</td>\n",
       "      <td>-0.006437</td>\n",
       "      <td>-0.009782</td>\n",
       "      <td>-0.003092</td>\n",
       "      <td>0.010414</td>\n",
       "      <td>-3.771240</td>\n",
       "      <td>1.624524e-04</td>\n",
       "      <td>6.062046</td>\n",
       "      <td>6.101319</td>\n",
       "      <td>31826438</td>\n",
       "      <td>645722</td>\n",
       "    </tr>\n",
       "    <tr>\n",
       "      <th>3</th>\n",
       "      <td>HungerStation</td>\n",
       "      <td>2025-05-05</td>\n",
       "      <td>0.059318</td>\n",
       "      <td>0.000892</td>\n",
       "      <td>0.117744</td>\n",
       "      <td>0.012034</td>\n",
       "      <td>0.000181</td>\n",
       "      <td>0.023887</td>\n",
       "      <td>0.029809</td>\n",
       "      <td>1.989897</td>\n",
       "      <td>...</td>\n",
       "      <td>0.007004</td>\n",
       "      <td>0.000420</td>\n",
       "      <td>0.013588</td>\n",
       "      <td>0.009391</td>\n",
       "      <td>2.084885</td>\n",
       "      <td>3.708171e-02</td>\n",
       "      <td>2.815059</td>\n",
       "      <td>2.795480</td>\n",
       "      <td>6078005</td>\n",
       "      <td>122976</td>\n",
       "    </tr>\n",
       "    <tr>\n",
       "      <th>4</th>\n",
       "      <td>GR/CY</td>\n",
       "      <td>2025-05-05</td>\n",
       "      <td>0.312899</td>\n",
       "      <td>0.117786</td>\n",
       "      <td>0.508011</td>\n",
       "      <td>0.048861</td>\n",
       "      <td>0.018393</td>\n",
       "      <td>0.079329</td>\n",
       "      <td>0.099546</td>\n",
       "      <td>3.143272</td>\n",
       "      <td>...</td>\n",
       "      <td>0.045991</td>\n",
       "      <td>0.033539</td>\n",
       "      <td>0.058443</td>\n",
       "      <td>0.039618</td>\n",
       "      <td>7.239172</td>\n",
       "      <td>4.606418e-13</td>\n",
       "      <td>6.522746</td>\n",
       "      <td>6.235948</td>\n",
       "      <td>1676654</td>\n",
       "      <td>33804</td>\n",
       "    </tr>\n",
       "    <tr>\n",
       "      <th>5</th>\n",
       "      <td>Glovo</td>\n",
       "      <td>2025-05-05</td>\n",
       "      <td>0.395131</td>\n",
       "      <td>0.293446</td>\n",
       "      <td>0.496816</td>\n",
       "      <td>0.073753</td>\n",
       "      <td>0.054773</td>\n",
       "      <td>0.092734</td>\n",
       "      <td>0.051880</td>\n",
       "      <td>7.616214</td>\n",
       "      <td>...</td>\n",
       "      <td>0.003565</td>\n",
       "      <td>-0.006176</td>\n",
       "      <td>0.013307</td>\n",
       "      <td>0.022142</td>\n",
       "      <td>0.717323</td>\n",
       "      <td>4.731766e-01</td>\n",
       "      <td>4.470727</td>\n",
       "      <td>4.454844</td>\n",
       "      <td>3875971</td>\n",
       "      <td>78849</td>\n",
       "    </tr>\n",
       "  </tbody>\n",
       "</table>\n",
       "<p>6 rows × 28 columns</p>\n",
       "</div>"
      ],
      "text/plain": [
       "      brand_name as_of_date  analytical_profit_post_cuped_observed_diff  \\\n",
       "0        Talabat 2025-05-05                                    0.611234   \n",
       "1           PEYA 2025-05-05                                    0.250919   \n",
       "2        Pandora 2025-05-05                                    0.310044   \n",
       "3  HungerStation 2025-05-05                                    0.059318   \n",
       "4          GR/CY 2025-05-05                                    0.312899   \n",
       "5          Glovo 2025-05-05                                    0.395131   \n",
       "\n",
       "   analytical_profit_post_cuped_ci_low  analytical_profit_post_cuped_ci_high  \\\n",
       "0                             0.445730                              0.776737   \n",
       "1                             0.191243                              0.310595   \n",
       "2                             0.273632                              0.346455   \n",
       "3                             0.000892                              0.117744   \n",
       "4                             0.117786                              0.508011   \n",
       "5                             0.293446                              0.496816   \n",
       "\n",
       "   analytical_profit_post_cuped_pct_diff  \\\n",
       "0                               0.029149   \n",
       "1                               0.030092   \n",
       "2                               0.061880   \n",
       "3                               0.012034   \n",
       "4                               0.048861   \n",
       "5                               0.073753   \n",
       "\n",
       "   analytical_profit_post_cuped_pct_ci_low  \\\n",
       "0                                 0.021256   \n",
       "1                                 0.022935   \n",
       "2                                 0.054613   \n",
       "3                                 0.000181   \n",
       "4                                 0.018393   \n",
       "5                                 0.054773   \n",
       "\n",
       "   analytical_profit_post_cuped_pct_ci_high  analytical_profit_post_cuped_se  \\\n",
       "0                                  0.037042                         0.084442   \n",
       "1                                  0.037249                         0.030447   \n",
       "2                                  0.069148                         0.018578   \n",
       "3                                  0.023887                         0.029809   \n",
       "4                                  0.079329                         0.099546   \n",
       "5                                  0.092734                         0.051880   \n",
       "\n",
       "   analytical_profit_post_cuped_t_statistic  ...  orders_post_cuped_pct_diff  \\\n",
       "0                                  7.238530  ...                    0.015133   \n",
       "1                                  8.241077  ...                    0.016452   \n",
       "2                                 16.688952  ...                   -0.006437   \n",
       "3                                  1.989897  ...                    0.007004   \n",
       "4                                  3.143272  ...                    0.045991   \n",
       "5                                  7.616214  ...                    0.003565   \n",
       "\n",
       "   orders_post_cuped_pct_ci_low  orders_post_cuped_pct_ci_high  \\\n",
       "0                      0.010234                       0.020032   \n",
       "1                      0.011866                       0.021038   \n",
       "2                     -0.009782                      -0.003092   \n",
       "3                      0.000420                       0.013588   \n",
       "4                      0.033539                       0.058443   \n",
       "5                     -0.006176                       0.013307   \n",
       "\n",
       "   orders_post_cuped_se  orders_post_cuped_t_statistic  \\\n",
       "0              0.026349                       6.053999   \n",
       "1              0.012740                       7.031718   \n",
       "2              0.010414                      -3.771240   \n",
       "3              0.009391                       2.084885   \n",
       "4              0.039618                       7.239172   \n",
       "5              0.022142                       0.717323   \n",
       "\n",
       "   orders_post_cuped_p_value  orders_post_cuped_mean_non_holdout  \\\n",
       "0               1.415181e-09                           10.700324   \n",
       "1               2.044832e-12                            5.534631   \n",
       "2               1.624524e-04                            6.062046   \n",
       "3               3.708171e-02                            2.815059   \n",
       "4               4.606418e-13                            6.522746   \n",
       "5               4.731766e-01                            4.470727   \n",
       "\n",
       "   orders_post_cuped_mean_holdout  orders_post_cuped_n_users_non_holdout  \\\n",
       "0                       10.540809                               10517537   \n",
       "1                        5.445049                               12864330   \n",
       "2                        6.101319                               31826438   \n",
       "3                        2.795480                                6078005   \n",
       "4                        6.235948                                1676654   \n",
       "5                        4.454844                                3875971   \n",
       "\n",
       "   orders_post_cuped_n_users_holdout  \n",
       "0                             213227  \n",
       "1                             260758  \n",
       "2                             645722  \n",
       "3                             122976  \n",
       "4                              33804  \n",
       "5                              78849  \n",
       "\n",
       "[6 rows x 28 columns]"
      ]
     },
     "execution_count": 58,
     "metadata": {},
     "output_type": "execute_result"
    }
   ],
   "source": [
    "tt_wel"
   ]
  },
  {
   "cell_type": "code",
   "execution_count": 20,
   "metadata": {},
   "outputs": [
    {
     "data": {
      "application/vnd.jupyter.widget-view+json": {
       "model_id": "fd7ab629b85940ddb4ec63b4eb916c03",
       "version_major": 2,
       "version_minor": 0
      },
      "text/plain": [
       "entity_id groups:   0%|          | 0/55 [00:00<?, ?it/s]"
      ]
     },
     "metadata": {},
     "output_type": "display_data"
    },
    {
     "data": {
      "application/vnd.jupyter.widget-view+json": {
       "model_id": "de2ff794bf8444118e3fac8d970a012e",
       "version_major": 2,
       "version_minor": 0
      },
      "text/plain": [
       "Weeks:   0%|          | 0/1 [00:00<?, ?it/s]"
      ]
     },
     "metadata": {},
     "output_type": "display_data"
    },
    {
     "name": "stderr",
     "output_type": "stream",
     "text": [
      "Traceback (most recent call last):\n",
      "  File \"/Users/shazeb.asad/global_pricing/venv_bayesian/lib/python3.13/site-packages/debugpy/_vendored/pydevd/_pydevd_bundle/pydevd_comm.py\", line 422, in _on_run\n",
      "    cmd.send(self.sock)\n",
      "    ~~~~~~~~^^^^^^^^^^^\n",
      "Traceback (most recent call last):\n",
      "  File \"/Users/shazeb.asad/global_pricing/venv_bayesian/lib/python3.13/site-packages/debugpy/_vendored/pydevd/_pydevd_bundle/pydevd_net_command.py\", line 111, in send\n",
      "    sock.sendall((\"Content-Length: %s\\r\\n\\r\\n\" % len(as_bytes)).encode(\"ascii\"))\n",
      "    ~~~~~~~~~~~~^^^^^^^^^^^^^^^^^^^^^^^^^^^^^^^^^^^^^^^^^^^^^^^^^^^^^^^^^^^^^^^^\n",
      "  File \"/Users/shazeb.asad/global_pricing/venv_bayesian/lib/python3.13/site-packages/debugpy/_vendored/pydevd/_pydevd_bundle/pydevd_comm.py\", line 422, in _on_run\n",
      "    cmd.send(self.sock)\n",
      "    ~~~~~~~~^^^^^^^^^^^\n",
      "OSError: [Errno 9] Bad file descriptor\n",
      "  File \"/Users/shazeb.asad/global_pricing/venv_bayesian/lib/python3.13/site-packages/debugpy/_vendored/pydevd/_pydevd_bundle/pydevd_net_command.py\", line 111, in send\n",
      "    sock.sendall((\"Content-Length: %s\\r\\n\\r\\n\" % len(as_bytes)).encode(\"ascii\"))\n",
      "    ~~~~~~~~~~~~^^^^^^^^^^^^^^^^^^^^^^^^^^^^^^^^^^^^^^^^^^^^^^^^^^^^^^^^^^^^^^^^\n",
      "Traceback (most recent call last):\n",
      "\n",
      "During handling of the above exception, another exception occurred:\n",
      "\n",
      "OSError: [Errno 9] Bad file descriptor\n",
      "\n",
      "During handling of the above exception, another exception occurred:\n",
      "\n",
      "  File \"/Users/shazeb.asad/global_pricing/venv_bayesian/lib/python3.13/site-packages/debugpy/_vendored/pydevd/_pydevd_bundle/pydevd_comm.py\", line 422, in _on_run\n",
      "    cmd.send(self.sock)\n",
      "    ~~~~~~~~^^^^^^^^^^^\n",
      "Traceback (most recent call last):\n",
      "  File \"/Users/shazeb.asad/global_pricing/venv_bayesian/lib/python3.13/site-packages/debugpy/_vendored/pydevd/_pydevd_bundle/pydevd_net_command.py\", line 111, in send\n",
      "    sock.sendall((\"Content-Length: %s\\r\\n\\r\\n\" % len(as_bytes)).encode(\"ascii\"))\n",
      "    ~~~~~~~~~~~~^^^^^^^^^^^^^^^^^^^^^^^^^^^^^^^^^^^^^^^^^^^^^^^^^^^^^^^^^^^^^^^^\n",
      "Traceback (most recent call last):\n",
      "Traceback (most recent call last):\n",
      "  File \"/Users/shazeb.asad/global_pricing/venv_bayesian/lib/python3.13/site-packages/debugpy/_vendored/pydevd/_pydevd_bundle/pydevd_daemon_thread.py\", line 53, in run\n",
      "    self._on_run()\n",
      "    ~~~~~~~~~~~~^^\n",
      "OSError: [Errno 9] Bad file descriptor\n",
      "Traceback (most recent call last):\n",
      "  File \"/Users/shazeb.asad/global_pricing/venv_bayesian/lib/python3.13/site-packages/debugpy/_vendored/pydevd/_pydevd_bundle/pydevd_daemon_thread.py\", line 53, in run\n",
      "    self._on_run()\n",
      "    ~~~~~~~~~~~~^^\n",
      "\n",
      "During handling of the above exception, another exception occurred:\n",
      "\n",
      "  File \"/Users/shazeb.asad/global_pricing/venv_bayesian/lib/python3.13/site-packages/debugpy/_vendored/pydevd/_pydevd_bundle/pydevd_comm.py\", line 422, in _on_run\n",
      "    cmd.send(self.sock)\n",
      "    ~~~~~~~~^^^^^^^^^^^\n",
      "  File \"/Users/shazeb.asad/global_pricing/venv_bayesian/lib/python3.13/site-packages/debugpy/_vendored/pydevd/_pydevd_bundle/pydevd_comm.py\", line 432, in _on_run\n",
      "    self.py_db.dispose_and_kill_all_pydevd_threads()\n",
      "    ~~~~~~~~~~~~~~~~~~~~~~~~~~~~~~~~~~~~~~~~~~~~~~^^\n",
      "  File \"/Users/shazeb.asad/global_pricing/venv_bayesian/lib/python3.13/site-packages/debugpy/_vendored/pydevd/pydevd.py\", line 2558, in dispose_and_kill_all_pydevd_threads\n",
      "    self._client_socket.close()\n",
      "    ~~~~~~~~~~~~~~~~~~~~~~~~~^^\n",
      "  File \"/Users/shazeb.asad/global_pricing/venv_bayesian/lib/python3.13/site-packages/debugpy/_vendored/pydevd/_pydevd_bundle/pydevd_comm.py\", line 432, in _on_run\n",
      "    self.py_db.dispose_and_kill_all_pydevd_threads()\n",
      "    ~~~~~~~~~~~~~~~~~~~~~~~~~~~~~~~~~~~~~~~~~~~~~~^^\n",
      "  File \"/Users/shazeb.asad/global_pricing/venv_bayesian/lib/python3.13/site-packages/debugpy/_vendored/pydevd/_pydevd_bundle/pydevd_comm.py\", line 422, in _on_run\n",
      "    cmd.send(self.sock)\n",
      "    ~~~~~~~~^^^^^^^^^^^\n",
      "  File \"/Users/shazeb.asad/global_pricing/venv_bayesian/lib/python3.13/site-packages/debugpy/_vendored/pydevd/_pydevd_bundle/pydevd_net_command.py\", line 111, in send\n",
      "    sock.sendall((\"Content-Length: %s\\r\\n\\r\\n\" % len(as_bytes)).encode(\"ascii\"))\n",
      "    ~~~~~~~~~~~~^^^^^^^^^^^^^^^^^^^^^^^^^^^^^^^^^^^^^^^^^^^^^^^^^^^^^^^^^^^^^^^^\n",
      "Traceback (most recent call last):\n",
      "  File \"/opt/homebrew/Cellar/python@3.13/3.13.2/Frameworks/Python.framework/Versions/3.13/lib/python3.13/socket.py\", line 505, in close\n",
      "    self._real_close()\n",
      "    ~~~~~~~~~~~~~~~~^^\n",
      "OSError: [Errno 9] Bad file descriptor\n",
      "  File \"/Users/shazeb.asad/global_pricing/venv_bayesian/lib/python3.13/site-packages/debugpy/_vendored/pydevd/pydevd.py\", line 2558, in dispose_and_kill_all_pydevd_threads\n",
      "    self._client_socket.close()\n",
      "    ~~~~~~~~~~~~~~~~~~~~~~~~~^^\n",
      "  File \"/Users/shazeb.asad/global_pricing/venv_bayesian/lib/python3.13/site-packages/debugpy/_vendored/pydevd/_pydevd_bundle/pydevd_net_command.py\", line 111, in send\n",
      "    sock.sendall((\"Content-Length: %s\\r\\n\\r\\n\" % len(as_bytes)).encode(\"ascii\"))\n",
      "    ~~~~~~~~~~~~^^^^^^^^^^^^^^^^^^^^^^^^^^^^^^^^^^^^^^^^^^^^^^^^^^^^^^^^^^^^^^^^\n",
      "  File \"/Users/shazeb.asad/global_pricing/venv_bayesian/lib/python3.13/site-packages/debugpy/_vendored/pydevd/_pydevd_bundle/pydevd_daemon_thread.py\", line 53, in run\n",
      "    self._on_run()\n",
      "    ~~~~~~~~~~~~^^\n",
      "Traceback (most recent call last):\n",
      "  File \"/opt/homebrew/Cellar/python@3.13/3.13.2/Frameworks/Python.framework/Versions/3.13/lib/python3.13/socket.py\", line 499, in _real_close\n",
      "    _ss.close(self)\n",
      "    ~~~~~~~~~^^^^^^\n",
      "  File \"/opt/homebrew/Cellar/python@3.13/3.13.2/Frameworks/Python.framework/Versions/3.13/lib/python3.13/socket.py\", line 505, in close\n",
      "    self._real_close()\n",
      "    ~~~~~~~~~~~~~~~~^^\n",
      "  File \"/Users/shazeb.asad/global_pricing/venv_bayesian/lib/python3.13/site-packages/debugpy/_vendored/pydevd/_pydevd_bundle/pydevd_comm.py\", line 432, in _on_run\n",
      "    self.py_db.dispose_and_kill_all_pydevd_threads()\n",
      "    ~~~~~~~~~~~~~~~~~~~~~~~~~~~~~~~~~~~~~~~~~~~~~~^^\n",
      "OSError: [Errno 9] Bad file descriptor\n",
      "Traceback (most recent call last):\n",
      "  File \"/Users/shazeb.asad/global_pricing/venv_bayesian/lib/python3.13/site-packages/debugpy/_vendored/pydevd/_pydevd_bundle/pydevd_comm.py\", line 422, in _on_run\n",
      "    cmd.send(self.sock)\n",
      "    ~~~~~~~~^^^^^^^^^^^\n",
      "\n",
      "During handling of the above exception, another exception occurred:\n",
      "\n",
      "\n",
      "During handling of the above exception, another exception occurred:\n",
      "\n",
      "  File \"/opt/homebrew/Cellar/python@3.13/3.13.2/Frameworks/Python.framework/Versions/3.13/lib/python3.13/socket.py\", line 499, in _real_close\n",
      "    _ss.close(self)\n",
      "    ~~~~~~~~~^^^^^^\n",
      "OSError: [Errno 9] Bad file descriptor\n",
      "  File \"/Users/shazeb.asad/global_pricing/venv_bayesian/lib/python3.13/site-packages/debugpy/_vendored/pydevd/pydevd.py\", line 2558, in dispose_and_kill_all_pydevd_threads\n",
      "    self._client_socket.close()\n",
      "    ~~~~~~~~~~~~~~~~~~~~~~~~~^^\n",
      "  File \"/Users/shazeb.asad/global_pricing/venv_bayesian/lib/python3.13/site-packages/debugpy/_vendored/pydevd/_pydevd_bundle/pydevd_comm.py\", line 422, in _on_run\n",
      "    cmd.send(self.sock)\n",
      "    ~~~~~~~~^^^^^^^^^^^\n",
      "OSError: [Errno 9] Bad file descriptor\n",
      "Traceback (most recent call last):\n",
      "Traceback (most recent call last):\n",
      "  File \"/opt/homebrew/Cellar/python@3.13/3.13.2/Frameworks/Python.framework/Versions/3.13/lib/python3.13/socket.py\", line 505, in close\n",
      "    self._real_close()\n",
      "    ~~~~~~~~~~~~~~~~^^\n",
      "  File \"/Users/shazeb.asad/global_pricing/venv_bayesian/lib/python3.13/site-packages/debugpy/_vendored/pydevd/_pydevd_bundle/pydevd_net_command.py\", line 111, in send\n",
      "    sock.sendall((\"Content-Length: %s\\r\\n\\r\\n\" % len(as_bytes)).encode(\"ascii\"))\n",
      "    ~~~~~~~~~~~~^^^^^^^^^^^^^^^^^^^^^^^^^^^^^^^^^^^^^^^^^^^^^^^^^^^^^^^^^^^^^^^^\n",
      "  File \"/Users/shazeb.asad/global_pricing/venv_bayesian/lib/python3.13/site-packages/debugpy/_vendored/pydevd/_pydevd_bundle/pydevd_daemon_thread.py\", line 53, in run\n",
      "    self._on_run()\n",
      "    ~~~~~~~~~~~~^^\n",
      "  File \"/Users/shazeb.asad/global_pricing/venv_bayesian/lib/python3.13/site-packages/debugpy/_vendored/pydevd/_pydevd_bundle/pydevd_daemon_thread.py\", line 53, in run\n",
      "    self._on_run()\n",
      "    ~~~~~~~~~~~~^^\n",
      "  File \"/Users/shazeb.asad/global_pricing/venv_bayesian/lib/python3.13/site-packages/debugpy/_vendored/pydevd/_pydevd_bundle/pydevd_net_command.py\", line 111, in send\n",
      "    sock.sendall((\"Content-Length: %s\\r\\n\\r\\n\" % len(as_bytes)).encode(\"ascii\"))\n",
      "    ~~~~~~~~~~~~^^^^^^^^^^^^^^^^^^^^^^^^^^^^^^^^^^^^^^^^^^^^^^^^^^^^^^^^^^^^^^^^\n",
      "OSError: [Errno 9] Bad file descriptor\n",
      "  File \"/opt/homebrew/Cellar/python@3.13/3.13.2/Frameworks/Python.framework/Versions/3.13/lib/python3.13/socket.py\", line 499, in _real_close\n",
      "    _ss.close(self)\n",
      "    ~~~~~~~~~^^^^^^\n",
      "  File \"/Users/shazeb.asad/global_pricing/venv_bayesian/lib/python3.13/site-packages/debugpy/_vendored/pydevd/_pydevd_bundle/pydevd_comm.py\", line 432, in _on_run\n",
      "    self.py_db.dispose_and_kill_all_pydevd_threads()\n",
      "    ~~~~~~~~~~~~~~~~~~~~~~~~~~~~~~~~~~~~~~~~~~~~~~^^\n",
      "OSError: [Errno 9] Bad file descriptor\n",
      "\n",
      "During handling of the above exception, another exception occurred:\n",
      "\n",
      "Traceback (most recent call last):\n",
      "  File \"/Users/shazeb.asad/global_pricing/venv_bayesian/lib/python3.13/site-packages/debugpy/_vendored/pydevd/_pydevd_bundle/pydevd_comm.py\", line 432, in _on_run\n",
      "    self.py_db.dispose_and_kill_all_pydevd_threads()\n",
      "    ~~~~~~~~~~~~~~~~~~~~~~~~~~~~~~~~~~~~~~~~~~~~~~^^\n",
      "OSError: [Errno 9] Bad file descriptor\n",
      "\n",
      "During handling of the above exception, another exception occurred:\n",
      "\n",
      "  File \"/Users/shazeb.asad/global_pricing/venv_bayesian/lib/python3.13/site-packages/debugpy/_vendored/pydevd/pydevd.py\", line 2558, in dispose_and_kill_all_pydevd_threads\n",
      "    self._client_socket.close()\n",
      "    ~~~~~~~~~~~~~~~~~~~~~~~~~^^\n",
      "Traceback (most recent call last):\n",
      "  File \"/Users/shazeb.asad/global_pricing/venv_bayesian/lib/python3.13/site-packages/debugpy/_vendored/pydevd/pydevd.py\", line 2558, in dispose_and_kill_all_pydevd_threads\n",
      "    self._client_socket.close()\n",
      "    ~~~~~~~~~~~~~~~~~~~~~~~~~^^\n",
      "Traceback (most recent call last):\n",
      "  File \"/Users/shazeb.asad/global_pricing/venv_bayesian/lib/python3.13/site-packages/debugpy/_vendored/pydevd/_pydevd_bundle/pydevd_comm.py\", line 422, in _on_run\n",
      "    cmd.send(self.sock)\n",
      "    ~~~~~~~~^^^^^^^^^^^\n",
      "Traceback (most recent call last):\n",
      "  File \"/opt/homebrew/Cellar/python@3.13/3.13.2/Frameworks/Python.framework/Versions/3.13/lib/python3.13/socket.py\", line 505, in close\n",
      "    self._real_close()\n",
      "    ~~~~~~~~~~~~~~~~^^\n",
      "  File \"/Users/shazeb.asad/global_pricing/venv_bayesian/lib/python3.13/site-packages/debugpy/_vendored/pydevd/_pydevd_bundle/pydevd_daemon_thread.py\", line 53, in run\n",
      "    self._on_run()\n",
      "    ~~~~~~~~~~~~^^\n",
      "  File \"/opt/homebrew/Cellar/python@3.13/3.13.2/Frameworks/Python.framework/Versions/3.13/lib/python3.13/socket.py\", line 505, in close\n",
      "    self._real_close()\n",
      "    ~~~~~~~~~~~~~~~~^^\n",
      "  File \"/Users/shazeb.asad/global_pricing/venv_bayesian/lib/python3.13/site-packages/debugpy/_vendored/pydevd/_pydevd_bundle/pydevd_net_command.py\", line 111, in send\n",
      "    sock.sendall((\"Content-Length: %s\\r\\n\\r\\n\" % len(as_bytes)).encode(\"ascii\"))\n",
      "    ~~~~~~~~~~~~^^^^^^^^^^^^^^^^^^^^^^^^^^^^^^^^^^^^^^^^^^^^^^^^^^^^^^^^^^^^^^^^\n",
      "  File \"/Users/shazeb.asad/global_pricing/venv_bayesian/lib/python3.13/site-packages/debugpy/_vendored/pydevd/_pydevd_bundle/pydevd_daemon_thread.py\", line 53, in run\n",
      "    self._on_run()\n",
      "    ~~~~~~~~~~~~^^\n",
      "  File \"/Users/shazeb.asad/global_pricing/venv_bayesian/lib/python3.13/site-packages/debugpy/_vendored/pydevd/_pydevd_bundle/pydevd_comm.py\", line 422, in _on_run\n",
      "    cmd.send(self.sock)\n",
      "    ~~~~~~~~^^^^^^^^^^^\n",
      "  File \"/opt/homebrew/Cellar/python@3.13/3.13.2/Frameworks/Python.framework/Versions/3.13/lib/python3.13/socket.py\", line 499, in _real_close\n",
      "    _ss.close(self)\n",
      "    ~~~~~~~~~^^^^^^\n",
      "  File \"/Users/shazeb.asad/global_pricing/venv_bayesian/lib/python3.13/site-packages/debugpy/_vendored/pydevd/_pydevd_bundle/pydevd_comm.py\", line 432, in _on_run\n",
      "    self.py_db.dispose_and_kill_all_pydevd_threads()\n",
      "    ~~~~~~~~~~~~~~~~~~~~~~~~~~~~~~~~~~~~~~~~~~~~~~^^\n",
      "  File \"/Users/shazeb.asad/global_pricing/venv_bayesian/lib/python3.13/site-packages/debugpy/_vendored/pydevd/_pydevd_bundle/pydevd_comm.py\", line 432, in _on_run\n",
      "    self.py_db.dispose_and_kill_all_pydevd_threads()\n",
      "    ~~~~~~~~~~~~~~~~~~~~~~~~~~~~~~~~~~~~~~~~~~~~~~^^\n",
      "OSError: [Errno 9] Bad file descriptor\n",
      "  File \"/Users/shazeb.asad/global_pricing/venv_bayesian/lib/python3.13/site-packages/debugpy/_vendored/pydevd/_pydevd_bundle/pydevd_net_command.py\", line 111, in send\n",
      "    sock.sendall((\"Content-Length: %s\\r\\n\\r\\n\" % len(as_bytes)).encode(\"ascii\"))\n",
      "    ~~~~~~~~~~~~^^^^^^^^^^^^^^^^^^^^^^^^^^^^^^^^^^^^^^^^^^^^^^^^^^^^^^^^^^^^^^^^\n",
      "OSError: [Errno 9] Bad file descriptor\n",
      "  File \"/Users/shazeb.asad/global_pricing/venv_bayesian/lib/python3.13/site-packages/debugpy/_vendored/pydevd/pydevd.py\", line 2558, in dispose_and_kill_all_pydevd_threads\n",
      "    self._client_socket.close()\n",
      "    ~~~~~~~~~~~~~~~~~~~~~~~~~^^\n",
      "  File \"/Users/shazeb.asad/global_pricing/venv_bayesian/lib/python3.13/site-packages/debugpy/_vendored/pydevd/pydevd.py\", line 2558, in dispose_and_kill_all_pydevd_threads\n",
      "    self._client_socket.close()\n",
      "    ~~~~~~~~~~~~~~~~~~~~~~~~~^^\n",
      "  File \"/opt/homebrew/Cellar/python@3.13/3.13.2/Frameworks/Python.framework/Versions/3.13/lib/python3.13/socket.py\", line 499, in _real_close\n",
      "    _ss.close(self)\n",
      "    ~~~~~~~~~^^^^^^\n",
      "\n",
      "During handling of the above exception, another exception occurred:\n",
      "\n",
      "OSError: [Errno 9] Bad file descriptor\n",
      "OSError: [Errno 9] Bad file descriptor\n",
      "  File \"/opt/homebrew/Cellar/python@3.13/3.13.2/Frameworks/Python.framework/Versions/3.13/lib/python3.13/socket.py\", line 505, in close\n",
      "    self._real_close()\n",
      "    ~~~~~~~~~~~~~~~~^^\n",
      "  File \"/opt/homebrew/Cellar/python@3.13/3.13.2/Frameworks/Python.framework/Versions/3.13/lib/python3.13/socket.py\", line 505, in close\n",
      "    self._real_close()\n",
      "    ~~~~~~~~~~~~~~~~^^\n",
      "Traceback (most recent call last):\n",
      "Traceback (most recent call last):\n",
      "  File \"/opt/homebrew/Cellar/python@3.13/3.13.2/Frameworks/Python.framework/Versions/3.13/lib/python3.13/socket.py\", line 499, in _real_close\n",
      "    _ss.close(self)\n",
      "    ~~~~~~~~~^^^^^^\n",
      "  File \"/Users/shazeb.asad/global_pricing/venv_bayesian/lib/python3.13/site-packages/debugpy/_vendored/pydevd/_pydevd_bundle/pydevd_daemon_thread.py\", line 53, in run\n",
      "    self._on_run()\n",
      "    ~~~~~~~~~~~~^^\n",
      "  File \"/opt/homebrew/Cellar/python@3.13/3.13.2/Frameworks/Python.framework/Versions/3.13/lib/python3.13/socket.py\", line 499, in _real_close\n",
      "    _ss.close(self)\n",
      "    ~~~~~~~~~^^^^^^\n",
      "\n",
      "During handling of the above exception, another exception occurred:\n",
      "\n",
      "  File \"/Users/shazeb.asad/global_pricing/venv_bayesian/lib/python3.13/site-packages/debugpy/_vendored/pydevd/_pydevd_bundle/pydevd_comm.py\", line 422, in _on_run\n",
      "    cmd.send(self.sock)\n",
      "    ~~~~~~~~^^^^^^^^^^^\n",
      "OSError: [Errno 9] Bad file descriptor\n",
      "  File \"/Users/shazeb.asad/global_pricing/venv_bayesian/lib/python3.13/site-packages/debugpy/_vendored/pydevd/_pydevd_bundle/pydevd_comm.py\", line 432, in _on_run\n",
      "    self.py_db.dispose_and_kill_all_pydevd_threads()\n",
      "    ~~~~~~~~~~~~~~~~~~~~~~~~~~~~~~~~~~~~~~~~~~~~~~^^\n",
      "OSError: [Errno 9] Bad file descriptor\n",
      "Traceback (most recent call last):\n",
      "  File \"/Users/shazeb.asad/global_pricing/venv_bayesian/lib/python3.13/site-packages/debugpy/_vendored/pydevd/_pydevd_bundle/pydevd_net_command.py\", line 111, in send\n",
      "    sock.sendall((\"Content-Length: %s\\r\\n\\r\\n\" % len(as_bytes)).encode(\"ascii\"))\n",
      "    ~~~~~~~~~~~~^^^^^^^^^^^^^^^^^^^^^^^^^^^^^^^^^^^^^^^^^^^^^^^^^^^^^^^^^^^^^^^^\n",
      "  File \"/Users/shazeb.asad/global_pricing/venv_bayesian/lib/python3.13/site-packages/debugpy/_vendored/pydevd/pydevd.py\", line 2558, in dispose_and_kill_all_pydevd_threads\n",
      "    self._client_socket.close()\n",
      "    ~~~~~~~~~~~~~~~~~~~~~~~~~^^\n",
      "OSError: [Errno 9] Bad file descriptor\n",
      "  File \"/Users/shazeb.asad/global_pricing/venv_bayesian/lib/python3.13/site-packages/debugpy/_vendored/pydevd/_pydevd_bundle/pydevd_daemon_thread.py\", line 53, in run\n",
      "    self._on_run()\n",
      "    ~~~~~~~~~~~~^^\n",
      "  File \"/opt/homebrew/Cellar/python@3.13/3.13.2/Frameworks/Python.framework/Versions/3.13/lib/python3.13/socket.py\", line 505, in close\n",
      "    self._real_close()\n",
      "    ~~~~~~~~~~~~~~~~^^\n",
      "\n",
      "During handling of the above exception, another exception occurred:\n",
      "\n",
      "  File \"/Users/shazeb.asad/global_pricing/venv_bayesian/lib/python3.13/site-packages/debugpy/_vendored/pydevd/_pydevd_bundle/pydevd_comm.py\", line 432, in _on_run\n",
      "    self.py_db.dispose_and_kill_all_pydevd_threads()\n",
      "    ~~~~~~~~~~~~~~~~~~~~~~~~~~~~~~~~~~~~~~~~~~~~~~^^\n",
      "  File \"/opt/homebrew/Cellar/python@3.13/3.13.2/Frameworks/Python.framework/Versions/3.13/lib/python3.13/socket.py\", line 499, in _real_close\n",
      "    _ss.close(self)\n",
      "    ~~~~~~~~~^^^^^^\n",
      "Traceback (most recent call last):\n",
      "OSError: [Errno 9] Bad file descriptor\n",
      "  File \"/Users/shazeb.asad/global_pricing/venv_bayesian/lib/python3.13/site-packages/debugpy/_vendored/pydevd/pydevd.py\", line 2558, in dispose_and_kill_all_pydevd_threads\n",
      "    self._client_socket.close()\n",
      "    ~~~~~~~~~~~~~~~~~~~~~~~~~^^\n",
      "  File \"/Users/shazeb.asad/global_pricing/venv_bayesian/lib/python3.13/site-packages/debugpy/_vendored/pydevd/_pydevd_bundle/pydevd_daemon_thread.py\", line 53, in run\n",
      "    self._on_run()\n",
      "    ~~~~~~~~~~~~^^\n",
      "  File \"/opt/homebrew/Cellar/python@3.13/3.13.2/Frameworks/Python.framework/Versions/3.13/lib/python3.13/socket.py\", line 505, in close\n",
      "    self._real_close()\n",
      "    ~~~~~~~~~~~~~~~~^^\n",
      "  File \"/Users/shazeb.asad/global_pricing/venv_bayesian/lib/python3.13/site-packages/debugpy/_vendored/pydevd/_pydevd_bundle/pydevd_comm.py\", line 432, in _on_run\n",
      "    self.py_db.dispose_and_kill_all_pydevd_threads()\n",
      "    ~~~~~~~~~~~~~~~~~~~~~~~~~~~~~~~~~~~~~~~~~~~~~~^^\n",
      "  File \"/opt/homebrew/Cellar/python@3.13/3.13.2/Frameworks/Python.framework/Versions/3.13/lib/python3.13/socket.py\", line 499, in _real_close\n",
      "    _ss.close(self)\n",
      "    ~~~~~~~~~^^^^^^\n",
      "  File \"/Users/shazeb.asad/global_pricing/venv_bayesian/lib/python3.13/site-packages/debugpy/_vendored/pydevd/pydevd.py\", line 2558, in dispose_and_kill_all_pydevd_threads\n",
      "    self._client_socket.close()\n",
      "    ~~~~~~~~~~~~~~~~~~~~~~~~~^^\n",
      "OSError: [Errno 9] Bad file descriptor\n",
      "  File \"/opt/homebrew/Cellar/python@3.13/3.13.2/Frameworks/Python.framework/Versions/3.13/lib/python3.13/socket.py\", line 505, in close\n",
      "    self._real_close()\n",
      "    ~~~~~~~~~~~~~~~~^^\n",
      "  File \"/opt/homebrew/Cellar/python@3.13/3.13.2/Frameworks/Python.framework/Versions/3.13/lib/python3.13/socket.py\", line 499, in _real_close\n",
      "    _ss.close(self)\n",
      "    ~~~~~~~~~^^^^^^\n",
      "OSError: [Errno 9] Bad file descriptor\n",
      "0.01s - Debugger warning: It seems that frozen modules are being used, which may\n",
      "0.00s - make the debugger miss breakpoints. Please pass -Xfrozen_modules=off\n",
      "0.00s - to python to disable frozen modules.\n",
      "0.00s - Note: Debugging will proceed. Set PYDEVD_DISABLE_FILE_VALIDATION=1 to disable this validation.\n",
      "0.00s - Debugger warning: It seems that frozen modules are being used, which may\n",
      "0.00s - make the debugger miss breakpoints. Please pass -Xfrozen_modules=off\n",
      "0.00s - to python to disable frozen modules.\n",
      "0.00s - Note: Debugging will proceed. Set PYDEVD_DISABLE_FILE_VALIDATION=1 to disable this validation.\n",
      "0.00s - Debugger warning: It seems that frozen modules are being used, which may\n",
      "0.00s - make the debugger miss breakpoints. Please pass -Xfrozen_modules=off\n",
      "0.00s - to python to disable frozen modules.\n",
      "0.00s - Note: Debugging will proceed. Set PYDEVD_DISABLE_FILE_VALIDATION=1 to disable this validation.\n",
      "0.00s - Debugger warning: It seems that frozen modules are being used, which may\n",
      "0.00s - make the debugger miss breakpoints. Please pass -Xfrozen_modules=off\n",
      "0.00s - to python to disable frozen modules.\n",
      "0.00s - Note: Debugging will proceed. Set PYDEVD_DISABLE_FILE_VALIDATION=1 to disable this validation.\n",
      "0.00s - Debugger warning: It seems that frozen modules are being used, which may\n",
      "0.00s - make the debugger miss breakpoints. Please pass -Xfrozen_modules=off\n",
      "0.00s - to python to disable frozen modules.\n",
      "0.00s - Note: Debugging will proceed. Set PYDEVD_DISABLE_FILE_VALIDATION=1 to disable this validation.\n",
      "0.00s - Debugger warning: It seems that frozen modules are being used, which may\n",
      "0.00s - make the debugger miss breakpoints. Please pass -Xfrozen_modules=off\n",
      "0.00s - to python to disable frozen modules.\n",
      "0.00s - Note: Debugging will proceed. Set PYDEVD_DISABLE_FILE_VALIDATION=1 to disable this validation.\n",
      "0.00s - Debugger warning: It seems that frozen modules are being used, which may\n",
      "0.00s - make the debugger miss breakpoints. Please pass -Xfrozen_modules=off\n",
      "0.00s - to python to disable frozen modules.\n",
      "0.00s - Note: Debugging will proceed. Set PYDEVD_DISABLE_FILE_VALIDATION=1 to disable this validation.\n",
      "0.00s - Debugger warning: It seems that frozen modules are being used, which may\n",
      "0.00s - make the debugger miss breakpoints. Please pass -Xfrozen_modules=off\n",
      "0.00s - to python to disable frozen modules.\n",
      "0.00s - Note: Debugging will proceed. Set PYDEVD_DISABLE_FILE_VALIDATION=1 to disable this validation.\n",
      "0.00s - Debugger warning: It seems that frozen modules are being used, which may\n",
      "0.00s - make the debugger miss breakpoints. Please pass -Xfrozen_modules=off\n",
      "0.00s - to python to disable frozen modules.\n",
      "0.00s - Note: Debugging will proceed. Set PYDEVD_DISABLE_FILE_VALIDATION=1 to disable this validation.\n",
      "0.00s - Debugger warning: It seems that frozen modules are being used, which may\n",
      "0.00s - make the debugger miss breakpoints. Please pass -Xfrozen_modules=off\n",
      "0.00s - to python to disable frozen modules.\n",
      "0.00s - Note: Debugging will proceed. Set PYDEVD_DISABLE_FILE_VALIDATION=1 to disable this validation.\n"
     ]
    },
    {
     "name": "stdout",
     "output_type": "stream",
     "text": [
      "\n",
      "Brand/Entity: TB_IQ\n",
      "Week: 2025-05-05\n"
     ]
    },
    {
     "data": {
      "application/vnd.jupyter.widget-view+json": {
       "model_id": "2204dd4af2a24951bb4b17b34aa44487",
       "version_major": 2,
       "version_minor": 0
      },
      "text/plain": [
       "Weeks:   0%|          | 0/1 [00:00<?, ?it/s]"
      ]
     },
     "metadata": {},
     "output_type": "display_data"
    },
    {
     "name": "stdout",
     "output_type": "stream",
     "text": [
      "\n",
      "Brand/Entity: TB_KW\n",
      "Week: 2025-05-05\n"
     ]
    },
    {
     "data": {
      "application/vnd.jupyter.widget-view+json": {
       "model_id": "838a364f244f4110b5a1c78ff0796ee1",
       "version_major": 2,
       "version_minor": 0
      },
      "text/plain": [
       "Weeks:   0%|          | 0/1 [00:00<?, ?it/s]"
      ]
     },
     "metadata": {},
     "output_type": "display_data"
    },
    {
     "name": "stdout",
     "output_type": "stream",
     "text": [
      "\n",
      "Brand/Entity: PY_AR\n",
      "Week: 2025-05-05\n"
     ]
    },
    {
     "data": {
      "application/vnd.jupyter.widget-view+json": {
       "model_id": "c797069bc0e048b598f1c94ae6bfeefe",
       "version_major": 2,
       "version_minor": 0
      },
      "text/plain": [
       "Weeks:   0%|          | 0/1 [00:00<?, ?it/s]"
      ]
     },
     "metadata": {},
     "output_type": "display_data"
    },
    {
     "name": "stdout",
     "output_type": "stream",
     "text": [
      "\n",
      "Brand/Entity: FP_PH\n",
      "Week: 2025-05-05\n"
     ]
    },
    {
     "data": {
      "application/vnd.jupyter.widget-view+json": {
       "model_id": "042932106f624a8c8ec28beca64d8656",
       "version_major": 2,
       "version_minor": 0
      },
      "text/plain": [
       "Weeks:   0%|          | 0/1 [00:00<?, ?it/s]"
      ]
     },
     "metadata": {},
     "output_type": "display_data"
    },
    {
     "name": "stdout",
     "output_type": "stream",
     "text": [
      "\n",
      "Brand/Entity: MJM_AT\n",
      "Week: 2025-05-05\n"
     ]
    },
    {
     "data": {
      "application/vnd.jupyter.widget-view+json": {
       "model_id": "5c85bc3ad2e64cad96e731ddd0592246",
       "version_major": 2,
       "version_minor": 0
      },
      "text/plain": [
       "Weeks:   0%|          | 0/1 [00:00<?, ?it/s]"
      ]
     },
     "metadata": {},
     "output_type": "display_data"
    },
    {
     "name": "stderr",
     "output_type": "stream",
     "text": [
      "/Users/shazeb.asad/global_pricing/venv_bayesian/lib/python3.13/site-packages/joblib/externals/loky/process_executor.py:752: UserWarning: A worker stopped while some jobs were given to the executor. This can be caused by a too short worker timeout or by a memory leak.\n",
      "  warnings.warn(\n",
      "Traceback (most recent call last):\n",
      "  File \"/Users/shazeb.asad/global_pricing/venv_bayesian/lib/python3.13/site-packages/debugpy/_vendored/pydevd/_pydevd_bundle/pydevd_comm.py\", line 422, in _on_run\n",
      "    cmd.send(self.sock)\n",
      "    ~~~~~~~~^^^^^^^^^^^\n",
      "  File \"/Users/shazeb.asad/global_pricing/venv_bayesian/lib/python3.13/site-packages/debugpy/_vendored/pydevd/_pydevd_bundle/pydevd_net_command.py\", line 111, in send\n",
      "    sock.sendall((\"Content-Length: %s\\r\\n\\r\\n\" % len(as_bytes)).encode(\"ascii\"))\n",
      "    ~~~~~~~~~~~~^^^^^^^^^^^^^^^^^^^^^^^^^^^^^^^^^^^^^^^^^^^^^^^^^^^^^^^^^^^^^^^^\n",
      "OSError: [Errno 9] Bad file descriptor\n",
      "\n",
      "During handling of the above exception, another exception occurred:\n",
      "\n",
      "Traceback (most recent call last):\n",
      "  File \"/Users/shazeb.asad/global_pricing/venv_bayesian/lib/python3.13/site-packages/debugpy/_vendored/pydevd/_pydevd_bundle/pydevd_daemon_thread.py\", line 53, in run\n",
      "    self._on_run()\n",
      "    ~~~~~~~~~~~~^^\n",
      "  File \"/Users/shazeb.asad/global_pricing/venv_bayesian/lib/python3.13/site-packages/debugpy/_vendored/pydevd/_pydevd_bundle/pydevd_comm.py\", line 432, in _on_run\n",
      "    self.py_db.dispose_and_kill_all_pydevd_threads()\n",
      "    ~~~~~~~~~~~~~~~~~~~~~~~~~~~~~~~~~~~~~~~~~~~~~~^^\n",
      "  File \"/Users/shazeb.asad/global_pricing/venv_bayesian/lib/python3.13/site-packages/debugpy/_vendored/pydevd/pydevd.py\", line 2558, in dispose_and_kill_all_pydevd_threads\n",
      "    self._client_socket.close()\n",
      "    ~~~~~~~~~~~~~~~~~~~~~~~~~^^\n",
      "  File \"/opt/homebrew/Cellar/python@3.13/3.13.2/Frameworks/Python.framework/Versions/3.13/lib/python3.13/socket.py\", line 505, in close\n",
      "    self._real_close()\n",
      "    ~~~~~~~~~~~~~~~~^^\n",
      "  File \"/opt/homebrew/Cellar/python@3.13/3.13.2/Frameworks/Python.framework/Versions/3.13/lib/python3.13/socket.py\", line 499, in _real_close\n",
      "    _ss.close(self)\n",
      "    ~~~~~~~~~^^^^^^\n",
      "OSError: [Errno 9] Bad file descriptor\n",
      "0.00s - Debugger warning: It seems that frozen modules are being used, which may\n",
      "0.00s - make the debugger miss breakpoints. Please pass -Xfrozen_modules=off\n",
      "0.00s - to python to disable frozen modules.\n",
      "0.00s - Note: Debugging will proceed. Set PYDEVD_DISABLE_FILE_VALIDATION=1 to disable this validation.\n",
      "Traceback (most recent call last):\n",
      "  File \"/Users/shazeb.asad/global_pricing/venv_bayesian/lib/python3.13/site-packages/debugpy/_vendored/pydevd/_pydevd_bundle/pydevd_comm.py\", line 422, in _on_run\n",
      "    cmd.send(self.sock)\n",
      "    ~~~~~~~~^^^^^^^^^^^\n",
      "  File \"/Users/shazeb.asad/global_pricing/venv_bayesian/lib/python3.13/site-packages/debugpy/_vendored/pydevd/_pydevd_bundle/pydevd_net_command.py\", line 111, in send\n",
      "    sock.sendall((\"Content-Length: %s\\r\\n\\r\\n\" % len(as_bytes)).encode(\"ascii\"))\n",
      "    ~~~~~~~~~~~~^^^^^^^^^^^^^^^^^^^^^^^^^^^^^^^^^^^^^^^^^^^^^^^^^^^^^^^^^^^^^^^^\n",
      "OSError: [Errno 9] Bad file descriptor\n",
      "\n",
      "During handling of the above exception, another exception occurred:\n",
      "\n",
      "Traceback (most recent call last):\n",
      "  File \"/Users/shazeb.asad/global_pricing/venv_bayesian/lib/python3.13/site-packages/debugpy/_vendored/pydevd/_pydevd_bundle/pydevd_daemon_thread.py\", line 53, in run\n",
      "    self._on_run()\n",
      "    ~~~~~~~~~~~~^^\n",
      "  File \"/Users/shazeb.asad/global_pricing/venv_bayesian/lib/python3.13/site-packages/debugpy/_vendored/pydevd/_pydevd_bundle/pydevd_comm.py\", line 432, in _on_run\n",
      "    self.py_db.dispose_and_kill_all_pydevd_threads()\n",
      "    ~~~~~~~~~~~~~~~~~~~~~~~~~~~~~~~~~~~~~~~~~~~~~~^^\n",
      "  File \"/Users/shazeb.asad/global_pricing/venv_bayesian/lib/python3.13/site-packages/debugpy/_vendored/pydevd/pydevd.py\", line 2558, in dispose_and_kill_all_pydevd_threads\n",
      "    self._client_socket.close()\n",
      "    ~~~~~~~~~~~~~~~~~~~~~~~~~^^\n",
      "  File \"/opt/homebrew/Cellar/python@3.13/3.13.2/Frameworks/Python.framework/Versions/3.13/lib/python3.13/socket.py\", line 505, in close\n",
      "    self._real_close()\n",
      "    ~~~~~~~~~~~~~~~~^^\n",
      "  File \"/opt/homebrew/Cellar/python@3.13/3.13.2/Frameworks/Python.framework/Versions/3.13/lib/python3.13/socket.py\", line 499, in _real_close\n",
      "    _ss.close(self)\n",
      "    ~~~~~~~~~^^^^^^\n",
      "OSError: [Errno 9] Bad file descriptor\n",
      "0.00s - Debugger warning: It seems that frozen modules are being used, which may\n",
      "0.00s - make the debugger miss breakpoints. Please pass -Xfrozen_modules=off\n",
      "0.00s - to python to disable frozen modules.\n",
      "0.00s - Note: Debugging will proceed. Set PYDEVD_DISABLE_FILE_VALIDATION=1 to disable this validation.\n",
      "Traceback (most recent call last):\n",
      "  File \"/Users/shazeb.asad/global_pricing/venv_bayesian/lib/python3.13/site-packages/debugpy/_vendored/pydevd/_pydevd_bundle/pydevd_comm.py\", line 422, in _on_run\n",
      "    cmd.send(self.sock)\n",
      "    ~~~~~~~~^^^^^^^^^^^\n",
      "  File \"/Users/shazeb.asad/global_pricing/venv_bayesian/lib/python3.13/site-packages/debugpy/_vendored/pydevd/_pydevd_bundle/pydevd_net_command.py\", line 111, in send\n",
      "    sock.sendall((\"Content-Length: %s\\r\\n\\r\\n\" % len(as_bytes)).encode(\"ascii\"))\n",
      "    ~~~~~~~~~~~~^^^^^^^^^^^^^^^^^^^^^^^^^^^^^^^^^^^^^^^^^^^^^^^^^^^^^^^^^^^^^^^^\n",
      "OSError: [Errno 9] Bad file descriptor\n",
      "\n",
      "During handling of the above exception, another exception occurred:\n",
      "\n",
      "Traceback (most recent call last):\n",
      "  File \"/Users/shazeb.asad/global_pricing/venv_bayesian/lib/python3.13/site-packages/debugpy/_vendored/pydevd/_pydevd_bundle/pydevd_daemon_thread.py\", line 53, in run\n",
      "    self._on_run()\n",
      "    ~~~~~~~~~~~~^^\n",
      "  File \"/Users/shazeb.asad/global_pricing/venv_bayesian/lib/python3.13/site-packages/debugpy/_vendored/pydevd/_pydevd_bundle/pydevd_comm.py\", line 432, in _on_run\n",
      "    self.py_db.dispose_and_kill_all_pydevd_threads()\n",
      "    ~~~~~~~~~~~~~~~~~~~~~~~~~~~~~~~~~~~~~~~~~~~~~~^^\n",
      "  File \"/Users/shazeb.asad/global_pricing/venv_bayesian/lib/python3.13/site-packages/debugpy/_vendored/pydevd/pydevd.py\", line 2558, in dispose_and_kill_all_pydevd_threads\n",
      "    self._client_socket.close()\n",
      "    ~~~~~~~~~~~~~~~~~~~~~~~~~^^\n",
      "  File \"/opt/homebrew/Cellar/python@3.13/3.13.2/Frameworks/Python.framework/Versions/3.13/lib/python3.13/socket.py\", line 505, in close\n",
      "    self._real_close()\n",
      "    ~~~~~~~~~~~~~~~~^^\n",
      "  File \"/opt/homebrew/Cellar/python@3.13/3.13.2/Frameworks/Python.framework/Versions/3.13/lib/python3.13/socket.py\", line 499, in _real_close\n",
      "    _ss.close(self)\n",
      "    ~~~~~~~~~^^^^^^\n",
      "OSError: [Errno 9] Bad file descriptor\n",
      "0.00s - Debugger warning: It seems that frozen modules are being used, which may\n",
      "0.00s - make the debugger miss breakpoints. Please pass -Xfrozen_modules=off\n",
      "0.00s - to python to disable frozen modules.\n",
      "0.00s - Note: Debugging will proceed. Set PYDEVD_DISABLE_FILE_VALIDATION=1 to disable this validation.\n",
      "Traceback (most recent call last):\n",
      "  File \"/Users/shazeb.asad/global_pricing/venv_bayesian/lib/python3.13/site-packages/debugpy/_vendored/pydevd/_pydevd_bundle/pydevd_comm.py\", line 422, in _on_run\n",
      "    cmd.send(self.sock)\n",
      "    ~~~~~~~~^^^^^^^^^^^\n",
      "  File \"/Users/shazeb.asad/global_pricing/venv_bayesian/lib/python3.13/site-packages/debugpy/_vendored/pydevd/_pydevd_bundle/pydevd_net_command.py\", line 111, in send\n",
      "    sock.sendall((\"Content-Length: %s\\r\\n\\r\\n\" % len(as_bytes)).encode(\"ascii\"))\n",
      "    ~~~~~~~~~~~~^^^^^^^^^^^^^^^^^^^^^^^^^^^^^^^^^^^^^^^^^^^^^^^^^^^^^^^^^^^^^^^^\n",
      "OSError: [Errno 9] Bad file descriptor\n",
      "\n",
      "During handling of the above exception, another exception occurred:\n",
      "\n",
      "Traceback (most recent call last):\n",
      "  File \"/Users/shazeb.asad/global_pricing/venv_bayesian/lib/python3.13/site-packages/debugpy/_vendored/pydevd/_pydevd_bundle/pydevd_daemon_thread.py\", line 53, in run\n",
      "    self._on_run()\n",
      "    ~~~~~~~~~~~~^^\n",
      "  File \"/Users/shazeb.asad/global_pricing/venv_bayesian/lib/python3.13/site-packages/debugpy/_vendored/pydevd/_pydevd_bundle/pydevd_comm.py\", line 432, in _on_run\n",
      "    self.py_db.dispose_and_kill_all_pydevd_threads()\n",
      "    ~~~~~~~~~~~~~~~~~~~~~~~~~~~~~~~~~~~~~~~~~~~~~~^^\n",
      "  File \"/Users/shazeb.asad/global_pricing/venv_bayesian/lib/python3.13/site-packages/debugpy/_vendored/pydevd/pydevd.py\", line 2558, in dispose_and_kill_all_pydevd_threads\n",
      "    self._client_socket.close()\n",
      "    ~~~~~~~~~~~~~~~~~~~~~~~~~^^\n",
      "  File \"/opt/homebrew/Cellar/python@3.13/3.13.2/Frameworks/Python.framework/Versions/3.13/lib/python3.13/socket.py\", line 505, in close\n",
      "    self._real_close()\n",
      "    ~~~~~~~~~~~~~~~~^^\n",
      "  File \"/opt/homebrew/Cellar/python@3.13/3.13.2/Frameworks/Python.framework/Versions/3.13/lib/python3.13/socket.py\", line 499, in _real_close\n",
      "    _ss.close(self)\n",
      "    ~~~~~~~~~^^^^^^\n",
      "OSError: [Errno 9] Bad file descriptor\n",
      "0.00s - Debugger warning: It seems that frozen modules are being used, which may\n",
      "0.00s - make the debugger miss breakpoints. Please pass -Xfrozen_modules=off\n",
      "0.00s - to python to disable frozen modules.\n",
      "0.00s - Note: Debugging will proceed. Set PYDEVD_DISABLE_FILE_VALIDATION=1 to disable this validation.\n",
      "Traceback (most recent call last):\n",
      "  File \"/Users/shazeb.asad/global_pricing/venv_bayesian/lib/python3.13/site-packages/debugpy/_vendored/pydevd/_pydevd_bundle/pydevd_comm.py\", line 422, in _on_run\n",
      "    cmd.send(self.sock)\n",
      "    ~~~~~~~~^^^^^^^^^^^\n",
      "  File \"/Users/shazeb.asad/global_pricing/venv_bayesian/lib/python3.13/site-packages/debugpy/_vendored/pydevd/_pydevd_bundle/pydevd_net_command.py\", line 111, in send\n",
      "    sock.sendall((\"Content-Length: %s\\r\\n\\r\\n\" % len(as_bytes)).encode(\"ascii\"))\n",
      "    ~~~~~~~~~~~~^^^^^^^^^^^^^^^^^^^^^^^^^^^^^^^^^^^^^^^^^^^^^^^^^^^^^^^^^^^^^^^^\n",
      "OSError: [Errno 9] Bad file descriptor\n",
      "\n",
      "During handling of the above exception, another exception occurred:\n",
      "\n",
      "Traceback (most recent call last):\n",
      "  File \"/Users/shazeb.asad/global_pricing/venv_bayesian/lib/python3.13/site-packages/debugpy/_vendored/pydevd/_pydevd_bundle/pydevd_daemon_thread.py\", line 53, in run\n",
      "    self._on_run()\n",
      "    ~~~~~~~~~~~~^^\n",
      "  File \"/Users/shazeb.asad/global_pricing/venv_bayesian/lib/python3.13/site-packages/debugpy/_vendored/pydevd/_pydevd_bundle/pydevd_comm.py\", line 432, in _on_run\n",
      "    self.py_db.dispose_and_kill_all_pydevd_threads()\n",
      "    ~~~~~~~~~~~~~~~~~~~~~~~~~~~~~~~~~~~~~~~~~~~~~~^^\n",
      "  File \"/Users/shazeb.asad/global_pricing/venv_bayesian/lib/python3.13/site-packages/debugpy/_vendored/pydevd/pydevd.py\", line 2558, in dispose_and_kill_all_pydevd_threads\n",
      "    self._client_socket.close()\n",
      "    ~~~~~~~~~~~~~~~~~~~~~~~~~^^\n",
      "  File \"/opt/homebrew/Cellar/python@3.13/3.13.2/Frameworks/Python.framework/Versions/3.13/lib/python3.13/socket.py\", line 505, in close\n",
      "    self._real_close()\n",
      "    ~~~~~~~~~~~~~~~~^^\n",
      "  File \"/opt/homebrew/Cellar/python@3.13/3.13.2/Frameworks/Python.framework/Versions/3.13/lib/python3.13/socket.py\", line 499, in _real_close\n",
      "    _ss.close(self)\n",
      "    ~~~~~~~~~^^^^^^\n",
      "OSError: [Errno 9] Bad file descriptor\n",
      "0.00s - Debugger warning: It seems that frozen modules are being used, which may\n",
      "0.00s - make the debugger miss breakpoints. Please pass -Xfrozen_modules=off\n",
      "0.00s - to python to disable frozen modules.\n",
      "0.00s - Note: Debugging will proceed. Set PYDEVD_DISABLE_FILE_VALIDATION=1 to disable this validation.\n",
      "Traceback (most recent call last):\n",
      "  File \"/Users/shazeb.asad/global_pricing/venv_bayesian/lib/python3.13/site-packages/debugpy/_vendored/pydevd/_pydevd_bundle/pydevd_comm.py\", line 422, in _on_run\n",
      "    cmd.send(self.sock)\n",
      "    ~~~~~~~~^^^^^^^^^^^\n",
      "  File \"/Users/shazeb.asad/global_pricing/venv_bayesian/lib/python3.13/site-packages/debugpy/_vendored/pydevd/_pydevd_bundle/pydevd_net_command.py\", line 111, in send\n",
      "    sock.sendall((\"Content-Length: %s\\r\\n\\r\\n\" % len(as_bytes)).encode(\"ascii\"))\n",
      "    ~~~~~~~~~~~~^^^^^^^^^^^^^^^^^^^^^^^^^^^^^^^^^^^^^^^^^^^^^^^^^^^^^^^^^^^^^^^^\n",
      "OSError: [Errno 9] Bad file descriptor\n",
      "\n",
      "During handling of the above exception, another exception occurred:\n",
      "\n",
      "Traceback (most recent call last):\n",
      "  File \"/Users/shazeb.asad/global_pricing/venv_bayesian/lib/python3.13/site-packages/debugpy/_vendored/pydevd/_pydevd_bundle/pydevd_daemon_thread.py\", line 53, in run\n",
      "    self._on_run()\n",
      "    ~~~~~~~~~~~~^^\n",
      "  File \"/Users/shazeb.asad/global_pricing/venv_bayesian/lib/python3.13/site-packages/debugpy/_vendored/pydevd/_pydevd_bundle/pydevd_comm.py\", line 432, in _on_run\n",
      "    self.py_db.dispose_and_kill_all_pydevd_threads()\n",
      "    ~~~~~~~~~~~~~~~~~~~~~~~~~~~~~~~~~~~~~~~~~~~~~~^^\n",
      "  File \"/Users/shazeb.asad/global_pricing/venv_bayesian/lib/python3.13/site-packages/debugpy/_vendored/pydevd/pydevd.py\", line 2558, in dispose_and_kill_all_pydevd_threads\n",
      "    self._client_socket.close()\n",
      "    ~~~~~~~~~~~~~~~~~~~~~~~~~^^\n",
      "  File \"/opt/homebrew/Cellar/python@3.13/3.13.2/Frameworks/Python.framework/Versions/3.13/lib/python3.13/socket.py\", line 505, in close\n",
      "    self._real_close()\n",
      "    ~~~~~~~~~~~~~~~~^^\n",
      "  File \"/opt/homebrew/Cellar/python@3.13/3.13.2/Frameworks/Python.framework/Versions/3.13/lib/python3.13/socket.py\", line 499, in _real_close\n",
      "    _ss.close(self)\n",
      "    ~~~~~~~~~^^^^^^\n",
      "OSError: [Errno 9] Bad file descriptor\n",
      "0.00s - Debugger warning: It seems that frozen modules are being used, which may\n",
      "0.00s - make the debugger miss breakpoints. Please pass -Xfrozen_modules=off\n",
      "0.00s - to python to disable frozen modules.\n",
      "0.00s - Note: Debugging will proceed. Set PYDEVD_DISABLE_FILE_VALIDATION=1 to disable this validation.\n",
      "Traceback (most recent call last):\n",
      "  File \"/Users/shazeb.asad/global_pricing/venv_bayesian/lib/python3.13/site-packages/debugpy/_vendored/pydevd/_pydevd_bundle/pydevd_comm.py\", line 422, in _on_run\n",
      "    cmd.send(self.sock)\n",
      "    ~~~~~~~~^^^^^^^^^^^\n",
      "  File \"/Users/shazeb.asad/global_pricing/venv_bayesian/lib/python3.13/site-packages/debugpy/_vendored/pydevd/_pydevd_bundle/pydevd_net_command.py\", line 111, in send\n",
      "    sock.sendall((\"Content-Length: %s\\r\\n\\r\\n\" % len(as_bytes)).encode(\"ascii\"))\n",
      "    ~~~~~~~~~~~~^^^^^^^^^^^^^^^^^^^^^^^^^^^^^^^^^^^^^^^^^^^^^^^^^^^^^^^^^^^^^^^^\n",
      "OSError: [Errno 9] Bad file descriptor\n",
      "\n",
      "During handling of the above exception, another exception occurred:\n",
      "\n",
      "Traceback (most recent call last):\n",
      "  File \"/Users/shazeb.asad/global_pricing/venv_bayesian/lib/python3.13/site-packages/debugpy/_vendored/pydevd/_pydevd_bundle/pydevd_daemon_thread.py\", line 53, in run\n",
      "    self._on_run()\n",
      "    ~~~~~~~~~~~~^^\n",
      "  File \"/Users/shazeb.asad/global_pricing/venv_bayesian/lib/python3.13/site-packages/debugpy/_vendored/pydevd/_pydevd_bundle/pydevd_comm.py\", line 432, in _on_run\n",
      "    self.py_db.dispose_and_kill_all_pydevd_threads()\n",
      "    ~~~~~~~~~~~~~~~~~~~~~~~~~~~~~~~~~~~~~~~~~~~~~~^^\n",
      "  File \"/Users/shazeb.asad/global_pricing/venv_bayesian/lib/python3.13/site-packages/debugpy/_vendored/pydevd/pydevd.py\", line 2558, in dispose_and_kill_all_pydevd_threads\n",
      "    self._client_socket.close()\n",
      "    ~~~~~~~~~~~~~~~~~~~~~~~~~^^\n",
      "  File \"/opt/homebrew/Cellar/python@3.13/3.13.2/Frameworks/Python.framework/Versions/3.13/lib/python3.13/socket.py\", line 505, in close\n",
      "    self._real_close()\n",
      "    ~~~~~~~~~~~~~~~~^^\n",
      "  File \"/opt/homebrew/Cellar/python@3.13/3.13.2/Frameworks/Python.framework/Versions/3.13/lib/python3.13/socket.py\", line 499, in _real_close\n",
      "    _ss.close(self)\n",
      "    ~~~~~~~~~^^^^^^\n",
      "OSError: [Errno 9] Bad file descriptor\n",
      "0.00s - Debugger warning: It seems that frozen modules are being used, which may\n",
      "0.00s - make the debugger miss breakpoints. Please pass -Xfrozen_modules=off\n",
      "0.00s - to python to disable frozen modules.\n",
      "0.00s - Note: Debugging will proceed. Set PYDEVD_DISABLE_FILE_VALIDATION=1 to disable this validation.\n",
      "Traceback (most recent call last):\n",
      "  File \"/Users/shazeb.asad/global_pricing/venv_bayesian/lib/python3.13/site-packages/debugpy/_vendored/pydevd/_pydevd_bundle/pydevd_comm.py\", line 422, in _on_run\n",
      "    cmd.send(self.sock)\n",
      "    ~~~~~~~~^^^^^^^^^^^\n",
      "  File \"/Users/shazeb.asad/global_pricing/venv_bayesian/lib/python3.13/site-packages/debugpy/_vendored/pydevd/_pydevd_bundle/pydevd_net_command.py\", line 111, in send\n",
      "    sock.sendall((\"Content-Length: %s\\r\\n\\r\\n\" % len(as_bytes)).encode(\"ascii\"))\n",
      "    ~~~~~~~~~~~~^^^^^^^^^^^^^^^^^^^^^^^^^^^^^^^^^^^^^^^^^^^^^^^^^^^^^^^^^^^^^^^^\n",
      "OSError: [Errno 9] Bad file descriptor\n",
      "\n",
      "During handling of the above exception, another exception occurred:\n",
      "\n",
      "Traceback (most recent call last):\n",
      "  File \"/Users/shazeb.asad/global_pricing/venv_bayesian/lib/python3.13/site-packages/debugpy/_vendored/pydevd/_pydevd_bundle/pydevd_daemon_thread.py\", line 53, in run\n",
      "    self._on_run()\n",
      "    ~~~~~~~~~~~~^^\n",
      "  File \"/Users/shazeb.asad/global_pricing/venv_bayesian/lib/python3.13/site-packages/debugpy/_vendored/pydevd/_pydevd_bundle/pydevd_comm.py\", line 432, in _on_run\n",
      "    self.py_db.dispose_and_kill_all_pydevd_threads()\n",
      "    ~~~~~~~~~~~~~~~~~~~~~~~~~~~~~~~~~~~~~~~~~~~~~~^^\n",
      "  File \"/Users/shazeb.asad/global_pricing/venv_bayesian/lib/python3.13/site-packages/debugpy/_vendored/pydevd/pydevd.py\", line 2558, in dispose_and_kill_all_pydevd_threads\n",
      "    self._client_socket.close()\n",
      "    ~~~~~~~~~~~~~~~~~~~~~~~~~^^\n",
      "  File \"/opt/homebrew/Cellar/python@3.13/3.13.2/Frameworks/Python.framework/Versions/3.13/lib/python3.13/socket.py\", line 505, in close\n",
      "    self._real_close()\n",
      "    ~~~~~~~~~~~~~~~~^^\n",
      "  File \"/opt/homebrew/Cellar/python@3.13/3.13.2/Frameworks/Python.framework/Versions/3.13/lib/python3.13/socket.py\", line 499, in _real_close\n",
      "    _ss.close(self)\n",
      "    ~~~~~~~~~^^^^^^\n",
      "OSError: [Errno 9] Bad file descriptor\n",
      "0.00s - Debugger warning: It seems that frozen modules are being used, which may\n",
      "0.00s - make the debugger miss breakpoints. Please pass -Xfrozen_modules=off\n",
      "0.00s - to python to disable frozen modules.\n",
      "0.00s - Note: Debugging will proceed. Set PYDEVD_DISABLE_FILE_VALIDATION=1 to disable this validation.\n",
      "Traceback (most recent call last):\n",
      "  File \"/Users/shazeb.asad/global_pricing/venv_bayesian/lib/python3.13/site-packages/debugpy/_vendored/pydevd/_pydevd_bundle/pydevd_comm.py\", line 422, in _on_run\n",
      "    cmd.send(self.sock)\n",
      "    ~~~~~~~~^^^^^^^^^^^\n",
      "  File \"/Users/shazeb.asad/global_pricing/venv_bayesian/lib/python3.13/site-packages/debugpy/_vendored/pydevd/_pydevd_bundle/pydevd_net_command.py\", line 111, in send\n",
      "    sock.sendall((\"Content-Length: %s\\r\\n\\r\\n\" % len(as_bytes)).encode(\"ascii\"))\n",
      "    ~~~~~~~~~~~~^^^^^^^^^^^^^^^^^^^^^^^^^^^^^^^^^^^^^^^^^^^^^^^^^^^^^^^^^^^^^^^^\n",
      "OSError: [Errno 9] Bad file descriptor\n",
      "\n",
      "During handling of the above exception, another exception occurred:\n",
      "\n",
      "Traceback (most recent call last):\n",
      "  File \"/Users/shazeb.asad/global_pricing/venv_bayesian/lib/python3.13/site-packages/debugpy/_vendored/pydevd/_pydevd_bundle/pydevd_daemon_thread.py\", line 53, in run\n",
      "    self._on_run()\n",
      "    ~~~~~~~~~~~~^^\n",
      "  File \"/Users/shazeb.asad/global_pricing/venv_bayesian/lib/python3.13/site-packages/debugpy/_vendored/pydevd/_pydevd_bundle/pydevd_comm.py\", line 432, in _on_run\n",
      "    self.py_db.dispose_and_kill_all_pydevd_threads()\n",
      "    ~~~~~~~~~~~~~~~~~~~~~~~~~~~~~~~~~~~~~~~~~~~~~~^^\n",
      "  File \"/Users/shazeb.asad/global_pricing/venv_bayesian/lib/python3.13/site-packages/debugpy/_vendored/pydevd/pydevd.py\", line 2558, in dispose_and_kill_all_pydevd_threads\n",
      "    self._client_socket.close()\n",
      "    ~~~~~~~~~~~~~~~~~~~~~~~~~^^\n",
      "  File \"/opt/homebrew/Cellar/python@3.13/3.13.2/Frameworks/Python.framework/Versions/3.13/lib/python3.13/socket.py\", line 505, in close\n",
      "    self._real_close()\n",
      "    ~~~~~~~~~~~~~~~~^^\n",
      "  File \"/opt/homebrew/Cellar/python@3.13/3.13.2/Frameworks/Python.framework/Versions/3.13/lib/python3.13/socket.py\", line 499, in _real_close\n",
      "    _ss.close(self)\n",
      "    ~~~~~~~~~^^^^^^\n",
      "OSError: [Errno 9] Bad file descriptor\n",
      "0.00s - Debugger warning: It seems that frozen modules are being used, which may\n",
      "0.00s - make the debugger miss breakpoints. Please pass -Xfrozen_modules=off\n",
      "0.00s - to python to disable frozen modules.\n",
      "0.00s - Note: Debugging will proceed. Set PYDEVD_DISABLE_FILE_VALIDATION=1 to disable this validation.\n",
      "Traceback (most recent call last):\n",
      "  File \"/Users/shazeb.asad/global_pricing/venv_bayesian/lib/python3.13/site-packages/debugpy/_vendored/pydevd/_pydevd_bundle/pydevd_comm.py\", line 422, in _on_run\n",
      "    cmd.send(self.sock)\n",
      "    ~~~~~~~~^^^^^^^^^^^\n",
      "  File \"/Users/shazeb.asad/global_pricing/venv_bayesian/lib/python3.13/site-packages/debugpy/_vendored/pydevd/_pydevd_bundle/pydevd_net_command.py\", line 111, in send\n",
      "    sock.sendall((\"Content-Length: %s\\r\\n\\r\\n\" % len(as_bytes)).encode(\"ascii\"))\n",
      "    ~~~~~~~~~~~~^^^^^^^^^^^^^^^^^^^^^^^^^^^^^^^^^^^^^^^^^^^^^^^^^^^^^^^^^^^^^^^^\n",
      "OSError: [Errno 9] Bad file descriptor\n",
      "\n",
      "During handling of the above exception, another exception occurred:\n",
      "\n",
      "Traceback (most recent call last):\n",
      "  File \"/Users/shazeb.asad/global_pricing/venv_bayesian/lib/python3.13/site-packages/debugpy/_vendored/pydevd/_pydevd_bundle/pydevd_daemon_thread.py\", line 53, in run\n",
      "    self._on_run()\n",
      "    ~~~~~~~~~~~~^^\n",
      "  File \"/Users/shazeb.asad/global_pricing/venv_bayesian/lib/python3.13/site-packages/debugpy/_vendored/pydevd/_pydevd_bundle/pydevd_comm.py\", line 432, in _on_run\n",
      "    self.py_db.dispose_and_kill_all_pydevd_threads()\n",
      "    ~~~~~~~~~~~~~~~~~~~~~~~~~~~~~~~~~~~~~~~~~~~~~~^^\n",
      "  File \"/Users/shazeb.asad/global_pricing/venv_bayesian/lib/python3.13/site-packages/debugpy/_vendored/pydevd/pydevd.py\", line 2558, in dispose_and_kill_all_pydevd_threads\n",
      "    self._client_socket.close()\n",
      "    ~~~~~~~~~~~~~~~~~~~~~~~~~^^\n",
      "  File \"/opt/homebrew/Cellar/python@3.13/3.13.2/Frameworks/Python.framework/Versions/3.13/lib/python3.13/socket.py\", line 505, in close\n",
      "    self._real_close()\n",
      "    ~~~~~~~~~~~~~~~~^^\n",
      "  File \"/opt/homebrew/Cellar/python@3.13/3.13.2/Frameworks/Python.framework/Versions/3.13/lib/python3.13/socket.py\", line 499, in _real_close\n",
      "    _ss.close(self)\n",
      "    ~~~~~~~~~^^^^^^\n",
      "OSError: [Errno 9] Bad file descriptor\n",
      "0.00s - Debugger warning: It seems that frozen modules are being used, which may\n",
      "0.00s - make the debugger miss breakpoints. Please pass -Xfrozen_modules=off\n",
      "0.00s - to python to disable frozen modules.\n",
      "0.00s - Note: Debugging will proceed. Set PYDEVD_DISABLE_FILE_VALIDATION=1 to disable this validation.\n"
     ]
    },
    {
     "name": "stdout",
     "output_type": "stream",
     "text": [
      "\n",
      "Brand/Entity: FP_TW\n",
      "Week: 2025-05-05\n"
     ]
    },
    {
     "data": {
      "application/vnd.jupyter.widget-view+json": {
       "model_id": "1311131e2b7e4e8f9e857e4fa5ce0438",
       "version_major": 2,
       "version_minor": 0
      },
      "text/plain": [
       "Weeks:   0%|          | 0/1 [00:00<?, ?it/s]"
      ]
     },
     "metadata": {},
     "output_type": "display_data"
    },
    {
     "name": "stdout",
     "output_type": "stream",
     "text": [
      "\n",
      "Brand/Entity: FO_NO\n",
      "Week: 2025-05-05\n"
     ]
    },
    {
     "data": {
      "application/vnd.jupyter.widget-view+json": {
       "model_id": "3d3ed2b05185425a82825987072ac609",
       "version_major": 2,
       "version_minor": 0
      },
      "text/plain": [
       "Weeks:   0%|          | 0/1 [00:00<?, ?it/s]"
      ]
     },
     "metadata": {},
     "output_type": "display_data"
    },
    {
     "name": "stdout",
     "output_type": "stream",
     "text": [
      "\n",
      "Brand/Entity: FP_SG\n",
      "Week: 2025-05-05\n"
     ]
    },
    {
     "data": {
      "application/vnd.jupyter.widget-view+json": {
       "model_id": "fcb86391dd854d6d8c59ff3653b533c4",
       "version_major": 2,
       "version_minor": 0
      },
      "text/plain": [
       "Weeks:   0%|          | 0/1 [00:00<?, ?it/s]"
      ]
     },
     "metadata": {},
     "output_type": "display_data"
    },
    {
     "name": "stderr",
     "output_type": "stream",
     "text": [
      "/Users/shazeb.asad/global_pricing/venv_bayesian/lib/python3.13/site-packages/joblib/externals/loky/process_executor.py:752: UserWarning: A worker stopped while some jobs were given to the executor. This can be caused by a too short worker timeout or by a memory leak.\n",
      "  warnings.warn(\n",
      "Traceback (most recent call last):\n",
      "  File \"/Users/shazeb.asad/global_pricing/venv_bayesian/lib/python3.13/site-packages/debugpy/_vendored/pydevd/_pydevd_bundle/pydevd_comm.py\", line 422, in _on_run\n",
      "    cmd.send(self.sock)\n",
      "    ~~~~~~~~^^^^^^^^^^^\n",
      "  File \"/Users/shazeb.asad/global_pricing/venv_bayesian/lib/python3.13/site-packages/debugpy/_vendored/pydevd/_pydevd_bundle/pydevd_net_command.py\", line 111, in send\n",
      "    sock.sendall((\"Content-Length: %s\\r\\n\\r\\n\" % len(as_bytes)).encode(\"ascii\"))\n",
      "    ~~~~~~~~~~~~^^^^^^^^^^^^^^^^^^^^^^^^^^^^^^^^^^^^^^^^^^^^^^^^^^^^^^^^^^^^^^^^\n",
      "OSError: [Errno 9] Bad file descriptor\n",
      "\n",
      "During handling of the above exception, another exception occurred:\n",
      "\n",
      "Traceback (most recent call last):\n",
      "  File \"/Users/shazeb.asad/global_pricing/venv_bayesian/lib/python3.13/site-packages/debugpy/_vendored/pydevd/_pydevd_bundle/pydevd_daemon_thread.py\", line 53, in run\n",
      "    self._on_run()\n",
      "    ~~~~~~~~~~~~^^\n",
      "  File \"/Users/shazeb.asad/global_pricing/venv_bayesian/lib/python3.13/site-packages/debugpy/_vendored/pydevd/_pydevd_bundle/pydevd_comm.py\", line 432, in _on_run\n",
      "    self.py_db.dispose_and_kill_all_pydevd_threads()\n",
      "    ~~~~~~~~~~~~~~~~~~~~~~~~~~~~~~~~~~~~~~~~~~~~~~^^\n",
      "  File \"/Users/shazeb.asad/global_pricing/venv_bayesian/lib/python3.13/site-packages/debugpy/_vendored/pydevd/pydevd.py\", line 2558, in dispose_and_kill_all_pydevd_threads\n",
      "    self._client_socket.close()\n",
      "    ~~~~~~~~~~~~~~~~~~~~~~~~~^^\n",
      "  File \"/opt/homebrew/Cellar/python@3.13/3.13.2/Frameworks/Python.framework/Versions/3.13/lib/python3.13/socket.py\", line 505, in close\n",
      "    self._real_close()\n",
      "    ~~~~~~~~~~~~~~~~^^\n",
      "  File \"/opt/homebrew/Cellar/python@3.13/3.13.2/Frameworks/Python.framework/Versions/3.13/lib/python3.13/socket.py\", line 499, in _real_close\n",
      "    _ss.close(self)\n",
      "    ~~~~~~~~~^^^^^^\n",
      "OSError: [Errno 9] Bad file descriptor\n",
      "0.00s - Debugger warning: It seems that frozen modules are being used, which may\n",
      "0.00s - make the debugger miss breakpoints. Please pass -Xfrozen_modules=off\n",
      "0.00s - to python to disable frozen modules.\n",
      "0.00s - Note: Debugging will proceed. Set PYDEVD_DISABLE_FILE_VALIDATION=1 to disable this validation.\n",
      "Traceback (most recent call last):\n",
      "  File \"/Users/shazeb.asad/global_pricing/venv_bayesian/lib/python3.13/site-packages/debugpy/_vendored/pydevd/_pydevd_bundle/pydevd_comm.py\", line 422, in _on_run\n",
      "    cmd.send(self.sock)\n",
      "    ~~~~~~~~^^^^^^^^^^^\n",
      "  File \"/Users/shazeb.asad/global_pricing/venv_bayesian/lib/python3.13/site-packages/debugpy/_vendored/pydevd/_pydevd_bundle/pydevd_net_command.py\", line 111, in send\n",
      "    sock.sendall((\"Content-Length: %s\\r\\n\\r\\n\" % len(as_bytes)).encode(\"ascii\"))\n",
      "    ~~~~~~~~~~~~^^^^^^^^^^^^^^^^^^^^^^^^^^^^^^^^^^^^^^^^^^^^^^^^^^^^^^^^^^^^^^^^\n",
      "OSError: [Errno 9] Bad file descriptor\n",
      "\n",
      "During handling of the above exception, another exception occurred:\n",
      "\n",
      "Traceback (most recent call last):\n",
      "  File \"/Users/shazeb.asad/global_pricing/venv_bayesian/lib/python3.13/site-packages/debugpy/_vendored/pydevd/_pydevd_bundle/pydevd_daemon_thread.py\", line 53, in run\n",
      "    self._on_run()\n",
      "    ~~~~~~~~~~~~^^\n",
      "  File \"/Users/shazeb.asad/global_pricing/venv_bayesian/lib/python3.13/site-packages/debugpy/_vendored/pydevd/_pydevd_bundle/pydevd_comm.py\", line 432, in _on_run\n",
      "    self.py_db.dispose_and_kill_all_pydevd_threads()\n",
      "    ~~~~~~~~~~~~~~~~~~~~~~~~~~~~~~~~~~~~~~~~~~~~~~^^\n",
      "  File \"/Users/shazeb.asad/global_pricing/venv_bayesian/lib/python3.13/site-packages/debugpy/_vendored/pydevd/pydevd.py\", line 2558, in dispose_and_kill_all_pydevd_threads\n",
      "    self._client_socket.close()\n",
      "    ~~~~~~~~~~~~~~~~~~~~~~~~~^^\n",
      "  File \"/opt/homebrew/Cellar/python@3.13/3.13.2/Frameworks/Python.framework/Versions/3.13/lib/python3.13/socket.py\", line 505, in close\n",
      "    self._real_close()\n",
      "    ~~~~~~~~~~~~~~~~^^\n",
      "  File \"/opt/homebrew/Cellar/python@3.13/3.13.2/Frameworks/Python.framework/Versions/3.13/lib/python3.13/socket.py\", line 499, in _real_close\n",
      "    _ss.close(self)\n",
      "    ~~~~~~~~~^^^^^^\n",
      "OSError: [Errno 9] Bad file descriptor\n",
      "0.00s - Debugger warning: It seems that frozen modules are being used, which may\n",
      "0.00s - make the debugger miss breakpoints. Please pass -Xfrozen_modules=off\n",
      "0.00s - to python to disable frozen modules.\n",
      "0.00s - Note: Debugging will proceed. Set PYDEVD_DISABLE_FILE_VALIDATION=1 to disable this validation.\n",
      "Traceback (most recent call last):\n",
      "  File \"/Users/shazeb.asad/global_pricing/venv_bayesian/lib/python3.13/site-packages/debugpy/_vendored/pydevd/_pydevd_bundle/pydevd_comm.py\", line 422, in _on_run\n",
      "    cmd.send(self.sock)\n",
      "    ~~~~~~~~^^^^^^^^^^^\n",
      "  File \"/Users/shazeb.asad/global_pricing/venv_bayesian/lib/python3.13/site-packages/debugpy/_vendored/pydevd/_pydevd_bundle/pydevd_net_command.py\", line 111, in send\n",
      "    sock.sendall((\"Content-Length: %s\\r\\n\\r\\n\" % len(as_bytes)).encode(\"ascii\"))\n",
      "    ~~~~~~~~~~~~^^^^^^^^^^^^^^^^^^^^^^^^^^^^^^^^^^^^^^^^^^^^^^^^^^^^^^^^^^^^^^^^\n",
      "OSError: [Errno 9] Bad file descriptor\n",
      "\n",
      "During handling of the above exception, another exception occurred:\n",
      "\n",
      "Traceback (most recent call last):\n",
      "  File \"/Users/shazeb.asad/global_pricing/venv_bayesian/lib/python3.13/site-packages/debugpy/_vendored/pydevd/_pydevd_bundle/pydevd_daemon_thread.py\", line 53, in run\n",
      "    self._on_run()\n",
      "    ~~~~~~~~~~~~^^\n",
      "  File \"/Users/shazeb.asad/global_pricing/venv_bayesian/lib/python3.13/site-packages/debugpy/_vendored/pydevd/_pydevd_bundle/pydevd_comm.py\", line 432, in _on_run\n",
      "    self.py_db.dispose_and_kill_all_pydevd_threads()\n",
      "    ~~~~~~~~~~~~~~~~~~~~~~~~~~~~~~~~~~~~~~~~~~~~~~^^\n",
      "  File \"/Users/shazeb.asad/global_pricing/venv_bayesian/lib/python3.13/site-packages/debugpy/_vendored/pydevd/pydevd.py\", line 2558, in dispose_and_kill_all_pydevd_threads\n",
      "    self._client_socket.close()\n",
      "    ~~~~~~~~~~~~~~~~~~~~~~~~~^^\n",
      "  File \"/opt/homebrew/Cellar/python@3.13/3.13.2/Frameworks/Python.framework/Versions/3.13/lib/python3.13/socket.py\", line 505, in close\n",
      "    self._real_close()\n",
      "    ~~~~~~~~~~~~~~~~^^\n",
      "  File \"/opt/homebrew/Cellar/python@3.13/3.13.2/Frameworks/Python.framework/Versions/3.13/lib/python3.13/socket.py\", line 499, in _real_close\n",
      "    _ss.close(self)\n",
      "    ~~~~~~~~~^^^^^^\n",
      "OSError: [Errno 9] Bad file descriptor\n",
      "0.00s - Debugger warning: It seems that frozen modules are being used, which may\n",
      "0.00s - make the debugger miss breakpoints. Please pass -Xfrozen_modules=off\n",
      "0.00s - to python to disable frozen modules.\n",
      "0.00s - Note: Debugging will proceed. Set PYDEVD_DISABLE_FILE_VALIDATION=1 to disable this validation.\n",
      "Traceback (most recent call last):\n",
      "  File \"/Users/shazeb.asad/global_pricing/venv_bayesian/lib/python3.13/site-packages/debugpy/_vendored/pydevd/_pydevd_bundle/pydevd_comm.py\", line 422, in _on_run\n",
      "    cmd.send(self.sock)\n",
      "    ~~~~~~~~^^^^^^^^^^^\n",
      "  File \"/Users/shazeb.asad/global_pricing/venv_bayesian/lib/python3.13/site-packages/debugpy/_vendored/pydevd/_pydevd_bundle/pydevd_net_command.py\", line 111, in send\n",
      "    sock.sendall((\"Content-Length: %s\\r\\n\\r\\n\" % len(as_bytes)).encode(\"ascii\"))\n",
      "    ~~~~~~~~~~~~^^^^^^^^^^^^^^^^^^^^^^^^^^^^^^^^^^^^^^^^^^^^^^^^^^^^^^^^^^^^^^^^\n",
      "OSError: [Errno 9] Bad file descriptor\n",
      "\n",
      "During handling of the above exception, another exception occurred:\n",
      "\n",
      "Traceback (most recent call last):\n",
      "  File \"/Users/shazeb.asad/global_pricing/venv_bayesian/lib/python3.13/site-packages/debugpy/_vendored/pydevd/_pydevd_bundle/pydevd_daemon_thread.py\", line 53, in run\n",
      "    self._on_run()\n",
      "    ~~~~~~~~~~~~^^\n",
      "  File \"/Users/shazeb.asad/global_pricing/venv_bayesian/lib/python3.13/site-packages/debugpy/_vendored/pydevd/_pydevd_bundle/pydevd_comm.py\", line 432, in _on_run\n",
      "    self.py_db.dispose_and_kill_all_pydevd_threads()\n",
      "    ~~~~~~~~~~~~~~~~~~~~~~~~~~~~~~~~~~~~~~~~~~~~~~^^\n",
      "  File \"/Users/shazeb.asad/global_pricing/venv_bayesian/lib/python3.13/site-packages/debugpy/_vendored/pydevd/pydevd.py\", line 2558, in dispose_and_kill_all_pydevd_threads\n",
      "    self._client_socket.close()\n",
      "    ~~~~~~~~~~~~~~~~~~~~~~~~~^^\n",
      "  File \"/opt/homebrew/Cellar/python@3.13/3.13.2/Frameworks/Python.framework/Versions/3.13/lib/python3.13/socket.py\", line 505, in close\n",
      "    self._real_close()\n",
      "    ~~~~~~~~~~~~~~~~^^\n",
      "  File \"/opt/homebrew/Cellar/python@3.13/3.13.2/Frameworks/Python.framework/Versions/3.13/lib/python3.13/socket.py\", line 499, in _real_close\n",
      "    _ss.close(self)\n",
      "    ~~~~~~~~~^^^^^^\n",
      "OSError: [Errno 9] Bad file descriptor\n",
      "0.00s - Debugger warning: It seems that frozen modules are being used, which may\n",
      "0.00s - make the debugger miss breakpoints. Please pass -Xfrozen_modules=off\n",
      "0.00s - to python to disable frozen modules.\n",
      "0.00s - Note: Debugging will proceed. Set PYDEVD_DISABLE_FILE_VALIDATION=1 to disable this validation.\n",
      "Traceback (most recent call last):\n",
      "  File \"/Users/shazeb.asad/global_pricing/venv_bayesian/lib/python3.13/site-packages/debugpy/_vendored/pydevd/_pydevd_bundle/pydevd_comm.py\", line 422, in _on_run\n",
      "    cmd.send(self.sock)\n",
      "    ~~~~~~~~^^^^^^^^^^^\n",
      "  File \"/Users/shazeb.asad/global_pricing/venv_bayesian/lib/python3.13/site-packages/debugpy/_vendored/pydevd/_pydevd_bundle/pydevd_net_command.py\", line 111, in send\n",
      "    sock.sendall((\"Content-Length: %s\\r\\n\\r\\n\" % len(as_bytes)).encode(\"ascii\"))\n",
      "    ~~~~~~~~~~~~^^^^^^^^^^^^^^^^^^^^^^^^^^^^^^^^^^^^^^^^^^^^^^^^^^^^^^^^^^^^^^^^\n",
      "OSError: [Errno 9] Bad file descriptor\n",
      "\n",
      "During handling of the above exception, another exception occurred:\n",
      "\n",
      "Traceback (most recent call last):\n",
      "  File \"/Users/shazeb.asad/global_pricing/venv_bayesian/lib/python3.13/site-packages/debugpy/_vendored/pydevd/_pydevd_bundle/pydevd_daemon_thread.py\", line 53, in run\n",
      "    self._on_run()\n",
      "    ~~~~~~~~~~~~^^\n",
      "  File \"/Users/shazeb.asad/global_pricing/venv_bayesian/lib/python3.13/site-packages/debugpy/_vendored/pydevd/_pydevd_bundle/pydevd_comm.py\", line 432, in _on_run\n",
      "    self.py_db.dispose_and_kill_all_pydevd_threads()\n",
      "    ~~~~~~~~~~~~~~~~~~~~~~~~~~~~~~~~~~~~~~~~~~~~~~^^\n",
      "  File \"/Users/shazeb.asad/global_pricing/venv_bayesian/lib/python3.13/site-packages/debugpy/_vendored/pydevd/pydevd.py\", line 2558, in dispose_and_kill_all_pydevd_threads\n",
      "    self._client_socket.close()\n",
      "    ~~~~~~~~~~~~~~~~~~~~~~~~~^^\n",
      "  File \"/opt/homebrew/Cellar/python@3.13/3.13.2/Frameworks/Python.framework/Versions/3.13/lib/python3.13/socket.py\", line 505, in close\n",
      "    self._real_close()\n",
      "    ~~~~~~~~~~~~~~~~^^\n",
      "  File \"/opt/homebrew/Cellar/python@3.13/3.13.2/Frameworks/Python.framework/Versions/3.13/lib/python3.13/socket.py\", line 499, in _real_close\n",
      "    _ss.close(self)\n",
      "    ~~~~~~~~~^^^^^^\n",
      "OSError: [Errno 9] Bad file descriptor\n",
      "0.00s - Debugger warning: It seems that frozen modules are being used, which may\n",
      "0.00s - make the debugger miss breakpoints. Please pass -Xfrozen_modules=off\n",
      "0.00s - to python to disable frozen modules.\n",
      "0.00s - Note: Debugging will proceed. Set PYDEVD_DISABLE_FILE_VALIDATION=1 to disable this validation.\n",
      "Traceback (most recent call last):\n",
      "  File \"/Users/shazeb.asad/global_pricing/venv_bayesian/lib/python3.13/site-packages/debugpy/_vendored/pydevd/_pydevd_bundle/pydevd_comm.py\", line 422, in _on_run\n",
      "    cmd.send(self.sock)\n",
      "    ~~~~~~~~^^^^^^^^^^^\n",
      "  File \"/Users/shazeb.asad/global_pricing/venv_bayesian/lib/python3.13/site-packages/debugpy/_vendored/pydevd/_pydevd_bundle/pydevd_net_command.py\", line 111, in send\n",
      "    sock.sendall((\"Content-Length: %s\\r\\n\\r\\n\" % len(as_bytes)).encode(\"ascii\"))\n",
      "    ~~~~~~~~~~~~^^^^^^^^^^^^^^^^^^^^^^^^^^^^^^^^^^^^^^^^^^^^^^^^^^^^^^^^^^^^^^^^\n",
      "OSError: [Errno 9] Bad file descriptor\n",
      "\n",
      "During handling of the above exception, another exception occurred:\n",
      "\n",
      "Traceback (most recent call last):\n",
      "  File \"/Users/shazeb.asad/global_pricing/venv_bayesian/lib/python3.13/site-packages/debugpy/_vendored/pydevd/_pydevd_bundle/pydevd_daemon_thread.py\", line 53, in run\n",
      "    self._on_run()\n",
      "    ~~~~~~~~~~~~^^\n",
      "  File \"/Users/shazeb.asad/global_pricing/venv_bayesian/lib/python3.13/site-packages/debugpy/_vendored/pydevd/_pydevd_bundle/pydevd_comm.py\", line 432, in _on_run\n",
      "    self.py_db.dispose_and_kill_all_pydevd_threads()\n",
      "    ~~~~~~~~~~~~~~~~~~~~~~~~~~~~~~~~~~~~~~~~~~~~~~^^\n",
      "  File \"/Users/shazeb.asad/global_pricing/venv_bayesian/lib/python3.13/site-packages/debugpy/_vendored/pydevd/pydevd.py\", line 2558, in dispose_and_kill_all_pydevd_threads\n",
      "    self._client_socket.close()\n",
      "    ~~~~~~~~~~~~~~~~~~~~~~~~~^^\n",
      "  File \"/opt/homebrew/Cellar/python@3.13/3.13.2/Frameworks/Python.framework/Versions/3.13/lib/python3.13/socket.py\", line 505, in close\n",
      "    self._real_close()\n",
      "    ~~~~~~~~~~~~~~~~^^\n",
      "  File \"/opt/homebrew/Cellar/python@3.13/3.13.2/Frameworks/Python.framework/Versions/3.13/lib/python3.13/socket.py\", line 499, in _real_close\n",
      "    _ss.close(self)\n",
      "    ~~~~~~~~~^^^^^^\n",
      "OSError: [Errno 9] Bad file descriptor\n",
      "0.00s - Debugger warning: It seems that frozen modules are being used, which may\n",
      "0.00s - make the debugger miss breakpoints. Please pass -Xfrozen_modules=off\n",
      "0.00s - to python to disable frozen modules.\n",
      "0.00s - Note: Debugging will proceed. Set PYDEVD_DISABLE_FILE_VALIDATION=1 to disable this validation.\n",
      "Traceback (most recent call last):\n",
      "  File \"/Users/shazeb.asad/global_pricing/venv_bayesian/lib/python3.13/site-packages/debugpy/_vendored/pydevd/_pydevd_bundle/pydevd_comm.py\", line 422, in _on_run\n",
      "    cmd.send(self.sock)\n",
      "    ~~~~~~~~^^^^^^^^^^^\n",
      "  File \"/Users/shazeb.asad/global_pricing/venv_bayesian/lib/python3.13/site-packages/debugpy/_vendored/pydevd/_pydevd_bundle/pydevd_net_command.py\", line 111, in send\n",
      "    sock.sendall((\"Content-Length: %s\\r\\n\\r\\n\" % len(as_bytes)).encode(\"ascii\"))\n",
      "    ~~~~~~~~~~~~^^^^^^^^^^^^^^^^^^^^^^^^^^^^^^^^^^^^^^^^^^^^^^^^^^^^^^^^^^^^^^^^\n",
      "OSError: [Errno 9] Bad file descriptor\n",
      "\n",
      "During handling of the above exception, another exception occurred:\n",
      "\n",
      "Traceback (most recent call last):\n",
      "  File \"/Users/shazeb.asad/global_pricing/venv_bayesian/lib/python3.13/site-packages/debugpy/_vendored/pydevd/_pydevd_bundle/pydevd_daemon_thread.py\", line 53, in run\n",
      "    self._on_run()\n",
      "    ~~~~~~~~~~~~^^\n",
      "  File \"/Users/shazeb.asad/global_pricing/venv_bayesian/lib/python3.13/site-packages/debugpy/_vendored/pydevd/_pydevd_bundle/pydevd_comm.py\", line 432, in _on_run\n",
      "    self.py_db.dispose_and_kill_all_pydevd_threads()\n",
      "    ~~~~~~~~~~~~~~~~~~~~~~~~~~~~~~~~~~~~~~~~~~~~~~^^\n",
      "  File \"/Users/shazeb.asad/global_pricing/venv_bayesian/lib/python3.13/site-packages/debugpy/_vendored/pydevd/pydevd.py\", line 2558, in dispose_and_kill_all_pydevd_threads\n",
      "    self._client_socket.close()\n",
      "    ~~~~~~~~~~~~~~~~~~~~~~~~~^^\n",
      "  File \"/opt/homebrew/Cellar/python@3.13/3.13.2/Frameworks/Python.framework/Versions/3.13/lib/python3.13/socket.py\", line 505, in close\n",
      "    self._real_close()\n",
      "    ~~~~~~~~~~~~~~~~^^\n",
      "  File \"/opt/homebrew/Cellar/python@3.13/3.13.2/Frameworks/Python.framework/Versions/3.13/lib/python3.13/socket.py\", line 499, in _real_close\n",
      "    _ss.close(self)\n",
      "    ~~~~~~~~~^^^^^^\n",
      "OSError: [Errno 9] Bad file descriptor\n",
      "0.00s - Debugger warning: It seems that frozen modules are being used, which may\n",
      "0.00s - make the debugger miss breakpoints. Please pass -Xfrozen_modules=off\n",
      "0.00s - to python to disable frozen modules.\n",
      "0.00s - Note: Debugging will proceed. Set PYDEVD_DISABLE_FILE_VALIDATION=1 to disable this validation.\n",
      "Traceback (most recent call last):\n",
      "  File \"/Users/shazeb.asad/global_pricing/venv_bayesian/lib/python3.13/site-packages/debugpy/_vendored/pydevd/_pydevd_bundle/pydevd_comm.py\", line 422, in _on_run\n",
      "    cmd.send(self.sock)\n",
      "    ~~~~~~~~^^^^^^^^^^^\n",
      "  File \"/Users/shazeb.asad/global_pricing/venv_bayesian/lib/python3.13/site-packages/debugpy/_vendored/pydevd/_pydevd_bundle/pydevd_net_command.py\", line 111, in send\n",
      "    sock.sendall((\"Content-Length: %s\\r\\n\\r\\n\" % len(as_bytes)).encode(\"ascii\"))\n",
      "    ~~~~~~~~~~~~^^^^^^^^^^^^^^^^^^^^^^^^^^^^^^^^^^^^^^^^^^^^^^^^^^^^^^^^^^^^^^^^\n",
      "OSError: [Errno 9] Bad file descriptor\n",
      "\n",
      "During handling of the above exception, another exception occurred:\n",
      "\n",
      "Traceback (most recent call last):\n",
      "  File \"/Users/shazeb.asad/global_pricing/venv_bayesian/lib/python3.13/site-packages/debugpy/_vendored/pydevd/_pydevd_bundle/pydevd_daemon_thread.py\", line 53, in run\n",
      "    self._on_run()\n",
      "    ~~~~~~~~~~~~^^\n",
      "  File \"/Users/shazeb.asad/global_pricing/venv_bayesian/lib/python3.13/site-packages/debugpy/_vendored/pydevd/_pydevd_bundle/pydevd_comm.py\", line 432, in _on_run\n",
      "    self.py_db.dispose_and_kill_all_pydevd_threads()\n",
      "    ~~~~~~~~~~~~~~~~~~~~~~~~~~~~~~~~~~~~~~~~~~~~~~^^\n",
      "  File \"/Users/shazeb.asad/global_pricing/venv_bayesian/lib/python3.13/site-packages/debugpy/_vendored/pydevd/pydevd.py\", line 2558, in dispose_and_kill_all_pydevd_threads\n",
      "    self._client_socket.close()\n",
      "    ~~~~~~~~~~~~~~~~~~~~~~~~~^^\n",
      "  File \"/opt/homebrew/Cellar/python@3.13/3.13.2/Frameworks/Python.framework/Versions/3.13/lib/python3.13/socket.py\", line 505, in close\n",
      "    self._real_close()\n",
      "    ~~~~~~~~~~~~~~~~^^\n",
      "  File \"/opt/homebrew/Cellar/python@3.13/3.13.2/Frameworks/Python.framework/Versions/3.13/lib/python3.13/socket.py\", line 499, in _real_close\n",
      "    _ss.close(self)\n",
      "    ~~~~~~~~~^^^^^^\n",
      "OSError: [Errno 9] Bad file descriptor\n",
      "0.00s - Debugger warning: It seems that frozen modules are being used, which may\n",
      "0.00s - make the debugger miss breakpoints. Please pass -Xfrozen_modules=off\n",
      "0.00s - to python to disable frozen modules.\n",
      "0.00s - Note: Debugging will proceed. Set PYDEVD_DISABLE_FILE_VALIDATION=1 to disable this validation.\n",
      "Traceback (most recent call last):\n",
      "  File \"/Users/shazeb.asad/global_pricing/venv_bayesian/lib/python3.13/site-packages/debugpy/_vendored/pydevd/_pydevd_bundle/pydevd_comm.py\", line 422, in _on_run\n",
      "    cmd.send(self.sock)\n",
      "    ~~~~~~~~^^^^^^^^^^^\n",
      "  File \"/Users/shazeb.asad/global_pricing/venv_bayesian/lib/python3.13/site-packages/debugpy/_vendored/pydevd/_pydevd_bundle/pydevd_net_command.py\", line 111, in send\n",
      "    sock.sendall((\"Content-Length: %s\\r\\n\\r\\n\" % len(as_bytes)).encode(\"ascii\"))\n",
      "    ~~~~~~~~~~~~^^^^^^^^^^^^^^^^^^^^^^^^^^^^^^^^^^^^^^^^^^^^^^^^^^^^^^^^^^^^^^^^\n",
      "OSError: [Errno 9] Bad file descriptor\n",
      "\n",
      "During handling of the above exception, another exception occurred:\n",
      "\n",
      "Traceback (most recent call last):\n",
      "  File \"/Users/shazeb.asad/global_pricing/venv_bayesian/lib/python3.13/site-packages/debugpy/_vendored/pydevd/_pydevd_bundle/pydevd_daemon_thread.py\", line 53, in run\n",
      "    self._on_run()\n",
      "    ~~~~~~~~~~~~^^\n",
      "  File \"/Users/shazeb.asad/global_pricing/venv_bayesian/lib/python3.13/site-packages/debugpy/_vendored/pydevd/_pydevd_bundle/pydevd_comm.py\", line 432, in _on_run\n",
      "    self.py_db.dispose_and_kill_all_pydevd_threads()\n",
      "    ~~~~~~~~~~~~~~~~~~~~~~~~~~~~~~~~~~~~~~~~~~~~~~^^\n",
      "  File \"/Users/shazeb.asad/global_pricing/venv_bayesian/lib/python3.13/site-packages/debugpy/_vendored/pydevd/pydevd.py\", line 2558, in dispose_and_kill_all_pydevd_threads\n",
      "    self._client_socket.close()\n",
      "    ~~~~~~~~~~~~~~~~~~~~~~~~~^^\n",
      "  File \"/opt/homebrew/Cellar/python@3.13/3.13.2/Frameworks/Python.framework/Versions/3.13/lib/python3.13/socket.py\", line 505, in close\n",
      "    self._real_close()\n",
      "    ~~~~~~~~~~~~~~~~^^\n",
      "  File \"/opt/homebrew/Cellar/python@3.13/3.13.2/Frameworks/Python.framework/Versions/3.13/lib/python3.13/socket.py\", line 499, in _real_close\n",
      "    _ss.close(self)\n",
      "    ~~~~~~~~~^^^^^^\n",
      "OSError: [Errno 9] Bad file descriptor\n",
      "0.00s - Debugger warning: It seems that frozen modules are being used, which may\n",
      "0.00s - make the debugger miss breakpoints. Please pass -Xfrozen_modules=off\n",
      "0.00s - to python to disable frozen modules.\n",
      "0.00s - Note: Debugging will proceed. Set PYDEVD_DISABLE_FILE_VALIDATION=1 to disable this validation.\n",
      "Traceback (most recent call last):\n",
      "  File \"/Users/shazeb.asad/global_pricing/venv_bayesian/lib/python3.13/site-packages/debugpy/_vendored/pydevd/_pydevd_bundle/pydevd_comm.py\", line 422, in _on_run\n",
      "    cmd.send(self.sock)\n",
      "    ~~~~~~~~^^^^^^^^^^^\n",
      "  File \"/Users/shazeb.asad/global_pricing/venv_bayesian/lib/python3.13/site-packages/debugpy/_vendored/pydevd/_pydevd_bundle/pydevd_net_command.py\", line 111, in send\n",
      "    sock.sendall((\"Content-Length: %s\\r\\n\\r\\n\" % len(as_bytes)).encode(\"ascii\"))\n",
      "    ~~~~~~~~~~~~^^^^^^^^^^^^^^^^^^^^^^^^^^^^^^^^^^^^^^^^^^^^^^^^^^^^^^^^^^^^^^^^\n",
      "OSError: [Errno 9] Bad file descriptor\n",
      "\n",
      "During handling of the above exception, another exception occurred:\n",
      "\n",
      "Traceback (most recent call last):\n",
      "  File \"/Users/shazeb.asad/global_pricing/venv_bayesian/lib/python3.13/site-packages/debugpy/_vendored/pydevd/_pydevd_bundle/pydevd_daemon_thread.py\", line 53, in run\n",
      "    self._on_run()\n",
      "    ~~~~~~~~~~~~^^\n",
      "  File \"/Users/shazeb.asad/global_pricing/venv_bayesian/lib/python3.13/site-packages/debugpy/_vendored/pydevd/_pydevd_bundle/pydevd_comm.py\", line 432, in _on_run\n",
      "    self.py_db.dispose_and_kill_all_pydevd_threads()\n",
      "    ~~~~~~~~~~~~~~~~~~~~~~~~~~~~~~~~~~~~~~~~~~~~~~^^\n",
      "  File \"/Users/shazeb.asad/global_pricing/venv_bayesian/lib/python3.13/site-packages/debugpy/_vendored/pydevd/pydevd.py\", line 2558, in dispose_and_kill_all_pydevd_threads\n",
      "    self._client_socket.close()\n",
      "    ~~~~~~~~~~~~~~~~~~~~~~~~~^^\n",
      "  File \"/opt/homebrew/Cellar/python@3.13/3.13.2/Frameworks/Python.framework/Versions/3.13/lib/python3.13/socket.py\", line 505, in close\n",
      "    self._real_close()\n",
      "    ~~~~~~~~~~~~~~~~^^\n",
      "  File \"/opt/homebrew/Cellar/python@3.13/3.13.2/Frameworks/Python.framework/Versions/3.13/lib/python3.13/socket.py\", line 499, in _real_close\n",
      "    _ss.close(self)\n",
      "    ~~~~~~~~~^^^^^^\n",
      "OSError: [Errno 9] Bad file descriptor\n",
      "0.00s - Debugger warning: It seems that frozen modules are being used, which may\n",
      "0.00s - make the debugger miss breakpoints. Please pass -Xfrozen_modules=off\n",
      "0.00s - to python to disable frozen modules.\n",
      "0.00s - Note: Debugging will proceed. Set PYDEVD_DISABLE_FILE_VALIDATION=1 to disable this validation.\n"
     ]
    },
    {
     "name": "stdout",
     "output_type": "stream",
     "text": [
      "\n",
      "Brand/Entity: YS_TR\n",
      "Week: 2025-05-05\n"
     ]
    },
    {
     "data": {
      "application/vnd.jupyter.widget-view+json": {
       "model_id": "ded6f8664c014bf685314783733e1c76",
       "version_major": 2,
       "version_minor": 0
      },
      "text/plain": [
       "Weeks:   0%|          | 0/1 [00:00<?, ?it/s]"
      ]
     },
     "metadata": {},
     "output_type": "display_data"
    },
    {
     "name": "stdout",
     "output_type": "stream",
     "text": [
      "\n",
      "Brand/Entity: PY_BO\n",
      "Week: 2025-05-05\n"
     ]
    },
    {
     "data": {
      "application/vnd.jupyter.widget-view+json": {
       "model_id": "6adbdd5cc60141e1a81d949b0d468d1d",
       "version_major": 2,
       "version_minor": 0
      },
      "text/plain": [
       "Weeks:   0%|          | 0/1 [00:00<?, ?it/s]"
      ]
     },
     "metadata": {},
     "output_type": "display_data"
    },
    {
     "name": "stdout",
     "output_type": "stream",
     "text": [
      "\n",
      "Brand/Entity: PY_HN\n",
      "Week: 2025-05-05\n"
     ]
    },
    {
     "data": {
      "application/vnd.jupyter.widget-view+json": {
       "model_id": "f0b33ff727c14e0b9fda6f161a4ad004",
       "version_major": 2,
       "version_minor": 0
      },
      "text/plain": [
       "Weeks:   0%|          | 0/1 [00:00<?, ?it/s]"
      ]
     },
     "metadata": {},
     "output_type": "display_data"
    },
    {
     "name": "stdout",
     "output_type": "stream",
     "text": [
      "\n",
      "Brand/Entity: HS_SA\n",
      "Week: 2025-05-05\n"
     ]
    },
    {
     "data": {
      "application/vnd.jupyter.widget-view+json": {
       "model_id": "45e325a2473840a8950f1176e14a2b62",
       "version_major": 2,
       "version_minor": 0
      },
      "text/plain": [
       "Weeks:   0%|          | 0/1 [00:00<?, ?it/s]"
      ]
     },
     "metadata": {},
     "output_type": "display_data"
    },
    {
     "name": "stdout",
     "output_type": "stream",
     "text": [
      "\n",
      "Brand/Entity: TB_OM\n",
      "Week: 2025-05-05\n"
     ]
    },
    {
     "data": {
      "application/vnd.jupyter.widget-view+json": {
       "model_id": "f59104c32f7f435fb4f6f90ebd0ce446",
       "version_major": 2,
       "version_minor": 0
      },
      "text/plain": [
       "Weeks:   0%|          | 0/1 [00:00<?, ?it/s]"
      ]
     },
     "metadata": {},
     "output_type": "display_data"
    },
    {
     "name": "stdout",
     "output_type": "stream",
     "text": [
      "\n",
      "Brand/Entity: EF_GR\n",
      "Week: 2025-05-05\n"
     ]
    },
    {
     "data": {
      "application/vnd.jupyter.widget-view+json": {
       "model_id": "ced1046497d549f0bf8a91280f89ce96",
       "version_major": 2,
       "version_minor": 0
      },
      "text/plain": [
       "Weeks:   0%|          | 0/1 [00:00<?, ?it/s]"
      ]
     },
     "metadata": {},
     "output_type": "display_data"
    },
    {
     "name": "stdout",
     "output_type": "stream",
     "text": [
      "\n",
      "Brand/Entity: FP_PK\n",
      "Week: 2025-05-05\n"
     ]
    },
    {
     "data": {
      "application/vnd.jupyter.widget-view+json": {
       "model_id": "1853286a25084c42b65adadc76033a41",
       "version_major": 2,
       "version_minor": 0
      },
      "text/plain": [
       "Weeks:   0%|          | 0/1 [00:00<?, ?it/s]"
      ]
     },
     "metadata": {},
     "output_type": "display_data"
    },
    {
     "name": "stdout",
     "output_type": "stream",
     "text": [
      "\n",
      "Brand/Entity: FP_BD\n",
      "Week: 2025-05-05\n"
     ]
    },
    {
     "data": {
      "application/vnd.jupyter.widget-view+json": {
       "model_id": "e6ca5325d9204ea89f9b75c9bb688604",
       "version_major": 2,
       "version_minor": 0
      },
      "text/plain": [
       "Weeks:   0%|          | 0/1 [00:00<?, ?it/s]"
      ]
     },
     "metadata": {},
     "output_type": "display_data"
    },
    {
     "name": "stdout",
     "output_type": "stream",
     "text": [
      "\n",
      "Brand/Entity: PY_GT\n",
      "Week: 2025-05-05\n"
     ]
    },
    {
     "data": {
      "application/vnd.jupyter.widget-view+json": {
       "model_id": "9177f81d2ae3427d90e884ea977cc095",
       "version_major": 2,
       "version_minor": 0
      },
      "text/plain": [
       "Weeks:   0%|          | 0/1 [00:00<?, ?it/s]"
      ]
     },
     "metadata": {},
     "output_type": "display_data"
    },
    {
     "name": "stdout",
     "output_type": "stream",
     "text": [
      "\n",
      "Brand/Entity: TB_AE\n",
      "Week: 2025-05-05\n"
     ]
    },
    {
     "data": {
      "application/vnd.jupyter.widget-view+json": {
       "model_id": "f3233e63ece2463892648ab4a8f3a6ce",
       "version_major": 2,
       "version_minor": 0
      },
      "text/plain": [
       "Weeks:   0%|          | 0/1 [00:00<?, ?it/s]"
      ]
     },
     "metadata": {},
     "output_type": "display_data"
    },
    {
     "name": "stdout",
     "output_type": "stream",
     "text": [
      "\n",
      "Brand/Entity: OP_SE\n",
      "Week: 2025-05-05\n"
     ]
    },
    {
     "data": {
      "application/vnd.jupyter.widget-view+json": {
       "model_id": "5de57db1ea5a4792aa6c6f9551ee5e02",
       "version_major": 2,
       "version_minor": 0
      },
      "text/plain": [
       "Weeks:   0%|          | 0/1 [00:00<?, ?it/s]"
      ]
     },
     "metadata": {},
     "output_type": "display_data"
    },
    {
     "name": "stdout",
     "output_type": "stream",
     "text": [
      "\n",
      "Brand/Entity: FP_MY\n",
      "Week: 2025-05-05\n"
     ]
    },
    {
     "data": {
      "application/vnd.jupyter.widget-view+json": {
       "model_id": "a8c163b1f83d4e2484369256ddb0327c",
       "version_major": 2,
       "version_minor": 0
      },
      "text/plain": [
       "Weeks:   0%|          | 0/1 [00:00<?, ?it/s]"
      ]
     },
     "metadata": {},
     "output_type": "display_data"
    },
    {
     "name": "stdout",
     "output_type": "stream",
     "text": [
      "\n",
      "Brand/Entity: PY_SV\n",
      "Week: 2025-05-05\n"
     ]
    },
    {
     "data": {
      "application/vnd.jupyter.widget-view+json": {
       "model_id": "3890626e79374869a053a31a57f6a776",
       "version_major": 2,
       "version_minor": 0
      },
      "text/plain": [
       "Weeks:   0%|          | 0/1 [00:00<?, ?it/s]"
      ]
     },
     "metadata": {},
     "output_type": "display_data"
    },
    {
     "name": "stdout",
     "output_type": "stream",
     "text": [
      "\n",
      "Brand/Entity: TB_QA\n",
      "Week: 2025-05-05\n"
     ]
    },
    {
     "data": {
      "application/vnd.jupyter.widget-view+json": {
       "model_id": "cbc255c4b9c441329a5f70902c479f47",
       "version_major": 2,
       "version_minor": 0
      },
      "text/plain": [
       "Weeks:   0%|          | 0/1 [00:00<?, ?it/s]"
      ]
     },
     "metadata": {},
     "output_type": "display_data"
    },
    {
     "name": "stdout",
     "output_type": "stream",
     "text": [
      "\n",
      "Brand/Entity: TB_BH\n",
      "Week: 2025-05-05\n"
     ]
    },
    {
     "data": {
      "application/vnd.jupyter.widget-view+json": {
       "model_id": "db7303725d474467b8fdf175a31b8b97",
       "version_major": 2,
       "version_minor": 0
      },
      "text/plain": [
       "Weeks:   0%|          | 0/1 [00:00<?, ?it/s]"
      ]
     },
     "metadata": {},
     "output_type": "display_data"
    },
    {
     "name": "stdout",
     "output_type": "stream",
     "text": [
      "\n",
      "Brand/Entity: TB_JO\n",
      "Week: 2025-05-05\n"
     ]
    },
    {
     "data": {
      "application/vnd.jupyter.widget-view+json": {
       "model_id": "fcd96600fac94edaa4a6d03b86ed1c37",
       "version_major": 2,
       "version_minor": 0
      },
      "text/plain": [
       "Weeks:   0%|          | 0/1 [00:00<?, ?it/s]"
      ]
     },
     "metadata": {},
     "output_type": "display_data"
    },
    {
     "name": "stdout",
     "output_type": "stream",
     "text": [
      "\n",
      "Brand/Entity: NP_HU\n",
      "Week: 2025-05-05\n"
     ]
    },
    {
     "data": {
      "application/vnd.jupyter.widget-view+json": {
       "model_id": "6496b1e9fecc412491a210067c17e8f5",
       "version_major": 2,
       "version_minor": 0
      },
      "text/plain": [
       "Weeks:   0%|          | 0/1 [00:00<?, ?it/s]"
      ]
     },
     "metadata": {},
     "output_type": "display_data"
    },
    {
     "name": "stdout",
     "output_type": "stream",
     "text": [
      "\n",
      "Brand/Entity: PY_DO\n",
      "Week: 2025-05-05\n"
     ]
    },
    {
     "data": {
      "application/vnd.jupyter.widget-view+json": {
       "model_id": "d0ebc0eff1f14bb5b93415ca1d7c2357",
       "version_major": 2,
       "version_minor": 0
      },
      "text/plain": [
       "Weeks:   0%|          | 0/1 [00:00<?, ?it/s]"
      ]
     },
     "metadata": {},
     "output_type": "display_data"
    },
    {
     "name": "stdout",
     "output_type": "stream",
     "text": [
      "\n",
      "Brand/Entity: PY_PE\n",
      "Week: 2025-05-05\n"
     ]
    },
    {
     "data": {
      "application/vnd.jupyter.widget-view+json": {
       "model_id": "74219fefcf4f4470a3eb442699c8c791",
       "version_major": 2,
       "version_minor": 0
      },
      "text/plain": [
       "Weeks:   0%|          | 0/1 [00:00<?, ?it/s]"
      ]
     },
     "metadata": {},
     "output_type": "display_data"
    },
    {
     "name": "stdout",
     "output_type": "stream",
     "text": [
      "\n",
      "Brand/Entity: FP_LA\n",
      "Week: 2025-05-05\n"
     ]
    },
    {
     "data": {
      "application/vnd.jupyter.widget-view+json": {
       "model_id": "aa1392f791e540728df16d3901690c48",
       "version_major": 2,
       "version_minor": 0
      },
      "text/plain": [
       "Weeks:   0%|          | 0/1 [00:00<?, ?it/s]"
      ]
     },
     "metadata": {},
     "output_type": "display_data"
    },
    {
     "name": "stdout",
     "output_type": "stream",
     "text": [
      "\n",
      "Brand/Entity: PY_NI\n",
      "Week: 2025-05-05\n"
     ]
    },
    {
     "data": {
      "application/vnd.jupyter.widget-view+json": {
       "model_id": "fde75bd3219d4814865e7a4acd001060",
       "version_major": 2,
       "version_minor": 0
      },
      "text/plain": [
       "Weeks:   0%|          | 0/1 [00:00<?, ?it/s]"
      ]
     },
     "metadata": {},
     "output_type": "display_data"
    },
    {
     "name": "stdout",
     "output_type": "stream",
     "text": [
      "\n",
      "Brand/Entity: FP_MM\n",
      "Week: 2025-05-05\n"
     ]
    },
    {
     "data": {
      "application/vnd.jupyter.widget-view+json": {
       "model_id": "78129d471d04449c86b86f4923cde578",
       "version_major": 2,
       "version_minor": 0
      },
      "text/plain": [
       "Weeks:   0%|          | 0/1 [00:00<?, ?it/s]"
      ]
     },
     "metadata": {},
     "output_type": "display_data"
    },
    {
     "name": "stdout",
     "output_type": "stream",
     "text": [
      "\n",
      "Brand/Entity: PY_CL\n",
      "Week: 2025-05-05\n"
     ]
    },
    {
     "data": {
      "application/vnd.jupyter.widget-view+json": {
       "model_id": "fe8e5a5b73064c2eb6050bdead528a06",
       "version_major": 2,
       "version_minor": 0
      },
      "text/plain": [
       "Weeks:   0%|          | 0/1 [00:00<?, ?it/s]"
      ]
     },
     "metadata": {},
     "output_type": "display_data"
    },
    {
     "name": "stdout",
     "output_type": "stream",
     "text": [
      "\n",
      "Brand/Entity: PY_PY\n",
      "Week: 2025-05-05\n"
     ]
    },
    {
     "data": {
      "application/vnd.jupyter.widget-view+json": {
       "model_id": "a5325fff19a643d9956da23751a71ff7",
       "version_major": 2,
       "version_minor": 0
      },
      "text/plain": [
       "Weeks:   0%|          | 0/1 [00:00<?, ?it/s]"
      ]
     },
     "metadata": {},
     "output_type": "display_data"
    },
    {
     "name": "stdout",
     "output_type": "stream",
     "text": [
      "\n",
      "Brand/Entity: FP_TH\n",
      "Week: 2025-05-05\n"
     ]
    },
    {
     "data": {
      "application/vnd.jupyter.widget-view+json": {
       "model_id": "d5d7098615a24df9a6aef6682ed625c0",
       "version_major": 2,
       "version_minor": 0
      },
      "text/plain": [
       "Weeks:   0%|          | 0/1 [00:00<?, ?it/s]"
      ]
     },
     "metadata": {},
     "output_type": "display_data"
    },
    {
     "name": "stdout",
     "output_type": "stream",
     "text": [
      "\n",
      "Brand/Entity: PY_UY\n",
      "Week: 2025-05-05\n"
     ]
    },
    {
     "data": {
      "application/vnd.jupyter.widget-view+json": {
       "model_id": "8a3b90ba7b7745299de4fedac85784fa",
       "version_major": 2,
       "version_minor": 0
      },
      "text/plain": [
       "Weeks:   0%|          | 0/1 [00:00<?, ?it/s]"
      ]
     },
     "metadata": {},
     "output_type": "display_data"
    },
    {
     "name": "stdout",
     "output_type": "stream",
     "text": [
      "\n",
      "Brand/Entity: DJ_CZ\n",
      "Week: 2025-05-05\n"
     ]
    },
    {
     "data": {
      "application/vnd.jupyter.widget-view+json": {
       "model_id": "2eedc077d52c4b08bbefb2caacda547d",
       "version_major": 2,
       "version_minor": 0
      },
      "text/plain": [
       "Weeks:   0%|          | 0/1 [00:00<?, ?it/s]"
      ]
     },
     "metadata": {},
     "output_type": "display_data"
    },
    {
     "name": "stdout",
     "output_type": "stream",
     "text": [
      "\n",
      "Brand/Entity: PY_EC\n",
      "Week: 2025-05-05\n"
     ]
    },
    {
     "data": {
      "application/vnd.jupyter.widget-view+json": {
       "model_id": "253472e487cc426398998d0f6e7e2aed",
       "version_major": 2,
       "version_minor": 0
      },
      "text/plain": [
       "Weeks:   0%|          | 0/1 [00:00<?, ?it/s]"
      ]
     },
     "metadata": {},
     "output_type": "display_data"
    },
    {
     "name": "stdout",
     "output_type": "stream",
     "text": [
      "\n",
      "Brand/Entity: FY_CY\n",
      "Week: 2025-05-05\n"
     ]
    },
    {
     "data": {
      "application/vnd.jupyter.widget-view+json": {
       "model_id": "74c5a1f633d3449bb5636d64dccd7b36",
       "version_major": 2,
       "version_minor": 0
      },
      "text/plain": [
       "Weeks:   0%|          | 0/1 [00:00<?, ?it/s]"
      ]
     },
     "metadata": {},
     "output_type": "display_data"
    },
    {
     "name": "stdout",
     "output_type": "stream",
     "text": [
      "\n",
      "Brand/Entity: PY_VE\n",
      "Week: 2025-05-05\n"
     ]
    },
    {
     "data": {
      "application/vnd.jupyter.widget-view+json": {
       "model_id": "57b7f9b8c16d4f47b8d7e1dd3e5de512",
       "version_major": 2,
       "version_minor": 0
      },
      "text/plain": [
       "Weeks:   0%|          | 0/1 [00:00<?, ?it/s]"
      ]
     },
     "metadata": {},
     "output_type": "display_data"
    },
    {
     "name": "stdout",
     "output_type": "stream",
     "text": [
      "\n",
      "Brand/Entity: AP_PA\n",
      "Week: 2025-05-05\n"
     ]
    },
    {
     "data": {
      "application/vnd.jupyter.widget-view+json": {
       "model_id": "6e296b932cee4266aac0f4ae78a07c53",
       "version_major": 2,
       "version_minor": 0
      },
      "text/plain": [
       "Weeks:   0%|          | 0/1 [00:00<?, ?it/s]"
      ]
     },
     "metadata": {},
     "output_type": "display_data"
    },
    {
     "name": "stdout",
     "output_type": "stream",
     "text": [
      "\n",
      "Brand/Entity: PO_FI\n",
      "Week: 2025-05-05\n"
     ]
    },
    {
     "data": {
      "application/vnd.jupyter.widget-view+json": {
       "model_id": "af5558a3923043c7a95246b50cc7b7dc",
       "version_major": 2,
       "version_minor": 0
      },
      "text/plain": [
       "Weeks:   0%|          | 0/1 [00:00<?, ?it/s]"
      ]
     },
     "metadata": {},
     "output_type": "display_data"
    },
    {
     "name": "stdout",
     "output_type": "stream",
     "text": [
      "\n",
      "Brand/Entity: PY_CR\n",
      "Week: 2025-05-05\n"
     ]
    },
    {
     "data": {
      "application/vnd.jupyter.widget-view+json": {
       "model_id": "56957fd6eba24dccb2c2934ea87d34ab",
       "version_major": 2,
       "version_minor": 0
      },
      "text/plain": [
       "Weeks:   0%|          | 0/1 [00:00<?, ?it/s]"
      ]
     },
     "metadata": {},
     "output_type": "display_data"
    },
    {
     "name": "stdout",
     "output_type": "stream",
     "text": [
      "\n",
      "Brand/Entity: HF_EG\n",
      "Week: 2025-05-05\n"
     ]
    },
    {
     "data": {
      "application/vnd.jupyter.widget-view+json": {
       "model_id": "87d5390b3ae647bea31e711bd646e04a",
       "version_major": 2,
       "version_minor": 0
      },
      "text/plain": [
       "Weeks:   0%|          | 0/1 [00:00<?, ?it/s]"
      ]
     },
     "metadata": {},
     "output_type": "display_data"
    },
    {
     "name": "stdout",
     "output_type": "stream",
     "text": [
      "\n",
      "Brand/Entity: GV_RO\n",
      "Week: 2025-05-05\n"
     ]
    },
    {
     "data": {
      "application/vnd.jupyter.widget-view+json": {
       "model_id": "1c88d8bff247457f8f54b05e51df29a8",
       "version_major": 2,
       "version_minor": 0
      },
      "text/plain": [
       "Weeks:   0%|          | 0/1 [00:00<?, ?it/s]"
      ]
     },
     "metadata": {},
     "output_type": "display_data"
    },
    {
     "name": "stdout",
     "output_type": "stream",
     "text": [
      "\n",
      "Brand/Entity: GV_RS\n",
      "Week: 2025-05-05\n"
     ]
    },
    {
     "data": {
      "application/vnd.jupyter.widget-view+json": {
       "model_id": "47270c7138d940cabff47064285cc578",
       "version_major": 2,
       "version_minor": 0
      },
      "text/plain": [
       "Weeks:   0%|          | 0/1 [00:00<?, ?it/s]"
      ]
     },
     "metadata": {},
     "output_type": "display_data"
    },
    {
     "name": "stdout",
     "output_type": "stream",
     "text": [
      "\n",
      "Brand/Entity: GV_CI\n",
      "Week: 2025-05-05\n"
     ]
    },
    {
     "data": {
      "application/vnd.jupyter.widget-view+json": {
       "model_id": "40b77f383f01479b8970b3d35a8db6e0",
       "version_major": 2,
       "version_minor": 0
      },
      "text/plain": [
       "Weeks:   0%|          | 0/1 [00:00<?, ?it/s]"
      ]
     },
     "metadata": {},
     "output_type": "display_data"
    },
    {
     "name": "stdout",
     "output_type": "stream",
     "text": [
      "\n",
      "Brand/Entity: GV_KE\n",
      "Week: 2025-05-05\n"
     ]
    },
    {
     "data": {
      "application/vnd.jupyter.widget-view+json": {
       "model_id": "e0d50a21afe041fb8da7bf33c2192571",
       "version_major": 2,
       "version_minor": 0
      },
      "text/plain": [
       "Weeks:   0%|          | 0/1 [00:00<?, ?it/s]"
      ]
     },
     "metadata": {},
     "output_type": "display_data"
    },
    {
     "name": "stdout",
     "output_type": "stream",
     "text": [
      "\n",
      "Brand/Entity: GV_BG\n",
      "Week: 2025-05-05\n"
     ]
    },
    {
     "data": {
      "application/vnd.jupyter.widget-view+json": {
       "model_id": "39e8489fa68f4764959e9b58f0490b88",
       "version_major": 2,
       "version_minor": 0
      },
      "text/plain": [
       "Weeks:   0%|          | 0/1 [00:00<?, ?it/s]"
      ]
     },
     "metadata": {},
     "output_type": "display_data"
    },
    {
     "name": "stdout",
     "output_type": "stream",
     "text": [
      "\n",
      "Brand/Entity: GV_NG\n",
      "Week: 2025-05-05\n"
     ]
    },
    {
     "data": {
      "application/vnd.jupyter.widget-view+json": {
       "model_id": "d0b2644622354e17a4e77c60f53f4f9f",
       "version_major": 2,
       "version_minor": 0
      },
      "text/plain": [
       "Weeks:   0%|          | 0/1 [00:00<?, ?it/s]"
      ]
     },
     "metadata": {},
     "output_type": "display_data"
    },
    {
     "name": "stdout",
     "output_type": "stream",
     "text": [
      "\n",
      "Brand/Entity: GV_HR\n",
      "Week: 2025-05-05\n"
     ]
    },
    {
     "data": {
      "application/vnd.jupyter.widget-view+json": {
       "model_id": "91ba4690e9414e9fb5f51bbe7b0a69cd",
       "version_major": 2,
       "version_minor": 0
      },
      "text/plain": [
       "Weeks:   0%|          | 0/1 [00:00<?, ?it/s]"
      ]
     },
     "metadata": {},
     "output_type": "display_data"
    },
    {
     "name": "stdout",
     "output_type": "stream",
     "text": [
      "\n",
      "Brand/Entity: GV_UG\n",
      "Week: 2025-05-05\n"
     ]
    },
    {
     "data": {
      "application/vnd.jupyter.widget-view+json": {
       "model_id": "d02b0b12b74f4b8bb1ae2f980f69aaae",
       "version_major": 2,
       "version_minor": 0
      },
      "text/plain": [
       "Weeks:   0%|          | 0/1 [00:00<?, ?it/s]"
      ]
     },
     "metadata": {},
     "output_type": "display_data"
    },
    {
     "name": "stdout",
     "output_type": "stream",
     "text": [
      "\n",
      "Brand/Entity: GV_BA\n",
      "Week: 2025-05-05\n"
     ]
    },
    {
     "data": {
      "application/vnd.jupyter.widget-view+json": {
       "model_id": "2adcfb2315584f8a87384598c9d3741b",
       "version_major": 2,
       "version_minor": 0
      },
      "text/plain": [
       "Weeks:   0%|          | 0/1 [00:00<?, ?it/s]"
      ]
     },
     "metadata": {},
     "output_type": "display_data"
    },
    {
     "name": "stdout",
     "output_type": "stream",
     "text": [
      "\n",
      "Brand/Entity: GV_MA\n",
      "Week: 2025-05-05\n"
     ]
    },
    {
     "data": {
      "application/vnd.jupyter.widget-view+json": {
       "model_id": "18cd242c3b1240b38b2386029ba4fe8c",
       "version_major": 2,
       "version_minor": 0
      },
      "text/plain": [
       "Weeks:   0%|          | 0/1 [00:00<?, ?it/s]"
      ]
     },
     "metadata": {},
     "output_type": "display_data"
    },
    {
     "name": "stdout",
     "output_type": "stream",
     "text": [
      "\n",
      "Brand/Entity: GV_TN\n",
      "Week: 2025-05-05\n"
     ]
    },
    {
     "data": {
      "application/vnd.jupyter.widget-view+json": {
       "model_id": "782f3f5254ab4719ae69fd676cf38b81",
       "version_major": 2,
       "version_minor": 0
      },
      "text/plain": [
       "Weeks:   0%|          | 0/1 [00:00<?, ?it/s]"
      ]
     },
     "metadata": {},
     "output_type": "display_data"
    },
    {
     "name": "stdout",
     "output_type": "stream",
     "text": [
      "\n",
      "Brand/Entity: GV_MD\n",
      "Week: 2025-05-05\n"
     ]
    },
    {
     "data": {
      "application/vnd.jupyter.widget-view+json": {
       "model_id": "76d5cc4ef8444eec874cc720197401fd",
       "version_major": 2,
       "version_minor": 0
      },
      "text/plain": [
       "Weeks:   0%|          | 0/1 [00:00<?, ?it/s]"
      ]
     },
     "metadata": {},
     "output_type": "display_data"
    },
    {
     "name": "stdout",
     "output_type": "stream",
     "text": [
      "\n",
      "Brand/Entity: GV_ME\n",
      "Week: 2025-05-05\n"
     ]
    }
   ],
   "source": [
    "boostrapped_df = apply_bootstrap_diff_means(raw_cuped_cumm_df, \"entity_id\",  adjusted_metrics, n_resamples = 1000, alpha = 0.05, seed = 42)"
   ]
  },
  {
   "cell_type": "code",
   "execution_count": 31,
   "metadata": {},
   "outputs": [
    {
     "data": {
      "text/plain": [
       "Index(['entity_id', 'as_of_date', 'analytical_profit_post_cuped_observed_diff',\n",
       "       'analytical_profit_post_cuped_ci_low',\n",
       "       'analytical_profit_post_cuped_ci_high',\n",
       "       'analytical_profit_post_cuped_abs_lift',\n",
       "       'analytical_profit_post_cuped_abs_ci_low',\n",
       "       'analytical_profit_post_cuped_abs_ci_high',\n",
       "       'analytical_profit_post_cuped_pct_diff',\n",
       "       'analytical_profit_post_cuped_pct_ci_low',\n",
       "       'analytical_profit_post_cuped_pct_ci_high',\n",
       "       'analytical_profit_post_cuped_total_non_holdout',\n",
       "       'analytical_profit_post_cuped_total_holdout',\n",
       "       'analytical_profit_post_cuped_mean_non_holdout',\n",
       "       'analytical_profit_post_cuped_mean_holdout',\n",
       "       'analytical_profit_post_cuped_n_users_non_holdout',\n",
       "       'analytical_profit_post_cuped_n_users_holdout',\n",
       "       'orders_post_cuped_observed_diff', 'orders_post_cuped_ci_low',\n",
       "       'orders_post_cuped_ci_high', 'orders_post_cuped_abs_lift',\n",
       "       'orders_post_cuped_abs_ci_low', 'orders_post_cuped_abs_ci_high',\n",
       "       'orders_post_cuped_pct_diff', 'orders_post_cuped_pct_ci_low',\n",
       "       'orders_post_cuped_pct_ci_high', 'orders_post_cuped_total_non_holdout',\n",
       "       'orders_post_cuped_total_holdout', 'orders_post_cuped_mean_non_holdout',\n",
       "       'orders_post_cuped_mean_holdout',\n",
       "       'orders_post_cuped_n_users_non_holdout',\n",
       "       'orders_post_cuped_n_users_holdout', 'profit_per_order'],\n",
       "      dtype='object')"
      ]
     },
     "execution_count": 31,
     "metadata": {},
     "output_type": "execute_result"
    }
   ],
   "source": [
    "boostrapped_df.columns"
   ]
  },
  {
   "cell_type": "code",
   "execution_count": 52,
   "metadata": {},
   "outputs": [],
   "source": [
    "# Calculate scaling ratio\n",
    "scaling_ratio = (\n",
    "    boostrapped_df['orders_post_cuped_n_users_non_holdout'] /\n",
    "    boostrapped_df['orders_post_cuped_n_users_holdout']\n",
    ")\n",
    "\n",
    "# Adjust holdout orders\n",
    "adjusted_holdout_orders = boostrapped_df['orders_post_cuped_total_holdout'] * scaling_ratio\n",
    "\n",
    "# ✅ 1. Calculate profit per order safely (point estimate only)\n",
    "boostrapped_df['profit_per_order'] = (\n",
    "    boostrapped_df['analytical_profit_post_cuped_total_non_holdout'] /\n",
    "    boostrapped_df['orders_post_cuped_total_non_holdout']\n",
    ")\n",
    "boostrapped_df['profit_per_order'] = boostrapped_df['profit_per_order'].replace([np.inf, -np.inf], np.nan)\n",
    "\n",
    "# ✅ 2. Calculate additional_orders\n",
    "profit_uplift = boostrapped_df['analytical_profit_post_cuped_abs_lift']\n",
    "profit_per_order = boostrapped_df['profit_per_order']\n",
    "\n",
    "boostrapped_df['additional_orders'] = np.where(\n",
    "    (profit_uplift > 0) & (profit_per_order > 0),\n",
    "    profit_uplift / profit_per_order,\n",
    "    np.where(\n",
    "        (profit_uplift > 0) & (profit_per_order < 0),\n",
    "         profit_uplift / np.abs(profit_per_order),\n",
    "        0\n",
    "    )\n",
    ")\n",
    "\n",
    "# ✅ 3. Total new orders\n",
    "boostrapped_df['total_new_orders'] = (\n",
    "    boostrapped_df['additional_orders'] +\n",
    "    boostrapped_df['orders_post_cuped_abs_lift']\n",
    ")\n",
    "\n",
    "# ✅ 4. Sustainable growth (point estimate)\n",
    "boostrapped_df['sustainable_growth'] = (\n",
    "    boostrapped_df['total_new_orders'] /\n",
    "    adjusted_holdout_orders\n",
    ")\n",
    "\n",
    "# ✅ 5. Sustainable growth confidence intervals (from profit uplift CIs)\n",
    "profit_uplift_ci_low = boostrapped_df['analytical_profit_post_cuped_abs_ci_low']\n",
    "profit_uplift_ci_high = boostrapped_df['analytical_profit_post_cuped_abs_ci_high']\n",
    "\n",
    "# apply same logic to lower + upper bound\n",
    "boostrapped_df['additional_orders_ci_low'] = np.where(\n",
    "    (profit_uplift_ci_low > 0) & (profit_per_order > 0),\n",
    "    profit_uplift_ci_low / profit_per_order,\n",
    "    np.where(\n",
    "        (profit_uplift_ci_low > 0) & (profit_per_order < 0),\n",
    "        profit_uplift_ci_low / np.abs(profit_per_order),\n",
    "        0\n",
    "    )\n",
    ")\n",
    "\n",
    "boostrapped_df['additional_orders_ci_high'] = np.where(\n",
    "    (profit_uplift_ci_high > 0) & (profit_per_order > 0),\n",
    "    profit_uplift_ci_high / profit_per_order,\n",
    "    np.where(\n",
    "        (profit_uplift_ci_high > 0) & (profit_per_order < 0),\n",
    "        profit_uplift_ci_high / np.abs(profit_per_order),\n",
    "        0\n",
    "    )\n",
    ")\n",
    "\n",
    "# total new orders CI = additional orders CI + orders_post_cuped_abs_lift\n",
    "orders_abs_lift = boostrapped_df['orders_post_cuped_abs_lift']\n",
    "orders_abs_lift_ci_low = boostrapped_df['orders_post_cuped_abs_ci_low']\n",
    "orders_abs_lift_ci_high = boostrapped_df['orders_post_cuped_abs_ci_high']\n",
    "\n",
    "\n",
    "boostrapped_df['total_new_orders_ci_low'] = (\n",
    "    boostrapped_df['additional_orders_ci_low'] + orders_abs_lift_ci_low\n",
    ")\n",
    "boostrapped_df['total_new_orders_ci_high'] = (\n",
    "    boostrapped_df['additional_orders_ci_high'] + orders_abs_lift_ci_high\n",
    ")\n",
    "\n",
    "# sustainable growth CI\n",
    "boostrapped_df['sustainable_growth_ci_low'] = (\n",
    "    boostrapped_df['total_new_orders_ci_low'] / adjusted_holdout_orders\n",
    ")\n",
    "boostrapped_df['sustainable_growth_ci_high'] = (\n",
    "    boostrapped_df['total_new_orders_ci_high'] / adjusted_holdout_orders\n",
    ")"
   ]
  },
  {
   "cell_type": "code",
   "execution_count": 53,
   "metadata": {},
   "outputs": [
    {
     "data": {
      "text/html": [
       "<div>\n",
       "<style scoped>\n",
       "    .dataframe tbody tr th:only-of-type {\n",
       "        vertical-align: middle;\n",
       "    }\n",
       "\n",
       "    .dataframe tbody tr th {\n",
       "        vertical-align: top;\n",
       "    }\n",
       "\n",
       "    .dataframe thead th {\n",
       "        text-align: right;\n",
       "    }\n",
       "</style>\n",
       "<table border=\"1\" class=\"dataframe\">\n",
       "  <thead>\n",
       "    <tr style=\"text-align: right;\">\n",
       "      <th></th>\n",
       "      <th>brand_name</th>\n",
       "      <th>sustainable_growth</th>\n",
       "      <th>sustainable_growth_ci_low</th>\n",
       "      <th>sustainable_growth_ci_high</th>\n",
       "    </tr>\n",
       "  </thead>\n",
       "  <tbody>\n",
       "    <tr>\n",
       "      <th>0</th>\n",
       "      <td>Talabat</td>\n",
       "      <td>0.042748</td>\n",
       "      <td>0.030132</td>\n",
       "      <td>0.055267</td>\n",
       "    </tr>\n",
       "    <tr>\n",
       "      <th>1</th>\n",
       "      <td>PEYA</td>\n",
       "      <td>0.045845</td>\n",
       "      <td>0.034327</td>\n",
       "      <td>0.057387</td>\n",
       "    </tr>\n",
       "    <tr>\n",
       "      <th>2</th>\n",
       "      <td>Pandora</td>\n",
       "      <td>0.051462</td>\n",
       "      <td>0.041255</td>\n",
       "      <td>0.061195</td>\n",
       "    </tr>\n",
       "    <tr>\n",
       "      <th>3</th>\n",
       "      <td>HungerStation</td>\n",
       "      <td>0.018978</td>\n",
       "      <td>0.002079</td>\n",
       "      <td>0.038158</td>\n",
       "    </tr>\n",
       "    <tr>\n",
       "      <th>4</th>\n",
       "      <td>GR/CY</td>\n",
       "      <td>0.093136</td>\n",
       "      <td>0.052440</td>\n",
       "      <td>0.135717</td>\n",
       "    </tr>\n",
       "    <tr>\n",
       "      <th>5</th>\n",
       "      <td>Glovo</td>\n",
       "      <td>0.072204</td>\n",
       "      <td>0.046417</td>\n",
       "      <td>0.098931</td>\n",
       "    </tr>\n",
       "  </tbody>\n",
       "</table>\n",
       "</div>"
      ],
      "text/plain": [
       "      brand_name  sustainable_growth  sustainable_growth_ci_low  \\\n",
       "0        Talabat            0.042748                   0.030132   \n",
       "1           PEYA            0.045845                   0.034327   \n",
       "2        Pandora            0.051462                   0.041255   \n",
       "3  HungerStation            0.018978                   0.002079   \n",
       "4          GR/CY            0.093136                   0.052440   \n",
       "5          Glovo            0.072204                   0.046417   \n",
       "\n",
       "   sustainable_growth_ci_high  \n",
       "0                    0.055267  \n",
       "1                    0.057387  \n",
       "2                    0.061195  \n",
       "3                    0.038158  \n",
       "4                    0.135717  \n",
       "5                    0.098931  "
      ]
     },
     "execution_count": 53,
     "metadata": {},
     "output_type": "execute_result"
    }
   ],
   "source": [
    "boostrapped_df[['brand_name','sustainable_growth','sustainable_growth_ci_low','sustainable_growth_ci_high']]"
   ]
  },
  {
   "cell_type": "code",
   "execution_count": null,
   "metadata": {},
   "outputs": [],
   "source": [
    "# Calculate scaling ratio\n",
    "scaling_ratio = (\n",
    "    boostrapped_df['orders_post_cuped_n_users_non_holdout'] /\n",
    "    boostrapped_df['orders_post_cuped_n_users_holdout']\n",
    ")\n",
    "\n",
    "# Adjust holdout orders\n",
    "adjusted_holdout_orders = boostrapped_df['orders_post_cuped_total_holdout'] * scaling_ratio\n",
    "\n",
    "# ✅ 1. Calculate profit per order safely (point estimate only)\n",
    "boostrapped_df['profit_per_order'] = (\n",
    "    boostrapped_df['analytical_profit_post_cuped_total_non_holdout'] /\n",
    "    boostrapped_df['orders_post_cuped_total_non_holdout']\n",
    ")\n",
    "boostrapped_df['profit_per_order'] = boostrapped_df['profit_per_order'].replace([np.inf, -np.inf], np.nan)\n",
    "\n",
    "# ✅ 2. Calculate additional_orders\n",
    "profit_uplift = boostrapped_df['analytical_profit_post_cuped_abs_lift']\n",
    "profit_per_order = boostrapped_df['profit_per_order']\n",
    "\n",
    "boostrapped_df['additional_orders'] = np.where(\n",
    "    (profit_uplift > 0) & (profit_per_order > 0),\n",
    "    profit_uplift / profit_per_order,\n",
    "    np.where(\n",
    "        (profit_uplift > 0) & (profit_per_order < 0),\n",
    "         profit_uplift / np.abs(profit_per_order),\n",
    "        0\n",
    "    )\n",
    ")\n",
    "\n",
    "# ✅ 3. Total new orders\n",
    "boostrapped_df['total_new_orders'] = (\n",
    "    boostrapped_df['additional_orders'] +\n",
    "    boostrapped_df['orders_post_cuped_abs_lift']\n",
    ")\n",
    "\n",
    "# ✅ 4. Sustainable growth (point estimate)\n",
    "boostrapped_df['sustainable_growth'] = (\n",
    "    boostrapped_df['total_new_orders'] /\n",
    "    adjusted_holdout_orders\n",
    ")\n",
    "\n",
    "# ✅ 5. Sustainable growth confidence intervals (from profit uplift CIs)\n",
    "profit_uplift_ci_low = boostrapped_df['analytical_profit_post_cuped_abs_ci_low']\n",
    "profit_uplift_ci_high = boostrapped_df['analytical_profit_post_cuped_abs_ci_high']\n",
    "\n",
    "# apply same logic to lower + upper bound\n",
    "boostrapped_df['additional_orders_ci_low'] = np.where(\n",
    "    (profit_uplift_ci_low > 0) & (profit_per_order > 0),\n",
    "    profit_uplift_ci_low / profit_per_order,\n",
    "    np.where(\n",
    "        (profit_uplift_ci_low > 0) & (profit_per_order < 0),\n",
    "        profit_uplift_ci_low / np.abs(profit_per_order),\n",
    "        0\n",
    "    )\n",
    ")\n",
    "\n",
    "boostrapped_df['additional_orders_ci_high'] = np.where(\n",
    "    (profit_uplift_ci_high > 0) & (profit_per_order > 0),\n",
    "    profit_uplift_ci_high / profit_per_order,\n",
    "    np.where(\n",
    "        (profit_uplift_ci_high > 0) & (profit_per_order < 0),\n",
    "        profit_uplift_ci_high / np.abs(profit_per_order),\n",
    "        0\n",
    "    )\n",
    ")\n",
    "\n",
    "# total new orders CI = additional orders CI + orders_post_cuped_abs_lift\n",
    "orders_abs_lift = boostrapped_df['orders_post_cuped_abs_lift']\n",
    "orders_abs_lift_ci_low = boostrapped_df['orders_post_cuped_abs_ci_low']\n",
    "orders_abs_lift_ci_high = boostrapped_df['orders_post_cuped_abs_ci_high']\n",
    "\n",
    "\n",
    "boostrapped_df['total_new_orders_ci_low'] = (\n",
    "    boostrapped_df['additional_orders_ci_low'] + orders_abs_lift_ci_low\n",
    ")\n",
    "boostrapped_df['total_new_orders_ci_high'] = (\n",
    "    boostrapped_df['additional_orders_ci_high'] + orders_abs_lift_ci_high\n",
    ")\n",
    "\n",
    "# sustainable growth CI\n",
    "boostrapped_df['sustainable_growth_ci_low'] = (\n",
    "    boostrapped_df['total_new_orders_ci_low'] / adjusted_holdout_orders\n",
    ")\n",
    "boostrapped_df['sustainable_growth_ci_high'] = (\n",
    "    boostrapped_df['total_new_orders_ci_high'] / adjusted_holdout_orders\n",
    ")"
   ]
  },
  {
   "cell_type": "code",
   "execution_count": 27,
   "metadata": {},
   "outputs": [
    {
     "data": {
      "text/plain": [
       "0     5.230436e+05\n",
       "1     6.542118e+05\n",
       "2     9.193989e+05\n",
       "3     1.574150e+06\n",
       "4     4.219736e+05\n",
       "5     8.177410e+04\n",
       "6     1.970211e+04\n",
       "7     5.582526e+05\n",
       "8     1.385110e+07\n",
       "9     6.265805e+04\n",
       "10    1.480527e+05\n",
       "11    2.034492e+05\n",
       "12    3.530187e+05\n",
       "13    8.229273e+05\n",
       "14    5.096180e+04\n",
       "15    1.282667e+05\n",
       "16    3.510410e+04\n",
       "17    8.412030e+05\n",
       "18    1.640429e+05\n",
       "19    1.080560e+06\n",
       "20    1.872516e+05\n",
       "21   -2.843040e+05\n",
       "22    1.597904e+05\n",
       "23    3.003755e+05\n",
       "24   -1.014446e+05\n",
       "25    1.874321e+04\n",
       "26    3.142897e+05\n",
       "27    3.156323e+04\n",
       "28    5.882357e+04\n",
       "29   -1.579596e+04\n",
       "30    2.836779e+05\n",
       "31    1.557456e+05\n",
       "32    2.888775e+05\n",
       "33    1.260532e+05\n",
       "34    1.078775e+05\n",
       "35   -1.122562e+05\n",
       "36   -2.432768e+05\n",
       "37   -2.293614e+04\n",
       "38   -5.958947e+04\n",
       "39   -2.159075e+06\n",
       "40    4.363625e+04\n",
       "41    2.437787e+06\n",
       "42    2.656427e+05\n",
       "43    2.422924e+04\n",
       "44    8.162552e+04\n",
       "45    6.280113e+04\n",
       "46    7.758473e+04\n",
       "47    1.922490e+06\n",
       "48    4.716872e+05\n",
       "49    2.278221e+04\n",
       "50    8.768324e+03\n",
       "51    4.935639e+04\n",
       "52    3.602235e+04\n",
       "53    2.479547e+04\n",
       "54    2.687698e+04\n",
       "dtype: float64"
      ]
     },
     "execution_count": 27,
     "metadata": {},
     "output_type": "execute_result"
    }
   ],
   "source": [
    "boostrapped_df['analytical_profit_post_cuped_abs_lift'] / (boostrapped_df['analytical_profit_post_cuped_total_non_holdout'] / boostrapped_df['orders_post_cuped_total_non_holdout'])"
   ]
  },
  {
   "cell_type": "code",
   "execution_count": 25,
   "metadata": {},
   "outputs": [
    {
     "data": {
      "application/vnd.jupyter.widget-view+json": {
       "model_id": "8a646c382c884ec596dcf8644192b7f6",
       "version_major": 2,
       "version_minor": 0
      },
      "text/plain": [
       "entity_id groups:   0%|          | 0/55 [00:00<?, ?it/s]"
      ]
     },
     "metadata": {},
     "output_type": "display_data"
    },
    {
     "data": {
      "application/vnd.jupyter.widget-view+json": {
       "model_id": "d8bfb46b98cb44a49eccca33f80032fe",
       "version_major": 2,
       "version_minor": 0
      },
      "text/plain": [
       "Weeks:   0%|          | 0/1 [00:00<?, ?it/s]"
      ]
     },
     "metadata": {},
     "output_type": "display_data"
    },
    {
     "name": "stdout",
     "output_type": "stream",
     "text": [
      "\n",
      "Brand/Entity: TB_IQ\n",
      "Week: 2025-05-05\n",
      "Results:\n",
      "    analytical_profit_post_cuped: Diff=0.3444, CI=(0.11342929573385832, 0.5753940275338292), Users NHO=1000225, HO=20336\n",
      "    orders_post_cuped: Diff=0.1898, CI=(0.08265975866611357, 0.2968952215774214), Users NHO=1000225, HO=20336\n"
     ]
    },
    {
     "data": {
      "application/vnd.jupyter.widget-view+json": {
       "model_id": "b6161048a1594dd09b7d0699123d5c9a",
       "version_major": 2,
       "version_minor": 0
      },
      "text/plain": [
       "Weeks:   0%|          | 0/1 [00:00<?, ?it/s]"
      ]
     },
     "metadata": {},
     "output_type": "display_data"
    },
    {
     "name": "stdout",
     "output_type": "stream",
     "text": [
      "\n",
      "Brand/Entity: TB_KW\n",
      "Week: 2025-05-05\n",
      "Results:\n",
      "    analytical_profit_post_cuped: Diff=1.4978, CI=(0.9148544737893172, 2.0808097184250887), Users NHO=1166153, HO=23620\n",
      "    orders_post_cuped: Diff=0.4392, CI=(0.25161736892306164, 0.626840740151638), Users NHO=1166153, HO=23620\n"
     ]
    },
    {
     "data": {
      "application/vnd.jupyter.widget-view+json": {
       "model_id": "3d726571c1aa4b85b8126cf2da8dce80",
       "version_major": 2,
       "version_minor": 0
      },
      "text/plain": [
       "Weeks:   0%|          | 0/1 [00:00<?, ?it/s]"
      ]
     },
     "metadata": {},
     "output_type": "display_data"
    },
    {
     "name": "stdout",
     "output_type": "stream",
     "text": [
      "\n",
      "Brand/Entity: PY_AR\n",
      "Week: 2025-05-05\n",
      "Results:\n",
      "    analytical_profit_post_cuped: Diff=0.4241, CI=(0.3099016689962706, 0.5382264716970238), Users NHO=4522887, HO=92194\n",
      "    orders_post_cuped: Diff=0.0768, CI=(0.03496940888512015, 0.11855546123890867), Users NHO=4522887, HO=92194\n"
     ]
    },
    {
     "data": {
      "application/vnd.jupyter.widget-view+json": {
       "model_id": "544562b60c054c2882d48de2d7d1c980",
       "version_major": 2,
       "version_minor": 0
      },
      "text/plain": [
       "Weeks:   0%|          | 0/1 [00:00<?, ?it/s]"
      ]
     },
     "metadata": {},
     "output_type": "display_data"
    },
    {
     "name": "stdout",
     "output_type": "stream",
     "text": [
      "\n",
      "Brand/Entity: FP_PH\n",
      "Week: 2025-05-05\n",
      "Results:\n",
      "    analytical_profit_post_cuped: Diff=0.1565, CI=(0.11731841243856779, 0.19565267686046806), Users NHO=7401816, HO=149747\n",
      "    orders_post_cuped: Diff=0.0267, CI=(-0.006643397205057883, 0.06001796134790924), Users NHO=7401816, HO=149747\n"
     ]
    },
    {
     "data": {
      "application/vnd.jupyter.widget-view+json": {
       "model_id": "b48143fd14594d73a97563ffdfd70058",
       "version_major": 2,
       "version_minor": 0
      },
      "text/plain": [
       "Weeks:   0%|          | 0/1 [00:00<?, ?it/s]"
      ]
     },
     "metadata": {},
     "output_type": "display_data"
    },
    {
     "name": "stdout",
     "output_type": "stream",
     "text": [
      "\n",
      "Brand/Entity: MJM_AT\n",
      "Week: 2025-05-05\n",
      "Results:\n",
      "    analytical_profit_post_cuped: Diff=1.4038, CI=(0.9623925448331015, 1.84530419755158), Users NHO=611120, HO=12363\n",
      "    orders_post_cuped: Diff=-0.0406, CI=(-0.14411835377040605, 0.06287516549987736), Users NHO=611120, HO=12363\n"
     ]
    },
    {
     "data": {
      "application/vnd.jupyter.widget-view+json": {
       "model_id": "fa3fe4949b2e4b95a042e084f67ad247",
       "version_major": 2,
       "version_minor": 0
      },
      "text/plain": [
       "Weeks:   0%|          | 0/1 [00:00<?, ?it/s]"
      ]
     },
     "metadata": {},
     "output_type": "display_data"
    },
    {
     "name": "stdout",
     "output_type": "stream",
     "text": [
      "\n",
      "Brand/Entity: FP_TW\n",
      "Week: 2025-05-05\n",
      "Results:\n",
      "    analytical_profit_post_cuped: Diff=0.0226, CI=(-0.12473031602171727, 0.16991890457427997), Users NHO=3760658, HO=75983\n",
      "    orders_post_cuped: Diff=0.0061, CI=(-0.0886484754580268, 0.10080553717076503), Users NHO=3760658, HO=75983\n"
     ]
    },
    {
     "data": {
      "application/vnd.jupyter.widget-view+json": {
       "model_id": "adfa4b80eb8c4498a6662560934986ce",
       "version_major": 2,
       "version_minor": 0
      },
      "text/plain": [
       "Weeks:   0%|          | 0/1 [00:00<?, ?it/s]"
      ]
     },
     "metadata": {},
     "output_type": "display_data"
    },
    {
     "name": "stdout",
     "output_type": "stream",
     "text": [
      "\n",
      "Brand/Entity: FO_NO\n",
      "Week: 2025-05-05\n",
      "Results:\n",
      "    analytical_profit_post_cuped: Diff=0.0922, CI=(-0.4316171309513942, 0.6159337645878787), Users NHO=529648, HO=10616\n",
      "    orders_post_cuped: Diff=-0.0624, CI=(-0.15761486795472546, 0.03282957881096214), Users NHO=529648, HO=10616\n"
     ]
    },
    {
     "data": {
      "application/vnd.jupyter.widget-view+json": {
       "model_id": "2855f4c8c8e347cc9498a55a17d81e5d",
       "version_major": 2,
       "version_minor": 0
      },
      "text/plain": [
       "Weeks:   0%|          | 0/1 [00:00<?, ?it/s]"
      ]
     },
     "metadata": {},
     "output_type": "display_data"
    },
    {
     "name": "stdout",
     "output_type": "stream",
     "text": [
      "\n",
      "Brand/Entity: FP_SG\n",
      "Week: 2025-05-05\n",
      "Results:\n",
      "    analytical_profit_post_cuped: Diff=1.9803, CI=(1.39951946736259, 2.5610601242510684), Users NHO=742929, HO=14999\n",
      "    orders_post_cuped: Diff=-0.0143, CI=(-0.1894700641548988, 0.16085891844650263), Users NHO=742929, HO=14999\n"
     ]
    },
    {
     "data": {
      "application/vnd.jupyter.widget-view+json": {
       "model_id": "b6052e1af28542c59fd7c739d5cccee2",
       "version_major": 2,
       "version_minor": 0
      },
      "text/plain": [
       "Weeks:   0%|          | 0/1 [00:00<?, ?it/s]"
      ]
     },
     "metadata": {},
     "output_type": "display_data"
    },
    {
     "name": "stdout",
     "output_type": "stream",
     "text": [
      "\n",
      "Brand/Entity: YS_TR\n",
      "Week: 2025-05-05\n",
      "Results:\n",
      "    analytical_profit_post_cuped: Diff=0.7578, CI=(0.6919556104976334, 0.8237128364137303), Users NHO=6123642, HO=125030\n",
      "    orders_post_cuped: Diff=-0.1963, CI=(-0.23441215724372988, -0.15827309592388694), Users NHO=6123642, HO=125030\n"
     ]
    },
    {
     "data": {
      "application/vnd.jupyter.widget-view+json": {
       "model_id": "b16c174f5c7a4daea2122430bd927f46",
       "version_major": 2,
       "version_minor": 0
      },
      "text/plain": [
       "Weeks:   0%|          | 0/1 [00:00<?, ?it/s]"
      ]
     },
     "metadata": {},
     "output_type": "display_data"
    },
    {
     "name": "stdout",
     "output_type": "stream",
     "text": [
      "\n",
      "Brand/Entity: PY_BO\n",
      "Week: 2025-05-05\n",
      "Results:\n",
      "    analytical_profit_post_cuped: Diff=0.0831, CI=(-0.07435347939247783, 0.2405885789390554), Users NHO=633578, HO=12780\n",
      "    orders_post_cuped: Diff=0.0904, CI=(-0.022291400314893378, 0.2031812454343261), Users NHO=633578, HO=12780\n"
     ]
    },
    {
     "data": {
      "application/vnd.jupyter.widget-view+json": {
       "model_id": "a3dd029ee4544d79b293efa971ebbab1",
       "version_major": 2,
       "version_minor": 0
      },
      "text/plain": [
       "Weeks:   0%|          | 0/1 [00:00<?, ?it/s]"
      ]
     },
     "metadata": {},
     "output_type": "display_data"
    },
    {
     "name": "stdout",
     "output_type": "stream",
     "text": [
      "\n",
      "Brand/Entity: PY_HN\n",
      "Week: 2025-05-05\n",
      "Results:\n",
      "    analytical_profit_post_cuped: Diff=0.3674, CI=(0.07421955786931572, 0.6605333486816611), Users NHO=325409, HO=6480\n",
      "    orders_post_cuped: Diff=0.2271, CI=(0.01980282106431941, 0.4344680293059803), Users NHO=325409, HO=6480\n"
     ]
    },
    {
     "data": {
      "application/vnd.jupyter.widget-view+json": {
       "model_id": "15f03f5d34c244c7858bcb1d1cb1bfff",
       "version_major": 2,
       "version_minor": 0
      },
      "text/plain": [
       "Weeks:   0%|          | 0/1 [00:00<?, ?it/s]"
      ]
     },
     "metadata": {},
     "output_type": "display_data"
    },
    {
     "name": "stdout",
     "output_type": "stream",
     "text": [
      "\n",
      "Brand/Entity: HS_SA\n",
      "Week: 2025-05-05\n",
      "Results:\n",
      "    analytical_profit_post_cuped: Diff=0.0593, CI=(0.0008917248043752088, 0.11774374946663063), Users NHO=6078005, HO=122976\n",
      "    orders_post_cuped: Diff=0.0196, CI=(0.0011729289118166432, 0.03798433938892176), Users NHO=6078005, HO=122976\n"
     ]
    },
    {
     "data": {
      "application/vnd.jupyter.widget-view+json": {
       "model_id": "eaa7803fa6b2438cbb0d8a07775f74a3",
       "version_major": 2,
       "version_minor": 0
      },
      "text/plain": [
       "Weeks:   0%|          | 0/1 [00:00<?, ?it/s]"
      ]
     },
     "metadata": {},
     "output_type": "display_data"
    },
    {
     "name": "stdout",
     "output_type": "stream",
     "text": [
      "\n",
      "Brand/Entity: TB_OM\n",
      "Week: 2025-05-05\n",
      "Results:\n",
      "    analytical_profit_post_cuped: Diff=0.8111, CI=(0.35010355692250694, 1.2720325450343726), Users NHO=668742, HO=13549\n",
      "    orders_post_cuped: Diff=0.2794, CI=(0.09775417169945033, 0.461064478554678), Users NHO=668742, HO=13549\n"
     ]
    },
    {
     "data": {
      "application/vnd.jupyter.widget-view+json": {
       "model_id": "5b9894282dd04ba99bcd397458c64333",
       "version_major": 2,
       "version_minor": 0
      },
      "text/plain": [
       "Weeks:   0%|          | 0/1 [00:00<?, ?it/s]"
      ]
     },
     "metadata": {},
     "output_type": "display_data"
    },
    {
     "name": "stdout",
     "output_type": "stream",
     "text": [
      "\n",
      "Brand/Entity: EF_GR\n",
      "Week: 2025-05-05\n",
      "Results:\n",
      "    analytical_profit_post_cuped: Diff=0.5590, CI=(0.36421356897545937, 0.7538470325548985), Users NHO=1466360, HO=29569\n",
      "    orders_post_cuped: Diff=0.3271, CI=(0.24752731094758534, 0.40669499453360597), Users NHO=1466360, HO=29569\n"
     ]
    },
    {
     "data": {
      "application/vnd.jupyter.widget-view+json": {
       "model_id": "a05e7ebe5e244b91be4288c804823bbb",
       "version_major": 2,
       "version_minor": 0
      },
      "text/plain": [
       "Weeks:   0%|          | 0/1 [00:00<?, ?it/s]"
      ]
     },
     "metadata": {},
     "output_type": "display_data"
    },
    {
     "name": "stdout",
     "output_type": "stream",
     "text": [
      "\n",
      "Brand/Entity: FP_PK\n",
      "Week: 2025-05-05\n",
      "Results:\n",
      "    analytical_profit_post_cuped: Diff=0.0123, CI=(-0.04589956106123929, 0.07050729416079773), Users NHO=2843869, HO=57707\n",
      "    orders_post_cuped: Diff=-0.0291, CI=(-0.09626609150349265, 0.0380116523005717), Users NHO=2843869, HO=57707\n"
     ]
    },
    {
     "data": {
      "application/vnd.jupyter.widget-view+json": {
       "model_id": "bd8c47ab97fe42d681f74f6fc256fb9d",
       "version_major": 2,
       "version_minor": 0
      },
      "text/plain": [
       "Weeks:   0%|          | 0/1 [00:00<?, ?it/s]"
      ]
     },
     "metadata": {},
     "output_type": "display_data"
    },
    {
     "name": "stdout",
     "output_type": "stream",
     "text": [
      "\n",
      "Brand/Entity: FP_BD\n",
      "Week: 2025-05-05\n",
      "Results:\n",
      "    analytical_profit_post_cuped: Diff=0.0913, CI=(-0.0013272852697659293, 0.18401871900327743), Users NHO=1200473, HO=24644\n",
      "    orders_post_cuped: Diff=0.0234, CI=(-0.050580155106043995, 0.09736380248385537), Users NHO=1200473, HO=24644\n"
     ]
    },
    {
     "data": {
      "application/vnd.jupyter.widget-view+json": {
       "model_id": "66c668f6c9d64f0f8306a00f444d8fa0",
       "version_major": 2,
       "version_minor": 0
      },
      "text/plain": [
       "Weeks:   0%|          | 0/1 [00:00<?, ?it/s]"
      ]
     },
     "metadata": {},
     "output_type": "display_data"
    },
    {
     "name": "stdout",
     "output_type": "stream",
     "text": [
      "\n",
      "Brand/Entity: PY_GT\n",
      "Week: 2025-05-05\n",
      "Results:\n",
      "    analytical_profit_post_cuped: Diff=0.0607, CI=(-0.16991218774824668, 0.2913357536963813), Users NHO=531815, HO=10837\n",
      "    orders_post_cuped: Diff=0.0057, CI=(-0.11284855217789956, 0.12422965905055793), Users NHO=531815, HO=10837\n"
     ]
    },
    {
     "data": {
      "application/vnd.jupyter.widget-view+json": {
       "model_id": "c1b431a7053e4fb38b1b7bb859c8f444",
       "version_major": 2,
       "version_minor": 0
      },
      "text/plain": [
       "Weeks:   0%|          | 0/1 [00:00<?, ?it/s]"
      ]
     },
     "metadata": {},
     "output_type": "display_data"
    },
    {
     "name": "stdout",
     "output_type": "stream",
     "text": [
      "\n",
      "Brand/Entity: TB_AE\n",
      "Week: 2025-05-05\n",
      "Results:\n",
      "    analytical_profit_post_cuped: Diff=0.9491, CI=(0.5265740442329733, 1.3716175490988856), Users NHO=2610614, HO=53094\n",
      "    orders_post_cuped: Diff=0.0919, CI=(-0.02467555097363458, 0.20852022873316897), Users NHO=2610614, HO=53094\n"
     ]
    },
    {
     "data": {
      "application/vnd.jupyter.widget-view+json": {
       "model_id": "ba895bdc965f4e16b981b3de5855c78b",
       "version_major": 2,
       "version_minor": 0
      },
      "text/plain": [
       "Weeks:   0%|          | 0/1 [00:00<?, ?it/s]"
      ]
     },
     "metadata": {},
     "output_type": "display_data"
    },
    {
     "name": "stdout",
     "output_type": "stream",
     "text": [
      "\n",
      "Brand/Entity: OP_SE\n",
      "Week: 2025-05-05\n",
      "Results:\n",
      "    analytical_profit_post_cuped: Diff=0.1962, CI=(-0.08671736864212787, 0.4790288419654971), Users NHO=1074149, HO=21818\n",
      "    orders_post_cuped: Diff=0.0811, CI=(0.019934958331674482, 0.14228128335060763), Users NHO=1074149, HO=21818\n"
     ]
    },
    {
     "data": {
      "application/vnd.jupyter.widget-view+json": {
       "model_id": "7cced01622334440bd92ac2f3f8c4966",
       "version_major": 2,
       "version_minor": 0
      },
      "text/plain": [
       "Weeks:   0%|          | 0/1 [00:00<?, ?it/s]"
      ]
     },
     "metadata": {},
     "output_type": "display_data"
    },
    {
     "name": "stdout",
     "output_type": "stream",
     "text": [
      "\n",
      "Brand/Entity: FP_MY\n",
      "Week: 2025-05-05\n",
      "Results:\n",
      "    analytical_profit_post_cuped: Diff=0.2389, CI=(0.17094226950425345, 0.3069294153405003), Users NHO=3961563, HO=80470\n",
      "    orders_post_cuped: Diff=-0.1073, CI=(-0.15581054405890826, -0.05878712387809293), Users NHO=3961563, HO=80470\n"
     ]
    },
    {
     "data": {
      "application/vnd.jupyter.widget-view+json": {
       "model_id": "1d45db4ddea94a12b10f1a7b0c13259b",
       "version_major": 2,
       "version_minor": 0
      },
      "text/plain": [
       "Weeks:   0%|          | 0/1 [00:00<?, ?it/s]"
      ]
     },
     "metadata": {},
     "output_type": "display_data"
    },
    {
     "name": "stdout",
     "output_type": "stream",
     "text": [
      "\n",
      "Brand/Entity: PY_SV\n",
      "Week: 2025-05-05\n",
      "Results:\n",
      "    analytical_profit_post_cuped: Diff=0.4446, CI=(0.18685572588273336, 0.7022788107122061), Users NHO=489320, HO=9900\n",
      "    orders_post_cuped: Diff=0.1184, CI=(-0.029946295363412895, 0.26668138929298046), Users NHO=489320, HO=9900\n"
     ]
    },
    {
     "data": {
      "application/vnd.jupyter.widget-view+json": {
       "model_id": "0c1bf2f8c13a4868a1a51442c48f5165",
       "version_major": 2,
       "version_minor": 0
      },
      "text/plain": [
       "Weeks:   0%|          | 0/1 [00:00<?, ?it/s]"
      ]
     },
     "metadata": {},
     "output_type": "display_data"
    },
    {
     "name": "stdout",
     "output_type": "stream",
     "text": [
      "\n",
      "Brand/Entity: TB_QA\n",
      "Week: 2025-05-05\n",
      "Results:\n",
      "    analytical_profit_post_cuped: Diff=-0.9566, CI=(-1.705040534005636, -0.20820796065109148), Users NHO=833097, HO=16576\n",
      "    orders_post_cuped: Diff=0.0680, CI=(-0.13580080423404944, 0.27185280537693196), Users NHO=833097, HO=16576\n"
     ]
    },
    {
     "data": {
      "application/vnd.jupyter.widget-view+json": {
       "model_id": "ba09ffa06a3e4219a843516bf1318f10",
       "version_major": 2,
       "version_minor": 0
      },
      "text/plain": [
       "Weeks:   0%|          | 0/1 [00:00<?, ?it/s]"
      ]
     },
     "metadata": {},
     "output_type": "display_data"
    },
    {
     "name": "stdout",
     "output_type": "stream",
     "text": [
      "\n",
      "Brand/Entity: TB_BH\n",
      "Week: 2025-05-05\n",
      "Results:\n",
      "    analytical_profit_post_cuped: Diff=0.7823, CI=(-0.14452841493767787, 1.7090991730338163), Users NHO=464837, HO=9359\n",
      "    orders_post_cuped: Diff=0.4508, CI=(0.14816271897612637, 0.753501208368712), Users NHO=464837, HO=9359\n"
     ]
    },
    {
     "data": {
      "application/vnd.jupyter.widget-view+json": {
       "model_id": "b8800198854e4636934a3f94303cb0a7",
       "version_major": 2,
       "version_minor": 0
      },
      "text/plain": [
       "Weeks:   0%|          | 0/1 [00:00<?, ?it/s]"
      ]
     },
     "metadata": {},
     "output_type": "display_data"
    },
    {
     "name": "stdout",
     "output_type": "stream",
     "text": [
      "\n",
      "Brand/Entity: TB_JO\n",
      "Week: 2025-05-05\n",
      "Results:\n",
      "    analytical_profit_post_cuped: Diff=0.2395, CI=(0.06706376852338003, 0.4119550320242428), Users NHO=1048729, HO=21259\n",
      "    orders_post_cuped: Diff=-0.0166, CI=(-0.11541703579144277, 0.08225940864182599), Users NHO=1048729, HO=21259\n"
     ]
    },
    {
     "data": {
      "application/vnd.jupyter.widget-view+json": {
       "model_id": "74f0ccaf502f40c5b61d7b5463003696",
       "version_major": 2,
       "version_minor": 0
      },
      "text/plain": [
       "Weeks:   0%|          | 0/1 [00:00<?, ?it/s]"
      ]
     },
     "metadata": {},
     "output_type": "display_data"
    },
    {
     "name": "stdout",
     "output_type": "stream",
     "text": [
      "\n",
      "Brand/Entity: NP_HU\n",
      "Week: 2025-05-05\n",
      "Results:\n",
      "    analytical_profit_post_cuped: Diff=-0.1128, CI=(-0.37076301834296915, 0.1451206572260349), Users NHO=683459, HO=13927\n",
      "    orders_post_cuped: Diff=0.0160, CI=(-0.08360229893995026, 0.11567467881070677), Users NHO=683459, HO=13927\n"
     ]
    },
    {
     "data": {
      "application/vnd.jupyter.widget-view+json": {
       "model_id": "afbead4fb77f4b21857149e978122da8",
       "version_major": 2,
       "version_minor": 0
      },
      "text/plain": [
       "Weeks:   0%|          | 0/1 [00:00<?, ?it/s]"
      ]
     },
     "metadata": {},
     "output_type": "display_data"
    },
    {
     "name": "stdout",
     "output_type": "stream",
     "text": [
      "\n",
      "Brand/Entity: PY_DO\n",
      "Week: 2025-05-05\n",
      "Results:\n",
      "    analytical_profit_post_cuped: Diff=0.0455, CI=(-0.28030086334842097, 0.37138053682863714), Users NHO=637166, HO=12896\n",
      "    orders_post_cuped: Diff=0.0171, CI=(-0.12007100948351532, 0.15428500801464626), Users NHO=637166, HO=12896\n"
     ]
    },
    {
     "data": {
      "application/vnd.jupyter.widget-view+json": {
       "model_id": "0883ac04e6874746a3e1aad95947ab80",
       "version_major": 2,
       "version_minor": 0
      },
      "text/plain": [
       "Weeks:   0%|          | 0/1 [00:00<?, ?it/s]"
      ]
     },
     "metadata": {},
     "output_type": "display_data"
    },
    {
     "name": "stdout",
     "output_type": "stream",
     "text": [
      "\n",
      "Brand/Entity: PY_PE\n",
      "Week: 2025-05-05\n",
      "Results:\n",
      "    analytical_profit_post_cuped: Diff=0.1532, CI=(0.05105776052779436, 0.2553510301995215), Users NHO=1174752, HO=23868\n",
      "    orders_post_cuped: Diff=0.1520, CI=(0.07696266538600144, 0.22701617665003487), Users NHO=1174752, HO=23868\n"
     ]
    },
    {
     "data": {
      "application/vnd.jupyter.widget-view+json": {
       "model_id": "63bbfe43b15142f29b32ea60d5430892",
       "version_major": 2,
       "version_minor": 0
      },
      "text/plain": [
       "Weeks:   0%|          | 0/1 [00:00<?, ?it/s]"
      ]
     },
     "metadata": {},
     "output_type": "display_data"
    },
    {
     "name": "stdout",
     "output_type": "stream",
     "text": [
      "\n",
      "Brand/Entity: FP_LA\n",
      "Week: 2025-05-05\n",
      "Results:\n",
      "    analytical_profit_post_cuped: Diff=0.1555, CI=(-0.1573652668222119, 0.4683104809202155), Users NHO=123150, HO=2555\n",
      "    orders_post_cuped: Diff=-0.2107, CI=(-0.6223191287253034, 0.20091344793731553), Users NHO=123150, HO=2555\n"
     ]
    },
    {
     "data": {
      "application/vnd.jupyter.widget-view+json": {
       "model_id": "c444ffba77af404494aee10651634dd2",
       "version_major": 2,
       "version_minor": 0
      },
      "text/plain": [
       "Weeks:   0%|          | 0/1 [00:00<?, ?it/s]"
      ]
     },
     "metadata": {},
     "output_type": "display_data"
    },
    {
     "name": "stdout",
     "output_type": "stream",
     "text": [
      "\n",
      "Brand/Entity: PY_NI\n",
      "Week: 2025-05-05\n",
      "Results:\n",
      "    analytical_profit_post_cuped: Diff=0.2465, CI=(-0.07329825396338485, 0.5662346587814877), Users NHO=284772, HO=5728\n",
      "    orders_post_cuped: Diff=0.0178, CI=(-0.17399623077931162, 0.20961242833403718), Users NHO=284772, HO=5728\n"
     ]
    },
    {
     "data": {
      "application/vnd.jupyter.widget-view+json": {
       "model_id": "f8c85812646044148e146bc8182155bc",
       "version_major": 2,
       "version_minor": 0
      },
      "text/plain": [
       "Weeks:   0%|          | 0/1 [00:00<?, ?it/s]"
      ]
     },
     "metadata": {},
     "output_type": "display_data"
    },
    {
     "name": "stdout",
     "output_type": "stream",
     "text": [
      "\n",
      "Brand/Entity: FP_MM\n",
      "Week: 2025-05-05\n",
      "Results:\n",
      "    analytical_profit_post_cuped: Diff=-0.0290, CI=(-0.23330833000561718, 0.1753084046333045), Users NHO=526873, HO=10465\n",
      "    orders_post_cuped: Diff=-0.0621, CI=(-0.2187576514745244, 0.0945416989894243), Users NHO=526873, HO=10465\n"
     ]
    },
    {
     "data": {
      "application/vnd.jupyter.widget-view+json": {
       "model_id": "2fd3dabf21d94da1ac579cb6fbf53f75",
       "version_major": 2,
       "version_minor": 0
      },
      "text/plain": [
       "Weeks:   0%|          | 0/1 [00:00<?, ?it/s]"
      ]
     },
     "metadata": {},
     "output_type": "display_data"
    },
    {
     "name": "stdout",
     "output_type": "stream",
     "text": [
      "\n",
      "Brand/Entity: PY_CL\n",
      "Week: 2025-05-05\n",
      "Results:\n",
      "    analytical_profit_post_cuped: Diff=0.2799, CI=(0.13096069924973855, 0.42878851116859673), Users NHO=1900314, HO=38231\n",
      "    orders_post_cuped: Diff=0.0699, CI=(0.01807056934791268, 0.12165631585898667), Users NHO=1900314, HO=38231\n"
     ]
    },
    {
     "data": {
      "application/vnd.jupyter.widget-view+json": {
       "model_id": "94a33d8df5494fe4925078a05654b0bf",
       "version_major": 2,
       "version_minor": 0
      },
      "text/plain": [
       "Weeks:   0%|          | 0/1 [00:00<?, ?it/s]"
      ]
     },
     "metadata": {},
     "output_type": "display_data"
    },
    {
     "name": "stdout",
     "output_type": "stream",
     "text": [
      "\n",
      "Brand/Entity: PY_PY\n",
      "Week: 2025-05-05\n",
      "Results:\n",
      "    analytical_profit_post_cuped: Diff=0.5157, CI=(0.23873065142477745, 0.7926830167900737), Users NHO=350412, HO=7213\n",
      "    orders_post_cuped: Diff=0.1474, CI=(-0.016133486015965287, 0.31097389727294467), Users NHO=350412, HO=7213\n"
     ]
    },
    {
     "data": {
      "application/vnd.jupyter.widget-view+json": {
       "model_id": "3ab4437d125646f788b1ef680ffdc52d",
       "version_major": 2,
       "version_minor": 0
      },
      "text/plain": [
       "Weeks:   0%|          | 0/1 [00:00<?, ?it/s]"
      ]
     },
     "metadata": {},
     "output_type": "display_data"
    },
    {
     "name": "stdout",
     "output_type": "stream",
     "text": [
      "\n",
      "Brand/Entity: FP_TH\n",
      "Week: 2025-05-05\n",
      "Results:\n",
      "    analytical_profit_post_cuped: Diff=0.1771, CI=(0.02573989440080282, 0.32844503652278967), Users NHO=1076925, HO=21651\n",
      "    orders_post_cuped: Diff=0.0882, CI=(-0.011525247784585163, 0.18787476782791632), Users NHO=1076925, HO=21651\n"
     ]
    },
    {
     "data": {
      "application/vnd.jupyter.widget-view+json": {
       "model_id": "d23bb7e95fe644bd9bb754332dcc2f5b",
       "version_major": 2,
       "version_minor": 0
      },
      "text/plain": [
       "Weeks:   0%|          | 0/1 [00:00<?, ?it/s]"
      ]
     },
     "metadata": {},
     "output_type": "display_data"
    },
    {
     "name": "stdout",
     "output_type": "stream",
     "text": [
      "\n",
      "Brand/Entity: PY_UY\n",
      "Week: 2025-05-05\n",
      "Results:\n",
      "    analytical_profit_post_cuped: Diff=0.5400, CI=(0.1411491090895997, 0.9388526225466125), Users NHO=434018, HO=8815\n",
      "    orders_post_cuped: Diff=0.1896, CI=(0.041813319311249486, 0.33739327744837705), Users NHO=434018, HO=8815\n"
     ]
    },
    {
     "data": {
      "application/vnd.jupyter.widget-view+json": {
       "model_id": "5ebdd8a476cb4d8cb4dcbc2cc79b7244",
       "version_major": 2,
       "version_minor": 0
      },
      "text/plain": [
       "Weeks:   0%|          | 0/1 [00:00<?, ?it/s]"
      ]
     },
     "metadata": {},
     "output_type": "display_data"
    },
    {
     "name": "stdout",
     "output_type": "stream",
     "text": [
      "\n",
      "Brand/Entity: DJ_CZ\n",
      "Week: 2025-05-05\n",
      "Results:\n",
      "    analytical_profit_post_cuped: Diff=0.1216, CI=(-0.12246687135103085, 0.3656202363492398), Users NHO=812700, HO=16655\n",
      "    orders_post_cuped: Diff=0.0243, CI=(-0.0646310580931182, 0.11323873647648242), Users NHO=812700, HO=16655\n"
     ]
    },
    {
     "data": {
      "application/vnd.jupyter.widget-view+json": {
       "model_id": "5814b5764d274e16bfab22750dbdfd41",
       "version_major": 2,
       "version_minor": 0
      },
      "text/plain": [
       "Weeks:   0%|          | 0/1 [00:00<?, ?it/s]"
      ]
     },
     "metadata": {},
     "output_type": "display_data"
    },
    {
     "name": "stdout",
     "output_type": "stream",
     "text": [
      "\n",
      "Brand/Entity: PY_EC\n",
      "Week: 2025-05-05\n",
      "Results:\n",
      "    analytical_profit_post_cuped: Diff=-0.1150, CI=(-0.2785301423198828, 0.0485024728660671), Users NHO=731739, HO=14644\n",
      "    orders_post_cuped: Diff=0.0499, CI=(-0.046724335171015, 0.14660824225647434), Users NHO=731739, HO=14644\n"
     ]
    },
    {
     "data": {
      "application/vnd.jupyter.widget-view+json": {
       "model_id": "b9f7844a7b544584975b9023c947ce4e",
       "version_major": 2,
       "version_minor": 0
      },
      "text/plain": [
       "Weeks:   0%|          | 0/1 [00:00<?, ?it/s]"
      ]
     },
     "metadata": {},
     "output_type": "display_data"
    },
    {
     "name": "stdout",
     "output_type": "stream",
     "text": [
      "\n",
      "Brand/Entity: FY_CY\n",
      "Week: 2025-05-05\n",
      "Results:\n",
      "    analytical_profit_post_cuped: Diff=-1.4094, CI=(-2.153445420367232, -0.6652924111018967), Users NHO=210294, HO=4235\n",
      "    orders_post_cuped: Diff=0.0036, CI=(-0.2660354262715047, 0.2731650433907697), Users NHO=210294, HO=4235\n"
     ]
    },
    {
     "data": {
      "application/vnd.jupyter.widget-view+json": {
       "model_id": "a0701a190c9e43398d0b3c9deab47c96",
       "version_major": 2,
       "version_minor": 0
      },
      "text/plain": [
       "Weeks:   0%|          | 0/1 [00:00<?, ?it/s]"
      ]
     },
     "metadata": {},
     "output_type": "display_data"
    },
    {
     "name": "stdout",
     "output_type": "stream",
     "text": [
      "\n",
      "Brand/Entity: PY_VE\n",
      "Week: 2025-05-05\n",
      "Results:\n",
      "    analytical_profit_post_cuped: Diff=-0.1458, CI=(-0.5021182791253138, 0.21058360211024096), Users NHO=128356, HO=2560\n",
      "    orders_post_cuped: Diff=0.0709, CI=(-0.09435200308420388, 0.236058492262739), Users NHO=128356, HO=2560\n"
     ]
    },
    {
     "data": {
      "application/vnd.jupyter.widget-view+json": {
       "model_id": "50436be940e14a619eb4aae396c472fc",
       "version_major": 2,
       "version_minor": 0
      },
      "text/plain": [
       "Weeks:   0%|          | 0/1 [00:00<?, ?it/s]"
      ]
     },
     "metadata": {},
     "output_type": "display_data"
    },
    {
     "name": "stdout",
     "output_type": "stream",
     "text": [
      "\n",
      "Brand/Entity: AP_PA\n",
      "Week: 2025-05-05\n",
      "Results:\n",
      "    analytical_profit_post_cuped: Diff=-0.1750, CI=(-0.5305315670491891, 0.18061591794956067), Users NHO=521593, HO=10613\n",
      "    orders_post_cuped: Diff=0.2090, CI=(0.07573984913014162, 0.3422005087723), Users NHO=521593, HO=10613\n"
     ]
    },
    {
     "data": {
      "application/vnd.jupyter.widget-view+json": {
       "model_id": "2e913154027b46dc9dedf6309e4f74e7",
       "version_major": 2,
       "version_minor": 0
      },
      "text/plain": [
       "Weeks:   0%|          | 0/1 [00:00<?, ?it/s]"
      ]
     },
     "metadata": {},
     "output_type": "display_data"
    },
    {
     "name": "stdout",
     "output_type": "stream",
     "text": [
      "\n",
      "Brand/Entity: PO_FI\n",
      "Week: 2025-05-05\n",
      "Results:\n",
      "    analytical_profit_post_cuped: Diff=-0.7529, CI=(-1.199607984112237, -0.3062069275548566), Users NHO=353464, HO=7092\n",
      "    orders_post_cuped: Diff=0.0246, CI=(-0.07397693893173696, 0.12316910691063321), Users NHO=353464, HO=7092\n"
     ]
    },
    {
     "data": {
      "application/vnd.jupyter.widget-view+json": {
       "model_id": "707936909adf47c7a855685ec6d2e7c2",
       "version_major": 2,
       "version_minor": 0
      },
      "text/plain": [
       "Weeks:   0%|          | 0/1 [00:00<?, ?it/s]"
      ]
     },
     "metadata": {},
     "output_type": "display_data"
    },
    {
     "name": "stdout",
     "output_type": "stream",
     "text": [
      "\n",
      "Brand/Entity: PY_CR\n",
      "Week: 2025-05-05\n",
      "Results:\n",
      "    analytical_profit_post_cuped: Diff=0.1035, CI=(-0.18538631939038702, 0.3923173261025574), Users NHO=198199, HO=3999\n",
      "    orders_post_cuped: Diff=0.1450, CI=(0.0009727082978383261, 0.2890754948512899), Users NHO=198199, HO=3999\n"
     ]
    },
    {
     "data": {
      "application/vnd.jupyter.widget-view+json": {
       "model_id": "5e7560dddbe846ba84876611f5a4765f",
       "version_major": 2,
       "version_minor": 0
      },
      "text/plain": [
       "Weeks:   0%|          | 0/1 [00:00<?, ?it/s]"
      ]
     },
     "metadata": {},
     "output_type": "display_data"
    },
    {
     "name": "stdout",
     "output_type": "stream",
     "text": [
      "\n",
      "Brand/Entity: HF_EG\n",
      "Week: 2025-05-05\n",
      "Results:\n",
      "    analytical_profit_post_cuped: Diff=0.4244, CI=(0.3560421380268195, 0.4926597681042948), Users NHO=2725140, HO=55434\n",
      "    orders_post_cuped: Diff=0.0900, CI=(0.011618749433444639, 0.16832910284616076), Users NHO=2725140, HO=55434\n"
     ]
    },
    {
     "data": {
      "application/vnd.jupyter.widget-view+json": {
       "model_id": "b17fe7382ea3426ab8743930abdd1585",
       "version_major": 2,
       "version_minor": 0
      },
      "text/plain": [
       "Weeks:   0%|          | 0/1 [00:00<?, ?it/s]"
      ]
     },
     "metadata": {},
     "output_type": "display_data"
    },
    {
     "name": "stdout",
     "output_type": "stream",
     "text": [
      "\n",
      "Brand/Entity: GV_RO\n",
      "Week: 2025-05-05\n",
      "Results:\n",
      "    analytical_profit_post_cuped: Diff=0.3493, CI=(0.1417791088254826, 0.5568269897231389), Users NHO=1334397, HO=27172\n",
      "    orders_post_cuped: Diff=0.0407, CI=(-0.030942009926948608, 0.11236432386131855), Users NHO=1334397, HO=27172\n"
     ]
    },
    {
     "data": {
      "application/vnd.jupyter.widget-view+json": {
       "model_id": "3ea33a379ce24eda96a8d90d4569855d",
       "version_major": 2,
       "version_minor": 0
      },
      "text/plain": [
       "Weeks:   0%|          | 0/1 [00:00<?, ?it/s]"
      ]
     },
     "metadata": {},
     "output_type": "display_data"
    },
    {
     "name": "stdout",
     "output_type": "stream",
     "text": [
      "\n",
      "Brand/Entity: GV_RS\n",
      "Week: 2025-05-05\n",
      "Results:\n",
      "    analytical_profit_post_cuped: Diff=0.0653, CI=(-0.33446792110010076, 0.4649944102876851), Users NHO=319911, HO=6545\n",
      "    orders_post_cuped: Diff=-0.0596, CI=(-0.24908106105730168, 0.12978929059666724), Users NHO=319911, HO=6545\n"
     ]
    },
    {
     "data": {
      "application/vnd.jupyter.widget-view+json": {
       "model_id": "24fbf5ca632348518a0d057db432e2c3",
       "version_major": 2,
       "version_minor": 0
      },
      "text/plain": [
       "Weeks:   0%|          | 0/1 [00:00<?, ?it/s]"
      ]
     },
     "metadata": {},
     "output_type": "display_data"
    },
    {
     "name": "stdout",
     "output_type": "stream",
     "text": [
      "\n",
      "Brand/Entity: GV_CI\n",
      "Week: 2025-05-05\n",
      "Results:\n",
      "    analytical_profit_post_cuped: Diff=0.2885, CI=(-0.07221951447467789, 0.6492076974965272), Users NHO=164747, HO=3397\n",
      "    orders_post_cuped: Diff=0.0387, CI=(-0.20602475959167146, 0.2834918873170612), Users NHO=164747, HO=3397\n"
     ]
    },
    {
     "data": {
      "application/vnd.jupyter.widget-view+json": {
       "model_id": "e048c1d44dec4c648ef3f62d3ba09c52",
       "version_major": 2,
       "version_minor": 0
      },
      "text/plain": [
       "Weeks:   0%|          | 0/1 [00:00<?, ?it/s]"
      ]
     },
     "metadata": {},
     "output_type": "display_data"
    },
    {
     "name": "stdout",
     "output_type": "stream",
     "text": [
      "\n",
      "Brand/Entity: GV_KE\n",
      "Week: 2025-05-05\n",
      "Results:\n",
      "    analytical_profit_post_cuped: Diff=0.1520, CI=(-0.025272751146392908, 0.3292019778685945), Users NHO=233117, HO=4683\n",
      "    orders_post_cuped: Diff=0.1284, CI=(-0.01718082052205222, 0.2739221766524999), Users NHO=233117, HO=4683\n"
     ]
    },
    {
     "data": {
      "application/vnd.jupyter.widget-view+json": {
       "model_id": "ef3ed481bca04bf6a433e87d0e25cb0e",
       "version_major": 2,
       "version_minor": 0
      },
      "text/plain": [
       "Weeks:   0%|          | 0/1 [00:00<?, ?it/s]"
      ]
     },
     "metadata": {},
     "output_type": "display_data"
    },
    {
     "name": "stdout",
     "output_type": "stream",
     "text": [
      "\n",
      "Brand/Entity: GV_BG\n",
      "Week: 2025-05-05\n",
      "Results:\n",
      "    analytical_profit_post_cuped: Diff=0.4419, CI=(-0.018837511818978192, 0.9026047903762325), Users NHO=276204, HO=5694\n",
      "    orders_post_cuped: Diff=0.2043, CI=(0.029593113735981003, 0.37898986441707533), Users NHO=276204, HO=5694\n"
     ]
    },
    {
     "data": {
      "application/vnd.jupyter.widget-view+json": {
       "model_id": "38c66848b57a4bd99bccee9d790acc30",
       "version_major": 2,
       "version_minor": 0
      },
      "text/plain": [
       "Weeks:   0%|          | 0/1 [00:00<?, ?it/s]"
      ]
     },
     "metadata": {},
     "output_type": "display_data"
    },
    {
     "name": "stdout",
     "output_type": "stream",
     "text": [
      "\n",
      "Brand/Entity: GV_NG\n",
      "Week: 2025-05-05\n",
      "Results:\n",
      "    analytical_profit_post_cuped: Diff=0.2191, CI=(0.06504199471339839, 0.37321816590467927), Users NHO=228470, HO=4554\n",
      "    orders_post_cuped: Diff=-0.3002, CI=(-0.5431331681698446, -0.057299324473402136), Users NHO=228470, HO=4554\n"
     ]
    },
    {
     "data": {
      "application/vnd.jupyter.widget-view+json": {
       "model_id": "3a3e4f2d87b240e1a1abc0e1eb9d6c56",
       "version_major": 2,
       "version_minor": 0
      },
      "text/plain": [
       "Weeks:   0%|          | 0/1 [00:00<?, ?it/s]"
      ]
     },
     "metadata": {},
     "output_type": "display_data"
    },
    {
     "name": "stdout",
     "output_type": "stream",
     "text": [
      "\n",
      "Brand/Entity: GV_HR\n",
      "Week: 2025-05-05\n",
      "Results:\n",
      "    analytical_profit_post_cuped: Diff=1.9003, CI=(1.586899312452789, 2.2136750608276548), Users NHO=318358, HO=6281\n",
      "    orders_post_cuped: Diff=0.0215, CI=(-0.12052611511842645, 0.163527411516428), Users NHO=318358, HO=6281\n"
     ]
    },
    {
     "data": {
      "application/vnd.jupyter.widget-view+json": {
       "model_id": "d610b70c11b84c2a8af9ce8ec35b7c7f",
       "version_major": 2,
       "version_minor": 0
      },
      "text/plain": [
       "Weeks:   0%|          | 0/1 [00:00<?, ?it/s]"
      ]
     },
     "metadata": {},
     "output_type": "display_data"
    },
    {
     "name": "stdout",
     "output_type": "stream",
     "text": [
      "\n",
      "Brand/Entity: GV_UG\n",
      "Week: 2025-05-05\n",
      "Results:\n",
      "    analytical_profit_post_cuped: Diff=0.1077, CI=(-0.08774594779586406, 0.3030659420782512), Users NHO=119558, HO=2398\n",
      "    orders_post_cuped: Diff=-0.0514, CI=(-0.24368280085706698, 0.14093598757046824), Users NHO=119558, HO=2398\n"
     ]
    },
    {
     "data": {
      "application/vnd.jupyter.widget-view+json": {
       "model_id": "f2c2ca8242e74fc6bc434207640db86b",
       "version_major": 2,
       "version_minor": 0
      },
      "text/plain": [
       "Weeks:   0%|          | 0/1 [00:00<?, ?it/s]"
      ]
     },
     "metadata": {},
     "output_type": "display_data"
    },
    {
     "name": "stdout",
     "output_type": "stream",
     "text": [
      "\n",
      "Brand/Entity: GV_BA\n",
      "Week: 2025-05-05\n",
      "Results:\n",
      "    analytical_profit_post_cuped: Diff=0.0898, CI=(-0.3483737805642795, 0.5278842716821783), Users NHO=84656, HO=1725\n",
      "    orders_post_cuped: Diff=0.0646, CI=(-0.22881261975072498, 0.35801328590791215), Users NHO=84656, HO=1725\n"
     ]
    },
    {
     "data": {
      "application/vnd.jupyter.widget-view+json": {
       "model_id": "8134ab7caec04c738cfb49ff480ed0ea",
       "version_major": 2,
       "version_minor": 0
      },
      "text/plain": [
       "Weeks:   0%|          | 0/1 [00:00<?, ?it/s]"
      ]
     },
     "metadata": {},
     "output_type": "display_data"
    },
    {
     "name": "stdout",
     "output_type": "stream",
     "text": [
      "\n",
      "Brand/Entity: GV_MA\n",
      "Week: 2025-05-05\n",
      "Results:\n",
      "    analytical_profit_post_cuped: Diff=0.1492, CI=(-0.04795427996933688, 0.34627636739038037), Users NHO=495323, HO=10275\n",
      "    orders_post_cuped: Diff=-0.0377, CI=(-0.12835689759404167, 0.05292064420342758), Users NHO=495323, HO=10275\n"
     ]
    },
    {
     "data": {
      "application/vnd.jupyter.widget-view+json": {
       "model_id": "30fa87bc8be2429b9c16cb520b81073d",
       "version_major": 2,
       "version_minor": 0
      },
      "text/plain": [
       "Weeks:   0%|          | 0/1 [00:00<?, ?it/s]"
      ]
     },
     "metadata": {},
     "output_type": "display_data"
    },
    {
     "name": "stdout",
     "output_type": "stream",
     "text": [
      "\n",
      "Brand/Entity: GV_TN\n",
      "Week: 2025-05-05\n",
      "Results:\n",
      "    analytical_profit_post_cuped: Diff=0.2600, CI=(0.08638930801716971, 0.4335584681337997), Users NHO=144269, HO=2979\n",
      "    orders_post_cuped: Diff=-0.0525, CI=(-0.17073411054058674, 0.06582569250717618), Users NHO=144269, HO=2979\n"
     ]
    },
    {
     "data": {
      "application/vnd.jupyter.widget-view+json": {
       "model_id": "aad1dd012b2a4c799d54a13ebbf8c31b",
       "version_major": 2,
       "version_minor": 0
      },
      "text/plain": [
       "Weeks:   0%|          | 0/1 [00:00<?, ?it/s]"
      ]
     },
     "metadata": {},
     "output_type": "display_data"
    },
    {
     "name": "stdout",
     "output_type": "stream",
     "text": [
      "\n",
      "Brand/Entity: GV_MD\n",
      "Week: 2025-05-05\n",
      "Results:\n",
      "    analytical_profit_post_cuped: Diff=0.4785, CI=(-0.2677385516811568, 1.2246732206576278), Users NHO=104365, HO=2082\n",
      "    orders_post_cuped: Diff=0.0891, CI=(-0.13139458467090162, 0.3095331402731384), Users NHO=104365, HO=2082\n"
     ]
    },
    {
     "data": {
      "application/vnd.jupyter.widget-view+json": {
       "model_id": "39cb156685004c95ae87be3af66183e4",
       "version_major": 2,
       "version_minor": 0
      },
      "text/plain": [
       "Weeks:   0%|          | 0/1 [00:00<?, ?it/s]"
      ]
     },
     "metadata": {},
     "output_type": "display_data"
    },
    {
     "name": "stdout",
     "output_type": "stream",
     "text": [
      "\n",
      "Brand/Entity: GV_ME\n",
      "Week: 2025-05-05\n",
      "Results:\n",
      "    analytical_profit_post_cuped: Diff=0.8668, CI=(-0.6815930894244691, 2.4152770424144148), Users NHO=52596, HO=1064\n",
      "    orders_post_cuped: Diff=0.0971, CI=(-0.4644344051929904, 0.6587081628245789), Users NHO=52596, HO=1064\n"
     ]
    }
   ],
   "source": [
    "tt = apply_welchs_diff_means(raw_cuped_cumm_df, \"entity_id\",  adjusted_metrics, alpha = 0.05)"
   ]
  },
  {
   "cell_type": "code",
   "execution_count": 27,
   "metadata": {},
   "outputs": [],
   "source": [
    "tt.to_csv(\"holdout_ci_welsch.csv\")"
   ]
  },
  {
   "cell_type": "code",
   "execution_count": 4,
   "metadata": {},
   "outputs": [],
   "source": [
    "# priority_cols = ['entity_id','as_of_date','analytical_profit_post_cuped_pct_diff','analytical_profit_post_cuped_pct_ci_low','analytical_profit_post_cuped_pct_ci_high'\n",
    "# ,'analytical_profit_post_cuped_abs_lift','analytical_profit_post_cuped_abs_ci_low','analytical_profit_post_cuped_abs_ci_high',\n",
    "# 'orders_post_cuped_pct_diff','orders_post_cuped_pct_ci_low','orders_post_cuped_pct_ci_high','orders_post_cuped_abs_lift','orders_post_cuped_abs_ci_low','orders_post_cuped_abs_ci_high']\n",
    "\n",
    "# # Get remaining columns not in the priority list\n",
    "# remaining_cols = [col for col in boostrapped_df.columns if col not in priority_cols]\n",
    "\n",
    "# # Final column order\n",
    "# final_col_order = priority_cols + remaining_cols\n",
    "\n",
    "# # Reorder the DataFrame\n",
    "# boostrapped_df = boostrapped_df[final_col_order]\n",
    "\n",
    "# boostrapped_df"
   ]
  },
  {
   "cell_type": "code",
   "execution_count": 28,
   "metadata": {},
   "outputs": [],
   "source": [
    "df = pd.read_csv('holdout_ci_welsch.csv')\n",
    "\n",
    "\n",
    "# Fix any flipped CIs\n",
    "df[['analytical_profit_post_cuped_pct_ci_low', 'analytical_profit_post_cuped_pct_ci_high']] = df[['analytical_profit_post_cuped_pct_ci_low', 'analytical_profit_post_cuped_pct_ci_high']].apply(\n",
    "    lambda row: pd.Series(sorted(row)), axis=1)\n",
    "\n",
    "\n",
    "# Fix any flipped CIs\n",
    "df[['orders_post_cuped_pct_ci_low', 'orders_post_cuped_pct_ci_high']] = df[['orders_post_cuped_pct_ci_low', 'orders_post_cuped_pct_ci_high']].apply(\n",
    "    lambda row: pd.Series(sorted(row)), axis=1)\n",
    "\n",
    "\n",
    "df['profit_pct_ci_width'] = (\n",
    "    (df['analytical_profit_post_cuped_pct_ci_high'].astype(float)) * 100 -\n",
    "    (df['analytical_profit_post_cuped_pct_ci_low'].astype(float) * 100)\n",
    ")\n",
    "\n",
    "df['orders_pct_ci_width'] = (\n",
    "    (df['orders_post_cuped_pct_ci_high'].astype(float) * 100) -\n",
    "    (df['orders_post_cuped_pct_ci_low'].astype(float) * 100)\n",
    ")\n",
    "\n",
    "\n",
    "# Classify CI width interpretation\n",
    "def classify_ci_width(width):\n",
    "    if width < 3:\n",
    "        return \"Narrow\"\n",
    "    elif width < 7:\n",
    "        return \"Moderate\"\n",
    "    elif width < 10:\n",
    "        return \"Wide\"\n",
    "    else:\n",
    "        return \"Very Wide\"\n",
    "\n",
    "df['profit_ci_class'] = df['profit_pct_ci_width'].apply(classify_ci_width)\n",
    "df['orders_ci_class'] = df['orders_pct_ci_width'].apply(classify_ci_width)\n",
    "\n",
    "# Identify clear effects (CIs not crossing zero)\n",
    "df['profit_clear_effect'] = (\n",
    "    df['analytical_profit_post_cuped_pct_ci_low'] > 0\n",
    ") | (\n",
    "    df['analytical_profit_post_cuped_pct_ci_high'] < 0\n",
    ")\n",
    "\n",
    "df['orders_clear_effect'] = (\n",
    "    df['orders_post_cuped_pct_ci_low']  > 0\n",
    ") | (\n",
    "    df['orders_post_cuped_pct_ci_high'] < 0\n",
    ")\n",
    "\n",
    "# Filter out relevant summary\n",
    "summary_df = df[['entity_id', 'profit_pct_ci_width', 'profit_ci_class', 'profit_clear_effect',\n",
    "                 'orders_pct_ci_width', 'orders_ci_class', 'orders_clear_effect']]\n",
    "\n",
    "\n",
    "#summary_df.to_csv(\"holdout_performance_true.csv\")"
   ]
  },
  {
   "cell_type": "code",
   "execution_count": 29,
   "metadata": {},
   "outputs": [
    {
     "data": {
      "text/html": [
       "<div>\n",
       "<style scoped>\n",
       "    .dataframe tbody tr th:only-of-type {\n",
       "        vertical-align: middle;\n",
       "    }\n",
       "\n",
       "    .dataframe tbody tr th {\n",
       "        vertical-align: top;\n",
       "    }\n",
       "\n",
       "    .dataframe thead th {\n",
       "        text-align: right;\n",
       "    }\n",
       "</style>\n",
       "<table border=\"1\" class=\"dataframe\">\n",
       "  <thead>\n",
       "    <tr style=\"text-align: right;\">\n",
       "      <th></th>\n",
       "      <th>entity_id</th>\n",
       "      <th>profit_pct_ci_width</th>\n",
       "      <th>profit_ci_class</th>\n",
       "      <th>profit_clear_effect</th>\n",
       "      <th>orders_pct_ci_width</th>\n",
       "      <th>orders_ci_class</th>\n",
       "      <th>orders_clear_effect</th>\n",
       "    </tr>\n",
       "  </thead>\n",
       "  <tbody>\n",
       "    <tr>\n",
       "      <th>0</th>\n",
       "      <td>TB_IQ</td>\n",
       "      <td>11.147804</td>\n",
       "      <td>Very Wide</td>\n",
       "      <td>True</td>\n",
       "      <td>3.233719</td>\n",
       "      <td>Moderate</td>\n",
       "      <td>True</td>\n",
       "    </tr>\n",
       "    <tr>\n",
       "      <th>1</th>\n",
       "      <td>TB_KW</td>\n",
       "      <td>2.593886</td>\n",
       "      <td>Narrow</td>\n",
       "      <td>True</td>\n",
       "      <td>2.212734</td>\n",
       "      <td>Narrow</td>\n",
       "      <td>True</td>\n",
       "    </tr>\n",
       "    <tr>\n",
       "      <th>2</th>\n",
       "      <td>PY_AR</td>\n",
       "      <td>1.893133</td>\n",
       "      <td>Narrow</td>\n",
       "      <td>True</td>\n",
       "      <td>1.414829</td>\n",
       "      <td>Narrow</td>\n",
       "      <td>True</td>\n",
       "    </tr>\n",
       "    <tr>\n",
       "      <th>3</th>\n",
       "      <td>FP_PH</td>\n",
       "      <td>2.300253</td>\n",
       "      <td>Narrow</td>\n",
       "      <td>True</td>\n",
       "      <td>1.384693</td>\n",
       "      <td>Narrow</td>\n",
       "      <td>False</td>\n",
       "    </tr>\n",
       "    <tr>\n",
       "      <th>4</th>\n",
       "      <td>MJM_AT</td>\n",
       "      <td>9.504166</td>\n",
       "      <td>Wide</td>\n",
       "      <td>True</td>\n",
       "      <td>3.905294</td>\n",
       "      <td>Moderate</td>\n",
       "      <td>False</td>\n",
       "    </tr>\n",
       "    <tr>\n",
       "      <th>5</th>\n",
       "      <td>FP_TW</td>\n",
       "      <td>2.243561</td>\n",
       "      <td>Narrow</td>\n",
       "      <td>False</td>\n",
       "      <td>1.497081</td>\n",
       "      <td>Narrow</td>\n",
       "      <td>False</td>\n",
       "    </tr>\n",
       "    <tr>\n",
       "      <th>6</th>\n",
       "      <td>FO_NO</td>\n",
       "      <td>12.671270</td>\n",
       "      <td>Very Wide</td>\n",
       "      <td>False</td>\n",
       "      <td>5.541797</td>\n",
       "      <td>Moderate</td>\n",
       "      <td>False</td>\n",
       "    </tr>\n",
       "    <tr>\n",
       "      <th>7</th>\n",
       "      <td>FP_SG</td>\n",
       "      <td>5.293442</td>\n",
       "      <td>Moderate</td>\n",
       "      <td>True</td>\n",
       "      <td>3.853154</td>\n",
       "      <td>Moderate</td>\n",
       "      <td>False</td>\n",
       "    </tr>\n",
       "    <tr>\n",
       "      <th>8</th>\n",
       "      <td>YS_TR</td>\n",
       "      <td>13.476859</td>\n",
       "      <td>Very Wide</td>\n",
       "      <td>True</td>\n",
       "      <td>1.416210</td>\n",
       "      <td>Narrow</td>\n",
       "      <td>True</td>\n",
       "    </tr>\n",
       "    <tr>\n",
       "      <th>9</th>\n",
       "      <td>PY_BO</td>\n",
       "      <td>7.473833</td>\n",
       "      <td>Wide</td>\n",
       "      <td>False</td>\n",
       "      <td>4.489430</td>\n",
       "      <td>Moderate</td>\n",
       "      <td>False</td>\n",
       "    </tr>\n",
       "    <tr>\n",
       "      <th>10</th>\n",
       "      <td>PY_HN</td>\n",
       "      <td>10.493230</td>\n",
       "      <td>Very Wide</td>\n",
       "      <td>True</td>\n",
       "      <td>5.801392</td>\n",
       "      <td>Moderate</td>\n",
       "      <td>True</td>\n",
       "    </tr>\n",
       "    <tr>\n",
       "      <th>11</th>\n",
       "      <td>HS_SA</td>\n",
       "      <td>2.370577</td>\n",
       "      <td>Narrow</td>\n",
       "      <td>True</td>\n",
       "      <td>1.316819</td>\n",
       "      <td>Narrow</td>\n",
       "      <td>True</td>\n",
       "    </tr>\n",
       "    <tr>\n",
       "      <th>12</th>\n",
       "      <td>TB_OM</td>\n",
       "      <td>5.814299</td>\n",
       "      <td>Moderate</td>\n",
       "      <td>True</td>\n",
       "      <td>3.437662</td>\n",
       "      <td>Moderate</td>\n",
       "      <td>True</td>\n",
       "    </tr>\n",
       "    <tr>\n",
       "      <th>13</th>\n",
       "      <td>EF_GR</td>\n",
       "      <td>6.780635</td>\n",
       "      <td>Moderate</td>\n",
       "      <td>True</td>\n",
       "      <td>2.651599</td>\n",
       "      <td>Narrow</td>\n",
       "      <td>True</td>\n",
       "    </tr>\n",
       "    <tr>\n",
       "      <th>14</th>\n",
       "      <td>FP_PK</td>\n",
       "      <td>3.005635</td>\n",
       "      <td>Moderate</td>\n",
       "      <td>False</td>\n",
       "      <td>2.360809</td>\n",
       "      <td>Narrow</td>\n",
       "      <td>False</td>\n",
       "    </tr>\n",
       "    <tr>\n",
       "      <th>15</th>\n",
       "      <td>FP_BD</td>\n",
       "      <td>5.432402</td>\n",
       "      <td>Moderate</td>\n",
       "      <td>False</td>\n",
       "      <td>3.631152</td>\n",
       "      <td>Moderate</td>\n",
       "      <td>False</td>\n",
       "    </tr>\n",
       "    <tr>\n",
       "      <th>16</th>\n",
       "      <td>PY_GT</td>\n",
       "      <td>9.883550</td>\n",
       "      <td>Wide</td>\n",
       "      <td>False</td>\n",
       "      <td>4.617571</td>\n",
       "      <td>Moderate</td>\n",
       "      <td>False</td>\n",
       "    </tr>\n",
       "    <tr>\n",
       "      <th>17</th>\n",
       "      <td>TB_AE</td>\n",
       "      <td>2.298107</td>\n",
       "      <td>Narrow</td>\n",
       "      <td>True</td>\n",
       "      <td>1.834109</td>\n",
       "      <td>Narrow</td>\n",
       "      <td>False</td>\n",
       "    </tr>\n",
       "    <tr>\n",
       "      <th>18</th>\n",
       "      <td>OP_SE</td>\n",
       "      <td>12.088256</td>\n",
       "      <td>Very Wide</td>\n",
       "      <td>False</td>\n",
       "      <td>3.292976</td>\n",
       "      <td>Moderate</td>\n",
       "      <td>True</td>\n",
       "    </tr>\n",
       "    <tr>\n",
       "      <th>19</th>\n",
       "      <td>FP_MY</td>\n",
       "      <td>2.852148</td>\n",
       "      <td>Narrow</td>\n",
       "      <td>True</td>\n",
       "      <td>1.666234</td>\n",
       "      <td>Narrow</td>\n",
       "      <td>True</td>\n",
       "    </tr>\n",
       "    <tr>\n",
       "      <th>20</th>\n",
       "      <td>PY_SV</td>\n",
       "      <td>7.295931</td>\n",
       "      <td>Wide</td>\n",
       "      <td>True</td>\n",
       "      <td>4.674723</td>\n",
       "      <td>Moderate</td>\n",
       "      <td>False</td>\n",
       "    </tr>\n",
       "    <tr>\n",
       "      <th>21</th>\n",
       "      <td>TB_QA</td>\n",
       "      <td>4.358697</td>\n",
       "      <td>Moderate</td>\n",
       "      <td>True</td>\n",
       "      <td>3.442597</td>\n",
       "      <td>Moderate</td>\n",
       "      <td>False</td>\n",
       "    </tr>\n",
       "    <tr>\n",
       "      <th>22</th>\n",
       "      <td>TB_BH</td>\n",
       "      <td>5.776624</td>\n",
       "      <td>Moderate</td>\n",
       "      <td>False</td>\n",
       "      <td>4.325893</td>\n",
       "      <td>Moderate</td>\n",
       "      <td>True</td>\n",
       "    </tr>\n",
       "    <tr>\n",
       "      <th>23</th>\n",
       "      <td>TB_JO</td>\n",
       "      <td>7.240016</td>\n",
       "      <td>Wide</td>\n",
       "      <td>True</td>\n",
       "      <td>3.294788</td>\n",
       "      <td>Moderate</td>\n",
       "      <td>False</td>\n",
       "    </tr>\n",
       "    <tr>\n",
       "      <th>24</th>\n",
       "      <td>NP_HU</td>\n",
       "      <td>12.666083</td>\n",
       "      <td>Very Wide</td>\n",
       "      <td>False</td>\n",
       "      <td>3.836721</td>\n",
       "      <td>Moderate</td>\n",
       "      <td>False</td>\n",
       "    </tr>\n",
       "    <tr>\n",
       "      <th>25</th>\n",
       "      <td>PY_DO</td>\n",
       "      <td>6.393374</td>\n",
       "      <td>Moderate</td>\n",
       "      <td>False</td>\n",
       "      <td>4.159089</td>\n",
       "      <td>Moderate</td>\n",
       "      <td>False</td>\n",
       "    </tr>\n",
       "    <tr>\n",
       "      <th>26</th>\n",
       "      <td>PY_PE</td>\n",
       "      <td>7.933584</td>\n",
       "      <td>Wide</td>\n",
       "      <td>True</td>\n",
       "      <td>3.253345</td>\n",
       "      <td>Moderate</td>\n",
       "      <td>True</td>\n",
       "    </tr>\n",
       "    <tr>\n",
       "      <th>27</th>\n",
       "      <td>FP_LA</td>\n",
       "      <td>14.171580</td>\n",
       "      <td>Very Wide</td>\n",
       "      <td>False</td>\n",
       "      <td>10.628931</td>\n",
       "      <td>Very Wide</td>\n",
       "      <td>False</td>\n",
       "    </tr>\n",
       "    <tr>\n",
       "      <th>28</th>\n",
       "      <td>PY_NI</td>\n",
       "      <td>9.009754</td>\n",
       "      <td>Wide</td>\n",
       "      <td>False</td>\n",
       "      <td>6.249994</td>\n",
       "      <td>Moderate</td>\n",
       "      <td>False</td>\n",
       "    </tr>\n",
       "    <tr>\n",
       "      <th>29</th>\n",
       "      <td>FP_MM</td>\n",
       "      <td>6.697752</td>\n",
       "      <td>Moderate</td>\n",
       "      <td>False</td>\n",
       "      <td>4.942233</td>\n",
       "      <td>Moderate</td>\n",
       "      <td>False</td>\n",
       "    </tr>\n",
       "    <tr>\n",
       "      <th>30</th>\n",
       "      <td>PY_CL</td>\n",
       "      <td>3.913123</td>\n",
       "      <td>Moderate</td>\n",
       "      <td>True</td>\n",
       "      <td>2.502693</td>\n",
       "      <td>Narrow</td>\n",
       "      <td>True</td>\n",
       "    </tr>\n",
       "    <tr>\n",
       "      <th>31</th>\n",
       "      <td>PY_PY</td>\n",
       "      <td>9.152038</td>\n",
       "      <td>Wide</td>\n",
       "      <td>True</td>\n",
       "      <td>5.932677</td>\n",
       "      <td>Moderate</td>\n",
       "      <td>False</td>\n",
       "    </tr>\n",
       "    <tr>\n",
       "      <th>32</th>\n",
       "      <td>FP_TH</td>\n",
       "      <td>9.579691</td>\n",
       "      <td>Wide</td>\n",
       "      <td>True</td>\n",
       "      <td>4.015038</td>\n",
       "      <td>Moderate</td>\n",
       "      <td>False</td>\n",
       "    </tr>\n",
       "    <tr>\n",
       "      <th>33</th>\n",
       "      <td>PY_UY</td>\n",
       "      <td>6.553007</td>\n",
       "      <td>Moderate</td>\n",
       "      <td>True</td>\n",
       "      <td>4.446158</td>\n",
       "      <td>Moderate</td>\n",
       "      <td>True</td>\n",
       "    </tr>\n",
       "    <tr>\n",
       "      <th>34</th>\n",
       "      <td>DJ_CZ</td>\n",
       "      <td>11.331185</td>\n",
       "      <td>Very Wide</td>\n",
       "      <td>False</td>\n",
       "      <td>3.696835</td>\n",
       "      <td>Moderate</td>\n",
       "      <td>False</td>\n",
       "    </tr>\n",
       "    <tr>\n",
       "      <th>35</th>\n",
       "      <td>PY_EC</td>\n",
       "      <td>8.936569</td>\n",
       "      <td>Wide</td>\n",
       "      <td>False</td>\n",
       "      <td>4.132963</td>\n",
       "      <td>Moderate</td>\n",
       "      <td>False</td>\n",
       "    </tr>\n",
       "    <tr>\n",
       "      <th>36</th>\n",
       "      <td>FY_CY</td>\n",
       "      <td>13.534922</td>\n",
       "      <td>Very Wide</td>\n",
       "      <td>True</td>\n",
       "      <td>6.856164</td>\n",
       "      <td>Moderate</td>\n",
       "      <td>False</td>\n",
       "    </tr>\n",
       "    <tr>\n",
       "      <th>37</th>\n",
       "      <td>PY_VE</td>\n",
       "      <td>24.444349</td>\n",
       "      <td>Very Wide</td>\n",
       "      <td>False</td>\n",
       "      <td>9.938325</td>\n",
       "      <td>Wide</td>\n",
       "      <td>False</td>\n",
       "    </tr>\n",
       "    <tr>\n",
       "      <th>38</th>\n",
       "      <td>AP_PA</td>\n",
       "      <td>6.967425</td>\n",
       "      <td>Moderate</td>\n",
       "      <td>False</td>\n",
       "      <td>4.201752</td>\n",
       "      <td>Moderate</td>\n",
       "      <td>True</td>\n",
       "    </tr>\n",
       "    <tr>\n",
       "      <th>39</th>\n",
       "      <td>PO_FI</td>\n",
       "      <td>78.092111</td>\n",
       "      <td>Very Wide</td>\n",
       "      <td>True</td>\n",
       "      <td>6.261351</td>\n",
       "      <td>Moderate</td>\n",
       "      <td>False</td>\n",
       "    </tr>\n",
       "    <tr>\n",
       "      <th>40</th>\n",
       "      <td>PY_CR</td>\n",
       "      <td>33.506722</td>\n",
       "      <td>Very Wide</td>\n",
       "      <td>False</td>\n",
       "      <td>7.695185</td>\n",
       "      <td>Wide</td>\n",
       "      <td>True</td>\n",
       "    </tr>\n",
       "    <tr>\n",
       "      <th>41</th>\n",
       "      <td>HF_EG</td>\n",
       "      <td>4.045052</td>\n",
       "      <td>Moderate</td>\n",
       "      <td>True</td>\n",
       "      <td>1.977586</td>\n",
       "      <td>Narrow</td>\n",
       "      <td>True</td>\n",
       "    </tr>\n",
       "    <tr>\n",
       "      <th>42</th>\n",
       "      <td>GV_RO</td>\n",
       "      <td>5.501293</td>\n",
       "      <td>Moderate</td>\n",
       "      <td>True</td>\n",
       "      <td>3.214502</td>\n",
       "      <td>Moderate</td>\n",
       "      <td>False</td>\n",
       "    </tr>\n",
       "    <tr>\n",
       "      <th>43</th>\n",
       "      <td>GV_RS</td>\n",
       "      <td>15.989314</td>\n",
       "      <td>Very Wide</td>\n",
       "      <td>False</td>\n",
       "      <td>6.380636</td>\n",
       "      <td>Moderate</td>\n",
       "      <td>False</td>\n",
       "    </tr>\n",
       "    <tr>\n",
       "      <th>44</th>\n",
       "      <td>GV_CI</td>\n",
       "      <td>27.081119</td>\n",
       "      <td>Very Wide</td>\n",
       "      <td>False</td>\n",
       "      <td>9.728474</td>\n",
       "      <td>Wide</td>\n",
       "      <td>False</td>\n",
       "    </tr>\n",
       "    <tr>\n",
       "      <th>45</th>\n",
       "      <td>GV_KE</td>\n",
       "      <td>17.859417</td>\n",
       "      <td>Very Wide</td>\n",
       "      <td>False</td>\n",
       "      <td>7.954460</td>\n",
       "      <td>Wide</td>\n",
       "      <td>False</td>\n",
       "    </tr>\n",
       "    <tr>\n",
       "      <th>46</th>\n",
       "      <td>GV_BG</td>\n",
       "      <td>12.321250</td>\n",
       "      <td>Very Wide</td>\n",
       "      <td>False</td>\n",
       "      <td>7.233103</td>\n",
       "      <td>Wide</td>\n",
       "      <td>True</td>\n",
       "    </tr>\n",
       "    <tr>\n",
       "      <th>47</th>\n",
       "      <td>GV_NG</td>\n",
       "      <td>90.295657</td>\n",
       "      <td>Very Wide</td>\n",
       "      <td>True</td>\n",
       "      <td>9.733348</td>\n",
       "      <td>Wide</td>\n",
       "      <td>True</td>\n",
       "    </tr>\n",
       "    <tr>\n",
       "      <th>48</th>\n",
       "      <td>GV_HR</td>\n",
       "      <td>14.932148</td>\n",
       "      <td>Very Wide</td>\n",
       "      <td>True</td>\n",
       "      <td>6.001750</td>\n",
       "      <td>Moderate</td>\n",
       "      <td>False</td>\n",
       "    </tr>\n",
       "    <tr>\n",
       "      <th>49</th>\n",
       "      <td>GV_UG</td>\n",
       "      <td>20.130748</td>\n",
       "      <td>Very Wide</td>\n",
       "      <td>False</td>\n",
       "      <td>10.457096</td>\n",
       "      <td>Very Wide</td>\n",
       "      <td>False</td>\n",
       "    </tr>\n",
       "    <tr>\n",
       "      <th>50</th>\n",
       "      <td>GV_BA</td>\n",
       "      <td>21.891902</td>\n",
       "      <td>Very Wide</td>\n",
       "      <td>False</td>\n",
       "      <td>12.598316</td>\n",
       "      <td>Very Wide</td>\n",
       "      <td>False</td>\n",
       "    </tr>\n",
       "    <tr>\n",
       "      <th>51</th>\n",
       "      <td>GV_MA</td>\n",
       "      <td>7.735345</td>\n",
       "      <td>Wide</td>\n",
       "      <td>False</td>\n",
       "      <td>5.117950</td>\n",
       "      <td>Moderate</td>\n",
       "      <td>False</td>\n",
       "    </tr>\n",
       "    <tr>\n",
       "      <th>52</th>\n",
       "      <td>GV_TN</td>\n",
       "      <td>13.311610</td>\n",
       "      <td>Very Wide</td>\n",
       "      <td>True</td>\n",
       "      <td>8.427549</td>\n",
       "      <td>Wide</td>\n",
       "      <td>False</td>\n",
       "    </tr>\n",
       "    <tr>\n",
       "      <th>53</th>\n",
       "      <td>GV_MD</td>\n",
       "      <td>21.072558</td>\n",
       "      <td>Very Wide</td>\n",
       "      <td>False</td>\n",
       "      <td>12.030029</td>\n",
       "      <td>Very Wide</td>\n",
       "      <td>False</td>\n",
       "    </tr>\n",
       "    <tr>\n",
       "      <th>54</th>\n",
       "      <td>GV_ME</td>\n",
       "      <td>26.304074</td>\n",
       "      <td>Very Wide</td>\n",
       "      <td>False</td>\n",
       "      <td>15.271868</td>\n",
       "      <td>Very Wide</td>\n",
       "      <td>False</td>\n",
       "    </tr>\n",
       "  </tbody>\n",
       "</table>\n",
       "</div>"
      ],
      "text/plain": [
       "   entity_id  profit_pct_ci_width profit_ci_class  profit_clear_effect  \\\n",
       "0      TB_IQ            11.147804       Very Wide                 True   \n",
       "1      TB_KW             2.593886          Narrow                 True   \n",
       "2      PY_AR             1.893133          Narrow                 True   \n",
       "3      FP_PH             2.300253          Narrow                 True   \n",
       "4     MJM_AT             9.504166            Wide                 True   \n",
       "5      FP_TW             2.243561          Narrow                False   \n",
       "6      FO_NO            12.671270       Very Wide                False   \n",
       "7      FP_SG             5.293442        Moderate                 True   \n",
       "8      YS_TR            13.476859       Very Wide                 True   \n",
       "9      PY_BO             7.473833            Wide                False   \n",
       "10     PY_HN            10.493230       Very Wide                 True   \n",
       "11     HS_SA             2.370577          Narrow                 True   \n",
       "12     TB_OM             5.814299        Moderate                 True   \n",
       "13     EF_GR             6.780635        Moderate                 True   \n",
       "14     FP_PK             3.005635        Moderate                False   \n",
       "15     FP_BD             5.432402        Moderate                False   \n",
       "16     PY_GT             9.883550            Wide                False   \n",
       "17     TB_AE             2.298107          Narrow                 True   \n",
       "18     OP_SE            12.088256       Very Wide                False   \n",
       "19     FP_MY             2.852148          Narrow                 True   \n",
       "20     PY_SV             7.295931            Wide                 True   \n",
       "21     TB_QA             4.358697        Moderate                 True   \n",
       "22     TB_BH             5.776624        Moderate                False   \n",
       "23     TB_JO             7.240016            Wide                 True   \n",
       "24     NP_HU            12.666083       Very Wide                False   \n",
       "25     PY_DO             6.393374        Moderate                False   \n",
       "26     PY_PE             7.933584            Wide                 True   \n",
       "27     FP_LA            14.171580       Very Wide                False   \n",
       "28     PY_NI             9.009754            Wide                False   \n",
       "29     FP_MM             6.697752        Moderate                False   \n",
       "30     PY_CL             3.913123        Moderate                 True   \n",
       "31     PY_PY             9.152038            Wide                 True   \n",
       "32     FP_TH             9.579691            Wide                 True   \n",
       "33     PY_UY             6.553007        Moderate                 True   \n",
       "34     DJ_CZ            11.331185       Very Wide                False   \n",
       "35     PY_EC             8.936569            Wide                False   \n",
       "36     FY_CY            13.534922       Very Wide                 True   \n",
       "37     PY_VE            24.444349       Very Wide                False   \n",
       "38     AP_PA             6.967425        Moderate                False   \n",
       "39     PO_FI            78.092111       Very Wide                 True   \n",
       "40     PY_CR            33.506722       Very Wide                False   \n",
       "41     HF_EG             4.045052        Moderate                 True   \n",
       "42     GV_RO             5.501293        Moderate                 True   \n",
       "43     GV_RS            15.989314       Very Wide                False   \n",
       "44     GV_CI            27.081119       Very Wide                False   \n",
       "45     GV_KE            17.859417       Very Wide                False   \n",
       "46     GV_BG            12.321250       Very Wide                False   \n",
       "47     GV_NG            90.295657       Very Wide                 True   \n",
       "48     GV_HR            14.932148       Very Wide                 True   \n",
       "49     GV_UG            20.130748       Very Wide                False   \n",
       "50     GV_BA            21.891902       Very Wide                False   \n",
       "51     GV_MA             7.735345            Wide                False   \n",
       "52     GV_TN            13.311610       Very Wide                 True   \n",
       "53     GV_MD            21.072558       Very Wide                False   \n",
       "54     GV_ME            26.304074       Very Wide                False   \n",
       "\n",
       "    orders_pct_ci_width orders_ci_class  orders_clear_effect  \n",
       "0              3.233719        Moderate                 True  \n",
       "1              2.212734          Narrow                 True  \n",
       "2              1.414829          Narrow                 True  \n",
       "3              1.384693          Narrow                False  \n",
       "4              3.905294        Moderate                False  \n",
       "5              1.497081          Narrow                False  \n",
       "6              5.541797        Moderate                False  \n",
       "7              3.853154        Moderate                False  \n",
       "8              1.416210          Narrow                 True  \n",
       "9              4.489430        Moderate                False  \n",
       "10             5.801392        Moderate                 True  \n",
       "11             1.316819          Narrow                 True  \n",
       "12             3.437662        Moderate                 True  \n",
       "13             2.651599          Narrow                 True  \n",
       "14             2.360809          Narrow                False  \n",
       "15             3.631152        Moderate                False  \n",
       "16             4.617571        Moderate                False  \n",
       "17             1.834109          Narrow                False  \n",
       "18             3.292976        Moderate                 True  \n",
       "19             1.666234          Narrow                 True  \n",
       "20             4.674723        Moderate                False  \n",
       "21             3.442597        Moderate                False  \n",
       "22             4.325893        Moderate                 True  \n",
       "23             3.294788        Moderate                False  \n",
       "24             3.836721        Moderate                False  \n",
       "25             4.159089        Moderate                False  \n",
       "26             3.253345        Moderate                 True  \n",
       "27            10.628931       Very Wide                False  \n",
       "28             6.249994        Moderate                False  \n",
       "29             4.942233        Moderate                False  \n",
       "30             2.502693          Narrow                 True  \n",
       "31             5.932677        Moderate                False  \n",
       "32             4.015038        Moderate                False  \n",
       "33             4.446158        Moderate                 True  \n",
       "34             3.696835        Moderate                False  \n",
       "35             4.132963        Moderate                False  \n",
       "36             6.856164        Moderate                False  \n",
       "37             9.938325            Wide                False  \n",
       "38             4.201752        Moderate                 True  \n",
       "39             6.261351        Moderate                False  \n",
       "40             7.695185            Wide                 True  \n",
       "41             1.977586          Narrow                 True  \n",
       "42             3.214502        Moderate                False  \n",
       "43             6.380636        Moderate                False  \n",
       "44             9.728474            Wide                False  \n",
       "45             7.954460            Wide                False  \n",
       "46             7.233103            Wide                 True  \n",
       "47             9.733348            Wide                 True  \n",
       "48             6.001750        Moderate                False  \n",
       "49            10.457096       Very Wide                False  \n",
       "50            12.598316       Very Wide                False  \n",
       "51             5.117950        Moderate                False  \n",
       "52             8.427549            Wide                False  \n",
       "53            12.030029       Very Wide                False  \n",
       "54            15.271868       Very Wide                False  "
      ]
     },
     "execution_count": 29,
     "metadata": {},
     "output_type": "execute_result"
    }
   ],
   "source": [
    "summary_df"
   ]
  },
  {
   "cell_type": "code",
   "execution_count": 47,
   "metadata": {},
   "outputs": [
    {
     "name": "stderr",
     "output_type": "stream",
     "text": [
      "/Users/shazeb.asad/global_pricing/venv_bayesian/lib/python3.13/site-packages/google/auth/_default.py:76: UserWarning: Your application has authenticated using end user credentials from Google Cloud SDK without a quota project. You might receive a \"quota exceeded\" or \"API not enabled\" error. See the following page for troubleshooting: https://cloud.google.com/docs/authentication/adc-troubleshooting/user-creds. \n",
      "  warnings.warn(_CLOUD_SDK_CREDENTIALS_WARNING)\n"
     ]
    },
    {
     "name": "stdout",
     "output_type": "stream",
     "text": [
      "2025-05-12 00:02:40,061 WARNING:No project ID could be determined. Consider running `gcloud config set project` or setting the GOOGLE_CLOUD_PROJECT environment variable\n"
     ]
    }
   ],
   "source": [
    "client = bigquery.Client(project=\"logistics-customer-staging\")\n",
    "\n",
    "brand = client.query(get_brands()).to_dataframe()"
   ]
  },
  {
   "cell_type": "code",
   "execution_count": 48,
   "metadata": {},
   "outputs": [],
   "source": [
    "raw_cuped_cumm_df_brand = pd.merge(raw_cuped_cumm_df, brand, on='entity_id', how='left')"
   ]
  },
  {
   "cell_type": "code",
   "execution_count": 49,
   "metadata": {},
   "outputs": [
    {
     "data": {
      "text/html": [
       "<div>\n",
       "<style scoped>\n",
       "    .dataframe tbody tr th:only-of-type {\n",
       "        vertical-align: middle;\n",
       "    }\n",
       "\n",
       "    .dataframe tbody tr th {\n",
       "        vertical-align: top;\n",
       "    }\n",
       "\n",
       "    .dataframe thead th {\n",
       "        text-align: right;\n",
       "    }\n",
       "</style>\n",
       "<table border=\"1\" class=\"dataframe\">\n",
       "  <thead>\n",
       "    <tr style=\"text-align: right;\">\n",
       "      <th></th>\n",
       "      <th>entity_id</th>\n",
       "      <th>customer_id</th>\n",
       "      <th>is_customer_holdout</th>\n",
       "      <th>orders_pre</th>\n",
       "      <th>orders_post</th>\n",
       "      <th>analytical_profit_pre</th>\n",
       "      <th>analytical_profit_post</th>\n",
       "      <th>as_of_date</th>\n",
       "      <th>analytical_profit_post_cuped</th>\n",
       "      <th>orders_post_cuped</th>\n",
       "      <th>country_name</th>\n",
       "      <th>region</th>\n",
       "      <th>brand_name</th>\n",
       "    </tr>\n",
       "  </thead>\n",
       "  <tbody>\n",
       "    <tr>\n",
       "      <th>0</th>\n",
       "      <td>TB_IQ</td>\n",
       "      <td>42993221</td>\n",
       "      <td>True</td>\n",
       "      <td>0</td>\n",
       "      <td>19</td>\n",
       "      <td>0.000000</td>\n",
       "      <td>-1.302193</td>\n",
       "      <td>2025-05-05</td>\n",
       "      <td>-1.302193</td>\n",
       "      <td>19.0</td>\n",
       "      <td>Iraq</td>\n",
       "      <td>MENA</td>\n",
       "      <td>Talabat</td>\n",
       "    </tr>\n",
       "    <tr>\n",
       "      <th>1</th>\n",
       "      <td>TB_IQ</td>\n",
       "      <td>28862829</td>\n",
       "      <td>True</td>\n",
       "      <td>10</td>\n",
       "      <td>29</td>\n",
       "      <td>29.511856</td>\n",
       "      <td>3.737993</td>\n",
       "      <td>2025-05-05</td>\n",
       "      <td>-11.452554</td>\n",
       "      <td>22.212853</td>\n",
       "      <td>Iraq</td>\n",
       "      <td>MENA</td>\n",
       "      <td>Talabat</td>\n",
       "    </tr>\n",
       "    <tr>\n",
       "      <th>2</th>\n",
       "      <td>TB_IQ</td>\n",
       "      <td>27036430</td>\n",
       "      <td>True</td>\n",
       "      <td>11</td>\n",
       "      <td>21</td>\n",
       "      <td>15.844207</td>\n",
       "      <td>16.391054</td>\n",
       "      <td>2025-05-05</td>\n",
       "      <td>10.408783</td>\n",
       "      <td>12.783034</td>\n",
       "      <td>Iraq</td>\n",
       "      <td>MENA</td>\n",
       "      <td>Talabat</td>\n",
       "    </tr>\n",
       "    <tr>\n",
       "      <th>3</th>\n",
       "      <td>TB_IQ</td>\n",
       "      <td>40290962</td>\n",
       "      <td>True</td>\n",
       "      <td>10</td>\n",
       "      <td>12</td>\n",
       "      <td>5.822082</td>\n",
       "      <td>4.010145</td>\n",
       "      <td>2025-05-05</td>\n",
       "      <td>4.780058</td>\n",
       "      <td>5.212853</td>\n",
       "      <td>Iraq</td>\n",
       "      <td>MENA</td>\n",
       "      <td>Talabat</td>\n",
       "    </tr>\n",
       "    <tr>\n",
       "      <th>4</th>\n",
       "      <td>TB_IQ</td>\n",
       "      <td>35132927</td>\n",
       "      <td>True</td>\n",
       "      <td>79</td>\n",
       "      <td>129</td>\n",
       "      <td>101.949502</td>\n",
       "      <td>179.767640</td>\n",
       "      <td>2025-05-05</td>\n",
       "      <td>115.773835</td>\n",
       "      <td>23.555344</td>\n",
       "      <td>Iraq</td>\n",
       "      <td>MENA</td>\n",
       "      <td>Talabat</td>\n",
       "    </tr>\n",
       "    <tr>\n",
       "      <th>...</th>\n",
       "      <td>...</td>\n",
       "      <td>...</td>\n",
       "      <td>...</td>\n",
       "      <td>...</td>\n",
       "      <td>...</td>\n",
       "      <td>...</td>\n",
       "      <td>...</td>\n",
       "      <td>...</td>\n",
       "      <td>...</td>\n",
       "      <td>...</td>\n",
       "      <td>...</td>\n",
       "      <td>...</td>\n",
       "      <td>...</td>\n",
       "    </tr>\n",
       "    <tr>\n",
       "      <th>68194266</th>\n",
       "      <td>GV_ME</td>\n",
       "      <td>132895703</td>\n",
       "      <td>False</td>\n",
       "      <td>3</td>\n",
       "      <td>12</td>\n",
       "      <td>-1.614029</td>\n",
       "      <td>10.694863</td>\n",
       "      <td>2025-05-05</td>\n",
       "      <td>10.694863</td>\n",
       "      <td>16.483242</td>\n",
       "      <td>Montenegro</td>\n",
       "      <td>Europe</td>\n",
       "      <td>Glovo</td>\n",
       "    </tr>\n",
       "    <tr>\n",
       "      <th>68194267</th>\n",
       "      <td>GV_ME</td>\n",
       "      <td>81181016</td>\n",
       "      <td>False</td>\n",
       "      <td>1</td>\n",
       "      <td>12</td>\n",
       "      <td>-0.450000</td>\n",
       "      <td>35.799675</td>\n",
       "      <td>2025-05-05</td>\n",
       "      <td>35.799675</td>\n",
       "      <td>19.805101</td>\n",
       "      <td>Montenegro</td>\n",
       "      <td>Europe</td>\n",
       "      <td>Glovo</td>\n",
       "    </tr>\n",
       "    <tr>\n",
       "      <th>68194268</th>\n",
       "      <td>GV_ME</td>\n",
       "      <td>183654687</td>\n",
       "      <td>False</td>\n",
       "      <td>4</td>\n",
       "      <td>12</td>\n",
       "      <td>-4.986001</td>\n",
       "      <td>50.503828</td>\n",
       "      <td>2025-05-05</td>\n",
       "      <td>50.503828</td>\n",
       "      <td>14.822312</td>\n",
       "      <td>Montenegro</td>\n",
       "      <td>Europe</td>\n",
       "      <td>Glovo</td>\n",
       "    </tr>\n",
       "    <tr>\n",
       "      <th>68194269</th>\n",
       "      <td>GV_ME</td>\n",
       "      <td>53332695</td>\n",
       "      <td>False</td>\n",
       "      <td>3</td>\n",
       "      <td>12</td>\n",
       "      <td>-1.638799</td>\n",
       "      <td>36.614655</td>\n",
       "      <td>2025-05-05</td>\n",
       "      <td>36.614655</td>\n",
       "      <td>16.483242</td>\n",
       "      <td>Montenegro</td>\n",
       "      <td>Europe</td>\n",
       "      <td>Glovo</td>\n",
       "    </tr>\n",
       "    <tr>\n",
       "      <th>68194270</th>\n",
       "      <td>GV_ME</td>\n",
       "      <td>53137746</td>\n",
       "      <td>False</td>\n",
       "      <td>0</td>\n",
       "      <td>12</td>\n",
       "      <td>0.000000</td>\n",
       "      <td>-4.722681</td>\n",
       "      <td>2025-05-05</td>\n",
       "      <td>-4.722681</td>\n",
       "      <td>12.0</td>\n",
       "      <td>Montenegro</td>\n",
       "      <td>Europe</td>\n",
       "      <td>Glovo</td>\n",
       "    </tr>\n",
       "  </tbody>\n",
       "</table>\n",
       "<p>68194271 rows × 13 columns</p>\n",
       "</div>"
      ],
      "text/plain": [
       "         entity_id customer_id  is_customer_holdout  orders_pre  orders_post  \\\n",
       "0            TB_IQ    42993221                 True           0           19   \n",
       "1            TB_IQ    28862829                 True          10           29   \n",
       "2            TB_IQ    27036430                 True          11           21   \n",
       "3            TB_IQ    40290962                 True          10           12   \n",
       "4            TB_IQ    35132927                 True          79          129   \n",
       "...            ...         ...                  ...         ...          ...   \n",
       "68194266     GV_ME   132895703                False           3           12   \n",
       "68194267     GV_ME    81181016                False           1           12   \n",
       "68194268     GV_ME   183654687                False           4           12   \n",
       "68194269     GV_ME    53332695                False           3           12   \n",
       "68194270     GV_ME    53137746                False           0           12   \n",
       "\n",
       "          analytical_profit_pre  analytical_profit_post as_of_date  \\\n",
       "0                      0.000000               -1.302193 2025-05-05   \n",
       "1                     29.511856                3.737993 2025-05-05   \n",
       "2                     15.844207               16.391054 2025-05-05   \n",
       "3                      5.822082                4.010145 2025-05-05   \n",
       "4                    101.949502              179.767640 2025-05-05   \n",
       "...                         ...                     ...        ...   \n",
       "68194266              -1.614029               10.694863 2025-05-05   \n",
       "68194267              -0.450000               35.799675 2025-05-05   \n",
       "68194268              -4.986001               50.503828 2025-05-05   \n",
       "68194269              -1.638799               36.614655 2025-05-05   \n",
       "68194270               0.000000               -4.722681 2025-05-05   \n",
       "\n",
       "          analytical_profit_post_cuped  orders_post_cuped country_name  \\\n",
       "0                            -1.302193               19.0         Iraq   \n",
       "1                           -11.452554          22.212853         Iraq   \n",
       "2                            10.408783          12.783034         Iraq   \n",
       "3                             4.780058           5.212853         Iraq   \n",
       "4                           115.773835          23.555344         Iraq   \n",
       "...                                ...                ...          ...   \n",
       "68194266                     10.694863          16.483242   Montenegro   \n",
       "68194267                     35.799675          19.805101   Montenegro   \n",
       "68194268                     50.503828          14.822312   Montenegro   \n",
       "68194269                     36.614655          16.483242   Montenegro   \n",
       "68194270                     -4.722681               12.0   Montenegro   \n",
       "\n",
       "          region brand_name  \n",
       "0           MENA    Talabat  \n",
       "1           MENA    Talabat  \n",
       "2           MENA    Talabat  \n",
       "3           MENA    Talabat  \n",
       "4           MENA    Talabat  \n",
       "...          ...        ...  \n",
       "68194266  Europe      Glovo  \n",
       "68194267  Europe      Glovo  \n",
       "68194268  Europe      Glovo  \n",
       "68194269  Europe      Glovo  \n",
       "68194270  Europe      Glovo  \n",
       "\n",
       "[68194271 rows x 13 columns]"
      ]
     },
     "execution_count": 49,
     "metadata": {},
     "output_type": "execute_result"
    }
   ],
   "source": [
    "raw_cuped_cumm_df_brand"
   ]
  },
  {
   "cell_type": "code",
   "execution_count": 8,
   "metadata": {},
   "outputs": [
    {
     "data": {
      "application/vnd.jupyter.widget-view+json": {
       "model_id": "b1a350c445bf4574a81a968c81dbb4fb",
       "version_major": 2,
       "version_minor": 0
      },
      "text/plain": [
       "brand_name groups:   0%|          | 0/6 [00:00<?, ?it/s]"
      ]
     },
     "metadata": {},
     "output_type": "display_data"
    },
    {
     "data": {
      "application/vnd.jupyter.widget-view+json": {
       "model_id": "54f6fcf6f35e4050a874f0d10904f95e",
       "version_major": 2,
       "version_minor": 0
      },
      "text/plain": [
       "Weeks:   0%|          | 0/1 [00:00<?, ?it/s]"
      ]
     },
     "metadata": {},
     "output_type": "display_data"
    }
   ],
   "source": [
    "boostrapped_df_brand = apply_bootstrap_diff_means(raw_cuped_cumm_df_brand, \"brand_name\",  adjusted_metrics, n_resamples = 500, alpha = 0.05, seed = 42)"
   ]
  },
  {
   "cell_type": "code",
   "execution_count": 121,
   "metadata": {},
   "outputs": [],
   "source": [
    "boostrapped_df.to_csv(\"holdout_performance_entities.csv\")"
   ]
  },
  {
   "cell_type": "code",
   "execution_count": 57,
   "metadata": {},
   "outputs": [
    {
     "data": {
      "text/plain": [
       "np.float64(3599484.2640115293)"
      ]
     },
     "execution_count": 57,
     "metadata": {},
     "output_type": "execute_result"
    }
   ],
   "source": [
    "a[a['is_customer_holdout'] == False]['analytical_profit_post'].sum()"
   ]
  },
  {
   "cell_type": "code",
   "execution_count": 54,
   "metadata": {},
   "outputs": [
    {
     "data": {
      "text/plain": [
       "np.float64(71740.87237846287)"
      ]
     },
     "execution_count": 54,
     "metadata": {},
     "output_type": "execute_result"
    }
   ],
   "source": [
    "a[a['is_customer_holdout'] == True]['analytical_profit_post_cuped'].sum()"
   ]
  },
  {
   "cell_type": "code",
   "execution_count": 55,
   "metadata": {},
   "outputs": [
    {
     "data": {
      "text/plain": [
       "np.float64(3599484.2640115293)"
      ]
     },
     "execution_count": 55,
     "metadata": {},
     "output_type": "execute_result"
    }
   ],
   "source": [
    "a[a['is_customer_holdout'] == False]['analytical_profit_post'].sum()"
   ]
  },
  {
   "cell_type": "code",
   "execution_count": 56,
   "metadata": {},
   "outputs": [
    {
     "data": {
      "text/plain": [
       "np.float64(71740.87237846287)"
      ]
     },
     "execution_count": 56,
     "metadata": {},
     "output_type": "execute_result"
    }
   ],
   "source": [
    "a[a['is_customer_holdout'] == True]['analytical_profit_post_cuped'].sum()"
   ]
  },
  {
   "cell_type": "code",
   "execution_count": 52,
   "metadata": {},
   "outputs": [
    {
     "name": "stdout",
     "output_type": "stream",
     "text": [
      "2025-05-07 00:28:55,942 INFO:\n",
      "Observed Mean Diff: 0.1216\n",
      "Bootstrap Mean Diff: 0.1155\n",
      "Bootstrap 95% CI: (-0.1769, 0.4116)\n",
      "Users: Non-Holdout = 812700, Holdout = 16655\n",
      "2025-05-07 00:29:02,205 INFO:\n",
      "Observed Mean Diff: 0.1216\n",
      "Bootstrap Mean Diff: 0.1137\n",
      "Bootstrap 95% CI: (-0.1389, 0.3735)\n",
      "Users: Non-Holdout = 812700, Holdout = 16655\n"
     ]
    },
    {
     "data": {
      "image/png": "[encoded data removed]",
      "text/plain": [
       "<Figure size 1200x700 with 1 Axes>"
      ]
     },
     "metadata": {},
     "output_type": "display_data"
    }
   ],
   "source": [
    "a = raw_cuped_cumm_df[raw_cuped_cumm_df['entity_id'] == 'DJ_CZ']\n",
    "\n",
    "d = bootstrap_diff_means(a, 'analytical_profit_post')\n",
    "f = bootstrap_diff_means(a, 'analytical_profit_post_cuped')\n",
    "\n",
    "plot_bootstrap_comparison_differences_in_means(d, f)"
   ]
  },
  {
   "cell_type": "code",
   "execution_count": 51,
   "metadata": {},
   "outputs": [],
   "source": [
    "raw_cuped_cumm_df.to_pickle(\".holdout_data_latest_cuped.pkl\")  "
   ]
  },
  {
   "cell_type": "code",
   "execution_count": 27,
   "metadata": {},
   "outputs": [
    {
     "data": {
      "text/plain": [
       "55"
      ]
     },
     "execution_count": 27,
     "metadata": {},
     "output_type": "execute_result"
    }
   ],
   "source": [
    "#cleaned_cumm_df['entity_id'].nunique()"
   ]
  },
  {
   "cell_type": "code",
   "execution_count": 38,
   "metadata": {},
   "outputs": [],
   "source": [
    "rr = cleaned_cumm_df.groupby(['entity_id','is_customer_holdout']).agg({'customer_id':'nunique'}).reset_index()\n",
    "\n",
    "rr.to_csv(\"customer_counts_by_entity.csv\", index=False)\n"
   ]
  },
  {
   "cell_type": "code",
   "execution_count": 21,
   "metadata": {},
   "outputs": [
    {
     "data": {
      "text/plain": [
       "entity_id                         0\n",
       "customer_id                       0\n",
       "is_customer_holdout               0\n",
       "orders_pre                 87378057\n",
       "orders_post                87378057\n",
       "analytical_profit_pre     116229941\n",
       "analytical_profit_post     96377414\n",
       "as_of_date                        0\n",
       "dtype: int64"
      ]
     },
     "execution_count": 21,
     "metadata": {},
     "output_type": "execute_result"
    }
   ],
   "source": [
    "raw_cumm_df.isna().sum()"
   ]
  },
  {
   "cell_type": "code",
   "execution_count": 23,
   "metadata": {},
   "outputs": [
    {
     "data": {
      "text/plain": [
       "87952361"
      ]
     },
     "execution_count": 23,
     "metadata": {},
     "output_type": "execute_result"
    }
   ],
   "source": [
    "156146632 - 68194271"
   ]
  },
  {
   "cell_type": "code",
   "execution_count": 120,
   "metadata": {},
   "outputs": [],
   "source": [
    "# store_data_cloud(raw_cuped_cumm_df, week_mondays)"
   ]
  },
  {
   "cell_type": "code",
   "execution_count": 119,
   "metadata": {},
   "outputs": [],
   "source": [
    "# pre_post_metrics = [\n",
    "#     (\"analytical_profit_pre\", \"analytical_profit_post\"),\n",
    "#     (\"orders_pre\", \"orders_post\")\n",
    "# ]\n",
    "\n",
    "# apply_cuped_adjustment(a, entities, week_mondays, pre_post_metrics)\n",
    "\n",
    "# print(result_df)"
   ]
  },
  {
   "cell_type": "code",
   "execution_count": 118,
   "metadata": {},
   "outputs": [],
   "source": [
    "# result_df"
   ]
  },
  {
   "cell_type": "code",
   "execution_count": 117,
   "metadata": {},
   "outputs": [],
   "source": [
    "# combined_data()"
   ]
  },
  {
   "cell_type": "code",
   "execution_count": 116,
   "metadata": {},
   "outputs": [],
   "source": [
    "# bootstrap_single_group(\n",
    "#     df: pd.DataFrame,\n",
    "#     adjusted_metric: str,\n",
    "#     n_resamples: int = 10000,\n",
    "#     alpha: float = 0.05,\n",
    "#     seed: int = 42\n",
    "# ) -> dict:\n",
    "\n",
    "#  plot_bootstrap_single_distribution(boot_result: dict, alpha: float = 0.05)\n",
    "\n",
    "#  def plot_bootstrap_comparison_single_group(\n",
    "#     result1: dict, label1: str,\n",
    "#     result2: dict, label2: str,\n",
    "#     alpha: float = 0.05\n",
    "# ):\n",
    "\n",
    "\n",
    "# def t_confidence_interval(data, alpha=0.05):"
   ]
  },
  {
   "cell_type": "code",
   "execution_count": 115,
   "metadata": {},
   "outputs": [],
   "source": [
    "# raw_cuped_cumm_df['as_of_date'].unique()"
   ]
  },
  {
   "cell_type": "code",
   "execution_count": 114,
   "metadata": {},
   "outputs": [],
   "source": [
    "# a = raw_cuped_cumm_df[(raw_cuped_cumm_df['as_of_date'] == '2025-04-14 00:00:00') & (raw_cuped_cumm_df['entity_id'] == 'FP_PK')]\n"
   ]
  },
  {
   "cell_type": "code",
   "execution_count": 113,
   "metadata": {},
   "outputs": [],
   "source": [
    "# a['analytical_profit_post'].describe()"
   ]
  },
  {
   "cell_type": "code",
   "execution_count": 112,
   "metadata": {},
   "outputs": [],
   "source": [
    "# tt  = bootstrap_single_group(\n",
    "#    a,\n",
    "#    \"analytical_profit_post\"\n",
    "# )"
   ]
  },
  {
   "cell_type": "code",
   "execution_count": 111,
   "metadata": {},
   "outputs": [],
   "source": [
    "# bb  = bootstrap_single_group(\n",
    "#    a,\n",
    "#    \"analytical_profit_pre\"\n",
    "# )"
   ]
  },
  {
   "cell_type": "code",
   "execution_count": 110,
   "metadata": {},
   "outputs": [],
   "source": [
    "# plot_bootstrap_single_distribution(tt)"
   ]
  },
  {
   "cell_type": "code",
   "execution_count": 109,
   "metadata": {},
   "outputs": [],
   "source": [
    "# plot_bootstrap_single_distribution(bb)"
   ]
  },
  {
   "cell_type": "code",
   "execution_count": 108,
   "metadata": {},
   "outputs": [],
   "source": [
    "# t_confidence_interval(data, alpha=0.05)"
   ]
  },
  {
   "cell_type": "code",
   "execution_count": 107,
   "metadata": {},
   "outputs": [],
   "source": [
    "# tt"
   ]
  },
  {
   "cell_type": "code",
   "execution_count": 106,
   "metadata": {},
   "outputs": [],
   "source": [
    "# t_confidence_interval(a['analytical_profit_post'].values, alpha=0.05)"
   ]
  },
  {
   "cell_type": "code",
   "execution_count": 105,
   "metadata": {},
   "outputs": [],
   "source": [
    "# a"
   ]
  },
  {
   "cell_type": "code",
   "execution_count": 104,
   "metadata": {},
   "outputs": [],
   "source": [
    "# d = bootstrap_diff_means(a, 'analytical_profit_post')"
   ]
  },
  {
   "cell_type": "code",
   "execution_count": 103,
   "metadata": {},
   "outputs": [],
   "source": [
    "# f = bootstrap_diff_means(a, 'analytical_profit_post_cuped')"
   ]
  },
  {
   "cell_type": "code",
   "execution_count": 102,
   "metadata": {},
   "outputs": [],
   "source": [
    "# plot_two_bootstrap_distributions(d, f)"
   ]
  },
  {
   "cell_type": "code",
   "execution_count": 101,
   "metadata": {},
   "outputs": [],
   "source": [
    "# -0.0691 - 0.0886"
   ]
  },
  {
   "cell_type": "code",
   "execution_count": 100,
   "metadata": {},
   "outputs": [],
   "source": [
    "# plot_bootstrap_distribution(f)"
   ]
  },
  {
   "cell_type": "code",
   "execution_count": 99,
   "metadata": {},
   "outputs": [],
   "source": [
    "# plot_bootstrap_distribution(d)"
   ]
  },
  {
   "cell_type": "code",
   "execution_count": 98,
   "metadata": {},
   "outputs": [],
   "source": [
    "# z = welchs_ttest_with_ci(a, 'analytical_profit_post')"
   ]
  },
  {
   "cell_type": "code",
   "execution_count": 97,
   "metadata": {},
   "outputs": [],
   "source": [
    "# a"
   ]
  },
  {
   "cell_type": "code",
   "execution_count": 96,
   "metadata": {},
   "outputs": [],
   "source": [
    "# apply_cuped_adjustment()\n"
   ]
  },
  {
   "cell_type": "code",
   "execution_count": 95,
   "metadata": {},
   "outputs": [],
   "source": [
    "# from scipy.stats import norm\n",
    "\n",
    "\n",
    "# # Your input values\n",
    "# observed_diff = np.float64(0.005175359110324962)\n",
    "# t_statistic = np.float64(0.13239070542770734)\n",
    "# p_value = np.float64(0.8946757393529482)\n",
    "# ci = (np.float64(-0.07144433735825026), np.float64(0.08179505557890018))\n",
    "# alpha = 0.05\n",
    "\n",
    "# # Estimate standard error from CI\n",
    "# z = norm.ppf(1 - alpha / 2)\n",
    "# se_diff = (ci[1] - observed_diff) / z\n",
    "\n",
    "# # Plotting function\n",
    "# def plot_ttest_distribution(observed_diff, se_diff, ci, alpha=0.05, n_points=1000):\n",
    "#     x = np.linspace(observed_diff - 4*se_diff, observed_diff + 4*se_diff, n_points)\n",
    "#     y = norm.pdf(x, loc=observed_diff, scale=se_diff)\n",
    "\n",
    "#     plt.figure(figsize=(10, 6))\n",
    "#     plt.plot(x, y, label=\"Sampling Distribution (Normal)\", color='skyblue')\n",
    "\n",
    "#     # Observed difference\n",
    "#     plt.axvline(observed_diff, color='red', linestyle='-', label='Observed Mean Diff')\n",
    "#     plt.text(observed_diff, max(y)*0.9, f\"{observed_diff:.4f}\", color='red', ha='center', va='bottom', fontsize=10)\n",
    "\n",
    "#     # CI bounds\n",
    "#     plt.axvline(ci[0], color='black', linestyle='--', label=f'{100*(1-alpha):.0f}% CI')\n",
    "#     plt.axvline(ci[1], color='black', linestyle='--')\n",
    "#     plt.text(ci[0], max(y)*0.6, f\"{ci[0]:.4f}\", color='black', ha='right', va='bottom', fontsize=10)\n",
    "#     plt.text(ci[1], max(y)*0.6, f\"{ci[1]:.4f}\", color='black', ha='left', va='bottom', fontsize=10)\n",
    "\n",
    "#     # Labels and formatting\n",
    "#     plt.title(\"Sampling Distribution of Mean Difference (Welch’s t-test)\")\n",
    "#     plt.xlabel(\"Mean Difference\")\n",
    "#     plt.ylabel(\"Density\")\n",
    "#     plt.legend()\n",
    "#     plt.grid(True)\n",
    "#     plt.tight_layout()\n",
    "#     plt.show()\n",
    "\n",
    "# # Call the function with computed se_diff\n",
    "# plot_ttest_distribution(observed_diff, se_diff, ci, alpha)"
   ]
  },
  {
   "cell_type": "code",
   "execution_count": 94,
   "metadata": {},
   "outputs": [],
   "source": [
    "# plot_ttest_distribution(0.005175359110324962, se_diff, ci, alpha=0.05, n_points=1000):"
   ]
  },
  {
   "cell_type": "code",
   "execution_count": 93,
   "metadata": {},
   "outputs": [],
   "source": [
    "# a = raw_cuped_cumm_df[raw_cuped_cumm_df['entity_id'] == \"FP_PK\"]"
   ]
  },
  {
   "cell_type": "code",
   "execution_count": 92,
   "metadata": {},
   "outputs": [],
   "source": [
    "# raw_cuped_cumm_df"
   ]
  },
  {
   "cell_type": "code",
   "execution_count": 91,
   "metadata": {},
   "outputs": [],
   "source": [
    "# import matplotlib.pyplot as plt\n",
    "\n",
    "# results = bootstrap_diff_means(a, \"orders_post_cuped\")\n",
    "\n",
    "# # Convert % for plotting\n",
    "# for r in results:\n",
    "#     r[\"mean_pct\"] = r[\"bootstrap_mean_diff\"] * 100\n",
    "#     r[\"ci_low\"] = r[\"ci\"][\"diff\"][0] * 100\n",
    "#     r[\"ci_high\"] = r[\"ci\"][\"diff\"][1] * 100\n",
    "\n",
    "# # Plot\n",
    "# fig, ax = plt.subplots(figsize=(9, 3))\n",
    "\n",
    "# for i, r in enumerate(results):\n",
    "#     ax.errorbar(r[\"mean_pct\"], i, xerr=[[r[\"mean_pct\"] - r[\"ci_low\"]], [r[\"ci_high\"] - r[\"mean_pct\"]]],\n",
    "#                 fmt='o', capsize=5, capthick=2, label=r[\"label\"])\n",
    "\n",
    "#     # Optional: background bar\n",
    "#     ax.axhspan(i - 0.3, i + 0.3, color='gray', alpha=0.05)\n",
    "\n",
    "# # Formatting\n",
    "# ax.axvline(0, color='gray', linestyle='--')\n",
    "# ax.set_yticks(range(len(results)))\n",
    "# ax.set_yticklabels([r[\"label\"] for r in results])\n",
    "# ax.set_xlabel(\"Uplift (percentage points)\")\n",
    "# ax.set_title(\"Bootstrapped Differences in Means\")\n",
    "# plt.grid(True, axis='x', linestyle='--', alpha=0.5)\n",
    "# plt.tight_layout()\n",
    "# plt.show()"
   ]
  },
  {
   "cell_type": "code",
   "execution_count": 90,
   "metadata": {},
   "outputs": [],
   "source": [
    "# CI_comparison_single(raw_cuped_cumm_df, \"orders_post_cuped\",\"PY_DO\", holdout = True)"
   ]
  },
  {
   "cell_type": "markdown",
   "metadata": {},
   "source": []
  },
  {
   "cell_type": "code",
   "execution_count": 89,
   "metadata": {},
   "outputs": [],
   "source": [
    "# CI_comparison_differences(raw_cuped_cumm_df, \"orders_post_cuped\",\"PY_DO\")"
   ]
  },
  {
   "cell_type": "code",
   "execution_count": 88,
   "metadata": {},
   "outputs": [],
   "source": [
    "# a = raw_cuped_cumm_df[(raw_cuped_cumm_df[\"is_customer_holdout\"] == True) & (raw_cuped_cumm_df[\"entity_id\"] == \"PY_DO\")]"
   ]
  },
  {
   "cell_type": "code",
   "execution_count": 21,
   "metadata": {},
   "outputs": [
    {
     "data": {
      "text/html": [
       "<div>\n",
       "<style scoped>\n",
       "    .dataframe tbody tr th:only-of-type {\n",
       "        vertical-align: middle;\n",
       "    }\n",
       "\n",
       "    .dataframe tbody tr th {\n",
       "        vertical-align: top;\n",
       "    }\n",
       "\n",
       "    .dataframe thead th {\n",
       "        text-align: right;\n",
       "    }\n",
       "</style>\n",
       "<table border=\"1\" class=\"dataframe\">\n",
       "  <thead>\n",
       "    <tr style=\"text-align: right;\">\n",
       "      <th></th>\n",
       "      <th>entity_id</th>\n",
       "      <th>customer_id</th>\n",
       "      <th>is_customer_holdout</th>\n",
       "      <th>orders_pre</th>\n",
       "      <th>orders_post</th>\n",
       "      <th>analytical_profit_pre</th>\n",
       "      <th>analytical_profit_post</th>\n",
       "      <th>as_of_date</th>\n",
       "      <th>analytical_profit_post_cuped</th>\n",
       "      <th>orders_post_cuped</th>\n",
       "    </tr>\n",
       "  </thead>\n",
       "  <tbody>\n",
       "    <tr>\n",
       "      <th>50356</th>\n",
       "      <td>PY_DO</td>\n",
       "      <td>16496517</td>\n",
       "      <td>True</td>\n",
       "      <td>11</td>\n",
       "      <td>27</td>\n",
       "      <td>42.628823</td>\n",
       "      <td>90.977305</td>\n",
       "      <td>2025-03-31</td>\n",
       "      <td>52.081002</td>\n",
       "      <td>19.122292</td>\n",
       "    </tr>\n",
       "    <tr>\n",
       "      <th>50357</th>\n",
       "      <td>PY_DO</td>\n",
       "      <td>78054397</td>\n",
       "      <td>True</td>\n",
       "      <td>0</td>\n",
       "      <td>1</td>\n",
       "      <td>0.000000</td>\n",
       "      <td>2.754215</td>\n",
       "      <td>2025-03-31</td>\n",
       "      <td>9.396003</td>\n",
       "      <td>5.024267</td>\n",
       "    </tr>\n",
       "    <tr>\n",
       "      <th>50358</th>\n",
       "      <td>PY_DO</td>\n",
       "      <td>84376670</td>\n",
       "      <td>True</td>\n",
       "      <td>7</td>\n",
       "      <td>15</td>\n",
       "      <td>25.782875</td>\n",
       "      <td>14.553229</td>\n",
       "      <td>2025-03-31</td>\n",
       "      <td>-6.347449</td>\n",
       "      <td>11.450283</td>\n",
       "    </tr>\n",
       "    <tr>\n",
       "      <th>50359</th>\n",
       "      <td>PY_DO</td>\n",
       "      <td>59379790</td>\n",
       "      <td>True</td>\n",
       "      <td>2</td>\n",
       "      <td>3</td>\n",
       "      <td>0.251678</td>\n",
       "      <td>0.636564</td>\n",
       "      <td>2025-03-31</td>\n",
       "      <td>7.009498</td>\n",
       "      <td>4.860272</td>\n",
       "    </tr>\n",
       "    <tr>\n",
       "      <th>50360</th>\n",
       "      <td>PY_DO</td>\n",
       "      <td>67657819</td>\n",
       "      <td>True</td>\n",
       "      <td>11</td>\n",
       "      <td>7</td>\n",
       "      <td>34.286351</td>\n",
       "      <td>22.118214</td>\n",
       "      <td>2025-03-31</td>\n",
       "      <td>-7.866272</td>\n",
       "      <td>-0.877708</td>\n",
       "    </tr>\n",
       "    <tr>\n",
       "      <th>...</th>\n",
       "      <td>...</td>\n",
       "      <td>...</td>\n",
       "      <td>...</td>\n",
       "      <td>...</td>\n",
       "      <td>...</td>\n",
       "      <td>...</td>\n",
       "      <td>...</td>\n",
       "      <td>...</td>\n",
       "      <td>...</td>\n",
       "      <td>...</td>\n",
       "    </tr>\n",
       "    <tr>\n",
       "      <th>61790</th>\n",
       "      <td>PY_DO</td>\n",
       "      <td>20815034</td>\n",
       "      <td>True</td>\n",
       "      <td>0</td>\n",
       "      <td>4</td>\n",
       "      <td>0.000000</td>\n",
       "      <td>5.438421</td>\n",
       "      <td>2025-03-31</td>\n",
       "      <td>12.080209</td>\n",
       "      <td>8.024267</td>\n",
       "    </tr>\n",
       "    <tr>\n",
       "      <th>61791</th>\n",
       "      <td>PY_DO</td>\n",
       "      <td>16499131</td>\n",
       "      <td>True</td>\n",
       "      <td>15</td>\n",
       "      <td>18</td>\n",
       "      <td>39.712943</td>\n",
       "      <td>72.608401</td>\n",
       "      <td>2025-03-31</td>\n",
       "      <td>36.826977</td>\n",
       "      <td>5.794301</td>\n",
       "    </tr>\n",
       "    <tr>\n",
       "      <th>61792</th>\n",
       "      <td>PY_DO</td>\n",
       "      <td>89269107</td>\n",
       "      <td>True</td>\n",
       "      <td>0</td>\n",
       "      <td>5</td>\n",
       "      <td>0.000000</td>\n",
       "      <td>2.307820</td>\n",
       "      <td>2025-03-31</td>\n",
       "      <td>8.949608</td>\n",
       "      <td>9.024267</td>\n",
       "    </tr>\n",
       "    <tr>\n",
       "      <th>61793</th>\n",
       "      <td>PY_DO</td>\n",
       "      <td>41086030</td>\n",
       "      <td>True</td>\n",
       "      <td>3</td>\n",
       "      <td>0</td>\n",
       "      <td>3.558943</td>\n",
       "      <td>0.000000</td>\n",
       "      <td>2025-03-31</td>\n",
       "      <td>2.839960</td>\n",
       "      <td>0.778274</td>\n",
       "    </tr>\n",
       "    <tr>\n",
       "      <th>61794</th>\n",
       "      <td>PY_DO</td>\n",
       "      <td>30144135</td>\n",
       "      <td>True</td>\n",
       "      <td>30</td>\n",
       "      <td>12</td>\n",
       "      <td>100.032442</td>\n",
       "      <td>47.092505</td>\n",
       "      <td>2025-03-31</td>\n",
       "      <td>-53.125013</td>\n",
       "      <td>-16.435665</td>\n",
       "    </tr>\n",
       "  </tbody>\n",
       "</table>\n",
       "<p>11439 rows × 10 columns</p>\n",
       "</div>"
      ],
      "text/plain": [
       "      entity_id customer_id  is_customer_holdout  orders_pre  orders_post  \\\n",
       "50356     PY_DO    16496517                 True          11           27   \n",
       "50357     PY_DO    78054397                 True           0            1   \n",
       "50358     PY_DO    84376670                 True           7           15   \n",
       "50359     PY_DO    59379790                 True           2            3   \n",
       "50360     PY_DO    67657819                 True          11            7   \n",
       "...         ...         ...                  ...         ...          ...   \n",
       "61790     PY_DO    20815034                 True           0            4   \n",
       "61791     PY_DO    16499131                 True          15           18   \n",
       "61792     PY_DO    89269107                 True           0            5   \n",
       "61793     PY_DO    41086030                 True           3            0   \n",
       "61794     PY_DO    30144135                 True          30           12   \n",
       "\n",
       "       analytical_profit_pre  analytical_profit_post as_of_date  \\\n",
       "50356              42.628823               90.977305 2025-03-31   \n",
       "50357               0.000000                2.754215 2025-03-31   \n",
       "50358              25.782875               14.553229 2025-03-31   \n",
       "50359               0.251678                0.636564 2025-03-31   \n",
       "50360              34.286351               22.118214 2025-03-31   \n",
       "...                      ...                     ...        ...   \n",
       "61790               0.000000                5.438421 2025-03-31   \n",
       "61791              39.712943               72.608401 2025-03-31   \n",
       "61792               0.000000                2.307820 2025-03-31   \n",
       "61793               3.558943                0.000000 2025-03-31   \n",
       "61794             100.032442               47.092505 2025-03-31   \n",
       "\n",
       "       analytical_profit_post_cuped  orders_post_cuped  \n",
       "50356                     52.081002          19.122292  \n",
       "50357                      9.396003           5.024267  \n",
       "50358                     -6.347449          11.450283  \n",
       "50359                      7.009498           4.860272  \n",
       "50360                     -7.866272          -0.877708  \n",
       "...                             ...                ...  \n",
       "61790                     12.080209           8.024267  \n",
       "61791                     36.826977           5.794301  \n",
       "61792                      8.949608           9.024267  \n",
       "61793                      2.839960           0.778274  \n",
       "61794                    -53.125013         -16.435665  \n",
       "\n",
       "[11439 rows x 10 columns]"
      ]
     },
     "execution_count": 21,
     "metadata": {},
     "output_type": "execute_result"
    }
   ],
   "source": [
    "# a"
   ]
  },
  {
   "cell_type": "code",
   "execution_count": 87,
   "metadata": {},
   "outputs": [],
   "source": [
    "# raw_cuped_cumm_df = apply_cuped_adjustment(cleaned_cumm_df, entities, week_mondays)"
   ]
  },
  {
   "cell_type": "code",
   "execution_count": 85,
   "metadata": {},
   "outputs": [],
   "source": [
    "# raw_cuped_cumm_df.isna().sum()"
   ]
  },
  {
   "cell_type": "code",
   "execution_count": 84,
   "metadata": {},
   "outputs": [],
   "source": [
    "# holdout = raw_cuped_cumm_df[(raw_cuped_cumm_df['is_customer_holdout'] == True) & (raw_cuped_cumm_df['entity_id'] == 'PY_DO')]\n",
    "# non_holdout = raw_cuped_cumm_df[(raw_cuped_cumm_df['is_customer_holdout'] == False) & (raw_cuped_cumm_df['entity_id'] == 'PY_DO')]"
   ]
  },
  {
   "cell_type": "code",
   "execution_count": 98,
   "metadata": {},
   "outputs": [],
   "source": []
  },
  {
   "cell_type": "code",
   "execution_count": 86,
   "metadata": {},
   "outputs": [],
   "source": [
    "# a = bootstrap_single_group(non_holdout, \"analytical_profit_post_cuped\")\n",
    "# b = bootstrap_single_group(non_holdout, \"analytical_profit_post\")\n",
    "\n",
    "# plot_bootstrap_comparison(a, \"Post-CUPED\", b, \"Post-Raw\")"
   ]
  },
  {
   "cell_type": "code",
   "execution_count": 81,
   "metadata": {},
   "outputs": [],
   "source": [
    "# a = t_confidence_interval(h[\"analytical_profit_post_cuped\"])\n",
    "# b = t_confidence_interval(h[\"analytical_profit_post\"])"
   ]
  },
  {
   "cell_type": "code",
   "execution_count": 82,
   "metadata": {},
   "outputs": [],
   "source": [
    "# a"
   ]
  },
  {
   "cell_type": "code",
   "execution_count": 83,
   "metadata": {},
   "outputs": [],
   "source": [
    "# b"
   ]
  },
  {
   "cell_type": "code",
   "execution_count": 80,
   "metadata": {},
   "outputs": [],
   "source": [
    "# hb_cuped = bootstrap_single_group(h,\"\")\n",
    "# hb_non_cuped = bootstrap_single_group(nh)"
   ]
  },
  {
   "cell_type": "code",
   "execution_count": 79,
   "metadata": {},
   "outputs": [],
   "source": [
    "# from sklearn.linear_model import Ridge\n",
    "\n",
    "# X = holdout[['analytical_profit_pre']]\n",
    "# y = holdout['analytical_profit_post']\n",
    "\n",
    "# ridge = Ridge(alpha=1.0)\n",
    "# ridge.fit(X, y)\n",
    "\n",
    "# theta_ridge = ridge.coef_[0]\n",
    "\n",
    "# holdout[\"cuped_ridge\"] = (\n",
    "#     holdout['analytical_profit_post'] - theta_ridge * (holdout['analytical_profit_pre'] - holdout['analytical_profit_pre'].mean())\n",
    "# )\n",
    "\n",
    "# print(holdout['cuped_ridge'].mean())\n",
    "\n",
    "# print(\"Original variance:\", holdout['cuped_standard'].var())\n",
    "# print(\"CUPED variance:   \", holdout['cuped_ridge'].var())\n",
    "\n",
    "# X = non_holdout[['analytical_profit_pre']]\n",
    "# y = non_holdout['analytical_profit_post']\n",
    "\n",
    "# ridge = Ridge(alpha=1.0)\n",
    "# ridge.fit(X, y)\n",
    "\n",
    "# theta_ridge = ridge.coef_[0]\n",
    "\n",
    "# non_holdout[\"cuped_ridge\"] = (\n",
    "#     non_holdout['analytical_profit_post'] - theta_ridge * (non_holdout['analytical_profit_pre'] - non_holdout['analytical_profit_pre'].mean())\n",
    "# )\n",
    "\n",
    "# print(non_holdout['cuped_ridge'].mean())\n",
    "\n",
    "# print(\"Original variance:\", non_holdout['cuped_standard'].var())\n",
    "# print(\"CUPED variance:   \", non_holdout['cuped_ridge'].var())\n",
    "\n"
   ]
  },
  {
   "cell_type": "code",
   "execution_count": null,
   "metadata": {},
   "outputs": [],
   "source": []
  },
  {
   "cell_type": "code",
   "execution_count": 78,
   "metadata": {},
   "outputs": [],
   "source": [
    "# group_a = test[test[\"is_customer_holdout\"] == False]\n",
    "# group_b = test[test[\"is_customer_holdout\"] == True]"
   ]
  },
  {
   "cell_type": "code",
   "execution_count": 77,
   "metadata": {},
   "outputs": [],
   "source": [
    "# a = bootstrap_single_group(\n",
    "#     group_a,\n",
    "#     \"orders_post\"\n",
    "# )\n",
    "\n",
    "# b = bootstrap_single_group(\n",
    "#     group_b,\n",
    "#     \"orders_post\"\n",
    "# )"
   ]
  },
  {
   "cell_type": "code",
   "execution_count": 76,
   "metadata": {},
   "outputs": [],
   "source": [
    "# a = bootstrap_with_pvalue(test, \"orders_post\")"
   ]
  },
  {
   "cell_type": "code",
   "execution_count": 75,
   "metadata": {},
   "outputs": [],
   "source": [
    "# from scipy.stats import norm\n",
    "\n",
    "# result_ttest = welchs_ttest_with_ci(test, \"orders_post\")\n",
    "\n",
    "# # Recalculate standard error using same logic as in your function\n",
    "# group_a = test[test[\"is_customer_holdout\"] == False][\"orders_post\"].values\n",
    "# group_b = test[test[\"is_customer_holdout\"] == True][\"orders_post\"].values\n",
    "\n",
    "# se_diff = np.sqrt(np.var(group_a, ddof=1) / len(group_a) + np.var(group_b, ddof=1) / len(group_b))\n",
    "\n",
    "# # Now plot\n",
    "# plot_ttest_distribution(\n",
    "#     observed_diff=result_ttest[\"observed_diff\"],\n",
    "#     se_diff=se_diff,\n",
    "#     ci=result_ttest[\"ci\"],\n",
    "#     alpha=0.05\n",
    "# )\n"
   ]
  },
  {
   "cell_type": "code",
   "execution_count": 74,
   "metadata": {},
   "outputs": [],
   "source": [
    "# plot_bootstrap_distribution(a)\n"
   ]
  },
  {
   "cell_type": "code",
   "execution_count": 73,
   "metadata": {},
   "outputs": [],
   "source": [
    "# cleaned_cumm_df[(cleaned_cumm_df['entity_id'] == 'PY_DO') & (cleaned_cumm_df['entity_id'] == 'PY_DO')]"
   ]
  },
  {
   "cell_type": "code",
   "execution_count": 72,
   "metadata": {},
   "outputs": [],
   "source": [
    "# # Example: conversion rates in two groups\n",
    "# a = cleaned_cumm_df[(cleaned_cumm_df['entity_id'] == 'PY_DO') & (cleaned_cumm_df['is_customer_holdout'] == True)]['orders_post']\n",
    "# b = cleaned_cumm_df[(cleaned_cumm_df['entity_id'] == 'PY_DO') & (cleaned_cumm_df['is_customer_holdout'] == False)]['orders_post']\n",
    "\n",
    "# result = bootstrap_ttest(a, b)\n",
    "\n",
    "# print(f\"Observed diff: {result['observed_diff']:.4f}\")\n",
    "# print(f\"P-value: {result['p_value']:.4f}\")\n",
    "# print(f\"95% CI: {result['ci']}\")"
   ]
  },
  {
   "cell_type": "code",
   "execution_count": 71,
   "metadata": {},
   "outputs": [],
   "source": [
    "# import matplotlib.pyplot as plt\n",
    "# import seaborn as sns\n",
    "\n",
    "# sns.histplot(result[\"boot_diffs\"], bins=50, kde=True)\n",
    "# plt.axvline(result[\"observed_diff\"], color='red', linestyle='--', label='Observed Diff')\n",
    "# plt.title(\"Bootstrapped Distribution of Difference in Means\")\n",
    "# plt.xlabel(\"Difference in Means\")\n",
    "# plt.legend()\n",
    "# plt.show()"
   ]
  },
  {
   "cell_type": "code",
   "execution_count": 88,
   "metadata": {},
   "outputs": [],
   "source": [
    "# ## Define the list of entities that have data in marketing tables ## \n",
    "# ## --> rest of the data is extracted from DPS with condition not in the following entities ##\n",
    "\n",
    "# # mkt_entity_id = tuple(set((\n",
    "# #     'FP_PK','PY_DO','PY_BO', 'FP_TW', \n",
    "# #     'PY_PY', 'DJ_CZ', 'PY_EC','MJM_AT' ,'PY_PE', 'PY_AR',\n",
    "# #     'PY_GT','PY_SV' ,'FP_PH','PY_NI' ,'NP_HU' ,'FP_MM','EF_GR',\n",
    "# #     'AP_PA','YS_TR', 'PY_UY' ,'OP_SE' ,'PY_CL' ,'FP_BD' ,'FP_SG',\n",
    "# #     'FO_NO' ,'PY_CR', 'FP_LA','PY_HN', 'FP_MY' ,'FP_TH', 'FY_CY',\n",
    "# #     'PY_VE','PO_FI','TB_QA','TB_OM','TB_KW','TB_JO','TB_IQ',\n",
    "# #     'TB_BH','TB_AE','HS_SA'\n",
    "# # )))\n",
    "\n",
    "# mkt_entity_id = (\n",
    "#     'FP_PK','PY_DO'\n",
    "# )\n",
    "\n",
    "\n",
    "# client = initialize_bigquery_client(project)\n",
    "\n",
    "# final_df = pd.DataFrame()  # Empty DataFrame to store the results\n",
    "\n",
    "# for m in week_mondays:\n",
    "#     print(f\"Querying for week starting {m}\")\n",
    "    \n",
    "#     # Run your query\n",
    "#     test = client.query(marketing_data(mkt_entity_id, m)).to_dataframe()\n",
    "\n",
    "#     # Add the as_of_date column\n",
    "#     test[\"as_of_date\"] = m\n",
    "\n",
    "#     # Append to the final dataframe\n",
    "#     final_df = pd.concat([final_df, test], ignore_index=True)"
   ]
  },
  {
   "cell_type": "code",
   "execution_count": 89,
   "metadata": {},
   "outputs": [],
   "source": [
    "# get_cumm_data(project, mkt_entity_id, week_mondays)"
   ]
  },
  {
   "cell_type": "code",
   "execution_count": 70,
   "metadata": {},
   "outputs": [],
   "source": [
    "# week_mondays"
   ]
  },
  {
   "cell_type": "code",
   "execution_count": 70,
   "metadata": {},
   "outputs": [],
   "source": [
    "# extract_data(project, get_marketing_data(mkt_entity_id, '2025-02-03'), get_dps_data(mkt_entity_id, '2025-02-03'))"
   ]
  },
  {
   "cell_type": "code",
   "execution_count": 71,
   "metadata": {},
   "outputs": [],
   "source": [
    "# a = fill_nans(final_df)"
   ]
  },
  {
   "cell_type": "code",
   "execution_count": 72,
   "metadata": {},
   "outputs": [],
   "source": [
    "# b = drop_users_with_no_data(a)"
   ]
  },
  {
   "cell_type": "code",
   "execution_count": 73,
   "metadata": {},
   "outputs": [],
   "source": [
    "# b"
   ]
  },
  {
   "cell_type": "code",
   "execution_count": 74,
   "metadata": {},
   "outputs": [],
   "source": [
    "# c = b[b['as_of_date'] == date(2025, 2, 3)]\n"
   ]
  },
  {
   "cell_type": "code",
   "execution_count": 75,
   "metadata": {},
   "outputs": [],
   "source": [
    "# d = c[c['entity_id'] == 'FP_PK']"
   ]
  },
  {
   "cell_type": "code",
   "execution_count": 76,
   "metadata": {},
   "outputs": [],
   "source": [
    "# d.describe()"
   ]
  },
  {
   "cell_type": "markdown",
   "metadata": {},
   "source": []
  },
  {
   "cell_type": "markdown",
   "metadata": {},
   "source": []
  },
  {
   "cell_type": "code",
   "execution_count": 69,
   "metadata": {},
   "outputs": [],
   "source": [
    "# d[d['orders_pre'] < ]['orders_pre'].hist()"
   ]
  },
  {
   "cell_type": "code",
   "execution_count": 67,
   "metadata": {},
   "outputs": [],
   "source": [
    "# d[d['orders_post'] > 100]"
   ]
  },
  {
   "cell_type": "code",
   "execution_count": 68,
   "metadata": {},
   "outputs": [],
   "source": [
    "# df = drop_users_with_no_data(raw_data)"
   ]
  },
  {
   "cell_type": "code",
   "execution_count": null,
   "metadata": {},
   "outputs": [],
   "source": []
  }
 ],
 "metadata": {
  "kernelspec": {
   "display_name": "venv_bayesian",
   "language": "python",
   "name": "python3"
  },
  "language_info": {
   "codemirror_mode": {
    "name": "ipython",
    "version": 3
   },
   "file_extension": ".py",
   "mimetype": "text/x-python",
   "name": "python",
   "nbconvert_exporter": "python",
   "pygments_lexer": "ipython3",
   "version": "3.13.2"
  }
 },
 "nbformat": 4,
 "nbformat_minor": 2
}
