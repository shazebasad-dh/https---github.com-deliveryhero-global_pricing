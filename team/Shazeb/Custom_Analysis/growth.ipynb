{
 "cells": [
  {
   "cell_type": "code",
   "execution_count": null,
   "metadata": {},
   "outputs": [],
   "source": [
    "\n",
    "def orders_by_vendors():\n",
    "\n",
    "    query = f\"\"\"\n",
    "    select date_trunc('Month',placed_at) \n",
    "        ,global_entity_id\n",
    "        ,country_code\n",
    "        ,coalesce(chain_name, vendor_name)\n",
    "        ,count (distinct order_id) total_orders\n",
    "    from (\n",
    "    SELECT\n",
    "    o.global_entity_id\n",
    "    ,o.country_code\n",
    "    ,o.order_id\n",
    "    ,o.vendor_id\n",
    "    ,items.name item_name\n",
    "    ,items.quantity\n",
    "    ,items.unit_price_eur\n",
    "    ,v.name vendor_name\n",
    "    ,v.chain.name chain_name\n",
    "    ,payment.payment_method\n",
    "    FROM\n",
    "    `fulfillment-dwh-production.curated_data_shared_coredata_business.orders` o , UNNEST(items) AS items\n",
    "    left join  `fulfillment-dwh-production.cl._all_vendors` v on v.vendor_code = o.vendor_id and o.global_entity_id = v.entity_id \n",
    "    where partition_date_local between '2024-06-01' and '2024-06-30'\n",
    "    --and o.global_entity_id = 'MJM_AT'\n",
    "    and o.vertical_type = 'restaurants'\n",
    "    --and o.order_id = 'j6es-2423-175e'\n",
    "    )\n",
    "    group by 1,2,3\n",
    "    order by global_entity_id,country_code, total_orders desc\n",
    "    \"\"\"\n",
    "\n",
    "    return query"
   ]
  }
 ],
 "metadata": {
  "language_info": {
   "name": "python"
  }
 },
 "nbformat": 4,
 "nbformat_minor": 2
}
