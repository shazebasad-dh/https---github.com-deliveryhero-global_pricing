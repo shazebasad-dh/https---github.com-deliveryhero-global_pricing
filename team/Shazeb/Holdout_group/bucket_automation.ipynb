{
 "cells": [
  {
   "cell_type": "code",
   "execution_count": 2,
   "metadata": {},
   "outputs": [
    {
     "name": "stdout",
     "output_type": "stream",
     "text": [
      "Requirement already satisfied: fastparquet in /Users/shazeb.asad/global_pricing/.venv/lib/python3.12/site-packages (2024.11.0)\n",
      "Requirement already satisfied: google-cloud-storage in /Users/shazeb.asad/global_pricing/.venv/lib/python3.12/site-packages (2.18.2)\n",
      "Requirement already satisfied: pandas in /Users/shazeb.asad/global_pricing/.venv/lib/python3.12/site-packages (2.2.2)\n",
      "Requirement already satisfied: numpy in /Users/shazeb.asad/global_pricing/.venv/lib/python3.12/site-packages (from fastparquet) (1.26.4)\n",
      "Requirement already satisfied: cramjam>=2.3 in /Users/shazeb.asad/global_pricing/.venv/lib/python3.12/site-packages (from fastparquet) (2.9.1)\n",
      "Requirement already satisfied: fsspec in /Users/shazeb.asad/global_pricing/.venv/lib/python3.12/site-packages (from fastparquet) (2024.6.1)\n",
      "Requirement already satisfied: packaging in /Users/shazeb.asad/global_pricing/.venv/lib/python3.12/site-packages (from fastparquet) (24.1)\n",
      "Requirement already satisfied: google-auth<3.0dev,>=2.26.1 in /Users/shazeb.asad/global_pricing/.venv/lib/python3.12/site-packages (from google-cloud-storage) (2.32.0)\n",
      "Requirement already satisfied: google-api-core<3.0.0dev,>=2.15.0 in /Users/shazeb.asad/global_pricing/.venv/lib/python3.12/site-packages (from google-cloud-storage) (2.19.1)\n",
      "Requirement already satisfied: google-cloud-core<3.0dev,>=2.3.0 in /Users/shazeb.asad/global_pricing/.venv/lib/python3.12/site-packages (from google-cloud-storage) (2.4.1)\n",
      "Requirement already satisfied: google-resumable-media>=2.7.2 in /Users/shazeb.asad/global_pricing/.venv/lib/python3.12/site-packages (from google-cloud-storage) (2.7.2)\n",
      "Requirement already satisfied: requests<3.0.0dev,>=2.18.0 in /Users/shazeb.asad/global_pricing/.venv/lib/python3.12/site-packages (from google-cloud-storage) (2.32.3)\n",
      "Requirement already satisfied: google-crc32c<2.0dev,>=1.0 in /Users/shazeb.asad/global_pricing/.venv/lib/python3.12/site-packages (from google-cloud-storage) (1.5.0)\n",
      "Requirement already satisfied: python-dateutil>=2.8.2 in /Users/shazeb.asad/global_pricing/.venv/lib/python3.12/site-packages (from pandas) (2.9.0.post0)\n",
      "Requirement already satisfied: pytz>=2020.1 in /Users/shazeb.asad/global_pricing/.venv/lib/python3.12/site-packages (from pandas) (2024.1)\n",
      "Requirement already satisfied: tzdata>=2022.7 in /Users/shazeb.asad/global_pricing/.venv/lib/python3.12/site-packages (from pandas) (2024.1)\n",
      "Requirement already satisfied: googleapis-common-protos<2.0.dev0,>=1.56.2 in /Users/shazeb.asad/global_pricing/.venv/lib/python3.12/site-packages (from google-api-core<3.0.0dev,>=2.15.0->google-cloud-storage) (1.63.2)\n",
      "Requirement already satisfied: protobuf!=3.20.0,!=3.20.1,!=4.21.0,!=4.21.1,!=4.21.2,!=4.21.3,!=4.21.4,!=4.21.5,<6.0.0.dev0,>=3.19.5 in /Users/shazeb.asad/global_pricing/.venv/lib/python3.12/site-packages (from google-api-core<3.0.0dev,>=2.15.0->google-cloud-storage) (5.29.3)\n",
      "Requirement already satisfied: proto-plus<2.0.0dev,>=1.22.3 in /Users/shazeb.asad/global_pricing/.venv/lib/python3.12/site-packages (from google-api-core<3.0.0dev,>=2.15.0->google-cloud-storage) (1.24.0)\n",
      "Requirement already satisfied: cachetools<6.0,>=2.0.0 in /Users/shazeb.asad/global_pricing/.venv/lib/python3.12/site-packages (from google-auth<3.0dev,>=2.26.1->google-cloud-storage) (5.4.0)\n",
      "Requirement already satisfied: pyasn1-modules>=0.2.1 in /Users/shazeb.asad/global_pricing/.venv/lib/python3.12/site-packages (from google-auth<3.0dev,>=2.26.1->google-cloud-storage) (0.4.0)\n",
      "Requirement already satisfied: rsa<5,>=3.1.4 in /Users/shazeb.asad/global_pricing/.venv/lib/python3.12/site-packages (from google-auth<3.0dev,>=2.26.1->google-cloud-storage) (4.9)\n",
      "Requirement already satisfied: six>=1.5 in /Users/shazeb.asad/global_pricing/.venv/lib/python3.12/site-packages (from python-dateutil>=2.8.2->pandas) (1.16.0)\n",
      "Requirement already satisfied: charset-normalizer<4,>=2 in /Users/shazeb.asad/global_pricing/.venv/lib/python3.12/site-packages (from requests<3.0.0dev,>=2.18.0->google-cloud-storage) (3.3.2)\n",
      "Requirement already satisfied: idna<4,>=2.5 in /Users/shazeb.asad/global_pricing/.venv/lib/python3.12/site-packages (from requests<3.0.0dev,>=2.18.0->google-cloud-storage) (3.7)\n",
      "Requirement already satisfied: urllib3<3,>=1.21.1 in /Users/shazeb.asad/global_pricing/.venv/lib/python3.12/site-packages (from requests<3.0.0dev,>=2.18.0->google-cloud-storage) (2.2.2)\n",
      "Requirement already satisfied: certifi>=2017.4.17 in /Users/shazeb.asad/global_pricing/.venv/lib/python3.12/site-packages (from requests<3.0.0dev,>=2.18.0->google-cloud-storage) (2024.7.4)\n",
      "Requirement already satisfied: pyasn1<0.7.0,>=0.4.6 in /Users/shazeb.asad/global_pricing/.venv/lib/python3.12/site-packages (from pyasn1-modules>=0.2.1->google-auth<3.0dev,>=2.26.1->google-cloud-storage) (0.6.0)\n",
      "\n",
      "\u001b[1m[\u001b[0m\u001b[34;49mnotice\u001b[0m\u001b[1;39;49m]\u001b[0m\u001b[39;49m A new release of pip is available: \u001b[0m\u001b[31;49m24.2\u001b[0m\u001b[39;49m -> \u001b[0m\u001b[32;49m25.0.1\u001b[0m\n",
      "\u001b[1m[\u001b[0m\u001b[34;49mnotice\u001b[0m\u001b[1;39;49m]\u001b[0m\u001b[39;49m To update, run: \u001b[0m\u001b[32;49mpip install --upgrade pip\u001b[0m\n",
      "✅ Data saved as Parquet locally.\n"
     ]
    },
    {
     "name": "stderr",
     "output_type": "stream",
     "text": [
      "/Users/shazeb.asad/global_pricing/.venv/lib/python3.12/site-packages/google/auth/_default.py:76: UserWarning: Your application has authenticated using end user credentials from Google Cloud SDK without a quota project. You might receive a \"quota exceeded\" or \"API not enabled\" error. See the following page for troubleshooting: https://cloud.google.com/docs/authentication/adc-troubleshooting/user-creds. \n",
      "  warnings.warn(_CLOUD_SDK_CREDENTIALS_WARNING)\n"
     ]
    },
    {
     "ename": "OSError",
     "evalue": "Project was not passed and could not be determined from the environment.",
     "output_type": "error",
     "traceback": [
      "\u001b[0;31m---------------------------------------------------------------------------\u001b[0m",
      "\u001b[0;31mOSError\u001b[0m                                   Traceback (most recent call last)",
      "Cell \u001b[0;32mIn[2], line 35\u001b[0m\n\u001b[1;32m     32\u001b[0m     blob\u001b[38;5;241m.\u001b[39mupload_from_filename(local_file)\n\u001b[1;32m     33\u001b[0m     \u001b[38;5;28mprint\u001b[39m(\u001b[38;5;124mf\u001b[39m\u001b[38;5;124m\"\u001b[39m\u001b[38;5;124m✅ \u001b[39m\u001b[38;5;132;01m{\u001b[39;00mlocal_file\u001b[38;5;132;01m}\u001b[39;00m\u001b[38;5;124m uploaded to GCS: gs://\u001b[39m\u001b[38;5;132;01m{\u001b[39;00mbucket_name\u001b[38;5;132;01m}\u001b[39;00m\u001b[38;5;124m/\u001b[39m\u001b[38;5;132;01m{\u001b[39;00mdestination_blob\u001b[38;5;132;01m}\u001b[39;00m\u001b[38;5;124m\"\u001b[39m)\n\u001b[0;32m---> 35\u001b[0m \u001b[43mupload_to_gcs\u001b[49m\u001b[43m(\u001b[49m\u001b[43mPARQUET_FILE\u001b[49m\u001b[43m,\u001b[49m\u001b[43m \u001b[49m\u001b[43mGCS_BUCKET_NAME\u001b[49m\u001b[43m,\u001b[49m\u001b[43m \u001b[49m\u001b[43mGCS_PARQUET_PATH\u001b[49m\u001b[43m)\u001b[49m\n",
      "Cell \u001b[0;32mIn[2], line 28\u001b[0m, in \u001b[0;36mupload_to_gcs\u001b[0;34m(local_file, bucket_name, destination_blob)\u001b[0m\n\u001b[1;32m     26\u001b[0m \u001b[38;5;28;01mdef\u001b[39;00m \u001b[38;5;21mupload_to_gcs\u001b[39m(local_file, bucket_name, destination_blob):\n\u001b[1;32m     27\u001b[0m \u001b[38;5;250m    \u001b[39m\u001b[38;5;124;03m\"\"\"Uploads a file to Google Cloud Storage.\"\"\"\u001b[39;00m\n\u001b[0;32m---> 28\u001b[0m     storage_client \u001b[38;5;241m=\u001b[39m \u001b[43mstorage\u001b[49m\u001b[38;5;241;43m.\u001b[39;49m\u001b[43mClient\u001b[49m\u001b[43m(\u001b[49m\u001b[43m)\u001b[49m\n\u001b[1;32m     29\u001b[0m     bucket \u001b[38;5;241m=\u001b[39m storage_client\u001b[38;5;241m.\u001b[39mbucket(bucket_name)\n\u001b[1;32m     30\u001b[0m     blob \u001b[38;5;241m=\u001b[39m bucket\u001b[38;5;241m.\u001b[39mblob(destination_blob)\n",
      "File \u001b[0;32m~/global_pricing/.venv/lib/python3.12/site-packages/google/cloud/storage/client.py:227\u001b[0m, in \u001b[0;36mClient.__init__\u001b[0;34m(self, project, credentials, _http, client_info, client_options, use_auth_w_custom_endpoint, extra_headers)\u001b[0m\n\u001b[1;32m    224\u001b[0m             no_project \u001b[38;5;241m=\u001b[39m \u001b[38;5;28;01mTrue\u001b[39;00m\n\u001b[1;32m    225\u001b[0m             project \u001b[38;5;241m=\u001b[39m \u001b[38;5;124m\"\u001b[39m\u001b[38;5;124m<none>\u001b[39m\u001b[38;5;124m\"\u001b[39m\n\u001b[0;32m--> 227\u001b[0m \u001b[38;5;28;43msuper\u001b[39;49m\u001b[43m(\u001b[49m\u001b[43mClient\u001b[49m\u001b[43m,\u001b[49m\u001b[43m \u001b[49m\u001b[38;5;28;43mself\u001b[39;49m\u001b[43m)\u001b[49m\u001b[38;5;241;43m.\u001b[39;49m\u001b[38;5;21;43m__init__\u001b[39;49m\u001b[43m(\u001b[49m\n\u001b[1;32m    228\u001b[0m \u001b[43m    \u001b[49m\u001b[43mproject\u001b[49m\u001b[38;5;241;43m=\u001b[39;49m\u001b[43mproject\u001b[49m\u001b[43m,\u001b[49m\n\u001b[1;32m    229\u001b[0m \u001b[43m    \u001b[49m\u001b[43mcredentials\u001b[49m\u001b[38;5;241;43m=\u001b[39;49m\u001b[43mcredentials\u001b[49m\u001b[43m,\u001b[49m\n\u001b[1;32m    230\u001b[0m \u001b[43m    \u001b[49m\u001b[43mclient_options\u001b[49m\u001b[38;5;241;43m=\u001b[39;49m\u001b[43mclient_options\u001b[49m\u001b[43m,\u001b[49m\n\u001b[1;32m    231\u001b[0m \u001b[43m    \u001b[49m\u001b[43m_http\u001b[49m\u001b[38;5;241;43m=\u001b[39;49m\u001b[43m_http\u001b[49m\u001b[43m,\u001b[49m\n\u001b[1;32m    232\u001b[0m \u001b[43m\u001b[49m\u001b[43m)\u001b[49m\n\u001b[1;32m    234\u001b[0m \u001b[38;5;66;03m# Validate that the universe domain of the credentials matches the\u001b[39;00m\n\u001b[1;32m    235\u001b[0m \u001b[38;5;66;03m# universe domain of the client.\u001b[39;00m\n\u001b[1;32m    236\u001b[0m \u001b[38;5;28;01mif\u001b[39;00m \u001b[38;5;28mself\u001b[39m\u001b[38;5;241m.\u001b[39m_credentials\u001b[38;5;241m.\u001b[39muniverse_domain \u001b[38;5;241m!=\u001b[39m \u001b[38;5;28mself\u001b[39m\u001b[38;5;241m.\u001b[39muniverse_domain:\n",
      "File \u001b[0;32m~/global_pricing/.venv/lib/python3.12/site-packages/google/cloud/client/__init__.py:320\u001b[0m, in \u001b[0;36mClientWithProject.__init__\u001b[0;34m(self, project, credentials, client_options, _http)\u001b[0m\n\u001b[1;32m    319\u001b[0m \u001b[38;5;28;01mdef\u001b[39;00m \u001b[38;5;21m__init__\u001b[39m(\u001b[38;5;28mself\u001b[39m, project\u001b[38;5;241m=\u001b[39m\u001b[38;5;28;01mNone\u001b[39;00m, credentials\u001b[38;5;241m=\u001b[39m\u001b[38;5;28;01mNone\u001b[39;00m, client_options\u001b[38;5;241m=\u001b[39m\u001b[38;5;28;01mNone\u001b[39;00m, _http\u001b[38;5;241m=\u001b[39m\u001b[38;5;28;01mNone\u001b[39;00m):\n\u001b[0;32m--> 320\u001b[0m     \u001b[43m_ClientProjectMixin\u001b[49m\u001b[38;5;241;43m.\u001b[39;49m\u001b[38;5;21;43m__init__\u001b[39;49m\u001b[43m(\u001b[49m\u001b[38;5;28;43mself\u001b[39;49m\u001b[43m,\u001b[49m\u001b[43m \u001b[49m\u001b[43mproject\u001b[49m\u001b[38;5;241;43m=\u001b[39;49m\u001b[43mproject\u001b[49m\u001b[43m,\u001b[49m\u001b[43m \u001b[49m\u001b[43mcredentials\u001b[49m\u001b[38;5;241;43m=\u001b[39;49m\u001b[43mcredentials\u001b[49m\u001b[43m)\u001b[49m\n\u001b[1;32m    321\u001b[0m     Client\u001b[38;5;241m.\u001b[39m\u001b[38;5;21m__init__\u001b[39m(\n\u001b[1;32m    322\u001b[0m         \u001b[38;5;28mself\u001b[39m, credentials\u001b[38;5;241m=\u001b[39mcredentials, client_options\u001b[38;5;241m=\u001b[39mclient_options, _http\u001b[38;5;241m=\u001b[39m_http\n\u001b[1;32m    323\u001b[0m     )\n",
      "File \u001b[0;32m~/global_pricing/.venv/lib/python3.12/site-packages/google/cloud/client/__init__.py:271\u001b[0m, in \u001b[0;36m_ClientProjectMixin.__init__\u001b[0;34m(self, project, credentials)\u001b[0m\n\u001b[1;32m    268\u001b[0m     project \u001b[38;5;241m=\u001b[39m \u001b[38;5;28mself\u001b[39m\u001b[38;5;241m.\u001b[39m_determine_default(project)\n\u001b[1;32m    270\u001b[0m \u001b[38;5;28;01mif\u001b[39;00m project \u001b[38;5;129;01mis\u001b[39;00m \u001b[38;5;28;01mNone\u001b[39;00m:\n\u001b[0;32m--> 271\u001b[0m     \u001b[38;5;28;01mraise\u001b[39;00m \u001b[38;5;167;01mEnvironmentError\u001b[39;00m(\n\u001b[1;32m    272\u001b[0m         \u001b[38;5;124m\"\u001b[39m\u001b[38;5;124mProject was not passed and could not be \u001b[39m\u001b[38;5;124m\"\u001b[39m\n\u001b[1;32m    273\u001b[0m         \u001b[38;5;124m\"\u001b[39m\u001b[38;5;124mdetermined from the environment.\u001b[39m\u001b[38;5;124m\"\u001b[39m\n\u001b[1;32m    274\u001b[0m     )\n\u001b[1;32m    276\u001b[0m \u001b[38;5;28;01mif\u001b[39;00m \u001b[38;5;28misinstance\u001b[39m(project, \u001b[38;5;28mbytes\u001b[39m):\n\u001b[1;32m    277\u001b[0m     project \u001b[38;5;241m=\u001b[39m project\u001b[38;5;241m.\u001b[39mdecode(\u001b[38;5;124m\"\u001b[39m\u001b[38;5;124mutf-8\u001b[39m\u001b[38;5;124m\"\u001b[39m)\n",
      "\u001b[0;31mOSError\u001b[0m: Project was not passed and could not be determined from the environment."
     ]
    }
   ],
   "source": [
    "!pip install fastparquet google-cloud-storage pandas\n",
    "\n",
    "import pandas as pd\n",
    "import fastparquet as fp\n",
    "from google.cloud import storage\n",
    "\n",
    "# Set up Google Cloud Storage details\n",
    "GCS_BUCKET_NAME = \"holdout_data\"\n",
    "PARQUET_FILE = \"data.parquet\"  # Local file name\n",
    "GCS_PARQUET_PATH = \"parquet_files/data.parquet\"  # GCS destination path\n",
    "\n",
    "# Sample DataFrame\n",
    "data = {\n",
    "    \"id\": [1, 2, 3],\n",
    "    \"name\": [\"Alice\", \"Bob\", \"Charlie\"],\n",
    "    \"score\": [95, 89, 76]\n",
    "}\n",
    "df = pd.DataFrame(data)\n",
    "\n",
    "# 🔹 Save DataFrame to a Parquet file using fastparquet\n",
    "fp.write(PARQUET_FILE, df, compression=\"snappy\")\n",
    "\n",
    "print(\"✅ Data saved as Parquet locally.\")\n",
    "\n",
    "# 🔹 Step 3: Upload Parquet File to Google Cloud Storage\n",
    "def upload_to_gcs(local_file, bucket_name, destination_blob):\n",
    "    \"\"\"Uploads a file to Google Cloud Storage.\"\"\"\n",
    "    storage_client = storage.Client()\n",
    "    bucket = storage_client.bucket(bucket_name)\n",
    "    blob = bucket.blob(destination_blob)\n",
    "    \n",
    "    blob.upload_from_filename(local_file)\n",
    "    print(f\"✅ {local_file} uploaded to GCS: gs://{bucket_name}/{destination_blob}\")\n",
    "\n",
    "upload_to_gcs(PARQUET_FILE, GCS_BUCKET_NAME, GCS_PARQUET_PATH)\n"
   ]
  },
  {
   "cell_type": "code",
   "execution_count": null,
   "metadata": {},
   "outputs": [],
   "source": [
    "def read_parquet_from_gcs(bucket_name, parquet_path):\n",
    "    \"\"\"Downloads a Parquet file from GCS and loads it into a Pandas DataFrame.\"\"\"\n",
    "    storage_client = storage.Client()\n",
    "    bucket = storage_client.bucket(bucket_name)\n",
    "    blob = bucket.blob(parquet_path)\n",
    "    \n",
    "    # Download Parquet file\n",
    "    blob.download_to_filename(\"temp.parquet\")\n",
    "    \n",
    "    # Read using fastparquet\n",
    "    df = fp.ParquetFile(\"temp.parquet\").to_pandas()\n",
    "    \n",
    "    print(\"✅ Parquet file read from GCS successfully.\")\n",
    "    return df\n",
    "\n",
    "# Fetch and display the data\n",
    "df_from_gcs = read_parquet_from_gcs(GCS_BUCKET_NAME, GCS_PARQUET_PATH)\n",
    "print(df_from_gcs)\n"
   ]
  },
  {
   "cell_type": "code",
   "execution_count": 7,
   "metadata": {},
   "outputs": [
    {
     "name": "stderr",
     "output_type": "stream",
     "text": [
      "/Users/shazeb.asad/global_pricing/.venv/lib/python3.12/site-packages/google/auth/_default.py:76: UserWarning: Your application has authenticated using end user credentials from Google Cloud SDK without a quota project. You might receive a \"quota exceeded\" or \"API not enabled\" error. See the following page for troubleshooting: https://cloud.google.com/docs/authentication/adc-troubleshooting/user-creds. \n",
      "  warnings.warn(_CLOUD_SDK_CREDENTIALS_WARNING)\n"
     ]
    },
    {
     "name": "stdout",
     "output_type": "stream",
     "text": [
      "✅ Connected to GCS bucket: holdout_data\n",
      "✅ Parquet file saved locally.\n",
      "✅ data.parquet uploaded to GCS: gs://holdout_data/parquet_files/data.parquet\n"
     ]
    }
   ],
   "source": [
    "import pandas as pd\n",
    "import fastparquet as fp\n",
    "from google.cloud import storage\n",
    "\n",
    "# 🔹 Define your GCS bucket details\n",
    "GCS_BUCKET_NAME = \"holdout_data\"\n",
    "PROJECT_ID = \"logistics-data-storage-staging\"  # Replace with your actual GCP project ID\n",
    "LOCAL_PARQUET_FILE = \"data.parquet\"  # Parquet file to upload\n",
    "GCS_PARQUET_PATH = \"parquet_files/data.parquet\"  # Destination in GCS\n",
    "\n",
    "# 🔹 Initialize Google Cloud Storage client\n",
    "storage_client = storage.Client(project=PROJECT_ID)\n",
    "\n",
    "# 🔹 Connect to the bucket\n",
    "bucket = storage_client.bucket(GCS_BUCKET_NAME)\n",
    "print(f\"✅ Connected to GCS bucket: {bucket.name}\")\n",
    "\n",
    "# 🔹 Sample DataFrame\n",
    "data = {\n",
    "    \"id\": [1, 2, 3],\n",
    "    \"name\": [\"Alice\", \"Bob\", \"Charlie\"],\n",
    "    \"score\": [95, 89, 76]\n",
    "}\n",
    "df = pd.DataFrame(data)\n",
    "\n",
    "# 🔹 Save DataFrame as a Parquet file using fastparquet\n",
    "fp.write(LOCAL_PARQUET_FILE, df, compression=\"snappy\")\n",
    "print(\"✅ Parquet file saved locally.\")\n",
    "\n",
    "# 🔹 Function to upload Parquet file to GCS\n",
    "def upload_parquet_to_gcs(local_file, bucket, destination_blob):\n",
    "    \"\"\"Uploads a Parquet file to Google Cloud Storage.\"\"\"\n",
    "    blob = bucket.blob(destination_blob)\n",
    "    blob.upload_from_filename(local_file)\n",
    "    print(f\"✅ {local_file} uploaded to GCS: gs://{bucket.name}/{destination_blob}\")\n",
    "\n",
    "# 🔹 Upload the Parquet file to GCS\n",
    "upload_parquet_to_gcs(LOCAL_PARQUET_FILE, bucket, GCS_PARQUET_PATH)\n",
    "\n"
   ]
  },
  {
   "cell_type": "code",
   "execution_count": 8,
   "metadata": {},
   "outputs": [
    {
     "name": "stderr",
     "output_type": "stream",
     "text": [
      "/Users/shazeb.asad/global_pricing/.venv/lib/python3.12/site-packages/google/auth/_default.py:76: UserWarning: Your application has authenticated using end user credentials from Google Cloud SDK without a quota project. You might receive a \"quota exceeded\" or \"API not enabled\" error. See the following page for troubleshooting: https://cloud.google.com/docs/authentication/adc-troubleshooting/user-creds. \n",
      "  warnings.warn(_CLOUD_SDK_CREDENTIALS_WARNING)\n"
     ]
    },
    {
     "name": "stdout",
     "output_type": "stream",
     "text": [
      "✅ Connected to GCS bucket: holdout_data\n",
      "✅ Parquet data uploaded directly to GCS: gs://holdout_data/parquet_files/data.parquet\n"
     ]
    }
   ],
   "source": [
    "import pandas as pd\n",
    "import fastparquet as fp\n",
    "from google.cloud import storage\n",
    "import io\n",
    "\n",
    "# 🔹 Define your GCS bucket details\n",
    "GCS_BUCKET_NAME = \"holdout_data\"\n",
    "PROJECT_ID = \"logistics-data-storage-staging\"  # Replace with your actual GCP project ID\n",
    "GCS_PARQUET_PATH = \"parquet_files/data.parquet\"  # Destination in GCS\n",
    "\n",
    "# 🔹 Initialize Google Cloud Storage client\n",
    "storage_client = storage.Client(project=PROJECT_ID)\n",
    "\n",
    "# 🔹 Connect to the bucket\n",
    "bucket = storage_client.bucket(GCS_BUCKET_NAME)\n",
    "print(f\"✅ Connected to GCS bucket: {bucket.name}\")\n",
    "\n",
    "# 🔹 Sample DataFrame (Replace with your actual data)\n",
    "raw_data = pd.DataFrame({\n",
    "    \"id\": [1, 2, 3],\n",
    "    \"name\": [\"Alice\", \"Bob\", \"Charlie\"],\n",
    "    \"score\": [95, 89, 76]\n",
    "})\n",
    "\n",
    "# 🔹 Convert DataFrame to a Parquet file in memory (without saving to disk)\n",
    "parquet_buffer = io.BytesIO()\n",
    "fp.write(parquet_buffer, raw_data, compression=\"snappy\")\n",
    "parquet_buffer.seek(0)  # Reset buffer position\n",
    "\n",
    "# 🔹 Upload Parquet directly to GCS\n",
    "def upload_parquet_to_gcs(buffer, bucket, destination_blob):\n",
    "    \"\"\"Uploads an in-memory Parquet file to Google Cloud Storage.\"\"\"\n",
    "    blob = bucket.blob(destination_blob)\n",
    "    blob.upload_from_file(buffer, content_type=\"application/octet-stream\")\n",
    "    print(f\"✅ Parquet data uploaded directly to GCS: gs://{bucket.name}/{destination_blob}\")\n",
    "\n",
    "# 🔹 Upload the Parquet file to GCS\n",
    "upload_parquet_to_gcs(parquet_buffer, bucket, GCS_PARQUET_PATH)\n"
   ]
  },
  {
   "cell_type": "code",
   "execution_count": null,
   "metadata": {},
   "outputs": [],
   "source": []
  }
 ],
 "metadata": {
  "kernelspec": {
   "display_name": ".venv",
   "language": "python",
   "name": "python3"
  },
  "language_info": {
   "codemirror_mode": {
    "name": "ipython",
    "version": 3
   },
   "file_extension": ".py",
   "mimetype": "text/x-python",
   "name": "python",
   "nbconvert_exporter": "python",
   "pygments_lexer": "ipython3",
   "version": "3.12.4"
  }
 },
 "nbformat": 4,
 "nbformat_minor": 2
}
