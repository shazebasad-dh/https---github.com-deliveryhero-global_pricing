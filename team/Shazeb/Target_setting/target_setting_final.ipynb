{
 "cells": [
  {
   "cell_type": "code",
   "execution_count": 729,
   "metadata": {},
   "outputs": [],
   "source": [
    "import numpy as np\n",
    "import pandas as pd\n",
    "from google.cloud import bigquery\n",
    "import matplotlib.pyplot as plt\n",
    "import seaborn as sns\n",
    "from scipy import stats\n",
    "import plotly.express as px\n",
    "import db_dtypes\n",
    "import bigframes.pandas as bpd\n",
    "from IPython.display import display, HTML\n",
    "import plotly.express as px\n",
    "import seaborn as sns\n",
    "import matplotlib.pyplot as plt\n",
    "import math\n",
    "import statsmodels.api as sm\n",
    "\n",
    "\n",
    "\n",
    "test_data = \"\"\"\n",
    "with users as (\n",
    "SELECT DISTINCT\n",
    "              entity_id,\n",
    "              test_id,\n",
    "              variant,\n",
    "              count(distinct perseus_client_id) users\n",
    "  FROM `fulfillment-dwh-production.curated_data_shared.dps_test_cvr_treatment`\n",
    "  WHERE true\n",
    "    AND created_date >= \"2022-01-01\" and created_date < \"2025-01-01\"\n",
    "    AND entity_id in ('AP_PA', 'PY_AR', 'PY_BO', 'PY_CL', 'PY_CR', 'PY_DO', 'PY_EC', 'PY_GT', 'PY_HN', 'PY_NI', 'PY_PE', 'PY_PY', 'PY_SV', 'PY_UY', 'PY_VE', 'FP_BD', 'FP_HK', 'FP_KH', 'FP_LA', 'FP_MM', 'FP_MY', 'FP_PH', 'FP_PK', 'FP_SG', 'FP_TH', 'FP_TW', 'DJ_CZ', 'FO_NO', 'FP_SK', 'MJM_AT', 'NP_HU', 'OP_SE', 'PO_FI', 'FY_CY', 'EF_GR', 'HS_SA', 'HF_EG', 'TB_AE', 'TB_BH', 'TB_IQ', 'TB_JO', 'TB_KW', 'TB_OM', 'TB_QA', 'YS_TR')\n",
    "  GROUP BY entity_id, test_id, variant\n",
    "), \n",
    "orders as (\n",
    "  SELECT\n",
    "    o.entity_id,\n",
    "    o.test_id,\n",
    "    o.test_variant variant,\n",
    "    c.users users_control,\n",
    "    v.users users_variation,\n",
    "    count(distinct o.platform_order_code) raw_orders,\n",
    "    count(distinct o.platform_order_code) * (c.users / v.users) orders,    \n",
    "    sum(o.fully_loaded_gross_profit_eur * c.users / v.users) flgp_eur,\n",
    "    sum(o.fully_loaded_gross_profit_eur) / count(distinct o.platform_order_code) flgpo_eur\n",
    "  FROM `fulfillment-dwh-production.curated_data_shared.dps_test_orders` o\n",
    "  LEFT JOIN users c ON o.entity_id = c.entity_id AND c.test_id = o.test_id AND c.variant = 'Control'\n",
    "  LEFT JOIN users v ON o.entity_id = v.entity_id AND v.test_id = o.test_id AND v.variant = o.test_variant\n",
    "  WHERE true\n",
    "    AND o.created_date >= \"2022-01-01\" and o.created_date < \"2025-01-01\"\n",
    "    AND o.entity_id in ('AP_PA', 'PY_AR', 'PY_BO', 'PY_CL', 'PY_CR', 'PY_DO', 'PY_EC', 'PY_GT', 'PY_HN', 'PY_NI', 'PY_PE', 'PY_PY', 'PY_SV', 'PY_UY', 'PY_VE', 'FP_BD', 'FP_HK', 'FP_KH', 'FP_LA', 'FP_MM', 'FP_MY', 'FP_PH', 'FP_PK', 'FP_SG', 'FP_TH', 'FP_TW', 'DJ_CZ', 'FO_NO', 'FP_SK', 'MJM_AT', 'NP_HU', 'OP_SE', 'PO_FI', 'FY_CY', 'EF_GR', 'HS_SA', 'HF_EG', 'TB_AE', 'TB_BH', 'TB_IQ', 'TB_JO', 'TB_KW', 'TB_OM', 'TB_QA', 'YS_TR')\n",
    "    AND is_sent = True\n",
    "    AND is_own_delivery = True\n",
    "    AND vendor_vertical_parent in ('Restaurant','restaurant','restaurants')\n",
    "  GROUP BY o.entity_id, o.test_id, o.test_variant,c.users, v.users\n",
    "  HAVING c.users > 0 AND v.users > 0\n",
    "  ORDER BY o.test_id, o.entity_id\n",
    "),  \n",
    "stats as (\n",
    "  SELECT\n",
    "    c.entity_id,\n",
    "    c.test_id,\n",
    "    v.variant variation,\n",
    "    c.users_control,\n",
    "    v.users_variation,\n",
    "    c.raw_orders raw_orders_control,\n",
    "    v.raw_orders raw_orders_variation,\n",
    "    c.orders orders_control,\n",
    "    v.orders orders_variation,\n",
    "    c.flgpo_eur flgpo_eur_control,\n",
    "    v.flgpo_eur flgpo_eur_variation,\n",
    "    c.flgp_eur flgp_eur_control,\n",
    "    v.flgp_eur flgp_eur_variation,\n",
    "    c.flgp_eur / c.users_control flgpu_control,\n",
    "    v.flgp_eur / v.users_control flgpu_variation,\n",
    "    v.orders - c.orders incremental_orders,\n",
    "    v.flgp_eur - c.flgp_eur incremental_profit,\n",
    "    (v.orders - c.orders) / NULLIF(c.orders, null) order_change_pct, \n",
    "    (v.flgp_eur - c.flgp_eur) / NULLIF(c.flgp_eur, 0) profit_change_pct, \n",
    "    c.raw_orders / NULLIF(c.users_control, 0) orders_per_user_control,\n",
    "    v.raw_orders / NULLIF(v.users_variation, 0) orders_per_user_variation, \n",
    "    RANK() OVER (PARTITION BY c.entity_id, c.test_id ORDER BY (v.orders - c.orders) / NULLIF(c.orders, 0) DESC) AS order_rank,\n",
    "    RANK() OVER (PARTITION BY c.entity_id, c.test_id ORDER BY (v.flgp_eur - c.flgp_eur) / NULLIF(c.flgp_eur, 0) DESC) AS profit_rank,\n",
    "    case \n",
    "      when c.orders = v.orders and c.flgpo_eur = v.flgpo_eur\n",
    "      then 'Neutral'\n",
    "      when c.orders <= v.orders and ((c.flgpo_eur <= v.flgpo_eur) or (c.flgp_eur < v.flgp_eur))\n",
    "      then 'Win-Win'\n",
    "      when c.orders >= v.orders and c.flgp_eur >= v.flgp_eur\n",
    "      then 'Lose-Lose'\n",
    "      when c.orders > v.orders and c.flgp_eur < v.flgp_eur\n",
    "      then 'MPOL - Profit at a Cost'\n",
    "      when c.orders < v.orders and c.flgp_eur > v.flgp_eur\n",
    "      then 'CPiO - Growth at a Cost'\n",
    "    end scenario  \n",
    "  FROM orders c\n",
    "  LEFT JOIN orders v ON c.entity_id = v.entity_id AND c.test_id = v.test_id AND v.variant <> 'Control'\n",
    "  WHERE c.variant = 'Control'\n",
    "    AND c.orders > 0\n",
    "    AND v.orders > 0\n",
    "),\n",
    "winning_variants AS (\n",
    "  SELECT\n",
    "    *,\n",
    "    ROW_NUMBER() OVER (\n",
    "    PARTITION BY entity_id, test_id \n",
    "    ORDER BY \n",
    "        CASE WHEN scenario = 'Win-Win' THEN 1 ELSE 2 END, -- Order 'Win-Win' rows first\n",
    "        profit_rank ASC,\n",
    "        order_rank ASC\n",
    "    ) AS final_rank\n",
    "  FROM stats\n",
    "),\n",
    "experiments AS (\n",
    "  SELECT distinct \n",
    "    entity_id,\n",
    "    country_code,\n",
    "    test_id,\n",
    "    test_name,\n",
    "    hypothesis,\n",
    "    objective,\n",
    "    cast(date_trunc(test_start_date, MONTH) as date) start_month,\n",
    "    cast(date_trunc(test_start_date, ISOWEEK) as date) start_week,\n",
    "    cast(date_trunc(test_end_date, MONTH) as date) end_month,\n",
    "    cast(date_trunc(test_end_date, ISOWEEK) as date) end_week,\n",
    "    test_start_date,\n",
    "    test_end_date,\n",
    "    TIMESTAMP_DIFF(IFNULL(test_end_date, CURRENT_TIMESTAMP() - INTERVAL 1 DAY), test_start_date, DAY) test_length,\n",
    "    is_active,\n",
    "    variation_share\n",
    "    --case when test_id = 86 and entity_id = 'PY_SV' then 1 else 0 end check\n",
    "  FROM `fulfillment-dwh-production.curated_data_shared.dps_experiment_setups`\n",
    "  WHERE NOT misconfigured\n",
    "    AND entity_id in ('AP_PA', 'PY_AR', 'PY_BO', 'PY_CL', 'PY_CR', 'PY_DO', 'PY_EC', 'PY_GT', 'PY_HN', 'PY_NI', 'PY_PE', 'PY_PY', 'PY_SV', 'PY_UY', 'PY_VE', 'FP_BD', 'FP_HK', 'FP_KH', 'FP_LA', 'FP_MM', 'FP_MY', 'FP_PH', 'FP_PK', 'FP_SG', 'FP_TH', 'FP_TW', 'DJ_CZ', 'FO_NO', 'FP_SK', 'MJM_AT', 'NP_HU', 'OP_SE', 'PO_FI', 'FY_CY', 'EF_GR', 'HS_SA', 'HF_EG', 'TB_AE', 'TB_BH', 'TB_IQ', 'TB_JO', 'TB_KW', 'TB_OM', 'TB_QA', 'YS_TR')\n",
    "    AND is_already_executed\n",
    "    AND experiment_type = 'AB'\n",
    "    AND test_start_date >= '2022-01-01' and test_start_date < \"2025-01-01\"\n",
    "    AND ('restaurant' IN UNNEST(test_vertical_parents) OR 'Restaurant' IN UNNEST(test_vertical_parents) \n",
    "    OR  'restaurants' IN UNNEST(test_vertical_parents))\n",
    "    AND test_name NOT LIKE '%FDNC%'\n",
    ")\n",
    "SELECT\n",
    "  c.region,\n",
    "  c.brand_name,\n",
    "  c.country_name,\n",
    "  e.*,\n",
    "  w.* except(entity_id, test_id),\n",
    "  w.orders_per_user_variation -  w.orders_per_user_control orders_per_user_incremental,\n",
    "  w.flgpu_variation -  w.flgpu_control flgp_per_user_incremental\n",
    "FROM experiments e\n",
    "INNER JOIN winning_variants w ON e.entity_id = w.entity_id AND e.test_id = w.test_id \n",
    "left join \n",
    "          (\n",
    "            select DISTINCT\n",
    "                    p.entity_id,\n",
    "                    c.country_name,\n",
    "                    c.region,\n",
    "                    p.brand_name\n",
    "            from `fulfillment-dwh-production.cl.countries` c\n",
    "            left join unnest(c.platforms) p\n",
    "          ) c on c.entity_id = e.entity_id\n",
    "--where check = 0\n",
    "ORDER BY e.entity_id, e.test_id\n",
    "\"\"\"\n",
    "\n",
    "\n",
    "\n",
    "seasonal = \"\"\"\n",
    "with session as (\n",
    "SELECT   ss.entity_id\n",
    "        ,EXTRACT(YEAR FROM created_date) AS Year\n",
    "        ,DATE_TRUNC(created_date, MONTH) Month\n",
    "        ,count(distinct sessions.perseus_client_id) total_users\n",
    "FROM `fulfillment-dwh-production.curated_data_shared.dps_sessions_mapped_to_ga_sessions` ss\n",
    "where entity_id in ('AP_PA', 'PY_AR', 'PY_BO', 'PY_CL', 'PY_CR', 'PY_DO', 'PY_EC', 'PY_GT', 'PY_HN', 'PY_NI', 'PY_PE', 'PY_PY', 'PY_SV', 'PY_UY', 'PY_VE', 'FP_BD', 'FP_HK', 'FP_KH', 'FP_LA', 'FP_MM', 'FP_MY', 'FP_PH', 'FP_PK', 'FP_SG', 'FP_TH', 'FP_TW', 'DJ_CZ', 'FO_NO', 'FP_SK', 'MJM_AT', 'NP_HU', 'OP_SE', 'PO_FI', 'FY_CY', 'EF_GR', 'HF_EG', 'TB_AE', 'TB_BH', 'TB_IQ', 'TB_JO', 'TB_KW', 'TB_OM', 'TB_QA', 'YS_TR')\n",
    "and created_date >= '2023-01-01' and created_date <= '2023-05-31'\n",
    "group by 1,2,3\n",
    "UNION ALL\n",
    "SELECT   ss.entity_id\n",
    "        ,EXTRACT(YEAR FROM created_date) AS Year\n",
    "        ,DATE_TRUNC(created_date, MONTH) Month\n",
    "        ,count(distinct sessions.perseus_client_id) total_users\n",
    "FROM `fulfillment-dwh-production.curated_data_shared.dps_sessions_mapped_to_perseus_sessions` ss\n",
    "where entity_id in ('AP_PA', 'PY_AR', 'PY_BO', 'PY_CL', 'PY_CR', 'PY_DO', 'PY_EC', 'PY_GT', 'PY_HN', 'PY_NI', 'PY_PE', 'PY_PY', 'PY_SV', 'PY_UY', 'PY_VE', 'FP_BD', 'FP_HK', 'FP_KH', 'FP_LA', 'FP_MM', 'FP_MY', 'FP_PH', 'FP_PK', 'FP_SG', 'FP_TH', 'FP_TW', 'DJ_CZ', 'FO_NO', 'FP_SK', 'MJM_AT', 'NP_HU', 'OP_SE', 'PO_FI', 'FY_CY', 'EF_GR', 'HF_EG', 'TB_AE', 'TB_BH', 'TB_IQ', 'TB_JO', 'TB_KW', 'TB_OM', 'TB_QA', 'YS_TR')\n",
    "and created_date >= '2023-06-01' and created_date < '2024-11-01'\n",
    "group by 1,2,3\n",
    "), \n",
    "orders as (\n",
    "SELECT   o.entity_id\n",
    "        ,EXTRACT(YEAR FROM created_date_local) AS Year\n",
    "        ,DATE_TRUNC(created_date_local, MONTH) Month\n",
    "        ,sum(fully_loaded_gross_profit_eur) fully_loaded_gross_profit_eur\n",
    "        ,count(distinct platform_order_code) total_orders\n",
    "FROM `fulfillment-dwh-production.curated_data_shared.dps_sessions_mapped_to_orders` o\n",
    "where o.entity_id in ('AP_PA', 'PY_AR', 'PY_BO', 'PY_CL', 'PY_CR', 'PY_DO', 'PY_EC', 'PY_GT', 'PY_HN', 'PY_NI', 'PY_PE', 'PY_PY', 'PY_SV', 'PY_UY', 'PY_VE', 'FP_BD', 'FP_HK', 'FP_KH', 'FP_LA', 'FP_MM', 'FP_MY', 'FP_PH', 'FP_PK', 'FP_SG', 'FP_TH', 'FP_TW', 'DJ_CZ', 'FO_NO', 'FP_SK', 'MJM_AT', 'NP_HU', 'OP_SE', 'PO_FI', 'FY_CY', 'EF_GR', 'HF_EG', 'TB_AE', 'TB_BH', 'TB_IQ', 'TB_JO', 'TB_KW', 'TB_OM', 'TB_QA', 'YS_TR')\n",
    "AND is_sent = True\n",
    "AND is_own_delivery = True\n",
    "AND vendor_vertical_parent in ('Restaurant','restaurant','restaurants')\n",
    "AND created_date >= '2022-12-31' and created_date <= '2024-11-01'\n",
    "AND created_date_local >= '2023-01-01' and created_date_local < '2024-11-01'\n",
    "group by 1,2,3\n",
    ")\n",
    "select   s.entity_id\n",
    "        ,s.YEAR\n",
    "        ,s.Month\n",
    "        ,s.total_users\n",
    "        ,o.fully_loaded_gross_profit_eur\n",
    "        ,o.total_orders\n",
    "        ,fully_loaded_gross_profit_eur / total_users flgpu_eur\n",
    "        ,total_orders / total_users orders_per_user\n",
    "from session s\n",
    "left join orders o on o.entity_id = s.entity_id and o.Month = s.Month\n",
    "\"\"\"\n",
    "\n",
    "\n",
    "\n",
    "significance = \"\"\"\n",
    "WITH filtered_data AS (\n",
    "    SELECT \n",
    "        country_code\n",
    "        ,test_name\n",
    "        ,group_b variation\n",
    "        ,max(case when kpi_label = 'orders_per_user' then mean_a else null end) AS orders_per_user_control\n",
    "        ,max(case when kpi_label = 'orders_per_user' then incremental else null end) AS incremental_orders_per_user\n",
    "        ,max(case when kpi_label = 'orders_per_user' then significance else null end) AS significance_orders_per_user\n",
    "        ,max(case when kpi_label = 'orders_per_user' then rn else null end) AS rn_orders_per_user\n",
    "        ,max(case when kpi_label in ('fully_loaded_gross_profit_local_per_user', 'profit_local_per_user') then mean_a else null end) AS profit_per_user_control\n",
    "        ,max(case when kpi_label in ('fully_loaded_gross_profit_local_per_user', 'profit_local_per_user') then incremental else null end) AS incremental_profit_per_user\n",
    "        ,max(case when kpi_label in ('fully_loaded_gross_profit_local_per_user', 'profit_local_per_user') then significance else null end) AS significance_profit_per_user\n",
    "        ,max(case when kpi_label in ('fully_loaded_gross_profit_local_per_user', 'profit_local_per_user') then rn else null end) AS rn_profit_per_user\n",
    "        ,max(case when kpi_label = 'fully_loaded_gross_profit_local_per_user' then mean_a else null end) AS fully_loaded_gross_profit_local_per_user_control\n",
    "        ,max(case when kpi_label = 'fully_loaded_gross_profit_local_per_user' then incremental else null end) AS incremental_fully_loaded_gross_profit_local_per_user\n",
    "        ,max(case when kpi_label = 'fully_loaded_gross_profit_local_per_user' then significance else null end) AS significance_fully_loaded_gross_profit_local_per_user\n",
    "        ,max(case when kpi_label = 'fully_loaded_gross_profit_local_per_user' then rn else null end) AS rn_fully_loaded_gross_profit_local_per_user\n",
    "    FROM (\n",
    "        SELECT \n",
    "             country_code\n",
    "            ,test_name\n",
    "            ,kpi_label\n",
    "            ,mean_a\n",
    "            ,group_b\n",
    "            ,LEAST(p_value, corrected_p_value, cuped_p_value, corrected_cuped_p_value) AS min_p_value\n",
    "            ,CASE \n",
    "                WHEN LEAST(p_value, corrected_p_value, cuped_p_value, corrected_cuped_p_value) <= 0.05 THEN 1 \n",
    "                ELSE 0 \n",
    "            END AS significance\n",
    "            ,(mean_b - mean_a) AS incremental\n",
    "            ,ROW_NUMBER() OVER (\n",
    "                PARTITION BY test_name, kpi_label\n",
    "                ORDER BY \n",
    "                    CASE \n",
    "                        WHEN LEAST(p_value, corrected_p_value, cuped_p_value, corrected_cuped_p_value) <= 0.05 THEN 1 \n",
    "                        ELSE 0 \n",
    "                    END DESC,\n",
    "                    (mean_b - mean_a) DESC\n",
    "            ) AS rn\n",
    "        FROM \n",
    "            `fulfillment-dwh-production.rl.dps_ab_test_significance_dataset_temp`\n",
    "        WHERE processing_status = 'success'\n",
    "            AND group_a = 'Control'\n",
    "            AND group_b != 'Control'\n",
    "            AND kpi_label IN ('orders_per_user', 'fully_loaded_gross_profit_local_per_user', 'profit_local_per_user')\n",
    "            AND label = 'All'\n",
    "            AND test_name NOT LIKE '%FDNC%'\n",
    "    )\n",
    "    GROUP BY country_code, test_name, group_b\n",
    "),\n",
    "ranked_data AS (\n",
    "    SELECT *,\n",
    "        ROW_NUMBER() OVER (\n",
    "        PARTITION BY country_code, test_name\n",
    "        ORDER BY \n",
    "            CASE \n",
    "                WHEN significance_orders_per_user = 1 AND significance_profit_per_user = 1 THEN 1\n",
    "                WHEN significance_orders_per_user = 1 THEN 3\n",
    "                WHEN significance_profit_per_user = 1 THEN 2\n",
    "                WHEN incremental_orders_per_user > 0 AND incremental_profit_per_user > 0 THEN 4\n",
    "                ELSE 5\n",
    "            END ASC,\n",
    "            CASE \n",
    "                WHEN incremental_orders_per_user > 0 AND incremental_profit_per_user > 0 THEN NULL\n",
    "                ELSE incremental_orders_per_user\n",
    "            END DESC,\n",
    "            significance_orders_per_user DESC\n",
    "    ) AS rank\n",
    "    FROM filtered_data\n",
    ")\n",
    "SELECT  *\n",
    "FROM ranked_data\n",
    "--where rank = 1\n",
    "\"\"\"\n",
    "\n",
    "\n",
    "hungersta_seasonal = \"\"\"\n",
    "with session as (\n",
    "SELECT   ss.entity_id\n",
    "        ,EXTRACT(YEAR FROM created_date) AS Year\n",
    "        ,DATE_TRUNC(created_date, MONTH) Month\n",
    "        ,count(distinct sessions.perseus_client_id) total_users\n",
    "FROM `fulfillment-dwh-production.curated_data_shared.dps_sessions_mapped_to_ga_sessions` ss\n",
    "where entity_id = 'HS_SA'\n",
    "and created_date >= '2023-01-01' and created_date <= '2023-05-31'\n",
    "group by 1,2,3\n",
    "UNION ALL\n",
    "SELECT   ss.entity_id\n",
    "        ,EXTRACT(YEAR FROM created_date) AS Year\n",
    "        ,DATE_TRUNC(created_date, MONTH) Month\n",
    "        ,count(distinct sessions.perseus_client_id) total_users\n",
    "FROM `fulfillment-dwh-production.curated_data_shared.dps_sessions_mapped_to_perseus_sessions` ss\n",
    "where entity_id ='HS_SA'\n",
    "and created_date >= '2023-06-01' and created_date < '2024-11-01'\n",
    "group by 1,2,3\n",
    "),\n",
    "orders as (\n",
    "select entity_id,\n",
    "       Year,\n",
    "       Month,\n",
    "       flgp_eur + (rdf_adjusted_df - delivery_fee_eur) AS Adjusted_Flgp_eur,\n",
    "       flgp_eur non_adjusted_flgp,\n",
    "       total_orders\n",
    "from (\n",
    "SELECT \n",
    "    o.entity_id,\n",
    "    EXTRACT(YEAR FROM created_date_local) AS Year,\n",
    "    DATE_TRUNC(created_date_local, MONTH) Month,\n",
    "    count(distinct o.platform_order_code) total_orders,\n",
    "    SUM(rdf.OD_delivery_fee / ex.exchange_rate) AS converted_OD_delivery_fee,\n",
    "    SUM(\n",
    "        COALESCE((rdf.OD_delivery_fee + 4.7) / ex.exchange_rate, o.delivery_fee_eur)\n",
    "    ) AS rdf_adjusted_df,\n",
    "    SUM(o.delivery_fee_eur) delivery_fee_eur,\n",
    "    SUM(o.revenue_eur) AS total_revenue,\n",
    "    SUM(o.revenue_eur) - SUM(o.delivery_costs_eur) gross_profit_eur,\n",
    "    SUM(o.revenue_eur) - SUM(o.delivery_costs_eur) - SUM(o.discount_dh_eur) - SUM(o.voucher_dh_eur) AS flgp_manual_eur,\n",
    "    SUM(o.delivery_costs_eur) + SUM(o.discount_dh_eur) + SUM(o.voucher_dh_eur) total_costs,\n",
    "    SUM(o.fully_loaded_gross_profit_eur) AS flgp_eur,\n",
    "    (\n",
    "        SUM(o.joker_vendor_fee_eur)\n",
    "        + SUM(commission_eur)\n",
    "        + SUM(o.priority_fee_eur * (1 - o.vat_rate))\n",
    "        + SUM(o.service_fee_eur * (1 - o.vat_rate))\n",
    "        + SUM(o.mov_customer_fee_eur * (1 - o.vat_rate))\n",
    "        + SUM(o.front_margin_eur)\n",
    "        + SUM(o.delivery_fee_eur * (1 - o.vat_rate))\n",
    "    ) AS manual_revenue,\n",
    "    (\n",
    "        SUM(o.joker_vendor_fee_eur)\n",
    "        + SUM(commission_eur)\n",
    "        + SUM(o.priority_fee_eur * (1 - o.vat_rate))\n",
    "        + SUM(o.service_fee_eur * (1 - o.vat_rate))\n",
    "        + SUM(o.mov_customer_fee_eur * (1 - o.vat_rate))\n",
    "        + SUM(o.front_margin_eur)\n",
    "        + SUM(\n",
    "        COALESCE((rdf.OD_delivery_fee + 4.7) / ex.exchange_rate, o.delivery_fee_eur)\n",
    "         * (1 - o.vat_rate))\n",
    "    ) AS adjusted_manual_revenue\n",
    "--     o.created_date,\n",
    "--     o.platform_order_code,\n",
    "--     o.delivery_fee_eur,\n",
    "--     rdf.OD_delivery_fee,\n",
    "--     ex.exchange_rate,\n",
    "--     o.vat_rate\n",
    "FROM `fulfillment-dwh-production.curated_data_shared.dps_sessions_mapped_to_orders` o\n",
    "left JOIN `logistics-data-storage-staging.long_term_pricing.hs_sa_rdf_orders` rdf ON CAST(rdf.platform_order_code AS STRING) = o.platform_order_code\n",
    "LEFT JOIN (\n",
    "    SELECT \n",
    "        date,\n",
    "        currency_code, \n",
    "        max(exchange_rate) exchange_rate\n",
    "    FROM \n",
    "        `fulfillment-dwh-production.cl._currency_exchange`\n",
    "    WHERE \n",
    "        country_code = 'sa' \n",
    "    GROUP BY 1,2\n",
    ") ex ON ex.currency_code = o.currency_code and ex.date = o.created_date\n",
    "WHERE o.entity_id = 'HS_SA'\n",
    "      AND is_sent = True\n",
    "      AND is_own_delivery = True\n",
    "      AND created_date >= '2022-12-31' and created_date < '2024-11-02'\n",
    "      AND created_date_local >= '2023-01-01' and created_date_local < '2024-11-01'\n",
    "      AND vendor_id in (\n",
    "                select distinct vendor_id\n",
    "                from (\n",
    "                SELECT \n",
    "                    vendor_id,\n",
    "                    COALESCE(\n",
    "                    FIRST_VALUE(vendor_vertical_parent IGNORE NULLS) OVER (\n",
    "                        PARTITION BY vendor_id\n",
    "                        ORDER BY created_date DESC\n",
    "                    ),\n",
    "                    FIRST_VALUE(vertical_type IGNORE NULLS) OVER (\n",
    "                        PARTITION BY vendor_id\n",
    "                        ORDER BY created_date DESC\n",
    "                    )\n",
    "                ) AS selected_vertical\n",
    "            FROM `fulfillment-dwh-production.curated_data_shared.dps_sessions_mapped_to_orders`\n",
    "            WHERE entity_id = 'HS_SA'\n",
    "            QUALIFY ROW_NUMBER() OVER (PARTITION BY vendor_id ORDER BY created_date DESC) = 1\n",
    "            )\n",
    "            where selected_vertical in('Restaurant','restaurant','restaurants','Restaurants')\n",
    ") \n",
    "group by 1,2,3\n",
    "))\n",
    "select   s.entity_id\n",
    "        ,s.YEAR\n",
    "        ,s.Month\n",
    "        ,s.total_users\n",
    "        ,o.Adjusted_Flgp_eur fully_loaded_gross_profit_eur\n",
    "        ,o.total_orders\n",
    "        ,o.Adjusted_Flgp_eur / s.total_users flgpu_eur\n",
    "        ,o.total_orders / s.total_users orders_per_user\n",
    "        ,o.non_adjusted_flgp\n",
    "from session s\n",
    "left join orders o on o.entity_id = s.entity_id and o.Month = s.Month\n",
    "\"\"\""
   ]
  },
  {
   "cell_type": "code",
   "execution_count": 730,
   "metadata": {},
   "outputs": [],
   "source": [
    "def combine_seasonal():\n",
    "    # Fetch dataframes from queries\n",
    "    tmp = client.query(seasonal).to_dataframe()\n",
    "    tmp2 = client.query(hungersta_seasonal).to_dataframe()\n",
    "\n",
    "    # Concatenate dataframes\n",
    "    combined_df = pd.concat([tmp, tmp2], ignore_index=True)  # ignore_index=True to reset the index\n",
    "\n",
    "    return combined_df\n",
    "\n",
    "\n",
    "def filter_merged_df(df1, df2):\n",
    "    \n",
    "    df2['incremental_orders_per_user_sig'] = df2['incremental_orders_per_user']\n",
    "    df2['orders_per_user_control_sig'] = df2['orders_per_user_control']\n",
    "\n",
    "    # Merge the dataframes\n",
    "    tmp = df2[['country_code', 'test_name', 'variation', 'rank','orders_per_user_control_sig', 'incremental_orders_per_user_sig',\n",
    "                           'significance_profit_per_user', 'significance_orders_per_user']]\n",
    "    merged_df = pd.merge(df1, tmp, on=['country_code', 'test_name', 'variation'], how='left')\n",
    "\n",
    "    # Define a condition to check if 'rank' column has non-null values in each group\n",
    "    merged_df['use_rank'] = merged_df.groupby(['country_name', 'test_name'])['rank'].transform(lambda x: x.notna().any())\n",
    "\n",
    "    # Filter the dataframe based on the condition\n",
    "    merged_df_filtered = merged_df[\n",
    "        ((merged_df['use_rank']) & (merged_df['rank'] == 1)) |\n",
    "        ((~merged_df['use_rank']) & (merged_df['final_rank'] == 1))\n",
    "    ]\n",
    "\n",
    "    # Drop the helper column\n",
    "    merged_df_filtered = merged_df_filtered.drop(columns=['use_rank'])\n",
    "    \n",
    "    return merged_df_filtered"
   ]
  },
  {
   "cell_type": "code",
   "execution_count": 731,
   "metadata": {},
   "outputs": [
    {
     "name": "stderr",
     "output_type": "stream",
     "text": [
      "/Users/shazeb.asad/global_pricing/.venv/lib/python3.12/site-packages/google/auth/_default.py:76: UserWarning:\n",
      "\n",
      "Your application has authenticated using end user credentials from Google Cloud SDK without a quota project. You might receive a \"quota exceeded\" or \"API not enabled\" error. See the following page for troubleshooting: https://cloud.google.com/docs/authentication/adc-troubleshooting/user-creds. \n",
      "\n"
     ]
    }
   ],
   "source": [
    "# define a few things (project id, start date etc.)\n",
    "project_id = \"logistics-customer-staging\"\n",
    "client = bigquery.Client(project = project_id)\n",
    "\n",
    "test_df = client.query(test_data).to_dataframe()\n",
    "seasonal_df = combine_seasonal()\n",
    "significance_df = client.query(significance).to_dataframe()"
   ]
  },
  {
   "cell_type": "code",
   "execution_count": 732,
   "metadata": {},
   "outputs": [],
   "source": [
    "test_df_sig = filter_merged_df(test_df, significance_df)"
   ]
  },
  {
   "cell_type": "code",
   "execution_count": 773,
   "metadata": {},
   "outputs": [],
   "source": [
    "## data filter\n",
    "# filtered_df = test_df_sig.groupby('country_name').apply(\n",
    "#     lambda group: group[np.abs((group['flgp_per_user_incremental'] - group['flgp_per_user_incremental'].mean()) /\n",
    "#                                group['flgp_per_user_incremental'].std()) < 3]\n",
    "# ).reset_index(drop=True)\n",
    "\n",
    "filtered_df1 = test_df_sig.copy()\n",
    "\n",
    "# filtered_df = test_df_sig.groupby('country_name').apply(\n",
    "#     lambda group: group[\n",
    "#         np.abs(\n",
    "#             (group['flgp_per_user_incremental'] / group['flgpu_control'] - \n",
    "#              (group['flgp_per_user_incremental'] / group['flgpu_control']).mean()) / \n",
    "#             (group['flgp_per_user_incremental'] / group['flgpu_control']).std()\n",
    "#         ) < 3\n",
    "#     ]\n",
    "# ).reset_index(drop=True)\n",
    "\n",
    "#filtered_df = filtered_df[(filtered_df['flgp_per_user_incremental'] / filtered_df['flgpu_control']) <= 1]\n",
    "\n",
    "filtered_df = test_df[test_df['final_rank'] == 1].copy()\n",
    "# filtered_df = filtered_df.groupby('country_name').apply(\n",
    "#     lambda group: group[np.abs((group['flgp_per_user_incremental'] - group['flgp_per_user_incremental'].mean()) /\n",
    "#                                group['flgp_per_user_incremental'].std()) < 3]\n",
    "# ).reset_index(drop=True)"
   ]
  },
  {
   "cell_type": "code",
   "execution_count": 774,
   "metadata": {},
   "outputs": [
    {
     "data": {
      "image/png": "[encoded data removed]",
      "text/plain": [
       "<Figure size 1000x600 with 1 Axes>"
      ]
     },
     "metadata": {},
     "output_type": "display_data"
    },
    {
     "name": "stdout",
     "output_type": "stream",
     "text": [
      "all_data_significance: count    2359.000000\n",
      "mean        0.017216\n",
      "std         0.526426\n",
      "min        -1.658233\n",
      "25%        -0.015408\n",
      "50%         0.002243\n",
      "75%         0.022036\n",
      "max        20.567399\n",
      "Name: orders_per_user_incremental, dtype: float64, all_data: count    2359.000000\n",
      "mean        0.070531\n",
      "std         1.147435\n",
      "min        -1.634235\n",
      "25%        -0.026323\n",
      "50%         0.013868\n",
      "75%         0.063789\n",
      "max        39.689018\n",
      "Name: flgp_per_user_incremental, dtype: float64, significance_data: count    2359.000000\n",
      "mean        0.017216\n",
      "std         0.526426\n",
      "min        -1.658233\n",
      "25%        -0.015408\n",
      "50%         0.002243\n",
      "75%         0.022036\n",
      "max        20.567399\n",
      "Name: orders_per_user_incremental, dtype: float64,ordiginal_data: count    2359.000000\n",
      "mean        0.070531\n",
      "std         1.147435\n",
      "min        -1.634235\n",
      "25%        -0.026323\n",
      "50%         0.013868\n",
      "75%         0.063789\n",
      "max        39.689018\n",
      "Name: flgp_per_user_incremental, dtype: float64,ordiginal_data: count    2359.000000\n",
      "mean        0.019512\n",
      "std         0.526208\n",
      "min        -1.658233\n",
      "25%        -0.014177\n",
      "50%         0.002862\n",
      "75%         0.024844\n",
      "max        20.567399\n",
      "Name: orders_per_user_incremental, dtype: float64,ordiginal_data: count    2359.000000\n",
      "mean        0.061382\n",
      "std         1.148182\n",
      "min        -1.634235\n",
      "25%        -0.038896\n",
      "50%         0.009971\n",
      "75%         0.057442\n",
      "max        39.689018\n",
      "Name: flgp_per_user_incremental, dtype: float64 \n"
     ]
    }
   ],
   "source": [
    "# Extract values for a, b, c, d after cleaning\n",
    "s_a = test_df[test_df['final_rank'] == 1]['orders_per_user_incremental']\n",
    "s_b = test_df[test_df['final_rank'] == 1]['flgp_per_user_incremental']\n",
    "s_c = filtered_df['orders_per_user_incremental']\n",
    "s_d = filtered_df['flgp_per_user_incremental']\n",
    "s_e = filtered_df1['orders_per_user_incremental']\n",
    "s_f = filtered_df1['flgp_per_user_incremental']\n",
    "\n",
    "plt.figure(figsize=(10, 6))\n",
    "\n",
    "sns.kdeplot(s_a, \n",
    "            label='Incremental Orders per User all sig data (Significance == 1)', color='red')\n",
    "\n",
    "sns.kdeplot(s_b, \n",
    "            label='Incremental Orders per User sig data (Significance == 1)', color='black')\n",
    "\n",
    "sns.kdeplot(s_c, \n",
    "            label='Incremental Orders per User all sig data', color='blue')\n",
    "\n",
    "sns.kdeplot(s_d, \n",
    "            label='Incremental Orders per User original data', color='purple')\n",
    "\n",
    "sns.kdeplot(s_e, \n",
    "            label='Incremental Orders per User original data', color='purple')\n",
    "\n",
    "sns.kdeplot(s_f, \n",
    "            label='Incremental Orders per User original data', color='purple')\n",
    "\n",
    "# Adding labels and legend\n",
    "plt.xlabel('Incremental Orders per User')\n",
    "plt.ylabel('Density')\n",
    "plt.legend()\n",
    "plt.title('KDE of Incremental Orders per User {i}')\n",
    "\n",
    "# Show the plot\n",
    "plt.show()\n",
    "\n",
    "# Print descriptive statistics\n",
    "print(f\"all_data_significance: {s_a.describe()}, all_data: {s_b.describe()}, significance_data: {s_c.describe()},ordiginal_data: {s_d.describe()},ordiginal_data: {s_e.describe()},ordiginal_data: {s_f.describe()} \")\n",
    "#significance_stats_all, test_flgp_stats"
   ]
  },
  {
   "cell_type": "code",
   "execution_count": 775,
   "metadata": {},
   "outputs": [],
   "source": [
    "from scipy.stats import boxcox\n",
    "import numpy as np\n",
    "import matplotlib.pyplot as plt\n",
    "import seaborn as sns\n",
    "\n",
    "lst_m1  = []\n",
    "lst_m2  = []\n",
    "lst_m3  = []\n",
    "lst_m4  = []\n",
    "\n",
    "# Assuming test_df_sig is a defined DataFrame\n",
    "countries = test_df_sig['country_name'].unique()\n",
    "\n",
    "for i in countries:\n",
    "    # Filter data for the current country\n",
    "    df = test_df_sig[test_df_sig['country_name'] == i]\n",
    "    s_a = df['flgp_per_user_incremental']\n",
    "    \n",
    "    # Original KDE plot\n",
    "    #plt.figure(figsize=(10, 6))\n",
    "    #sns.kdeplot(s_a, label='Original', color='red')\n",
    "    avg_value = np.mean(s_a)\n",
    "    median_value = np.median(s_a)\n",
    "    lst_m1.append(avg_value)\n",
    "    # plt.axvline(avg_value, color='blue', linestyle='--', label=f'Average: {avg_value:.5f}')\n",
    "    # plt.axvline(median_value, color='green', linestyle='--', label=f'Median: {median_value:.5f}')\n",
    "    # plt.text(avg_value, plt.ylim()[1] * 0.8, f'Avg: {avg_value:.5f}', color='blue', fontsize=10, ha='center')\n",
    "    # plt.text(median_value, plt.ylim()[1] * 0.6, f'Med: {median_value:.5f}', color='green', fontsize=10, ha='center')\n",
    "    # plt.title(f'Original KDE - {i}')\n",
    "    # plt.xlabel('FLGP per User')\n",
    "    # plt.ylabel('Density')\n",
    "    # plt.legend()\n",
    "    # plt.show()\n",
    "    \n",
    "    # 1. Transformation (Box-Cox)\n",
    "    if (s_a > 0).all():  # Box-Cox requires positive values\n",
    "        s_a_boxcox, _ = boxcox(s_a)\n",
    "        #plt.figure(figsize=(10, 6))\n",
    "        #sns.kdeplot(s_a_boxcox, label='Box-Cox Transformed', color='green')\n",
    "        avg_value = np.mean(s_a_boxcox)\n",
    "        median_value = np.median(s_a_boxcox)\n",
    "        lst_m2.append(avg_value)\n",
    "        # plt.axvline(avg_value, color='blue', linestyle='--', label=f'Average: {avg_value:.5f}')\n",
    "        # plt.axvline(median_value, color='green', linestyle='--', label=f'Median: {median_value:.5f}')\n",
    "        # plt.text(avg_value, plt.ylim()[1] * 0.8, f'Avg: {avg_value:.5f}', color='blue', fontsize=10, ha='center')\n",
    "        # plt.text(median_value, plt.ylim()[1] * 0.6, f'Med: {median_value:.5f}', color='green', fontsize=10, ha='center')\n",
    "        # plt.title(f'Box-Cox Transformed KDE - {i}')\n",
    "        # plt.xlabel('Transformed FLGP per User')\n",
    "        # plt.ylabel('Density')\n",
    "        # plt.legend()\n",
    "        # plt.show()\n",
    "\n",
    "    # 2. Removing Outliers (Z-score)\n",
    "    z_scores = np.abs((s_a - np.mean(s_a)) / np.std(s_a))\n",
    "    s_a_filtered = s_a[z_scores < 3]\n",
    "    #plt.figure(figsize=(10, 6))\n",
    "    #sns.kdeplot(s_a_filtered, label='Outliers Removed (Z-Score)', color='orange')\n",
    "    avg_value = np.mean(s_a_filtered)\n",
    "    median_value = np.median(s_a_filtered)\n",
    "    lst_m3.append(avg_value)\n",
    "    # plt.axvline(avg_value, color='blue', linestyle='--', label=f'Average: {avg_value:.5f}')\n",
    "    # plt.axvline(median_value, color='green', linestyle='--', label=f'Median: {median_value:.5f}')\n",
    "    # plt.text(avg_value, plt.ylim()[1] * 0.8, f'Avg: {avg_value:.5f}', color='blue', fontsize=10, ha='center')\n",
    "    # plt.text(median_value, plt.ylim()[1] * 0.6, f'Med: {median_value:.5f}', color='green', fontsize=10, ha='center')\n",
    "    # plt.title(f'Outliers Removed KDE - {i}')\n",
    "    # plt.xlabel('FLGP per User')\n",
    "    # plt.ylabel('Density')\n",
    "    # plt.legend()\n",
    "    # plt.show()\n",
    "    \n",
    "    # 3. Clipping Extreme Values\n",
    "    lower_bound, upper_bound = np.percentile(s_a, [5, 95])\n",
    "    s_a_clipped = np.clip(s_a, lower_bound, upper_bound)\n",
    "    #plt.figure(figsize=(10, 6))\n",
    "    #sns.kdeplot(s_a_clipped, label='Clipped Values', color='purple')\n",
    "    avg_value = np.mean(s_a_clipped)\n",
    "    median_value = np.median(s_a_clipped)\n",
    "    lst_m4.append(avg_value)\n",
    "    # plt.axvline(avg_value, color='blue', linestyle='--', label=f'Average: {avg_value:.5f}')\n",
    "    # plt.axvline(median_value, color='green', linestyle='--', label=f'Median: {median_value:.5f}')\n",
    "    # plt.text(avg_value, plt.ylim()[1] * 0.8, f'Avg: {avg_value:.5f}', color='blue', fontsize=10, ha='center')\n",
    "    # plt.text(median_value, plt.ylim()[1] * 0.6, f'Med: {median_value:.5f}', color='green', fontsize=10, ha='center')\n",
    "    # plt.title(f'Clipped KDE - {i}')\n",
    "    # plt.xlabel('FLGP per User')\n",
    "    # plt.ylabel('Density')\n",
    "    # plt.legend()\n",
    "    # plt.show()\n"
   ]
  },
  {
   "cell_type": "code",
   "execution_count": 776,
   "metadata": {},
   "outputs": [
    {
     "name": "stderr",
     "output_type": "stream",
     "text": [
      "/var/folders/7c/hjrbzbpn61jgnsn14y5f3l7c0000gq/T/ipykernel_19532/4215754751.py:33: DeprecationWarning:\n",
      "\n",
      "DataFrameGroupBy.apply operated on the grouping columns. This behavior is deprecated, and in a future version of pandas the grouping columns will be excluded from the operation. Either pass `include_groups=False` to exclude the groupings or explicitly select the grouping columns after groupby to silence this warning.\n",
      "\n",
      "/var/folders/7c/hjrbzbpn61jgnsn14y5f3l7c0000gq/T/ipykernel_19532/4215754751.py:33: DeprecationWarning:\n",
      "\n",
      "DataFrameGroupBy.apply operated on the grouping columns. This behavior is deprecated, and in a future version of pandas the grouping columns will be excluded from the operation. Either pass `include_groups=False` to exclude the groupings or explicitly select the grouping columns after groupby to silence this warning.\n",
      "\n",
      "/var/folders/7c/hjrbzbpn61jgnsn14y5f3l7c0000gq/T/ipykernel_19532/4215754751.py:33: DeprecationWarning:\n",
      "\n",
      "DataFrameGroupBy.apply operated on the grouping columns. This behavior is deprecated, and in a future version of pandas the grouping columns will be excluded from the operation. Either pass `include_groups=False` to exclude the groupings or explicitly select the grouping columns after groupby to silence this warning.\n",
      "\n"
     ]
    },
    {
     "data": {
      "application/vnd.plotly.v1+json": {
       "config": {
        "plotlyServerURL": "https://plot.ly"
       },
       "data": [
        {
         "alignmentgroup": "True",
         "hovertemplate": "Cumulative Difference=%{marker.color}<br>Country Code=%{y}<extra></extra>",
         "legendgroup": "",
         "marker": {
          "color": [
           12079.128810056834,
           4454.0801489494625,
           -23582.80354856304,
           -41911.459720660816,
           7526.68956829705,
           -4180.702863281709,
           5701.001395684521,
           4703.025432111201,
           9747.43728933562,
           9864.779405295398,
           -22491.237172436435,
           -4690.835632692244,
           -4307.968948237802,
           7197.488132216109,
           13843.447338507714,
           2212.3162600737414,
           7013.433049439831,
           -4704.772482909379,
           30360.68068561246,
           -5452.793057055569,
           -25362.362108654575,
           38642.93042960629,
           3876.0318552220997,
           -1528.5782820506502,
           4200.585533349775,
           822.9326126442611,
           -10123.16747404907,
           -25501.477116256923,
           7492.45040183494,
           -1932.2025257098212,
           -52280.25090985536,
           17688.365683845943,
           10150.840040943789,
           9887.469151226891,
           5690.408727259695,
           -17392.000392885602,
           -6251.311966020439,
           -4810.180242791073,
           7223.734890037027,
           3783.215500592094
          ],
          "coloraxis": "coloraxis",
          "pattern": {
           "shape": ""
          }
         },
         "name": "",
         "offsetgroup": "",
         "orientation": "h",
         "showlegend": false,
         "textposition": "auto",
         "type": "bar",
         "x": [
          12079.128810056834,
          4454.0801489494625,
          -23582.80354856304,
          -41911.459720660816,
          7526.68956829705,
          -4180.702863281709,
          5701.001395684521,
          4703.025432111201,
          9747.43728933562,
          9864.779405295398,
          -22491.237172436435,
          -4690.835632692244,
          -4307.968948237802,
          7197.488132216109,
          13843.447338507714,
          2212.3162600737414,
          7013.433049439831,
          -4704.772482909379,
          30360.68068561246,
          -5452.793057055569,
          -25362.362108654575,
          38642.93042960629,
          3876.0318552220997,
          -1528.5782820506502,
          4200.585533349775,
          822.9326126442611,
          -10123.16747404907,
          -25501.477116256923,
          7492.45040183494,
          -1932.2025257098212,
          -52280.25090985536,
          17688.365683845943,
          10150.840040943789,
          9887.469151226891,
          5690.408727259695,
          -17392.000392885602,
          -6251.311966020439,
          -4810.180242791073,
          7223.734890037027,
          3783.215500592094
         ],
         "xaxis": "x",
         "y": [
          "United Arab Emirates",
          "Argentina",
          "Austria",
          "Bahrain",
          "Bolivia",
          "Chile",
          "Costa Rica",
          "Czech Republic",
          "Dominican Republic",
          "Ecuador",
          "Egypt",
          "Finland",
          "Greece",
          "Guatemala",
          "Hong Kong",
          "Honduras",
          "Hungary",
          "Iraq",
          "Cambodia",
          "Laos",
          "Myanmar",
          "Malaysia",
          "Nicaragua",
          "Norway",
          "Oman",
          "Panama",
          "Peru",
          "Philippines",
          "Pakistan",
          "Paraguay",
          "Qatar",
          "Saudi Arabia",
          "Sweden",
          "Singapore",
          "El Salvador",
          "Thailand",
          "Turkey",
          "Taiwan",
          "Uruguay",
          "Venezuela"
         ],
         "yaxis": "y"
        }
       ],
       "layout": {
        "annotations": [
         {
          "align": "center",
          "font": {
           "color": "black",
           "size": 14
          },
          "showarrow": false,
          "text": "Total Sum of Differences: -32341.63",
          "x": 0.5,
          "xref": "paper",
          "y": 1.15,
          "yref": "paper"
         }
        ],
        "barmode": "relative",
        "coloraxis": {
         "colorbar": {
          "title": {
           "text": "Cumulative Difference"
          }
         },
         "colorscale": [
          [
           0,
           "rgb(255,245,240)"
          ],
          [
           0.125,
           "rgb(254,224,210)"
          ],
          [
           0.25,
           "rgb(252,187,161)"
          ],
          [
           0.375,
           "rgb(252,146,114)"
          ],
          [
           0.5,
           "rgb(251,106,74)"
          ],
          [
           0.625,
           "rgb(239,59,44)"
          ],
          [
           0.75,
           "rgb(203,24,29)"
          ],
          [
           0.875,
           "rgb(165,15,21)"
          ],
          [
           1,
           "rgb(103,0,13)"
          ]
         ],
         "showscale": true
        },
        "height": 800,
        "legend": {
         "tracegroupgap": 0
        },
        "margin": {
         "b": 40,
         "l": 80,
         "r": 20,
         "t": 100
        },
        "template": {
         "data": {
          "bar": [
           {
            "error_x": {
             "color": "#2a3f5f"
            },
            "error_y": {
             "color": "#2a3f5f"
            },
            "marker": {
             "line": {
              "color": "white",
              "width": 0.5
             },
             "pattern": {
              "fillmode": "overlay",
              "size": 10,
              "solidity": 0.2
             }
            },
            "type": "bar"
           }
          ],
          "barpolar": [
           {
            "marker": {
             "line": {
              "color": "white",
              "width": 0.5
             },
             "pattern": {
              "fillmode": "overlay",
              "size": 10,
              "solidity": 0.2
             }
            },
            "type": "barpolar"
           }
          ],
          "carpet": [
           {
            "aaxis": {
             "endlinecolor": "#2a3f5f",
             "gridcolor": "#C8D4E3",
             "linecolor": "#C8D4E3",
             "minorgridcolor": "#C8D4E3",
             "startlinecolor": "#2a3f5f"
            },
            "baxis": {
             "endlinecolor": "#2a3f5f",
             "gridcolor": "#C8D4E3",
             "linecolor": "#C8D4E3",
             "minorgridcolor": "#C8D4E3",
             "startlinecolor": "#2a3f5f"
            },
            "type": "carpet"
           }
          ],
          "choropleth": [
           {
            "colorbar": {
             "outlinewidth": 0,
             "ticks": ""
            },
            "type": "choropleth"
           }
          ],
          "contour": [
           {
            "colorbar": {
             "outlinewidth": 0,
             "ticks": ""
            },
            "colorscale": [
             [
              0,
              "#0d0887"
             ],
             [
              0.1111111111111111,
              "#46039f"
             ],
             [
              0.2222222222222222,
              "#7201a8"
             ],
             [
              0.3333333333333333,
              "#9c179e"
             ],
             [
              0.4444444444444444,
              "#bd3786"
             ],
             [
              0.5555555555555556,
              "#d8576b"
             ],
             [
              0.6666666666666666,
              "#ed7953"
             ],
             [
              0.7777777777777778,
              "#fb9f3a"
             ],
             [
              0.8888888888888888,
              "#fdca26"
             ],
             [
              1,
              "#f0f921"
             ]
            ],
            "type": "contour"
           }
          ],
          "contourcarpet": [
           {
            "colorbar": {
             "outlinewidth": 0,
             "ticks": ""
            },
            "type": "contourcarpet"
           }
          ],
          "heatmap": [
           {
            "colorbar": {
             "outlinewidth": 0,
             "ticks": ""
            },
            "colorscale": [
             [
              0,
              "#0d0887"
             ],
             [
              0.1111111111111111,
              "#46039f"
             ],
             [
              0.2222222222222222,
              "#7201a8"
             ],
             [
              0.3333333333333333,
              "#9c179e"
             ],
             [
              0.4444444444444444,
              "#bd3786"
             ],
             [
              0.5555555555555556,
              "#d8576b"
             ],
             [
              0.6666666666666666,
              "#ed7953"
             ],
             [
              0.7777777777777778,
              "#fb9f3a"
             ],
             [
              0.8888888888888888,
              "#fdca26"
             ],
             [
              1,
              "#f0f921"
             ]
            ],
            "type": "heatmap"
           }
          ],
          "heatmapgl": [
           {
            "colorbar": {
             "outlinewidth": 0,
             "ticks": ""
            },
            "colorscale": [
             [
              0,
              "#0d0887"
             ],
             [
              0.1111111111111111,
              "#46039f"
             ],
             [
              0.2222222222222222,
              "#7201a8"
             ],
             [
              0.3333333333333333,
              "#9c179e"
             ],
             [
              0.4444444444444444,
              "#bd3786"
             ],
             [
              0.5555555555555556,
              "#d8576b"
             ],
             [
              0.6666666666666666,
              "#ed7953"
             ],
             [
              0.7777777777777778,
              "#fb9f3a"
             ],
             [
              0.8888888888888888,
              "#fdca26"
             ],
             [
              1,
              "#f0f921"
             ]
            ],
            "type": "heatmapgl"
           }
          ],
          "histogram": [
           {
            "marker": {
             "pattern": {
              "fillmode": "overlay",
              "size": 10,
              "solidity": 0.2
             }
            },
            "type": "histogram"
           }
          ],
          "histogram2d": [
           {
            "colorbar": {
             "outlinewidth": 0,
             "ticks": ""
            },
            "colorscale": [
             [
              0,
              "#0d0887"
             ],
             [
              0.1111111111111111,
              "#46039f"
             ],
             [
              0.2222222222222222,
              "#7201a8"
             ],
             [
              0.3333333333333333,
              "#9c179e"
             ],
             [
              0.4444444444444444,
              "#bd3786"
             ],
             [
              0.5555555555555556,
              "#d8576b"
             ],
             [
              0.6666666666666666,
              "#ed7953"
             ],
             [
              0.7777777777777778,
              "#fb9f3a"
             ],
             [
              0.8888888888888888,
              "#fdca26"
             ],
             [
              1,
              "#f0f921"
             ]
            ],
            "type": "histogram2d"
           }
          ],
          "histogram2dcontour": [
           {
            "colorbar": {
             "outlinewidth": 0,
             "ticks": ""
            },
            "colorscale": [
             [
              0,
              "#0d0887"
             ],
             [
              0.1111111111111111,
              "#46039f"
             ],
             [
              0.2222222222222222,
              "#7201a8"
             ],
             [
              0.3333333333333333,
              "#9c179e"
             ],
             [
              0.4444444444444444,
              "#bd3786"
             ],
             [
              0.5555555555555556,
              "#d8576b"
             ],
             [
              0.6666666666666666,
              "#ed7953"
             ],
             [
              0.7777777777777778,
              "#fb9f3a"
             ],
             [
              0.8888888888888888,
              "#fdca26"
             ],
             [
              1,
              "#f0f921"
             ]
            ],
            "type": "histogram2dcontour"
           }
          ],
          "mesh3d": [
           {
            "colorbar": {
             "outlinewidth": 0,
             "ticks": ""
            },
            "type": "mesh3d"
           }
          ],
          "parcoords": [
           {
            "line": {
             "colorbar": {
              "outlinewidth": 0,
              "ticks": ""
             }
            },
            "type": "parcoords"
           }
          ],
          "pie": [
           {
            "automargin": true,
            "type": "pie"
           }
          ],
          "scatter": [
           {
            "fillpattern": {
             "fillmode": "overlay",
             "size": 10,
             "solidity": 0.2
            },
            "type": "scatter"
           }
          ],
          "scatter3d": [
           {
            "line": {
             "colorbar": {
              "outlinewidth": 0,
              "ticks": ""
             }
            },
            "marker": {
             "colorbar": {
              "outlinewidth": 0,
              "ticks": ""
             }
            },
            "type": "scatter3d"
           }
          ],
          "scattercarpet": [
           {
            "marker": {
             "colorbar": {
              "outlinewidth": 0,
              "ticks": ""
             }
            },
            "type": "scattercarpet"
           }
          ],
          "scattergeo": [
           {
            "marker": {
             "colorbar": {
              "outlinewidth": 0,
              "ticks": ""
             }
            },
            "type": "scattergeo"
           }
          ],
          "scattergl": [
           {
            "marker": {
             "colorbar": {
              "outlinewidth": 0,
              "ticks": ""
             }
            },
            "type": "scattergl"
           }
          ],
          "scattermapbox": [
           {
            "marker": {
             "colorbar": {
              "outlinewidth": 0,
              "ticks": ""
             }
            },
            "type": "scattermapbox"
           }
          ],
          "scatterpolar": [
           {
            "marker": {
             "colorbar": {
              "outlinewidth": 0,
              "ticks": ""
             }
            },
            "type": "scatterpolar"
           }
          ],
          "scatterpolargl": [
           {
            "marker": {
             "colorbar": {
              "outlinewidth": 0,
              "ticks": ""
             }
            },
            "type": "scatterpolargl"
           }
          ],
          "scatterternary": [
           {
            "marker": {
             "colorbar": {
              "outlinewidth": 0,
              "ticks": ""
             }
            },
            "type": "scatterternary"
           }
          ],
          "surface": [
           {
            "colorbar": {
             "outlinewidth": 0,
             "ticks": ""
            },
            "colorscale": [
             [
              0,
              "#0d0887"
             ],
             [
              0.1111111111111111,
              "#46039f"
             ],
             [
              0.2222222222222222,
              "#7201a8"
             ],
             [
              0.3333333333333333,
              "#9c179e"
             ],
             [
              0.4444444444444444,
              "#bd3786"
             ],
             [
              0.5555555555555556,
              "#d8576b"
             ],
             [
              0.6666666666666666,
              "#ed7953"
             ],
             [
              0.7777777777777778,
              "#fb9f3a"
             ],
             [
              0.8888888888888888,
              "#fdca26"
             ],
             [
              1,
              "#f0f921"
             ]
            ],
            "type": "surface"
           }
          ],
          "table": [
           {
            "cells": {
             "fill": {
              "color": "#EBF0F8"
             },
             "line": {
              "color": "white"
             }
            },
            "header": {
             "fill": {
              "color": "#C8D4E3"
             },
             "line": {
              "color": "white"
             }
            },
            "type": "table"
           }
          ]
         },
         "layout": {
          "annotationdefaults": {
           "arrowcolor": "#2a3f5f",
           "arrowhead": 0,
           "arrowwidth": 1
          },
          "autotypenumbers": "strict",
          "coloraxis": {
           "colorbar": {
            "outlinewidth": 0,
            "ticks": ""
           }
          },
          "colorscale": {
           "diverging": [
            [
             0,
             "#8e0152"
            ],
            [
             0.1,
             "#c51b7d"
            ],
            [
             0.2,
             "#de77ae"
            ],
            [
             0.3,
             "#f1b6da"
            ],
            [
             0.4,
             "#fde0ef"
            ],
            [
             0.5,
             "#f7f7f7"
            ],
            [
             0.6,
             "#e6f5d0"
            ],
            [
             0.7,
             "#b8e186"
            ],
            [
             0.8,
             "#7fbc41"
            ],
            [
             0.9,
             "#4d9221"
            ],
            [
             1,
             "#276419"
            ]
           ],
           "sequential": [
            [
             0,
             "#0d0887"
            ],
            [
             0.1111111111111111,
             "#46039f"
            ],
            [
             0.2222222222222222,
             "#7201a8"
            ],
            [
             0.3333333333333333,
             "#9c179e"
            ],
            [
             0.4444444444444444,
             "#bd3786"
            ],
            [
             0.5555555555555556,
             "#d8576b"
            ],
            [
             0.6666666666666666,
             "#ed7953"
            ],
            [
             0.7777777777777778,
             "#fb9f3a"
            ],
            [
             0.8888888888888888,
             "#fdca26"
            ],
            [
             1,
             "#f0f921"
            ]
           ],
           "sequentialminus": [
            [
             0,
             "#0d0887"
            ],
            [
             0.1111111111111111,
             "#46039f"
            ],
            [
             0.2222222222222222,
             "#7201a8"
            ],
            [
             0.3333333333333333,
             "#9c179e"
            ],
            [
             0.4444444444444444,
             "#bd3786"
            ],
            [
             0.5555555555555556,
             "#d8576b"
            ],
            [
             0.6666666666666666,
             "#ed7953"
            ],
            [
             0.7777777777777778,
             "#fb9f3a"
            ],
            [
             0.8888888888888888,
             "#fdca26"
            ],
            [
             1,
             "#f0f921"
            ]
           ]
          },
          "colorway": [
           "#636efa",
           "#EF553B",
           "#00cc96",
           "#ab63fa",
           "#FFA15A",
           "#19d3f3",
           "#FF6692",
           "#B6E880",
           "#FF97FF",
           "#FECB52"
          ],
          "font": {
           "color": "#2a3f5f"
          },
          "geo": {
           "bgcolor": "white",
           "lakecolor": "white",
           "landcolor": "white",
           "showlakes": true,
           "showland": true,
           "subunitcolor": "#C8D4E3"
          },
          "hoverlabel": {
           "align": "left"
          },
          "hovermode": "closest",
          "mapbox": {
           "style": "light"
          },
          "paper_bgcolor": "white",
          "plot_bgcolor": "white",
          "polar": {
           "angularaxis": {
            "gridcolor": "#EBF0F8",
            "linecolor": "#EBF0F8",
            "ticks": ""
           },
           "bgcolor": "white",
           "radialaxis": {
            "gridcolor": "#EBF0F8",
            "linecolor": "#EBF0F8",
            "ticks": ""
           }
          },
          "scene": {
           "xaxis": {
            "backgroundcolor": "white",
            "gridcolor": "#DFE8F3",
            "gridwidth": 2,
            "linecolor": "#EBF0F8",
            "showbackground": true,
            "ticks": "",
            "zerolinecolor": "#EBF0F8"
           },
           "yaxis": {
            "backgroundcolor": "white",
            "gridcolor": "#DFE8F3",
            "gridwidth": 2,
            "linecolor": "#EBF0F8",
            "showbackground": true,
            "ticks": "",
            "zerolinecolor": "#EBF0F8"
           },
           "zaxis": {
            "backgroundcolor": "white",
            "gridcolor": "#DFE8F3",
            "gridwidth": 2,
            "linecolor": "#EBF0F8",
            "showbackground": true,
            "ticks": "",
            "zerolinecolor": "#EBF0F8"
           }
          },
          "shapedefaults": {
           "line": {
            "color": "#2a3f5f"
           }
          },
          "ternary": {
           "aaxis": {
            "gridcolor": "#DFE8F3",
            "linecolor": "#A2B1C6",
            "ticks": ""
           },
           "baxis": {
            "gridcolor": "#DFE8F3",
            "linecolor": "#A2B1C6",
            "ticks": ""
           },
           "bgcolor": "white",
           "caxis": {
            "gridcolor": "#DFE8F3",
            "linecolor": "#A2B1C6",
            "ticks": ""
           }
          },
          "title": {
           "x": 0.05
          },
          "xaxis": {
           "automargin": true,
           "gridcolor": "#EBF0F8",
           "linecolor": "#EBF0F8",
           "ticks": "",
           "title": {
            "standoff": 15
           },
           "zerolinecolor": "#EBF0F8",
           "zerolinewidth": 2
          },
          "yaxis": {
           "automargin": true,
           "gridcolor": "#EBF0F8",
           "linecolor": "#EBF0F8",
           "ticks": "",
           "title": {
            "standoff": 15
           },
           "zerolinecolor": "#EBF0F8",
           "zerolinewidth": 2
          }
         }
        },
        "title": {
         "text": "Cumulative Differences Between Significant and Significant + Non-significant Data by Country"
        },
        "xaxis": {
         "anchor": "y",
         "domain": [
          0,
          1
         ],
         "title": {
          "text": "Cumulative Difference"
         }
        },
        "yaxis": {
         "anchor": "x",
         "domain": [
          0,
          1
         ],
         "title": {
          "text": "Country Name"
         }
        }
       }
      }
     },
     "metadata": {},
     "output_type": "display_data"
    },
    {
     "name": "stderr",
     "output_type": "stream",
     "text": [
      "/var/folders/7c/hjrbzbpn61jgnsn14y5f3l7c0000gq/T/ipykernel_19532/4215754751.py:33: DeprecationWarning:\n",
      "\n",
      "DataFrameGroupBy.apply operated on the grouping columns. This behavior is deprecated, and in a future version of pandas the grouping columns will be excluded from the operation. Either pass `include_groups=False` to exclude the groupings or explicitly select the grouping columns after groupby to silence this warning.\n",
      "\n"
     ]
    },
    {
     "data": {
      "application/vnd.plotly.v1+json": {
       "config": {
        "plotlyServerURL": "https://plot.ly"
       },
       "data": [
        {
         "alignmentgroup": "True",
         "hovertemplate": "Cumulative Difference=%{marker.color}<br>Country Code=%{y}<extra></extra>",
         "legendgroup": "",
         "marker": {
          "color": [
           102061.1400744794,
           -63396.24631482124,
           49592.18986997893,
           -1210.0975270025665,
           45507.63309822697,
           -7609.356483531243,
           -50190.55748683587,
           -2431.4180129645465,
           18831.986287223786,
           -60741.93286355137,
           -19146.329437857014,
           -987.1453050053096,
           20380.10749535002,
           -22069.864633237863,
           -6411.102202238755,
           -63991.14295130197,
           -10462.597411557828,
           -38375.37717440389,
           24794.139000070776,
           17554.996290900395,
           17235.854769624144,
           1540.5763475586718,
           -8887.389357704233,
           -8179.882940307623,
           -3360.763732283289,
           -10098.611611468106,
           239515.0295361783,
           -18718.690244158686,
           -1683.9189712447187,
           45756.45764949889,
           -4791.913801918272,
           -89252.33855046658,
           -41459.82799457258,
           -23844.869994228065,
           -1628.696131361823,
           -1003.9848348933883,
           -6037.162463843597,
           -50516.64647727224,
           -25025.798239253054,
           -54369.84215815933,
           -1635.164027032025
          ],
          "coloraxis": "coloraxis",
          "pattern": {
           "shape": ""
          }
         },
         "name": "",
         "offsetgroup": "",
         "orientation": "h",
         "showlegend": false,
         "textposition": "auto",
         "type": "bar",
         "x": [
          102061.1400744794,
          -63396.24631482124,
          49592.18986997893,
          -1210.0975270025665,
          45507.63309822697,
          -7609.356483531243,
          -50190.55748683587,
          -2431.4180129645465,
          18831.986287223786,
          -60741.93286355137,
          -19146.329437857014,
          -987.1453050053096,
          20380.10749535002,
          -22069.864633237863,
          -6411.102202238755,
          -63991.14295130197,
          -10462.597411557828,
          -38375.37717440389,
          24794.139000070776,
          17554.996290900395,
          17235.854769624144,
          1540.5763475586718,
          -8887.389357704233,
          -8179.882940307623,
          -3360.763732283289,
          -10098.611611468106,
          239515.0295361783,
          -18718.690244158686,
          -1683.9189712447187,
          45756.45764949889,
          -4791.913801918272,
          -89252.33855046658,
          -41459.82799457258,
          -23844.869994228065,
          -1628.696131361823,
          -1003.9848348933883,
          -6037.162463843597,
          -50516.64647727224,
          -25025.798239253054,
          -54369.84215815933,
          -1635.164027032025
         ],
         "xaxis": "x",
         "y": [
          "United Arab Emirates",
          "Argentina",
          "Austria",
          "Bangladesh",
          "Bahrain",
          "Bolivia",
          "Chile",
          "Costa Rica",
          "Czech Republic",
          "Dominican Republic",
          "Ecuador",
          "Egypt",
          "Finland",
          "Greece",
          "Guatemala",
          "Hong Kong",
          "Honduras",
          "Hungary",
          "Iraq",
          "Jordan",
          "Cambodia",
          "Laos",
          "Myanmar",
          "Malaysia",
          "Nicaragua",
          "Norway",
          "Oman",
          "Panama",
          "Peru",
          "Philippines",
          "Paraguay",
          "Qatar",
          "Saudi Arabia",
          "Sweden",
          "Singapore",
          "El Salvador",
          "Thailand",
          "Turkey",
          "Taiwan",
          "Uruguay",
          "Venezuela"
         ],
         "yaxis": "y"
        }
       ],
       "layout": {
        "annotations": [
         {
          "align": "center",
          "font": {
           "color": "black",
           "size": 14
          },
          "showarrow": false,
          "text": "Total Sum of Differences: -114748.56",
          "x": 0.5,
          "xref": "paper",
          "y": 1.15,
          "yref": "paper"
         }
        ],
        "barmode": "relative",
        "coloraxis": {
         "colorbar": {
          "title": {
           "text": "Cumulative Difference"
          }
         },
         "colorscale": [
          [
           0,
           "rgb(247,251,255)"
          ],
          [
           0.125,
           "rgb(222,235,247)"
          ],
          [
           0.25,
           "rgb(198,219,239)"
          ],
          [
           0.375,
           "rgb(158,202,225)"
          ],
          [
           0.5,
           "rgb(107,174,214)"
          ],
          [
           0.625,
           "rgb(66,146,198)"
          ],
          [
           0.75,
           "rgb(33,113,181)"
          ],
          [
           0.875,
           "rgb(8,81,156)"
          ],
          [
           1,
           "rgb(8,48,107)"
          ]
         ],
         "showscale": true
        },
        "height": 800,
        "legend": {
         "tracegroupgap": 0
        },
        "margin": {
         "b": 40,
         "l": 80,
         "r": 20,
         "t": 100
        },
        "template": {
         "data": {
          "bar": [
           {
            "error_x": {
             "color": "#2a3f5f"
            },
            "error_y": {
             "color": "#2a3f5f"
            },
            "marker": {
             "line": {
              "color": "white",
              "width": 0.5
             },
             "pattern": {
              "fillmode": "overlay",
              "size": 10,
              "solidity": 0.2
             }
            },
            "type": "bar"
           }
          ],
          "barpolar": [
           {
            "marker": {
             "line": {
              "color": "white",
              "width": 0.5
             },
             "pattern": {
              "fillmode": "overlay",
              "size": 10,
              "solidity": 0.2
             }
            },
            "type": "barpolar"
           }
          ],
          "carpet": [
           {
            "aaxis": {
             "endlinecolor": "#2a3f5f",
             "gridcolor": "#C8D4E3",
             "linecolor": "#C8D4E3",
             "minorgridcolor": "#C8D4E3",
             "startlinecolor": "#2a3f5f"
            },
            "baxis": {
             "endlinecolor": "#2a3f5f",
             "gridcolor": "#C8D4E3",
             "linecolor": "#C8D4E3",
             "minorgridcolor": "#C8D4E3",
             "startlinecolor": "#2a3f5f"
            },
            "type": "carpet"
           }
          ],
          "choropleth": [
           {
            "colorbar": {
             "outlinewidth": 0,
             "ticks": ""
            },
            "type": "choropleth"
           }
          ],
          "contour": [
           {
            "colorbar": {
             "outlinewidth": 0,
             "ticks": ""
            },
            "colorscale": [
             [
              0,
              "#0d0887"
             ],
             [
              0.1111111111111111,
              "#46039f"
             ],
             [
              0.2222222222222222,
              "#7201a8"
             ],
             [
              0.3333333333333333,
              "#9c179e"
             ],
             [
              0.4444444444444444,
              "#bd3786"
             ],
             [
              0.5555555555555556,
              "#d8576b"
             ],
             [
              0.6666666666666666,
              "#ed7953"
             ],
             [
              0.7777777777777778,
              "#fb9f3a"
             ],
             [
              0.8888888888888888,
              "#fdca26"
             ],
             [
              1,
              "#f0f921"
             ]
            ],
            "type": "contour"
           }
          ],
          "contourcarpet": [
           {
            "colorbar": {
             "outlinewidth": 0,
             "ticks": ""
            },
            "type": "contourcarpet"
           }
          ],
          "heatmap": [
           {
            "colorbar": {
             "outlinewidth": 0,
             "ticks": ""
            },
            "colorscale": [
             [
              0,
              "#0d0887"
             ],
             [
              0.1111111111111111,
              "#46039f"
             ],
             [
              0.2222222222222222,
              "#7201a8"
             ],
             [
              0.3333333333333333,
              "#9c179e"
             ],
             [
              0.4444444444444444,
              "#bd3786"
             ],
             [
              0.5555555555555556,
              "#d8576b"
             ],
             [
              0.6666666666666666,
              "#ed7953"
             ],
             [
              0.7777777777777778,
              "#fb9f3a"
             ],
             [
              0.8888888888888888,
              "#fdca26"
             ],
             [
              1,
              "#f0f921"
             ]
            ],
            "type": "heatmap"
           }
          ],
          "heatmapgl": [
           {
            "colorbar": {
             "outlinewidth": 0,
             "ticks": ""
            },
            "colorscale": [
             [
              0,
              "#0d0887"
             ],
             [
              0.1111111111111111,
              "#46039f"
             ],
             [
              0.2222222222222222,
              "#7201a8"
             ],
             [
              0.3333333333333333,
              "#9c179e"
             ],
             [
              0.4444444444444444,
              "#bd3786"
             ],
             [
              0.5555555555555556,
              "#d8576b"
             ],
             [
              0.6666666666666666,
              "#ed7953"
             ],
             [
              0.7777777777777778,
              "#fb9f3a"
             ],
             [
              0.8888888888888888,
              "#fdca26"
             ],
             [
              1,
              "#f0f921"
             ]
            ],
            "type": "heatmapgl"
           }
          ],
          "histogram": [
           {
            "marker": {
             "pattern": {
              "fillmode": "overlay",
              "size": 10,
              "solidity": 0.2
             }
            },
            "type": "histogram"
           }
          ],
          "histogram2d": [
           {
            "colorbar": {
             "outlinewidth": 0,
             "ticks": ""
            },
            "colorscale": [
             [
              0,
              "#0d0887"
             ],
             [
              0.1111111111111111,
              "#46039f"
             ],
             [
              0.2222222222222222,
              "#7201a8"
             ],
             [
              0.3333333333333333,
              "#9c179e"
             ],
             [
              0.4444444444444444,
              "#bd3786"
             ],
             [
              0.5555555555555556,
              "#d8576b"
             ],
             [
              0.6666666666666666,
              "#ed7953"
             ],
             [
              0.7777777777777778,
              "#fb9f3a"
             ],
             [
              0.8888888888888888,
              "#fdca26"
             ],
             [
              1,
              "#f0f921"
             ]
            ],
            "type": "histogram2d"
           }
          ],
          "histogram2dcontour": [
           {
            "colorbar": {
             "outlinewidth": 0,
             "ticks": ""
            },
            "colorscale": [
             [
              0,
              "#0d0887"
             ],
             [
              0.1111111111111111,
              "#46039f"
             ],
             [
              0.2222222222222222,
              "#7201a8"
             ],
             [
              0.3333333333333333,
              "#9c179e"
             ],
             [
              0.4444444444444444,
              "#bd3786"
             ],
             [
              0.5555555555555556,
              "#d8576b"
             ],
             [
              0.6666666666666666,
              "#ed7953"
             ],
             [
              0.7777777777777778,
              "#fb9f3a"
             ],
             [
              0.8888888888888888,
              "#fdca26"
             ],
             [
              1,
              "#f0f921"
             ]
            ],
            "type": "histogram2dcontour"
           }
          ],
          "mesh3d": [
           {
            "colorbar": {
             "outlinewidth": 0,
             "ticks": ""
            },
            "type": "mesh3d"
           }
          ],
          "parcoords": [
           {
            "line": {
             "colorbar": {
              "outlinewidth": 0,
              "ticks": ""
             }
            },
            "type": "parcoords"
           }
          ],
          "pie": [
           {
            "automargin": true,
            "type": "pie"
           }
          ],
          "scatter": [
           {
            "fillpattern": {
             "fillmode": "overlay",
             "size": 10,
             "solidity": 0.2
            },
            "type": "scatter"
           }
          ],
          "scatter3d": [
           {
            "line": {
             "colorbar": {
              "outlinewidth": 0,
              "ticks": ""
             }
            },
            "marker": {
             "colorbar": {
              "outlinewidth": 0,
              "ticks": ""
             }
            },
            "type": "scatter3d"
           }
          ],
          "scattercarpet": [
           {
            "marker": {
             "colorbar": {
              "outlinewidth": 0,
              "ticks": ""
             }
            },
            "type": "scattercarpet"
           }
          ],
          "scattergeo": [
           {
            "marker": {
             "colorbar": {
              "outlinewidth": 0,
              "ticks": ""
             }
            },
            "type": "scattergeo"
           }
          ],
          "scattergl": [
           {
            "marker": {
             "colorbar": {
              "outlinewidth": 0,
              "ticks": ""
             }
            },
            "type": "scattergl"
           }
          ],
          "scattermapbox": [
           {
            "marker": {
             "colorbar": {
              "outlinewidth": 0,
              "ticks": ""
             }
            },
            "type": "scattermapbox"
           }
          ],
          "scatterpolar": [
           {
            "marker": {
             "colorbar": {
              "outlinewidth": 0,
              "ticks": ""
             }
            },
            "type": "scatterpolar"
           }
          ],
          "scatterpolargl": [
           {
            "marker": {
             "colorbar": {
              "outlinewidth": 0,
              "ticks": ""
             }
            },
            "type": "scatterpolargl"
           }
          ],
          "scatterternary": [
           {
            "marker": {
             "colorbar": {
              "outlinewidth": 0,
              "ticks": ""
             }
            },
            "type": "scatterternary"
           }
          ],
          "surface": [
           {
            "colorbar": {
             "outlinewidth": 0,
             "ticks": ""
            },
            "colorscale": [
             [
              0,
              "#0d0887"
             ],
             [
              0.1111111111111111,
              "#46039f"
             ],
             [
              0.2222222222222222,
              "#7201a8"
             ],
             [
              0.3333333333333333,
              "#9c179e"
             ],
             [
              0.4444444444444444,
              "#bd3786"
             ],
             [
              0.5555555555555556,
              "#d8576b"
             ],
             [
              0.6666666666666666,
              "#ed7953"
             ],
             [
              0.7777777777777778,
              "#fb9f3a"
             ],
             [
              0.8888888888888888,
              "#fdca26"
             ],
             [
              1,
              "#f0f921"
             ]
            ],
            "type": "surface"
           }
          ],
          "table": [
           {
            "cells": {
             "fill": {
              "color": "#EBF0F8"
             },
             "line": {
              "color": "white"
             }
            },
            "header": {
             "fill": {
              "color": "#C8D4E3"
             },
             "line": {
              "color": "white"
             }
            },
            "type": "table"
           }
          ]
         },
         "layout": {
          "annotationdefaults": {
           "arrowcolor": "#2a3f5f",
           "arrowhead": 0,
           "arrowwidth": 1
          },
          "autotypenumbers": "strict",
          "coloraxis": {
           "colorbar": {
            "outlinewidth": 0,
            "ticks": ""
           }
          },
          "colorscale": {
           "diverging": [
            [
             0,
             "#8e0152"
            ],
            [
             0.1,
             "#c51b7d"
            ],
            [
             0.2,
             "#de77ae"
            ],
            [
             0.3,
             "#f1b6da"
            ],
            [
             0.4,
             "#fde0ef"
            ],
            [
             0.5,
             "#f7f7f7"
            ],
            [
             0.6,
             "#e6f5d0"
            ],
            [
             0.7,
             "#b8e186"
            ],
            [
             0.8,
             "#7fbc41"
            ],
            [
             0.9,
             "#4d9221"
            ],
            [
             1,
             "#276419"
            ]
           ],
           "sequential": [
            [
             0,
             "#0d0887"
            ],
            [
             0.1111111111111111,
             "#46039f"
            ],
            [
             0.2222222222222222,
             "#7201a8"
            ],
            [
             0.3333333333333333,
             "#9c179e"
            ],
            [
             0.4444444444444444,
             "#bd3786"
            ],
            [
             0.5555555555555556,
             "#d8576b"
            ],
            [
             0.6666666666666666,
             "#ed7953"
            ],
            [
             0.7777777777777778,
             "#fb9f3a"
            ],
            [
             0.8888888888888888,
             "#fdca26"
            ],
            [
             1,
             "#f0f921"
            ]
           ],
           "sequentialminus": [
            [
             0,
             "#0d0887"
            ],
            [
             0.1111111111111111,
             "#46039f"
            ],
            [
             0.2222222222222222,
             "#7201a8"
            ],
            [
             0.3333333333333333,
             "#9c179e"
            ],
            [
             0.4444444444444444,
             "#bd3786"
            ],
            [
             0.5555555555555556,
             "#d8576b"
            ],
            [
             0.6666666666666666,
             "#ed7953"
            ],
            [
             0.7777777777777778,
             "#fb9f3a"
            ],
            [
             0.8888888888888888,
             "#fdca26"
            ],
            [
             1,
             "#f0f921"
            ]
           ]
          },
          "colorway": [
           "#636efa",
           "#EF553B",
           "#00cc96",
           "#ab63fa",
           "#FFA15A",
           "#19d3f3",
           "#FF6692",
           "#B6E880",
           "#FF97FF",
           "#FECB52"
          ],
          "font": {
           "color": "#2a3f5f"
          },
          "geo": {
           "bgcolor": "white",
           "lakecolor": "white",
           "landcolor": "white",
           "showlakes": true,
           "showland": true,
           "subunitcolor": "#C8D4E3"
          },
          "hoverlabel": {
           "align": "left"
          },
          "hovermode": "closest",
          "mapbox": {
           "style": "light"
          },
          "paper_bgcolor": "white",
          "plot_bgcolor": "white",
          "polar": {
           "angularaxis": {
            "gridcolor": "#EBF0F8",
            "linecolor": "#EBF0F8",
            "ticks": ""
           },
           "bgcolor": "white",
           "radialaxis": {
            "gridcolor": "#EBF0F8",
            "linecolor": "#EBF0F8",
            "ticks": ""
           }
          },
          "scene": {
           "xaxis": {
            "backgroundcolor": "white",
            "gridcolor": "#DFE8F3",
            "gridwidth": 2,
            "linecolor": "#EBF0F8",
            "showbackground": true,
            "ticks": "",
            "zerolinecolor": "#EBF0F8"
           },
           "yaxis": {
            "backgroundcolor": "white",
            "gridcolor": "#DFE8F3",
            "gridwidth": 2,
            "linecolor": "#EBF0F8",
            "showbackground": true,
            "ticks": "",
            "zerolinecolor": "#EBF0F8"
           },
           "zaxis": {
            "backgroundcolor": "white",
            "gridcolor": "#DFE8F3",
            "gridwidth": 2,
            "linecolor": "#EBF0F8",
            "showbackground": true,
            "ticks": "",
            "zerolinecolor": "#EBF0F8"
           }
          },
          "shapedefaults": {
           "line": {
            "color": "#2a3f5f"
           }
          },
          "ternary": {
           "aaxis": {
            "gridcolor": "#DFE8F3",
            "linecolor": "#A2B1C6",
            "ticks": ""
           },
           "baxis": {
            "gridcolor": "#DFE8F3",
            "linecolor": "#A2B1C6",
            "ticks": ""
           },
           "bgcolor": "white",
           "caxis": {
            "gridcolor": "#DFE8F3",
            "linecolor": "#A2B1C6",
            "ticks": ""
           }
          },
          "title": {
           "x": 0.05
          },
          "xaxis": {
           "automargin": true,
           "gridcolor": "#EBF0F8",
           "linecolor": "#EBF0F8",
           "ticks": "",
           "title": {
            "standoff": 15
           },
           "zerolinecolor": "#EBF0F8",
           "zerolinewidth": 2
          },
          "yaxis": {
           "automargin": true,
           "gridcolor": "#EBF0F8",
           "linecolor": "#EBF0F8",
           "ticks": "",
           "title": {
            "standoff": 15
           },
           "zerolinecolor": "#EBF0F8",
           "zerolinewidth": 2
          }
         }
        },
        "title": {
         "text": "Cumulative Differences Between Significant and Significant + Non-significant Data by Country"
        },
        "xaxis": {
         "anchor": "y",
         "domain": [
          0,
          1
         ],
         "title": {
          "text": "Cumulative Difference"
         }
        },
        "yaxis": {
         "anchor": "x",
         "domain": [
          0,
          1
         ],
         "title": {
          "text": "Country Name"
         }
        }
       }
      }
     },
     "metadata": {},
     "output_type": "display_data"
    }
   ],
   "source": [
    "## significance vs non-significant data check impact\n",
    "\n",
    "def create_change_columns(all_data, all_sig_data, sig_data):\n",
    "\n",
    "    all_data['perc_change_opu'] = all_data['orders_per_user_incremental'] / all_data['orders_per_user_control']\n",
    "    all_data['perc_change_flgpu'] = all_data['flgp_per_user_incremental'] / all_data['flgpu_control']\n",
    "\n",
    "    all_sig_data['perc_change_opu_sig_all'] = all_sig_data['orders_per_user_incremental'] / all_sig_data['orders_per_user_control']\n",
    "    all_sig_data['perc_change_flgpu_sig_all'] = all_sig_data['flgp_per_user_incremental'] / all_sig_data['flgpu_control']\n",
    "\n",
    "    sig_data['per_change_sig_opu'] = test_df_sig['incremental_orders_per_user_sig'] / test_df_sig['orders_per_user_control_sig']\n",
    "\n",
    "    return all_data, all_sig_data, sig_data\n",
    "\n",
    "\n",
    "def remove_outliers(df, column, group_column='country_code'):\n",
    "    \n",
    "    def filter_outliers_iq(group):\n",
    "        q1 = group[column].quantile(0.04)\n",
    "        q3 = group[column].quantile(0.96)\n",
    "        iqr = q3 - q1\n",
    "        lower_bound = q1 - 1.5 * iqr\n",
    "        upper_bound = q3 + 1.5 * iqr\n",
    "        \n",
    "        return group[(group[column] >= lower_bound) & (group[column] <= upper_bound)]\n",
    "\n",
    "    def filter_outliers_percentile(group):\n",
    "        q1 = group[column].quantile(0.01)\n",
    "        q3 = group[column].quantile(0.99)\n",
    "    \n",
    "        return group[(group[column] >= q1) & (group[column] <= q3)]\n",
    "    \n",
    "    return df.groupby(group_column, group_keys=False).apply(filter_outliers_percentile)\n",
    "\n",
    "\n",
    "all_data = test_df.copy()\n",
    "all_sig_data = filtered_df1.copy()\n",
    "sig_data = significance_df.copy()\n",
    "\n",
    "all_data, all_sig_data, sig_data = create_change_columns(all_data, all_sig_data, sig_data)\n",
    "\n",
    "# all_data = remove_outliers(all_data, 'perc_change_opu')\n",
    "# all_sig_data = remove_outliers(all_sig_data, 'perc_change_opu_sig_all')\n",
    "# sig_data = remove_outliers(sig_data, 'per_change_sig_opu')\n",
    "\n",
    "all_data = remove_outliers(all_data, 'perc_change_flgpu')\n",
    "all_sig_data = remove_outliers(all_sig_data, 'perc_change_flgpu_sig_all')\n",
    "#sig_data = remove_outliers(sig_data, 'per_change_sig_opu')\n",
    "\n",
    "\n",
    "def calculate_sig_difference(\n",
    "    base_control, oppc, oppc2, avg_total_active_users, total_exponent, increment\n",
    "):  \n",
    "\n",
    "    # Calculate number of steps for incremental application\n",
    "    num_steps = int(total_exponent / increment) + 1\n",
    "\n",
    "    # Generate exponents\n",
    "    exponents = [i * increment for i in range(num_steps)]\n",
    "\n",
    "    # Calculate results for OPPC and OPPC2\n",
    "    results_oppc = [base_control * (oppc ** exp) * avg_total_active_users for exp in exponents]\n",
    "    results_oppc2 = [base_control * (oppc2 ** exp) * avg_total_active_users for exp in exponents]\n",
    "\n",
    "    # Get the first and last values for both OPPC and OPPC2 results\n",
    "    first_value_oppc = results_oppc[0]\n",
    "    last_value_oppc = results_oppc[-1]\n",
    "    first_value_oppc2 = results_oppc2[0]\n",
    "    last_value_oppc2 = results_oppc2[-1]\n",
    "\n",
    "    return (last_value_oppc - first_value_oppc) - (last_value_oppc2 - first_value_oppc2)\n",
    "\n",
    "\n",
    "def sig_diff_summary(df, agg): \n",
    "\n",
    "    lst = [] \n",
    "    summation = 0\n",
    "\n",
    "    if agg == 'profit':\n",
    "        \n",
    "        df = remove_outliers(df, 'perc_change_flgpu_sig_all') \n",
    "        significance = 'significance_profit_per_user'\n",
    "        metric = 'perc_change_flgpu_sig_all'\n",
    "        base = 'flgpu_control'\n",
    "\n",
    "    elif agg == 'orders':\n",
    "\n",
    "        df = remove_outliers(df, 'perc_change_opu_sig_all')\n",
    "        significance = 'significance_orders_per_user'\n",
    "        metric = 'perc_change_opu_sig_all'\n",
    "        base = 'orders_per_user_control'\n",
    "\n",
    "\n",
    "    for i in df['country_name'].unique():\n",
    "        \n",
    "        tmp = df[df['country_name'] == i]\n",
    "        sig_average = tmp[tmp[significance] == 1][metric].mean()\n",
    "        all_average = tmp[metric].mean()\n",
    "        avg_control = tmp[base].mean()\n",
    "            \n",
    "        total_users = tmp['users_control'] + tmp['users_variation']\n",
    "\n",
    "        # Test the function with given parameters\n",
    "        oppc = (1 + sig_average)\n",
    "        oppc2 = (1 + all_average)\n",
    "        avg_total_active_users = total_users.mean()\n",
    "        total_exponent = 4\n",
    "        increment = 1\n",
    "\n",
    "        result = calculate_sig_difference(\n",
    "            avg_control, oppc, oppc2, avg_total_active_users, total_exponent, increment\n",
    "        )\n",
    "        \n",
    "        if result is not None and not pd.isna(result):  # Use pandas to check for missing values\n",
    "            lst.append((i, result))\n",
    "            summation += result\n",
    "\n",
    "    return lst, summation\n",
    "\n",
    "\n",
    "def create_cumulative_difference_chart(cumulative_differences, total_sum, color):\n",
    "   \n",
    "    # Prepare data for the bar chart\n",
    "    countries = [item[0] for item in cumulative_differences]\n",
    "    differences = [item[1] for item in cumulative_differences]\n",
    "\n",
    "    # Example DataFrame\n",
    "    chart_data = pd.DataFrame({\n",
    "        'Country': countries,\n",
    "        'Cumulative Difference': differences\n",
    "    })\n",
    "\n",
    "    # Create the bar chart\n",
    "    fig = px.bar(\n",
    "        chart_data,\n",
    "        x=\"Cumulative Difference\",\n",
    "        y=\"Country\",\n",
    "        orientation='h',\n",
    "        title=\"Cumulative Differences Between Significant and Significant + Non-significant Data by Country\",\n",
    "        labels={\"Cumulative Difference\": \"Cumulative Difference\", \"Country\": \"Country Code\"},\n",
    "        color=\"Cumulative Difference\",\n",
    "        color_continuous_scale= color\n",
    "    )\n",
    "\n",
    "    # Update layout for better readability and increased height\n",
    "    fig.update_layout(\n",
    "        xaxis_title=\"Cumulative Difference\",\n",
    "        yaxis_title=\"Country Name\",\n",
    "        coloraxis_showscale=True,\n",
    "        template=\"plotly_white\",\n",
    "        margin=dict(l=80, r=20, t=100, b=40),  # Increased top margin for annotation\n",
    "        height=800  # Increased height\n",
    "    )\n",
    "\n",
    "    # Add the annotation at the top\n",
    "    fig.add_annotation(\n",
    "        xref=\"paper\", yref=\"paper\",\n",
    "        x=0.5, y=1.15,  # Position above the chart\n",
    "        text=f\"Total Sum of Differences: {total_sum:.2f}\",\n",
    "        showarrow=False,\n",
    "        font=dict(size=14, color=\"black\"),\n",
    "        align=\"center\"\n",
    "    )\n",
    "\n",
    "    fig.show()\n",
    "\n",
    "cumulative_differences_orders, total_sum_orders = sig_diff_summary(all_sig_data, 'orders')\n",
    "create_cumulative_difference_chart(cumulative_differences_orders, total_sum_orders, 'Reds')\n",
    "\n",
    "cumulative_differences_profit, total_sum_profit = sig_diff_summary(all_sig_data, 'profit')\n",
    "create_cumulative_difference_chart(cumulative_differences_profit, total_sum_profit, 'Blues')\n",
    "\n",
    "\n",
    "# # Prepare data for the bar chart\n",
    "# countries = [item[0] for item in cumulative_differences]\n",
    "# differences = [item[1] for item in cumulative_differences]\n",
    "\n",
    "# # Example DataFrame\n",
    "# chart_data = pd.DataFrame({\n",
    "#     'Country': countries,\n",
    "#     'Cumulative Difference': differences\n",
    "# })\n",
    "\n",
    "# # Create the bar chart\n",
    "# fig = px.bar(\n",
    "#     chart_data,\n",
    "#     x=\"Cumulative Difference\",\n",
    "#     y=\"Country\",\n",
    "#     orientation='h',\n",
    "#     title=\"Cumulative Differences Between Significant and Significant + Non-significant Data by Country\",\n",
    "#     labels={\"Cumulative Difference\": \"Cumulative Difference\", \"Country\": \"Country Code\"},\n",
    "#     color=\"Cumulative Difference\",\n",
    "#     color_continuous_scale=\"Reds\"\n",
    "# )\n",
    "\n",
    "# # Update layout for better readability and increased height\n",
    "# fig.update_layout(\n",
    "#     xaxis_title=\"Cumulative Difference\",\n",
    "#     yaxis_title=\"Country Name\",\n",
    "#     coloraxis_showscale=True,\n",
    "#     template=\"plotly_white\",\n",
    "#     margin=dict(l=80, r=20, t=100, b=40),  # Increased top margin for annotation\n",
    "#     height=800  # Increased height\n",
    "# )\n",
    "\n",
    "# # Add the annotation at the top\n",
    "# fig.add_annotation(\n",
    "#     xref=\"paper\", yref=\"paper\",\n",
    "#     x=0.5, y=1.15,  # Position above the chart\n",
    "#     text=f\"Total Sum of Differences: {total_sum:.2f}\",\n",
    "#     showarrow=False,\n",
    "#     font=dict(size=14, color=\"black\"),\n",
    "#     align=\"center\"\n",
    "# )\n",
    "\n",
    "# # Show the interactive chart\n",
    "# fig.show()"
   ]
  },
  {
   "cell_type": "code",
   "execution_count": 777,
   "metadata": {},
   "outputs": [],
   "source": [
    "# Step 1 Caluclate the median test duration and median variation share for each country \n",
    "\n",
    "# Function to create test_capacity\n",
    "def create_duration_df(df, days_slack = 7, total_days = 330):\n",
    "    \n",
    "    duration_df = df.groupby(['region', 'brand_name', 'entity_id', 'country_name']).agg(\n",
    "        test_length=('test_length', lambda x: (x + days_slack)[x > 7].median())\n",
    "    ).reset_index().rename(columns={'test_length': 'median_test_length_days'})\n",
    "    \n",
    "    duration_df['testing_capacity'] = round(total_days / duration_df['median_test_length_days'], 2)\n",
    "    \n",
    "    return duration_df\n",
    "\n",
    "duration_df = create_duration_df(filtered_df)"
   ]
  },
  {
   "cell_type": "code",
   "execution_count": 778,
   "metadata": {},
   "outputs": [
    {
     "name": "stderr",
     "output_type": "stream",
     "text": [
      "/var/folders/7c/hjrbzbpn61jgnsn14y5f3l7c0000gq/T/ipykernel_19532/96764807.py:39: DeprecationWarning:\n",
      "\n",
      "DataFrameGroupBy.apply operated on the grouping columns. This behavior is deprecated, and in a future version of pandas the grouping columns will be excluded from the operation. Either pass `include_groups=False` to exclude the groupings or explicitly select the grouping columns after groupby to silence this warning.\n",
      "\n"
     ]
    }
   ],
   "source": [
    "# Step 2 Calculate the total users and average baseline flgpu and orders_per_user\n",
    "\n",
    "from datetime import datetime\n",
    "\n",
    "# Ensure Month column is in datetime format\n",
    "seasonal_df['Month'] = pd.to_datetime(seasonal_df['Month'])\n",
    "\n",
    "# Define the function for averaging the last 6 months for the current year\n",
    "def last_6_months_avg_current_year(group):\n",
    "    # Filter to only include data from the current year\n",
    "    current_year = datetime.now().year\n",
    "    group = group[group['Month'].dt.year == current_year]\n",
    "    \n",
    "    if not group.empty:\n",
    "        # Find the latest date in the current year group\n",
    "        latest_date = group['Month'].max()\n",
    "        # Filter to the last 6 months\n",
    "        last_6_months = group[group['Month'] >= (latest_date - pd.DateOffset(months=6))]\n",
    "        \n",
    "        # Calculate the averages\n",
    "        avg_total_active_users = last_6_months['total_users'].mean()\n",
    "        avg_flgp_per_user = last_6_months['flgpu_eur'].mean()\n",
    "        avg_orders_per_user = last_6_months['orders_per_user'].mean()\n",
    "        \n",
    "        return pd.Series({\n",
    "            'avg_total_active_users': avg_total_active_users,\n",
    "            'avg_flgp_per_user': avg_flgp_per_user,\n",
    "            'avg_orders_per_user': avg_orders_per_user\n",
    "        })\n",
    "    else:\n",
    "        # Return NaN for each column if the group is empty\n",
    "        return pd.Series({\n",
    "            'avg_total_active_users': float('nan'),\n",
    "            'avg_flgp_per_user': float('nan'),\n",
    "            'avg_orders_per_user': float('nan')\n",
    "        })\n",
    "\n",
    "# Apply the function to the DataFrame grouped by the specified columns\n",
    "users_df = seasonal_df.groupby('entity_id').apply(last_6_months_avg_current_year).reset_index()"
   ]
  },
  {
   "cell_type": "code",
   "execution_count": 779,
   "metadata": {},
   "outputs": [],
   "source": [
    "# Step 3 Calculate the share of tests for different scenarios \n",
    "\n",
    "def test_pecentage(df):\n",
    "    \n",
    "    pivot_table = df.groupby(['region', 'brand_name', 'entity_id', 'country_name', 'scenario']).agg(\n",
    "        {'test_id': 'nunique'}\n",
    "    ).reset_index().pivot_table(index=['region', 'brand_name', 'entity_id', 'country_name'],\n",
    "                                columns='scenario', values='test_id', fill_value=0)\n",
    "    \n",
    "    pivot_table = pivot_table.reset_index()\n",
    "    \n",
    "    pivot_table['Total_tests'] = pivot_table['CPiO - Growth at a Cost'] + pivot_table['Lose-Lose'] + \\\n",
    "                                 pivot_table['MPOL - Profit at a Cost'] + pivot_table['Win-Win']\n",
    "    \n",
    "    pivot_table['percentage_growth'] = (pivot_table['CPiO - Growth at a Cost'] / pivot_table['Total_tests'])\n",
    "    pivot_table['percentage_lose_lose'] = (pivot_table['Lose-Lose'] / pivot_table['Total_tests'])\n",
    "    pivot_table['percentage_profit'] = (pivot_table['MPOL - Profit at a Cost'] / pivot_table['Total_tests'])\n",
    "    pivot_table['percentage_win_win'] = (pivot_table['Win-Win'] / pivot_table['Total_tests'])\n",
    "    \n",
    "    return pivot_table\n",
    "\n",
    "test_perc_df = test_pecentage(filtered_df)"
   ]
  },
  {
   "cell_type": "code",
   "execution_count": 780,
   "metadata": {},
   "outputs": [
    {
     "name": "stderr",
     "output_type": "stream",
     "text": [
      "/var/folders/7c/hjrbzbpn61jgnsn14y5f3l7c0000gq/T/ipykernel_19532/3835771747.py:35: DeprecationWarning:\n",
      "\n",
      "DataFrameGroupBy.apply operated on the grouping columns. This behavior is deprecated, and in a future version of pandas the grouping columns will be excluded from the operation. Either pass `include_groups=False` to exclude the groupings or explicitly select the grouping columns after groupby to silence this warning.\n",
      "\n",
      "/var/folders/7c/hjrbzbpn61jgnsn14y5f3l7c0000gq/T/ipykernel_19532/3835771747.py:44: DeprecationWarning:\n",
      "\n",
      "DataFrameGroupBy.apply operated on the grouping columns. This behavior is deprecated, and in a future version of pandas the grouping columns will be excluded from the operation. Either pass `include_groups=False` to exclude the groupings or explicitly select the grouping columns after groupby to silence this warning.\n",
      "\n",
      "/var/folders/7c/hjrbzbpn61jgnsn14y5f3l7c0000gq/T/ipykernel_19532/3835771747.py:53: DeprecationWarning:\n",
      "\n",
      "DataFrameGroupBy.apply operated on the grouping columns. This behavior is deprecated, and in a future version of pandas the grouping columns will be excluded from the operation. Either pass `include_groups=False` to exclude the groupings or explicitly select the grouping columns after groupby to silence this warning.\n",
      "\n",
      "/var/folders/7c/hjrbzbpn61jgnsn14y5f3l7c0000gq/T/ipykernel_19532/3835771747.py:62: DeprecationWarning:\n",
      "\n",
      "DataFrameGroupBy.apply operated on the grouping columns. This behavior is deprecated, and in a future version of pandas the grouping columns will be excluded from the operation. Either pass `include_groups=False` to exclude the groupings or explicitly select the grouping columns after groupby to silence this warning.\n",
      "\n",
      "/var/folders/7c/hjrbzbpn61jgnsn14y5f3l7c0000gq/T/ipykernel_19532/3835771747.py:71: DeprecationWarning:\n",
      "\n",
      "DataFrameGroupBy.apply operated on the grouping columns. This behavior is deprecated, and in a future version of pandas the grouping columns will be excluded from the operation. Either pass `include_groups=False` to exclude the groupings or explicitly select the grouping columns after groupby to silence this warning.\n",
      "\n"
     ]
    }
   ],
   "source": [
    "# Step 4 Calculate the incremental percentage change for flgpu and orders_per_user\n",
    "\n",
    "def calculate_incremental_means(df):\n",
    "    \n",
    "    # Define target countries and scenarios\n",
    "    target_countries_first = ['Venezuela', 'Honduras']\n",
    "    target_scenarios_first = ['Win-Win']\n",
    "\n",
    "    target_countries_second = ['Slovakia']\n",
    "    target_scenarios_second = ['CPiO - Growth at a Cost']\n",
    "\n",
    "    target_countries_third = ['Jordan']\n",
    "    target_scenarios_third = ['Win-Win']\n",
    "\n",
    "    target_countries_fourth = ['Greece']\n",
    "    target_scenarios_fourth = ['Win-Win']\n",
    "\n",
    "    target_countries_fifth = ['Peru']\n",
    "    target_scenarios_fifth = ['MPOL - Profit at a Cost']\n",
    "\n",
    "    # Define filtering function\n",
    "    def filter_by_quantiles(group, upper, lower):\n",
    "        flgp_upper = group['flgp_per_user_incremental'].quantile(upper)\n",
    "        flgp_lower = group['flgp_per_user_incremental'].quantile(lower)\n",
    "        return group[(group['flgp_per_user_incremental'] <= flgp_upper) & \n",
    "                    (group['flgp_per_user_incremental'] >= flgp_lower)]\n",
    "\n",
    "    # Apply filtering for the first set of target countries and scenarios\n",
    "    tmp1 = df[\n",
    "        (df['country_name'].isin(target_countries_first)) & \n",
    "        (df['scenario'].isin(target_scenarios_first))\n",
    "    ]\n",
    "    filtered_target_df_1 = tmp1.groupby(\n",
    "        ['region', 'brand_name', 'entity_id', 'country_name']\n",
    "    ).apply(lambda x: filter_by_quantiles(x, 0.5, 0)).reset_index(drop=True)\n",
    "\n",
    "    # Apply filtering for the second set of target countries and scenarios\n",
    "    tmp2 = df[\n",
    "        (df['country_name'].isin(target_countries_second)) & \n",
    "        (df['scenario'].isin(target_scenarios_second))\n",
    "    ]\n",
    "    filtered_target_df_2 = tmp2.groupby(\n",
    "        ['region', 'brand_name', 'entity_id', 'country_name']\n",
    "    ).apply(lambda x: filter_by_quantiles(x, 1, 0.5)).reset_index(drop=True)\n",
    "\n",
    "    # Apply filtering for the second set of target countries and scenarios\n",
    "    tmp3 = df[\n",
    "        (df['country_name'].isin(target_countries_third)) & \n",
    "        (df['scenario'].isin(target_scenarios_third))\n",
    "    ]\n",
    "    filtered_target_df_3 = tmp3.groupby(\n",
    "        ['region', 'brand_name', 'entity_id', 'country_name']\n",
    "    ).apply(lambda x: filter_by_quantiles(x, 0.5, 0)).reset_index(drop=True)\n",
    "\n",
    "    # Apply filtering for the second set of target countries and scenarios\n",
    "    tmp4 = df[\n",
    "        (df['country_name'].isin(target_countries_fourth)) & \n",
    "        (df['scenario'].isin(target_scenarios_fourth))\n",
    "    ]\n",
    "    filtered_target_df_4 = tmp4.groupby(\n",
    "        ['region', 'brand_name', 'entity_id', 'country_name']\n",
    "    ).apply(lambda x: filter_by_quantiles(x, 0.5, 0)).reset_index(drop=True)\n",
    "\n",
    "    # Apply filtering for the second set of target countries and scenarios\n",
    "    tmp5 = df[\n",
    "        (df['country_name'].isin(target_countries_fourth)) & \n",
    "        (df['scenario'].isin(target_scenarios_fourth))\n",
    "    ]\n",
    "    filtered_target_df_5 = tmp5.groupby(\n",
    "        ['region', 'brand_name', 'entity_id', 'country_name']\n",
    "    ).apply(lambda x: filter_by_quantiles(x, 0.5, 0)).reset_index(drop=True)\n",
    "\n",
    "    # Combine target country and scenario conditions for exclusion\n",
    "    exclude_conditions = (\n",
    "        ((df['country_name'].isin(target_countries_first)) & \n",
    "        (df['scenario'].isin(target_scenarios_first))) |\n",
    "        ((df['country_name'].isin(target_countries_second)) & \n",
    "        (df['scenario'].isin(target_scenarios_second))) |\n",
    "        ((df['country_name'].isin(target_countries_third)) & \n",
    "        (df['scenario'].isin(target_scenarios_third))) |\n",
    "        ((df['country_name'].isin(target_countries_fourth)) & \n",
    "        (df['scenario'].isin(target_scenarios_fourth))) | \n",
    "        ((df['country_name'].isin(target_countries_fifth)) & \n",
    "        (df['scenario'].isin(target_scenarios_fifth)))\n",
    "    )\n",
    "\n",
    "    # Filter for other countries and scenarios\n",
    "    other_countries_df = df[~exclude_conditions]\n",
    "\n",
    "    # Perform filtering only for `flgpu_perc_change`\n",
    "    filtered_df_flgpu = pd.concat([filtered_target_df_1, filtered_target_df_2, filtered_target_df_3, filtered_target_df_4, filtered_target_df_5, other_countries_df], ignore_index=True)\n",
    "\n",
    "    # Use the unfiltered dataset for `orders_per_user_perc_change`\n",
    "    unfiltered_df = df.copy()\n",
    "\n",
    "    # Group and calculate metrics for `flgpu_perc_change` from the filtered data\n",
    "    flgpu_df = filtered_df_flgpu.groupby(['region', 'brand_name', 'entity_id', 'country_name', 'scenario']).agg(\n",
    "        flgp_per_user_incremental=('flgp_per_user_incremental', 'mean'),\n",
    "        flgpu_control_mean=('flgpu_control', 'mean')\n",
    "    ).reset_index()\n",
    "\n",
    "    # Calculate the percentage change for FLGP\n",
    "    flgpu_df['flgpu_perc_change'] = 1 + (flgpu_df['flgp_per_user_incremental'] / abs(flgpu_df['flgpu_control_mean']))\n",
    "\n",
    "    # Group and calculate metrics for `orders_per_user_perc_change` from the unfiltered data\n",
    "    orders_df = unfiltered_df.groupby(['region', 'brand_name', 'entity_id', 'country_name', 'scenario']).agg(\n",
    "        orders_per_user_incremental=('orders_per_user_incremental', 'mean'),\n",
    "        orders_per_user_control_mean=('orders_per_user_control', 'mean')\n",
    "    ).reset_index()\n",
    "\n",
    "    # Calculate the percentage change for orders\n",
    "    orders_df['orders_per_user_perc_change'] = 1 + (orders_df['orders_per_user_incremental'] / abs(orders_df['orders_per_user_control_mean']))\n",
    "\n",
    "    # Merge the two datasets\n",
    "    combined_df = pd.merge(flgpu_df, orders_df, on=['region', 'brand_name', 'entity_id', 'country_name', 'scenario'], how='outer')\n",
    "\n",
    "    # Pivot table with scenario as columns\n",
    "    pivot_table = combined_df.pivot_table(\n",
    "        index=['region', 'brand_name', 'entity_id', 'country_name'],\n",
    "        columns='scenario',\n",
    "        values=['flgpu_control_mean', 'orders_per_user_control_mean', 'flgp_per_user_incremental', 'orders_per_user_incremental', 'flgpu_perc_change', 'orders_per_user_perc_change'],\n",
    "        fill_value=0\n",
    "    )\n",
    "\n",
    "    # Flatten the pivot table for a clean structure\n",
    "    pivot_table_reset = pivot_table.reset_index()\n",
    "    pivot_table_flat = pivot_table_reset.copy()\n",
    "    pivot_table_flat.columns = ['_'.join(col).strip() if isinstance(col, tuple) else col for col in pivot_table_flat.columns]\n",
    "    pivot_table_flat = pivot_table_flat.rename(columns={'region_': 'region', 'brand_name_': 'brand_name',\n",
    "                                                        'entity_id_': 'entity_id', 'country_name_': 'country_name'})\n",
    "\n",
    "    return pivot_table_flat\n",
    "\n",
    "incremental_df = calculate_incremental_means(filtered_df)"
   ]
  },
  {
   "cell_type": "code",
   "execution_count": 781,
   "metadata": {},
   "outputs": [],
   "source": [
    "# # Step 4 Calculate the incremental percentage change for flgpu and orders_per_user\n",
    "\n",
    "\n",
    "# def calculate_incremental_means(df):\n",
    "    \n",
    "\n",
    "#     df_tmp = df.groupby(['region', 'brand_name', 'entity_id', 'country_name', 'scenario']).agg(\n",
    "#         flgp_per_user_incremental=('flgp_per_user_incremental', 'mean'),\n",
    "#         orders_per_user_incremental=('orders_per_user_incremental', 'mean'),\n",
    "#         flgpu_control_mean=('flgpu_control', 'mean'),\n",
    "#         orders_per_user_control_mean=('orders_per_user_control', 'mean')\n",
    "#     ).reset_index()\n",
    "\n",
    "\n",
    "#     df_tmp['flgpu_perc_change'] = 1 + (df_tmp['flgp_per_user_incremental'] / abs(df_tmp['flgpu_control_mean']))\n",
    "#     df_tmp['orders_per_user_perc_change'] = 1 + (df_tmp['orders_per_user_incremental'] / abs(df_tmp['orders_per_user_control_mean']))\n",
    "\n",
    "#     # Pivot table with scenario as columns\n",
    "#     pivot_table_extended_pivot = df_tmp.pivot_table(index=['region', 'brand_name', 'entity_id', 'country_name'],\n",
    "#                                                                   columns='scenario',\n",
    "#                                                                   values=['flgpu_control_mean','orders_per_user_control_mean','flgp_per_user_incremental', 'orders_per_user_incremental','flgpu_perc_change','orders_per_user_perc_change'],\n",
    "#                                                                   #values=['flgpu_perc_change'],\n",
    "#                                                                   fill_value=0)\n",
    "    \n",
    "#     pivot_table_extended_pivot_reset = pivot_table_extended_pivot.reset_index()\n",
    "    \n",
    "#     pivot_table_flat = pivot_table_extended_pivot_reset.copy()\n",
    "#     pivot_table_flat.columns = ['_'.join(col).strip() if isinstance(col, tuple) else col for col in pivot_table_flat.columns]\n",
    "    \n",
    "#     pivot_table_flat = pivot_table_flat.rename(columns={'region_': 'region', 'brand_name_': 'brand_name',\n",
    "#                                                         'entity_id_': 'entity_id', 'country_name_': 'country_name'})\n",
    "    \n",
    "#     return pivot_table_flat\n",
    "\n",
    "# incremental_df = calculate_incremental_means(filtered_df)"
   ]
  },
  {
   "cell_type": "code",
   "execution_count": 782,
   "metadata": {},
   "outputs": [],
   "source": [
    "# Step 4 Merge all of the dataframes\n",
    "\n",
    "merged_df_first = pd.merge(duration_df, users_df, on =  'entity_id', how='left')\n",
    "merged_df_second = pd.merge(merged_df_first, test_perc_df, on=['region', 'brand_name', 'entity_id', 'country_name'], how='left')\n",
    "final_df = pd.merge(merged_df_second, incremental_df, on=['region', 'brand_name', 'entity_id', 'country_name'], how='left')"
   ]
  },
  {
   "cell_type": "code",
   "execution_count": 783,
   "metadata": {},
   "outputs": [],
   "source": [
    "# Set the discount factor for the calculations\n",
    "discount_factor = 1\n",
    "\n",
    "# Define functions to calculate each orders impact (Method 3)\n",
    "def calculate_orders_growth_method(row):\n",
    "    return (\n",
    "        row['avg_orders_per_user'] * \n",
    "        (((row['orders_per_user_perc_change_CPiO - Growth at a Cost']) ** (discount_factor * row['testing_capacity'] * row['percentage_growth']))) * \n",
    "        row['avg_total_active_users']\n",
    "    )\n",
    "\n",
    "def calculate_orders_profit_method(row):\n",
    "    return (\n",
    "        row['avg_orders_per_user'] * \n",
    "        (((row['orders_per_user_perc_change_MPOL - Profit at a Cost']) ** (discount_factor * row['testing_capacity'] * row['percentage_profit']))) * \n",
    "        row['avg_total_active_users']\n",
    "    )\n",
    "\n",
    "def calculate_orders_win_method(row):\n",
    "    return (\n",
    "        row['avg_orders_per_user'] * \n",
    "        (((row['orders_per_user_perc_change_Win-Win']) ** (discount_factor * row['testing_capacity'] * row['percentage_win_win']))) * \n",
    "        row['avg_total_active_users']\n",
    "    )\n",
    "\n",
    "# Apply the Method 3 functions to the DataFrame for orders impact\n",
    "final_df['orders_impact_growth'] = final_df.apply(calculate_orders_growth_method, axis=1)\n",
    "final_df['orders_impact_profit'] = final_df.apply(calculate_orders_profit_method, axis=1)\n",
    "final_df['orders_impact_win'] = final_df.apply(calculate_orders_win_method, axis=1)\n",
    "\n",
    "# Calculate the baseline orders\n",
    "final_df['baseline_orders'] = final_df['avg_total_active_users'] * final_df['avg_orders_per_user']\n",
    "\n",
    "# Calculate the final orders impact\n",
    "final_df['orders_impact_incremental'] = (\n",
    "    (final_df['orders_impact_growth'] - final_df['baseline_orders']) +\n",
    "    (final_df['orders_impact_profit'] - final_df['baseline_orders']) +\n",
    "    (final_df['orders_impact_win'] - final_df['baseline_orders'])\n",
    ")\n"
   ]
  },
  {
   "cell_type": "code",
   "execution_count": 784,
   "metadata": {},
   "outputs": [],
   "source": [
    "# Set the new discount factor\n",
    "discount_factor = 1\n",
    "\n",
    "def calculate_impact_growth_method(row):\n",
    "    base_value = row['flgpu_perc_change_CPiO - Growth at a Cost'] * discount_factor\n",
    "    return (\n",
    "        row['avg_flgp_per_user'] *\n",
    "        (np.abs(base_value) ** (row['testing_capacity'] * row['percentage_growth'])) *\n",
    "        row['avg_total_active_users']\n",
    "    )\n",
    "\n",
    "def calculate_impact_profit_method(row):\n",
    "    base_value = row['flgpu_perc_change_MPOL - Profit at a Cost'] * discount_factor\n",
    "    return (\n",
    "        row['avg_flgp_per_user'] *\n",
    "        (np.abs(base_value) ** (row['testing_capacity'] * row['percentage_profit'])) *\n",
    "        row['avg_total_active_users']\n",
    "    )\n",
    "\n",
    "def calculate_impact_win_method(row):\n",
    "    base_value = row['flgpu_perc_change_Win-Win'] * discount_factor\n",
    "    return (\n",
    "       row['avg_flgp_per_user'] *\n",
    "        (np.abs(base_value) ** (row['testing_capacity'] * row['percentage_win_win'])) *\n",
    "        row['avg_total_active_users']\n",
    "    )\n",
    "\n",
    "# Apply the updated functions to the DataFrame\n",
    "final_df['flgp_impact_growth'] = final_df.apply(calculate_impact_growth_method, axis=1)\n",
    "final_df['flgp_impact_profit'] = final_df.apply(calculate_impact_profit_method, axis=1)\n",
    "final_df['flgp_impact_win'] = final_df.apply(calculate_impact_win_method, axis=1)\n",
    "\n",
    "# Calculate the baseline FLGP\n",
    "final_df['baseline_flgp'] = final_df['avg_total_active_users'] * final_df['avg_flgp_per_user']\n",
    "\n",
    "# Calculate the final impact using the updated results\n",
    "final_df['flgp_impact_incremental'] = (\n",
    "    (final_df['flgp_impact_growth'] - final_df['baseline_flgp']) +\n",
    "    (final_df['flgp_impact_profit'] - final_df['baseline_flgp']) +\n",
    "    (final_df['flgp_impact_win'] - final_df['baseline_flgp'])\n",
    ")\n"
   ]
  },
  {
   "cell_type": "code",
   "execution_count": 785,
   "metadata": {},
   "outputs": [],
   "source": [
    "# import numpy as np\n",
    "# import matplotlib.pyplot as plt\n",
    "\n",
    "# # Define a function to calculate orders impact at each exponent level\n",
    "# def calculate_exponent_orders_impact(row, max_exponent, increment=1):\n",
    "#     exponents = np.arange(0, max_exponent + increment, increment)\n",
    "#     growth_impacts = []\n",
    "#     profit_impacts = []\n",
    "#     win_impacts = []\n",
    "    \n",
    "#     for exp in exponents:\n",
    "#         growth_impact = (\n",
    "#             row['avg_orders_per_user'] *\n",
    "#             ((row['orders_per_user_perc_change_CPiO - Growth at a Cost'] ** exp) * row['avg_total_active_users'])\n",
    "#         )\n",
    "#         profit_impact = (\n",
    "#             row['avg_orders_per_user'] *\n",
    "#             ((row['orders_per_user_perc_change_MPOL - Profit at a Cost'] ** exp) * row['avg_total_active_users'])\n",
    "#         )\n",
    "#         win_impact = (\n",
    "#             row['avg_orders_per_user'] *\n",
    "#             ((row['orders_per_user_perc_change_Win-Win'] ** exp) * row['avg_total_active_users'])\n",
    "#         )\n",
    "        \n",
    "#         growth_impacts.append(growth_impact)\n",
    "#         profit_impacts.append(profit_impact)\n",
    "#         win_impacts.append(win_impact)\n",
    "    \n",
    "#     return exponents, growth_impacts, profit_impacts, win_impacts\n",
    "\n",
    "# # Visualization of orders impact per exponent by country\n",
    "# countries = final_df['country_name'].unique()\n",
    "# max_exponent = 4  # Adjust as needed\n",
    "\n",
    "# for country in countries:\n",
    "#     country_data = final_df[final_df['country_name'] == country].iloc[0]\n",
    "#     exponents, growth_impacts, profit_impacts, win_impacts = calculate_exponent_orders_impact(country_data, max_exponent)\n",
    "    \n",
    "#     plt.figure(figsize=(10, 6))\n",
    "#     plt.plot(exponents, growth_impacts, marker='o', linestyle='-', label=\"Growth Orders Impact\")\n",
    "#     plt.plot(exponents, profit_impacts, marker='s', linestyle='-', label=\"Profit Orders Impact\")\n",
    "#     plt.plot(exponents, win_impacts, marker='^', linestyle='-', label=\"Win-Win Orders Impact\")\n",
    "    \n",
    "#     plt.title(f\"Orders Impact by Exponent for {country}\")\n",
    "#     plt.xlabel(\"Exponent Level\")\n",
    "#     plt.ylabel(\"Orders Impact\")\n",
    "#     plt.legend()\n",
    "#     plt.grid(True)\n",
    "#     plt.show()\n"
   ]
  },
  {
   "cell_type": "code",
   "execution_count": 786,
   "metadata": {},
   "outputs": [],
   "source": [
    "# import numpy as np\n",
    "# import matplotlib.pyplot as plt\n",
    "\n",
    "# import numpy as np\n",
    "\n",
    "# def calculate_impacts(rows, discount_factor):\n",
    "#     growth_impacts = []\n",
    "#     profit_impacts = []\n",
    "#     win_impacts = []\n",
    "#     baseline_flgps = []\n",
    "#     incremental_impacts = []\n",
    "\n",
    "#     for row in rows:\n",
    "#         try:\n",
    "#             # Ensure no missing values\n",
    "#             if None in (\n",
    "#                 row.get('avg_flgp_per_user'), \n",
    "#                 row.get('flgpu_perc_change_CPiO - Growth at a Cost'), \n",
    "#                 row.get('flgpu_perc_change_MPOL - Profit at a Cost'), \n",
    "#                 row.get('flgpu_perc_change_Win-Win'), \n",
    "#                 row.get('avg_total_active_users'),\n",
    "#                 row.get('testing_capacity'),\n",
    "#                 row.get('percentage_growth'),\n",
    "#                 row.get('percentage_profit'),\n",
    "#                 row.get('percentage_win_win')\n",
    "#             ):\n",
    "#                 raise ValueError(\"Missing data in row\")\n",
    "            \n",
    "#             # Growth impact calculation\n",
    "#             base_growth = row['flgpu_perc_change_CPiO - Growth at a Cost'] * discount_factor\n",
    "#             growth_impact = (\n",
    "#                 row['avg_flgp_per_user'] *\n",
    "#                 (np.abs(base_growth) ** (row['testing_capacity'] * row['percentage_growth'])) *\n",
    "#                 row['avg_total_active_users']\n",
    "#             )\n",
    "#             growth_impacts.append(growth_impact)\n",
    "            \n",
    "#             # Profit impact calculation\n",
    "#             base_profit = row['flgpu_perc_change_MPOL - Profit at a Cost'] * discount_factor\n",
    "#             profit_impact = (\n",
    "#                 row['avg_flgp_per_user'] *\n",
    "#                 (np.abs(base_profit) ** (row['testing_capacity'] * row['percentage_profit'])) *\n",
    "#                 row['avg_total_active_users']\n",
    "#             )\n",
    "#             profit_impacts.append(profit_impact)\n",
    "            \n",
    "#             # Win impact calculation\n",
    "#             base_win = row['flgpu_perc_change_Win-Win'] * discount_factor\n",
    "#             win_impact = (\n",
    "#                 row['avg_flgp_per_user'] *\n",
    "#                 (np.abs(base_win) ** (row['testing_capacity'] * row['percentage_win_win'])) *\n",
    "#                 row['avg_total_active_users']\n",
    "#             )\n",
    "#             win_impacts.append(win_impact)\n",
    "            \n",
    "#             # Baseline FLGP calculation\n",
    "#             baseline_flgp = row['avg_total_active_users'] * row['avg_flgp_per_user']\n",
    "#             baseline_flgps.append(baseline_flgp)\n",
    "            \n",
    "#             # Incremental impact calculation\n",
    "#             incremental_impact = (\n",
    "#                 (growth_impact - baseline_flgp) +\n",
    "#                 (profit_impact - baseline_flgp) +\n",
    "#                 (win_impact - baseline_flgp)\n",
    "#             )\n",
    "#             incremental_impacts.append(incremental_impact)\n",
    "\n",
    "#         except ValueError as e:\n",
    "#             print(f\"ValueError encountered for row: {row}, error: {e}\")\n",
    "#         except TypeError as e:\n",
    "#             print(f\"TypeError encountered for row: {row}, error: {e}\")\n",
    "    \n",
    "#     return {\n",
    "#         'growth_impacts': growth_impacts,\n",
    "#         'profit_impacts': profit_impacts,\n",
    "#         'win_impacts': win_impacts,\n",
    "#         'baseline_flgps': baseline_flgps,\n",
    "#         'incremental_impacts': incremental_impacts\n",
    "#     }\n",
    "\n",
    "      \n",
    "    \n",
    "#     # growth_impacts = []\n",
    "#     # profit_impacts = []\n",
    "#     # win_impacts = []\n",
    "    \n",
    "#     # for exp in exponents:\n",
    "#     #     # growth_impacts.append(row['avg_flgp_per_user'] * (np.abs(row['flgpu_perc_change_CPiO - Growth at a Cost'] * discount_factor) ** exp) * row['avg_total_active_users'])\n",
    "#     #     # profit_impacts.append(row['avg_flgp_per_user'] * (np.abs(row['flgpu_perc_change_MPOL - Profit at a Cost'] * discount_factor) ** exp) * row['avg_total_active_users'])\n",
    "#     #     # win_impacts.append(row['avg_flgp_per_user'] * (np.abs(row['flgpu_perc_change_Win-Win'] * discount_factor) ** exp) * row['avg_total_active_users'])\n",
    "\n",
    "#     #     growth_impacts.append(row['avg_flgp_per_user'] * (row['flgpu_perc_change_CPiO - Growth at a Cost'] * discount_factor) ** exp) * row['avg_total_active_users']\n",
    "#     #     profit_impacts.append(row['avg_flgp_per_user'] * (row['flgpu_perc_change_MPOL - Profit at a Cost'] * discount_factor) ** exp) * row['avg_total_active_users']\n",
    "#     #     win_impacts.append(row['avg_flgp_per_user'] * (row['flgpu_perc_change_Win-Win'] * discount_factor) ** exp) * row['avg_total_active_users']\n",
    "\n",
    "#     # return exponents, growth_impacts, profit_impacts, win_impacts\n",
    "\n",
    "# # Visualization of impacts per exponent by country\n",
    "# countries = final_df['country_name'].unique()\n",
    "# max_exponent = 4  # Adjust as needed\n",
    "\n",
    "# for country in countries:\n",
    "#     country_data = final_df[final_df['country_name'] == country].iloc[0]\n",
    "#     exponents, growth_impacts, profit_impacts, win_impacts = calculate_exponent_impact(country_data, max_exponent)\n",
    "    \n",
    "#     plt.figure(figsize=(10, 6))\n",
    "#     plt.plot(exponents, growth_impacts, marker='o', linestyle='-', label=\"Growth Impact\")\n",
    "#     plt.plot(exponents, profit_impacts, marker='s', linestyle='-', label=\"Profit Impact\")\n",
    "#     plt.plot(exponents, win_impacts, marker='^', linestyle='-', label=\"Win-Win Impact\")\n",
    "    \n",
    "#     plt.title(f\"FLGP Impact by Exponent for {country}\")\n",
    "#     plt.xlabel(\"Exponent Level\")\n",
    "#     plt.ylabel(\"Impact\")\n",
    "#     plt.legend()\n",
    "#     plt.grid(True)\n",
    "#     plt.show()\n"
   ]
  },
  {
   "cell_type": "code",
   "execution_count": 787,
   "metadata": {},
   "outputs": [],
   "source": [
    "def calculate_yoy_growth(df, target_year=2024, base_year=2023):\n",
    "    \"\"\"\n",
    "    Calculate Year-over-Year (YoY) growth for fully loaded gross profit, orders, and users.\n",
    "    Fills missing target year values based on the average YoY growth for each entity.\n",
    "    \n",
    "    Parameters:\n",
    "        df (pd.DataFrame): The input DataFrame with 'Month', 'entity_id', 'fully_loaded_gross_profit_eur',\n",
    "                           'total_orders', and 'total_users' columns.\n",
    "        target_year (int): The year for which we want to fill missing values (default is 2024).\n",
    "        base_year (int): The base year for calculating YoY growth (default is 2023).\n",
    "    \n",
    "    Returns:\n",
    "        pd.DataFrame: A DataFrame with aggregated total values for each entity in both the base and target years.\n",
    "    \"\"\"\n",
    "    df = df.copy()\n",
    "\n",
    "    # Extract month and year from the date column\n",
    "    df['Month_o'] = pd.to_datetime(df['Month']).dt.month\n",
    "    df['Year_o'] = pd.to_datetime(df['Month']).dt.year\n",
    "\n",
    "    # Initialize an empty DataFrame to store results for all entities\n",
    "    all_entities_results = pd.DataFrame()\n",
    "\n",
    "    # Get unique entities\n",
    "    entities = df['entity_id'].unique()\n",
    "\n",
    "    # Loop through each entity to calculate metrics and fill missing target year values\n",
    "    for entity in entities:\n",
    "        # Filter data for the current entity\n",
    "        entity_df = df[df['entity_id'] == entity]\n",
    "\n",
    "        pivot_df = entity_df.pivot_table(\n",
    "            index=['entity_id', 'Month_o'],\n",
    "            columns='Year_o', \n",
    "            values=['fully_loaded_gross_profit_eur', 'total_orders', 'total_users'], \n",
    "            fill_value=0\n",
    "        ).reset_index()\n",
    "\n",
    "        # Flatten the multi-level columns to a single level\n",
    "        pivot_df.columns = [f\"{col[0]}_{col[1]}\" if isinstance(col, tuple) else col for col in pivot_df.columns]\n",
    "\n",
    "        pivot_df.rename(columns={'entity_id_': 'entity_id'}, inplace = True)\n",
    "\n",
    "        # Calculate percentage change for each metric\n",
    "        pivot_df[\"profit_yoy_change\"] = np.where(\n",
    "            pivot_df[f\"fully_loaded_gross_profit_eur_{target_year}\"] != 0,\n",
    "            ((pivot_df[f\"fully_loaded_gross_profit_eur_{target_year}\"] - pivot_df[f\"fully_loaded_gross_profit_eur_{base_year}\"]) /\n",
    "             pivot_df[f\"fully_loaded_gross_profit_eur_{base_year}\"]),\n",
    "            np.nan\n",
    "        )\n",
    "        \n",
    "        pivot_df[\"orders_yoy_change\"] = np.where(\n",
    "            pivot_df[f\"total_orders_{target_year}\"] != 0,\n",
    "            ((pivot_df[f\"total_orders_{target_year}\"] - pivot_df[f\"total_orders_{base_year}\"]) /\n",
    "             pivot_df[f\"total_orders_{base_year}\"]),\n",
    "            np.nan\n",
    "        )\n",
    "\n",
    "        pivot_df[\"users_yoy_change\"] = np.where(\n",
    "            pivot_df[f\"total_users_{target_year}\"] != 0,\n",
    "            ((pivot_df[f\"total_users_{target_year}\"] - pivot_df[f\"total_users_{base_year}\"]) /\n",
    "             pivot_df[f\"total_users_{base_year}\"]),\n",
    "            np.nan\n",
    "        )\n",
    "\n",
    "        # Calculate average YoY changes\n",
    "        average_yoy_profit = pivot_df[\"profit_yoy_change\"].mean()\n",
    "        average_yoy_orders = pivot_df[\"orders_yoy_change\"].mean()\n",
    "        average_yoy_users = pivot_df[\"users_yoy_change\"].mean()\n",
    "\n",
    "        # Fill missing target year values based on average YoY change\n",
    "        pivot_df[f'fully_loaded_gross_profit_eur_{target_year}'] = np.where(\n",
    "            pivot_df[f'fully_loaded_gross_profit_eur_{target_year}'] == 0,\n",
    "            pivot_df[f'fully_loaded_gross_profit_eur_{base_year}'] * (1 + average_yoy_profit),\n",
    "            pivot_df[f'fully_loaded_gross_profit_eur_{target_year}']\n",
    "        )\n",
    "        \n",
    "        pivot_df[f'total_orders_{target_year}'] = np.where(\n",
    "            pivot_df[f'total_orders_{target_year}'] == 0,\n",
    "            pivot_df[f'total_orders_{base_year}'] * (1 + average_yoy_orders),\n",
    "            pivot_df[f'total_orders_{target_year}']\n",
    "        )\n",
    "        \n",
    "        pivot_df[f'total_users_{target_year}'] = np.where(\n",
    "            pivot_df[f'total_users_{target_year}'] == 0,\n",
    "            pivot_df[f'total_users_{base_year}'] * (1 + average_yoy_users),\n",
    "            pivot_df[f'total_users_{target_year}']\n",
    "        )\n",
    "\n",
    "        all_entities_results = pd.concat([all_entities_results, pivot_df], ignore_index=True)\n",
    "\n",
    "    # Aggregate results for each entity\n",
    "    result_df = all_entities_results.groupby('entity_id').agg({\n",
    "        f'total_orders_{base_year}': 'sum',\n",
    "        f'total_orders_{target_year}': 'sum',\n",
    "        f'fully_loaded_gross_profit_eur_{base_year}': 'sum',\n",
    "        f'fully_loaded_gross_profit_eur_{target_year}': 'sum',\n",
    "        f'total_users_{base_year}': 'sum',\n",
    "        f'total_users_{target_year}': 'sum'\n",
    "    }).reset_index()\n",
    "\n",
    "    result_df['total_flgp'] = result_df['fully_loaded_gross_profit_eur_2024']\n",
    "    result_df['total_orders'] = result_df['total_orders_2024']\n",
    "    result_df['total_users'] = result_df['total_users_2024']\n",
    "\n",
    "    return result_df\n",
    "\n",
    "\n",
    "impact_df = calculate_yoy_growth(seasonal_df)"
   ]
  },
  {
   "cell_type": "code",
   "execution_count": 788,
   "metadata": {},
   "outputs": [
    {
     "data": {
      "text/plain": [
       "1.463139332675892"
      ]
     },
     "execution_count": 788,
     "metadata": {},
     "output_type": "execute_result"
    }
   ],
   "source": [
    "(final_df['flgp_impact_incremental'].sum() / (impact_df['total_flgp'].sum())) * 100"
   ]
  },
  {
   "cell_type": "code",
   "execution_count": 789,
   "metadata": {},
   "outputs": [
    {
     "data": {
      "text/plain": [
       "0.5459072653270631"
      ]
     },
     "execution_count": 789,
     "metadata": {},
     "output_type": "execute_result"
    }
   ],
   "source": [
    "(final_df['orders_impact_incremental'].sum() / (impact_df['total_orders'].sum())) * 100"
   ]
  },
  {
   "cell_type": "code",
   "execution_count": 790,
   "metadata": {},
   "outputs": [],
   "source": [
    "impact_df_final = pd.merge(final_df, impact_df, on='entity_id', how='left')\n",
    "\n",
    "impact_df_final['total_flgp_target'] = impact_df_final['total_flgp'] + impact_df_final['flgp_impact_incremental']\n",
    "impact_df_final['total_orders_target'] = impact_df_final['total_orders'] + impact_df_final['orders_impact_incremental']\n",
    "impact_df_final['flgp_yoy_2024'] = (impact_df_final['fully_loaded_gross_profit_eur_2024'] - impact_df_final['fully_loaded_gross_profit_eur_2023']) / impact_df_final['fully_loaded_gross_profit_eur_2023']\n",
    "impact_df_final['orders_yoy_2024'] = (impact_df_final['total_orders_2024'] - impact_df_final['total_orders_2023']) / impact_df_final['total_orders_2023']\n",
    "\n",
    "impact_df_final.to_csv('combined_targets.csv', index=False)"
   ]
  },
  {
   "cell_type": "code",
   "execution_count": 791,
   "metadata": {},
   "outputs": [],
   "source": [
    "summary_df = impact_df_final.groupby('brand_name').agg({'total_orders_target':'sum','total_flgp_target':'sum','flgp_impact_incremental':'sum','orders_impact_incremental':'sum','fully_loaded_gross_profit_eur_2023':'sum','fully_loaded_gross_profit_eur_2024':'sum','total_orders_2024':'sum','total_orders_2023':'sum'}).reset_index()\n",
    "\n",
    "# Calculate the total for each column in summary_df, excluding 'brand_name'\n",
    "totals = summary_df[['total_orders_target', 'total_flgp_target', 'flgp_impact_incremental', \n",
    "                     'orders_impact_incremental', 'fully_loaded_gross_profit_eur_2023', \n",
    "                     'fully_loaded_gross_profit_eur_2024', 'total_orders_2024', \n",
    "                     'total_orders_2023']].sum()\n",
    "\n",
    "# Convert the totals to a DataFrame row\n",
    "totals_df = pd.DataFrame([totals], columns=totals.index)\n",
    "\n",
    "# Add a 'brand_name' for the totals row\n",
    "totals_df.insert(0, 'brand_name', 'Total')\n",
    "\n",
    "# Append the totals row to the summary_df\n",
    "summary_df = pd.concat([summary_df, totals_df], ignore_index=True)\n",
    "\n",
    "# Display the summary DataFrame with totals row\n",
    "summary_df['perc_flgp'] = summary_df['flgp_impact_incremental'] / summary_df['total_flgp_target']\n",
    "summary_df['perc_orders'] = summary_df['orders_impact_incremental'] / summary_df['total_orders_target']\n",
    "\n",
    "summary_df\n",
    "\n",
    "\n",
    "summary_df.to_csv('summary_impact.csv', index=False)"
   ]
  },
  {
   "cell_type": "code",
   "execution_count": 792,
   "metadata": {},
   "outputs": [
    {
     "data": {
      "text/html": [
       "<div>\n",
       "<style scoped>\n",
       "    .dataframe tbody tr th:only-of-type {\n",
       "        vertical-align: middle;\n",
       "    }\n",
       "\n",
       "    .dataframe tbody tr th {\n",
       "        vertical-align: top;\n",
       "    }\n",
       "\n",
       "    .dataframe thead th {\n",
       "        text-align: right;\n",
       "    }\n",
       "</style>\n",
       "<table border=\"1\" class=\"dataframe\">\n",
       "  <thead>\n",
       "    <tr style=\"text-align: right;\">\n",
       "      <th></th>\n",
       "      <th>brand_name</th>\n",
       "      <th>total_orders_target</th>\n",
       "      <th>total_flgp_target</th>\n",
       "      <th>flgp_impact_incremental</th>\n",
       "      <th>orders_impact_incremental</th>\n",
       "      <th>fully_loaded_gross_profit_eur_2023</th>\n",
       "      <th>fully_loaded_gross_profit_eur_2024</th>\n",
       "      <th>total_orders_2024</th>\n",
       "      <th>total_orders_2023</th>\n",
       "      <th>perc_flgp</th>\n",
       "      <th>perc_orders</th>\n",
       "    </tr>\n",
       "  </thead>\n",
       "  <tbody>\n",
       "    <tr>\n",
       "      <th>0</th>\n",
       "      <td>Foodora</td>\n",
       "      <td>5.134324e+07</td>\n",
       "      <td>1.027837e+08</td>\n",
       "      <td>-5.304632e+04</td>\n",
       "      <td>7.704853e+05</td>\n",
       "      <td>1.166665e+08</td>\n",
       "      <td>1.028367e+08</td>\n",
       "      <td>5.057276e+07</td>\n",
       "      <td>41949707.0</td>\n",
       "      <td>-0.000516</td>\n",
       "      <td>0.015007</td>\n",
       "    </tr>\n",
       "    <tr>\n",
       "      <th>1</th>\n",
       "      <td>Foodpanda</td>\n",
       "      <td>4.982307e+08</td>\n",
       "      <td>3.121945e+08</td>\n",
       "      <td>7.011269e+06</td>\n",
       "      <td>4.077933e+06</td>\n",
       "      <td>3.316111e+08</td>\n",
       "      <td>3.051832e+08</td>\n",
       "      <td>4.941528e+08</td>\n",
       "      <td>548328397.0</td>\n",
       "      <td>0.022458</td>\n",
       "      <td>0.008185</td>\n",
       "    </tr>\n",
       "    <tr>\n",
       "      <th>2</th>\n",
       "      <td>Foody</td>\n",
       "      <td>5.150915e+06</td>\n",
       "      <td>6.325184e+06</td>\n",
       "      <td>-3.108091e+05</td>\n",
       "      <td>8.791401e+03</td>\n",
       "      <td>2.529987e+06</td>\n",
       "      <td>6.635993e+06</td>\n",
       "      <td>5.142124e+06</td>\n",
       "      <td>2641885.0</td>\n",
       "      <td>-0.049138</td>\n",
       "      <td>0.001707</td>\n",
       "    </tr>\n",
       "    <tr>\n",
       "      <th>3</th>\n",
       "      <td>HungerStation</td>\n",
       "      <td>1.307735e+08</td>\n",
       "      <td>4.646291e+08</td>\n",
       "      <td>-9.105444e+05</td>\n",
       "      <td>1.041295e+06</td>\n",
       "      <td>3.611257e+08</td>\n",
       "      <td>4.655397e+08</td>\n",
       "      <td>1.297322e+08</td>\n",
       "      <td>111223831.0</td>\n",
       "      <td>-0.001960</td>\n",
       "      <td>0.007963</td>\n",
       "    </tr>\n",
       "    <tr>\n",
       "      <th>4</th>\n",
       "      <td>PedidosYa</td>\n",
       "      <td>1.996676e+08</td>\n",
       "      <td>2.270253e+08</td>\n",
       "      <td>3.796499e+06</td>\n",
       "      <td>7.760615e+05</td>\n",
       "      <td>2.150745e+08</td>\n",
       "      <td>2.232288e+08</td>\n",
       "      <td>1.988916e+08</td>\n",
       "      <td>174698206.0</td>\n",
       "      <td>0.016723</td>\n",
       "      <td>0.003887</td>\n",
       "    </tr>\n",
       "    <tr>\n",
       "      <th>5</th>\n",
       "      <td>Talabat</td>\n",
       "      <td>3.099430e+08</td>\n",
       "      <td>5.844406e+08</td>\n",
       "      <td>9.003436e+06</td>\n",
       "      <td>5.944148e+05</td>\n",
       "      <td>4.156088e+08</td>\n",
       "      <td>5.754371e+08</td>\n",
       "      <td>3.093486e+08</td>\n",
       "      <td>232334442.0</td>\n",
       "      <td>0.015405</td>\n",
       "      <td>0.001918</td>\n",
       "    </tr>\n",
       "    <tr>\n",
       "      <th>6</th>\n",
       "      <td>Yemeksepeti</td>\n",
       "      <td>1.151127e+08</td>\n",
       "      <td>5.147169e+07</td>\n",
       "      <td>4.875583e+06</td>\n",
       "      <td>-3.059133e+04</td>\n",
       "      <td>1.996776e+06</td>\n",
       "      <td>4.659610e+07</td>\n",
       "      <td>1.151433e+08</td>\n",
       "      <td>33035636.0</td>\n",
       "      <td>0.094724</td>\n",
       "      <td>-0.000266</td>\n",
       "    </tr>\n",
       "    <tr>\n",
       "      <th>7</th>\n",
       "      <td>eFood</td>\n",
       "      <td>2.102932e+07</td>\n",
       "      <td>2.857118e+07</td>\n",
       "      <td>2.219031e+06</td>\n",
       "      <td>-1.045084e+04</td>\n",
       "      <td>3.586599e+06</td>\n",
       "      <td>2.635215e+07</td>\n",
       "      <td>2.103977e+07</td>\n",
       "      <td>8404450.0</td>\n",
       "      <td>0.077667</td>\n",
       "      <td>-0.000497</td>\n",
       "    </tr>\n",
       "    <tr>\n",
       "      <th>8</th>\n",
       "      <td>Total</td>\n",
       "      <td>1.331251e+09</td>\n",
       "      <td>1.777441e+09</td>\n",
       "      <td>2.563142e+07</td>\n",
       "      <td>7.227939e+06</td>\n",
       "      <td>1.448200e+09</td>\n",
       "      <td>1.751810e+09</td>\n",
       "      <td>1.324023e+09</td>\n",
       "      <td>1152616554.0</td>\n",
       "      <td>0.014420</td>\n",
       "      <td>0.005429</td>\n",
       "    </tr>\n",
       "  </tbody>\n",
       "</table>\n",
       "</div>"
      ],
      "text/plain": [
       "      brand_name  total_orders_target  total_flgp_target  \\\n",
       "0        Foodora         5.134324e+07       1.027837e+08   \n",
       "1      Foodpanda         4.982307e+08       3.121945e+08   \n",
       "2          Foody         5.150915e+06       6.325184e+06   \n",
       "3  HungerStation         1.307735e+08       4.646291e+08   \n",
       "4      PedidosYa         1.996676e+08       2.270253e+08   \n",
       "5        Talabat         3.099430e+08       5.844406e+08   \n",
       "6    Yemeksepeti         1.151127e+08       5.147169e+07   \n",
       "7          eFood         2.102932e+07       2.857118e+07   \n",
       "8          Total         1.331251e+09       1.777441e+09   \n",
       "\n",
       "   flgp_impact_incremental  orders_impact_incremental  \\\n",
       "0            -5.304632e+04               7.704853e+05   \n",
       "1             7.011269e+06               4.077933e+06   \n",
       "2            -3.108091e+05               8.791401e+03   \n",
       "3            -9.105444e+05               1.041295e+06   \n",
       "4             3.796499e+06               7.760615e+05   \n",
       "5             9.003436e+06               5.944148e+05   \n",
       "6             4.875583e+06              -3.059133e+04   \n",
       "7             2.219031e+06              -1.045084e+04   \n",
       "8             2.563142e+07               7.227939e+06   \n",
       "\n",
       "   fully_loaded_gross_profit_eur_2023  fully_loaded_gross_profit_eur_2024  \\\n",
       "0                        1.166665e+08                        1.028367e+08   \n",
       "1                        3.316111e+08                        3.051832e+08   \n",
       "2                        2.529987e+06                        6.635993e+06   \n",
       "3                        3.611257e+08                        4.655397e+08   \n",
       "4                        2.150745e+08                        2.232288e+08   \n",
       "5                        4.156088e+08                        5.754371e+08   \n",
       "6                        1.996776e+06                        4.659610e+07   \n",
       "7                        3.586599e+06                        2.635215e+07   \n",
       "8                        1.448200e+09                        1.751810e+09   \n",
       "\n",
       "   total_orders_2024  total_orders_2023  perc_flgp  perc_orders  \n",
       "0       5.057276e+07         41949707.0  -0.000516     0.015007  \n",
       "1       4.941528e+08        548328397.0   0.022458     0.008185  \n",
       "2       5.142124e+06          2641885.0  -0.049138     0.001707  \n",
       "3       1.297322e+08        111223831.0  -0.001960     0.007963  \n",
       "4       1.988916e+08        174698206.0   0.016723     0.003887  \n",
       "5       3.093486e+08        232334442.0   0.015405     0.001918  \n",
       "6       1.151433e+08         33035636.0   0.094724    -0.000266  \n",
       "7       2.103977e+07          8404450.0   0.077667    -0.000497  \n",
       "8       1.324023e+09       1152616554.0   0.014420     0.005429  "
      ]
     },
     "execution_count": 792,
     "metadata": {},
     "output_type": "execute_result"
    }
   ],
   "source": [
    "summary_df"
   ]
  },
  {
   "cell_type": "markdown",
   "metadata": {},
   "source": []
  },
  {
   "cell_type": "code",
   "execution_count": 797,
   "metadata": {},
   "outputs": [],
   "source": [
    "## Glovo Data ##\n",
    "\n",
    "glovo_actuals = pd.read_csv('Glovo_monthly_actuals - Sheet1.csv')\n",
    "glovo_test_data = pd.read_csv('Glovo_test_data_final - test_data.csv')\n",
    "\n",
    "glovo_country_mapping = {\n",
    "    \"country_code\": [\"ES\", \"IT\", \"PL\", \"PT\", \"AD\", \"RO\", \"RS\", \"HR\", \"BG\", \"SI\", \"ME\", \"BA\", \"MD\", \"UA\", \"KZ\", \"GE\", \"KG\", \"AM\", \"MA\", \"KE\", \"CI\", \"GH\", \"TN\", \"NG\", \"UG\"],\n",
    "    \"country_name\": [\n",
    "        \"Spain\", \"Italy\", \"Poland\", \"Portugal\", \"Andorra\", \"Romania\", \"Serbia\", \"Croatia\", \"Bulgaria\", \n",
    "        \"Slovenia\", \"Montenegro\", \"Bosnia and Herzegovina\", \"Moldova\", \"Ukraine\", \"Kazakhstan\", \n",
    "        \"Georgia\", \"Kyrgyzstan\", \"Armenia\", \"Morocco\", \"Kenya\", \"Côte d'Ivoire\", \"Ghana\", \n",
    "        \"Tunisia\", \"Nigeria\", \"Uganda\"\n",
    "    ]\n",
    "}\n",
    "\n",
    "country_df = pd.DataFrame(glovo_country_mapping)\n",
    "\n",
    "data = {\n",
    "    'country_code': ['BA', 'ME', 'MD', 'BG', 'HR', 'UG', 'RO', 'KE', 'RS', 'CI', 'NG', \n",
    "                'PT', 'AM', 'PL', 'GE', 'IT', 'UA', 'MA', 'TN', 'KG', 'KZ', 'ES', 'AD'],\n",
    "    'migration_date': ['05-Aug-24', '26-Aug-24', '02-Sep-24', '16-Sep-24', '16-Sep-24', \n",
    "             '16-Sep-24', '07-Oct-24', '07-Oct-24', '07-Oct-24', '21-Oct-24', \n",
    "             '21-Oct-24', '04-Dec-24', '18-Nov-24', '17-Feb-25', '17-Feb-25', \n",
    "             '10-Mar-25', '17-Mar-25', '11-Nov-24', '04-Nov-24', '24-Feb-25', \n",
    "             '24-Feb-25', '31-Mar-25', '31-Mar-25']\n",
    "}\n",
    "\n",
    "migration_df = pd.DataFrame(data)\n",
    "\n",
    "migration_df['migration_date'] = pd.to_datetime(migration_df['migration_date'], format='%d-%b-%y')\n",
    "\n",
    "relevant_cities = [\n",
    "    'Armenia', 'Bosnia and Herzegovina', 'Bulgaria', \"Côte d'Ivoire\", 'Spain', 'Georgia', \n",
    "    'Croatia', 'Italy', 'Kenya', 'Kyrgyzstan', 'Kazakhstan', 'Morocco', 'Moldova', \n",
    "    'Montenegro', 'Nigeria', 'Poland', 'Portugal', 'Romania', 'Serbia', 'Tunisia', \n",
    "    'Ukraine', 'Uganda'\n",
    "]\n",
    "\n",
    "glovo_test_data['country_code'] = glovo_test_data['CC']\n",
    "\n",
    "g_test_data = pd.merge(glovo_test_data, migration_df, on = 'country_code', how = 'left')\n",
    "g_test_data = pd.merge(g_test_data, country_df, on = 'country_code', how = 'left')"
   ]
  },
  {
   "cell_type": "code",
   "execution_count": 798,
   "metadata": {},
   "outputs": [
    {
     "data": {
      "text/html": [
       "<div>\n",
       "<style scoped>\n",
       "    .dataframe tbody tr th:only-of-type {\n",
       "        vertical-align: middle;\n",
       "    }\n",
       "\n",
       "    .dataframe tbody tr th {\n",
       "        vertical-align: top;\n",
       "    }\n",
       "\n",
       "    .dataframe thead th {\n",
       "        text-align: right;\n",
       "    }\n",
       "</style>\n",
       "<table border=\"1\" class=\"dataframe\">\n",
       "  <thead>\n",
       "    <tr style=\"text-align: right;\">\n",
       "      <th></th>\n",
       "      <th>Region</th>\n",
       "      <th>country_name</th>\n",
       "      <th>country_code</th>\n",
       "      <th>median_test_length_days</th>\n",
       "      <th>days_available</th>\n",
       "      <th>testing_capacity</th>\n",
       "    </tr>\n",
       "  </thead>\n",
       "  <tbody>\n",
       "    <tr>\n",
       "      <th>0</th>\n",
       "      <td>Africa</td>\n",
       "      <td>Côte d'Ivoire</td>\n",
       "      <td>CI</td>\n",
       "      <td>69.5</td>\n",
       "      <td>330.0</td>\n",
       "      <td>4.75</td>\n",
       "    </tr>\n",
       "    <tr>\n",
       "      <th>1</th>\n",
       "      <td>Africa</td>\n",
       "      <td>Kenya</td>\n",
       "      <td>KE</td>\n",
       "      <td>65.0</td>\n",
       "      <td>330.0</td>\n",
       "      <td>5.08</td>\n",
       "    </tr>\n",
       "    <tr>\n",
       "      <th>2</th>\n",
       "      <td>Africa</td>\n",
       "      <td>Morocco</td>\n",
       "      <td>MA</td>\n",
       "      <td>84.0</td>\n",
       "      <td>330.0</td>\n",
       "      <td>3.93</td>\n",
       "    </tr>\n",
       "    <tr>\n",
       "      <th>3</th>\n",
       "      <td>Africa</td>\n",
       "      <td>Nigeria</td>\n",
       "      <td>NG</td>\n",
       "      <td>49.0</td>\n",
       "      <td>330.0</td>\n",
       "      <td>6.73</td>\n",
       "    </tr>\n",
       "    <tr>\n",
       "      <th>4</th>\n",
       "      <td>Africa</td>\n",
       "      <td>Tunisia</td>\n",
       "      <td>TN</td>\n",
       "      <td>76.0</td>\n",
       "      <td>330.0</td>\n",
       "      <td>4.34</td>\n",
       "    </tr>\n",
       "    <tr>\n",
       "      <th>5</th>\n",
       "      <td>Africa</td>\n",
       "      <td>Uganda</td>\n",
       "      <td>UG</td>\n",
       "      <td>92.0</td>\n",
       "      <td>330.0</td>\n",
       "      <td>3.59</td>\n",
       "    </tr>\n",
       "    <tr>\n",
       "      <th>6</th>\n",
       "      <td>ECA</td>\n",
       "      <td>Armenia</td>\n",
       "      <td>AM</td>\n",
       "      <td>69.0</td>\n",
       "      <td>330.0</td>\n",
       "      <td>4.78</td>\n",
       "    </tr>\n",
       "    <tr>\n",
       "      <th>7</th>\n",
       "      <td>ECA</td>\n",
       "      <td>Georgia</td>\n",
       "      <td>GE</td>\n",
       "      <td>82.0</td>\n",
       "      <td>252.0</td>\n",
       "      <td>3.07</td>\n",
       "    </tr>\n",
       "    <tr>\n",
       "      <th>8</th>\n",
       "      <td>ECA</td>\n",
       "      <td>Kazakhstan</td>\n",
       "      <td>KZ</td>\n",
       "      <td>105.0</td>\n",
       "      <td>245.0</td>\n",
       "      <td>2.33</td>\n",
       "    </tr>\n",
       "    <tr>\n",
       "      <th>9</th>\n",
       "      <td>ECA</td>\n",
       "      <td>Kyrgyzstan</td>\n",
       "      <td>KG</td>\n",
       "      <td>108.0</td>\n",
       "      <td>245.0</td>\n",
       "      <td>2.27</td>\n",
       "    </tr>\n",
       "    <tr>\n",
       "      <th>10</th>\n",
       "      <td>ECA</td>\n",
       "      <td>Ukraine</td>\n",
       "      <td>UA</td>\n",
       "      <td>80.0</td>\n",
       "      <td>224.0</td>\n",
       "      <td>2.80</td>\n",
       "    </tr>\n",
       "    <tr>\n",
       "      <th>11</th>\n",
       "      <td>IT</td>\n",
       "      <td>Italy</td>\n",
       "      <td>IT</td>\n",
       "      <td>87.0</td>\n",
       "      <td>231.0</td>\n",
       "      <td>2.66</td>\n",
       "    </tr>\n",
       "    <tr>\n",
       "      <th>12</th>\n",
       "      <td>Iberia</td>\n",
       "      <td>Andorra</td>\n",
       "      <td>AD</td>\n",
       "      <td>168.0</td>\n",
       "      <td>210.0</td>\n",
       "      <td>1.25</td>\n",
       "    </tr>\n",
       "    <tr>\n",
       "      <th>13</th>\n",
       "      <td>Iberia</td>\n",
       "      <td>Portugal</td>\n",
       "      <td>PT</td>\n",
       "      <td>76.0</td>\n",
       "      <td>327.0</td>\n",
       "      <td>4.30</td>\n",
       "    </tr>\n",
       "    <tr>\n",
       "      <th>14</th>\n",
       "      <td>Iberia</td>\n",
       "      <td>Spain</td>\n",
       "      <td>ES</td>\n",
       "      <td>101.5</td>\n",
       "      <td>210.0</td>\n",
       "      <td>2.07</td>\n",
       "    </tr>\n",
       "    <tr>\n",
       "      <th>15</th>\n",
       "      <td>PL</td>\n",
       "      <td>Poland</td>\n",
       "      <td>PL</td>\n",
       "      <td>177.0</td>\n",
       "      <td>252.0</td>\n",
       "      <td>1.42</td>\n",
       "    </tr>\n",
       "    <tr>\n",
       "      <th>16</th>\n",
       "      <td>SEE</td>\n",
       "      <td>Bosnia and Herzegovina</td>\n",
       "      <td>BA</td>\n",
       "      <td>54.0</td>\n",
       "      <td>330.0</td>\n",
       "      <td>6.11</td>\n",
       "    </tr>\n",
       "    <tr>\n",
       "      <th>17</th>\n",
       "      <td>SEE</td>\n",
       "      <td>Bulgaria</td>\n",
       "      <td>BG</td>\n",
       "      <td>66.0</td>\n",
       "      <td>330.0</td>\n",
       "      <td>5.00</td>\n",
       "    </tr>\n",
       "    <tr>\n",
       "      <th>18</th>\n",
       "      <td>SEE</td>\n",
       "      <td>Croatia</td>\n",
       "      <td>HR</td>\n",
       "      <td>84.0</td>\n",
       "      <td>330.0</td>\n",
       "      <td>3.93</td>\n",
       "    </tr>\n",
       "    <tr>\n",
       "      <th>19</th>\n",
       "      <td>SEE</td>\n",
       "      <td>Moldova</td>\n",
       "      <td>MD</td>\n",
       "      <td>78.5</td>\n",
       "      <td>330.0</td>\n",
       "      <td>4.20</td>\n",
       "    </tr>\n",
       "    <tr>\n",
       "      <th>20</th>\n",
       "      <td>SEE</td>\n",
       "      <td>Montenegro</td>\n",
       "      <td>ME</td>\n",
       "      <td>52.0</td>\n",
       "      <td>330.0</td>\n",
       "      <td>6.35</td>\n",
       "    </tr>\n",
       "    <tr>\n",
       "      <th>21</th>\n",
       "      <td>SEE</td>\n",
       "      <td>Romania</td>\n",
       "      <td>RO</td>\n",
       "      <td>92.0</td>\n",
       "      <td>330.0</td>\n",
       "      <td>3.59</td>\n",
       "    </tr>\n",
       "    <tr>\n",
       "      <th>22</th>\n",
       "      <td>SEE</td>\n",
       "      <td>Serbia</td>\n",
       "      <td>RS</td>\n",
       "      <td>71.5</td>\n",
       "      <td>330.0</td>\n",
       "      <td>4.62</td>\n",
       "    </tr>\n",
       "  </tbody>\n",
       "</table>\n",
       "</div>"
      ],
      "text/plain": [
       "    Region            country_name country_code  median_test_length_days  \\\n",
       "0   Africa           Côte d'Ivoire           CI                     69.5   \n",
       "1   Africa                   Kenya           KE                     65.0   \n",
       "2   Africa                 Morocco           MA                     84.0   \n",
       "3   Africa                 Nigeria           NG                     49.0   \n",
       "4   Africa                 Tunisia           TN                     76.0   \n",
       "5   Africa                  Uganda           UG                     92.0   \n",
       "6      ECA                 Armenia           AM                     69.0   \n",
       "7      ECA                 Georgia           GE                     82.0   \n",
       "8      ECA              Kazakhstan           KZ                    105.0   \n",
       "9      ECA              Kyrgyzstan           KG                    108.0   \n",
       "10     ECA                 Ukraine           UA                     80.0   \n",
       "11      IT                   Italy           IT                     87.0   \n",
       "12  Iberia                 Andorra           AD                    168.0   \n",
       "13  Iberia                Portugal           PT                     76.0   \n",
       "14  Iberia                   Spain           ES                    101.5   \n",
       "15      PL                  Poland           PL                    177.0   \n",
       "16     SEE  Bosnia and Herzegovina           BA                     54.0   \n",
       "17     SEE                Bulgaria           BG                     66.0   \n",
       "18     SEE                 Croatia           HR                     84.0   \n",
       "19     SEE                 Moldova           MD                     78.5   \n",
       "20     SEE              Montenegro           ME                     52.0   \n",
       "21     SEE                 Romania           RO                     92.0   \n",
       "22     SEE                  Serbia           RS                     71.5   \n",
       "\n",
       "    days_available  testing_capacity  \n",
       "0            330.0              4.75  \n",
       "1            330.0              5.08  \n",
       "2            330.0              3.93  \n",
       "3            330.0              6.73  \n",
       "4            330.0              4.34  \n",
       "5            330.0              3.59  \n",
       "6            330.0              4.78  \n",
       "7            252.0              3.07  \n",
       "8            245.0              2.33  \n",
       "9            245.0              2.27  \n",
       "10           224.0              2.80  \n",
       "11           231.0              2.66  \n",
       "12           210.0              1.25  \n",
       "13           327.0              4.30  \n",
       "14           210.0              2.07  \n",
       "15           252.0              1.42  \n",
       "16           330.0              6.11  \n",
       "17           330.0              5.00  \n",
       "18           330.0              3.93  \n",
       "19           330.0              4.20  \n",
       "20           330.0              6.35  \n",
       "21           330.0              3.59  \n",
       "22           330.0              4.62  "
      ]
     },
     "execution_count": 798,
     "metadata": {},
     "output_type": "execute_result"
    }
   ],
   "source": [
    "## Step 1\n",
    "\n",
    "\n",
    "# Convert date column to datetime format\n",
    "g_test_data[\"migration_date\"] = pd.to_datetime(g_test_data[\"migration_date\"])\n",
    "\n",
    "# Add 30 days to the date\n",
    "g_test_data[\"date_plus_30\"] = g_test_data[\"migration_date\"] + pd.Timedelta(days=30)\n",
    "\n",
    "# Calculate the new column based on the conditions\n",
    "end_of_2025 = pd.Timestamp(\"2025-12-31\")\n",
    "\n",
    "def calculate_new_column(row):\n",
    "    date_plus_30 = row[\"date_plus_30\"]\n",
    "    if date_plus_30.year == 2024:\n",
    "        return 330\n",
    "    elif date_plus_30.year == 2025:\n",
    "        days_difference = (end_of_2025 - date_plus_30).days\n",
    "        return days_difference - 35\n",
    "    return None\n",
    "\n",
    "g_test_data[\"days_available\"] = g_test_data.apply(calculate_new_column, axis=1)\n",
    "\n",
    "g_test_data['start_date'] = pd.to_datetime(g_test_data['Started'], format='%d-%b-%y')\n",
    "g_test_data['end_date'] = pd.to_datetime(g_test_data['Stopped'], format='%d-%b-%y')\n",
    "\n",
    "g_test_data['test_length'] = (g_test_data['end_date'] - g_test_data['start_date']).dt.days\n",
    "\n",
    "duration_df_glovo = g_test_data.groupby(['Region', 'country_name','country_code']).agg(\n",
    "    test_length=('test_length', lambda x: (x + 7)[x > 7].median())\n",
    ").reset_index().rename(columns={'test_length': 'median_test_length_days'})\n",
    "\n",
    "\n",
    "testing_days = g_test_data[['country_name', 'days_available']].drop_duplicates()\n",
    "\n",
    "duration_df_glovo = pd.merge(duration_df_glovo, testing_days, on = 'country_name', how = 'left')\n",
    "\n",
    "duration_df_glovo['testing_capacity'] = round(duration_df_glovo['days_available'] / duration_df_glovo['median_test_length_days'], 2)\n",
    "\n",
    "duration_df_glovo"
   ]
  },
  {
   "cell_type": "code",
   "execution_count": 799,
   "metadata": {},
   "outputs": [
    {
     "name": "stderr",
     "output_type": "stream",
     "text": [
      "/var/folders/7c/hjrbzbpn61jgnsn14y5f3l7c0000gq/T/ipykernel_19532/2850127341.py:49: DeprecationWarning:\n",
      "\n",
      "DataFrameGroupBy.apply operated on the grouping columns. This behavior is deprecated, and in a future version of pandas the grouping columns will be excluded from the operation. Either pass `include_groups=False` to exclude the groupings or explicitly select the grouping columns after groupby to silence this warning.\n",
      "\n"
     ]
    }
   ],
   "source": [
    "## Step 2\n",
    "\n",
    "# Remove commas and convert columns to numeric\n",
    "glovo_actuals['total CM'] = glovo_actuals['total CM'].str.replace(',', '').astype(float)\n",
    "glovo_actuals['MAUs'] = glovo_actuals['MAUs'].str.replace(',', '').astype(float)\n",
    "glovo_actuals['total orders'] = glovo_actuals['total orders'].str.replace(',', '').astype(float)\n",
    "\n",
    "# Perform the calculations\n",
    "glovo_actuals['flgpu_eur'] = glovo_actuals['total CM'] / glovo_actuals['MAUs']\n",
    "glovo_actuals['orders_per_user'] = glovo_actuals['total orders'] / glovo_actuals['MAUs']\n",
    "\n",
    "# Convert the date column to datetime format\n",
    "glovo_actuals['date'] = pd.to_datetime(glovo_actuals['date'], errors='coerce')\n",
    "\n",
    "# Extract the month and year\n",
    "glovo_actuals['Month'] = glovo_actuals['date'].dt.month\n",
    "glovo_actuals['year'] = glovo_actuals['date'].dt.year\n",
    "\n",
    "def last_6_months_avg_current_year(group):\n",
    "    # Filter to only include data from the current year\n",
    "    current_year = datetime.now().year\n",
    "    group = group[group['date'].dt.year == current_year]\n",
    "    \n",
    "    if not group.empty:\n",
    "        # Find the latest date in the current year group\n",
    "        latest_date = group['date'].max()\n",
    "        # Filter to the last 6 months\n",
    "        last_6_months = group[group['date'] >= (latest_date - pd.DateOffset(months=6))]\n",
    "        \n",
    "        # Calculate the averages\n",
    "        avg_total_active_users = last_6_months['MAUs'].mean()\n",
    "        avg_flgp_per_user = last_6_months['flgpu_eur'].mean()\n",
    "        avg_orders_per_user = last_6_months['orders_per_user'].mean()\n",
    "        \n",
    "        return pd.Series({\n",
    "            'avg_total_active_users': avg_total_active_users,\n",
    "            'avg_flgp_per_user': avg_flgp_per_user,\n",
    "            'avg_orders_per_user': avg_orders_per_user\n",
    "        })\n",
    "    else:\n",
    "        # Return NaN for each column if the group is empty\n",
    "        return pd.Series({\n",
    "            'avg_total_active_users': float('nan'),\n",
    "            'avg_flgp_per_user': float('nan'),\n",
    "            'avg_orders_per_user': float('nan')\n",
    "        })\n",
    "\n",
    "# Apply the function to the DataFrame grouped by the specified columns\n",
    "users_df_glovo = glovo_actuals.groupby('country_name').apply(last_6_months_avg_current_year).reset_index()"
   ]
  },
  {
   "cell_type": "code",
   "execution_count": 802,
   "metadata": {},
   "outputs": [],
   "source": [
    "#  Step 3 Calculate the share of tests for different scenarios \n",
    "\n",
    "# Mapping dictionary\n",
    "value_mapping = {\n",
    "    'MPOL': 'MPOL - Profit at a Cost',\n",
    "    'CPiO': 'CPiO - Growth at a Cost',\n",
    "    'Jackpot': 'Win-Win',\n",
    "    'No Go': 'Lose-Lose'\n",
    "}\n",
    "\n",
    "# Replace values in the DataFrame\n",
    "g_test_data['Scenario'] = g_test_data['Scenario'].replace(value_mapping)\n",
    "\n",
    "def test_pecentage(df):\n",
    "    \n",
    "    pivot_table = df.groupby(['Region', 'country_name', 'Scenario']).agg(\n",
    "        {'Name': 'count'}\n",
    "    ).reset_index().pivot_table(index=['Region', 'country_name'],\n",
    "                                columns='Scenario', values='Name', fill_value=0)\n",
    "    \n",
    "    pivot_table = pivot_table.reset_index()\n",
    "\n",
    "    percentage_growth_average = pivot_table[pivot_table['CPiO - Growth at a Cost'] > 0]['CPiO - Growth at a Cost'].mean()\n",
    "    percentage_lose_average = pivot_table[pivot_table['Lose-Lose'] > 0]['Lose-Lose'].mean()\n",
    "    percentage_profit_average = pivot_table[pivot_table['MPOL - Profit at a Cost'] > 0]['MPOL - Profit at a Cost'].mean()\n",
    "    percentage_win_average = pivot_table[pivot_table['Win-Win'] > 0]['Win-Win'].mean()\n",
    "\n",
    "    pivot_table.loc[pivot_table['CPiO - Growth at a Cost'] == 0, 'CPiO - Growth at a Cost'] = percentage_growth_average\n",
    "    pivot_table.loc[pivot_table['Lose-Lose'] == 0, 'Lose-Lose'] = percentage_lose_average\n",
    "    pivot_table.loc[pivot_table['MPOL - Profit at a Cost'] == 0, 'MPOL - Profit at a Cost'] = percentage_profit_average\n",
    "    pivot_table.loc[pivot_table['Win-Win'] == 0, 'Win-Win'] = percentage_win_average\n",
    "    \n",
    "    pivot_table['Total_tests'] = pivot_table['CPiO - Growth at a Cost'] + pivot_table['Lose-Lose'] + \\\n",
    "                                 pivot_table['MPOL - Profit at a Cost'] + pivot_table['Win-Win']\n",
    "    \n",
    "    pivot_table['percentage_growth'] = (pivot_table['CPiO - Growth at a Cost'] / pivot_table['Total_tests'])\n",
    "    pivot_table['percentage_lose_lose'] = (pivot_table['Lose-Lose'] / pivot_table['Total_tests'])\n",
    "    pivot_table['percentage_profit'] = (pivot_table['MPOL - Profit at a Cost'] / pivot_table['Total_tests'])\n",
    "    pivot_table['percentage_win_win'] = (pivot_table['Win-Win'] / pivot_table['Total_tests'])\n",
    "    \n",
    "    return pivot_table\n",
    "\n",
    "test_perc_df_glovo = test_pecentage(g_test_data)\n",
    "\n"
   ]
  },
  {
   "cell_type": "code",
   "execution_count": 818,
   "metadata": {},
   "outputs": [],
   "source": [
    "g_test_data = g_test_data[g_test_data['Rollout?'] == 'Y']\n",
    "\n",
    "g_test_data['start_date_beg'] = pd.to_datetime(g_test_data['start_date']).dt.to_period('M').dt.to_timestamp()\n",
    "g_test_data['end_date_beg'] = pd.to_datetime(g_test_data['end_date']).dt.to_period('M').dt.to_timestamp()\n",
    "\n",
    "# Function to calculate total orders divided by the number of months\n",
    "def users_proxy(row):\n",
    "    \n",
    "    # Filter rows in df2 between start_date and end_date\n",
    "    mask = ((glovo_actuals['date'] >= row['start_date_beg']) & (glovo_actuals['date'] <= row['end_date_beg']) & (glovo_actuals['country_name'] == row['country_name']))\n",
    "    filtered_df = glovo_actuals[mask]\n",
    "    if not filtered_df.empty:\n",
    "        # Calculate total orders\n",
    "        total_orders = filtered_df['MAUs'].sum()\n",
    "        # Calculate the number of months (inclusive)\n",
    "        num_months = (row['end_date_beg'].to_period('M') - row['start_date_beg'].to_period('M')).n + 1\n",
    "        return total_orders / num_months\n",
    "    return None\n",
    "\n",
    "# Apply the function to each row in df1\n",
    "g_test_data['total_users'] = g_test_data.apply(users_proxy, axis=1) \n",
    "\n",
    "# Count non-null values in columns A, B, C, D\n",
    "g_test_data['non_null_count'] = g_test_data[['variation_A_orders', 'variation_B_orders', 'variation_C_orders', 'variation_D_orders']].notnull().sum(axis=1)\n",
    "\n",
    "# Apply the division logic\n",
    "g_test_data['adjusted_users'] = g_test_data['total_users'] / (g_test_data['non_null_count'] + 1)"
   ]
  },
  {
   "cell_type": "code",
   "execution_count": 819,
   "metadata": {},
   "outputs": [
    {
     "name": "stdout",
     "output_type": "stream",
     "text": [
      "  Region  CC           Cities Type AS overwrite? Migrated? Migration Date  \\\n",
      "0    ECA  KG      OSH,KKL,BSK  MBS           NaN        NO      24-Feb-25   \n",
      "3    ECA  AM  YRV,VDZ,GYM,AVN   DF             Y       YES      18-Nov-24   \n",
      "4    ECA  UA              KIE   DF           NaN        NO      24-Mar-25   \n",
      "5    ECA  UA              KYI   DF           NaN        NO      24-Mar-25   \n",
      "6    ECA  UA              LVI   DF           NaN        NO      24-Mar-25   \n",
      "\n",
      "  DPS test?    Started    Stopped  ...  end_date_beg    total_users  \\\n",
      "0        NO  16-Aug-23   4-Jan-24  ...    2024-01-01   60944.333333   \n",
      "3        NO  22-Nov-23   9-Jan-24  ...    2024-01-01   22671.000000   \n",
      "4        NO  06-Nov-23  10-Jan-24  ...    2024-01-01  524292.000000   \n",
      "5        NO  06-Nov-23  10-Jan-24  ...    2024-01-01  524292.000000   \n",
      "6        NO  06-Nov-23  10-Jan-24  ...    2024-01-01  524292.000000   \n",
      "\n",
      "  non_null_count adjusted_users orders_per_user_control cmu_control  \\\n",
      "0              1   30472.166667                6.877355    5.914525   \n",
      "3              1   11335.500000                7.095135    5.179448   \n",
      "4              1  262146.000000                4.067969    3.620492   \n",
      "5              1  262146.000000                1.673646    1.489545   \n",
      "6              1  262146.000000                1.009580    0.928814   \n",
      "\n",
      "  orders_per_user_variation  cmu_variation  orders_per_user_incremental  \\\n",
      "0                  6.800011       6.188010                    -0.077344   \n",
      "3                  6.952846       5.214635                    -0.142288   \n",
      "4                  4.012245       3.691265                    -0.055723   \n",
      "5                  1.678040       1.527016                     0.004394   \n",
      "6                  1.013184       0.952393                     0.003603   \n",
      "\n",
      "   cm_per_user_incremental  \n",
      "0                 0.273485  \n",
      "3                 0.035186  \n",
      "4                 0.070773  \n",
      "5                 0.037472  \n",
      "6                 0.023579  \n",
      "\n",
      "[5 rows x 86 columns]\n",
      "orders_per_user_control      float64\n",
      "cmu_control                  float64\n",
      "orders_per_user_variation    float64\n",
      "cmu_variation                float64\n",
      "dtype: object\n"
     ]
    }
   ],
   "source": [
    "# Ensure all relevant columns are numeric by removing unwanted characters and converting data types\n",
    "columns_to_clean = [\n",
    "    'variation_A_orders', 'variation_B_orders', 'variation_C_orders',\n",
    "    'variation_D_orders', 'control_orders', 'control_cm',\n",
    "    'Variation_A_cm', 'Variation_B_cm', 'Variation_C_cm', 'Variation_D_cm', 'adjusted_users'\n",
    "]\n",
    "\n",
    "for col in columns_to_clean:\n",
    "    if g_test_data[col].dtype == 'object':  # Check if column is a string\n",
    "        g_test_data[col] = (\n",
    "            g_test_data[col]\n",
    "            .str.replace(',', '', regex=False)  # Remove commas\n",
    "            .str.replace('€', '', regex=False)  # Remove euro signs\n",
    "            .astype(float)  # Convert to float\n",
    "        )\n",
    "\n",
    "# Ensure the `adjusted_users` column is numeric\n",
    "if g_test_data['adjusted_users'].dtype == 'object':\n",
    "    g_test_data['adjusted_users'] = (\n",
    "        g_test_data['adjusted_users']\n",
    "        .str.replace(',', '', regex=False)\n",
    "        .astype(float)\n",
    "    )\n",
    "\n",
    "# Define functions to select orders and CMU based on the winning variation\n",
    "def select_orders(row):\n",
    "    if row['Winning Var'] == 'Variation A':\n",
    "        return row['variation_A_orders']\n",
    "    elif row['Winning Var'] == 'Variation B':\n",
    "        return row['variation_B_orders']\n",
    "    elif row['Winning Var'] == 'Variation C':\n",
    "        return row['variation_C_orders']\n",
    "    else:\n",
    "        return row['variation_A_orders']  # Default to Variation A orders\n",
    "\n",
    "def select_cmu(row):\n",
    "    if row['Winning Var'] == 'Variation A':\n",
    "        return row['Variation_A_cm']\n",
    "    elif row['Winning Var'] == 'Variation B':\n",
    "        return row['Variation_B_cm']\n",
    "    elif row['Winning Var'] == 'Variation C':\n",
    "        return row['Variation_C_cm']\n",
    "    else:\n",
    "        return row['Variation_A_cm']  # Default to Variation A CMU\n",
    "\n",
    "# Perform the calculations\n",
    "g_test_data['orders_per_user_control'] = (\n",
    "    g_test_data['control_orders'] / g_test_data['adjusted_users']\n",
    ")\n",
    "\n",
    "g_test_data['cmu_control'] = (\n",
    "    (g_test_data['control_orders'] * g_test_data['control_cm']) / g_test_data['adjusted_users']\n",
    ")\n",
    "\n",
    "g_test_data['orders_per_user_variation'] = (\n",
    "    g_test_data.apply(select_orders, axis=1) / g_test_data['adjusted_users']\n",
    ")\n",
    "\n",
    "g_test_data['cmu_variation'] = (\n",
    "    (g_test_data.apply(select_cmu, axis=1) * g_test_data.apply(select_orders, axis=1)) \n",
    "    / g_test_data['adjusted_users']\n",
    ")\n",
    "\n",
    "g_test_data['orders_per_user_incremental'] = (\n",
    "    g_test_data['orders_per_user_variation'] - g_test_data['orders_per_user_control']\n",
    ")\n",
    "\n",
    "g_test_data['cm_per_user_incremental'] = (\n",
    "    g_test_data['cmu_variation'] - g_test_data['cmu_control']\n",
    ")\n",
    "\n",
    "# Validate and debug results\n",
    "print(g_test_data.head())\n",
    "print(g_test_data[['orders_per_user_control', 'cmu_control', 'orders_per_user_variation', 'cmu_variation']].dtypes)\n"
   ]
  },
  {
   "cell_type": "code",
   "execution_count": 820,
   "metadata": {},
   "outputs": [
    {
     "data": {
      "image/png": "[encoded data removed]",
      "text/plain": [
       "<Figure size 1000x600 with 1 Axes>"
      ]
     },
     "metadata": {},
     "output_type": "display_data"
    },
    {
     "name": "stdout",
     "output_type": "stream",
     "text": [
      "all_data: count    109.000000\n",
      "mean      -0.004987\n",
      "std        0.126823\n",
      "min       -0.647063\n",
      "25%       -0.024225\n",
      "50%        0.000822\n",
      "75%        0.021809\n",
      "max        0.625012\n",
      "Name: orders_per_user_incremental, dtype: float64, all_data: count    109.000000\n",
      "mean       0.046565\n",
      "std        0.139802\n",
      "min       -0.427458\n",
      "25%       -0.002752\n",
      "50%        0.013022\n",
      "75%        0.061971\n",
      "max        0.627639\n",
      "Name: cm_per_user_incremental, dtype: float64\n"
     ]
    }
   ],
   "source": [
    "g_a = g_test_data['orders_per_user_incremental']\n",
    "g_b = g_test_data['cm_per_user_incremental']\n",
    "\n",
    "\n",
    "plt.figure(figsize=(10, 6))\n",
    "\n",
    "sns.kdeplot(g_a, \n",
    "            label='Incremental Orders per User all sig data (Significance == 1)', color='red')\n",
    "\n",
    "sns.kdeplot(g_b, \n",
    "            label='Incremental Orders per User sig data (Significance == 1)', color='black')\n",
    "\n",
    "# Adding labels and legend\n",
    "plt.xlabel('Incremental Orders per User')\n",
    "plt.ylabel('Density')\n",
    "plt.legend()\n",
    "plt.title('KDE of Incremental Orders per User {i}')\n",
    "\n",
    "# Show the plot\n",
    "plt.show()\n",
    "\n",
    "# Print descriptive statistics\n",
    "print(f\"all_data: {g_a.describe()}, all_data: {g_b.describe()}\")\n",
    "#significance_stats_all, test_flgp_stats"
   ]
  },
  {
   "cell_type": "code",
   "execution_count": 821,
   "metadata": {},
   "outputs": [],
   "source": [
    "# Step 4 Calculate the incremental percentage change for flgpu and orders_per_user\n",
    "\n",
    "def calculate_incremental_means(df):\n",
    "    \n",
    "    df_tmp = df.groupby(['Region','country_name', 'Scenario']).agg(\n",
    "        flgp_per_user_incremental=('cm_per_user_incremental', 'mean'),\n",
    "        orders_per_user_incremental=('orders_per_user_incremental', 'mean'),\n",
    "        flgpu_control_mean=('cmu_control', 'mean'),\n",
    "        orders_per_user_control_mean=('orders_per_user_control', 'mean')\n",
    "    ).reset_index()\n",
    "\n",
    "\n",
    "    df_tmp['flgpu_perc_change'] = 1 + (df_tmp['flgp_per_user_incremental'] / abs(df_tmp['flgpu_control_mean']))\n",
    "    df_tmp['orders_per_user_perc_change'] = 1 + (df_tmp['orders_per_user_incremental'] / abs(df_tmp['orders_per_user_control_mean']))\n",
    "\n",
    "    # Pivot table with scenario as columns\n",
    "    pivot_table_extended_pivot = df_tmp.pivot_table(index=['Region','country_name'],\n",
    "                                                                  columns='Scenario',\n",
    "                                                                  values=['flgpu_control_mean','orders_per_user_control_mean','flgp_per_user_incremental', 'orders_per_user_incremental','flgpu_perc_change','orders_per_user_perc_change'],\n",
    "                                                                  #values=['flgpu_perc_change'],\n",
    "                                                                  fill_value=0)\n",
    "    \n",
    "    pivot_table_extended_pivot_reset = pivot_table_extended_pivot.reset_index()\n",
    "    \n",
    "    pivot_table_flat = pivot_table_extended_pivot_reset.copy()\n",
    "    pivot_table_flat.columns = ['_'.join(col).strip() if isinstance(col, tuple) else col for col in pivot_table_flat.columns]\n",
    "    \n",
    "    pivot_table_flat = pivot_table_flat.rename(columns={'Region_': 'Region','country_name_': 'country_name'})\n",
    "    \n",
    "    return pivot_table_flat\n",
    "    \n",
    "glovo_incremental_df = calculate_incremental_means(g_test_data)"
   ]
  },
  {
   "cell_type": "code",
   "execution_count": 822,
   "metadata": {},
   "outputs": [],
   "source": [
    "columns_to_process = [\n",
    "    'flgp_per_user_incremental_CPiO - Growth at a Cost',\n",
    "    'flgp_per_user_incremental_Lose-Lose',\n",
    "    'flgp_per_user_incremental_MPOL - Profit at a Cost',\n",
    "    'flgp_per_user_incremental_Win-Win',\n",
    "    'flgpu_control_mean_CPiO - Growth at a Cost',\n",
    "    'flgpu_control_mean_Lose-Lose',\n",
    "    'flgpu_control_mean_MPOL - Profit at a Cost',\n",
    "    'flgpu_control_mean_Win-Win',\n",
    "    'flgpu_perc_change_CPiO - Growth at a Cost',\n",
    "    'flgpu_perc_change_Lose-Lose',\n",
    "    'flgpu_perc_change_MPOL - Profit at a Cost',\n",
    "    'flgpu_perc_change_Win-Win',\n",
    "    'orders_per_user_control_mean_CPiO - Growth at a Cost',\n",
    "    'orders_per_user_control_mean_Lose-Lose',\n",
    "    'orders_per_user_control_mean_MPOL - Profit at a Cost',\n",
    "    'orders_per_user_control_mean_Win-Win',\n",
    "    'orders_per_user_incremental_CPiO - Growth at a Cost',\n",
    "    'orders_per_user_incremental_Lose-Lose',\n",
    "    'orders_per_user_incremental_MPOL - Profit at a Cost',\n",
    "    'orders_per_user_incremental_Win-Win',\n",
    "    'orders_per_user_perc_change_CPiO - Growth at a Cost',\n",
    "    'orders_per_user_perc_change_Lose-Lose',\n",
    "    'orders_per_user_perc_change_MPOL - Profit at a Cost',\n",
    "    'orders_per_user_perc_change_Win-Win'\n",
    "]\n",
    "\n",
    "# Process each column to replace 0 values with the mean of non-zero, non-null values\n",
    "for column in columns_to_process:\n",
    "    non_zero_mean = glovo_incremental_df[column][(glovo_incremental_df[column] != 0) & (glovo_incremental_df[column].notnull())].mean()\n",
    "    glovo_incremental_df[column] = glovo_incremental_df[column].replace(0, non_zero_mean)"
   ]
  },
  {
   "cell_type": "code",
   "execution_count": 823,
   "metadata": {},
   "outputs": [
    {
     "data": {
      "text/html": [
       "<div>\n",
       "<style scoped>\n",
       "    .dataframe tbody tr th:only-of-type {\n",
       "        vertical-align: middle;\n",
       "    }\n",
       "\n",
       "    .dataframe tbody tr th {\n",
       "        vertical-align: top;\n",
       "    }\n",
       "\n",
       "    .dataframe thead th {\n",
       "        text-align: right;\n",
       "    }\n",
       "</style>\n",
       "<table border=\"1\" class=\"dataframe\">\n",
       "  <thead>\n",
       "    <tr style=\"text-align: right;\">\n",
       "      <th></th>\n",
       "      <th>Region</th>\n",
       "      <th>country_name</th>\n",
       "      <th>flgp_per_user_incremental_CPiO - Growth at a Cost</th>\n",
       "      <th>flgp_per_user_incremental_Lose-Lose</th>\n",
       "      <th>flgp_per_user_incremental_MPOL - Profit at a Cost</th>\n",
       "      <th>flgp_per_user_incremental_Win-Win</th>\n",
       "      <th>flgpu_control_mean_CPiO - Growth at a Cost</th>\n",
       "      <th>flgpu_control_mean_Lose-Lose</th>\n",
       "      <th>flgpu_control_mean_MPOL - Profit at a Cost</th>\n",
       "      <th>flgpu_control_mean_Win-Win</th>\n",
       "      <th>...</th>\n",
       "      <th>orders_per_user_control_mean_MPOL - Profit at a Cost</th>\n",
       "      <th>orders_per_user_control_mean_Win-Win</th>\n",
       "      <th>orders_per_user_incremental_CPiO - Growth at a Cost</th>\n",
       "      <th>orders_per_user_incremental_Lose-Lose</th>\n",
       "      <th>orders_per_user_incremental_MPOL - Profit at a Cost</th>\n",
       "      <th>orders_per_user_incremental_Win-Win</th>\n",
       "      <th>orders_per_user_perc_change_CPiO - Growth at a Cost</th>\n",
       "      <th>orders_per_user_perc_change_Lose-Lose</th>\n",
       "      <th>orders_per_user_perc_change_MPOL - Profit at a Cost</th>\n",
       "      <th>orders_per_user_perc_change_Win-Win</th>\n",
       "    </tr>\n",
       "  </thead>\n",
       "  <tbody>\n",
       "    <tr>\n",
       "      <th>0</th>\n",
       "      <td>Africa</td>\n",
       "      <td>Côte d'Ivoire</td>\n",
       "      <td>0.056326</td>\n",
       "      <td>-0.095495</td>\n",
       "      <td>0.098667</td>\n",
       "      <td>0.181082</td>\n",
       "      <td>9.807899</td>\n",
       "      <td>5.049129</td>\n",
       "      <td>3.371148</td>\n",
       "      <td>6.000023</td>\n",
       "      <td>...</td>\n",
       "      <td>6.253727</td>\n",
       "      <td>8.897579</td>\n",
       "      <td>0.231380</td>\n",
       "      <td>-0.045478</td>\n",
       "      <td>-0.086953</td>\n",
       "      <td>0.121819</td>\n",
       "      <td>1.018637</td>\n",
       "      <td>0.992234</td>\n",
       "      <td>0.982791</td>\n",
       "      <td>1.013691</td>\n",
       "    </tr>\n",
       "    <tr>\n",
       "      <th>1</th>\n",
       "      <td>Africa</td>\n",
       "      <td>Kenya</td>\n",
       "      <td>-0.069623</td>\n",
       "      <td>-0.095495</td>\n",
       "      <td>0.016943</td>\n",
       "      <td>0.166115</td>\n",
       "      <td>3.890378</td>\n",
       "      <td>5.049129</td>\n",
       "      <td>1.387186</td>\n",
       "      <td>4.615877</td>\n",
       "      <td>...</td>\n",
       "      <td>3.907908</td>\n",
       "      <td>7.162157</td>\n",
       "      <td>0.137001</td>\n",
       "      <td>-0.045478</td>\n",
       "      <td>-0.030095</td>\n",
       "      <td>0.027200</td>\n",
       "      <td>1.034777</td>\n",
       "      <td>0.992234</td>\n",
       "      <td>0.992299</td>\n",
       "      <td>1.003798</td>\n",
       "    </tr>\n",
       "    <tr>\n",
       "      <th>2</th>\n",
       "      <td>Africa</td>\n",
       "      <td>Morocco</td>\n",
       "      <td>-0.022543</td>\n",
       "      <td>-0.095495</td>\n",
       "      <td>0.012369</td>\n",
       "      <td>0.006737</td>\n",
       "      <td>2.006266</td>\n",
       "      <td>5.049129</td>\n",
       "      <td>1.094319</td>\n",
       "      <td>1.095243</td>\n",
       "      <td>...</td>\n",
       "      <td>1.777718</td>\n",
       "      <td>1.482605</td>\n",
       "      <td>0.021874</td>\n",
       "      <td>-0.045478</td>\n",
       "      <td>-0.011527</td>\n",
       "      <td>0.015518</td>\n",
       "      <td>1.010047</td>\n",
       "      <td>0.992234</td>\n",
       "      <td>0.993516</td>\n",
       "      <td>1.010467</td>\n",
       "    </tr>\n",
       "    <tr>\n",
       "      <th>3</th>\n",
       "      <td>Africa</td>\n",
       "      <td>Nigeria</td>\n",
       "      <td>-0.069623</td>\n",
       "      <td>-0.095495</td>\n",
       "      <td>0.131148</td>\n",
       "      <td>0.010420</td>\n",
       "      <td>3.890378</td>\n",
       "      <td>5.049129</td>\n",
       "      <td>0.728168</td>\n",
       "      <td>1.061930</td>\n",
       "      <td>...</td>\n",
       "      <td>7.472361</td>\n",
       "      <td>21.238595</td>\n",
       "      <td>0.137001</td>\n",
       "      <td>-0.045478</td>\n",
       "      <td>-0.188581</td>\n",
       "      <td>0.208391</td>\n",
       "      <td>1.034777</td>\n",
       "      <td>0.992234</td>\n",
       "      <td>0.974763</td>\n",
       "      <td>1.009812</td>\n",
       "    </tr>\n",
       "    <tr>\n",
       "      <th>4</th>\n",
       "      <td>Africa</td>\n",
       "      <td>Tunisia</td>\n",
       "      <td>-0.026105</td>\n",
       "      <td>-0.095495</td>\n",
       "      <td>0.049421</td>\n",
       "      <td>0.025672</td>\n",
       "      <td>0.471704</td>\n",
       "      <td>5.049129</td>\n",
       "      <td>0.084480</td>\n",
       "      <td>6.009470</td>\n",
       "      <td>...</td>\n",
       "      <td>0.843241</td>\n",
       "      <td>19.385387</td>\n",
       "      <td>0.040011</td>\n",
       "      <td>-0.045478</td>\n",
       "      <td>-0.068400</td>\n",
       "      <td>0.082813</td>\n",
       "      <td>1.030536</td>\n",
       "      <td>0.992234</td>\n",
       "      <td>0.918885</td>\n",
       "      <td>1.004272</td>\n",
       "    </tr>\n",
       "    <tr>\n",
       "      <th>5</th>\n",
       "      <td>Africa</td>\n",
       "      <td>Uganda</td>\n",
       "      <td>-0.069623</td>\n",
       "      <td>-0.095495</td>\n",
       "      <td>0.098667</td>\n",
       "      <td>0.121996</td>\n",
       "      <td>3.890378</td>\n",
       "      <td>5.049129</td>\n",
       "      <td>3.371148</td>\n",
       "      <td>4.530415</td>\n",
       "      <td>...</td>\n",
       "      <td>6.253727</td>\n",
       "      <td>9.974264</td>\n",
       "      <td>0.137001</td>\n",
       "      <td>-0.045478</td>\n",
       "      <td>-0.086953</td>\n",
       "      <td>0.196594</td>\n",
       "      <td>1.034777</td>\n",
       "      <td>0.992234</td>\n",
       "      <td>0.982791</td>\n",
       "      <td>1.019710</td>\n",
       "    </tr>\n",
       "    <tr>\n",
       "      <th>6</th>\n",
       "      <td>ECA</td>\n",
       "      <td>Armenia</td>\n",
       "      <td>-0.085920</td>\n",
       "      <td>-0.095495</td>\n",
       "      <td>0.001467</td>\n",
       "      <td>0.099462</td>\n",
       "      <td>6.154552</td>\n",
       "      <td>5.049129</td>\n",
       "      <td>5.672869</td>\n",
       "      <td>3.676661</td>\n",
       "      <td>...</td>\n",
       "      <td>8.015893</td>\n",
       "      <td>7.017667</td>\n",
       "      <td>0.138019</td>\n",
       "      <td>-0.045478</td>\n",
       "      <td>-0.219726</td>\n",
       "      <td>0.058443</td>\n",
       "      <td>1.015474</td>\n",
       "      <td>0.992234</td>\n",
       "      <td>0.972589</td>\n",
       "      <td>1.008419</td>\n",
       "    </tr>\n",
       "    <tr>\n",
       "      <th>7</th>\n",
       "      <td>ECA</td>\n",
       "      <td>Georgia</td>\n",
       "      <td>-0.069623</td>\n",
       "      <td>-0.009398</td>\n",
       "      <td>0.020300</td>\n",
       "      <td>0.065691</td>\n",
       "      <td>3.890378</td>\n",
       "      <td>4.954128</td>\n",
       "      <td>6.901843</td>\n",
       "      <td>0.189520</td>\n",
       "      <td>...</td>\n",
       "      <td>14.855608</td>\n",
       "      <td>3.158670</td>\n",
       "      <td>0.137001</td>\n",
       "      <td>-0.020885</td>\n",
       "      <td>-0.103113</td>\n",
       "      <td>0.031472</td>\n",
       "      <td>1.034777</td>\n",
       "      <td>0.998103</td>\n",
       "      <td>0.993059</td>\n",
       "      <td>1.009964</td>\n",
       "    </tr>\n",
       "    <tr>\n",
       "      <th>8</th>\n",
       "      <td>ECA</td>\n",
       "      <td>Kazakhstan</td>\n",
       "      <td>-0.069623</td>\n",
       "      <td>-0.095495</td>\n",
       "      <td>0.017161</td>\n",
       "      <td>0.036858</td>\n",
       "      <td>3.890378</td>\n",
       "      <td>5.049129</td>\n",
       "      <td>0.291349</td>\n",
       "      <td>0.451095</td>\n",
       "      <td>...</td>\n",
       "      <td>1.009422</td>\n",
       "      <td>1.780136</td>\n",
       "      <td>0.137001</td>\n",
       "      <td>-0.045478</td>\n",
       "      <td>-0.007499</td>\n",
       "      <td>0.019439</td>\n",
       "      <td>1.034777</td>\n",
       "      <td>0.992234</td>\n",
       "      <td>0.992571</td>\n",
       "      <td>1.010920</td>\n",
       "    </tr>\n",
       "    <tr>\n",
       "      <th>9</th>\n",
       "      <td>ECA</td>\n",
       "      <td>Kyrgyzstan</td>\n",
       "      <td>-0.069623</td>\n",
       "      <td>-0.095495</td>\n",
       "      <td>0.273485</td>\n",
       "      <td>0.099462</td>\n",
       "      <td>3.890378</td>\n",
       "      <td>5.049129</td>\n",
       "      <td>5.914525</td>\n",
       "      <td>3.676661</td>\n",
       "      <td>...</td>\n",
       "      <td>6.877355</td>\n",
       "      <td>7.017667</td>\n",
       "      <td>0.137001</td>\n",
       "      <td>-0.045478</td>\n",
       "      <td>-0.077344</td>\n",
       "      <td>0.058443</td>\n",
       "      <td>1.034777</td>\n",
       "      <td>0.992234</td>\n",
       "      <td>0.988754</td>\n",
       "      <td>1.008419</td>\n",
       "    </tr>\n",
       "    <tr>\n",
       "      <th>10</th>\n",
       "      <td>ECA</td>\n",
       "      <td>Ukraine</td>\n",
       "      <td>-0.069623</td>\n",
       "      <td>-0.095495</td>\n",
       "      <td>0.030922</td>\n",
       "      <td>0.015795</td>\n",
       "      <td>3.890378</td>\n",
       "      <td>5.049129</td>\n",
       "      <td>1.494450</td>\n",
       "      <td>2.460273</td>\n",
       "      <td>...</td>\n",
       "      <td>1.942598</td>\n",
       "      <td>3.726082</td>\n",
       "      <td>0.137001</td>\n",
       "      <td>-0.045478</td>\n",
       "      <td>-0.021392</td>\n",
       "      <td>0.009270</td>\n",
       "      <td>1.034777</td>\n",
       "      <td>0.992234</td>\n",
       "      <td>0.988988</td>\n",
       "      <td>1.002488</td>\n",
       "    </tr>\n",
       "    <tr>\n",
       "      <th>11</th>\n",
       "      <td>IT</td>\n",
       "      <td>Italy</td>\n",
       "      <td>-0.003070</td>\n",
       "      <td>-0.095495</td>\n",
       "      <td>0.018314</td>\n",
       "      <td>0.014536</td>\n",
       "      <td>0.326948</td>\n",
       "      <td>5.049129</td>\n",
       "      <td>1.652980</td>\n",
       "      <td>1.335280</td>\n",
       "      <td>...</td>\n",
       "      <td>3.202416</td>\n",
       "      <td>1.069289</td>\n",
       "      <td>0.000742</td>\n",
       "      <td>-0.045478</td>\n",
       "      <td>-0.043419</td>\n",
       "      <td>0.007469</td>\n",
       "      <td>1.001997</td>\n",
       "      <td>0.992234</td>\n",
       "      <td>0.986442</td>\n",
       "      <td>1.006985</td>\n",
       "    </tr>\n",
       "    <tr>\n",
       "      <th>12</th>\n",
       "      <td>Iberia</td>\n",
       "      <td>Spain</td>\n",
       "      <td>-0.007223</td>\n",
       "      <td>-0.000981</td>\n",
       "      <td>-0.006779</td>\n",
       "      <td>0.012669</td>\n",
       "      <td>0.659708</td>\n",
       "      <td>0.368515</td>\n",
       "      <td>1.862828</td>\n",
       "      <td>4.304647</td>\n",
       "      <td>...</td>\n",
       "      <td>1.424969</td>\n",
       "      <td>4.424364</td>\n",
       "      <td>0.002932</td>\n",
       "      <td>-0.001078</td>\n",
       "      <td>-0.015135</td>\n",
       "      <td>0.014494</td>\n",
       "      <td>1.004536</td>\n",
       "      <td>0.997338</td>\n",
       "      <td>0.989379</td>\n",
       "      <td>1.003276</td>\n",
       "    </tr>\n",
       "    <tr>\n",
       "      <th>13</th>\n",
       "      <td>PL</td>\n",
       "      <td>Poland</td>\n",
       "      <td>-0.119550</td>\n",
       "      <td>-0.095495</td>\n",
       "      <td>0.121462</td>\n",
       "      <td>0.012684</td>\n",
       "      <td>0.427119</td>\n",
       "      <td>5.049129</td>\n",
       "      <td>2.989076</td>\n",
       "      <td>0.541169</td>\n",
       "      <td>...</td>\n",
       "      <td>6.642391</td>\n",
       "      <td>1.795947</td>\n",
       "      <td>0.166465</td>\n",
       "      <td>-0.045478</td>\n",
       "      <td>-0.024225</td>\n",
       "      <td>0.023514</td>\n",
       "      <td>1.101332</td>\n",
       "      <td>0.992234</td>\n",
       "      <td>0.996353</td>\n",
       "      <td>1.013093</td>\n",
       "    </tr>\n",
       "    <tr>\n",
       "      <th>14</th>\n",
       "      <td>SEE</td>\n",
       "      <td>Bosnia and Herzegovina</td>\n",
       "      <td>-0.069623</td>\n",
       "      <td>-0.192836</td>\n",
       "      <td>0.068815</td>\n",
       "      <td>0.083154</td>\n",
       "      <td>3.890378</td>\n",
       "      <td>6.356895</td>\n",
       "      <td>1.969282</td>\n",
       "      <td>4.346174</td>\n",
       "      <td>...</td>\n",
       "      <td>7.877129</td>\n",
       "      <td>8.048471</td>\n",
       "      <td>0.137001</td>\n",
       "      <td>-0.143066</td>\n",
       "      <td>-0.038292</td>\n",
       "      <td>0.004853</td>\n",
       "      <td>1.034777</td>\n",
       "      <td>0.987622</td>\n",
       "      <td>0.995139</td>\n",
       "      <td>1.000603</td>\n",
       "    </tr>\n",
       "    <tr>\n",
       "      <th>15</th>\n",
       "      <td>SEE</td>\n",
       "      <td>Bulgaria</td>\n",
       "      <td>-0.069623</td>\n",
       "      <td>-0.095495</td>\n",
       "      <td>-0.018069</td>\n",
       "      <td>0.092396</td>\n",
       "      <td>3.890378</td>\n",
       "      <td>5.049129</td>\n",
       "      <td>4.661665</td>\n",
       "      <td>3.239683</td>\n",
       "      <td>...</td>\n",
       "      <td>4.408567</td>\n",
       "      <td>3.378321</td>\n",
       "      <td>0.137001</td>\n",
       "      <td>-0.045478</td>\n",
       "      <td>-0.060018</td>\n",
       "      <td>0.025825</td>\n",
       "      <td>1.034777</td>\n",
       "      <td>0.992234</td>\n",
       "      <td>0.986386</td>\n",
       "      <td>1.007644</td>\n",
       "    </tr>\n",
       "    <tr>\n",
       "      <th>16</th>\n",
       "      <td>SEE</td>\n",
       "      <td>Croatia</td>\n",
       "      <td>-0.069623</td>\n",
       "      <td>-0.095495</td>\n",
       "      <td>0.438907</td>\n",
       "      <td>0.338935</td>\n",
       "      <td>3.890378</td>\n",
       "      <td>5.049129</td>\n",
       "      <td>7.877641</td>\n",
       "      <td>6.640690</td>\n",
       "      <td>...</td>\n",
       "      <td>18.756289</td>\n",
       "      <td>13.311632</td>\n",
       "      <td>0.137001</td>\n",
       "      <td>-0.045478</td>\n",
       "      <td>-0.275071</td>\n",
       "      <td>0.061908</td>\n",
       "      <td>1.034777</td>\n",
       "      <td>0.992234</td>\n",
       "      <td>0.985334</td>\n",
       "      <td>1.004651</td>\n",
       "    </tr>\n",
       "    <tr>\n",
       "      <th>17</th>\n",
       "      <td>SEE</td>\n",
       "      <td>Moldova</td>\n",
       "      <td>0.008937</td>\n",
       "      <td>-0.095495</td>\n",
       "      <td>0.617566</td>\n",
       "      <td>0.099462</td>\n",
       "      <td>10.044877</td>\n",
       "      <td>5.049129</td>\n",
       "      <td>13.270364</td>\n",
       "      <td>3.676661</td>\n",
       "      <td>...</td>\n",
       "      <td>21.403812</td>\n",
       "      <td>7.017667</td>\n",
       "      <td>0.006571</td>\n",
       "      <td>-0.045478</td>\n",
       "      <td>-0.361494</td>\n",
       "      <td>0.058443</td>\n",
       "      <td>1.000890</td>\n",
       "      <td>0.992234</td>\n",
       "      <td>0.983111</td>\n",
       "      <td>1.008419</td>\n",
       "    </tr>\n",
       "    <tr>\n",
       "      <th>18</th>\n",
       "      <td>SEE</td>\n",
       "      <td>Montenegro</td>\n",
       "      <td>-0.069623</td>\n",
       "      <td>-0.248333</td>\n",
       "      <td>0.098667</td>\n",
       "      <td>0.493320</td>\n",
       "      <td>3.890378</td>\n",
       "      <td>13.095821</td>\n",
       "      <td>3.371148</td>\n",
       "      <td>12.865753</td>\n",
       "      <td>...</td>\n",
       "      <td>6.253727</td>\n",
       "      <td>8.091669</td>\n",
       "      <td>0.137001</td>\n",
       "      <td>-0.058525</td>\n",
       "      <td>-0.086953</td>\n",
       "      <td>0.154673</td>\n",
       "      <td>1.034777</td>\n",
       "      <td>0.991643</td>\n",
       "      <td>0.982791</td>\n",
       "      <td>1.019115</td>\n",
       "    </tr>\n",
       "    <tr>\n",
       "      <th>19</th>\n",
       "      <td>SEE</td>\n",
       "      <td>Romania</td>\n",
       "      <td>-0.069623</td>\n",
       "      <td>-0.095495</td>\n",
       "      <td>-0.001420</td>\n",
       "      <td>0.024665</td>\n",
       "      <td>3.890378</td>\n",
       "      <td>5.049129</td>\n",
       "      <td>2.183390</td>\n",
       "      <td>1.326318</td>\n",
       "      <td>...</td>\n",
       "      <td>2.134849</td>\n",
       "      <td>1.571715</td>\n",
       "      <td>0.137001</td>\n",
       "      <td>-0.045478</td>\n",
       "      <td>-0.019260</td>\n",
       "      <td>0.010006</td>\n",
       "      <td>1.034777</td>\n",
       "      <td>0.992234</td>\n",
       "      <td>0.990978</td>\n",
       "      <td>1.006366</td>\n",
       "    </tr>\n",
       "    <tr>\n",
       "      <th>20</th>\n",
       "      <td>SEE</td>\n",
       "      <td>Serbia</td>\n",
       "      <td>-0.427458</td>\n",
       "      <td>-0.025928</td>\n",
       "      <td>-0.016000</td>\n",
       "      <td>0.087583</td>\n",
       "      <td>5.114330</td>\n",
       "      <td>0.470286</td>\n",
       "      <td>0.644241</td>\n",
       "      <td>5.166331</td>\n",
       "      <td>...</td>\n",
       "      <td>0.014553</td>\n",
       "      <td>7.821127</td>\n",
       "      <td>0.625012</td>\n",
       "      <td>-0.003834</td>\n",
       "      <td>-0.000557</td>\n",
       "      <td>0.036710</td>\n",
       "      <td>1.129540</td>\n",
       "      <td>0.986465</td>\n",
       "      <td>0.961696</td>\n",
       "      <td>1.004694</td>\n",
       "    </tr>\n",
       "  </tbody>\n",
       "</table>\n",
       "<p>21 rows × 26 columns</p>\n",
       "</div>"
      ],
      "text/plain": [
       "    Region            country_name  \\\n",
       "0   Africa           Côte d'Ivoire   \n",
       "1   Africa                   Kenya   \n",
       "2   Africa                 Morocco   \n",
       "3   Africa                 Nigeria   \n",
       "4   Africa                 Tunisia   \n",
       "5   Africa                  Uganda   \n",
       "6      ECA                 Armenia   \n",
       "7      ECA                 Georgia   \n",
       "8      ECA              Kazakhstan   \n",
       "9      ECA              Kyrgyzstan   \n",
       "10     ECA                 Ukraine   \n",
       "11      IT                   Italy   \n",
       "12  Iberia                   Spain   \n",
       "13      PL                  Poland   \n",
       "14     SEE  Bosnia and Herzegovina   \n",
       "15     SEE                Bulgaria   \n",
       "16     SEE                 Croatia   \n",
       "17     SEE                 Moldova   \n",
       "18     SEE              Montenegro   \n",
       "19     SEE                 Romania   \n",
       "20     SEE                  Serbia   \n",
       "\n",
       "    flgp_per_user_incremental_CPiO - Growth at a Cost  \\\n",
       "0                                            0.056326   \n",
       "1                                           -0.069623   \n",
       "2                                           -0.022543   \n",
       "3                                           -0.069623   \n",
       "4                                           -0.026105   \n",
       "5                                           -0.069623   \n",
       "6                                           -0.085920   \n",
       "7                                           -0.069623   \n",
       "8                                           -0.069623   \n",
       "9                                           -0.069623   \n",
       "10                                          -0.069623   \n",
       "11                                          -0.003070   \n",
       "12                                          -0.007223   \n",
       "13                                          -0.119550   \n",
       "14                                          -0.069623   \n",
       "15                                          -0.069623   \n",
       "16                                          -0.069623   \n",
       "17                                           0.008937   \n",
       "18                                          -0.069623   \n",
       "19                                          -0.069623   \n",
       "20                                          -0.427458   \n",
       "\n",
       "    flgp_per_user_incremental_Lose-Lose  \\\n",
       "0                             -0.095495   \n",
       "1                             -0.095495   \n",
       "2                             -0.095495   \n",
       "3                             -0.095495   \n",
       "4                             -0.095495   \n",
       "5                             -0.095495   \n",
       "6                             -0.095495   \n",
       "7                             -0.009398   \n",
       "8                             -0.095495   \n",
       "9                             -0.095495   \n",
       "10                            -0.095495   \n",
       "11                            -0.095495   \n",
       "12                            -0.000981   \n",
       "13                            -0.095495   \n",
       "14                            -0.192836   \n",
       "15                            -0.095495   \n",
       "16                            -0.095495   \n",
       "17                            -0.095495   \n",
       "18                            -0.248333   \n",
       "19                            -0.095495   \n",
       "20                            -0.025928   \n",
       "\n",
       "    flgp_per_user_incremental_MPOL - Profit at a Cost  \\\n",
       "0                                            0.098667   \n",
       "1                                            0.016943   \n",
       "2                                            0.012369   \n",
       "3                                            0.131148   \n",
       "4                                            0.049421   \n",
       "5                                            0.098667   \n",
       "6                                            0.001467   \n",
       "7                                            0.020300   \n",
       "8                                            0.017161   \n",
       "9                                            0.273485   \n",
       "10                                           0.030922   \n",
       "11                                           0.018314   \n",
       "12                                          -0.006779   \n",
       "13                                           0.121462   \n",
       "14                                           0.068815   \n",
       "15                                          -0.018069   \n",
       "16                                           0.438907   \n",
       "17                                           0.617566   \n",
       "18                                           0.098667   \n",
       "19                                          -0.001420   \n",
       "20                                          -0.016000   \n",
       "\n",
       "    flgp_per_user_incremental_Win-Win  \\\n",
       "0                            0.181082   \n",
       "1                            0.166115   \n",
       "2                            0.006737   \n",
       "3                            0.010420   \n",
       "4                            0.025672   \n",
       "5                            0.121996   \n",
       "6                            0.099462   \n",
       "7                            0.065691   \n",
       "8                            0.036858   \n",
       "9                            0.099462   \n",
       "10                           0.015795   \n",
       "11                           0.014536   \n",
       "12                           0.012669   \n",
       "13                           0.012684   \n",
       "14                           0.083154   \n",
       "15                           0.092396   \n",
       "16                           0.338935   \n",
       "17                           0.099462   \n",
       "18                           0.493320   \n",
       "19                           0.024665   \n",
       "20                           0.087583   \n",
       "\n",
       "    flgpu_control_mean_CPiO - Growth at a Cost  flgpu_control_mean_Lose-Lose  \\\n",
       "0                                     9.807899                      5.049129   \n",
       "1                                     3.890378                      5.049129   \n",
       "2                                     2.006266                      5.049129   \n",
       "3                                     3.890378                      5.049129   \n",
       "4                                     0.471704                      5.049129   \n",
       "5                                     3.890378                      5.049129   \n",
       "6                                     6.154552                      5.049129   \n",
       "7                                     3.890378                      4.954128   \n",
       "8                                     3.890378                      5.049129   \n",
       "9                                     3.890378                      5.049129   \n",
       "10                                    3.890378                      5.049129   \n",
       "11                                    0.326948                      5.049129   \n",
       "12                                    0.659708                      0.368515   \n",
       "13                                    0.427119                      5.049129   \n",
       "14                                    3.890378                      6.356895   \n",
       "15                                    3.890378                      5.049129   \n",
       "16                                    3.890378                      5.049129   \n",
       "17                                   10.044877                      5.049129   \n",
       "18                                    3.890378                     13.095821   \n",
       "19                                    3.890378                      5.049129   \n",
       "20                                    5.114330                      0.470286   \n",
       "\n",
       "    flgpu_control_mean_MPOL - Profit at a Cost  flgpu_control_mean_Win-Win  \\\n",
       "0                                     3.371148                    6.000023   \n",
       "1                                     1.387186                    4.615877   \n",
       "2                                     1.094319                    1.095243   \n",
       "3                                     0.728168                    1.061930   \n",
       "4                                     0.084480                    6.009470   \n",
       "5                                     3.371148                    4.530415   \n",
       "6                                     5.672869                    3.676661   \n",
       "7                                     6.901843                    0.189520   \n",
       "8                                     0.291349                    0.451095   \n",
       "9                                     5.914525                    3.676661   \n",
       "10                                    1.494450                    2.460273   \n",
       "11                                    1.652980                    1.335280   \n",
       "12                                    1.862828                    4.304647   \n",
       "13                                    2.989076                    0.541169   \n",
       "14                                    1.969282                    4.346174   \n",
       "15                                    4.661665                    3.239683   \n",
       "16                                    7.877641                    6.640690   \n",
       "17                                   13.270364                    3.676661   \n",
       "18                                    3.371148                   12.865753   \n",
       "19                                    2.183390                    1.326318   \n",
       "20                                    0.644241                    5.166331   \n",
       "\n",
       "    ...  orders_per_user_control_mean_MPOL - Profit at a Cost  \\\n",
       "0   ...                                           6.253727      \n",
       "1   ...                                           3.907908      \n",
       "2   ...                                           1.777718      \n",
       "3   ...                                           7.472361      \n",
       "4   ...                                           0.843241      \n",
       "5   ...                                           6.253727      \n",
       "6   ...                                           8.015893      \n",
       "7   ...                                          14.855608      \n",
       "8   ...                                           1.009422      \n",
       "9   ...                                           6.877355      \n",
       "10  ...                                           1.942598      \n",
       "11  ...                                           3.202416      \n",
       "12  ...                                           1.424969      \n",
       "13  ...                                           6.642391      \n",
       "14  ...                                           7.877129      \n",
       "15  ...                                           4.408567      \n",
       "16  ...                                          18.756289      \n",
       "17  ...                                          21.403812      \n",
       "18  ...                                           6.253727      \n",
       "19  ...                                           2.134849      \n",
       "20  ...                                           0.014553      \n",
       "\n",
       "    orders_per_user_control_mean_Win-Win  \\\n",
       "0                               8.897579   \n",
       "1                               7.162157   \n",
       "2                               1.482605   \n",
       "3                              21.238595   \n",
       "4                              19.385387   \n",
       "5                               9.974264   \n",
       "6                               7.017667   \n",
       "7                               3.158670   \n",
       "8                               1.780136   \n",
       "9                               7.017667   \n",
       "10                              3.726082   \n",
       "11                              1.069289   \n",
       "12                              4.424364   \n",
       "13                              1.795947   \n",
       "14                              8.048471   \n",
       "15                              3.378321   \n",
       "16                             13.311632   \n",
       "17                              7.017667   \n",
       "18                              8.091669   \n",
       "19                              1.571715   \n",
       "20                              7.821127   \n",
       "\n",
       "    orders_per_user_incremental_CPiO - Growth at a Cost  \\\n",
       "0                                            0.231380     \n",
       "1                                            0.137001     \n",
       "2                                            0.021874     \n",
       "3                                            0.137001     \n",
       "4                                            0.040011     \n",
       "5                                            0.137001     \n",
       "6                                            0.138019     \n",
       "7                                            0.137001     \n",
       "8                                            0.137001     \n",
       "9                                            0.137001     \n",
       "10                                           0.137001     \n",
       "11                                           0.000742     \n",
       "12                                           0.002932     \n",
       "13                                           0.166465     \n",
       "14                                           0.137001     \n",
       "15                                           0.137001     \n",
       "16                                           0.137001     \n",
       "17                                           0.006571     \n",
       "18                                           0.137001     \n",
       "19                                           0.137001     \n",
       "20                                           0.625012     \n",
       "\n",
       "    orders_per_user_incremental_Lose-Lose  \\\n",
       "0                               -0.045478   \n",
       "1                               -0.045478   \n",
       "2                               -0.045478   \n",
       "3                               -0.045478   \n",
       "4                               -0.045478   \n",
       "5                               -0.045478   \n",
       "6                               -0.045478   \n",
       "7                               -0.020885   \n",
       "8                               -0.045478   \n",
       "9                               -0.045478   \n",
       "10                              -0.045478   \n",
       "11                              -0.045478   \n",
       "12                              -0.001078   \n",
       "13                              -0.045478   \n",
       "14                              -0.143066   \n",
       "15                              -0.045478   \n",
       "16                              -0.045478   \n",
       "17                              -0.045478   \n",
       "18                              -0.058525   \n",
       "19                              -0.045478   \n",
       "20                              -0.003834   \n",
       "\n",
       "    orders_per_user_incremental_MPOL - Profit at a Cost  \\\n",
       "0                                           -0.086953     \n",
       "1                                           -0.030095     \n",
       "2                                           -0.011527     \n",
       "3                                           -0.188581     \n",
       "4                                           -0.068400     \n",
       "5                                           -0.086953     \n",
       "6                                           -0.219726     \n",
       "7                                           -0.103113     \n",
       "8                                           -0.007499     \n",
       "9                                           -0.077344     \n",
       "10                                          -0.021392     \n",
       "11                                          -0.043419     \n",
       "12                                          -0.015135     \n",
       "13                                          -0.024225     \n",
       "14                                          -0.038292     \n",
       "15                                          -0.060018     \n",
       "16                                          -0.275071     \n",
       "17                                          -0.361494     \n",
       "18                                          -0.086953     \n",
       "19                                          -0.019260     \n",
       "20                                          -0.000557     \n",
       "\n",
       "    orders_per_user_incremental_Win-Win  \\\n",
       "0                              0.121819   \n",
       "1                              0.027200   \n",
       "2                              0.015518   \n",
       "3                              0.208391   \n",
       "4                              0.082813   \n",
       "5                              0.196594   \n",
       "6                              0.058443   \n",
       "7                              0.031472   \n",
       "8                              0.019439   \n",
       "9                              0.058443   \n",
       "10                             0.009270   \n",
       "11                             0.007469   \n",
       "12                             0.014494   \n",
       "13                             0.023514   \n",
       "14                             0.004853   \n",
       "15                             0.025825   \n",
       "16                             0.061908   \n",
       "17                             0.058443   \n",
       "18                             0.154673   \n",
       "19                             0.010006   \n",
       "20                             0.036710   \n",
       "\n",
       "    orders_per_user_perc_change_CPiO - Growth at a Cost  \\\n",
       "0                                            1.018637     \n",
       "1                                            1.034777     \n",
       "2                                            1.010047     \n",
       "3                                            1.034777     \n",
       "4                                            1.030536     \n",
       "5                                            1.034777     \n",
       "6                                            1.015474     \n",
       "7                                            1.034777     \n",
       "8                                            1.034777     \n",
       "9                                            1.034777     \n",
       "10                                           1.034777     \n",
       "11                                           1.001997     \n",
       "12                                           1.004536     \n",
       "13                                           1.101332     \n",
       "14                                           1.034777     \n",
       "15                                           1.034777     \n",
       "16                                           1.034777     \n",
       "17                                           1.000890     \n",
       "18                                           1.034777     \n",
       "19                                           1.034777     \n",
       "20                                           1.129540     \n",
       "\n",
       "    orders_per_user_perc_change_Lose-Lose  \\\n",
       "0                                0.992234   \n",
       "1                                0.992234   \n",
       "2                                0.992234   \n",
       "3                                0.992234   \n",
       "4                                0.992234   \n",
       "5                                0.992234   \n",
       "6                                0.992234   \n",
       "7                                0.998103   \n",
       "8                                0.992234   \n",
       "9                                0.992234   \n",
       "10                               0.992234   \n",
       "11                               0.992234   \n",
       "12                               0.997338   \n",
       "13                               0.992234   \n",
       "14                               0.987622   \n",
       "15                               0.992234   \n",
       "16                               0.992234   \n",
       "17                               0.992234   \n",
       "18                               0.991643   \n",
       "19                               0.992234   \n",
       "20                               0.986465   \n",
       "\n",
       "    orders_per_user_perc_change_MPOL - Profit at a Cost  \\\n",
       "0                                            0.982791     \n",
       "1                                            0.992299     \n",
       "2                                            0.993516     \n",
       "3                                            0.974763     \n",
       "4                                            0.918885     \n",
       "5                                            0.982791     \n",
       "6                                            0.972589     \n",
       "7                                            0.993059     \n",
       "8                                            0.992571     \n",
       "9                                            0.988754     \n",
       "10                                           0.988988     \n",
       "11                                           0.986442     \n",
       "12                                           0.989379     \n",
       "13                                           0.996353     \n",
       "14                                           0.995139     \n",
       "15                                           0.986386     \n",
       "16                                           0.985334     \n",
       "17                                           0.983111     \n",
       "18                                           0.982791     \n",
       "19                                           0.990978     \n",
       "20                                           0.961696     \n",
       "\n",
       "    orders_per_user_perc_change_Win-Win  \n",
       "0                              1.013691  \n",
       "1                              1.003798  \n",
       "2                              1.010467  \n",
       "3                              1.009812  \n",
       "4                              1.004272  \n",
       "5                              1.019710  \n",
       "6                              1.008419  \n",
       "7                              1.009964  \n",
       "8                              1.010920  \n",
       "9                              1.008419  \n",
       "10                             1.002488  \n",
       "11                             1.006985  \n",
       "12                             1.003276  \n",
       "13                             1.013093  \n",
       "14                             1.000603  \n",
       "15                             1.007644  \n",
       "16                             1.004651  \n",
       "17                             1.008419  \n",
       "18                             1.019115  \n",
       "19                             1.006366  \n",
       "20                             1.004694  \n",
       "\n",
       "[21 rows x 26 columns]"
      ]
     },
     "execution_count": 823,
     "metadata": {},
     "output_type": "execute_result"
    }
   ],
   "source": [
    "glovo_incremental_df"
   ]
  },
  {
   "cell_type": "code",
   "execution_count": 824,
   "metadata": {},
   "outputs": [],
   "source": [
    "# Step 4 Merge all of the dataframes\n",
    "\n",
    "merged_df_first_glovo = pd.merge(duration_df_glovo, users_df_glovo, on =  'country_name', how='left')\n",
    "merged_df_second_glovo = pd.merge(merged_df_first_glovo, test_perc_df_glovo, on=['Region','country_name'], how='left')\n",
    "final_df_glovo = pd.merge(merged_df_second_glovo, glovo_incremental_df, on=['Region', 'country_name'], how='left')"
   ]
  },
  {
   "cell_type": "code",
   "execution_count": 825,
   "metadata": {},
   "outputs": [],
   "source": [
    "final_df_glovo = final_df_glovo[~final_df_glovo['avg_total_active_users'].isna()]"
   ]
  },
  {
   "cell_type": "code",
   "execution_count": 826,
   "metadata": {},
   "outputs": [],
   "source": [
    "# Set the discount factor for the calculations\n",
    "discount_factor = 1\n",
    "\n",
    "# Define functions to calculate each orders impact (Method 3)\n",
    "def calculate_orders_growth_method(row):\n",
    "    return (\n",
    "        row['avg_orders_per_user'] * \n",
    "        (((row['orders_per_user_perc_change_CPiO - Growth at a Cost']) ** (discount_factor * row['testing_capacity'] * row['percentage_growth']))) * \n",
    "        row['avg_total_active_users']\n",
    "    )\n",
    "\n",
    "def calculate_orders_profit_method(row):\n",
    "    return (\n",
    "        row['avg_orders_per_user'] * \n",
    "        (((row['orders_per_user_perc_change_MPOL - Profit at a Cost']) ** (discount_factor * row['testing_capacity'] * row['percentage_profit']))) * \n",
    "        row['avg_total_active_users']\n",
    "    )\n",
    "\n",
    "def calculate_orders_win_method(row):\n",
    "    return (\n",
    "        row['avg_orders_per_user'] * \n",
    "        (((row['orders_per_user_perc_change_Win-Win']) ** (discount_factor * row['testing_capacity'] * row['percentage_win_win']))) * \n",
    "        row['avg_total_active_users']\n",
    "    )\n",
    "\n",
    "# Apply the Method 3 functions to the DataFrame for orders impact\n",
    "final_df_glovo['orders_impact_growth'] = final_df_glovo.apply(calculate_orders_growth_method, axis=1)\n",
    "final_df_glovo['orders_impact_profit'] = final_df_glovo.apply(calculate_orders_profit_method, axis=1)\n",
    "final_df_glovo['orders_impact_win'] = final_df_glovo.apply(calculate_orders_win_method, axis=1)\n",
    "\n",
    "# Calculate the baseline orders\n",
    "final_df_glovo['baseline_orders'] = final_df_glovo['avg_total_active_users'] * final_df_glovo['avg_orders_per_user']\n",
    "\n",
    "# Calculate the final orders impact\n",
    "final_df_glovo['orders_impact_incremental'] = (\n",
    "    (final_df_glovo['orders_impact_growth'] - final_df_glovo['baseline_orders']) +\n",
    "    (final_df_glovo['orders_impact_profit'] - final_df_glovo['baseline_orders']) +\n",
    "    (final_df_glovo['orders_impact_win'] - final_df_glovo['baseline_orders'])\n",
    ")\n"
   ]
  },
  {
   "cell_type": "code",
   "execution_count": 827,
   "metadata": {},
   "outputs": [],
   "source": [
    "# Set the new discount factor\n",
    "discount_factor = 1\n",
    "\n",
    "def calculate_impact_growth_method(row):\n",
    "    base_value = row['flgpu_perc_change_CPiO - Growth at a Cost'] * discount_factor\n",
    "    return (\n",
    "        row['avg_flgp_per_user'] *\n",
    "        (np.abs(base_value) ** (row['testing_capacity'] * row['percentage_growth'])) *\n",
    "        row['avg_total_active_users']\n",
    "    )\n",
    "\n",
    "def calculate_impact_profit_method(row):\n",
    "    base_value = row['flgpu_perc_change_MPOL - Profit at a Cost'] * discount_factor\n",
    "    return (\n",
    "        row['avg_flgp_per_user'] *\n",
    "        (np.abs(base_value) ** (row['testing_capacity'] * row['percentage_profit'])) *\n",
    "        row['avg_total_active_users']\n",
    "    )\n",
    "\n",
    "def calculate_impact_win_method(row):\n",
    "    base_value = row['flgpu_perc_change_Win-Win'] * discount_factor\n",
    "    return (\n",
    "       row['avg_flgp_per_user'] *\n",
    "        (np.abs(base_value) ** (row['testing_capacity'] * row['percentage_win_win'])) *\n",
    "        row['avg_total_active_users']\n",
    "    )\n",
    "\n",
    "# Apply the updated functions to the DataFrame\n",
    "final_df_glovo['flgp_impact_growth'] = final_df_glovo.apply(calculate_impact_growth_method, axis=1)\n",
    "final_df_glovo['flgp_impact_profit'] = final_df_glovo.apply(calculate_impact_profit_method, axis=1)\n",
    "final_df_glovo['flgp_impact_win'] = final_df_glovo.apply(calculate_impact_win_method, axis=1)\n",
    "\n",
    "# Calculate the baseline FLGP\n",
    "final_df_glovo['baseline_flgp'] = final_df_glovo['avg_total_active_users'] * final_df_glovo['avg_flgp_per_user']\n",
    "\n",
    "# Calculate the final impact using the updated results\n",
    "final_df_glovo['flgp_impact_incremental'] = (\n",
    "    (final_df_glovo['flgp_impact_growth'] - final_df_glovo['baseline_flgp']) +\n",
    "    (final_df_glovo['flgp_impact_profit'] - final_df_glovo['baseline_flgp']) +\n",
    "    (final_df_glovo['flgp_impact_win'] - final_df_glovo['baseline_flgp'])\n",
    ")"
   ]
  },
  {
   "cell_type": "code",
   "execution_count": 828,
   "metadata": {},
   "outputs": [],
   "source": [
    "def calculate_yoy_growth(df, target_year=2024, base_year=2023):\n",
    "    \"\"\"\n",
    "    Calculate Year-over-Year (YoY) growth for fully loaded gross profit, orders, and users.\n",
    "    Fills missing target year values based on the average YoY growth for each entity.\n",
    "    \n",
    "    Parameters:\n",
    "        df (pd.DataFrame): The input DataFrame with 'Month', 'entity_id', 'fully_loaded_gross_profit_eur',\n",
    "                           'total_orders', and 'total_users' columns.\n",
    "        target_year (int): The year for which we want to fill missing values (default is 2024).\n",
    "        base_year (int): The base year for calculating YoY growth (default is 2023).\n",
    "    \n",
    "    Returns:\n",
    "        pd.DataFrame: A DataFrame with aggregated total values for each entity in both the base and target years.\n",
    "    \"\"\"\n",
    "    df = df.copy()\n",
    "\n",
    "    # Extract month and year from the date column\n",
    "    df['Month_o'] = pd.to_datetime(df['date']).dt.month\n",
    "    df['Year_o'] = pd.to_datetime(df['date']).dt.year\n",
    "\n",
    "    # Initialize an empty DataFrame to store results for all entities\n",
    "    all_entities_results = pd.DataFrame()\n",
    "\n",
    "    # Get unique entities\n",
    "    countries = df['country_name'].unique()\n",
    "\n",
    "    # Loop through each entity to calculate metrics and fill missing target year values\n",
    "    for country in countries:\n",
    "        # Filter data for the current entity\n",
    "        entity_df = df[df['country_name'] == country]\n",
    "\n",
    "        pivot_df = entity_df.pivot_table(\n",
    "            index=['country_name', 'Month_o'],\n",
    "            columns='Year_o', \n",
    "            values=['fully_loaded_gross_profit_eur', 'total_orders', 'total_users'], \n",
    "            fill_value=0\n",
    "        ).reset_index()\n",
    "\n",
    "        # Flatten the multi-level columns to a single level\n",
    "        pivot_df.columns = [f\"{col[0]}_{col[1]}\" if isinstance(col, tuple) else col for col in pivot_df.columns]\n",
    "\n",
    "        pivot_df.rename(columns={'country_name_': 'country_name'}, inplace = True)\n",
    "\n",
    "        # Calculate percentage change for each metric\n",
    "        pivot_df[\"profit_yoy_change\"] = np.where(\n",
    "            pivot_df[f\"fully_loaded_gross_profit_eur_{target_year}\"] != 0,\n",
    "            ((pivot_df[f\"fully_loaded_gross_profit_eur_{target_year}\"] - pivot_df[f\"fully_loaded_gross_profit_eur_{base_year}\"]) /\n",
    "             pivot_df[f\"fully_loaded_gross_profit_eur_{base_year}\"]),\n",
    "            np.nan\n",
    "        )\n",
    "        \n",
    "        pivot_df[\"orders_yoy_change\"] = np.where(\n",
    "            pivot_df[f\"total_orders_{target_year}\"] != 0,\n",
    "            ((pivot_df[f\"total_orders_{target_year}\"] - pivot_df[f\"total_orders_{base_year}\"]) /\n",
    "             pivot_df[f\"total_orders_{base_year}\"]),\n",
    "            np.nan\n",
    "        )\n",
    "\n",
    "        pivot_df[\"users_yoy_change\"] = np.where(\n",
    "            pivot_df[f\"total_users_{target_year}\"] != 0,\n",
    "            ((pivot_df[f\"total_users_{target_year}\"] - pivot_df[f\"total_users_{base_year}\"]) /\n",
    "             pivot_df[f\"total_users_{base_year}\"]),\n",
    "            np.nan\n",
    "        )\n",
    "\n",
    "        # Calculate average YoY changes\n",
    "        average_yoy_profit = pivot_df[\"profit_yoy_change\"].mean()\n",
    "        average_yoy_orders = pivot_df[\"orders_yoy_change\"].mean()\n",
    "        average_yoy_users = pivot_df[\"users_yoy_change\"].mean()\n",
    "\n",
    "        # Fill missing target year values based on average YoY change\n",
    "        pivot_df[f'fully_loaded_gross_profit_eur_{target_year}'] = np.where(\n",
    "            pivot_df[f'fully_loaded_gross_profit_eur_{target_year}'] == 0,\n",
    "            pivot_df[f'fully_loaded_gross_profit_eur_{base_year}'] * (1 + average_yoy_profit),\n",
    "            pivot_df[f'fully_loaded_gross_profit_eur_{target_year}']\n",
    "        )\n",
    "        \n",
    "        pivot_df[f'total_orders_{target_year}'] = np.where(\n",
    "            pivot_df[f'total_orders_{target_year}'] == 0,\n",
    "            pivot_df[f'total_orders_{base_year}'] * (1 + average_yoy_orders),\n",
    "            pivot_df[f'total_orders_{target_year}']\n",
    "        )\n",
    "        \n",
    "        pivot_df[f'total_users_{target_year}'] = np.where(\n",
    "            pivot_df[f'total_users_{target_year}'] == 0,\n",
    "            pivot_df[f'total_users_{base_year}'] * (1 + average_yoy_users),\n",
    "            pivot_df[f'total_users_{target_year}']\n",
    "        )\n",
    "\n",
    "        all_entities_results = pd.concat([all_entities_results, pivot_df], ignore_index=True)\n",
    "\n",
    "    # Aggregate results for each entity\n",
    "    result_df = all_entities_results.groupby('country_name').agg({\n",
    "        f'total_orders_{base_year}': 'sum',\n",
    "        f'total_orders_{target_year}': 'sum',\n",
    "        f'fully_loaded_gross_profit_eur_{base_year}': 'sum',\n",
    "        f'fully_loaded_gross_profit_eur_{target_year}': 'sum',\n",
    "        f'total_users_{base_year}': 'sum',\n",
    "        f'total_users_{target_year}': 'sum'\n",
    "    }).reset_index()\n",
    "\n",
    "    result_df['total_flgp'] = result_df['fully_loaded_gross_profit_eur_2024']\n",
    "    result_df['total_orders'] = result_df['total_orders_2024']\n",
    "    result_df['total_users'] = result_df['total_users_2024']\n",
    "\n",
    "    return result_df\n",
    "\n",
    "\n",
    "glovo_actuals['fully_loaded_gross_profit_eur'] = glovo_actuals['total CM']\n",
    "glovo_actuals['total_users'] = glovo_actuals['MAUs']\n",
    "glovo_actuals['total_orders'] = glovo_actuals['total orders']\n",
    "\n",
    "impact_df_glovo = calculate_yoy_growth(glovo_actuals)"
   ]
  },
  {
   "cell_type": "code",
   "execution_count": 829,
   "metadata": {},
   "outputs": [],
   "source": [
    "impact_df_final_glovo = pd.merge(final_df_glovo, impact_df_glovo, on='country_name', how='left')\n",
    "\n",
    "impact_df_final_glovo['total_flgp_target'] = impact_df_final_glovo['total_flgp'] + impact_df_final_glovo['flgp_impact_incremental']\n",
    "impact_df_final_glovo['total_orders_target'] = impact_df_final_glovo['total_orders'] + impact_df_final_glovo['orders_impact_incremental']\n",
    "impact_df_final_glovo['flgp_yoy_2024'] = (impact_df_final_glovo['fully_loaded_gross_profit_eur_2024'] - impact_df_final_glovo['fully_loaded_gross_profit_eur_2023']) / impact_df_final_glovo['fully_loaded_gross_profit_eur_2023']\n",
    "impact_df_final_glovo['orders_yoy_2024'] = (impact_df_final_glovo['total_orders_2024'] - impact_df_final_glovo['total_orders_2023']) / impact_df_final_glovo['total_orders_2023']\n",
    "\n",
    "impact_df_final_glovo.to_csv('targets_glovo.csv', index=False)"
   ]
  },
  {
   "cell_type": "code",
   "execution_count": 830,
   "metadata": {},
   "outputs": [],
   "source": [
    "impact_df_final_glovo['brand_name'] = 'Glovo'\n",
    "\n",
    "summary_df_glovo = impact_df_final_glovo.groupby('brand_name').agg({'total_orders_target':'sum','total_flgp_target':'sum','flgp_impact_incremental':'sum','orders_impact_incremental':'sum','fully_loaded_gross_profit_eur_2023':'sum','fully_loaded_gross_profit_eur_2024':'sum','total_orders_2024':'sum','total_orders_2023':'sum'}).reset_index()\n",
    "\n",
    "# Calculate the total for each column in summary_df, excluding 'brand_name'\n",
    "totals = summary_df_glovo[['total_orders_target', 'total_flgp_target', 'flgp_impact_incremental', \n",
    "                     'orders_impact_incremental', 'fully_loaded_gross_profit_eur_2023', \n",
    "                     'fully_loaded_gross_profit_eur_2024', 'total_orders_2024', \n",
    "                     'total_orders_2023']].sum()\n",
    "\n",
    "# Convert the totals to a DataFrame row\n",
    "totals_df_glovo = pd.DataFrame([totals], columns=totals.index)\n",
    "\n",
    "# Add a 'brand_name' for the totals row\n",
    "totals_df_glovo.insert(0, 'brand_name', 'Total')\n",
    "\n",
    "# Append the totals row to the summary_df\n",
    "summary_df_glovo = pd.concat([summary_df_glovo, totals_df_glovo], ignore_index=True)\n",
    "\n",
    "# Display the summary DataFrame with totals row\n",
    "summary_df_glovo['perc_flgp'] = summary_df_glovo['flgp_impact_incremental'] / summary_df_glovo['total_flgp_target']\n",
    "summary_df_glovo['perc_orders'] = summary_df_glovo['orders_impact_incremental'] / summary_df_glovo['total_orders_target']\n",
    "\n",
    "summary_df_glovo.to_csv('summary_impact_glovo.csv', index=False)"
   ]
  },
  {
   "cell_type": "code",
   "execution_count": null,
   "metadata": {},
   "outputs": [],
   "source": []
  }
 ],
 "metadata": {
  "kernelspec": {
   "display_name": ".venv",
   "language": "python",
   "name": "python3"
  },
  "language_info": {
   "codemirror_mode": {
    "name": "ipython",
    "version": 3
   },
   "file_extension": ".py",
   "mimetype": "text/x-python",
   "name": "python",
   "nbconvert_exporter": "python",
   "pygments_lexer": "ipython3",
   "version": "3.12.4"
  }
 },
 "nbformat": 4,
 "nbformat_minor": 2
}
