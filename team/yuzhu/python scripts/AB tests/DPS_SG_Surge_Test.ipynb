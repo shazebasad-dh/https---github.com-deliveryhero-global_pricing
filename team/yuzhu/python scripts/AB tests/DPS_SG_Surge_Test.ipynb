{
  "nbformat": 4,
  "nbformat_minor": 0,
  "metadata": {
    "colab": {
      "name": "DPS_SG_Surge_Test.ipynb",
      "provenance": [],
      "collapsed_sections": [],
      "toc_visible": true
    },
    "kernelspec": {
      "name": "python3",
      "display_name": "Python 3"
    }
  },
  "cells": [
    {
      "cell_type": "markdown",
      "metadata": {
        "id": "SjWCkg3vxZdF"
      },
      "source": [
        "# Introduction \n",
        "\n",
        "Author: Yuzhu Zhang (yuzhu.zhang@deliveryhero.com)"
      ]
    },
    {
      "cell_type": "code",
      "metadata": {
        "id": "_mzwUQiproV3"
      },
      "source": [
        "%%capture\n",
        "# install packages\n",
        "#!pip install autoplotter"
      ],
      "execution_count": null,
      "outputs": []
    },
    {
      "cell_type": "code",
      "metadata": {
        "id": "s6JyNWW2xOnn",
        "colab": {
          "base_uri": "https://localhost:8080/"
        },
        "outputId": "77e44c7f-49e4-4682-e683-c92ae5efa9a1"
      },
      "source": [
        "# load packages\n",
        "from datetime import datetime, timedelta, time, date\n",
        "from scipy import stats\n",
        "import json\n",
        "import os\n",
        "import pandas as pd\n",
        "import numpy as np\n",
        "import seaborn as sns\n",
        "import matplotlib.pyplot as plt\n",
        "from pandas.io import gbq\n",
        "from google.cloud import bigquery\n",
        "import plotly.offline as pyo\n",
        "import plotly.graph_objs as go\n",
        "import plotly.express as px\n",
        "from plotly.subplots import make_subplots\n",
        "import plotly.graph_objects as go\n",
        "import scipy.stats\n",
        "#import geopandas\n",
        "from shapely import wkt\n",
        "import scipy\n",
        "from scipy import signal\n",
        "%matplotlib inline\n",
        "from google.colab import drive # to allow colab save file in my drive\n",
        "drive.mount('/content/drive')\n",
        "from google.colab import auth\n",
        "auth.authenticate_user()\n",
        "print('Authenticated')\n",
        "cwd=os.getcwd()\n",
        "cwd\n",
        "%unload_ext google.colab.data_table"
      ],
      "execution_count": null,
      "outputs": [
        {
          "output_type": "stream",
          "text": [
            "Mounted at /content/drive\n",
            "Authenticated\n",
            "The google.colab.data_table extension is not loaded.\n"
          ],
          "name": "stdout"
        }
      ]
    },
    {
      "cell_type": "code",
      "metadata": {
        "id": "Tl6DLgKExsAE",
        "colab": {
          "base_uri": "https://localhost:8080/"
        },
        "outputId": "cb3a9975-805e-4d24-97c9-869f0d62075c"
      },
      "source": [
        "# define a few things (project id, start date etc.)\n",
        "project_id = \"fulfillment-dwh-production\"\n",
        "client = bigquery.Client(project = project_id)\n",
        "entity_id = 'FP_SG'\n",
        "country_code = 'sg'\n",
        "start_date = '2020-09-04'\n",
        "end_date = '2020-09-24'\n",
        "pre_date = '2020-08-14'\n",
        "time_zone = \"Asia/Singapore\" # to check delay data\n",
        "zone_id = \"3\" # 3 = Far East, If you need two zones like zone 9 and zone 35, then put \"9,35\" behind \"=\"\n",
        "%cd \"/content/drive/Shared drives/Global Pricing/2 - Entities/APAC/Singapore/7. DPS testing/2. DPS_AB_Testing_20200902\"\n",
        "%pwd\n",
        "%ls"
      ],
      "execution_count": null,
      "outputs": [
        {
          "output_type": "stream",
          "text": [
            "[Errno 2] No such file or directory: '/content/drive/Shared drives/Global Pricing/2 - Entities/APAC/Singapore/7. DPS testing/2. DPS_AB_Testing_20200902'\n",
            "/content\n",
            "adc.json  \u001b[0m\u001b[01;34mdrive\u001b[0m/  \u001b[01;34msample_data\u001b[0m/\n"
          ],
          "name": "stdout"
        }
      ]
    },
    {
      "cell_type": "code",
      "metadata": {
        "id": "q148DreERs6y"
      },
      "source": [
        "# trunc time function\n",
        "def ceil_dt(dt, delta):\n",
        "    return dt + (datetime.min - dt) % delta"
      ],
      "execution_count": null,
      "outputs": []
    },
    {
      "cell_type": "markdown",
      "metadata": {
        "id": "SXsdhDjMDGgs"
      },
      "source": [
        "# 2. Methodology"
      ]
    },
    {
      "cell_type": "markdown",
      "metadata": {
        "id": "w-Y54CkuDJhj"
      },
      "source": [
        "## A/B testing\n",
        "\n",
        "We will check the statistical/substantial significance level of the key metrics.\n",
        "To check the statistical significance level, we will group the data into hours and make paired comparison.\n",
        "\n",
        "What is Wilcoxon signed-rank test?\n",
        "The Wilcoxon signed-rank test is a non-parametric statistical hypothesis test used to compare two related samples, matched samples, or repeated measurements on a single sample to assess whether their population mean ranks differ (i.e. it is a paired difference test). It can be used as an alternative to the paired Student's t-test (also known as \"t-test for matched pairs\" or \"t-test for dependent samples\") when the distribution of the difference between two samples' means cannot be assumed to be normally distributed.[1] A Wilcoxon signed-rank test is a nonparametric test that can be used to determine whether two dependent samples were selected from populations having the same distribution.\n",
        "\n",
        "As we could not assume that the distribution will be normal, we will use wilcoxon signed-rank test to check the significance\n",
        "\n",
        "\n",
        "Ressource: \n",
        "\n",
        "*   https://medium.com/@kangeugine/hypothesis-test-21795f788f7d\n",
        "*   https://stackoverflow.com/questions/15984221/how-to-perform-two-sample-one-tailed-t-test-with-numpy-scipy\n",
        "\n",
        "\n",
        "\n",
        "\n"
      ]
    },
    {
      "cell_type": "markdown",
      "metadata": {
        "id": "y4ugb6wMEMSd"
      },
      "source": [
        "## Pre/Post Analysis"
      ]
    },
    {
      "cell_type": "markdown",
      "metadata": {
        "id": "pNJEGv6yyf8z"
      },
      "source": [
        "# 3. A/B Test Analysis"
      ]
    },
    {
      "cell_type": "markdown",
      "metadata": {
        "id": "4SQJ1LoHFcKE"
      },
      "source": [
        "## Sanity Check"
      ]
    },
    {
      "cell_type": "markdown",
      "metadata": {
        "id": "UsJYWiqCWn70"
      },
      "source": [
        "### a. Invariant: user amount in control and variantion"
      ]
    },
    {
      "cell_type": "code",
      "metadata": {
        "id": "NtZbRgP2kmFD",
        "colab": {
          "base_uri": "https://localhost:8080/",
          "height": 197
        },
        "outputId": "06eb1cf2-42d3-4a5a-890b-33505f398a3a"
      },
      "source": [
        "# Pre-condition check\n",
        "query_user = \"\"\"\n",
        "WITH city_data AS (\n",
        "  SELECT p.entity_id\n",
        "    , country_code\n",
        "    , ci.name AS city_name\n",
        "    , ci.id AS city_id\n",
        "    , zo.shape AS zone_shape \n",
        "    , zo.name AS zone_name\n",
        "    , zo.id AS zone_id\n",
        "  FROM cl.countries co\n",
        "  LEFT JOIN UNNEST(co.platforms) p\n",
        "  LEFT JOIN UNNEST(co.cities) ci\n",
        "  LEFT JOIN UNNEST(ci.zones) zo\n",
        "  WHERE entity_id = \\\"\"\"\" + entity_id + \"\"\"\\\"\n",
        "  and zo.id in (\"\"\" + zone_id + \"\"\")\n",
        ")\n",
        " \n",
        "SELECT  \n",
        "cast(DATETIME(created_at, \"Asia/Singapore\") as date) as local_date\n",
        "--, extract(hour from created_at) as hour\n",
        ", customer.variant\n",
        ", count(distinct customer.id) as user_count\n",
        "FROM `fulfillment-dwh-production.cl.dynamic_pricing_user_sessions` s\n",
        "left join city_data cd ON s.entity_id = cd.entity_id\n",
        "WHERE cast(DATETIME(created_at, \"Asia/Singapore\") as date) between \\\"\"\"\" + start_date + \"\"\"\\\" and \\\"\"\"\" + end_date + \"\"\"\\\"\n",
        "and created_date >= \\\"\"\"\" + start_date + \"\"\"\\\" \n",
        "and s.entity_id = \\\"\"\"\" + entity_id + \"\"\"\\\"\n",
        "and customer.variant in (\"Variation1\", \"Control\")\n",
        "and ST_CONTAINS(cd.zone_shape, customer.location) IS TRUE\n",
        "group by 1,2\n",
        "\n",
        "    \"\"\"\n",
        "\n",
        "user = client.query(query_user).to_dataframe()\n",
        "user.head()"
      ],
      "execution_count": null,
      "outputs": [
        {
          "output_type": "execute_result",
          "data": {
            "text/html": [
              "<div>\n",
              "<style scoped>\n",
              "    .dataframe tbody tr th:only-of-type {\n",
              "        vertical-align: middle;\n",
              "    }\n",
              "\n",
              "    .dataframe tbody tr th {\n",
              "        vertical-align: top;\n",
              "    }\n",
              "\n",
              "    .dataframe thead th {\n",
              "        text-align: right;\n",
              "    }\n",
              "</style>\n",
              "<table border=\"1\" class=\"dataframe\">\n",
              "  <thead>\n",
              "    <tr style=\"text-align: right;\">\n",
              "      <th></th>\n",
              "      <th>local_date</th>\n",
              "      <th>variant</th>\n",
              "      <th>user_count</th>\n",
              "    </tr>\n",
              "  </thead>\n",
              "  <tbody>\n",
              "    <tr>\n",
              "      <th>0</th>\n",
              "      <td>2020-09-05</td>\n",
              "      <td>Control</td>\n",
              "      <td>13847</td>\n",
              "    </tr>\n",
              "    <tr>\n",
              "      <th>1</th>\n",
              "      <td>2020-09-11</td>\n",
              "      <td>Control</td>\n",
              "      <td>11983</td>\n",
              "    </tr>\n",
              "    <tr>\n",
              "      <th>2</th>\n",
              "      <td>2020-09-15</td>\n",
              "      <td>Variation1</td>\n",
              "      <td>10848</td>\n",
              "    </tr>\n",
              "    <tr>\n",
              "      <th>3</th>\n",
              "      <td>2020-09-13</td>\n",
              "      <td>Control</td>\n",
              "      <td>14120</td>\n",
              "    </tr>\n",
              "    <tr>\n",
              "      <th>4</th>\n",
              "      <td>2020-09-08</td>\n",
              "      <td>Variation1</td>\n",
              "      <td>12006</td>\n",
              "    </tr>\n",
              "  </tbody>\n",
              "</table>\n",
              "</div>"
            ],
            "text/plain": [
              "   local_date     variant  user_count\n",
              "0  2020-09-05     Control       13847\n",
              "1  2020-09-11     Control       11983\n",
              "2  2020-09-15  Variation1       10848\n",
              "3  2020-09-13     Control       14120\n",
              "4  2020-09-08  Variation1       12006"
            ]
          },
          "metadata": {
            "tags": []
          },
          "execution_count": 129
        }
      ]
    },
    {
      "cell_type": "code",
      "metadata": {
        "id": "f6lVAmHmmVij"
      },
      "source": [
        "user_group = user.pivot_table(\"user_count\", index=[\"local_date\"], columns =\"variant\", aggfunc = \"sum\")\n",
        "user_group = user_group.reset_index()\n",
        "user_group[\"delta\"]=user_group[\"Variation1\"]/user_group[\"Control\"]-1\n",
        "#user_group['delta'] = user_group['delta'].astype(float).map(lambda n: '{:.2%}'.format(n))"
      ],
      "execution_count": null,
      "outputs": []
    },
    {
      "cell_type": "code",
      "metadata": {
        "id": "efTKC46p1s2L",
        "colab": {
          "base_uri": "https://localhost:8080/",
          "height": 407
        },
        "outputId": "f4e8b0bb-0a9e-4518-9d83-8527fefd2d8f"
      },
      "source": [
        "user_group[\"delta\"]"
      ],
      "execution_count": null,
      "outputs": [
        {
          "output_type": "execute_result",
          "data": {
            "text/plain": [
              "0     0.029622\n",
              "1     0.001228\n",
              "2    -0.007930\n",
              "3    -0.028486\n",
              "4    -0.002244\n",
              "5    -0.001099\n",
              "6    -0.015773\n",
              "7     0.008929\n",
              "8     0.005755\n",
              "9    -0.002691\n",
              "10    0.000466\n",
              "11    0.000369\n",
              "12    0.003732\n",
              "13   -0.001617\n",
              "14   -0.004071\n",
              "15    0.010132\n",
              "16    0.004970\n",
              "17    0.009012\n",
              "18   -0.011158\n",
              "19   -0.002888\n",
              "20    0.006485\n",
              "Name: delta, dtype: float64"
            ]
          },
          "metadata": {
            "tags": []
          },
          "execution_count": 131
        }
      ]
    },
    {
      "cell_type": "code",
      "metadata": {
        "id": "s1rPsf-rq3IC",
        "colab": {
          "base_uri": "https://localhost:8080/",
          "height": 542
        },
        "outputId": "aa4b4d40-9703-485a-b8f3-3fdcff8981c2"
      },
      "source": [
        "fig = go.Figure()\n",
        "fig = make_subplots(specs=[[{\"secondary_y\": True}]])\n",
        "fig.add_trace(go.Scatter(x =user_group.local_date, y=user_group.Control, mode=\"lines\", name =\"control\"), secondary_y=False)\n",
        "fig.add_trace(go.Scatter(x =user_group.local_date, y=user_group.Variation1, mode=\"lines\", name =\"variation1\"), secondary_y=False)\n",
        "fig.add_trace(go.Scatter(x =user_group.local_date, y=user_group.delta, mode=\"lines\", name =\"delta\", line = dict(color='royalblue', width=4, dash='dash')), secondary_y=True)\n",
        "# Add figure title\n",
        "fig.update_layout(title_text=\"Daily users in Control and Test\")\n",
        "# Set x-axis title\n",
        "fig.update_xaxes(title_text=\"Date\")\n",
        "# Set y-axes titles\n",
        "fig.update_yaxes(title_text=\"Daily user amount\", showgrid=False, secondary_y=False)\n",
        "fig.update_yaxes(title_text=\"Delta % difference of Variation1 vs Control\", showgrid=False,secondary_y=True)\n",
        "fig.show()"
      ],
      "execution_count": null,
      "outputs": [
        {
          "output_type": "display_data",
          "data": {
            "text/html": [
              "<html>\n",
              "<head><meta charset=\"utf-8\" /></head>\n",
              "<body>\n",
              "    <div>\n",
              "            <script src=\"https://cdnjs.cloudflare.com/ajax/libs/mathjax/2.7.5/MathJax.js?config=TeX-AMS-MML_SVG\"></script><script type=\"text/javascript\">if (window.MathJax) {MathJax.Hub.Config({SVG: {font: \"STIX-Web\"}});}</script>\n",
              "                <script type=\"text/javascript\">window.PlotlyConfig = {MathJaxConfig: 'local'};</script>\n",
              "        <script src=\"https://cdn.plot.ly/plotly-latest.min.js\"></script>    \n",
              "            <div id=\"fbb37542-dbaa-4233-9523-4f41b22f9a69\" class=\"plotly-graph-div\" style=\"height:525px; width:100%;\"></div>\n",
              "            <script type=\"text/javascript\">\n",
              "                \n",
              "                    window.PLOTLYENV=window.PLOTLYENV || {};\n",
              "                    \n",
              "                if (document.getElementById(\"fbb37542-dbaa-4233-9523-4f41b22f9a69\")) {\n",
              "                    Plotly.newPlot(\n",
              "                        'fbb37542-dbaa-4233-9523-4f41b22f9a69',\n",
              "                        [{\"mode\": \"lines\", \"name\": \"control\", \"type\": \"scatter\", \"x\": [\"2020-09-04\", \"2020-09-05\", \"2020-09-06\", \"2020-09-07\", \"2020-09-08\", \"2020-09-09\", \"2020-09-10\", \"2020-09-11\", \"2020-09-12\", \"2020-09-13\", \"2020-09-14\", \"2020-09-15\", \"2020-09-16\", \"2020-09-17\", \"2020-09-18\", \"2020-09-19\", \"2020-09-20\", \"2020-09-21\", \"2020-09-22\", \"2020-09-23\", \"2020-09-24\"], \"xaxis\": \"x\", \"y\": [11174, 13847, 13620, 11339, 12033, 11831, 11412, 11983, 13206, 14120, 10734, 10844, 10987, 11131, 11300, 12337, 12475, 9765, 10038, 10040, 10331], \"yaxis\": \"y\"}, {\"mode\": \"lines\", \"name\": \"variation1\", \"type\": \"scatter\", \"x\": [\"2020-09-04\", \"2020-09-05\", \"2020-09-06\", \"2020-09-07\", \"2020-09-08\", \"2020-09-09\", \"2020-09-10\", \"2020-09-11\", \"2020-09-12\", \"2020-09-13\", \"2020-09-14\", \"2020-09-15\", \"2020-09-16\", \"2020-09-17\", \"2020-09-18\", \"2020-09-19\", \"2020-09-20\", \"2020-09-21\", \"2020-09-22\", \"2020-09-23\", \"2020-09-24\"], \"xaxis\": \"x\", \"y\": [11505, 13864, 13512, 11016, 12006, 11818, 11232, 12090, 13282, 14082, 10739, 10848, 11028, 11113, 11254, 12462, 12537, 9853, 9926, 10011, 10398], \"yaxis\": \"y\"}, {\"line\": {\"color\": \"royalblue\", \"dash\": \"dash\", \"width\": 4}, \"mode\": \"lines\", \"name\": \"delta\", \"type\": \"scatter\", \"x\": [\"2020-09-04\", \"2020-09-05\", \"2020-09-06\", \"2020-09-07\", \"2020-09-08\", \"2020-09-09\", \"2020-09-10\", \"2020-09-11\", \"2020-09-12\", \"2020-09-13\", \"2020-09-14\", \"2020-09-15\", \"2020-09-16\", \"2020-09-17\", \"2020-09-18\", \"2020-09-19\", \"2020-09-20\", \"2020-09-21\", \"2020-09-22\", \"2020-09-23\", \"2020-09-24\"], \"xaxis\": \"x\", \"y\": [0.029622337569357393, 0.0012277027514984162, -0.007929515418502175, -0.028485757121439303, -0.002243829468960401, -0.0010988082157045165, -0.01577287066246058, 0.008929316531753217, 0.0057549598667272495, -0.00269121813031159, 0.00046580957704489556, 0.0003688675765400884, 0.003731682897970323, -0.0016171053813673897, -0.00407079646017694, 0.010132122882386296, 0.004969939879759577, 0.009011776753712342, -0.01115760111576014, -0.0028884462151393953, 0.006485335398315639], \"yaxis\": \"y2\"}],\n",
              "                        {\"template\": {\"data\": {\"bar\": [{\"error_x\": {\"color\": \"#2a3f5f\"}, \"error_y\": {\"color\": \"#2a3f5f\"}, \"marker\": {\"line\": {\"color\": \"#E5ECF6\", \"width\": 0.5}}, \"type\": \"bar\"}], \"barpolar\": [{\"marker\": {\"line\": {\"color\": \"#E5ECF6\", \"width\": 0.5}}, \"type\": \"barpolar\"}], \"carpet\": [{\"aaxis\": {\"endlinecolor\": \"#2a3f5f\", \"gridcolor\": \"white\", \"linecolor\": \"white\", \"minorgridcolor\": \"white\", \"startlinecolor\": \"#2a3f5f\"}, \"baxis\": {\"endlinecolor\": \"#2a3f5f\", \"gridcolor\": \"white\", \"linecolor\": \"white\", \"minorgridcolor\": \"white\", \"startlinecolor\": \"#2a3f5f\"}, \"type\": \"carpet\"}], \"choropleth\": [{\"colorbar\": {\"outlinewidth\": 0, \"ticks\": \"\"}, \"type\": \"choropleth\"}], \"contour\": [{\"colorbar\": {\"outlinewidth\": 0, \"ticks\": \"\"}, \"colorscale\": [[0.0, \"#0d0887\"], [0.1111111111111111, \"#46039f\"], [0.2222222222222222, \"#7201a8\"], [0.3333333333333333, \"#9c179e\"], [0.4444444444444444, \"#bd3786\"], [0.5555555555555556, \"#d8576b\"], [0.6666666666666666, \"#ed7953\"], [0.7777777777777778, \"#fb9f3a\"], [0.8888888888888888, \"#fdca26\"], [1.0, \"#f0f921\"]], \"type\": \"contour\"}], \"contourcarpet\": [{\"colorbar\": {\"outlinewidth\": 0, \"ticks\": \"\"}, \"type\": \"contourcarpet\"}], \"heatmap\": [{\"colorbar\": {\"outlinewidth\": 0, \"ticks\": \"\"}, \"colorscale\": [[0.0, \"#0d0887\"], [0.1111111111111111, \"#46039f\"], [0.2222222222222222, \"#7201a8\"], [0.3333333333333333, \"#9c179e\"], [0.4444444444444444, \"#bd3786\"], [0.5555555555555556, \"#d8576b\"], [0.6666666666666666, \"#ed7953\"], [0.7777777777777778, \"#fb9f3a\"], [0.8888888888888888, \"#fdca26\"], [1.0, \"#f0f921\"]], \"type\": \"heatmap\"}], \"heatmapgl\": [{\"colorbar\": {\"outlinewidth\": 0, \"ticks\": \"\"}, \"colorscale\": [[0.0, \"#0d0887\"], [0.1111111111111111, \"#46039f\"], [0.2222222222222222, \"#7201a8\"], [0.3333333333333333, \"#9c179e\"], [0.4444444444444444, \"#bd3786\"], [0.5555555555555556, \"#d8576b\"], [0.6666666666666666, \"#ed7953\"], [0.7777777777777778, \"#fb9f3a\"], [0.8888888888888888, \"#fdca26\"], [1.0, \"#f0f921\"]], \"type\": \"heatmapgl\"}], \"histogram\": [{\"marker\": {\"colorbar\": {\"outlinewidth\": 0, \"ticks\": \"\"}}, \"type\": \"histogram\"}], \"histogram2d\": [{\"colorbar\": {\"outlinewidth\": 0, \"ticks\": \"\"}, \"colorscale\": [[0.0, \"#0d0887\"], [0.1111111111111111, \"#46039f\"], [0.2222222222222222, \"#7201a8\"], [0.3333333333333333, \"#9c179e\"], [0.4444444444444444, \"#bd3786\"], [0.5555555555555556, \"#d8576b\"], [0.6666666666666666, \"#ed7953\"], [0.7777777777777778, \"#fb9f3a\"], [0.8888888888888888, \"#fdca26\"], [1.0, \"#f0f921\"]], \"type\": \"histogram2d\"}], \"histogram2dcontour\": [{\"colorbar\": {\"outlinewidth\": 0, \"ticks\": \"\"}, \"colorscale\": [[0.0, \"#0d0887\"], [0.1111111111111111, \"#46039f\"], [0.2222222222222222, \"#7201a8\"], [0.3333333333333333, \"#9c179e\"], [0.4444444444444444, \"#bd3786\"], [0.5555555555555556, \"#d8576b\"], [0.6666666666666666, \"#ed7953\"], [0.7777777777777778, \"#fb9f3a\"], [0.8888888888888888, \"#fdca26\"], [1.0, \"#f0f921\"]], \"type\": \"histogram2dcontour\"}], \"mesh3d\": [{\"colorbar\": {\"outlinewidth\": 0, \"ticks\": \"\"}, \"type\": \"mesh3d\"}], \"parcoords\": [{\"line\": {\"colorbar\": {\"outlinewidth\": 0, \"ticks\": \"\"}}, \"type\": \"parcoords\"}], \"pie\": [{\"automargin\": true, \"type\": \"pie\"}], \"scatter\": [{\"marker\": {\"colorbar\": {\"outlinewidth\": 0, \"ticks\": \"\"}}, \"type\": \"scatter\"}], \"scatter3d\": [{\"line\": {\"colorbar\": {\"outlinewidth\": 0, \"ticks\": \"\"}}, \"marker\": {\"colorbar\": {\"outlinewidth\": 0, \"ticks\": \"\"}}, \"type\": \"scatter3d\"}], \"scattercarpet\": [{\"marker\": {\"colorbar\": {\"outlinewidth\": 0, \"ticks\": \"\"}}, \"type\": \"scattercarpet\"}], \"scattergeo\": [{\"marker\": {\"colorbar\": {\"outlinewidth\": 0, \"ticks\": \"\"}}, \"type\": \"scattergeo\"}], \"scattergl\": [{\"marker\": {\"colorbar\": {\"outlinewidth\": 0, \"ticks\": \"\"}}, \"type\": \"scattergl\"}], \"scattermapbox\": [{\"marker\": {\"colorbar\": {\"outlinewidth\": 0, \"ticks\": \"\"}}, \"type\": \"scattermapbox\"}], \"scatterpolar\": [{\"marker\": {\"colorbar\": {\"outlinewidth\": 0, \"ticks\": \"\"}}, \"type\": \"scatterpolar\"}], \"scatterpolargl\": [{\"marker\": {\"colorbar\": {\"outlinewidth\": 0, \"ticks\": \"\"}}, \"type\": \"scatterpolargl\"}], \"scatterternary\": [{\"marker\": {\"colorbar\": {\"outlinewidth\": 0, \"ticks\": \"\"}}, \"type\": \"scatterternary\"}], \"surface\": [{\"colorbar\": {\"outlinewidth\": 0, \"ticks\": \"\"}, \"colorscale\": [[0.0, \"#0d0887\"], [0.1111111111111111, \"#46039f\"], [0.2222222222222222, \"#7201a8\"], [0.3333333333333333, \"#9c179e\"], [0.4444444444444444, \"#bd3786\"], [0.5555555555555556, \"#d8576b\"], [0.6666666666666666, \"#ed7953\"], [0.7777777777777778, \"#fb9f3a\"], [0.8888888888888888, \"#fdca26\"], [1.0, \"#f0f921\"]], \"type\": \"surface\"}], \"table\": [{\"cells\": {\"fill\": {\"color\": \"#EBF0F8\"}, \"line\": {\"color\": \"white\"}}, \"header\": {\"fill\": {\"color\": \"#C8D4E3\"}, \"line\": {\"color\": \"white\"}}, \"type\": \"table\"}]}, \"layout\": {\"annotationdefaults\": {\"arrowcolor\": \"#2a3f5f\", \"arrowhead\": 0, \"arrowwidth\": 1}, \"coloraxis\": {\"colorbar\": {\"outlinewidth\": 0, \"ticks\": \"\"}}, \"colorscale\": {\"diverging\": [[0, \"#8e0152\"], [0.1, \"#c51b7d\"], [0.2, \"#de77ae\"], [0.3, \"#f1b6da\"], [0.4, \"#fde0ef\"], [0.5, \"#f7f7f7\"], [0.6, \"#e6f5d0\"], [0.7, \"#b8e186\"], [0.8, \"#7fbc41\"], [0.9, \"#4d9221\"], [1, \"#276419\"]], \"sequential\": [[0.0, \"#0d0887\"], [0.1111111111111111, \"#46039f\"], [0.2222222222222222, \"#7201a8\"], [0.3333333333333333, \"#9c179e\"], [0.4444444444444444, \"#bd3786\"], [0.5555555555555556, \"#d8576b\"], [0.6666666666666666, \"#ed7953\"], [0.7777777777777778, \"#fb9f3a\"], [0.8888888888888888, \"#fdca26\"], [1.0, \"#f0f921\"]], \"sequentialminus\": [[0.0, \"#0d0887\"], [0.1111111111111111, \"#46039f\"], [0.2222222222222222, \"#7201a8\"], [0.3333333333333333, \"#9c179e\"], [0.4444444444444444, \"#bd3786\"], [0.5555555555555556, \"#d8576b\"], [0.6666666666666666, \"#ed7953\"], [0.7777777777777778, \"#fb9f3a\"], [0.8888888888888888, \"#fdca26\"], [1.0, \"#f0f921\"]]}, \"colorway\": [\"#636efa\", \"#EF553B\", \"#00cc96\", \"#ab63fa\", \"#FFA15A\", \"#19d3f3\", \"#FF6692\", \"#B6E880\", \"#FF97FF\", \"#FECB52\"], \"font\": {\"color\": \"#2a3f5f\"}, \"geo\": {\"bgcolor\": \"white\", \"lakecolor\": \"white\", \"landcolor\": \"#E5ECF6\", \"showlakes\": true, \"showland\": true, \"subunitcolor\": \"white\"}, \"hoverlabel\": {\"align\": \"left\"}, \"hovermode\": \"closest\", \"mapbox\": {\"style\": \"light\"}, \"paper_bgcolor\": \"white\", \"plot_bgcolor\": \"#E5ECF6\", \"polar\": {\"angularaxis\": {\"gridcolor\": \"white\", \"linecolor\": \"white\", \"ticks\": \"\"}, \"bgcolor\": \"#E5ECF6\", \"radialaxis\": {\"gridcolor\": \"white\", \"linecolor\": \"white\", \"ticks\": \"\"}}, \"scene\": {\"xaxis\": {\"backgroundcolor\": \"#E5ECF6\", \"gridcolor\": \"white\", \"gridwidth\": 2, \"linecolor\": \"white\", \"showbackground\": true, \"ticks\": \"\", \"zerolinecolor\": \"white\"}, \"yaxis\": {\"backgroundcolor\": \"#E5ECF6\", \"gridcolor\": \"white\", \"gridwidth\": 2, \"linecolor\": \"white\", \"showbackground\": true, \"ticks\": \"\", \"zerolinecolor\": \"white\"}, \"zaxis\": {\"backgroundcolor\": \"#E5ECF6\", \"gridcolor\": \"white\", \"gridwidth\": 2, \"linecolor\": \"white\", \"showbackground\": true, \"ticks\": \"\", \"zerolinecolor\": \"white\"}}, \"shapedefaults\": {\"line\": {\"color\": \"#2a3f5f\"}}, \"ternary\": {\"aaxis\": {\"gridcolor\": \"white\", \"linecolor\": \"white\", \"ticks\": \"\"}, \"baxis\": {\"gridcolor\": \"white\", \"linecolor\": \"white\", \"ticks\": \"\"}, \"bgcolor\": \"#E5ECF6\", \"caxis\": {\"gridcolor\": \"white\", \"linecolor\": \"white\", \"ticks\": \"\"}}, \"title\": {\"x\": 0.05}, \"xaxis\": {\"automargin\": true, \"gridcolor\": \"white\", \"linecolor\": \"white\", \"ticks\": \"\", \"title\": {\"standoff\": 15}, \"zerolinecolor\": \"white\", \"zerolinewidth\": 2}, \"yaxis\": {\"automargin\": true, \"gridcolor\": \"white\", \"linecolor\": \"white\", \"ticks\": \"\", \"title\": {\"standoff\": 15}, \"zerolinecolor\": \"white\", \"zerolinewidth\": 2}}}, \"title\": {\"text\": \"Daily users in Control and Test\"}, \"xaxis\": {\"anchor\": \"y\", \"domain\": [0.0, 0.94], \"title\": {\"text\": \"Date\"}}, \"yaxis\": {\"anchor\": \"x\", \"domain\": [0.0, 1.0], \"showgrid\": false, \"title\": {\"text\": \"Daily user amount\"}}, \"yaxis2\": {\"anchor\": \"x\", \"overlaying\": \"y\", \"showgrid\": false, \"side\": \"right\", \"title\": {\"text\": \"Delta % difference of Variation1 vs Control\"}}},\n",
              "                        {\"responsive\": true}\n",
              "                    ).then(function(){\n",
              "                            \n",
              "var gd = document.getElementById('fbb37542-dbaa-4233-9523-4f41b22f9a69');\n",
              "var x = new MutationObserver(function (mutations, observer) {{\n",
              "        var display = window.getComputedStyle(gd).display;\n",
              "        if (!display || display === 'none') {{\n",
              "            console.log([gd, 'removed!']);\n",
              "            Plotly.purge(gd);\n",
              "            observer.disconnect();\n",
              "        }}\n",
              "}});\n",
              "\n",
              "// Listen for the removal of the full notebook cells\n",
              "var notebookContainer = gd.closest('#notebook-container');\n",
              "if (notebookContainer) {{\n",
              "    x.observe(notebookContainer, {childList: true});\n",
              "}}\n",
              "\n",
              "// Listen for the clearing of the current output cell\n",
              "var outputEl = gd.closest('.output');\n",
              "if (outputEl) {{\n",
              "    x.observe(outputEl, {childList: true});\n",
              "}}\n",
              "\n",
              "                        })\n",
              "                };\n",
              "                \n",
              "            </script>\n",
              "        </div>\n",
              "</body>\n",
              "</html>"
            ]
          },
          "metadata": {
            "tags": []
          }
        }
      ]
    },
    {
      "cell_type": "code",
      "metadata": {
        "id": "e3WLM01mXxJb",
        "colab": {
          "base_uri": "https://localhost:8080/",
          "height": 34
        },
        "outputId": "fb7bdae5-4d65-4493-a7d1-4af9ca37b7ad"
      },
      "source": [
        "results = stats.wilcoxon(user_group['Variation1'], user_group['Control']) \n",
        "\n",
        "alpha = 0.05\n",
        "if (results[0] != 0) & (results[1] <= alpha):\n",
        "    print (\"reject null hypothesis, mean of {} is greater than mean of {}\".format('Variation1','Control'))\n",
        "else:\n",
        "    print (\"accept null hypothesis\")"
      ],
      "execution_count": null,
      "outputs": [
        {
          "output_type": "stream",
          "text": [
            "accept null hypothesis\n"
          ],
          "name": "stdout"
        }
      ]
    },
    {
      "cell_type": "markdown",
      "metadata": {
        "id": "9S_Hp5p_Xw-m"
      },
      "source": [
        "### b. Invariant: user location in control and variantion"
      ]
    },
    {
      "cell_type": "code",
      "metadata": {
        "id": "7qLcqBmg8Z8H",
        "colab": {
          "base_uri": "https://localhost:8080/",
          "height": 197
        },
        "outputId": "c44c4938-663e-4499-a620-6def6a09511b"
      },
      "source": [
        "# Pre-condition check\n",
        "query_location = \"\"\"\n",
        "WITH city_data AS (\n",
        "  SELECT p.entity_id\n",
        "    , country_code\n",
        "    , ci.name AS city_name\n",
        "    , ci.id AS city_id\n",
        "    , zo.shape AS zone_shape \n",
        "    , zo.name AS zone_name\n",
        "    , zo.id AS zone_id\n",
        "  FROM cl.countries co\n",
        "  LEFT JOIN UNNEST(co.platforms) p\n",
        "  LEFT JOIN UNNEST(co.cities) ci\n",
        "  LEFT JOIN UNNEST(ci.zones) zo\n",
        "  WHERE entity_id = \\\"\"\"\" + entity_id + \"\"\"\\\"\n",
        "  and zo.id in (\"\"\" + zone_id + \"\"\")\n",
        ")\n",
        " \n",
        "SELECT  \n",
        "st_x(customer.location) as lon\n",
        ",st_y(customer.location) as lat\n",
        "-- st_x(ST_GEOGPOINTFROMGEOHASH(st_geohash(customer.location, 7))) as lon\n",
        "--, st_y(ST_GEOGPOINTFROMGEOHASH(st_geohash(customer.location, 7))) as lat\n",
        ", customer.variant\n",
        ", count(distinct customer.id) as user_count\n",
        "FROM `fulfillment-dwh-production.cl.dynamic_pricing_user_sessions` s\n",
        "left join city_data cd ON s.entity_id = cd.entity_id\n",
        "WHERE cast(DATETIME(created_at, \"Asia/Singapore\") as date) between \\\"\"\"\" + start_date + \"\"\"\\\" and \\\"\"\"\" + end_date + \"\"\"\\\"\n",
        "and created_date >= \\\"\"\"\" + start_date + \"\"\"\\\" \n",
        "and s.entity_id = \\\"\"\"\" + entity_id + \"\"\"\\\"\n",
        "and customer.variant in (\"Variation1\", \"Control\")\n",
        "and ST_CONTAINS(cd.zone_shape, customer.location) IS TRUE\n",
        "group by 1,2,3\n",
        "\n",
        "    \"\"\"\n",
        "\n",
        "location = client.query(query_location).to_dataframe()\n",
        "location.head()"
      ],
      "execution_count": null,
      "outputs": [
        {
          "output_type": "execute_result",
          "data": {
            "text/html": [
              "<div>\n",
              "<style scoped>\n",
              "    .dataframe tbody tr th:only-of-type {\n",
              "        vertical-align: middle;\n",
              "    }\n",
              "\n",
              "    .dataframe tbody tr th {\n",
              "        vertical-align: top;\n",
              "    }\n",
              "\n",
              "    .dataframe thead th {\n",
              "        text-align: right;\n",
              "    }\n",
              "</style>\n",
              "<table border=\"1\" class=\"dataframe\">\n",
              "  <thead>\n",
              "    <tr style=\"text-align: right;\">\n",
              "      <th></th>\n",
              "      <th>lon</th>\n",
              "      <th>lat</th>\n",
              "      <th>variant</th>\n",
              "      <th>user_count</th>\n",
              "    </tr>\n",
              "  </thead>\n",
              "  <tbody>\n",
              "    <tr>\n",
              "      <th>0</th>\n",
              "      <td>103.953526</td>\n",
              "      <td>1.341785</td>\n",
              "      <td>Control</td>\n",
              "      <td>25</td>\n",
              "    </tr>\n",
              "    <tr>\n",
              "      <th>1</th>\n",
              "      <td>103.953462</td>\n",
              "      <td>1.363027</td>\n",
              "      <td>Control</td>\n",
              "      <td>3</td>\n",
              "    </tr>\n",
              "    <tr>\n",
              "      <th>2</th>\n",
              "      <td>103.935981</td>\n",
              "      <td>1.360708</td>\n",
              "      <td>Control</td>\n",
              "      <td>20</td>\n",
              "    </tr>\n",
              "    <tr>\n",
              "      <th>3</th>\n",
              "      <td>103.931960</td>\n",
              "      <td>1.356503</td>\n",
              "      <td>Control</td>\n",
              "      <td>43</td>\n",
              "    </tr>\n",
              "    <tr>\n",
              "      <th>4</th>\n",
              "      <td>103.928939</td>\n",
              "      <td>1.324307</td>\n",
              "      <td>Control</td>\n",
              "      <td>1</td>\n",
              "    </tr>\n",
              "  </tbody>\n",
              "</table>\n",
              "</div>"
            ],
            "text/plain": [
              "          lon       lat  variant  user_count\n",
              "0  103.953526  1.341785  Control          25\n",
              "1  103.953462  1.363027  Control           3\n",
              "2  103.935981  1.360708  Control          20\n",
              "3  103.931960  1.356503  Control          43\n",
              "4  103.928939  1.324307  Control           1"
            ]
          },
          "metadata": {
            "tags": []
          },
          "execution_count": 43
        }
      ]
    },
    {
      "cell_type": "code",
      "metadata": {
        "id": "xDfR5XcRf6p6",
        "colab": {
          "base_uri": "https://localhost:8080/",
          "height": 406
        },
        "outputId": "94201b76-9467-4597-af54-5ec2bbccedc9"
      },
      "source": [
        "location.loc[location['variant'] == \"Control\"]"
      ],
      "execution_count": null,
      "outputs": [
        {
          "output_type": "execute_result",
          "data": {
            "text/html": [
              "<div>\n",
              "<style scoped>\n",
              "    .dataframe tbody tr th:only-of-type {\n",
              "        vertical-align: middle;\n",
              "    }\n",
              "\n",
              "    .dataframe tbody tr th {\n",
              "        vertical-align: top;\n",
              "    }\n",
              "\n",
              "    .dataframe thead th {\n",
              "        text-align: right;\n",
              "    }\n",
              "</style>\n",
              "<table border=\"1\" class=\"dataframe\">\n",
              "  <thead>\n",
              "    <tr style=\"text-align: right;\">\n",
              "      <th></th>\n",
              "      <th>lon</th>\n",
              "      <th>lat</th>\n",
              "      <th>variant</th>\n",
              "      <th>user_count</th>\n",
              "    </tr>\n",
              "  </thead>\n",
              "  <tbody>\n",
              "    <tr>\n",
              "      <th>0</th>\n",
              "      <td>103.953526</td>\n",
              "      <td>1.341785</td>\n",
              "      <td>Control</td>\n",
              "      <td>25</td>\n",
              "    </tr>\n",
              "    <tr>\n",
              "      <th>1</th>\n",
              "      <td>103.953462</td>\n",
              "      <td>1.363027</td>\n",
              "      <td>Control</td>\n",
              "      <td>3</td>\n",
              "    </tr>\n",
              "    <tr>\n",
              "      <th>2</th>\n",
              "      <td>103.935981</td>\n",
              "      <td>1.360708</td>\n",
              "      <td>Control</td>\n",
              "      <td>20</td>\n",
              "    </tr>\n",
              "    <tr>\n",
              "      <th>3</th>\n",
              "      <td>103.931960</td>\n",
              "      <td>1.356503</td>\n",
              "      <td>Control</td>\n",
              "      <td>43</td>\n",
              "    </tr>\n",
              "    <tr>\n",
              "      <th>4</th>\n",
              "      <td>103.928939</td>\n",
              "      <td>1.324307</td>\n",
              "      <td>Control</td>\n",
              "      <td>1</td>\n",
              "    </tr>\n",
              "    <tr>\n",
              "      <th>...</th>\n",
              "      <td>...</td>\n",
              "      <td>...</td>\n",
              "      <td>...</td>\n",
              "      <td>...</td>\n",
              "    </tr>\n",
              "    <tr>\n",
              "      <th>75846</th>\n",
              "      <td>103.960401</td>\n",
              "      <td>1.358157</td>\n",
              "      <td>Control</td>\n",
              "      <td>1</td>\n",
              "    </tr>\n",
              "    <tr>\n",
              "      <th>75847</th>\n",
              "      <td>103.938930</td>\n",
              "      <td>1.335680</td>\n",
              "      <td>Control</td>\n",
              "      <td>1</td>\n",
              "    </tr>\n",
              "    <tr>\n",
              "      <th>75848</th>\n",
              "      <td>103.937320</td>\n",
              "      <td>1.323486</td>\n",
              "      <td>Control</td>\n",
              "      <td>1</td>\n",
              "    </tr>\n",
              "    <tr>\n",
              "      <th>75849</th>\n",
              "      <td>103.945109</td>\n",
              "      <td>1.354176</td>\n",
              "      <td>Control</td>\n",
              "      <td>1</td>\n",
              "    </tr>\n",
              "    <tr>\n",
              "      <th>75850</th>\n",
              "      <td>103.953563</td>\n",
              "      <td>1.332738</td>\n",
              "      <td>Control</td>\n",
              "      <td>1</td>\n",
              "    </tr>\n",
              "  </tbody>\n",
              "</table>\n",
              "<p>75851 rows × 4 columns</p>\n",
              "</div>"
            ],
            "text/plain": [
              "              lon       lat  variant  user_count\n",
              "0      103.953526  1.341785  Control          25\n",
              "1      103.953462  1.363027  Control           3\n",
              "2      103.935981  1.360708  Control          20\n",
              "3      103.931960  1.356503  Control          43\n",
              "4      103.928939  1.324307  Control           1\n",
              "...           ...       ...      ...         ...\n",
              "75846  103.960401  1.358157  Control           1\n",
              "75847  103.938930  1.335680  Control           1\n",
              "75848  103.937320  1.323486  Control           1\n",
              "75849  103.945109  1.354176  Control           1\n",
              "75850  103.953563  1.332738  Control           1\n",
              "\n",
              "[75851 rows x 4 columns]"
            ]
          },
          "metadata": {
            "tags": []
          },
          "execution_count": 44
        }
      ]
    },
    {
      "cell_type": "code",
      "metadata": {
        "id": "rm1qgSgu-xXj"
      },
      "source": [
        "# Initialize figure with subplots\n",
        "\n",
        "subset = location.loc[location['variant'] == \"Variantion1\"]\n",
        "fig = make_subplots(\n",
        "    rows=1, cols=2,\n",
        "    #column_widths=[0.6, 0.4],\n",
        "    #row_heights=[0.4, 0.6]\n",
        "           )\n",
        "\n",
        "fig = px.scatter_mapbox(location, lat=\"lat\", lon=\"lon\", hover_name=\"variant\", hover_data=[\"user_count\"], size=\"user_count\",opacity=0.5, \n",
        "                        color_discrete_sequence=[\"red\"], \n",
        "                        zoom=12, height=200\n",
        "                        )\n",
        "fig.update_layout(mapbox_style=\"open-street-map\")\n",
        "fig.update_layout(margin={\"r\":0,\"t\":0,\"l\":0,\"b\":0})\n",
        "fig.show()"
      ],
      "execution_count": null,
      "outputs": []
    },
    {
      "cell_type": "markdown",
      "metadata": {
        "id": "L2hcSkuWK6i0"
      },
      "source": [
        "## Deep Dive\n",
        "We look at different metrics:\n",
        "\n",
        "Economics Metrics\n",
        "*   Orders\n",
        "*   Delivery fee\n",
        "*   Basket value\n",
        "\n",
        "Logistics Metrics \n",
        "\n",
        "*   Travel Time\n"
      ]
    },
    {
      "cell_type": "code",
      "metadata": {
        "id": "-lO6PITrykfc"
      },
      "source": [
        "query1 = \"\"\"\n",
        "WITH costs as (\n",
        "  select\n",
        "    p.entity_id,\n",
        "    l.platform_order_code platform_order_code,\n",
        "    sum(p.delivery_costs) delivery_costs,\n",
        "    sum(p.delivery_costs_eur) delivery_costs_eur\n",
        "  from \n",
        "    (select\n",
        "      entity_id,\n",
        "      country_code,\n",
        "      created_date,\n",
        "      order_id,\n",
        "      delivery_costs,\n",
        "      delivery_costs_eur,\n",
        "      row_number() over(partition by entity_id, order_id order by created_date desc) as rank\n",
        "    from cl.utr_timings) p\n",
        "  left join cl.orders l on p.order_id = l.order_id and p.country_code = l.country_code\n",
        "  where p.entity_id = \\\"\"\"\" + entity_id + \"\"\"\\\"\n",
        "    and rank = 1\n",
        "  group by 1,2)\n",
        "\n",
        "select\n",
        "zone_name\n",
        ", zone_id\n",
        ", vertical_type\n",
        ", operating_system\n",
        ", cast(DATETIME(created_at, timezone) as date) as local_date\n",
        ", DATETIME(created_at, timezone) as local_time\n",
        ", vendor_code\n",
        ", platform_order_code_ga\n",
        ", variant\n",
        ", dps_delivery_fee_local\n",
        ", dps_surge_fee_local\n",
        ", dps_travel_time_local\n",
        ", cast(c.commission_local as float64) commission_local\n",
        ", cast(c.commission_eur as float64) commission_eur\n",
        ", gmv_eur\n",
        ", gfv_eur\n",
        ", delivery_fee_eur\n",
        ", delivery_fee_local\n",
        ", delivery_fee_local_accounting\n",
        ", travel_time_distance_km\n",
        ", mean_delay\n",
        ", travel_time\n",
        ", to_customer_time\n",
        ", to_vendor_time\n",
        ", delivery_distance\n",
        ", delivery_costs\n",
        ", delivery_costs_eur\n",
        "from cl._dps_sessions_mapped_to_orders o\n",
        "left join pandata_raw_il_backend_latest.fct_order_commissions c on o.entity_id = c.global_entity_id and o.platform_order_code_ga = c.order_code\n",
        "left join costs cos on cos.entity_id =o.entity_id and cos.platform_order_code = o.platform_order_code\n",
        "where o.entity_id = \\\"\"\"\" + entity_id + \"\"\"\\\"\n",
        "and zone_id in (\"\"\" + zone_id + \"\"\")\n",
        "and variant in (\"Control\",\"Variation1\")\n",
        "and cast(DATETIME(created_at, timezone) as date) between \\\"\"\"\" + start_date + \"\"\"\\\"  and \\\"\"\"\" + end_date + \"\"\"\\\"\n",
        "group by 1,2,3,4,5,6,7,8,9,10,11,12,13,14,15,16,17,18,19,20,21,22,23,24,25,26,27\n",
        "    \"\"\"\n",
        "\n",
        "df = client.query(query1).to_dataframe()"
      ],
      "execution_count": null,
      "outputs": []
    },
    {
      "cell_type": "code",
      "metadata": {
        "id": "m68EtSj6QMHb"
      },
      "source": [
        "# define stage of the setup\n",
        "conditions = [\n",
        "    (df['mean_delay'] <= 3.5),\n",
        "    (df['mean_delay'] > 3.5) & (df['mean_delay'] <= 9),\n",
        "    (df['mean_delay'] > 9) & (df['mean_delay'] < 15),\n",
        "    (df['mean_delay'] >= 15) & (df['mean_delay'] < 17),\n",
        "    (df['mean_delay'] >= 17)\n",
        "    ]\n",
        "values = ['price_easing', 'default', 'surge1',\"surge_shrink1\",\"shrink2\"]\n",
        "df[\"stage\"] = np.select(conditions,values)\n",
        "#different stage for control\n",
        "df[\"stage_new\"] = df[\"stage\"]\n",
        "df.loc[(df.variant == \"Control\") & (df.stage == \"price_easing\") , 'stage_new'] = \"default\"\n",
        "df.loc[(df.variant == \"Control\") & (df.stage == \"surge1\") , 'stage_new'] = \"default\"\n",
        "#df.loc[(df.variant == \"Control\") & (df.stage == \"surge_shrink1\") , 'stage_new'] = \"shrink1\"\n",
        "\n",
        "# local time to datetime format\n",
        "#df[\"local_time\"] = df[\"local_time\"].dt.to_pydatetime()\n",
        "#df.drop(['time', 'new_lt'], axis=1, inplace=True)\n",
        "# define time block\n",
        "df[\"local_hour\"] = df.local_time.dt.hour\n",
        "df[\"hour_block\"] = df[\"local_hour\"]\n",
        "df.loc[df.local_hour <= 9, 'hour_block'] = 9\n",
        "df.loc[df.local_hour >=21, 'hour_block'] = 21\n",
        "df[\"rev\"] = df[\"commission_local\"] + df[\"delivery_fee_local\"]/1.07\n",
        "df[\"profit\"] = df[\"rev\"]-df[\"delivery_costs\"]\n",
        "df[\"profit_eur\"] = df[\"commission_eur\"] + df[\"delivery_fee_eur\"]/1.07 - df[\"delivery_costs_eur\"]\n",
        "\n",
        "# round travel time to 1 digit\n",
        "df[\"tt\"] = df[\"travel_time\"].round(1)\n",
        "\n",
        "df[\"new_time\"] = ceil_dt((df['local_time'].dt.to_pydatetime()), timedelta(minutes=30))\n",
        "df[\"new_time\"] = df['new_time'].dt.time\n",
        "\n",
        "df[\"order\"] = df[\"platform_order_code_ga\"]\n",
        "df[\"df\"] = df[\"delivery_fee_local\"]\n",
        "# drop duplicates\n",
        "df_copy = df[['zone_name', 'zone_id', \n",
        "       'local_date', 'local_time', 'vendor_code', 'platform_order_code_ga',\n",
        "       'variant', 'commission_local', 'gmv_eur', 'gfv_eur',\n",
        "       'delivery_fee_eur', 'delivery_fee_local',\n",
        "       'delivery_fee_local_accounting', 'travel_time_distance_km',\n",
        "       'mean_delay', 'travel_time',\"rev\",\"profit\",\"order\",\"df\", \"hour_block\",\"tt\",\"profit_eur\",\n",
        "       'delivery_distance', 'delivery_costs']].drop_duplicates()"
      ],
      "execution_count": null,
      "outputs": []
    },
    {
      "cell_type": "code",
      "metadata": {
        "id": "wW9UCNuLA-oh"
      },
      "source": [
        "df_sig = df_copy.pivot_table(values = [\"order\", \"df\",\"rev\",\"delivery_distance\",\"profit\"], index=[\"local_date\", \"hour_block\"],\n",
        "                        columns = \"variant\",\n",
        "                       aggfunc ={\"order\": \"count\",\"df\":\"sum\",\"rev\":\"sum\",\"delivery_distance\":\"sum\" ,\"profit\":\"sum\",}).reset_index()\n",
        "df_sig = df_sig.fillna(0)\n",
        "\n",
        "Variants = [\"Variation1\"]"
      ],
      "execution_count": null,
      "outputs": []
    },
    {
      "cell_type": "code",
      "metadata": {
        "colab": {
          "base_uri": "https://localhost:8080/",
          "height": 136
        },
        "id": "FuPEyZ_ci5IK",
        "outputId": "c506fe6e-828e-4d64-d8f5-43669a6c8552"
      },
      "source": [
        "check = df_copy.pivot_table(values = [\"order\",\"delivery_fee_eur\",\"profit_eur\"], \n",
        "                            #index=[\"local_date\", \"hour_block\"],\n",
        "                        columns = \"variant\",\n",
        "                       aggfunc ={\"order\": \"count\",\"delivery_fee_eur\":\"mean\",\"profit_eur\":\"mean\"}).reset_index()\n",
        "check"
      ],
      "execution_count": null,
      "outputs": [
        {
          "output_type": "execute_result",
          "data": {
            "text/html": [
              "<div>\n",
              "<style scoped>\n",
              "    .dataframe tbody tr th:only-of-type {\n",
              "        vertical-align: middle;\n",
              "    }\n",
              "\n",
              "    .dataframe tbody tr th {\n",
              "        vertical-align: top;\n",
              "    }\n",
              "\n",
              "    .dataframe thead th {\n",
              "        text-align: right;\n",
              "    }\n",
              "</style>\n",
              "<table border=\"1\" class=\"dataframe\">\n",
              "  <thead>\n",
              "    <tr style=\"text-align: right;\">\n",
              "      <th>variant</th>\n",
              "      <th>index</th>\n",
              "      <th>Control</th>\n",
              "      <th>Variation1</th>\n",
              "    </tr>\n",
              "  </thead>\n",
              "  <tbody>\n",
              "    <tr>\n",
              "      <th>0</th>\n",
              "      <td>delivery_fee_eur</td>\n",
              "      <td>1.702132</td>\n",
              "      <td>1.727833</td>\n",
              "    </tr>\n",
              "    <tr>\n",
              "      <th>1</th>\n",
              "      <td>order</td>\n",
              "      <td>66395.000000</td>\n",
              "      <td>65021.000000</td>\n",
              "    </tr>\n",
              "    <tr>\n",
              "      <th>2</th>\n",
              "      <td>profit_eur</td>\n",
              "      <td>-0.356689</td>\n",
              "      <td>-0.309834</td>\n",
              "    </tr>\n",
              "  </tbody>\n",
              "</table>\n",
              "</div>"
            ],
            "text/plain": [
              "variant             index       Control    Variation1\n",
              "0        delivery_fee_eur      1.702132      1.727833\n",
              "1                   order  66395.000000  65021.000000\n",
              "2              profit_eur     -0.356689     -0.309834"
            ]
          },
          "metadata": {
            "tags": []
          },
          "execution_count": 11
        }
      ]
    },
    {
      "cell_type": "code",
      "metadata": {
        "colab": {
          "base_uri": "https://localhost:8080/",
          "height": 124
        },
        "id": "rk5SyFrWCa1R",
        "outputId": "a513f3e2-17f6-474e-eef0-dc7c100d0593"
      },
      "source": [
        "# create empty array list\n",
        "rows_list = []\n",
        "metrics = [\"order\", \"df\",\"delivery_distance\",\"rev\",\"profit\"]\n",
        "\n",
        "# loop the data for each zone and each stage\n",
        "for metric in metrics:\n",
        "  for variant in Variants:\n",
        "    sum_delta = df_sig[(metric,variant)].sum()/df_sig[(metric,\"Control\")].sum()-1   \n",
        "    sum_sig = stats.wilcoxon(df_sig[(metric,variant)], df_sig[(metric,\"Control\")]) [1]/2\n",
        "    sum_sig_tf = sum_sig <= 0.05\n",
        "    if metric != \"order\":\n",
        "      avg_delta = (df_sig[(metric,variant)].sum()/df_sig[(\"order\",variant)].sum())/(df_sig[(metric,\"Control\")].sum()/df_sig[(\"order\",\"Control\")].sum())-1\n",
        "      avg_sig = stats.wilcoxon(df_sig[(metric,variant)]/df_sig[(\"order\",variant)],df_sig[(metric,\"Control\")]/df_sig[(\"order\",\"Control\")])[1]/2\n",
        "      avg_sig_tf = avg_sig <= 0.05\n",
        "    else:\n",
        "      avg_delta=0\n",
        "      avg_sig = \"NA\"\n",
        "      avg_sig_tf = \"NA\"\n",
        "    rows_list.append([metric, variant,sum_delta,sum_sig_tf,avg_delta, avg_sig_tf])\n",
        "result = pd.DataFrame(rows_list, columns=['metrics','variant','sum_delta','sum_sig',\"avg_delta\",\"avg_sig\"])\n",
        "\n",
        "def color_negative_red(val):\n",
        "    color = 'green' if val == True else 'black'\n",
        "    return f'color: {color}'\n",
        "result.style.format({\"sum_delta\": \"{:.2%}\",\n",
        "                     \"avg_delta\": \"{:.2%}\"})\\\n",
        "                .applymap(color_negative_red)\\\n",
        "                 .hide_index()\\\n",
        "                 .bar(align='mid', color=['#d65f5f', '#5fba7d'])\\\n",
        "                 .set_properties(**{'text-align': 'center'})"
      ],
      "execution_count": null,
      "outputs": [
        {
          "output_type": "execute_result",
          "data": {
            "text/html": [
              "<style  type=\"text/css\" >\n",
              "#T_5546e4aa_7b30_11eb_89b7_0242ac1c0002row0_col0,#T_5546e4aa_7b30_11eb_89b7_0242ac1c0002row0_col1,#T_5546e4aa_7b30_11eb_89b7_0242ac1c0002row0_col5,#T_5546e4aa_7b30_11eb_89b7_0242ac1c0002row1_col0,#T_5546e4aa_7b30_11eb_89b7_0242ac1c0002row1_col1,#T_5546e4aa_7b30_11eb_89b7_0242ac1c0002row1_col3,#T_5546e4aa_7b30_11eb_89b7_0242ac1c0002row2_col0,#T_5546e4aa_7b30_11eb_89b7_0242ac1c0002row2_col1,#T_5546e4aa_7b30_11eb_89b7_0242ac1c0002row3_col0,#T_5546e4aa_7b30_11eb_89b7_0242ac1c0002row3_col1,#T_5546e4aa_7b30_11eb_89b7_0242ac1c0002row3_col3,#T_5546e4aa_7b30_11eb_89b7_0242ac1c0002row4_col0,#T_5546e4aa_7b30_11eb_89b7_0242ac1c0002row4_col1{\n",
              "            color:  black;\n",
              "            text-align:  center;\n",
              "        }#T_5546e4aa_7b30_11eb_89b7_0242ac1c0002row0_col2{\n",
              "            color:  black;\n",
              "            width:  10em;\n",
              "             height:  80%;\n",
              "            background:  linear-gradient(90deg, transparent 97.9%, #d65f5f 97.9%, #d65f5f 100.0%, transparent 100.0%);\n",
              "            text-align:  center;\n",
              "        }#T_5546e4aa_7b30_11eb_89b7_0242ac1c0002row0_col3,#T_5546e4aa_7b30_11eb_89b7_0242ac1c0002row1_col5,#T_5546e4aa_7b30_11eb_89b7_0242ac1c0002row2_col3,#T_5546e4aa_7b30_11eb_89b7_0242ac1c0002row2_col5,#T_5546e4aa_7b30_11eb_89b7_0242ac1c0002row3_col5,#T_5546e4aa_7b30_11eb_89b7_0242ac1c0002row4_col3,#T_5546e4aa_7b30_11eb_89b7_0242ac1c0002row4_col5{\n",
              "            color:  green;\n",
              "            text-align:  center;\n",
              "        }#T_5546e4aa_7b30_11eb_89b7_0242ac1c0002row0_col4{\n",
              "            color:  black;\n",
              "            width:  10em;\n",
              "             height:  80%;\n",
              "            text-align:  center;\n",
              "        }#T_5546e4aa_7b30_11eb_89b7_0242ac1c0002row1_col2{\n",
              "            color:  black;\n",
              "            width:  10em;\n",
              "             height:  80%;\n",
              "            background:  linear-gradient(90deg, transparent 99.4%, #d65f5f 99.4%, #d65f5f 100.0%, transparent 100.0%);\n",
              "            text-align:  center;\n",
              "        }#T_5546e4aa_7b30_11eb_89b7_0242ac1c0002row1_col4{\n",
              "            color:  black;\n",
              "            width:  10em;\n",
              "             height:  80%;\n",
              "            background:  linear-gradient(90deg, transparent 98.3%, #5fba7d 98.3%, #5fba7d 99.9%, transparent 99.9%);\n",
              "            text-align:  center;\n",
              "        }#T_5546e4aa_7b30_11eb_89b7_0242ac1c0002row2_col2{\n",
              "            color:  black;\n",
              "            width:  10em;\n",
              "             height:  80%;\n",
              "            background:  linear-gradient(90deg, transparent 96.9%, #d65f5f 96.9%, #d65f5f 100.0%, transparent 100.0%);\n",
              "            text-align:  center;\n",
              "        }#T_5546e4aa_7b30_11eb_89b7_0242ac1c0002row2_col4{\n",
              "            color:  black;\n",
              "            width:  10em;\n",
              "             height:  80%;\n",
              "            background:  linear-gradient(90deg, transparent 97.4%, #d65f5f 97.4%, #d65f5f 98.3%, transparent 98.3%);\n",
              "            text-align:  center;\n",
              "        }#T_5546e4aa_7b30_11eb_89b7_0242ac1c0002row3_col2{\n",
              "            color:  black;\n",
              "            width:  10em;\n",
              "             height:  80%;\n",
              "            background:  linear-gradient(90deg, transparent 99.5%, #d65f5f 99.5%, #d65f5f 100.0%, transparent 100.0%);\n",
              "            text-align:  center;\n",
              "        }#T_5546e4aa_7b30_11eb_89b7_0242ac1c0002row3_col4{\n",
              "            color:  black;\n",
              "            width:  10em;\n",
              "             height:  80%;\n",
              "            background:  linear-gradient(90deg, transparent 98.3%, #5fba7d 98.3%, #5fba7d 100.0%, transparent 100.0%);\n",
              "            text-align:  center;\n",
              "        }#T_5546e4aa_7b30_11eb_89b7_0242ac1c0002row4_col2{\n",
              "            color:  black;\n",
              "            width:  10em;\n",
              "             height:  80%;\n",
              "            background:  linear-gradient(90deg,#d65f5f 100.0%, transparent 100.0%);\n",
              "            text-align:  center;\n",
              "        }#T_5546e4aa_7b30_11eb_89b7_0242ac1c0002row4_col4{\n",
              "            color:  black;\n",
              "            width:  10em;\n",
              "             height:  80%;\n",
              "            background:  linear-gradient(90deg,#d65f5f 98.3%, transparent 98.3%);\n",
              "            text-align:  center;\n",
              "        }</style><table id=\"T_5546e4aa_7b30_11eb_89b7_0242ac1c0002\" ><thead>    <tr>        <th class=\"col_heading level0 col0\" >metrics</th>        <th class=\"col_heading level0 col1\" >variant</th>        <th class=\"col_heading level0 col2\" >sum_delta</th>        <th class=\"col_heading level0 col3\" >sum_sig</th>        <th class=\"col_heading level0 col4\" >avg_delta</th>        <th class=\"col_heading level0 col5\" >avg_sig</th>    </tr></thead><tbody>\n",
              "                <tr>\n",
              "                                <td id=\"T_5546e4aa_7b30_11eb_89b7_0242ac1c0002row0_col0\" class=\"data row0 col0\" >order</td>\n",
              "                        <td id=\"T_5546e4aa_7b30_11eb_89b7_0242ac1c0002row0_col1\" class=\"data row0 col1\" >Variation1</td>\n",
              "                        <td id=\"T_5546e4aa_7b30_11eb_89b7_0242ac1c0002row0_col2\" class=\"data row0 col2\" >-2.07%</td>\n",
              "                        <td id=\"T_5546e4aa_7b30_11eb_89b7_0242ac1c0002row0_col3\" class=\"data row0 col3\" >True</td>\n",
              "                        <td id=\"T_5546e4aa_7b30_11eb_89b7_0242ac1c0002row0_col4\" class=\"data row0 col4\" >0.00%</td>\n",
              "                        <td id=\"T_5546e4aa_7b30_11eb_89b7_0242ac1c0002row0_col5\" class=\"data row0 col5\" >NA</td>\n",
              "            </tr>\n",
              "            <tr>\n",
              "                                <td id=\"T_5546e4aa_7b30_11eb_89b7_0242ac1c0002row1_col0\" class=\"data row1 col0\" >df</td>\n",
              "                        <td id=\"T_5546e4aa_7b30_11eb_89b7_0242ac1c0002row1_col1\" class=\"data row1 col1\" >Variation1</td>\n",
              "                        <td id=\"T_5546e4aa_7b30_11eb_89b7_0242ac1c0002row1_col2\" class=\"data row1 col2\" >-0.60%</td>\n",
              "                        <td id=\"T_5546e4aa_7b30_11eb_89b7_0242ac1c0002row1_col3\" class=\"data row1 col3\" >False</td>\n",
              "                        <td id=\"T_5546e4aa_7b30_11eb_89b7_0242ac1c0002row1_col4\" class=\"data row1 col4\" >1.50%</td>\n",
              "                        <td id=\"T_5546e4aa_7b30_11eb_89b7_0242ac1c0002row1_col5\" class=\"data row1 col5\" >True</td>\n",
              "            </tr>\n",
              "            <tr>\n",
              "                                <td id=\"T_5546e4aa_7b30_11eb_89b7_0242ac1c0002row2_col0\" class=\"data row2 col0\" >delivery_distance</td>\n",
              "                        <td id=\"T_5546e4aa_7b30_11eb_89b7_0242ac1c0002row2_col1\" class=\"data row2 col1\" >Variation1</td>\n",
              "                        <td id=\"T_5546e4aa_7b30_11eb_89b7_0242ac1c0002row2_col2\" class=\"data row2 col2\" >-2.95%</td>\n",
              "                        <td id=\"T_5546e4aa_7b30_11eb_89b7_0242ac1c0002row2_col3\" class=\"data row2 col3\" >True</td>\n",
              "                        <td id=\"T_5546e4aa_7b30_11eb_89b7_0242ac1c0002row2_col4\" class=\"data row2 col4\" >-0.90%</td>\n",
              "                        <td id=\"T_5546e4aa_7b30_11eb_89b7_0242ac1c0002row2_col5\" class=\"data row2 col5\" >True</td>\n",
              "            </tr>\n",
              "            <tr>\n",
              "                                <td id=\"T_5546e4aa_7b30_11eb_89b7_0242ac1c0002row3_col0\" class=\"data row3 col0\" >rev</td>\n",
              "                        <td id=\"T_5546e4aa_7b30_11eb_89b7_0242ac1c0002row3_col1\" class=\"data row3 col1\" >Variation1</td>\n",
              "                        <td id=\"T_5546e4aa_7b30_11eb_89b7_0242ac1c0002row3_col2\" class=\"data row3 col2\" >-0.46%</td>\n",
              "                        <td id=\"T_5546e4aa_7b30_11eb_89b7_0242ac1c0002row3_col3\" class=\"data row3 col3\" >False</td>\n",
              "                        <td id=\"T_5546e4aa_7b30_11eb_89b7_0242ac1c0002row3_col4\" class=\"data row3 col4\" >1.64%</td>\n",
              "                        <td id=\"T_5546e4aa_7b30_11eb_89b7_0242ac1c0002row3_col5\" class=\"data row3 col5\" >True</td>\n",
              "            </tr>\n",
              "            <tr>\n",
              "                                <td id=\"T_5546e4aa_7b30_11eb_89b7_0242ac1c0002row4_col0\" class=\"data row4 col0\" >profit</td>\n",
              "                        <td id=\"T_5546e4aa_7b30_11eb_89b7_0242ac1c0002row4_col1\" class=\"data row4 col1\" >Variation1</td>\n",
              "                        <td id=\"T_5546e4aa_7b30_11eb_89b7_0242ac1c0002row4_col2\" class=\"data row4 col2\" >-96.60%</td>\n",
              "                        <td id=\"T_5546e4aa_7b30_11eb_89b7_0242ac1c0002row4_col3\" class=\"data row4 col3\" >True</td>\n",
              "                        <td id=\"T_5546e4aa_7b30_11eb_89b7_0242ac1c0002row4_col4\" class=\"data row4 col4\" >-96.53%</td>\n",
              "                        <td id=\"T_5546e4aa_7b30_11eb_89b7_0242ac1c0002row4_col5\" class=\"data row4 col5\" >True</td>\n",
              "            </tr>\n",
              "    </tbody></table>"
            ],
            "text/plain": [
              "<pandas.io.formats.style.Styler at 0x7fb3f6cfc850>"
            ]
          },
          "metadata": {
            "tags": []
          },
          "execution_count": 27
        }
      ]
    },
    {
      "cell_type": "code",
      "metadata": {
        "id": "9lXFWTOgQ82Y",
        "colab": {
          "base_uri": "https://localhost:8080/",
          "height": 197
        },
        "outputId": "ddd0a70a-d0bd-4679-d470-d814e1f4abf7"
      },
      "source": [
        "df_sum = df[df.platform_order_code_ga.notnull()]\n",
        "#df_sum = df[df['platform_order_code_ga'].isnull()]\n",
        "df_sum = df_sum.fillna(0)\n",
        "\n",
        "df_sum_pv = pd.pivot_table(df_sum,values = [\"dps_delivery_fee\",\"platform_order_code\", \"gfv_eur\",\"travel_time\"], index = [\"stage\"], columns = \"variant\", \n",
        "                     aggfunc = {'dps_delivery_fee' : 'mean', 'platform_order_code' : 'count', 'gfv_eur' : 'mean', 'travel_time':'mean'}).reset_index()\n",
        "df_sum_pv.rename(columns={'dps_delivery_fee': 'avg_df', 'platform_order_code_ga': 'order', 'gfv_eur':'avg_gfv', 'tt':'avg_tt'}, inplace=True)\n",
        "\n",
        "df_sum_pv.columns = ['_'.join(col).strip() for col in df_sum_pv.columns.values]\n",
        "#df_sum_pv.rename(columns={'zone_group_': 'zone_group'}, inplace=True)\n",
        "#df_sum_pv[\"df_delta\"] = round(df_sum_pv[\"avg_df_during_test\"]/df_sum_pv[\"avg_df_before_test\"]-1,2)\n",
        "#df_sum_pv[\"gfv_delta\"] = round(df_sum_pv[\"avg_gfv_during_test\"]/df_sum_pv[\"avg_gfv_before_test\"]-1,2)\n",
        "#df_sum_pv[\"order_delta\"] = round(df_sum_pv[\"order_during_test\"]/df_sum_pv[\"order_before_test\"]-1,2)\n",
        "#df_sum_pv[\"tt_delta\"] = round(df_sum_pv[\"avg_tt_during_test\"]/df_sum_pv[\"avg_tt_before_test\"]-1,2)\n",
        "df_sum_pv"
      ],
      "execution_count": null,
      "outputs": [
        {
          "output_type": "execute_result",
          "data": {
            "text/html": [
              "<div>\n",
              "<style scoped>\n",
              "    .dataframe tbody tr th:only-of-type {\n",
              "        vertical-align: middle;\n",
              "    }\n",
              "\n",
              "    .dataframe tbody tr th {\n",
              "        vertical-align: top;\n",
              "    }\n",
              "\n",
              "    .dataframe thead th {\n",
              "        text-align: right;\n",
              "    }\n",
              "</style>\n",
              "<table border=\"1\" class=\"dataframe\">\n",
              "  <thead>\n",
              "    <tr style=\"text-align: right;\">\n",
              "      <th></th>\n",
              "      <th>stage_</th>\n",
              "      <th>avg_df_Control</th>\n",
              "      <th>avg_df_Variation1</th>\n",
              "      <th>avg_gfv_Control</th>\n",
              "      <th>avg_gfv_Variation1</th>\n",
              "      <th>platform_order_code_Control</th>\n",
              "      <th>platform_order_code_Variation1</th>\n",
              "      <th>travel_time_Control</th>\n",
              "      <th>travel_time_Variation1</th>\n",
              "    </tr>\n",
              "  </thead>\n",
              "  <tbody>\n",
              "    <tr>\n",
              "      <th>0</th>\n",
              "      <td>default</td>\n",
              "      <td>3.377075</td>\n",
              "      <td>3.400725</td>\n",
              "      <td>12.222221</td>\n",
              "      <td>12.219709</td>\n",
              "      <td>40057</td>\n",
              "      <td>40354</td>\n",
              "      <td>6.862553</td>\n",
              "      <td>6.829685</td>\n",
              "    </tr>\n",
              "    <tr>\n",
              "      <th>1</th>\n",
              "      <td>price_easing</td>\n",
              "      <td>3.273607</td>\n",
              "      <td>2.645453</td>\n",
              "      <td>11.487091</td>\n",
              "      <td>11.748976</td>\n",
              "      <td>2709</td>\n",
              "      <td>2904</td>\n",
              "      <td>7.020967</td>\n",
              "      <td>6.903364</td>\n",
              "    </tr>\n",
              "    <tr>\n",
              "      <th>2</th>\n",
              "      <td>shrink2</td>\n",
              "      <td>3.138458</td>\n",
              "      <td>3.669671</td>\n",
              "      <td>13.346157</td>\n",
              "      <td>13.882314</td>\n",
              "      <td>810</td>\n",
              "      <td>708</td>\n",
              "      <td>4.897432</td>\n",
              "      <td>5.025749</td>\n",
              "    </tr>\n",
              "    <tr>\n",
              "      <th>3</th>\n",
              "      <td>surge1</td>\n",
              "      <td>3.385357</td>\n",
              "      <td>3.550342</td>\n",
              "      <td>12.603858</td>\n",
              "      <td>12.804641</td>\n",
              "      <td>18732</td>\n",
              "      <td>17504</td>\n",
              "      <td>6.736322</td>\n",
              "      <td>6.554418</td>\n",
              "    </tr>\n",
              "    <tr>\n",
              "      <th>4</th>\n",
              "      <td>surge_shrink1</td>\n",
              "      <td>3.172871</td>\n",
              "      <td>3.776908</td>\n",
              "      <td>13.059233</td>\n",
              "      <td>13.422709</td>\n",
              "      <td>3905</td>\n",
              "      <td>3406</td>\n",
              "      <td>5.703493</td>\n",
              "      <td>5.818696</td>\n",
              "    </tr>\n",
              "  </tbody>\n",
              "</table>\n",
              "</div>"
            ],
            "text/plain": [
              "          stage_  avg_df_Control  ...  travel_time_Control  travel_time_Variation1\n",
              "0        default        3.377075  ...             6.862553                6.829685\n",
              "1   price_easing        3.273607  ...             7.020967                6.903364\n",
              "2        shrink2        3.138458  ...             4.897432                5.025749\n",
              "3         surge1        3.385357  ...             6.736322                6.554418\n",
              "4  surge_shrink1        3.172871  ...             5.703493                5.818696\n",
              "\n",
              "[5 rows x 9 columns]"
            ]
          },
          "metadata": {
            "tags": []
          },
          "execution_count": 82
        }
      ]
    },
    {
      "cell_type": "code",
      "metadata": {
        "id": "ygV-M0uEQ9KK"
      },
      "source": [
        "# Summary\n",
        "pp = pp.fillna(0)\n",
        "sum = pd.pivot_table(pp,values = [\"dps_delivery_fee\",\"platform_order_code_ga\", \"gfv_eur\",\"tt\"], index = [\"zone_group\"], columns = \"period\", \n",
        "                     aggfunc = {'dps_delivery_fee' : 'mean', 'platform_order_code_ga' : 'count', 'gfv_eur' : 'mean', 'tt':'mean'}).reset_index()\n",
        "sum.rename(columns={'dps_delivery_fee': 'avg_df', 'platform_order_code_ga': 'order', 'gfv_eur':'avg_gfv', 'tt':'avg_tt'}, inplace=True)\n",
        "#sum.columns.get_level_values(1)\n",
        "sum.columns = ['_'.join(col).strip() for col in sum.columns.values]\n",
        "sum.rename(columns={'zone_group_': 'zone_group'}, inplace=True)\n",
        "sum[\"df_delta\"] = round(sum[\"avg_df_during_test\"]/sum[\"avg_df_before_test\"]-1,2)\n",
        "sum[\"gfv_delta\"] = round(sum[\"avg_gfv_during_test\"]/sum[\"avg_gfv_before_test\"]-1,2)\n",
        "sum[\"order_delta\"] = round(sum[\"order_during_test\"]/sum[\"order_before_test\"]-1,2)\n",
        "sum[\"tt_delta\"] = round(sum[\"avg_tt_during_test\"]/sum[\"avg_tt_before_test\"]-1,2)\n",
        "sum"
      ],
      "execution_count": null,
      "outputs": []
    },
    {
      "cell_type": "code",
      "metadata": {
        "id": "UTE2eJLKr_dt"
      },
      "source": [
        "query2 = \"\"\"\n",
        "SELECT  \n",
        "DATETIME(s.created_at,  \\\"\"\"\" + time_zone + \"\"\"\\\") as local_time\n",
        ", s.mean_delay\n",
        "FROM `fulfillment-dwh-production.cl._zone_stats` \n",
        "left join unnest(stats) s\n",
        "WHERE created_date between \\\"\"\"\" + start_date + \"\"\"\\\"  and \\\"\"\"\" + end_date + \"\"\"\\\"\n",
        "and country_code =  \\\"\"\"\" + country_code + \"\"\"\\\"\n",
        "and zone_id = \"\"\" + zone_id + \"\"\"\n",
        "    \"\"\"\n",
        "\n",
        "delay = client.query(query2).to_dataframe()"
      ],
      "execution_count": null,
      "outputs": []
    },
    {
      "cell_type": "code",
      "metadata": {
        "id": "C6I0V5zYuW7r",
        "colab": {
          "base_uri": "https://localhost:8080/",
          "height": 197
        },
        "outputId": "cb2657f4-9393-4eb2-d84b-dba5f090a235"
      },
      "source": [
        "delay[\"new_time\"] = ceil_dt((delay['local_time'].dt.to_pydatetime()), timedelta(minutes=30))\n",
        "delay[\"new_time\"] = delay['new_time'].dt.time\n",
        "#delay.loc[delay.new_time <= time(hour=8, minute=0, second=0), 'new_time'] = time(hour=8, minute=0, second=0)\n",
        "delay.head()"
      ],
      "execution_count": null,
      "outputs": [
        {
          "output_type": "execute_result",
          "data": {
            "text/html": [
              "<div>\n",
              "<style scoped>\n",
              "    .dataframe tbody tr th:only-of-type {\n",
              "        vertical-align: middle;\n",
              "    }\n",
              "\n",
              "    .dataframe tbody tr th {\n",
              "        vertical-align: top;\n",
              "    }\n",
              "\n",
              "    .dataframe thead th {\n",
              "        text-align: right;\n",
              "    }\n",
              "</style>\n",
              "<table border=\"1\" class=\"dataframe\">\n",
              "  <thead>\n",
              "    <tr style=\"text-align: right;\">\n",
              "      <th></th>\n",
              "      <th>local_time</th>\n",
              "      <th>mean_delay</th>\n",
              "      <th>new_time</th>\n",
              "    </tr>\n",
              "  </thead>\n",
              "  <tbody>\n",
              "    <tr>\n",
              "      <th>0</th>\n",
              "      <td>2020-09-08 11:57:21.072024</td>\n",
              "      <td>10.197225</td>\n",
              "      <td>12:00:00</td>\n",
              "    </tr>\n",
              "    <tr>\n",
              "      <th>1</th>\n",
              "      <td>2020-09-08 11:58:22.520322</td>\n",
              "      <td>9.839850</td>\n",
              "      <td>12:00:00</td>\n",
              "    </tr>\n",
              "    <tr>\n",
              "      <th>2</th>\n",
              "      <td>2020-09-09 05:03:24.113467</td>\n",
              "      <td>9.000000</td>\n",
              "      <td>05:30:00</td>\n",
              "    </tr>\n",
              "    <tr>\n",
              "      <th>3</th>\n",
              "      <td>2020-09-09 05:04:19.711465</td>\n",
              "      <td>9.000000</td>\n",
              "      <td>05:30:00</td>\n",
              "    </tr>\n",
              "    <tr>\n",
              "      <th>4</th>\n",
              "      <td>2020-09-08 18:20:23.454071</td>\n",
              "      <td>4.718923</td>\n",
              "      <td>18:30:00</td>\n",
              "    </tr>\n",
              "  </tbody>\n",
              "</table>\n",
              "</div>"
            ],
            "text/plain": [
              "                  local_time  mean_delay  new_time\n",
              "0 2020-09-08 11:57:21.072024   10.197225  12:00:00\n",
              "1 2020-09-08 11:58:22.520322    9.839850  12:00:00\n",
              "2 2020-09-09 05:03:24.113467    9.000000  05:30:00\n",
              "3 2020-09-09 05:04:19.711465    9.000000  05:30:00\n",
              "4 2020-09-08 18:20:23.454071    4.718923  18:30:00"
            ]
          },
          "metadata": {
            "tags": []
          },
          "execution_count": 34
        }
      ]
    },
    {
      "cell_type": "markdown",
      "metadata": {
        "id": "mBx80LCdaqhH"
      },
      "source": [
        "If you want to play around the data a bit by yourself, you could delete the \"#\" of next cell and run it. Then you will see an interactive dashboard"
      ]
    },
    {
      "cell_type": "code",
      "metadata": {
        "id": "wY6H9JGkcYQI"
      },
      "source": [
        "#run_app(df,mode='inline') "
      ],
      "execution_count": null,
      "outputs": []
    },
    {
      "cell_type": "markdown",
      "metadata": {
        "id": "inVScqo8b_7q"
      },
      "source": [
        "### 1. Orders"
      ]
    },
    {
      "cell_type": "markdown",
      "metadata": {
        "id": "ixaNaYM5cEmF"
      },
      "source": [
        "#### Aggregated level"
      ]
    },
    {
      "cell_type": "code",
      "metadata": {
        "id": "nBNuUum1QLJr"
      },
      "source": [
        "# order data analysis\n",
        "order_sum = df.pivot_table(\"platform_order_code_ga\", index=[\"local_date\"], columns =\"variant\", aggfunc = \"count\").reset_index()\n",
        "order_sum[\"delta\"]=order_sum[\"Variation1\"]/order_sum[\"Control\"] -1"
      ],
      "execution_count": null,
      "outputs": []
    },
    {
      "cell_type": "code",
      "metadata": {
        "id": "XQ_jhofKEE1A",
        "colab": {
          "base_uri": "https://localhost:8080/",
          "height": 542
        },
        "outputId": "75373f9c-487e-4ea6-ad51-ab44988e0cf1"
      },
      "source": [
        "fig = go.Figure()\n",
        "fig = make_subplots(specs=[[{\"secondary_y\": True}]])\n",
        "fig.add_trace(go.Scatter(x =order_sum.local_date, y=order_sum.Control, mode=\"lines\", name =\"control\"), secondary_y=False)\n",
        "fig.add_trace(go.Scatter(x =order_sum.local_date, y=order_sum.Variation1, mode=\"lines\", name =\"variation1\"), secondary_y=False)\n",
        "#fig.add_trace(go.Scatter(x =order_sum.local_date, y=order_sum.delta, mode=\"lines\", name =\"delta\", line = dict(color='royalblue', width=4, dash='dash')), secondary_y=True)\n",
        "# Add figure title\n",
        "fig.update_layout(title_text=\"Order amount in control and test group\")\n",
        "# Set x-axis title\n",
        "fig.update_xaxes(title_text=\"Date\")\n",
        "# Set y-axes titles\n",
        "fig.update_yaxes(title_text=\"Order amount\", showgrid=False, secondary_y=False)\n",
        "fig.update_yaxes(title_text=\"Delta % difference of Variation1 vs Control\", showgrid=False,secondary_y=True)\n",
        "fig.show()"
      ],
      "execution_count": null,
      "outputs": [
        {
          "output_type": "display_data",
          "data": {
            "text/html": [
              "<html>\n",
              "<head><meta charset=\"utf-8\" /></head>\n",
              "<body>\n",
              "    <div>\n",
              "            <script src=\"https://cdnjs.cloudflare.com/ajax/libs/mathjax/2.7.5/MathJax.js?config=TeX-AMS-MML_SVG\"></script><script type=\"text/javascript\">if (window.MathJax) {MathJax.Hub.Config({SVG: {font: \"STIX-Web\"}});}</script>\n",
              "                <script type=\"text/javascript\">window.PlotlyConfig = {MathJaxConfig: 'local'};</script>\n",
              "        <script src=\"https://cdn.plot.ly/plotly-latest.min.js\"></script>    \n",
              "            <div id=\"d0731d71-7e1d-4e76-b65d-08acdb3ccd1e\" class=\"plotly-graph-div\" style=\"height:525px; width:100%;\"></div>\n",
              "            <script type=\"text/javascript\">\n",
              "                \n",
              "                    window.PLOTLYENV=window.PLOTLYENV || {};\n",
              "                    \n",
              "                if (document.getElementById(\"d0731d71-7e1d-4e76-b65d-08acdb3ccd1e\")) {\n",
              "                    Plotly.newPlot(\n",
              "                        'd0731d71-7e1d-4e76-b65d-08acdb3ccd1e',\n",
              "                        [{\"mode\": \"lines\", \"name\": \"control\", \"type\": \"scatter\", \"x\": [\"2020-09-04\", \"2020-09-05\", \"2020-09-06\", \"2020-09-07\", \"2020-09-08\", \"2020-09-09\", \"2020-09-10\", \"2020-09-11\", \"2020-09-12\", \"2020-09-13\", \"2020-09-14\", \"2020-09-15\", \"2020-09-16\", \"2020-09-17\", \"2020-09-18\", \"2020-09-19\", \"2020-09-20\", \"2020-09-21\", \"2020-09-22\", \"2020-09-23\", \"2020-09-24\"], \"xaxis\": \"x\", \"y\": [3478, 3629, 3729, 2864, 2942, 3081, 3305, 3468, 3643, 3595, 2820, 2790, 2850, 3065, 3236, 3350, 3628, 2566, 2564, 2747, 2863], \"yaxis\": \"y\"}, {\"mode\": \"lines\", \"name\": \"variation1\", \"type\": \"scatter\", \"x\": [\"2020-09-04\", \"2020-09-05\", \"2020-09-06\", \"2020-09-07\", \"2020-09-08\", \"2020-09-09\", \"2020-09-10\", \"2020-09-11\", \"2020-09-12\", \"2020-09-13\", \"2020-09-14\", \"2020-09-15\", \"2020-09-16\", \"2020-09-17\", \"2020-09-18\", \"2020-09-19\", \"2020-09-20\", \"2020-09-21\", \"2020-09-22\", \"2020-09-23\", \"2020-09-24\"], \"xaxis\": \"x\", \"y\": [3495, 3214, 3432, 2835, 2928, 3052, 3169, 3446, 3464, 3285, 2691, 2837, 2835, 3074, 3136, 3397, 3590, 2573, 2691, 2752, 2980], \"yaxis\": \"y\"}],\n",
              "                        {\"template\": {\"data\": {\"bar\": [{\"error_x\": {\"color\": \"#2a3f5f\"}, \"error_y\": {\"color\": \"#2a3f5f\"}, \"marker\": {\"line\": {\"color\": \"#E5ECF6\", \"width\": 0.5}}, \"type\": \"bar\"}], \"barpolar\": [{\"marker\": {\"line\": {\"color\": \"#E5ECF6\", \"width\": 0.5}}, \"type\": \"barpolar\"}], \"carpet\": [{\"aaxis\": {\"endlinecolor\": \"#2a3f5f\", \"gridcolor\": \"white\", \"linecolor\": \"white\", \"minorgridcolor\": \"white\", \"startlinecolor\": \"#2a3f5f\"}, \"baxis\": {\"endlinecolor\": \"#2a3f5f\", \"gridcolor\": \"white\", \"linecolor\": \"white\", \"minorgridcolor\": \"white\", \"startlinecolor\": \"#2a3f5f\"}, \"type\": \"carpet\"}], \"choropleth\": [{\"colorbar\": {\"outlinewidth\": 0, \"ticks\": \"\"}, \"type\": \"choropleth\"}], \"contour\": [{\"colorbar\": {\"outlinewidth\": 0, \"ticks\": \"\"}, \"colorscale\": [[0.0, \"#0d0887\"], [0.1111111111111111, \"#46039f\"], [0.2222222222222222, \"#7201a8\"], [0.3333333333333333, \"#9c179e\"], [0.4444444444444444, \"#bd3786\"], [0.5555555555555556, \"#d8576b\"], [0.6666666666666666, \"#ed7953\"], [0.7777777777777778, \"#fb9f3a\"], [0.8888888888888888, \"#fdca26\"], [1.0, \"#f0f921\"]], \"type\": \"contour\"}], \"contourcarpet\": [{\"colorbar\": {\"outlinewidth\": 0, \"ticks\": \"\"}, \"type\": \"contourcarpet\"}], \"heatmap\": [{\"colorbar\": {\"outlinewidth\": 0, \"ticks\": \"\"}, \"colorscale\": [[0.0, \"#0d0887\"], [0.1111111111111111, \"#46039f\"], [0.2222222222222222, \"#7201a8\"], [0.3333333333333333, \"#9c179e\"], [0.4444444444444444, \"#bd3786\"], [0.5555555555555556, \"#d8576b\"], [0.6666666666666666, \"#ed7953\"], [0.7777777777777778, \"#fb9f3a\"], [0.8888888888888888, \"#fdca26\"], [1.0, \"#f0f921\"]], \"type\": \"heatmap\"}], \"heatmapgl\": [{\"colorbar\": {\"outlinewidth\": 0, \"ticks\": \"\"}, \"colorscale\": [[0.0, \"#0d0887\"], [0.1111111111111111, \"#46039f\"], [0.2222222222222222, \"#7201a8\"], [0.3333333333333333, \"#9c179e\"], [0.4444444444444444, \"#bd3786\"], [0.5555555555555556, \"#d8576b\"], [0.6666666666666666, \"#ed7953\"], [0.7777777777777778, \"#fb9f3a\"], [0.8888888888888888, \"#fdca26\"], [1.0, \"#f0f921\"]], \"type\": \"heatmapgl\"}], \"histogram\": [{\"marker\": {\"colorbar\": {\"outlinewidth\": 0, \"ticks\": \"\"}}, \"type\": \"histogram\"}], \"histogram2d\": [{\"colorbar\": {\"outlinewidth\": 0, \"ticks\": \"\"}, \"colorscale\": [[0.0, \"#0d0887\"], [0.1111111111111111, \"#46039f\"], [0.2222222222222222, \"#7201a8\"], [0.3333333333333333, \"#9c179e\"], [0.4444444444444444, \"#bd3786\"], [0.5555555555555556, \"#d8576b\"], [0.6666666666666666, \"#ed7953\"], [0.7777777777777778, \"#fb9f3a\"], [0.8888888888888888, \"#fdca26\"], [1.0, \"#f0f921\"]], \"type\": \"histogram2d\"}], \"histogram2dcontour\": [{\"colorbar\": {\"outlinewidth\": 0, \"ticks\": \"\"}, \"colorscale\": [[0.0, \"#0d0887\"], [0.1111111111111111, \"#46039f\"], [0.2222222222222222, \"#7201a8\"], [0.3333333333333333, \"#9c179e\"], [0.4444444444444444, \"#bd3786\"], [0.5555555555555556, \"#d8576b\"], [0.6666666666666666, \"#ed7953\"], [0.7777777777777778, \"#fb9f3a\"], [0.8888888888888888, \"#fdca26\"], [1.0, \"#f0f921\"]], \"type\": \"histogram2dcontour\"}], \"mesh3d\": [{\"colorbar\": {\"outlinewidth\": 0, \"ticks\": \"\"}, \"type\": \"mesh3d\"}], \"parcoords\": [{\"line\": {\"colorbar\": {\"outlinewidth\": 0, \"ticks\": \"\"}}, \"type\": \"parcoords\"}], \"pie\": [{\"automargin\": true, \"type\": \"pie\"}], \"scatter\": [{\"marker\": {\"colorbar\": {\"outlinewidth\": 0, \"ticks\": \"\"}}, \"type\": \"scatter\"}], \"scatter3d\": [{\"line\": {\"colorbar\": {\"outlinewidth\": 0, \"ticks\": \"\"}}, \"marker\": {\"colorbar\": {\"outlinewidth\": 0, \"ticks\": \"\"}}, \"type\": \"scatter3d\"}], \"scattercarpet\": [{\"marker\": {\"colorbar\": {\"outlinewidth\": 0, \"ticks\": \"\"}}, \"type\": \"scattercarpet\"}], \"scattergeo\": [{\"marker\": {\"colorbar\": {\"outlinewidth\": 0, \"ticks\": \"\"}}, \"type\": \"scattergeo\"}], \"scattergl\": [{\"marker\": {\"colorbar\": {\"outlinewidth\": 0, \"ticks\": \"\"}}, \"type\": \"scattergl\"}], \"scattermapbox\": [{\"marker\": {\"colorbar\": {\"outlinewidth\": 0, \"ticks\": \"\"}}, \"type\": \"scattermapbox\"}], \"scatterpolar\": [{\"marker\": {\"colorbar\": {\"outlinewidth\": 0, \"ticks\": \"\"}}, \"type\": \"scatterpolar\"}], \"scatterpolargl\": [{\"marker\": {\"colorbar\": {\"outlinewidth\": 0, \"ticks\": \"\"}}, \"type\": \"scatterpolargl\"}], \"scatterternary\": [{\"marker\": {\"colorbar\": {\"outlinewidth\": 0, \"ticks\": \"\"}}, \"type\": \"scatterternary\"}], \"surface\": [{\"colorbar\": {\"outlinewidth\": 0, \"ticks\": \"\"}, \"colorscale\": [[0.0, \"#0d0887\"], [0.1111111111111111, \"#46039f\"], [0.2222222222222222, \"#7201a8\"], [0.3333333333333333, \"#9c179e\"], [0.4444444444444444, \"#bd3786\"], [0.5555555555555556, \"#d8576b\"], [0.6666666666666666, \"#ed7953\"], [0.7777777777777778, \"#fb9f3a\"], [0.8888888888888888, \"#fdca26\"], [1.0, \"#f0f921\"]], \"type\": \"surface\"}], \"table\": [{\"cells\": {\"fill\": {\"color\": \"#EBF0F8\"}, \"line\": {\"color\": \"white\"}}, \"header\": {\"fill\": {\"color\": \"#C8D4E3\"}, \"line\": {\"color\": \"white\"}}, \"type\": \"table\"}]}, \"layout\": {\"annotationdefaults\": {\"arrowcolor\": \"#2a3f5f\", \"arrowhead\": 0, \"arrowwidth\": 1}, \"coloraxis\": {\"colorbar\": {\"outlinewidth\": 0, \"ticks\": \"\"}}, \"colorscale\": {\"diverging\": [[0, \"#8e0152\"], [0.1, \"#c51b7d\"], [0.2, \"#de77ae\"], [0.3, \"#f1b6da\"], [0.4, \"#fde0ef\"], [0.5, \"#f7f7f7\"], [0.6, \"#e6f5d0\"], [0.7, \"#b8e186\"], [0.8, \"#7fbc41\"], [0.9, \"#4d9221\"], [1, \"#276419\"]], \"sequential\": [[0.0, \"#0d0887\"], [0.1111111111111111, \"#46039f\"], [0.2222222222222222, \"#7201a8\"], [0.3333333333333333, \"#9c179e\"], [0.4444444444444444, \"#bd3786\"], [0.5555555555555556, \"#d8576b\"], [0.6666666666666666, \"#ed7953\"], [0.7777777777777778, \"#fb9f3a\"], [0.8888888888888888, \"#fdca26\"], [1.0, \"#f0f921\"]], \"sequentialminus\": [[0.0, \"#0d0887\"], [0.1111111111111111, \"#46039f\"], [0.2222222222222222, \"#7201a8\"], [0.3333333333333333, \"#9c179e\"], [0.4444444444444444, \"#bd3786\"], [0.5555555555555556, \"#d8576b\"], [0.6666666666666666, \"#ed7953\"], [0.7777777777777778, \"#fb9f3a\"], [0.8888888888888888, \"#fdca26\"], [1.0, \"#f0f921\"]]}, \"colorway\": [\"#636efa\", \"#EF553B\", \"#00cc96\", \"#ab63fa\", \"#FFA15A\", \"#19d3f3\", \"#FF6692\", \"#B6E880\", \"#FF97FF\", \"#FECB52\"], \"font\": {\"color\": \"#2a3f5f\"}, \"geo\": {\"bgcolor\": \"white\", \"lakecolor\": \"white\", \"landcolor\": \"#E5ECF6\", \"showlakes\": true, \"showland\": true, \"subunitcolor\": \"white\"}, \"hoverlabel\": {\"align\": \"left\"}, \"hovermode\": \"closest\", \"mapbox\": {\"style\": \"light\"}, \"paper_bgcolor\": \"white\", \"plot_bgcolor\": \"#E5ECF6\", \"polar\": {\"angularaxis\": {\"gridcolor\": \"white\", \"linecolor\": \"white\", \"ticks\": \"\"}, \"bgcolor\": \"#E5ECF6\", \"radialaxis\": {\"gridcolor\": \"white\", \"linecolor\": \"white\", \"ticks\": \"\"}}, \"scene\": {\"xaxis\": {\"backgroundcolor\": \"#E5ECF6\", \"gridcolor\": \"white\", \"gridwidth\": 2, \"linecolor\": \"white\", \"showbackground\": true, \"ticks\": \"\", \"zerolinecolor\": \"white\"}, \"yaxis\": {\"backgroundcolor\": \"#E5ECF6\", \"gridcolor\": \"white\", \"gridwidth\": 2, \"linecolor\": \"white\", \"showbackground\": true, \"ticks\": \"\", \"zerolinecolor\": \"white\"}, \"zaxis\": {\"backgroundcolor\": \"#E5ECF6\", \"gridcolor\": \"white\", \"gridwidth\": 2, \"linecolor\": \"white\", \"showbackground\": true, \"ticks\": \"\", \"zerolinecolor\": \"white\"}}, \"shapedefaults\": {\"line\": {\"color\": \"#2a3f5f\"}}, \"ternary\": {\"aaxis\": {\"gridcolor\": \"white\", \"linecolor\": \"white\", \"ticks\": \"\"}, \"baxis\": {\"gridcolor\": \"white\", \"linecolor\": \"white\", \"ticks\": \"\"}, \"bgcolor\": \"#E5ECF6\", \"caxis\": {\"gridcolor\": \"white\", \"linecolor\": \"white\", \"ticks\": \"\"}}, \"title\": {\"x\": 0.05}, \"xaxis\": {\"automargin\": true, \"gridcolor\": \"white\", \"linecolor\": \"white\", \"ticks\": \"\", \"title\": {\"standoff\": 15}, \"zerolinecolor\": \"white\", \"zerolinewidth\": 2}, \"yaxis\": {\"automargin\": true, \"gridcolor\": \"white\", \"linecolor\": \"white\", \"ticks\": \"\", \"title\": {\"standoff\": 15}, \"zerolinecolor\": \"white\", \"zerolinewidth\": 2}}}, \"title\": {\"text\": \"Order amount in control and test group\"}, \"xaxis\": {\"anchor\": \"y\", \"domain\": [0.0, 0.94], \"title\": {\"text\": \"Date\"}}, \"yaxis\": {\"anchor\": \"x\", \"domain\": [0.0, 1.0], \"showgrid\": false, \"title\": {\"text\": \"Order amount\"}}, \"yaxis2\": {\"anchor\": \"x\", \"overlaying\": \"y\", \"showgrid\": false, \"side\": \"right\", \"title\": {\"text\": \"Delta % difference of Variation1 vs Control\"}}},\n",
              "                        {\"responsive\": true}\n",
              "                    ).then(function(){\n",
              "                            \n",
              "var gd = document.getElementById('d0731d71-7e1d-4e76-b65d-08acdb3ccd1e');\n",
              "var x = new MutationObserver(function (mutations, observer) {{\n",
              "        var display = window.getComputedStyle(gd).display;\n",
              "        if (!display || display === 'none') {{\n",
              "            console.log([gd, 'removed!']);\n",
              "            Plotly.purge(gd);\n",
              "            observer.disconnect();\n",
              "        }}\n",
              "}});\n",
              "\n",
              "// Listen for the removal of the full notebook cells\n",
              "var notebookContainer = gd.closest('#notebook-container');\n",
              "if (notebookContainer) {{\n",
              "    x.observe(notebookContainer, {childList: true});\n",
              "}}\n",
              "\n",
              "// Listen for the clearing of the current output cell\n",
              "var outputEl = gd.closest('.output');\n",
              "if (outputEl) {{\n",
              "    x.observe(outputEl, {childList: true});\n",
              "}}\n",
              "\n",
              "                        })\n",
              "                };\n",
              "                \n",
              "            </script>\n",
              "        </div>\n",
              "</body>\n",
              "</html>"
            ]
          },
          "metadata": {
            "tags": []
          }
        }
      ]
    },
    {
      "cell_type": "code",
      "metadata": {
        "id": "CtKi0NhfffyU"
      },
      "source": [
        "order_hour = df.pivot_table(\"platform_order_code_ga\", index=[\"new_time\"], columns =\"variant\", aggfunc = \"count\").reset_index()\n",
        "order_hour = order_hour.fillna(0)\n",
        "order_hour[\"control_pp\"] = order_hour[\"Control\"]/order_hour[\"Control\"].sum()\n",
        "order_hour[\"variation_pp\"] = order_hour[\"Variation1\"]/order_hour[\"Variation1\"].sum()\n",
        "order_hour[\"delta\"]=order_hour[\"Variation1\"]/order_hour[\"Control\"] -1"
      ],
      "execution_count": null,
      "outputs": []
    },
    {
      "cell_type": "code",
      "metadata": {
        "id": "XMYUN5JFvvhF"
      },
      "source": [
        "# delay\n",
        "delay_agg = delay.pivot_table(\"mean_delay\",index=[\"new_time\"],aggfunc = \"mean\").reset_index()"
      ],
      "execution_count": null,
      "outputs": []
    },
    {
      "cell_type": "code",
      "metadata": {
        "id": "64V_7nOgHf78",
        "cellView": "code",
        "colab": {
          "base_uri": "https://localhost:8080/",
          "height": 542
        },
        "outputId": "a68357d5-9754-40e7-fc40-6345d931ae7d"
      },
      "source": [
        "fig = go.Figure()\n",
        "fig = make_subplots(specs=[[{\"secondary_y\": True}]])\n",
        "fig.add_trace(go.Bar(x =order_hour.new_time, y=order_hour.control_pp, name =\"control\"), secondary_y=False)\n",
        "fig.add_trace(go.Bar(x =order_hour.new_time, y=order_hour.variation_pp,name =\"variation1\"), secondary_y=False)\n",
        "#fig.add_trace(go.Scatter(x =order_hour.new_time, y=order_hour.delta, mode=\"lines\", name =\"delta\", line = dict(color='gold', width=4, dash='dash')), secondary_y=True)\n",
        "fig.add_trace(go.Scatter(x =delay_agg.new_time, y=delay_agg.mean_delay, mode=\"lines\", name =\"Mean delay\", line = dict(color='gold', width=4, dash='dash')), secondary_y=True)\n",
        "# Add figure title\n",
        "#fig.update_layout(title_text=\"Daily users in Control and Test\")\n",
        "# Set x-axis title\n",
        "fig.update_xaxes(title_text=\"Time\")\n",
        "# Set y-axes titles\n",
        "fig.update_yaxes(title_text=\"Order share\", showgrid=False, secondary_y=False)\n",
        "fig.update_yaxes(title_text=\"Mean delay (in minute)\", showgrid=False,secondary_y=True)\n",
        "fig.show()"
      ],
      "execution_count": null,
      "outputs": [
        {
          "output_type": "display_data",
          "data": {
            "text/html": [
              "<html>\n",
              "<head><meta charset=\"utf-8\" /></head>\n",
              "<body>\n",
              "    <div>\n",
              "            <script src=\"https://cdnjs.cloudflare.com/ajax/libs/mathjax/2.7.5/MathJax.js?config=TeX-AMS-MML_SVG\"></script><script type=\"text/javascript\">if (window.MathJax) {MathJax.Hub.Config({SVG: {font: \"STIX-Web\"}});}</script>\n",
              "                <script type=\"text/javascript\">window.PlotlyConfig = {MathJaxConfig: 'local'};</script>\n",
              "        <script src=\"https://cdn.plot.ly/plotly-latest.min.js\"></script>    \n",
              "            <div id=\"86507b4b-dec8-497b-946f-025d3fb1aae9\" class=\"plotly-graph-div\" style=\"height:525px; width:100%;\"></div>\n",
              "            <script type=\"text/javascript\">\n",
              "                \n",
              "                    window.PLOTLYENV=window.PLOTLYENV || {};\n",
              "                    \n",
              "                if (document.getElementById(\"86507b4b-dec8-497b-946f-025d3fb1aae9\")) {\n",
              "                    Plotly.newPlot(\n",
              "                        '86507b4b-dec8-497b-946f-025d3fb1aae9',\n",
              "                        [{\"name\": \"control\", \"type\": \"bar\", \"x\": [\"00:00:00\", \"00:30:00\", \"01:00:00\", \"01:30:00\", \"02:00:00\", \"02:30:00\", \"03:00:00\", \"03:30:00\", \"04:00:00\", \"04:30:00\", \"05:00:00\", \"05:30:00\", \"06:00:00\", \"06:30:00\", \"07:00:00\", \"07:30:00\", \"08:00:00\", \"08:30:00\", \"09:00:00\", \"09:30:00\", \"10:00:00\", \"10:30:00\", \"11:00:00\", \"11:30:00\", \"12:00:00\", \"12:30:00\", \"13:00:00\", \"13:30:00\", \"14:00:00\", \"14:30:00\", \"15:00:00\", \"15:30:00\", \"16:00:00\", \"16:30:00\", \"17:00:00\", \"17:30:00\", \"18:00:00\", \"18:30:00\", \"19:00:00\", \"19:30:00\", \"20:00:00\", \"20:30:00\", \"21:00:00\", \"21:30:00\", \"22:00:00\", \"22:30:00\", \"23:00:00\", \"23:30:00\"], \"xaxis\": \"x\", \"y\": [0.007355051122891275, 0.006056212526241071, 0.005150046063461858, 0.00507453219156359, 0.004243879600682645, 0.003005452101551055, 0.0024466494495038738, 0.002008668992493921, 0.0016008940842432754, 0.0009514747859181732, 0.0008759609140199055, 0.0006343165239454488, 0.0006041109751861417, 0.0007098303958437165, 0.0014649691148263936, 0.0031413770709679367, 0.004666757283312945, 0.00865388971954148, 0.011206258589702929, 0.013456571972271306, 0.016129763037469984, 0.020011176053040945, 0.024783652757011464, 0.045353631462099586, 0.056227629015450135, 0.05378097956594626, 0.04579161191910954, 0.0368960778094936, 0.031912162264207934, 0.031262742965882835, 0.02556899702475345, 0.02523673598840107, 0.024587316690075967, 0.026339238518115777, 0.02954102668660233, 0.03638258348058538, 0.04388866234727319, 0.04918973615453159, 0.05264827148747225, 0.050080799842931144, 0.04736230045459351, 0.03984111881352605, 0.031232537417123524, 0.022185975563711054, 0.016764079561415433, 0.012505097186353132, 0.011674444595472188, 0.009514747859181731], \"yaxis\": \"y\"}, {\"name\": \"variation1\", \"type\": \"bar\", \"x\": [\"00:00:00\", \"00:30:00\", \"01:00:00\", \"01:30:00\", \"02:00:00\", \"02:30:00\", \"03:00:00\", \"03:30:00\", \"04:00:00\", \"04:30:00\", \"05:00:00\", \"05:30:00\", \"06:00:00\", \"06:30:00\", \"07:00:00\", \"07:30:00\", \"08:00:00\", \"08:30:00\", \"09:00:00\", \"09:30:00\", \"10:00:00\", \"10:30:00\", \"11:00:00\", \"11:30:00\", \"12:00:00\", \"12:30:00\", \"13:00:00\", \"13:30:00\", \"14:00:00\", \"14:30:00\", \"15:00:00\", \"15:30:00\", \"16:00:00\", \"16:30:00\", \"17:00:00\", \"17:30:00\", \"18:00:00\", \"18:30:00\", \"19:00:00\", \"19:30:00\", \"20:00:00\", \"20:30:00\", \"21:00:00\", \"21:30:00\", \"22:00:00\", \"22:30:00\", \"23:00:00\", \"23:30:00\"], \"xaxis\": \"x\", \"y\": [0.007629940193600099, 0.006689684937419077, 0.005225352981071582, 0.0046550342191257164, 0.0032831863863370123, 0.00336025648930267, 0.0023583451507491215, 0.0017726123682101239, 0.0016338861828719402, 0.0007707010296565756, 0.0007552870090634441, 0.0006473888649115235, 0.000662802885504655, 0.0009402552561810222, 0.0016030581416856774, 0.0030519760774400393, 0.0044700659720081385, 0.008616437511560516, 0.010527776065108824, 0.013348541833651889, 0.016770454405327085, 0.019745360379801468, 0.02618842098773044, 0.04799926012701153, 0.053979900117146554, 0.05310130094333806, 0.04429989518465997, 0.03666995499105987, 0.030226894383130896, 0.03016523830075837, 0.026142178925951044, 0.026049694802392255, 0.024200012331216474, 0.025926382637647204, 0.030920525309821815, 0.03734817189715765, 0.04607250755287009, 0.0522381157901227, 0.05265429434613725, 0.05109747826623096, 0.04644244404710525, 0.038966644059436464, 0.031013009433380603, 0.022072877489364325, 0.015753129046180404, 0.012485356680436524, 0.010512362044515692, 0.008955545964609408], \"yaxis\": \"y\"}, {\"line\": {\"color\": \"gold\", \"dash\": \"dash\", \"width\": 4}, \"mode\": \"lines\", \"name\": \"Mean delay\", \"type\": \"scatter\", \"x\": [\"00:00:00\", \"00:30:00\", \"01:00:00\", \"01:30:00\", \"02:00:00\", \"02:30:00\", \"03:00:00\", \"03:30:00\", \"04:00:00\", \"04:30:00\", \"05:00:00\", \"05:30:00\", \"06:00:00\", \"06:30:00\", \"07:00:00\", \"07:30:00\", \"08:00:00\", \"08:30:00\", \"09:00:00\", \"09:30:00\", \"10:00:00\", \"10:30:00\", \"11:00:00\", \"11:30:00\", \"12:00:00\", \"12:30:00\", \"13:00:00\", \"13:30:00\", \"14:00:00\", \"14:30:00\", \"15:00:00\", \"15:30:00\", \"16:00:00\", \"16:30:00\", \"17:00:00\", \"17:30:00\", \"18:00:00\", \"18:30:00\", \"19:00:00\", \"19:30:00\", \"20:00:00\", \"20:30:00\", \"21:00:00\", \"21:30:00\", \"22:00:00\", \"22:30:00\", \"23:00:00\", \"23:30:00\"], \"xaxis\": \"x\", \"y\": [7.467746620663579, 5.452425954220884, 4.802740326266713, 5.521381239863059, 6.341308402105762, 6.367161848464219, 6.771231723981893, 5.0660370311626535, 5.553553985351622, 5.294926414359851, 5.1357278039193, 6.492754077108767, 7.88289534404949, 7.084777804435595, 5.901484163595487, 5.173613766420572, 5.016958578665211, 7.430597535234567, 7.627725005513776, 7.416321375835992, 6.976300424373018, 6.6711223765979915, 5.344355939041335, 7.002514459978196, 10.026141725963605, 10.403130862363124, 10.16545962983681, 9.682735691952685, 8.654116566993473, 8.567931775086855, 7.950135997344565, 7.833165252504543, 7.474286067523055, 7.444131303190224, 7.270009413073625, 6.886106171862755, 7.074271172801244, 7.761985531304098, 8.080860584149626, 8.190606533536707, 8.282188173838822, 8.137564470449407, 7.912586455093802, 7.801477157038322, 8.013188226292314, 8.232451824864993, 8.736297929136503, 9.84645868616191], \"yaxis\": \"y2\"}],\n",
              "                        {\"template\": {\"data\": {\"bar\": [{\"error_x\": {\"color\": \"#2a3f5f\"}, \"error_y\": {\"color\": \"#2a3f5f\"}, \"marker\": {\"line\": {\"color\": \"#E5ECF6\", \"width\": 0.5}}, \"type\": \"bar\"}], \"barpolar\": [{\"marker\": {\"line\": {\"color\": \"#E5ECF6\", \"width\": 0.5}}, \"type\": \"barpolar\"}], \"carpet\": [{\"aaxis\": {\"endlinecolor\": \"#2a3f5f\", \"gridcolor\": \"white\", \"linecolor\": \"white\", \"minorgridcolor\": \"white\", \"startlinecolor\": \"#2a3f5f\"}, \"baxis\": {\"endlinecolor\": \"#2a3f5f\", \"gridcolor\": \"white\", \"linecolor\": \"white\", \"minorgridcolor\": \"white\", \"startlinecolor\": \"#2a3f5f\"}, \"type\": \"carpet\"}], \"choropleth\": [{\"colorbar\": {\"outlinewidth\": 0, \"ticks\": \"\"}, \"type\": \"choropleth\"}], \"contour\": [{\"colorbar\": {\"outlinewidth\": 0, \"ticks\": \"\"}, \"colorscale\": [[0.0, \"#0d0887\"], [0.1111111111111111, \"#46039f\"], [0.2222222222222222, \"#7201a8\"], [0.3333333333333333, \"#9c179e\"], [0.4444444444444444, \"#bd3786\"], [0.5555555555555556, \"#d8576b\"], [0.6666666666666666, \"#ed7953\"], [0.7777777777777778, \"#fb9f3a\"], [0.8888888888888888, \"#fdca26\"], [1.0, \"#f0f921\"]], \"type\": \"contour\"}], \"contourcarpet\": [{\"colorbar\": {\"outlinewidth\": 0, \"ticks\": \"\"}, \"type\": \"contourcarpet\"}], \"heatmap\": [{\"colorbar\": {\"outlinewidth\": 0, \"ticks\": \"\"}, \"colorscale\": [[0.0, \"#0d0887\"], [0.1111111111111111, \"#46039f\"], [0.2222222222222222, \"#7201a8\"], [0.3333333333333333, \"#9c179e\"], [0.4444444444444444, \"#bd3786\"], [0.5555555555555556, \"#d8576b\"], [0.6666666666666666, \"#ed7953\"], [0.7777777777777778, \"#fb9f3a\"], [0.8888888888888888, \"#fdca26\"], [1.0, \"#f0f921\"]], \"type\": \"heatmap\"}], \"heatmapgl\": [{\"colorbar\": {\"outlinewidth\": 0, \"ticks\": \"\"}, \"colorscale\": [[0.0, \"#0d0887\"], [0.1111111111111111, \"#46039f\"], [0.2222222222222222, \"#7201a8\"], [0.3333333333333333, \"#9c179e\"], [0.4444444444444444, \"#bd3786\"], [0.5555555555555556, \"#d8576b\"], [0.6666666666666666, \"#ed7953\"], [0.7777777777777778, \"#fb9f3a\"], [0.8888888888888888, \"#fdca26\"], [1.0, \"#f0f921\"]], \"type\": \"heatmapgl\"}], \"histogram\": [{\"marker\": {\"colorbar\": {\"outlinewidth\": 0, \"ticks\": \"\"}}, \"type\": \"histogram\"}], \"histogram2d\": [{\"colorbar\": {\"outlinewidth\": 0, \"ticks\": \"\"}, \"colorscale\": [[0.0, \"#0d0887\"], [0.1111111111111111, \"#46039f\"], [0.2222222222222222, \"#7201a8\"], [0.3333333333333333, \"#9c179e\"], [0.4444444444444444, \"#bd3786\"], [0.5555555555555556, \"#d8576b\"], [0.6666666666666666, \"#ed7953\"], [0.7777777777777778, \"#fb9f3a\"], [0.8888888888888888, \"#fdca26\"], [1.0, \"#f0f921\"]], \"type\": \"histogram2d\"}], \"histogram2dcontour\": [{\"colorbar\": {\"outlinewidth\": 0, \"ticks\": \"\"}, \"colorscale\": [[0.0, \"#0d0887\"], [0.1111111111111111, \"#46039f\"], [0.2222222222222222, \"#7201a8\"], [0.3333333333333333, \"#9c179e\"], [0.4444444444444444, \"#bd3786\"], [0.5555555555555556, \"#d8576b\"], [0.6666666666666666, \"#ed7953\"], [0.7777777777777778, \"#fb9f3a\"], [0.8888888888888888, \"#fdca26\"], [1.0, \"#f0f921\"]], \"type\": \"histogram2dcontour\"}], \"mesh3d\": [{\"colorbar\": {\"outlinewidth\": 0, \"ticks\": \"\"}, \"type\": \"mesh3d\"}], \"parcoords\": [{\"line\": {\"colorbar\": {\"outlinewidth\": 0, \"ticks\": \"\"}}, \"type\": \"parcoords\"}], \"pie\": [{\"automargin\": true, \"type\": \"pie\"}], \"scatter\": [{\"marker\": {\"colorbar\": {\"outlinewidth\": 0, \"ticks\": \"\"}}, \"type\": \"scatter\"}], \"scatter3d\": [{\"line\": {\"colorbar\": {\"outlinewidth\": 0, \"ticks\": \"\"}}, \"marker\": {\"colorbar\": {\"outlinewidth\": 0, \"ticks\": \"\"}}, \"type\": \"scatter3d\"}], \"scattercarpet\": [{\"marker\": {\"colorbar\": {\"outlinewidth\": 0, \"ticks\": \"\"}}, \"type\": \"scattercarpet\"}], \"scattergeo\": [{\"marker\": {\"colorbar\": {\"outlinewidth\": 0, \"ticks\": \"\"}}, \"type\": \"scattergeo\"}], \"scattergl\": [{\"marker\": {\"colorbar\": {\"outlinewidth\": 0, \"ticks\": \"\"}}, \"type\": \"scattergl\"}], \"scattermapbox\": [{\"marker\": {\"colorbar\": {\"outlinewidth\": 0, \"ticks\": \"\"}}, \"type\": \"scattermapbox\"}], \"scatterpolar\": [{\"marker\": {\"colorbar\": {\"outlinewidth\": 0, \"ticks\": \"\"}}, \"type\": \"scatterpolar\"}], \"scatterpolargl\": [{\"marker\": {\"colorbar\": {\"outlinewidth\": 0, \"ticks\": \"\"}}, \"type\": \"scatterpolargl\"}], \"scatterternary\": [{\"marker\": {\"colorbar\": {\"outlinewidth\": 0, \"ticks\": \"\"}}, \"type\": \"scatterternary\"}], \"surface\": [{\"colorbar\": {\"outlinewidth\": 0, \"ticks\": \"\"}, \"colorscale\": [[0.0, \"#0d0887\"], [0.1111111111111111, \"#46039f\"], [0.2222222222222222, \"#7201a8\"], [0.3333333333333333, \"#9c179e\"], [0.4444444444444444, \"#bd3786\"], [0.5555555555555556, \"#d8576b\"], [0.6666666666666666, \"#ed7953\"], [0.7777777777777778, \"#fb9f3a\"], [0.8888888888888888, \"#fdca26\"], [1.0, \"#f0f921\"]], \"type\": \"surface\"}], \"table\": [{\"cells\": {\"fill\": {\"color\": \"#EBF0F8\"}, \"line\": {\"color\": \"white\"}}, \"header\": {\"fill\": {\"color\": \"#C8D4E3\"}, \"line\": {\"color\": \"white\"}}, \"type\": \"table\"}]}, \"layout\": {\"annotationdefaults\": {\"arrowcolor\": \"#2a3f5f\", \"arrowhead\": 0, \"arrowwidth\": 1}, \"coloraxis\": {\"colorbar\": {\"outlinewidth\": 0, \"ticks\": \"\"}}, \"colorscale\": {\"diverging\": [[0, \"#8e0152\"], [0.1, \"#c51b7d\"], [0.2, \"#de77ae\"], [0.3, \"#f1b6da\"], [0.4, \"#fde0ef\"], [0.5, \"#f7f7f7\"], [0.6, \"#e6f5d0\"], [0.7, \"#b8e186\"], [0.8, \"#7fbc41\"], [0.9, \"#4d9221\"], [1, \"#276419\"]], \"sequential\": [[0.0, \"#0d0887\"], [0.1111111111111111, \"#46039f\"], [0.2222222222222222, \"#7201a8\"], [0.3333333333333333, \"#9c179e\"], [0.4444444444444444, \"#bd3786\"], [0.5555555555555556, \"#d8576b\"], [0.6666666666666666, \"#ed7953\"], [0.7777777777777778, \"#fb9f3a\"], [0.8888888888888888, \"#fdca26\"], [1.0, \"#f0f921\"]], \"sequentialminus\": [[0.0, \"#0d0887\"], [0.1111111111111111, \"#46039f\"], [0.2222222222222222, \"#7201a8\"], [0.3333333333333333, \"#9c179e\"], [0.4444444444444444, \"#bd3786\"], [0.5555555555555556, \"#d8576b\"], [0.6666666666666666, \"#ed7953\"], [0.7777777777777778, \"#fb9f3a\"], [0.8888888888888888, \"#fdca26\"], [1.0, \"#f0f921\"]]}, \"colorway\": [\"#636efa\", \"#EF553B\", \"#00cc96\", \"#ab63fa\", \"#FFA15A\", \"#19d3f3\", \"#FF6692\", \"#B6E880\", \"#FF97FF\", \"#FECB52\"], \"font\": {\"color\": \"#2a3f5f\"}, \"geo\": {\"bgcolor\": \"white\", \"lakecolor\": \"white\", \"landcolor\": \"#E5ECF6\", \"showlakes\": true, \"showland\": true, \"subunitcolor\": \"white\"}, \"hoverlabel\": {\"align\": \"left\"}, \"hovermode\": \"closest\", \"mapbox\": {\"style\": \"light\"}, \"paper_bgcolor\": \"white\", \"plot_bgcolor\": \"#E5ECF6\", \"polar\": {\"angularaxis\": {\"gridcolor\": \"white\", \"linecolor\": \"white\", \"ticks\": \"\"}, \"bgcolor\": \"#E5ECF6\", \"radialaxis\": {\"gridcolor\": \"white\", \"linecolor\": \"white\", \"ticks\": \"\"}}, \"scene\": {\"xaxis\": {\"backgroundcolor\": \"#E5ECF6\", \"gridcolor\": \"white\", \"gridwidth\": 2, \"linecolor\": \"white\", \"showbackground\": true, \"ticks\": \"\", \"zerolinecolor\": \"white\"}, \"yaxis\": {\"backgroundcolor\": \"#E5ECF6\", \"gridcolor\": \"white\", \"gridwidth\": 2, \"linecolor\": \"white\", \"showbackground\": true, \"ticks\": \"\", \"zerolinecolor\": \"white\"}, \"zaxis\": {\"backgroundcolor\": \"#E5ECF6\", \"gridcolor\": \"white\", \"gridwidth\": 2, \"linecolor\": \"white\", \"showbackground\": true, \"ticks\": \"\", \"zerolinecolor\": \"white\"}}, \"shapedefaults\": {\"line\": {\"color\": \"#2a3f5f\"}}, \"ternary\": {\"aaxis\": {\"gridcolor\": \"white\", \"linecolor\": \"white\", \"ticks\": \"\"}, \"baxis\": {\"gridcolor\": \"white\", \"linecolor\": \"white\", \"ticks\": \"\"}, \"bgcolor\": \"#E5ECF6\", \"caxis\": {\"gridcolor\": \"white\", \"linecolor\": \"white\", \"ticks\": \"\"}}, \"title\": {\"x\": 0.05}, \"xaxis\": {\"automargin\": true, \"gridcolor\": \"white\", \"linecolor\": \"white\", \"ticks\": \"\", \"title\": {\"standoff\": 15}, \"zerolinecolor\": \"white\", \"zerolinewidth\": 2}, \"yaxis\": {\"automargin\": true, \"gridcolor\": \"white\", \"linecolor\": \"white\", \"ticks\": \"\", \"title\": {\"standoff\": 15}, \"zerolinecolor\": \"white\", \"zerolinewidth\": 2}}}, \"xaxis\": {\"anchor\": \"y\", \"domain\": [0.0, 0.94], \"title\": {\"text\": \"Time\"}}, \"yaxis\": {\"anchor\": \"x\", \"domain\": [0.0, 1.0], \"showgrid\": false, \"title\": {\"text\": \"Order share\"}}, \"yaxis2\": {\"anchor\": \"x\", \"overlaying\": \"y\", \"showgrid\": false, \"side\": \"right\", \"title\": {\"text\": \"Mean delay (in minute)\"}}},\n",
              "                        {\"responsive\": true}\n",
              "                    ).then(function(){\n",
              "                            \n",
              "var gd = document.getElementById('86507b4b-dec8-497b-946f-025d3fb1aae9');\n",
              "var x = new MutationObserver(function (mutations, observer) {{\n",
              "        var display = window.getComputedStyle(gd).display;\n",
              "        if (!display || display === 'none') {{\n",
              "            console.log([gd, 'removed!']);\n",
              "            Plotly.purge(gd);\n",
              "            observer.disconnect();\n",
              "        }}\n",
              "}});\n",
              "\n",
              "// Listen for the removal of the full notebook cells\n",
              "var notebookContainer = gd.closest('#notebook-container');\n",
              "if (notebookContainer) {{\n",
              "    x.observe(notebookContainer, {childList: true});\n",
              "}}\n",
              "\n",
              "// Listen for the clearing of the current output cell\n",
              "var outputEl = gd.closest('.output');\n",
              "if (outputEl) {{\n",
              "    x.observe(outputEl, {childList: true});\n",
              "}}\n",
              "\n",
              "                        })\n",
              "                };\n",
              "                \n",
              "            </script>\n",
              "        </div>\n",
              "</body>\n",
              "</html>"
            ]
          },
          "metadata": {
            "tags": []
          }
        }
      ]
    },
    {
      "cell_type": "code",
      "metadata": {
        "id": "obC7gXhUHVEL",
        "colab": {
          "base_uri": "https://localhost:8080/",
          "height": 542
        },
        "outputId": "ee5df527-eb06-4daa-b0ad-f5402c7dbf83"
      },
      "source": [
        "fig = go.Figure()\n",
        "fig = make_subplots(specs=[[{\"secondary_y\": True}]])\n",
        "fig.add_trace(go.Bar(x =order_hour.new_time, y=order_hour.Control, name =\"control\"), secondary_y=False)\n",
        "fig.add_trace(go.Bar(x =order_hour.new_time, y=order_hour.Variation1,name =\"variation1\"), secondary_y=False)\n",
        "#fig.add_trace(go.Scatter(x =order_hour.new_time, y=order_hour.delta, mode=\"lines\", name =\"delta\", line = dict(color='gold', width=4, dash='dash')), secondary_y=True)\n",
        "fig.add_trace(go.Scatter(x =delay_agg.new_time, y=delay_agg.mean_delay, mode=\"lines\", name =\"Mean delay\", line = dict(color='gold', width=4, dash='dash')), secondary_y=True)\n",
        "# Add figure title\n",
        "#fig.update_layout(title_text=\"Daily users in Control and Test\")\n",
        "# Set x-axis title\n",
        "fig.update_xaxes(title_text=\"Time\")\n",
        "# Set y-axes titles\n",
        "fig.update_yaxes(title_text=\"Order amount\", showgrid=False, secondary_y=False)\n",
        "fig.update_yaxes(title_text=\"Mean delay (in minute)\", showgrid=False,secondary_y=True)\n",
        "fig.show()"
      ],
      "execution_count": null,
      "outputs": [
        {
          "output_type": "display_data",
          "data": {
            "text/html": [
              "<html>\n",
              "<head><meta charset=\"utf-8\" /></head>\n",
              "<body>\n",
              "    <div>\n",
              "            <script src=\"https://cdnjs.cloudflare.com/ajax/libs/mathjax/2.7.5/MathJax.js?config=TeX-AMS-MML_SVG\"></script><script type=\"text/javascript\">if (window.MathJax) {MathJax.Hub.Config({SVG: {font: \"STIX-Web\"}});}</script>\n",
              "                <script type=\"text/javascript\">window.PlotlyConfig = {MathJaxConfig: 'local'};</script>\n",
              "        <script src=\"https://cdn.plot.ly/plotly-latest.min.js\"></script>    \n",
              "            <div id=\"d13cc426-9c62-47a0-8fdd-29b2f32be746\" class=\"plotly-graph-div\" style=\"height:525px; width:100%;\"></div>\n",
              "            <script type=\"text/javascript\">\n",
              "                \n",
              "                    window.PLOTLYENV=window.PLOTLYENV || {};\n",
              "                    \n",
              "                if (document.getElementById(\"d13cc426-9c62-47a0-8fdd-29b2f32be746\")) {\n",
              "                    Plotly.newPlot(\n",
              "                        'd13cc426-9c62-47a0-8fdd-29b2f32be746',\n",
              "                        [{\"name\": \"control\", \"type\": \"bar\", \"x\": [\"00:00:00\", \"00:30:00\", \"01:00:00\", \"01:30:00\", \"02:00:00\", \"02:30:00\", \"03:00:00\", \"03:30:00\", \"04:00:00\", \"04:30:00\", \"05:00:00\", \"05:30:00\", \"06:00:00\", \"06:30:00\", \"07:00:00\", \"07:30:00\", \"08:00:00\", \"08:30:00\", \"09:00:00\", \"09:30:00\", \"10:00:00\", \"10:30:00\", \"11:00:00\", \"11:30:00\", \"12:00:00\", \"12:30:00\", \"13:00:00\", \"13:30:00\", \"14:00:00\", \"14:30:00\", \"15:00:00\", \"15:30:00\", \"16:00:00\", \"16:30:00\", \"17:00:00\", \"17:30:00\", \"18:00:00\", \"18:30:00\", \"19:00:00\", \"19:30:00\", \"20:00:00\", \"20:30:00\", \"21:00:00\", \"21:30:00\", \"22:00:00\", \"22:30:00\", \"23:00:00\", \"23:30:00\"], \"xaxis\": \"x\", \"y\": [487, 401, 341, 336, 281, 199, 162, 133, 106, 63, 58, 42, 40, 47, 97, 208, 309, 573, 742, 891, 1068, 1325, 1641, 3003, 3723, 3561, 3032, 2443, 2113, 2070, 1693, 1671, 1628, 1744, 1956, 2409, 2906, 3257, 3486, 3316, 3136, 2638, 2068, 1469, 1110, 828, 773, 630], \"yaxis\": \"y\"}, {\"name\": \"variation1\", \"type\": \"bar\", \"x\": [\"00:00:00\", \"00:30:00\", \"01:00:00\", \"01:30:00\", \"02:00:00\", \"02:30:00\", \"03:00:00\", \"03:30:00\", \"04:00:00\", \"04:30:00\", \"05:00:00\", \"05:30:00\", \"06:00:00\", \"06:30:00\", \"07:00:00\", \"07:30:00\", \"08:00:00\", \"08:30:00\", \"09:00:00\", \"09:30:00\", \"10:00:00\", \"10:30:00\", \"11:00:00\", \"11:30:00\", \"12:00:00\", \"12:30:00\", \"13:00:00\", \"13:30:00\", \"14:00:00\", \"14:30:00\", \"15:00:00\", \"15:30:00\", \"16:00:00\", \"16:30:00\", \"17:00:00\", \"17:30:00\", \"18:00:00\", \"18:30:00\", \"19:00:00\", \"19:30:00\", \"20:00:00\", \"20:30:00\", \"21:00:00\", \"21:30:00\", \"22:00:00\", \"22:30:00\", \"23:00:00\", \"23:30:00\"], \"xaxis\": \"x\", \"y\": [495, 434, 339, 302, 213, 218, 153, 115, 106, 50, 49, 42, 43, 61, 104, 198, 290, 559, 683, 866, 1088, 1281, 1699, 3114, 3502, 3445, 2874, 2379, 1961, 1957, 1696, 1690, 1570, 1682, 2006, 2423, 2989, 3389, 3416, 3315, 3013, 2528, 2012, 1432, 1022, 810, 682, 581], \"yaxis\": \"y\"}, {\"line\": {\"color\": \"gold\", \"dash\": \"dash\", \"width\": 4}, \"mode\": \"lines\", \"name\": \"Mean delay\", \"type\": \"scatter\", \"x\": [\"00:00:00\", \"00:30:00\", \"01:00:00\", \"01:30:00\", \"02:00:00\", \"02:30:00\", \"03:00:00\", \"03:30:00\", \"04:00:00\", \"04:30:00\", \"05:00:00\", \"05:30:00\", \"06:00:00\", \"06:30:00\", \"07:00:00\", \"07:30:00\", \"08:00:00\", \"08:30:00\", \"09:00:00\", \"09:30:00\", \"10:00:00\", \"10:30:00\", \"11:00:00\", \"11:30:00\", \"12:00:00\", \"12:30:00\", \"13:00:00\", \"13:30:00\", \"14:00:00\", \"14:30:00\", \"15:00:00\", \"15:30:00\", \"16:00:00\", \"16:30:00\", \"17:00:00\", \"17:30:00\", \"18:00:00\", \"18:30:00\", \"19:00:00\", \"19:30:00\", \"20:00:00\", \"20:30:00\", \"21:00:00\", \"21:30:00\", \"22:00:00\", \"22:30:00\", \"23:00:00\", \"23:30:00\"], \"xaxis\": \"x\", \"y\": [7.467746620663579, 5.452425954220884, 4.802740326266713, 5.521381239863059, 6.341308402105762, 6.367161848464219, 6.771231723981893, 5.0660370311626535, 5.553553985351622, 5.294926414359851, 5.1357278039193, 6.492754077108767, 7.88289534404949, 7.084777804435595, 5.901484163595487, 5.173613766420572, 5.016958578665211, 7.430597535234567, 7.627725005513776, 7.416321375835992, 6.976300424373018, 6.6711223765979915, 5.344355939041335, 7.002514459978196, 10.026141725963605, 10.403130862363124, 10.16545962983681, 9.682735691952685, 8.654116566993473, 8.567931775086855, 7.950135997344565, 7.833165252504543, 7.474286067523055, 7.444131303190224, 7.270009413073625, 6.886106171862755, 7.074271172801244, 7.761985531304098, 8.080860584149626, 8.190606533536707, 8.282188173838822, 8.137564470449407, 7.912586455093802, 7.801477157038322, 8.013188226292314, 8.232451824864993, 8.736297929136503, 9.84645868616191], \"yaxis\": \"y2\"}],\n",
              "                        {\"template\": {\"data\": {\"bar\": [{\"error_x\": {\"color\": \"#2a3f5f\"}, \"error_y\": {\"color\": \"#2a3f5f\"}, \"marker\": {\"line\": {\"color\": \"#E5ECF6\", \"width\": 0.5}}, \"type\": \"bar\"}], \"barpolar\": [{\"marker\": {\"line\": {\"color\": \"#E5ECF6\", \"width\": 0.5}}, \"type\": \"barpolar\"}], \"carpet\": [{\"aaxis\": {\"endlinecolor\": \"#2a3f5f\", \"gridcolor\": \"white\", \"linecolor\": \"white\", \"minorgridcolor\": \"white\", \"startlinecolor\": \"#2a3f5f\"}, \"baxis\": {\"endlinecolor\": \"#2a3f5f\", \"gridcolor\": \"white\", \"linecolor\": \"white\", \"minorgridcolor\": \"white\", \"startlinecolor\": \"#2a3f5f\"}, \"type\": \"carpet\"}], \"choropleth\": [{\"colorbar\": {\"outlinewidth\": 0, \"ticks\": \"\"}, \"type\": \"choropleth\"}], \"contour\": [{\"colorbar\": {\"outlinewidth\": 0, \"ticks\": \"\"}, \"colorscale\": [[0.0, \"#0d0887\"], [0.1111111111111111, \"#46039f\"], [0.2222222222222222, \"#7201a8\"], [0.3333333333333333, \"#9c179e\"], [0.4444444444444444, \"#bd3786\"], [0.5555555555555556, \"#d8576b\"], [0.6666666666666666, \"#ed7953\"], [0.7777777777777778, \"#fb9f3a\"], [0.8888888888888888, \"#fdca26\"], [1.0, \"#f0f921\"]], \"type\": \"contour\"}], \"contourcarpet\": [{\"colorbar\": {\"outlinewidth\": 0, \"ticks\": \"\"}, \"type\": \"contourcarpet\"}], \"heatmap\": [{\"colorbar\": {\"outlinewidth\": 0, \"ticks\": \"\"}, \"colorscale\": [[0.0, \"#0d0887\"], [0.1111111111111111, \"#46039f\"], [0.2222222222222222, \"#7201a8\"], [0.3333333333333333, \"#9c179e\"], [0.4444444444444444, \"#bd3786\"], [0.5555555555555556, \"#d8576b\"], [0.6666666666666666, \"#ed7953\"], [0.7777777777777778, \"#fb9f3a\"], [0.8888888888888888, \"#fdca26\"], [1.0, \"#f0f921\"]], \"type\": \"heatmap\"}], \"heatmapgl\": [{\"colorbar\": {\"outlinewidth\": 0, \"ticks\": \"\"}, \"colorscale\": [[0.0, \"#0d0887\"], [0.1111111111111111, \"#46039f\"], [0.2222222222222222, \"#7201a8\"], [0.3333333333333333, \"#9c179e\"], [0.4444444444444444, \"#bd3786\"], [0.5555555555555556, \"#d8576b\"], [0.6666666666666666, \"#ed7953\"], [0.7777777777777778, \"#fb9f3a\"], [0.8888888888888888, \"#fdca26\"], [1.0, \"#f0f921\"]], \"type\": \"heatmapgl\"}], \"histogram\": [{\"marker\": {\"colorbar\": {\"outlinewidth\": 0, \"ticks\": \"\"}}, \"type\": \"histogram\"}], \"histogram2d\": [{\"colorbar\": {\"outlinewidth\": 0, \"ticks\": \"\"}, \"colorscale\": [[0.0, \"#0d0887\"], [0.1111111111111111, \"#46039f\"], [0.2222222222222222, \"#7201a8\"], [0.3333333333333333, \"#9c179e\"], [0.4444444444444444, \"#bd3786\"], [0.5555555555555556, \"#d8576b\"], [0.6666666666666666, \"#ed7953\"], [0.7777777777777778, \"#fb9f3a\"], [0.8888888888888888, \"#fdca26\"], [1.0, \"#f0f921\"]], \"type\": \"histogram2d\"}], \"histogram2dcontour\": [{\"colorbar\": {\"outlinewidth\": 0, \"ticks\": \"\"}, \"colorscale\": [[0.0, \"#0d0887\"], [0.1111111111111111, \"#46039f\"], [0.2222222222222222, \"#7201a8\"], [0.3333333333333333, \"#9c179e\"], [0.4444444444444444, \"#bd3786\"], [0.5555555555555556, \"#d8576b\"], [0.6666666666666666, \"#ed7953\"], [0.7777777777777778, \"#fb9f3a\"], [0.8888888888888888, \"#fdca26\"], [1.0, \"#f0f921\"]], \"type\": \"histogram2dcontour\"}], \"mesh3d\": [{\"colorbar\": {\"outlinewidth\": 0, \"ticks\": \"\"}, \"type\": \"mesh3d\"}], \"parcoords\": [{\"line\": {\"colorbar\": {\"outlinewidth\": 0, \"ticks\": \"\"}}, \"type\": \"parcoords\"}], \"pie\": [{\"automargin\": true, \"type\": \"pie\"}], \"scatter\": [{\"marker\": {\"colorbar\": {\"outlinewidth\": 0, \"ticks\": \"\"}}, \"type\": \"scatter\"}], \"scatter3d\": [{\"line\": {\"colorbar\": {\"outlinewidth\": 0, \"ticks\": \"\"}}, \"marker\": {\"colorbar\": {\"outlinewidth\": 0, \"ticks\": \"\"}}, \"type\": \"scatter3d\"}], \"scattercarpet\": [{\"marker\": {\"colorbar\": {\"outlinewidth\": 0, \"ticks\": \"\"}}, \"type\": \"scattercarpet\"}], \"scattergeo\": [{\"marker\": {\"colorbar\": {\"outlinewidth\": 0, \"ticks\": \"\"}}, \"type\": \"scattergeo\"}], \"scattergl\": [{\"marker\": {\"colorbar\": {\"outlinewidth\": 0, \"ticks\": \"\"}}, \"type\": \"scattergl\"}], \"scattermapbox\": [{\"marker\": {\"colorbar\": {\"outlinewidth\": 0, \"ticks\": \"\"}}, \"type\": \"scattermapbox\"}], \"scatterpolar\": [{\"marker\": {\"colorbar\": {\"outlinewidth\": 0, \"ticks\": \"\"}}, \"type\": \"scatterpolar\"}], \"scatterpolargl\": [{\"marker\": {\"colorbar\": {\"outlinewidth\": 0, \"ticks\": \"\"}}, \"type\": \"scatterpolargl\"}], \"scatterternary\": [{\"marker\": {\"colorbar\": {\"outlinewidth\": 0, \"ticks\": \"\"}}, \"type\": \"scatterternary\"}], \"surface\": [{\"colorbar\": {\"outlinewidth\": 0, \"ticks\": \"\"}, \"colorscale\": [[0.0, \"#0d0887\"], [0.1111111111111111, \"#46039f\"], [0.2222222222222222, \"#7201a8\"], [0.3333333333333333, \"#9c179e\"], [0.4444444444444444, \"#bd3786\"], [0.5555555555555556, \"#d8576b\"], [0.6666666666666666, \"#ed7953\"], [0.7777777777777778, \"#fb9f3a\"], [0.8888888888888888, \"#fdca26\"], [1.0, \"#f0f921\"]], \"type\": \"surface\"}], \"table\": [{\"cells\": {\"fill\": {\"color\": \"#EBF0F8\"}, \"line\": {\"color\": \"white\"}}, \"header\": {\"fill\": {\"color\": \"#C8D4E3\"}, \"line\": {\"color\": \"white\"}}, \"type\": \"table\"}]}, \"layout\": {\"annotationdefaults\": {\"arrowcolor\": \"#2a3f5f\", \"arrowhead\": 0, \"arrowwidth\": 1}, \"coloraxis\": {\"colorbar\": {\"outlinewidth\": 0, \"ticks\": \"\"}}, \"colorscale\": {\"diverging\": [[0, \"#8e0152\"], [0.1, \"#c51b7d\"], [0.2, \"#de77ae\"], [0.3, \"#f1b6da\"], [0.4, \"#fde0ef\"], [0.5, \"#f7f7f7\"], [0.6, \"#e6f5d0\"], [0.7, \"#b8e186\"], [0.8, \"#7fbc41\"], [0.9, \"#4d9221\"], [1, \"#276419\"]], \"sequential\": [[0.0, \"#0d0887\"], [0.1111111111111111, \"#46039f\"], [0.2222222222222222, \"#7201a8\"], [0.3333333333333333, \"#9c179e\"], [0.4444444444444444, \"#bd3786\"], [0.5555555555555556, \"#d8576b\"], [0.6666666666666666, \"#ed7953\"], [0.7777777777777778, \"#fb9f3a\"], [0.8888888888888888, \"#fdca26\"], [1.0, \"#f0f921\"]], \"sequentialminus\": [[0.0, \"#0d0887\"], [0.1111111111111111, \"#46039f\"], [0.2222222222222222, \"#7201a8\"], [0.3333333333333333, \"#9c179e\"], [0.4444444444444444, \"#bd3786\"], [0.5555555555555556, \"#d8576b\"], [0.6666666666666666, \"#ed7953\"], [0.7777777777777778, \"#fb9f3a\"], [0.8888888888888888, \"#fdca26\"], [1.0, \"#f0f921\"]]}, \"colorway\": [\"#636efa\", \"#EF553B\", \"#00cc96\", \"#ab63fa\", \"#FFA15A\", \"#19d3f3\", \"#FF6692\", \"#B6E880\", \"#FF97FF\", \"#FECB52\"], \"font\": {\"color\": \"#2a3f5f\"}, \"geo\": {\"bgcolor\": \"white\", \"lakecolor\": \"white\", \"landcolor\": \"#E5ECF6\", \"showlakes\": true, \"showland\": true, \"subunitcolor\": \"white\"}, \"hoverlabel\": {\"align\": \"left\"}, \"hovermode\": \"closest\", \"mapbox\": {\"style\": \"light\"}, \"paper_bgcolor\": \"white\", \"plot_bgcolor\": \"#E5ECF6\", \"polar\": {\"angularaxis\": {\"gridcolor\": \"white\", \"linecolor\": \"white\", \"ticks\": \"\"}, \"bgcolor\": \"#E5ECF6\", \"radialaxis\": {\"gridcolor\": \"white\", \"linecolor\": \"white\", \"ticks\": \"\"}}, \"scene\": {\"xaxis\": {\"backgroundcolor\": \"#E5ECF6\", \"gridcolor\": \"white\", \"gridwidth\": 2, \"linecolor\": \"white\", \"showbackground\": true, \"ticks\": \"\", \"zerolinecolor\": \"white\"}, \"yaxis\": {\"backgroundcolor\": \"#E5ECF6\", \"gridcolor\": \"white\", \"gridwidth\": 2, \"linecolor\": \"white\", \"showbackground\": true, \"ticks\": \"\", \"zerolinecolor\": \"white\"}, \"zaxis\": {\"backgroundcolor\": \"#E5ECF6\", \"gridcolor\": \"white\", \"gridwidth\": 2, \"linecolor\": \"white\", \"showbackground\": true, \"ticks\": \"\", \"zerolinecolor\": \"white\"}}, \"shapedefaults\": {\"line\": {\"color\": \"#2a3f5f\"}}, \"ternary\": {\"aaxis\": {\"gridcolor\": \"white\", \"linecolor\": \"white\", \"ticks\": \"\"}, \"baxis\": {\"gridcolor\": \"white\", \"linecolor\": \"white\", \"ticks\": \"\"}, \"bgcolor\": \"#E5ECF6\", \"caxis\": {\"gridcolor\": \"white\", \"linecolor\": \"white\", \"ticks\": \"\"}}, \"title\": {\"x\": 0.05}, \"xaxis\": {\"automargin\": true, \"gridcolor\": \"white\", \"linecolor\": \"white\", \"ticks\": \"\", \"title\": {\"standoff\": 15}, \"zerolinecolor\": \"white\", \"zerolinewidth\": 2}, \"yaxis\": {\"automargin\": true, \"gridcolor\": \"white\", \"linecolor\": \"white\", \"ticks\": \"\", \"title\": {\"standoff\": 15}, \"zerolinecolor\": \"white\", \"zerolinewidth\": 2}}}, \"xaxis\": {\"anchor\": \"y\", \"domain\": [0.0, 0.94], \"title\": {\"text\": \"Time\"}}, \"yaxis\": {\"anchor\": \"x\", \"domain\": [0.0, 1.0], \"showgrid\": false, \"title\": {\"text\": \"Order amount\"}}, \"yaxis2\": {\"anchor\": \"x\", \"overlaying\": \"y\", \"showgrid\": false, \"side\": \"right\", \"title\": {\"text\": \"Mean delay (in minute)\"}}},\n",
              "                        {\"responsive\": true}\n",
              "                    ).then(function(){\n",
              "                            \n",
              "var gd = document.getElementById('d13cc426-9c62-47a0-8fdd-29b2f32be746');\n",
              "var x = new MutationObserver(function (mutations, observer) {{\n",
              "        var display = window.getComputedStyle(gd).display;\n",
              "        if (!display || display === 'none') {{\n",
              "            console.log([gd, 'removed!']);\n",
              "            Plotly.purge(gd);\n",
              "            observer.disconnect();\n",
              "        }}\n",
              "}});\n",
              "\n",
              "// Listen for the removal of the full notebook cells\n",
              "var notebookContainer = gd.closest('#notebook-container');\n",
              "if (notebookContainer) {{\n",
              "    x.observe(notebookContainer, {childList: true});\n",
              "}}\n",
              "\n",
              "// Listen for the clearing of the current output cell\n",
              "var outputEl = gd.closest('.output');\n",
              "if (outputEl) {{\n",
              "    x.observe(outputEl, {childList: true});\n",
              "}}\n",
              "\n",
              "                        })\n",
              "                };\n",
              "                \n",
              "            </script>\n",
              "        </div>\n",
              "</body>\n",
              "</html>"
            ]
          },
          "metadata": {
            "tags": []
          }
        }
      ]
    },
    {
      "cell_type": "code",
      "metadata": {
        "id": "CzrBjmVnf2Gl",
        "cellView": "both",
        "colab": {
          "base_uri": "https://localhost:8080/",
          "height": 34
        },
        "outputId": "6d312072-2728-45ff-97ea-9ff53acb6ef3"
      },
      "source": [
        "# Daily Order Significance Check\n",
        "order_sum.describe()\n",
        "stats.wilcoxon(order_sum['Variation1'], order_sum['Control'])"
      ],
      "execution_count": null,
      "outputs": [
        {
          "output_type": "execute_result",
          "data": {
            "text/plain": [
              "WilcoxonResult(statistic=64.0, pvalue=0.07340740770021606)"
            ]
          },
          "metadata": {
            "tags": []
          },
          "execution_count": 143
        }
      ]
    },
    {
      "cell_type": "code",
      "metadata": {
        "id": "LO7hCPUMfY_H",
        "colab": {
          "base_uri": "https://localhost:8080/",
          "height": 34
        },
        "outputId": "91337b6a-e9a2-4ff1-99e3-9a99484e8ae4"
      },
      "source": [
        "# Daily Hourly Order Significance Check\n",
        "order_sig = df.pivot_table(\"platform_order_code_ga\", index=[\"local_date\", \"hour_block\"], columns =\"variant\", aggfunc = \"count\").reset_index()\n",
        "order_sig\n",
        "# one-tailed hypothesis, test is less than control\n",
        "stats.wilcoxon(order_sig['Variation1'], order_sig['Control']) "
      ],
      "execution_count": null,
      "outputs": [
        {
          "output_type": "execute_result",
          "data": {
            "text/plain": [
              "WilcoxonResult(statistic=13753.5, pvalue=0.0007736955478681122)"
            ]
          },
          "metadata": {
            "tags": []
          },
          "execution_count": 142
        }
      ]
    },
    {
      "cell_type": "markdown",
      "metadata": {
        "id": "dvBUadmXcPXg"
      },
      "source": [
        "#### Stage level"
      ]
    },
    {
      "cell_type": "code",
      "metadata": {
        "id": "t78zEY0T9SgE",
        "colab": {
          "base_uri": "https://localhost:8080/",
          "height": 542
        },
        "outputId": "5599bef0-05ba-4a64-c0b8-b708905fc59b"
      },
      "source": [
        "order = df.pivot_table(\"platform_order_code_ga\", index=[\"local_date\", \"stage\"],\n",
        "                       #columns = \"stage\", \n",
        "                       aggfunc = \"count\").reset_index()\n",
        "order = order.fillna(0)\n",
        "#order = order[order.stage != \"0\"]\n",
        "#order = order.reset_index()\n",
        "fig = px.bar(order, x=\"local_date\",y=\"platform_order_code_ga\", color=\"stage\", category_orders={\"stage\": [\"price_easing\", \"default\", \"surge1\", \"surge_shrink1\", \"shrink2\"]})\n",
        "# Add figure title\n",
        "#fig.update_layout(title_text=\"Daily users in Control and Test\")\n",
        "# Set x-axis title\n",
        "fig.update_xaxes(title_text=\"Date\")\n",
        "# Set y-axes titles\n",
        "fig.update_yaxes(title_text=\"Order amount\", showgrid=False)\n",
        "\n",
        "fig.show()"
      ],
      "execution_count": null,
      "outputs": [
        {
          "output_type": "display_data",
          "data": {
            "text/html": [
              "<html>\n",
              "<head><meta charset=\"utf-8\" /></head>\n",
              "<body>\n",
              "    <div>\n",
              "            <script src=\"https://cdnjs.cloudflare.com/ajax/libs/mathjax/2.7.5/MathJax.js?config=TeX-AMS-MML_SVG\"></script><script type=\"text/javascript\">if (window.MathJax) {MathJax.Hub.Config({SVG: {font: \"STIX-Web\"}});}</script>\n",
              "                <script type=\"text/javascript\">window.PlotlyConfig = {MathJaxConfig: 'local'};</script>\n",
              "        <script src=\"https://cdn.plot.ly/plotly-latest.min.js\"></script>    \n",
              "            <div id=\"347fe10b-9f8c-4029-ab7f-153a7fb446f0\" class=\"plotly-graph-div\" style=\"height:525px; width:100%;\"></div>\n",
              "            <script type=\"text/javascript\">\n",
              "                \n",
              "                    window.PLOTLYENV=window.PLOTLYENV || {};\n",
              "                    \n",
              "                if (document.getElementById(\"347fe10b-9f8c-4029-ab7f-153a7fb446f0\")) {\n",
              "                    Plotly.newPlot(\n",
              "                        '347fe10b-9f8c-4029-ab7f-153a7fb446f0',\n",
              "                        [{\"alignmentgroup\": \"True\", \"hoverlabel\": {\"namelength\": 0}, \"hovertemplate\": \"stage=price_easing<br>local_date=%{x}<br>platform_order_code_ga=%{y}\", \"legendgroup\": \"stage=price_easing\", \"marker\": {\"color\": \"#636efa\"}, \"name\": \"stage=price_easing\", \"offsetgroup\": \"stage=price_easing\", \"orientation\": \"v\", \"showlegend\": true, \"textposition\": \"auto\", \"type\": \"bar\", \"x\": [\"2020-09-04\", \"2020-09-05\", \"2020-09-06\", \"2020-09-07\", \"2020-09-08\", \"2020-09-09\", \"2020-09-10\", \"2020-09-11\", \"2020-09-12\", \"2020-09-13\", \"2020-09-14\", \"2020-09-15\", \"2020-09-16\", \"2020-09-17\", \"2020-09-18\", \"2020-09-19\", \"2020-09-20\", \"2020-09-21\", \"2020-09-22\", \"2020-09-23\", \"2020-09-24\"], \"xaxis\": \"x\", \"y\": [155, 36, 22, 621, 170, 463, 437, 56, 64, 75, 233, 335, 460, 206, 242, 48, 71, 61, 1024, 541, 293], \"yaxis\": \"y\"}, {\"alignmentgroup\": \"True\", \"hoverlabel\": {\"namelength\": 0}, \"hovertemplate\": \"stage=default<br>local_date=%{x}<br>platform_order_code_ga=%{y}\", \"legendgroup\": \"stage=default\", \"marker\": {\"color\": \"#EF553B\"}, \"name\": \"stage=default\", \"offsetgroup\": \"stage=default\", \"orientation\": \"v\", \"showlegend\": true, \"textposition\": \"auto\", \"type\": \"bar\", \"x\": [\"2020-09-04\", \"2020-09-05\", \"2020-09-06\", \"2020-09-07\", \"2020-09-08\", \"2020-09-09\", \"2020-09-10\", \"2020-09-11\", \"2020-09-12\", \"2020-09-13\", \"2020-09-14\", \"2020-09-15\", \"2020-09-16\", \"2020-09-17\", \"2020-09-18\", \"2020-09-19\", \"2020-09-20\", \"2020-09-21\", \"2020-09-22\", \"2020-09-23\", \"2020-09-24\"], \"xaxis\": \"x\", \"y\": [3142, 366, 2561, 4099, 4094, 4388, 4816, 4301, 1437, 1134, 3136, 5181, 4863, 5249, 4809, 4912, 3915, 3363, 4159, 4943, 5543], \"yaxis\": \"y\"}, {\"alignmentgroup\": \"True\", \"hoverlabel\": {\"namelength\": 0}, \"hovertemplate\": \"stage=surge1<br>local_date=%{x}<br>platform_order_code_ga=%{y}\", \"legendgroup\": \"stage=surge1\", \"marker\": {\"color\": \"#00cc96\"}, \"name\": \"stage=surge1\", \"offsetgroup\": \"stage=surge1\", \"orientation\": \"v\", \"showlegend\": true, \"textposition\": \"auto\", \"type\": \"bar\", \"x\": [\"2020-09-04\", \"2020-09-05\", \"2020-09-06\", \"2020-09-07\", \"2020-09-08\", \"2020-09-09\", \"2020-09-10\", \"2020-09-11\", \"2020-09-12\", \"2020-09-13\", \"2020-09-14\", \"2020-09-15\", \"2020-09-16\", \"2020-09-17\", \"2020-09-18\", \"2020-09-19\", \"2020-09-20\", \"2020-09-21\", \"2020-09-22\", \"2020-09-23\", \"2020-09-24\"], \"xaxis\": \"x\", \"y\": [3526, 3322, 3289, 973, 1603, 1281, 1221, 2476, 5149, 2354, 1978, 108, 360, 684, 1321, 1756, 3050, 1692, 71, 15, 7], \"yaxis\": \"y\"}, {\"alignmentgroup\": \"True\", \"hoverlabel\": {\"namelength\": 0}, \"hovertemplate\": \"stage=surge_shrink1<br>local_date=%{x}<br>platform_order_code_ga=%{y}\", \"legendgroup\": \"stage=surge_shrink1\", \"marker\": {\"color\": \"#ab63fa\"}, \"name\": \"stage=surge_shrink1\", \"offsetgroup\": \"stage=surge_shrink1\", \"orientation\": \"v\", \"showlegend\": true, \"textposition\": \"auto\", \"type\": \"bar\", \"x\": [\"2020-09-04\", \"2020-09-05\", \"2020-09-06\", \"2020-09-07\", \"2020-09-08\", \"2020-09-09\", \"2020-09-11\", \"2020-09-12\", \"2020-09-13\", \"2020-09-14\", \"2020-09-15\", \"2020-09-16\", \"2020-09-19\", \"2020-09-20\", \"2020-09-21\", \"2020-09-22\"], \"xaxis\": \"x\", \"y\": [150, 2402, 1178, 5, 3, 1, 74, 457, 2636, 163, 3, 2, 31, 182, 23, 1], \"yaxis\": \"y\"}, {\"alignmentgroup\": \"True\", \"hoverlabel\": {\"namelength\": 0}, \"hovertemplate\": \"stage=shrink2<br>local_date=%{x}<br>platform_order_code_ga=%{y}\", \"legendgroup\": \"stage=shrink2\", \"marker\": {\"color\": \"#FFA15A\"}, \"name\": \"stage=shrink2\", \"offsetgroup\": \"stage=shrink2\", \"orientation\": \"v\", \"showlegend\": true, \"textposition\": \"auto\", \"type\": \"bar\", \"x\": [\"2020-09-05\", \"2020-09-06\", \"2020-09-07\", \"2020-09-11\", \"2020-09-13\", \"2020-09-14\"], \"xaxis\": \"x\", \"y\": [717, 111, 1, 7, 681, 1], \"yaxis\": \"y\"}],\n",
              "                        {\"barmode\": \"relative\", \"legend\": {\"tracegroupgap\": 0}, \"margin\": {\"t\": 60}, \"template\": {\"data\": {\"bar\": [{\"error_x\": {\"color\": \"#2a3f5f\"}, \"error_y\": {\"color\": \"#2a3f5f\"}, \"marker\": {\"line\": {\"color\": \"#E5ECF6\", \"width\": 0.5}}, \"type\": \"bar\"}], \"barpolar\": [{\"marker\": {\"line\": {\"color\": \"#E5ECF6\", \"width\": 0.5}}, \"type\": \"barpolar\"}], \"carpet\": [{\"aaxis\": {\"endlinecolor\": \"#2a3f5f\", \"gridcolor\": \"white\", \"linecolor\": \"white\", \"minorgridcolor\": \"white\", \"startlinecolor\": \"#2a3f5f\"}, \"baxis\": {\"endlinecolor\": \"#2a3f5f\", \"gridcolor\": \"white\", \"linecolor\": \"white\", \"minorgridcolor\": \"white\", \"startlinecolor\": \"#2a3f5f\"}, \"type\": \"carpet\"}], \"choropleth\": [{\"colorbar\": {\"outlinewidth\": 0, \"ticks\": \"\"}, \"type\": \"choropleth\"}], \"contour\": [{\"colorbar\": {\"outlinewidth\": 0, \"ticks\": \"\"}, \"colorscale\": [[0.0, \"#0d0887\"], [0.1111111111111111, \"#46039f\"], [0.2222222222222222, \"#7201a8\"], [0.3333333333333333, \"#9c179e\"], [0.4444444444444444, \"#bd3786\"], [0.5555555555555556, \"#d8576b\"], [0.6666666666666666, \"#ed7953\"], [0.7777777777777778, \"#fb9f3a\"], [0.8888888888888888, \"#fdca26\"], [1.0, \"#f0f921\"]], \"type\": \"contour\"}], \"contourcarpet\": [{\"colorbar\": {\"outlinewidth\": 0, \"ticks\": \"\"}, \"type\": \"contourcarpet\"}], \"heatmap\": [{\"colorbar\": {\"outlinewidth\": 0, \"ticks\": \"\"}, \"colorscale\": [[0.0, \"#0d0887\"], [0.1111111111111111, \"#46039f\"], [0.2222222222222222, \"#7201a8\"], [0.3333333333333333, \"#9c179e\"], [0.4444444444444444, \"#bd3786\"], [0.5555555555555556, \"#d8576b\"], [0.6666666666666666, \"#ed7953\"], [0.7777777777777778, \"#fb9f3a\"], [0.8888888888888888, \"#fdca26\"], [1.0, \"#f0f921\"]], \"type\": \"heatmap\"}], \"heatmapgl\": [{\"colorbar\": {\"outlinewidth\": 0, \"ticks\": \"\"}, \"colorscale\": [[0.0, \"#0d0887\"], [0.1111111111111111, \"#46039f\"], [0.2222222222222222, \"#7201a8\"], [0.3333333333333333, \"#9c179e\"], [0.4444444444444444, \"#bd3786\"], [0.5555555555555556, \"#d8576b\"], [0.6666666666666666, \"#ed7953\"], [0.7777777777777778, \"#fb9f3a\"], [0.8888888888888888, \"#fdca26\"], [1.0, \"#f0f921\"]], \"type\": \"heatmapgl\"}], \"histogram\": [{\"marker\": {\"colorbar\": {\"outlinewidth\": 0, \"ticks\": \"\"}}, \"type\": \"histogram\"}], \"histogram2d\": [{\"colorbar\": {\"outlinewidth\": 0, \"ticks\": \"\"}, \"colorscale\": [[0.0, \"#0d0887\"], [0.1111111111111111, \"#46039f\"], [0.2222222222222222, \"#7201a8\"], [0.3333333333333333, \"#9c179e\"], [0.4444444444444444, \"#bd3786\"], [0.5555555555555556, \"#d8576b\"], [0.6666666666666666, \"#ed7953\"], [0.7777777777777778, \"#fb9f3a\"], [0.8888888888888888, \"#fdca26\"], [1.0, \"#f0f921\"]], \"type\": \"histogram2d\"}], \"histogram2dcontour\": [{\"colorbar\": {\"outlinewidth\": 0, \"ticks\": \"\"}, \"colorscale\": [[0.0, \"#0d0887\"], [0.1111111111111111, \"#46039f\"], [0.2222222222222222, \"#7201a8\"], [0.3333333333333333, \"#9c179e\"], [0.4444444444444444, \"#bd3786\"], [0.5555555555555556, \"#d8576b\"], [0.6666666666666666, \"#ed7953\"], [0.7777777777777778, \"#fb9f3a\"], [0.8888888888888888, \"#fdca26\"], [1.0, \"#f0f921\"]], \"type\": \"histogram2dcontour\"}], \"mesh3d\": [{\"colorbar\": {\"outlinewidth\": 0, \"ticks\": \"\"}, \"type\": \"mesh3d\"}], \"parcoords\": [{\"line\": {\"colorbar\": {\"outlinewidth\": 0, \"ticks\": \"\"}}, \"type\": \"parcoords\"}], \"pie\": [{\"automargin\": true, \"type\": \"pie\"}], \"scatter\": [{\"marker\": {\"colorbar\": {\"outlinewidth\": 0, \"ticks\": \"\"}}, \"type\": \"scatter\"}], \"scatter3d\": [{\"line\": {\"colorbar\": {\"outlinewidth\": 0, \"ticks\": \"\"}}, \"marker\": {\"colorbar\": {\"outlinewidth\": 0, \"ticks\": \"\"}}, \"type\": \"scatter3d\"}], \"scattercarpet\": [{\"marker\": {\"colorbar\": {\"outlinewidth\": 0, \"ticks\": \"\"}}, \"type\": \"scattercarpet\"}], \"scattergeo\": [{\"marker\": {\"colorbar\": {\"outlinewidth\": 0, \"ticks\": \"\"}}, \"type\": \"scattergeo\"}], \"scattergl\": [{\"marker\": {\"colorbar\": {\"outlinewidth\": 0, \"ticks\": \"\"}}, \"type\": \"scattergl\"}], \"scattermapbox\": [{\"marker\": {\"colorbar\": {\"outlinewidth\": 0, \"ticks\": \"\"}}, \"type\": \"scattermapbox\"}], \"scatterpolar\": [{\"marker\": {\"colorbar\": {\"outlinewidth\": 0, \"ticks\": \"\"}}, \"type\": \"scatterpolar\"}], \"scatterpolargl\": [{\"marker\": {\"colorbar\": {\"outlinewidth\": 0, \"ticks\": \"\"}}, \"type\": \"scatterpolargl\"}], \"scatterternary\": [{\"marker\": {\"colorbar\": {\"outlinewidth\": 0, \"ticks\": \"\"}}, \"type\": \"scatterternary\"}], \"surface\": [{\"colorbar\": {\"outlinewidth\": 0, \"ticks\": \"\"}, \"colorscale\": [[0.0, \"#0d0887\"], [0.1111111111111111, \"#46039f\"], [0.2222222222222222, \"#7201a8\"], [0.3333333333333333, \"#9c179e\"], [0.4444444444444444, \"#bd3786\"], [0.5555555555555556, \"#d8576b\"], [0.6666666666666666, \"#ed7953\"], [0.7777777777777778, \"#fb9f3a\"], [0.8888888888888888, \"#fdca26\"], [1.0, \"#f0f921\"]], \"type\": \"surface\"}], \"table\": [{\"cells\": {\"fill\": {\"color\": \"#EBF0F8\"}, \"line\": {\"color\": \"white\"}}, \"header\": {\"fill\": {\"color\": \"#C8D4E3\"}, \"line\": {\"color\": \"white\"}}, \"type\": \"table\"}]}, \"layout\": {\"annotationdefaults\": {\"arrowcolor\": \"#2a3f5f\", \"arrowhead\": 0, \"arrowwidth\": 1}, \"coloraxis\": {\"colorbar\": {\"outlinewidth\": 0, \"ticks\": \"\"}}, \"colorscale\": {\"diverging\": [[0, \"#8e0152\"], [0.1, \"#c51b7d\"], [0.2, \"#de77ae\"], [0.3, \"#f1b6da\"], [0.4, \"#fde0ef\"], [0.5, \"#f7f7f7\"], [0.6, \"#e6f5d0\"], [0.7, \"#b8e186\"], [0.8, \"#7fbc41\"], [0.9, \"#4d9221\"], [1, \"#276419\"]], \"sequential\": [[0.0, \"#0d0887\"], [0.1111111111111111, \"#46039f\"], [0.2222222222222222, \"#7201a8\"], [0.3333333333333333, \"#9c179e\"], [0.4444444444444444, \"#bd3786\"], [0.5555555555555556, \"#d8576b\"], [0.6666666666666666, \"#ed7953\"], [0.7777777777777778, \"#fb9f3a\"], [0.8888888888888888, \"#fdca26\"], [1.0, \"#f0f921\"]], \"sequentialminus\": [[0.0, \"#0d0887\"], [0.1111111111111111, \"#46039f\"], [0.2222222222222222, \"#7201a8\"], [0.3333333333333333, \"#9c179e\"], [0.4444444444444444, \"#bd3786\"], [0.5555555555555556, \"#d8576b\"], [0.6666666666666666, \"#ed7953\"], [0.7777777777777778, \"#fb9f3a\"], [0.8888888888888888, \"#fdca26\"], [1.0, \"#f0f921\"]]}, \"colorway\": [\"#636efa\", \"#EF553B\", \"#00cc96\", \"#ab63fa\", \"#FFA15A\", \"#19d3f3\", \"#FF6692\", \"#B6E880\", \"#FF97FF\", \"#FECB52\"], \"font\": {\"color\": \"#2a3f5f\"}, \"geo\": {\"bgcolor\": \"white\", \"lakecolor\": \"white\", \"landcolor\": \"#E5ECF6\", \"showlakes\": true, \"showland\": true, \"subunitcolor\": \"white\"}, \"hoverlabel\": {\"align\": \"left\"}, \"hovermode\": \"closest\", \"mapbox\": {\"style\": \"light\"}, \"paper_bgcolor\": \"white\", \"plot_bgcolor\": \"#E5ECF6\", \"polar\": {\"angularaxis\": {\"gridcolor\": \"white\", \"linecolor\": \"white\", \"ticks\": \"\"}, \"bgcolor\": \"#E5ECF6\", \"radialaxis\": {\"gridcolor\": \"white\", \"linecolor\": \"white\", \"ticks\": \"\"}}, \"scene\": {\"xaxis\": {\"backgroundcolor\": \"#E5ECF6\", \"gridcolor\": \"white\", \"gridwidth\": 2, \"linecolor\": \"white\", \"showbackground\": true, \"ticks\": \"\", \"zerolinecolor\": \"white\"}, \"yaxis\": {\"backgroundcolor\": \"#E5ECF6\", \"gridcolor\": \"white\", \"gridwidth\": 2, \"linecolor\": \"white\", \"showbackground\": true, \"ticks\": \"\", \"zerolinecolor\": \"white\"}, \"zaxis\": {\"backgroundcolor\": \"#E5ECF6\", \"gridcolor\": \"white\", \"gridwidth\": 2, \"linecolor\": \"white\", \"showbackground\": true, \"ticks\": \"\", \"zerolinecolor\": \"white\"}}, \"shapedefaults\": {\"line\": {\"color\": \"#2a3f5f\"}}, \"ternary\": {\"aaxis\": {\"gridcolor\": \"white\", \"linecolor\": \"white\", \"ticks\": \"\"}, \"baxis\": {\"gridcolor\": \"white\", \"linecolor\": \"white\", \"ticks\": \"\"}, \"bgcolor\": \"#E5ECF6\", \"caxis\": {\"gridcolor\": \"white\", \"linecolor\": \"white\", \"ticks\": \"\"}}, \"title\": {\"x\": 0.05}, \"xaxis\": {\"automargin\": true, \"gridcolor\": \"white\", \"linecolor\": \"white\", \"ticks\": \"\", \"title\": {\"standoff\": 15}, \"zerolinecolor\": \"white\", \"zerolinewidth\": 2}, \"yaxis\": {\"automargin\": true, \"gridcolor\": \"white\", \"linecolor\": \"white\", \"ticks\": \"\", \"title\": {\"standoff\": 15}, \"zerolinecolor\": \"white\", \"zerolinewidth\": 2}}}, \"xaxis\": {\"anchor\": \"y\", \"domain\": [0.0, 1.0], \"title\": {\"text\": \"Date\"}}, \"yaxis\": {\"anchor\": \"x\", \"domain\": [0.0, 1.0], \"showgrid\": false, \"title\": {\"text\": \"Order amount\"}}},\n",
              "                        {\"responsive\": true}\n",
              "                    ).then(function(){\n",
              "                            \n",
              "var gd = document.getElementById('347fe10b-9f8c-4029-ab7f-153a7fb446f0');\n",
              "var x = new MutationObserver(function (mutations, observer) {{\n",
              "        var display = window.getComputedStyle(gd).display;\n",
              "        if (!display || display === 'none') {{\n",
              "            console.log([gd, 'removed!']);\n",
              "            Plotly.purge(gd);\n",
              "            observer.disconnect();\n",
              "        }}\n",
              "}});\n",
              "\n",
              "// Listen for the removal of the full notebook cells\n",
              "var notebookContainer = gd.closest('#notebook-container');\n",
              "if (notebookContainer) {{\n",
              "    x.observe(notebookContainer, {childList: true});\n",
              "}}\n",
              "\n",
              "// Listen for the clearing of the current output cell\n",
              "var outputEl = gd.closest('.output');\n",
              "if (outputEl) {{\n",
              "    x.observe(outputEl, {childList: true});\n",
              "}}\n",
              "\n",
              "                        })\n",
              "                };\n",
              "                \n",
              "            </script>\n",
              "        </div>\n",
              "</body>\n",
              "</html>"
            ]
          },
          "metadata": {
            "tags": []
          }
        }
      ]
    },
    {
      "cell_type": "code",
      "metadata": {
        "id": "4CaOMWeXb-_C",
        "colab": {
          "base_uri": "https://localhost:8080/",
          "height": 542
        },
        "outputId": "8febc9a7-7f02-4283-c494-5c04c7c7cd13"
      },
      "source": [
        "# prepare the dataset\n",
        "pivot = df.pivot_table(\"platform_order_code_ga\", index=[\"stage\",\"local_date\"], columns =\"variant\", aggfunc = \"count\").reset_index()\n",
        "pivot[\"delta\"] = pivot[\"Variation1\"]/pivot[\"Control\"]-1\n",
        "pivot['delta'] = pivot['delta'].astype(float).map(lambda n: '{:.2%}'.format(n))\n",
        "#graph\n",
        "fig = px.line(pivot, x=\"local_date\", y=\"delta\", color=\"stage\", text = \"delta\",category_orders={\"stage\": [\"price_easing\", \"default\", \"surge1\", \"surge_shrink1\", \"shrink2\"]})\n",
        "# Set x-axis title\n",
        "fig.update_xaxes(title_text=\"Date\")\n",
        "# Set y-axes titles\n",
        "fig.update_yaxes(title_text=\"delta (variation1 vs control)\", showgrid=False)\n",
        "fig.show()"
      ],
      "execution_count": null,
      "outputs": [
        {
          "output_type": "display_data",
          "data": {
            "text/html": [
              "<html>\n",
              "<head><meta charset=\"utf-8\" /></head>\n",
              "<body>\n",
              "    <div>\n",
              "            <script src=\"https://cdnjs.cloudflare.com/ajax/libs/mathjax/2.7.5/MathJax.js?config=TeX-AMS-MML_SVG\"></script><script type=\"text/javascript\">if (window.MathJax) {MathJax.Hub.Config({SVG: {font: \"STIX-Web\"}});}</script>\n",
              "                <script type=\"text/javascript\">window.PlotlyConfig = {MathJaxConfig: 'local'};</script>\n",
              "        <script src=\"https://cdn.plot.ly/plotly-latest.min.js\"></script>    \n",
              "            <div id=\"56c0e30d-35ba-4eed-ac32-bfb62b8275a3\" class=\"plotly-graph-div\" style=\"height:525px; width:100%;\"></div>\n",
              "            <script type=\"text/javascript\">\n",
              "                \n",
              "                    window.PLOTLYENV=window.PLOTLYENV || {};\n",
              "                    \n",
              "                if (document.getElementById(\"56c0e30d-35ba-4eed-ac32-bfb62b8275a3\")) {\n",
              "                    Plotly.newPlot(\n",
              "                        '56c0e30d-35ba-4eed-ac32-bfb62b8275a3',\n",
              "                        [{\"hoverlabel\": {\"namelength\": 0}, \"hovertemplate\": \"stage=price_easing<br>local_date=%{x}<br>delta=%{text}\", \"legendgroup\": \"stage=price_easing\", \"line\": {\"color\": \"#636efa\", \"dash\": \"solid\"}, \"mode\": \"lines+markers+text\", \"name\": \"stage=price_easing\", \"showlegend\": true, \"text\": [\"-1.28%\", \"-36.36%\", \"-30.77%\", \"0.32%\", \"61.54%\", \"-3.81%\", \"-4.04%\", \"15.38%\", \"20.69%\", \"-2.63%\", \"0.86%\", \"8.07%\", \"16.98%\", \"8.08%\", \"16.07%\", \"100.00%\", \"-13.16%\", \"34.62%\", \"6.45%\", \"11.33%\", \"13.87%\"], \"type\": \"scatter\", \"x\": [\"2020-09-04\", \"2020-09-05\", \"2020-09-06\", \"2020-09-07\", \"2020-09-08\", \"2020-09-09\", \"2020-09-10\", \"2020-09-11\", \"2020-09-12\", \"2020-09-13\", \"2020-09-14\", \"2020-09-15\", \"2020-09-16\", \"2020-09-17\", \"2020-09-18\", \"2020-09-19\", \"2020-09-20\", \"2020-09-21\", \"2020-09-22\", \"2020-09-23\", \"2020-09-24\"], \"xaxis\": \"x\", \"y\": [\"-1.28%\", \"-36.36%\", \"-30.77%\", \"0.32%\", \"61.54%\", \"-3.81%\", \"-4.04%\", \"15.38%\", \"20.69%\", \"-2.63%\", \"0.86%\", \"8.07%\", \"16.98%\", \"8.08%\", \"16.07%\", \"100.00%\", \"-13.16%\", \"34.62%\", \"6.45%\", \"11.33%\", \"13.87%\"], \"yaxis\": \"y\"}, {\"hoverlabel\": {\"namelength\": 0}, \"hovertemplate\": \"stage=default<br>local_date=%{x}<br>delta=%{text}\", \"legendgroup\": \"stage=default\", \"line\": {\"color\": \"#EF553B\", \"dash\": \"solid\"}, \"mode\": \"lines+markers+text\", \"name\": \"stage=default\", \"showlegend\": true, \"text\": [\"7.80%\", \"-17.00%\", \"-0.23%\", \"0.05%\", \"-0.20%\", \"-1.09%\", \"-3.75%\", \"1.45%\", \"2.39%\", \"-6.15%\", \"-2.02%\", \"1.60%\", \"-1.59%\", \"-0.11%\", \"-3.07%\", \"5.70%\", \"3.59%\", \"2.59%\", \"5.28%\", \"-1.01%\", \"3.71%\"], \"type\": \"scatter\", \"x\": [\"2020-09-04\", \"2020-09-05\", \"2020-09-06\", \"2020-09-07\", \"2020-09-08\", \"2020-09-09\", \"2020-09-10\", \"2020-09-11\", \"2020-09-12\", \"2020-09-13\", \"2020-09-14\", \"2020-09-15\", \"2020-09-16\", \"2020-09-17\", \"2020-09-18\", \"2020-09-19\", \"2020-09-20\", \"2020-09-21\", \"2020-09-22\", \"2020-09-23\", \"2020-09-24\"], \"xaxis\": \"x\", \"y\": [\"7.80%\", \"-17.00%\", \"-0.23%\", \"0.05%\", \"-0.20%\", \"-1.09%\", \"-3.75%\", \"1.45%\", \"2.39%\", \"-6.15%\", \"-2.02%\", \"1.60%\", \"-1.59%\", \"-0.11%\", \"-3.07%\", \"5.70%\", \"3.59%\", \"2.59%\", \"5.28%\", \"-1.01%\", \"3.71%\"], \"yaxis\": \"y\"}, {\"hoverlabel\": {\"namelength\": 0}, \"hovertemplate\": \"stage=surge1<br>local_date=%{x}<br>delta=%{text}\", \"legendgroup\": \"stage=surge1\", \"line\": {\"color\": \"#00cc96\", \"dash\": \"solid\"}, \"mode\": \"lines+markers+text\", \"name\": \"stage=surge1\", \"showlegend\": true, \"text\": [\"-6.16%\", \"-8.75%\", \"-11.95%\", \"-6.18%\", \"-5.70%\", \"0.47%\", \"-5.57%\", \"-4.89%\", \"-5.40%\", \"-3.51%\", \"-7.02%\", \"-7.14%\", \"-7.49%\", \"1.18%\", \"-6.30%\", \"-11.39%\", \"-6.84%\", \"-4.62%\", \"-30.95%\", \"14.29%\", \"-60.00%\"], \"type\": \"scatter\", \"x\": [\"2020-09-04\", \"2020-09-05\", \"2020-09-06\", \"2020-09-07\", \"2020-09-08\", \"2020-09-09\", \"2020-09-10\", \"2020-09-11\", \"2020-09-12\", \"2020-09-13\", \"2020-09-14\", \"2020-09-15\", \"2020-09-16\", \"2020-09-17\", \"2020-09-18\", \"2020-09-19\", \"2020-09-20\", \"2020-09-21\", \"2020-09-22\", \"2020-09-23\", \"2020-09-24\"], \"xaxis\": \"x\", \"y\": [\"-6.16%\", \"-8.75%\", \"-11.95%\", \"-6.18%\", \"-5.70%\", \"0.47%\", \"-5.57%\", \"-4.89%\", \"-5.40%\", \"-3.51%\", \"-7.02%\", \"-7.14%\", \"-7.49%\", \"1.18%\", \"-6.30%\", \"-11.39%\", \"-6.84%\", \"-4.62%\", \"-30.95%\", \"14.29%\", \"-60.00%\"], \"yaxis\": \"y\"}, {\"hoverlabel\": {\"namelength\": 0}, \"hovertemplate\": \"stage=surge_shrink1<br>local_date=%{x}<br>delta=%{text}\", \"legendgroup\": \"stage=surge_shrink1\", \"line\": {\"color\": \"#ab63fa\", \"dash\": \"solid\"}, \"mode\": \"lines+markers+text\", \"name\": \"stage=surge_shrink1\", \"showlegend\": true, \"text\": [\"17.39%\", \"-14.37%\", \"-12.42%\", \"50.00%\", \"nan%\", \"nan%\", \"5.56%\", \"-22.87%\", \"-11.85%\", \"-26.60%\", \"nan%\", \"nan%\", \"6.67%\", \"6.82%\", \"-35.71%\", \"nan%\"], \"type\": \"scatter\", \"x\": [\"2020-09-04\", \"2020-09-05\", \"2020-09-06\", \"2020-09-07\", \"2020-09-08\", \"2020-09-09\", \"2020-09-11\", \"2020-09-12\", \"2020-09-13\", \"2020-09-14\", \"2020-09-15\", \"2020-09-16\", \"2020-09-19\", \"2020-09-20\", \"2020-09-21\", \"2020-09-22\"], \"xaxis\": \"x\", \"y\": [\"17.39%\", \"-14.37%\", \"-12.42%\", \"50.00%\", \"nan%\", \"nan%\", \"5.56%\", \"-22.87%\", \"-11.85%\", \"-26.60%\", \"nan%\", \"nan%\", \"6.67%\", \"6.82%\", \"-35.71%\", \"nan%\"], \"yaxis\": \"y\"}, {\"hoverlabel\": {\"namelength\": 0}, \"hovertemplate\": \"stage=shrink2<br>local_date=%{x}<br>delta=%{text}\", \"legendgroup\": \"stage=shrink2\", \"line\": {\"color\": \"#FFA15A\", \"dash\": \"solid\"}, \"mode\": \"lines+markers+text\", \"name\": \"stage=shrink2\", \"showlegend\": true, \"text\": [\"-9.31%\", \"-5.26%\", \"nan%\", \"150.00%\", \"-17.43%\", \"nan%\"], \"type\": \"scatter\", \"x\": [\"2020-09-05\", \"2020-09-06\", \"2020-09-07\", \"2020-09-11\", \"2020-09-13\", \"2020-09-14\"], \"xaxis\": \"x\", \"y\": [\"-9.31%\", \"-5.26%\", \"nan%\", \"150.00%\", \"-17.43%\", \"nan%\"], \"yaxis\": \"y\"}],\n",
              "                        {\"legend\": {\"tracegroupgap\": 0}, \"margin\": {\"t\": 60}, \"template\": {\"data\": {\"bar\": [{\"error_x\": {\"color\": \"#2a3f5f\"}, \"error_y\": {\"color\": \"#2a3f5f\"}, \"marker\": {\"line\": {\"color\": \"#E5ECF6\", \"width\": 0.5}}, \"type\": \"bar\"}], \"barpolar\": [{\"marker\": {\"line\": {\"color\": \"#E5ECF6\", \"width\": 0.5}}, \"type\": \"barpolar\"}], \"carpet\": [{\"aaxis\": {\"endlinecolor\": \"#2a3f5f\", \"gridcolor\": \"white\", \"linecolor\": \"white\", \"minorgridcolor\": \"white\", \"startlinecolor\": \"#2a3f5f\"}, \"baxis\": {\"endlinecolor\": \"#2a3f5f\", \"gridcolor\": \"white\", \"linecolor\": \"white\", \"minorgridcolor\": \"white\", \"startlinecolor\": \"#2a3f5f\"}, \"type\": \"carpet\"}], \"choropleth\": [{\"colorbar\": {\"outlinewidth\": 0, \"ticks\": \"\"}, \"type\": \"choropleth\"}], \"contour\": [{\"colorbar\": {\"outlinewidth\": 0, \"ticks\": \"\"}, \"colorscale\": [[0.0, \"#0d0887\"], [0.1111111111111111, \"#46039f\"], [0.2222222222222222, \"#7201a8\"], [0.3333333333333333, \"#9c179e\"], [0.4444444444444444, \"#bd3786\"], [0.5555555555555556, \"#d8576b\"], [0.6666666666666666, \"#ed7953\"], [0.7777777777777778, \"#fb9f3a\"], [0.8888888888888888, \"#fdca26\"], [1.0, \"#f0f921\"]], \"type\": \"contour\"}], \"contourcarpet\": [{\"colorbar\": {\"outlinewidth\": 0, \"ticks\": \"\"}, \"type\": \"contourcarpet\"}], \"heatmap\": [{\"colorbar\": {\"outlinewidth\": 0, \"ticks\": \"\"}, \"colorscale\": [[0.0, \"#0d0887\"], [0.1111111111111111, \"#46039f\"], [0.2222222222222222, \"#7201a8\"], [0.3333333333333333, \"#9c179e\"], [0.4444444444444444, \"#bd3786\"], [0.5555555555555556, \"#d8576b\"], [0.6666666666666666, \"#ed7953\"], [0.7777777777777778, \"#fb9f3a\"], [0.8888888888888888, \"#fdca26\"], [1.0, \"#f0f921\"]], \"type\": \"heatmap\"}], \"heatmapgl\": [{\"colorbar\": {\"outlinewidth\": 0, \"ticks\": \"\"}, \"colorscale\": [[0.0, \"#0d0887\"], [0.1111111111111111, \"#46039f\"], [0.2222222222222222, \"#7201a8\"], [0.3333333333333333, \"#9c179e\"], [0.4444444444444444, \"#bd3786\"], [0.5555555555555556, \"#d8576b\"], [0.6666666666666666, \"#ed7953\"], [0.7777777777777778, \"#fb9f3a\"], [0.8888888888888888, \"#fdca26\"], [1.0, \"#f0f921\"]], \"type\": \"heatmapgl\"}], \"histogram\": [{\"marker\": {\"colorbar\": {\"outlinewidth\": 0, \"ticks\": \"\"}}, \"type\": \"histogram\"}], \"histogram2d\": [{\"colorbar\": {\"outlinewidth\": 0, \"ticks\": \"\"}, \"colorscale\": [[0.0, \"#0d0887\"], [0.1111111111111111, \"#46039f\"], [0.2222222222222222, \"#7201a8\"], [0.3333333333333333, \"#9c179e\"], [0.4444444444444444, \"#bd3786\"], [0.5555555555555556, \"#d8576b\"], [0.6666666666666666, \"#ed7953\"], [0.7777777777777778, \"#fb9f3a\"], [0.8888888888888888, \"#fdca26\"], [1.0, \"#f0f921\"]], \"type\": \"histogram2d\"}], \"histogram2dcontour\": [{\"colorbar\": {\"outlinewidth\": 0, \"ticks\": \"\"}, \"colorscale\": [[0.0, \"#0d0887\"], [0.1111111111111111, \"#46039f\"], [0.2222222222222222, \"#7201a8\"], [0.3333333333333333, \"#9c179e\"], [0.4444444444444444, \"#bd3786\"], [0.5555555555555556, \"#d8576b\"], [0.6666666666666666, \"#ed7953\"], [0.7777777777777778, \"#fb9f3a\"], [0.8888888888888888, \"#fdca26\"], [1.0, \"#f0f921\"]], \"type\": \"histogram2dcontour\"}], \"mesh3d\": [{\"colorbar\": {\"outlinewidth\": 0, \"ticks\": \"\"}, \"type\": \"mesh3d\"}], \"parcoords\": [{\"line\": {\"colorbar\": {\"outlinewidth\": 0, \"ticks\": \"\"}}, \"type\": \"parcoords\"}], \"pie\": [{\"automargin\": true, \"type\": \"pie\"}], \"scatter\": [{\"marker\": {\"colorbar\": {\"outlinewidth\": 0, \"ticks\": \"\"}}, \"type\": \"scatter\"}], \"scatter3d\": [{\"line\": {\"colorbar\": {\"outlinewidth\": 0, \"ticks\": \"\"}}, \"marker\": {\"colorbar\": {\"outlinewidth\": 0, \"ticks\": \"\"}}, \"type\": \"scatter3d\"}], \"scattercarpet\": [{\"marker\": {\"colorbar\": {\"outlinewidth\": 0, \"ticks\": \"\"}}, \"type\": \"scattercarpet\"}], \"scattergeo\": [{\"marker\": {\"colorbar\": {\"outlinewidth\": 0, \"ticks\": \"\"}}, \"type\": \"scattergeo\"}], \"scattergl\": [{\"marker\": {\"colorbar\": {\"outlinewidth\": 0, \"ticks\": \"\"}}, \"type\": \"scattergl\"}], \"scattermapbox\": [{\"marker\": {\"colorbar\": {\"outlinewidth\": 0, \"ticks\": \"\"}}, \"type\": \"scattermapbox\"}], \"scatterpolar\": [{\"marker\": {\"colorbar\": {\"outlinewidth\": 0, \"ticks\": \"\"}}, \"type\": \"scatterpolar\"}], \"scatterpolargl\": [{\"marker\": {\"colorbar\": {\"outlinewidth\": 0, \"ticks\": \"\"}}, \"type\": \"scatterpolargl\"}], \"scatterternary\": [{\"marker\": {\"colorbar\": {\"outlinewidth\": 0, \"ticks\": \"\"}}, \"type\": \"scatterternary\"}], \"surface\": [{\"colorbar\": {\"outlinewidth\": 0, \"ticks\": \"\"}, \"colorscale\": [[0.0, \"#0d0887\"], [0.1111111111111111, \"#46039f\"], [0.2222222222222222, \"#7201a8\"], [0.3333333333333333, \"#9c179e\"], [0.4444444444444444, \"#bd3786\"], [0.5555555555555556, \"#d8576b\"], [0.6666666666666666, \"#ed7953\"], [0.7777777777777778, \"#fb9f3a\"], [0.8888888888888888, \"#fdca26\"], [1.0, \"#f0f921\"]], \"type\": \"surface\"}], \"table\": [{\"cells\": {\"fill\": {\"color\": \"#EBF0F8\"}, \"line\": {\"color\": \"white\"}}, \"header\": {\"fill\": {\"color\": \"#C8D4E3\"}, \"line\": {\"color\": \"white\"}}, \"type\": \"table\"}]}, \"layout\": {\"annotationdefaults\": {\"arrowcolor\": \"#2a3f5f\", \"arrowhead\": 0, \"arrowwidth\": 1}, \"coloraxis\": {\"colorbar\": {\"outlinewidth\": 0, \"ticks\": \"\"}}, \"colorscale\": {\"diverging\": [[0, \"#8e0152\"], [0.1, \"#c51b7d\"], [0.2, \"#de77ae\"], [0.3, \"#f1b6da\"], [0.4, \"#fde0ef\"], [0.5, \"#f7f7f7\"], [0.6, \"#e6f5d0\"], [0.7, \"#b8e186\"], [0.8, \"#7fbc41\"], [0.9, \"#4d9221\"], [1, \"#276419\"]], \"sequential\": [[0.0, \"#0d0887\"], [0.1111111111111111, \"#46039f\"], [0.2222222222222222, \"#7201a8\"], [0.3333333333333333, \"#9c179e\"], [0.4444444444444444, \"#bd3786\"], [0.5555555555555556, \"#d8576b\"], [0.6666666666666666, \"#ed7953\"], [0.7777777777777778, \"#fb9f3a\"], [0.8888888888888888, \"#fdca26\"], [1.0, \"#f0f921\"]], \"sequentialminus\": [[0.0, \"#0d0887\"], [0.1111111111111111, \"#46039f\"], [0.2222222222222222, \"#7201a8\"], [0.3333333333333333, \"#9c179e\"], [0.4444444444444444, \"#bd3786\"], [0.5555555555555556, \"#d8576b\"], [0.6666666666666666, \"#ed7953\"], [0.7777777777777778, \"#fb9f3a\"], [0.8888888888888888, \"#fdca26\"], [1.0, \"#f0f921\"]]}, \"colorway\": [\"#636efa\", \"#EF553B\", \"#00cc96\", \"#ab63fa\", \"#FFA15A\", \"#19d3f3\", \"#FF6692\", \"#B6E880\", \"#FF97FF\", \"#FECB52\"], \"font\": {\"color\": \"#2a3f5f\"}, \"geo\": {\"bgcolor\": \"white\", \"lakecolor\": \"white\", \"landcolor\": \"#E5ECF6\", \"showlakes\": true, \"showland\": true, \"subunitcolor\": \"white\"}, \"hoverlabel\": {\"align\": \"left\"}, \"hovermode\": \"closest\", \"mapbox\": {\"style\": \"light\"}, \"paper_bgcolor\": \"white\", \"plot_bgcolor\": \"#E5ECF6\", \"polar\": {\"angularaxis\": {\"gridcolor\": \"white\", \"linecolor\": \"white\", \"ticks\": \"\"}, \"bgcolor\": \"#E5ECF6\", \"radialaxis\": {\"gridcolor\": \"white\", \"linecolor\": \"white\", \"ticks\": \"\"}}, \"scene\": {\"xaxis\": {\"backgroundcolor\": \"#E5ECF6\", \"gridcolor\": \"white\", \"gridwidth\": 2, \"linecolor\": \"white\", \"showbackground\": true, \"ticks\": \"\", \"zerolinecolor\": \"white\"}, \"yaxis\": {\"backgroundcolor\": \"#E5ECF6\", \"gridcolor\": \"white\", \"gridwidth\": 2, \"linecolor\": \"white\", \"showbackground\": true, \"ticks\": \"\", \"zerolinecolor\": \"white\"}, \"zaxis\": {\"backgroundcolor\": \"#E5ECF6\", \"gridcolor\": \"white\", \"gridwidth\": 2, \"linecolor\": \"white\", \"showbackground\": true, \"ticks\": \"\", \"zerolinecolor\": \"white\"}}, \"shapedefaults\": {\"line\": {\"color\": \"#2a3f5f\"}}, \"ternary\": {\"aaxis\": {\"gridcolor\": \"white\", \"linecolor\": \"white\", \"ticks\": \"\"}, \"baxis\": {\"gridcolor\": \"white\", \"linecolor\": \"white\", \"ticks\": \"\"}, \"bgcolor\": \"#E5ECF6\", \"caxis\": {\"gridcolor\": \"white\", \"linecolor\": \"white\", \"ticks\": \"\"}}, \"title\": {\"x\": 0.05}, \"xaxis\": {\"automargin\": true, \"gridcolor\": \"white\", \"linecolor\": \"white\", \"ticks\": \"\", \"title\": {\"standoff\": 15}, \"zerolinecolor\": \"white\", \"zerolinewidth\": 2}, \"yaxis\": {\"automargin\": true, \"gridcolor\": \"white\", \"linecolor\": \"white\", \"ticks\": \"\", \"title\": {\"standoff\": 15}, \"zerolinecolor\": \"white\", \"zerolinewidth\": 2}}}, \"xaxis\": {\"anchor\": \"y\", \"domain\": [0.0, 1.0], \"title\": {\"text\": \"Date\"}}, \"yaxis\": {\"anchor\": \"x\", \"domain\": [0.0, 1.0], \"showgrid\": false, \"title\": {\"text\": \"delta (variation1 vs control)\"}}},\n",
              "                        {\"responsive\": true}\n",
              "                    ).then(function(){\n",
              "                            \n",
              "var gd = document.getElementById('56c0e30d-35ba-4eed-ac32-bfb62b8275a3');\n",
              "var x = new MutationObserver(function (mutations, observer) {{\n",
              "        var display = window.getComputedStyle(gd).display;\n",
              "        if (!display || display === 'none') {{\n",
              "            console.log([gd, 'removed!']);\n",
              "            Plotly.purge(gd);\n",
              "            observer.disconnect();\n",
              "        }}\n",
              "}});\n",
              "\n",
              "// Listen for the removal of the full notebook cells\n",
              "var notebookContainer = gd.closest('#notebook-container');\n",
              "if (notebookContainer) {{\n",
              "    x.observe(notebookContainer, {childList: true});\n",
              "}}\n",
              "\n",
              "// Listen for the clearing of the current output cell\n",
              "var outputEl = gd.closest('.output');\n",
              "if (outputEl) {{\n",
              "    x.observe(outputEl, {childList: true});\n",
              "}}\n",
              "\n",
              "                        })\n",
              "                };\n",
              "                \n",
              "            </script>\n",
              "        </div>\n",
              "</body>\n",
              "</html>"
            ]
          },
          "metadata": {
            "tags": []
          }
        }
      ]
    },
    {
      "cell_type": "code",
      "metadata": {
        "id": "4kDPE7M2wXIb",
        "colab": {
          "base_uri": "https://localhost:8080/",
          "height": 542
        },
        "outputId": "c39c6b5d-e64f-44d6-98ef-04dc263d0e2e"
      },
      "source": [
        "pivot = df.pivot_table(\"platform_order_code_ga\", index=[\"stage\",\"new_time\"], columns =\"variant\", aggfunc = \"count\").reset_index()\n",
        "#pivot[\"delta\"] = pivot[\"Variation1\"]/pivot[\"Control\"]-1\n",
        "#pivot['delta'] = pivot['delta'].astype(float).map(lambda n: '{:.2%}'.format(n))\n",
        "fig = px.bar(pivot, x=\"new_time\", y=\"Variation1\", color=\"stage\", title=\"Order distribution in Variation\")\n",
        "fig.show()"
      ],
      "execution_count": null,
      "outputs": [
        {
          "output_type": "display_data",
          "data": {
            "text/html": [
              "<html>\n",
              "<head><meta charset=\"utf-8\" /></head>\n",
              "<body>\n",
              "    <div>\n",
              "            <script src=\"https://cdnjs.cloudflare.com/ajax/libs/mathjax/2.7.5/MathJax.js?config=TeX-AMS-MML_SVG\"></script><script type=\"text/javascript\">if (window.MathJax) {MathJax.Hub.Config({SVG: {font: \"STIX-Web\"}});}</script>\n",
              "                <script type=\"text/javascript\">window.PlotlyConfig = {MathJaxConfig: 'local'};</script>\n",
              "        <script src=\"https://cdn.plot.ly/plotly-latest.min.js\"></script>    \n",
              "            <div id=\"6c7fec35-24fb-4b83-ae85-2e6b74e346a3\" class=\"plotly-graph-div\" style=\"height:525px; width:100%;\"></div>\n",
              "            <script type=\"text/javascript\">\n",
              "                \n",
              "                    window.PLOTLYENV=window.PLOTLYENV || {};\n",
              "                    \n",
              "                if (document.getElementById(\"6c7fec35-24fb-4b83-ae85-2e6b74e346a3\")) {\n",
              "                    Plotly.newPlot(\n",
              "                        '6c7fec35-24fb-4b83-ae85-2e6b74e346a3',\n",
              "                        [{\"alignmentgroup\": \"True\", \"hoverlabel\": {\"namelength\": 0}, \"hovertemplate\": \"stage=default<br>new_time=%{x}<br>Variation1=%{y}\", \"legendgroup\": \"stage=default\", \"marker\": {\"color\": \"#636efa\"}, \"name\": \"stage=default\", \"offsetgroup\": \"stage=default\", \"orientation\": \"v\", \"showlegend\": true, \"textposition\": \"auto\", \"type\": \"bar\", \"x\": [\"00:00:00\", \"00:30:00\", \"01:00:00\", \"01:30:00\", \"02:00:00\", \"02:30:00\", \"03:00:00\", \"03:30:00\", \"04:00:00\", \"04:30:00\", \"05:00:00\", \"05:30:00\", \"06:00:00\", \"06:30:00\", \"07:00:00\", \"07:30:00\", \"08:00:00\", \"08:30:00\", \"09:00:00\", \"09:30:00\", \"10:00:00\", \"10:30:00\", \"11:00:00\", \"11:30:00\", \"12:00:00\", \"12:30:00\", \"13:00:00\", \"13:30:00\", \"14:00:00\", \"14:30:00\", \"15:00:00\", \"15:30:00\", \"16:00:00\", \"16:30:00\", \"17:00:00\", \"17:30:00\", \"18:00:00\", \"18:30:00\", \"19:00:00\", \"19:30:00\", \"20:00:00\", \"20:30:00\", \"21:00:00\", \"21:30:00\", \"22:00:00\", \"22:30:00\", \"23:00:00\", \"23:30:00\"], \"xaxis\": \"x\", \"y\": [274.0, 305.0, 208.0, 199.0, 152.0, 147.0, 109.0, 87.0, 73.0, 28.0, 29.0, 25.0, 29.0, 49.0, 79.0, 152.0, 193.0, 394.0, 473.0, 636.0, 804.0, 1049.0, 1412.0, 2610.0, 1881.0, 1170.0, 1001.0, 1276.0, 1303.0, 1242.0, 1047.0, 1098.0, 1059.0, 1286.0, 1341.0, 1581.0, 2014.0, 2272.0, 2025.0, 2004.0, 1806.0, 1482.0, 1155.0, 915.0, 667.0, 515.0, 417.0, 281.0], \"yaxis\": \"y\"}, {\"alignmentgroup\": \"True\", \"hoverlabel\": {\"namelength\": 0}, \"hovertemplate\": \"stage=price_easing<br>new_time=%{x}<br>Variation1=%{y}\", \"legendgroup\": \"stage=price_easing\", \"marker\": {\"color\": \"#EF553B\"}, \"name\": \"stage=price_easing\", \"offsetgroup\": \"stage=price_easing\", \"orientation\": \"v\", \"showlegend\": true, \"textposition\": \"auto\", \"type\": \"bar\", \"x\": [\"00:00:00\", \"00:30:00\", \"01:00:00\", \"01:30:00\", \"02:00:00\", \"02:30:00\", \"03:00:00\", \"03:30:00\", \"04:00:00\", \"04:30:00\", \"05:00:00\", \"05:30:00\", \"06:00:00\", \"06:30:00\", \"07:00:00\", \"07:30:00\", \"08:00:00\", \"08:30:00\", \"09:00:00\", \"09:30:00\", \"10:00:00\", \"10:30:00\", \"11:00:00\", \"11:30:00\", \"12:00:00\", \"12:30:00\", \"13:00:00\", \"13:30:00\", \"14:00:00\", \"14:30:00\", \"15:00:00\", \"15:30:00\", \"16:00:00\", \"16:30:00\", \"17:00:00\", \"17:30:00\", \"18:00:00\", \"18:30:00\", \"19:00:00\", \"19:30:00\", \"20:00:00\", \"20:30:00\", \"21:00:00\", \"21:30:00\", \"22:00:00\", \"22:30:00\", \"23:00:00\", \"23:30:00\"], \"xaxis\": \"x\", \"y\": [31.0, 79.0, 104.0, 81.0, 44.0, 41.0, 27.0, 24.0, 27.0, 19.0, 16.0, 13.0, 5.0, 8.0, 17.0, 39.0, 82.0, 65.0, 12.0, 29.0, 74.0, 45.0, 177.0, 218.0, 9.0, 3.0, 1.0, null, 1.0, 6.0, 56.0, 61.0, 54.0, 36.0, 114.0, 239.0, 302.0, 196.0, 97.0, 96.0, 64.0, 95.0, 91.0, 43.0, 30.0, 18.0, 14.0, 1.0], \"yaxis\": \"y\"}, {\"alignmentgroup\": \"True\", \"hoverlabel\": {\"namelength\": 0}, \"hovertemplate\": \"stage=shrink2<br>new_time=%{x}<br>Variation1=%{y}\", \"legendgroup\": \"stage=shrink2\", \"marker\": {\"color\": \"#00cc96\"}, \"name\": \"stage=shrink2\", \"offsetgroup\": \"stage=shrink2\", \"orientation\": \"v\", \"showlegend\": true, \"textposition\": \"auto\", \"type\": \"bar\", \"x\": [\"01:30:00\", \"02:00:00\", \"02:30:00\", \"03:00:00\", \"05:30:00\", \"06:00:00\", \"07:00:00\", \"07:30:00\", \"08:30:00\", \"09:30:00\", \"10:00:00\", \"10:30:00\", \"11:00:00\", \"11:30:00\", \"12:00:00\", \"12:30:00\", \"13:00:00\", \"13:30:00\", \"14:00:00\", \"14:30:00\", \"15:00:00\", \"15:30:00\", \"16:00:00\", \"16:30:00\", \"17:00:00\", \"17:30:00\", \"18:00:00\", \"18:30:00\", \"19:00:00\", \"19:30:00\", \"20:00:00\", \"20:30:00\", \"21:00:00\", \"22:00:00\", \"22:30:00\", \"23:00:00\"], \"xaxis\": \"x\", \"y\": [null, 3.0, 1.0, 1.0, null, 1.0, null, 1.0, null, 1.0, 7.0, 8.0, 1.0, 20.0, 36.0, 49.0, 37.0, 60.0, 54.0, 34.0, 10.0, 21.0, 31.0, 29.0, 15.0, 46.0, 52.0, 46.0, 45.0, 56.0, 31.0, 7.0, 1.0, 4.0, null, null], \"yaxis\": \"y\"}, {\"alignmentgroup\": \"True\", \"hoverlabel\": {\"namelength\": 0}, \"hovertemplate\": \"stage=surge1<br>new_time=%{x}<br>Variation1=%{y}\", \"legendgroup\": \"stage=surge1\", \"marker\": {\"color\": \"#ab63fa\"}, \"name\": \"stage=surge1\", \"offsetgroup\": \"stage=surge1\", \"orientation\": \"v\", \"showlegend\": true, \"textposition\": \"auto\", \"type\": \"bar\", \"x\": [\"00:00:00\", \"00:30:00\", \"01:00:00\", \"01:30:00\", \"02:00:00\", \"02:30:00\", \"03:00:00\", \"03:30:00\", \"04:00:00\", \"04:30:00\", \"05:00:00\", \"05:30:00\", \"06:00:00\", \"06:30:00\", \"07:00:00\", \"07:30:00\", \"08:00:00\", \"08:30:00\", \"09:00:00\", \"09:30:00\", \"10:00:00\", \"10:30:00\", \"11:00:00\", \"11:30:00\", \"12:00:00\", \"12:30:00\", \"13:00:00\", \"13:30:00\", \"14:00:00\", \"14:30:00\", \"15:00:00\", \"15:30:00\", \"16:00:00\", \"16:30:00\", \"17:00:00\", \"17:30:00\", \"18:00:00\", \"18:30:00\", \"19:00:00\", \"19:30:00\", \"20:00:00\", \"20:30:00\", \"21:00:00\", \"21:30:00\", \"22:00:00\", \"22:30:00\", \"23:00:00\", \"23:30:00\"], \"xaxis\": \"x\", \"y\": [186.0, 49.0, 27.0, 22.0, 14.0, 26.0, 14.0, 4.0, 4.0, 3.0, 4.0, 3.0, 6.0, 3.0, 8.0, 6.0, 14.0, 96.0, 193.0, 156.0, 177.0, 156.0, 88.0, 212.0, 1435.0, 2075.0, 1579.0, 835.0, 438.0, 571.0, 459.0, 356.0, 314.0, 251.0, 441.0, 368.0, 446.0, 532.0, 1010.0, 1010.0, 951.0, 855.0, 652.0, 422.0, 292.0, 243.0, 219.0, 279.0], \"yaxis\": \"y\"}, {\"alignmentgroup\": \"True\", \"hoverlabel\": {\"namelength\": 0}, \"hovertemplate\": \"stage=surge_shrink1<br>new_time=%{x}<br>Variation1=%{y}\", \"legendgroup\": \"stage=surge_shrink1\", \"marker\": {\"color\": \"#FFA15A\"}, \"name\": \"stage=surge_shrink1\", \"offsetgroup\": \"stage=surge_shrink1\", \"orientation\": \"v\", \"showlegend\": true, \"textposition\": \"auto\", \"type\": \"bar\", \"x\": [\"00:00:00\", \"00:30:00\", \"02:00:00\", \"02:30:00\", \"03:00:00\", \"04:00:00\", \"04:30:00\", \"05:00:00\", \"05:30:00\", \"06:00:00\", \"06:30:00\", \"07:00:00\", \"08:00:00\", \"08:30:00\", \"09:00:00\", \"09:30:00\", \"10:00:00\", \"10:30:00\", \"11:00:00\", \"11:30:00\", \"12:00:00\", \"12:30:00\", \"13:00:00\", \"13:30:00\", \"14:00:00\", \"14:30:00\", \"15:00:00\", \"15:30:00\", \"16:00:00\", \"16:30:00\", \"17:00:00\", \"17:30:00\", \"18:00:00\", \"18:30:00\", \"19:00:00\", \"19:30:00\", \"20:00:00\", \"20:30:00\", \"21:00:00\", \"21:30:00\", \"22:00:00\", \"22:30:00\", \"23:00:00\", \"23:30:00\"], \"xaxis\": \"x\", \"y\": [4.0, 1.0, null, 3.0, 2.0, 2.0, null, null, 1.0, 2.0, 1.0, null, 1.0, 4.0, 5.0, 44.0, 26.0, 23.0, 21.0, 54.0, 141.0, 148.0, 256.0, 208.0, 165.0, 104.0, 124.0, 154.0, 112.0, 80.0, 95.0, 189.0, 175.0, 343.0, 239.0, 149.0, 161.0, 89.0, 113.0, 52.0, 29.0, 34.0, 32.0, 20.0], \"yaxis\": \"y\"}],\n",
              "                        {\"barmode\": \"relative\", \"legend\": {\"tracegroupgap\": 0}, \"template\": {\"data\": {\"bar\": [{\"error_x\": {\"color\": \"#2a3f5f\"}, \"error_y\": {\"color\": \"#2a3f5f\"}, \"marker\": {\"line\": {\"color\": \"#E5ECF6\", \"width\": 0.5}}, \"type\": \"bar\"}], \"barpolar\": [{\"marker\": {\"line\": {\"color\": \"#E5ECF6\", \"width\": 0.5}}, \"type\": \"barpolar\"}], \"carpet\": [{\"aaxis\": {\"endlinecolor\": \"#2a3f5f\", \"gridcolor\": \"white\", \"linecolor\": \"white\", \"minorgridcolor\": \"white\", \"startlinecolor\": \"#2a3f5f\"}, \"baxis\": {\"endlinecolor\": \"#2a3f5f\", \"gridcolor\": \"white\", \"linecolor\": \"white\", \"minorgridcolor\": \"white\", \"startlinecolor\": \"#2a3f5f\"}, \"type\": \"carpet\"}], \"choropleth\": [{\"colorbar\": {\"outlinewidth\": 0, \"ticks\": \"\"}, \"type\": \"choropleth\"}], \"contour\": [{\"colorbar\": {\"outlinewidth\": 0, \"ticks\": \"\"}, \"colorscale\": [[0.0, \"#0d0887\"], [0.1111111111111111, \"#46039f\"], [0.2222222222222222, \"#7201a8\"], [0.3333333333333333, \"#9c179e\"], [0.4444444444444444, \"#bd3786\"], [0.5555555555555556, \"#d8576b\"], [0.6666666666666666, \"#ed7953\"], [0.7777777777777778, \"#fb9f3a\"], [0.8888888888888888, \"#fdca26\"], [1.0, \"#f0f921\"]], \"type\": \"contour\"}], \"contourcarpet\": [{\"colorbar\": {\"outlinewidth\": 0, \"ticks\": \"\"}, \"type\": \"contourcarpet\"}], \"heatmap\": [{\"colorbar\": {\"outlinewidth\": 0, \"ticks\": \"\"}, \"colorscale\": [[0.0, \"#0d0887\"], [0.1111111111111111, \"#46039f\"], [0.2222222222222222, \"#7201a8\"], [0.3333333333333333, \"#9c179e\"], [0.4444444444444444, \"#bd3786\"], [0.5555555555555556, \"#d8576b\"], [0.6666666666666666, \"#ed7953\"], [0.7777777777777778, \"#fb9f3a\"], [0.8888888888888888, \"#fdca26\"], [1.0, \"#f0f921\"]], \"type\": \"heatmap\"}], \"heatmapgl\": [{\"colorbar\": {\"outlinewidth\": 0, \"ticks\": \"\"}, \"colorscale\": [[0.0, \"#0d0887\"], [0.1111111111111111, \"#46039f\"], [0.2222222222222222, \"#7201a8\"], [0.3333333333333333, \"#9c179e\"], [0.4444444444444444, \"#bd3786\"], [0.5555555555555556, \"#d8576b\"], [0.6666666666666666, \"#ed7953\"], [0.7777777777777778, \"#fb9f3a\"], [0.8888888888888888, \"#fdca26\"], [1.0, \"#f0f921\"]], \"type\": \"heatmapgl\"}], \"histogram\": [{\"marker\": {\"colorbar\": {\"outlinewidth\": 0, \"ticks\": \"\"}}, \"type\": \"histogram\"}], \"histogram2d\": [{\"colorbar\": {\"outlinewidth\": 0, \"ticks\": \"\"}, \"colorscale\": [[0.0, \"#0d0887\"], [0.1111111111111111, \"#46039f\"], [0.2222222222222222, \"#7201a8\"], [0.3333333333333333, \"#9c179e\"], [0.4444444444444444, \"#bd3786\"], [0.5555555555555556, \"#d8576b\"], [0.6666666666666666, \"#ed7953\"], [0.7777777777777778, \"#fb9f3a\"], [0.8888888888888888, \"#fdca26\"], [1.0, \"#f0f921\"]], \"type\": \"histogram2d\"}], \"histogram2dcontour\": [{\"colorbar\": {\"outlinewidth\": 0, \"ticks\": \"\"}, \"colorscale\": [[0.0, \"#0d0887\"], [0.1111111111111111, \"#46039f\"], [0.2222222222222222, \"#7201a8\"], [0.3333333333333333, \"#9c179e\"], [0.4444444444444444, \"#bd3786\"], [0.5555555555555556, \"#d8576b\"], [0.6666666666666666, \"#ed7953\"], [0.7777777777777778, \"#fb9f3a\"], [0.8888888888888888, \"#fdca26\"], [1.0, \"#f0f921\"]], \"type\": \"histogram2dcontour\"}], \"mesh3d\": [{\"colorbar\": {\"outlinewidth\": 0, \"ticks\": \"\"}, \"type\": \"mesh3d\"}], \"parcoords\": [{\"line\": {\"colorbar\": {\"outlinewidth\": 0, \"ticks\": \"\"}}, \"type\": \"parcoords\"}], \"pie\": [{\"automargin\": true, \"type\": \"pie\"}], \"scatter\": [{\"marker\": {\"colorbar\": {\"outlinewidth\": 0, \"ticks\": \"\"}}, \"type\": \"scatter\"}], \"scatter3d\": [{\"line\": {\"colorbar\": {\"outlinewidth\": 0, \"ticks\": \"\"}}, \"marker\": {\"colorbar\": {\"outlinewidth\": 0, \"ticks\": \"\"}}, \"type\": \"scatter3d\"}], \"scattercarpet\": [{\"marker\": {\"colorbar\": {\"outlinewidth\": 0, \"ticks\": \"\"}}, \"type\": \"scattercarpet\"}], \"scattergeo\": [{\"marker\": {\"colorbar\": {\"outlinewidth\": 0, \"ticks\": \"\"}}, \"type\": \"scattergeo\"}], \"scattergl\": [{\"marker\": {\"colorbar\": {\"outlinewidth\": 0, \"ticks\": \"\"}}, \"type\": \"scattergl\"}], \"scattermapbox\": [{\"marker\": {\"colorbar\": {\"outlinewidth\": 0, \"ticks\": \"\"}}, \"type\": \"scattermapbox\"}], \"scatterpolar\": [{\"marker\": {\"colorbar\": {\"outlinewidth\": 0, \"ticks\": \"\"}}, \"type\": \"scatterpolar\"}], \"scatterpolargl\": [{\"marker\": {\"colorbar\": {\"outlinewidth\": 0, \"ticks\": \"\"}}, \"type\": \"scatterpolargl\"}], \"scatterternary\": [{\"marker\": {\"colorbar\": {\"outlinewidth\": 0, \"ticks\": \"\"}}, \"type\": \"scatterternary\"}], \"surface\": [{\"colorbar\": {\"outlinewidth\": 0, \"ticks\": \"\"}, \"colorscale\": [[0.0, \"#0d0887\"], [0.1111111111111111, \"#46039f\"], [0.2222222222222222, \"#7201a8\"], [0.3333333333333333, \"#9c179e\"], [0.4444444444444444, \"#bd3786\"], [0.5555555555555556, \"#d8576b\"], [0.6666666666666666, \"#ed7953\"], [0.7777777777777778, \"#fb9f3a\"], [0.8888888888888888, \"#fdca26\"], [1.0, \"#f0f921\"]], \"type\": \"surface\"}], \"table\": [{\"cells\": {\"fill\": {\"color\": \"#EBF0F8\"}, \"line\": {\"color\": \"white\"}}, \"header\": {\"fill\": {\"color\": \"#C8D4E3\"}, \"line\": {\"color\": \"white\"}}, \"type\": \"table\"}]}, \"layout\": {\"annotationdefaults\": {\"arrowcolor\": \"#2a3f5f\", \"arrowhead\": 0, \"arrowwidth\": 1}, \"coloraxis\": {\"colorbar\": {\"outlinewidth\": 0, \"ticks\": \"\"}}, \"colorscale\": {\"diverging\": [[0, \"#8e0152\"], [0.1, \"#c51b7d\"], [0.2, \"#de77ae\"], [0.3, \"#f1b6da\"], [0.4, \"#fde0ef\"], [0.5, \"#f7f7f7\"], [0.6, \"#e6f5d0\"], [0.7, \"#b8e186\"], [0.8, \"#7fbc41\"], [0.9, \"#4d9221\"], [1, \"#276419\"]], \"sequential\": [[0.0, \"#0d0887\"], [0.1111111111111111, \"#46039f\"], [0.2222222222222222, \"#7201a8\"], [0.3333333333333333, \"#9c179e\"], [0.4444444444444444, \"#bd3786\"], [0.5555555555555556, \"#d8576b\"], [0.6666666666666666, \"#ed7953\"], [0.7777777777777778, \"#fb9f3a\"], [0.8888888888888888, \"#fdca26\"], [1.0, \"#f0f921\"]], \"sequentialminus\": [[0.0, \"#0d0887\"], [0.1111111111111111, \"#46039f\"], [0.2222222222222222, \"#7201a8\"], [0.3333333333333333, \"#9c179e\"], [0.4444444444444444, \"#bd3786\"], [0.5555555555555556, \"#d8576b\"], [0.6666666666666666, \"#ed7953\"], [0.7777777777777778, \"#fb9f3a\"], [0.8888888888888888, \"#fdca26\"], [1.0, \"#f0f921\"]]}, \"colorway\": [\"#636efa\", \"#EF553B\", \"#00cc96\", \"#ab63fa\", \"#FFA15A\", \"#19d3f3\", \"#FF6692\", \"#B6E880\", \"#FF97FF\", \"#FECB52\"], \"font\": {\"color\": \"#2a3f5f\"}, \"geo\": {\"bgcolor\": \"white\", \"lakecolor\": \"white\", \"landcolor\": \"#E5ECF6\", \"showlakes\": true, \"showland\": true, \"subunitcolor\": \"white\"}, \"hoverlabel\": {\"align\": \"left\"}, \"hovermode\": \"closest\", \"mapbox\": {\"style\": \"light\"}, \"paper_bgcolor\": \"white\", \"plot_bgcolor\": \"#E5ECF6\", \"polar\": {\"angularaxis\": {\"gridcolor\": \"white\", \"linecolor\": \"white\", \"ticks\": \"\"}, \"bgcolor\": \"#E5ECF6\", \"radialaxis\": {\"gridcolor\": \"white\", \"linecolor\": \"white\", \"ticks\": \"\"}}, \"scene\": {\"xaxis\": {\"backgroundcolor\": \"#E5ECF6\", \"gridcolor\": \"white\", \"gridwidth\": 2, \"linecolor\": \"white\", \"showbackground\": true, \"ticks\": \"\", \"zerolinecolor\": \"white\"}, \"yaxis\": {\"backgroundcolor\": \"#E5ECF6\", \"gridcolor\": \"white\", \"gridwidth\": 2, \"linecolor\": \"white\", \"showbackground\": true, \"ticks\": \"\", \"zerolinecolor\": \"white\"}, \"zaxis\": {\"backgroundcolor\": \"#E5ECF6\", \"gridcolor\": \"white\", \"gridwidth\": 2, \"linecolor\": \"white\", \"showbackground\": true, \"ticks\": \"\", \"zerolinecolor\": \"white\"}}, \"shapedefaults\": {\"line\": {\"color\": \"#2a3f5f\"}}, \"ternary\": {\"aaxis\": {\"gridcolor\": \"white\", \"linecolor\": \"white\", \"ticks\": \"\"}, \"baxis\": {\"gridcolor\": \"white\", \"linecolor\": \"white\", \"ticks\": \"\"}, \"bgcolor\": \"#E5ECF6\", \"caxis\": {\"gridcolor\": \"white\", \"linecolor\": \"white\", \"ticks\": \"\"}}, \"title\": {\"x\": 0.05}, \"xaxis\": {\"automargin\": true, \"gridcolor\": \"white\", \"linecolor\": \"white\", \"ticks\": \"\", \"title\": {\"standoff\": 15}, \"zerolinecolor\": \"white\", \"zerolinewidth\": 2}, \"yaxis\": {\"automargin\": true, \"gridcolor\": \"white\", \"linecolor\": \"white\", \"ticks\": \"\", \"title\": {\"standoff\": 15}, \"zerolinecolor\": \"white\", \"zerolinewidth\": 2}}}, \"title\": {\"text\": \"Order distribution in Variation\"}, \"xaxis\": {\"anchor\": \"y\", \"domain\": [0.0, 1.0], \"title\": {\"text\": \"new_time\"}}, \"yaxis\": {\"anchor\": \"x\", \"domain\": [0.0, 1.0], \"title\": {\"text\": \"Variation1\"}}},\n",
              "                        {\"responsive\": true}\n",
              "                    ).then(function(){\n",
              "                            \n",
              "var gd = document.getElementById('6c7fec35-24fb-4b83-ae85-2e6b74e346a3');\n",
              "var x = new MutationObserver(function (mutations, observer) {{\n",
              "        var display = window.getComputedStyle(gd).display;\n",
              "        if (!display || display === 'none') {{\n",
              "            console.log([gd, 'removed!']);\n",
              "            Plotly.purge(gd);\n",
              "            observer.disconnect();\n",
              "        }}\n",
              "}});\n",
              "\n",
              "// Listen for the removal of the full notebook cells\n",
              "var notebookContainer = gd.closest('#notebook-container');\n",
              "if (notebookContainer) {{\n",
              "    x.observe(notebookContainer, {childList: true});\n",
              "}}\n",
              "\n",
              "// Listen for the clearing of the current output cell\n",
              "var outputEl = gd.closest('.output');\n",
              "if (outputEl) {{\n",
              "    x.observe(outputEl, {childList: true});\n",
              "}}\n",
              "\n",
              "                        })\n",
              "                };\n",
              "                \n",
              "            </script>\n",
              "        </div>\n",
              "</body>\n",
              "</html>"
            ]
          },
          "metadata": {
            "tags": []
          }
        }
      ]
    },
    {
      "cell_type": "code",
      "metadata": {
        "id": "LMQuulpxwJMy",
        "colab": {
          "base_uri": "https://localhost:8080/",
          "height": 542
        },
        "outputId": "5419626f-79a9-4791-f18d-eeaa6a9da444"
      },
      "source": [
        "pivot = df.pivot_table(\"platform_order_code_ga\", index=[\"stage_new\",\"new_time\",\"variant\"], aggfunc = \"count\").reset_index()\n",
        "fig = px.bar(pivot, x=\"new_time\", y=\"platform_order_code_ga\", color=\"stage_new\", \n",
        "             #barmode=\"group\",\n",
        "             #facet_row=\"variant\", \n",
        "             facet_col=\"variant\",\n",
        "             )\n",
        "fig.show()"
      ],
      "execution_count": null,
      "outputs": [
        {
          "output_type": "display_data",
          "data": {
            "text/html": [
              "<html>\n",
              "<head><meta charset=\"utf-8\" /></head>\n",
              "<body>\n",
              "    <div>\n",
              "            <script src=\"https://cdnjs.cloudflare.com/ajax/libs/mathjax/2.7.5/MathJax.js?config=TeX-AMS-MML_SVG\"></script><script type=\"text/javascript\">if (window.MathJax) {MathJax.Hub.Config({SVG: {font: \"STIX-Web\"}});}</script>\n",
              "                <script type=\"text/javascript\">window.PlotlyConfig = {MathJaxConfig: 'local'};</script>\n",
              "        <script src=\"https://cdn.plot.ly/plotly-latest.min.js\"></script>    \n",
              "            <div id=\"003c5ee3-f709-4057-aa16-b50b8b72ebe1\" class=\"plotly-graph-div\" style=\"height:525px; width:100%;\"></div>\n",
              "            <script type=\"text/javascript\">\n",
              "                \n",
              "                    window.PLOTLYENV=window.PLOTLYENV || {};\n",
              "                    \n",
              "                if (document.getElementById(\"003c5ee3-f709-4057-aa16-b50b8b72ebe1\")) {\n",
              "                    Plotly.newPlot(\n",
              "                        '003c5ee3-f709-4057-aa16-b50b8b72ebe1',\n",
              "                        [{\"alignmentgroup\": \"True\", \"hoverlabel\": {\"namelength\": 0}, \"hovertemplate\": \"stage_new=default<br>variant=Control<br>new_time=%{x}<br>platform_order_code_ga=%{y}\", \"legendgroup\": \"stage_new=default\", \"marker\": {\"color\": \"#636efa\"}, \"name\": \"stage_new=default\", \"offsetgroup\": \"stage_new=default\", \"orientation\": \"v\", \"showlegend\": true, \"textposition\": \"auto\", \"type\": \"bar\", \"x\": [\"00:00:00\", \"00:30:00\", \"01:00:00\", \"01:30:00\", \"02:00:00\", \"02:30:00\", \"03:00:00\", \"03:30:00\", \"04:00:00\", \"04:30:00\", \"05:00:00\", \"05:30:00\", \"06:00:00\", \"06:30:00\", \"07:00:00\", \"07:30:00\", \"08:00:00\", \"08:30:00\", \"09:00:00\", \"09:30:00\", \"10:00:00\", \"10:30:00\", \"11:00:00\", \"11:30:00\", \"12:00:00\", \"12:30:00\", \"13:00:00\", \"13:30:00\", \"14:00:00\", \"14:30:00\", \"15:00:00\", \"15:30:00\", \"16:00:00\", \"16:30:00\", \"17:00:00\", \"17:30:00\", \"18:00:00\", \"18:30:00\", \"19:00:00\", \"19:30:00\", \"20:00:00\", \"20:30:00\", \"21:00:00\", \"21:30:00\", \"22:00:00\", \"22:30:00\", \"23:00:00\", \"23:30:00\"], \"xaxis\": \"x\", \"y\": [478, 401, 341, 335, 279, 199, 160, 133, 105, 62, 57, 39, 39, 46, 93, 208, 309, 568, 734, 845, 1029, 1284, 1607, 2926, 3554, 3337, 2706, 2138, 1859, 1890, 1552, 1503, 1488, 1594, 1807, 2134, 2645, 2819, 3166, 3067, 2894, 2532, 1924, 1415, 1066, 794, 736, 601], \"yaxis\": \"y\"}, {\"alignmentgroup\": \"True\", \"hoverlabel\": {\"namelength\": 0}, \"hovertemplate\": \"stage_new=default<br>variant=Variation1<br>new_time=%{x}<br>platform_order_code_ga=%{y}\", \"legendgroup\": \"stage_new=default\", \"marker\": {\"color\": \"#636efa\"}, \"name\": \"stage_new=default\", \"offsetgroup\": \"stage_new=default\", \"orientation\": \"v\", \"showlegend\": false, \"textposition\": \"auto\", \"type\": \"bar\", \"x\": [\"00:00:00\", \"00:30:00\", \"01:00:00\", \"01:30:00\", \"02:00:00\", \"02:30:00\", \"03:00:00\", \"03:30:00\", \"04:00:00\", \"04:30:00\", \"05:00:00\", \"05:30:00\", \"06:00:00\", \"06:30:00\", \"07:00:00\", \"07:30:00\", \"08:00:00\", \"08:30:00\", \"09:00:00\", \"09:30:00\", \"10:00:00\", \"10:30:00\", \"11:00:00\", \"11:30:00\", \"12:00:00\", \"12:30:00\", \"13:00:00\", \"13:30:00\", \"14:00:00\", \"14:30:00\", \"15:00:00\", \"15:30:00\", \"16:00:00\", \"16:30:00\", \"17:00:00\", \"17:30:00\", \"18:00:00\", \"18:30:00\", \"19:00:00\", \"19:30:00\", \"20:00:00\", \"20:30:00\", \"21:00:00\", \"21:30:00\", \"22:00:00\", \"22:30:00\", \"23:00:00\", \"23:30:00\"], \"xaxis\": \"x2\", \"y\": [274, 305, 208, 199, 152, 147, 109, 87, 73, 28, 29, 25, 29, 49, 79, 152, 193, 394, 473, 636, 804, 1049, 1412, 2610, 1881, 1170, 1001, 1276, 1303, 1242, 1047, 1098, 1059, 1286, 1341, 1581, 2014, 2272, 2025, 2004, 1806, 1482, 1155, 915, 667, 515, 417, 281], \"yaxis\": \"y2\"}, {\"alignmentgroup\": \"True\", \"hoverlabel\": {\"namelength\": 0}, \"hovertemplate\": \"stage_new=price_easing<br>variant=Variation1<br>new_time=%{x}<br>platform_order_code_ga=%{y}\", \"legendgroup\": \"stage_new=price_easing\", \"marker\": {\"color\": \"#EF553B\"}, \"name\": \"stage_new=price_easing\", \"offsetgroup\": \"stage_new=price_easing\", \"orientation\": \"v\", \"showlegend\": true, \"textposition\": \"auto\", \"type\": \"bar\", \"x\": [\"00:00:00\", \"00:30:00\", \"01:00:00\", \"01:30:00\", \"02:00:00\", \"02:30:00\", \"03:00:00\", \"03:30:00\", \"04:00:00\", \"04:30:00\", \"05:00:00\", \"05:30:00\", \"06:00:00\", \"06:30:00\", \"07:00:00\", \"07:30:00\", \"08:00:00\", \"08:30:00\", \"09:00:00\", \"09:30:00\", \"10:00:00\", \"10:30:00\", \"11:00:00\", \"11:30:00\", \"12:00:00\", \"12:30:00\", \"13:00:00\", \"14:00:00\", \"14:30:00\", \"15:00:00\", \"15:30:00\", \"16:00:00\", \"16:30:00\", \"17:00:00\", \"17:30:00\", \"18:00:00\", \"18:30:00\", \"19:00:00\", \"19:30:00\", \"20:00:00\", \"20:30:00\", \"21:00:00\", \"21:30:00\", \"22:00:00\", \"22:30:00\", \"23:00:00\", \"23:30:00\"], \"xaxis\": \"x2\", \"y\": [31, 79, 104, 81, 44, 41, 27, 24, 27, 19, 16, 13, 5, 8, 17, 39, 82, 65, 12, 29, 74, 45, 177, 218, 9, 3, 1, 1, 6, 56, 61, 54, 36, 114, 239, 302, 196, 97, 96, 64, 95, 91, 43, 30, 18, 14, 1], \"yaxis\": \"y2\"}, {\"alignmentgroup\": \"True\", \"hoverlabel\": {\"namelength\": 0}, \"hovertemplate\": \"stage_new=shrink2<br>variant=Control<br>new_time=%{x}<br>platform_order_code_ga=%{y}\", \"legendgroup\": \"stage_new=shrink2\", \"marker\": {\"color\": \"#00cc96\"}, \"name\": \"stage_new=shrink2\", \"offsetgroup\": \"stage_new=shrink2\", \"orientation\": \"v\", \"showlegend\": true, \"textposition\": \"auto\", \"type\": \"bar\", \"x\": [\"01:30:00\", \"03:00:00\", \"05:30:00\", \"06:00:00\", \"07:00:00\", \"08:30:00\", \"09:30:00\", \"10:00:00\", \"10:30:00\", \"11:00:00\", \"11:30:00\", \"12:00:00\", \"12:30:00\", \"13:00:00\", \"13:30:00\", \"14:00:00\", \"14:30:00\", \"15:00:00\", \"15:30:00\", \"16:00:00\", \"16:30:00\", \"17:00:00\", \"17:30:00\", \"18:00:00\", \"18:30:00\", \"19:00:00\", \"19:30:00\", \"20:00:00\", \"20:30:00\", \"21:00:00\", \"22:00:00\", \"22:30:00\", \"23:00:00\"], \"xaxis\": \"x\", \"y\": [1, 1, 2, 1, 1, 2, 1, 10, 7, 5, 23, 40, 63, 50, 45, 50, 38, 7, 24, 26, 42, 23, 47, 62, 56, 66, 64, 32, 12, 2, 4, 1, 2], \"yaxis\": \"y\"}, {\"alignmentgroup\": \"True\", \"hoverlabel\": {\"namelength\": 0}, \"hovertemplate\": \"stage_new=shrink2<br>variant=Variation1<br>new_time=%{x}<br>platform_order_code_ga=%{y}\", \"legendgroup\": \"stage_new=shrink2\", \"marker\": {\"color\": \"#00cc96\"}, \"name\": \"stage_new=shrink2\", \"offsetgroup\": \"stage_new=shrink2\", \"orientation\": \"v\", \"showlegend\": false, \"textposition\": \"auto\", \"type\": \"bar\", \"x\": [\"02:00:00\", \"02:30:00\", \"03:00:00\", \"06:00:00\", \"07:30:00\", \"09:30:00\", \"10:00:00\", \"10:30:00\", \"11:00:00\", \"11:30:00\", \"12:00:00\", \"12:30:00\", \"13:00:00\", \"13:30:00\", \"14:00:00\", \"14:30:00\", \"15:00:00\", \"15:30:00\", \"16:00:00\", \"16:30:00\", \"17:00:00\", \"17:30:00\", \"18:00:00\", \"18:30:00\", \"19:00:00\", \"19:30:00\", \"20:00:00\", \"20:30:00\", \"21:00:00\", \"22:00:00\"], \"xaxis\": \"x2\", \"y\": [3, 1, 1, 1, 1, 1, 7, 8, 1, 20, 36, 49, 37, 60, 54, 34, 10, 21, 31, 29, 15, 46, 52, 46, 45, 56, 31, 7, 1, 4], \"yaxis\": \"y2\"}, {\"alignmentgroup\": \"True\", \"hoverlabel\": {\"namelength\": 0}, \"hovertemplate\": \"stage_new=surge1<br>variant=Variation1<br>new_time=%{x}<br>platform_order_code_ga=%{y}\", \"legendgroup\": \"stage_new=surge1\", \"marker\": {\"color\": \"#ab63fa\"}, \"name\": \"stage_new=surge1\", \"offsetgroup\": \"stage_new=surge1\", \"orientation\": \"v\", \"showlegend\": true, \"textposition\": \"auto\", \"type\": \"bar\", \"x\": [\"00:00:00\", \"00:30:00\", \"01:00:00\", \"01:30:00\", \"02:00:00\", \"02:30:00\", \"03:00:00\", \"03:30:00\", \"04:00:00\", \"04:30:00\", \"05:00:00\", \"05:30:00\", \"06:00:00\", \"06:30:00\", \"07:00:00\", \"07:30:00\", \"08:00:00\", \"08:30:00\", \"09:00:00\", \"09:30:00\", \"10:00:00\", \"10:30:00\", \"11:00:00\", \"11:30:00\", \"12:00:00\", \"12:30:00\", \"13:00:00\", \"13:30:00\", \"14:00:00\", \"14:30:00\", \"15:00:00\", \"15:30:00\", \"16:00:00\", \"16:30:00\", \"17:00:00\", \"17:30:00\", \"18:00:00\", \"18:30:00\", \"19:00:00\", \"19:30:00\", \"20:00:00\", \"20:30:00\", \"21:00:00\", \"21:30:00\", \"22:00:00\", \"22:30:00\", \"23:00:00\", \"23:30:00\"], \"xaxis\": \"x2\", \"y\": [186, 49, 27, 22, 14, 26, 14, 4, 4, 3, 4, 3, 6, 3, 8, 6, 14, 96, 193, 156, 177, 156, 88, 212, 1435, 2075, 1579, 835, 438, 571, 459, 356, 314, 251, 441, 368, 446, 532, 1010, 1010, 951, 855, 652, 422, 292, 243, 219, 279], \"yaxis\": \"y2\"}, {\"alignmentgroup\": \"True\", \"hoverlabel\": {\"namelength\": 0}, \"hovertemplate\": \"stage_new=surge_shrink1<br>variant=Control<br>new_time=%{x}<br>platform_order_code_ga=%{y}\", \"legendgroup\": \"stage_new=surge_shrink1\", \"marker\": {\"color\": \"#FFA15A\"}, \"name\": \"stage_new=surge_shrink1\", \"offsetgroup\": \"stage_new=surge_shrink1\", \"orientation\": \"v\", \"showlegend\": true, \"textposition\": \"auto\", \"type\": \"bar\", \"x\": [\"00:00:00\", \"02:00:00\", \"03:00:00\", \"04:00:00\", \"04:30:00\", \"05:00:00\", \"05:30:00\", \"06:30:00\", \"07:00:00\", \"08:30:00\", \"09:00:00\", \"09:30:00\", \"10:00:00\", \"10:30:00\", \"11:00:00\", \"11:30:00\", \"12:00:00\", \"12:30:00\", \"13:00:00\", \"13:30:00\", \"14:00:00\", \"14:30:00\", \"15:00:00\", \"15:30:00\", \"16:00:00\", \"16:30:00\", \"17:00:00\", \"17:30:00\", \"18:00:00\", \"18:30:00\", \"19:00:00\", \"19:30:00\", \"20:00:00\", \"20:30:00\", \"21:00:00\", \"21:30:00\", \"22:00:00\", \"22:30:00\", \"23:00:00\", \"23:30:00\"], \"xaxis\": \"x\", \"y\": [9, 2, 1, 1, 1, 1, 1, 1, 3, 3, 8, 45, 29, 34, 29, 54, 129, 161, 276, 260, 204, 142, 134, 144, 114, 108, 126, 228, 199, 382, 254, 185, 210, 94, 142, 54, 40, 33, 35, 29], \"yaxis\": \"y\"}, {\"alignmentgroup\": \"True\", \"hoverlabel\": {\"namelength\": 0}, \"hovertemplate\": \"stage_new=surge_shrink1<br>variant=Variation1<br>new_time=%{x}<br>platform_order_code_ga=%{y}\", \"legendgroup\": \"stage_new=surge_shrink1\", \"marker\": {\"color\": \"#FFA15A\"}, \"name\": \"stage_new=surge_shrink1\", \"offsetgroup\": \"stage_new=surge_shrink1\", \"orientation\": \"v\", \"showlegend\": false, \"textposition\": \"auto\", \"type\": \"bar\", \"x\": [\"00:00:00\", \"00:30:00\", \"02:30:00\", \"03:00:00\", \"04:00:00\", \"05:30:00\", \"06:00:00\", \"06:30:00\", \"08:00:00\", \"08:30:00\", \"09:00:00\", \"09:30:00\", \"10:00:00\", \"10:30:00\", \"11:00:00\", \"11:30:00\", \"12:00:00\", \"12:30:00\", \"13:00:00\", \"13:30:00\", \"14:00:00\", \"14:30:00\", \"15:00:00\", \"15:30:00\", \"16:00:00\", \"16:30:00\", \"17:00:00\", \"17:30:00\", \"18:00:00\", \"18:30:00\", \"19:00:00\", \"19:30:00\", \"20:00:00\", \"20:30:00\", \"21:00:00\", \"21:30:00\", \"22:00:00\", \"22:30:00\", \"23:00:00\", \"23:30:00\"], \"xaxis\": \"x2\", \"y\": [4, 1, 3, 2, 2, 1, 2, 1, 1, 4, 5, 44, 26, 23, 21, 54, 141, 148, 256, 208, 165, 104, 124, 154, 112, 80, 95, 189, 175, 343, 239, 149, 161, 89, 113, 52, 29, 34, 32, 20], \"yaxis\": \"y2\"}],\n",
              "                        {\"annotations\": [{\"font\": {}, \"showarrow\": false, \"text\": \"variant=Control\", \"x\": 0.245, \"xanchor\": \"center\", \"xref\": \"paper\", \"y\": 1.0, \"yanchor\": \"bottom\", \"yref\": \"paper\"}, {\"font\": {}, \"showarrow\": false, \"text\": \"variant=Variation1\", \"x\": 0.755, \"xanchor\": \"center\", \"xref\": \"paper\", \"y\": 1.0, \"yanchor\": \"bottom\", \"yref\": \"paper\"}], \"barmode\": \"relative\", \"legend\": {\"tracegroupgap\": 0}, \"margin\": {\"t\": 60}, \"template\": {\"data\": {\"bar\": [{\"error_x\": {\"color\": \"#2a3f5f\"}, \"error_y\": {\"color\": \"#2a3f5f\"}, \"marker\": {\"line\": {\"color\": \"#E5ECF6\", \"width\": 0.5}}, \"type\": \"bar\"}], \"barpolar\": [{\"marker\": {\"line\": {\"color\": \"#E5ECF6\", \"width\": 0.5}}, \"type\": \"barpolar\"}], \"carpet\": [{\"aaxis\": {\"endlinecolor\": \"#2a3f5f\", \"gridcolor\": \"white\", \"linecolor\": \"white\", \"minorgridcolor\": \"white\", \"startlinecolor\": \"#2a3f5f\"}, \"baxis\": {\"endlinecolor\": \"#2a3f5f\", \"gridcolor\": \"white\", \"linecolor\": \"white\", \"minorgridcolor\": \"white\", \"startlinecolor\": \"#2a3f5f\"}, \"type\": \"carpet\"}], \"choropleth\": [{\"colorbar\": {\"outlinewidth\": 0, \"ticks\": \"\"}, \"type\": \"choropleth\"}], \"contour\": [{\"colorbar\": {\"outlinewidth\": 0, \"ticks\": \"\"}, \"colorscale\": [[0.0, \"#0d0887\"], [0.1111111111111111, \"#46039f\"], [0.2222222222222222, \"#7201a8\"], [0.3333333333333333, \"#9c179e\"], [0.4444444444444444, \"#bd3786\"], [0.5555555555555556, \"#d8576b\"], [0.6666666666666666, \"#ed7953\"], [0.7777777777777778, \"#fb9f3a\"], [0.8888888888888888, \"#fdca26\"], [1.0, \"#f0f921\"]], \"type\": \"contour\"}], \"contourcarpet\": [{\"colorbar\": {\"outlinewidth\": 0, \"ticks\": \"\"}, \"type\": \"contourcarpet\"}], \"heatmap\": [{\"colorbar\": {\"outlinewidth\": 0, \"ticks\": \"\"}, \"colorscale\": [[0.0, \"#0d0887\"], [0.1111111111111111, \"#46039f\"], [0.2222222222222222, \"#7201a8\"], [0.3333333333333333, \"#9c179e\"], [0.4444444444444444, \"#bd3786\"], [0.5555555555555556, \"#d8576b\"], [0.6666666666666666, \"#ed7953\"], [0.7777777777777778, \"#fb9f3a\"], [0.8888888888888888, \"#fdca26\"], [1.0, \"#f0f921\"]], \"type\": \"heatmap\"}], \"heatmapgl\": [{\"colorbar\": {\"outlinewidth\": 0, \"ticks\": \"\"}, \"colorscale\": [[0.0, \"#0d0887\"], [0.1111111111111111, \"#46039f\"], [0.2222222222222222, \"#7201a8\"], [0.3333333333333333, \"#9c179e\"], [0.4444444444444444, \"#bd3786\"], [0.5555555555555556, \"#d8576b\"], [0.6666666666666666, \"#ed7953\"], [0.7777777777777778, \"#fb9f3a\"], [0.8888888888888888, \"#fdca26\"], [1.0, \"#f0f921\"]], \"type\": \"heatmapgl\"}], \"histogram\": [{\"marker\": {\"colorbar\": {\"outlinewidth\": 0, \"ticks\": \"\"}}, \"type\": \"histogram\"}], \"histogram2d\": [{\"colorbar\": {\"outlinewidth\": 0, \"ticks\": \"\"}, \"colorscale\": [[0.0, \"#0d0887\"], [0.1111111111111111, \"#46039f\"], [0.2222222222222222, \"#7201a8\"], [0.3333333333333333, \"#9c179e\"], [0.4444444444444444, \"#bd3786\"], [0.5555555555555556, \"#d8576b\"], [0.6666666666666666, \"#ed7953\"], [0.7777777777777778, \"#fb9f3a\"], [0.8888888888888888, \"#fdca26\"], [1.0, \"#f0f921\"]], \"type\": \"histogram2d\"}], \"histogram2dcontour\": [{\"colorbar\": {\"outlinewidth\": 0, \"ticks\": \"\"}, \"colorscale\": [[0.0, \"#0d0887\"], [0.1111111111111111, \"#46039f\"], [0.2222222222222222, \"#7201a8\"], [0.3333333333333333, \"#9c179e\"], [0.4444444444444444, \"#bd3786\"], [0.5555555555555556, \"#d8576b\"], [0.6666666666666666, \"#ed7953\"], [0.7777777777777778, \"#fb9f3a\"], [0.8888888888888888, \"#fdca26\"], [1.0, \"#f0f921\"]], \"type\": \"histogram2dcontour\"}], \"mesh3d\": [{\"colorbar\": {\"outlinewidth\": 0, \"ticks\": \"\"}, \"type\": \"mesh3d\"}], \"parcoords\": [{\"line\": {\"colorbar\": {\"outlinewidth\": 0, \"ticks\": \"\"}}, \"type\": \"parcoords\"}], \"pie\": [{\"automargin\": true, \"type\": \"pie\"}], \"scatter\": [{\"marker\": {\"colorbar\": {\"outlinewidth\": 0, \"ticks\": \"\"}}, \"type\": \"scatter\"}], \"scatter3d\": [{\"line\": {\"colorbar\": {\"outlinewidth\": 0, \"ticks\": \"\"}}, \"marker\": {\"colorbar\": {\"outlinewidth\": 0, \"ticks\": \"\"}}, \"type\": \"scatter3d\"}], \"scattercarpet\": [{\"marker\": {\"colorbar\": {\"outlinewidth\": 0, \"ticks\": \"\"}}, \"type\": \"scattercarpet\"}], \"scattergeo\": [{\"marker\": {\"colorbar\": {\"outlinewidth\": 0, \"ticks\": \"\"}}, \"type\": \"scattergeo\"}], \"scattergl\": [{\"marker\": {\"colorbar\": {\"outlinewidth\": 0, \"ticks\": \"\"}}, \"type\": \"scattergl\"}], \"scattermapbox\": [{\"marker\": {\"colorbar\": {\"outlinewidth\": 0, \"ticks\": \"\"}}, \"type\": \"scattermapbox\"}], \"scatterpolar\": [{\"marker\": {\"colorbar\": {\"outlinewidth\": 0, \"ticks\": \"\"}}, \"type\": \"scatterpolar\"}], \"scatterpolargl\": [{\"marker\": {\"colorbar\": {\"outlinewidth\": 0, \"ticks\": \"\"}}, \"type\": \"scatterpolargl\"}], \"scatterternary\": [{\"marker\": {\"colorbar\": {\"outlinewidth\": 0, \"ticks\": \"\"}}, \"type\": \"scatterternary\"}], \"surface\": [{\"colorbar\": {\"outlinewidth\": 0, \"ticks\": \"\"}, \"colorscale\": [[0.0, \"#0d0887\"], [0.1111111111111111, \"#46039f\"], [0.2222222222222222, \"#7201a8\"], [0.3333333333333333, \"#9c179e\"], [0.4444444444444444, \"#bd3786\"], [0.5555555555555556, \"#d8576b\"], [0.6666666666666666, \"#ed7953\"], [0.7777777777777778, \"#fb9f3a\"], [0.8888888888888888, \"#fdca26\"], [1.0, \"#f0f921\"]], \"type\": \"surface\"}], \"table\": [{\"cells\": {\"fill\": {\"color\": \"#EBF0F8\"}, \"line\": {\"color\": \"white\"}}, \"header\": {\"fill\": {\"color\": \"#C8D4E3\"}, \"line\": {\"color\": \"white\"}}, \"type\": \"table\"}]}, \"layout\": {\"annotationdefaults\": {\"arrowcolor\": \"#2a3f5f\", \"arrowhead\": 0, \"arrowwidth\": 1}, \"coloraxis\": {\"colorbar\": {\"outlinewidth\": 0, \"ticks\": \"\"}}, \"colorscale\": {\"diverging\": [[0, \"#8e0152\"], [0.1, \"#c51b7d\"], [0.2, \"#de77ae\"], [0.3, \"#f1b6da\"], [0.4, \"#fde0ef\"], [0.5, \"#f7f7f7\"], [0.6, \"#e6f5d0\"], [0.7, \"#b8e186\"], [0.8, \"#7fbc41\"], [0.9, \"#4d9221\"], [1, \"#276419\"]], \"sequential\": [[0.0, \"#0d0887\"], [0.1111111111111111, \"#46039f\"], [0.2222222222222222, \"#7201a8\"], [0.3333333333333333, \"#9c179e\"], [0.4444444444444444, \"#bd3786\"], [0.5555555555555556, \"#d8576b\"], [0.6666666666666666, \"#ed7953\"], [0.7777777777777778, \"#fb9f3a\"], [0.8888888888888888, \"#fdca26\"], [1.0, \"#f0f921\"]], \"sequentialminus\": [[0.0, \"#0d0887\"], [0.1111111111111111, \"#46039f\"], [0.2222222222222222, \"#7201a8\"], [0.3333333333333333, \"#9c179e\"], [0.4444444444444444, \"#bd3786\"], [0.5555555555555556, \"#d8576b\"], [0.6666666666666666, \"#ed7953\"], [0.7777777777777778, \"#fb9f3a\"], [0.8888888888888888, \"#fdca26\"], [1.0, \"#f0f921\"]]}, \"colorway\": [\"#636efa\", \"#EF553B\", \"#00cc96\", \"#ab63fa\", \"#FFA15A\", \"#19d3f3\", \"#FF6692\", \"#B6E880\", \"#FF97FF\", \"#FECB52\"], \"font\": {\"color\": \"#2a3f5f\"}, \"geo\": {\"bgcolor\": \"white\", \"lakecolor\": \"white\", \"landcolor\": \"#E5ECF6\", \"showlakes\": true, \"showland\": true, \"subunitcolor\": \"white\"}, \"hoverlabel\": {\"align\": \"left\"}, \"hovermode\": \"closest\", \"mapbox\": {\"style\": \"light\"}, \"paper_bgcolor\": \"white\", \"plot_bgcolor\": \"#E5ECF6\", \"polar\": {\"angularaxis\": {\"gridcolor\": \"white\", \"linecolor\": \"white\", \"ticks\": \"\"}, \"bgcolor\": \"#E5ECF6\", \"radialaxis\": {\"gridcolor\": \"white\", \"linecolor\": \"white\", \"ticks\": \"\"}}, \"scene\": {\"xaxis\": {\"backgroundcolor\": \"#E5ECF6\", \"gridcolor\": \"white\", \"gridwidth\": 2, \"linecolor\": \"white\", \"showbackground\": true, \"ticks\": \"\", \"zerolinecolor\": \"white\"}, \"yaxis\": {\"backgroundcolor\": \"#E5ECF6\", \"gridcolor\": \"white\", \"gridwidth\": 2, \"linecolor\": \"white\", \"showbackground\": true, \"ticks\": \"\", \"zerolinecolor\": \"white\"}, \"zaxis\": {\"backgroundcolor\": \"#E5ECF6\", \"gridcolor\": \"white\", \"gridwidth\": 2, \"linecolor\": \"white\", \"showbackground\": true, \"ticks\": \"\", \"zerolinecolor\": \"white\"}}, \"shapedefaults\": {\"line\": {\"color\": \"#2a3f5f\"}}, \"ternary\": {\"aaxis\": {\"gridcolor\": \"white\", \"linecolor\": \"white\", \"ticks\": \"\"}, \"baxis\": {\"gridcolor\": \"white\", \"linecolor\": \"white\", \"ticks\": \"\"}, \"bgcolor\": \"#E5ECF6\", \"caxis\": {\"gridcolor\": \"white\", \"linecolor\": \"white\", \"ticks\": \"\"}}, \"title\": {\"x\": 0.05}, \"xaxis\": {\"automargin\": true, \"gridcolor\": \"white\", \"linecolor\": \"white\", \"ticks\": \"\", \"title\": {\"standoff\": 15}, \"zerolinecolor\": \"white\", \"zerolinewidth\": 2}, \"yaxis\": {\"automargin\": true, \"gridcolor\": \"white\", \"linecolor\": \"white\", \"ticks\": \"\", \"title\": {\"standoff\": 15}, \"zerolinecolor\": \"white\", \"zerolinewidth\": 2}}}, \"xaxis\": {\"anchor\": \"y\", \"domain\": [0.0, 0.49], \"title\": {\"text\": \"new_time\"}}, \"xaxis2\": {\"anchor\": \"y2\", \"domain\": [0.51, 1.0], \"matches\": \"x\", \"title\": {\"text\": \"new_time\"}}, \"yaxis\": {\"anchor\": \"x\", \"domain\": [0.0, 1.0], \"title\": {\"text\": \"platform_order_code_ga\"}}, \"yaxis2\": {\"anchor\": \"x2\", \"domain\": [0.0, 1.0], \"matches\": \"y\", \"showticklabels\": false}},\n",
              "                        {\"responsive\": true}\n",
              "                    ).then(function(){\n",
              "                            \n",
              "var gd = document.getElementById('003c5ee3-f709-4057-aa16-b50b8b72ebe1');\n",
              "var x = new MutationObserver(function (mutations, observer) {{\n",
              "        var display = window.getComputedStyle(gd).display;\n",
              "        if (!display || display === 'none') {{\n",
              "            console.log([gd, 'removed!']);\n",
              "            Plotly.purge(gd);\n",
              "            observer.disconnect();\n",
              "        }}\n",
              "}});\n",
              "\n",
              "// Listen for the removal of the full notebook cells\n",
              "var notebookContainer = gd.closest('#notebook-container');\n",
              "if (notebookContainer) {{\n",
              "    x.observe(notebookContainer, {childList: true});\n",
              "}}\n",
              "\n",
              "// Listen for the clearing of the current output cell\n",
              "var outputEl = gd.closest('.output');\n",
              "if (outputEl) {{\n",
              "    x.observe(outputEl, {childList: true});\n",
              "}}\n",
              "\n",
              "                        })\n",
              "                };\n",
              "                \n",
              "            </script>\n",
              "        </div>\n",
              "</body>\n",
              "</html>"
            ]
          },
          "metadata": {
            "tags": []
          }
        }
      ]
    },
    {
      "cell_type": "markdown",
      "metadata": {
        "id": "yD_IKTeb3hW6"
      },
      "source": [
        "Significance level in different stage"
      ]
    },
    {
      "cell_type": "code",
      "metadata": {
        "id": "mif36fBXTo9x"
      },
      "source": [
        "# definition\n",
        "zone_names = [\"Far_east\"]\n",
        "stages = (df[\"stage\"].unique()).tolist()"
      ],
      "execution_count": null,
      "outputs": []
    },
    {
      "cell_type": "code",
      "metadata": {
        "id": "zdKlRJHPV2SV",
        "colab": {
          "base_uri": "https://localhost:8080/",
          "height": 197
        },
        "outputId": "fc2008d0-5681-45c7-fc2b-51d1a10a5505"
      },
      "source": [
        "# Prepare for the data\n",
        "order_data = df.pivot_table(\"platform_order_code_ga\", index=[\"local_date\", \"hour_block\", \"stage\", \"variant\",\"zone_name\"], aggfunc = \"count\").reset_index()\n",
        "order_data = order_data.fillna(0)\n",
        "\n",
        "# create empty array list\n",
        "rows_list = []\n",
        "\n",
        "# loop the data for each zone and each stage\n",
        "for zone_name in zone_names:\n",
        "  for stage in stages:\n",
        "    zone_data = order_data[(order_data[\"zone_name\"] == zone_name) & (order_data[\"stage\"] == stage)] #filter relevant zone and stage for each loop\n",
        "    zone_agg = zone_data.pivot_table(\"platform_order_code_ga\", index=[\"local_date\", \"hour_block\"], columns = \"variant\",aggfunc = \"sum\").reset_index() #group the data by date and hourly block\n",
        "    zone_agg = zone_agg.fillna(0)\n",
        "    mean_control = round(zone_agg[\"Control\"].mean(),2)\n",
        "    mean_variation1 = round(zone_agg[\"Variation1\"].mean(),2)\n",
        "    std_control = round(zone_agg[\"Control\"].std(),2)\n",
        "    std_variation1 = round(zone_agg[\"Variation1\"].std(),2)\n",
        "    cor_control_variation1 = round(zone_agg[\"Control\"].corr(zone_agg[\"Variation1\"]),2)\n",
        "    sample_size_control = zone_agg[\"Control\"].sum()\n",
        "    sample_size_variation1 = zone_agg[\"Variation1\"].sum()\n",
        "    sample_size_total = sample_size_control + sample_size_variation1\n",
        "    #sig_control_variation1_twoside = round(stats.wilcoxon(zone_agg['Variation1'], zone_agg['Control'])[1],2)\n",
        "    sig_control_variation1_oneside = round(stats.wilcoxon(zone_agg['Variation1'], zone_agg['Control']) [1]/2,2)\n",
        "    rows_list.append([zone_name, stage, mean_control, mean_variation1, std_control, std_variation1, cor_control_variation1, sample_size_control, sample_size_variation1, sample_size_total, sig_control_variation1_oneside])\n",
        "\n",
        "# load data into dataframe\n",
        "result = pd.DataFrame(rows_list, columns=['zone_name','stage','mean_control','mean_variation','std_control', 'std_variation', 'correlation', 'size_control', 'size_variation', 'size_total', 'p-value'])\n",
        "# add two columns to data frame\n",
        "result[\"significance\"] = result[\"p-value\"]<=0.05\n",
        "result[\"delta\"] = round(result[\"mean_variation\"]/result[\"mean_control\"]-1,2)\n",
        "result\n",
        "\n",
        "#https://stackoverflow.com/questions/10715965/add-one-row-to-pandas-dataframe"
      ],
      "execution_count": null,
      "outputs": [
        {
          "output_type": "execute_result",
          "data": {
            "text/html": [
              "<div>\n",
              "<style scoped>\n",
              "    .dataframe tbody tr th:only-of-type {\n",
              "        vertical-align: middle;\n",
              "    }\n",
              "\n",
              "    .dataframe tbody tr th {\n",
              "        vertical-align: top;\n",
              "    }\n",
              "\n",
              "    .dataframe thead th {\n",
              "        text-align: right;\n",
              "    }\n",
              "</style>\n",
              "<table border=\"1\" class=\"dataframe\">\n",
              "  <thead>\n",
              "    <tr style=\"text-align: right;\">\n",
              "      <th></th>\n",
              "      <th>zone_name</th>\n",
              "      <th>stage</th>\n",
              "      <th>mean_control</th>\n",
              "      <th>mean_variation</th>\n",
              "      <th>std_control</th>\n",
              "      <th>std_variation</th>\n",
              "      <th>correlation</th>\n",
              "      <th>size_control</th>\n",
              "      <th>size_variation</th>\n",
              "      <th>size_total</th>\n",
              "      <th>p-value</th>\n",
              "      <th>significance</th>\n",
              "      <th>delta</th>\n",
              "    </tr>\n",
              "  </thead>\n",
              "  <tbody>\n",
              "    <tr>\n",
              "      <th>0</th>\n",
              "      <td>Far_east</td>\n",
              "      <td>price_easing</td>\n",
              "      <td>21.16</td>\n",
              "      <td>22.69</td>\n",
              "      <td>28.10</td>\n",
              "      <td>27.93</td>\n",
              "      <td>0.98</td>\n",
              "      <td>2709.0</td>\n",
              "      <td>2904.0</td>\n",
              "      <td>5613.0</td>\n",
              "      <td>0.00</td>\n",
              "      <td>True</td>\n",
              "      <td>0.07</td>\n",
              "    </tr>\n",
              "    <tr>\n",
              "      <th>1</th>\n",
              "      <td>Far_east</td>\n",
              "      <td>default</td>\n",
              "      <td>154.66</td>\n",
              "      <td>155.81</td>\n",
              "      <td>90.05</td>\n",
              "      <td>90.70</td>\n",
              "      <td>0.98</td>\n",
              "      <td>40057.0</td>\n",
              "      <td>40354.0</td>\n",
              "      <td>80411.0</td>\n",
              "      <td>0.26</td>\n",
              "      <td>False</td>\n",
              "      <td>0.01</td>\n",
              "    </tr>\n",
              "    <tr>\n",
              "      <th>2</th>\n",
              "      <td>Far_east</td>\n",
              "      <td>surge1</td>\n",
              "      <td>89.20</td>\n",
              "      <td>83.35</td>\n",
              "      <td>103.74</td>\n",
              "      <td>97.83</td>\n",
              "      <td>0.99</td>\n",
              "      <td>18732.0</td>\n",
              "      <td>17504.0</td>\n",
              "      <td>36236.0</td>\n",
              "      <td>0.00</td>\n",
              "      <td>True</td>\n",
              "      <td>-0.07</td>\n",
              "    </tr>\n",
              "    <tr>\n",
              "      <th>3</th>\n",
              "      <td>Far_east</td>\n",
              "      <td>surge_shrink1</td>\n",
              "      <td>55.00</td>\n",
              "      <td>47.97</td>\n",
              "      <td>67.34</td>\n",
              "      <td>59.05</td>\n",
              "      <td>0.99</td>\n",
              "      <td>3905.0</td>\n",
              "      <td>3406.0</td>\n",
              "      <td>7311.0</td>\n",
              "      <td>0.00</td>\n",
              "      <td>True</td>\n",
              "      <td>-0.13</td>\n",
              "    </tr>\n",
              "    <tr>\n",
              "      <th>4</th>\n",
              "      <td>Far_east</td>\n",
              "      <td>shrink2</td>\n",
              "      <td>27.93</td>\n",
              "      <td>24.41</td>\n",
              "      <td>34.58</td>\n",
              "      <td>29.60</td>\n",
              "      <td>0.97</td>\n",
              "      <td>810.0</td>\n",
              "      <td>708.0</td>\n",
              "      <td>1518.0</td>\n",
              "      <td>0.02</td>\n",
              "      <td>True</td>\n",
              "      <td>-0.13</td>\n",
              "    </tr>\n",
              "  </tbody>\n",
              "</table>\n",
              "</div>"
            ],
            "text/plain": [
              "  zone_name          stage  mean_control  ...  p-value  significance  delta\n",
              "0  Far_east   price_easing         21.16  ...     0.00          True   0.07\n",
              "1  Far_east        default        154.66  ...     0.26         False   0.01\n",
              "2  Far_east         surge1         89.20  ...     0.00          True  -0.07\n",
              "3  Far_east  surge_shrink1         55.00  ...     0.00          True  -0.13\n",
              "4  Far_east        shrink2         27.93  ...     0.02          True  -0.13\n",
              "\n",
              "[5 rows x 13 columns]"
            ]
          },
          "metadata": {
            "tags": []
          },
          "execution_count": 149
        }
      ]
    },
    {
      "cell_type": "markdown",
      "metadata": {
        "id": "1xYe_MQkWYJp"
      },
      "source": [
        "### 2. Delivery Fee"
      ]
    },
    {
      "cell_type": "code",
      "metadata": {
        "id": "58zXuVfjW8Sv",
        "colab": {
          "base_uri": "https://localhost:8080/",
          "height": 542
        },
        "outputId": "a95b859e-0e38-4c7b-d4e0-c82c08db8c5f"
      },
      "source": [
        "df_avg = df.pivot_table(\"dps_delivery_fee\", index=[\"local_date\"], columns =\"variant\", aggfunc = \"mean\")\n",
        "df_avg = df_avg.reset_index()\n",
        "df_avg[\"delta\"]=df_avg[\"Variation1\"]/df_avg[\"Control\"] -1\n",
        "\n",
        "fig = go.Figure()\n",
        "fig = make_subplots(specs=[[{\"secondary_y\": True}]])\n",
        "fig.add_trace(go.Scatter(x =df_avg.local_date, y=df_avg.Control, mode=\"lines\", name =\"control\"), secondary_y=False)\n",
        "fig.add_trace(go.Scatter(x =df_avg.local_date, y=df_avg.Variation1, mode=\"lines\", name =\"variation1\"), secondary_y=False)\n",
        "#fig.add_trace(go.Scatter(x =df_avg.local_date, y=df_avg.delta, mode=\"lines\", name =\"delta\", line = dict(color='gray', width=4, dash='dash')), secondary_y=True)\n",
        "# Add figure title\n",
        "fig.update_layout(title_text=\"Daily avg. DF of Control and Test\")\n",
        "# Set x-axis title\n",
        "fig.update_xaxes(title_text=\"Date\")\n",
        "# Set y-axes titles\n",
        "fig.update_yaxes(title_text=\"Avg. DF\", showgrid=False, secondary_y=False)\n",
        "fig.update_yaxes(title_text=\"Delta % difference of Variation1 vs Control\", showgrid=False,secondary_y=True)\n",
        "fig.show()"
      ],
      "execution_count": null,
      "outputs": [
        {
          "output_type": "display_data",
          "data": {
            "text/html": [
              "<html>\n",
              "<head><meta charset=\"utf-8\" /></head>\n",
              "<body>\n",
              "    <div>\n",
              "            <script src=\"https://cdnjs.cloudflare.com/ajax/libs/mathjax/2.7.5/MathJax.js?config=TeX-AMS-MML_SVG\"></script><script type=\"text/javascript\">if (window.MathJax) {MathJax.Hub.Config({SVG: {font: \"STIX-Web\"}});}</script>\n",
              "                <script type=\"text/javascript\">window.PlotlyConfig = {MathJaxConfig: 'local'};</script>\n",
              "        <script src=\"https://cdn.plot.ly/plotly-latest.min.js\"></script>    \n",
              "            <div id=\"1aa21f15-d89e-4adf-a1ab-99700db9921e\" class=\"plotly-graph-div\" style=\"height:525px; width:100%;\"></div>\n",
              "            <script type=\"text/javascript\">\n",
              "                \n",
              "                    window.PLOTLYENV=window.PLOTLYENV || {};\n",
              "                    \n",
              "                if (document.getElementById(\"1aa21f15-d89e-4adf-a1ab-99700db9921e\")) {\n",
              "                    Plotly.newPlot(\n",
              "                        '1aa21f15-d89e-4adf-a1ab-99700db9921e',\n",
              "                        [{\"mode\": \"lines\", \"name\": \"control\", \"type\": \"scatter\", \"x\": [\"2020-09-04\", \"2020-09-05\", \"2020-09-06\", \"2020-09-07\", \"2020-09-08\", \"2020-09-09\", \"2020-09-10\", \"2020-09-11\", \"2020-09-12\", \"2020-09-13\", \"2020-09-14\", \"2020-09-15\", \"2020-09-16\", \"2020-09-17\", \"2020-09-18\", \"2020-09-19\", \"2020-09-20\", \"2020-09-21\", \"2020-09-22\", \"2020-09-23\", \"2020-09-24\"], \"xaxis\": \"x\", \"y\": [3.548460959831061, 3.2973103094155967, 3.4556318395950014, 3.3966880203942242, 3.461750654466559, 3.4670408359163125, 3.4086653738666297, 3.4378225496899693, 3.418436821680945, 3.25109715004135, 3.369970426088317, 3.4109579667572385, 3.391389696714186, 3.4200004485559754, 3.487374802414697, 3.457716821140605, 3.419759934372864, 3.3690417671763875, 3.393199866352169, 3.3841574681360704, 3.3965395865438426], \"yaxis\": \"y\"}, {\"mode\": \"lines\", \"name\": \"variation1\", \"type\": \"scatter\", \"x\": [\"2020-09-04\", \"2020-09-05\", \"2020-09-06\", \"2020-09-07\", \"2020-09-08\", \"2020-09-09\", \"2020-09-10\", \"2020-09-11\", \"2020-09-12\", \"2020-09-13\", \"2020-09-14\", \"2020-09-15\", \"2020-09-16\", \"2020-09-17\", \"2020-09-18\", \"2020-09-19\", \"2020-09-20\", \"2020-09-21\", \"2020-09-22\", \"2020-09-23\", \"2020-09-24\"], \"xaxis\": \"x\", \"y\": [3.660223624964435, 3.645005528868663, 3.57545695893014, 3.3434861631643855, 3.5030942333014328, 3.446557486136168, 3.4336698784712634, 3.5494571222168907, 3.5821026105221803, 3.6135722402423665, 3.418483238433195, 3.4058278014774435, 3.3279998560558104, 3.450066537792499, 3.486716171067499, 3.4646986803138535, 3.5223656495870648, 3.480504486999564, 3.301034497931658, 3.3352642440308653, 3.3710925925298048], \"yaxis\": \"y\"}],\n",
              "                        {\"template\": {\"data\": {\"bar\": [{\"error_x\": {\"color\": \"#2a3f5f\"}, \"error_y\": {\"color\": \"#2a3f5f\"}, \"marker\": {\"line\": {\"color\": \"#E5ECF6\", \"width\": 0.5}}, \"type\": \"bar\"}], \"barpolar\": [{\"marker\": {\"line\": {\"color\": \"#E5ECF6\", \"width\": 0.5}}, \"type\": \"barpolar\"}], \"carpet\": [{\"aaxis\": {\"endlinecolor\": \"#2a3f5f\", \"gridcolor\": \"white\", \"linecolor\": \"white\", \"minorgridcolor\": \"white\", \"startlinecolor\": \"#2a3f5f\"}, \"baxis\": {\"endlinecolor\": \"#2a3f5f\", \"gridcolor\": \"white\", \"linecolor\": \"white\", \"minorgridcolor\": \"white\", \"startlinecolor\": \"#2a3f5f\"}, \"type\": \"carpet\"}], \"choropleth\": [{\"colorbar\": {\"outlinewidth\": 0, \"ticks\": \"\"}, \"type\": \"choropleth\"}], \"contour\": [{\"colorbar\": {\"outlinewidth\": 0, \"ticks\": \"\"}, \"colorscale\": [[0.0, \"#0d0887\"], [0.1111111111111111, \"#46039f\"], [0.2222222222222222, \"#7201a8\"], [0.3333333333333333, \"#9c179e\"], [0.4444444444444444, \"#bd3786\"], [0.5555555555555556, \"#d8576b\"], [0.6666666666666666, \"#ed7953\"], [0.7777777777777778, \"#fb9f3a\"], [0.8888888888888888, \"#fdca26\"], [1.0, \"#f0f921\"]], \"type\": \"contour\"}], \"contourcarpet\": [{\"colorbar\": {\"outlinewidth\": 0, \"ticks\": \"\"}, \"type\": \"contourcarpet\"}], \"heatmap\": [{\"colorbar\": {\"outlinewidth\": 0, \"ticks\": \"\"}, \"colorscale\": [[0.0, \"#0d0887\"], [0.1111111111111111, \"#46039f\"], [0.2222222222222222, \"#7201a8\"], [0.3333333333333333, \"#9c179e\"], [0.4444444444444444, \"#bd3786\"], [0.5555555555555556, \"#d8576b\"], [0.6666666666666666, \"#ed7953\"], [0.7777777777777778, \"#fb9f3a\"], [0.8888888888888888, \"#fdca26\"], [1.0, \"#f0f921\"]], \"type\": \"heatmap\"}], \"heatmapgl\": [{\"colorbar\": {\"outlinewidth\": 0, \"ticks\": \"\"}, \"colorscale\": [[0.0, \"#0d0887\"], [0.1111111111111111, \"#46039f\"], [0.2222222222222222, \"#7201a8\"], [0.3333333333333333, \"#9c179e\"], [0.4444444444444444, \"#bd3786\"], [0.5555555555555556, \"#d8576b\"], [0.6666666666666666, \"#ed7953\"], [0.7777777777777778, \"#fb9f3a\"], [0.8888888888888888, \"#fdca26\"], [1.0, \"#f0f921\"]], \"type\": \"heatmapgl\"}], \"histogram\": [{\"marker\": {\"colorbar\": {\"outlinewidth\": 0, \"ticks\": \"\"}}, \"type\": \"histogram\"}], \"histogram2d\": [{\"colorbar\": {\"outlinewidth\": 0, \"ticks\": \"\"}, \"colorscale\": [[0.0, \"#0d0887\"], [0.1111111111111111, \"#46039f\"], [0.2222222222222222, \"#7201a8\"], [0.3333333333333333, \"#9c179e\"], [0.4444444444444444, \"#bd3786\"], [0.5555555555555556, \"#d8576b\"], [0.6666666666666666, \"#ed7953\"], [0.7777777777777778, \"#fb9f3a\"], [0.8888888888888888, \"#fdca26\"], [1.0, \"#f0f921\"]], \"type\": \"histogram2d\"}], \"histogram2dcontour\": [{\"colorbar\": {\"outlinewidth\": 0, \"ticks\": \"\"}, \"colorscale\": [[0.0, \"#0d0887\"], [0.1111111111111111, \"#46039f\"], [0.2222222222222222, \"#7201a8\"], [0.3333333333333333, \"#9c179e\"], [0.4444444444444444, \"#bd3786\"], [0.5555555555555556, \"#d8576b\"], [0.6666666666666666, \"#ed7953\"], [0.7777777777777778, \"#fb9f3a\"], [0.8888888888888888, \"#fdca26\"], [1.0, \"#f0f921\"]], \"type\": \"histogram2dcontour\"}], \"mesh3d\": [{\"colorbar\": {\"outlinewidth\": 0, \"ticks\": \"\"}, \"type\": \"mesh3d\"}], \"parcoords\": [{\"line\": {\"colorbar\": {\"outlinewidth\": 0, \"ticks\": \"\"}}, \"type\": \"parcoords\"}], \"pie\": [{\"automargin\": true, \"type\": \"pie\"}], \"scatter\": [{\"marker\": {\"colorbar\": {\"outlinewidth\": 0, \"ticks\": \"\"}}, \"type\": \"scatter\"}], \"scatter3d\": [{\"line\": {\"colorbar\": {\"outlinewidth\": 0, \"ticks\": \"\"}}, \"marker\": {\"colorbar\": {\"outlinewidth\": 0, \"ticks\": \"\"}}, \"type\": \"scatter3d\"}], \"scattercarpet\": [{\"marker\": {\"colorbar\": {\"outlinewidth\": 0, \"ticks\": \"\"}}, \"type\": \"scattercarpet\"}], \"scattergeo\": [{\"marker\": {\"colorbar\": {\"outlinewidth\": 0, \"ticks\": \"\"}}, \"type\": \"scattergeo\"}], \"scattergl\": [{\"marker\": {\"colorbar\": {\"outlinewidth\": 0, \"ticks\": \"\"}}, \"type\": \"scattergl\"}], \"scattermapbox\": [{\"marker\": {\"colorbar\": {\"outlinewidth\": 0, \"ticks\": \"\"}}, \"type\": \"scattermapbox\"}], \"scatterpolar\": [{\"marker\": {\"colorbar\": {\"outlinewidth\": 0, \"ticks\": \"\"}}, \"type\": \"scatterpolar\"}], \"scatterpolargl\": [{\"marker\": {\"colorbar\": {\"outlinewidth\": 0, \"ticks\": \"\"}}, \"type\": \"scatterpolargl\"}], \"scatterternary\": [{\"marker\": {\"colorbar\": {\"outlinewidth\": 0, \"ticks\": \"\"}}, \"type\": \"scatterternary\"}], \"surface\": [{\"colorbar\": {\"outlinewidth\": 0, \"ticks\": \"\"}, \"colorscale\": [[0.0, \"#0d0887\"], [0.1111111111111111, \"#46039f\"], [0.2222222222222222, \"#7201a8\"], [0.3333333333333333, \"#9c179e\"], [0.4444444444444444, \"#bd3786\"], [0.5555555555555556, \"#d8576b\"], [0.6666666666666666, \"#ed7953\"], [0.7777777777777778, \"#fb9f3a\"], [0.8888888888888888, \"#fdca26\"], [1.0, \"#f0f921\"]], \"type\": \"surface\"}], \"table\": [{\"cells\": {\"fill\": {\"color\": \"#EBF0F8\"}, \"line\": {\"color\": \"white\"}}, \"header\": {\"fill\": {\"color\": \"#C8D4E3\"}, \"line\": {\"color\": \"white\"}}, \"type\": \"table\"}]}, \"layout\": {\"annotationdefaults\": {\"arrowcolor\": \"#2a3f5f\", \"arrowhead\": 0, \"arrowwidth\": 1}, \"coloraxis\": {\"colorbar\": {\"outlinewidth\": 0, \"ticks\": \"\"}}, \"colorscale\": {\"diverging\": [[0, \"#8e0152\"], [0.1, \"#c51b7d\"], [0.2, \"#de77ae\"], [0.3, \"#f1b6da\"], [0.4, \"#fde0ef\"], [0.5, \"#f7f7f7\"], [0.6, \"#e6f5d0\"], [0.7, \"#b8e186\"], [0.8, \"#7fbc41\"], [0.9, \"#4d9221\"], [1, \"#276419\"]], \"sequential\": [[0.0, \"#0d0887\"], [0.1111111111111111, \"#46039f\"], [0.2222222222222222, \"#7201a8\"], [0.3333333333333333, \"#9c179e\"], [0.4444444444444444, \"#bd3786\"], [0.5555555555555556, \"#d8576b\"], [0.6666666666666666, \"#ed7953\"], [0.7777777777777778, \"#fb9f3a\"], [0.8888888888888888, \"#fdca26\"], [1.0, \"#f0f921\"]], \"sequentialminus\": [[0.0, \"#0d0887\"], [0.1111111111111111, \"#46039f\"], [0.2222222222222222, \"#7201a8\"], [0.3333333333333333, \"#9c179e\"], [0.4444444444444444, \"#bd3786\"], [0.5555555555555556, \"#d8576b\"], [0.6666666666666666, \"#ed7953\"], [0.7777777777777778, \"#fb9f3a\"], [0.8888888888888888, \"#fdca26\"], [1.0, \"#f0f921\"]]}, \"colorway\": [\"#636efa\", \"#EF553B\", \"#00cc96\", \"#ab63fa\", \"#FFA15A\", \"#19d3f3\", \"#FF6692\", \"#B6E880\", \"#FF97FF\", \"#FECB52\"], \"font\": {\"color\": \"#2a3f5f\"}, \"geo\": {\"bgcolor\": \"white\", \"lakecolor\": \"white\", \"landcolor\": \"#E5ECF6\", \"showlakes\": true, \"showland\": true, \"subunitcolor\": \"white\"}, \"hoverlabel\": {\"align\": \"left\"}, \"hovermode\": \"closest\", \"mapbox\": {\"style\": \"light\"}, \"paper_bgcolor\": \"white\", \"plot_bgcolor\": \"#E5ECF6\", \"polar\": {\"angularaxis\": {\"gridcolor\": \"white\", \"linecolor\": \"white\", \"ticks\": \"\"}, \"bgcolor\": \"#E5ECF6\", \"radialaxis\": {\"gridcolor\": \"white\", \"linecolor\": \"white\", \"ticks\": \"\"}}, \"scene\": {\"xaxis\": {\"backgroundcolor\": \"#E5ECF6\", \"gridcolor\": \"white\", \"gridwidth\": 2, \"linecolor\": \"white\", \"showbackground\": true, \"ticks\": \"\", \"zerolinecolor\": \"white\"}, \"yaxis\": {\"backgroundcolor\": \"#E5ECF6\", \"gridcolor\": \"white\", \"gridwidth\": 2, \"linecolor\": \"white\", \"showbackground\": true, \"ticks\": \"\", \"zerolinecolor\": \"white\"}, \"zaxis\": {\"backgroundcolor\": \"#E5ECF6\", \"gridcolor\": \"white\", \"gridwidth\": 2, \"linecolor\": \"white\", \"showbackground\": true, \"ticks\": \"\", \"zerolinecolor\": \"white\"}}, \"shapedefaults\": {\"line\": {\"color\": \"#2a3f5f\"}}, \"ternary\": {\"aaxis\": {\"gridcolor\": \"white\", \"linecolor\": \"white\", \"ticks\": \"\"}, \"baxis\": {\"gridcolor\": \"white\", \"linecolor\": \"white\", \"ticks\": \"\"}, \"bgcolor\": \"#E5ECF6\", \"caxis\": {\"gridcolor\": \"white\", \"linecolor\": \"white\", \"ticks\": \"\"}}, \"title\": {\"x\": 0.05}, \"xaxis\": {\"automargin\": true, \"gridcolor\": \"white\", \"linecolor\": \"white\", \"ticks\": \"\", \"title\": {\"standoff\": 15}, \"zerolinecolor\": \"white\", \"zerolinewidth\": 2}, \"yaxis\": {\"automargin\": true, \"gridcolor\": \"white\", \"linecolor\": \"white\", \"ticks\": \"\", \"title\": {\"standoff\": 15}, \"zerolinecolor\": \"white\", \"zerolinewidth\": 2}}}, \"title\": {\"text\": \"Daily avg. DF of Control and Test\"}, \"xaxis\": {\"anchor\": \"y\", \"domain\": [0.0, 0.94], \"title\": {\"text\": \"Date\"}}, \"yaxis\": {\"anchor\": \"x\", \"domain\": [0.0, 1.0], \"showgrid\": false, \"title\": {\"text\": \"Avg. DF\"}}, \"yaxis2\": {\"anchor\": \"x\", \"overlaying\": \"y\", \"showgrid\": false, \"side\": \"right\", \"title\": {\"text\": \"Delta % difference of Variation1 vs Control\"}}},\n",
              "                        {\"responsive\": true}\n",
              "                    ).then(function(){\n",
              "                            \n",
              "var gd = document.getElementById('1aa21f15-d89e-4adf-a1ab-99700db9921e');\n",
              "var x = new MutationObserver(function (mutations, observer) {{\n",
              "        var display = window.getComputedStyle(gd).display;\n",
              "        if (!display || display === 'none') {{\n",
              "            console.log([gd, 'removed!']);\n",
              "            Plotly.purge(gd);\n",
              "            observer.disconnect();\n",
              "        }}\n",
              "}});\n",
              "\n",
              "// Listen for the removal of the full notebook cells\n",
              "var notebookContainer = gd.closest('#notebook-container');\n",
              "if (notebookContainer) {{\n",
              "    x.observe(notebookContainer, {childList: true});\n",
              "}}\n",
              "\n",
              "// Listen for the clearing of the current output cell\n",
              "var outputEl = gd.closest('.output');\n",
              "if (outputEl) {{\n",
              "    x.observe(outputEl, {childList: true});\n",
              "}}\n",
              "\n",
              "                        })\n",
              "                };\n",
              "                \n",
              "            </script>\n",
              "        </div>\n",
              "</body>\n",
              "</html>"
            ]
          },
          "metadata": {
            "tags": []
          }
        }
      ]
    },
    {
      "cell_type": "code",
      "metadata": {
        "id": "eKd3OVrWXvKI"
      },
      "source": [
        "fig = px.box(df, x=\"stage\", y=\"dps_delivery_fee\", color = \"variant\")\n",
        "fig.show()"
      ],
      "execution_count": null,
      "outputs": []
    },
    {
      "cell_type": "markdown",
      "metadata": {
        "id": "1RQZnxjtwxo0"
      },
      "source": [
        "#### Aggregated level"
      ]
    },
    {
      "cell_type": "code",
      "metadata": {
        "id": "i6AodhnrwsDz",
        "colab": {
          "base_uri": "https://localhost:8080/",
          "height": 34
        },
        "outputId": "4109767d-827a-442f-a645-8a6cec344a96"
      },
      "source": [
        "# Daily delivery fee significance check\n",
        "#df_avg.describe()\n",
        "stats.wilcoxon(df_avg['Variation1'], df_avg['Control'])"
      ],
      "execution_count": null,
      "outputs": [
        {
          "output_type": "execute_result",
          "data": {
            "text/plain": [
              "WilcoxonResult(statistic=59.0, pvalue=0.04955245211417102)"
            ]
          },
          "metadata": {
            "tags": []
          },
          "execution_count": 152
        }
      ]
    },
    {
      "cell_type": "code",
      "metadata": {
        "id": "hSdwz2C9x2zt",
        "colab": {
          "base_uri": "https://localhost:8080/",
          "height": 34
        },
        "outputId": "48e799ff-c525-40fd-b804-dfd2ad1def95"
      },
      "source": [
        "# Daily hourly delivery fee significance check\n",
        "df_sig = df.pivot_table(\"dps_delivery_fee\", index=[\"local_date\", \"hour_block\"], columns =\"variant\", aggfunc = \"mean\").reset_index()\n",
        "# one-tailed hypothesis, test is less than control\n",
        "stats.wilcoxon(df_sig['Variation1'], df_sig['Control']) "
      ],
      "execution_count": null,
      "outputs": [
        {
          "output_type": "execute_result",
          "data": {
            "text/plain": [
              "WilcoxonResult(statistic=12948.0, pvalue=1.0545732748802742e-05)"
            ]
          },
          "metadata": {
            "tags": []
          },
          "execution_count": 153
        }
      ]
    },
    {
      "cell_type": "markdown",
      "metadata": {
        "id": "_Ia7uGpwybYw"
      },
      "source": [
        "#### Stage level"
      ]
    },
    {
      "cell_type": "code",
      "metadata": {
        "id": "Syq2C7Q0AHF_",
        "colab": {
          "base_uri": "https://localhost:8080/",
          "height": 542
        },
        "outputId": "191a0edd-4d9e-4316-ca71-eaef2866fd5a"
      },
      "source": [
        "pivot = df.pivot_table(\"dps_delivery_fee\", index=[\"stage\",\"local_date\"], columns =\"variant\", aggfunc = \"mean\")\n",
        "pivot[\"delta\"] = pivot[\"Variation1\"]/pivot[\"Control\"]-1\n",
        "pivot['delta'] = pivot['delta'].astype(float).map(lambda n: '{:.2%}'.format(n))\n",
        "pivot = pivot.reset_index()\n",
        "pivot.head()\n",
        "\n",
        "fig = px.line(pivot, x=\"local_date\", y=\"delta\", color=\"stage\", text = \"delta\",category_orders={\"stage\": [\"price_easing\", \"default\", \"surge1\", \"surge_shrink1\", \"shrink2\"]})\n",
        "# Set x-axis title\n",
        "fig.update_xaxes(title_text=\"Date\")\n",
        "# Set y-axes titles\n",
        "fig.update_yaxes(title_text=\"delta (variation1 vs control)\", showgrid=False)\n",
        "fig.show()"
      ],
      "execution_count": null,
      "outputs": [
        {
          "output_type": "display_data",
          "data": {
            "text/html": [
              "<html>\n",
              "<head><meta charset=\"utf-8\" /></head>\n",
              "<body>\n",
              "    <div>\n",
              "            <script src=\"https://cdnjs.cloudflare.com/ajax/libs/mathjax/2.7.5/MathJax.js?config=TeX-AMS-MML_SVG\"></script><script type=\"text/javascript\">if (window.MathJax) {MathJax.Hub.Config({SVG: {font: \"STIX-Web\"}});}</script>\n",
              "                <script type=\"text/javascript\">window.PlotlyConfig = {MathJaxConfig: 'local'};</script>\n",
              "        <script src=\"https://cdn.plot.ly/plotly-latest.min.js\"></script>    \n",
              "            <div id=\"1db5c4eb-9b1a-4c0b-8e0e-7df3b1b55d96\" class=\"plotly-graph-div\" style=\"height:525px; width:100%;\"></div>\n",
              "            <script type=\"text/javascript\">\n",
              "                \n",
              "                    window.PLOTLYENV=window.PLOTLYENV || {};\n",
              "                    \n",
              "                if (document.getElementById(\"1db5c4eb-9b1a-4c0b-8e0e-7df3b1b55d96\")) {\n",
              "                    Plotly.newPlot(\n",
              "                        '1db5c4eb-9b1a-4c0b-8e0e-7df3b1b55d96',\n",
              "                        [{\"hoverlabel\": {\"namelength\": 0}, \"hovertemplate\": \"stage=price_easing<br>local_date=%{x}<br>delta=%{text}\", \"legendgroup\": \"stage=price_easing\", \"line\": {\"color\": \"#636efa\", \"dash\": \"solid\"}, \"mode\": \"lines+markers+text\", \"name\": \"stage=price_easing\", \"showlegend\": true, \"text\": [\"-13.14%\", \"-31.50%\", \"-39.72%\", \"-23.79%\", \"-23.14%\", \"-14.95%\", \"-19.16%\", \"-19.05%\", \"-24.42%\", \"-16.49%\", \"-22.73%\", \"-9.30%\", \"-19.06%\", \"-24.97%\", \"-23.55%\", \"-23.02%\", \"24.34%\", \"-10.38%\", \"-21.88%\", \"-17.49%\", \"-16.56%\"], \"type\": \"scatter\", \"x\": [\"2020-09-04\", \"2020-09-05\", \"2020-09-06\", \"2020-09-07\", \"2020-09-08\", \"2020-09-09\", \"2020-09-10\", \"2020-09-11\", \"2020-09-12\", \"2020-09-13\", \"2020-09-14\", \"2020-09-15\", \"2020-09-16\", \"2020-09-17\", \"2020-09-18\", \"2020-09-19\", \"2020-09-20\", \"2020-09-21\", \"2020-09-22\", \"2020-09-23\", \"2020-09-24\"], \"xaxis\": \"x\", \"y\": [\"-13.14%\", \"-31.50%\", \"-39.72%\", \"-23.79%\", \"-23.14%\", \"-14.95%\", \"-19.16%\", \"-19.05%\", \"-24.42%\", \"-16.49%\", \"-22.73%\", \"-9.30%\", \"-19.06%\", \"-24.97%\", \"-23.55%\", \"-23.02%\", \"24.34%\", \"-10.38%\", \"-21.88%\", \"-17.49%\", \"-16.56%\"], \"yaxis\": \"y\"}, {\"hoverlabel\": {\"namelength\": 0}, \"hovertemplate\": \"stage=default<br>local_date=%{x}<br>delta=%{text}\", \"legendgroup\": \"stage=default\", \"line\": {\"color\": \"#EF553B\", \"dash\": \"solid\"}, \"mode\": \"lines+markers+text\", \"name\": \"stage=default\", \"showlegend\": true, \"text\": [\"1.01%\", \"5.43%\", \"-1.46%\", \"0.42%\", \"0.32%\", \"-0.74%\", \"1.32%\", \"1.78%\", \"0.57%\", \"4.73%\", \"1.32%\", \"0.35%\", \"-0.66%\", \"1.78%\", \"0.14%\", \"-0.88%\", \"1.48%\", \"2.52%\", \"1.80%\", \"0.45%\", \"0.02%\"], \"type\": \"scatter\", \"x\": [\"2020-09-04\", \"2020-09-05\", \"2020-09-06\", \"2020-09-07\", \"2020-09-08\", \"2020-09-09\", \"2020-09-10\", \"2020-09-11\", \"2020-09-12\", \"2020-09-13\", \"2020-09-14\", \"2020-09-15\", \"2020-09-16\", \"2020-09-17\", \"2020-09-18\", \"2020-09-19\", \"2020-09-20\", \"2020-09-21\", \"2020-09-22\", \"2020-09-23\", \"2020-09-24\"], \"xaxis\": \"x\", \"y\": [\"1.01%\", \"5.43%\", \"-1.46%\", \"0.42%\", \"0.32%\", \"-0.74%\", \"1.32%\", \"1.78%\", \"0.57%\", \"4.73%\", \"1.32%\", \"0.35%\", \"-0.66%\", \"1.78%\", \"0.14%\", \"-0.88%\", \"1.48%\", \"2.52%\", \"1.80%\", \"0.45%\", \"0.02%\"], \"yaxis\": \"y\"}, {\"hoverlabel\": {\"namelength\": 0}, \"hovertemplate\": \"stage=surge1<br>local_date=%{x}<br>delta=%{text}\", \"legendgroup\": \"stage=surge1\", \"line\": {\"color\": \"#00cc96\", \"dash\": \"solid\"}, \"mode\": \"lines+markers+text\", \"name\": \"stage=surge1\", \"showlegend\": true, \"text\": [\"5.28%\", \"5.41%\", \"3.28%\", \"5.02%\", \"6.52%\", \"4.54%\", \"5.61%\", \"6.43%\", \"4.85%\", \"2.33%\", \"3.90%\", \"1.81%\", \"5.62%\", \"1.59%\", \"4.13%\", \"4.18%\", \"4.05%\", \"5.46%\", \"8.51%\", \"-12.81%\", \"84.92%\"], \"type\": \"scatter\", \"x\": [\"2020-09-04\", \"2020-09-05\", \"2020-09-06\", \"2020-09-07\", \"2020-09-08\", \"2020-09-09\", \"2020-09-10\", \"2020-09-11\", \"2020-09-12\", \"2020-09-13\", \"2020-09-14\", \"2020-09-15\", \"2020-09-16\", \"2020-09-17\", \"2020-09-18\", \"2020-09-19\", \"2020-09-20\", \"2020-09-21\", \"2020-09-22\", \"2020-09-23\", \"2020-09-24\"], \"xaxis\": \"x\", \"y\": [\"5.28%\", \"5.41%\", \"3.28%\", \"5.02%\", \"6.52%\", \"4.54%\", \"5.61%\", \"6.43%\", \"4.85%\", \"2.33%\", \"3.90%\", \"1.81%\", \"5.62%\", \"1.59%\", \"4.13%\", \"4.18%\", \"4.05%\", \"5.46%\", \"8.51%\", \"-12.81%\", \"84.92%\"], \"yaxis\": \"y\"}, {\"hoverlabel\": {\"namelength\": 0}, \"hovertemplate\": \"stage=surge_shrink1<br>local_date=%{x}<br>delta=%{text}\", \"legendgroup\": \"stage=surge_shrink1\", \"line\": {\"color\": \"#ab63fa\", \"dash\": \"solid\"}, \"mode\": \"lines+markers+text\", \"name\": \"stage=surge_shrink1\", \"showlegend\": true, \"text\": [\"21.90%\", \"17.36%\", \"15.09%\", \"-29.70%\", \"nan%\", \"nan%\", \"3.69%\", \"24.93%\", \"22.17%\", \"12.29%\", \"nan%\", \"nan%\", \"-11.29%\", \"12.92%\", \"18.27%\", \"nan%\"], \"type\": \"scatter\", \"x\": [\"2020-09-04\", \"2020-09-05\", \"2020-09-06\", \"2020-09-07\", \"2020-09-08\", \"2020-09-09\", \"2020-09-11\", \"2020-09-12\", \"2020-09-13\", \"2020-09-14\", \"2020-09-15\", \"2020-09-16\", \"2020-09-19\", \"2020-09-20\", \"2020-09-21\", \"2020-09-22\"], \"xaxis\": \"x\", \"y\": [\"21.90%\", \"17.36%\", \"15.09%\", \"-29.70%\", \"nan%\", \"nan%\", \"3.69%\", \"24.93%\", \"22.17%\", \"12.29%\", \"nan%\", \"nan%\", \"-11.29%\", \"12.92%\", \"18.27%\", \"nan%\"], \"yaxis\": \"y\"}, {\"hoverlabel\": {\"namelength\": 0}, \"hovertemplate\": \"stage=shrink2<br>local_date=%{x}<br>delta=%{text}\", \"legendgroup\": \"stage=shrink2\", \"line\": {\"color\": \"#FFA15A\", \"dash\": \"solid\"}, \"mode\": \"lines+markers+text\", \"name\": \"stage=shrink2\", \"showlegend\": true, \"text\": [\"16.12%\", \"20.15%\", \"nan%\", \"55.28%\", \"15.66%\", \"nan%\"], \"type\": \"scatter\", \"x\": [\"2020-09-05\", \"2020-09-06\", \"2020-09-07\", \"2020-09-11\", \"2020-09-13\", \"2020-09-14\"], \"xaxis\": \"x\", \"y\": [\"16.12%\", \"20.15%\", \"nan%\", \"55.28%\", \"15.66%\", \"nan%\"], \"yaxis\": \"y\"}],\n",
              "                        {\"legend\": {\"tracegroupgap\": 0}, \"margin\": {\"t\": 60}, \"template\": {\"data\": {\"bar\": [{\"error_x\": {\"color\": \"#2a3f5f\"}, \"error_y\": {\"color\": \"#2a3f5f\"}, \"marker\": {\"line\": {\"color\": \"#E5ECF6\", \"width\": 0.5}}, \"type\": \"bar\"}], \"barpolar\": [{\"marker\": {\"line\": {\"color\": \"#E5ECF6\", \"width\": 0.5}}, \"type\": \"barpolar\"}], \"carpet\": [{\"aaxis\": {\"endlinecolor\": \"#2a3f5f\", \"gridcolor\": \"white\", \"linecolor\": \"white\", \"minorgridcolor\": \"white\", \"startlinecolor\": \"#2a3f5f\"}, \"baxis\": {\"endlinecolor\": \"#2a3f5f\", \"gridcolor\": \"white\", \"linecolor\": \"white\", \"minorgridcolor\": \"white\", \"startlinecolor\": \"#2a3f5f\"}, \"type\": \"carpet\"}], \"choropleth\": [{\"colorbar\": {\"outlinewidth\": 0, \"ticks\": \"\"}, \"type\": \"choropleth\"}], \"contour\": [{\"colorbar\": {\"outlinewidth\": 0, \"ticks\": \"\"}, \"colorscale\": [[0.0, \"#0d0887\"], [0.1111111111111111, \"#46039f\"], [0.2222222222222222, \"#7201a8\"], [0.3333333333333333, \"#9c179e\"], [0.4444444444444444, \"#bd3786\"], [0.5555555555555556, \"#d8576b\"], [0.6666666666666666, \"#ed7953\"], [0.7777777777777778, \"#fb9f3a\"], [0.8888888888888888, \"#fdca26\"], [1.0, \"#f0f921\"]], \"type\": \"contour\"}], \"contourcarpet\": [{\"colorbar\": {\"outlinewidth\": 0, \"ticks\": \"\"}, \"type\": \"contourcarpet\"}], \"heatmap\": [{\"colorbar\": {\"outlinewidth\": 0, \"ticks\": \"\"}, \"colorscale\": [[0.0, \"#0d0887\"], [0.1111111111111111, \"#46039f\"], [0.2222222222222222, \"#7201a8\"], [0.3333333333333333, \"#9c179e\"], [0.4444444444444444, \"#bd3786\"], [0.5555555555555556, \"#d8576b\"], [0.6666666666666666, \"#ed7953\"], [0.7777777777777778, \"#fb9f3a\"], [0.8888888888888888, \"#fdca26\"], [1.0, \"#f0f921\"]], \"type\": \"heatmap\"}], \"heatmapgl\": [{\"colorbar\": {\"outlinewidth\": 0, \"ticks\": \"\"}, \"colorscale\": [[0.0, \"#0d0887\"], [0.1111111111111111, \"#46039f\"], [0.2222222222222222, \"#7201a8\"], [0.3333333333333333, \"#9c179e\"], [0.4444444444444444, \"#bd3786\"], [0.5555555555555556, \"#d8576b\"], [0.6666666666666666, \"#ed7953\"], [0.7777777777777778, \"#fb9f3a\"], [0.8888888888888888, \"#fdca26\"], [1.0, \"#f0f921\"]], \"type\": \"heatmapgl\"}], \"histogram\": [{\"marker\": {\"colorbar\": {\"outlinewidth\": 0, \"ticks\": \"\"}}, \"type\": \"histogram\"}], \"histogram2d\": [{\"colorbar\": {\"outlinewidth\": 0, \"ticks\": \"\"}, \"colorscale\": [[0.0, \"#0d0887\"], [0.1111111111111111, \"#46039f\"], [0.2222222222222222, \"#7201a8\"], [0.3333333333333333, \"#9c179e\"], [0.4444444444444444, \"#bd3786\"], [0.5555555555555556, \"#d8576b\"], [0.6666666666666666, \"#ed7953\"], [0.7777777777777778, \"#fb9f3a\"], [0.8888888888888888, \"#fdca26\"], [1.0, \"#f0f921\"]], \"type\": \"histogram2d\"}], \"histogram2dcontour\": [{\"colorbar\": {\"outlinewidth\": 0, \"ticks\": \"\"}, \"colorscale\": [[0.0, \"#0d0887\"], [0.1111111111111111, \"#46039f\"], [0.2222222222222222, \"#7201a8\"], [0.3333333333333333, \"#9c179e\"], [0.4444444444444444, \"#bd3786\"], [0.5555555555555556, \"#d8576b\"], [0.6666666666666666, \"#ed7953\"], [0.7777777777777778, \"#fb9f3a\"], [0.8888888888888888, \"#fdca26\"], [1.0, \"#f0f921\"]], \"type\": \"histogram2dcontour\"}], \"mesh3d\": [{\"colorbar\": {\"outlinewidth\": 0, \"ticks\": \"\"}, \"type\": \"mesh3d\"}], \"parcoords\": [{\"line\": {\"colorbar\": {\"outlinewidth\": 0, \"ticks\": \"\"}}, \"type\": \"parcoords\"}], \"pie\": [{\"automargin\": true, \"type\": \"pie\"}], \"scatter\": [{\"marker\": {\"colorbar\": {\"outlinewidth\": 0, \"ticks\": \"\"}}, \"type\": \"scatter\"}], \"scatter3d\": [{\"line\": {\"colorbar\": {\"outlinewidth\": 0, \"ticks\": \"\"}}, \"marker\": {\"colorbar\": {\"outlinewidth\": 0, \"ticks\": \"\"}}, \"type\": \"scatter3d\"}], \"scattercarpet\": [{\"marker\": {\"colorbar\": {\"outlinewidth\": 0, \"ticks\": \"\"}}, \"type\": \"scattercarpet\"}], \"scattergeo\": [{\"marker\": {\"colorbar\": {\"outlinewidth\": 0, \"ticks\": \"\"}}, \"type\": \"scattergeo\"}], \"scattergl\": [{\"marker\": {\"colorbar\": {\"outlinewidth\": 0, \"ticks\": \"\"}}, \"type\": \"scattergl\"}], \"scattermapbox\": [{\"marker\": {\"colorbar\": {\"outlinewidth\": 0, \"ticks\": \"\"}}, \"type\": \"scattermapbox\"}], \"scatterpolar\": [{\"marker\": {\"colorbar\": {\"outlinewidth\": 0, \"ticks\": \"\"}}, \"type\": \"scatterpolar\"}], \"scatterpolargl\": [{\"marker\": {\"colorbar\": {\"outlinewidth\": 0, \"ticks\": \"\"}}, \"type\": \"scatterpolargl\"}], \"scatterternary\": [{\"marker\": {\"colorbar\": {\"outlinewidth\": 0, \"ticks\": \"\"}}, \"type\": \"scatterternary\"}], \"surface\": [{\"colorbar\": {\"outlinewidth\": 0, \"ticks\": \"\"}, \"colorscale\": [[0.0, \"#0d0887\"], [0.1111111111111111, \"#46039f\"], [0.2222222222222222, \"#7201a8\"], [0.3333333333333333, \"#9c179e\"], [0.4444444444444444, \"#bd3786\"], [0.5555555555555556, \"#d8576b\"], [0.6666666666666666, \"#ed7953\"], [0.7777777777777778, \"#fb9f3a\"], [0.8888888888888888, \"#fdca26\"], [1.0, \"#f0f921\"]], \"type\": \"surface\"}], \"table\": [{\"cells\": {\"fill\": {\"color\": \"#EBF0F8\"}, \"line\": {\"color\": \"white\"}}, \"header\": {\"fill\": {\"color\": \"#C8D4E3\"}, \"line\": {\"color\": \"white\"}}, \"type\": \"table\"}]}, \"layout\": {\"annotationdefaults\": {\"arrowcolor\": \"#2a3f5f\", \"arrowhead\": 0, \"arrowwidth\": 1}, \"coloraxis\": {\"colorbar\": {\"outlinewidth\": 0, \"ticks\": \"\"}}, \"colorscale\": {\"diverging\": [[0, \"#8e0152\"], [0.1, \"#c51b7d\"], [0.2, \"#de77ae\"], [0.3, \"#f1b6da\"], [0.4, \"#fde0ef\"], [0.5, \"#f7f7f7\"], [0.6, \"#e6f5d0\"], [0.7, \"#b8e186\"], [0.8, \"#7fbc41\"], [0.9, \"#4d9221\"], [1, \"#276419\"]], \"sequential\": [[0.0, \"#0d0887\"], [0.1111111111111111, \"#46039f\"], [0.2222222222222222, \"#7201a8\"], [0.3333333333333333, \"#9c179e\"], [0.4444444444444444, \"#bd3786\"], [0.5555555555555556, \"#d8576b\"], [0.6666666666666666, \"#ed7953\"], [0.7777777777777778, \"#fb9f3a\"], [0.8888888888888888, \"#fdca26\"], [1.0, \"#f0f921\"]], \"sequentialminus\": [[0.0, \"#0d0887\"], [0.1111111111111111, \"#46039f\"], [0.2222222222222222, \"#7201a8\"], [0.3333333333333333, \"#9c179e\"], [0.4444444444444444, \"#bd3786\"], [0.5555555555555556, \"#d8576b\"], [0.6666666666666666, \"#ed7953\"], [0.7777777777777778, \"#fb9f3a\"], [0.8888888888888888, \"#fdca26\"], [1.0, \"#f0f921\"]]}, \"colorway\": [\"#636efa\", \"#EF553B\", \"#00cc96\", \"#ab63fa\", \"#FFA15A\", \"#19d3f3\", \"#FF6692\", \"#B6E880\", \"#FF97FF\", \"#FECB52\"], \"font\": {\"color\": \"#2a3f5f\"}, \"geo\": {\"bgcolor\": \"white\", \"lakecolor\": \"white\", \"landcolor\": \"#E5ECF6\", \"showlakes\": true, \"showland\": true, \"subunitcolor\": \"white\"}, \"hoverlabel\": {\"align\": \"left\"}, \"hovermode\": \"closest\", \"mapbox\": {\"style\": \"light\"}, \"paper_bgcolor\": \"white\", \"plot_bgcolor\": \"#E5ECF6\", \"polar\": {\"angularaxis\": {\"gridcolor\": \"white\", \"linecolor\": \"white\", \"ticks\": \"\"}, \"bgcolor\": \"#E5ECF6\", \"radialaxis\": {\"gridcolor\": \"white\", \"linecolor\": \"white\", \"ticks\": \"\"}}, \"scene\": {\"xaxis\": {\"backgroundcolor\": \"#E5ECF6\", \"gridcolor\": \"white\", \"gridwidth\": 2, \"linecolor\": \"white\", \"showbackground\": true, \"ticks\": \"\", \"zerolinecolor\": \"white\"}, \"yaxis\": {\"backgroundcolor\": \"#E5ECF6\", \"gridcolor\": \"white\", \"gridwidth\": 2, \"linecolor\": \"white\", \"showbackground\": true, \"ticks\": \"\", \"zerolinecolor\": \"white\"}, \"zaxis\": {\"backgroundcolor\": \"#E5ECF6\", \"gridcolor\": \"white\", \"gridwidth\": 2, \"linecolor\": \"white\", \"showbackground\": true, \"ticks\": \"\", \"zerolinecolor\": \"white\"}}, \"shapedefaults\": {\"line\": {\"color\": \"#2a3f5f\"}}, \"ternary\": {\"aaxis\": {\"gridcolor\": \"white\", \"linecolor\": \"white\", \"ticks\": \"\"}, \"baxis\": {\"gridcolor\": \"white\", \"linecolor\": \"white\", \"ticks\": \"\"}, \"bgcolor\": \"#E5ECF6\", \"caxis\": {\"gridcolor\": \"white\", \"linecolor\": \"white\", \"ticks\": \"\"}}, \"title\": {\"x\": 0.05}, \"xaxis\": {\"automargin\": true, \"gridcolor\": \"white\", \"linecolor\": \"white\", \"ticks\": \"\", \"title\": {\"standoff\": 15}, \"zerolinecolor\": \"white\", \"zerolinewidth\": 2}, \"yaxis\": {\"automargin\": true, \"gridcolor\": \"white\", \"linecolor\": \"white\", \"ticks\": \"\", \"title\": {\"standoff\": 15}, \"zerolinecolor\": \"white\", \"zerolinewidth\": 2}}}, \"xaxis\": {\"anchor\": \"y\", \"domain\": [0.0, 1.0], \"title\": {\"text\": \"Date\"}}, \"yaxis\": {\"anchor\": \"x\", \"domain\": [0.0, 1.0], \"showgrid\": false, \"title\": {\"text\": \"delta (variation1 vs control)\"}}},\n",
              "                        {\"responsive\": true}\n",
              "                    ).then(function(){\n",
              "                            \n",
              "var gd = document.getElementById('1db5c4eb-9b1a-4c0b-8e0e-7df3b1b55d96');\n",
              "var x = new MutationObserver(function (mutations, observer) {{\n",
              "        var display = window.getComputedStyle(gd).display;\n",
              "        if (!display || display === 'none') {{\n",
              "            console.log([gd, 'removed!']);\n",
              "            Plotly.purge(gd);\n",
              "            observer.disconnect();\n",
              "        }}\n",
              "}});\n",
              "\n",
              "// Listen for the removal of the full notebook cells\n",
              "var notebookContainer = gd.closest('#notebook-container');\n",
              "if (notebookContainer) {{\n",
              "    x.observe(notebookContainer, {childList: true});\n",
              "}}\n",
              "\n",
              "// Listen for the clearing of the current output cell\n",
              "var outputEl = gd.closest('.output');\n",
              "if (outputEl) {{\n",
              "    x.observe(outputEl, {childList: true});\n",
              "}}\n",
              "\n",
              "                        })\n",
              "                };\n",
              "                \n",
              "            </script>\n",
              "        </div>\n",
              "</body>\n",
              "</html>"
            ]
          },
          "metadata": {
            "tags": []
          }
        }
      ]
    },
    {
      "cell_type": "code",
      "metadata": {
        "id": "o1lnGLQoytZg"
      },
      "source": [
        "# Prepare for the data\n",
        "df_data = pd.pivot_table(df, values=[\"dps_delivery_fee\",\"platform_order_code_ga\", \"gfv_eur\",\"tt\"], index=[\"local_date\", \"hour_block\", \"stage\", \"zone_name\"],columns= \"variant\", \n",
        "                         aggfunc = {'dps_delivery_fee' : 'sum', 'platform_order_code_ga' : 'count', 'gfv_eur' : 'sum', 'tt':'sum'}).reset_index()\n",
        "df_data.rename(columns={'dps_delivery_fee': 'sum_df', 'platform_order_code_ga': 'order'}, inplace=True)\n",
        "#df_data.columns = df_data.columns.get_level_values(1)\n",
        "df_data.columns = ['_'.join(col).strip() for col in df_data.columns.values]\n",
        "df_data.rename(columns={'local_date_': 'local_date', 'hour_block_': 'hour_block','stage_': 'stage','zone_name_':'zone_name'}, inplace=True)\n",
        "df_data.columns = map(str.lower, df_data.columns)\n",
        "df_data[\"avg_df_control\"] = df_data[\"sum_df_control\"]/df_data[\"order_control\"]\n",
        "df_data[\"avg_df_variation1\"] = df_data[\"sum_df_variation1\"]/df_data[\"order_variation1\"]\n",
        "df_data[\"avg_gfv_control\"] = df_data[\"gfv_eur_control\"]/df_data[\"order_control\"]\n",
        "df_data[\"avg_gfv_variation1\"] = df_data[\"gfv_eur_variation1\"]/df_data[\"order_variation1\"]\n",
        "df_data[\"avg_tt_control\"] = df_data[\"tt_control\"]/df_data[\"order_control\"]\n",
        "df_data[\"avg_tt_variation1\"] = df_data[\"tt_variation1\"]/df_data[\"order_variation1\"]\n",
        "df_data = df_data.fillna(0)"
      ],
      "execution_count": null,
      "outputs": []
    },
    {
      "cell_type": "code",
      "metadata": {
        "id": "GJr8B2E6ygvK",
        "colab": {
          "base_uri": "https://localhost:8080/",
          "height": 197
        },
        "outputId": "750f2763-7230-401f-d54c-3d120a6e5d15"
      },
      "source": [
        "# create empty array list\n",
        "rows_list = []\n",
        "\n",
        "# loop the data for each zone and each stage\n",
        "for zone_name in zone_names:\n",
        "  for stage in stages:\n",
        "    zone_data = df_data[(df_data[\"zone_name\"] == zone_name) & (df_data[\"stage\"] == stage)] #filter relevant zone and stage for each loop\n",
        "    zone_data = zone_data.fillna(0)\n",
        "    mean_control = round(zone_data[\"sum_df_control\"].sum()/zone_data[\"order_control\"].sum(),2)\n",
        "    mean_variation1 = round(zone_data[\"sum_df_variation1\"].sum()/zone_data[\"order_variation1\"].sum(),2)\n",
        "    std_control = round(zone_data[\"avg_df_control\"].std(),2)\n",
        "    std_variation1 = round(zone_data[\"avg_df_variation1\"].std(),2)\n",
        "    cor_control_variation1 = round(zone_data[\"avg_df_control\"].corr(zone_data[\"avg_df_variation1\"]),2)\n",
        "    sample_size_control = zone_data[\"order_control\"].sum()\n",
        "    sample_size_variation1 = zone_data[\"order_variation1\"].sum()\n",
        "    sample_size_total = sample_size_control + sample_size_variation1\n",
        "    #sig_control_variation1_twoside = round(stats.wilcoxon(zone_agg['Variation1'], zone_agg['Control'])[1],2)\n",
        "    sig_control_variation1_oneside = round(stats.wilcoxon(zone_data['avg_df_variation1'], zone_data['avg_df_control']) [1]/2,2)\n",
        "    rows_list.append([zone_name, stage, mean_control, mean_variation1, std_control, std_variation1, cor_control_variation1, sample_size_control, sample_size_variation1, sample_size_total, sig_control_variation1_oneside])\n",
        "\n",
        "# load data into dataframe\n",
        "result = pd.DataFrame(rows_list, columns=['zone_name','stage','mean_control','mean_variation','std_control', 'std_variation', 'correlation', 'size_control', 'size_variation', 'size_total', 'p-value'])\n",
        "# add two columns to data frame\n",
        "result[\"significance\"] = result[\"p-value\"]<=0.05\n",
        "result[\"delta\"] = round(result[\"mean_variation\"]/result[\"mean_control\"]-1,2)\n",
        "result\n",
        "\n",
        "#https://stackoverflow.com/questions/10715965/add-one-row-to-pandas-dataframe"
      ],
      "execution_count": null,
      "outputs": [
        {
          "output_type": "execute_result",
          "data": {
            "text/html": [
              "<div>\n",
              "<style scoped>\n",
              "    .dataframe tbody tr th:only-of-type {\n",
              "        vertical-align: middle;\n",
              "    }\n",
              "\n",
              "    .dataframe tbody tr th {\n",
              "        vertical-align: top;\n",
              "    }\n",
              "\n",
              "    .dataframe thead th {\n",
              "        text-align: right;\n",
              "    }\n",
              "</style>\n",
              "<table border=\"1\" class=\"dataframe\">\n",
              "  <thead>\n",
              "    <tr style=\"text-align: right;\">\n",
              "      <th></th>\n",
              "      <th>zone_name</th>\n",
              "      <th>stage</th>\n",
              "      <th>mean_control</th>\n",
              "      <th>mean_variation</th>\n",
              "      <th>std_control</th>\n",
              "      <th>std_variation</th>\n",
              "      <th>correlation</th>\n",
              "      <th>size_control</th>\n",
              "      <th>size_variation</th>\n",
              "      <th>size_total</th>\n",
              "      <th>p-value</th>\n",
              "      <th>significance</th>\n",
              "      <th>delta</th>\n",
              "    </tr>\n",
              "  </thead>\n",
              "  <tbody>\n",
              "    <tr>\n",
              "      <th>0</th>\n",
              "      <td>Far_east</td>\n",
              "      <td>price_easing</td>\n",
              "      <td>3.27</td>\n",
              "      <td>2.65</td>\n",
              "      <td>1.28</td>\n",
              "      <td>1.00</td>\n",
              "      <td>0.10</td>\n",
              "      <td>2709.0</td>\n",
              "      <td>2904.0</td>\n",
              "      <td>5613.0</td>\n",
              "      <td>0.00</td>\n",
              "      <td>True</td>\n",
              "      <td>-0.19</td>\n",
              "    </tr>\n",
              "    <tr>\n",
              "      <th>1</th>\n",
              "      <td>Far_east</td>\n",
              "      <td>default</td>\n",
              "      <td>3.38</td>\n",
              "      <td>3.40</td>\n",
              "      <td>0.71</td>\n",
              "      <td>0.72</td>\n",
              "      <td>0.32</td>\n",
              "      <td>40057.0</td>\n",
              "      <td>40354.0</td>\n",
              "      <td>80411.0</td>\n",
              "      <td>0.01</td>\n",
              "      <td>True</td>\n",
              "      <td>0.01</td>\n",
              "    </tr>\n",
              "    <tr>\n",
              "      <th>2</th>\n",
              "      <td>Far_east</td>\n",
              "      <td>surge1</td>\n",
              "      <td>3.39</td>\n",
              "      <td>3.55</td>\n",
              "      <td>0.95</td>\n",
              "      <td>1.06</td>\n",
              "      <td>-0.23</td>\n",
              "      <td>18732.0</td>\n",
              "      <td>17504.0</td>\n",
              "      <td>36236.0</td>\n",
              "      <td>0.00</td>\n",
              "      <td>True</td>\n",
              "      <td>0.05</td>\n",
              "    </tr>\n",
              "    <tr>\n",
              "      <th>3</th>\n",
              "      <td>Far_east</td>\n",
              "      <td>surge_shrink1</td>\n",
              "      <td>3.17</td>\n",
              "      <td>3.78</td>\n",
              "      <td>1.13</td>\n",
              "      <td>1.29</td>\n",
              "      <td>0.10</td>\n",
              "      <td>3905.0</td>\n",
              "      <td>3406.0</td>\n",
              "      <td>7311.0</td>\n",
              "      <td>0.00</td>\n",
              "      <td>True</td>\n",
              "      <td>0.19</td>\n",
              "    </tr>\n",
              "    <tr>\n",
              "      <th>4</th>\n",
              "      <td>Far_east</td>\n",
              "      <td>shrink2</td>\n",
              "      <td>3.14</td>\n",
              "      <td>3.67</td>\n",
              "      <td>0.90</td>\n",
              "      <td>1.48</td>\n",
              "      <td>-0.23</td>\n",
              "      <td>810.0</td>\n",
              "      <td>708.0</td>\n",
              "      <td>1518.0</td>\n",
              "      <td>0.06</td>\n",
              "      <td>False</td>\n",
              "      <td>0.17</td>\n",
              "    </tr>\n",
              "  </tbody>\n",
              "</table>\n",
              "</div>"
            ],
            "text/plain": [
              "  zone_name          stage  mean_control  ...  p-value  significance  delta\n",
              "0  Far_east   price_easing          3.27  ...     0.00          True  -0.19\n",
              "1  Far_east        default          3.38  ...     0.01          True   0.01\n",
              "2  Far_east         surge1          3.39  ...     0.00          True   0.05\n",
              "3  Far_east  surge_shrink1          3.17  ...     0.00          True   0.19\n",
              "4  Far_east        shrink2          3.14  ...     0.06         False   0.17\n",
              "\n",
              "[5 rows x 13 columns]"
            ]
          },
          "metadata": {
            "tags": []
          },
          "execution_count": 157
        }
      ]
    },
    {
      "cell_type": "markdown",
      "metadata": {
        "id": "KCxmFwkrYoya"
      },
      "source": [
        "### 3. Basket Value"
      ]
    },
    {
      "cell_type": "code",
      "metadata": {
        "id": "5fiw9UOHYwUA",
        "colab": {
          "base_uri": "https://localhost:8080/",
          "height": 542
        },
        "outputId": "3412921d-9146-4321-a210-fbd60428a7f4"
      },
      "source": [
        "food_avg = df.pivot_table(\"gfv_eur\", index=[\"local_date\"], columns =\"variant\", aggfunc = \"mean\")\n",
        "food_avg = food_avg.reset_index()\n",
        "food_avg[\"delta\"]=food_avg[\"Variation1\"]/food_avg[\"Control\"] -1\n",
        "\n",
        "fig = go.Figure()\n",
        "fig = make_subplots(specs=[[{\"secondary_y\": True}]])\n",
        "fig.add_trace(go.Scatter(x =food_avg.local_date, y=food_avg.Control, mode=\"lines\", name =\"control\"), secondary_y=False)\n",
        "fig.add_trace(go.Scatter(x =food_avg.local_date, y=food_avg.Variation1, mode=\"lines\", name =\"variation\"), secondary_y=False)\n",
        "#fig.add_trace(go.Scatter(x =food_avg.local_date, y=food_avg.delta, mode=\"lines\", name =\"delta\", line = dict(color='gray', width=4, dash='dash')), secondary_y=True)\n",
        "# Add figure title\n",
        "fig.update_layout(title_text=\"Daily avg. Basket Value of Control and Test\")\n",
        "# Set x-axis title\n",
        "fig.update_xaxes(title_text=\"Date\")\n",
        "# Set y-axes titles\n",
        "fig.update_yaxes(title_text=\"Avg. Basket Value\", showgrid=False, secondary_y=False)\n",
        "fig.update_yaxes(title_text=\"Delta % difference of Variation1 vs Control\", showgrid=False,secondary_y=True)\n",
        "fig.show()"
      ],
      "execution_count": null,
      "outputs": [
        {
          "output_type": "display_data",
          "data": {
            "text/html": [
              "<html>\n",
              "<head><meta charset=\"utf-8\" /></head>\n",
              "<body>\n",
              "    <div>\n",
              "            <script src=\"https://cdnjs.cloudflare.com/ajax/libs/mathjax/2.7.5/MathJax.js?config=TeX-AMS-MML_SVG\"></script><script type=\"text/javascript\">if (window.MathJax) {MathJax.Hub.Config({SVG: {font: \"STIX-Web\"}});}</script>\n",
              "                <script type=\"text/javascript\">window.PlotlyConfig = {MathJaxConfig: 'local'};</script>\n",
              "        <script src=\"https://cdn.plot.ly/plotly-latest.min.js\"></script>    \n",
              "            <div id=\"0942fd37-e056-41d7-b714-65b3c6766bc8\" class=\"plotly-graph-div\" style=\"height:525px; width:100%;\"></div>\n",
              "            <script type=\"text/javascript\">\n",
              "                \n",
              "                    window.PLOTLYENV=window.PLOTLYENV || {};\n",
              "                    \n",
              "                if (document.getElementById(\"0942fd37-e056-41d7-b714-65b3c6766bc8\")) {\n",
              "                    Plotly.newPlot(\n",
              "                        '0942fd37-e056-41d7-b714-65b3c6766bc8',\n",
              "                        [{\"mode\": \"lines\", \"name\": \"control\", \"type\": \"scatter\", \"x\": [\"2020-09-04\", \"2020-09-05\", \"2020-09-06\", \"2020-09-07\", \"2020-09-08\", \"2020-09-09\", \"2020-09-10\", \"2020-09-11\", \"2020-09-12\", \"2020-09-13\", \"2020-09-14\", \"2020-09-15\", \"2020-09-16\", \"2020-09-17\", \"2020-09-18\", \"2020-09-19\", \"2020-09-20\", \"2020-09-21\", \"2020-09-22\", \"2020-09-23\", \"2020-09-24\"], \"xaxis\": \"x\", \"y\": [12.64177003157347, 13.069511122131528, 13.20129411599658, 11.682860913898912, 11.951163107945021, 11.687211371080386, 11.74252464308094, 12.365779936080246, 13.509246010087889, 12.972178947249317, 11.436984893571129, 11.42679004013032, 11.869895681065225, 11.867446336428246, 12.5028070163746, 13.494250299286902, 13.382542386056663, 11.899142413284522, 11.865535692222531, 11.863517174518075, 11.775057783327174], \"yaxis\": \"y\"}, {\"mode\": \"lines\", \"name\": \"variation\", \"type\": \"scatter\", \"x\": [\"2020-09-04\", \"2020-09-05\", \"2020-09-06\", \"2020-09-07\", \"2020-09-08\", \"2020-09-09\", \"2020-09-10\", \"2020-09-11\", \"2020-09-12\", \"2020-09-13\", \"2020-09-14\", \"2020-09-15\", \"2020-09-16\", \"2020-09-17\", \"2020-09-18\", \"2020-09-19\", \"2020-09-20\", \"2020-09-21\", \"2020-09-22\", \"2020-09-23\", \"2020-09-24\"], \"xaxis\": \"x\", \"y\": [12.77743246367501, 13.370771818697651, 13.141706657488678, 11.887903027707413, 11.948603565611196, 12.171010718978614, 11.861217461469677, 12.594925324894733, 13.719947613345655, 13.07317614430317, 11.541317881104797, 11.607193759700841, 11.814282192291572, 11.960176777674835, 12.457185440613033, 13.499963179898527, 13.465568684012629, 11.73797960902946, 11.577487669999384, 11.814960630035948, 11.912477711515898], \"yaxis\": \"y\"}],\n",
              "                        {\"template\": {\"data\": {\"bar\": [{\"error_x\": {\"color\": \"#2a3f5f\"}, \"error_y\": {\"color\": \"#2a3f5f\"}, \"marker\": {\"line\": {\"color\": \"#E5ECF6\", \"width\": 0.5}}, \"type\": \"bar\"}], \"barpolar\": [{\"marker\": {\"line\": {\"color\": \"#E5ECF6\", \"width\": 0.5}}, \"type\": \"barpolar\"}], \"carpet\": [{\"aaxis\": {\"endlinecolor\": \"#2a3f5f\", \"gridcolor\": \"white\", \"linecolor\": \"white\", \"minorgridcolor\": \"white\", \"startlinecolor\": \"#2a3f5f\"}, \"baxis\": {\"endlinecolor\": \"#2a3f5f\", \"gridcolor\": \"white\", \"linecolor\": \"white\", \"minorgridcolor\": \"white\", \"startlinecolor\": \"#2a3f5f\"}, \"type\": \"carpet\"}], \"choropleth\": [{\"colorbar\": {\"outlinewidth\": 0, \"ticks\": \"\"}, \"type\": \"choropleth\"}], \"contour\": [{\"colorbar\": {\"outlinewidth\": 0, \"ticks\": \"\"}, \"colorscale\": [[0.0, \"#0d0887\"], [0.1111111111111111, \"#46039f\"], [0.2222222222222222, \"#7201a8\"], [0.3333333333333333, \"#9c179e\"], [0.4444444444444444, \"#bd3786\"], [0.5555555555555556, \"#d8576b\"], [0.6666666666666666, \"#ed7953\"], [0.7777777777777778, \"#fb9f3a\"], [0.8888888888888888, \"#fdca26\"], [1.0, \"#f0f921\"]], \"type\": \"contour\"}], \"contourcarpet\": [{\"colorbar\": {\"outlinewidth\": 0, \"ticks\": \"\"}, \"type\": \"contourcarpet\"}], \"heatmap\": [{\"colorbar\": {\"outlinewidth\": 0, \"ticks\": \"\"}, \"colorscale\": [[0.0, \"#0d0887\"], [0.1111111111111111, \"#46039f\"], [0.2222222222222222, \"#7201a8\"], [0.3333333333333333, \"#9c179e\"], [0.4444444444444444, \"#bd3786\"], [0.5555555555555556, \"#d8576b\"], [0.6666666666666666, \"#ed7953\"], [0.7777777777777778, \"#fb9f3a\"], [0.8888888888888888, \"#fdca26\"], [1.0, \"#f0f921\"]], \"type\": \"heatmap\"}], \"heatmapgl\": [{\"colorbar\": {\"outlinewidth\": 0, \"ticks\": \"\"}, \"colorscale\": [[0.0, \"#0d0887\"], [0.1111111111111111, \"#46039f\"], [0.2222222222222222, \"#7201a8\"], [0.3333333333333333, \"#9c179e\"], [0.4444444444444444, \"#bd3786\"], [0.5555555555555556, \"#d8576b\"], [0.6666666666666666, \"#ed7953\"], [0.7777777777777778, \"#fb9f3a\"], [0.8888888888888888, \"#fdca26\"], [1.0, \"#f0f921\"]], \"type\": \"heatmapgl\"}], \"histogram\": [{\"marker\": {\"colorbar\": {\"outlinewidth\": 0, \"ticks\": \"\"}}, \"type\": \"histogram\"}], \"histogram2d\": [{\"colorbar\": {\"outlinewidth\": 0, \"ticks\": \"\"}, \"colorscale\": [[0.0, \"#0d0887\"], [0.1111111111111111, \"#46039f\"], [0.2222222222222222, \"#7201a8\"], [0.3333333333333333, \"#9c179e\"], [0.4444444444444444, \"#bd3786\"], [0.5555555555555556, \"#d8576b\"], [0.6666666666666666, \"#ed7953\"], [0.7777777777777778, \"#fb9f3a\"], [0.8888888888888888, \"#fdca26\"], [1.0, \"#f0f921\"]], \"type\": \"histogram2d\"}], \"histogram2dcontour\": [{\"colorbar\": {\"outlinewidth\": 0, \"ticks\": \"\"}, \"colorscale\": [[0.0, \"#0d0887\"], [0.1111111111111111, \"#46039f\"], [0.2222222222222222, \"#7201a8\"], [0.3333333333333333, \"#9c179e\"], [0.4444444444444444, \"#bd3786\"], [0.5555555555555556, \"#d8576b\"], [0.6666666666666666, \"#ed7953\"], [0.7777777777777778, \"#fb9f3a\"], [0.8888888888888888, \"#fdca26\"], [1.0, \"#f0f921\"]], \"type\": \"histogram2dcontour\"}], \"mesh3d\": [{\"colorbar\": {\"outlinewidth\": 0, \"ticks\": \"\"}, \"type\": \"mesh3d\"}], \"parcoords\": [{\"line\": {\"colorbar\": {\"outlinewidth\": 0, \"ticks\": \"\"}}, \"type\": \"parcoords\"}], \"pie\": [{\"automargin\": true, \"type\": \"pie\"}], \"scatter\": [{\"marker\": {\"colorbar\": {\"outlinewidth\": 0, \"ticks\": \"\"}}, \"type\": \"scatter\"}], \"scatter3d\": [{\"line\": {\"colorbar\": {\"outlinewidth\": 0, \"ticks\": \"\"}}, \"marker\": {\"colorbar\": {\"outlinewidth\": 0, \"ticks\": \"\"}}, \"type\": \"scatter3d\"}], \"scattercarpet\": [{\"marker\": {\"colorbar\": {\"outlinewidth\": 0, \"ticks\": \"\"}}, \"type\": \"scattercarpet\"}], \"scattergeo\": [{\"marker\": {\"colorbar\": {\"outlinewidth\": 0, \"ticks\": \"\"}}, \"type\": \"scattergeo\"}], \"scattergl\": [{\"marker\": {\"colorbar\": {\"outlinewidth\": 0, \"ticks\": \"\"}}, \"type\": \"scattergl\"}], \"scattermapbox\": [{\"marker\": {\"colorbar\": {\"outlinewidth\": 0, \"ticks\": \"\"}}, \"type\": \"scattermapbox\"}], \"scatterpolar\": [{\"marker\": {\"colorbar\": {\"outlinewidth\": 0, \"ticks\": \"\"}}, \"type\": \"scatterpolar\"}], \"scatterpolargl\": [{\"marker\": {\"colorbar\": {\"outlinewidth\": 0, \"ticks\": \"\"}}, \"type\": \"scatterpolargl\"}], \"scatterternary\": [{\"marker\": {\"colorbar\": {\"outlinewidth\": 0, \"ticks\": \"\"}}, \"type\": \"scatterternary\"}], \"surface\": [{\"colorbar\": {\"outlinewidth\": 0, \"ticks\": \"\"}, \"colorscale\": [[0.0, \"#0d0887\"], [0.1111111111111111, \"#46039f\"], [0.2222222222222222, \"#7201a8\"], [0.3333333333333333, \"#9c179e\"], [0.4444444444444444, \"#bd3786\"], [0.5555555555555556, \"#d8576b\"], [0.6666666666666666, \"#ed7953\"], [0.7777777777777778, \"#fb9f3a\"], [0.8888888888888888, \"#fdca26\"], [1.0, \"#f0f921\"]], \"type\": \"surface\"}], \"table\": [{\"cells\": {\"fill\": {\"color\": \"#EBF0F8\"}, \"line\": {\"color\": \"white\"}}, \"header\": {\"fill\": {\"color\": \"#C8D4E3\"}, \"line\": {\"color\": \"white\"}}, \"type\": \"table\"}]}, \"layout\": {\"annotationdefaults\": {\"arrowcolor\": \"#2a3f5f\", \"arrowhead\": 0, \"arrowwidth\": 1}, \"coloraxis\": {\"colorbar\": {\"outlinewidth\": 0, \"ticks\": \"\"}}, \"colorscale\": {\"diverging\": [[0, \"#8e0152\"], [0.1, \"#c51b7d\"], [0.2, \"#de77ae\"], [0.3, \"#f1b6da\"], [0.4, \"#fde0ef\"], [0.5, \"#f7f7f7\"], [0.6, \"#e6f5d0\"], [0.7, \"#b8e186\"], [0.8, \"#7fbc41\"], [0.9, \"#4d9221\"], [1, \"#276419\"]], \"sequential\": [[0.0, \"#0d0887\"], [0.1111111111111111, \"#46039f\"], [0.2222222222222222, \"#7201a8\"], [0.3333333333333333, \"#9c179e\"], [0.4444444444444444, \"#bd3786\"], [0.5555555555555556, \"#d8576b\"], [0.6666666666666666, \"#ed7953\"], [0.7777777777777778, \"#fb9f3a\"], [0.8888888888888888, \"#fdca26\"], [1.0, \"#f0f921\"]], \"sequentialminus\": [[0.0, \"#0d0887\"], [0.1111111111111111, \"#46039f\"], [0.2222222222222222, \"#7201a8\"], [0.3333333333333333, \"#9c179e\"], [0.4444444444444444, \"#bd3786\"], [0.5555555555555556, \"#d8576b\"], [0.6666666666666666, \"#ed7953\"], [0.7777777777777778, \"#fb9f3a\"], [0.8888888888888888, \"#fdca26\"], [1.0, \"#f0f921\"]]}, \"colorway\": [\"#636efa\", \"#EF553B\", \"#00cc96\", \"#ab63fa\", \"#FFA15A\", \"#19d3f3\", \"#FF6692\", \"#B6E880\", \"#FF97FF\", \"#FECB52\"], \"font\": {\"color\": \"#2a3f5f\"}, \"geo\": {\"bgcolor\": \"white\", \"lakecolor\": \"white\", \"landcolor\": \"#E5ECF6\", \"showlakes\": true, \"showland\": true, \"subunitcolor\": \"white\"}, \"hoverlabel\": {\"align\": \"left\"}, \"hovermode\": \"closest\", \"mapbox\": {\"style\": \"light\"}, \"paper_bgcolor\": \"white\", \"plot_bgcolor\": \"#E5ECF6\", \"polar\": {\"angularaxis\": {\"gridcolor\": \"white\", \"linecolor\": \"white\", \"ticks\": \"\"}, \"bgcolor\": \"#E5ECF6\", \"radialaxis\": {\"gridcolor\": \"white\", \"linecolor\": \"white\", \"ticks\": \"\"}}, \"scene\": {\"xaxis\": {\"backgroundcolor\": \"#E5ECF6\", \"gridcolor\": \"white\", \"gridwidth\": 2, \"linecolor\": \"white\", \"showbackground\": true, \"ticks\": \"\", \"zerolinecolor\": \"white\"}, \"yaxis\": {\"backgroundcolor\": \"#E5ECF6\", \"gridcolor\": \"white\", \"gridwidth\": 2, \"linecolor\": \"white\", \"showbackground\": true, \"ticks\": \"\", \"zerolinecolor\": \"white\"}, \"zaxis\": {\"backgroundcolor\": \"#E5ECF6\", \"gridcolor\": \"white\", \"gridwidth\": 2, \"linecolor\": \"white\", \"showbackground\": true, \"ticks\": \"\", \"zerolinecolor\": \"white\"}}, \"shapedefaults\": {\"line\": {\"color\": \"#2a3f5f\"}}, \"ternary\": {\"aaxis\": {\"gridcolor\": \"white\", \"linecolor\": \"white\", \"ticks\": \"\"}, \"baxis\": {\"gridcolor\": \"white\", \"linecolor\": \"white\", \"ticks\": \"\"}, \"bgcolor\": \"#E5ECF6\", \"caxis\": {\"gridcolor\": \"white\", \"linecolor\": \"white\", \"ticks\": \"\"}}, \"title\": {\"x\": 0.05}, \"xaxis\": {\"automargin\": true, \"gridcolor\": \"white\", \"linecolor\": \"white\", \"ticks\": \"\", \"title\": {\"standoff\": 15}, \"zerolinecolor\": \"white\", \"zerolinewidth\": 2}, \"yaxis\": {\"automargin\": true, \"gridcolor\": \"white\", \"linecolor\": \"white\", \"ticks\": \"\", \"title\": {\"standoff\": 15}, \"zerolinecolor\": \"white\", \"zerolinewidth\": 2}}}, \"title\": {\"text\": \"Daily avg. Basket Value of Control and Test\"}, \"xaxis\": {\"anchor\": \"y\", \"domain\": [0.0, 0.94], \"title\": {\"text\": \"Date\"}}, \"yaxis\": {\"anchor\": \"x\", \"domain\": [0.0, 1.0], \"showgrid\": false, \"title\": {\"text\": \"Avg. Basket Value\"}}, \"yaxis2\": {\"anchor\": \"x\", \"overlaying\": \"y\", \"showgrid\": false, \"side\": \"right\", \"title\": {\"text\": \"Delta % difference of Variation1 vs Control\"}}},\n",
              "                        {\"responsive\": true}\n",
              "                    ).then(function(){\n",
              "                            \n",
              "var gd = document.getElementById('0942fd37-e056-41d7-b714-65b3c6766bc8');\n",
              "var x = new MutationObserver(function (mutations, observer) {{\n",
              "        var display = window.getComputedStyle(gd).display;\n",
              "        if (!display || display === 'none') {{\n",
              "            console.log([gd, 'removed!']);\n",
              "            Plotly.purge(gd);\n",
              "            observer.disconnect();\n",
              "        }}\n",
              "}});\n",
              "\n",
              "// Listen for the removal of the full notebook cells\n",
              "var notebookContainer = gd.closest('#notebook-container');\n",
              "if (notebookContainer) {{\n",
              "    x.observe(notebookContainer, {childList: true});\n",
              "}}\n",
              "\n",
              "// Listen for the clearing of the current output cell\n",
              "var outputEl = gd.closest('.output');\n",
              "if (outputEl) {{\n",
              "    x.observe(outputEl, {childList: true});\n",
              "}}\n",
              "\n",
              "                        })\n",
              "                };\n",
              "                \n",
              "            </script>\n",
              "        </div>\n",
              "</body>\n",
              "</html>"
            ]
          },
          "metadata": {
            "tags": []
          }
        }
      ]
    },
    {
      "cell_type": "markdown",
      "metadata": {
        "id": "BeQSsKB3C36I"
      },
      "source": [
        "#### Aggregated level"
      ]
    },
    {
      "cell_type": "code",
      "metadata": {
        "id": "44E2vKoNY-JX",
        "colab": {
          "base_uri": "https://localhost:8080/",
          "height": 34
        },
        "outputId": "c79f7882-4fe2-40f2-e45d-ce82d28e2c52"
      },
      "source": [
        "# Daily basket value significance check\n",
        "#df_avg.describe()\n",
        "stats.wilcoxon(food_avg['Variation1'], food_avg['Control'])"
      ],
      "execution_count": null,
      "outputs": [
        {
          "output_type": "execute_result",
          "data": {
            "text/plain": [
              "WilcoxonResult(statistic=52.0, pvalue=0.02730632132788956)"
            ]
          },
          "metadata": {
            "tags": []
          },
          "execution_count": 160
        }
      ]
    },
    {
      "cell_type": "code",
      "metadata": {
        "id": "ftFY3WFNDmYg",
        "colab": {
          "base_uri": "https://localhost:8080/",
          "height": 34
        },
        "outputId": "e81a2c20-855d-4796-b19d-41dcf80e3628"
      },
      "source": [
        "# Daily hourly basket value significance check\n",
        "food_sig = df.pivot_table(\"gfv_eur\", index=[\"local_date\", \"hour_block\"], columns =\"variant\", aggfunc = \"mean\").reset_index()\n",
        "stats.wilcoxon(food_sig['Variation1'], food_sig['Control']) "
      ],
      "execution_count": null,
      "outputs": [
        {
          "output_type": "execute_result",
          "data": {
            "text/plain": [
              "WilcoxonResult(statistic=17383.0, pvalue=0.3129581320459671)"
            ]
          },
          "metadata": {
            "tags": []
          },
          "execution_count": 161
        }
      ]
    },
    {
      "cell_type": "markdown",
      "metadata": {
        "id": "WL2ifab7D0s3"
      },
      "source": [
        "#### Stage level"
      ]
    },
    {
      "cell_type": "code",
      "metadata": {
        "id": "EhXPlRyBD4O3",
        "colab": {
          "base_uri": "https://localhost:8080/",
          "height": 542
        },
        "outputId": "0e3b6249-088f-426b-9584-84186d4f2794"
      },
      "source": [
        "pivot = df.pivot_table(\"gfv_eur\", index=[\"stage\",\"local_date\"], columns =\"variant\", aggfunc = \"mean\")\n",
        "pivot[\"delta\"] = pivot[\"Variation1\"]/pivot[\"Control\"]-1\n",
        "pivot['delta'] = pivot['delta'].astype(float).map(lambda n: '{:.2%}'.format(n))\n",
        "pivot = pivot.reset_index()\n",
        "pivot.head()\n",
        "\n",
        "fig = px.line(pivot, x=\"local_date\", y=\"delta\", color=\"stage\", text = \"delta\",category_orders={\"stage\": [\"price_easing\", \"default\", \"surge1\", \"surge_shrink1\", \"shrink2\"]})\n",
        "# Set x-axis title\n",
        "fig.update_xaxes(title_text=\"Date\")\n",
        "# Set y-axes titles\n",
        "fig.update_yaxes(title_text=\"delta (variation1 vs control)\", showgrid=False)\n",
        "fig.show()"
      ],
      "execution_count": null,
      "outputs": [
        {
          "output_type": "display_data",
          "data": {
            "text/html": [
              "<html>\n",
              "<head><meta charset=\"utf-8\" /></head>\n",
              "<body>\n",
              "    <div>\n",
              "            <script src=\"https://cdnjs.cloudflare.com/ajax/libs/mathjax/2.7.5/MathJax.js?config=TeX-AMS-MML_SVG\"></script><script type=\"text/javascript\">if (window.MathJax) {MathJax.Hub.Config({SVG: {font: \"STIX-Web\"}});}</script>\n",
              "                <script type=\"text/javascript\">window.PlotlyConfig = {MathJaxConfig: 'local'};</script>\n",
              "        <script src=\"https://cdn.plot.ly/plotly-latest.min.js\"></script>    \n",
              "            <div id=\"195ffdfa-ac61-4e15-a326-09e2c5bda39b\" class=\"plotly-graph-div\" style=\"height:525px; width:100%;\"></div>\n",
              "            <script type=\"text/javascript\">\n",
              "                \n",
              "                    window.PLOTLYENV=window.PLOTLYENV || {};\n",
              "                    \n",
              "                if (document.getElementById(\"195ffdfa-ac61-4e15-a326-09e2c5bda39b\")) {\n",
              "                    Plotly.newPlot(\n",
              "                        '195ffdfa-ac61-4e15-a326-09e2c5bda39b',\n",
              "                        [{\"hoverlabel\": {\"namelength\": 0}, \"hovertemplate\": \"stage=price_easing<br>local_date=%{x}<br>delta=%{text}\", \"legendgroup\": \"stage=price_easing\", \"line\": {\"color\": \"#636efa\", \"dash\": \"solid\"}, \"mode\": \"lines+markers+text\", \"name\": \"stage=price_easing\", \"showlegend\": true, \"text\": [\"-11.84%\", \"63.64%\", \"28.93%\", \"6.05%\", \"-15.21%\", \"3.61%\", \"4.53%\", \"3.52%\", \"6.19%\", \"-2.17%\", \"13.16%\", \"6.18%\", \"12.47%\", \"2.67%\", \"2.69%\", \"41.34%\", \"3.36%\", \"-5.53%\", \"-2.47%\", \"-4.60%\", \"0.65%\"], \"type\": \"scatter\", \"x\": [\"2020-09-04\", \"2020-09-05\", \"2020-09-06\", \"2020-09-07\", \"2020-09-08\", \"2020-09-09\", \"2020-09-10\", \"2020-09-11\", \"2020-09-12\", \"2020-09-13\", \"2020-09-14\", \"2020-09-15\", \"2020-09-16\", \"2020-09-17\", \"2020-09-18\", \"2020-09-19\", \"2020-09-20\", \"2020-09-21\", \"2020-09-22\", \"2020-09-23\", \"2020-09-24\"], \"xaxis\": \"x\", \"y\": [\"-11.84%\", \"63.64%\", \"28.93%\", \"6.05%\", \"-15.21%\", \"3.61%\", \"4.53%\", \"3.52%\", \"6.19%\", \"-2.17%\", \"13.16%\", \"6.18%\", \"12.47%\", \"2.67%\", \"2.69%\", \"41.34%\", \"3.36%\", \"-5.53%\", \"-2.47%\", \"-4.60%\", \"0.65%\"], \"yaxis\": \"y\"}, {\"hoverlabel\": {\"namelength\": 0}, \"hovertemplate\": \"stage=default<br>local_date=%{x}<br>delta=%{text}\", \"legendgroup\": \"stage=default\", \"line\": {\"color\": \"#EF553B\", \"dash\": \"solid\"}, \"mode\": \"lines+markers+text\", \"name\": \"stage=default\", \"showlegend\": true, \"text\": [\"-0.60%\", \"-2.22%\", \"-7.43%\", \"-0.46%\", \"-0.04%\", \"5.12%\", \"0.11%\", \"1.90%\", \"1.65%\", \"-9.07%\", \"0.34%\", \"1.22%\", \"-1.32%\", \"0.36%\", \"-2.00%\", \"-0.35%\", \"1.58%\", \"-0.78%\", \"-1.64%\", \"0.13%\", \"1.18%\"], \"type\": \"scatter\", \"x\": [\"2020-09-04\", \"2020-09-05\", \"2020-09-06\", \"2020-09-07\", \"2020-09-08\", \"2020-09-09\", \"2020-09-10\", \"2020-09-11\", \"2020-09-12\", \"2020-09-13\", \"2020-09-14\", \"2020-09-15\", \"2020-09-16\", \"2020-09-17\", \"2020-09-18\", \"2020-09-19\", \"2020-09-20\", \"2020-09-21\", \"2020-09-22\", \"2020-09-23\", \"2020-09-24\"], \"xaxis\": \"x\", \"y\": [\"-0.60%\", \"-2.22%\", \"-7.43%\", \"-0.46%\", \"-0.04%\", \"5.12%\", \"0.11%\", \"1.90%\", \"1.65%\", \"-9.07%\", \"0.34%\", \"1.22%\", \"-1.32%\", \"0.36%\", \"-2.00%\", \"-0.35%\", \"1.58%\", \"-0.78%\", \"-1.64%\", \"0.13%\", \"1.18%\"], \"yaxis\": \"y\"}, {\"hoverlabel\": {\"namelength\": 0}, \"hovertemplate\": \"stage=surge1<br>local_date=%{x}<br>delta=%{text}\", \"legendgroup\": \"stage=surge1\", \"line\": {\"color\": \"#00cc96\", \"dash\": \"solid\"}, \"mode\": \"lines+markers+text\", \"name\": \"stage=surge1\", \"showlegend\": true, \"text\": [\"1.93%\", \"0.51%\", \"6.93%\", \"8.29%\", \"1.34%\", \"1.16%\", \"3.36%\", \"0.45%\", \"1.41%\", \"2.11%\", \"1.00%\", \"3.18%\", \"-3.98%\", \"3.56%\", \"5.83%\", \"0.31%\", \"-0.92%\", \"-2.29%\", \"-36.63%\", \"-19.78%\", \"-0.06%\"], \"type\": \"scatter\", \"x\": [\"2020-09-04\", \"2020-09-05\", \"2020-09-06\", \"2020-09-07\", \"2020-09-08\", \"2020-09-09\", \"2020-09-10\", \"2020-09-11\", \"2020-09-12\", \"2020-09-13\", \"2020-09-14\", \"2020-09-15\", \"2020-09-16\", \"2020-09-17\", \"2020-09-18\", \"2020-09-19\", \"2020-09-20\", \"2020-09-21\", \"2020-09-22\", \"2020-09-23\", \"2020-09-24\"], \"xaxis\": \"x\", \"y\": [\"1.93%\", \"0.51%\", \"6.93%\", \"8.29%\", \"1.34%\", \"1.16%\", \"3.36%\", \"0.45%\", \"1.41%\", \"2.11%\", \"1.00%\", \"3.18%\", \"-3.98%\", \"3.56%\", \"5.83%\", \"0.31%\", \"-0.92%\", \"-2.29%\", \"-36.63%\", \"-19.78%\", \"-0.06%\"], \"yaxis\": \"y\"}, {\"hoverlabel\": {\"namelength\": 0}, \"hovertemplate\": \"stage=surge_shrink1<br>local_date=%{x}<br>delta=%{text}\", \"legendgroup\": \"stage=surge_shrink1\", \"line\": {\"color\": \"#ab63fa\", \"dash\": \"solid\"}, \"mode\": \"lines+markers+text\", \"name\": \"stage=surge_shrink1\", \"showlegend\": true, \"text\": [\"34.31%\", \"3.05%\", \"-3.01%\", \"17.08%\", \"nan%\", \"nan%\", \"32.39%\", \"2.91%\", \"3.50%\", \"-5.43%\", \"nan%\", \"nan%\", \"13.80%\", \"3.50%\", \"-7.86%\", \"nan%\"], \"type\": \"scatter\", \"x\": [\"2020-09-04\", \"2020-09-05\", \"2020-09-06\", \"2020-09-07\", \"2020-09-08\", \"2020-09-09\", \"2020-09-11\", \"2020-09-12\", \"2020-09-13\", \"2020-09-14\", \"2020-09-15\", \"2020-09-16\", \"2020-09-19\", \"2020-09-20\", \"2020-09-21\", \"2020-09-22\"], \"xaxis\": \"x\", \"y\": [\"34.31%\", \"3.05%\", \"-3.01%\", \"17.08%\", \"nan%\", \"nan%\", \"32.39%\", \"2.91%\", \"3.50%\", \"-5.43%\", \"nan%\", \"nan%\", \"13.80%\", \"3.50%\", \"-7.86%\", \"nan%\"], \"yaxis\": \"y\"}, {\"hoverlabel\": {\"namelength\": 0}, \"hovertemplate\": \"stage=shrink2<br>local_date=%{x}<br>delta=%{text}\", \"legendgroup\": \"stage=shrink2\", \"line\": {\"color\": \"#FFA15A\", \"dash\": \"solid\"}, \"mode\": \"lines+markers+text\", \"name\": \"stage=shrink2\", \"showlegend\": true, \"text\": [\"7.33%\", \"-10.30%\", \"nan%\", \"248.76%\", \"3.40%\", \"nan%\"], \"type\": \"scatter\", \"x\": [\"2020-09-05\", \"2020-09-06\", \"2020-09-07\", \"2020-09-11\", \"2020-09-13\", \"2020-09-14\"], \"xaxis\": \"x\", \"y\": [\"7.33%\", \"-10.30%\", \"nan%\", \"248.76%\", \"3.40%\", \"nan%\"], \"yaxis\": \"y\"}],\n",
              "                        {\"legend\": {\"tracegroupgap\": 0}, \"margin\": {\"t\": 60}, \"template\": {\"data\": {\"bar\": [{\"error_x\": {\"color\": \"#2a3f5f\"}, \"error_y\": {\"color\": \"#2a3f5f\"}, \"marker\": {\"line\": {\"color\": \"#E5ECF6\", \"width\": 0.5}}, \"type\": \"bar\"}], \"barpolar\": [{\"marker\": {\"line\": {\"color\": \"#E5ECF6\", \"width\": 0.5}}, \"type\": \"barpolar\"}], \"carpet\": [{\"aaxis\": {\"endlinecolor\": \"#2a3f5f\", \"gridcolor\": \"white\", \"linecolor\": \"white\", \"minorgridcolor\": \"white\", \"startlinecolor\": \"#2a3f5f\"}, \"baxis\": {\"endlinecolor\": \"#2a3f5f\", \"gridcolor\": \"white\", \"linecolor\": \"white\", \"minorgridcolor\": \"white\", \"startlinecolor\": \"#2a3f5f\"}, \"type\": \"carpet\"}], \"choropleth\": [{\"colorbar\": {\"outlinewidth\": 0, \"ticks\": \"\"}, \"type\": \"choropleth\"}], \"contour\": [{\"colorbar\": {\"outlinewidth\": 0, \"ticks\": \"\"}, \"colorscale\": [[0.0, \"#0d0887\"], [0.1111111111111111, \"#46039f\"], [0.2222222222222222, \"#7201a8\"], [0.3333333333333333, \"#9c179e\"], [0.4444444444444444, \"#bd3786\"], [0.5555555555555556, \"#d8576b\"], [0.6666666666666666, \"#ed7953\"], [0.7777777777777778, \"#fb9f3a\"], [0.8888888888888888, \"#fdca26\"], [1.0, \"#f0f921\"]], \"type\": \"contour\"}], \"contourcarpet\": [{\"colorbar\": {\"outlinewidth\": 0, \"ticks\": \"\"}, \"type\": \"contourcarpet\"}], \"heatmap\": [{\"colorbar\": {\"outlinewidth\": 0, \"ticks\": \"\"}, \"colorscale\": [[0.0, \"#0d0887\"], [0.1111111111111111, \"#46039f\"], [0.2222222222222222, \"#7201a8\"], [0.3333333333333333, \"#9c179e\"], [0.4444444444444444, \"#bd3786\"], [0.5555555555555556, \"#d8576b\"], [0.6666666666666666, \"#ed7953\"], [0.7777777777777778, \"#fb9f3a\"], [0.8888888888888888, \"#fdca26\"], [1.0, \"#f0f921\"]], \"type\": \"heatmap\"}], \"heatmapgl\": [{\"colorbar\": {\"outlinewidth\": 0, \"ticks\": \"\"}, \"colorscale\": [[0.0, \"#0d0887\"], [0.1111111111111111, \"#46039f\"], [0.2222222222222222, \"#7201a8\"], [0.3333333333333333, \"#9c179e\"], [0.4444444444444444, \"#bd3786\"], [0.5555555555555556, \"#d8576b\"], [0.6666666666666666, \"#ed7953\"], [0.7777777777777778, \"#fb9f3a\"], [0.8888888888888888, \"#fdca26\"], [1.0, \"#f0f921\"]], \"type\": \"heatmapgl\"}], \"histogram\": [{\"marker\": {\"colorbar\": {\"outlinewidth\": 0, \"ticks\": \"\"}}, \"type\": \"histogram\"}], \"histogram2d\": [{\"colorbar\": {\"outlinewidth\": 0, \"ticks\": \"\"}, \"colorscale\": [[0.0, \"#0d0887\"], [0.1111111111111111, \"#46039f\"], [0.2222222222222222, \"#7201a8\"], [0.3333333333333333, \"#9c179e\"], [0.4444444444444444, \"#bd3786\"], [0.5555555555555556, \"#d8576b\"], [0.6666666666666666, \"#ed7953\"], [0.7777777777777778, \"#fb9f3a\"], [0.8888888888888888, \"#fdca26\"], [1.0, \"#f0f921\"]], \"type\": \"histogram2d\"}], \"histogram2dcontour\": [{\"colorbar\": {\"outlinewidth\": 0, \"ticks\": \"\"}, \"colorscale\": [[0.0, \"#0d0887\"], [0.1111111111111111, \"#46039f\"], [0.2222222222222222, \"#7201a8\"], [0.3333333333333333, \"#9c179e\"], [0.4444444444444444, \"#bd3786\"], [0.5555555555555556, \"#d8576b\"], [0.6666666666666666, \"#ed7953\"], [0.7777777777777778, \"#fb9f3a\"], [0.8888888888888888, \"#fdca26\"], [1.0, \"#f0f921\"]], \"type\": \"histogram2dcontour\"}], \"mesh3d\": [{\"colorbar\": {\"outlinewidth\": 0, \"ticks\": \"\"}, \"type\": \"mesh3d\"}], \"parcoords\": [{\"line\": {\"colorbar\": {\"outlinewidth\": 0, \"ticks\": \"\"}}, \"type\": \"parcoords\"}], \"pie\": [{\"automargin\": true, \"type\": \"pie\"}], \"scatter\": [{\"marker\": {\"colorbar\": {\"outlinewidth\": 0, \"ticks\": \"\"}}, \"type\": \"scatter\"}], \"scatter3d\": [{\"line\": {\"colorbar\": {\"outlinewidth\": 0, \"ticks\": \"\"}}, \"marker\": {\"colorbar\": {\"outlinewidth\": 0, \"ticks\": \"\"}}, \"type\": \"scatter3d\"}], \"scattercarpet\": [{\"marker\": {\"colorbar\": {\"outlinewidth\": 0, \"ticks\": \"\"}}, \"type\": \"scattercarpet\"}], \"scattergeo\": [{\"marker\": {\"colorbar\": {\"outlinewidth\": 0, \"ticks\": \"\"}}, \"type\": \"scattergeo\"}], \"scattergl\": [{\"marker\": {\"colorbar\": {\"outlinewidth\": 0, \"ticks\": \"\"}}, \"type\": \"scattergl\"}], \"scattermapbox\": [{\"marker\": {\"colorbar\": {\"outlinewidth\": 0, \"ticks\": \"\"}}, \"type\": \"scattermapbox\"}], \"scatterpolar\": [{\"marker\": {\"colorbar\": {\"outlinewidth\": 0, \"ticks\": \"\"}}, \"type\": \"scatterpolar\"}], \"scatterpolargl\": [{\"marker\": {\"colorbar\": {\"outlinewidth\": 0, \"ticks\": \"\"}}, \"type\": \"scatterpolargl\"}], \"scatterternary\": [{\"marker\": {\"colorbar\": {\"outlinewidth\": 0, \"ticks\": \"\"}}, \"type\": \"scatterternary\"}], \"surface\": [{\"colorbar\": {\"outlinewidth\": 0, \"ticks\": \"\"}, \"colorscale\": [[0.0, \"#0d0887\"], [0.1111111111111111, \"#46039f\"], [0.2222222222222222, \"#7201a8\"], [0.3333333333333333, \"#9c179e\"], [0.4444444444444444, \"#bd3786\"], [0.5555555555555556, \"#d8576b\"], [0.6666666666666666, \"#ed7953\"], [0.7777777777777778, \"#fb9f3a\"], [0.8888888888888888, \"#fdca26\"], [1.0, \"#f0f921\"]], \"type\": \"surface\"}], \"table\": [{\"cells\": {\"fill\": {\"color\": \"#EBF0F8\"}, \"line\": {\"color\": \"white\"}}, \"header\": {\"fill\": {\"color\": \"#C8D4E3\"}, \"line\": {\"color\": \"white\"}}, \"type\": \"table\"}]}, \"layout\": {\"annotationdefaults\": {\"arrowcolor\": \"#2a3f5f\", \"arrowhead\": 0, \"arrowwidth\": 1}, \"coloraxis\": {\"colorbar\": {\"outlinewidth\": 0, \"ticks\": \"\"}}, \"colorscale\": {\"diverging\": [[0, \"#8e0152\"], [0.1, \"#c51b7d\"], [0.2, \"#de77ae\"], [0.3, \"#f1b6da\"], [0.4, \"#fde0ef\"], [0.5, \"#f7f7f7\"], [0.6, \"#e6f5d0\"], [0.7, \"#b8e186\"], [0.8, \"#7fbc41\"], [0.9, \"#4d9221\"], [1, \"#276419\"]], \"sequential\": [[0.0, \"#0d0887\"], [0.1111111111111111, \"#46039f\"], [0.2222222222222222, \"#7201a8\"], [0.3333333333333333, \"#9c179e\"], [0.4444444444444444, \"#bd3786\"], [0.5555555555555556, \"#d8576b\"], [0.6666666666666666, \"#ed7953\"], [0.7777777777777778, \"#fb9f3a\"], [0.8888888888888888, \"#fdca26\"], [1.0, \"#f0f921\"]], \"sequentialminus\": [[0.0, \"#0d0887\"], [0.1111111111111111, \"#46039f\"], [0.2222222222222222, \"#7201a8\"], [0.3333333333333333, \"#9c179e\"], [0.4444444444444444, \"#bd3786\"], [0.5555555555555556, \"#d8576b\"], [0.6666666666666666, \"#ed7953\"], [0.7777777777777778, \"#fb9f3a\"], [0.8888888888888888, \"#fdca26\"], [1.0, \"#f0f921\"]]}, \"colorway\": [\"#636efa\", \"#EF553B\", \"#00cc96\", \"#ab63fa\", \"#FFA15A\", \"#19d3f3\", \"#FF6692\", \"#B6E880\", \"#FF97FF\", \"#FECB52\"], \"font\": {\"color\": \"#2a3f5f\"}, \"geo\": {\"bgcolor\": \"white\", \"lakecolor\": \"white\", \"landcolor\": \"#E5ECF6\", \"showlakes\": true, \"showland\": true, \"subunitcolor\": \"white\"}, \"hoverlabel\": {\"align\": \"left\"}, \"hovermode\": \"closest\", \"mapbox\": {\"style\": \"light\"}, \"paper_bgcolor\": \"white\", \"plot_bgcolor\": \"#E5ECF6\", \"polar\": {\"angularaxis\": {\"gridcolor\": \"white\", \"linecolor\": \"white\", \"ticks\": \"\"}, \"bgcolor\": \"#E5ECF6\", \"radialaxis\": {\"gridcolor\": \"white\", \"linecolor\": \"white\", \"ticks\": \"\"}}, \"scene\": {\"xaxis\": {\"backgroundcolor\": \"#E5ECF6\", \"gridcolor\": \"white\", \"gridwidth\": 2, \"linecolor\": \"white\", \"showbackground\": true, \"ticks\": \"\", \"zerolinecolor\": \"white\"}, \"yaxis\": {\"backgroundcolor\": \"#E5ECF6\", \"gridcolor\": \"white\", \"gridwidth\": 2, \"linecolor\": \"white\", \"showbackground\": true, \"ticks\": \"\", \"zerolinecolor\": \"white\"}, \"zaxis\": {\"backgroundcolor\": \"#E5ECF6\", \"gridcolor\": \"white\", \"gridwidth\": 2, \"linecolor\": \"white\", \"showbackground\": true, \"ticks\": \"\", \"zerolinecolor\": \"white\"}}, \"shapedefaults\": {\"line\": {\"color\": \"#2a3f5f\"}}, \"ternary\": {\"aaxis\": {\"gridcolor\": \"white\", \"linecolor\": \"white\", \"ticks\": \"\"}, \"baxis\": {\"gridcolor\": \"white\", \"linecolor\": \"white\", \"ticks\": \"\"}, \"bgcolor\": \"#E5ECF6\", \"caxis\": {\"gridcolor\": \"white\", \"linecolor\": \"white\", \"ticks\": \"\"}}, \"title\": {\"x\": 0.05}, \"xaxis\": {\"automargin\": true, \"gridcolor\": \"white\", \"linecolor\": \"white\", \"ticks\": \"\", \"title\": {\"standoff\": 15}, \"zerolinecolor\": \"white\", \"zerolinewidth\": 2}, \"yaxis\": {\"automargin\": true, \"gridcolor\": \"white\", \"linecolor\": \"white\", \"ticks\": \"\", \"title\": {\"standoff\": 15}, \"zerolinecolor\": \"white\", \"zerolinewidth\": 2}}}, \"xaxis\": {\"anchor\": \"y\", \"domain\": [0.0, 1.0], \"title\": {\"text\": \"Date\"}}, \"yaxis\": {\"anchor\": \"x\", \"domain\": [0.0, 1.0], \"showgrid\": false, \"title\": {\"text\": \"delta (variation1 vs control)\"}}},\n",
              "                        {\"responsive\": true}\n",
              "                    ).then(function(){\n",
              "                            \n",
              "var gd = document.getElementById('195ffdfa-ac61-4e15-a326-09e2c5bda39b');\n",
              "var x = new MutationObserver(function (mutations, observer) {{\n",
              "        var display = window.getComputedStyle(gd).display;\n",
              "        if (!display || display === 'none') {{\n",
              "            console.log([gd, 'removed!']);\n",
              "            Plotly.purge(gd);\n",
              "            observer.disconnect();\n",
              "        }}\n",
              "}});\n",
              "\n",
              "// Listen for the removal of the full notebook cells\n",
              "var notebookContainer = gd.closest('#notebook-container');\n",
              "if (notebookContainer) {{\n",
              "    x.observe(notebookContainer, {childList: true});\n",
              "}}\n",
              "\n",
              "// Listen for the clearing of the current output cell\n",
              "var outputEl = gd.closest('.output');\n",
              "if (outputEl) {{\n",
              "    x.observe(outputEl, {childList: true});\n",
              "}}\n",
              "\n",
              "                        })\n",
              "                };\n",
              "                \n",
              "            </script>\n",
              "        </div>\n",
              "</body>\n",
              "</html>"
            ]
          },
          "metadata": {
            "tags": []
          }
        }
      ]
    },
    {
      "cell_type": "code",
      "metadata": {
        "id": "GveZpemK_l09"
      },
      "source": [
        "subset = df[df.gfv_eur<50]\n",
        "fig = px.box(subset, x=\"stage\", y=\"gfv_eur\", color = \"variant\")\n",
        "fig.show()"
      ],
      "execution_count": null,
      "outputs": []
    },
    {
      "cell_type": "code",
      "metadata": {
        "id": "rpUSNvzxD0N3",
        "colab": {
          "base_uri": "https://localhost:8080/",
          "height": 197
        },
        "outputId": "ca5abdeb-649a-485a-fd42-fb181170587f"
      },
      "source": [
        "# create empty array list\n",
        "rows_list = []\n",
        "\n",
        "# loop the data for each zone and each stage\n",
        "for zone_name in zone_names:\n",
        "  for stage in stages:\n",
        "    zone_data = df_data[(df_data[\"zone_name\"] == zone_name) & (df_data[\"stage\"] == stage)] #filter relevant zone and stage for each loop\n",
        "    zone_data = zone_data.fillna(0)\n",
        "    mean_control = round(zone_data[\"gfv_eur_control\"].sum()/zone_data[\"order_control\"].sum(),2)\n",
        "    mean_variation1 = round(zone_data[\"gfv_eur_variation1\"].sum()/zone_data[\"order_variation1\"].sum(),2)\n",
        "    std_control = round(zone_data[\"avg_gfv_control\"].std(),2)\n",
        "    std_variation1 = round(zone_data[\"avg_gfv_variation1\"].std(),2)\n",
        "    cor_control_variation1 = round(zone_data[\"avg_gfv_control\"].corr(zone_data[\"avg_gfv_variation1\"]),2)\n",
        "    sample_size_control = zone_data[\"order_control\"].sum()\n",
        "    sample_size_variation1 = zone_data[\"order_variation1\"].sum()\n",
        "    sample_size_total = sample_size_control + sample_size_variation1\n",
        "    #sig_control_variation1_twoside = round(stats.wilcoxon(zone_agg['Variation1'], zone_agg['Control'])[1],2)\n",
        "    sig_control_variation1_oneside = round(stats.wilcoxon(zone_data['avg_gfv_variation1'], zone_data['avg_gfv_control']) [1]/2,2)\n",
        "    rows_list.append([zone_name, stage, mean_control, mean_variation1, std_control, std_variation1, cor_control_variation1, sample_size_control, sample_size_variation1, sample_size_total, sig_control_variation1_oneside])\n",
        "\n",
        "# load data into dataframe\n",
        "result = pd.DataFrame(rows_list, columns=['zone_name','stage','mean_control','mean_variation','std_control', 'std_variation', 'correlation', 'size_control', 'size_variation', 'size_total', 'p-value'])\n",
        "# add two columns to data frame\n",
        "result[\"significance\"] = result[\"p-value\"]<=0.05\n",
        "result[\"delta\"] = round(result[\"mean_variation\"]/result[\"mean_control\"]-1,2)\n",
        "result\n",
        "\n",
        "#https://stackoverflow.com/questions/10715965/add-one-row-to-pandas-dataframe"
      ],
      "execution_count": null,
      "outputs": [
        {
          "output_type": "execute_result",
          "data": {
            "text/html": [
              "<div>\n",
              "<style scoped>\n",
              "    .dataframe tbody tr th:only-of-type {\n",
              "        vertical-align: middle;\n",
              "    }\n",
              "\n",
              "    .dataframe tbody tr th {\n",
              "        vertical-align: top;\n",
              "    }\n",
              "\n",
              "    .dataframe thead th {\n",
              "        text-align: right;\n",
              "    }\n",
              "</style>\n",
              "<table border=\"1\" class=\"dataframe\">\n",
              "  <thead>\n",
              "    <tr style=\"text-align: right;\">\n",
              "      <th></th>\n",
              "      <th>zone_name</th>\n",
              "      <th>stage</th>\n",
              "      <th>mean_control</th>\n",
              "      <th>mean_variation</th>\n",
              "      <th>std_control</th>\n",
              "      <th>std_variation</th>\n",
              "      <th>correlation</th>\n",
              "      <th>size_control</th>\n",
              "      <th>size_variation</th>\n",
              "      <th>size_total</th>\n",
              "      <th>p-value</th>\n",
              "      <th>significance</th>\n",
              "      <th>delta</th>\n",
              "    </tr>\n",
              "  </thead>\n",
              "  <tbody>\n",
              "    <tr>\n",
              "      <th>0</th>\n",
              "      <td>Far_east</td>\n",
              "      <td>price_easing</td>\n",
              "      <td>11.49</td>\n",
              "      <td>11.75</td>\n",
              "      <td>7.06</td>\n",
              "      <td>6.15</td>\n",
              "      <td>-0.06</td>\n",
              "      <td>2709.0</td>\n",
              "      <td>2904.0</td>\n",
              "      <td>5613.0</td>\n",
              "      <td>0.16</td>\n",
              "      <td>False</td>\n",
              "      <td>0.02</td>\n",
              "    </tr>\n",
              "    <tr>\n",
              "      <th>1</th>\n",
              "      <td>Far_east</td>\n",
              "      <td>default</td>\n",
              "      <td>12.22</td>\n",
              "      <td>12.22</td>\n",
              "      <td>3.45</td>\n",
              "      <td>5.74</td>\n",
              "      <td>0.13</td>\n",
              "      <td>40057.0</td>\n",
              "      <td>40354.0</td>\n",
              "      <td>80411.0</td>\n",
              "      <td>0.27</td>\n",
              "      <td>False</td>\n",
              "      <td>0.00</td>\n",
              "    </tr>\n",
              "    <tr>\n",
              "      <th>2</th>\n",
              "      <td>Far_east</td>\n",
              "      <td>surge1</td>\n",
              "      <td>12.60</td>\n",
              "      <td>12.80</td>\n",
              "      <td>5.89</td>\n",
              "      <td>7.95</td>\n",
              "      <td>-0.01</td>\n",
              "      <td>18732.0</td>\n",
              "      <td>17504.0</td>\n",
              "      <td>36236.0</td>\n",
              "      <td>0.09</td>\n",
              "      <td>False</td>\n",
              "      <td>0.02</td>\n",
              "    </tr>\n",
              "    <tr>\n",
              "      <th>3</th>\n",
              "      <td>Far_east</td>\n",
              "      <td>surge_shrink1</td>\n",
              "      <td>13.06</td>\n",
              "      <td>13.42</td>\n",
              "      <td>6.62</td>\n",
              "      <td>5.49</td>\n",
              "      <td>0.44</td>\n",
              "      <td>3905.0</td>\n",
              "      <td>3406.0</td>\n",
              "      <td>7311.0</td>\n",
              "      <td>0.10</td>\n",
              "      <td>False</td>\n",
              "      <td>0.03</td>\n",
              "    </tr>\n",
              "    <tr>\n",
              "      <th>4</th>\n",
              "      <td>Far_east</td>\n",
              "      <td>shrink2</td>\n",
              "      <td>13.35</td>\n",
              "      <td>13.88</td>\n",
              "      <td>6.92</td>\n",
              "      <td>5.87</td>\n",
              "      <td>-0.10</td>\n",
              "      <td>810.0</td>\n",
              "      <td>708.0</td>\n",
              "      <td>1518.0</td>\n",
              "      <td>0.18</td>\n",
              "      <td>False</td>\n",
              "      <td>0.04</td>\n",
              "    </tr>\n",
              "  </tbody>\n",
              "</table>\n",
              "</div>"
            ],
            "text/plain": [
              "  zone_name          stage  mean_control  ...  p-value  significance  delta\n",
              "0  Far_east   price_easing         11.49  ...     0.16         False   0.02\n",
              "1  Far_east        default         12.22  ...     0.27         False   0.00\n",
              "2  Far_east         surge1         12.60  ...     0.09         False   0.02\n",
              "3  Far_east  surge_shrink1         13.06  ...     0.10         False   0.03\n",
              "4  Far_east        shrink2         13.35  ...     0.18         False   0.04\n",
              "\n",
              "[5 rows x 13 columns]"
            ]
          },
          "metadata": {
            "tags": []
          },
          "execution_count": 164
        }
      ]
    },
    {
      "cell_type": "markdown",
      "metadata": {
        "id": "I5SIM0oDN0ms"
      },
      "source": [
        "### 3. Travel Time"
      ]
    },
    {
      "cell_type": "code",
      "metadata": {
        "id": "GhU0gBMsfjWP",
        "colab": {
          "base_uri": "https://localhost:8080/",
          "height": 197
        },
        "outputId": "4eb3de65-7538-4f73-91ac-9ca39c4b4159"
      },
      "source": [
        "tt_order = df.pivot_table(\"platform_order_code_ga\", index=[\"tt\"], columns =\"variant\", aggfunc = \"count\")\n",
        "tt_order[\"Control_pp\"] = tt_order[\"Control\"]/tt_order[\"Control\"].sum()\n",
        "tt_order[\"Variation1_pp\"] = tt_order[\"Variation1\"]/tt_order[\"Variation1\"].sum()\n",
        "tt_order = tt_order.reset_index()\n",
        "tt_order.head()"
      ],
      "execution_count": null,
      "outputs": [
        {
          "output_type": "execute_result",
          "data": {
            "text/html": [
              "<div>\n",
              "<style scoped>\n",
              "    .dataframe tbody tr th:only-of-type {\n",
              "        vertical-align: middle;\n",
              "    }\n",
              "\n",
              "    .dataframe tbody tr th {\n",
              "        vertical-align: top;\n",
              "    }\n",
              "\n",
              "    .dataframe thead th {\n",
              "        text-align: right;\n",
              "    }\n",
              "</style>\n",
              "<table border=\"1\" class=\"dataframe\">\n",
              "  <thead>\n",
              "    <tr style=\"text-align: right;\">\n",
              "      <th>variant</th>\n",
              "      <th>tt</th>\n",
              "      <th>Control</th>\n",
              "      <th>Variation1</th>\n",
              "      <th>Control_pp</th>\n",
              "      <th>Variation1_pp</th>\n",
              "    </tr>\n",
              "  </thead>\n",
              "  <tbody>\n",
              "    <tr>\n",
              "      <th>0</th>\n",
              "      <td>0.0</td>\n",
              "      <td>15.0</td>\n",
              "      <td>23.0</td>\n",
              "      <td>0.000227</td>\n",
              "      <td>0.000355</td>\n",
              "    </tr>\n",
              "    <tr>\n",
              "      <th>1</th>\n",
              "      <td>0.1</td>\n",
              "      <td>16.0</td>\n",
              "      <td>18.0</td>\n",
              "      <td>0.000242</td>\n",
              "      <td>0.000277</td>\n",
              "    </tr>\n",
              "    <tr>\n",
              "      <th>2</th>\n",
              "      <td>0.2</td>\n",
              "      <td>58.0</td>\n",
              "      <td>59.0</td>\n",
              "      <td>0.000876</td>\n",
              "      <td>0.000909</td>\n",
              "    </tr>\n",
              "    <tr>\n",
              "      <th>3</th>\n",
              "      <td>0.3</td>\n",
              "      <td>88.0</td>\n",
              "      <td>65.0</td>\n",
              "      <td>0.001329</td>\n",
              "      <td>0.001002</td>\n",
              "    </tr>\n",
              "    <tr>\n",
              "      <th>4</th>\n",
              "      <td>0.4</td>\n",
              "      <td>217.0</td>\n",
              "      <td>175.0</td>\n",
              "      <td>0.003277</td>\n",
              "      <td>0.002697</td>\n",
              "    </tr>\n",
              "  </tbody>\n",
              "</table>\n",
              "</div>"
            ],
            "text/plain": [
              "variant   tt  Control  Variation1  Control_pp  Variation1_pp\n",
              "0        0.0     15.0        23.0    0.000227       0.000355\n",
              "1        0.1     16.0        18.0    0.000242       0.000277\n",
              "2        0.2     58.0        59.0    0.000876       0.000909\n",
              "3        0.3     88.0        65.0    0.001329       0.001002\n",
              "4        0.4    217.0       175.0    0.003277       0.002697"
            ]
          },
          "metadata": {
            "tags": []
          },
          "execution_count": 165
        }
      ]
    },
    {
      "cell_type": "code",
      "metadata": {
        "id": "jnGC5VPPgFNJ",
        "colab": {
          "base_uri": "https://localhost:8080/",
          "height": 542
        },
        "outputId": "fe99cc81-8cbf-4551-fe51-972e2dd6b728"
      },
      "source": [
        "fig = go.Figure()\n",
        "fig = make_subplots(specs=[[{\"secondary_y\": True}]])\n",
        "fig.add_trace(go.Scatter(x =tt_order.tt, y=tt_order.Control, mode=\"lines\", name =\"control\"), secondary_y=False)\n",
        "fig.add_trace(go.Scatter(x =tt_order.tt, y=tt_order.Variation1, mode=\"lines\", name =\"variation1\"), secondary_y=False)\n",
        "#fig.add_trace(go.Scatter(x =tt_order.tt, y=tt_order.delta, mode=\"lines\", name =\"delta\", line = dict(color='gray', width=4, dash='dash')), secondary_y=True)\n",
        "# Add figure title\n",
        "fig.update_layout(title_text=\"Order distribution across travel time\")\n",
        "# Set x-axis title\n",
        "fig.update_xaxes(title_text=\"Date\")\n",
        "# Set y-axes titles\n",
        "fig.update_yaxes(title_text=\"Order amount\", showgrid=False, secondary_y=False)\n",
        "fig.update_yaxes(title_text=\"Delta % difference of Variation1 vs Control\", showgrid=False,secondary_y=True)\n",
        "fig.show()"
      ],
      "execution_count": null,
      "outputs": [
        {
          "output_type": "display_data",
          "data": {
            "text/html": [
              "<html>\n",
              "<head><meta charset=\"utf-8\" /></head>\n",
              "<body>\n",
              "    <div>\n",
              "            <script src=\"https://cdnjs.cloudflare.com/ajax/libs/mathjax/2.7.5/MathJax.js?config=TeX-AMS-MML_SVG\"></script><script type=\"text/javascript\">if (window.MathJax) {MathJax.Hub.Config({SVG: {font: \"STIX-Web\"}});}</script>\n",
              "                <script type=\"text/javascript\">window.PlotlyConfig = {MathJaxConfig: 'local'};</script>\n",
              "        <script src=\"https://cdn.plot.ly/plotly-latest.min.js\"></script>    \n",
              "            <div id=\"708859c9-1827-437b-a74a-e6752b8d2e90\" class=\"plotly-graph-div\" style=\"height:525px; width:100%;\"></div>\n",
              "            <script type=\"text/javascript\">\n",
              "                \n",
              "                    window.PLOTLYENV=window.PLOTLYENV || {};\n",
              "                    \n",
              "                if (document.getElementById(\"708859c9-1827-437b-a74a-e6752b8d2e90\")) {\n",
              "                    Plotly.newPlot(\n",
              "                        '708859c9-1827-437b-a74a-e6752b8d2e90',\n",
              "                        [{\"mode\": \"lines\", \"name\": \"control\", \"type\": \"scatter\", \"x\": [0.0, 0.1, 0.2, 0.3, 0.4, 0.5, 0.6, 0.7, 0.8, 0.9, 1.0, 1.1, 1.2, 1.3, 1.4, 1.5, 1.6, 1.7, 1.8, 1.9, 2.0, 2.1, 2.2, 2.3, 2.4, 2.5, 2.6, 2.7, 2.8, 2.9, 3.0, 3.1, 3.2, 3.3, 3.4, 3.5, 3.6, 3.7, 3.8, 3.9, 4.0, 4.1, 4.2, 4.3, 4.4, 4.5, 4.6, 4.7, 4.8, 4.9, 5.0, 5.1, 5.2, 5.3, 5.4, 5.5, 5.6, 5.7, 5.8, 5.9, 6.0, 6.1, 6.2, 6.3, 6.4, 6.5, 6.6, 6.7, 6.8, 6.9, 7.0, 7.1, 7.2, 7.3, 7.4, 7.5, 7.6, 7.7, 7.8, 7.9, 8.0, 8.1, 8.2, 8.3, 8.4, 8.5, 8.6, 8.7, 8.8, 8.9, 9.0, 9.1, 9.2, 9.3, 9.4, 9.5, 9.6, 9.7, 9.8, 9.9, 10.0, 10.1, 10.2, 10.3, 10.4, 10.5, 10.6, 10.7, 10.8, 10.9, 11.0, 11.1, 11.2, 11.3, 11.4, 11.5, 11.6, 11.7, 11.8, 11.9, 12.0, 12.1, 12.2, 12.3, 12.4, 12.5, 12.6, 12.7, 12.8, 12.9, 13.0, 13.1, 13.2, 13.3, 13.4, 13.5, 13.6, 13.7, 13.8, 13.9, 14.0, 14.1, 14.2, 14.3, 14.4, 14.5, 14.6, 14.7, 14.8, 14.9, 15.0, 15.1, 15.2, 15.3, 15.4, 15.5, 15.6, 15.7, 15.8, 15.9, 16.0, 16.1, 16.2, 16.3, 16.4, 16.5, 16.6, 16.7, 16.8, 16.9, 17.0, 17.1, 17.2, 17.3, 17.4, 17.5, 17.6, 17.7, 17.8, 17.9, 18.0, 18.1, 18.2, 18.3, 18.4, 18.5, 18.6, 18.7, 18.8, 18.9, 19.0, 19.1, 19.2, 19.3, 19.4, 19.5, 19.6, 19.7, 19.8, 19.9, 20.0, 20.1, 20.2, 20.3, 20.4, 20.5, 20.6, 20.7, 20.8, 20.9, 21.0, 21.1, 21.2, 21.3, 21.4, 21.5, 21.6, 21.7, 21.8, 21.9, 22.0, 22.1, 22.2, 22.3, 22.4, 22.5, 22.6, 22.7, 22.8, 22.9, 23.0, 23.1, 23.2, 23.3, 23.4, 23.5, 23.6, 23.7, 23.8, 23.9, 24.0, 24.1, 24.2, 24.3, 24.4, 24.5, 24.6, 24.7, 24.8, 24.9, 25.0, 25.1, 25.2, 25.3, 25.4, 25.5, 25.6, 25.7, 25.8, 25.9, 26.0, 26.1, 26.2, 26.3, 26.4, 26.5, 26.6, 26.7, 26.8, 26.9, 27.0, 27.1, 27.2, 27.3, 27.4, 27.5, 27.6, 27.7, 27.8, 27.9, 28.0, 28.1, 28.2, 28.3, 28.4, 28.5, 28.6, 28.7, 28.8, 28.9, 29.0, 29.1, 29.2, 29.3, 29.4, 29.5, 29.6, 29.7, 29.8, 29.9, 30.0, 30.1, 30.2, 30.4, 30.5, 30.6, 30.7, 30.8, 30.9, 31.0, 31.1, 31.2, 31.3, 31.4, 31.5, 31.6, 31.7, 31.8, 32.0, 32.1, 32.2, 32.6, 59.8], \"xaxis\": \"x\", \"y\": [15.0, 16.0, 58.0, 88.0, 217.0, 218.0, 309.0, 335.0, 453.0, 468.0, 479.0, 317.0, 368.0, 323.0, 463.0, 379.0, 478.0, 403.0, 607.0, 437.0, 641.0, 610.0, 690.0, 541.0, 708.0, 617.0, 812.0, 664.0, 881.0, 735.0, 841.0, 690.0, 877.0, 712.0, 854.0, 724.0, 908.0, 695.0, 783.0, 688.0, 733.0, 579.0, 761.0, 574.0, 742.0, 636.0, 639.0, 562.0, 700.0, 546.0, 783.0, 644.0, 755.0, 612.0, 783.0, 679.0, 796.0, 672.0, 730.0, 598.0, 830.0, 640.0, 754.0, 647.0, 691.0, 578.0, 753.0, 544.0, 715.0, 554.0, 680.0, 571.0, 606.0, 552.0, 640.0, 483.0, 599.0, 535.0, 549.0, 493.0, 493.0, 379.0, 463.0, 334.0, 527.0, 369.0, 378.0, 319.0, 399.0, 292.0, 406.0, 279.0, 385.0, 290.0, 374.0, 270.0, 322.0, 285.0, 296.0, 253.0, 298.0, 268.0, 266.0, 228.0, 276.0, 216.0, 289.0, 186.0, 268.0, 184.0, 208.0, 163.0, 211.0, 140.0, 193.0, 157.0, 200.0, 128.0, 121.0, 148.0, 152.0, 91.0, 120.0, 86.0, 133.0, 132.0, 117.0, 70.0, 185.0, 200.0, 120.0, 126.0, 93.0, 88.0, 102.0, 111.0, 86.0, 86.0, 103.0, 86.0, 119.0, 87.0, 101.0, 42.0, 88.0, 75.0, 103.0, 81.0, 86.0, 66.0, 89.0, 118.0, 150.0, 59.0, 70.0, 74.0, 124.0, 91.0, 48.0, 42.0, 70.0, 30.0, 92.0, 67.0, 87.0, 78.0, 93.0, 64.0, 94.0, 99.0, 103.0, 54.0, 74.0, 61.0, 109.0, 58.0, 76.0, 100.0, 83.0, 57.0, 69.0, 49.0, 40.0, 52.0, 52.0, 62.0, 63.0, 62.0, 72.0, 43.0, 53.0, 59.0, 40.0, 60.0, 24.0, 18.0, 23.0, 34.0, 22.0, 10.0, 21.0, 20.0, 20.0, 32.0, 13.0, 25.0, 33.0, 25.0, 17.0, 14.0, 25.0, 7.0, 11.0, 6.0, 28.0, 26.0, 22.0, 20.0, 25.0, 8.0, 4.0, 15.0, 10.0, 9.0, 25.0, 17.0, 16.0, 11.0, 20.0, 32.0, 21.0, 8.0, 6.0, 6.0, 11.0, 2.0, 13.0, 8.0, 13.0, 5.0, 11.0, 7.0, 16.0, 13.0, 14.0, 17.0, 5.0, 5.0, 9.0, 19.0, 23.0, 21.0, 17.0, 14.0, 15.0, 16.0, 22.0, 11.0, 7.0, 11.0, 7.0, 13.0, 26.0, 16.0, 15.0, 7.0, 12.0, 2.0, 11.0, 6.0, 35.0, 6.0, 15.0, 21.0, 14.0, 8.0, 13.0, 14.0, 17.0, 11.0, 19.0, 11.0, 17.0, 10.0, 16.0, 5.0, 6.0, 18.0, 24.0, 14.0, 18.0, 18.0, 10.0, 8.0, 2.0, 4.0, 1.0, 8.0, null, 2.0, 1.0, 1.0, 2.0, 8.0, null, 3.0, 1.0, 2.0, 1.0, 4.0, 3.0, 3.0, 2.0, 2.0, 4.0, 8.0, 4.0, 1.0, 1.0, 1.0, 1.0, null, null], \"yaxis\": \"y\"}, {\"mode\": \"lines\", \"name\": \"variation1\", \"type\": \"scatter\", \"x\": [0.0, 0.1, 0.2, 0.3, 0.4, 0.5, 0.6, 0.7, 0.8, 0.9, 1.0, 1.1, 1.2, 1.3, 1.4, 1.5, 1.6, 1.7, 1.8, 1.9, 2.0, 2.1, 2.2, 2.3, 2.4, 2.5, 2.6, 2.7, 2.8, 2.9, 3.0, 3.1, 3.2, 3.3, 3.4, 3.5, 3.6, 3.7, 3.8, 3.9, 4.0, 4.1, 4.2, 4.3, 4.4, 4.5, 4.6, 4.7, 4.8, 4.9, 5.0, 5.1, 5.2, 5.3, 5.4, 5.5, 5.6, 5.7, 5.8, 5.9, 6.0, 6.1, 6.2, 6.3, 6.4, 6.5, 6.6, 6.7, 6.8, 6.9, 7.0, 7.1, 7.2, 7.3, 7.4, 7.5, 7.6, 7.7, 7.8, 7.9, 8.0, 8.1, 8.2, 8.3, 8.4, 8.5, 8.6, 8.7, 8.8, 8.9, 9.0, 9.1, 9.2, 9.3, 9.4, 9.5, 9.6, 9.7, 9.8, 9.9, 10.0, 10.1, 10.2, 10.3, 10.4, 10.5, 10.6, 10.7, 10.8, 10.9, 11.0, 11.1, 11.2, 11.3, 11.4, 11.5, 11.6, 11.7, 11.8, 11.9, 12.0, 12.1, 12.2, 12.3, 12.4, 12.5, 12.6, 12.7, 12.8, 12.9, 13.0, 13.1, 13.2, 13.3, 13.4, 13.5, 13.6, 13.7, 13.8, 13.9, 14.0, 14.1, 14.2, 14.3, 14.4, 14.5, 14.6, 14.7, 14.8, 14.9, 15.0, 15.1, 15.2, 15.3, 15.4, 15.5, 15.6, 15.7, 15.8, 15.9, 16.0, 16.1, 16.2, 16.3, 16.4, 16.5, 16.6, 16.7, 16.8, 16.9, 17.0, 17.1, 17.2, 17.3, 17.4, 17.5, 17.6, 17.7, 17.8, 17.9, 18.0, 18.1, 18.2, 18.3, 18.4, 18.5, 18.6, 18.7, 18.8, 18.9, 19.0, 19.1, 19.2, 19.3, 19.4, 19.5, 19.6, 19.7, 19.8, 19.9, 20.0, 20.1, 20.2, 20.3, 20.4, 20.5, 20.6, 20.7, 20.8, 20.9, 21.0, 21.1, 21.2, 21.3, 21.4, 21.5, 21.6, 21.7, 21.8, 21.9, 22.0, 22.1, 22.2, 22.3, 22.4, 22.5, 22.6, 22.7, 22.8, 22.9, 23.0, 23.1, 23.2, 23.3, 23.4, 23.5, 23.6, 23.7, 23.8, 23.9, 24.0, 24.1, 24.2, 24.3, 24.4, 24.5, 24.6, 24.7, 24.8, 24.9, 25.0, 25.1, 25.2, 25.3, 25.4, 25.5, 25.6, 25.7, 25.8, 25.9, 26.0, 26.1, 26.2, 26.3, 26.4, 26.5, 26.6, 26.7, 26.8, 26.9, 27.0, 27.1, 27.2, 27.3, 27.4, 27.5, 27.6, 27.7, 27.8, 27.9, 28.0, 28.1, 28.2, 28.3, 28.4, 28.5, 28.6, 28.7, 28.8, 28.9, 29.0, 29.1, 29.2, 29.3, 29.4, 29.5, 29.6, 29.7, 29.8, 29.9, 30.0, 30.1, 30.2, 30.4, 30.5, 30.6, 30.7, 30.8, 30.9, 31.0, 31.1, 31.2, 31.3, 31.4, 31.5, 31.6, 31.7, 31.8, 32.0, 32.1, 32.2, 32.6, 59.8], \"xaxis\": \"x\", \"y\": [23.0, 18.0, 59.0, 65.0, 175.0, 158.0, 310.0, 360.0, 442.0, 461.0, 538.0, 299.0, 356.0, 331.0, 443.0, 412.0, 562.0, 501.0, 619.0, 467.0, 638.0, 616.0, 727.0, 606.0, 801.0, 697.0, 813.0, 650.0, 828.0, 756.0, 839.0, 740.0, 904.0, 819.0, 912.0, 655.0, 897.0, 768.0, 830.0, 710.0, 783.0, 571.0, 659.0, 562.0, 699.0, 586.0, 591.0, 572.0, 673.0, 502.0, 714.0, 562.0, 723.0, 478.0, 787.0, 633.0, 732.0, 622.0, 708.0, 544.0, 653.0, 587.0, 707.0, 572.0, 605.0, 563.0, 743.0, 543.0, 727.0, 521.0, 633.0, 578.0, 610.0, 533.0, 581.0, 485.0, 622.0, 450.0, 515.0, 418.0, 467.0, 381.0, 414.0, 375.0, 445.0, 381.0, 426.0, 333.0, 418.0, 303.0, 343.0, 297.0, 342.0, 242.0, 375.0, 284.0, 305.0, 290.0, 300.0, 246.0, 282.0, 257.0, 265.0, 241.0, 237.0, 213.0, 306.0, 196.0, 241.0, 180.0, 227.0, 161.0, 200.0, 160.0, 173.0, 136.0, 186.0, 119.0, 139.0, 108.0, 137.0, 83.0, 146.0, 81.0, 155.0, 137.0, 126.0, 74.0, 104.0, 226.0, 124.0, 105.0, 122.0, 68.0, 73.0, 92.0, 90.0, 73.0, 142.0, 61.0, 143.0, 59.0, 74.0, 52.0, 109.0, 68.0, 75.0, 75.0, 94.0, 81.0, 109.0, 64.0, 110.0, 76.0, 98.0, 105.0, 93.0, 66.0, 45.0, 44.0, 42.0, 22.0, 65.0, 58.0, 58.0, 78.0, 87.0, 55.0, 112.0, 90.0, 102.0, 68.0, 60.0, 41.0, 84.0, 91.0, 66.0, 83.0, 67.0, 51.0, 118.0, 63.0, 78.0, 41.0, 39.0, 50.0, 68.0, 93.0, 58.0, 38.0, 45.0, 44.0, 56.0, 40.0, 34.0, 13.0, 29.0, 32.0, 24.0, 6.0, 23.0, 29.0, 23.0, 43.0, 18.0, 14.0, 24.0, 35.0, 35.0, 19.0, 26.0, 17.0, 19.0, 13.0, 24.0, 18.0, 20.0, 18.0, 21.0, 13.0, 10.0, 8.0, 17.0, 4.0, 35.0, 33.0, 19.0, 13.0, 18.0, 19.0, 30.0, 8.0, 15.0, 22.0, 12.0, 7.0, 7.0, 11.0, 17.0, 10.0, 9.0, 12.0, 7.0, 9.0, 20.0, 19.0, 12.0, 6.0, 12.0, 20.0, 20.0, 13.0, 13.0, 8.0, 25.0, 5.0, 17.0, 8.0, 15.0, 7.0, 10.0, 16.0, 12.0, 19.0, 14.0, 8.0, 14.0, 7.0, 15.0, 11.0, 13.0, 6.0, 10.0, 14.0, 21.0, 10.0, 7.0, 22.0, 12.0, 10.0, 15.0, 13.0, 14.0, 4.0, 7.0, 6.0, 7.0, 17.0, 12.0, 25.0, 13.0, 11.0, 8.0, 11.0, 12.0, 5.0, 6.0, 9.0, 4.0, 3.0, 1.0, 1.0, null, 6.0, 2.0, null, 3.0, 1.0, 3.0, 8.0, null, 1.0, 5.0, 1.0, 3.0, 1.0, 1.0, 3.0, null, null, 3.0, 1.0, 1.0], \"yaxis\": \"y\"}],\n",
              "                        {\"template\": {\"data\": {\"bar\": [{\"error_x\": {\"color\": \"#2a3f5f\"}, \"error_y\": {\"color\": \"#2a3f5f\"}, \"marker\": {\"line\": {\"color\": \"#E5ECF6\", \"width\": 0.5}}, \"type\": \"bar\"}], \"barpolar\": [{\"marker\": {\"line\": {\"color\": \"#E5ECF6\", \"width\": 0.5}}, \"type\": \"barpolar\"}], \"carpet\": [{\"aaxis\": {\"endlinecolor\": \"#2a3f5f\", \"gridcolor\": \"white\", \"linecolor\": \"white\", \"minorgridcolor\": \"white\", \"startlinecolor\": \"#2a3f5f\"}, \"baxis\": {\"endlinecolor\": \"#2a3f5f\", \"gridcolor\": \"white\", \"linecolor\": \"white\", \"minorgridcolor\": \"white\", \"startlinecolor\": \"#2a3f5f\"}, \"type\": \"carpet\"}], \"choropleth\": [{\"colorbar\": {\"outlinewidth\": 0, \"ticks\": \"\"}, \"type\": \"choropleth\"}], \"contour\": [{\"colorbar\": {\"outlinewidth\": 0, \"ticks\": \"\"}, \"colorscale\": [[0.0, \"#0d0887\"], [0.1111111111111111, \"#46039f\"], [0.2222222222222222, \"#7201a8\"], [0.3333333333333333, \"#9c179e\"], [0.4444444444444444, \"#bd3786\"], [0.5555555555555556, \"#d8576b\"], [0.6666666666666666, \"#ed7953\"], [0.7777777777777778, \"#fb9f3a\"], [0.8888888888888888, \"#fdca26\"], [1.0, \"#f0f921\"]], \"type\": \"contour\"}], \"contourcarpet\": [{\"colorbar\": {\"outlinewidth\": 0, \"ticks\": \"\"}, \"type\": \"contourcarpet\"}], \"heatmap\": [{\"colorbar\": {\"outlinewidth\": 0, \"ticks\": \"\"}, \"colorscale\": [[0.0, \"#0d0887\"], [0.1111111111111111, \"#46039f\"], [0.2222222222222222, \"#7201a8\"], [0.3333333333333333, \"#9c179e\"], [0.4444444444444444, \"#bd3786\"], [0.5555555555555556, \"#d8576b\"], [0.6666666666666666, \"#ed7953\"], [0.7777777777777778, \"#fb9f3a\"], [0.8888888888888888, \"#fdca26\"], [1.0, \"#f0f921\"]], \"type\": \"heatmap\"}], \"heatmapgl\": [{\"colorbar\": {\"outlinewidth\": 0, \"ticks\": \"\"}, \"colorscale\": [[0.0, \"#0d0887\"], [0.1111111111111111, \"#46039f\"], [0.2222222222222222, \"#7201a8\"], [0.3333333333333333, \"#9c179e\"], [0.4444444444444444, \"#bd3786\"], [0.5555555555555556, \"#d8576b\"], [0.6666666666666666, \"#ed7953\"], [0.7777777777777778, \"#fb9f3a\"], [0.8888888888888888, \"#fdca26\"], [1.0, \"#f0f921\"]], \"type\": \"heatmapgl\"}], \"histogram\": [{\"marker\": {\"colorbar\": {\"outlinewidth\": 0, \"ticks\": \"\"}}, \"type\": \"histogram\"}], \"histogram2d\": [{\"colorbar\": {\"outlinewidth\": 0, \"ticks\": \"\"}, \"colorscale\": [[0.0, \"#0d0887\"], [0.1111111111111111, \"#46039f\"], [0.2222222222222222, \"#7201a8\"], [0.3333333333333333, \"#9c179e\"], [0.4444444444444444, \"#bd3786\"], [0.5555555555555556, \"#d8576b\"], [0.6666666666666666, \"#ed7953\"], [0.7777777777777778, \"#fb9f3a\"], [0.8888888888888888, \"#fdca26\"], [1.0, \"#f0f921\"]], \"type\": \"histogram2d\"}], \"histogram2dcontour\": [{\"colorbar\": {\"outlinewidth\": 0, \"ticks\": \"\"}, \"colorscale\": [[0.0, \"#0d0887\"], [0.1111111111111111, \"#46039f\"], [0.2222222222222222, \"#7201a8\"], [0.3333333333333333, \"#9c179e\"], [0.4444444444444444, \"#bd3786\"], [0.5555555555555556, \"#d8576b\"], [0.6666666666666666, \"#ed7953\"], [0.7777777777777778, \"#fb9f3a\"], [0.8888888888888888, \"#fdca26\"], [1.0, \"#f0f921\"]], \"type\": \"histogram2dcontour\"}], \"mesh3d\": [{\"colorbar\": {\"outlinewidth\": 0, \"ticks\": \"\"}, \"type\": \"mesh3d\"}], \"parcoords\": [{\"line\": {\"colorbar\": {\"outlinewidth\": 0, \"ticks\": \"\"}}, \"type\": \"parcoords\"}], \"pie\": [{\"automargin\": true, \"type\": \"pie\"}], \"scatter\": [{\"marker\": {\"colorbar\": {\"outlinewidth\": 0, \"ticks\": \"\"}}, \"type\": \"scatter\"}], \"scatter3d\": [{\"line\": {\"colorbar\": {\"outlinewidth\": 0, \"ticks\": \"\"}}, \"marker\": {\"colorbar\": {\"outlinewidth\": 0, \"ticks\": \"\"}}, \"type\": \"scatter3d\"}], \"scattercarpet\": [{\"marker\": {\"colorbar\": {\"outlinewidth\": 0, \"ticks\": \"\"}}, \"type\": \"scattercarpet\"}], \"scattergeo\": [{\"marker\": {\"colorbar\": {\"outlinewidth\": 0, \"ticks\": \"\"}}, \"type\": \"scattergeo\"}], \"scattergl\": [{\"marker\": {\"colorbar\": {\"outlinewidth\": 0, \"ticks\": \"\"}}, \"type\": \"scattergl\"}], \"scattermapbox\": [{\"marker\": {\"colorbar\": {\"outlinewidth\": 0, \"ticks\": \"\"}}, \"type\": \"scattermapbox\"}], \"scatterpolar\": [{\"marker\": {\"colorbar\": {\"outlinewidth\": 0, \"ticks\": \"\"}}, \"type\": \"scatterpolar\"}], \"scatterpolargl\": [{\"marker\": {\"colorbar\": {\"outlinewidth\": 0, \"ticks\": \"\"}}, \"type\": \"scatterpolargl\"}], \"scatterternary\": [{\"marker\": {\"colorbar\": {\"outlinewidth\": 0, \"ticks\": \"\"}}, \"type\": \"scatterternary\"}], \"surface\": [{\"colorbar\": {\"outlinewidth\": 0, \"ticks\": \"\"}, \"colorscale\": [[0.0, \"#0d0887\"], [0.1111111111111111, \"#46039f\"], [0.2222222222222222, \"#7201a8\"], [0.3333333333333333, \"#9c179e\"], [0.4444444444444444, \"#bd3786\"], [0.5555555555555556, \"#d8576b\"], [0.6666666666666666, \"#ed7953\"], [0.7777777777777778, \"#fb9f3a\"], [0.8888888888888888, \"#fdca26\"], [1.0, \"#f0f921\"]], \"type\": \"surface\"}], \"table\": [{\"cells\": {\"fill\": {\"color\": \"#EBF0F8\"}, \"line\": {\"color\": \"white\"}}, \"header\": {\"fill\": {\"color\": \"#C8D4E3\"}, \"line\": {\"color\": \"white\"}}, \"type\": \"table\"}]}, \"layout\": {\"annotationdefaults\": {\"arrowcolor\": \"#2a3f5f\", \"arrowhead\": 0, \"arrowwidth\": 1}, \"coloraxis\": {\"colorbar\": {\"outlinewidth\": 0, \"ticks\": \"\"}}, \"colorscale\": {\"diverging\": [[0, \"#8e0152\"], [0.1, \"#c51b7d\"], [0.2, \"#de77ae\"], [0.3, \"#f1b6da\"], [0.4, \"#fde0ef\"], [0.5, \"#f7f7f7\"], [0.6, \"#e6f5d0\"], [0.7, \"#b8e186\"], [0.8, \"#7fbc41\"], [0.9, \"#4d9221\"], [1, \"#276419\"]], \"sequential\": [[0.0, \"#0d0887\"], [0.1111111111111111, \"#46039f\"], [0.2222222222222222, \"#7201a8\"], [0.3333333333333333, \"#9c179e\"], [0.4444444444444444, \"#bd3786\"], [0.5555555555555556, \"#d8576b\"], [0.6666666666666666, \"#ed7953\"], [0.7777777777777778, \"#fb9f3a\"], [0.8888888888888888, \"#fdca26\"], [1.0, \"#f0f921\"]], \"sequentialminus\": [[0.0, \"#0d0887\"], [0.1111111111111111, \"#46039f\"], [0.2222222222222222, \"#7201a8\"], [0.3333333333333333, \"#9c179e\"], [0.4444444444444444, \"#bd3786\"], [0.5555555555555556, \"#d8576b\"], [0.6666666666666666, \"#ed7953\"], [0.7777777777777778, \"#fb9f3a\"], [0.8888888888888888, \"#fdca26\"], [1.0, \"#f0f921\"]]}, \"colorway\": [\"#636efa\", \"#EF553B\", \"#00cc96\", \"#ab63fa\", \"#FFA15A\", \"#19d3f3\", \"#FF6692\", \"#B6E880\", \"#FF97FF\", \"#FECB52\"], \"font\": {\"color\": \"#2a3f5f\"}, \"geo\": {\"bgcolor\": \"white\", \"lakecolor\": \"white\", \"landcolor\": \"#E5ECF6\", \"showlakes\": true, \"showland\": true, \"subunitcolor\": \"white\"}, \"hoverlabel\": {\"align\": \"left\"}, \"hovermode\": \"closest\", \"mapbox\": {\"style\": \"light\"}, \"paper_bgcolor\": \"white\", \"plot_bgcolor\": \"#E5ECF6\", \"polar\": {\"angularaxis\": {\"gridcolor\": \"white\", \"linecolor\": \"white\", \"ticks\": \"\"}, \"bgcolor\": \"#E5ECF6\", \"radialaxis\": {\"gridcolor\": \"white\", \"linecolor\": \"white\", \"ticks\": \"\"}}, \"scene\": {\"xaxis\": {\"backgroundcolor\": \"#E5ECF6\", \"gridcolor\": \"white\", \"gridwidth\": 2, \"linecolor\": \"white\", \"showbackground\": true, \"ticks\": \"\", \"zerolinecolor\": \"white\"}, \"yaxis\": {\"backgroundcolor\": \"#E5ECF6\", \"gridcolor\": \"white\", \"gridwidth\": 2, \"linecolor\": \"white\", \"showbackground\": true, \"ticks\": \"\", \"zerolinecolor\": \"white\"}, \"zaxis\": {\"backgroundcolor\": \"#E5ECF6\", \"gridcolor\": \"white\", \"gridwidth\": 2, \"linecolor\": \"white\", \"showbackground\": true, \"ticks\": \"\", \"zerolinecolor\": \"white\"}}, \"shapedefaults\": {\"line\": {\"color\": \"#2a3f5f\"}}, \"ternary\": {\"aaxis\": {\"gridcolor\": \"white\", \"linecolor\": \"white\", \"ticks\": \"\"}, \"baxis\": {\"gridcolor\": \"white\", \"linecolor\": \"white\", \"ticks\": \"\"}, \"bgcolor\": \"#E5ECF6\", \"caxis\": {\"gridcolor\": \"white\", \"linecolor\": \"white\", \"ticks\": \"\"}}, \"title\": {\"x\": 0.05}, \"xaxis\": {\"automargin\": true, \"gridcolor\": \"white\", \"linecolor\": \"white\", \"ticks\": \"\", \"title\": {\"standoff\": 15}, \"zerolinecolor\": \"white\", \"zerolinewidth\": 2}, \"yaxis\": {\"automargin\": true, \"gridcolor\": \"white\", \"linecolor\": \"white\", \"ticks\": \"\", \"title\": {\"standoff\": 15}, \"zerolinecolor\": \"white\", \"zerolinewidth\": 2}}}, \"title\": {\"text\": \"Order distribution across travel time\"}, \"xaxis\": {\"anchor\": \"y\", \"domain\": [0.0, 0.94], \"title\": {\"text\": \"Date\"}}, \"yaxis\": {\"anchor\": \"x\", \"domain\": [0.0, 1.0], \"showgrid\": false, \"title\": {\"text\": \"Order amount\"}}, \"yaxis2\": {\"anchor\": \"x\", \"overlaying\": \"y\", \"showgrid\": false, \"side\": \"right\", \"title\": {\"text\": \"Delta % difference of Variation1 vs Control\"}}},\n",
              "                        {\"responsive\": true}\n",
              "                    ).then(function(){\n",
              "                            \n",
              "var gd = document.getElementById('708859c9-1827-437b-a74a-e6752b8d2e90');\n",
              "var x = new MutationObserver(function (mutations, observer) {{\n",
              "        var display = window.getComputedStyle(gd).display;\n",
              "        if (!display || display === 'none') {{\n",
              "            console.log([gd, 'removed!']);\n",
              "            Plotly.purge(gd);\n",
              "            observer.disconnect();\n",
              "        }}\n",
              "}});\n",
              "\n",
              "// Listen for the removal of the full notebook cells\n",
              "var notebookContainer = gd.closest('#notebook-container');\n",
              "if (notebookContainer) {{\n",
              "    x.observe(notebookContainer, {childList: true});\n",
              "}}\n",
              "\n",
              "// Listen for the clearing of the current output cell\n",
              "var outputEl = gd.closest('.output');\n",
              "if (outputEl) {{\n",
              "    x.observe(outputEl, {childList: true});\n",
              "}}\n",
              "\n",
              "                        })\n",
              "                };\n",
              "                \n",
              "            </script>\n",
              "        </div>\n",
              "</body>\n",
              "</html>"
            ]
          },
          "metadata": {
            "tags": []
          }
        }
      ]
    },
    {
      "cell_type": "code",
      "metadata": {
        "id": "tEhhPFuJhM2E",
        "colab": {
          "base_uri": "https://localhost:8080/",
          "height": 542
        },
        "outputId": "b96bd9f8-4889-4975-8e82-88fa234d8f1b"
      },
      "source": [
        "import scipy\n",
        "from scipy import signal\n",
        "fig = go.Figure()\n",
        "fig = make_subplots(specs=[[{\"secondary_y\": True}]])\n",
        "fig.add_trace(go.Scatter(x =tt_order.tt, y=signal.savgol_filter(tt_order.Control,53, 3), mode=\"lines\", name =\"control\"), secondary_y=False)\n",
        "fig.add_trace(go.Scatter(x =tt_order.tt, y=signal.savgol_filter(tt_order.Variation1,53,3), mode=\"lines\", name =\"variation1\"), secondary_y=False)\n",
        "#fig.add_trace(go.Scatter(x =tt_order.tt, y=tt_order.delta, mode=\"lines\", name =\"delta\", line = dict(color='gray', width=4, dash='dash')), secondary_y=True)\n",
        "# Add figure title\n",
        "fig.update_layout(title_text=\"Order across tt of Control and Test\")\n",
        "# Set x-axis title\n",
        "fig.update_xaxes(title_text=\"Travel Time\")\n",
        "# Set y-axes titles\n",
        "fig.update_yaxes(title_text=\"Order amount\", showgrid=False, secondary_y=False)\n",
        "fig.update_yaxes(title_text=\"Delta % difference of Variation1 vs Control\", showgrid=False,secondary_y=True)\n",
        "fig.show()"
      ],
      "execution_count": null,
      "outputs": [
        {
          "output_type": "display_data",
          "data": {
            "text/html": [
              "<html>\n",
              "<head><meta charset=\"utf-8\" /></head>\n",
              "<body>\n",
              "    <div>\n",
              "            <script src=\"https://cdnjs.cloudflare.com/ajax/libs/mathjax/2.7.5/MathJax.js?config=TeX-AMS-MML_SVG\"></script><script type=\"text/javascript\">if (window.MathJax) {MathJax.Hub.Config({SVG: {font: \"STIX-Web\"}});}</script>\n",
              "                <script type=\"text/javascript\">window.PlotlyConfig = {MathJaxConfig: 'local'};</script>\n",
              "        <script src=\"https://cdn.plot.ly/plotly-latest.min.js\"></script>    \n",
              "            <div id=\"f7d72827-df68-4134-a83f-598717fcf135\" class=\"plotly-graph-div\" style=\"height:525px; width:100%;\"></div>\n",
              "            <script type=\"text/javascript\">\n",
              "                \n",
              "                    window.PLOTLYENV=window.PLOTLYENV || {};\n",
              "                    \n",
              "                if (document.getElementById(\"f7d72827-df68-4134-a83f-598717fcf135\")) {\n",
              "                    Plotly.newPlot(\n",
              "                        'f7d72827-df68-4134-a83f-598717fcf135',\n",
              "                        [{\"mode\": \"lines\", \"name\": \"control\", \"type\": \"scatter\", \"x\": [0.0, 0.1, 0.2, 0.3, 0.4, 0.5, 0.6, 0.7, 0.8, 0.9, 1.0, 1.1, 1.2, 1.3, 1.4, 1.5, 1.6, 1.7, 1.8, 1.9, 2.0, 2.1, 2.2, 2.3, 2.4, 2.5, 2.6, 2.7, 2.8, 2.9, 3.0, 3.1, 3.2, 3.3, 3.4, 3.5, 3.6, 3.7, 3.8, 3.9, 4.0, 4.1, 4.2, 4.3, 4.4, 4.5, 4.6, 4.7, 4.8, 4.9, 5.0, 5.1, 5.2, 5.3, 5.4, 5.5, 5.6, 5.7, 5.8, 5.9, 6.0, 6.1, 6.2, 6.3, 6.4, 6.5, 6.6, 6.7, 6.8, 6.9, 7.0, 7.1, 7.2, 7.3, 7.4, 7.5, 7.6, 7.7, 7.8, 7.9, 8.0, 8.1, 8.2, 8.3, 8.4, 8.5, 8.6, 8.7, 8.8, 8.9, 9.0, 9.1, 9.2, 9.3, 9.4, 9.5, 9.6, 9.7, 9.8, 9.9, 10.0, 10.1, 10.2, 10.3, 10.4, 10.5, 10.6, 10.7, 10.8, 10.9, 11.0, 11.1, 11.2, 11.3, 11.4, 11.5, 11.6, 11.7, 11.8, 11.9, 12.0, 12.1, 12.2, 12.3, 12.4, 12.5, 12.6, 12.7, 12.8, 12.9, 13.0, 13.1, 13.2, 13.3, 13.4, 13.5, 13.6, 13.7, 13.8, 13.9, 14.0, 14.1, 14.2, 14.3, 14.4, 14.5, 14.6, 14.7, 14.8, 14.9, 15.0, 15.1, 15.2, 15.3, 15.4, 15.5, 15.6, 15.7, 15.8, 15.9, 16.0, 16.1, 16.2, 16.3, 16.4, 16.5, 16.6, 16.7, 16.8, 16.9, 17.0, 17.1, 17.2, 17.3, 17.4, 17.5, 17.6, 17.7, 17.8, 17.9, 18.0, 18.1, 18.2, 18.3, 18.4, 18.5, 18.6, 18.7, 18.8, 18.9, 19.0, 19.1, 19.2, 19.3, 19.4, 19.5, 19.6, 19.7, 19.8, 19.9, 20.0, 20.1, 20.2, 20.3, 20.4, 20.5, 20.6, 20.7, 20.8, 20.9, 21.0, 21.1, 21.2, 21.3, 21.4, 21.5, 21.6, 21.7, 21.8, 21.9, 22.0, 22.1, 22.2, 22.3, 22.4, 22.5, 22.6, 22.7, 22.8, 22.9, 23.0, 23.1, 23.2, 23.3, 23.4, 23.5, 23.6, 23.7, 23.8, 23.9, 24.0, 24.1, 24.2, 24.3, 24.4, 24.5, 24.6, 24.7, 24.8, 24.9, 25.0, 25.1, 25.2, 25.3, 25.4, 25.5, 25.6, 25.7, 25.8, 25.9, 26.0, 26.1, 26.2, 26.3, 26.4, 26.5, 26.6, 26.7, 26.8, 26.9, 27.0, 27.1, 27.2, 27.3, 27.4, 27.5, 27.6, 27.7, 27.8, 27.9, 28.0, 28.1, 28.2, 28.3, 28.4, 28.5, 28.6, 28.7, 28.8, 28.9, 29.0, 29.1, 29.2, 29.3, 29.4, 29.5, 29.6, 29.7, 29.8, 29.9, 30.0, 30.1, 30.2, 30.4, 30.5, 30.6, 30.7, 30.8, 30.9, 31.0, 31.1, 31.2, 31.3, 31.4, 31.5, 31.6, 31.7, 31.8, 32.0, 32.1, 32.2, 32.6, 59.8], \"xaxis\": \"x\", \"y\": [17.090146750523637, 58.08772778584051, 97.82787406205782, 136.3167743343099, 173.56061735773116, 209.565591887456, 244.3378866786187, 277.88369048635366, 310.2091920657953, 341.32058017207794, 371.22404356033604, 399.9257709857038, 427.43195120331586, 453.7487729683063, 478.8824250358097, 502.8390961609602, 525.6249750988925, 547.2462506047408, 567.7091114336394, 587.0197463407226, 605.1843440811251, 622.2090934099809, 638.1001830824247, 652.8638018535906, 666.5061384786131, 679.0333817126267, 690.45172031067, 700.4501059427946, 703.3077388758988, 708.1392392290411, 708.4287155684619, 714.0966602763614, 716.4175158913342, 723.2888709513676, 723.0478256481691, 730.6908485520123, 734.7726768236292, 741.4872364038927, 741.0259307838745, 743.3410352132961, 737.6653213600025, 740.2363030974656, 733.9304812833207, 733.3743315507005, 725.4294218544044, 725.0292604176169, 717.3615175057021, 715.5826859044511, 709.556351528506, 709.3343759458202, 700.4062153162178, 697.0351125011643, 689.7821612348956, 688.9382504287207, 683.2109777014489, 686.1194632225865, 681.9406719805329, 683.7095146805628, 675.1338916354626, 676.0060538794339, 671.3478962767708, 671.6826758146581, 665.5330440923302, 667.2665724951147, 659.3958228230342, 657.0044395115626, 648.3037029562213, 642.9358288769162, 629.9331046311303, 624.2413479970883, 610.8957723740449, 602.5473716072215, 590.2389264452818, 578.307738875916, 561.8675209362553, 549.4115629098219, 531.8098072847611, 521.3617193017134, 505.34597921494344, 493.8980930278802, 476.08414892537024, 465.8813439611904, 450.467863989444, 440.94793663599967, 427.3533447683797, 416.67420038335445, 400.79709413777096, 393.7245484814304, 380.152053274087, 371.17435173034903, 358.4285137725261, 349.3138936534678, 337.24296236500203, 329.7414993441172, 316.6701644636831, 310.4932902834802, 299.2919987891824, 292.98789224090365, 282.80577136511056, 274.21249117138757, 265.0799112097301, 260.3630309756474, 248.6142669760526, 240.72596105334156, 234.32963374025593, 228.95025728984814, 223.6082130965283, 218.92816062957303, 210.93350822315705, 205.4272020986497, 197.23307436179277, 194.94107557256902, 188.327010392467, 182.7551205730752, 174.84189284630807, 170.4806780344834, 162.99626677426852, 160.67601654724837, 153.69649883965172, 150.42195540306653, 144.1109877913229, 141.2922005851887, 135.81919079808424, 132.69084855209536, 128.2577943698742, 123.82201594186552, 117.87801432749849, 116.28715568558567, 113.89657955805095, 111.69488447178347, 107.42922005850588, 105.99283624254403, 104.40429825445021, 105.32791847440771, 102.8275653314356, 104.02431641608888, 101.40772878618307, 100.47341337905979, 97.9423872464802, 97.33255978204681, 94.56371708201691, 94.33144990413379, 92.50630612449527, 92.16718797294652, 90.04308344262698, 89.15901523558442, 88.51034204418102, 88.49762889717263, 85.50166481685825, 84.79336091210607, 82.5344566643009, 81.00423771565818, 80.15225507011296, 79.68862879627588, 77.43406316213229, 79.05932801936143, 81.7092119866701, 81.95550398545932, 82.4296236504779, 81.70931288466224, 80.77953788718483, 80.2658662092513, 79.80748663100496, 79.46070023205435, 78.718898193915, 78.2734335586613, 77.84280092825071, 77.79416809604409, 77.84370901017988, 78.29815356673316, 76.66542225808642, 75.76924629198827, 74.68358389667009, 74.55958026434239, 73.3559681162243, 72.1738472404299, 70.24528301885817, 68.5001513469787, 68.12117848853862, 68.47866007465501, 66.11361113912916, 64.16890323881664, 62.45212390272566, 62.25426294015885, 60.909292705066726, 58.74825950962761, 56.037029563103914, 54.059328019364905, 50.14317425082544, 47.980022197551605, 45.25184138835008, 43.15962062354359, 40.73181313691292, 39.26959943496577, 37.07759055594278, 35.439007163752514, 34.22379174653948, 33.31591161335426, 30.665926748053444, 28.864998486526105, 26.783170214908985, 26.353243870443304, 24.388154575720545, 22.738068812427464, 22.35051962465635, 22.08828574311064, 21.2433659570145, 20.805771365146935, 19.72929068711258, 18.643426495810136, 17.59761880738328, 16.76147714660245, 16.1706185046895, 15.969932398343046, 15.711330844514004, 16.030975683581666, 15.427605690644608, 15.320452023002609, 15.527797396829643, 15.267783271110778, 16.057410957519714, 15.901523559678955, 15.440823327613636, 14.853899707393758, 14.562607204114613, 14.088992029056662, 13.409847644030016, 13.12723236807405, 12.80950459085686, 12.48874987387577, 12.415397033597303, 12.161739481382627, 12.351024114618399, 12.699525779435223, 12.984461709210182, 12.888003228733957, 12.375542326705977, 12.524972253050425, 12.210675007565651, 12.193219654927171, 11.837856926645511, 12.36837856926475, 12.61951367167618, 12.929774997475755, 12.441630511551093, 13.006255675510252, 12.837756028653244, 12.373120774894858, 12.420240137219544, 12.47775199273361, 12.328523862373425, 12.624356775298414, 12.661083644433715, 12.861063464835263, 12.703359903136164, 13.049137322165477, 13.638583392188602, 14.19069720512365, 14.214811825242704, 14.45111492281103, 14.583694884469773, 14.49026334375745, 13.979618605587806, 14.064473816969087, 13.892543638379667, 13.87014428412682, 13.824841085660475, 13.950761779838647, 14.062052265157968, 14.304409242254092, 14.494803753403295, 14.470588235292112, null, null, null, null, null, null, null, null, null, null, null, null, null, null, null, null, null, null, null, null, null, null, null, null, null, null, null, null, null, null, null, null, null, null, null, null, null, null, null, null, null, null, null, null, null, null, null, null, null, null, null], \"yaxis\": \"y\"}, {\"mode\": \"lines\", \"name\": \"variation1\", \"type\": \"scatter\", \"x\": [0.0, 0.1, 0.2, 0.3, 0.4, 0.5, 0.6, 0.7, 0.8, 0.9, 1.0, 1.1, 1.2, 1.3, 1.4, 1.5, 1.6, 1.7, 1.8, 1.9, 2.0, 2.1, 2.2, 2.3, 2.4, 2.5, 2.6, 2.7, 2.8, 2.9, 3.0, 3.1, 3.2, 3.3, 3.4, 3.5, 3.6, 3.7, 3.8, 3.9, 4.0, 4.1, 4.2, 4.3, 4.4, 4.5, 4.6, 4.7, 4.8, 4.9, 5.0, 5.1, 5.2, 5.3, 5.4, 5.5, 5.6, 5.7, 5.8, 5.9, 6.0, 6.1, 6.2, 6.3, 6.4, 6.5, 6.6, 6.7, 6.8, 6.9, 7.0, 7.1, 7.2, 7.3, 7.4, 7.5, 7.6, 7.7, 7.8, 7.9, 8.0, 8.1, 8.2, 8.3, 8.4, 8.5, 8.6, 8.7, 8.8, 8.9, 9.0, 9.1, 9.2, 9.3, 9.4, 9.5, 9.6, 9.7, 9.8, 9.9, 10.0, 10.1, 10.2, 10.3, 10.4, 10.5, 10.6, 10.7, 10.8, 10.9, 11.0, 11.1, 11.2, 11.3, 11.4, 11.5, 11.6, 11.7, 11.8, 11.9, 12.0, 12.1, 12.2, 12.3, 12.4, 12.5, 12.6, 12.7, 12.8, 12.9, 13.0, 13.1, 13.2, 13.3, 13.4, 13.5, 13.6, 13.7, 13.8, 13.9, 14.0, 14.1, 14.2, 14.3, 14.4, 14.5, 14.6, 14.7, 14.8, 14.9, 15.0, 15.1, 15.2, 15.3, 15.4, 15.5, 15.6, 15.7, 15.8, 15.9, 16.0, 16.1, 16.2, 16.3, 16.4, 16.5, 16.6, 16.7, 16.8, 16.9, 17.0, 17.1, 17.2, 17.3, 17.4, 17.5, 17.6, 17.7, 17.8, 17.9, 18.0, 18.1, 18.2, 18.3, 18.4, 18.5, 18.6, 18.7, 18.8, 18.9, 19.0, 19.1, 19.2, 19.3, 19.4, 19.5, 19.6, 19.7, 19.8, 19.9, 20.0, 20.1, 20.2, 20.3, 20.4, 20.5, 20.6, 20.7, 20.8, 20.9, 21.0, 21.1, 21.2, 21.3, 21.4, 21.5, 21.6, 21.7, 21.8, 21.9, 22.0, 22.1, 22.2, 22.3, 22.4, 22.5, 22.6, 22.7, 22.8, 22.9, 23.0, 23.1, 23.2, 23.3, 23.4, 23.5, 23.6, 23.7, 23.8, 23.9, 24.0, 24.1, 24.2, 24.3, 24.4, 24.5, 24.6, 24.7, 24.8, 24.9, 25.0, 25.1, 25.2, 25.3, 25.4, 25.5, 25.6, 25.7, 25.8, 25.9, 26.0, 26.1, 26.2, 26.3, 26.4, 26.5, 26.6, 26.7, 26.8, 26.9, 27.0, 27.1, 27.2, 27.3, 27.4, 27.5, 27.6, 27.7, 27.8, 27.9, 28.0, 28.1, 28.2, 28.3, 28.4, 28.5, 28.6, 28.7, 28.8, 28.9, 29.0, 29.1, 29.2, 29.3, 29.4, 29.5, 29.6, 29.7, 29.8, 29.9, 30.0, 30.1, 30.2, 30.4, 30.5, 30.6, 30.7, 30.8, 30.9, 31.0, 31.1, 31.2, 31.3, 31.4, 31.5, 31.6, 31.7, 31.8, 32.0, 32.1, 32.2, 32.6, 59.8], \"xaxis\": \"x\", \"y\": [-5.4278635410716545, 39.387576783802636, 82.85010266586237, 124.96049058845897, 165.7195170349438, 205.12795848866827, 243.18659143298382, 279.8961923512417, 315.2575377267936, 349.2714040429907, 381.93856778318434, 413.25980543072615, 443.2358934689674, 471.8676083812594, 499.15572665095374, 525.1010247614015, 549.7042791959545, 572.966266437964, 594.8877629707813, 615.4695452777578, 634.7123898422451, 652.6170731475943, 669.1843716771571, 684.4150619142845, 698.3099203423283, 710.8697234446398, 722.0952477044706, 734.0456058923409, 734.4233679748754, 738.0410654826944, 736.5814751285427, 739.0808192915937, 736.4592876600733, 740.6590656844901, 741.3749369386521, 744.8950660880814, 744.5323378063742, 749.3437594590828, 744.8696397940648, 741.0749672080497, 729.7380688123293, 725.6391887800426, 713.9636767227339, 711.1253153061267, 702.0939360305755, 696.9750781958471, 685.4848148520892, 679.7947734839132, 671.2149127231436, 667.7294924830069, 656.2629401673994, 654.6680456058015, 647.7489657954906, 646.3388154574827, 638.1921097769268, 636.8066794469905, 631.9338109170751, 630.1033195438534, 623.183735243582, 622.7003329632875, 618.7508828573452, 620.2830188678383, 611.9570174552676, 613.5539299767082, 610.355362728197, 610.1194632225972, 605.0420744626342, 604.5248713549761, 593.6809605488027, 587.2137019472498, 576.5519120168708, 569.5391988698635, 558.4981333870682, 548.249318938477, 535.5388961758918, 525.8149530823607, 510.2659671071837, 500.79376450401685, 486.6726869134628, 477.37564322463356, 458.11078599529503, 450.5394006658641, 437.4684693773986, 428.9838563211996, 416.126425184081, 407.6373726162284, 393.26334375940456, 382.921804056046, 370.27918474417214, 362.20230047417016, 349.0872767631439, 338.7886187064407, 326.6534153969881, 320.86076077081606, 308.9827464433028, 304.2557764100071, 292.37483604072213, 285.8265563514889, 276.2075471697729, 268.7755019674735, 260.13328624756747, 254.83190394507605, 246.36747048730302, 239.3377055796257, 231.36817677325, 226.28907274742085, 218.46846937742905, 213.9022298455963, 206.93078397737008, 200.5210372313312, 193.3188376551038, 188.935727978987, 181.35324387042178, 177.89304812831753, 169.95388961757297, 167.31792957317822, 161.3004742205406, 157.18181818179636, 150.41176470586143, 146.43648471393385, 139.5915649278385, 136.83432549690355, 131.48653011803236, 127.50539804256124, 122.80526687517212, 120.14731106849302, 115.06174957116752, 112.38845726968468, 108.8432045202149, 105.85349611541258, 103.02623347793944, 101.20623549589953, 99.48632832205253, 100.7811522550561, 99.3527393804725, 99.91322772675434, 97.7254565634008, 97.35909595397698, 95.37039652909583, 94.17566340428516, 91.94299263443376, 91.22328725657093, 88.09504590857416, 87.40631621429519, 84.8154575723825, 83.918978912308, 82.40248209059493, 82.21471092724111, 79.2539602461801, 78.0234083341633, 75.75401069517662, 75.20653818987955, 74.87216224396091, 74.80072646553293, 71.45333467862996, 70.58853798808421, 73.13893653515277, 74.24376954897566, 74.85531227927522, 75.65886388859809, 74.43214610028227, 72.63606094237714, 72.40581172433663, 72.62415497930581, 72.02310564018777, 73.43325597819583, 72.24205428310972, 73.86742003833098, 73.26707698515781, 73.42730299666016, 72.22651599232172, 72.42679850669965, 71.60205831902951, 71.24810816263768, 70.20199778023442, 69.43860357177928, 68.41902936130622, 67.65856119462283, 66.31641610331035, 66.31520532740478, 65.05256785389068, 64.12521440822437, 63.539198869933664, 63.167288870942706, 61.81676924628342, 59.986883261014775, 57.86136615880542, 55.62536575521375, 52.24518212086854, 50.06750075672799, 47.54000605387293, 44.96408031479549, 42.82998688325507, 41.21339925334913, 38.73181313691319, 37.94723035011076, 36.43668650993338, 35.76803551608826, 33.39410755725496, 30.96256684491547, 28.39229139339732, 27.23216627988723, 26.29260417717321, 24.760972656640682, 23.566340429822162, 22.69266471596899, 21.202502270201865, 21.63434567651802, 21.049339118148616, 21.156896377759136, 20.280193724142066, 19.21299566138366, 18.324185248710997, 18.263343759456642, 19.16416103319277, 19.20441933205262, 18.89425890424518, 18.765210372310985, 18.392493189382975, 18.547169811318177, 18.57975986277615, 18.657955806676856, 17.94834022802697, 17.469276561393997, 17.152759560082373, 16.85551407526756, 16.008677227320952, 15.730905054987216, 15.18151548783968, 15.063363939055517, 15.225708808392595, 14.98678236302889, 14.40772878619515, 14.325396024617119, 14.501967510844517, 14.598325093328612, 14.410453031982664, 14.264554535362764, 14.048431036220425, 14.05539299767739, 13.708909292703169, 13.871556856016639, 13.653919886992352, 13.624659469274668, 13.496216325293252, 13.656543234787732, 13.462415497929724, 13.048431036220567, 12.37301987690273, 12.265260821307951, 11.8263545555427, 11.874381999796551, 12.275653314497333, 12.391484209462512, 12.206639087880456, 12.237312077487957, 12.299061648671481, 12.997376652202817, 12.982847341336104, 13.158208051657946, 13.505902532537728, 13.311875693671848, 13.116436282916148, 12.557360508524136, 12.468065785489134, 12.610231056400224, 12.628190898999355, 12.500958530923494, 12.414589849660269, 12.347694480878115, 12.248209060637993, 12.36101301583927, 12.596105337502033, 12.635051962464193, 12.493693875490145, 12.451720310764086, null, null, null, null, null, null, null, null, null, null, null, null, null, null, null, null, null, null, null, null, null, null, null, null, null, null, null, null, null, null, null, null, null, null, null, null, null, null, null, null, null, null, null, null, null, null, null], \"yaxis\": \"y\"}],\n",
              "                        {\"template\": {\"data\": {\"bar\": [{\"error_x\": {\"color\": \"#2a3f5f\"}, \"error_y\": {\"color\": \"#2a3f5f\"}, \"marker\": {\"line\": {\"color\": \"#E5ECF6\", \"width\": 0.5}}, \"type\": \"bar\"}], \"barpolar\": [{\"marker\": {\"line\": {\"color\": \"#E5ECF6\", \"width\": 0.5}}, \"type\": \"barpolar\"}], \"carpet\": [{\"aaxis\": {\"endlinecolor\": \"#2a3f5f\", \"gridcolor\": \"white\", \"linecolor\": \"white\", \"minorgridcolor\": \"white\", \"startlinecolor\": \"#2a3f5f\"}, \"baxis\": {\"endlinecolor\": \"#2a3f5f\", \"gridcolor\": \"white\", \"linecolor\": \"white\", \"minorgridcolor\": \"white\", \"startlinecolor\": \"#2a3f5f\"}, \"type\": \"carpet\"}], \"choropleth\": [{\"colorbar\": {\"outlinewidth\": 0, \"ticks\": \"\"}, \"type\": \"choropleth\"}], \"contour\": [{\"colorbar\": {\"outlinewidth\": 0, \"ticks\": \"\"}, \"colorscale\": [[0.0, \"#0d0887\"], [0.1111111111111111, \"#46039f\"], [0.2222222222222222, \"#7201a8\"], [0.3333333333333333, \"#9c179e\"], [0.4444444444444444, \"#bd3786\"], [0.5555555555555556, \"#d8576b\"], [0.6666666666666666, \"#ed7953\"], [0.7777777777777778, \"#fb9f3a\"], [0.8888888888888888, \"#fdca26\"], [1.0, \"#f0f921\"]], \"type\": \"contour\"}], \"contourcarpet\": [{\"colorbar\": {\"outlinewidth\": 0, \"ticks\": \"\"}, \"type\": \"contourcarpet\"}], \"heatmap\": [{\"colorbar\": {\"outlinewidth\": 0, \"ticks\": \"\"}, \"colorscale\": [[0.0, \"#0d0887\"], [0.1111111111111111, \"#46039f\"], [0.2222222222222222, \"#7201a8\"], [0.3333333333333333, \"#9c179e\"], [0.4444444444444444, \"#bd3786\"], [0.5555555555555556, \"#d8576b\"], [0.6666666666666666, \"#ed7953\"], [0.7777777777777778, \"#fb9f3a\"], [0.8888888888888888, \"#fdca26\"], [1.0, \"#f0f921\"]], \"type\": \"heatmap\"}], \"heatmapgl\": [{\"colorbar\": {\"outlinewidth\": 0, \"ticks\": \"\"}, \"colorscale\": [[0.0, \"#0d0887\"], [0.1111111111111111, \"#46039f\"], [0.2222222222222222, \"#7201a8\"], [0.3333333333333333, \"#9c179e\"], [0.4444444444444444, \"#bd3786\"], [0.5555555555555556, \"#d8576b\"], [0.6666666666666666, \"#ed7953\"], [0.7777777777777778, \"#fb9f3a\"], [0.8888888888888888, \"#fdca26\"], [1.0, \"#f0f921\"]], \"type\": \"heatmapgl\"}], \"histogram\": [{\"marker\": {\"colorbar\": {\"outlinewidth\": 0, \"ticks\": \"\"}}, \"type\": \"histogram\"}], \"histogram2d\": [{\"colorbar\": {\"outlinewidth\": 0, \"ticks\": \"\"}, \"colorscale\": [[0.0, \"#0d0887\"], [0.1111111111111111, \"#46039f\"], [0.2222222222222222, \"#7201a8\"], [0.3333333333333333, \"#9c179e\"], [0.4444444444444444, \"#bd3786\"], [0.5555555555555556, \"#d8576b\"], [0.6666666666666666, \"#ed7953\"], [0.7777777777777778, \"#fb9f3a\"], [0.8888888888888888, \"#fdca26\"], [1.0, \"#f0f921\"]], \"type\": \"histogram2d\"}], \"histogram2dcontour\": [{\"colorbar\": {\"outlinewidth\": 0, \"ticks\": \"\"}, \"colorscale\": [[0.0, \"#0d0887\"], [0.1111111111111111, \"#46039f\"], [0.2222222222222222, \"#7201a8\"], [0.3333333333333333, \"#9c179e\"], [0.4444444444444444, \"#bd3786\"], [0.5555555555555556, \"#d8576b\"], [0.6666666666666666, \"#ed7953\"], [0.7777777777777778, \"#fb9f3a\"], [0.8888888888888888, \"#fdca26\"], [1.0, \"#f0f921\"]], \"type\": \"histogram2dcontour\"}], \"mesh3d\": [{\"colorbar\": {\"outlinewidth\": 0, \"ticks\": \"\"}, \"type\": \"mesh3d\"}], \"parcoords\": [{\"line\": {\"colorbar\": {\"outlinewidth\": 0, \"ticks\": \"\"}}, \"type\": \"parcoords\"}], \"pie\": [{\"automargin\": true, \"type\": \"pie\"}], \"scatter\": [{\"marker\": {\"colorbar\": {\"outlinewidth\": 0, \"ticks\": \"\"}}, \"type\": \"scatter\"}], \"scatter3d\": [{\"line\": {\"colorbar\": {\"outlinewidth\": 0, \"ticks\": \"\"}}, \"marker\": {\"colorbar\": {\"outlinewidth\": 0, \"ticks\": \"\"}}, \"type\": \"scatter3d\"}], \"scattercarpet\": [{\"marker\": {\"colorbar\": {\"outlinewidth\": 0, \"ticks\": \"\"}}, \"type\": \"scattercarpet\"}], \"scattergeo\": [{\"marker\": {\"colorbar\": {\"outlinewidth\": 0, \"ticks\": \"\"}}, \"type\": \"scattergeo\"}], \"scattergl\": [{\"marker\": {\"colorbar\": {\"outlinewidth\": 0, \"ticks\": \"\"}}, \"type\": \"scattergl\"}], \"scattermapbox\": [{\"marker\": {\"colorbar\": {\"outlinewidth\": 0, \"ticks\": \"\"}}, \"type\": \"scattermapbox\"}], \"scatterpolar\": [{\"marker\": {\"colorbar\": {\"outlinewidth\": 0, \"ticks\": \"\"}}, \"type\": \"scatterpolar\"}], \"scatterpolargl\": [{\"marker\": {\"colorbar\": {\"outlinewidth\": 0, \"ticks\": \"\"}}, \"type\": \"scatterpolargl\"}], \"scatterternary\": [{\"marker\": {\"colorbar\": {\"outlinewidth\": 0, \"ticks\": \"\"}}, \"type\": \"scatterternary\"}], \"surface\": [{\"colorbar\": {\"outlinewidth\": 0, \"ticks\": \"\"}, \"colorscale\": [[0.0, \"#0d0887\"], [0.1111111111111111, \"#46039f\"], [0.2222222222222222, \"#7201a8\"], [0.3333333333333333, \"#9c179e\"], [0.4444444444444444, \"#bd3786\"], [0.5555555555555556, \"#d8576b\"], [0.6666666666666666, \"#ed7953\"], [0.7777777777777778, \"#fb9f3a\"], [0.8888888888888888, \"#fdca26\"], [1.0, \"#f0f921\"]], \"type\": \"surface\"}], \"table\": [{\"cells\": {\"fill\": {\"color\": \"#EBF0F8\"}, \"line\": {\"color\": \"white\"}}, \"header\": {\"fill\": {\"color\": \"#C8D4E3\"}, \"line\": {\"color\": \"white\"}}, \"type\": \"table\"}]}, \"layout\": {\"annotationdefaults\": {\"arrowcolor\": \"#2a3f5f\", \"arrowhead\": 0, \"arrowwidth\": 1}, \"coloraxis\": {\"colorbar\": {\"outlinewidth\": 0, \"ticks\": \"\"}}, \"colorscale\": {\"diverging\": [[0, \"#8e0152\"], [0.1, \"#c51b7d\"], [0.2, \"#de77ae\"], [0.3, \"#f1b6da\"], [0.4, \"#fde0ef\"], [0.5, \"#f7f7f7\"], [0.6, \"#e6f5d0\"], [0.7, \"#b8e186\"], [0.8, \"#7fbc41\"], [0.9, \"#4d9221\"], [1, \"#276419\"]], \"sequential\": [[0.0, \"#0d0887\"], [0.1111111111111111, \"#46039f\"], [0.2222222222222222, \"#7201a8\"], [0.3333333333333333, \"#9c179e\"], [0.4444444444444444, \"#bd3786\"], [0.5555555555555556, \"#d8576b\"], [0.6666666666666666, \"#ed7953\"], [0.7777777777777778, \"#fb9f3a\"], [0.8888888888888888, \"#fdca26\"], [1.0, \"#f0f921\"]], \"sequentialminus\": [[0.0, \"#0d0887\"], [0.1111111111111111, \"#46039f\"], [0.2222222222222222, \"#7201a8\"], [0.3333333333333333, \"#9c179e\"], [0.4444444444444444, \"#bd3786\"], [0.5555555555555556, \"#d8576b\"], [0.6666666666666666, \"#ed7953\"], [0.7777777777777778, \"#fb9f3a\"], [0.8888888888888888, \"#fdca26\"], [1.0, \"#f0f921\"]]}, \"colorway\": [\"#636efa\", \"#EF553B\", \"#00cc96\", \"#ab63fa\", \"#FFA15A\", \"#19d3f3\", \"#FF6692\", \"#B6E880\", \"#FF97FF\", \"#FECB52\"], \"font\": {\"color\": \"#2a3f5f\"}, \"geo\": {\"bgcolor\": \"white\", \"lakecolor\": \"white\", \"landcolor\": \"#E5ECF6\", \"showlakes\": true, \"showland\": true, \"subunitcolor\": \"white\"}, \"hoverlabel\": {\"align\": \"left\"}, \"hovermode\": \"closest\", \"mapbox\": {\"style\": \"light\"}, \"paper_bgcolor\": \"white\", \"plot_bgcolor\": \"#E5ECF6\", \"polar\": {\"angularaxis\": {\"gridcolor\": \"white\", \"linecolor\": \"white\", \"ticks\": \"\"}, \"bgcolor\": \"#E5ECF6\", \"radialaxis\": {\"gridcolor\": \"white\", \"linecolor\": \"white\", \"ticks\": \"\"}}, \"scene\": {\"xaxis\": {\"backgroundcolor\": \"#E5ECF6\", \"gridcolor\": \"white\", \"gridwidth\": 2, \"linecolor\": \"white\", \"showbackground\": true, \"ticks\": \"\", \"zerolinecolor\": \"white\"}, \"yaxis\": {\"backgroundcolor\": \"#E5ECF6\", \"gridcolor\": \"white\", \"gridwidth\": 2, \"linecolor\": \"white\", \"showbackground\": true, \"ticks\": \"\", \"zerolinecolor\": \"white\"}, \"zaxis\": {\"backgroundcolor\": \"#E5ECF6\", \"gridcolor\": \"white\", \"gridwidth\": 2, \"linecolor\": \"white\", \"showbackground\": true, \"ticks\": \"\", \"zerolinecolor\": \"white\"}}, \"shapedefaults\": {\"line\": {\"color\": \"#2a3f5f\"}}, \"ternary\": {\"aaxis\": {\"gridcolor\": \"white\", \"linecolor\": \"white\", \"ticks\": \"\"}, \"baxis\": {\"gridcolor\": \"white\", \"linecolor\": \"white\", \"ticks\": \"\"}, \"bgcolor\": \"#E5ECF6\", \"caxis\": {\"gridcolor\": \"white\", \"linecolor\": \"white\", \"ticks\": \"\"}}, \"title\": {\"x\": 0.05}, \"xaxis\": {\"automargin\": true, \"gridcolor\": \"white\", \"linecolor\": \"white\", \"ticks\": \"\", \"title\": {\"standoff\": 15}, \"zerolinecolor\": \"white\", \"zerolinewidth\": 2}, \"yaxis\": {\"automargin\": true, \"gridcolor\": \"white\", \"linecolor\": \"white\", \"ticks\": \"\", \"title\": {\"standoff\": 15}, \"zerolinecolor\": \"white\", \"zerolinewidth\": 2}}}, \"title\": {\"text\": \"Order across tt of Control and Test\"}, \"xaxis\": {\"anchor\": \"y\", \"domain\": [0.0, 0.94], \"title\": {\"text\": \"Travel Time\"}}, \"yaxis\": {\"anchor\": \"x\", \"domain\": [0.0, 1.0], \"showgrid\": false, \"title\": {\"text\": \"Order amount\"}}, \"yaxis2\": {\"anchor\": \"x\", \"overlaying\": \"y\", \"showgrid\": false, \"side\": \"right\", \"title\": {\"text\": \"Delta % difference of Variation1 vs Control\"}}},\n",
              "                        {\"responsive\": true}\n",
              "                    ).then(function(){\n",
              "                            \n",
              "var gd = document.getElementById('f7d72827-df68-4134-a83f-598717fcf135');\n",
              "var x = new MutationObserver(function (mutations, observer) {{\n",
              "        var display = window.getComputedStyle(gd).display;\n",
              "        if (!display || display === 'none') {{\n",
              "            console.log([gd, 'removed!']);\n",
              "            Plotly.purge(gd);\n",
              "            observer.disconnect();\n",
              "        }}\n",
              "}});\n",
              "\n",
              "// Listen for the removal of the full notebook cells\n",
              "var notebookContainer = gd.closest('#notebook-container');\n",
              "if (notebookContainer) {{\n",
              "    x.observe(notebookContainer, {childList: true});\n",
              "}}\n",
              "\n",
              "// Listen for the clearing of the current output cell\n",
              "var outputEl = gd.closest('.output');\n",
              "if (outputEl) {{\n",
              "    x.observe(outputEl, {childList: true});\n",
              "}}\n",
              "\n",
              "                        })\n",
              "                };\n",
              "                \n",
              "            </script>\n",
              "        </div>\n",
              "</body>\n",
              "</html>"
            ]
          },
          "metadata": {
            "tags": []
          }
        }
      ]
    },
    {
      "cell_type": "code",
      "metadata": {
        "id": "szqaeYZbkDBZ",
        "colab": {
          "base_uri": "https://localhost:8080/",
          "height": 542
        },
        "outputId": "20eb7414-1d53-4e5d-b743-d41a833a5649"
      },
      "source": [
        "tt_surge = df[(df.stage == \"surge_shrink1\")|(df.stage == \"surge1\")|(df.stage == \"shrink2\")]\n",
        "surge_pv = tt_surge.pivot_table(\"platform_order_code_ga\", index=[\"tt\"], columns =\"variant\", aggfunc = \"count\")\n",
        "surge_pv[\"Control_pp\"] = surge_pv[\"Control\"]/surge_pv[\"Control\"].sum()\n",
        "surge_pv[\"Variation1_pp\"] = surge_pv[\"Variation1\"]/surge_pv[\"Variation1\"].sum()\n",
        "surge_pv = surge_pv.reset_index()\n",
        "\n",
        "fig = go.Figure()\n",
        "fig = make_subplots(specs=[[{\"secondary_y\": True}]])\n",
        "fig.add_trace(go.Scatter(x =surge_pv.tt, y=signal.savgol_filter(surge_pv.Control_pp,53, 3), mode=\"lines\", name =\"control\"), secondary_y=False)\n",
        "fig.add_trace(go.Scatter(x =surge_pv.tt, y=signal.savgol_filter(surge_pv.Variation1_pp,53,3), mode=\"lines\", name =\"variation1\"), secondary_y=False)\n",
        "#fig.add_trace(go.Scatter(x =tt_order.tt, y=tt_order.delta, mode=\"lines\", name =\"delta\", line = dict(color='gray', width=4, dash='dash')), secondary_y=True)\n",
        "# Add figure title\n",
        "fig.update_layout(title_text=\"Order share across travel time of Control and Test is surge stage\")\n",
        "# Set x-axis title\n",
        "fig.update_xaxes(title_text=\"Travel Time\")\n",
        "# Set y-axes titles\n",
        "fig.update_yaxes(title_text=\"Orders%\", showgrid=False, secondary_y=False)\n",
        "fig.update_yaxes(title_text=\"Delta % difference of Variation1 vs Control\", showgrid=False,secondary_y=True)\n",
        "fig.show()"
      ],
      "execution_count": null,
      "outputs": [
        {
          "output_type": "display_data",
          "data": {
            "text/html": [
              "<html>\n",
              "<head><meta charset=\"utf-8\" /></head>\n",
              "<body>\n",
              "    <div>\n",
              "            <script src=\"https://cdnjs.cloudflare.com/ajax/libs/mathjax/2.7.5/MathJax.js?config=TeX-AMS-MML_SVG\"></script><script type=\"text/javascript\">if (window.MathJax) {MathJax.Hub.Config({SVG: {font: \"STIX-Web\"}});}</script>\n",
              "                <script type=\"text/javascript\">window.PlotlyConfig = {MathJaxConfig: 'local'};</script>\n",
              "        <script src=\"https://cdn.plot.ly/plotly-latest.min.js\"></script>    \n",
              "            <div id=\"dd60ce5d-273d-49bb-ac48-73d8bff59656\" class=\"plotly-graph-div\" style=\"height:525px; width:100%;\"></div>\n",
              "            <script type=\"text/javascript\">\n",
              "                \n",
              "                    window.PLOTLYENV=window.PLOTLYENV || {};\n",
              "                    \n",
              "                if (document.getElementById(\"dd60ce5d-273d-49bb-ac48-73d8bff59656\")) {\n",
              "                    Plotly.newPlot(\n",
              "                        'dd60ce5d-273d-49bb-ac48-73d8bff59656',\n",
              "                        [{\"mode\": \"lines\", \"name\": \"control\", \"type\": \"scatter\", \"x\": [0.0, 0.1, 0.2, 0.3, 0.4, 0.5, 0.6, 0.7, 0.8, 0.9, 1.0, 1.1, 1.2, 1.3, 1.4, 1.5, 1.6, 1.7, 1.8, 1.9, 2.0, 2.1, 2.2, 2.3, 2.4, 2.5, 2.6, 2.7, 2.8, 2.9, 3.0, 3.1, 3.2, 3.3, 3.4, 3.5, 3.6, 3.7, 3.8, 3.9, 4.0, 4.1, 4.2, 4.3, 4.4, 4.5, 4.6, 4.7, 4.8, 4.9, 5.0, 5.1, 5.2, 5.3, 5.4, 5.5, 5.6, 5.7, 5.8, 5.9, 6.0, 6.1, 6.2, 6.3, 6.4, 6.5, 6.6, 6.7, 6.8, 6.9, 7.0, 7.1, 7.2, 7.3, 7.4, 7.5, 7.6, 7.7, 7.8, 7.9, 8.0, 8.1, 8.2, 8.3, 8.4, 8.5, 8.6, 8.7, 8.8, 8.9, 9.0, 9.1, 9.2, 9.3, 9.4, 9.5, 9.6, 9.7, 9.8, 9.9, 10.0, 10.1, 10.2, 10.3, 10.4, 10.5, 10.6, 10.7, 10.8, 10.9, 11.0, 11.1, 11.2, 11.3, 11.4, 11.5, 11.6, 11.7, 11.8, 11.9, 12.0, 12.1, 12.2, 12.3, 12.4, 12.5, 12.6, 12.7, 12.8, 12.9, 13.0, 13.1, 13.2, 13.3, 13.4, 13.5, 13.6, 13.7, 13.8, 13.9, 14.0, 14.1, 14.2, 14.3, 14.4, 14.5, 14.6, 14.7, 14.8, 14.9, 15.0, 15.1, 15.2, 15.3, 15.4, 15.5, 15.6, 15.7, 15.8, 15.9, 16.0, 16.1, 16.2, 16.3, 16.4, 16.5, 16.6, 16.7, 16.8, 16.9, 17.0, 17.1, 17.2, 17.3, 17.4, 17.5, 17.6, 17.7, 17.8, 17.9, 18.0, 18.1, 18.2, 18.3, 18.4, 18.5, 18.6, 18.7, 18.8, 18.9, 19.0, 19.1, 19.2, 19.3, 19.4, 19.5, 19.6, 19.7, 19.8, 19.9, 20.0, 20.1, 20.2, 20.3, 20.4, 20.5, 20.6, 20.7, 20.8, 20.9, 21.0, 21.1, 21.2, 21.3, 21.4, 21.5, 21.6, 21.7, 21.8, 21.9, 22.0, 22.1, 22.2, 22.3, 22.4, 22.5, 22.6, 22.7, 22.8, 22.9, 23.0, 23.1, 23.2, 23.3, 23.4, 23.5, 23.6, 23.7, 23.8, 23.9, 24.0, 24.1, 24.2, 24.3, 24.4, 24.5, 24.6, 24.7, 24.8, 24.9, 25.0, 25.1, 25.2, 25.3, 25.4, 25.5, 25.6, 25.7, 25.8, 25.9, 26.0, 26.1, 26.2, 26.3, 26.4, 26.5, 26.6, 26.7, 26.8, 26.9, 27.0, 27.1, 27.2, 27.3, 27.4, 27.5, 27.6, 27.7, 27.8, 27.9, 28.0, 28.1, 28.2, 28.3, 28.4, 28.5, 28.6, 28.7, 28.8, 28.9, 29.0, 29.1, 29.2, 29.3, 29.4, 29.5, 29.7, 29.8, 29.9, 30.0, 30.1, 30.2, 30.4, 30.7, 30.9, 31.0, 31.1, 31.2, 31.3, 31.5, 31.6, 31.8, 32.0], \"xaxis\": \"x\", \"y\": [8.609533583963755e-05, 0.0007926271905008338, 0.0014751236289106606, 0.002133802527256066, 0.0027688817617239985, 0.003380579208501407, 0.00396911274377524, 0.004534700243732445, 0.005077559584559971, 0.005597908642444766, 0.00609596529357378, 0.006571947414133959, 0.007026072880312254, 0.007458559568295611, 0.007869625354270979, 0.008259488114425308, 0.008628365724945545, 0.008976476062018637, 0.009304037001831538, 0.009611266420571191, 0.009898382194424545, 0.010165602199578551, 0.010413144312220155, 0.010641226408536309, 0.010850066364713957, 0.011039882056940047, 0.011210891361399989, 0.01135353075002673, 0.0113862181363968, 0.01145460087162676, 0.011467919389374966, 0.011539701681639203, 0.011532123681718494, 0.011619225496820734, 0.011621325476355832, 0.011750224630032644, 0.011813830772467615, 0.011912430836171857, 0.011884761023854905, 0.011908239483575167, 0.011827979814909002, 0.011851337784000202, 0.011779783563283833, 0.011746562575556485, 0.01162431622589864, 0.011559913984664506, 0.011414227904417176, 0.01134398186767349, 0.011230531333937243, 0.011191978635873857, 0.011036429536990374, 0.01094383679179227, 0.010785163543026657, 0.010720077087148915, 0.01059703894192866, 0.010615228723680408, 0.010522364874566911, 0.010544061794271744, 0.010364259653052594, 0.010289245629987419, 0.010160626186699499, 0.010130499226197015, 0.009987055132297605, 0.00997764395352044, 0.009836678523990321, 0.009738973533530546, 0.009586694894578772, 0.009483120289188931, 0.00924698017240936, 0.009097679373290141, 0.008856538895404458, 0.008700124845933771, 0.00847865016000586, 0.00827358801905102, 0.007977477994892129, 0.007753257843916283, 0.007450727390523041, 0.007315919892785389, 0.007067851203728589, 0.006864493144527639, 0.0065825149498631285, 0.006427559697651456, 0.006196157444536108, 0.006026175289585587, 0.005831660381910505, 0.00569347914655909, 0.00547568372805435, 0.005386882134434975, 0.0051999108007865814, 0.00507128705426191, 0.0048906974207170995, 0.004780482921018541, 0.004631358554606163, 0.004517800439951108, 0.004347456813113399, 0.004236377362827639, 0.004062561023930866, 0.0039599288273897675, 0.0038147548323159528, 0.003707513869213198, 0.0035824790221399, 0.003493655912336764, 0.003343791389202999, 0.0032196602218476727, 0.0031144202638347124, 0.0030445270925047122, 0.002998422213941135, 0.0029512243132424863, 0.002835325237794209, 0.0027608232999025524, 0.002634635185379652, 0.0026374667151626307, 0.002553110365108327, 0.002472364430689158, 0.002374973576512297, 0.0023173317202159448, 0.002202637551058297, 0.00216409776270517, 0.0020887351774630633, 0.0020342432904693554, 0.0019257759048922096, 0.0018651131763957793, 0.0017904606252177933, 0.0017344109665197716, 0.0016608471342401043, 0.0015969268555222225, 0.0015162885020218605, 0.001504011367567699, 0.0014728042946404014, 0.0014583325094425937, 0.0013931169564622857, 0.0013599390011024594, 0.0013350748991479743, 0.0013693329669326147, 0.0013482944424508781, 0.0013715921662275448, 0.0013508979006859878, 0.0013485225139987472, 0.0013220619112091787, 0.0013228967391391146, 0.001282622746374832, 0.0012835006066722904, 0.0012840471177398259, 0.0012790940922379895, 0.0012480892714380474, 0.0012386565764771216, 0.0012410147502173528, 0.001239383823488251, 0.0012068384439310048, 0.0011974961169418756, 0.0011682211973163376, 0.0011535385535176694, 0.001142182311728489, 0.001139540124362609, 0.001123166308520308, 0.0011417778074737776, 0.001191355398096419, 0.0012047728902899262, 0.0012374516701864923, 0.0012337164606855415, 0.001229460559537569, 0.0012231391047485178, 0.0012190079974663604, 0.0012169166244047679, 0.0012087447778122507, 0.0012001512140180127, 0.0011868843351108345, 0.001176685664008008, 0.0011742156061122183, 0.0011703082671411776, 0.0011428321004780786, 0.001125335139843441, 0.0010968434093068114, 0.0010816788029918921, 0.0010660193244504644, 0.0010463406227824372, 0.0010188300302253202, 0.0009918831616827473, 0.000979847008486712, 0.000979519962493541, 0.0009537564840578363, 0.0009325071009752391, 0.0009007320007966451, 0.0008960758986307135, 0.0008862989447296076, 0.0008647182124170874, 0.0008199559437202108, 0.0007912748707664825, 0.0007396790621070371, 0.0007035964219394436, 0.000664888807352979, 0.0006335612437966186, 0.0005993289954324912, 0.0005865742016988302, 0.000552535598988554, 0.0005248786963818606, 0.000502334039036837, 0.0004946312452503142, 0.0004555492490664042, 0.00042850340607853, 0.00039980512017779256, 0.00039080705212884347, 0.0003729314066600081, 0.0003474562450867041, 0.0003349639487949302, 0.00033978787719419947, 0.00033400002376242685, 0.0003320463542769066, 0.0003186761976876742, null, null, null, null, null, null, null, null, null, null, null, null, null, null, null, null, null, null, null, null, null, null, null, null, null, null, null, null, null, null, null, null, null, null, null, null, null, null, null, null, null, null, null, null, null, null, null, null, null, null, null, null, null, null, null, null, null, null, null, null, null, null, null, null, null, null, null, null, null, null, null, null, null, null, null, null, null, null, null, null, null, null, null, null, null, null, null, null, null, null, null, null, null, null, null, null, null, null, null, null, null, null, null, null], \"yaxis\": \"y\"}, {\"mode\": \"lines\", \"name\": \"variation1\", \"type\": \"scatter\", \"x\": [0.0, 0.1, 0.2, 0.3, 0.4, 0.5, 0.6, 0.7, 0.8, 0.9, 1.0, 1.1, 1.2, 1.3, 1.4, 1.5, 1.6, 1.7, 1.8, 1.9, 2.0, 2.1, 2.2, 2.3, 2.4, 2.5, 2.6, 2.7, 2.8, 2.9, 3.0, 3.1, 3.2, 3.3, 3.4, 3.5, 3.6, 3.7, 3.8, 3.9, 4.0, 4.1, 4.2, 4.3, 4.4, 4.5, 4.6, 4.7, 4.8, 4.9, 5.0, 5.1, 5.2, 5.3, 5.4, 5.5, 5.6, 5.7, 5.8, 5.9, 6.0, 6.1, 6.2, 6.3, 6.4, 6.5, 6.6, 6.7, 6.8, 6.9, 7.0, 7.1, 7.2, 7.3, 7.4, 7.5, 7.6, 7.7, 7.8, 7.9, 8.0, 8.1, 8.2, 8.3, 8.4, 8.5, 8.6, 8.7, 8.8, 8.9, 9.0, 9.1, 9.2, 9.3, 9.4, 9.5, 9.6, 9.7, 9.8, 9.9, 10.0, 10.1, 10.2, 10.3, 10.4, 10.5, 10.6, 10.7, 10.8, 10.9, 11.0, 11.1, 11.2, 11.3, 11.4, 11.5, 11.6, 11.7, 11.8, 11.9, 12.0, 12.1, 12.2, 12.3, 12.4, 12.5, 12.6, 12.7, 12.8, 12.9, 13.0, 13.1, 13.2, 13.3, 13.4, 13.5, 13.6, 13.7, 13.8, 13.9, 14.0, 14.1, 14.2, 14.3, 14.4, 14.5, 14.6, 14.7, 14.8, 14.9, 15.0, 15.1, 15.2, 15.3, 15.4, 15.5, 15.6, 15.7, 15.8, 15.9, 16.0, 16.1, 16.2, 16.3, 16.4, 16.5, 16.6, 16.7, 16.8, 16.9, 17.0, 17.1, 17.2, 17.3, 17.4, 17.5, 17.6, 17.7, 17.8, 17.9, 18.0, 18.1, 18.2, 18.3, 18.4, 18.5, 18.6, 18.7, 18.8, 18.9, 19.0, 19.1, 19.2, 19.3, 19.4, 19.5, 19.6, 19.7, 19.8, 19.9, 20.0, 20.1, 20.2, 20.3, 20.4, 20.5, 20.6, 20.7, 20.8, 20.9, 21.0, 21.1, 21.2, 21.3, 21.4, 21.5, 21.6, 21.7, 21.8, 21.9, 22.0, 22.1, 22.2, 22.3, 22.4, 22.5, 22.6, 22.7, 22.8, 22.9, 23.0, 23.1, 23.2, 23.3, 23.4, 23.5, 23.6, 23.7, 23.8, 23.9, 24.0, 24.1, 24.2, 24.3, 24.4, 24.5, 24.6, 24.7, 24.8, 24.9, 25.0, 25.1, 25.2, 25.3, 25.4, 25.5, 25.6, 25.7, 25.8, 25.9, 26.0, 26.1, 26.2, 26.3, 26.4, 26.5, 26.6, 26.7, 26.8, 26.9, 27.0, 27.1, 27.2, 27.3, 27.4, 27.5, 27.6, 27.7, 27.8, 27.9, 28.0, 28.1, 28.2, 28.3, 28.4, 28.5, 28.6, 28.7, 28.8, 28.9, 29.0, 29.1, 29.2, 29.3, 29.4, 29.5, 29.7, 29.8, 29.9, 30.0, 30.1, 30.2, 30.4, 30.7, 30.9, 31.0, 31.1, 31.2, 31.3, 31.5, 31.6, 31.8, 32.0], \"xaxis\": \"x\", \"y\": [-0.0005023245862902585, 0.0003681434800156581, 0.0012092782163844501, 0.002021149086010249, 0.002803825552087187, 0.003557377077809394, 0.0042818731263710025, 0.004977383160966144, 0.005643976644788951, 0.006281723041033552, 0.00689069181289408, 0.007470952423564668, 0.008022574336239447, 0.008545627014112548, 0.0090401799203781, 0.009506302518230238, 0.009944064270863091, 0.010353534641470794, 0.010734783093247472, 0.011087879089387265, 0.011412892093084296, 0.011709891567532703, 0.011978946975926615, 0.012220127781460161, 0.012433503447327477, 0.01261914343672269, 0.01277711721283817, 0.012910107655420767, 0.01287273647293467, 0.012875490188142212, 0.012807870144198341, 0.012775236285332, 0.012657839338526353, 0.012655958411020185, 0.012602905053792824, 0.012574985181976686, 0.012502903185933811, 0.012535172994315088, 0.012376138940108607, 0.01219612530987178, 0.011931689305611155, 0.011737468371828968, 0.011490609471757509, 0.011333708380008398, 0.01110525736600228, 0.010937243399830862, 0.01066013097098772, 0.010455651281228957, 0.010217524925485149, 0.010090041913317634, 0.009804588994515374, 0.009705506587496845, 0.009505582196115307, 0.009450055162515071, 0.009244660679229735, 0.009147790579005062, 0.009046388516972722, 0.009006795693064945, 0.008875840199347585, 0.008840125913299924, 0.008718211006628345, 0.008754443364520135, 0.008620290760773678, 0.00862428598148157, 0.008570639875387502, 0.008577729525218448, 0.008529002767986668, 0.008480500041822624, 0.008323883656222088, 0.00824603286018511, 0.008072348107611716, 0.007966148046878778, 0.007786792507903412, 0.00763245377149149, 0.007437990137385926, 0.007305975163410746, 0.007063592217380023, 0.00690072629845254, 0.006690837191870823, 0.006555041693627662, 0.006274788162522354, 0.006158903425423902, 0.005964841180314693, 0.005837068794684693, 0.005667934673174616, 0.005574849764531839, 0.005379700035281345, 0.005227088205016525, 0.005043336056336914, 0.004938839565181521, 0.0047422989763855235, 0.0045959366794476545, 0.004434699653075139, 0.004359219852504994, 0.0042173101730383035, 0.00414848129479146, 0.003986268799811529, 0.0038807641688513406, 0.0037434984667261855, 0.003636094239004183, 0.0035108468702000836, 0.0034534202398380336, 0.0033503379447977007, 0.0032741860510243567, 0.0031472724511539987, 0.003078018847341246, 0.0029447950390630944, 0.0028931418760090623, 0.002803487443090935, 0.002706425982995908, 0.0026084263928047528, 0.0025284192977408485, 0.00242955158716223, 0.0024166324622563328, 0.0023063765057346553, 0.002248469142039762, 0.002195798504553112, 0.002143305224995083, 0.0020786255888151986, 0.0020138852775544703, 0.0019501857772959144, 0.001934960999317939, 0.001841815415594317, 0.0017900035638673073, 0.0017182669490538544, 0.0016927367419601923, 0.001627076969858979, 0.0015846510864071712, 0.001519826763496043, 0.0014730416088512774, 0.0014359878037111344, 0.0014020797681470656, 0.0013750420186601218, 0.001408198616684505, 0.0014036993260742139, 0.0014364638697300658, 0.0014123291894958196, 0.0014171178535685978, 0.0013985046056911711, 0.0013920730471216893, 0.0013635604264388404, 0.0013556166581621659, 0.0013100170012508166, 0.0012984794012626025, 0.00124973864208909, 0.001236404126245106, 0.001220012519789358, 0.0012278209359626116, 0.0011795842466914967, 0.0011486586247166147, 0.0011224003166528226, 0.0011299333613053219, 0.0011208881069456294, 0.0011418956868594456, 0.0010874888085978698, 0.0010775941031063592, 0.0011055233095503213, 0.0011236371548392617, 0.001131753613730647, 0.00115831529719866, 0.0011408128700320728, 0.0011240992189164595, 0.0011220362661677578, 0.0011374804078995546, 0.0011448080907399659, 0.0011662357289057798, 0.0011474824616110203, 0.0011740441450790334, 0.0011781933871459923, 0.001173507403979258, 0.0011602335632161182, 0.0011416156480247802, 0.001125154031860366, null, null, null, null, null, null, null, null, null, null, null, null, null, null, null, null, null, null, null, null, null, null, null, null, null, null, null, null, null, null, null, null, null, null, null, null, null, null, null, null, null, null, null, null, null, null, null, null, null, null, null, null, null, null, null, null, null, null, null, null, null, null, null, null, null, null, null, null, null, null, null, null, null, null, null, null, null, null, null, null, null, null, null, null, null, null, null, null, null, null, null, null, null, null, null, null, null, null, null, null, null, null, null, null, null, null, null, null, null, null, null, null, null, null, null, null, null, null, null, null, null, null, null, null, null, null, null, null, null, null, null, null, null, null, null, null, null, null, null, null], \"yaxis\": \"y\"}],\n",
              "                        {\"template\": {\"data\": {\"bar\": [{\"error_x\": {\"color\": \"#2a3f5f\"}, \"error_y\": {\"color\": \"#2a3f5f\"}, \"marker\": {\"line\": {\"color\": \"#E5ECF6\", \"width\": 0.5}}, \"type\": \"bar\"}], \"barpolar\": [{\"marker\": {\"line\": {\"color\": \"#E5ECF6\", \"width\": 0.5}}, \"type\": \"barpolar\"}], \"carpet\": [{\"aaxis\": {\"endlinecolor\": \"#2a3f5f\", \"gridcolor\": \"white\", \"linecolor\": \"white\", \"minorgridcolor\": \"white\", \"startlinecolor\": \"#2a3f5f\"}, \"baxis\": {\"endlinecolor\": \"#2a3f5f\", \"gridcolor\": \"white\", \"linecolor\": \"white\", \"minorgridcolor\": \"white\", \"startlinecolor\": \"#2a3f5f\"}, \"type\": \"carpet\"}], \"choropleth\": [{\"colorbar\": {\"outlinewidth\": 0, \"ticks\": \"\"}, \"type\": \"choropleth\"}], \"contour\": [{\"colorbar\": {\"outlinewidth\": 0, \"ticks\": \"\"}, \"colorscale\": [[0.0, \"#0d0887\"], [0.1111111111111111, \"#46039f\"], [0.2222222222222222, \"#7201a8\"], [0.3333333333333333, \"#9c179e\"], [0.4444444444444444, \"#bd3786\"], [0.5555555555555556, \"#d8576b\"], [0.6666666666666666, \"#ed7953\"], [0.7777777777777778, \"#fb9f3a\"], [0.8888888888888888, \"#fdca26\"], [1.0, \"#f0f921\"]], \"type\": \"contour\"}], \"contourcarpet\": [{\"colorbar\": {\"outlinewidth\": 0, \"ticks\": \"\"}, \"type\": \"contourcarpet\"}], \"heatmap\": [{\"colorbar\": {\"outlinewidth\": 0, \"ticks\": \"\"}, \"colorscale\": [[0.0, \"#0d0887\"], [0.1111111111111111, \"#46039f\"], [0.2222222222222222, \"#7201a8\"], [0.3333333333333333, \"#9c179e\"], [0.4444444444444444, \"#bd3786\"], [0.5555555555555556, \"#d8576b\"], [0.6666666666666666, \"#ed7953\"], [0.7777777777777778, \"#fb9f3a\"], [0.8888888888888888, \"#fdca26\"], [1.0, \"#f0f921\"]], \"type\": \"heatmap\"}], \"heatmapgl\": [{\"colorbar\": {\"outlinewidth\": 0, \"ticks\": \"\"}, \"colorscale\": [[0.0, \"#0d0887\"], [0.1111111111111111, \"#46039f\"], [0.2222222222222222, \"#7201a8\"], [0.3333333333333333, \"#9c179e\"], [0.4444444444444444, \"#bd3786\"], [0.5555555555555556, \"#d8576b\"], [0.6666666666666666, \"#ed7953\"], [0.7777777777777778, \"#fb9f3a\"], [0.8888888888888888, \"#fdca26\"], [1.0, \"#f0f921\"]], \"type\": \"heatmapgl\"}], \"histogram\": [{\"marker\": {\"colorbar\": {\"outlinewidth\": 0, \"ticks\": \"\"}}, \"type\": \"histogram\"}], \"histogram2d\": [{\"colorbar\": {\"outlinewidth\": 0, \"ticks\": \"\"}, \"colorscale\": [[0.0, \"#0d0887\"], [0.1111111111111111, \"#46039f\"], [0.2222222222222222, \"#7201a8\"], [0.3333333333333333, \"#9c179e\"], [0.4444444444444444, \"#bd3786\"], [0.5555555555555556, \"#d8576b\"], [0.6666666666666666, \"#ed7953\"], [0.7777777777777778, \"#fb9f3a\"], [0.8888888888888888, \"#fdca26\"], [1.0, \"#f0f921\"]], \"type\": \"histogram2d\"}], \"histogram2dcontour\": [{\"colorbar\": {\"outlinewidth\": 0, \"ticks\": \"\"}, \"colorscale\": [[0.0, \"#0d0887\"], [0.1111111111111111, \"#46039f\"], [0.2222222222222222, \"#7201a8\"], [0.3333333333333333, \"#9c179e\"], [0.4444444444444444, \"#bd3786\"], [0.5555555555555556, \"#d8576b\"], [0.6666666666666666, \"#ed7953\"], [0.7777777777777778, \"#fb9f3a\"], [0.8888888888888888, \"#fdca26\"], [1.0, \"#f0f921\"]], \"type\": \"histogram2dcontour\"}], \"mesh3d\": [{\"colorbar\": {\"outlinewidth\": 0, \"ticks\": \"\"}, \"type\": \"mesh3d\"}], \"parcoords\": [{\"line\": {\"colorbar\": {\"outlinewidth\": 0, \"ticks\": \"\"}}, \"type\": \"parcoords\"}], \"pie\": [{\"automargin\": true, \"type\": \"pie\"}], \"scatter\": [{\"marker\": {\"colorbar\": {\"outlinewidth\": 0, \"ticks\": \"\"}}, \"type\": \"scatter\"}], \"scatter3d\": [{\"line\": {\"colorbar\": {\"outlinewidth\": 0, \"ticks\": \"\"}}, \"marker\": {\"colorbar\": {\"outlinewidth\": 0, \"ticks\": \"\"}}, \"type\": \"scatter3d\"}], \"scattercarpet\": [{\"marker\": {\"colorbar\": {\"outlinewidth\": 0, \"ticks\": \"\"}}, \"type\": \"scattercarpet\"}], \"scattergeo\": [{\"marker\": {\"colorbar\": {\"outlinewidth\": 0, \"ticks\": \"\"}}, \"type\": \"scattergeo\"}], \"scattergl\": [{\"marker\": {\"colorbar\": {\"outlinewidth\": 0, \"ticks\": \"\"}}, \"type\": \"scattergl\"}], \"scattermapbox\": [{\"marker\": {\"colorbar\": {\"outlinewidth\": 0, \"ticks\": \"\"}}, \"type\": \"scattermapbox\"}], \"scatterpolar\": [{\"marker\": {\"colorbar\": {\"outlinewidth\": 0, \"ticks\": \"\"}}, \"type\": \"scatterpolar\"}], \"scatterpolargl\": [{\"marker\": {\"colorbar\": {\"outlinewidth\": 0, \"ticks\": \"\"}}, \"type\": \"scatterpolargl\"}], \"scatterternary\": [{\"marker\": {\"colorbar\": {\"outlinewidth\": 0, \"ticks\": \"\"}}, \"type\": \"scatterternary\"}], \"surface\": [{\"colorbar\": {\"outlinewidth\": 0, \"ticks\": \"\"}, \"colorscale\": [[0.0, \"#0d0887\"], [0.1111111111111111, \"#46039f\"], [0.2222222222222222, \"#7201a8\"], [0.3333333333333333, \"#9c179e\"], [0.4444444444444444, \"#bd3786\"], [0.5555555555555556, \"#d8576b\"], [0.6666666666666666, \"#ed7953\"], [0.7777777777777778, \"#fb9f3a\"], [0.8888888888888888, \"#fdca26\"], [1.0, \"#f0f921\"]], \"type\": \"surface\"}], \"table\": [{\"cells\": {\"fill\": {\"color\": \"#EBF0F8\"}, \"line\": {\"color\": \"white\"}}, \"header\": {\"fill\": {\"color\": \"#C8D4E3\"}, \"line\": {\"color\": \"white\"}}, \"type\": \"table\"}]}, \"layout\": {\"annotationdefaults\": {\"arrowcolor\": \"#2a3f5f\", \"arrowhead\": 0, \"arrowwidth\": 1}, \"coloraxis\": {\"colorbar\": {\"outlinewidth\": 0, \"ticks\": \"\"}}, \"colorscale\": {\"diverging\": [[0, \"#8e0152\"], [0.1, \"#c51b7d\"], [0.2, \"#de77ae\"], [0.3, \"#f1b6da\"], [0.4, \"#fde0ef\"], [0.5, \"#f7f7f7\"], [0.6, \"#e6f5d0\"], [0.7, \"#b8e186\"], [0.8, \"#7fbc41\"], [0.9, \"#4d9221\"], [1, \"#276419\"]], \"sequential\": [[0.0, \"#0d0887\"], [0.1111111111111111, \"#46039f\"], [0.2222222222222222, \"#7201a8\"], [0.3333333333333333, \"#9c179e\"], [0.4444444444444444, \"#bd3786\"], [0.5555555555555556, \"#d8576b\"], [0.6666666666666666, \"#ed7953\"], [0.7777777777777778, \"#fb9f3a\"], [0.8888888888888888, \"#fdca26\"], [1.0, \"#f0f921\"]], \"sequentialminus\": [[0.0, \"#0d0887\"], [0.1111111111111111, \"#46039f\"], [0.2222222222222222, \"#7201a8\"], [0.3333333333333333, \"#9c179e\"], [0.4444444444444444, \"#bd3786\"], [0.5555555555555556, \"#d8576b\"], [0.6666666666666666, \"#ed7953\"], [0.7777777777777778, \"#fb9f3a\"], [0.8888888888888888, \"#fdca26\"], [1.0, \"#f0f921\"]]}, \"colorway\": [\"#636efa\", \"#EF553B\", \"#00cc96\", \"#ab63fa\", \"#FFA15A\", \"#19d3f3\", \"#FF6692\", \"#B6E880\", \"#FF97FF\", \"#FECB52\"], \"font\": {\"color\": \"#2a3f5f\"}, \"geo\": {\"bgcolor\": \"white\", \"lakecolor\": \"white\", \"landcolor\": \"#E5ECF6\", \"showlakes\": true, \"showland\": true, \"subunitcolor\": \"white\"}, \"hoverlabel\": {\"align\": \"left\"}, \"hovermode\": \"closest\", \"mapbox\": {\"style\": \"light\"}, \"paper_bgcolor\": \"white\", \"plot_bgcolor\": \"#E5ECF6\", \"polar\": {\"angularaxis\": {\"gridcolor\": \"white\", \"linecolor\": \"white\", \"ticks\": \"\"}, \"bgcolor\": \"#E5ECF6\", \"radialaxis\": {\"gridcolor\": \"white\", \"linecolor\": \"white\", \"ticks\": \"\"}}, \"scene\": {\"xaxis\": {\"backgroundcolor\": \"#E5ECF6\", \"gridcolor\": \"white\", \"gridwidth\": 2, \"linecolor\": \"white\", \"showbackground\": true, \"ticks\": \"\", \"zerolinecolor\": \"white\"}, \"yaxis\": {\"backgroundcolor\": \"#E5ECF6\", \"gridcolor\": \"white\", \"gridwidth\": 2, \"linecolor\": \"white\", \"showbackground\": true, \"ticks\": \"\", \"zerolinecolor\": \"white\"}, \"zaxis\": {\"backgroundcolor\": \"#E5ECF6\", \"gridcolor\": \"white\", \"gridwidth\": 2, \"linecolor\": \"white\", \"showbackground\": true, \"ticks\": \"\", \"zerolinecolor\": \"white\"}}, \"shapedefaults\": {\"line\": {\"color\": \"#2a3f5f\"}}, \"ternary\": {\"aaxis\": {\"gridcolor\": \"white\", \"linecolor\": \"white\", \"ticks\": \"\"}, \"baxis\": {\"gridcolor\": \"white\", \"linecolor\": \"white\", \"ticks\": \"\"}, \"bgcolor\": \"#E5ECF6\", \"caxis\": {\"gridcolor\": \"white\", \"linecolor\": \"white\", \"ticks\": \"\"}}, \"title\": {\"x\": 0.05}, \"xaxis\": {\"automargin\": true, \"gridcolor\": \"white\", \"linecolor\": \"white\", \"ticks\": \"\", \"title\": {\"standoff\": 15}, \"zerolinecolor\": \"white\", \"zerolinewidth\": 2}, \"yaxis\": {\"automargin\": true, \"gridcolor\": \"white\", \"linecolor\": \"white\", \"ticks\": \"\", \"title\": {\"standoff\": 15}, \"zerolinecolor\": \"white\", \"zerolinewidth\": 2}}}, \"title\": {\"text\": \"Order share across travel time of Control and Test is surge stage\"}, \"xaxis\": {\"anchor\": \"y\", \"domain\": [0.0, 0.94], \"title\": {\"text\": \"Travel Time\"}}, \"yaxis\": {\"anchor\": \"x\", \"domain\": [0.0, 1.0], \"showgrid\": false, \"title\": {\"text\": \"Orders%\"}}, \"yaxis2\": {\"anchor\": \"x\", \"overlaying\": \"y\", \"showgrid\": false, \"side\": \"right\", \"title\": {\"text\": \"Delta % difference of Variation1 vs Control\"}}},\n",
              "                        {\"responsive\": true}\n",
              "                    ).then(function(){\n",
              "                            \n",
              "var gd = document.getElementById('dd60ce5d-273d-49bb-ac48-73d8bff59656');\n",
              "var x = new MutationObserver(function (mutations, observer) {{\n",
              "        var display = window.getComputedStyle(gd).display;\n",
              "        if (!display || display === 'none') {{\n",
              "            console.log([gd, 'removed!']);\n",
              "            Plotly.purge(gd);\n",
              "            observer.disconnect();\n",
              "        }}\n",
              "}});\n",
              "\n",
              "// Listen for the removal of the full notebook cells\n",
              "var notebookContainer = gd.closest('#notebook-container');\n",
              "if (notebookContainer) {{\n",
              "    x.observe(notebookContainer, {childList: true});\n",
              "}}\n",
              "\n",
              "// Listen for the clearing of the current output cell\n",
              "var outputEl = gd.closest('.output');\n",
              "if (outputEl) {{\n",
              "    x.observe(outputEl, {childList: true});\n",
              "}}\n",
              "\n",
              "                        })\n",
              "                };\n",
              "                \n",
              "            </script>\n",
              "        </div>\n",
              "</body>\n",
              "</html>"
            ]
          },
          "metadata": {
            "tags": []
          }
        }
      ]
    },
    {
      "cell_type": "code",
      "metadata": {
        "id": "qSJKSwT8iAOr",
        "colab": {
          "base_uri": "https://localhost:8080/",
          "height": 542
        },
        "outputId": "348d1d16-917a-4b00-c273-a8cd651b789a"
      },
      "source": [
        "tt_default = df[df.stage == \"default\"]\n",
        "default_pv = tt_default.pivot_table(\"platform_order_code_ga\", index=[\"tt\"], columns =\"variant\", aggfunc = \"count\")\n",
        "default_pv[\"Control_pp\"] = default_pv[\"Control\"]/default_pv[\"Control\"].sum()\n",
        "default_pv[\"Variation1_pp\"] = default_pv[\"Variation1\"]/default_pv[\"Variation1\"].sum()\n",
        "default_pv = default_pv.reset_index()\n",
        "\n",
        "fig = go.Figure()\n",
        "fig = make_subplots(specs=[[{\"secondary_y\": True}]])\n",
        "fig.add_trace(go.Scatter(x =default_pv.tt, y=signal.savgol_filter(default_pv.Control_pp,53, 3), mode=\"lines\", name =\"control\"), secondary_y=False)\n",
        "fig.add_trace(go.Scatter(x =default_pv.tt, y=signal.savgol_filter(default_pv.Variation1_pp,53,3), mode=\"lines\", name =\"variation1\"), secondary_y=False)\n",
        "#fig.add_trace(go.Scatter(x =tt_order.tt, y=tt_order.delta, mode=\"lines\", name =\"delta\", line = dict(color='gray', width=4, dash='dash')), secondary_y=True)\n",
        "# Add figure title\n",
        "fig.update_layout(title_text=\"Order share across travel time of Control and Test is default stage\")\n",
        "# Set x-axis title\n",
        "fig.update_xaxes(title_text=\"Travel Time\")\n",
        "# Set y-axes titles\n",
        "fig.update_yaxes(title_text=\"Orders%\", showgrid=False, secondary_y=False)\n",
        "fig.update_yaxes(title_text=\"Delta % difference of Variation1 vs Control\", showgrid=False,secondary_y=True)\n",
        "fig.show()"
      ],
      "execution_count": null,
      "outputs": [
        {
          "output_type": "display_data",
          "data": {
            "text/html": [
              "<html>\n",
              "<head><meta charset=\"utf-8\" /></head>\n",
              "<body>\n",
              "    <div>\n",
              "            <script src=\"https://cdnjs.cloudflare.com/ajax/libs/mathjax/2.7.5/MathJax.js?config=TeX-AMS-MML_SVG\"></script><script type=\"text/javascript\">if (window.MathJax) {MathJax.Hub.Config({SVG: {font: \"STIX-Web\"}});}</script>\n",
              "                <script type=\"text/javascript\">window.PlotlyConfig = {MathJaxConfig: 'local'};</script>\n",
              "        <script src=\"https://cdn.plot.ly/plotly-latest.min.js\"></script>    \n",
              "            <div id=\"84ff4ba5-96fb-4159-bfc8-d5dea2b7c01d\" class=\"plotly-graph-div\" style=\"height:525px; width:100%;\"></div>\n",
              "            <script type=\"text/javascript\">\n",
              "                \n",
              "                    window.PLOTLYENV=window.PLOTLYENV || {};\n",
              "                    \n",
              "                if (document.getElementById(\"84ff4ba5-96fb-4159-bfc8-d5dea2b7c01d\")) {\n",
              "                    Plotly.newPlot(\n",
              "                        '84ff4ba5-96fb-4159-bfc8-d5dea2b7c01d',\n",
              "                        [{\"mode\": \"lines\", \"name\": \"control\", \"type\": \"scatter\", \"x\": [0.0, 0.1, 0.2, 0.3, 0.4, 0.5, 0.6, 0.7, 0.8, 0.9, 1.0, 1.1, 1.2, 1.3, 1.4, 1.5, 1.6, 1.7, 1.8, 1.9, 2.0, 2.1, 2.2, 2.3, 2.4, 2.5, 2.6, 2.7, 2.8, 2.9, 3.0, 3.1, 3.2, 3.3, 3.4, 3.5, 3.6, 3.7, 3.8, 3.9, 4.0, 4.1, 4.2, 4.3, 4.4, 4.5, 4.6, 4.7, 4.8, 4.9, 5.0, 5.1, 5.2, 5.3, 5.4, 5.5, 5.6, 5.7, 5.8, 5.9, 6.0, 6.1, 6.2, 6.3, 6.4, 6.5, 6.6, 6.7, 6.8, 6.9, 7.0, 7.1, 7.2, 7.3, 7.4, 7.5, 7.6, 7.7, 7.8, 7.9, 8.0, 8.1, 8.2, 8.3, 8.4, 8.5, 8.6, 8.7, 8.8, 8.9, 9.0, 9.1, 9.2, 9.3, 9.4, 9.5, 9.6, 9.7, 9.8, 9.9, 10.0, 10.1, 10.2, 10.3, 10.4, 10.5, 10.6, 10.7, 10.8, 10.9, 11.0, 11.1, 11.2, 11.3, 11.4, 11.5, 11.6, 11.7, 11.8, 11.9, 12.0, 12.1, 12.2, 12.3, 12.4, 12.5, 12.6, 12.7, 12.8, 12.9, 13.0, 13.1, 13.2, 13.3, 13.4, 13.5, 13.6, 13.7, 13.8, 13.9, 14.0, 14.1, 14.2, 14.3, 14.4, 14.5, 14.6, 14.7, 14.8, 14.9, 15.0, 15.1, 15.2, 15.3, 15.4, 15.5, 15.6, 15.7, 15.8, 15.9, 16.0, 16.1, 16.2, 16.3, 16.4, 16.5, 16.6, 16.7, 16.8, 16.9, 17.0, 17.1, 17.2, 17.3, 17.4, 17.5, 17.6, 17.7, 17.8, 17.9, 18.0, 18.1, 18.2, 18.3, 18.4, 18.5, 18.6, 18.7, 18.8, 18.9, 19.0, 19.1, 19.2, 19.3, 19.4, 19.5, 19.6, 19.7, 19.8, 19.9, 20.0, 20.1, 20.2, 20.3, 20.4, 20.5, 20.6, 20.7, 20.8, 20.9, 21.0, 21.1, 21.2, 21.3, 21.4, 21.5, 21.6, 21.7, 21.8, 21.9, 22.0, 22.1, 22.2, 22.3, 22.4, 22.5, 22.6, 22.7, 22.8, 22.9, 23.0, 23.1, 23.2, 23.3, 23.4, 23.5, 23.6, 23.7, 23.8, 23.9, 24.0, 24.1, 24.2, 24.3, 24.4, 24.5, 24.6, 24.7, 24.8, 24.9, 25.0, 25.1, 25.2, 25.3, 25.4, 25.5, 25.6, 25.7, 25.8, 25.9, 26.0, 26.1, 26.2, 26.3, 26.4, 26.5, 26.6, 26.7, 26.8, 26.9, 27.0, 27.1, 27.2, 27.3, 27.4, 27.5, 27.6, 27.7, 27.8, 27.9, 28.0, 28.1, 28.2, 28.3, 28.4, 28.5, 28.6, 28.7, 28.8, 28.9, 29.0, 29.1, 29.2, 29.3, 29.4, 29.5, 29.6, 29.7, 29.8, 29.9, 30.1, 30.2, 30.4, 30.5, 30.6, 30.7, 30.8, 30.9, 31.0, 31.1, 31.2, 31.3, 31.4, 31.5, 31.6, 31.7, 31.8, 32.1, 32.2, 32.6, 59.8], \"xaxis\": \"x\", \"y\": [0.0003015832988781854, 0.0008865582668196902, 0.0014540586405479097, 0.0020041570299821824, 0.0025369260450418467, 0.003052438295646241, 0.0035507663917147053, 0.004031982943166576, 0.004496160559921194, 0.004943371851897897, 0.0053736894290160216, 0.005787185901194911, 0.006183933878353897, 0.0065640059704123255, 0.00692747478728953, 0.007274412938904852, 0.007604893035177629, 0.0079189876860272, 0.008216769501372902, 0.008498311091134074, 0.008763685065230056, 0.009012964033580186, 0.009246220606103802, 0.009463527392720245, 0.009664957003348849, 0.009850582047908958, 0.010020475136318516, 0.010178349751310366, 0.010223966313645869, 0.010297683282906544, 0.010303184474079416, 0.010387566298388603, 0.010445570616304781, 0.0105614457525345, 0.010556113325010242, 0.010665139679738563, 0.010726831609320076, 0.01082687318890479, 0.01081852568544925, 0.010847608447941005, 0.010759143550879426, 0.01080591123243013, 0.010688698581313605, 0.010692396268420643, 0.01057105016734318, 0.010593097752661935, 0.01050251449398113, 0.01050904086134785, 0.01042563131716354, 0.010446605867940334, 0.010329428480869783, 0.010302698334016978, 0.010220039410239953, 0.010243094539729566, 0.01018332701951439, 0.0102479886855395, 0.010207243599270084, 0.010232376788612085, 0.010121365571867177, 0.010191498202740035, 0.010147362730335688, 0.01017494425201287, 0.010105544609524312, 0.010151010040234188, 0.010038890524901336, 0.010033668927235876, 0.00991689455783367, 0.009850232916629413, 0.009676519707271711, 0.009625726886758433, 0.009434807341822941, 0.009319191648217217, 0.009150956960288545, 0.008985487981108873, 0.008765470560519057, 0.008603948635628713, 0.008355077668846007, 0.008185646522214441, 0.007950835834336034, 0.00779249271130474, 0.007526478380454923, 0.007377281239634574, 0.007148593901454543, 0.007013396586888236, 0.006807182521439147, 0.006635454174098031, 0.006378336458276871, 0.006262272407515121, 0.006046544606232724, 0.005895261848978701, 0.005689687574078107, 0.005542732219037912, 0.005343208246883306, 0.005228320503941029, 0.0050117438466946865, 0.004933565975617547, 0.004773366452451451, 0.004685815901724922, 0.00453262888598798, 0.004385570257670272, 0.004234944922987735, 0.004173514954890647, 0.003983005984204776, 0.003866954527745159, 0.0037732604764368362, 0.003682017276324122, 0.003579036186620935, 0.003494780305333105, 0.0033688272085344024, 0.003276631879180228, 0.0031552429574755016, 0.0030987323237926185, 0.002985388642292178, 0.0029004148857826135, 0.002770398867114934, 0.002700520641145219, 0.002590665581336367, 0.0025599329652648333, 0.0024399923883057124, 0.002392055955516814, 0.0023023744488689254, 0.0022717350306331956, 0.0021852827030529, 0.002145897801414141, 0.0020835862321675544, 0.002014652578858017, 0.0019204900195102462, 0.001889099980867229, 0.0018525739858132736, 0.0018112168164600637, 0.00174388263952176, 0.0017280868657831659, 0.0017053365184052384, 0.0017078881240179308, 0.0016560348632648294, 0.0016667198691967568, 0.0016165718769528287, 0.0015932976066060564, 0.0015484618910029662, 0.0015329532673530658, 0.0014900898194644264, 0.0014797876803174246, 0.0014394304985537888, 0.0014315338711147056, 0.0013957181947012035, 0.0013820609334652507, 0.00136449188198595, 0.0013663482821207522, 0.001315356471633732, 0.0013018881249298152, 0.00126385585134043, 0.0012344683067369885, 0.0012177657432446243, 0.0012087633360780262, 0.0011637538191054634, 0.001188934866795581, 0.001222528908312346, 0.0012222165696193807, 0.0012171234338357038, 0.001203556851575128, 0.0011838115046867784, 0.0011743985232705568, 0.0011694716322750711, 0.0011634439992729254, 0.001154993222539871, 0.0011489303254917456, 0.001147915224739608, 0.001155524702089998, 0.001158965465433471, 0.0011729199521998258, 0.0011522199572095901, 0.001142043761083945, 0.0011343662745020226, 0.001140837226939345, 0.0011207518338933315, 0.0011036311395700618, 0.0010768934361359717, 0.0010517476524918342, 0.0010529138848696003, 0.0010603243722462456, 0.0010206649148209281, 0.0009845570505978777, 0.0009634313681954555, 0.0009611568372297482, 0.0009329884210730427, 0.0008927571823307644, 0.0008540070335196441, 0.0008260602770805271, 0.0007636202459521564, 0.0007316936900381582, 0.0006908654813746479, 0.0006595837537299974, 0.0006199696357923684, 0.0005938163079773748, 0.0005618872332029495, 0.0005370386750892146, 0.0005238222144280115, 0.0005096536245253496, 0.00046900173609173897, 0.00044099200814194336, 0.0004082392660078433, 0.000402093246565622, 0.0003658644770420689, 0.0003400864594307193, 0.000338406379525817, 0.00033014955504565246, 0.0003136031608997705, 0.00030579217471520974, 0.0002895203363558861, 0.00027350542176013057, 0.0002547701379030641, 0.00024323879486761767, 0.00023108781216709483, 0.00022658660858379585, 0.00022619114749673492, 0.00023190644180591532, 0.00022392669197273616, 0.00022618359091545353, 0.0002314908298354373, 0.00022153377456695327, 0.00023563939295893674, 0.0002346268110672265, 0.00022934224189108702, 0.00021957410115463853, 0.0002178637949246105, 0.00021213086859244012, 0.0002002645171201841, 0.00019704289463387217, 0.0001945064021837423, 0.00019151903371715436, 0.00019027975438700156, 0.00018574328675772262, 0.00018495992116488206, 0.0001918490044331097, 0.00020069524225322508, 0.00019838040952068343, 0.000189657595861498, 0.0001953930410540956, 0.00019523939056804, 0.00019700763058789223, 0.00019207066415069803, null, null, null, null, null, null, null, null, null, null, null, null, null, null, null, null, null, null, null, null, null, null, null, null, null, null, null, null, null, null, null, null, null, null, null, null, null, null, null, null, null, null, null, null, null, null, null, null, null, null, null, null, null, null, null, null, null, null, null, null, null, null, null, null, null, null, null, null, null, null, null, null, null, null, null, null, null, null, null, null], \"yaxis\": \"y\"}, {\"mode\": \"lines\", \"name\": \"variation1\", \"type\": \"scatter\", \"x\": [0.0, 0.1, 0.2, 0.3, 0.4, 0.5, 0.6, 0.7, 0.8, 0.9, 1.0, 1.1, 1.2, 1.3, 1.4, 1.5, 1.6, 1.7, 1.8, 1.9, 2.0, 2.1, 2.2, 2.3, 2.4, 2.5, 2.6, 2.7, 2.8, 2.9, 3.0, 3.1, 3.2, 3.3, 3.4, 3.5, 3.6, 3.7, 3.8, 3.9, 4.0, 4.1, 4.2, 4.3, 4.4, 4.5, 4.6, 4.7, 4.8, 4.9, 5.0, 5.1, 5.2, 5.3, 5.4, 5.5, 5.6, 5.7, 5.8, 5.9, 6.0, 6.1, 6.2, 6.3, 6.4, 6.5, 6.6, 6.7, 6.8, 6.9, 7.0, 7.1, 7.2, 7.3, 7.4, 7.5, 7.6, 7.7, 7.8, 7.9, 8.0, 8.1, 8.2, 8.3, 8.4, 8.5, 8.6, 8.7, 8.8, 8.9, 9.0, 9.1, 9.2, 9.3, 9.4, 9.5, 9.6, 9.7, 9.8, 9.9, 10.0, 10.1, 10.2, 10.3, 10.4, 10.5, 10.6, 10.7, 10.8, 10.9, 11.0, 11.1, 11.2, 11.3, 11.4, 11.5, 11.6, 11.7, 11.8, 11.9, 12.0, 12.1, 12.2, 12.3, 12.4, 12.5, 12.6, 12.7, 12.8, 12.9, 13.0, 13.1, 13.2, 13.3, 13.4, 13.5, 13.6, 13.7, 13.8, 13.9, 14.0, 14.1, 14.2, 14.3, 14.4, 14.5, 14.6, 14.7, 14.8, 14.9, 15.0, 15.1, 15.2, 15.3, 15.4, 15.5, 15.6, 15.7, 15.8, 15.9, 16.0, 16.1, 16.2, 16.3, 16.4, 16.5, 16.6, 16.7, 16.8, 16.9, 17.0, 17.1, 17.2, 17.3, 17.4, 17.5, 17.6, 17.7, 17.8, 17.9, 18.0, 18.1, 18.2, 18.3, 18.4, 18.5, 18.6, 18.7, 18.8, 18.9, 19.0, 19.1, 19.2, 19.3, 19.4, 19.5, 19.6, 19.7, 19.8, 19.9, 20.0, 20.1, 20.2, 20.3, 20.4, 20.5, 20.6, 20.7, 20.8, 20.9, 21.0, 21.1, 21.2, 21.3, 21.4, 21.5, 21.6, 21.7, 21.8, 21.9, 22.0, 22.1, 22.2, 22.3, 22.4, 22.5, 22.6, 22.7, 22.8, 22.9, 23.0, 23.1, 23.2, 23.3, 23.4, 23.5, 23.6, 23.7, 23.8, 23.9, 24.0, 24.1, 24.2, 24.3, 24.4, 24.5, 24.6, 24.7, 24.8, 24.9, 25.0, 25.1, 25.2, 25.3, 25.4, 25.5, 25.6, 25.7, 25.8, 25.9, 26.0, 26.1, 26.2, 26.3, 26.4, 26.5, 26.6, 26.7, 26.8, 26.9, 27.0, 27.1, 27.2, 27.3, 27.4, 27.5, 27.6, 27.7, 27.8, 27.9, 28.0, 28.1, 28.2, 28.3, 28.4, 28.5, 28.6, 28.7, 28.8, 28.9, 29.0, 29.1, 29.2, 29.3, 29.4, 29.5, 29.6, 29.7, 29.8, 29.9, 30.1, 30.2, 30.4, 30.5, 30.6, 30.7, 30.8, 30.9, 31.0, 31.1, 31.2, 31.3, 31.4, 31.5, 31.6, 31.7, 31.8, 32.1, 32.2, 32.6, 59.8], \"xaxis\": \"x\", \"y\": [5.73162692182906e-05, 0.000680820700065474, 0.0012849409896145577, 0.0018697897891232181, 0.00243547974984913, 0.0029821235230499707, 0.0035098337599834164, 0.0040187231119071425, 0.004508904230078823, 0.004980489765756137, 0.00543359237019676, 0.005868324694658365, 0.006284799390398631, 0.006683129108675232, 0.007063426500745844, 0.007425804217868146, 0.007770374911299811, 0.008097251232298515, 0.008406545832121935, 0.008698371362027746, 0.008972840473273624, 0.009230065817117248, 0.009470160044816291, 0.009693235807628427, 0.009899405756811334, 0.010088782543622691, 0.010261478819318747, 0.010473686144194905, 0.010507515500231927, 0.0105908287280597, 0.010590641203913152, 0.010665353324219314, 0.010672766778812792, 0.010765738750348695, 0.010807364110238155, 0.010905331725038062, 0.010934540486104176, 0.01103888392188667, 0.011019918979865912, 0.01102754496182548, 0.010892427563433693, 0.010909222225998418, 0.010771294465730384, 0.010788029120568214, 0.010697312439434779, 0.010667511102065576, 0.010548955836296796, 0.010526412933559928, 0.010459639335457576, 0.01044927550095843, 0.010333443085797507, 0.010347552402583681, 0.010299413704004164, 0.010294785608067394, 0.010211829926279038, 0.010230584841255663, 0.010162676096986217, 0.010136915279894607, 0.010032964394658884, 0.010035194681841815, 0.010003090547953019, 0.010024565813215548, 0.009898729609916846, 0.009933584097954992, 0.00988095982179008, 0.009871623619614007, 0.009774496112990631, 0.009784407389216114, 0.00960688703080719, 0.009494477556401234, 0.00933083898548067, 0.009217419381005317, 0.009042324334891726, 0.008876648001578691, 0.0086689387558977, 0.008510935910661354, 0.008267779600639128, 0.008128531670379408, 0.007909090914090455, 0.007766797591690816, 0.007461590791737261, 0.0073371022619717445, 0.007130065602896366, 0.006991460255378814, 0.006781233185490187, 0.0066219576763792785, 0.006386334836404322, 0.006221516113521493, 0.00602473327477929, 0.005888788269820745, 0.005689692633271132, 0.005527291721717779, 0.0053297887902528365, 0.005240154748525466, 0.0050274698621561005, 0.004944431669743267, 0.004750386683540646, 0.0046503713050604495, 0.004500534511325725, 0.0043807990935946775, 0.004246126752510697, 0.004149521813175697, 0.0040060958449309155, 0.0038795420492314303, 0.0037594565864268285, 0.0036699675633727873, 0.0035546052087392093, 0.0034705043794959426, 0.003353531817524018, 0.003257704478316697, 0.0031366113857646516, 0.0030796415500437637, 0.002957840866378748, 0.0028896695883041364, 0.0027571775279640054, 0.0027230106284631956, 0.002609273483099689, 0.00254399257720385, 0.002423769596691781, 0.0023686800030802676, 0.002244013950456018, 0.0021846038005080685, 0.0021039434142734463, 0.002035492100139991, 0.0019546816945881316, 0.0019079806811321404, 0.0018286879710063323, 0.0017857799459544924, 0.001738241324643926, 0.0016886299364335298, 0.0016415763775820308, 0.0016146029043427532, 0.0015906148155164985, 0.0016005785985030133, 0.0015701221767818751, 0.0015689395244976537, 0.0015327323622824165, 0.0015179929643638454, 0.0014815532722068899, 0.001461280661804214, 0.0014284564351926792, 0.0014155097681150949, 0.001371394087559494, 0.001356707196401956, 0.0013179622074034531, 0.001303967905427161, 0.0012777170252325765, 0.001270976157244711, 0.0012292982905942173, 0.0012173117471469522, 0.001178914302900049, 0.0011621546448426815, 0.001157739076271995, 0.0011450949481508395, 0.0010975913313476283, 0.0010830744620829594, 0.0011271876423166064, 0.0011407118837655546, 0.0011509081966937873, 0.0011568189577929396, 0.0011377490022501165, 0.0011057348799516633, 0.0011024169527187636, 0.001102286935977158, 0.0010891902495823362, 0.0011097303944340852, 0.0010904104066958666, 0.0011150785830935973, 0.001099794114989064, 0.0011088627827160625, 0.00109034289800311, 0.0011026044768653106, 0.0010883401401179914, 0.0010852047363877303, 0.0010684825831596722, 0.0010544707789297025, 0.0010436443848690726, 0.0010332130416771683, 0.0010108001556819062, 0.0010111677030091375, 0.0009911301228701338, 0.0009727227526451094, 0.0009707374970136682, 0.0009721326766639757, 0.0009544529001275526, 0.0009260517430525657, 0.0008949302356916748, 0.0008606733246005228, 0.0008050461617689085, 0.0007774401070752796, 0.0007390476634722843, 0.0007006127143960719, 0.0006744543461137836, 0.0006487860409344708, 0.0006076557447918937, 0.0005933013964542319, 0.0005644851859348885, 0.0005473479792624737, 0.0005055550978020981, 0.00046797775915609265, 0.00042967282682148587, 0.0004110804327718686, 0.00038664228599390215, 0.0003592212551248661, 0.0003403813292018072, 0.00032799723456386286, 0.000308019662151754, 0.0003127802751520864, 0.0003030265192097038, 0.00030317653852694114, 0.00028986732476603315, 0.0002745578534419602, 0.000261198633241973, 0.00025890083736628737, 0.0002709698914380333, 0.0002694771992315216, 0.00026765196420513364, 0.00026367645229834354, 0.00025690558044703054, 0.00025922587922030173, 0.0002573131329255254, 0.00025795571566769213, 0.00025042224562042253, 0.0002472943428560235, 0.00024277626108522489, 0.00023814816514845224, 0.00022751429587827715, 0.00022403384771837027, 0.00021217982133466464, 0.00021163475114870223, 0.000216312853524554, 0.000215802787845947, 0.00020958448714645828, 0.0002126323796083307, 0.00022003833323594856, 0.0002182080975656527, 0.00021724547361337963, 0.00021203480266133526, 0.00020996203576150563, 0.00021189978527582157, 0.0002095594839269187, 0.00021613533066582318, 0.0002124798599691394, 0.00021302242983314786, 0.00021586029525088798, 0.00021703544656924735, 0.0002156602694945715, 0.0002140450615123159, 0.00020400876918913626, 0.00020596902160103782, 0.00020340619159823288, 0.00020481637318026406, 0.00021168225726582744, 0.00021210481167604602, 0.00021001704284449272, 0.00021270738926694943, 0.00021522771379653714, 0.00022808436928377915, 0.00022804436413251586, 0.00023364258498742346, 0.00023559533643346318, 0.00023482023662773675, 0.0002335975791922523, 0.00022514899130983475, 0.00022312373052713034, 0.00022225361848715366, 0.00022253865518990465, 0.00022040338024122618, 0.0002173829913208472, 0.0002135750009849722, 0.00021011205507874304, 0.0002093294543071548, 0.00021432759789311295, 0.00021709295397418838, null, null, null, null, null, null, null, null, null, null, null, null, null, null, null, null, null, null, null, null, null, null, null, null, null, null, null, null, null, null, null, null, null, null, null, null, null, null, null, null, null, null, null, null, null, null, null], \"yaxis\": \"y\"}],\n",
              "                        {\"template\": {\"data\": {\"bar\": [{\"error_x\": {\"color\": \"#2a3f5f\"}, \"error_y\": {\"color\": \"#2a3f5f\"}, \"marker\": {\"line\": {\"color\": \"#E5ECF6\", \"width\": 0.5}}, \"type\": \"bar\"}], \"barpolar\": [{\"marker\": {\"line\": {\"color\": \"#E5ECF6\", \"width\": 0.5}}, \"type\": \"barpolar\"}], \"carpet\": [{\"aaxis\": {\"endlinecolor\": \"#2a3f5f\", \"gridcolor\": \"white\", \"linecolor\": \"white\", \"minorgridcolor\": \"white\", \"startlinecolor\": \"#2a3f5f\"}, \"baxis\": {\"endlinecolor\": \"#2a3f5f\", \"gridcolor\": \"white\", \"linecolor\": \"white\", \"minorgridcolor\": \"white\", \"startlinecolor\": \"#2a3f5f\"}, \"type\": \"carpet\"}], \"choropleth\": [{\"colorbar\": {\"outlinewidth\": 0, \"ticks\": \"\"}, \"type\": \"choropleth\"}], \"contour\": [{\"colorbar\": {\"outlinewidth\": 0, \"ticks\": \"\"}, \"colorscale\": [[0.0, \"#0d0887\"], [0.1111111111111111, \"#46039f\"], [0.2222222222222222, \"#7201a8\"], [0.3333333333333333, \"#9c179e\"], [0.4444444444444444, \"#bd3786\"], [0.5555555555555556, \"#d8576b\"], [0.6666666666666666, \"#ed7953\"], [0.7777777777777778, \"#fb9f3a\"], [0.8888888888888888, \"#fdca26\"], [1.0, \"#f0f921\"]], \"type\": \"contour\"}], \"contourcarpet\": [{\"colorbar\": {\"outlinewidth\": 0, \"ticks\": \"\"}, \"type\": \"contourcarpet\"}], \"heatmap\": [{\"colorbar\": {\"outlinewidth\": 0, \"ticks\": \"\"}, \"colorscale\": [[0.0, \"#0d0887\"], [0.1111111111111111, \"#46039f\"], [0.2222222222222222, \"#7201a8\"], [0.3333333333333333, \"#9c179e\"], [0.4444444444444444, \"#bd3786\"], [0.5555555555555556, \"#d8576b\"], [0.6666666666666666, \"#ed7953\"], [0.7777777777777778, \"#fb9f3a\"], [0.8888888888888888, \"#fdca26\"], [1.0, \"#f0f921\"]], \"type\": \"heatmap\"}], \"heatmapgl\": [{\"colorbar\": {\"outlinewidth\": 0, \"ticks\": \"\"}, \"colorscale\": [[0.0, \"#0d0887\"], [0.1111111111111111, \"#46039f\"], [0.2222222222222222, \"#7201a8\"], [0.3333333333333333, \"#9c179e\"], [0.4444444444444444, \"#bd3786\"], [0.5555555555555556, \"#d8576b\"], [0.6666666666666666, \"#ed7953\"], [0.7777777777777778, \"#fb9f3a\"], [0.8888888888888888, \"#fdca26\"], [1.0, \"#f0f921\"]], \"type\": \"heatmapgl\"}], \"histogram\": [{\"marker\": {\"colorbar\": {\"outlinewidth\": 0, \"ticks\": \"\"}}, \"type\": \"histogram\"}], \"histogram2d\": [{\"colorbar\": {\"outlinewidth\": 0, \"ticks\": \"\"}, \"colorscale\": [[0.0, \"#0d0887\"], [0.1111111111111111, \"#46039f\"], [0.2222222222222222, \"#7201a8\"], [0.3333333333333333, \"#9c179e\"], [0.4444444444444444, \"#bd3786\"], [0.5555555555555556, \"#d8576b\"], [0.6666666666666666, \"#ed7953\"], [0.7777777777777778, \"#fb9f3a\"], [0.8888888888888888, \"#fdca26\"], [1.0, \"#f0f921\"]], \"type\": \"histogram2d\"}], \"histogram2dcontour\": [{\"colorbar\": {\"outlinewidth\": 0, \"ticks\": \"\"}, \"colorscale\": [[0.0, \"#0d0887\"], [0.1111111111111111, \"#46039f\"], [0.2222222222222222, \"#7201a8\"], [0.3333333333333333, \"#9c179e\"], [0.4444444444444444, \"#bd3786\"], [0.5555555555555556, \"#d8576b\"], [0.6666666666666666, \"#ed7953\"], [0.7777777777777778, \"#fb9f3a\"], [0.8888888888888888, \"#fdca26\"], [1.0, \"#f0f921\"]], \"type\": \"histogram2dcontour\"}], \"mesh3d\": [{\"colorbar\": {\"outlinewidth\": 0, \"ticks\": \"\"}, \"type\": \"mesh3d\"}], \"parcoords\": [{\"line\": {\"colorbar\": {\"outlinewidth\": 0, \"ticks\": \"\"}}, \"type\": \"parcoords\"}], \"pie\": [{\"automargin\": true, \"type\": \"pie\"}], \"scatter\": [{\"marker\": {\"colorbar\": {\"outlinewidth\": 0, \"ticks\": \"\"}}, \"type\": \"scatter\"}], \"scatter3d\": [{\"line\": {\"colorbar\": {\"outlinewidth\": 0, \"ticks\": \"\"}}, \"marker\": {\"colorbar\": {\"outlinewidth\": 0, \"ticks\": \"\"}}, \"type\": \"scatter3d\"}], \"scattercarpet\": [{\"marker\": {\"colorbar\": {\"outlinewidth\": 0, \"ticks\": \"\"}}, \"type\": \"scattercarpet\"}], \"scattergeo\": [{\"marker\": {\"colorbar\": {\"outlinewidth\": 0, \"ticks\": \"\"}}, \"type\": \"scattergeo\"}], \"scattergl\": [{\"marker\": {\"colorbar\": {\"outlinewidth\": 0, \"ticks\": \"\"}}, \"type\": \"scattergl\"}], \"scattermapbox\": [{\"marker\": {\"colorbar\": {\"outlinewidth\": 0, \"ticks\": \"\"}}, \"type\": \"scattermapbox\"}], \"scatterpolar\": [{\"marker\": {\"colorbar\": {\"outlinewidth\": 0, \"ticks\": \"\"}}, \"type\": \"scatterpolar\"}], \"scatterpolargl\": [{\"marker\": {\"colorbar\": {\"outlinewidth\": 0, \"ticks\": \"\"}}, \"type\": \"scatterpolargl\"}], \"scatterternary\": [{\"marker\": {\"colorbar\": {\"outlinewidth\": 0, \"ticks\": \"\"}}, \"type\": \"scatterternary\"}], \"surface\": [{\"colorbar\": {\"outlinewidth\": 0, \"ticks\": \"\"}, \"colorscale\": [[0.0, \"#0d0887\"], [0.1111111111111111, \"#46039f\"], [0.2222222222222222, \"#7201a8\"], [0.3333333333333333, \"#9c179e\"], [0.4444444444444444, \"#bd3786\"], [0.5555555555555556, \"#d8576b\"], [0.6666666666666666, \"#ed7953\"], [0.7777777777777778, \"#fb9f3a\"], [0.8888888888888888, \"#fdca26\"], [1.0, \"#f0f921\"]], \"type\": \"surface\"}], \"table\": [{\"cells\": {\"fill\": {\"color\": \"#EBF0F8\"}, \"line\": {\"color\": \"white\"}}, \"header\": {\"fill\": {\"color\": \"#C8D4E3\"}, \"line\": {\"color\": \"white\"}}, \"type\": \"table\"}]}, \"layout\": {\"annotationdefaults\": {\"arrowcolor\": \"#2a3f5f\", \"arrowhead\": 0, \"arrowwidth\": 1}, \"coloraxis\": {\"colorbar\": {\"outlinewidth\": 0, \"ticks\": \"\"}}, \"colorscale\": {\"diverging\": [[0, \"#8e0152\"], [0.1, \"#c51b7d\"], [0.2, \"#de77ae\"], [0.3, \"#f1b6da\"], [0.4, \"#fde0ef\"], [0.5, \"#f7f7f7\"], [0.6, \"#e6f5d0\"], [0.7, \"#b8e186\"], [0.8, \"#7fbc41\"], [0.9, \"#4d9221\"], [1, \"#276419\"]], \"sequential\": [[0.0, \"#0d0887\"], [0.1111111111111111, \"#46039f\"], [0.2222222222222222, \"#7201a8\"], [0.3333333333333333, \"#9c179e\"], [0.4444444444444444, \"#bd3786\"], [0.5555555555555556, \"#d8576b\"], [0.6666666666666666, \"#ed7953\"], [0.7777777777777778, \"#fb9f3a\"], [0.8888888888888888, \"#fdca26\"], [1.0, \"#f0f921\"]], \"sequentialminus\": [[0.0, \"#0d0887\"], [0.1111111111111111, \"#46039f\"], [0.2222222222222222, \"#7201a8\"], [0.3333333333333333, \"#9c179e\"], [0.4444444444444444, \"#bd3786\"], [0.5555555555555556, \"#d8576b\"], [0.6666666666666666, \"#ed7953\"], [0.7777777777777778, \"#fb9f3a\"], [0.8888888888888888, \"#fdca26\"], [1.0, \"#f0f921\"]]}, \"colorway\": [\"#636efa\", \"#EF553B\", \"#00cc96\", \"#ab63fa\", \"#FFA15A\", \"#19d3f3\", \"#FF6692\", \"#B6E880\", \"#FF97FF\", \"#FECB52\"], \"font\": {\"color\": \"#2a3f5f\"}, \"geo\": {\"bgcolor\": \"white\", \"lakecolor\": \"white\", \"landcolor\": \"#E5ECF6\", \"showlakes\": true, \"showland\": true, \"subunitcolor\": \"white\"}, \"hoverlabel\": {\"align\": \"left\"}, \"hovermode\": \"closest\", \"mapbox\": {\"style\": \"light\"}, \"paper_bgcolor\": \"white\", \"plot_bgcolor\": \"#E5ECF6\", \"polar\": {\"angularaxis\": {\"gridcolor\": \"white\", \"linecolor\": \"white\", \"ticks\": \"\"}, \"bgcolor\": \"#E5ECF6\", \"radialaxis\": {\"gridcolor\": \"white\", \"linecolor\": \"white\", \"ticks\": \"\"}}, \"scene\": {\"xaxis\": {\"backgroundcolor\": \"#E5ECF6\", \"gridcolor\": \"white\", \"gridwidth\": 2, \"linecolor\": \"white\", \"showbackground\": true, \"ticks\": \"\", \"zerolinecolor\": \"white\"}, \"yaxis\": {\"backgroundcolor\": \"#E5ECF6\", \"gridcolor\": \"white\", \"gridwidth\": 2, \"linecolor\": \"white\", \"showbackground\": true, \"ticks\": \"\", \"zerolinecolor\": \"white\"}, \"zaxis\": {\"backgroundcolor\": \"#E5ECF6\", \"gridcolor\": \"white\", \"gridwidth\": 2, \"linecolor\": \"white\", \"showbackground\": true, \"ticks\": \"\", \"zerolinecolor\": \"white\"}}, \"shapedefaults\": {\"line\": {\"color\": \"#2a3f5f\"}}, \"ternary\": {\"aaxis\": {\"gridcolor\": \"white\", \"linecolor\": \"white\", \"ticks\": \"\"}, \"baxis\": {\"gridcolor\": \"white\", \"linecolor\": \"white\", \"ticks\": \"\"}, \"bgcolor\": \"#E5ECF6\", \"caxis\": {\"gridcolor\": \"white\", \"linecolor\": \"white\", \"ticks\": \"\"}}, \"title\": {\"x\": 0.05}, \"xaxis\": {\"automargin\": true, \"gridcolor\": \"white\", \"linecolor\": \"white\", \"ticks\": \"\", \"title\": {\"standoff\": 15}, \"zerolinecolor\": \"white\", \"zerolinewidth\": 2}, \"yaxis\": {\"automargin\": true, \"gridcolor\": \"white\", \"linecolor\": \"white\", \"ticks\": \"\", \"title\": {\"standoff\": 15}, \"zerolinecolor\": \"white\", \"zerolinewidth\": 2}}}, \"title\": {\"text\": \"Order share across travel time of Control and Test is default stage\"}, \"xaxis\": {\"anchor\": \"y\", \"domain\": [0.0, 0.94], \"title\": {\"text\": \"Travel Time\"}}, \"yaxis\": {\"anchor\": \"x\", \"domain\": [0.0, 1.0], \"showgrid\": false, \"title\": {\"text\": \"Orders%\"}}, \"yaxis2\": {\"anchor\": \"x\", \"overlaying\": \"y\", \"showgrid\": false, \"side\": \"right\", \"title\": {\"text\": \"Delta % difference of Variation1 vs Control\"}}},\n",
              "                        {\"responsive\": true}\n",
              "                    ).then(function(){\n",
              "                            \n",
              "var gd = document.getElementById('84ff4ba5-96fb-4159-bfc8-d5dea2b7c01d');\n",
              "var x = new MutationObserver(function (mutations, observer) {{\n",
              "        var display = window.getComputedStyle(gd).display;\n",
              "        if (!display || display === 'none') {{\n",
              "            console.log([gd, 'removed!']);\n",
              "            Plotly.purge(gd);\n",
              "            observer.disconnect();\n",
              "        }}\n",
              "}});\n",
              "\n",
              "// Listen for the removal of the full notebook cells\n",
              "var notebookContainer = gd.closest('#notebook-container');\n",
              "if (notebookContainer) {{\n",
              "    x.observe(notebookContainer, {childList: true});\n",
              "}}\n",
              "\n",
              "// Listen for the clearing of the current output cell\n",
              "var outputEl = gd.closest('.output');\n",
              "if (outputEl) {{\n",
              "    x.observe(outputEl, {childList: true});\n",
              "}}\n",
              "\n",
              "                        })\n",
              "                };\n",
              "                \n",
              "            </script>\n",
              "        </div>\n",
              "</body>\n",
              "</html>"
            ]
          },
          "metadata": {
            "tags": []
          }
        }
      ]
    },
    {
      "cell_type": "code",
      "metadata": {
        "id": "-fF6fgR1Ffc5",
        "colab": {
          "base_uri": "https://localhost:8080/",
          "height": 542
        },
        "outputId": "88f3fa11-dca4-47bf-bb6b-22af1d9e3f5a"
      },
      "source": [
        "tt_avg = df.pivot_table(\"travel_time\", index=[\"local_date\"], columns =\"variant\", aggfunc = \"mean\").reset_index()\n",
        "tt_avg[\"delta\"]=tt_avg[\"Variation1\"]/tt_avg[\"Control\"] -1\n",
        "\n",
        "fig = go.Figure()\n",
        "fig = make_subplots(specs=[[{\"secondary_y\": True}]])\n",
        "fig.add_trace(go.Scatter(x =tt_avg.local_date, y=tt_avg.Control, mode=\"lines\", name =\"control\"), secondary_y=False)\n",
        "fig.add_trace(go.Scatter(x =tt_avg.local_date, y=tt_avg.Variation1, mode=\"lines\", name =\"variation\"), secondary_y=False)\n",
        "#fig.add_trace(go.Scatter(x =tt_avg.local_date, y=tt_avg.delta, mode=\"lines\", name =\"delta\", line = dict(color='gray', width=4, dash='dash')), secondary_y=True)\n",
        "# Add figure title\n",
        "fig.update_layout(title_text=\"Daily Average Travel Time\")\n",
        "# Set x-axis title\n",
        "fig.update_xaxes(title_text=\"Date\")\n",
        "# Set y-axes titles\n",
        "fig.update_yaxes(title_text=\"Avg. Basket Value\", showgrid=False, secondary_y=False)\n",
        "fig.update_yaxes(title_text=\"Delta % difference of Variation1 vs Control\", showgrid=False,secondary_y=True)\n",
        "fig.show()"
      ],
      "execution_count": null,
      "outputs": [
        {
          "output_type": "display_data",
          "data": {
            "text/html": [
              "<html>\n",
              "<head><meta charset=\"utf-8\" /></head>\n",
              "<body>\n",
              "    <div>\n",
              "            <script src=\"https://cdnjs.cloudflare.com/ajax/libs/mathjax/2.7.5/MathJax.js?config=TeX-AMS-MML_SVG\"></script><script type=\"text/javascript\">if (window.MathJax) {MathJax.Hub.Config({SVG: {font: \"STIX-Web\"}});}</script>\n",
              "                <script type=\"text/javascript\">window.PlotlyConfig = {MathJaxConfig: 'local'};</script>\n",
              "        <script src=\"https://cdn.plot.ly/plotly-latest.min.js\"></script>    \n",
              "            <div id=\"c216521f-5e43-467f-bbe6-24eaf9b836d8\" class=\"plotly-graph-div\" style=\"height:525px; width:100%;\"></div>\n",
              "            <script type=\"text/javascript\">\n",
              "                \n",
              "                    window.PLOTLYENV=window.PLOTLYENV || {};\n",
              "                    \n",
              "                if (document.getElementById(\"c216521f-5e43-467f-bbe6-24eaf9b836d8\")) {\n",
              "                    Plotly.newPlot(\n",
              "                        'c216521f-5e43-467f-bbe6-24eaf9b836d8',\n",
              "                        [{\"mode\": \"lines\", \"name\": \"control\", \"type\": \"scatter\", \"x\": [\"2020-09-04\", \"2020-09-05\", \"2020-09-06\", \"2020-09-07\", \"2020-09-08\", \"2020-09-09\", \"2020-09-10\", \"2020-09-11\", \"2020-09-12\", \"2020-09-13\", \"2020-09-14\", \"2020-09-15\", \"2020-09-16\", \"2020-09-17\", \"2020-09-18\", \"2020-09-19\", \"2020-09-20\", \"2020-09-21\", \"2020-09-22\", \"2020-09-23\", \"2020-09-24\"], \"xaxis\": \"x\", \"y\": [6.718769407705573, 6.071149076880707, 6.754395280236013, 6.995178072625703, 6.774248810333109, 6.856867900032457, 6.526611195158851, 6.66272202998847, 6.8527477353829385, 6.02827816411683, 6.773634751773051, 6.8104731182795755, 6.6798912280701765, 6.611344208809127, 7.1460352286773805, 7.198994029850742, 7.150176405733191, 6.903600935307877, 7.077851014040561, 6.695347651983975, 6.463831645127504], \"yaxis\": \"y\"}, {\"mode\": \"lines\", \"name\": \"variation\", \"type\": \"scatter\", \"x\": [\"2020-09-04\", \"2020-09-05\", \"2020-09-06\", \"2020-09-07\", \"2020-09-08\", \"2020-09-09\", \"2020-09-10\", \"2020-09-11\", \"2020-09-12\", \"2020-09-13\", \"2020-09-14\", \"2020-09-15\", \"2020-09-16\", \"2020-09-17\", \"2020-09-18\", \"2020-09-19\", \"2020-09-20\", \"2020-09-21\", \"2020-09-22\", \"2020-09-23\", \"2020-09-24\"], \"xaxis\": \"x\", \"y\": [6.644738197424891, 6.1028344741754745, 6.626620046620051, 6.888691358024696, 6.748189890710382, 6.872264089121893, 6.690015777847898, 6.765554265815441, 6.795251154734405, 5.872770167427713, 6.564968413229274, 6.754811420514623, 6.568067019400354, 6.500188679245284, 6.993118622448986, 7.065307624374459, 7.05155710306407, 6.918118927322188, 6.970706057227783, 6.6625617732558, 6.3749765100671], \"yaxis\": \"y\"}],\n",
              "                        {\"template\": {\"data\": {\"bar\": [{\"error_x\": {\"color\": \"#2a3f5f\"}, \"error_y\": {\"color\": \"#2a3f5f\"}, \"marker\": {\"line\": {\"color\": \"#E5ECF6\", \"width\": 0.5}}, \"type\": \"bar\"}], \"barpolar\": [{\"marker\": {\"line\": {\"color\": \"#E5ECF6\", \"width\": 0.5}}, \"type\": \"barpolar\"}], \"carpet\": [{\"aaxis\": {\"endlinecolor\": \"#2a3f5f\", \"gridcolor\": \"white\", \"linecolor\": \"white\", \"minorgridcolor\": \"white\", \"startlinecolor\": \"#2a3f5f\"}, \"baxis\": {\"endlinecolor\": \"#2a3f5f\", \"gridcolor\": \"white\", \"linecolor\": \"white\", \"minorgridcolor\": \"white\", \"startlinecolor\": \"#2a3f5f\"}, \"type\": \"carpet\"}], \"choropleth\": [{\"colorbar\": {\"outlinewidth\": 0, \"ticks\": \"\"}, \"type\": \"choropleth\"}], \"contour\": [{\"colorbar\": {\"outlinewidth\": 0, \"ticks\": \"\"}, \"colorscale\": [[0.0, \"#0d0887\"], [0.1111111111111111, \"#46039f\"], [0.2222222222222222, \"#7201a8\"], [0.3333333333333333, \"#9c179e\"], [0.4444444444444444, \"#bd3786\"], [0.5555555555555556, \"#d8576b\"], [0.6666666666666666, \"#ed7953\"], [0.7777777777777778, \"#fb9f3a\"], [0.8888888888888888, \"#fdca26\"], [1.0, \"#f0f921\"]], \"type\": \"contour\"}], \"contourcarpet\": [{\"colorbar\": {\"outlinewidth\": 0, \"ticks\": \"\"}, \"type\": \"contourcarpet\"}], \"heatmap\": [{\"colorbar\": {\"outlinewidth\": 0, \"ticks\": \"\"}, \"colorscale\": [[0.0, \"#0d0887\"], [0.1111111111111111, \"#46039f\"], [0.2222222222222222, \"#7201a8\"], [0.3333333333333333, \"#9c179e\"], [0.4444444444444444, \"#bd3786\"], [0.5555555555555556, \"#d8576b\"], [0.6666666666666666, \"#ed7953\"], [0.7777777777777778, \"#fb9f3a\"], [0.8888888888888888, \"#fdca26\"], [1.0, \"#f0f921\"]], \"type\": \"heatmap\"}], \"heatmapgl\": [{\"colorbar\": {\"outlinewidth\": 0, \"ticks\": \"\"}, \"colorscale\": [[0.0, \"#0d0887\"], [0.1111111111111111, \"#46039f\"], [0.2222222222222222, \"#7201a8\"], [0.3333333333333333, \"#9c179e\"], [0.4444444444444444, \"#bd3786\"], [0.5555555555555556, \"#d8576b\"], [0.6666666666666666, \"#ed7953\"], [0.7777777777777778, \"#fb9f3a\"], [0.8888888888888888, \"#fdca26\"], [1.0, \"#f0f921\"]], \"type\": \"heatmapgl\"}], \"histogram\": [{\"marker\": {\"colorbar\": {\"outlinewidth\": 0, \"ticks\": \"\"}}, \"type\": \"histogram\"}], \"histogram2d\": [{\"colorbar\": {\"outlinewidth\": 0, \"ticks\": \"\"}, \"colorscale\": [[0.0, \"#0d0887\"], [0.1111111111111111, \"#46039f\"], [0.2222222222222222, \"#7201a8\"], [0.3333333333333333, \"#9c179e\"], [0.4444444444444444, \"#bd3786\"], [0.5555555555555556, \"#d8576b\"], [0.6666666666666666, \"#ed7953\"], [0.7777777777777778, \"#fb9f3a\"], [0.8888888888888888, \"#fdca26\"], [1.0, \"#f0f921\"]], \"type\": \"histogram2d\"}], \"histogram2dcontour\": [{\"colorbar\": {\"outlinewidth\": 0, \"ticks\": \"\"}, \"colorscale\": [[0.0, \"#0d0887\"], [0.1111111111111111, \"#46039f\"], [0.2222222222222222, \"#7201a8\"], [0.3333333333333333, \"#9c179e\"], [0.4444444444444444, \"#bd3786\"], [0.5555555555555556, \"#d8576b\"], [0.6666666666666666, \"#ed7953\"], [0.7777777777777778, \"#fb9f3a\"], [0.8888888888888888, \"#fdca26\"], [1.0, \"#f0f921\"]], \"type\": \"histogram2dcontour\"}], \"mesh3d\": [{\"colorbar\": {\"outlinewidth\": 0, \"ticks\": \"\"}, \"type\": \"mesh3d\"}], \"parcoords\": [{\"line\": {\"colorbar\": {\"outlinewidth\": 0, \"ticks\": \"\"}}, \"type\": \"parcoords\"}], \"pie\": [{\"automargin\": true, \"type\": \"pie\"}], \"scatter\": [{\"marker\": {\"colorbar\": {\"outlinewidth\": 0, \"ticks\": \"\"}}, \"type\": \"scatter\"}], \"scatter3d\": [{\"line\": {\"colorbar\": {\"outlinewidth\": 0, \"ticks\": \"\"}}, \"marker\": {\"colorbar\": {\"outlinewidth\": 0, \"ticks\": \"\"}}, \"type\": \"scatter3d\"}], \"scattercarpet\": [{\"marker\": {\"colorbar\": {\"outlinewidth\": 0, \"ticks\": \"\"}}, \"type\": \"scattercarpet\"}], \"scattergeo\": [{\"marker\": {\"colorbar\": {\"outlinewidth\": 0, \"ticks\": \"\"}}, \"type\": \"scattergeo\"}], \"scattergl\": [{\"marker\": {\"colorbar\": {\"outlinewidth\": 0, \"ticks\": \"\"}}, \"type\": \"scattergl\"}], \"scattermapbox\": [{\"marker\": {\"colorbar\": {\"outlinewidth\": 0, \"ticks\": \"\"}}, \"type\": \"scattermapbox\"}], \"scatterpolar\": [{\"marker\": {\"colorbar\": {\"outlinewidth\": 0, \"ticks\": \"\"}}, \"type\": \"scatterpolar\"}], \"scatterpolargl\": [{\"marker\": {\"colorbar\": {\"outlinewidth\": 0, \"ticks\": \"\"}}, \"type\": \"scatterpolargl\"}], \"scatterternary\": [{\"marker\": {\"colorbar\": {\"outlinewidth\": 0, \"ticks\": \"\"}}, \"type\": \"scatterternary\"}], \"surface\": [{\"colorbar\": {\"outlinewidth\": 0, \"ticks\": \"\"}, \"colorscale\": [[0.0, \"#0d0887\"], [0.1111111111111111, \"#46039f\"], [0.2222222222222222, \"#7201a8\"], [0.3333333333333333, \"#9c179e\"], [0.4444444444444444, \"#bd3786\"], [0.5555555555555556, \"#d8576b\"], [0.6666666666666666, \"#ed7953\"], [0.7777777777777778, \"#fb9f3a\"], [0.8888888888888888, \"#fdca26\"], [1.0, \"#f0f921\"]], \"type\": \"surface\"}], \"table\": [{\"cells\": {\"fill\": {\"color\": \"#EBF0F8\"}, \"line\": {\"color\": \"white\"}}, \"header\": {\"fill\": {\"color\": \"#C8D4E3\"}, \"line\": {\"color\": \"white\"}}, \"type\": \"table\"}]}, \"layout\": {\"annotationdefaults\": {\"arrowcolor\": \"#2a3f5f\", \"arrowhead\": 0, \"arrowwidth\": 1}, \"coloraxis\": {\"colorbar\": {\"outlinewidth\": 0, \"ticks\": \"\"}}, \"colorscale\": {\"diverging\": [[0, \"#8e0152\"], [0.1, \"#c51b7d\"], [0.2, \"#de77ae\"], [0.3, \"#f1b6da\"], [0.4, \"#fde0ef\"], [0.5, \"#f7f7f7\"], [0.6, \"#e6f5d0\"], [0.7, \"#b8e186\"], [0.8, \"#7fbc41\"], [0.9, \"#4d9221\"], [1, \"#276419\"]], \"sequential\": [[0.0, \"#0d0887\"], [0.1111111111111111, \"#46039f\"], [0.2222222222222222, \"#7201a8\"], [0.3333333333333333, \"#9c179e\"], [0.4444444444444444, \"#bd3786\"], [0.5555555555555556, \"#d8576b\"], [0.6666666666666666, \"#ed7953\"], [0.7777777777777778, \"#fb9f3a\"], [0.8888888888888888, \"#fdca26\"], [1.0, \"#f0f921\"]], \"sequentialminus\": [[0.0, \"#0d0887\"], [0.1111111111111111, \"#46039f\"], [0.2222222222222222, \"#7201a8\"], [0.3333333333333333, \"#9c179e\"], [0.4444444444444444, \"#bd3786\"], [0.5555555555555556, \"#d8576b\"], [0.6666666666666666, \"#ed7953\"], [0.7777777777777778, \"#fb9f3a\"], [0.8888888888888888, \"#fdca26\"], [1.0, \"#f0f921\"]]}, \"colorway\": [\"#636efa\", \"#EF553B\", \"#00cc96\", \"#ab63fa\", \"#FFA15A\", \"#19d3f3\", \"#FF6692\", \"#B6E880\", \"#FF97FF\", \"#FECB52\"], \"font\": {\"color\": \"#2a3f5f\"}, \"geo\": {\"bgcolor\": \"white\", \"lakecolor\": \"white\", \"landcolor\": \"#E5ECF6\", \"showlakes\": true, \"showland\": true, \"subunitcolor\": \"white\"}, \"hoverlabel\": {\"align\": \"left\"}, \"hovermode\": \"closest\", \"mapbox\": {\"style\": \"light\"}, \"paper_bgcolor\": \"white\", \"plot_bgcolor\": \"#E5ECF6\", \"polar\": {\"angularaxis\": {\"gridcolor\": \"white\", \"linecolor\": \"white\", \"ticks\": \"\"}, \"bgcolor\": \"#E5ECF6\", \"radialaxis\": {\"gridcolor\": \"white\", \"linecolor\": \"white\", \"ticks\": \"\"}}, \"scene\": {\"xaxis\": {\"backgroundcolor\": \"#E5ECF6\", \"gridcolor\": \"white\", \"gridwidth\": 2, \"linecolor\": \"white\", \"showbackground\": true, \"ticks\": \"\", \"zerolinecolor\": \"white\"}, \"yaxis\": {\"backgroundcolor\": \"#E5ECF6\", \"gridcolor\": \"white\", \"gridwidth\": 2, \"linecolor\": \"white\", \"showbackground\": true, \"ticks\": \"\", \"zerolinecolor\": \"white\"}, \"zaxis\": {\"backgroundcolor\": \"#E5ECF6\", \"gridcolor\": \"white\", \"gridwidth\": 2, \"linecolor\": \"white\", \"showbackground\": true, \"ticks\": \"\", \"zerolinecolor\": \"white\"}}, \"shapedefaults\": {\"line\": {\"color\": \"#2a3f5f\"}}, \"ternary\": {\"aaxis\": {\"gridcolor\": \"white\", \"linecolor\": \"white\", \"ticks\": \"\"}, \"baxis\": {\"gridcolor\": \"white\", \"linecolor\": \"white\", \"ticks\": \"\"}, \"bgcolor\": \"#E5ECF6\", \"caxis\": {\"gridcolor\": \"white\", \"linecolor\": \"white\", \"ticks\": \"\"}}, \"title\": {\"x\": 0.05}, \"xaxis\": {\"automargin\": true, \"gridcolor\": \"white\", \"linecolor\": \"white\", \"ticks\": \"\", \"title\": {\"standoff\": 15}, \"zerolinecolor\": \"white\", \"zerolinewidth\": 2}, \"yaxis\": {\"automargin\": true, \"gridcolor\": \"white\", \"linecolor\": \"white\", \"ticks\": \"\", \"title\": {\"standoff\": 15}, \"zerolinecolor\": \"white\", \"zerolinewidth\": 2}}}, \"title\": {\"text\": \"Daily Average Travel Time\"}, \"xaxis\": {\"anchor\": \"y\", \"domain\": [0.0, 0.94], \"title\": {\"text\": \"Date\"}}, \"yaxis\": {\"anchor\": \"x\", \"domain\": [0.0, 1.0], \"showgrid\": false, \"title\": {\"text\": \"Avg. Basket Value\"}}, \"yaxis2\": {\"anchor\": \"x\", \"overlaying\": \"y\", \"showgrid\": false, \"side\": \"right\", \"title\": {\"text\": \"Delta % difference of Variation1 vs Control\"}}},\n",
              "                        {\"responsive\": true}\n",
              "                    ).then(function(){\n",
              "                            \n",
              "var gd = document.getElementById('c216521f-5e43-467f-bbe6-24eaf9b836d8');\n",
              "var x = new MutationObserver(function (mutations, observer) {{\n",
              "        var display = window.getComputedStyle(gd).display;\n",
              "        if (!display || display === 'none') {{\n",
              "            console.log([gd, 'removed!']);\n",
              "            Plotly.purge(gd);\n",
              "            observer.disconnect();\n",
              "        }}\n",
              "}});\n",
              "\n",
              "// Listen for the removal of the full notebook cells\n",
              "var notebookContainer = gd.closest('#notebook-container');\n",
              "if (notebookContainer) {{\n",
              "    x.observe(notebookContainer, {childList: true});\n",
              "}}\n",
              "\n",
              "// Listen for the clearing of the current output cell\n",
              "var outputEl = gd.closest('.output');\n",
              "if (outputEl) {{\n",
              "    x.observe(outputEl, {childList: true});\n",
              "}}\n",
              "\n",
              "                        })\n",
              "                };\n",
              "                \n",
              "            </script>\n",
              "        </div>\n",
              "</body>\n",
              "</html>"
            ]
          },
          "metadata": {
            "tags": []
          }
        }
      ]
    },
    {
      "cell_type": "code",
      "metadata": {
        "id": "0SJ1Hxm0-M2J",
        "colab": {
          "base_uri": "https://localhost:8080/",
          "height": 197
        },
        "outputId": "36bc6f07-a619-4a4d-fb9d-ae7ff3e76499"
      },
      "source": [
        "tt_order_hour = df.pivot_table(\"platform_order_code_ga\", index=[\"tt\",\"stage\",\"variant\"], aggfunc = \"count\").reset_index()\n",
        "tt_order_hour.rename(columns={'platform_order_code_ga': 'order_amount'}, inplace=True)\n",
        "#tt_order[\"Control_pp\"] = tt_order[\"Control\"]/tt_order[\"Control\"].sum()\n",
        "#tt_order[\"Variation1_pp\"] = tt_order[\"Variation1\"]/tt_order[\"Variation1\"].sum()\n",
        "tt_order_hour.head()"
      ],
      "execution_count": null,
      "outputs": [
        {
          "output_type": "execute_result",
          "data": {
            "text/html": [
              "<div>\n",
              "<style scoped>\n",
              "    .dataframe tbody tr th:only-of-type {\n",
              "        vertical-align: middle;\n",
              "    }\n",
              "\n",
              "    .dataframe tbody tr th {\n",
              "        vertical-align: top;\n",
              "    }\n",
              "\n",
              "    .dataframe thead th {\n",
              "        text-align: right;\n",
              "    }\n",
              "</style>\n",
              "<table border=\"1\" class=\"dataframe\">\n",
              "  <thead>\n",
              "    <tr style=\"text-align: right;\">\n",
              "      <th></th>\n",
              "      <th>tt</th>\n",
              "      <th>stage</th>\n",
              "      <th>variant</th>\n",
              "      <th>order_amount</th>\n",
              "    </tr>\n",
              "  </thead>\n",
              "  <tbody>\n",
              "    <tr>\n",
              "      <th>0</th>\n",
              "      <td>0.0</td>\n",
              "      <td>default</td>\n",
              "      <td>Control</td>\n",
              "      <td>13</td>\n",
              "    </tr>\n",
              "    <tr>\n",
              "      <th>1</th>\n",
              "      <td>0.0</td>\n",
              "      <td>default</td>\n",
              "      <td>Variation1</td>\n",
              "      <td>16</td>\n",
              "    </tr>\n",
              "    <tr>\n",
              "      <th>2</th>\n",
              "      <td>0.0</td>\n",
              "      <td>price_easing</td>\n",
              "      <td>Variation1</td>\n",
              "      <td>1</td>\n",
              "    </tr>\n",
              "    <tr>\n",
              "      <th>3</th>\n",
              "      <td>0.0</td>\n",
              "      <td>surge1</td>\n",
              "      <td>Control</td>\n",
              "      <td>2</td>\n",
              "    </tr>\n",
              "    <tr>\n",
              "      <th>4</th>\n",
              "      <td>0.0</td>\n",
              "      <td>surge1</td>\n",
              "      <td>Variation1</td>\n",
              "      <td>5</td>\n",
              "    </tr>\n",
              "  </tbody>\n",
              "</table>\n",
              "</div>"
            ],
            "text/plain": [
              "    tt         stage     variant  order_amount\n",
              "0  0.0       default     Control            13\n",
              "1  0.0       default  Variation1            16\n",
              "2  0.0  price_easing  Variation1             1\n",
              "3  0.0        surge1     Control             2\n",
              "4  0.0        surge1  Variation1             5"
            ]
          },
          "metadata": {
            "tags": []
          },
          "execution_count": 171
        }
      ]
    },
    {
      "cell_type": "code",
      "metadata": {
        "id": "oScZiFDJ_CnE",
        "colab": {
          "base_uri": "https://localhost:8080/",
          "height": 542
        },
        "outputId": "2da6c717-191e-4c07-e4bc-cef57d071a0b"
      },
      "source": [
        "def smoothTriangle(data, degree):\n",
        "    triangle=np.concatenate((np.arange(degree + 1), np.arange(degree)[::-1])) # up then down\n",
        "    smoothed=[]\n",
        "\n",
        "    for i in range(degree, len(data) - degree * 2):\n",
        "        point=data[i:i + len(triangle)] * triangle\n",
        "        smoothed.append(np.sum(point)/np.sum(triangle))\n",
        "    # Handle boundaries\n",
        "    smoothed=[smoothed[0]]*int(degree + degree/2) + smoothed\n",
        "    while len(smoothed) < len(data):\n",
        "        smoothed.append(smoothed[-1])\n",
        "    return smoothed\n",
        "\n",
        "fig = px.line(x = tt_order_hour.tt, y = smoothTriangle(tt_order_hour.order_amount,10), color=tt_order_hour.variant, \n",
        "               facet_col=tt_order_hour.stage, facet_col_wrap=5\n",
        "              )\n",
        "#fig = px.line(tt_order_hour, x='tt', y='order_amount', color='variant',  facet_col='hour_block', facet_col_wrap=4)\n",
        "#fig.add_trace(go.Scatter(x =tt_order.tt, y=signal.savgol_filter(tt_order.Control_pp,53, 3), mode=\"lines\", name =\"control\"), secondary_y=False)\n",
        "fig.show()\n",
        "\n",
        "#fig.add_trace(go.Scatter(x =tt_order.tt, y=signal.savgol_filter(tt_order.Control_pp,53, 3), mode=\"lines\", name =\"control\"), secondary_y=False)"
      ],
      "execution_count": null,
      "outputs": [
        {
          "output_type": "display_data",
          "data": {
            "text/html": [
              "<html>\n",
              "<head><meta charset=\"utf-8\" /></head>\n",
              "<body>\n",
              "    <div>\n",
              "            <script src=\"https://cdnjs.cloudflare.com/ajax/libs/mathjax/2.7.5/MathJax.js?config=TeX-AMS-MML_SVG\"></script><script type=\"text/javascript\">if (window.MathJax) {MathJax.Hub.Config({SVG: {font: \"STIX-Web\"}});}</script>\n",
              "                <script type=\"text/javascript\">window.PlotlyConfig = {MathJaxConfig: 'local'};</script>\n",
              "        <script src=\"https://cdn.plot.ly/plotly-latest.min.js\"></script>    \n",
              "            <div id=\"13e41edf-f4c9-4e9f-801f-67830e82192f\" class=\"plotly-graph-div\" style=\"height:525px; width:100%;\"></div>\n",
              "            <script type=\"text/javascript\">\n",
              "                \n",
              "                    window.PLOTLYENV=window.PLOTLYENV || {};\n",
              "                    \n",
              "                if (document.getElementById(\"13e41edf-f4c9-4e9f-801f-67830e82192f\")) {\n",
              "                    Plotly.newPlot(\n",
              "                        '13e41edf-f4c9-4e9f-801f-67830e82192f',\n",
              "                        [{\"hoverlabel\": {\"namelength\": 0}, \"hovertemplate\": \"color=Control<br>facet_col=default<br>x=%{x}<br>y=%{y}\", \"legendgroup\": \"color=Control\", \"line\": {\"color\": \"#636efa\", \"dash\": \"solid\"}, \"mode\": \"lines\", \"name\": \"color=Control\", \"showlegend\": true, \"type\": \"scattergl\", \"x\": [0.0, 0.1, 0.2, 0.3, 0.4, 0.5, 0.6, 0.7, 0.8, 0.9, 1.0, 1.1, 1.2, 1.3, 1.4, 1.5, 1.6, 1.7, 1.8, 1.9, 2.0, 2.1, 2.2, 2.3, 2.4, 2.5, 2.6, 2.7, 2.8, 2.9, 3.0, 3.1, 3.2, 3.3, 3.4, 3.5, 3.6, 3.7, 3.8, 3.9, 4.0, 4.1, 4.2, 4.3, 4.4, 4.5, 4.6, 4.7, 4.8, 4.9, 5.0, 5.1, 5.2, 5.3, 5.4, 5.5, 5.6, 5.7, 5.8, 5.9, 6.0, 6.1, 6.2, 6.3, 6.4, 6.5, 6.6, 6.7, 6.8, 6.9, 7.0, 7.1, 7.2, 7.3, 7.4, 7.5, 7.6, 7.7, 7.8, 7.9, 8.0, 8.1, 8.2, 8.3, 8.4, 8.5, 8.6, 8.7, 8.8, 8.9, 9.0, 9.1, 9.2, 9.3, 9.4, 9.5, 9.6, 9.7, 9.8, 9.9, 10.0, 10.1, 10.2, 10.3, 10.4, 10.5, 10.6, 10.7, 10.8, 10.9, 11.0, 11.1, 11.2, 11.3, 11.4, 11.5, 11.6, 11.7, 11.8, 11.9, 12.0, 12.1, 12.2, 12.3, 12.4, 12.5, 12.6, 12.7, 12.8, 12.9, 13.0, 13.1, 13.2, 13.3, 13.4, 13.5, 13.6, 13.7, 13.8, 13.9, 14.0, 14.1, 14.2, 14.3, 14.4, 14.5, 14.6, 14.7, 14.8, 14.9, 15.0, 15.1, 15.2, 15.3, 15.4, 15.5, 15.6, 15.7, 15.8, 15.9, 16.0, 16.1, 16.2, 16.3, 16.4, 16.5, 16.6, 16.7, 16.8, 16.9, 17.0, 17.1, 17.2, 17.3, 17.4, 17.5, 17.6, 17.7, 17.8, 17.9, 18.0, 18.1, 18.2, 18.3, 18.4, 18.5, 18.6, 18.7, 18.8, 18.9, 19.0, 19.1, 19.2, 19.3, 19.4, 19.5, 19.6, 19.7, 19.8, 19.9, 20.0, 20.1, 20.2, 20.3, 20.4, 20.5, 20.6, 20.7, 20.8, 20.9, 21.0, 21.1, 21.2, 21.3, 21.4, 21.5, 21.6, 21.7, 21.8, 21.9, 22.0, 22.1, 22.2, 22.3, 22.4, 22.5, 22.6, 22.7, 22.8, 22.9, 23.0, 23.1, 23.2, 23.3, 23.4, 23.5, 23.6, 23.7, 23.8, 23.9, 24.0, 24.1, 24.2, 24.3, 24.4, 24.5, 24.6, 24.7, 24.8, 24.9, 25.0, 25.1, 25.2, 25.3, 25.4, 25.5, 25.6, 25.7, 25.8, 25.9, 26.0, 26.1, 26.2, 26.3, 26.4, 26.5, 26.6, 26.8, 26.9, 27.0, 27.1, 27.2, 27.3, 27.4, 27.5, 27.6, 27.7, 27.8, 27.9, 28.0, 28.1, 28.2, 28.3, 28.4, 28.5, 28.6, 28.7, 28.8, 28.9, 29.0, 29.1, 29.2, 29.3, 29.4, 29.5, 29.6, 29.7, 29.9, 30.1, 30.2, 30.4, 30.6, 30.8, 31.0, 31.1, 31.2, 31.4, 31.5, 31.6, 31.7, 31.8, 32.1, 32.2], \"xaxis\": \"x\", \"y\": [17.21, 17.21, 17.21, 24.52, 37.67, 48.51, 62.47, 74.61, 87.97, 95.24, 90.57, 67.35, 69.25, 73.19, 84.66, 88.44, 97.15, 101.17, 110.56, 104.21, 123.64, 126.76, 133.29, 127.4, 142.67, 140.41, 152.5, 145.3, 161.37, 153.76, 160.52, 157.81, 169.16, 158.81, 165.43, 153.05, 166.55, 152.5, 155.1, 145.57, 140.27, 126.49, 133.13, 123.09, 136.19, 123.13, 121.0, 121.55, 126.26, 119.06, 139.1, 130.75, 133.66, 124.5, 147.73, 140.66, 144.29, 133.21, 134.87, 128.04, 139.05, 129.9, 139.26, 125.36, 123.48, 126.33, 134.33, 123.4, 131.89, 116.53, 125.11, 116.12, 117.58, 114.21, 113.29, 105.87, 114.72, 101.03, 101.39, 104.19, 99.34, 81.09, 89.71, 78.68, 88.98, 85.22, 75.93, 79.41, 74.56, 71.97, 67.6, 64.62, 71.64, 59.49, 68.3, 65.8, 61.06, 68.91, 56.36, 58.39, 56.74, 52.68, 51.54, 54.34, 52.6, 47.07, 52.2, 48.71, 52.07, 47.28, 39.78, 35.6, 37.92, 35.99, 33.59, 32.79, 34.06, 28.51, 25.46, 30.14, 27.18, 20.98, 26.94, 23.76, 31.34, 29.99, 21.73, 26.16, 37.15, 41.45, 27.57, 24.86, 20.4, 20.28, 18.29, 21.05, 19.35, 23.23, 23.59, 21.61, 23.17, 18.96, 16.25, 21.67, 20.71, 17.94, 18.87, 16.17, 19.3, 18.14, 21.55, 20.49, 23.39, 16.7, 19.4, 22.39, 22.06, 14.07, 12.04, 11.03, 10.43, 13.5, 16.11, 15.05, 17.59, 17.91, 16.22, 16.84, 21.64, 21.88, 21.34, 14.74, 12.51, 14.89, 18.37, 16.99, 19.01, 22.76, 17.81, 16.06, 16.42, 15.74, 13.95, 12.71, 12.1, 14.74, 16.65, 14.47, 13.05, 11.3, 12.21, 12.51, 12.76, 9.94, 8.54, 7.68, 8.31, 7.12, 5.29, 5.68, 5.82, 6.3, 7.05, 7.8, 4.94, 5.56, 7.07, 5.76, 5.62, 4.97, 5.22, 3.81, 4.28, 6.38, 5.67, 5.86, 5.91, 6.1, 5.12, 3.84, 4.51, 4.49, 4.34, 6.38, 7.9, 6.44, 5.45, 5.91, 7.24, 7.5, 5.15, 3.93, 4.42, 4.07, 2.97, 2.64, 2.82, 3.75, 3.53, 3.98, 4.17, 4.49, 5.07, 5.3, 5.02, 4.36, 3.69, 4.3, 5.78, 6.32, 5.56, 5.11, 5.37, 5.81, 5.75, 4.84, 4.03, 4.37, 4.22, 4.12, 4.7, 6.63, 6.74, 5.37, 4.2, 3.58, 3.25, 5.13, 5.96, 5.09, 4.53, 5.23, 5.55, 4.77, 4.6, 5.82, 5.9, 5.01, 4.96, 5.01, 4.36, 3.57, 3.21, 3.47, 4.89, 5.55, 5.75, 5.14, 4.52, 4.26, 3.56, 3.44, 3.68, 3.51, 3.37, 2.69, 2.3, 1.73, 2.1, 2.06, 1.98, 1.91, 1.94, 1.75, 1.78, 1.93, 2.07, 1.99, 1.84, 1.84, 1.84, 1.84, 1.84], \"yaxis\": \"y\"}, {\"hoverlabel\": {\"namelength\": 0}, \"hovertemplate\": \"color=Control<br>facet_col=price_easing<br>x=%{x}<br>y=%{y}\", \"legendgroup\": \"color=Control\", \"line\": {\"color\": \"#636efa\", \"dash\": \"solid\"}, \"mode\": \"lines\", \"name\": \"color=Control\", \"showlegend\": false, \"type\": \"scattergl\", \"x\": [0.2, 0.3, 0.4, 0.5, 0.6, 0.7, 0.8, 0.9, 1.0, 1.1, 1.2, 1.3, 1.4, 1.5, 1.6, 1.7, 1.8, 1.9, 2.0, 2.1, 2.2, 2.3, 2.4, 2.5, 2.6, 2.7, 2.8, 2.9, 3.0, 3.1, 3.2, 3.3, 3.4, 3.5, 3.6, 3.7, 3.8, 3.9, 4.0, 4.1, 4.2, 4.3, 4.4, 4.5, 4.6, 4.7, 4.8, 4.9, 5.0, 5.1, 5.2, 5.3, 5.4, 5.5, 5.6, 5.7, 5.8, 5.9, 6.0, 6.1, 6.2, 6.3, 6.4, 6.5, 6.6, 6.7, 6.8, 6.9, 7.0, 7.1, 7.2, 7.3, 7.4, 7.5, 7.6, 7.7, 7.8, 7.9, 8.0, 8.1, 8.2, 8.3, 8.4, 8.5, 8.6, 8.7, 8.8, 8.9, 9.0, 9.1, 9.2, 9.3, 9.4, 9.5, 9.6, 9.7, 9.8, 9.9, 10.0, 10.1, 10.2, 10.3, 10.4, 10.5, 10.6, 10.7, 10.8, 10.9, 11.0, 11.1, 11.2, 11.3, 11.4, 11.5, 11.6, 11.7, 11.8, 11.9, 12.0, 12.1, 12.2, 12.3, 12.4, 12.5, 12.6, 12.7, 12.8, 12.9, 13.0, 13.1, 13.2, 13.3, 13.4, 13.5, 13.6, 13.7, 13.8, 13.9, 14.0, 14.1, 14.2, 14.3, 14.4, 14.5, 14.6, 14.7, 14.8, 14.9, 15.0, 15.1, 15.2, 15.3, 15.4, 15.5, 15.6, 15.7, 15.8, 15.9, 16.1, 16.2, 16.3, 16.4, 16.5, 16.6, 16.7, 16.8, 16.9, 17.0, 17.1, 17.2, 17.3, 17.4, 17.5, 17.6, 17.7, 17.8, 17.9, 18.0, 18.1, 18.2, 18.3, 18.4, 18.5, 18.6, 18.7, 18.8, 18.9, 19.0, 19.3, 19.6, 19.7, 19.8, 20.2, 20.3, 20.5, 20.6, 20.7, 20.8, 20.9, 21.4, 21.7, 21.9, 22.2, 22.3, 22.8, 22.9, 23.0, 23.4, 23.6, 23.8, 24.2, 24.4, 24.7, 24.9, 25.0, 25.1, 25.3, 25.4, 25.6, 26.1, 26.2, 26.6, 27.0, 27.1, 27.3, 27.5, 27.9, 28.2, 28.4, 28.7, 29.0, 30.6, 30.7, 31.0], \"xaxis\": \"x2\", \"y\": [17.21, 28.23, 39.77, 51.49, 65.09, 77.85, 89.34, 96.73, 85.94, 66.35, 68.37, 77.03, 83.83, 92.14, 95.48, 106.32, 106.75, 108.64, 124.43, 128.72, 131.34, 131.01, 141.71, 143.23, 150.67, 149.3, 159.28, 155.81, 158.67, 161.62, 166.79, 160.31, 162.44, 156.08, 164.02, 152.93, 153.01, 146.48, 134.77, 129.51, 129.75, 125.58, 135.04, 121.85, 120.14, 124.15, 123.02, 123.55, 137.28, 133.55, 128.66, 130.12, 146.66, 142.93, 140.41, 134.75, 131.75, 131.85, 136.09, 132.22, 137.6, 124.22, 121.9, 131.19, 129.2, 128.1, 127.11, 118.79, 123.03, 116.71, 115.99, 115.87, 109.68, 108.7, 112.98, 99.94, 102.62, 103.02, 93.44, 84.3, 84.35, 82.02, 88.62, 83.36, 76.21, 79.63, 72.94, 72.84, 65.02, 68.93, 66.16, 62.26, 68.27, 64.52, 62.44, 66.99, 56.49, 57.97, 56.42, 52.16, 52.05, 54.42, 49.86, 49.11, 51.22, 49.53, 49.31, 46.08, 38.55, 36.27, 37.55, 35.82, 32.62, 34.15, 32.79, 27.56, 26.06, 30.44, 24.62, 22.75, 24.49, 25.55, 31.22, 28.47, 21.1, 27.89, 39.9, 37.13, 26.43, 23.52, 20.48, 19.53, 19.27, 20.39, 19.01, 24.23, 22.05, 22.76, 21.39, 19.05, 16.37, 23.8, 19.34, 18.69, 17.81, 17.26, 18.77, 18.46, 21.19, 21.89, 21.25, 16.47, 19.85, 22.92, 20.22, 13.5, 11.18, 11.31, 15.56, 15.43, 15.3, 17.43, 17.92, 15.88, 17.96, 21.52, 22.1, 18.9, 14.09, 12.27, 16.29, 17.75, 16.76, 19.99, 22.83, 17.67, 16.9, 16.54, 15.68, 14.01, 13.13, 12.48, 15.34, 16.49, 14.54, 11.94, 11.61, 12.23, 9.91, 8.49, 6.55, 5.03, 7.77, 7.18, 5.96, 6.94, 5.62, 5.14, 5.19, 5.41, 6.14, 4.03, 4.67, 7.53, 7.66, 7.19, 4.39, 2.8, 3.05, 3.55, 5.05, 5.07, 4.72, 6.37, 5.61, 5.2, 5.85, 5.61, 3.85, 6.8, 6.26, 3.36, 4.82, 4.66, 5.62, 4.94, 4.86, 3.51, 3.83, 5.67, 4.32, 1.9, 1.93, 1.72], \"yaxis\": \"y2\"}, {\"hoverlabel\": {\"namelength\": 0}, \"hovertemplate\": \"color=Control<br>facet_col=surge1<br>x=%{x}<br>y=%{y}\", \"legendgroup\": \"color=Control\", \"line\": {\"color\": \"#636efa\", \"dash\": \"solid\"}, \"mode\": \"lines\", \"name\": \"color=Control\", \"showlegend\": false, \"type\": \"scattergl\", \"x\": [0.0, 0.1, 0.2, 0.3, 0.4, 0.5, 0.6, 0.7, 0.8, 0.9, 1.0, 1.1, 1.2, 1.3, 1.4, 1.5, 1.6, 1.7, 1.8, 1.9, 2.0, 2.1, 2.2, 2.3, 2.4, 2.5, 2.6, 2.7, 2.8, 2.9, 3.0, 3.1, 3.2, 3.3, 3.4, 3.5, 3.6, 3.7, 3.8, 3.9, 4.0, 4.1, 4.2, 4.3, 4.4, 4.5, 4.6, 4.7, 4.8, 4.9, 5.0, 5.1, 5.2, 5.3, 5.4, 5.5, 5.6, 5.7, 5.8, 5.9, 6.0, 6.1, 6.2, 6.3, 6.4, 6.5, 6.6, 6.7, 6.8, 6.9, 7.0, 7.1, 7.2, 7.3, 7.4, 7.5, 7.6, 7.7, 7.8, 7.9, 8.0, 8.1, 8.2, 8.3, 8.4, 8.5, 8.6, 8.7, 8.8, 8.9, 9.0, 9.1, 9.2, 9.3, 9.4, 9.5, 9.6, 9.7, 9.8, 9.9, 10.0, 10.1, 10.2, 10.3, 10.4, 10.5, 10.6, 10.7, 10.8, 10.9, 11.0, 11.1, 11.2, 11.3, 11.4, 11.5, 11.6, 11.7, 11.8, 11.9, 12.0, 12.1, 12.2, 12.3, 12.4, 12.5, 12.6, 12.7, 12.8, 12.9, 13.0, 13.1, 13.2, 13.3, 13.4, 13.5, 13.6, 13.7, 13.8, 13.9, 14.0, 14.1, 14.2, 14.3, 14.4, 14.5, 14.6, 14.7, 14.8, 14.9, 15.0, 15.1, 15.2, 15.3, 15.4, 15.5, 15.6, 15.7, 15.8, 15.9, 16.0, 16.1, 16.2, 16.3, 16.4, 16.5, 16.6, 16.7, 16.8, 16.9, 17.0, 17.1, 17.2, 17.3, 17.4, 17.5, 17.6, 17.7, 17.8, 17.9, 18.0, 18.1, 18.2, 18.3, 18.4, 18.5, 18.6, 18.7, 18.8, 18.9, 19.0, 19.1, 19.2, 19.3, 19.4, 19.5, 19.6, 19.7, 19.8, 19.9, 20.0, 20.1, 20.2, 20.3, 20.4, 20.5, 20.6, 20.7, 20.8, 20.9, 21.0, 21.1, 21.2, 21.3, 21.4, 21.5, 21.6, 21.7, 21.8, 21.9, 22.0, 22.1, 22.2, 22.3, 22.4, 22.5, 22.6, 22.7, 22.8, 22.9, 23.0, 23.1, 23.2, 23.3, 23.4, 23.6, 23.7, 23.8, 23.9, 24.0, 24.1, 24.2, 24.3, 24.4, 24.5, 24.6, 24.7, 24.8, 24.9, 25.0, 25.1, 25.2, 25.3, 25.4, 25.5, 25.6, 25.7, 25.8, 25.9, 26.0, 26.1, 26.2, 26.3, 26.4, 26.5, 26.6, 26.7, 26.8, 26.9, 27.0, 27.1, 27.2, 27.3, 27.4, 27.6, 27.7, 27.8, 27.9, 28.0, 28.1, 28.2, 28.3, 28.4, 28.5, 28.6, 28.7, 28.8, 28.9, 29.0, 29.1, 29.2, 29.3, 29.5, 29.7, 29.9, 30.0, 30.4, 30.9, 31.1, 31.3, 31.5, 31.6, 32.0], \"xaxis\": \"x3\", \"y\": [17.21, 17.21, 18.68, 34.14, 43.36, 56.95, 68.82, 85.01, 91.06, 99.32, 71.12, 70.15, 66.51, 85.52, 80.98, 100.1, 92.56, 116.27, 97.13, 121.1, 123.29, 135.06, 123.18, 142.6, 136.68, 153.24, 140.33, 163.03, 152.08, 161.41, 152.18, 172.38, 158.43, 168.27, 149.51, 169.49, 153.05, 158.02, 144.85, 150.11, 122.59, 137.41, 120.87, 135.71, 127.14, 122.03, 117.46, 131.36, 113.01, 138.82, 127.99, 141.55, 115.96, 147.45, 137.91, 150.0, 132.07, 138.89, 123.14, 142.06, 128.1, 140.37, 128.73, 125.88, 118.01, 142.69, 115.81, 139.57, 114.41, 126.97, 116.8, 119.35, 111.89, 119.24, 101.71, 117.11, 104.26, 102.82, 103.27, 105.82, 84.94, 92.63, 77.73, 90.57, 86.57, 81.8, 76.54, 81.32, 70.27, 73.67, 59.92, 77.17, 58.6, 69.49, 66.42, 63.89, 68.85, 64.89, 57.33, 58.27, 54.31, 52.13, 53.69, 56.24, 46.09, 54.68, 47.28, 53.36, 49.77, 45.49, 35.0, 39.07, 36.18, 36.11, 30.45, 36.87, 29.76, 26.97, 28.08, 31.0, 20.76, 28.26, 24.13, 29.88, 32.74, 26.75, 22.36, 32.09, 45.21, 34.06, 26.4, 22.06, 21.08, 18.95, 21.3, 20.08, 21.02, 26.0, 20.59, 25.76, 18.92, 19.27, 17.94, 23.06, 18.86, 20.52, 16.84, 19.13, 18.56, 20.83, 20.02, 25.22, 18.13, 18.25, 21.4, 24.8, 18.11, 12.56, 11.5, 11.82, 11.07, 16.2, 14.9, 17.17, 18.33, 17.86, 15.22, 21.02, 21.59, 23.12, 17.67, 13.75, 12.67, 18.68, 17.14, 17.67, 22.89, 20.94, 17.51, 17.78, 16.08, 15.02, 14.04, 13.02, 13.76, 16.94, 16.46, 14.12, 11.52, 11.91, 12.6, 13.81, 12.03, 8.89, 7.72, 8.14, 8.08, 6.07, 5.14, 5.6, 6.49, 6.53, 8.3, 6.77, 5.02, 7.1, 6.82, 5.65, 5.1, 5.78, 4.67, 3.68, 5.49, 5.92, 5.51, 6.26, 6.01, 5.96, 4.46, 4.14, 4.59, 4.18, 4.9, 7.62, 7.57, 5.94, 5.39, 6.38, 7.65, 6.61, 3.87, 4.22, 4.3, 3.5, 2.63, 3.4, 3.65, 3.6, 4.04, 4.3, 4.65, 5.1, 5.15, 5.15, 4.02, 4.05, 5.41, 6.06, 6.09, 5.27, 5.17, 5.47, 5.81, 5.17, 4.41, 3.93, 4.45, 4.17, 4.24, 5.68, 6.85, 5.98, 4.65, 3.84, 3.3, 3.65, 4.6, 5.62, 5.57, 4.7, 4.77, 5.43, 5.39, 4.52, 6.04, 5.59, 4.87, 4.87, 4.53, 4.24, 3.27, 3.24, 4.24, 5.4, 5.64, 5.45, 4.85, 4.47, 3.98, 3.34, 3.61, 3.64, 3.17, 2.04, 1.88, 2.06, 1.96, 1.79, 1.85, 2.06, 1.87, 1.84, 1.84], \"yaxis\": \"y3\"}, {\"hoverlabel\": {\"namelength\": 0}, \"hovertemplate\": \"color=Control<br>facet_col=surge_shrink1<br>x=%{x}<br>y=%{y}\", \"legendgroup\": \"color=Control\", \"line\": {\"color\": \"#636efa\", \"dash\": \"solid\"}, \"mode\": \"lines\", \"name\": \"color=Control\", \"showlegend\": false, \"type\": \"scattergl\", \"x\": [0.2, 0.3, 0.4, 0.5, 0.6, 0.7, 0.8, 0.9, 1.0, 1.1, 1.2, 1.3, 1.4, 1.5, 1.6, 1.7, 1.8, 1.9, 2.0, 2.1, 2.2, 2.3, 2.4, 2.5, 2.6, 2.7, 2.8, 2.9, 3.0, 3.1, 3.2, 3.3, 3.4, 3.5, 3.6, 3.7, 3.8, 3.9, 4.0, 4.1, 4.2, 4.3, 4.4, 4.5, 4.6, 4.7, 4.8, 4.9, 5.0, 5.1, 5.2, 5.3, 5.4, 5.5, 5.6, 5.7, 5.8, 5.9, 6.0, 6.1, 6.2, 6.3, 6.4, 6.5, 6.6, 6.7, 6.8, 6.9, 7.0, 7.1, 7.2, 7.3, 7.4, 7.5, 7.6, 7.7, 7.8, 7.9, 8.0, 8.1, 8.2, 8.3, 8.4, 8.5, 8.6, 8.7, 8.8, 8.9, 9.0, 9.1, 9.2, 9.3, 9.4, 9.5, 9.6, 9.7, 9.8, 9.9, 10.0, 10.1, 10.2, 10.3, 10.4, 10.5, 10.6, 10.7, 10.8, 10.9, 11.0, 11.1, 11.2, 11.3, 11.4, 11.5, 11.6, 11.7, 11.8, 11.9, 12.0, 12.1, 12.2, 12.3, 12.4, 12.5, 12.6, 12.7, 12.8, 12.9, 13.0, 13.1, 13.2, 13.3, 13.4, 13.5, 13.6, 13.7, 13.8, 13.9, 14.0, 14.1, 14.2, 14.3, 14.4, 14.5, 14.6, 14.7, 14.8, 14.9, 15.0, 15.1, 15.2, 15.3, 15.4, 15.5, 15.6, 15.7, 15.8, 15.9, 16.0, 16.1, 16.2, 16.3, 16.4, 16.5, 16.6, 16.7, 16.8, 16.9, 17.0, 17.1, 17.2, 17.3, 17.4, 17.5, 17.6, 17.7, 17.8, 17.9, 18.0, 18.1, 18.2, 18.3, 18.4, 18.5, 18.6, 18.7, 18.8, 18.9, 19.0, 19.1, 19.2, 19.3, 19.4, 19.5, 19.6, 19.7, 19.8, 19.9, 20.0, 20.3, 20.4, 20.5, 20.6, 20.7, 20.8, 20.9, 21.0, 21.2, 21.4, 21.5, 21.8, 22.5, 22.9, 23.0, 23.6, 23.7, 24.4, 25.1, 25.6, 26.4, 26.5, 26.6, 26.7, 27.3, 27.4, 27.7, 28.1, 28.2, 28.9, 29.2, 30.2, 31.1, 31.2, 31.6], \"xaxis\": \"x4\", \"y\": [21.46, 35.89, 45.73, 59.41, 71.71, 86.43, 93.3, 94.92, 69.17, 69.69, 69.86, 85.11, 84.7, 98.65, 96.75, 113.66, 100.39, 122.51, 124.99, 134.25, 125.04, 142.96, 138.34, 153.07, 142.55, 162.42, 152.66, 161.25, 154.88, 170.87, 158.52, 166.93, 151.17, 168.08, 152.77, 156.58, 145.22, 145.22, 124.41, 135.39, 121.83, 136.17, 125.09, 121.32, 119.79, 128.54, 116.07, 139.17, 129.17, 137.66, 120.02, 147.94, 138.95, 147.6, 132.2, 137.25, 125.29, 140.74, 128.79, 140.03, 127.05, 124.61, 122.03, 138.6, 119.58, 136.03, 115.11, 126.25, 116.21, 118.75, 112.84, 116.49, 103.49, 116.19, 102.45, 102.31, 103.03, 101.45, 81.49, 91.24, 76.79, 89.71, 86.09, 77.48, 78.16, 77.08, 71.11, 69.69, 62.18, 74.76, 57.65, 69.06, 66.21, 61.07, 69.56, 58.03, 57.85, 56.78, 53.41, 51.86, 53.79, 53.76, 45.6, 53.66, 47.57, 51.54, 48.07, 41.11, 35.2, 38.51, 36.09, 34.51, 31.33, 35.73, 29.13, 25.81, 28.95, 28.77, 20.15, 27.78, 22.43, 30.04, 31.2, 22.87, 23.94, 33.25, 43.27, 28.64, 25.3, 20.79, 20.82, 17.94, 21.14, 19.16, 21.59, 24.15, 20.56, 24.27, 18.38, 17.43, 19.49, 21.52, 17.23, 19.67, 15.68, 19.17, 17.92, 20.92, 19.87, 24.37, 16.89, 18.63, 21.17, 23.38, 15.02, 12.37, 10.67, 11.05, 11.68, 15.95, 14.39, 17.19, 17.55, 16.85, 15.83, 21.2, 20.89, 22.12, 15.43, 12.94, 13.64, 18.38, 16.68, 17.79, 22.7, 18.64, 16.2, 16.6, 15.91, 14.05, 13.2, 12.02, 13.77, 16.48, 14.88, 13.58, 11.09, 12.06, 12.17, 13.11, 10.52, 8.7, 7.61, 8.22, 7.44, 5.31, 5.18, 5.75, 6.21, 5.67, 5.15, 7.06, 5.92, 5.59, 4.73, 5.59, 4.02, 5.95, 5.46, 5.86, 3.97, 5.62, 5.5, 3.67, 3.59, 3.51, 4.62, 5.19, 4.04, 3.61, 3.24, 3.9, 4.85, 4.89, 4.57, 5.18, 3.77, 3.14, 4.22, 3.58, 2.02, 1.9, 2.01, 1.84], \"yaxis\": \"y4\"}, {\"hoverlabel\": {\"namelength\": 0}, \"hovertemplate\": \"color=Control<br>facet_col=shrink2<br>x=%{x}<br>y=%{y}\", \"legendgroup\": \"color=Control\", \"line\": {\"color\": \"#636efa\", \"dash\": \"solid\"}, \"mode\": \"lines\", \"name\": \"color=Control\", \"showlegend\": false, \"type\": \"scattergl\", \"x\": [0.2, 0.3, 0.4, 0.6, 0.7, 0.8, 0.9, 1.0, 1.1, 1.2, 1.3, 1.4, 1.5, 1.6, 1.7, 1.8, 1.9, 2.0, 2.1, 2.2, 2.3, 2.4, 2.5, 2.6, 2.7, 2.8, 2.9, 3.0, 3.1, 3.2, 3.3, 3.4, 3.5, 3.6, 3.7, 3.8, 3.9, 4.0, 4.1, 4.2, 4.3, 4.4, 4.5, 4.6, 4.7, 4.8, 4.9, 5.0, 5.1, 5.2, 5.3, 5.4, 5.5, 5.6, 5.7, 5.8, 5.9, 6.0, 6.1, 6.2, 6.3, 6.4, 6.5, 6.6, 6.7, 6.8, 6.9, 7.0, 7.1, 7.2, 7.3, 7.4, 7.5, 7.6, 7.7, 7.8, 7.9, 8.1, 8.2, 8.3, 8.4, 8.6, 8.7, 8.8, 9.0, 9.1, 9.2, 9.3, 9.4, 9.5, 9.6, 9.8, 9.9, 10.0, 10.1, 10.2, 10.4, 10.5, 10.6, 10.8, 11.0, 11.1, 11.2, 11.4, 11.5, 11.6, 11.7, 11.8, 12.1, 12.6, 12.8, 13.0, 13.1, 13.2, 13.4, 13.8, 13.9, 14.2, 14.5, 14.7, 14.9, 15.1, 15.2, 15.3, 15.7, 15.9, 16.0, 16.2, 16.3, 16.6, 16.9, 17.2, 17.3, 17.4, 17.6, 18.0, 18.7, 18.8, 19.1, 19.3, 20.0, 20.1, 20.2, 20.5, 20.9, 23.6, 23.8, 25.4, 26.6, 28.0, 28.8, 29.1], \"xaxis\": \"x5\", \"y\": [17.21, 32.85, 40.01, 66.96, 81.54, 90.17, 98.87, 77.9, 68.33, 66.91, 81.94, 81.78, 96.73, 93.03, 112.8, 100.62, 115.44, 123.51, 132.66, 126.63, 137.11, 138.57, 149.19, 144.28, 157.53, 155.04, 158.9, 154.57, 168.39, 161.41, 165.08, 155.28, 163.72, 157.63, 156.24, 148.35, 148.89, 127.92, 134.42, 124.35, 131.0, 131.16, 121.99, 118.23, 128.58, 117.32, 131.41, 132.65, 137.87, 121.59, 139.47, 141.74, 147.23, 135.78, 137.1, 126.48, 138.12, 131.48, 136.66, 132.91, 125.3, 119.23, 138.13, 121.21, 134.95, 119.91, 123.68, 119.51, 118.05, 113.54, 118.44, 104.83, 113.28, 108.68, 101.5, 99.78, 106.4, 86.67, 80.79, 87.09, 84.69, 73.32, 82.7, 68.66, 61.49, 72.2, 62.05, 66.4, 64.82, 65.67, 63.52, 54.93, 59.33, 55.36, 52.18, 50.96, 47.96, 52.41, 47.22, 50.63, 36.67, 37.86, 35.43, 31.16, 35.95, 30.2, 27.67, 26.1, 25.11, 20.44, 44.8, 26.69, 22.86, 20.45, 19.84, 20.92, 25.44, 17.56, 20.59, 17.87, 20.1, 23.51, 19.09, 17.49, 12.59, 11.7, 10.92, 15.27, 17.05, 14.93, 23.44, 11.77, 18.28, 17.3, 22.61, 16.2, 14.26, 11.9, 13.61, 9.62, 6.41, 6.59, 8.5, 6.93, 5.48, 3.32, 3.65, 5.4, 3.56, 4.71, 5.15, 3.49], \"yaxis\": \"y5\"}, {\"hoverlabel\": {\"namelength\": 0}, \"hovertemplate\": \"color=Variation1<br>facet_col=default<br>x=%{x}<br>y=%{y}\", \"legendgroup\": \"color=Variation1\", \"line\": {\"color\": \"#EF553B\", \"dash\": \"solid\"}, \"mode\": \"lines\", \"name\": \"color=Variation1\", \"showlegend\": true, \"type\": \"scattergl\", \"x\": [0.0, 0.1, 0.2, 0.3, 0.4, 0.5, 0.6, 0.7, 0.8, 0.9, 1.0, 1.1, 1.2, 1.3, 1.4, 1.5, 1.6, 1.7, 1.8, 1.9, 2.0, 2.1, 2.2, 2.3, 2.4, 2.5, 2.6, 2.7, 2.8, 2.9, 3.0, 3.1, 3.2, 3.3, 3.4, 3.5, 3.6, 3.7, 3.8, 3.9, 4.0, 4.1, 4.2, 4.3, 4.4, 4.5, 4.6, 4.7, 4.8, 4.9, 5.0, 5.1, 5.2, 5.3, 5.4, 5.5, 5.6, 5.7, 5.8, 5.9, 6.0, 6.1, 6.2, 6.3, 6.4, 6.5, 6.6, 6.7, 6.8, 6.9, 7.0, 7.1, 7.2, 7.3, 7.4, 7.5, 7.6, 7.7, 7.8, 7.9, 8.0, 8.1, 8.2, 8.3, 8.4, 8.5, 8.6, 8.7, 8.8, 8.9, 9.0, 9.1, 9.2, 9.3, 9.4, 9.5, 9.6, 9.7, 9.8, 9.9, 10.0, 10.1, 10.2, 10.3, 10.4, 10.5, 10.6, 10.7, 10.8, 10.9, 11.0, 11.1, 11.2, 11.3, 11.4, 11.5, 11.6, 11.7, 11.8, 11.9, 12.0, 12.1, 12.2, 12.3, 12.4, 12.5, 12.6, 12.7, 12.8, 12.9, 13.0, 13.1, 13.2, 13.3, 13.4, 13.5, 13.6, 13.7, 13.8, 13.9, 14.0, 14.1, 14.2, 14.3, 14.4, 14.5, 14.6, 14.7, 14.8, 14.9, 15.0, 15.1, 15.2, 15.3, 15.4, 15.5, 15.6, 15.7, 15.8, 15.9, 16.0, 16.1, 16.2, 16.3, 16.4, 16.5, 16.6, 16.7, 16.8, 16.9, 17.0, 17.1, 17.2, 17.3, 17.4, 17.5, 17.6, 17.7, 17.8, 17.9, 18.0, 18.1, 18.2, 18.3, 18.4, 18.5, 18.6, 18.7, 18.8, 18.9, 19.0, 19.1, 19.2, 19.3, 19.4, 19.5, 19.6, 19.7, 19.8, 19.9, 20.0, 20.1, 20.2, 20.3, 20.4, 20.5, 20.6, 20.7, 20.8, 20.9, 21.0, 21.1, 21.2, 21.3, 21.4, 21.5, 21.6, 21.7, 21.8, 21.9, 22.0, 22.1, 22.2, 22.3, 22.4, 22.5, 22.6, 22.7, 22.8, 22.9, 23.0, 23.1, 23.2, 23.3, 23.4, 23.5, 23.6, 23.7, 23.8, 23.9, 24.0, 24.1, 24.2, 24.3, 24.4, 24.5, 24.6, 24.7, 24.8, 24.9, 25.0, 25.1, 25.2, 25.3, 25.4, 25.5, 25.6, 25.7, 25.8, 25.9, 26.0, 26.1, 26.2, 26.3, 26.4, 26.5, 26.6, 26.7, 26.8, 26.9, 27.0, 27.1, 27.2, 27.3, 27.4, 27.5, 27.6, 27.7, 27.8, 27.9, 28.0, 28.1, 28.2, 28.3, 28.4, 28.5, 28.6, 28.7, 28.8, 28.9, 29.0, 29.1, 29.2, 29.3, 29.4, 29.5, 29.6, 29.7, 29.8, 29.9, 30.4, 30.5, 30.7, 30.8, 30.9, 31.0, 31.2, 31.3, 31.4, 31.5, 31.6, 31.7, 31.8, 32.2, 32.6, 59.8], \"xaxis\": \"x\", \"y\": [17.21, 17.21, 17.21, 26.23, 38.9, 49.82, 63.84, 76.12, 88.84, 96.0, 88.5, 66.44, 69.07, 74.76, 84.57, 90.2, 96.33, 103.57, 108.87, 106.19, 124.25, 127.54, 132.67, 128.89, 142.43, 141.38, 152.14, 146.79, 160.79, 154.41, 160.02, 159.37, 168.27, 159.05, 164.47, 154.13, 165.77, 152.4, 154.25, 145.77, 137.9, 127.5, 131.92, 123.76, 136.21, 122.17, 120.83, 122.44, 125.08, 120.59, 139.03, 131.66, 131.5, 126.81, 147.62, 141.57, 142.51, 133.82, 133.62, 129.43, 138.18, 130.52, 138.84, 124.49, 123.02, 128.37, 132.2, 125.37, 129.78, 117.28, 124.47, 116.13, 116.96, 114.94, 111.67, 107.06, 114.0, 100.27, 102.5, 103.66, 96.35, 82.36, 87.11, 79.66, 89.64, 83.73, 76.16, 79.33, 74.0, 72.26, 66.66, 66.72, 68.87, 60.57, 68.64, 64.94, 62.2, 67.57, 56.54, 58.04, 56.77, 52.3, 51.91, 54.51, 51.31, 47.9, 51.99, 49.25, 51.09, 46.33, 39.21, 35.81, 37.95, 35.73, 33.14, 33.51, 33.53, 27.89, 25.76, 30.38, 25.94, 21.95, 25.59, 24.67, 31.56, 29.11, 21.53, 26.88, 38.63, 39.12, 26.99, 24.13, 20.48, 19.79, 18.72, 20.85, 19.28, 23.64, 23.09, 22.16, 22.48, 19.06, 15.92, 23.19, 20.04, 18.34, 18.31, 16.68, 19.22, 18.35, 21.51, 21.18, 22.46, 16.56, 19.78, 22.79, 21.09, 13.88, 11.48, 11.19, 10.25, 14.2, 15.9, 15.17, 17.43, 17.85, 16.08, 17.45, 21.78, 22.14, 20.02, 14.39, 12.5, 15.54, 18.21, 17.03, 19.35, 22.72, 17.43, 16.36, 16.58, 15.49, 13.84, 12.77, 12.0, 14.78, 16.45, 14.43, 12.59, 11.27, 12.16, 12.69, 12.48, 9.98, 8.2, 7.89, 8.6, 6.82, 5.1, 5.59, 5.89, 6.28, 7.39, 7.51, 4.91, 5.75, 6.96, 5.71, 5.38, 5.07, 5.05, 3.73, 4.52, 6.09, 5.44, 5.94, 5.87, 6.22, 4.89, 3.9, 4.59, 4.24, 4.45, 7.07, 7.99, 6.29, 5.43, 6.18, 7.58, 7.47, 4.77, 4.06, 4.48, 3.92, 2.87, 2.62, 2.93, 3.77, 3.57, 4.08, 4.2, 4.55, 5.08, 5.21, 5.0, 4.27, 3.85, 4.47, 5.99, 6.46, 5.57, 5.15, 5.39, 5.93, 5.77, 4.63, 3.9, 4.47, 4.18, 4.12, 5.02, 6.76, 6.57, 5.1, 4.03, 3.49, 3.26, 4.42, 5.35, 5.8, 4.92, 4.63, 5.34, 5.55, 4.61, 4.67, 6.04, 5.78, 4.88, 4.93, 4.97, 4.37, 3.51, 3.22, 3.62, 5.14, 5.6, 5.87, 5.14, 4.47, 4.28, 3.51, 3.58, 3.68, 3.4, 3.31, 2.5, 2.15, 1.79, 1.8, 1.97, 1.94, 1.92, 1.88, 1.83, 1.73, 1.97, 2.03, 2.07, 1.91, 1.84, 1.84, 1.84, 1.84, 1.84, 1.84], \"yaxis\": \"y\"}, {\"hoverlabel\": {\"namelength\": 0}, \"hovertemplate\": \"color=Variation1<br>facet_col=price_easing<br>x=%{x}<br>y=%{y}\", \"legendgroup\": \"color=Variation1\", \"line\": {\"color\": \"#EF553B\", \"dash\": \"solid\"}, \"mode\": \"lines\", \"name\": \"color=Variation1\", \"showlegend\": false, \"type\": \"scattergl\", \"x\": [0.0, 0.1, 0.2, 0.3, 0.4, 0.5, 0.6, 0.7, 0.8, 0.9, 1.0, 1.1, 1.2, 1.3, 1.4, 1.5, 1.6, 1.7, 1.8, 1.9, 2.0, 2.1, 2.2, 2.3, 2.4, 2.5, 2.6, 2.7, 2.8, 2.9, 3.0, 3.1, 3.2, 3.3, 3.4, 3.5, 3.6, 3.7, 3.8, 3.9, 4.0, 4.1, 4.2, 4.3, 4.4, 4.5, 4.6, 4.7, 4.8, 4.9, 5.0, 5.1, 5.2, 5.3, 5.4, 5.5, 5.6, 5.7, 5.8, 5.9, 6.0, 6.1, 6.2, 6.3, 6.4, 6.5, 6.6, 6.7, 6.8, 6.9, 7.0, 7.1, 7.2, 7.3, 7.4, 7.5, 7.6, 7.7, 7.8, 7.9, 8.0, 8.1, 8.2, 8.3, 8.4, 8.5, 8.6, 8.7, 8.8, 8.9, 9.0, 9.1, 9.2, 9.3, 9.4, 9.5, 9.6, 9.7, 9.8, 9.9, 10.0, 10.1, 10.2, 10.3, 10.4, 10.5, 10.6, 10.7, 10.8, 10.9, 11.0, 11.1, 11.2, 11.3, 11.4, 11.5, 11.6, 11.7, 11.8, 11.9, 12.0, 12.1, 12.2, 12.3, 12.4, 12.5, 12.6, 12.7, 12.8, 12.9, 13.0, 13.1, 13.2, 13.3, 13.4, 13.5, 13.6, 13.7, 13.8, 13.9, 14.0, 14.1, 14.2, 14.4, 14.5, 14.6, 14.7, 14.8, 14.9, 15.0, 15.1, 15.2, 15.3, 15.4, 15.5, 15.6, 15.7, 15.8, 16.0, 16.1, 16.2, 16.3, 16.4, 16.5, 16.6, 16.7, 16.8, 16.9, 17.0, 17.1, 17.2, 17.3, 17.4, 17.5, 17.6, 17.7, 17.9, 18.0, 18.1, 18.2, 18.4, 18.5, 18.6, 18.7, 18.8, 18.9, 19.0, 19.1, 19.2, 19.3, 19.8, 20.0, 20.1, 20.2, 20.5, 20.6, 20.7, 20.8, 21.1, 21.2, 21.4, 21.5, 21.6, 21.8, 22.4, 22.7, 23.0, 23.1, 23.2, 23.3, 23.6, 23.8, 23.9, 24.4, 24.5, 24.7, 25.0, 25.6, 25.7, 26.0, 26.3, 26.4, 26.8, 27.2, 27.3, 27.6, 27.8, 28.0, 28.2, 28.3, 28.4, 28.8, 28.9, 29.0, 30.0, 31.0], \"xaxis\": \"x2\", \"y\": [17.21, 17.21, 17.21, 30.49, 39.99, 53.67, 66.16, 79.61, 89.78, 97.86, 81.89, 67.33, 67.64, 79.47, 82.86, 94.32, 94.33, 109.56, 103.68, 112.04, 123.96, 130.68, 129.06, 133.93, 140.22, 146.19, 147.52, 153.39, 157.12, 157.38, 156.69, 164.96, 164.1, 162.66, 158.96, 159.72, 160.97, 154.5, 150.77, 147.66, 131.38, 131.87, 127.13, 128.21, 133.13, 121.93, 119.21, 126.33, 120.21, 127.35, 135.12, 135.64, 125.09, 134.82, 144.34, 144.96, 138.13, 135.84, 129.2, 134.93, 133.85, 134.39, 135.36, 124.6, 120.66, 134.62, 125.22, 131.49, 123.61, 121.18, 121.24, 117.35, 114.89, 117.07, 107.28, 110.92, 110.91, 100.69, 101.21, 103.51, 91.26, 85.44, 82.56, 84.49, 86.7, 83.78, 74.73, 81.19, 70.84, 74.28, 63.26, 70.57, 64.09, 64.3, 66.57, 65.07, 62.02, 67.07, 55.69, 58.67, 55.92, 52.15, 51.56, 54.84, 48.87, 50.74, 49.25, 50.74, 49.38, 46.6, 37.61, 37.03, 36.52, 36.44, 31.9, 35.06, 31.49, 27.61, 26.07, 30.72, 23.45, 23.63, 24.39, 26.78, 31.78, 28.15, 20.17, 30.47, 41.99, 35.96, 26.3, 23.11, 20.09, 19.58, 19.56, 20.11, 19.51, 25.52, 21.11, 23.8, 20.38, 19.31, 16.93, 19.28, 19.46, 17.45, 17.58, 18.44, 18.88, 21.03, 22.72, 20.0, 16.73, 20.04, 23.77, 19.53, 12.91, 11.48, 10.51, 16.29, 15.07, 15.95, 18.01, 18.09, 15.45, 18.73, 21.46, 22.62, 18.42, 14.12, 12.01, 17.15, 17.32, 16.73, 21.32, 22.23, 17.61, 16.13, 15.71, 14.21, 13.45, 16.52, 16.68, 14.42, 11.82, 12.31, 12.73, 13.08, 12.45, 9.76, 5.11, 6.12, 6.53, 8.21, 6.34, 6.98, 5.59, 5.11, 3.75, 4.83, 5.56, 6.14, 6.03, 4.65, 7.94, 6.35, 4.12, 4.07, 4.4, 3.75, 3.2, 3.58, 4.06, 5.21, 4.2, 5.07, 5.49, 3.85, 4.45, 5.38, 4.83, 3.98, 5.45, 5.35, 5.61, 6.07, 4.82, 4.91, 3.4, 3.22, 4.05, 5.21, 4.49, 4.22, 1.96, 1.72], \"yaxis\": \"y2\"}, {\"hoverlabel\": {\"namelength\": 0}, \"hovertemplate\": \"color=Variation1<br>facet_col=surge1<br>x=%{x}<br>y=%{y}\", \"legendgroup\": \"color=Variation1\", \"line\": {\"color\": \"#EF553B\", \"dash\": \"solid\"}, \"mode\": \"lines\", \"name\": \"color=Variation1\", \"showlegend\": false, \"type\": \"scattergl\", \"x\": [0.0, 0.1, 0.2, 0.3, 0.4, 0.5, 0.6, 0.7, 0.8, 0.9, 1.0, 1.1, 1.2, 1.3, 1.4, 1.5, 1.6, 1.7, 1.8, 1.9, 2.0, 2.1, 2.2, 2.3, 2.4, 2.5, 2.6, 2.7, 2.8, 2.9, 3.0, 3.1, 3.2, 3.3, 3.4, 3.5, 3.6, 3.7, 3.8, 3.9, 4.0, 4.1, 4.2, 4.3, 4.4, 4.5, 4.6, 4.7, 4.8, 4.9, 5.0, 5.1, 5.2, 5.3, 5.4, 5.5, 5.6, 5.7, 5.8, 5.9, 6.0, 6.1, 6.2, 6.3, 6.4, 6.5, 6.6, 6.7, 6.8, 6.9, 7.0, 7.1, 7.2, 7.3, 7.4, 7.5, 7.6, 7.7, 7.8, 7.9, 8.0, 8.1, 8.2, 8.3, 8.4, 8.5, 8.6, 8.7, 8.8, 8.9, 9.0, 9.1, 9.2, 9.3, 9.4, 9.5, 9.6, 9.7, 9.8, 9.9, 10.0, 10.1, 10.2, 10.3, 10.4, 10.5, 10.6, 10.7, 10.8, 10.9, 11.0, 11.1, 11.2, 11.3, 11.4, 11.5, 11.6, 11.7, 11.8, 11.9, 12.0, 12.1, 12.2, 12.3, 12.4, 12.5, 12.6, 12.7, 12.8, 12.9, 13.0, 13.1, 13.2, 13.3, 13.4, 13.5, 13.6, 13.7, 13.8, 13.9, 14.0, 14.1, 14.2, 14.3, 14.4, 14.5, 14.6, 14.7, 14.8, 14.9, 15.0, 15.1, 15.2, 15.3, 15.4, 15.5, 15.6, 15.7, 15.8, 15.9, 16.0, 16.1, 16.2, 16.3, 16.4, 16.5, 16.6, 16.7, 16.8, 16.9, 17.0, 17.1, 17.2, 17.3, 17.4, 17.5, 17.6, 17.7, 17.8, 17.9, 18.0, 18.1, 18.2, 18.3, 18.4, 18.5, 18.6, 18.7, 18.8, 18.9, 19.0, 19.1, 19.2, 19.3, 19.4, 19.5, 19.6, 19.7, 19.8, 20.0, 20.1, 20.2, 20.3, 20.4, 20.5, 20.6, 20.7, 20.8, 20.9, 21.0, 21.1, 21.2, 21.3, 21.4, 21.5, 21.6, 21.7, 21.8, 21.9, 22.0, 22.1, 22.2, 22.3, 22.4, 22.5, 22.6, 22.7, 22.8, 22.9, 23.0, 23.1, 23.2, 23.3, 23.4, 23.5, 23.6, 23.7, 23.8, 23.9, 24.0, 24.1, 24.2, 24.3, 24.4, 24.5, 24.8, 24.9, 25.0, 25.1, 25.2, 25.3, 25.4, 25.5, 25.6, 25.7, 25.8, 25.9, 26.0, 26.1, 26.2, 26.3, 26.4, 26.5, 26.6, 26.8, 26.9, 27.0, 27.1, 27.2, 27.3, 27.4, 27.5, 27.6, 27.7, 27.8, 28.0, 28.1, 28.2, 28.3, 28.4, 28.5, 28.7, 28.8, 28.9, 29.0, 29.1, 29.2, 29.3, 29.4, 29.5, 29.7, 29.8, 30.4, 30.7, 31.0, 31.5, 31.8], \"xaxis\": \"x3\", \"y\": [17.21, 17.21, 19.88, 34.91, 44.48, 57.85, 70.15, 85.76, 92.21, 97.16, 70.07, 70.0, 68.11, 85.35, 82.83, 99.37, 94.61, 115.08, 98.67, 121.77, 124.25, 134.63, 124.01, 142.85, 137.54, 153.16, 141.35, 162.81, 152.28, 161.39, 153.57, 171.58, 158.52, 167.52, 150.39, 168.79, 152.9, 157.34, 144.98, 147.72, 123.41, 136.44, 121.34, 136.02, 126.05, 121.72, 118.58, 129.93, 114.52, 139.1, 128.46, 139.69, 117.97, 147.7, 138.34, 148.99, 131.99, 138.07, 124.26, 141.39, 128.39, 140.3, 127.92, 125.17, 119.93, 140.79, 117.65, 137.81, 114.7, 126.69, 116.39, 119.15, 112.35, 117.89, 102.53, 116.7, 103.32, 102.61, 103.12, 102.35, 81.8, 91.96, 75.84, 90.16, 86.38, 78.45, 77.28, 78.23, 70.66, 70.84, 60.96, 76.07, 57.05, 69.29, 66.26, 61.53, 69.27, 60.59, 57.6, 56.74, 53.88, 51.94, 53.78, 54.27, 45.1, 54.18, 47.42, 51.97, 48.27, 42.79, 35.07, 38.84, 36.08, 34.88, 30.81, 36.34, 29.43, 25.98, 28.56, 29.55, 19.99, 28.08, 22.92, 29.73, 31.56, 24.43, 23.15, 32.51, 44.0, 30.74, 25.5, 21.09, 20.98, 18.2, 21.21, 19.37, 21.03, 24.78, 20.13, 24.86, 18.24, 18.21, 18.43, 22.31, 17.79, 19.96, 15.96, 19.16, 17.99, 20.61, 19.57, 24.88, 17.16, 18.27, 21.04, 23.81, 16.24, 12.47, 10.99, 11.24, 11.02, 16.03, 14.43, 17.05, 17.7, 17.12, 15.5, 21.0, 20.92, 22.39, 16.26, 13.19, 13.14, 18.45, 16.69, 17.51, 22.63, 19.74, 16.85, 17.04, 15.91, 14.41, 13.45, 12.42, 13.53, 16.56, 15.46, 13.88, 11.12, 11.83, 12.15, 13.3, 11.24, 8.9, 7.55, 8.13, 7.73, 5.53, 5.08, 6.29, 6.57, 8.23, 6.25, 5.09, 7.04, 6.25, 5.53, 4.87, 5.62, 4.35, 3.73, 5.66, 5.85, 5.39, 6.0, 5.93, 5.8, 4.19, 4.3, 4.55, 4.3, 5.28, 7.76, 7.23, 5.77, 5.6, 6.6, 7.7, 6.05, 3.7, 4.34, 4.23, 3.31, 2.57, 2.6, 3.5, 3.55, 3.65, 4.1, 4.36, 4.81, 5.27, 5.09, 4.85, 3.8, 6.13, 5.88, 5.1, 5.21, 5.6, 5.79, 5.04, 4.19, 3.93, 4.38, 4.17, 4.43, 6.0, 6.79, 5.67, 4.45, 3.7, 3.25, 3.74, 5.79, 5.37, 4.59, 4.96, 5.54, 5.11, 4.51, 5.55, 5.96, 5.4, 4.91, 4.39, 3.95, 3.17, 3.38, 4.56, 5.5, 5.34, 4.62, 4.3, 3.74, 3.28, 3.59, 3.6, 3.35, 2.9, 1.91, 1.73, 1.95, 1.95, 1.73, 1.84, 1.84], \"yaxis\": \"y3\"}, {\"hoverlabel\": {\"namelength\": 0}, \"hovertemplate\": \"color=Variation1<br>facet_col=surge_shrink1<br>x=%{x}<br>y=%{y}\", \"legendgroup\": \"color=Variation1\", \"line\": {\"color\": \"#EF553B\", \"dash\": \"solid\"}, \"mode\": \"lines\", \"name\": \"color=Variation1\", \"showlegend\": false, \"type\": \"scattergl\", \"x\": [0.0, 0.2, 0.3, 0.4, 0.5, 0.6, 0.7, 0.8, 0.9, 1.0, 1.1, 1.2, 1.3, 1.4, 1.5, 1.6, 1.7, 1.8, 1.9, 2.0, 2.1, 2.2, 2.3, 2.4, 2.5, 2.6, 2.7, 2.8, 2.9, 3.0, 3.1, 3.2, 3.3, 3.4, 3.5, 3.6, 3.7, 3.8, 3.9, 4.0, 4.1, 4.2, 4.3, 4.4, 4.5, 4.6, 4.7, 4.8, 4.9, 5.0, 5.1, 5.2, 5.3, 5.4, 5.5, 5.6, 5.7, 5.8, 5.9, 6.0, 6.1, 6.2, 6.3, 6.4, 6.5, 6.6, 6.7, 6.8, 6.9, 7.0, 7.1, 7.2, 7.3, 7.4, 7.5, 7.6, 7.7, 7.8, 7.9, 8.0, 8.1, 8.2, 8.3, 8.4, 8.5, 8.6, 8.7, 8.8, 8.9, 9.0, 9.1, 9.2, 9.3, 9.4, 9.5, 9.6, 9.7, 9.8, 9.9, 10.0, 10.1, 10.2, 10.3, 10.4, 10.5, 10.6, 10.7, 10.8, 10.9, 11.0, 11.1, 11.2, 11.3, 11.4, 11.5, 11.6, 11.7, 11.8, 11.9, 12.0, 12.1, 12.2, 12.3, 12.4, 12.5, 12.6, 12.7, 12.8, 12.9, 13.0, 13.1, 13.2, 13.3, 13.4, 13.5, 13.6, 13.7, 13.8, 13.9, 14.0, 14.1, 14.2, 14.4, 14.5, 14.6, 14.7, 14.8, 14.9, 15.0, 15.1, 15.2, 15.3, 15.4, 15.5, 15.6, 15.7, 15.8, 15.9, 16.0, 16.2, 16.3, 16.4, 16.5, 16.6, 16.7, 16.8, 16.9, 17.0, 17.1, 17.2, 17.3, 17.4, 17.5, 17.6, 17.8, 17.9, 18.0, 18.2, 18.3, 18.4, 18.5, 18.6, 18.7, 18.8, 19.0, 19.1, 19.2, 19.5, 19.7, 19.8, 20.0, 20.1, 20.2, 20.3, 20.4, 20.5, 20.6, 20.7, 20.8, 20.9, 21.0, 21.1, 21.2, 21.4, 21.5, 21.6, 21.7, 21.8, 21.9, 22.2, 22.3, 22.4, 22.5, 22.6, 22.7, 22.8, 23.0, 23.3, 23.4, 23.5, 23.8, 24.1, 24.4, 24.5, 24.8, 24.9, 25.0, 25.1, 25.2, 25.6, 26.0, 26.6, 27.9, 28.1, 28.7, 28.8, 28.9, 29.0, 29.1], \"xaxis\": \"x4\", \"y\": [17.21, 22.95, 36.8, 47.04, 60.93, 73.18, 87.2, 94.29, 92.7, 68.31, 69.44, 71.54, 84.86, 86.62, 97.88, 98.91, 112.17, 102.23, 123.16, 125.84, 133.8, 126.16, 142.84, 139.38, 152.81, 143.86, 162.0, 153.09, 160.98, 156.31, 170.01, 158.64, 166.23, 152.09, 167.29, 152.67, 155.82, 145.43, 142.7, 125.45, 134.3, 122.45, 136.15, 124.12, 121.17, 120.66, 127.4, 117.57, 139.13, 129.97, 135.66, 122.25, 147.83, 139.8, 145.99, 132.67, 136.07, 126.66, 139.9, 129.34, 139.65, 126.21, 124.0, 124.2, 136.52, 121.44, 133.99, 115.8, 125.67, 116.16, 118.19, 113.5, 114.92, 104.65, 115.46, 101.78, 101.8, 102.92, 100.34, 81.2, 90.46, 77.69, 89.36, 85.64, 76.65, 78.76, 75.71, 71.55, 68.58, 63.41, 73.21, 58.46, 68.71, 65.98, 60.58, 69.61, 57.15, 58.13, 56.74, 53.05, 51.68, 53.75, 53.13, 46.26, 52.95, 47.74, 51.55, 47.9, 40.41, 35.4, 38.21, 36.04, 34.02, 32.07, 34.89, 28.82, 25.59, 29.36, 27.97, 20.38, 27.59, 22.91, 30.57, 30.76, 22.15, 25.16, 34.92, 42.74, 27.86, 25.04, 20.46, 20.69, 18.09, 21.02, 19.11, 22.4, 23.75, 20.93, 23.6, 18.57, 16.83, 20.47, 17.48, 19.34, 15.91, 19.13, 17.85, 21.23, 20.18, 23.77, 16.67, 18.91, 21.69, 22.93, 14.43, 12.33, 10.78, 10.93, 12.69, 14.65, 17.57, 17.71, 16.52, 16.21, 21.3, 21.17, 21.94, 15.08, 12.71, 14.12, 18.27, 16.72, 18.3, 22.78, 15.98, 16.44, 15.92, 13.02, 12.03, 14.44, 16.69, 14.66, 13.28, 11.17, 12.45, 13.0, 9.99, 8.21, 5.36, 5.54, 6.29, 6.73, 8.09, 5.18, 5.31, 7.11, 5.78, 5.63, 4.84, 5.49, 3.87, 4.0, 6.33, 5.75, 5.87, 5.96, 5.44, 3.88, 4.45, 5.82, 7.87, 6.86, 5.43, 5.8, 6.92, 7.58, 3.78, 3.14, 2.62, 2.67, 3.77, 4.95, 4.48, 3.66, 6.23, 5.66, 5.07, 5.24, 5.72, 4.18, 6.31, 4.22, 4.99, 3.67, 5.23, 4.57, 4.27, 3.63, 3.31], \"yaxis\": \"y4\"}, {\"hoverlabel\": {\"namelength\": 0}, \"hovertemplate\": \"color=Variation1<br>facet_col=shrink2<br>x=%{x}<br>y=%{y}\", \"legendgroup\": \"color=Variation1\", \"line\": {\"color\": \"#EF553B\", \"dash\": \"solid\"}, \"mode\": \"lines\", \"name\": \"color=Variation1\", \"showlegend\": false, \"type\": \"scattergl\", \"x\": [0.4, 0.5, 0.6, 0.7, 0.8, 0.9, 1.0, 1.1, 1.2, 1.3, 1.4, 1.5, 1.6, 1.7, 1.8, 1.9, 2.0, 2.1, 2.2, 2.3, 2.4, 2.5, 2.6, 2.7, 2.8, 2.9, 3.0, 3.1, 3.2, 3.3, 3.4, 3.5, 3.6, 3.7, 3.8, 3.9, 4.0, 4.1, 4.2, 4.3, 4.4, 4.5, 4.6, 4.7, 4.8, 4.9, 5.0, 5.1, 5.2, 5.3, 5.4, 5.5, 5.6, 5.7, 5.8, 5.9, 6.0, 6.1, 6.2, 6.3, 6.4, 6.5, 6.6, 6.7, 6.8, 6.9, 7.0, 7.1, 7.2, 7.3, 7.4, 7.5, 7.6, 7.7, 7.8, 8.0, 8.1, 8.3, 8.4, 8.5, 8.6, 8.8, 8.9, 9.0, 9.1, 9.3, 9.4, 9.6, 9.8, 10.0, 10.1, 10.2, 10.3, 10.5, 10.6, 10.7, 11.0, 11.1, 11.2, 11.3, 11.4, 11.5, 11.6, 11.8, 11.9, 12.0, 12.1, 12.3, 12.4, 12.6, 13.2, 13.4, 13.5, 13.6, 14.0, 14.1, 14.7, 14.8, 15.0, 15.1, 15.4, 15.5, 15.7, 15.9, 16.5, 16.6, 16.7, 16.8, 17.1, 17.2, 17.5, 18.0, 18.7, 18.9, 19.3, 19.7, 20.7, 20.9, 21.0, 21.1, 21.2, 21.5, 21.6, 22.5, 23.4, 25.6, 26.9, 27.5, 28.9, 29.1, 29.2, 30.1], \"xaxis\": \"x5\", \"y\": [41.57, 56.0, 67.72, 83.54, 90.51, 99.75, 73.89, 69.41, 66.21, 84.46, 80.63, 99.22, 91.67, 116.02, 97.4, 119.19, 122.98, 134.57, 123.93, 140.73, 136.62, 152.3, 141.17, 161.48, 152.86, 160.79, 152.07, 171.9, 158.91, 167.43, 151.41, 167.98, 154.21, 157.74, 146.2, 150.07, 124.26, 137.12, 121.51, 134.05, 128.97, 122.07, 117.27, 130.97, 114.07, 135.9, 129.74, 140.59, 117.71, 144.27, 139.16, 149.39, 133.44, 138.54, 123.52, 141.53, 128.92, 139.0, 130.49, 126.07, 117.68, 141.68, 117.12, 138.5, 116.24, 126.06, 117.87, 118.72, 112.23, 119.8, 102.3, 115.81, 106.32, 102.29, 101.29, 89.09, 90.1, 89.72, 84.95, 84.16, 74.33, 69.06, 75.74, 59.76, 75.68, 68.57, 65.03, 66.86, 55.75, 54.81, 52.24, 52.19, 56.67, 54.07, 46.75, 53.05, 35.56, 38.73, 35.59, 37.05, 30.43, 36.88, 29.67, 27.09, 31.54, 22.28, 27.11, 28.76, 33.02, 21.37, 21.0, 20.69, 20.45, 20.86, 19.9, 19.76, 18.51, 18.54, 20.85, 24.6, 20.83, 24.95, 12.54, 12.2, 18.27, 14.91, 20.19, 21.89, 14.18, 12.09, 17.34, 16.22, 14.29, 12.33, 9.21, 6.37, 5.67, 5.8, 4.89, 3.8, 5.17, 6.35, 6.11, 6.17, 2.71, 3.95, 5.68, 5.24, 4.55, 3.42, 3.64, 2.08], \"yaxis\": \"y5\"}],\n",
              "                        {\"annotations\": [{\"font\": {}, \"showarrow\": false, \"text\": \"facet_col=default\", \"x\": 0.09200000000000001, \"xanchor\": \"center\", \"xref\": \"paper\", \"y\": 1.0, \"yanchor\": \"bottom\", \"yref\": \"paper\"}, {\"font\": {}, \"showarrow\": false, \"text\": \"facet_col=price_easing\", \"x\": 0.29600000000000004, \"xanchor\": \"center\", \"xref\": \"paper\", \"y\": 1.0, \"yanchor\": \"bottom\", \"yref\": \"paper\"}, {\"font\": {}, \"showarrow\": false, \"text\": \"facet_col=surge1\", \"x\": 0.5, \"xanchor\": \"center\", \"xref\": \"paper\", \"y\": 1.0, \"yanchor\": \"bottom\", \"yref\": \"paper\"}, {\"font\": {}, \"showarrow\": false, \"text\": \"facet_col=surge_shrink1\", \"x\": 0.7040000000000002, \"xanchor\": \"center\", \"xref\": \"paper\", \"y\": 1.0, \"yanchor\": \"bottom\", \"yref\": \"paper\"}, {\"font\": {}, \"showarrow\": false, \"text\": \"facet_col=shrink2\", \"x\": 0.908, \"xanchor\": \"center\", \"xref\": \"paper\", \"y\": 1.0, \"yanchor\": \"bottom\", \"yref\": \"paper\"}], \"legend\": {\"tracegroupgap\": 0}, \"margin\": {\"t\": 60}, \"template\": {\"data\": {\"bar\": [{\"error_x\": {\"color\": \"#2a3f5f\"}, \"error_y\": {\"color\": \"#2a3f5f\"}, \"marker\": {\"line\": {\"color\": \"#E5ECF6\", \"width\": 0.5}}, \"type\": \"bar\"}], \"barpolar\": [{\"marker\": {\"line\": {\"color\": \"#E5ECF6\", \"width\": 0.5}}, \"type\": \"barpolar\"}], \"carpet\": [{\"aaxis\": {\"endlinecolor\": \"#2a3f5f\", \"gridcolor\": \"white\", \"linecolor\": \"white\", \"minorgridcolor\": \"white\", \"startlinecolor\": \"#2a3f5f\"}, \"baxis\": {\"endlinecolor\": \"#2a3f5f\", \"gridcolor\": \"white\", \"linecolor\": \"white\", \"minorgridcolor\": \"white\", \"startlinecolor\": \"#2a3f5f\"}, \"type\": \"carpet\"}], \"choropleth\": [{\"colorbar\": {\"outlinewidth\": 0, \"ticks\": \"\"}, \"type\": \"choropleth\"}], \"contour\": [{\"colorbar\": {\"outlinewidth\": 0, \"ticks\": \"\"}, \"colorscale\": [[0.0, \"#0d0887\"], [0.1111111111111111, \"#46039f\"], [0.2222222222222222, \"#7201a8\"], [0.3333333333333333, \"#9c179e\"], [0.4444444444444444, \"#bd3786\"], [0.5555555555555556, \"#d8576b\"], [0.6666666666666666, \"#ed7953\"], [0.7777777777777778, \"#fb9f3a\"], [0.8888888888888888, \"#fdca26\"], [1.0, \"#f0f921\"]], \"type\": \"contour\"}], \"contourcarpet\": [{\"colorbar\": {\"outlinewidth\": 0, \"ticks\": \"\"}, \"type\": \"contourcarpet\"}], \"heatmap\": [{\"colorbar\": {\"outlinewidth\": 0, \"ticks\": \"\"}, \"colorscale\": [[0.0, \"#0d0887\"], [0.1111111111111111, \"#46039f\"], [0.2222222222222222, \"#7201a8\"], [0.3333333333333333, \"#9c179e\"], [0.4444444444444444, \"#bd3786\"], [0.5555555555555556, \"#d8576b\"], [0.6666666666666666, \"#ed7953\"], [0.7777777777777778, \"#fb9f3a\"], [0.8888888888888888, \"#fdca26\"], [1.0, \"#f0f921\"]], \"type\": \"heatmap\"}], \"heatmapgl\": [{\"colorbar\": {\"outlinewidth\": 0, \"ticks\": \"\"}, \"colorscale\": [[0.0, \"#0d0887\"], [0.1111111111111111, \"#46039f\"], [0.2222222222222222, \"#7201a8\"], [0.3333333333333333, \"#9c179e\"], [0.4444444444444444, \"#bd3786\"], [0.5555555555555556, \"#d8576b\"], [0.6666666666666666, \"#ed7953\"], [0.7777777777777778, \"#fb9f3a\"], [0.8888888888888888, \"#fdca26\"], [1.0, \"#f0f921\"]], \"type\": \"heatmapgl\"}], \"histogram\": [{\"marker\": {\"colorbar\": {\"outlinewidth\": 0, \"ticks\": \"\"}}, \"type\": \"histogram\"}], \"histogram2d\": [{\"colorbar\": {\"outlinewidth\": 0, \"ticks\": \"\"}, \"colorscale\": [[0.0, \"#0d0887\"], [0.1111111111111111, \"#46039f\"], [0.2222222222222222, \"#7201a8\"], [0.3333333333333333, \"#9c179e\"], [0.4444444444444444, \"#bd3786\"], [0.5555555555555556, \"#d8576b\"], [0.6666666666666666, \"#ed7953\"], [0.7777777777777778, \"#fb9f3a\"], [0.8888888888888888, \"#fdca26\"], [1.0, \"#f0f921\"]], \"type\": \"histogram2d\"}], \"histogram2dcontour\": [{\"colorbar\": {\"outlinewidth\": 0, \"ticks\": \"\"}, \"colorscale\": [[0.0, \"#0d0887\"], [0.1111111111111111, \"#46039f\"], [0.2222222222222222, \"#7201a8\"], [0.3333333333333333, \"#9c179e\"], [0.4444444444444444, \"#bd3786\"], [0.5555555555555556, \"#d8576b\"], [0.6666666666666666, \"#ed7953\"], [0.7777777777777778, \"#fb9f3a\"], [0.8888888888888888, \"#fdca26\"], [1.0, \"#f0f921\"]], \"type\": \"histogram2dcontour\"}], \"mesh3d\": [{\"colorbar\": {\"outlinewidth\": 0, \"ticks\": \"\"}, \"type\": \"mesh3d\"}], \"parcoords\": [{\"line\": {\"colorbar\": {\"outlinewidth\": 0, \"ticks\": \"\"}}, \"type\": \"parcoords\"}], \"pie\": [{\"automargin\": true, \"type\": \"pie\"}], \"scatter\": [{\"marker\": {\"colorbar\": {\"outlinewidth\": 0, \"ticks\": \"\"}}, \"type\": \"scatter\"}], \"scatter3d\": [{\"line\": {\"colorbar\": {\"outlinewidth\": 0, \"ticks\": \"\"}}, \"marker\": {\"colorbar\": {\"outlinewidth\": 0, \"ticks\": \"\"}}, \"type\": \"scatter3d\"}], \"scattercarpet\": [{\"marker\": {\"colorbar\": {\"outlinewidth\": 0, \"ticks\": \"\"}}, \"type\": \"scattercarpet\"}], \"scattergeo\": [{\"marker\": {\"colorbar\": {\"outlinewidth\": 0, \"ticks\": \"\"}}, \"type\": \"scattergeo\"}], \"scattergl\": [{\"marker\": {\"colorbar\": {\"outlinewidth\": 0, \"ticks\": \"\"}}, \"type\": \"scattergl\"}], \"scattermapbox\": [{\"marker\": {\"colorbar\": {\"outlinewidth\": 0, \"ticks\": \"\"}}, \"type\": \"scattermapbox\"}], \"scatterpolar\": [{\"marker\": {\"colorbar\": {\"outlinewidth\": 0, \"ticks\": \"\"}}, \"type\": \"scatterpolar\"}], \"scatterpolargl\": [{\"marker\": {\"colorbar\": {\"outlinewidth\": 0, \"ticks\": \"\"}}, \"type\": \"scatterpolargl\"}], \"scatterternary\": [{\"marker\": {\"colorbar\": {\"outlinewidth\": 0, \"ticks\": \"\"}}, \"type\": \"scatterternary\"}], \"surface\": [{\"colorbar\": {\"outlinewidth\": 0, \"ticks\": \"\"}, \"colorscale\": [[0.0, \"#0d0887\"], [0.1111111111111111, \"#46039f\"], [0.2222222222222222, \"#7201a8\"], [0.3333333333333333, \"#9c179e\"], [0.4444444444444444, \"#bd3786\"], [0.5555555555555556, \"#d8576b\"], [0.6666666666666666, \"#ed7953\"], [0.7777777777777778, \"#fb9f3a\"], [0.8888888888888888, \"#fdca26\"], [1.0, \"#f0f921\"]], \"type\": \"surface\"}], \"table\": [{\"cells\": {\"fill\": {\"color\": \"#EBF0F8\"}, \"line\": {\"color\": \"white\"}}, \"header\": {\"fill\": {\"color\": \"#C8D4E3\"}, \"line\": {\"color\": \"white\"}}, \"type\": \"table\"}]}, \"layout\": {\"annotationdefaults\": {\"arrowcolor\": \"#2a3f5f\", \"arrowhead\": 0, \"arrowwidth\": 1}, \"coloraxis\": {\"colorbar\": {\"outlinewidth\": 0, \"ticks\": \"\"}}, \"colorscale\": {\"diverging\": [[0, \"#8e0152\"], [0.1, \"#c51b7d\"], [0.2, \"#de77ae\"], [0.3, \"#f1b6da\"], [0.4, \"#fde0ef\"], [0.5, \"#f7f7f7\"], [0.6, \"#e6f5d0\"], [0.7, \"#b8e186\"], [0.8, \"#7fbc41\"], [0.9, \"#4d9221\"], [1, \"#276419\"]], \"sequential\": [[0.0, \"#0d0887\"], [0.1111111111111111, \"#46039f\"], [0.2222222222222222, \"#7201a8\"], [0.3333333333333333, \"#9c179e\"], [0.4444444444444444, \"#bd3786\"], [0.5555555555555556, \"#d8576b\"], [0.6666666666666666, \"#ed7953\"], [0.7777777777777778, \"#fb9f3a\"], [0.8888888888888888, \"#fdca26\"], [1.0, \"#f0f921\"]], \"sequentialminus\": [[0.0, \"#0d0887\"], [0.1111111111111111, \"#46039f\"], [0.2222222222222222, \"#7201a8\"], [0.3333333333333333, \"#9c179e\"], [0.4444444444444444, \"#bd3786\"], [0.5555555555555556, \"#d8576b\"], [0.6666666666666666, \"#ed7953\"], [0.7777777777777778, \"#fb9f3a\"], [0.8888888888888888, \"#fdca26\"], [1.0, \"#f0f921\"]]}, \"colorway\": [\"#636efa\", \"#EF553B\", \"#00cc96\", \"#ab63fa\", \"#FFA15A\", \"#19d3f3\", \"#FF6692\", \"#B6E880\", \"#FF97FF\", \"#FECB52\"], \"font\": {\"color\": \"#2a3f5f\"}, \"geo\": {\"bgcolor\": \"white\", \"lakecolor\": \"white\", \"landcolor\": \"#E5ECF6\", \"showlakes\": true, \"showland\": true, \"subunitcolor\": \"white\"}, \"hoverlabel\": {\"align\": \"left\"}, \"hovermode\": \"closest\", \"mapbox\": {\"style\": \"light\"}, \"paper_bgcolor\": \"white\", \"plot_bgcolor\": \"#E5ECF6\", \"polar\": {\"angularaxis\": {\"gridcolor\": \"white\", \"linecolor\": \"white\", \"ticks\": \"\"}, \"bgcolor\": \"#E5ECF6\", \"radialaxis\": {\"gridcolor\": \"white\", \"linecolor\": \"white\", \"ticks\": \"\"}}, \"scene\": {\"xaxis\": {\"backgroundcolor\": \"#E5ECF6\", \"gridcolor\": \"white\", \"gridwidth\": 2, \"linecolor\": \"white\", \"showbackground\": true, \"ticks\": \"\", \"zerolinecolor\": \"white\"}, \"yaxis\": {\"backgroundcolor\": \"#E5ECF6\", \"gridcolor\": \"white\", \"gridwidth\": 2, \"linecolor\": \"white\", \"showbackground\": true, \"ticks\": \"\", \"zerolinecolor\": \"white\"}, \"zaxis\": {\"backgroundcolor\": \"#E5ECF6\", \"gridcolor\": \"white\", \"gridwidth\": 2, \"linecolor\": \"white\", \"showbackground\": true, \"ticks\": \"\", \"zerolinecolor\": \"white\"}}, \"shapedefaults\": {\"line\": {\"color\": \"#2a3f5f\"}}, \"ternary\": {\"aaxis\": {\"gridcolor\": \"white\", \"linecolor\": \"white\", \"ticks\": \"\"}, \"baxis\": {\"gridcolor\": \"white\", \"linecolor\": \"white\", \"ticks\": \"\"}, \"bgcolor\": \"#E5ECF6\", \"caxis\": {\"gridcolor\": \"white\", \"linecolor\": \"white\", \"ticks\": \"\"}}, \"title\": {\"x\": 0.05}, \"xaxis\": {\"automargin\": true, \"gridcolor\": \"white\", \"linecolor\": \"white\", \"ticks\": \"\", \"title\": {\"standoff\": 15}, \"zerolinecolor\": \"white\", \"zerolinewidth\": 2}, \"yaxis\": {\"automargin\": true, \"gridcolor\": \"white\", \"linecolor\": \"white\", \"ticks\": \"\", \"title\": {\"standoff\": 15}, \"zerolinecolor\": \"white\", \"zerolinewidth\": 2}}}, \"xaxis\": {\"anchor\": \"y\", \"domain\": [0.0, 0.18400000000000002], \"title\": {\"text\": \"x\"}}, \"xaxis2\": {\"anchor\": \"y2\", \"domain\": [0.20400000000000001, 0.388], \"matches\": \"x\", \"title\": {\"text\": \"x\"}}, \"xaxis3\": {\"anchor\": \"y3\", \"domain\": [0.40800000000000003, 0.5920000000000001], \"matches\": \"x\", \"title\": {\"text\": \"x\"}}, \"xaxis4\": {\"anchor\": \"y4\", \"domain\": [0.6120000000000001, 0.7960000000000002], \"matches\": \"x\", \"title\": {\"text\": \"x\"}}, \"xaxis5\": {\"anchor\": \"y5\", \"domain\": [0.8160000000000001, 1.0], \"matches\": \"x\", \"title\": {\"text\": \"x\"}}, \"yaxis\": {\"anchor\": \"x\", \"domain\": [0.0, 1.0], \"title\": {\"text\": \"y\"}}, \"yaxis2\": {\"anchor\": \"x2\", \"domain\": [0.0, 1.0], \"matches\": \"y\", \"showticklabels\": false}, \"yaxis3\": {\"anchor\": \"x3\", \"domain\": [0.0, 1.0], \"matches\": \"y\", \"showticklabels\": false}, \"yaxis4\": {\"anchor\": \"x4\", \"domain\": [0.0, 1.0], \"matches\": \"y\", \"showticklabels\": false}, \"yaxis5\": {\"anchor\": \"x5\", \"domain\": [0.0, 1.0], \"matches\": \"y\", \"showticklabels\": false}},\n",
              "                        {\"responsive\": true}\n",
              "                    ).then(function(){\n",
              "                            \n",
              "var gd = document.getElementById('13e41edf-f4c9-4e9f-801f-67830e82192f');\n",
              "var x = new MutationObserver(function (mutations, observer) {{\n",
              "        var display = window.getComputedStyle(gd).display;\n",
              "        if (!display || display === 'none') {{\n",
              "            console.log([gd, 'removed!']);\n",
              "            Plotly.purge(gd);\n",
              "            observer.disconnect();\n",
              "        }}\n",
              "}});\n",
              "\n",
              "// Listen for the removal of the full notebook cells\n",
              "var notebookContainer = gd.closest('#notebook-container');\n",
              "if (notebookContainer) {{\n",
              "    x.observe(notebookContainer, {childList: true});\n",
              "}}\n",
              "\n",
              "// Listen for the clearing of the current output cell\n",
              "var outputEl = gd.closest('.output');\n",
              "if (outputEl) {{\n",
              "    x.observe(outputEl, {childList: true});\n",
              "}}\n",
              "\n",
              "                        })\n",
              "                };\n",
              "                \n",
              "            </script>\n",
              "        </div>\n",
              "</body>\n",
              "</html>"
            ]
          },
          "metadata": {
            "tags": []
          }
        }
      ]
    },
    {
      "cell_type": "markdown",
      "metadata": {
        "id": "hldpiezDGTxp"
      },
      "source": [
        "#### Aggregated level"
      ]
    },
    {
      "cell_type": "code",
      "metadata": {
        "id": "eSvyuCrzDVyk"
      },
      "source": [
        "fig = px.box(df, x=\"variant\", y=\"travel_time\")\n",
        "fig.show()"
      ],
      "execution_count": null,
      "outputs": []
    },
    {
      "cell_type": "code",
      "metadata": {
        "id": "3F_bPj1fF70N",
        "colab": {
          "base_uri": "https://localhost:8080/",
          "height": 34
        },
        "outputId": "6d643c94-4d3e-45eb-990f-f3db09477e33"
      },
      "source": [
        "# Daily basket value significance check\n",
        "#df_avg.describe()\n",
        "stats.wilcoxon(tt_avg['Variation1'], tt_avg['Control'])"
      ],
      "execution_count": null,
      "outputs": [
        {
          "output_type": "execute_result",
          "data": {
            "text/plain": [
              "WilcoxonResult(statistic=38.0, pvalue=0.007065994730893274)"
            ]
          },
          "metadata": {
            "tags": []
          },
          "execution_count": 174
        }
      ]
    },
    {
      "cell_type": "code",
      "metadata": {
        "id": "QWAfeOk3GnIC",
        "colab": {
          "base_uri": "https://localhost:8080/",
          "height": 34
        },
        "outputId": "0e624a06-44c1-4aa4-fc83-5cf2e0ed506c"
      },
      "source": [
        "# Daily hourly basket value significance check\n",
        "tt_sig = df.pivot_table(\"travel_time\", index=[\"local_date\", \"hour_block\"], columns =\"variant\", aggfunc = \"mean\").reset_index()\n",
        "# one-tailed hypothesis, test is less than control\n",
        "stats.wilcoxon(tt_sig['Variation1'], tt_sig['Control']) "
      ],
      "execution_count": null,
      "outputs": [
        {
          "output_type": "execute_result",
          "data": {
            "text/plain": [
              "WilcoxonResult(statistic=15644.0, pvalue=0.019238182346056468)"
            ]
          },
          "metadata": {
            "tags": []
          },
          "execution_count": 175
        }
      ]
    },
    {
      "cell_type": "markdown",
      "metadata": {
        "id": "xiowUUVFIdNv"
      },
      "source": [
        "#### Stage level"
      ]
    },
    {
      "cell_type": "code",
      "metadata": {
        "id": "eA0vjviwItPQ",
        "colab": {
          "base_uri": "https://localhost:8080/",
          "height": 542
        },
        "outputId": "47675c20-7700-47df-cc0a-a05f49b5c5b0"
      },
      "source": [
        "pivot = df.pivot_table(\"tt\", index=[\"stage\",\"local_date\"], columns =\"variant\", aggfunc = \"mean\")\n",
        "pivot[\"delta\"] = pivot[\"Variation1\"]/pivot[\"Control\"]-1\n",
        "pivot['delta'] = pivot['delta'].astype(float).map(lambda n: '{:.2%}'.format(n))\n",
        "pivot = pivot.reset_index()\n",
        "pivot.head()\n",
        "\n",
        "fig = px.line(pivot, x=\"local_date\", y=\"delta\", color=\"stage\", text = \"delta\",category_orders={\"stage\": [\"price_easing\", \"default\", \"surge1\", \"surge_shrink1\", \"shrink2\"]})\n",
        "# Set x-axis title\n",
        "fig.update_xaxes(title_text=\"Date\")\n",
        "# Set y-axes titles\n",
        "fig.update_yaxes(title_text=\"delta (variation1 vs control)\", showgrid=False)\n",
        "fig.show()"
      ],
      "execution_count": null,
      "outputs": [
        {
          "output_type": "display_data",
          "data": {
            "text/html": [
              "<html>\n",
              "<head><meta charset=\"utf-8\" /></head>\n",
              "<body>\n",
              "    <div>\n",
              "            <script src=\"https://cdnjs.cloudflare.com/ajax/libs/mathjax/2.7.5/MathJax.js?config=TeX-AMS-MML_SVG\"></script><script type=\"text/javascript\">if (window.MathJax) {MathJax.Hub.Config({SVG: {font: \"STIX-Web\"}});}</script>\n",
              "                <script type=\"text/javascript\">window.PlotlyConfig = {MathJaxConfig: 'local'};</script>\n",
              "        <script src=\"https://cdn.plot.ly/plotly-latest.min.js\"></script>    \n",
              "            <div id=\"9f6833f7-2844-4b09-af17-e212fbc0ab97\" class=\"plotly-graph-div\" style=\"height:525px; width:100%;\"></div>\n",
              "            <script type=\"text/javascript\">\n",
              "                \n",
              "                    window.PLOTLYENV=window.PLOTLYENV || {};\n",
              "                    \n",
              "                if (document.getElementById(\"9f6833f7-2844-4b09-af17-e212fbc0ab97\")) {\n",
              "                    Plotly.newPlot(\n",
              "                        '9f6833f7-2844-4b09-af17-e212fbc0ab97',\n",
              "                        [{\"hoverlabel\": {\"namelength\": 0}, \"hovertemplate\": \"stage=price_easing<br>local_date=%{x}<br>delta=%{text}\", \"legendgroup\": \"stage=price_easing\", \"line\": {\"color\": \"#636efa\", \"dash\": \"solid\"}, \"mode\": \"lines+markers+text\", \"name\": \"stage=price_easing\", \"showlegend\": true, \"text\": [\"3.21%\", \"-22.00%\", \"48.42%\", \"-10.89%\", \"-7.59%\", \"8.09%\", \"-2.44%\", \"11.69%\", \"-19.13%\", \"-4.62%\", \"-1.94%\", \"9.20%\", \"-1.11%\", \"7.49%\", \"-10.26%\", \"20.28%\", \"-2.50%\", \"24.89%\", \"-3.59%\", \"-1.21%\", \"-2.20%\"], \"type\": \"scatter\", \"x\": [\"2020-09-04\", \"2020-09-05\", \"2020-09-06\", \"2020-09-07\", \"2020-09-08\", \"2020-09-09\", \"2020-09-10\", \"2020-09-11\", \"2020-09-12\", \"2020-09-13\", \"2020-09-14\", \"2020-09-15\", \"2020-09-16\", \"2020-09-17\", \"2020-09-18\", \"2020-09-19\", \"2020-09-20\", \"2020-09-21\", \"2020-09-22\", \"2020-09-23\", \"2020-09-24\"], \"xaxis\": \"x\", \"y\": [\"3.21%\", \"-22.00%\", \"48.42%\", \"-10.89%\", \"-7.59%\", \"8.09%\", \"-2.44%\", \"11.69%\", \"-19.13%\", \"-4.62%\", \"-1.94%\", \"9.20%\", \"-1.11%\", \"7.49%\", \"-10.26%\", \"20.28%\", \"-2.50%\", \"24.89%\", \"-3.59%\", \"-1.21%\", \"-2.20%\"], \"yaxis\": \"y\"}, {\"hoverlabel\": {\"namelength\": 0}, \"hovertemplate\": \"stage=default<br>local_date=%{x}<br>delta=%{text}\", \"legendgroup\": \"stage=default\", \"line\": {\"color\": \"#EF553B\", \"dash\": \"solid\"}, \"mode\": \"lines+markers+text\", \"name\": \"stage=default\", \"showlegend\": true, \"text\": [\"0.45%\", \"3.55%\", \"-1.73%\", \"0.11%\", \"0.83%\", \"0.62%\", \"4.06%\", \"0.32%\", \"3.03%\", \"-4.57%\", \"-3.23%\", \"-1.46%\", \"-1.82%\", \"-2.61%\", \"-1.27%\", \"-2.55%\", \"-1.54%\", \"3.83%\", \"-0.50%\", \"-0.18%\", \"-1.42%\"], \"type\": \"scatter\", \"x\": [\"2020-09-04\", \"2020-09-05\", \"2020-09-06\", \"2020-09-07\", \"2020-09-08\", \"2020-09-09\", \"2020-09-10\", \"2020-09-11\", \"2020-09-12\", \"2020-09-13\", \"2020-09-14\", \"2020-09-15\", \"2020-09-16\", \"2020-09-17\", \"2020-09-18\", \"2020-09-19\", \"2020-09-20\", \"2020-09-21\", \"2020-09-22\", \"2020-09-23\", \"2020-09-24\"], \"xaxis\": \"x\", \"y\": [\"0.45%\", \"3.55%\", \"-1.73%\", \"0.11%\", \"0.83%\", \"0.62%\", \"4.06%\", \"0.32%\", \"3.03%\", \"-4.57%\", \"-3.23%\", \"-1.46%\", \"-1.82%\", \"-2.61%\", \"-1.27%\", \"-2.55%\", \"-1.54%\", \"3.83%\", \"-0.50%\", \"-0.18%\", \"-1.42%\"], \"yaxis\": \"y\"}, {\"hoverlabel\": {\"namelength\": 0}, \"hovertemplate\": \"stage=surge1<br>local_date=%{x}<br>delta=%{text}\", \"legendgroup\": \"stage=surge1\", \"line\": {\"color\": \"#00cc96\", \"dash\": \"solid\"}, \"mode\": \"lines+markers+text\", \"name\": \"stage=surge1\", \"showlegend\": true, \"text\": [\"-3.43%\", \"-2.21%\", \"-2.23%\", \"-2.17%\", \"-3.19%\", \"-3.85%\", \"-1.91%\", \"3.40%\", \"-2.90%\", \"-5.77%\", \"-3.62%\", \"-7.94%\", \"-0.13%\", \"2.77%\", \"-3.91%\", \"-0.23%\", \"-2.01%\", \"-7.70%\", \"-28.28%\", \"-50.70%\", \"44.64%\"], \"type\": \"scatter\", \"x\": [\"2020-09-04\", \"2020-09-05\", \"2020-09-06\", \"2020-09-07\", \"2020-09-08\", \"2020-09-09\", \"2020-09-10\", \"2020-09-11\", \"2020-09-12\", \"2020-09-13\", \"2020-09-14\", \"2020-09-15\", \"2020-09-16\", \"2020-09-17\", \"2020-09-18\", \"2020-09-19\", \"2020-09-20\", \"2020-09-21\", \"2020-09-22\", \"2020-09-23\", \"2020-09-24\"], \"xaxis\": \"x\", \"y\": [\"-3.43%\", \"-2.21%\", \"-2.23%\", \"-2.17%\", \"-3.19%\", \"-3.85%\", \"-1.91%\", \"3.40%\", \"-2.90%\", \"-5.77%\", \"-3.62%\", \"-7.94%\", \"-0.13%\", \"2.77%\", \"-3.91%\", \"-0.23%\", \"-2.01%\", \"-7.70%\", \"-28.28%\", \"-50.70%\", \"44.64%\"], \"yaxis\": \"y\"}, {\"hoverlabel\": {\"namelength\": 0}, \"hovertemplate\": \"stage=surge_shrink1<br>local_date=%{x}<br>delta=%{text}\", \"legendgroup\": \"stage=surge_shrink1\", \"line\": {\"color\": \"#ab63fa\", \"dash\": \"solid\"}, \"mode\": \"lines+markers+text\", \"name\": \"stage=surge_shrink1\", \"showlegend\": true, \"text\": [\"7.81%\", \"2.73%\", \"-0.41%\", \"29.09%\", \"nan%\", \"nan%\", \"-0.27%\", \"11.34%\", \"-0.36%\", \"-3.51%\", \"nan%\", \"nan%\", \"13.51%\", \"9.17%\", \"12.88%\", \"nan%\"], \"type\": \"scatter\", \"x\": [\"2020-09-04\", \"2020-09-05\", \"2020-09-06\", \"2020-09-07\", \"2020-09-08\", \"2020-09-09\", \"2020-09-11\", \"2020-09-12\", \"2020-09-13\", \"2020-09-14\", \"2020-09-15\", \"2020-09-16\", \"2020-09-19\", \"2020-09-20\", \"2020-09-21\", \"2020-09-22\"], \"xaxis\": \"x\", \"y\": [\"7.81%\", \"2.73%\", \"-0.41%\", \"29.09%\", \"nan%\", \"nan%\", \"-0.27%\", \"11.34%\", \"-0.36%\", \"-3.51%\", \"nan%\", \"nan%\", \"13.51%\", \"9.17%\", \"12.88%\", \"nan%\"], \"yaxis\": \"y\"}, {\"hoverlabel\": {\"namelength\": 0}, \"hovertemplate\": \"stage=shrink2<br>local_date=%{x}<br>delta=%{text}\", \"legendgroup\": \"stage=shrink2\", \"line\": {\"color\": \"#FFA15A\", \"dash\": \"solid\"}, \"mode\": \"lines+markers+text\", \"name\": \"stage=shrink2\", \"showlegend\": true, \"text\": [\"8.33%\", \"-27.91%\", \"nan%\", \"330.00%\", \"2.43%\", \"nan%\"], \"type\": \"scatter\", \"x\": [\"2020-09-05\", \"2020-09-06\", \"2020-09-07\", \"2020-09-11\", \"2020-09-13\", \"2020-09-14\"], \"xaxis\": \"x\", \"y\": [\"8.33%\", \"-27.91%\", \"nan%\", \"330.00%\", \"2.43%\", \"nan%\"], \"yaxis\": \"y\"}],\n",
              "                        {\"legend\": {\"tracegroupgap\": 0}, \"margin\": {\"t\": 60}, \"template\": {\"data\": {\"bar\": [{\"error_x\": {\"color\": \"#2a3f5f\"}, \"error_y\": {\"color\": \"#2a3f5f\"}, \"marker\": {\"line\": {\"color\": \"#E5ECF6\", \"width\": 0.5}}, \"type\": \"bar\"}], \"barpolar\": [{\"marker\": {\"line\": {\"color\": \"#E5ECF6\", \"width\": 0.5}}, \"type\": \"barpolar\"}], \"carpet\": [{\"aaxis\": {\"endlinecolor\": \"#2a3f5f\", \"gridcolor\": \"white\", \"linecolor\": \"white\", \"minorgridcolor\": \"white\", \"startlinecolor\": \"#2a3f5f\"}, \"baxis\": {\"endlinecolor\": \"#2a3f5f\", \"gridcolor\": \"white\", \"linecolor\": \"white\", \"minorgridcolor\": \"white\", \"startlinecolor\": \"#2a3f5f\"}, \"type\": \"carpet\"}], \"choropleth\": [{\"colorbar\": {\"outlinewidth\": 0, \"ticks\": \"\"}, \"type\": \"choropleth\"}], \"contour\": [{\"colorbar\": {\"outlinewidth\": 0, \"ticks\": \"\"}, \"colorscale\": [[0.0, \"#0d0887\"], [0.1111111111111111, \"#46039f\"], [0.2222222222222222, \"#7201a8\"], [0.3333333333333333, \"#9c179e\"], [0.4444444444444444, \"#bd3786\"], [0.5555555555555556, \"#d8576b\"], [0.6666666666666666, \"#ed7953\"], [0.7777777777777778, \"#fb9f3a\"], [0.8888888888888888, \"#fdca26\"], [1.0, \"#f0f921\"]], \"type\": \"contour\"}], \"contourcarpet\": [{\"colorbar\": {\"outlinewidth\": 0, \"ticks\": \"\"}, \"type\": \"contourcarpet\"}], \"heatmap\": [{\"colorbar\": {\"outlinewidth\": 0, \"ticks\": \"\"}, \"colorscale\": [[0.0, \"#0d0887\"], [0.1111111111111111, \"#46039f\"], [0.2222222222222222, \"#7201a8\"], [0.3333333333333333, \"#9c179e\"], [0.4444444444444444, \"#bd3786\"], [0.5555555555555556, \"#d8576b\"], [0.6666666666666666, \"#ed7953\"], [0.7777777777777778, \"#fb9f3a\"], [0.8888888888888888, \"#fdca26\"], [1.0, \"#f0f921\"]], \"type\": \"heatmap\"}], \"heatmapgl\": [{\"colorbar\": {\"outlinewidth\": 0, \"ticks\": \"\"}, \"colorscale\": [[0.0, \"#0d0887\"], [0.1111111111111111, \"#46039f\"], [0.2222222222222222, \"#7201a8\"], [0.3333333333333333, \"#9c179e\"], [0.4444444444444444, \"#bd3786\"], [0.5555555555555556, \"#d8576b\"], [0.6666666666666666, \"#ed7953\"], [0.7777777777777778, \"#fb9f3a\"], [0.8888888888888888, \"#fdca26\"], [1.0, \"#f0f921\"]], \"type\": \"heatmapgl\"}], \"histogram\": [{\"marker\": {\"colorbar\": {\"outlinewidth\": 0, \"ticks\": \"\"}}, \"type\": \"histogram\"}], \"histogram2d\": [{\"colorbar\": {\"outlinewidth\": 0, \"ticks\": \"\"}, \"colorscale\": [[0.0, \"#0d0887\"], [0.1111111111111111, \"#46039f\"], [0.2222222222222222, \"#7201a8\"], [0.3333333333333333, \"#9c179e\"], [0.4444444444444444, \"#bd3786\"], [0.5555555555555556, \"#d8576b\"], [0.6666666666666666, \"#ed7953\"], [0.7777777777777778, \"#fb9f3a\"], [0.8888888888888888, \"#fdca26\"], [1.0, \"#f0f921\"]], \"type\": \"histogram2d\"}], \"histogram2dcontour\": [{\"colorbar\": {\"outlinewidth\": 0, \"ticks\": \"\"}, \"colorscale\": [[0.0, \"#0d0887\"], [0.1111111111111111, \"#46039f\"], [0.2222222222222222, \"#7201a8\"], [0.3333333333333333, \"#9c179e\"], [0.4444444444444444, \"#bd3786\"], [0.5555555555555556, \"#d8576b\"], [0.6666666666666666, \"#ed7953\"], [0.7777777777777778, \"#fb9f3a\"], [0.8888888888888888, \"#fdca26\"], [1.0, \"#f0f921\"]], \"type\": \"histogram2dcontour\"}], \"mesh3d\": [{\"colorbar\": {\"outlinewidth\": 0, \"ticks\": \"\"}, \"type\": \"mesh3d\"}], \"parcoords\": [{\"line\": {\"colorbar\": {\"outlinewidth\": 0, \"ticks\": \"\"}}, \"type\": \"parcoords\"}], \"pie\": [{\"automargin\": true, \"type\": \"pie\"}], \"scatter\": [{\"marker\": {\"colorbar\": {\"outlinewidth\": 0, \"ticks\": \"\"}}, \"type\": \"scatter\"}], \"scatter3d\": [{\"line\": {\"colorbar\": {\"outlinewidth\": 0, \"ticks\": \"\"}}, \"marker\": {\"colorbar\": {\"outlinewidth\": 0, \"ticks\": \"\"}}, \"type\": \"scatter3d\"}], \"scattercarpet\": [{\"marker\": {\"colorbar\": {\"outlinewidth\": 0, \"ticks\": \"\"}}, \"type\": \"scattercarpet\"}], \"scattergeo\": [{\"marker\": {\"colorbar\": {\"outlinewidth\": 0, \"ticks\": \"\"}}, \"type\": \"scattergeo\"}], \"scattergl\": [{\"marker\": {\"colorbar\": {\"outlinewidth\": 0, \"ticks\": \"\"}}, \"type\": \"scattergl\"}], \"scattermapbox\": [{\"marker\": {\"colorbar\": {\"outlinewidth\": 0, \"ticks\": \"\"}}, \"type\": \"scattermapbox\"}], \"scatterpolar\": [{\"marker\": {\"colorbar\": {\"outlinewidth\": 0, \"ticks\": \"\"}}, \"type\": \"scatterpolar\"}], \"scatterpolargl\": [{\"marker\": {\"colorbar\": {\"outlinewidth\": 0, \"ticks\": \"\"}}, \"type\": \"scatterpolargl\"}], \"scatterternary\": [{\"marker\": {\"colorbar\": {\"outlinewidth\": 0, \"ticks\": \"\"}}, \"type\": \"scatterternary\"}], \"surface\": [{\"colorbar\": {\"outlinewidth\": 0, \"ticks\": \"\"}, \"colorscale\": [[0.0, \"#0d0887\"], [0.1111111111111111, \"#46039f\"], [0.2222222222222222, \"#7201a8\"], [0.3333333333333333, \"#9c179e\"], [0.4444444444444444, \"#bd3786\"], [0.5555555555555556, \"#d8576b\"], [0.6666666666666666, \"#ed7953\"], [0.7777777777777778, \"#fb9f3a\"], [0.8888888888888888, \"#fdca26\"], [1.0, \"#f0f921\"]], \"type\": \"surface\"}], \"table\": [{\"cells\": {\"fill\": {\"color\": \"#EBF0F8\"}, \"line\": {\"color\": \"white\"}}, \"header\": {\"fill\": {\"color\": \"#C8D4E3\"}, \"line\": {\"color\": \"white\"}}, \"type\": \"table\"}]}, \"layout\": {\"annotationdefaults\": {\"arrowcolor\": \"#2a3f5f\", \"arrowhead\": 0, \"arrowwidth\": 1}, \"coloraxis\": {\"colorbar\": {\"outlinewidth\": 0, \"ticks\": \"\"}}, \"colorscale\": {\"diverging\": [[0, \"#8e0152\"], [0.1, \"#c51b7d\"], [0.2, \"#de77ae\"], [0.3, \"#f1b6da\"], [0.4, \"#fde0ef\"], [0.5, \"#f7f7f7\"], [0.6, \"#e6f5d0\"], [0.7, \"#b8e186\"], [0.8, \"#7fbc41\"], [0.9, \"#4d9221\"], [1, \"#276419\"]], \"sequential\": [[0.0, \"#0d0887\"], [0.1111111111111111, \"#46039f\"], [0.2222222222222222, \"#7201a8\"], [0.3333333333333333, \"#9c179e\"], [0.4444444444444444, \"#bd3786\"], [0.5555555555555556, \"#d8576b\"], [0.6666666666666666, \"#ed7953\"], [0.7777777777777778, \"#fb9f3a\"], [0.8888888888888888, \"#fdca26\"], [1.0, \"#f0f921\"]], \"sequentialminus\": [[0.0, \"#0d0887\"], [0.1111111111111111, \"#46039f\"], [0.2222222222222222, \"#7201a8\"], [0.3333333333333333, \"#9c179e\"], [0.4444444444444444, \"#bd3786\"], [0.5555555555555556, \"#d8576b\"], [0.6666666666666666, \"#ed7953\"], [0.7777777777777778, \"#fb9f3a\"], [0.8888888888888888, \"#fdca26\"], [1.0, \"#f0f921\"]]}, \"colorway\": [\"#636efa\", \"#EF553B\", \"#00cc96\", \"#ab63fa\", \"#FFA15A\", \"#19d3f3\", \"#FF6692\", \"#B6E880\", \"#FF97FF\", \"#FECB52\"], \"font\": {\"color\": \"#2a3f5f\"}, \"geo\": {\"bgcolor\": \"white\", \"lakecolor\": \"white\", \"landcolor\": \"#E5ECF6\", \"showlakes\": true, \"showland\": true, \"subunitcolor\": \"white\"}, \"hoverlabel\": {\"align\": \"left\"}, \"hovermode\": \"closest\", \"mapbox\": {\"style\": \"light\"}, \"paper_bgcolor\": \"white\", \"plot_bgcolor\": \"#E5ECF6\", \"polar\": {\"angularaxis\": {\"gridcolor\": \"white\", \"linecolor\": \"white\", \"ticks\": \"\"}, \"bgcolor\": \"#E5ECF6\", \"radialaxis\": {\"gridcolor\": \"white\", \"linecolor\": \"white\", \"ticks\": \"\"}}, \"scene\": {\"xaxis\": {\"backgroundcolor\": \"#E5ECF6\", \"gridcolor\": \"white\", \"gridwidth\": 2, \"linecolor\": \"white\", \"showbackground\": true, \"ticks\": \"\", \"zerolinecolor\": \"white\"}, \"yaxis\": {\"backgroundcolor\": \"#E5ECF6\", \"gridcolor\": \"white\", \"gridwidth\": 2, \"linecolor\": \"white\", \"showbackground\": true, \"ticks\": \"\", \"zerolinecolor\": \"white\"}, \"zaxis\": {\"backgroundcolor\": \"#E5ECF6\", \"gridcolor\": \"white\", \"gridwidth\": 2, \"linecolor\": \"white\", \"showbackground\": true, \"ticks\": \"\", \"zerolinecolor\": \"white\"}}, \"shapedefaults\": {\"line\": {\"color\": \"#2a3f5f\"}}, \"ternary\": {\"aaxis\": {\"gridcolor\": \"white\", \"linecolor\": \"white\", \"ticks\": \"\"}, \"baxis\": {\"gridcolor\": \"white\", \"linecolor\": \"white\", \"ticks\": \"\"}, \"bgcolor\": \"#E5ECF6\", \"caxis\": {\"gridcolor\": \"white\", \"linecolor\": \"white\", \"ticks\": \"\"}}, \"title\": {\"x\": 0.05}, \"xaxis\": {\"automargin\": true, \"gridcolor\": \"white\", \"linecolor\": \"white\", \"ticks\": \"\", \"title\": {\"standoff\": 15}, \"zerolinecolor\": \"white\", \"zerolinewidth\": 2}, \"yaxis\": {\"automargin\": true, \"gridcolor\": \"white\", \"linecolor\": \"white\", \"ticks\": \"\", \"title\": {\"standoff\": 15}, \"zerolinecolor\": \"white\", \"zerolinewidth\": 2}}}, \"xaxis\": {\"anchor\": \"y\", \"domain\": [0.0, 1.0], \"title\": {\"text\": \"Date\"}}, \"yaxis\": {\"anchor\": \"x\", \"domain\": [0.0, 1.0], \"showgrid\": false, \"title\": {\"text\": \"delta (variation1 vs control)\"}}},\n",
              "                        {\"responsive\": true}\n",
              "                    ).then(function(){\n",
              "                            \n",
              "var gd = document.getElementById('9f6833f7-2844-4b09-af17-e212fbc0ab97');\n",
              "var x = new MutationObserver(function (mutations, observer) {{\n",
              "        var display = window.getComputedStyle(gd).display;\n",
              "        if (!display || display === 'none') {{\n",
              "            console.log([gd, 'removed!']);\n",
              "            Plotly.purge(gd);\n",
              "            observer.disconnect();\n",
              "        }}\n",
              "}});\n",
              "\n",
              "// Listen for the removal of the full notebook cells\n",
              "var notebookContainer = gd.closest('#notebook-container');\n",
              "if (notebookContainer) {{\n",
              "    x.observe(notebookContainer, {childList: true});\n",
              "}}\n",
              "\n",
              "// Listen for the clearing of the current output cell\n",
              "var outputEl = gd.closest('.output');\n",
              "if (outputEl) {{\n",
              "    x.observe(outputEl, {childList: true});\n",
              "}}\n",
              "\n",
              "                        })\n",
              "                };\n",
              "                \n",
              "            </script>\n",
              "        </div>\n",
              "</body>\n",
              "</html>"
            ]
          },
          "metadata": {
            "tags": []
          }
        }
      ]
    },
    {
      "cell_type": "code",
      "metadata": {
        "id": "h6ayT2iNC4Wz"
      },
      "source": [
        "#subset = df[df.gfv_eur<50]\n",
        "fig = px.box(df, x=\"stage\", y=\"travel_time\", color = \"variant\")\n",
        "fig.show()"
      ],
      "execution_count": null,
      "outputs": []
    },
    {
      "cell_type": "code",
      "metadata": {
        "id": "dCWOY2wQI2ZD",
        "colab": {
          "base_uri": "https://localhost:8080/",
          "height": 197
        },
        "outputId": "b1904dbe-bfad-4c47-e945-7d79fe5de665"
      },
      "source": [
        "# create empty array list\n",
        "rows_list = []\n",
        "\n",
        "# loop the data for each zone and each stage\n",
        "for zone_name in zone_names:\n",
        "  for stage in stages:\n",
        "    zone_data = df_data[(df_data[\"zone_name\"] == zone_name) & (df_data[\"stage\"] == stage)] #filter relevant zone and stage for each loop\n",
        "    zone_data = zone_data.fillna(0)\n",
        "    mean_control = round(zone_data[\"tt_control\"].sum()/zone_data[\"order_control\"].sum(),2)\n",
        "    mean_variation1 = round(zone_data[\"tt_variation1\"].sum()/zone_data[\"order_variation1\"].sum(),2)\n",
        "    std_control = round(zone_data[\"avg_tt_control\"].std(),2)\n",
        "    std_variation1 = round(zone_data[\"avg_tt_variation1\"].std(),2)\n",
        "    cor_control_variation1 = round(zone_data[\"avg_tt_control\"].corr(zone_data[\"avg_gfv_variation1\"]),2)\n",
        "    sample_size_control = zone_data[\"order_control\"].sum()\n",
        "    sample_size_variation1 = zone_data[\"order_variation1\"].sum()\n",
        "    sample_size_total = sample_size_control + sample_size_variation1\n",
        "    #sig_control_variation1_twoside = round(stats.wilcoxon(zone_agg['Variation1'], zone_agg['Control'])[1],2)\n",
        "    sig_control_variation1_oneside = round(stats.wilcoxon(zone_data['avg_gfv_variation1'], zone_data['avg_gfv_control']) [1]/2,2)\n",
        "    rows_list.append([zone_name, stage, mean_control, mean_variation1, std_control, std_variation1, cor_control_variation1, sample_size_control, sample_size_variation1, sample_size_total, sig_control_variation1_oneside])\n",
        "\n",
        "# load data into dataframe\n",
        "result = pd.DataFrame(rows_list, columns=['zone_name','stage','mean_control','mean_variation','std_control', 'std_variation', 'correlation', 'size_control', 'size_variation', 'size_total', 'p-value'])\n",
        "# add two columns to data frame\n",
        "result[\"significance\"] = result[\"p-value\"]<=0.05\n",
        "result[\"delta\"] = round(result[\"mean_variation\"]/result[\"mean_control\"]-1,2)\n",
        "result\n",
        "\n",
        "#https://stackoverflow.com/questions/10715965/add-one-row-to-pandas-dataframe"
      ],
      "execution_count": null,
      "outputs": [
        {
          "output_type": "execute_result",
          "data": {
            "text/html": [
              "<div>\n",
              "<style scoped>\n",
              "    .dataframe tbody tr th:only-of-type {\n",
              "        vertical-align: middle;\n",
              "    }\n",
              "\n",
              "    .dataframe tbody tr th {\n",
              "        vertical-align: top;\n",
              "    }\n",
              "\n",
              "    .dataframe thead th {\n",
              "        text-align: right;\n",
              "    }\n",
              "</style>\n",
              "<table border=\"1\" class=\"dataframe\">\n",
              "  <thead>\n",
              "    <tr style=\"text-align: right;\">\n",
              "      <th></th>\n",
              "      <th>zone_name</th>\n",
              "      <th>stage</th>\n",
              "      <th>mean_control</th>\n",
              "      <th>mean_variation</th>\n",
              "      <th>std_control</th>\n",
              "      <th>std_variation</th>\n",
              "      <th>correlation</th>\n",
              "      <th>size_control</th>\n",
              "      <th>size_variation</th>\n",
              "      <th>size_total</th>\n",
              "      <th>p-value</th>\n",
              "      <th>significance</th>\n",
              "      <th>delta</th>\n",
              "    </tr>\n",
              "  </thead>\n",
              "  <tbody>\n",
              "    <tr>\n",
              "      <th>0</th>\n",
              "      <td>Far_east</td>\n",
              "      <td>price_easing</td>\n",
              "      <td>7.02</td>\n",
              "      <td>6.90</td>\n",
              "      <td>2.98</td>\n",
              "      <td>3.05</td>\n",
              "      <td>0.01</td>\n",
              "      <td>2709.0</td>\n",
              "      <td>2904.0</td>\n",
              "      <td>5613.0</td>\n",
              "      <td>0.16</td>\n",
              "      <td>False</td>\n",
              "      <td>-0.02</td>\n",
              "    </tr>\n",
              "    <tr>\n",
              "      <th>1</th>\n",
              "      <td>Far_east</td>\n",
              "      <td>default</td>\n",
              "      <td>6.86</td>\n",
              "      <td>6.83</td>\n",
              "      <td>1.81</td>\n",
              "      <td>1.83</td>\n",
              "      <td>-0.23</td>\n",
              "      <td>40057.0</td>\n",
              "      <td>40354.0</td>\n",
              "      <td>80411.0</td>\n",
              "      <td>0.27</td>\n",
              "      <td>False</td>\n",
              "      <td>-0.00</td>\n",
              "    </tr>\n",
              "    <tr>\n",
              "      <th>2</th>\n",
              "      <td>Far_east</td>\n",
              "      <td>surge1</td>\n",
              "      <td>6.74</td>\n",
              "      <td>6.55</td>\n",
              "      <td>3.08</td>\n",
              "      <td>2.33</td>\n",
              "      <td>-0.02</td>\n",
              "      <td>18732.0</td>\n",
              "      <td>17504.0</td>\n",
              "      <td>36236.0</td>\n",
              "      <td>0.09</td>\n",
              "      <td>False</td>\n",
              "      <td>-0.03</td>\n",
              "    </tr>\n",
              "    <tr>\n",
              "      <th>3</th>\n",
              "      <td>Far_east</td>\n",
              "      <td>surge_shrink1</td>\n",
              "      <td>5.70</td>\n",
              "      <td>5.82</td>\n",
              "      <td>2.66</td>\n",
              "      <td>3.88</td>\n",
              "      <td>0.14</td>\n",
              "      <td>3905.0</td>\n",
              "      <td>3406.0</td>\n",
              "      <td>7311.0</td>\n",
              "      <td>0.10</td>\n",
              "      <td>False</td>\n",
              "      <td>0.02</td>\n",
              "    </tr>\n",
              "    <tr>\n",
              "      <th>4</th>\n",
              "      <td>Far_east</td>\n",
              "      <td>shrink2</td>\n",
              "      <td>4.90</td>\n",
              "      <td>5.03</td>\n",
              "      <td>4.05</td>\n",
              "      <td>2.46</td>\n",
              "      <td>-0.35</td>\n",
              "      <td>810.0</td>\n",
              "      <td>708.0</td>\n",
              "      <td>1518.0</td>\n",
              "      <td>0.18</td>\n",
              "      <td>False</td>\n",
              "      <td>0.03</td>\n",
              "    </tr>\n",
              "  </tbody>\n",
              "</table>\n",
              "</div>"
            ],
            "text/plain": [
              "  zone_name          stage  mean_control  ...  p-value  significance  delta\n",
              "0  Far_east   price_easing          7.02  ...     0.16         False  -0.02\n",
              "1  Far_east        default          6.86  ...     0.27         False  -0.00\n",
              "2  Far_east         surge1          6.74  ...     0.09         False  -0.03\n",
              "3  Far_east  surge_shrink1          5.70  ...     0.10         False   0.02\n",
              "4  Far_east        shrink2          4.90  ...     0.18         False   0.03\n",
              "\n",
              "[5 rows x 13 columns]"
            ]
          },
          "metadata": {
            "tags": []
          },
          "execution_count": 178
        }
      ]
    },
    {
      "cell_type": "markdown",
      "metadata": {
        "id": "Aw89ahAAGdmN"
      },
      "source": [
        "# Pre/Post Analysis"
      ]
    },
    {
      "cell_type": "code",
      "metadata": {
        "id": "1uK17njDM30m",
        "colab": {
          "base_uri": "https://localhost:8080/",
          "height": 106
        },
        "outputId": "5528ac47-027d-4ad9-eea3-72c031ca6e78"
      },
      "source": [
        "'''\n",
        "query3 = \"\"\"\n",
        "\n",
        "SELECT \n",
        "DATETIME(o.created_at, o.timezone) as local_time\n",
        ", o.platform_order_code\n",
        ", t.variant\n",
        ", vendor.vendor_code\n",
        ", o.zone_id as zone_id\n",
        ", st_distance(vendor.location,customer.location)*4.51650006498/1000 as travel_time\n",
        ", CASE \n",
        "    WHEN cast(DATETIME(o.created_at, o.timezone) as date) < \\\"\"\"\" + start_date + \"\"\"\\\" THEN 'before_test'\n",
        "    ELSE 'during_test'\n",
        "  END\n",
        "  AS period\n",
        ", pa.gfv_eur\n",
        ", voucher_type\n",
        ", voucher_value_local\n",
        ", discount_type\n",
        ", discount_value_local\n",
        ", pa.delivery_fee_original_local df_origin\n",
        ", pa.delivery_fee_local df_final\n",
        "FROM fulfillment-dwh-production.cl.orders o\n",
        "left join unnest(deliveries) d\n",
        "left join unnest(porygon) p\n",
        "left join unnest(d.timings) t\n",
        "left join `dhh---analytics-apac.pandata.fct_orders` pa on o.platform_order_code = pa.order_code_google and lower(o.country_code) = lower(pa.country_iso_code)\n",
        "left join fulfillment-dwh-production.cl._dps_sessions_mapped_to_orders t on o.platform_order_code = t.platform_order_code and t.entity_id = o.entity.id\n",
        "WHERE created_date_local between \\\"\"\"\" + pre_date + \"\"\"\\\"  and \\\"\"\"\" + end_date + \"\"\"\\\"\n",
        "and o.entity.id = \\\"\"\"\" + entity_id + \"\"\"\\\"\n",
        "and lower(pa.country_iso_code) = \\\"\"\"\" + country_code + \"\"\"\\\"\n",
        "and is_valid_order\n",
        "and o.order_status = 'completed'\n",
        "and d.delivery_status = 'completed'\n",
        "and p.vehicle_profile = 'default'\n",
        "and o.zone_id in (\"\"\" + zone_id + \"\"\")\n",
        "group by 1,2,3,4,5,6,7,8,9,10,11,12,13,14\n",
        "\n",
        "    \"\"\"\n",
        "\n",
        "pp = client.query(query3).to_dataframe()\n",
        "\n",
        "'''"
      ],
      "execution_count": null,
      "outputs": [
        {
          "output_type": "execute_result",
          "data": {
            "application/vnd.google.colaboratory.intrinsic+json": {
              "type": "string"
            },
            "text/plain": [
              "'\\nquery3 = \"\"\"\\n\\nSELECT \\nDATETIME(o.created_at, o.timezone) as local_time\\n, o.platform_order_code\\n, t.variant\\n, vendor.vendor_code\\n, o.zone_id as zone_id\\n, st_distance(vendor.location,customer.location)*4.51650006498/1000 as travel_time\\n, CASE \\n    WHEN cast(DATETIME(o.created_at, o.timezone) as date) < \"\"\"\" + start_date + \"\"\"\" THEN \\'before_test\\'\\n    ELSE \\'during_test\\'\\n  END\\n  AS period\\n, pa.gfv_eur\\n, voucher_type\\n, voucher_value_local\\n, discount_type\\n, discount_value_local\\n, pa.delivery_fee_original_local df_origin\\n, pa.delivery_fee_local df_final\\nFROM fulfillment-dwh-production.cl.orders o\\nleft join unnest(deliveries) d\\nleft join unnest(porygon) p\\nleft join unnest(d.timings) t\\nleft join `dhh---analytics-apac.pandata.fct_orders` pa on o.platform_order_code = pa.order_code_google and lower(o.country_code) = lower(pa.country_iso_code)\\nleft join fulfillment-dwh-production.cl._dps_sessions_mapped_to_orders t on o.platform_order_code = t.platform_order_code and t.entity_id = o.entity.id\\nWHERE created_date_local between \"\"\"\" + pre_date + \"\"\"\"  and \"\"\"\" + end_date + \"\"\"\"\\nand o.entity.id = \"\"\"\" + entity_id + \"\"\"\"\\nand lower(pa.country_iso_code) = \"\"\"\" + country_code + \"\"\"\"\\nand is_valid_order\\nand o.order_status = \\'completed\\'\\nand d.delivery_status = \\'completed\\'\\nand p.vehicle_profile = \\'default\\'\\nand o.zone_id in (\"\"\" + zone_id + \"\"\")\\ngroup by 1,2,3,4,5,6,7,8,9,10,11,12,13,14\\n\\n    \"\"\"\\n\\npp = client.query(query3).to_dataframe()\\n\\n'"
            ]
          },
          "metadata": {
            "tags": []
          },
          "execution_count": 11
        }
      ]
    },
    {
      "cell_type": "code",
      "metadata": {
        "id": "JQ4pfKwDwY7G"
      },
      "source": [
        "query = \"\"\"\n",
        "\n",
        "select\n",
        "zone_name\n",
        ", zone_id\n",
        ", vertical_type\n",
        ", operating_system\n",
        ", DATETIME(created_at, timezone) as local_time\n",
        ", vendor_code\n",
        ", platform_order_code\n",
        ", platform_order_code_ga\n",
        ", variant\n",
        ", dps_delivery_fee\n",
        ", dps_surge_fee\n",
        ", dps_travel_time\n",
        ", gmv_eur\n",
        ", gfv_eur\n",
        ", delivery_fee_eur\n",
        ", delivery_fee_local_accounting\n",
        ", travel_time_distance_km\n",
        ", delay\n",
        ", mean_delay\n",
        ", travel_time\n",
        ", to_customer_time\n",
        ", to_vendor_time\n",
        ", delivery_distance\n",
        ", actual_delivery_time\n",
        ", order_delay_mins\n",
        "from cl._dps_sessions_mapped_to_orders\n",
        "where entity_id = \\\"\"\"\" + entity_id + \"\"\"\\\"\n",
        "#and zone_id in (\"\"\" + zone_id + \"\"\")\n",
        "#and zone_id is not null\n",
        "and cast(DATETIME(created_at, timezone) as date) between \\\"\"\"\" + pre_date + \"\"\"\\\"  and \\\"\"\"\" + end_date + \"\"\"\\\"\n",
        "group by 1,2,3,4,5,6,7,8,9,10,11,12,13,14,15,16,17,18,19,20,21,22,23,24,25\n",
        "    \"\"\"\n",
        "\n",
        "pp = client.query(query).to_dataframe()"
      ],
      "execution_count": null,
      "outputs": []
    },
    {
      "cell_type": "code",
      "metadata": {
        "id": "cEh-gNtjPKJ6"
      },
      "source": [
        "# clean the data for work \n",
        "# 1. define local date\n",
        "pp[\"local_date\"] = pp.local_time.dt.date\n",
        "# define time interval\n",
        "pp[\"new_time\"] = ceil_dt((pp['local_time'].dt.to_pydatetime()), timedelta(minutes=30))\n",
        "pp[\"new_time\"] = pp['new_time'].dt.time\n",
        "#pp.loc[pp.new_time <= time(hour=8, minute=0, second=0), 'new_time'] = time(hour=8, minute=0, second=0)\n",
        "\n",
        "# define pre-post & variant\n",
        "pp[\"period_variant\"] = pp[\"variant\"]\n",
        "pp.loc[pp.local_date < date(year=2020, month=9, day=4) , 'period_variant'] = \"before_test\"\n",
        "pp.loc[(pp.variant == \"Control\") & (pp.local_date >= date(year=2020, month=9, day=4)) , 'period_variant'] = \"during_test_control\"\n",
        "pp.loc[(pp.variant == \"Variation1\") & (pp.local_date >= date(year=2020, month=9, day=4)) , 'period_variant'] = \"during_test_variation\"\n",
        "\n",
        "# define period\n",
        "pp[\"period\"] = pp[\"local_date\"]\n",
        "pp.loc[pp.local_date < date(year=2020, month=9, day=4) , 'period'] = \"before_test\"\n",
        "pp.loc[pp.local_date >= date(year=2020, month=9, day=4), 'period'] = \"during_test\"\n",
        "\n",
        "# define zone group\n",
        "pp[\"zone_group\"] = pp[\"zone_name\"] \n",
        "pp.loc[pp.zone_name == \"Far_east\", 'zone_group'] = \"Far_east\"\n",
        "pp.loc[pp.zone_name == \"Bedok\", 'zone_group'] = \"Bedok\"\n",
        "pp.loc[(pp.zone_name != \"Bedok\") & (pp.zone_name != \"Far_east\") , 'zone_group'] = \"other_zones\"\n",
        "\n",
        "pp[\"tt\"] = pp[\"travel_time\"].round(1)\n",
        "\n",
        "#only use test zone 3 Far East\n",
        "pp3 = pp[pp.zone_id == 3]\n",
        "#delete certain rows with \"Original\"\n",
        "pp3 = pp3[pp3.period_variant != \"Original\"]\n",
        "\n",
        "#not Far East, not Bedok\n",
        "pp_other = pp[(pp.zone_id != 3) & (pp.zone_id != 36)]"
      ],
      "execution_count": null,
      "outputs": []
    },
    {
      "cell_type": "code",
      "metadata": {
        "id": "0awK-dnp2Yk8"
      },
      "source": [
        "\n",
        "\n"
      ],
      "execution_count": null,
      "outputs": []
    },
    {
      "cell_type": "markdown",
      "metadata": {
        "id": "s2AbFdFtirI3"
      },
      "source": [
        "## Deep Analysis"
      ]
    },
    {
      "cell_type": "code",
      "metadata": {
        "id": "ICSp0x2ax4vv",
        "colab": {
          "base_uri": "https://localhost:8080/",
          "height": 107
        },
        "outputId": "d7baea0f-9b46-4f4d-a7a2-5248818195cf"
      },
      "source": [
        "# Summary\n",
        "pp = pp.fillna(0)\n",
        "pp = pp[pp.zone_group != \"Bedok\"]\n",
        "sum = pd.pivot_table(pp,values = [\"dps_delivery_fee\",\"platform_order_code_ga\", \"gfv_eur\",\"tt\"], index = [\"zone_group\"], columns = \"period\", \n",
        "                     aggfunc = {'dps_delivery_fee' : 'mean', 'platform_order_code_ga' : 'count', 'gfv_eur' : 'mean', 'tt':'mean'}).reset_index()\n",
        "sum.rename(columns={'dps_delivery_fee': 'avg_df', 'platform_order_code_ga': 'order', 'gfv_eur':'avg_gfv', 'tt':'avg_tt'}, inplace=True)\n",
        "#sum.columns.get_level_values(1)\n",
        "sum.columns = ['_'.join(col).strip() for col in sum.columns.values]\n",
        "sum.rename(columns={'zone_group_': 'zone_group'}, inplace=True)\n",
        "sum[\"df_delta\"] = sum[\"avg_df_during_test\"]/sum[\"avg_df_before_test\"]-1\n",
        "sum[\"gfv_delta\"] = sum[\"avg_gfv_during_test\"]/sum[\"avg_gfv_before_test\"]-1\n",
        "sum[\"order_delta\"] = sum[\"order_during_test\"]/sum[\"order_before_test\"]-1\n",
        "sum[\"tt_delta\"] = sum[\"avg_tt_during_test\"]/sum[\"avg_tt_before_test\"]-1\n",
        "sum['df_delta'] = sum['df_delta'].astype(float).map(lambda n: '{:.2%}'.format(n))\n",
        "sum['gfv_delta'] = sum['gfv_delta'].astype(float).map(lambda n: '{:.2%}'.format(n))\n",
        "sum['order_delta'] = sum['order_delta'].astype(float).map(lambda n: '{:.2%}'.format(n))\n",
        "sum['tt_delta'] = sum['tt_delta'].astype(float).map(lambda n: '{:.2%}'.format(n))\n",
        "sum"
      ],
      "execution_count": null,
      "outputs": [
        {
          "output_type": "execute_result",
          "data": {
            "text/html": [
              "<div>\n",
              "<style scoped>\n",
              "    .dataframe tbody tr th:only-of-type {\n",
              "        vertical-align: middle;\n",
              "    }\n",
              "\n",
              "    .dataframe tbody tr th {\n",
              "        vertical-align: top;\n",
              "    }\n",
              "\n",
              "    .dataframe thead th {\n",
              "        text-align: right;\n",
              "    }\n",
              "</style>\n",
              "<table border=\"1\" class=\"dataframe\">\n",
              "  <thead>\n",
              "    <tr style=\"text-align: right;\">\n",
              "      <th></th>\n",
              "      <th>zone_group</th>\n",
              "      <th>avg_df_before_test</th>\n",
              "      <th>avg_df_during_test</th>\n",
              "      <th>avg_gfv_before_test</th>\n",
              "      <th>avg_gfv_during_test</th>\n",
              "      <th>order_before_test</th>\n",
              "      <th>order_during_test</th>\n",
              "      <th>avg_tt_before_test</th>\n",
              "      <th>avg_tt_during_test</th>\n",
              "      <th>df_delta</th>\n",
              "      <th>gfv_delta</th>\n",
              "      <th>order_delta</th>\n",
              "      <th>tt_delta</th>\n",
              "    </tr>\n",
              "  </thead>\n",
              "  <tbody>\n",
              "    <tr>\n",
              "      <th>0</th>\n",
              "      <td>Far_east</td>\n",
              "      <td>2.710258</td>\n",
              "      <td>2.947733</td>\n",
              "      <td>10.558456</td>\n",
              "      <td>10.913600</td>\n",
              "      <td>161117</td>\n",
              "      <td>155265</td>\n",
              "      <td>6.948094</td>\n",
              "      <td>6.716036</td>\n",
              "      <td>8.76%</td>\n",
              "      <td>3.36%</td>\n",
              "      <td>-3.63%</td>\n",
              "      <td>-3.34%</td>\n",
              "    </tr>\n",
              "    <tr>\n",
              "      <th>1</th>\n",
              "      <td>other_zones</td>\n",
              "      <td>2.631776</td>\n",
              "      <td>2.697803</td>\n",
              "      <td>10.349022</td>\n",
              "      <td>10.815406</td>\n",
              "      <td>1358517</td>\n",
              "      <td>1345616</td>\n",
              "      <td>5.879755</td>\n",
              "      <td>5.889682</td>\n",
              "      <td>2.51%</td>\n",
              "      <td>4.51%</td>\n",
              "      <td>-0.95%</td>\n",
              "      <td>0.17%</td>\n",
              "    </tr>\n",
              "  </tbody>\n",
              "</table>\n",
              "</div>"
            ],
            "text/plain": [
              "    zone_group  avg_df_before_test  ...  order_delta  tt_delta\n",
              "0     Far_east            2.710258  ...       -3.63%    -3.34%\n",
              "1  other_zones            2.631776  ...       -0.95%     0.17%\n",
              "\n",
              "[2 rows x 13 columns]"
            ]
          },
          "metadata": {
            "tags": []
          },
          "execution_count": 103
        }
      ]
    },
    {
      "cell_type": "code",
      "metadata": {
        "id": "y_8UPyFpVfLz",
        "colab": {
          "base_uri": "https://localhost:8080/",
          "height": 167
        },
        "outputId": "f9af7c42-0908-4b31-8c40-0b45cc8958b1"
      },
      "source": [
        "# Summary\n",
        "pp_gaorder = pp[pp.platform_order_code_ga != 0]\n",
        "pp_gaorder = pp_gaorder[pp_gaorder.vertical_type == \"restaurants\"]\n",
        "sum_ga = pd.pivot_table(pp_gaorder,values = [\"dps_delivery_fee\",\"platform_order_code_ga\", \"gfv_eur\",\"tt\"], index = [\"zone_group\"], columns = \"period\", \n",
        "                     aggfunc = {'dps_delivery_fee' : 'sum', 'platform_order_code_ga' : 'count', 'gfv_eur' : 'sum', 'tt':'sum'}).reset_index()\n",
        "sum_ga\n"
      ],
      "execution_count": null,
      "outputs": [
        {
          "output_type": "execute_result",
          "data": {
            "text/html": [
              "<div>\n",
              "<style scoped>\n",
              "    .dataframe tbody tr th:only-of-type {\n",
              "        vertical-align: middle;\n",
              "    }\n",
              "\n",
              "    .dataframe tbody tr th {\n",
              "        vertical-align: top;\n",
              "    }\n",
              "\n",
              "    .dataframe thead tr th {\n",
              "        text-align: left;\n",
              "    }\n",
              "</style>\n",
              "<table border=\"1\" class=\"dataframe\">\n",
              "  <thead>\n",
              "    <tr>\n",
              "      <th></th>\n",
              "      <th>zone_group</th>\n",
              "      <th colspan=\"2\" halign=\"left\">dps_delivery_fee</th>\n",
              "      <th colspan=\"2\" halign=\"left\">gfv_eur</th>\n",
              "      <th colspan=\"2\" halign=\"left\">platform_order_code_ga</th>\n",
              "      <th colspan=\"2\" halign=\"left\">tt</th>\n",
              "    </tr>\n",
              "    <tr>\n",
              "      <th>period</th>\n",
              "      <th></th>\n",
              "      <th>before_test</th>\n",
              "      <th>during_test</th>\n",
              "      <th>before_test</th>\n",
              "      <th>during_test</th>\n",
              "      <th>before_test</th>\n",
              "      <th>during_test</th>\n",
              "      <th>before_test</th>\n",
              "      <th>during_test</th>\n",
              "    </tr>\n",
              "  </thead>\n",
              "  <tbody>\n",
              "    <tr>\n",
              "      <th>0</th>\n",
              "      <td>Bedok</td>\n",
              "      <td>1.519424e+05</td>\n",
              "      <td>1.585817e+05</td>\n",
              "      <td>5.236602e+05</td>\n",
              "      <td>5.355234e+05</td>\n",
              "      <td>44938</td>\n",
              "      <td>45329</td>\n",
              "      <td>221613.6</td>\n",
              "      <td>222489.0</td>\n",
              "    </tr>\n",
              "    <tr>\n",
              "      <th>1</th>\n",
              "      <td>Far_east</td>\n",
              "      <td>4.109295e+05</td>\n",
              "      <td>4.217192e+05</td>\n",
              "      <td>1.439368e+06</td>\n",
              "      <td>1.409266e+06</td>\n",
              "      <td>116238</td>\n",
              "      <td>114566</td>\n",
              "      <td>742564.2</td>\n",
              "      <td>689008.0</td>\n",
              "    </tr>\n",
              "    <tr>\n",
              "      <th>2</th>\n",
              "      <td>other_zones</td>\n",
              "      <td>3.384131e+06</td>\n",
              "      <td>3.309139e+06</td>\n",
              "      <td>1.198412e+07</td>\n",
              "      <td>1.221395e+07</td>\n",
              "      <td>987181</td>\n",
              "      <td>1010255</td>\n",
              "      <td>5460334.1</td>\n",
              "      <td>5531981.3</td>\n",
              "    </tr>\n",
              "  </tbody>\n",
              "</table>\n",
              "</div>"
            ],
            "text/plain": [
              "         zone_group dps_delivery_fee  ...          tt            \n",
              "period                   before_test  ... before_test during_test\n",
              "0             Bedok     1.519424e+05  ...    221613.6    222489.0\n",
              "1          Far_east     4.109295e+05  ...    742564.2    689008.0\n",
              "2       other_zones     3.384131e+06  ...   5460334.1   5531981.3\n",
              "\n",
              "[3 rows x 9 columns]"
            ]
          },
          "metadata": {
            "tags": []
          },
          "execution_count": 141
        }
      ]
    },
    {
      "cell_type": "markdown",
      "metadata": {
        "id": "nH0npBRfnDHR"
      },
      "source": [
        "### 1. Order change"
      ]
    },
    {
      "cell_type": "code",
      "metadata": {
        "id": "g9xWdlj6Mxzw",
        "colab": {
          "base_uri": "https://localhost:8080/",
          "height": 542
        },
        "outputId": "5195c0ef-a048-4118-f39b-7fbed3fa513f"
      },
      "source": [
        "subset = pp3[pp3.new_time > time(hour=8, minute=0, second=0)]\n",
        "order_fe = subset.pivot_table(\"platform_order_code\", index=[\"new_time\"], columns =\"period\",  aggfunc=lambda x: len(x.unique())).reset_index()\n",
        "order_fe = order_fe.fillna(0)\n",
        "order_fe[\"before_pp\"] = order_fe[\"before_test\"]/order_fe[\"before_test\"].sum()\n",
        "order_fe[\"during_pp\"] = order_fe[\"during_test\"]/order_fe[\"during_test\"].sum()\n",
        "#order_fe[\"variation_pp\"] = order_fe[\"during_test_variation\"]/order_fe[\"during_test_variation\"].sum()\n",
        "fig = go.Figure()\n",
        "fig = make_subplots(specs=[[{\"secondary_y\": True}]])\n",
        "fig.add_trace(go.Scatter(x =order_fe.new_time, y=order_fe.before_pp, name =\"Beforetesting\"), secondary_y=False)\n",
        "fig.add_trace(go.Scatter(x =order_fe.new_time, y=order_fe.during_pp,name =\"During Test\"), secondary_y=False)\n",
        "#fig.add_trace(go.Scatter(x =order_fe.new_time, y=order_fe.variation_pp,name =\"During Test Variation\"), secondary_y=False)\n",
        "#fig.add_trace(go.Scatter(x =order_fe.new_time, y=hour.delta, mode=\"lines\", name =\"delta\", line = dict(color='gold', width=4, dash='dash')), secondary_y=True)\n",
        "# Add figure title\n",
        "#fig.update_layout(title_text=\"Orders in Control and Test (Far E\")\n",
        "# Set x-axis title\n",
        "fig.update_xaxes(title_text=\"time\")\n",
        "# Set y-axes titles\n",
        "fig.update_yaxes(title_text=\"Share of orders\", showgrid=False, secondary_y=False)\n",
        "fig.update_yaxes(title_text=\"Delta % difference of Variation1 vs Control\", showgrid=False,secondary_y=True)\n",
        "fig.show()"
      ],
      "execution_count": null,
      "outputs": [
        {
          "output_type": "display_data",
          "data": {
            "text/html": [
              "<html>\n",
              "<head><meta charset=\"utf-8\" /></head>\n",
              "<body>\n",
              "    <div>\n",
              "            <script src=\"https://cdnjs.cloudflare.com/ajax/libs/mathjax/2.7.5/MathJax.js?config=TeX-AMS-MML_SVG\"></script><script type=\"text/javascript\">if (window.MathJax) {MathJax.Hub.Config({SVG: {font: \"STIX-Web\"}});}</script>\n",
              "                <script type=\"text/javascript\">window.PlotlyConfig = {MathJaxConfig: 'local'};</script>\n",
              "        <script src=\"https://cdn.plot.ly/plotly-latest.min.js\"></script>    \n",
              "            <div id=\"47b5c2e6-9826-4068-89a9-cfcc943f7dbf\" class=\"plotly-graph-div\" style=\"height:525px; width:100%;\"></div>\n",
              "            <script type=\"text/javascript\">\n",
              "                \n",
              "                    window.PLOTLYENV=window.PLOTLYENV || {};\n",
              "                    \n",
              "                if (document.getElementById(\"47b5c2e6-9826-4068-89a9-cfcc943f7dbf\")) {\n",
              "                    Plotly.newPlot(\n",
              "                        '47b5c2e6-9826-4068-89a9-cfcc943f7dbf',\n",
              "                        [{\"name\": \"before A/B testing\", \"type\": \"scatter\", \"x\": [\"08:30:00\", \"09:00:00\", \"09:30:00\", \"10:00:00\", \"10:30:00\", \"11:00:00\", \"11:30:00\", \"12:00:00\", \"12:30:00\", \"13:00:00\", \"13:30:00\", \"14:00:00\", \"14:30:00\", \"15:00:00\", \"15:30:00\", \"16:00:00\", \"16:30:00\", \"17:00:00\", \"17:30:00\", \"18:00:00\", \"18:30:00\", \"19:00:00\", \"19:30:00\", \"20:00:00\", \"20:30:00\", \"21:00:00\", \"21:30:00\", \"22:00:00\", \"22:30:00\", \"23:00:00\", \"23:30:00\"], \"xaxis\": \"x\", \"y\": [0.00926370956591587, 0.011469354700657743, 0.01315486262452019, 0.016907751361245168, 0.02034460736224594, 0.026033196605281698, 0.04934061086494209, 0.05704390879821968, 0.055536169288202104, 0.04913650638978687, 0.040643126617198766, 0.034645088653766386, 0.031471593265869124, 0.027514600053988925, 0.025960772436678232, 0.025703995838902313, 0.028502202353127077, 0.03257112382557627, 0.040676046693836704, 0.048412264703752234, 0.053936253563598296, 0.054798759571512284, 0.052487770191529004, 0.05007143656630433, 0.04026125372819868, 0.03077368764114483, 0.02300454955459136, 0.016512710441589907, 0.013260206869761593, 0.010988721581743842, 0.009573158286312491], \"yaxis\": \"y\"}, {\"name\": \"During Test\", \"type\": \"scatter\", \"x\": [\"08:30:00\", \"09:00:00\", \"09:30:00\", \"10:00:00\", \"10:30:00\", \"11:00:00\", \"11:30:00\", \"12:00:00\", \"12:30:00\", \"13:00:00\", \"13:30:00\", \"14:00:00\", \"14:30:00\", \"15:00:00\", \"15:30:00\", \"16:00:00\", \"16:30:00\", \"17:00:00\", \"17:30:00\", \"18:00:00\", \"18:30:00\", \"19:00:00\", \"19:30:00\", \"20:00:00\", \"20:30:00\", \"21:00:00\", \"21:30:00\", \"22:00:00\", \"22:30:00\", \"23:00:00\", \"23:30:00\"], \"xaxis\": \"x\", \"y\": [0.00918489257819244, 0.011519098361221797, 0.013908551618405696, 0.01738223655587246, 0.021132158864111933, 0.02680883683349102, 0.04892854429811537, 0.057761234228572614, 0.056193587149437514, 0.04758188711559844, 0.038914939607604816, 0.03292749459610644, 0.03239573765736898, 0.02784472697388866, 0.02677430716214443, 0.025779852627362692, 0.027630643011539818, 0.03180182731020766, 0.038590360696946886, 0.04720896666505528, 0.05336215409901728, 0.054985048652306925, 0.05256797165804576, 0.049011415509347185, 0.041325110667596664, 0.0327962818449894, 0.023832379163415122, 0.017451295898565637, 0.013128181045972805, 0.011615781440992245, 0.00965449610850604], \"yaxis\": \"y\"}],\n",
              "                        {\"template\": {\"data\": {\"bar\": [{\"error_x\": {\"color\": \"#2a3f5f\"}, \"error_y\": {\"color\": \"#2a3f5f\"}, \"marker\": {\"line\": {\"color\": \"#E5ECF6\", \"width\": 0.5}}, \"type\": \"bar\"}], \"barpolar\": [{\"marker\": {\"line\": {\"color\": \"#E5ECF6\", \"width\": 0.5}}, \"type\": \"barpolar\"}], \"carpet\": [{\"aaxis\": {\"endlinecolor\": \"#2a3f5f\", \"gridcolor\": \"white\", \"linecolor\": \"white\", \"minorgridcolor\": \"white\", \"startlinecolor\": \"#2a3f5f\"}, \"baxis\": {\"endlinecolor\": \"#2a3f5f\", \"gridcolor\": \"white\", \"linecolor\": \"white\", \"minorgridcolor\": \"white\", \"startlinecolor\": \"#2a3f5f\"}, \"type\": \"carpet\"}], \"choropleth\": [{\"colorbar\": {\"outlinewidth\": 0, \"ticks\": \"\"}, \"type\": \"choropleth\"}], \"contour\": [{\"colorbar\": {\"outlinewidth\": 0, \"ticks\": \"\"}, \"colorscale\": [[0.0, \"#0d0887\"], [0.1111111111111111, \"#46039f\"], [0.2222222222222222, \"#7201a8\"], [0.3333333333333333, \"#9c179e\"], [0.4444444444444444, \"#bd3786\"], [0.5555555555555556, \"#d8576b\"], [0.6666666666666666, \"#ed7953\"], [0.7777777777777778, \"#fb9f3a\"], [0.8888888888888888, \"#fdca26\"], [1.0, \"#f0f921\"]], \"type\": \"contour\"}], \"contourcarpet\": [{\"colorbar\": {\"outlinewidth\": 0, \"ticks\": \"\"}, \"type\": \"contourcarpet\"}], \"heatmap\": [{\"colorbar\": {\"outlinewidth\": 0, \"ticks\": \"\"}, \"colorscale\": [[0.0, \"#0d0887\"], [0.1111111111111111, \"#46039f\"], [0.2222222222222222, \"#7201a8\"], [0.3333333333333333, \"#9c179e\"], [0.4444444444444444, \"#bd3786\"], [0.5555555555555556, \"#d8576b\"], [0.6666666666666666, \"#ed7953\"], [0.7777777777777778, \"#fb9f3a\"], [0.8888888888888888, \"#fdca26\"], [1.0, \"#f0f921\"]], \"type\": \"heatmap\"}], \"heatmapgl\": [{\"colorbar\": {\"outlinewidth\": 0, \"ticks\": \"\"}, \"colorscale\": [[0.0, \"#0d0887\"], [0.1111111111111111, \"#46039f\"], [0.2222222222222222, \"#7201a8\"], [0.3333333333333333, \"#9c179e\"], [0.4444444444444444, \"#bd3786\"], [0.5555555555555556, \"#d8576b\"], [0.6666666666666666, \"#ed7953\"], [0.7777777777777778, \"#fb9f3a\"], [0.8888888888888888, \"#fdca26\"], [1.0, \"#f0f921\"]], \"type\": \"heatmapgl\"}], \"histogram\": [{\"marker\": {\"colorbar\": {\"outlinewidth\": 0, \"ticks\": \"\"}}, \"type\": \"histogram\"}], \"histogram2d\": [{\"colorbar\": {\"outlinewidth\": 0, \"ticks\": \"\"}, \"colorscale\": [[0.0, \"#0d0887\"], [0.1111111111111111, \"#46039f\"], [0.2222222222222222, \"#7201a8\"], [0.3333333333333333, \"#9c179e\"], [0.4444444444444444, \"#bd3786\"], [0.5555555555555556, \"#d8576b\"], [0.6666666666666666, \"#ed7953\"], [0.7777777777777778, \"#fb9f3a\"], [0.8888888888888888, \"#fdca26\"], [1.0, \"#f0f921\"]], \"type\": \"histogram2d\"}], \"histogram2dcontour\": [{\"colorbar\": {\"outlinewidth\": 0, \"ticks\": \"\"}, \"colorscale\": [[0.0, \"#0d0887\"], [0.1111111111111111, \"#46039f\"], [0.2222222222222222, \"#7201a8\"], [0.3333333333333333, \"#9c179e\"], [0.4444444444444444, \"#bd3786\"], [0.5555555555555556, \"#d8576b\"], [0.6666666666666666, \"#ed7953\"], [0.7777777777777778, \"#fb9f3a\"], [0.8888888888888888, \"#fdca26\"], [1.0, \"#f0f921\"]], \"type\": \"histogram2dcontour\"}], \"mesh3d\": [{\"colorbar\": {\"outlinewidth\": 0, \"ticks\": \"\"}, \"type\": \"mesh3d\"}], \"parcoords\": [{\"line\": {\"colorbar\": {\"outlinewidth\": 0, \"ticks\": \"\"}}, \"type\": \"parcoords\"}], \"pie\": [{\"automargin\": true, \"type\": \"pie\"}], \"scatter\": [{\"marker\": {\"colorbar\": {\"outlinewidth\": 0, \"ticks\": \"\"}}, \"type\": \"scatter\"}], \"scatter3d\": [{\"line\": {\"colorbar\": {\"outlinewidth\": 0, \"ticks\": \"\"}}, \"marker\": {\"colorbar\": {\"outlinewidth\": 0, \"ticks\": \"\"}}, \"type\": \"scatter3d\"}], \"scattercarpet\": [{\"marker\": {\"colorbar\": {\"outlinewidth\": 0, \"ticks\": \"\"}}, \"type\": \"scattercarpet\"}], \"scattergeo\": [{\"marker\": {\"colorbar\": {\"outlinewidth\": 0, \"ticks\": \"\"}}, \"type\": \"scattergeo\"}], \"scattergl\": [{\"marker\": {\"colorbar\": {\"outlinewidth\": 0, \"ticks\": \"\"}}, \"type\": \"scattergl\"}], \"scattermapbox\": [{\"marker\": {\"colorbar\": {\"outlinewidth\": 0, \"ticks\": \"\"}}, \"type\": \"scattermapbox\"}], \"scatterpolar\": [{\"marker\": {\"colorbar\": {\"outlinewidth\": 0, \"ticks\": \"\"}}, \"type\": \"scatterpolar\"}], \"scatterpolargl\": [{\"marker\": {\"colorbar\": {\"outlinewidth\": 0, \"ticks\": \"\"}}, \"type\": \"scatterpolargl\"}], \"scatterternary\": [{\"marker\": {\"colorbar\": {\"outlinewidth\": 0, \"ticks\": \"\"}}, \"type\": \"scatterternary\"}], \"surface\": [{\"colorbar\": {\"outlinewidth\": 0, \"ticks\": \"\"}, \"colorscale\": [[0.0, \"#0d0887\"], [0.1111111111111111, \"#46039f\"], [0.2222222222222222, \"#7201a8\"], [0.3333333333333333, \"#9c179e\"], [0.4444444444444444, \"#bd3786\"], [0.5555555555555556, \"#d8576b\"], [0.6666666666666666, \"#ed7953\"], [0.7777777777777778, \"#fb9f3a\"], [0.8888888888888888, \"#fdca26\"], [1.0, \"#f0f921\"]], \"type\": \"surface\"}], \"table\": [{\"cells\": {\"fill\": {\"color\": \"#EBF0F8\"}, \"line\": {\"color\": \"white\"}}, \"header\": {\"fill\": {\"color\": \"#C8D4E3\"}, \"line\": {\"color\": \"white\"}}, \"type\": \"table\"}]}, \"layout\": {\"annotationdefaults\": {\"arrowcolor\": \"#2a3f5f\", \"arrowhead\": 0, \"arrowwidth\": 1}, \"coloraxis\": {\"colorbar\": {\"outlinewidth\": 0, \"ticks\": \"\"}}, \"colorscale\": {\"diverging\": [[0, \"#8e0152\"], [0.1, \"#c51b7d\"], [0.2, \"#de77ae\"], [0.3, \"#f1b6da\"], [0.4, \"#fde0ef\"], [0.5, \"#f7f7f7\"], [0.6, \"#e6f5d0\"], [0.7, \"#b8e186\"], [0.8, \"#7fbc41\"], [0.9, \"#4d9221\"], [1, \"#276419\"]], \"sequential\": [[0.0, \"#0d0887\"], [0.1111111111111111, \"#46039f\"], [0.2222222222222222, \"#7201a8\"], [0.3333333333333333, \"#9c179e\"], [0.4444444444444444, \"#bd3786\"], [0.5555555555555556, \"#d8576b\"], [0.6666666666666666, \"#ed7953\"], [0.7777777777777778, \"#fb9f3a\"], [0.8888888888888888, \"#fdca26\"], [1.0, \"#f0f921\"]], \"sequentialminus\": [[0.0, \"#0d0887\"], [0.1111111111111111, \"#46039f\"], [0.2222222222222222, \"#7201a8\"], [0.3333333333333333, \"#9c179e\"], [0.4444444444444444, \"#bd3786\"], [0.5555555555555556, \"#d8576b\"], [0.6666666666666666, \"#ed7953\"], [0.7777777777777778, \"#fb9f3a\"], [0.8888888888888888, \"#fdca26\"], [1.0, \"#f0f921\"]]}, \"colorway\": [\"#636efa\", \"#EF553B\", \"#00cc96\", \"#ab63fa\", \"#FFA15A\", \"#19d3f3\", \"#FF6692\", \"#B6E880\", \"#FF97FF\", \"#FECB52\"], \"font\": {\"color\": \"#2a3f5f\"}, \"geo\": {\"bgcolor\": \"white\", \"lakecolor\": \"white\", \"landcolor\": \"#E5ECF6\", \"showlakes\": true, \"showland\": true, \"subunitcolor\": \"white\"}, \"hoverlabel\": {\"align\": \"left\"}, \"hovermode\": \"closest\", \"mapbox\": {\"style\": \"light\"}, \"paper_bgcolor\": \"white\", \"plot_bgcolor\": \"#E5ECF6\", \"polar\": {\"angularaxis\": {\"gridcolor\": \"white\", \"linecolor\": \"white\", \"ticks\": \"\"}, \"bgcolor\": \"#E5ECF6\", \"radialaxis\": {\"gridcolor\": \"white\", \"linecolor\": \"white\", \"ticks\": \"\"}}, \"scene\": {\"xaxis\": {\"backgroundcolor\": \"#E5ECF6\", \"gridcolor\": \"white\", \"gridwidth\": 2, \"linecolor\": \"white\", \"showbackground\": true, \"ticks\": \"\", \"zerolinecolor\": \"white\"}, \"yaxis\": {\"backgroundcolor\": \"#E5ECF6\", \"gridcolor\": \"white\", \"gridwidth\": 2, \"linecolor\": \"white\", \"showbackground\": true, \"ticks\": \"\", \"zerolinecolor\": \"white\"}, \"zaxis\": {\"backgroundcolor\": \"#E5ECF6\", \"gridcolor\": \"white\", \"gridwidth\": 2, \"linecolor\": \"white\", \"showbackground\": true, \"ticks\": \"\", \"zerolinecolor\": \"white\"}}, \"shapedefaults\": {\"line\": {\"color\": \"#2a3f5f\"}}, \"ternary\": {\"aaxis\": {\"gridcolor\": \"white\", \"linecolor\": \"white\", \"ticks\": \"\"}, \"baxis\": {\"gridcolor\": \"white\", \"linecolor\": \"white\", \"ticks\": \"\"}, \"bgcolor\": \"#E5ECF6\", \"caxis\": {\"gridcolor\": \"white\", \"linecolor\": \"white\", \"ticks\": \"\"}}, \"title\": {\"x\": 0.05}, \"xaxis\": {\"automargin\": true, \"gridcolor\": \"white\", \"linecolor\": \"white\", \"ticks\": \"\", \"title\": {\"standoff\": 15}, \"zerolinecolor\": \"white\", \"zerolinewidth\": 2}, \"yaxis\": {\"automargin\": true, \"gridcolor\": \"white\", \"linecolor\": \"white\", \"ticks\": \"\", \"title\": {\"standoff\": 15}, \"zerolinecolor\": \"white\", \"zerolinewidth\": 2}}}, \"xaxis\": {\"anchor\": \"y\", \"domain\": [0.0, 0.94], \"title\": {\"text\": \"time\"}}, \"yaxis\": {\"anchor\": \"x\", \"domain\": [0.0, 1.0], \"showgrid\": false, \"title\": {\"text\": \"Share of orders\"}}, \"yaxis2\": {\"anchor\": \"x\", \"overlaying\": \"y\", \"showgrid\": false, \"side\": \"right\", \"title\": {\"text\": \"Delta % difference of Variation1 vs Control\"}}},\n",
              "                        {\"responsive\": true}\n",
              "                    ).then(function(){\n",
              "                            \n",
              "var gd = document.getElementById('47b5c2e6-9826-4068-89a9-cfcc943f7dbf');\n",
              "var x = new MutationObserver(function (mutations, observer) {{\n",
              "        var display = window.getComputedStyle(gd).display;\n",
              "        if (!display || display === 'none') {{\n",
              "            console.log([gd, 'removed!']);\n",
              "            Plotly.purge(gd);\n",
              "            observer.disconnect();\n",
              "        }}\n",
              "}});\n",
              "\n",
              "// Listen for the removal of the full notebook cells\n",
              "var notebookContainer = gd.closest('#notebook-container');\n",
              "if (notebookContainer) {{\n",
              "    x.observe(notebookContainer, {childList: true});\n",
              "}}\n",
              "\n",
              "// Listen for the clearing of the current output cell\n",
              "var outputEl = gd.closest('.output');\n",
              "if (outputEl) {{\n",
              "    x.observe(outputEl, {childList: true});\n",
              "}}\n",
              "\n",
              "                        })\n",
              "                };\n",
              "                \n",
              "            </script>\n",
              "        </div>\n",
              "</body>\n",
              "</html>"
            ]
          },
          "metadata": {
            "tags": []
          }
        }
      ]
    },
    {
      "cell_type": "code",
      "metadata": {
        "id": "tlu2jeTVgtgy",
        "colab": {
          "base_uri": "https://localhost:8080/",
          "height": 542
        },
        "outputId": "7e42f509-1007-46d9-d966-97e23462cb79"
      },
      "source": [
        "subset = pp3[pp3.new_time > time(hour=8, minute=0, second=0)]\n",
        "order_fe = subset.pivot_table(\"platform_order_code\", index=[\"new_time\"], columns =\"period_variant\",  aggfunc=lambda x: len(x.unique())).reset_index()\n",
        "order_fe = order_fe.fillna(0)\n",
        "order_fe[\"before_pp\"] = order_fe[\"before_test\"]/order_fe[\"before_test\"].sum()\n",
        "order_fe[\"control_pp\"] = order_fe[\"during_test_control\"]/order_fe[\"during_test_control\"].sum()\n",
        "order_fe[\"variation_pp\"] = order_fe[\"during_test_variation\"]/order_fe[\"during_test_variation\"].sum()\n",
        "fig = go.Figure()\n",
        "fig = make_subplots(specs=[[{\"secondary_y\": True}]])\n",
        "fig.add_trace(go.Scatter(x =order_fe.new_time, y=order_fe.before_pp, name =\"Before testing\"), secondary_y=False)\n",
        "fig.add_trace(go.Scatter(x =order_fe.new_time, y=order_fe.control_pp,name =\"During Test: Control\"), secondary_y=False)\n",
        "fig.add_trace(go.Scatter(x =order_fe.new_time, y=order_fe.variation_pp,name =\"During Test: Variation\"), secondary_y=False)\n",
        "#fig.add_trace(go.Scatter(x =order_fe.new_time, y=hour.delta, mode=\"lines\", name =\"delta\", line = dict(color='gold', width=4, dash='dash')), secondary_y=True)\n",
        "# Add figure title\n",
        "#fig.update_layout(title_text=\"Orders in Control and Test\")\n",
        "# Set x-axis title\n",
        "fig.update_xaxes(title_text=\"time\")\n",
        "# Set y-axes titles\n",
        "fig.update_yaxes(title_text=\"Share of orders\", showgrid=False, secondary_y=False)\n",
        "fig.update_yaxes(title_text=\"Delta % difference of Variation1 vs Control\", showgrid=False,secondary_y=True)\n",
        "fig.show()"
      ],
      "execution_count": null,
      "outputs": [
        {
          "output_type": "display_data",
          "data": {
            "text/html": [
              "<html>\n",
              "<head><meta charset=\"utf-8\" /></head>\n",
              "<body>\n",
              "    <div>\n",
              "            <script src=\"https://cdnjs.cloudflare.com/ajax/libs/mathjax/2.7.5/MathJax.js?config=TeX-AMS-MML_SVG\"></script><script type=\"text/javascript\">if (window.MathJax) {MathJax.Hub.Config({SVG: {font: \"STIX-Web\"}});}</script>\n",
              "                <script type=\"text/javascript\">window.PlotlyConfig = {MathJaxConfig: 'local'};</script>\n",
              "        <script src=\"https://cdn.plot.ly/plotly-latest.min.js\"></script>    \n",
              "            <div id=\"74ca4fb7-dbfd-4c54-bddf-af3a61be495f\" class=\"plotly-graph-div\" style=\"height:525px; width:100%;\"></div>\n",
              "            <script type=\"text/javascript\">\n",
              "                \n",
              "                    window.PLOTLYENV=window.PLOTLYENV || {};\n",
              "                    \n",
              "                if (document.getElementById(\"74ca4fb7-dbfd-4c54-bddf-af3a61be495f\")) {\n",
              "                    Plotly.newPlot(\n",
              "                        '74ca4fb7-dbfd-4c54-bddf-af3a61be495f',\n",
              "                        [{\"name\": \"Before testing\", \"type\": \"scatter\", \"x\": [\"08:30:00\", \"09:00:00\", \"09:30:00\", \"10:00:00\", \"10:30:00\", \"11:00:00\", \"11:30:00\", \"12:00:00\", \"12:30:00\", \"13:00:00\", \"13:30:00\", \"14:00:00\", \"14:30:00\", \"15:00:00\", \"15:30:00\", \"16:00:00\", \"16:30:00\", \"17:00:00\", \"17:30:00\", \"18:00:00\", \"18:30:00\", \"19:00:00\", \"19:30:00\", \"20:00:00\", \"20:30:00\", \"21:00:00\", \"21:30:00\", \"22:00:00\", \"22:30:00\", \"23:00:00\", \"23:30:00\"], \"xaxis\": \"x\", \"y\": [0.00926370956591587, 0.011469354700657743, 0.01315486262452019, 0.016907751361245168, 0.02034460736224594, 0.026033196605281698, 0.04934061086494209, 0.05704390879821968, 0.055536169288202104, 0.04913650638978687, 0.040643126617198766, 0.034645088653766386, 0.031471593265869124, 0.027514600053988925, 0.025960772436678232, 0.025703995838902313, 0.028502202353127077, 0.03257112382557627, 0.040676046693836704, 0.048412264703752234, 0.053936253563598296, 0.054798759571512284, 0.052487770191529004, 0.05007143656630433, 0.04026125372819868, 0.03077368764114483, 0.02300454955459136, 0.016512710441589907, 0.013260206869761593, 0.010988721581743842, 0.009573158286312491], \"yaxis\": \"y\"}, {\"name\": \"During Test: Control\", \"type\": \"scatter\", \"x\": [\"08:30:00\", \"09:00:00\", \"09:30:00\", \"10:00:00\", \"10:30:00\", \"11:00:00\", \"11:30:00\", \"12:00:00\", \"12:30:00\", \"13:00:00\", \"13:30:00\", \"14:00:00\", \"14:30:00\", \"15:00:00\", \"15:30:00\", \"16:00:00\", \"16:30:00\", \"17:00:00\", \"17:30:00\", \"18:00:00\", \"18:30:00\", \"19:00:00\", \"19:30:00\", \"20:00:00\", \"20:30:00\", \"21:00:00\", \"21:30:00\", \"22:00:00\", \"22:30:00\", \"23:00:00\", \"23:30:00\"], \"xaxis\": \"x\", \"y\": [0.009097704897173667, 0.011785663162247705, 0.014155519857490497, 0.016986623828988596, 0.02107422900132012, 0.026084328726162263, 0.04773114055317863, 0.059182797067103526, 0.056606174351470424, 0.04822419798641706, 0.03880839151941215, 0.03360743085267126, 0.03289170232055095, 0.02692729788621507, 0.026561481080909135, 0.02586165762728039, 0.027722551810793188, 0.031094428451004404, 0.03828352392919059, 0.0462201580964802, 0.051802840647018594, 0.05542919854309481, 0.05272533519952921, 0.04987832614953955, 0.04194169198224993, 0.03285989216356783, 0.0233645603041051, 0.01762282696865109, 0.013169404991013631, 0.012294625673977702, 0.010004294371192721], \"yaxis\": \"y\"}, {\"name\": \"During Test: Variation\", \"type\": \"scatter\", \"x\": [\"08:30:00\", \"09:00:00\", \"09:30:00\", \"10:00:00\", \"10:30:00\", \"11:00:00\", \"11:30:00\", \"12:00:00\", \"12:30:00\", \"13:00:00\", \"13:30:00\", \"14:00:00\", \"14:30:00\", \"15:00:00\", \"15:30:00\", \"16:00:00\", \"16:30:00\", \"17:00:00\", \"17:30:00\", \"18:00:00\", \"18:30:00\", \"19:00:00\", \"19:30:00\", \"20:00:00\", \"20:30:00\", \"21:00:00\", \"21:30:00\", \"22:00:00\", \"22:30:00\", \"23:00:00\", \"23:30:00\"], \"xaxis\": \"x\", \"y\": [0.009053885220100274, 0.011082085314208758, 0.01405137025198358, 0.017653453619120248, 0.02076876896367088, 0.027534844477616782, 0.05051029514367769, 0.05677337703428469, 0.055848517791371226, 0.046616150962989406, 0.038552027388814074, 0.031785951874868164, 0.031721049471856694, 0.027518618876863916, 0.027421265272346708, 0.025457967581249696, 0.027291460466323764, 0.03251610390874722, 0.03929840502344599, 0.04848209504956921, 0.05498856095146923, 0.055410426571043794, 0.053739189693498404, 0.04887150946763804, 0.04100209310249712, 0.032629683114017295, 0.023235060278106796, 0.016566338368678102, 0.013142736609822979, 0.01106585971345589, 0.009410848436663368], \"yaxis\": \"y\"}],\n",
              "                        {\"template\": {\"data\": {\"bar\": [{\"error_x\": {\"color\": \"#2a3f5f\"}, \"error_y\": {\"color\": \"#2a3f5f\"}, \"marker\": {\"line\": {\"color\": \"#E5ECF6\", \"width\": 0.5}}, \"type\": \"bar\"}], \"barpolar\": [{\"marker\": {\"line\": {\"color\": \"#E5ECF6\", \"width\": 0.5}}, \"type\": \"barpolar\"}], \"carpet\": [{\"aaxis\": {\"endlinecolor\": \"#2a3f5f\", \"gridcolor\": \"white\", \"linecolor\": \"white\", \"minorgridcolor\": \"white\", \"startlinecolor\": \"#2a3f5f\"}, \"baxis\": {\"endlinecolor\": \"#2a3f5f\", \"gridcolor\": \"white\", \"linecolor\": \"white\", \"minorgridcolor\": \"white\", \"startlinecolor\": \"#2a3f5f\"}, \"type\": \"carpet\"}], \"choropleth\": [{\"colorbar\": {\"outlinewidth\": 0, \"ticks\": \"\"}, \"type\": \"choropleth\"}], \"contour\": [{\"colorbar\": {\"outlinewidth\": 0, \"ticks\": \"\"}, \"colorscale\": [[0.0, \"#0d0887\"], [0.1111111111111111, \"#46039f\"], [0.2222222222222222, \"#7201a8\"], [0.3333333333333333, \"#9c179e\"], [0.4444444444444444, \"#bd3786\"], [0.5555555555555556, \"#d8576b\"], [0.6666666666666666, \"#ed7953\"], [0.7777777777777778, \"#fb9f3a\"], [0.8888888888888888, \"#fdca26\"], [1.0, \"#f0f921\"]], \"type\": \"contour\"}], \"contourcarpet\": [{\"colorbar\": {\"outlinewidth\": 0, \"ticks\": \"\"}, \"type\": \"contourcarpet\"}], \"heatmap\": [{\"colorbar\": {\"outlinewidth\": 0, \"ticks\": \"\"}, \"colorscale\": [[0.0, \"#0d0887\"], [0.1111111111111111, \"#46039f\"], [0.2222222222222222, \"#7201a8\"], [0.3333333333333333, \"#9c179e\"], [0.4444444444444444, \"#bd3786\"], [0.5555555555555556, \"#d8576b\"], [0.6666666666666666, \"#ed7953\"], [0.7777777777777778, \"#fb9f3a\"], [0.8888888888888888, \"#fdca26\"], [1.0, \"#f0f921\"]], \"type\": \"heatmap\"}], \"heatmapgl\": [{\"colorbar\": {\"outlinewidth\": 0, \"ticks\": \"\"}, \"colorscale\": [[0.0, \"#0d0887\"], [0.1111111111111111, \"#46039f\"], [0.2222222222222222, \"#7201a8\"], [0.3333333333333333, \"#9c179e\"], [0.4444444444444444, \"#bd3786\"], [0.5555555555555556, \"#d8576b\"], [0.6666666666666666, \"#ed7953\"], [0.7777777777777778, \"#fb9f3a\"], [0.8888888888888888, \"#fdca26\"], [1.0, \"#f0f921\"]], \"type\": \"heatmapgl\"}], \"histogram\": [{\"marker\": {\"colorbar\": {\"outlinewidth\": 0, \"ticks\": \"\"}}, \"type\": \"histogram\"}], \"histogram2d\": [{\"colorbar\": {\"outlinewidth\": 0, \"ticks\": \"\"}, \"colorscale\": [[0.0, \"#0d0887\"], [0.1111111111111111, \"#46039f\"], [0.2222222222222222, \"#7201a8\"], [0.3333333333333333, \"#9c179e\"], [0.4444444444444444, \"#bd3786\"], [0.5555555555555556, \"#d8576b\"], [0.6666666666666666, \"#ed7953\"], [0.7777777777777778, \"#fb9f3a\"], [0.8888888888888888, \"#fdca26\"], [1.0, \"#f0f921\"]], \"type\": \"histogram2d\"}], \"histogram2dcontour\": [{\"colorbar\": {\"outlinewidth\": 0, \"ticks\": \"\"}, \"colorscale\": [[0.0, \"#0d0887\"], [0.1111111111111111, \"#46039f\"], [0.2222222222222222, \"#7201a8\"], [0.3333333333333333, \"#9c179e\"], [0.4444444444444444, \"#bd3786\"], [0.5555555555555556, \"#d8576b\"], [0.6666666666666666, \"#ed7953\"], [0.7777777777777778, \"#fb9f3a\"], [0.8888888888888888, \"#fdca26\"], [1.0, \"#f0f921\"]], \"type\": \"histogram2dcontour\"}], \"mesh3d\": [{\"colorbar\": {\"outlinewidth\": 0, \"ticks\": \"\"}, \"type\": \"mesh3d\"}], \"parcoords\": [{\"line\": {\"colorbar\": {\"outlinewidth\": 0, \"ticks\": \"\"}}, \"type\": \"parcoords\"}], \"pie\": [{\"automargin\": true, \"type\": \"pie\"}], \"scatter\": [{\"marker\": {\"colorbar\": {\"outlinewidth\": 0, \"ticks\": \"\"}}, \"type\": \"scatter\"}], \"scatter3d\": [{\"line\": {\"colorbar\": {\"outlinewidth\": 0, \"ticks\": \"\"}}, \"marker\": {\"colorbar\": {\"outlinewidth\": 0, \"ticks\": \"\"}}, \"type\": \"scatter3d\"}], \"scattercarpet\": [{\"marker\": {\"colorbar\": {\"outlinewidth\": 0, \"ticks\": \"\"}}, \"type\": \"scattercarpet\"}], \"scattergeo\": [{\"marker\": {\"colorbar\": {\"outlinewidth\": 0, \"ticks\": \"\"}}, \"type\": \"scattergeo\"}], \"scattergl\": [{\"marker\": {\"colorbar\": {\"outlinewidth\": 0, \"ticks\": \"\"}}, \"type\": \"scattergl\"}], \"scattermapbox\": [{\"marker\": {\"colorbar\": {\"outlinewidth\": 0, \"ticks\": \"\"}}, \"type\": \"scattermapbox\"}], \"scatterpolar\": [{\"marker\": {\"colorbar\": {\"outlinewidth\": 0, \"ticks\": \"\"}}, \"type\": \"scatterpolar\"}], \"scatterpolargl\": [{\"marker\": {\"colorbar\": {\"outlinewidth\": 0, \"ticks\": \"\"}}, \"type\": \"scatterpolargl\"}], \"scatterternary\": [{\"marker\": {\"colorbar\": {\"outlinewidth\": 0, \"ticks\": \"\"}}, \"type\": \"scatterternary\"}], \"surface\": [{\"colorbar\": {\"outlinewidth\": 0, \"ticks\": \"\"}, \"colorscale\": [[0.0, \"#0d0887\"], [0.1111111111111111, \"#46039f\"], [0.2222222222222222, \"#7201a8\"], [0.3333333333333333, \"#9c179e\"], [0.4444444444444444, \"#bd3786\"], [0.5555555555555556, \"#d8576b\"], [0.6666666666666666, \"#ed7953\"], [0.7777777777777778, \"#fb9f3a\"], [0.8888888888888888, \"#fdca26\"], [1.0, \"#f0f921\"]], \"type\": \"surface\"}], \"table\": [{\"cells\": {\"fill\": {\"color\": \"#EBF0F8\"}, \"line\": {\"color\": \"white\"}}, \"header\": {\"fill\": {\"color\": \"#C8D4E3\"}, \"line\": {\"color\": \"white\"}}, \"type\": \"table\"}]}, \"layout\": {\"annotationdefaults\": {\"arrowcolor\": \"#2a3f5f\", \"arrowhead\": 0, \"arrowwidth\": 1}, \"coloraxis\": {\"colorbar\": {\"outlinewidth\": 0, \"ticks\": \"\"}}, \"colorscale\": {\"diverging\": [[0, \"#8e0152\"], [0.1, \"#c51b7d\"], [0.2, \"#de77ae\"], [0.3, \"#f1b6da\"], [0.4, \"#fde0ef\"], [0.5, \"#f7f7f7\"], [0.6, \"#e6f5d0\"], [0.7, \"#b8e186\"], [0.8, \"#7fbc41\"], [0.9, \"#4d9221\"], [1, \"#276419\"]], \"sequential\": [[0.0, \"#0d0887\"], [0.1111111111111111, \"#46039f\"], [0.2222222222222222, \"#7201a8\"], [0.3333333333333333, \"#9c179e\"], [0.4444444444444444, \"#bd3786\"], [0.5555555555555556, \"#d8576b\"], [0.6666666666666666, \"#ed7953\"], [0.7777777777777778, \"#fb9f3a\"], [0.8888888888888888, \"#fdca26\"], [1.0, \"#f0f921\"]], \"sequentialminus\": [[0.0, \"#0d0887\"], [0.1111111111111111, \"#46039f\"], [0.2222222222222222, \"#7201a8\"], [0.3333333333333333, \"#9c179e\"], [0.4444444444444444, \"#bd3786\"], [0.5555555555555556, \"#d8576b\"], [0.6666666666666666, \"#ed7953\"], [0.7777777777777778, \"#fb9f3a\"], [0.8888888888888888, \"#fdca26\"], [1.0, \"#f0f921\"]]}, \"colorway\": [\"#636efa\", \"#EF553B\", \"#00cc96\", \"#ab63fa\", \"#FFA15A\", \"#19d3f3\", \"#FF6692\", \"#B6E880\", \"#FF97FF\", \"#FECB52\"], \"font\": {\"color\": \"#2a3f5f\"}, \"geo\": {\"bgcolor\": \"white\", \"lakecolor\": \"white\", \"landcolor\": \"#E5ECF6\", \"showlakes\": true, \"showland\": true, \"subunitcolor\": \"white\"}, \"hoverlabel\": {\"align\": \"left\"}, \"hovermode\": \"closest\", \"mapbox\": {\"style\": \"light\"}, \"paper_bgcolor\": \"white\", \"plot_bgcolor\": \"#E5ECF6\", \"polar\": {\"angularaxis\": {\"gridcolor\": \"white\", \"linecolor\": \"white\", \"ticks\": \"\"}, \"bgcolor\": \"#E5ECF6\", \"radialaxis\": {\"gridcolor\": \"white\", \"linecolor\": \"white\", \"ticks\": \"\"}}, \"scene\": {\"xaxis\": {\"backgroundcolor\": \"#E5ECF6\", \"gridcolor\": \"white\", \"gridwidth\": 2, \"linecolor\": \"white\", \"showbackground\": true, \"ticks\": \"\", \"zerolinecolor\": \"white\"}, \"yaxis\": {\"backgroundcolor\": \"#E5ECF6\", \"gridcolor\": \"white\", \"gridwidth\": 2, \"linecolor\": \"white\", \"showbackground\": true, \"ticks\": \"\", \"zerolinecolor\": \"white\"}, \"zaxis\": {\"backgroundcolor\": \"#E5ECF6\", \"gridcolor\": \"white\", \"gridwidth\": 2, \"linecolor\": \"white\", \"showbackground\": true, \"ticks\": \"\", \"zerolinecolor\": \"white\"}}, \"shapedefaults\": {\"line\": {\"color\": \"#2a3f5f\"}}, \"ternary\": {\"aaxis\": {\"gridcolor\": \"white\", \"linecolor\": \"white\", \"ticks\": \"\"}, \"baxis\": {\"gridcolor\": \"white\", \"linecolor\": \"white\", \"ticks\": \"\"}, \"bgcolor\": \"#E5ECF6\", \"caxis\": {\"gridcolor\": \"white\", \"linecolor\": \"white\", \"ticks\": \"\"}}, \"title\": {\"x\": 0.05}, \"xaxis\": {\"automargin\": true, \"gridcolor\": \"white\", \"linecolor\": \"white\", \"ticks\": \"\", \"title\": {\"standoff\": 15}, \"zerolinecolor\": \"white\", \"zerolinewidth\": 2}, \"yaxis\": {\"automargin\": true, \"gridcolor\": \"white\", \"linecolor\": \"white\", \"ticks\": \"\", \"title\": {\"standoff\": 15}, \"zerolinecolor\": \"white\", \"zerolinewidth\": 2}}}, \"xaxis\": {\"anchor\": \"y\", \"domain\": [0.0, 0.94], \"title\": {\"text\": \"time\"}}, \"yaxis\": {\"anchor\": \"x\", \"domain\": [0.0, 1.0], \"showgrid\": false, \"title\": {\"text\": \"Share of orders\"}}, \"yaxis2\": {\"anchor\": \"x\", \"overlaying\": \"y\", \"showgrid\": false, \"side\": \"right\", \"title\": {\"text\": \"Delta % difference of Variation1 vs Control\"}}},\n",
              "                        {\"responsive\": true}\n",
              "                    ).then(function(){\n",
              "                            \n",
              "var gd = document.getElementById('74ca4fb7-dbfd-4c54-bddf-af3a61be495f');\n",
              "var x = new MutationObserver(function (mutations, observer) {{\n",
              "        var display = window.getComputedStyle(gd).display;\n",
              "        if (!display || display === 'none') {{\n",
              "            console.log([gd, 'removed!']);\n",
              "            Plotly.purge(gd);\n",
              "            observer.disconnect();\n",
              "        }}\n",
              "}});\n",
              "\n",
              "// Listen for the removal of the full notebook cells\n",
              "var notebookContainer = gd.closest('#notebook-container');\n",
              "if (notebookContainer) {{\n",
              "    x.observe(notebookContainer, {childList: true});\n",
              "}}\n",
              "\n",
              "// Listen for the clearing of the current output cell\n",
              "var outputEl = gd.closest('.output');\n",
              "if (outputEl) {{\n",
              "    x.observe(outputEl, {childList: true});\n",
              "}}\n",
              "\n",
              "                        })\n",
              "                };\n",
              "                \n",
              "            </script>\n",
              "        </div>\n",
              "</body>\n",
              "</html>"
            ]
          },
          "metadata": {
            "tags": []
          }
        }
      ]
    },
    {
      "cell_type": "markdown",
      "metadata": {
        "id": "5lcAh-7OoG1j"
      },
      "source": [
        "### 3. Delivevy Fee change/distribution"
      ]
    },
    {
      "cell_type": "markdown",
      "metadata": {
        "id": "Q7FxkVbkoMWl"
      },
      "source": [
        "### 4. Basket value change/distribution"
      ]
    },
    {
      "cell_type": "markdown",
      "metadata": {
        "id": "TdMaiZlknM9l"
      },
      "source": [
        "### 5. Travel time distribution"
      ]
    },
    {
      "cell_type": "code",
      "metadata": {
        "id": "wVhsLZbruQsP",
        "colab": {
          "base_uri": "https://localhost:8080/",
          "height": 197
        },
        "outputId": "4f4e9675-984a-4c9e-db98-bef122e98924"
      },
      "source": [
        "tt_order = pp3.pivot_table(\"platform_order_code\", index=[\"tt\"], columns =\"period_variant\", aggfunc = \"count\")\n",
        "tt_order = tt_order.fillna(0)\n",
        "tt_order[\"before_pp\"] = tt_order[\"before_test\"]/(tt_order[\"before_test\"].sum())\n",
        "tt_order[\"control_pp\"] = tt_order[\"during_test_control\"]/(tt_order[\"during_test_control\"].sum())\n",
        "tt_order[\"variation_pp\"] = tt_order[\"during_test_variation\"]/(tt_order[\"during_test_variation\"].sum())\n",
        "tt_order = tt_order.reset_index()\n",
        "tt_order.head()"
      ],
      "execution_count": null,
      "outputs": [
        {
          "output_type": "execute_result",
          "data": {
            "text/html": [
              "<div>\n",
              "<style scoped>\n",
              "    .dataframe tbody tr th:only-of-type {\n",
              "        vertical-align: middle;\n",
              "    }\n",
              "\n",
              "    .dataframe tbody tr th {\n",
              "        vertical-align: top;\n",
              "    }\n",
              "\n",
              "    .dataframe thead th {\n",
              "        text-align: right;\n",
              "    }\n",
              "</style>\n",
              "<table border=\"1\" class=\"dataframe\">\n",
              "  <thead>\n",
              "    <tr style=\"text-align: right;\">\n",
              "      <th>period_variant</th>\n",
              "      <th>tt</th>\n",
              "      <th>0</th>\n",
              "      <th>before_test</th>\n",
              "      <th>during_test_control</th>\n",
              "      <th>during_test_variation</th>\n",
              "      <th>before_pp</th>\n",
              "      <th>control_pp</th>\n",
              "      <th>variation_pp</th>\n",
              "    </tr>\n",
              "  </thead>\n",
              "  <tbody>\n",
              "    <tr>\n",
              "      <th>0</th>\n",
              "      <td>0.0</td>\n",
              "      <td>8.0</td>\n",
              "      <td>31.0</td>\n",
              "      <td>15.0</td>\n",
              "      <td>23.0</td>\n",
              "      <td>0.000192</td>\n",
              "      <td>0.000227</td>\n",
              "      <td>0.000355</td>\n",
              "    </tr>\n",
              "    <tr>\n",
              "      <th>1</th>\n",
              "      <td>0.1</td>\n",
              "      <td>3.0</td>\n",
              "      <td>42.0</td>\n",
              "      <td>16.0</td>\n",
              "      <td>18.0</td>\n",
              "      <td>0.000261</td>\n",
              "      <td>0.000242</td>\n",
              "      <td>0.000277</td>\n",
              "    </tr>\n",
              "    <tr>\n",
              "      <th>2</th>\n",
              "      <td>0.2</td>\n",
              "      <td>25.0</td>\n",
              "      <td>103.0</td>\n",
              "      <td>58.0</td>\n",
              "      <td>59.0</td>\n",
              "      <td>0.000639</td>\n",
              "      <td>0.000876</td>\n",
              "      <td>0.000909</td>\n",
              "    </tr>\n",
              "    <tr>\n",
              "      <th>3</th>\n",
              "      <td>0.3</td>\n",
              "      <td>30.0</td>\n",
              "      <td>165.0</td>\n",
              "      <td>88.0</td>\n",
              "      <td>65.0</td>\n",
              "      <td>0.001024</td>\n",
              "      <td>0.001329</td>\n",
              "      <td>0.001002</td>\n",
              "    </tr>\n",
              "    <tr>\n",
              "      <th>4</th>\n",
              "      <td>0.4</td>\n",
              "      <td>58.0</td>\n",
              "      <td>442.0</td>\n",
              "      <td>217.0</td>\n",
              "      <td>175.0</td>\n",
              "      <td>0.002743</td>\n",
              "      <td>0.003277</td>\n",
              "      <td>0.002697</td>\n",
              "    </tr>\n",
              "  </tbody>\n",
              "</table>\n",
              "</div>"
            ],
            "text/plain": [
              "period_variant   tt     0  before_test  ...  before_pp  control_pp  variation_pp\n",
              "0               0.0   8.0         31.0  ...   0.000192    0.000227      0.000355\n",
              "1               0.1   3.0         42.0  ...   0.000261    0.000242      0.000277\n",
              "2               0.2  25.0        103.0  ...   0.000639    0.000876      0.000909\n",
              "3               0.3  30.0        165.0  ...   0.001024    0.001329      0.001002\n",
              "4               0.4  58.0        442.0  ...   0.002743    0.003277      0.002697\n",
              "\n",
              "[5 rows x 8 columns]"
            ]
          },
          "metadata": {
            "tags": []
          },
          "execution_count": 123
        }
      ]
    },
    {
      "cell_type": "code",
      "metadata": {
        "id": "7X2UxVGowHRD",
        "colab": {
          "base_uri": "https://localhost:8080/",
          "height": 542
        },
        "outputId": "bbee35e9-d82d-4302-fae3-05557d5efe4e"
      },
      "source": [
        "fig = go.Figure()\n",
        "\n",
        "fig = make_subplots(specs=[[{\"secondary_y\": True}]])\n",
        "fig.add_trace(go.Scatter(x =tt_order.tt, y=signal.savgol_filter(tt_order.before_pp,53, 3), mode=\"lines\", name =\"before test\"), secondary_y=False)\n",
        "fig.add_trace(go.Scatter(x =tt_order.tt, y=signal.savgol_filter(tt_order.control_pp,53,3), mode=\"lines\", name =\"during test control\"), secondary_y=False)\n",
        "fig.add_trace(go.Scatter(x =tt_order.tt, y=signal.savgol_filter(tt_order.variation_pp,53,3), mode=\"lines\", name =\"during test variation\"), secondary_y=False)\n",
        "# Add figure title\n",
        "fig.update_layout(title_text=\"Order across travel time (Before test, Test-Control, Test-Variation)\")\n",
        "# Set x-axis title\n",
        "fig.update_xaxes(title_text=\"Travel Time (in minutes)\")\n",
        "# Set y-axes titles\n",
        "fig.update_yaxes(title_text=\"Share of orders\", showgrid=False, secondary_y=False)\n",
        "fig.update_yaxes(title_text=\"Delta % difference of Variation1 vs Control\", showgrid=False,secondary_y=True)\n",
        "\n",
        "\n",
        "fig.show()"
      ],
      "execution_count": null,
      "outputs": [
        {
          "output_type": "display_data",
          "data": {
            "text/html": [
              "<html>\n",
              "<head><meta charset=\"utf-8\" /></head>\n",
              "<body>\n",
              "    <div>\n",
              "            <script src=\"https://cdnjs.cloudflare.com/ajax/libs/mathjax/2.7.5/MathJax.js?config=TeX-AMS-MML_SVG\"></script><script type=\"text/javascript\">if (window.MathJax) {MathJax.Hub.Config({SVG: {font: \"STIX-Web\"}});}</script>\n",
              "                <script type=\"text/javascript\">window.PlotlyConfig = {MathJaxConfig: 'local'};</script>\n",
              "        <script src=\"https://cdn.plot.ly/plotly-latest.min.js\"></script>    \n",
              "            <div id=\"cd339d42-0d93-4a72-94f9-52c3d9d829be\" class=\"plotly-graph-div\" style=\"height:525px; width:100%;\"></div>\n",
              "            <script type=\"text/javascript\">\n",
              "                \n",
              "                    window.PLOTLYENV=window.PLOTLYENV || {};\n",
              "                    \n",
              "                if (document.getElementById(\"cd339d42-0d93-4a72-94f9-52c3d9d829be\")) {\n",
              "                    Plotly.newPlot(\n",
              "                        'cd339d42-0d93-4a72-94f9-52c3d9d829be',\n",
              "                        [{\"mode\": \"lines\", \"name\": \"before test\", \"type\": \"scatter\", \"x\": [0.0, 0.1, 0.2, 0.3, 0.4, 0.5, 0.6, 0.7, 0.8, 0.9, 1.0, 1.1, 1.2, 1.3, 1.4, 1.5, 1.6, 1.7, 1.8, 1.9, 2.0, 2.1, 2.2, 2.3, 2.4, 2.5, 2.6, 2.7, 2.8, 2.9, 3.0, 3.1, 3.2, 3.3, 3.4, 3.5, 3.6, 3.7, 3.8, 3.9, 4.0, 4.1, 4.2, 4.3, 4.4, 4.5, 4.6, 4.7, 4.8, 4.9, 5.0, 5.1, 5.2, 5.3, 5.4, 5.5, 5.6, 5.7, 5.8, 5.9, 6.0, 6.1, 6.2, 6.3, 6.4, 6.5, 6.6, 6.7, 6.8, 6.9, 7.0, 7.1, 7.2, 7.3, 7.4, 7.5, 7.6, 7.7, 7.8, 7.9, 8.0, 8.1, 8.2, 8.3, 8.4, 8.5, 8.6, 8.7, 8.8, 8.9, 9.0, 9.1, 9.2, 9.3, 9.4, 9.5, 9.6, 9.7, 9.8, 9.9, 10.0, 10.1, 10.2, 10.3, 10.4, 10.5, 10.6, 10.7, 10.8, 10.9, 11.0, 11.1, 11.2, 11.3, 11.4, 11.5, 11.6, 11.7, 11.8, 11.9, 12.0, 12.1, 12.2, 12.3, 12.4, 12.5, 12.6, 12.7, 12.8, 12.9, 13.0, 13.1, 13.2, 13.3, 13.4, 13.5, 13.6, 13.7, 13.8, 13.9, 14.0, 14.1, 14.2, 14.3, 14.4, 14.5, 14.6, 14.7, 14.8, 14.9, 15.0, 15.1, 15.2, 15.3, 15.4, 15.5, 15.6, 15.7, 15.8, 15.9, 16.0, 16.1, 16.2, 16.3, 16.4, 16.5, 16.6, 16.7, 16.8, 16.9, 17.0, 17.1, 17.2, 17.3, 17.4, 17.5, 17.6, 17.7, 17.8, 17.9, 18.0, 18.1, 18.2, 18.3, 18.4, 18.5, 18.6, 18.7, 18.8, 18.9, 19.0, 19.1, 19.2, 19.3, 19.4, 19.5, 19.6, 19.7, 19.8, 19.9, 20.0, 20.1, 20.2, 20.3, 20.4, 20.5, 20.6, 20.7, 20.8, 20.9, 21.0, 21.1, 21.2, 21.3, 21.4, 21.5, 21.6, 21.7, 21.8, 21.9, 22.0, 22.1, 22.2, 22.3, 22.4, 22.5, 22.6, 22.7, 22.8, 22.9, 23.0, 23.1, 23.2, 23.3, 23.4, 23.5, 23.6, 23.7, 23.8, 23.9, 24.0, 24.1, 24.2, 24.3, 24.4, 24.5, 24.6, 24.7, 24.8, 24.9, 25.0, 25.1, 25.2, 25.3, 25.4, 25.5, 25.6, 25.7, 25.8, 25.9, 26.0, 26.1, 26.2, 26.3, 26.4, 26.5, 26.6, 26.7, 26.8, 26.9, 27.0, 27.1, 27.2, 27.3, 27.4, 27.5, 27.6, 27.7, 27.8, 27.9, 28.0, 28.1, 28.2, 28.3, 28.4, 28.5, 28.6, 28.7, 28.8, 28.9, 29.0, 29.1, 29.2, 29.3, 29.4, 29.5, 29.6, 29.7, 29.8, 29.9, 30.0, 30.1, 30.2, 30.3, 30.4, 30.5, 30.6, 30.7, 30.8, 30.9, 31.0, 31.1, 31.2, 31.3, 31.4, 31.5, 31.6, 31.7, 31.8, 31.9, 32.0, 32.1, 32.2, 32.6, 41.6, 48.1, 59.8, 84.2, 89.5, 90.0, 90.2, 90.4, 90.5, 91.0, 91.1, 91.2, 91.4, 91.5, 91.6, 91.8, 91.9, 92.4, 92.6, 92.8, 92.9, 93.1, 93.5, 93.6, 93.7, 93.8, 94.3, 94.4, 94.5, 94.6, 94.9, 95.0, 95.1, 95.3, 95.4, 95.5, 95.6, 95.7, 95.8, 95.9, 96.1, 96.2, 96.3, 96.4, 96.6, 96.7, 96.8, 97.3, 97.4, 97.8, 97.9, 98.4, 98.7, 98.8, 98.9, 99.1, 99.2, 99.3, 99.5, 99.6, 99.7, 99.8, 100.1, 100.2, 100.3, 100.4, 100.5, 100.6, 100.7, 100.9, 101.0, 101.1, 101.2, 101.3, 101.4, 101.5, 101.7, 101.8, 101.9, 102.0, 102.1, 102.2, 102.3, 102.4, 102.5, 102.6, 102.7, 102.8, 102.9, 103.0, 103.2, 103.3, 103.4, 103.6, 103.7, 103.8, 103.9, 104.0, 104.2, 104.4, 104.6, 104.8, 105.0, 105.2, 105.3, 105.4, 105.8, 105.9, 106.0, 106.1, 106.3, 106.5, 106.7, 106.8, 106.9, 107.1, 107.3, 107.4, 107.5, 107.8, 108.2, 108.4, 108.7, 108.8, 109.0, 109.1, 109.5, 109.7], \"xaxis\": \"x\", \"y\": [0.00024247354091211736, 0.0008441698620908581, 0.0014280262316969023, 0.0019941319928409892, 0.002542576488633858, 0.0030734490621862473, 0.003586839056608897, 0.004082835815012544, 0.004561528680507931, 0.005023006996205794, 0.005467360105216873, 0.005894677350651906, 0.006305048075621633, 0.006698561623236794, 0.007075307336608127, 0.007435374558846371, 0.007778852633062264, 0.008105830902366547, 0.008416398709869958, 0.008710645398683235, 0.00898866031191712, 0.009250532792682349, 0.009496352184089663, 0.009726207829249801, 0.0099401890712735, 0.0101383852532715, 0.01032088571835311, 0.010506899189298705, 0.01057088155588897, 0.01066595112759926, 0.010680196846703835, 0.010777395636145597, 0.01080397328335846, 0.010940126111197527, 0.01098177799370871, 0.011112597131130442, 0.011169963892980918, 0.011309512196861176, 0.011277189419216392, 0.01131806100605304, 0.011231511436471194, 0.011261011121900252, 0.011183165669156562, 0.01118169149899777, 0.01109420068993051, 0.011086660754199056, 0.010987134228784386, 0.011004410951953765, 0.010903035764555768, 0.010900719927152538, 0.010776562736268282, 0.010752183819483424, 0.01065152317250649, 0.010650310144640057, 0.010527637143762746, 0.010532427883658558, 0.010467472339316908, 0.01046286696661183, 0.010349176133358787, 0.010316766934523727, 0.010203295911689432, 0.010183606910078396, 0.010043834412095824, 0.010019797422629016, 0.009891413734547789, 0.009819140569855469, 0.009690583413153177, 0.009634293784978622, 0.00946095479569988, 0.00937394243438169, 0.009181906408458571, 0.009065992421397669, 0.008884744640727521, 0.00873785617183826, 0.008503976007567617, 0.008352301808706617, 0.008108019163336706, 0.007954830714924324, 0.007702049985843795, 0.00754031961688515, 0.007249842966590413, 0.00708012114249314, 0.006848132850800959, 0.006699361902940875, 0.006471298886760718, 0.006318169304956204, 0.006062512879457171, 0.005919213394926463, 0.005696642508012489, 0.005564201407671786, 0.0053458495030686785, 0.005215623415409216, 0.00501599359707085, 0.004894605015478023, 0.00470709044603174, 0.0046067729788538785, 0.004439661951439695, 0.004342108709869694, 0.004177894671051334, 0.004042030540087032, 0.003887284005287617, 0.003800421941691649, 0.0036575188674033005, 0.0035413637777463322, 0.0034107124727810858, 0.0033209365120955457, 0.0032014967909675244, 0.003132664191633063, 0.0029971150596449173, 0.0029035572325239755, 0.0027869074128646946, 0.002739167220122514, 0.002637087512151603, 0.002586544893130498, 0.0024918604593334023, 0.0024504741027981426, 0.00235397482400522, 0.002310002720407238, 0.0022243749768550156, 0.002182456315886887, 0.0020922125535409323, 0.0020392457575084933, 0.0019547621553666827, 0.0019045545750180303, 0.0018464156586196392, 0.0017905550051939244, 0.0017099904161590436, 0.0016718348344110397, 0.0016177257756897166, 0.0015876486965111262, 0.001518012630603288, 0.0015037900823975548, 0.0014646037087713139, 0.001477957035150199, 0.0014680323755594956, 0.0014726540305178115, 0.0014373127736184083, 0.0014348779505184176, 0.001405537956419223, 0.0013927213181567713, 0.0013631126668791054, 0.00135990631547171, 0.0013317943790111684, 0.001324315188609113, 0.0012937652978460342, 0.001279449439804422, 0.001258824208632046, 0.0012558314052383073, 0.001211475416208151, 0.0011984508660966263, 0.001165199373776613, 0.0011568403154590518, 0.0011571709704479398, 0.0011552841077935485, 0.001127611165929996, 0.0011287653271885565, 0.0011515711278141643, 0.001160966614174546, 0.0011739341763997281, 0.0011816212786508566, 0.001170973937512471, 0.0011639061871249975, 0.001166347272630081, 0.0011690833174150246, 0.0011649989768136508, 0.0011765844262349033, 0.0011566493121037288, 0.0011676573677754465, 0.0011533083189868433, 0.0011513932755095357, 0.0011251431520830145, 0.001115466483733977, 0.0011010303875145875, 0.0010893973438146313, 0.0010748453931010288, 0.0010626662676770009, 0.0010468048480585421, 0.0010260230567588524, 0.001018177515658882, 0.0010212473466352594, 0.001001408047302001, 0.000986620630156918, 0.0009763271149062625, 0.0009748955291021013, 0.0009488514388031257, 0.0009273757730191791, 0.0008981128065026231, 0.0008584304503930506, 0.0008095768020254114, 0.0007815199747296841, 0.0007439204945539003, 0.0007013254938357743, 0.0006642746003460994, 0.0006385599125549931, 0.000606210832808819, 0.0005839404678186255, 0.0005573052064789114, 0.0005394955526361546, 0.000502740244666849, 0.00047540547267829514, 0.00043875474687403546, 0.0004306912740768437, 0.0004128308947528372, 0.00039888764981423243, 0.00038008415228328504, 0.0003681166961513858, 0.0003533449350190342, 0.0003534751930449598, 0.0003438523813797184, 0.0003366155460547457, 0.00032556741099043566, 0.00030943733419350585, 0.0003015047456627488, 0.0002982376489259557, 0.000298333463723872, 0.000297397234162533, 0.000293718697411158, 0.00028897617803455556, 0.00028559698424660533, 0.00028533458947322673, 0.0002837545846683716, 0.00028404766522670385, 0.0002779875358186248, 0.00027584641951747556, 0.00027759550925983, 0.000273772937191326, 0.0002646830561994622, 0.0002648940992510818, 0.0002592053304649922, 0.0002550101452934803, 0.00025492372410320285, 0.00024850350640230113, 0.0002449126433222221, 0.0002523198160657127, 0.00025417661917565937, 0.00025489992696385106, 0.0002502212841191928, 0.0002454574725652757, 0.00024209080358751062, 0.00023887255361043945, 0.00023679907128428985, 0.000240217091983814, 0.0002379068907451653, 0.00023404048184101327, 0.00023236466223824182, 0.0002372311772356771, 0.00023259824994819467, 0.0002279646964202029, 0.00022351651008295118, 0.0002235547107540159, 0.00021800496736098124, 0.00022116560321120083, 0.00022420224344058746, 0.00023186429607134553, 0.0002323652884787511, 0.0002381667805565069, 0.000241331173849782, 0.00025345832131154174, 0.0002584751340311987, 0.00026083731323211574, 0.0002638701960184468, 0.0002609869847138281, 0.0002567103882761128, 0.0002512376724657168, 0.00024620833493587476, 0.00024676381026758555, 0.0002494247061914181, 0.0002484076916043849, 0.00024867697502336535, 0.0002477657950823966, 0.0002468765335592518, 0.0002493940204064645, 0.00025407642069417833, 0.00025674671022564975, 0.0002533894348555235, 0.0002516002657205766, 0.0002503922477782201, 0.0002505857560955804, 0.00024579877364282074, 0.00024307587990857174, 0.00023443376088082667, 0.00023261453220143534, 0.000225580598801462, 0.00022500821497600115, 0.00021915599741699555, 0.00021425128174849557, 0.00020480694862839237, 0.00019704782871869946, 0.00018946468239210775, 0.00018303381860254876, 0.0001783608119224738, 0.00017253614894587545, 0.00016496928487252444, 0.00015857098558944677, 0.00014917236802651932, 0.00014369652101357708, 0.00013740280389554533, 0.00013210543542774126, 0.00012404509383309584, 0.00012051247112037768, 0.00011331007902341415, 0.0001067664919421889, 9.993921791027028e-05, 9.49299200767244e-05, 9.170916513761623e-05, 8.578680864157378e-05, 7.857126549391589e-05, 7.205210179255164e-05, 6.517598100091097e-05, 5.893486808565678e-05, 5.0958442719251744e-05, 4.495717991904296e-05, 3.882753781443649e-05, 3.1960810630434664e-05, 2.9236038174657933e-05, 2.6777417935315375e-05, 2.8202741334384073e-05, 3.1029590993169696e-05, 3.050855888946797e-05, 2.8165793144337933e-05, 2.8835870489242816e-05, 2.8430066639244352e-05, 2.8927927844103587e-05, 2.599211233670728e-05, 2.5104103294581007e-05, 2.3562925401299798e-05, 2.179504844366759e-05, 2.013112741057203e-05, 1.765121499391474e-05, 1.4646513030500167e-05, 1.1597347990928358e-05, 1.0560293707598946e-05, 7.166070147426591e-06, 5.029963770351331e-06, 3.2846314710523706e-06, 2.355290555315144e-06, 2.0334029335571006e-06, 3.523229105079253e-06, 2.8374957474429557e-06, 3.987273322438612e-06, 4.0098179807718585e-06, 4.702439984009985e-06, 6.368865979142576e-06, 9.543905361075023e-06, 9.761210817787164e-06, 1.1597974231437631e-05, 1.1951173878658521e-05, 1.2449661324027005e-05, 1.290055449069197e-05, 1.3110971301802285e-05, 1.323935060619995e-05, 1.3317630669857058e-05, 1.337774975874572e-05, 1.33852646448568e-05, 1.3179231517311285e-05, 1.3302600897634892e-05, 1.3369608632125381e-05, 1.3380254720782746e-05, 1.3527421240458118e-05, 1.3652669342309495e-05, 1.4176206408048259e-05, 1.4203760990455561e-05, 1.4374098408973438e-05, 1.3218058428885209e-05, 1.30351962001822e-05, 1.301828770643226e-05, 1.2973198389765766e-05, 1.3058367099024704e-05, 1.260183776777643e-05, 1.2657573173100294e-05, 1.2327544424721909e-05, 1.2154702044167008e-05, 1.1625528813844933e-05, 1.1634296180974529e-05, 1.1316166002272027e-05, 1.1340589382133047e-05, 1.1321802166855339e-05, 1.1259804356438909e-05, 1.0835213291162732e-05, 1.0750670822413054e-05, 1.0620412796487618e-05, 1.0158247300656031e-05, 1.061227166986728e-05, 1.0383067643479257e-05, 1.0174529553896711e-05, 1.2007535524491636e-05, 1.2561758375183988e-05, 1.2285586310601696e-05, 1.2745246844396256e-05, 1.272458090759078e-05, 1.3245613011292512e-05, 1.3538067329115483e-05, 1.3987708014761931e-05, 1.3285066163375697e-05, 1.3345185252264355e-05, 1.3713414671707412e-05, 1.400399026800261e-05, 1.4988440348554446e-05, 1.526148121059045e-05, 1.549506892054327e-05, 1.5689203478412906e-05, 1.5491311477487728e-05, 1.544434343929346e-05, 1.5034782146239455e-05, 1.5316590375405057e-05, 1.5392991717534395e-05, 1.5263986172627473e-05, 1.5633468073089044e-05, 1.5605913490681742e-05, 1.5341013755266075e-05, 1.5030398462674653e-05, 1.4513123802028463e-05, 1.4139258218002097e-05, 1.3907549229577048e-05, 1.3625114759902188e-05, 1.3258764061986905e-05, 1.3998980343928554e-05, 1.4123602205270676e-05, 1.3728444443929576e-05, 1.3677092722170512e-05, 1.3392153290458626e-05, 1.3611963709207795e-05, 1.3282561201338668e-05, 1.3268783910135019e-05, 1.306087206106173e-05, 1.3205533618700073e-05, 1.3063692819596686e-05, 1.2911947250727542e-05, 1.2750165776261332e-05, 1.2578217260364918e-05, 1.2395970567205167e-05, 1.2203294560948946e-05, 1.2000058105763116e-05, 1.1786130065814544e-05, 1.1561379305270097e-05, 1.1325674688296636e-05, 1.107888507906103e-05, 1.0820879341730141e-05, 1.0551526340470836e-05, 1.0270694939449978e-05, 9.978254002834433e-06, 9.674072394791067e-06, 9.358018979486742e-06, 9.029962621088324e-06, 8.689772183762683e-06, 8.337316531676678e-06, 7.972464528997175e-06, 7.595085039891043e-06, 7.2050469285251405e-06, 6.802219059066336e-06, 6.386470295681496e-06, 5.957669502537484e-06], \"yaxis\": \"y\"}, {\"mode\": \"lines\", \"name\": \"during test control\", \"type\": \"scatter\", \"x\": [0.0, 0.1, 0.2, 0.3, 0.4, 0.5, 0.6, 0.7, 0.8, 0.9, 1.0, 1.1, 1.2, 1.3, 1.4, 1.5, 1.6, 1.7, 1.8, 1.9, 2.0, 2.1, 2.2, 2.3, 2.4, 2.5, 2.6, 2.7, 2.8, 2.9, 3.0, 3.1, 3.2, 3.3, 3.4, 3.5, 3.6, 3.7, 3.8, 3.9, 4.0, 4.1, 4.2, 4.3, 4.4, 4.5, 4.6, 4.7, 4.8, 4.9, 5.0, 5.1, 5.2, 5.3, 5.4, 5.5, 5.6, 5.7, 5.8, 5.9, 6.0, 6.1, 6.2, 6.3, 6.4, 6.5, 6.6, 6.7, 6.8, 6.9, 7.0, 7.1, 7.2, 7.3, 7.4, 7.5, 7.6, 7.7, 7.8, 7.9, 8.0, 8.1, 8.2, 8.3, 8.4, 8.5, 8.6, 8.7, 8.8, 8.9, 9.0, 9.1, 9.2, 9.3, 9.4, 9.5, 9.6, 9.7, 9.8, 9.9, 10.0, 10.1, 10.2, 10.3, 10.4, 10.5, 10.6, 10.7, 10.8, 10.9, 11.0, 11.1, 11.2, 11.3, 11.4, 11.5, 11.6, 11.7, 11.8, 11.9, 12.0, 12.1, 12.2, 12.3, 12.4, 12.5, 12.6, 12.7, 12.8, 12.9, 13.0, 13.1, 13.2, 13.3, 13.4, 13.5, 13.6, 13.7, 13.8, 13.9, 14.0, 14.1, 14.2, 14.3, 14.4, 14.5, 14.6, 14.7, 14.8, 14.9, 15.0, 15.1, 15.2, 15.3, 15.4, 15.5, 15.6, 15.7, 15.8, 15.9, 16.0, 16.1, 16.2, 16.3, 16.4, 16.5, 16.6, 16.7, 16.8, 16.9, 17.0, 17.1, 17.2, 17.3, 17.4, 17.5, 17.6, 17.7, 17.8, 17.9, 18.0, 18.1, 18.2, 18.3, 18.4, 18.5, 18.6, 18.7, 18.8, 18.9, 19.0, 19.1, 19.2, 19.3, 19.4, 19.5, 19.6, 19.7, 19.8, 19.9, 20.0, 20.1, 20.2, 20.3, 20.4, 20.5, 20.6, 20.7, 20.8, 20.9, 21.0, 21.1, 21.2, 21.3, 21.4, 21.5, 21.6, 21.7, 21.8, 21.9, 22.0, 22.1, 22.2, 22.3, 22.4, 22.5, 22.6, 22.7, 22.8, 22.9, 23.0, 23.1, 23.2, 23.3, 23.4, 23.5, 23.6, 23.7, 23.8, 23.9, 24.0, 24.1, 24.2, 24.3, 24.4, 24.5, 24.6, 24.7, 24.8, 24.9, 25.0, 25.1, 25.2, 25.3, 25.4, 25.5, 25.6, 25.7, 25.8, 25.9, 26.0, 26.1, 26.2, 26.3, 26.4, 26.5, 26.6, 26.7, 26.8, 26.9, 27.0, 27.1, 27.2, 27.3, 27.4, 27.5, 27.6, 27.7, 27.8, 27.9, 28.0, 28.1, 28.2, 28.3, 28.4, 28.5, 28.6, 28.7, 28.8, 28.9, 29.0, 29.1, 29.2, 29.3, 29.4, 29.5, 29.6, 29.7, 29.8, 29.9, 30.0, 30.1, 30.2, 30.3, 30.4, 30.5, 30.6, 30.7, 30.8, 30.9, 31.0, 31.1, 31.2, 31.3, 31.4, 31.5, 31.6, 31.7, 31.8, 31.9, 32.0, 32.1, 32.2, 32.6, 41.6, 48.1, 59.8, 84.2, 89.5, 90.0, 90.2, 90.4, 90.5, 91.0, 91.1, 91.2, 91.4, 91.5, 91.6, 91.8, 91.9, 92.4, 92.6, 92.8, 92.9, 93.1, 93.5, 93.6, 93.7, 93.8, 94.3, 94.4, 94.5, 94.6, 94.9, 95.0, 95.1, 95.3, 95.4, 95.5, 95.6, 95.7, 95.8, 95.9, 96.1, 96.2, 96.3, 96.4, 96.6, 96.7, 96.8, 97.3, 97.4, 97.8, 97.9, 98.4, 98.7, 98.8, 98.9, 99.1, 99.2, 99.3, 99.5, 99.6, 99.7, 99.8, 100.1, 100.2, 100.3, 100.4, 100.5, 100.6, 100.7, 100.9, 101.0, 101.1, 101.2, 101.3, 101.4, 101.5, 101.7, 101.8, 101.9, 102.0, 102.1, 102.2, 102.3, 102.4, 102.5, 102.6, 102.7, 102.8, 102.9, 103.0, 103.2, 103.3, 103.4, 103.6, 103.7, 103.8, 103.9, 104.0, 104.2, 104.4, 104.6, 104.8, 105.0, 105.2, 105.3, 105.4, 105.8, 105.9, 106.0, 106.1, 106.3, 106.5, 106.7, 106.8, 106.9, 107.1, 107.3, 107.4, 107.5, 107.8, 108.2, 108.4, 108.7, 108.8, 109.0, 109.1, 109.5, 109.7], \"xaxis\": \"x\", \"y\": [0.0002581086304883291, 0.0008772858469762832, 0.001477472310000422, 0.0020587614869332317, 0.002621246845147197, 0.0031650218520148034, 0.003690179974908536, 0.0041968146812008805, 0.004685019438264322, 0.005154887713471347, 0.005606512974194437, 0.0060399886878060825, 0.006455408321678765, 0.006852865343184972, 0.007232453219697188, 0.007594265418587898, 0.00793839540722959, 0.008264936652994744, 0.00857398262325585, 0.00886562678538539, 0.009139962606755852, 0.009397083554739722, 0.00963708309670948, 0.009860054700037618, 0.010066091832096618, 0.010255287960258966, 0.010427736551895703, 0.010578739914258447, 0.010621898099706987, 0.010694867159455713, 0.010699239055298234, 0.01078484074541799, 0.01081989210413868, 0.010923668629292853, 0.010920028176463373, 0.01103545902695864, 0.01109710595840136, 0.011198514436800817, 0.011191547442101619, 0.011226511941964511, 0.011140792916194745, 0.011179621873309857, 0.011084386469172527, 0.011075987065239459, 0.010955996886629578, 0.010949953338734341, 0.010834149147534503, 0.010807283855201414, 0.010716269486785161, 0.010712917039642066, 0.010578077044027879, 0.01052716403880151, 0.01041762435224043, 0.01040487895773822, 0.010318381249927488, 0.010362307450539723, 0.010299196109231312, 0.010325910541442962, 0.010196394841427855, 0.010209566911021007, 0.010139215807723121, 0.010144271907550755, 0.010051395407130476, 0.010077576495478451, 0.00995870633898229, 0.009922589816373863, 0.009791184555241738, 0.009710114764123604, 0.009513737553518652, 0.009427776237250817, 0.00922622101964939, 0.009100137006437126, 0.008914245336192013, 0.008734051302250556, 0.008485758399955527, 0.008297638876199867, 0.00803180353230878, 0.007874008416802039, 0.007632126307748378, 0.00745923146554121, 0.007190191486949244, 0.007036100825535627, 0.006803314515117033, 0.0066595372001872705, 0.006454221146427132, 0.006292936438212352, 0.0060531480847835165, 0.005946333023446009, 0.00574135069056057, 0.0056057624896976264, 0.005413264974741003, 0.005275608923526615, 0.005093304371724616, 0.004980011468202879, 0.004782598046662787, 0.004689310109547675, 0.004520139531348564, 0.004424930032484613, 0.004271151758191149, 0.004141369386244206, 0.004003442091579147, 0.003932204113627949, 0.003754765181702273, 0.003635629877113883, 0.0035390275888459366, 0.003457784080012205, 0.0033771043918343576, 0.003306422615340991, 0.0031856811838031356, 0.0031025206847393977, 0.002978766622291586, 0.002944151081699501, 0.0028442603475520973, 0.0027601093527415345, 0.0026405976597693513, 0.0025747312164451606, 0.0024616958418175964, 0.0024266536261345712, 0.0023212435449179417, 0.0022717888541988213, 0.0021764757342413563, 0.0021339042270428574, 0.0020512465950505827, 0.002003999947927074, 0.0019370485308002087, 0.0018700559700038592, 0.0017802850547097772, 0.0017562586755710458, 0.0017201543436795033, 0.001686902639538814, 0.001622479272325765, 0.0016007858916307074, 0.0015767945608030176, 0.0015907437885975219, 0.001552981519209756, 0.0015710557808298802, 0.0015315380482108204, 0.001517427293417604, 0.0014792017767882467, 0.0014699916901823934, 0.0014281744835910914, 0.0014246666048077234, 0.0013971018700934144, 0.0013919802451625289, 0.0013599003736823126, 0.0013465484910151243, 0.0013367517261592284, 0.001336559722368306, 0.0012913123528137714, 0.0012806149987480715, 0.001246499277548229, 0.001223388726015408, 0.0012105214243443576, 0.001203519381334117, 0.0011694691852375259, 0.001194015193683437, 0.0012340357933739614, 0.0012377554858631885, 0.0012449160081929216, 0.0012340373172135721, 0.0012199951352028274, 0.0012122372677457794, 0.0012053144643952842, 0.001200077027654001, 0.0011888737588376152, 0.0011821460069572638, 0.0011756422594996559, 0.0011749077688073956, 0.0011756559740561505, 0.0011825193476618359, 0.001157860575084748, 0.0011443258316642996, 0.0011279293174553348, 0.001126056518574032, 0.0011078786358603946, 0.0010900253309837932, 0.0010608986606687233, 0.0010345423307655398, 0.0010288187891885072, 0.0010342177529285037, 0.0009984989524584168, 0.0009691284678056672, 0.0009432003368330338, 0.0009402120873568462, 0.0009198993053488999, 0.0008872617085712414, 0.000846314614397534, 0.0008164458341921512, 0.0007573010473898699, 0.0007246314499803907, 0.0006834283507521193, 0.0006518300125888208, 0.000615163383881004, 0.0005930799002456584, 0.0005599744847075768, 0.0005352273294330798, 0.0005168742051642348, 0.0005031626963489688, 0.0004631405728188338, 0.0004359415596110446, 0.0004045001769276274, 0.00039800709634729296, 0.0003683287960932226, 0.00034340792310312877, 0.00033755485515920365, 0.00033359439601151795, 0.00032083376311320275, 0.00031422487072247046, 0.0002979670259180611, 0.00028156746402987527, 0.0002657728664670575, 0.0002531448076148558, 0.00024422120285577605, 0.00024119028587049444, 0.00023728468494878659, 0.00024211220883484612, 0.00023299964796406458, 0.0002313813302977151, 0.0002345128206972897, 0.00023058588602103486, 0.00024251145481279682, 0.00024015712261457652, 0.00023319927095303997, 0.00022433509593876972, 0.00021993577098326035, 0.00021278286785157992, 0.00020252590343331397, 0.00019825762868430744, 0.0001934590577508474, 0.00018861477162907239, 0.00018750694023223993, 0.0001836760074514465, 0.00018653473056074187, 0.000191798072575404, 0.00019610139563545198, 0.00019464460496781535, 0.000186905023586093, 0.00018916183004924144, 0.00018441506966253835, 0.00018415144540992207, 0.0001787844823017461, 0.0001867968309737476, 0.00019058966776427862, 0.0001952754745665618, 0.00018790313853096958, 0.00019643054499131967, 0.00019388573284178704, 0.00018686845143544106, 0.0001875800845335439, 0.00018844867311152813, 0.0001861949143276007, 0.00019066281206558253, 0.000191217489683804, 0.00019423773979181222, 0.0001918559784806029, 0.00019707817682578158, 0.00020598044783031428, 0.00021431889817896256, 0.00021468309584587176, 0.00021825192821365945, 0.00022025425346185455, 0.00021884317798253285, 0.0002111310257137995, 0.00021241257482622884, 0.00020981595212993929, 0.00020947765973640856, 0.00020879345575129467, 0.00021069520758519692, 0.00021237600267557687, 0.00021603626541999446, 0.0002189117507650053, 0.00021854602925848563, 0.00022237086668083707, 0.00021910832607475964, 0.00021475776398678615, 0.0002107393989339014, 0.00020982814284682322, 0.0002113138864670594, 0.00020872640680843279, 0.00020786848510772208, 0.00020401774241199215, 0.00020102796909619394, 0.00019769533186803355, 0.00019734789643683989, 0.0001909203409597569, 0.00018262760579942358, 0.00017544422587553325, 0.0001663514749196882, 0.00015926562073086977, 0.00015721300877552822, 0.00014990010248474553, 0.0001441994185018703, 0.00013606668650063936, 0.00012995608966254006, 0.00011840995693379228, 0.00011001055300072412, 9.89444297492834e-05, 0.00010116923558061134, 9.144256734679886e-05, 8.527558844311112e-05, 8.203285775197015e-05, 7.61615037327191e-05, 6.760819199899055e-05, 6.107549158878313e-05, 5.512946942861767e-05, 5.083224172701166e-05, 4.425382612848928e-05, 4.1513962508812826e-05, 3.580718316749564e-05, 3.3091700981587174e-05, 2.7802453693546588e-05, 2.5506027400525228e-05, 1.8756941765627e-05, 1.2314147892438992e-05, 1.1439463956012803e-05, 1.4340854574402116e-05, 1.4066563444512383e-05, 1.6422419482343196e-05, 1.9908964511163964e-05, 2.0826315956684112e-05, 2.137489821646361e-05, 1.9540195325423312e-05, 1.8598462446135195e-05, 1.637670429402826e-05, 1.7329104050589877e-05, 1.5005248644579536e-05, 1.345245608148148e-05, 1.143032091834986e-05, 9.330469935082812e-06, 7.625293410934898e-06, 4.99362240360384e-06, 5.967355914712441e-06, 3.7075017723430413e-06, 2.73072058201345e-06, 9.417328792881127e-07, -4.099128552241295e-07, -2.176042963791989e-06, -2.5570028664166325e-06, -3.175681748279058e-06, -3.634357471039132e-06, -4.393229597067426e-06, -5.057623667244808e-06, -4.682759123062155e-06, -2.1562330488554997e-06, -8.853508136996789e-07, -7.116330981028397e-07, -9.356375208461317e-07, -6.994423812188508e-07, -3.885791006771394e-07, 0.0, 0.0, 0.0, 0.0, 0.0, 0.0, 0.0, 0.0, 0.0, 0.0, 0.0, 0.0, 0.0, 0.0, 0.0, 0.0, 0.0, 0.0, 0.0, 0.0, 0.0, 0.0, 0.0, 0.0, 0.0, 0.0, 0.0, 0.0, 0.0, 0.0, 0.0, 0.0, 0.0, 0.0, 0.0, 0.0, 0.0, 0.0, 0.0, 0.0, 0.0, 0.0, 0.0, 0.0, 0.0, 0.0, 0.0, 0.0, 0.0, 0.0, 0.0, 0.0, 0.0, 0.0, 0.0, 0.0, 0.0, 0.0, 0.0, 0.0, 0.0, 0.0, 0.0, 0.0, 0.0, 0.0, 0.0, 0.0, 0.0, 0.0, 0.0, 0.0, 0.0, 0.0, 0.0, 0.0, 0.0, 0.0, 0.0, 0.0, 0.0, 0.0, 0.0, 0.0, 0.0, 0.0, 0.0, 0.0, 0.0, 0.0, 0.0, 0.0, 0.0, 0.0, 0.0, 0.0, 0.0, 0.0, 0.0, 0.0, 0.0, 0.0, 0.0], \"yaxis\": \"y\"}, {\"mode\": \"lines\", \"name\": \"during test variation\", \"type\": \"scatter\", \"x\": [0.0, 0.1, 0.2, 0.3, 0.4, 0.5, 0.6, 0.7, 0.8, 0.9, 1.0, 1.1, 1.2, 1.3, 1.4, 1.5, 1.6, 1.7, 1.8, 1.9, 2.0, 2.1, 2.2, 2.3, 2.4, 2.5, 2.6, 2.7, 2.8, 2.9, 3.0, 3.1, 3.2, 3.3, 3.4, 3.5, 3.6, 3.7, 3.8, 3.9, 4.0, 4.1, 4.2, 4.3, 4.4, 4.5, 4.6, 4.7, 4.8, 4.9, 5.0, 5.1, 5.2, 5.3, 5.4, 5.5, 5.6, 5.7, 5.8, 5.9, 6.0, 6.1, 6.2, 6.3, 6.4, 6.5, 6.6, 6.7, 6.8, 6.9, 7.0, 7.1, 7.2, 7.3, 7.4, 7.5, 7.6, 7.7, 7.8, 7.9, 8.0, 8.1, 8.2, 8.3, 8.4, 8.5, 8.6, 8.7, 8.8, 8.9, 9.0, 9.1, 9.2, 9.3, 9.4, 9.5, 9.6, 9.7, 9.8, 9.9, 10.0, 10.1, 10.2, 10.3, 10.4, 10.5, 10.6, 10.7, 10.8, 10.9, 11.0, 11.1, 11.2, 11.3, 11.4, 11.5, 11.6, 11.7, 11.8, 11.9, 12.0, 12.1, 12.2, 12.3, 12.4, 12.5, 12.6, 12.7, 12.8, 12.9, 13.0, 13.1, 13.2, 13.3, 13.4, 13.5, 13.6, 13.7, 13.8, 13.9, 14.0, 14.1, 14.2, 14.3, 14.4, 14.5, 14.6, 14.7, 14.8, 14.9, 15.0, 15.1, 15.2, 15.3, 15.4, 15.5, 15.6, 15.7, 15.8, 15.9, 16.0, 16.1, 16.2, 16.3, 16.4, 16.5, 16.6, 16.7, 16.8, 16.9, 17.0, 17.1, 17.2, 17.3, 17.4, 17.5, 17.6, 17.7, 17.8, 17.9, 18.0, 18.1, 18.2, 18.3, 18.4, 18.5, 18.6, 18.7, 18.8, 18.9, 19.0, 19.1, 19.2, 19.3, 19.4, 19.5, 19.6, 19.7, 19.8, 19.9, 20.0, 20.1, 20.2, 20.3, 20.4, 20.5, 20.6, 20.7, 20.8, 20.9, 21.0, 21.1, 21.2, 21.3, 21.4, 21.5, 21.6, 21.7, 21.8, 21.9, 22.0, 22.1, 22.2, 22.3, 22.4, 22.5, 22.6, 22.7, 22.8, 22.9, 23.0, 23.1, 23.2, 23.3, 23.4, 23.5, 23.6, 23.7, 23.8, 23.9, 24.0, 24.1, 24.2, 24.3, 24.4, 24.5, 24.6, 24.7, 24.8, 24.9, 25.0, 25.1, 25.2, 25.3, 25.4, 25.5, 25.6, 25.7, 25.8, 25.9, 26.0, 26.1, 26.2, 26.3, 26.4, 26.5, 26.6, 26.7, 26.8, 26.9, 27.0, 27.1, 27.2, 27.3, 27.4, 27.5, 27.6, 27.7, 27.8, 27.9, 28.0, 28.1, 28.2, 28.3, 28.4, 28.5, 28.6, 28.7, 28.8, 28.9, 29.0, 29.1, 29.2, 29.3, 29.4, 29.5, 29.6, 29.7, 29.8, 29.9, 30.0, 30.1, 30.2, 30.3, 30.4, 30.5, 30.6, 30.7, 30.8, 30.9, 31.0, 31.1, 31.2, 31.3, 31.4, 31.5, 31.6, 31.7, 31.8, 31.9, 32.0, 32.1, 32.2, 32.6, 41.6, 48.1, 59.8, 84.2, 89.5, 90.0, 90.2, 90.4, 90.5, 91.0, 91.1, 91.2, 91.4, 91.5, 91.6, 91.8, 91.9, 92.4, 92.6, 92.8, 92.9, 93.1, 93.5, 93.6, 93.7, 93.8, 94.3, 94.4, 94.5, 94.6, 94.9, 95.0, 95.1, 95.3, 95.4, 95.5, 95.6, 95.7, 95.8, 95.9, 96.1, 96.2, 96.3, 96.4, 96.6, 96.7, 96.8, 97.3, 97.4, 97.8, 97.9, 98.4, 98.7, 98.8, 98.9, 99.1, 99.2, 99.3, 99.5, 99.6, 99.7, 99.8, 100.1, 100.2, 100.3, 100.4, 100.5, 100.6, 100.7, 100.9, 101.0, 101.1, 101.2, 101.3, 101.4, 101.5, 101.7, 101.8, 101.9, 102.0, 102.1, 102.2, 102.3, 102.4, 102.5, 102.6, 102.7, 102.8, 102.9, 103.0, 103.2, 103.3, 103.4, 103.6, 103.7, 103.8, 103.9, 104.0, 104.2, 104.4, 104.6, 104.8, 105.0, 105.2, 105.3, 105.4, 105.8, 105.9, 106.0, 106.1, 106.3, 106.5, 106.7, 106.8, 106.9, 107.1, 107.3, 107.4, 107.5, 107.8, 108.2, 108.4, 108.7, 108.8, 109.0, 109.1, 109.5, 109.7], \"xaxis\": \"x\", \"y\": [-8.366520039878258e-05, 0.0006071209196590865, 0.001277053188634667, 0.0019261435752583273, 0.0025544040482604366, 0.0031618465763713632, 0.003748483128321476, 0.004314325672841144, 0.004859386178660736, 0.005383676614510619, 0.005887208949121164, 0.00636999515122274, 0.006832047189545712, 0.007273377032820452, 0.007693996649777329, 0.00809391800914671, 0.008473153079658964, 0.008831713830044458, 0.009169612229033567, 0.009486860245356655, 0.009783469847744086, 0.010059453004926238, 0.010314821685633475, 0.010549587858596166, 0.01076376349254468, 0.010957360556209385, 0.011130391018319108, 0.011314594085522241, 0.011320416918041731, 0.011376180181926975, 0.011353682026150544, 0.011392206968549132, 0.011351798625995333, 0.011416534090950276, 0.011427568545203957, 0.011481827888403746, 0.011476236787199801, 0.011550400139636888, 0.011481435966984165, 0.011422944805599139, 0.011248197620265264, 0.011185017399038818, 0.011005050815752112, 0.010961300254425778, 0.010822090388288049, 0.010743188208210233, 0.010566077052409044, 0.010478370637584212, 0.010346120487131507, 0.010292396147774318, 0.01011565047424933, 0.010091066736632983, 0.009984415897951331, 0.009962679811601864, 0.009837106322475595, 0.00981575127083961, 0.009740640774971868, 0.009712425543249484, 0.009605766928349191, 0.009598315755645964, 0.009537438850381424, 0.009561055226398645, 0.009432718069166835, 0.00945733291165775, 0.009408030130220683, 0.009404393970383458, 0.009326130995478053, 0.00931815881612578, 0.009151010551649342, 0.009051324094383898, 0.008886983044837394, 0.0087788889399757, 0.008608701729253775, 0.008450726292288012, 0.008254807574078114, 0.008104922514987987, 0.007865250124964298, 0.00771924539897677, 0.007501582818198762, 0.007358277995323902, 0.007061329089267141, 0.006944623599880759, 0.006743147995828945, 0.00661236599545594, 0.006414181287133624, 0.006283330856036567, 0.006061769279231219, 0.0059023645732789645, 0.005707490978854616, 0.005582993718388468, 0.005380838472827299, 0.005222094745459657, 0.005035042471745918, 0.004945754374049203, 0.004762666416599403, 0.004689804803163067, 0.0045066717436451405, 0.004405736425665714, 0.004257468820053224, 0.004142911122255896, 0.00400969983117898, 0.003927984215196315, 0.0037975132635690097, 0.0036891563225171973, 0.0035663138413781683, 0.00348802442732938, 0.003367477485933612, 0.0032970933757567717, 0.0031896353655800304, 0.00309083539723983, 0.0029798205446560175, 0.002912259201846398, 0.0027953826356498825, 0.002742047107224821, 0.0026196727544480695, 0.0025790420120410974, 0.002486288831317291, 0.0024228037823200623, 0.0023184500386254, 0.0022571749909663635, 0.0021516672564251575, 0.0021091671110565324, 0.0020267360829587574, 0.0019653708311634694, 0.0018929229125589139, 0.001851953127019129, 0.0017735641773717172, 0.0017323579947852012, 0.0016777113958970176, 0.0016316279689779357, 0.0015880484844617336, 0.001559994998087113, 0.0015334843134911609, 0.001553442756258957, 0.0015314251707946314, 0.00154006454970643, 0.0015063421999414392, 0.0015006951099632681, 0.001470041256074601, 0.0014516256150854732, 0.0014172111818613014, 0.0014061176283459357, 0.0013578988517876282, 0.0013472827580969105, 0.0013073472096365763, 0.0012935288691088842, 0.0012701535558695808, 0.001267259247290849, 0.001221622175321846, 0.0012026544228091018, 0.0011676738808677574, 0.0011592351283969352, 0.0011540810506806974, 0.001152979938120922, 0.0011013831721843202, 0.0010880531781873762, 0.0011273650739125837, 0.001144394992739621, 0.0011538213249780388, 0.0011662072860317855, 0.0011472986327807242, 0.001119613739169757, 0.0011160646729813277, 0.0011194302204097944, 0.0011101656335191403, 0.0011319017198686081, 0.0011135405124099778, 0.001138593933632329, 0.0011293402334477745, 0.001131809960488627, 0.0011133010048757896, 0.0011163881636768553, 0.0011036756014401244, 0.0010982198064405585, 0.0010820950394635062, 0.0010703280654137013, 0.0010546123275372435, 0.001042890455555565, 0.0010222026034791038, 0.001022183940554362, 0.0010027216205359558, 0.000988427375427344, 0.0009793945198522363, 0.0009736618914689979, 0.0009528449541630713, 0.0009246390539030578, 0.0008918762895185494, 0.0008574105332513373, 0.000805308313102974, 0.0007717414877108327, 0.000732782632311994, 0.0006930772599234769, 0.0006601822998220461, 0.0006352641848040745, 0.0005970129653017016, 0.0005849193900689124, 0.0005616358362095904, 0.0005513292360208436, 0.0005147374615767767, 0.0004772576429637381, 0.00043763936422401675, 0.00041975717183376335, 0.00040527474223400354, 0.0003816661424354258, 0.0003632520566900265, 0.00034978520124497487, 0.00032681580661880923, 0.0003334722497767745, 0.0003244549466389514, 0.00032611283645352877, 0.0003125993236966222, 0.00029614951078031415, 0.000282449368775988, 0.00028151155680770457, 0.00029539677281572186, 0.000296017315063392, 0.0002912364958419936, 0.0002892473391132465, 0.0002835022687801803, 0.0002858864574159655, 0.0002863888011402699, 0.00028759411502985474, 0.00027665608588733844, 0.0002692717886644368, 0.0002643929890881431, 0.00025981124106399226, 0.0002467580804507206, 0.0002424764944661696, 0.00023400819236450582, 0.00023218700195843636, 0.00023468938911758733, 0.00023100657196850749, 0.00022208102821066577, 0.0002208119493282126, 0.00022353362585308156, 0.00022501888361379575, 0.00022212301979133517, 0.00021987413735992915, 0.0002165428052934895, 0.00021665011711075578, 0.0002113094101470986, 0.00021381646303743503, 0.00021046180231506796, 0.00021001078163380396, 0.00020803095636742788, 0.00021050223865200896, 0.00020750994971838156, 0.00020112878470036015, 0.00019071798318180417, 0.00018905698287976987, 0.00018229167266080982, 0.00018303196867557422, 0.000189217172983805, 0.0001910025927841191, 0.00018815338627351338, 0.00018862618036697635, 0.00018957798952881622, 0.00020034183137374094, 0.00020011787627683742, 0.0002028208898769644, 0.0002081802597653636, 0.00020518952607546467, 0.00020217701897336685, 0.00019355941347376743, 0.00019218302277404796, 0.00019437436118749967, 0.00019465119457117206, 0.00019269003222953786, 0.00019135874359794473, 0.00019032761700595158, 0.00018879414668965394, 0.0001905329091781131, 0.0001941566270655101, 0.00019475695114470982, 0.00019257805468108613, 0.00019193107329003154, 0.00019469940712675546, 0.00019729355366588768, 0.0001940430942733299, 0.00019220635142997545, 0.00018829957918399212, 0.00019032606176222315, 0.00018426216646481503, 0.00018204905463916444, 0.00017363518606799809, 0.0001715107231348718, 0.00016488538485147643, 0.00015728024301912827, 0.00015389758790964827, 0.0001477792590817428, 0.00014564390944251705, 0.0001414183122321919, 0.0001334585748297465, 0.00012918165457638097, 0.00012146142470812408, 0.00011692788923955662, 0.0001093491865505929, 0.00010352479878737328, 9.478432903322263e-05, 8.735959547338007e-05, 8.121482750209015e-05, 7.90328205510095e-05, 7.235460398084528e-05, 6.413669611946947e-05, 6.2775857857035e-05, 5.760156197232694e-05, 5.16589756857416e-05, 4.8167453515266826e-05, 4.423268688217054e-05, 4.116730149330384e-05, 3.3828106338528574e-05, 2.7630460080469783e-05, 2.0927359610649626e-05, 1.4613070072953598e-05, 1.310292841258344e-05, 1.0088866066757109e-05, 1.3818340527691872e-05, 1.3465300201323155e-05, 1.2871197097037475e-05, 1.1426375673264173e-05, 1.178252648708989e-05, 1.3263118516618621e-05, 1.215578498192907e-05, 1.1731203444049515e-05, 1.3048494882086106e-05, 1.255081688896721e-05, 1.1754532099976974e-05, 1.0107528991499117e-05, 8.406092352523883e-06, 6.174317602131323e-06, 3.808791891088056e-06, 4.183605629655729e-06, 3.0218385644688015e-06, 9.580301367538665e-07, 2.2239985317499656e-07, -1.3235124129505813e-06, -1.9253917358787505e-06, 2.7994387112931627e-08, -1.253526445168233e-06, -2.1182419582123205e-06, -1.0435685418211952e-06, -1.5163626352841494e-06, -9.891350113238146e-07, -1.2037586458563391e-06, -1.3639487498914851e-06, -5.085646992183763e-07, -8.584945381301021e-07, -1.2239768143267932e-06, -1.6050115278084507e-06, -5.645534734442516e-07, -2.41062777916967e-07, -3.172697206132982e-07, -3.965871507666229e-07, 0.0, 0.0, 0.0, 0.0, 0.0, 0.0, 0.0, 0.0, 0.0, 0.0, 0.0, 0.0, 0.0, 0.0, 0.0, 0.0, 0.0, 0.0, 0.0, 0.0, 0.0, 0.0, 0.0, 0.0, 0.0, 0.0, 0.0, 0.0, 0.0, 0.0, 0.0, 0.0, 0.0, 0.0, 0.0, 0.0, 0.0, 0.0, 0.0, 0.0, 0.0, 0.0, 0.0, 0.0, 0.0, 0.0, 0.0, 0.0, 0.0, 0.0, 0.0, 0.0, 0.0, 0.0, 0.0, 0.0, 0.0, 0.0, 0.0, 0.0, 0.0, 0.0, 0.0, 0.0, 0.0, 0.0, 0.0, 0.0, 0.0, 0.0, 0.0, 0.0, 0.0, 0.0, 0.0, 0.0, 0.0, 0.0, 0.0, 0.0, 0.0, 0.0, 0.0, 0.0, 0.0, 0.0, 0.0, 0.0, 0.0, 0.0, 0.0, 0.0, 0.0, 0.0, 0.0, 0.0, 0.0, 0.0, 0.0], \"yaxis\": \"y\"}],\n",
              "                        {\"template\": {\"data\": {\"bar\": [{\"error_x\": {\"color\": \"#2a3f5f\"}, \"error_y\": {\"color\": \"#2a3f5f\"}, \"marker\": {\"line\": {\"color\": \"#E5ECF6\", \"width\": 0.5}}, \"type\": \"bar\"}], \"barpolar\": [{\"marker\": {\"line\": {\"color\": \"#E5ECF6\", \"width\": 0.5}}, \"type\": \"barpolar\"}], \"carpet\": [{\"aaxis\": {\"endlinecolor\": \"#2a3f5f\", \"gridcolor\": \"white\", \"linecolor\": \"white\", \"minorgridcolor\": \"white\", \"startlinecolor\": \"#2a3f5f\"}, \"baxis\": {\"endlinecolor\": \"#2a3f5f\", \"gridcolor\": \"white\", \"linecolor\": \"white\", \"minorgridcolor\": \"white\", \"startlinecolor\": \"#2a3f5f\"}, \"type\": \"carpet\"}], \"choropleth\": [{\"colorbar\": {\"outlinewidth\": 0, \"ticks\": \"\"}, \"type\": \"choropleth\"}], \"contour\": [{\"colorbar\": {\"outlinewidth\": 0, \"ticks\": \"\"}, \"colorscale\": [[0.0, \"#0d0887\"], [0.1111111111111111, \"#46039f\"], [0.2222222222222222, \"#7201a8\"], [0.3333333333333333, \"#9c179e\"], [0.4444444444444444, \"#bd3786\"], [0.5555555555555556, \"#d8576b\"], [0.6666666666666666, \"#ed7953\"], [0.7777777777777778, \"#fb9f3a\"], [0.8888888888888888, \"#fdca26\"], [1.0, \"#f0f921\"]], \"type\": \"contour\"}], \"contourcarpet\": [{\"colorbar\": {\"outlinewidth\": 0, \"ticks\": \"\"}, \"type\": \"contourcarpet\"}], \"heatmap\": [{\"colorbar\": {\"outlinewidth\": 0, \"ticks\": \"\"}, \"colorscale\": [[0.0, \"#0d0887\"], [0.1111111111111111, \"#46039f\"], [0.2222222222222222, \"#7201a8\"], [0.3333333333333333, \"#9c179e\"], [0.4444444444444444, \"#bd3786\"], [0.5555555555555556, \"#d8576b\"], [0.6666666666666666, \"#ed7953\"], [0.7777777777777778, \"#fb9f3a\"], [0.8888888888888888, \"#fdca26\"], [1.0, \"#f0f921\"]], \"type\": \"heatmap\"}], \"heatmapgl\": [{\"colorbar\": {\"outlinewidth\": 0, \"ticks\": \"\"}, \"colorscale\": [[0.0, \"#0d0887\"], [0.1111111111111111, \"#46039f\"], [0.2222222222222222, \"#7201a8\"], [0.3333333333333333, \"#9c179e\"], [0.4444444444444444, \"#bd3786\"], [0.5555555555555556, \"#d8576b\"], [0.6666666666666666, \"#ed7953\"], [0.7777777777777778, \"#fb9f3a\"], [0.8888888888888888, \"#fdca26\"], [1.0, \"#f0f921\"]], \"type\": \"heatmapgl\"}], \"histogram\": [{\"marker\": {\"colorbar\": {\"outlinewidth\": 0, \"ticks\": \"\"}}, \"type\": \"histogram\"}], \"histogram2d\": [{\"colorbar\": {\"outlinewidth\": 0, \"ticks\": \"\"}, \"colorscale\": [[0.0, \"#0d0887\"], [0.1111111111111111, \"#46039f\"], [0.2222222222222222, \"#7201a8\"], [0.3333333333333333, \"#9c179e\"], [0.4444444444444444, \"#bd3786\"], [0.5555555555555556, \"#d8576b\"], [0.6666666666666666, \"#ed7953\"], [0.7777777777777778, \"#fb9f3a\"], [0.8888888888888888, \"#fdca26\"], [1.0, \"#f0f921\"]], \"type\": \"histogram2d\"}], \"histogram2dcontour\": [{\"colorbar\": {\"outlinewidth\": 0, \"ticks\": \"\"}, \"colorscale\": [[0.0, \"#0d0887\"], [0.1111111111111111, \"#46039f\"], [0.2222222222222222, \"#7201a8\"], [0.3333333333333333, \"#9c179e\"], [0.4444444444444444, \"#bd3786\"], [0.5555555555555556, \"#d8576b\"], [0.6666666666666666, \"#ed7953\"], [0.7777777777777778, \"#fb9f3a\"], [0.8888888888888888, \"#fdca26\"], [1.0, \"#f0f921\"]], \"type\": \"histogram2dcontour\"}], \"mesh3d\": [{\"colorbar\": {\"outlinewidth\": 0, \"ticks\": \"\"}, \"type\": \"mesh3d\"}], \"parcoords\": [{\"line\": {\"colorbar\": {\"outlinewidth\": 0, \"ticks\": \"\"}}, \"type\": \"parcoords\"}], \"pie\": [{\"automargin\": true, \"type\": \"pie\"}], \"scatter\": [{\"marker\": {\"colorbar\": {\"outlinewidth\": 0, \"ticks\": \"\"}}, \"type\": \"scatter\"}], \"scatter3d\": [{\"line\": {\"colorbar\": {\"outlinewidth\": 0, \"ticks\": \"\"}}, \"marker\": {\"colorbar\": {\"outlinewidth\": 0, \"ticks\": \"\"}}, \"type\": \"scatter3d\"}], \"scattercarpet\": [{\"marker\": {\"colorbar\": {\"outlinewidth\": 0, \"ticks\": \"\"}}, \"type\": \"scattercarpet\"}], \"scattergeo\": [{\"marker\": {\"colorbar\": {\"outlinewidth\": 0, \"ticks\": \"\"}}, \"type\": \"scattergeo\"}], \"scattergl\": [{\"marker\": {\"colorbar\": {\"outlinewidth\": 0, \"ticks\": \"\"}}, \"type\": \"scattergl\"}], \"scattermapbox\": [{\"marker\": {\"colorbar\": {\"outlinewidth\": 0, \"ticks\": \"\"}}, \"type\": \"scattermapbox\"}], \"scatterpolar\": [{\"marker\": {\"colorbar\": {\"outlinewidth\": 0, \"ticks\": \"\"}}, \"type\": \"scatterpolar\"}], \"scatterpolargl\": [{\"marker\": {\"colorbar\": {\"outlinewidth\": 0, \"ticks\": \"\"}}, \"type\": \"scatterpolargl\"}], \"scatterternary\": [{\"marker\": {\"colorbar\": {\"outlinewidth\": 0, \"ticks\": \"\"}}, \"type\": \"scatterternary\"}], \"surface\": [{\"colorbar\": {\"outlinewidth\": 0, \"ticks\": \"\"}, \"colorscale\": [[0.0, \"#0d0887\"], [0.1111111111111111, \"#46039f\"], [0.2222222222222222, \"#7201a8\"], [0.3333333333333333, \"#9c179e\"], [0.4444444444444444, \"#bd3786\"], [0.5555555555555556, \"#d8576b\"], [0.6666666666666666, \"#ed7953\"], [0.7777777777777778, \"#fb9f3a\"], [0.8888888888888888, \"#fdca26\"], [1.0, \"#f0f921\"]], \"type\": \"surface\"}], \"table\": [{\"cells\": {\"fill\": {\"color\": \"#EBF0F8\"}, \"line\": {\"color\": \"white\"}}, \"header\": {\"fill\": {\"color\": \"#C8D4E3\"}, \"line\": {\"color\": \"white\"}}, \"type\": \"table\"}]}, \"layout\": {\"annotationdefaults\": {\"arrowcolor\": \"#2a3f5f\", \"arrowhead\": 0, \"arrowwidth\": 1}, \"coloraxis\": {\"colorbar\": {\"outlinewidth\": 0, \"ticks\": \"\"}}, \"colorscale\": {\"diverging\": [[0, \"#8e0152\"], [0.1, \"#c51b7d\"], [0.2, \"#de77ae\"], [0.3, \"#f1b6da\"], [0.4, \"#fde0ef\"], [0.5, \"#f7f7f7\"], [0.6, \"#e6f5d0\"], [0.7, \"#b8e186\"], [0.8, \"#7fbc41\"], [0.9, \"#4d9221\"], [1, \"#276419\"]], \"sequential\": [[0.0, \"#0d0887\"], [0.1111111111111111, \"#46039f\"], [0.2222222222222222, \"#7201a8\"], [0.3333333333333333, \"#9c179e\"], [0.4444444444444444, \"#bd3786\"], [0.5555555555555556, \"#d8576b\"], [0.6666666666666666, \"#ed7953\"], [0.7777777777777778, \"#fb9f3a\"], [0.8888888888888888, \"#fdca26\"], [1.0, \"#f0f921\"]], \"sequentialminus\": [[0.0, \"#0d0887\"], [0.1111111111111111, \"#46039f\"], [0.2222222222222222, \"#7201a8\"], [0.3333333333333333, \"#9c179e\"], [0.4444444444444444, \"#bd3786\"], [0.5555555555555556, \"#d8576b\"], [0.6666666666666666, \"#ed7953\"], [0.7777777777777778, \"#fb9f3a\"], [0.8888888888888888, \"#fdca26\"], [1.0, \"#f0f921\"]]}, \"colorway\": [\"#636efa\", \"#EF553B\", \"#00cc96\", \"#ab63fa\", \"#FFA15A\", \"#19d3f3\", \"#FF6692\", \"#B6E880\", \"#FF97FF\", \"#FECB52\"], \"font\": {\"color\": \"#2a3f5f\"}, \"geo\": {\"bgcolor\": \"white\", \"lakecolor\": \"white\", \"landcolor\": \"#E5ECF6\", \"showlakes\": true, \"showland\": true, \"subunitcolor\": \"white\"}, \"hoverlabel\": {\"align\": \"left\"}, \"hovermode\": \"closest\", \"mapbox\": {\"style\": \"light\"}, \"paper_bgcolor\": \"white\", \"plot_bgcolor\": \"#E5ECF6\", \"polar\": {\"angularaxis\": {\"gridcolor\": \"white\", \"linecolor\": \"white\", \"ticks\": \"\"}, \"bgcolor\": \"#E5ECF6\", \"radialaxis\": {\"gridcolor\": \"white\", \"linecolor\": \"white\", \"ticks\": \"\"}}, \"scene\": {\"xaxis\": {\"backgroundcolor\": \"#E5ECF6\", \"gridcolor\": \"white\", \"gridwidth\": 2, \"linecolor\": \"white\", \"showbackground\": true, \"ticks\": \"\", \"zerolinecolor\": \"white\"}, \"yaxis\": {\"backgroundcolor\": \"#E5ECF6\", \"gridcolor\": \"white\", \"gridwidth\": 2, \"linecolor\": \"white\", \"showbackground\": true, \"ticks\": \"\", \"zerolinecolor\": \"white\"}, \"zaxis\": {\"backgroundcolor\": \"#E5ECF6\", \"gridcolor\": \"white\", \"gridwidth\": 2, \"linecolor\": \"white\", \"showbackground\": true, \"ticks\": \"\", \"zerolinecolor\": \"white\"}}, \"shapedefaults\": {\"line\": {\"color\": \"#2a3f5f\"}}, \"ternary\": {\"aaxis\": {\"gridcolor\": \"white\", \"linecolor\": \"white\", \"ticks\": \"\"}, \"baxis\": {\"gridcolor\": \"white\", \"linecolor\": \"white\", \"ticks\": \"\"}, \"bgcolor\": \"#E5ECF6\", \"caxis\": {\"gridcolor\": \"white\", \"linecolor\": \"white\", \"ticks\": \"\"}}, \"title\": {\"x\": 0.05}, \"xaxis\": {\"automargin\": true, \"gridcolor\": \"white\", \"linecolor\": \"white\", \"ticks\": \"\", \"title\": {\"standoff\": 15}, \"zerolinecolor\": \"white\", \"zerolinewidth\": 2}, \"yaxis\": {\"automargin\": true, \"gridcolor\": \"white\", \"linecolor\": \"white\", \"ticks\": \"\", \"title\": {\"standoff\": 15}, \"zerolinecolor\": \"white\", \"zerolinewidth\": 2}}}, \"title\": {\"text\": \"Order across travel time (Before test, Test-Control, Test-Variation)\"}, \"xaxis\": {\"anchor\": \"y\", \"domain\": [0.0, 0.94], \"title\": {\"text\": \"Travel Time (in minutes)\"}}, \"yaxis\": {\"anchor\": \"x\", \"domain\": [0.0, 1.0], \"showgrid\": false, \"title\": {\"text\": \"Share of orders\"}}, \"yaxis2\": {\"anchor\": \"x\", \"overlaying\": \"y\", \"showgrid\": false, \"side\": \"right\", \"title\": {\"text\": \"Delta % difference of Variation1 vs Control\"}}},\n",
              "                        {\"responsive\": true}\n",
              "                    ).then(function(){\n",
              "                            \n",
              "var gd = document.getElementById('cd339d42-0d93-4a72-94f9-52c3d9d829be');\n",
              "var x = new MutationObserver(function (mutations, observer) {{\n",
              "        var display = window.getComputedStyle(gd).display;\n",
              "        if (!display || display === 'none') {{\n",
              "            console.log([gd, 'removed!']);\n",
              "            Plotly.purge(gd);\n",
              "            observer.disconnect();\n",
              "        }}\n",
              "}});\n",
              "\n",
              "// Listen for the removal of the full notebook cells\n",
              "var notebookContainer = gd.closest('#notebook-container');\n",
              "if (notebookContainer) {{\n",
              "    x.observe(notebookContainer, {childList: true});\n",
              "}}\n",
              "\n",
              "// Listen for the clearing of the current output cell\n",
              "var outputEl = gd.closest('.output');\n",
              "if (outputEl) {{\n",
              "    x.observe(outputEl, {childList: true});\n",
              "}}\n",
              "\n",
              "                        })\n",
              "                };\n",
              "                \n",
              "            </script>\n",
              "        </div>\n",
              "</body>\n",
              "</html>"
            ]
          },
          "metadata": {
            "tags": []
          }
        }
      ]
    },
    {
      "cell_type": "markdown",
      "metadata": {
        "id": "926DWk0Nni6J"
      },
      "source": [
        "### 2. Sessions converted to orders"
      ]
    },
    {
      "cell_type": "code",
      "metadata": {
        "id": "cER33LT4rHR0"
      },
      "source": [
        "query5 =  \"\"\"\n",
        "WITH city_data AS (\n",
        "  SELECT p.entity_id\n",
        "    , country_code\n",
        "    , ci.name AS city_name\n",
        "    , ci.id AS city_id\n",
        "    , zo.shape AS zone_shape \n",
        "    , zo.name AS zone_name\n",
        "    , zo.id AS zone_id\n",
        "  FROM cl.countries co\n",
        "  LEFT JOIN UNNEST(co.platforms) p\n",
        "  LEFT JOIN UNNEST(co.cities) ci\n",
        "  LEFT JOIN UNNEST(ci.zones) zo\n",
        "  WHERE country_code = \"sg\" and zo.id = 3\n",
        "),\n",
        "\n",
        "orders as (\n",
        "  select entity.id as entity_id\n",
        "  , created_date\n",
        "  , count(distinct platform_order_code) as order_amount\n",
        "  from cl.orders o\n",
        "  left join unnest(deliveries) d\n",
        "  left join unnest(porygon) p\n",
        "  where\n",
        "  o.entity.id = 'FP_SG'\n",
        "  and o.order_status = 'completed'\n",
        "  and d.delivery_status = 'completed'\n",
        "  and o.created_date between '2020-08-13' and '2020-09-21'\n",
        "  and p.vehicle_profile = 'default'\n",
        "  and zone_id in (3) \n",
        "  group by 1,2\n",
        "  )\n",
        "  \n",
        "  \n",
        "SELECT \n",
        "se.created_date as date\n",
        ", o.order_amount\n",
        ", count(distinct customer.id) customer_amount\n",
        ", count(distinct customer.user_id) user_amount\n",
        ", count(distinct customer.session.id) session_amount\n",
        "FROM cl.dynamic_pricing_user_sessions se\n",
        "LEFT JOIN city_data cd ON se.entity_id = cd.entity_id\n",
        "LEFT JOIN orders o on se.entity_id = o.entity_id and o.created_date = se.created_date\n",
        "where ST_CONTAINS(cd.zone_shape, customer.location) IS TRUE\n",
        "and se.entity_id = \"FP_SG\"\n",
        "and se.created_date between '2020-08-13' and '2020-09-21'\n",
        "GROUP BY 1,2\n",
        "\n",
        "    \"\"\"\n",
        "\n",
        "session_order = client.query(query5).to_dataframe()"
      ],
      "execution_count": null,
      "outputs": []
    },
    {
      "cell_type": "code",
      "metadata": {
        "id": "rYi4ts1Mrmf2",
        "colab": {
          "base_uri": "https://localhost:8080/",
          "height": 542
        },
        "outputId": "11bdce90-0f85-4746-c73b-84c35699cad6"
      },
      "source": [
        "session_order[\"cvr_customer\"]=session_order[\"order_amount\"]/session_order[\"customer_amount\"]\n",
        "session_order[\"cvr_session\"]=session_order[\"order_amount\"]/session_order[\"session_amount\"]\n",
        "fig = px.line(session_order.sort_values(\"date\"), x=\"date\", y=\"cvr_customer\", title='')\n",
        "fig.show()"
      ],
      "execution_count": null,
      "outputs": [
        {
          "output_type": "display_data",
          "data": {
            "text/html": [
              "<html>\n",
              "<head><meta charset=\"utf-8\" /></head>\n",
              "<body>\n",
              "    <div>\n",
              "            <script src=\"https://cdnjs.cloudflare.com/ajax/libs/mathjax/2.7.5/MathJax.js?config=TeX-AMS-MML_SVG\"></script><script type=\"text/javascript\">if (window.MathJax) {MathJax.Hub.Config({SVG: {font: \"STIX-Web\"}});}</script>\n",
              "                <script type=\"text/javascript\">window.PlotlyConfig = {MathJaxConfig: 'local'};</script>\n",
              "        <script src=\"https://cdn.plot.ly/plotly-latest.min.js\"></script>    \n",
              "            <div id=\"49e9ba4b-9038-4c66-a3f9-352bf3197fa9\" class=\"plotly-graph-div\" style=\"height:525px; width:100%;\"></div>\n",
              "            <script type=\"text/javascript\">\n",
              "                \n",
              "                    window.PLOTLYENV=window.PLOTLYENV || {};\n",
              "                    \n",
              "                if (document.getElementById(\"49e9ba4b-9038-4c66-a3f9-352bf3197fa9\")) {\n",
              "                    Plotly.newPlot(\n",
              "                        '49e9ba4b-9038-4c66-a3f9-352bf3197fa9',\n",
              "                        [{\"hoverlabel\": {\"namelength\": 0}, \"hovertemplate\": \"date=%{x}<br>cvr_customer=%{y}\", \"legendgroup\": \"\", \"line\": {\"color\": \"#636efa\", \"dash\": \"solid\"}, \"mode\": \"lines\", \"name\": \"\", \"showlegend\": false, \"type\": \"scatter\", \"x\": [\"2020-08-13\", \"2020-08-14\", \"2020-08-15\", \"2020-08-16\", \"2020-08-17\", \"2020-08-18\", \"2020-08-19\", \"2020-08-20\", \"2020-08-21\", \"2020-08-22\", \"2020-08-23\", \"2020-08-24\", \"2020-08-25\", \"2020-08-26\", \"2020-08-27\", \"2020-08-28\", \"2020-08-29\", \"2020-08-30\", \"2020-08-31\", \"2020-09-01\", \"2020-09-02\", \"2020-09-03\", \"2020-09-04\", \"2020-09-05\", \"2020-09-06\", \"2020-09-07\", \"2020-09-08\", \"2020-09-09\", \"2020-09-10\", \"2020-09-11\", \"2020-09-12\", \"2020-09-13\", \"2020-09-14\", \"2020-09-15\", \"2020-09-16\", \"2020-09-17\", \"2020-09-18\", \"2020-09-19\", \"2020-09-20\", \"2020-09-21\"], \"xaxis\": \"x\", \"y\": [0.30950450085151243, 0.285447556287754, 0.3033224180433423, 0.2995766732355303, 0.28225876244050196, 0.2831152812651425, 0.2747290408259435, 0.2866594087597354, 0.30888476602762316, 0.28847802586945986, 0.27224454649827784, 0.27792868537920923, 0.2943541414490749, 0.2849287786292592, 0.3144490402937212, 0.3107460362980868, 0.3077040543635947, 0.32108544762950475, 0.2751636571328149, 0.2889447236180904, 0.2915899600377172, 0.28728107464716884, 0.3181145113524186, 0.2646996165317427, 0.2804199897563474, 0.27441963298695554, 0.2762354473662786, 0.2791229821933766, 0.3113543567022848, 0.3115268606831336, 0.2874011362370502, 0.2590439959139103, 0.278523336234141, 0.2802272727272727, 0.2796697165811203, 0.3020021261516655, 0.3053233421405986, 0.28914802475011897, 0.3029170972100787, 0.2833942346731628], \"yaxis\": \"y\"}],\n",
              "                        {\"legend\": {\"tracegroupgap\": 0}, \"margin\": {\"t\": 60}, \"template\": {\"data\": {\"bar\": [{\"error_x\": {\"color\": \"#2a3f5f\"}, \"error_y\": {\"color\": \"#2a3f5f\"}, \"marker\": {\"line\": {\"color\": \"#E5ECF6\", \"width\": 0.5}}, \"type\": \"bar\"}], \"barpolar\": [{\"marker\": {\"line\": {\"color\": \"#E5ECF6\", \"width\": 0.5}}, \"type\": \"barpolar\"}], \"carpet\": [{\"aaxis\": {\"endlinecolor\": \"#2a3f5f\", \"gridcolor\": \"white\", \"linecolor\": \"white\", \"minorgridcolor\": \"white\", \"startlinecolor\": \"#2a3f5f\"}, \"baxis\": {\"endlinecolor\": \"#2a3f5f\", \"gridcolor\": \"white\", \"linecolor\": \"white\", \"minorgridcolor\": \"white\", \"startlinecolor\": \"#2a3f5f\"}, \"type\": \"carpet\"}], \"choropleth\": [{\"colorbar\": {\"outlinewidth\": 0, \"ticks\": \"\"}, \"type\": \"choropleth\"}], \"contour\": [{\"colorbar\": {\"outlinewidth\": 0, \"ticks\": \"\"}, \"colorscale\": [[0.0, \"#0d0887\"], [0.1111111111111111, \"#46039f\"], [0.2222222222222222, \"#7201a8\"], [0.3333333333333333, \"#9c179e\"], [0.4444444444444444, \"#bd3786\"], [0.5555555555555556, \"#d8576b\"], [0.6666666666666666, \"#ed7953\"], [0.7777777777777778, \"#fb9f3a\"], [0.8888888888888888, \"#fdca26\"], [1.0, \"#f0f921\"]], \"type\": \"contour\"}], \"contourcarpet\": [{\"colorbar\": {\"outlinewidth\": 0, \"ticks\": \"\"}, \"type\": \"contourcarpet\"}], \"heatmap\": [{\"colorbar\": {\"outlinewidth\": 0, \"ticks\": \"\"}, \"colorscale\": [[0.0, \"#0d0887\"], [0.1111111111111111, \"#46039f\"], [0.2222222222222222, \"#7201a8\"], [0.3333333333333333, \"#9c179e\"], [0.4444444444444444, \"#bd3786\"], [0.5555555555555556, \"#d8576b\"], [0.6666666666666666, \"#ed7953\"], [0.7777777777777778, \"#fb9f3a\"], [0.8888888888888888, \"#fdca26\"], [1.0, \"#f0f921\"]], \"type\": \"heatmap\"}], \"heatmapgl\": [{\"colorbar\": {\"outlinewidth\": 0, \"ticks\": \"\"}, \"colorscale\": [[0.0, \"#0d0887\"], [0.1111111111111111, \"#46039f\"], [0.2222222222222222, \"#7201a8\"], [0.3333333333333333, \"#9c179e\"], [0.4444444444444444, \"#bd3786\"], [0.5555555555555556, \"#d8576b\"], [0.6666666666666666, \"#ed7953\"], [0.7777777777777778, \"#fb9f3a\"], [0.8888888888888888, \"#fdca26\"], [1.0, \"#f0f921\"]], \"type\": \"heatmapgl\"}], \"histogram\": [{\"marker\": {\"colorbar\": {\"outlinewidth\": 0, \"ticks\": \"\"}}, \"type\": \"histogram\"}], \"histogram2d\": [{\"colorbar\": {\"outlinewidth\": 0, \"ticks\": \"\"}, \"colorscale\": [[0.0, \"#0d0887\"], [0.1111111111111111, \"#46039f\"], [0.2222222222222222, \"#7201a8\"], [0.3333333333333333, \"#9c179e\"], [0.4444444444444444, \"#bd3786\"], [0.5555555555555556, \"#d8576b\"], [0.6666666666666666, \"#ed7953\"], [0.7777777777777778, \"#fb9f3a\"], [0.8888888888888888, \"#fdca26\"], [1.0, \"#f0f921\"]], \"type\": \"histogram2d\"}], \"histogram2dcontour\": [{\"colorbar\": {\"outlinewidth\": 0, \"ticks\": \"\"}, \"colorscale\": [[0.0, \"#0d0887\"], [0.1111111111111111, \"#46039f\"], [0.2222222222222222, \"#7201a8\"], [0.3333333333333333, \"#9c179e\"], [0.4444444444444444, \"#bd3786\"], [0.5555555555555556, \"#d8576b\"], [0.6666666666666666, \"#ed7953\"], [0.7777777777777778, \"#fb9f3a\"], [0.8888888888888888, \"#fdca26\"], [1.0, \"#f0f921\"]], \"type\": \"histogram2dcontour\"}], \"mesh3d\": [{\"colorbar\": {\"outlinewidth\": 0, \"ticks\": \"\"}, \"type\": \"mesh3d\"}], \"parcoords\": [{\"line\": {\"colorbar\": {\"outlinewidth\": 0, \"ticks\": \"\"}}, \"type\": \"parcoords\"}], \"pie\": [{\"automargin\": true, \"type\": \"pie\"}], \"scatter\": [{\"marker\": {\"colorbar\": {\"outlinewidth\": 0, \"ticks\": \"\"}}, \"type\": \"scatter\"}], \"scatter3d\": [{\"line\": {\"colorbar\": {\"outlinewidth\": 0, \"ticks\": \"\"}}, \"marker\": {\"colorbar\": {\"outlinewidth\": 0, \"ticks\": \"\"}}, \"type\": \"scatter3d\"}], \"scattercarpet\": [{\"marker\": {\"colorbar\": {\"outlinewidth\": 0, \"ticks\": \"\"}}, \"type\": \"scattercarpet\"}], \"scattergeo\": [{\"marker\": {\"colorbar\": {\"outlinewidth\": 0, \"ticks\": \"\"}}, \"type\": \"scattergeo\"}], \"scattergl\": [{\"marker\": {\"colorbar\": {\"outlinewidth\": 0, \"ticks\": \"\"}}, \"type\": \"scattergl\"}], \"scattermapbox\": [{\"marker\": {\"colorbar\": {\"outlinewidth\": 0, \"ticks\": \"\"}}, \"type\": \"scattermapbox\"}], \"scatterpolar\": [{\"marker\": {\"colorbar\": {\"outlinewidth\": 0, \"ticks\": \"\"}}, \"type\": \"scatterpolar\"}], \"scatterpolargl\": [{\"marker\": {\"colorbar\": {\"outlinewidth\": 0, \"ticks\": \"\"}}, \"type\": \"scatterpolargl\"}], \"scatterternary\": [{\"marker\": {\"colorbar\": {\"outlinewidth\": 0, \"ticks\": \"\"}}, \"type\": \"scatterternary\"}], \"surface\": [{\"colorbar\": {\"outlinewidth\": 0, \"ticks\": \"\"}, \"colorscale\": [[0.0, \"#0d0887\"], [0.1111111111111111, \"#46039f\"], [0.2222222222222222, \"#7201a8\"], [0.3333333333333333, \"#9c179e\"], [0.4444444444444444, \"#bd3786\"], [0.5555555555555556, \"#d8576b\"], [0.6666666666666666, \"#ed7953\"], [0.7777777777777778, \"#fb9f3a\"], [0.8888888888888888, \"#fdca26\"], [1.0, \"#f0f921\"]], \"type\": \"surface\"}], \"table\": [{\"cells\": {\"fill\": {\"color\": \"#EBF0F8\"}, \"line\": {\"color\": \"white\"}}, \"header\": {\"fill\": {\"color\": \"#C8D4E3\"}, \"line\": {\"color\": \"white\"}}, \"type\": \"table\"}]}, \"layout\": {\"annotationdefaults\": {\"arrowcolor\": \"#2a3f5f\", \"arrowhead\": 0, \"arrowwidth\": 1}, \"coloraxis\": {\"colorbar\": {\"outlinewidth\": 0, \"ticks\": \"\"}}, \"colorscale\": {\"diverging\": [[0, \"#8e0152\"], [0.1, \"#c51b7d\"], [0.2, \"#de77ae\"], [0.3, \"#f1b6da\"], [0.4, \"#fde0ef\"], [0.5, \"#f7f7f7\"], [0.6, \"#e6f5d0\"], [0.7, \"#b8e186\"], [0.8, \"#7fbc41\"], [0.9, \"#4d9221\"], [1, \"#276419\"]], \"sequential\": [[0.0, \"#0d0887\"], [0.1111111111111111, \"#46039f\"], [0.2222222222222222, \"#7201a8\"], [0.3333333333333333, \"#9c179e\"], [0.4444444444444444, \"#bd3786\"], [0.5555555555555556, \"#d8576b\"], [0.6666666666666666, \"#ed7953\"], [0.7777777777777778, \"#fb9f3a\"], [0.8888888888888888, \"#fdca26\"], [1.0, \"#f0f921\"]], \"sequentialminus\": [[0.0, \"#0d0887\"], [0.1111111111111111, \"#46039f\"], [0.2222222222222222, \"#7201a8\"], [0.3333333333333333, \"#9c179e\"], [0.4444444444444444, \"#bd3786\"], [0.5555555555555556, \"#d8576b\"], [0.6666666666666666, \"#ed7953\"], [0.7777777777777778, \"#fb9f3a\"], [0.8888888888888888, \"#fdca26\"], [1.0, \"#f0f921\"]]}, \"colorway\": [\"#636efa\", \"#EF553B\", \"#00cc96\", \"#ab63fa\", \"#FFA15A\", \"#19d3f3\", \"#FF6692\", \"#B6E880\", \"#FF97FF\", \"#FECB52\"], \"font\": {\"color\": \"#2a3f5f\"}, \"geo\": {\"bgcolor\": \"white\", \"lakecolor\": \"white\", \"landcolor\": \"#E5ECF6\", \"showlakes\": true, \"showland\": true, \"subunitcolor\": \"white\"}, \"hoverlabel\": {\"align\": \"left\"}, \"hovermode\": \"closest\", \"mapbox\": {\"style\": \"light\"}, \"paper_bgcolor\": \"white\", \"plot_bgcolor\": \"#E5ECF6\", \"polar\": {\"angularaxis\": {\"gridcolor\": \"white\", \"linecolor\": \"white\", \"ticks\": \"\"}, \"bgcolor\": \"#E5ECF6\", \"radialaxis\": {\"gridcolor\": \"white\", \"linecolor\": \"white\", \"ticks\": \"\"}}, \"scene\": {\"xaxis\": {\"backgroundcolor\": \"#E5ECF6\", \"gridcolor\": \"white\", \"gridwidth\": 2, \"linecolor\": \"white\", \"showbackground\": true, \"ticks\": \"\", \"zerolinecolor\": \"white\"}, \"yaxis\": {\"backgroundcolor\": \"#E5ECF6\", \"gridcolor\": \"white\", \"gridwidth\": 2, \"linecolor\": \"white\", \"showbackground\": true, \"ticks\": \"\", \"zerolinecolor\": \"white\"}, \"zaxis\": {\"backgroundcolor\": \"#E5ECF6\", \"gridcolor\": \"white\", \"gridwidth\": 2, \"linecolor\": \"white\", \"showbackground\": true, \"ticks\": \"\", \"zerolinecolor\": \"white\"}}, \"shapedefaults\": {\"line\": {\"color\": \"#2a3f5f\"}}, \"ternary\": {\"aaxis\": {\"gridcolor\": \"white\", \"linecolor\": \"white\", \"ticks\": \"\"}, \"baxis\": {\"gridcolor\": \"white\", \"linecolor\": \"white\", \"ticks\": \"\"}, \"bgcolor\": \"#E5ECF6\", \"caxis\": {\"gridcolor\": \"white\", \"linecolor\": \"white\", \"ticks\": \"\"}}, \"title\": {\"x\": 0.05}, \"xaxis\": {\"automargin\": true, \"gridcolor\": \"white\", \"linecolor\": \"white\", \"ticks\": \"\", \"title\": {\"standoff\": 15}, \"zerolinecolor\": \"white\", \"zerolinewidth\": 2}, \"yaxis\": {\"automargin\": true, \"gridcolor\": \"white\", \"linecolor\": \"white\", \"ticks\": \"\", \"title\": {\"standoff\": 15}, \"zerolinecolor\": \"white\", \"zerolinewidth\": 2}}}, \"xaxis\": {\"anchor\": \"y\", \"domain\": [0.0, 1.0], \"title\": {\"text\": \"date\"}}, \"yaxis\": {\"anchor\": \"x\", \"domain\": [0.0, 1.0], \"title\": {\"text\": \"cvr_customer\"}}},\n",
              "                        {\"responsive\": true}\n",
              "                    ).then(function(){\n",
              "                            \n",
              "var gd = document.getElementById('49e9ba4b-9038-4c66-a3f9-352bf3197fa9');\n",
              "var x = new MutationObserver(function (mutations, observer) {{\n",
              "        var display = window.getComputedStyle(gd).display;\n",
              "        if (!display || display === 'none') {{\n",
              "            console.log([gd, 'removed!']);\n",
              "            Plotly.purge(gd);\n",
              "            observer.disconnect();\n",
              "        }}\n",
              "}});\n",
              "\n",
              "// Listen for the removal of the full notebook cells\n",
              "var notebookContainer = gd.closest('#notebook-container');\n",
              "if (notebookContainer) {{\n",
              "    x.observe(notebookContainer, {childList: true});\n",
              "}}\n",
              "\n",
              "// Listen for the clearing of the current output cell\n",
              "var outputEl = gd.closest('.output');\n",
              "if (outputEl) {{\n",
              "    x.observe(outputEl, {childList: true});\n",
              "}}\n",
              "\n",
              "                        })\n",
              "                };\n",
              "                \n",
              "            </script>\n",
              "        </div>\n",
              "</body>\n",
              "</html>"
            ]
          },
          "metadata": {
            "tags": []
          }
        }
      ]
    },
    {
      "cell_type": "markdown",
      "metadata": {
        "id": "8aWmk9bZnf81"
      },
      "source": [
        "### 6. Delay comparison"
      ]
    },
    {
      "cell_type": "code",
      "metadata": {
        "id": "sIpUIbbBZ29z"
      },
      "source": [
        "query4 = \"\"\"\n",
        "\n",
        "SELECT  \n",
        "DATETIME(s.created_at,  \\\"\"\"\" + time_zone + \"\"\"\\\") as local_time\n",
        ",zone_id\n",
        ",CASE \n",
        "    WHEN cast(DATETIME(s.created_at, \\\"\"\"\" + time_zone + \"\"\"\\\") as date) < \\\"\"\"\" + start_date + \"\"\"\\\" THEN 'before_test'\n",
        "    ELSE 'during_test'\n",
        "    end as period\n",
        ", s.mean_delay\n",
        "FROM `fulfillment-dwh-production.cl._zone_stats` \n",
        "left join unnest(stats) s\n",
        "WHERE cast(DATETIME(s.created_at,  \\\"\"\"\" + time_zone + \"\"\"\\\") as date) between \\\"\"\"\" + pre_date + \"\"\"\\\"  and \\\"\"\"\" + end_date + \"\"\"\\\"\n",
        "and country_code =  \\\"\"\"\" + country_code + \"\"\"\\\"\n",
        "--and zone_id = \"\"\" + zone_id + \"\"\"\n",
        "and zone_id is not null\n",
        "\n",
        "    \"\"\"\n",
        "\n",
        "pp_delay = client.query(query4).to_dataframe()"
      ],
      "execution_count": null,
      "outputs": []
    },
    {
      "cell_type": "code",
      "metadata": {
        "id": "Ea84AcO8b86s"
      },
      "source": [
        "pp_delay[\"new_time\"] = ceil_dt((pp_delay['local_time'].dt.to_pydatetime()), timedelta(minutes=10))\n",
        "pp_delay[\"new_time\"] = pp_delay['new_time'].dt.time\n",
        "pp_delay.loc[pp_delay.new_time <= time(hour=8, minute=0, second=0), 'new_time'] = time(hour=8, minute=0, second=0)\n",
        "delay_agg = pp_delay.pivot_table(\"mean_delay\", index=[\"new_time\", \"period\", \"zone_group\"], aggfunc = \"mean\").reset_index()"
      ],
      "execution_count": null,
      "outputs": []
    },
    {
      "cell_type": "code",
      "metadata": {
        "id": "oY3E92K646va"
      },
      "source": [
        "delay3 = pp_delay[pp_delay.zone_id == 3]\n",
        "delay36 = pp_delay[pp_delay.zone_id == 36]\n",
        "delay_other = pp_delay[(pp_delay.zone_id != 36)&(pp_delay.zone_id != 36)]\n",
        "\n",
        "delay3_agg = delay3.pivot_table(\"mean_delay\", index=[\"new_time\", \"period\"], aggfunc = \"mean\").reset_index()\n",
        "delay36_agg = delay36.pivot_table(\"mean_delay\", index=[\"new_time\", \"period\"], aggfunc = \"mean\").reset_index()\n",
        "delay_other_agg = delay_other.pivot_table(\"mean_delay\", index=[\"new_time\", \"period\"], aggfunc = \"mean\").reset_index()"
      ],
      "execution_count": null,
      "outputs": []
    },
    {
      "cell_type": "code",
      "metadata": {
        "id": "R_6BRg1uch1L",
        "colab": {
          "base_uri": "https://localhost:8080/",
          "height": 542
        },
        "outputId": "379bd391-d6a7-483e-b623-d04430aee372"
      },
      "source": [
        "fig = px.line(delay3_agg, x=\"new_time\", y=\"mean_delay\", color = \"period\", title='Mean Delay before-test vs during-test (Far East)')\n",
        "fig.show()"
      ],
      "execution_count": null,
      "outputs": [
        {
          "output_type": "display_data",
          "data": {
            "text/html": [
              "<html>\n",
              "<head><meta charset=\"utf-8\" /></head>\n",
              "<body>\n",
              "    <div>\n",
              "            <script src=\"https://cdnjs.cloudflare.com/ajax/libs/mathjax/2.7.5/MathJax.js?config=TeX-AMS-MML_SVG\"></script><script type=\"text/javascript\">if (window.MathJax) {MathJax.Hub.Config({SVG: {font: \"STIX-Web\"}});}</script>\n",
              "                <script type=\"text/javascript\">window.PlotlyConfig = {MathJaxConfig: 'local'};</script>\n",
              "        <script src=\"https://cdn.plot.ly/plotly-latest.min.js\"></script>    \n",
              "            <div id=\"fe679d20-c2a7-4a51-a6bf-cbc40e1149b2\" class=\"plotly-graph-div\" style=\"height:525px; width:100%;\"></div>\n",
              "            <script type=\"text/javascript\">\n",
              "                \n",
              "                    window.PLOTLYENV=window.PLOTLYENV || {};\n",
              "                    \n",
              "                if (document.getElementById(\"fe679d20-c2a7-4a51-a6bf-cbc40e1149b2\")) {\n",
              "                    Plotly.newPlot(\n",
              "                        'fe679d20-c2a7-4a51-a6bf-cbc40e1149b2',\n",
              "                        [{\"hoverlabel\": {\"namelength\": 0}, \"hovertemplate\": \"period=before_test<br>new_time=%{x}<br>mean_delay=%{y}\", \"legendgroup\": \"period=before_test\", \"line\": {\"color\": \"#636efa\", \"dash\": \"solid\"}, \"mode\": \"lines\", \"name\": \"period=before_test\", \"showlegend\": true, \"type\": \"scatter\", \"x\": [\"00:00:00\", \"00:10:00\", \"00:20:00\", \"00:30:00\", \"00:40:00\", \"00:50:00\", \"01:00:00\", \"01:10:00\", \"01:20:00\", \"01:30:00\", \"01:40:00\", \"01:50:00\", \"02:00:00\", \"02:10:00\", \"02:20:00\", \"02:30:00\", \"02:40:00\", \"02:50:00\", \"03:00:00\", \"03:10:00\", \"03:20:00\", \"03:30:00\", \"03:40:00\", \"03:50:00\", \"04:00:00\", \"04:10:00\", \"04:20:00\", \"04:30:00\", \"04:40:00\", \"04:50:00\", \"05:00:00\", \"05:10:00\", \"05:20:00\", \"05:30:00\", \"05:40:00\", \"05:50:00\", \"06:00:00\", \"06:10:00\", \"06:20:00\", \"06:30:00\", \"06:40:00\", \"06:50:00\", \"07:00:00\", \"07:10:00\", \"07:20:00\", \"07:30:00\", \"07:40:00\", \"07:50:00\", \"08:00:00\", \"08:10:00\", \"08:20:00\", \"08:30:00\", \"08:40:00\", \"08:50:00\", \"09:00:00\", \"09:10:00\", \"09:20:00\", \"09:30:00\", \"09:40:00\", \"09:50:00\", \"10:00:00\", \"10:10:00\", \"10:20:00\", \"10:30:00\", \"10:40:00\", \"10:50:00\", \"11:00:00\", \"11:10:00\", \"11:20:00\", \"11:30:00\", \"11:40:00\", \"11:50:00\", \"12:00:00\", \"12:10:00\", \"12:20:00\", \"12:30:00\", \"12:40:00\", \"12:50:00\", \"13:00:00\", \"13:10:00\", \"13:20:00\", \"13:30:00\", \"13:40:00\", \"13:50:00\", \"14:00:00\", \"14:10:00\", \"14:20:00\", \"14:30:00\", \"14:40:00\", \"14:50:00\", \"15:00:00\", \"15:10:00\", \"15:20:00\", \"15:30:00\", \"15:40:00\", \"15:50:00\", \"16:00:00\", \"16:10:00\", \"16:20:00\", \"16:30:00\", \"16:40:00\", \"16:50:00\", \"17:00:00\", \"17:10:00\", \"17:20:00\", \"17:30:00\", \"17:40:00\", \"17:50:00\", \"18:00:00\", \"18:10:00\", \"18:20:00\", \"18:30:00\", \"18:40:00\", \"18:50:00\", \"19:00:00\", \"19:10:00\", \"19:20:00\", \"19:30:00\", \"19:40:00\", \"19:50:00\", \"20:00:00\", \"20:10:00\", \"20:20:00\", \"20:30:00\", \"20:40:00\", \"20:50:00\", \"21:00:00\", \"21:10:00\", \"21:20:00\", \"21:30:00\", \"21:40:00\", \"21:50:00\", \"22:00:00\", \"22:10:00\", \"22:20:00\", \"22:30:00\", \"22:40:00\", \"22:50:00\", \"23:00:00\", \"23:10:00\", \"23:20:00\", \"23:30:00\", \"23:40:00\", \"23:50:00\"], \"xaxis\": \"x\", \"y\": [7.127145593050596, 6.41063925582796, 5.917477236778023, 5.7691001325803635, 5.696234077582928, 5.870058870094257, 5.924711368898116, 5.485551289128768, 5.352247641054657, 5.442606122990374, 5.427344137226478, 5.551671482921119, 5.193937532408138, 4.957630562025583, 5.161894841207998, 5.574691235687459, 6.419452270163353, 6.838295958517111, 5.44527634835081, 5.193147459009826, 5.188969496799661, 5.3796812276532755, 4.993140781305332, 4.845038232227513, 4.240279445726387, 4.010157152604874, 5.095887036255486, 5.678771711776063, 5.968273455970754, 7.390519775568466, 8.715059144189217, 8.508827771685665, 8.252350903972953, 8.235245155188194, 7.569516538116581, 7.245462229316332, 6.716619450936125, 7.325948590725181, 7.411456546697214, 7.1434954088559035, 6.744150882354096, 6.037375611410531, 5.296831245323322, 4.812392740612313, 4.682700934661903, 4.268490424518455, 3.5525158973648603, 4.2289964067418255, 5.994296071015212, 7.020438013525825, 7.933406317355623, 7.745280695140284, 7.311455767860569, 7.2153200710940535, 6.767614670980592, 5.924709973283924, 5.963984178142312, 5.981129827119568, 5.947945433941907, 5.768953980264042, 5.8125997671898535, 5.446844371242757, 5.406825254854784, 5.196901401180155, 4.734139306094179, 4.407113289154382, 4.532798528412531, 5.2221541876471225, 6.84914217458087, 8.406860802198523, 9.769508701037942, 10.415463610560222, 10.700094616938513, 10.682744609507882, 11.112790054460676, 10.542994698318138, 10.569761493529638, 10.601597341691281, 10.54441875684871, 10.2927209114397, 10.419551201207616, 10.042037443032221, 9.687753477455187, 9.379191908150931, 9.25369913063489, 8.98180619899046, 9.321826423959791, 9.173354789248375, 8.892805708641841, 8.614682046498979, 8.299339903273168, 8.080358190593492, 8.176509778622519, 8.253001197815866, 8.076097644562765, 7.848828322120297, 7.5477007619558325, 7.202030314269575, 7.577900751052382, 7.335907917061013, 7.227967059501176, 6.955351521214044, 6.19805475545618, 5.959345056289166, 6.1690346486435, 6.532447406769263, 6.8487205635121, 7.040321904306467, 7.540030952722741, 7.938365778033442, 8.326887614894742, 8.708528379785426, 8.685375930142653, 8.552157445290117, 8.42107299608178, 8.121552830226731, 8.221087081103112, 8.286997906699668, 8.490596079683858, 8.916736605996322, 9.18861332353129, 9.397439362399611, 9.157830694185378, 8.949172404978492, 8.71353578486885, 8.641385812608213, 8.552662058466302, 8.385142468847297, 8.190488084381789, 8.147750619961329, 7.9151081004057655, 7.8653144015869785, 7.220799195012265, 7.217955069880077, 7.406215036711811, 7.730870080462282, 7.776697783684988, 8.344717070520781, 8.982869471275194, 9.572024903276771, 9.772806572191072, 10.053486807497114, 8.496472127947666, 7.674281415402821], \"yaxis\": \"y\"}, {\"hoverlabel\": {\"namelength\": 0}, \"hovertemplate\": \"period=during_test<br>new_time=%{x}<br>mean_delay=%{y}\", \"legendgroup\": \"period=during_test\", \"line\": {\"color\": \"#EF553B\", \"dash\": \"solid\"}, \"mode\": \"lines\", \"name\": \"period=during_test\", \"showlegend\": true, \"type\": \"scatter\", \"x\": [\"00:00:00\", \"00:10:00\", \"00:20:00\", \"00:30:00\", \"00:40:00\", \"00:50:00\", \"01:00:00\", \"01:10:00\", \"01:20:00\", \"01:30:00\", \"01:40:00\", \"01:50:00\", \"02:00:00\", \"02:10:00\", \"02:20:00\", \"02:30:00\", \"02:40:00\", \"02:50:00\", \"03:00:00\", \"03:10:00\", \"03:20:00\", \"03:30:00\", \"03:40:00\", \"03:50:00\", \"04:00:00\", \"04:10:00\", \"04:20:00\", \"04:30:00\", \"04:40:00\", \"04:50:00\", \"05:00:00\", \"05:10:00\", \"05:20:00\", \"05:30:00\", \"05:40:00\", \"05:50:00\", \"06:00:00\", \"06:10:00\", \"06:20:00\", \"06:30:00\", \"06:40:00\", \"06:50:00\", \"07:00:00\", \"07:10:00\", \"07:20:00\", \"07:30:00\", \"07:40:00\", \"07:50:00\", \"08:00:00\", \"08:10:00\", \"08:20:00\", \"08:30:00\", \"08:40:00\", \"08:50:00\", \"09:00:00\", \"09:10:00\", \"09:20:00\", \"09:30:00\", \"09:40:00\", \"09:50:00\", \"10:00:00\", \"10:10:00\", \"10:20:00\", \"10:30:00\", \"10:40:00\", \"10:50:00\", \"11:00:00\", \"11:10:00\", \"11:20:00\", \"11:30:00\", \"11:40:00\", \"11:50:00\", \"12:00:00\", \"12:10:00\", \"12:20:00\", \"12:30:00\", \"12:40:00\", \"12:50:00\", \"13:00:00\", \"13:10:00\", \"13:20:00\", \"13:30:00\", \"13:40:00\", \"13:50:00\", \"14:00:00\", \"14:10:00\", \"14:20:00\", \"14:30:00\", \"14:40:00\", \"14:50:00\", \"15:00:00\", \"15:10:00\", \"15:20:00\", \"15:30:00\", \"15:40:00\", \"15:50:00\", \"16:00:00\", \"16:10:00\", \"16:20:00\", \"16:30:00\", \"16:40:00\", \"16:50:00\", \"17:00:00\", \"17:10:00\", \"17:20:00\", \"17:30:00\", \"17:40:00\", \"17:50:00\", \"18:00:00\", \"18:10:00\", \"18:20:00\", \"18:30:00\", \"18:40:00\", \"18:50:00\", \"19:00:00\", \"19:10:00\", \"19:20:00\", \"19:30:00\", \"19:40:00\", \"19:50:00\", \"20:00:00\", \"20:10:00\", \"20:20:00\", \"20:30:00\", \"20:40:00\", \"20:50:00\", \"21:00:00\", \"21:10:00\", \"21:20:00\", \"21:30:00\", \"21:40:00\", \"21:50:00\", \"22:00:00\", \"22:10:00\", \"22:20:00\", \"22:30:00\", \"22:40:00\", \"22:50:00\", \"23:00:00\", \"23:10:00\", \"23:20:00\", \"23:30:00\", \"23:40:00\", \"23:50:00\"], \"xaxis\": \"x\", \"y\": [5.935513271551171, 5.882771451800486, 5.318558164462304, 4.779129413993657, 4.349381353587283, 4.425496576648037, 4.73524573619516, 4.9031670744602005, 5.309421854737158, 5.81719554230537, 5.946454528568386, 6.184230885192848, 6.239895886522316, 6.3919954782325075, 6.22734083592291, 6.251558281953209, 6.682567839705919, 7.194633033645741, 6.14097901200899, 5.050189034422773, 4.7884321862261245, 4.95895345990683, 5.564121845972761, 5.622495142308331, 5.626801812577831, 5.492814557479075, 5.984593208105608, 5.025303967816034, 5.260895294253848, 5.409525950925594, 5.331176529230823, 5.68095600111506, 6.453916560175805, 7.0830598306977475, 7.558485546177008, 8.210637087625809, 7.873521084780306, 7.187088135020669, 7.339843472968718, 7.217780067528851, 6.502858523600435, 5.975886446497321, 5.569627317491561, 5.3348880244619, 5.399728345912299, 5.186094960509005, 4.4533001944419395, 4.6190208586963895, 5.832227633736798, 6.343235492009766, 7.80112898908959, 8.147428124604351, 7.853304466448752, 7.678648104046141, 7.3512224460464575, 7.165165400978628, 7.6866923336207, 7.397106392908631, 6.815877816654849, 7.074996332962328, 7.038027123501875, 6.970872424260693, 6.7440068958553585, 6.298487809677926, 5.6991502544752, 5.134307674993907, 5.199609887654902, 5.802288633998323, 7.013584960894159, 8.191669785042105, 9.255298743451528, 10.239544226203604, 10.583582208235635, 10.355010328734412, 10.429416020171463, 10.424966238183574, 10.35557881278485, 10.182707588936312, 9.958092487789287, 9.89877478430874, 9.723658496199004, 9.425773795350334, 9.059433261260843, 8.612278533287707, 8.29063790643185, 8.331315835749386, 8.714925704751595, 8.65755378475954, 8.322181350744675, 7.8513749482134125, 7.676851693075599, 7.610767201000537, 7.985081950370284, 7.903646606142821, 7.833772925540479, 7.413418556275067, 7.175666720753588, 7.275660685334118, 7.526885887233883, 7.5298473370027255, 7.245079315332916, 7.451202515678882, 7.113746408209116, 6.699486299672687, 6.895644147362249, 7.0631880685533375, 7.153837229703907, 6.813497989452187, 7.255478299247628, 7.538804752879137, 7.724906303673263, 8.022245537359883, 8.164932294460158, 7.9952109829859355, 8.082438475002764, 8.228720715759877, 8.057732052880256, 8.285366831969966, 8.144664167736607, 8.458026012394688, 8.2438743413852, 8.190168317977314, 8.138505324033552, 8.084019769337404, 7.990526597659648, 7.922892439592513, 7.8243403280292405, 7.736859102320753, 7.762864228809191, 7.903938877428813, 7.6875752050491135, 8.129728489598989, 8.222260984228827, 7.997087783370143, 8.136385003691345, 8.563882687533402, 8.466948035012202, 8.632946332487629, 9.10899941990968, 9.574538710426241, 10.033639820416152, 9.93119752764335, 8.708561641028346, 7.7591649494112325], \"yaxis\": \"y\"}],\n",
              "                        {\"legend\": {\"tracegroupgap\": 0}, \"template\": {\"data\": {\"bar\": [{\"error_x\": {\"color\": \"#2a3f5f\"}, \"error_y\": {\"color\": \"#2a3f5f\"}, \"marker\": {\"line\": {\"color\": \"#E5ECF6\", \"width\": 0.5}}, \"type\": \"bar\"}], \"barpolar\": [{\"marker\": {\"line\": {\"color\": \"#E5ECF6\", \"width\": 0.5}}, \"type\": \"barpolar\"}], \"carpet\": [{\"aaxis\": {\"endlinecolor\": \"#2a3f5f\", \"gridcolor\": \"white\", \"linecolor\": \"white\", \"minorgridcolor\": \"white\", \"startlinecolor\": \"#2a3f5f\"}, \"baxis\": {\"endlinecolor\": \"#2a3f5f\", \"gridcolor\": \"white\", \"linecolor\": \"white\", \"minorgridcolor\": \"white\", \"startlinecolor\": \"#2a3f5f\"}, \"type\": \"carpet\"}], \"choropleth\": [{\"colorbar\": {\"outlinewidth\": 0, \"ticks\": \"\"}, \"type\": \"choropleth\"}], \"contour\": [{\"colorbar\": {\"outlinewidth\": 0, \"ticks\": \"\"}, \"colorscale\": [[0.0, \"#0d0887\"], [0.1111111111111111, \"#46039f\"], [0.2222222222222222, \"#7201a8\"], [0.3333333333333333, \"#9c179e\"], [0.4444444444444444, \"#bd3786\"], [0.5555555555555556, \"#d8576b\"], [0.6666666666666666, \"#ed7953\"], [0.7777777777777778, \"#fb9f3a\"], [0.8888888888888888, \"#fdca26\"], [1.0, \"#f0f921\"]], \"type\": \"contour\"}], \"contourcarpet\": [{\"colorbar\": {\"outlinewidth\": 0, \"ticks\": \"\"}, \"type\": \"contourcarpet\"}], \"heatmap\": [{\"colorbar\": {\"outlinewidth\": 0, \"ticks\": \"\"}, \"colorscale\": [[0.0, \"#0d0887\"], [0.1111111111111111, \"#46039f\"], [0.2222222222222222, \"#7201a8\"], [0.3333333333333333, \"#9c179e\"], [0.4444444444444444, \"#bd3786\"], [0.5555555555555556, \"#d8576b\"], [0.6666666666666666, \"#ed7953\"], [0.7777777777777778, \"#fb9f3a\"], [0.8888888888888888, \"#fdca26\"], [1.0, \"#f0f921\"]], \"type\": \"heatmap\"}], \"heatmapgl\": [{\"colorbar\": {\"outlinewidth\": 0, \"ticks\": \"\"}, \"colorscale\": [[0.0, \"#0d0887\"], [0.1111111111111111, \"#46039f\"], [0.2222222222222222, \"#7201a8\"], [0.3333333333333333, \"#9c179e\"], [0.4444444444444444, \"#bd3786\"], [0.5555555555555556, \"#d8576b\"], [0.6666666666666666, \"#ed7953\"], [0.7777777777777778, \"#fb9f3a\"], [0.8888888888888888, \"#fdca26\"], [1.0, \"#f0f921\"]], \"type\": \"heatmapgl\"}], \"histogram\": [{\"marker\": {\"colorbar\": {\"outlinewidth\": 0, \"ticks\": \"\"}}, \"type\": \"histogram\"}], \"histogram2d\": [{\"colorbar\": {\"outlinewidth\": 0, \"ticks\": \"\"}, \"colorscale\": [[0.0, \"#0d0887\"], [0.1111111111111111, \"#46039f\"], [0.2222222222222222, \"#7201a8\"], [0.3333333333333333, \"#9c179e\"], [0.4444444444444444, \"#bd3786\"], [0.5555555555555556, \"#d8576b\"], [0.6666666666666666, \"#ed7953\"], [0.7777777777777778, \"#fb9f3a\"], [0.8888888888888888, \"#fdca26\"], [1.0, \"#f0f921\"]], \"type\": \"histogram2d\"}], \"histogram2dcontour\": [{\"colorbar\": {\"outlinewidth\": 0, \"ticks\": \"\"}, \"colorscale\": [[0.0, \"#0d0887\"], [0.1111111111111111, \"#46039f\"], [0.2222222222222222, \"#7201a8\"], [0.3333333333333333, \"#9c179e\"], [0.4444444444444444, \"#bd3786\"], [0.5555555555555556, \"#d8576b\"], [0.6666666666666666, \"#ed7953\"], [0.7777777777777778, \"#fb9f3a\"], [0.8888888888888888, \"#fdca26\"], [1.0, \"#f0f921\"]], \"type\": \"histogram2dcontour\"}], \"mesh3d\": [{\"colorbar\": {\"outlinewidth\": 0, \"ticks\": \"\"}, \"type\": \"mesh3d\"}], \"parcoords\": [{\"line\": {\"colorbar\": {\"outlinewidth\": 0, \"ticks\": \"\"}}, \"type\": \"parcoords\"}], \"pie\": [{\"automargin\": true, \"type\": \"pie\"}], \"scatter\": [{\"marker\": {\"colorbar\": {\"outlinewidth\": 0, \"ticks\": \"\"}}, \"type\": \"scatter\"}], \"scatter3d\": [{\"line\": {\"colorbar\": {\"outlinewidth\": 0, \"ticks\": \"\"}}, \"marker\": {\"colorbar\": {\"outlinewidth\": 0, \"ticks\": \"\"}}, \"type\": \"scatter3d\"}], \"scattercarpet\": [{\"marker\": {\"colorbar\": {\"outlinewidth\": 0, \"ticks\": \"\"}}, \"type\": \"scattercarpet\"}], \"scattergeo\": [{\"marker\": {\"colorbar\": {\"outlinewidth\": 0, \"ticks\": \"\"}}, \"type\": \"scattergeo\"}], \"scattergl\": [{\"marker\": {\"colorbar\": {\"outlinewidth\": 0, \"ticks\": \"\"}}, \"type\": \"scattergl\"}], \"scattermapbox\": [{\"marker\": {\"colorbar\": {\"outlinewidth\": 0, \"ticks\": \"\"}}, \"type\": \"scattermapbox\"}], \"scatterpolar\": [{\"marker\": {\"colorbar\": {\"outlinewidth\": 0, \"ticks\": \"\"}}, \"type\": \"scatterpolar\"}], \"scatterpolargl\": [{\"marker\": {\"colorbar\": {\"outlinewidth\": 0, \"ticks\": \"\"}}, \"type\": \"scatterpolargl\"}], \"scatterternary\": [{\"marker\": {\"colorbar\": {\"outlinewidth\": 0, \"ticks\": \"\"}}, \"type\": \"scatterternary\"}], \"surface\": [{\"colorbar\": {\"outlinewidth\": 0, \"ticks\": \"\"}, \"colorscale\": [[0.0, \"#0d0887\"], [0.1111111111111111, \"#46039f\"], [0.2222222222222222, \"#7201a8\"], [0.3333333333333333, \"#9c179e\"], [0.4444444444444444, \"#bd3786\"], [0.5555555555555556, \"#d8576b\"], [0.6666666666666666, \"#ed7953\"], [0.7777777777777778, \"#fb9f3a\"], [0.8888888888888888, \"#fdca26\"], [1.0, \"#f0f921\"]], \"type\": \"surface\"}], \"table\": [{\"cells\": {\"fill\": {\"color\": \"#EBF0F8\"}, \"line\": {\"color\": \"white\"}}, \"header\": {\"fill\": {\"color\": \"#C8D4E3\"}, \"line\": {\"color\": \"white\"}}, \"type\": \"table\"}]}, \"layout\": {\"annotationdefaults\": {\"arrowcolor\": \"#2a3f5f\", \"arrowhead\": 0, \"arrowwidth\": 1}, \"coloraxis\": {\"colorbar\": {\"outlinewidth\": 0, \"ticks\": \"\"}}, \"colorscale\": {\"diverging\": [[0, \"#8e0152\"], [0.1, \"#c51b7d\"], [0.2, \"#de77ae\"], [0.3, \"#f1b6da\"], [0.4, \"#fde0ef\"], [0.5, \"#f7f7f7\"], [0.6, \"#e6f5d0\"], [0.7, \"#b8e186\"], [0.8, \"#7fbc41\"], [0.9, \"#4d9221\"], [1, \"#276419\"]], \"sequential\": [[0.0, \"#0d0887\"], [0.1111111111111111, \"#46039f\"], [0.2222222222222222, \"#7201a8\"], [0.3333333333333333, \"#9c179e\"], [0.4444444444444444, \"#bd3786\"], [0.5555555555555556, \"#d8576b\"], [0.6666666666666666, \"#ed7953\"], [0.7777777777777778, \"#fb9f3a\"], [0.8888888888888888, \"#fdca26\"], [1.0, \"#f0f921\"]], \"sequentialminus\": [[0.0, \"#0d0887\"], [0.1111111111111111, \"#46039f\"], [0.2222222222222222, \"#7201a8\"], [0.3333333333333333, \"#9c179e\"], [0.4444444444444444, \"#bd3786\"], [0.5555555555555556, \"#d8576b\"], [0.6666666666666666, \"#ed7953\"], [0.7777777777777778, \"#fb9f3a\"], [0.8888888888888888, \"#fdca26\"], [1.0, \"#f0f921\"]]}, \"colorway\": [\"#636efa\", \"#EF553B\", \"#00cc96\", \"#ab63fa\", \"#FFA15A\", \"#19d3f3\", \"#FF6692\", \"#B6E880\", \"#FF97FF\", \"#FECB52\"], \"font\": {\"color\": \"#2a3f5f\"}, \"geo\": {\"bgcolor\": \"white\", \"lakecolor\": \"white\", \"landcolor\": \"#E5ECF6\", \"showlakes\": true, \"showland\": true, \"subunitcolor\": \"white\"}, \"hoverlabel\": {\"align\": \"left\"}, \"hovermode\": \"closest\", \"mapbox\": {\"style\": \"light\"}, \"paper_bgcolor\": \"white\", \"plot_bgcolor\": \"#E5ECF6\", \"polar\": {\"angularaxis\": {\"gridcolor\": \"white\", \"linecolor\": \"white\", \"ticks\": \"\"}, \"bgcolor\": \"#E5ECF6\", \"radialaxis\": {\"gridcolor\": \"white\", \"linecolor\": \"white\", \"ticks\": \"\"}}, \"scene\": {\"xaxis\": {\"backgroundcolor\": \"#E5ECF6\", \"gridcolor\": \"white\", \"gridwidth\": 2, \"linecolor\": \"white\", \"showbackground\": true, \"ticks\": \"\", \"zerolinecolor\": \"white\"}, \"yaxis\": {\"backgroundcolor\": \"#E5ECF6\", \"gridcolor\": \"white\", \"gridwidth\": 2, \"linecolor\": \"white\", \"showbackground\": true, \"ticks\": \"\", \"zerolinecolor\": \"white\"}, \"zaxis\": {\"backgroundcolor\": \"#E5ECF6\", \"gridcolor\": \"white\", \"gridwidth\": 2, \"linecolor\": \"white\", \"showbackground\": true, \"ticks\": \"\", \"zerolinecolor\": \"white\"}}, \"shapedefaults\": {\"line\": {\"color\": \"#2a3f5f\"}}, \"ternary\": {\"aaxis\": {\"gridcolor\": \"white\", \"linecolor\": \"white\", \"ticks\": \"\"}, \"baxis\": {\"gridcolor\": \"white\", \"linecolor\": \"white\", \"ticks\": \"\"}, \"bgcolor\": \"#E5ECF6\", \"caxis\": {\"gridcolor\": \"white\", \"linecolor\": \"white\", \"ticks\": \"\"}}, \"title\": {\"x\": 0.05}, \"xaxis\": {\"automargin\": true, \"gridcolor\": \"white\", \"linecolor\": \"white\", \"ticks\": \"\", \"title\": {\"standoff\": 15}, \"zerolinecolor\": \"white\", \"zerolinewidth\": 2}, \"yaxis\": {\"automargin\": true, \"gridcolor\": \"white\", \"linecolor\": \"white\", \"ticks\": \"\", \"title\": {\"standoff\": 15}, \"zerolinecolor\": \"white\", \"zerolinewidth\": 2}}}, \"title\": {\"text\": \"Mean Delay before-test vs during-test (Far East)\"}, \"xaxis\": {\"anchor\": \"y\", \"domain\": [0.0, 1.0], \"title\": {\"text\": \"new_time\"}}, \"yaxis\": {\"anchor\": \"x\", \"domain\": [0.0, 1.0], \"title\": {\"text\": \"mean_delay\"}}},\n",
              "                        {\"responsive\": true}\n",
              "                    ).then(function(){\n",
              "                            \n",
              "var gd = document.getElementById('fe679d20-c2a7-4a51-a6bf-cbc40e1149b2');\n",
              "var x = new MutationObserver(function (mutations, observer) {{\n",
              "        var display = window.getComputedStyle(gd).display;\n",
              "        if (!display || display === 'none') {{\n",
              "            console.log([gd, 'removed!']);\n",
              "            Plotly.purge(gd);\n",
              "            observer.disconnect();\n",
              "        }}\n",
              "}});\n",
              "\n",
              "// Listen for the removal of the full notebook cells\n",
              "var notebookContainer = gd.closest('#notebook-container');\n",
              "if (notebookContainer) {{\n",
              "    x.observe(notebookContainer, {childList: true});\n",
              "}}\n",
              "\n",
              "// Listen for the clearing of the current output cell\n",
              "var outputEl = gd.closest('.output');\n",
              "if (outputEl) {{\n",
              "    x.observe(outputEl, {childList: true});\n",
              "}}\n",
              "\n",
              "                        })\n",
              "                };\n",
              "                \n",
              "            </script>\n",
              "        </div>\n",
              "</body>\n",
              "</html>"
            ]
          },
          "metadata": {
            "tags": []
          }
        }
      ]
    },
    {
      "cell_type": "code",
      "metadata": {
        "id": "oHHYAK-U6sMi",
        "colab": {
          "base_uri": "https://localhost:8080/",
          "height": 542
        },
        "outputId": "ff77881e-2277-4a21-d243-a4e5871c49d8"
      },
      "source": [
        "fig = px.line(delay_other_agg, x=\"new_time\", y=\"mean_delay\", color = \"period\", title='Mean Delay before-test vs during-test (Other Zones)')\n",
        "fig.show()"
      ],
      "execution_count": null,
      "outputs": [
        {
          "output_type": "display_data",
          "data": {
            "text/html": [
              "<html>\n",
              "<head><meta charset=\"utf-8\" /></head>\n",
              "<body>\n",
              "    <div>\n",
              "            <script src=\"https://cdnjs.cloudflare.com/ajax/libs/mathjax/2.7.5/MathJax.js?config=TeX-AMS-MML_SVG\"></script><script type=\"text/javascript\">if (window.MathJax) {MathJax.Hub.Config({SVG: {font: \"STIX-Web\"}});}</script>\n",
              "                <script type=\"text/javascript\">window.PlotlyConfig = {MathJaxConfig: 'local'};</script>\n",
              "        <script src=\"https://cdn.plot.ly/plotly-latest.min.js\"></script>    \n",
              "            <div id=\"1a23a464-0afd-4d40-a49b-597b04dba73f\" class=\"plotly-graph-div\" style=\"height:525px; width:100%;\"></div>\n",
              "            <script type=\"text/javascript\">\n",
              "                \n",
              "                    window.PLOTLYENV=window.PLOTLYENV || {};\n",
              "                    \n",
              "                if (document.getElementById(\"1a23a464-0afd-4d40-a49b-597b04dba73f\")) {\n",
              "                    Plotly.newPlot(\n",
              "                        '1a23a464-0afd-4d40-a49b-597b04dba73f',\n",
              "                        [{\"hoverlabel\": {\"namelength\": 0}, \"hovertemplate\": \"period=before_test<br>new_time=%{x}<br>mean_delay=%{y}\", \"legendgroup\": \"period=before_test\", \"line\": {\"color\": \"#636efa\", \"dash\": \"solid\"}, \"mode\": \"lines\", \"name\": \"period=before_test\", \"showlegend\": true, \"type\": \"scatter\", \"x\": [\"08:00:00\", \"08:10:00\", \"08:20:00\", \"08:30:00\", \"08:40:00\", \"08:50:00\", \"09:00:00\", \"09:10:00\", \"09:20:00\", \"09:30:00\", \"09:40:00\", \"09:50:00\", \"10:00:00\", \"10:10:00\", \"10:20:00\", \"10:30:00\", \"10:40:00\", \"10:50:00\", \"11:00:00\", \"11:10:00\", \"11:20:00\", \"11:30:00\", \"11:40:00\", \"11:50:00\", \"12:00:00\", \"12:10:00\", \"12:20:00\", \"12:30:00\", \"12:40:00\", \"12:50:00\", \"13:00:00\", \"13:10:00\", \"13:20:00\", \"13:30:00\", \"13:40:00\", \"13:50:00\", \"14:00:00\", \"14:10:00\", \"14:20:00\", \"14:30:00\", \"14:40:00\", \"14:50:00\", \"15:00:00\", \"15:10:00\", \"15:20:00\", \"15:30:00\", \"15:40:00\", \"15:50:00\", \"16:00:00\", \"16:10:00\", \"16:20:00\", \"16:30:00\", \"16:40:00\", \"16:50:00\", \"17:00:00\", \"17:10:00\", \"17:20:00\", \"17:30:00\", \"17:40:00\", \"17:50:00\", \"18:00:00\", \"18:10:00\", \"18:20:00\", \"18:30:00\", \"18:40:00\", \"18:50:00\", \"19:00:00\", \"19:10:00\", \"19:20:00\", \"19:30:00\", \"19:40:00\", \"19:50:00\", \"20:00:00\", \"20:10:00\", \"20:20:00\", \"20:30:00\", \"20:40:00\", \"20:50:00\", \"21:00:00\", \"21:10:00\", \"21:20:00\", \"21:30:00\", \"21:40:00\", \"21:50:00\", \"22:00:00\", \"22:10:00\", \"22:20:00\", \"22:30:00\", \"22:40:00\", \"22:50:00\", \"23:00:00\", \"23:10:00\", \"23:20:00\", \"23:30:00\", \"23:40:00\", \"23:50:00\"], \"xaxis\": \"x\", \"y\": [4.997756598989846, 6.573342205378108, 7.729595645807158, 7.8615972338898565, 7.546284517230672, 7.435884299004861, 7.293798317827956, 6.9622492866137895, 7.109824854869737, 7.126343830102294, 6.923410827202846, 6.880164080000857, 6.787763841293031, 6.4986011376080235, 6.4760587101567655, 5.94383079361277, 5.047942803490811, 4.473038911578766, 4.486273735089234, 4.050428586523131, 5.761547639048994, 7.651798634937382, 8.55000651979086, 9.895002251484238, 10.492849485965968, 10.800885694516637, 11.140080004862355, 10.94731153415027, 11.104922142789134, 10.770130368690978, 10.304248452917856, 10.23308164598189, 9.61527267833454, 8.959530813581093, 8.969101749915799, 8.740050623585903, 8.491610326812893, 8.751379195983864, 8.829382892805407, 8.823513170610479, 8.771965220098302, 8.618691795610612, 8.456961441913755, 8.363895684863778, 8.326437288290638, 8.086848684751596, 7.862438656563964, 7.854524827080174, 7.784784785814521, 7.595921091330378, 7.751585729859033, 7.734159896072529, 7.375106875792528, 6.998875455992171, 6.431899632877198, 5.57634383852295, 5.897081546958326, 6.359492004555872, 6.303504645136749, 6.825132979755171, 7.531887676342574, 7.816630860154686, 8.574730787312435, 9.216071648942668, 9.343573696932376, 9.425325811415526, 9.532176588186678, 9.564636332166145, 9.601067963200034, 9.636694790808166, 9.797589788097591, 9.866867516932636, 9.840116998666119, 9.996776483357323, 9.852499414703114, 9.550425086822326, 9.54055510760731, 9.230187043500147, 9.117701833690715, 9.14115252369921, 8.90936088633945, 8.809149547289117, 8.695581934237405, 8.420344032631267, 7.960976801889105, 7.980743448805286, 7.807031896579105, 7.9328008300008985, 7.824910732366733, 7.885213885343217, 8.23816223406297, 8.28474567846873, 8.22475679574672, 7.964620455248382, 6.674613151638021, 5.676951503053268], \"yaxis\": \"y\"}, {\"hoverlabel\": {\"namelength\": 0}, \"hovertemplate\": \"period=during_test<br>new_time=%{x}<br>mean_delay=%{y}\", \"legendgroup\": \"period=during_test\", \"line\": {\"color\": \"#EF553B\", \"dash\": \"solid\"}, \"mode\": \"lines\", \"name\": \"period=during_test\", \"showlegend\": true, \"type\": \"scatter\", \"x\": [\"08:00:00\", \"08:10:00\", \"08:20:00\", \"08:30:00\", \"08:40:00\", \"08:50:00\", \"09:00:00\", \"09:10:00\", \"09:20:00\", \"09:30:00\", \"09:40:00\", \"09:50:00\", \"10:00:00\", \"10:10:00\", \"10:20:00\", \"10:30:00\", \"10:40:00\", \"10:50:00\", \"11:00:00\", \"11:10:00\", \"11:20:00\", \"11:30:00\", \"11:40:00\", \"11:50:00\", \"12:00:00\", \"12:10:00\", \"12:20:00\", \"12:30:00\", \"12:40:00\", \"12:50:00\", \"13:00:00\", \"13:10:00\", \"13:20:00\", \"13:30:00\", \"13:40:00\", \"13:50:00\", \"14:00:00\", \"14:10:00\", \"14:20:00\", \"14:30:00\", \"14:40:00\", \"14:50:00\", \"15:00:00\", \"15:10:00\", \"15:20:00\", \"15:30:00\", \"15:40:00\", \"15:50:00\", \"16:00:00\", \"16:10:00\", \"16:20:00\", \"16:30:00\", \"16:40:00\", \"16:50:00\", \"17:00:00\", \"17:10:00\", \"17:20:00\", \"17:30:00\", \"17:40:00\", \"17:50:00\", \"18:00:00\", \"18:10:00\", \"18:20:00\", \"18:30:00\", \"18:40:00\", \"18:50:00\", \"19:00:00\", \"19:10:00\", \"19:20:00\", \"19:30:00\", \"19:40:00\", \"19:50:00\", \"20:00:00\", \"20:10:00\", \"20:20:00\", \"20:30:00\", \"20:40:00\", \"20:50:00\", \"21:00:00\", \"21:10:00\", \"21:20:00\", \"21:30:00\", \"21:40:00\", \"21:50:00\", \"22:00:00\", \"22:10:00\", \"22:20:00\", \"22:30:00\", \"22:40:00\", \"22:50:00\", \"23:00:00\", \"23:10:00\", \"23:20:00\", \"23:30:00\", \"23:40:00\", \"23:50:00\"], \"xaxis\": \"x\", \"y\": [5.799363288647154, 5.688373116666903, 6.70275535124963, 7.195279246535015, 7.248757115310626, 7.806269146550854, 7.73548184836173, 7.633647567907513, 7.939705601609321, 8.236841721779125, 8.069340955814148, 8.12665533466543, 7.957293220551851, 7.725802509622576, 7.760201217245065, 7.079468766055673, 5.990724905187756, 5.362298173902689, 5.138750218857575, 4.591257696621974, 6.138059075659844, 7.935214022677486, 8.948310591646843, 10.293748713153354, 10.988692202247176, 11.202753163621274, 11.511726424820829, 11.52743167940034, 11.5507353980451, 11.208797434632219, 10.706088465201898, 10.820421179973915, 10.521047678073996, 9.997186057626312, 9.779708044463659, 9.416214977285492, 9.137678455285013, 9.061560791220542, 9.254187924392301, 9.191675026693979, 9.210300097881245, 9.015454234572504, 8.88365101199669, 8.732485397889555, 8.882858921178464, 8.888072074906988, 8.742759979030202, 8.756532152660013, 8.625651684026009, 8.450470083901143, 8.849431375241558, 8.780250473006122, 8.521659540763356, 8.491239152183782, 7.9485425122150195, 7.068557154078466, 7.343258087457343, 7.579323418991639, 7.518031889047015, 7.7099132003790665, 8.15672556718527, 8.242637713187337, 8.874508814380615, 9.474086629622482, 9.66517749528417, 9.90725465154952, 10.135434098892338, 10.150791844698132, 10.254957838017026, 10.345564369194985, 10.383749867780399, 10.350455030331004, 10.13472604417559, 10.030032824502229, 9.803648929958493, 9.582975143840526, 9.633636563439621, 9.399915181677345, 9.165108341418556, 9.047370765341547, 8.839128729825106, 8.81035252943189, 8.70159908098385, 8.419320504486441, 8.308818744704492, 8.048198872760386, 8.034389866906306, 8.027965090538629, 7.835264374337453, 7.91794882811287, 8.14426003666648, 8.440063879191573, 8.513522667224597, 8.59451276767826, 7.54641274175098, 6.512929986993473], \"yaxis\": \"y\"}],\n",
              "                        {\"legend\": {\"tracegroupgap\": 0}, \"template\": {\"data\": {\"bar\": [{\"error_x\": {\"color\": \"#2a3f5f\"}, \"error_y\": {\"color\": \"#2a3f5f\"}, \"marker\": {\"line\": {\"color\": \"#E5ECF6\", \"width\": 0.5}}, \"type\": \"bar\"}], \"barpolar\": [{\"marker\": {\"line\": {\"color\": \"#E5ECF6\", \"width\": 0.5}}, \"type\": \"barpolar\"}], \"carpet\": [{\"aaxis\": {\"endlinecolor\": \"#2a3f5f\", \"gridcolor\": \"white\", \"linecolor\": \"white\", \"minorgridcolor\": \"white\", \"startlinecolor\": \"#2a3f5f\"}, \"baxis\": {\"endlinecolor\": \"#2a3f5f\", \"gridcolor\": \"white\", \"linecolor\": \"white\", \"minorgridcolor\": \"white\", \"startlinecolor\": \"#2a3f5f\"}, \"type\": \"carpet\"}], \"choropleth\": [{\"colorbar\": {\"outlinewidth\": 0, \"ticks\": \"\"}, \"type\": \"choropleth\"}], \"contour\": [{\"colorbar\": {\"outlinewidth\": 0, \"ticks\": \"\"}, \"colorscale\": [[0.0, \"#0d0887\"], [0.1111111111111111, \"#46039f\"], [0.2222222222222222, \"#7201a8\"], [0.3333333333333333, \"#9c179e\"], [0.4444444444444444, \"#bd3786\"], [0.5555555555555556, \"#d8576b\"], [0.6666666666666666, \"#ed7953\"], [0.7777777777777778, \"#fb9f3a\"], [0.8888888888888888, \"#fdca26\"], [1.0, \"#f0f921\"]], \"type\": \"contour\"}], \"contourcarpet\": [{\"colorbar\": {\"outlinewidth\": 0, \"ticks\": \"\"}, \"type\": \"contourcarpet\"}], \"heatmap\": [{\"colorbar\": {\"outlinewidth\": 0, \"ticks\": \"\"}, \"colorscale\": [[0.0, \"#0d0887\"], [0.1111111111111111, \"#46039f\"], [0.2222222222222222, \"#7201a8\"], [0.3333333333333333, \"#9c179e\"], [0.4444444444444444, \"#bd3786\"], [0.5555555555555556, \"#d8576b\"], [0.6666666666666666, \"#ed7953\"], [0.7777777777777778, \"#fb9f3a\"], [0.8888888888888888, \"#fdca26\"], [1.0, \"#f0f921\"]], \"type\": \"heatmap\"}], \"heatmapgl\": [{\"colorbar\": {\"outlinewidth\": 0, \"ticks\": \"\"}, \"colorscale\": [[0.0, \"#0d0887\"], [0.1111111111111111, \"#46039f\"], [0.2222222222222222, \"#7201a8\"], [0.3333333333333333, \"#9c179e\"], [0.4444444444444444, \"#bd3786\"], [0.5555555555555556, \"#d8576b\"], [0.6666666666666666, \"#ed7953\"], [0.7777777777777778, \"#fb9f3a\"], [0.8888888888888888, \"#fdca26\"], [1.0, \"#f0f921\"]], \"type\": \"heatmapgl\"}], \"histogram\": [{\"marker\": {\"colorbar\": {\"outlinewidth\": 0, \"ticks\": \"\"}}, \"type\": \"histogram\"}], \"histogram2d\": [{\"colorbar\": {\"outlinewidth\": 0, \"ticks\": \"\"}, \"colorscale\": [[0.0, \"#0d0887\"], [0.1111111111111111, \"#46039f\"], [0.2222222222222222, \"#7201a8\"], [0.3333333333333333, \"#9c179e\"], [0.4444444444444444, \"#bd3786\"], [0.5555555555555556, \"#d8576b\"], [0.6666666666666666, \"#ed7953\"], [0.7777777777777778, \"#fb9f3a\"], [0.8888888888888888, \"#fdca26\"], [1.0, \"#f0f921\"]], \"type\": \"histogram2d\"}], \"histogram2dcontour\": [{\"colorbar\": {\"outlinewidth\": 0, \"ticks\": \"\"}, \"colorscale\": [[0.0, \"#0d0887\"], [0.1111111111111111, \"#46039f\"], [0.2222222222222222, \"#7201a8\"], [0.3333333333333333, \"#9c179e\"], [0.4444444444444444, \"#bd3786\"], [0.5555555555555556, \"#d8576b\"], [0.6666666666666666, \"#ed7953\"], [0.7777777777777778, \"#fb9f3a\"], [0.8888888888888888, \"#fdca26\"], [1.0, \"#f0f921\"]], \"type\": \"histogram2dcontour\"}], \"mesh3d\": [{\"colorbar\": {\"outlinewidth\": 0, \"ticks\": \"\"}, \"type\": \"mesh3d\"}], \"parcoords\": [{\"line\": {\"colorbar\": {\"outlinewidth\": 0, \"ticks\": \"\"}}, \"type\": \"parcoords\"}], \"pie\": [{\"automargin\": true, \"type\": \"pie\"}], \"scatter\": [{\"marker\": {\"colorbar\": {\"outlinewidth\": 0, \"ticks\": \"\"}}, \"type\": \"scatter\"}], \"scatter3d\": [{\"line\": {\"colorbar\": {\"outlinewidth\": 0, \"ticks\": \"\"}}, \"marker\": {\"colorbar\": {\"outlinewidth\": 0, \"ticks\": \"\"}}, \"type\": \"scatter3d\"}], \"scattercarpet\": [{\"marker\": {\"colorbar\": {\"outlinewidth\": 0, \"ticks\": \"\"}}, \"type\": \"scattercarpet\"}], \"scattergeo\": [{\"marker\": {\"colorbar\": {\"outlinewidth\": 0, \"ticks\": \"\"}}, \"type\": \"scattergeo\"}], \"scattergl\": [{\"marker\": {\"colorbar\": {\"outlinewidth\": 0, \"ticks\": \"\"}}, \"type\": \"scattergl\"}], \"scattermapbox\": [{\"marker\": {\"colorbar\": {\"outlinewidth\": 0, \"ticks\": \"\"}}, \"type\": \"scattermapbox\"}], \"scatterpolar\": [{\"marker\": {\"colorbar\": {\"outlinewidth\": 0, \"ticks\": \"\"}}, \"type\": \"scatterpolar\"}], \"scatterpolargl\": [{\"marker\": {\"colorbar\": {\"outlinewidth\": 0, \"ticks\": \"\"}}, \"type\": \"scatterpolargl\"}], \"scatterternary\": [{\"marker\": {\"colorbar\": {\"outlinewidth\": 0, \"ticks\": \"\"}}, \"type\": \"scatterternary\"}], \"surface\": [{\"colorbar\": {\"outlinewidth\": 0, \"ticks\": \"\"}, \"colorscale\": [[0.0, \"#0d0887\"], [0.1111111111111111, \"#46039f\"], [0.2222222222222222, \"#7201a8\"], [0.3333333333333333, \"#9c179e\"], [0.4444444444444444, \"#bd3786\"], [0.5555555555555556, \"#d8576b\"], [0.6666666666666666, \"#ed7953\"], [0.7777777777777778, \"#fb9f3a\"], [0.8888888888888888, \"#fdca26\"], [1.0, \"#f0f921\"]], \"type\": \"surface\"}], \"table\": [{\"cells\": {\"fill\": {\"color\": \"#EBF0F8\"}, \"line\": {\"color\": \"white\"}}, \"header\": {\"fill\": {\"color\": \"#C8D4E3\"}, \"line\": {\"color\": \"white\"}}, \"type\": \"table\"}]}, \"layout\": {\"annotationdefaults\": {\"arrowcolor\": \"#2a3f5f\", \"arrowhead\": 0, \"arrowwidth\": 1}, \"coloraxis\": {\"colorbar\": {\"outlinewidth\": 0, \"ticks\": \"\"}}, \"colorscale\": {\"diverging\": [[0, \"#8e0152\"], [0.1, \"#c51b7d\"], [0.2, \"#de77ae\"], [0.3, \"#f1b6da\"], [0.4, \"#fde0ef\"], [0.5, \"#f7f7f7\"], [0.6, \"#e6f5d0\"], [0.7, \"#b8e186\"], [0.8, \"#7fbc41\"], [0.9, \"#4d9221\"], [1, \"#276419\"]], \"sequential\": [[0.0, \"#0d0887\"], [0.1111111111111111, \"#46039f\"], [0.2222222222222222, \"#7201a8\"], [0.3333333333333333, \"#9c179e\"], [0.4444444444444444, \"#bd3786\"], [0.5555555555555556, \"#d8576b\"], [0.6666666666666666, \"#ed7953\"], [0.7777777777777778, \"#fb9f3a\"], [0.8888888888888888, \"#fdca26\"], [1.0, \"#f0f921\"]], \"sequentialminus\": [[0.0, \"#0d0887\"], [0.1111111111111111, \"#46039f\"], [0.2222222222222222, \"#7201a8\"], [0.3333333333333333, \"#9c179e\"], [0.4444444444444444, \"#bd3786\"], [0.5555555555555556, \"#d8576b\"], [0.6666666666666666, \"#ed7953\"], [0.7777777777777778, \"#fb9f3a\"], [0.8888888888888888, \"#fdca26\"], [1.0, \"#f0f921\"]]}, \"colorway\": [\"#636efa\", \"#EF553B\", \"#00cc96\", \"#ab63fa\", \"#FFA15A\", \"#19d3f3\", \"#FF6692\", \"#B6E880\", \"#FF97FF\", \"#FECB52\"], \"font\": {\"color\": \"#2a3f5f\"}, \"geo\": {\"bgcolor\": \"white\", \"lakecolor\": \"white\", \"landcolor\": \"#E5ECF6\", \"showlakes\": true, \"showland\": true, \"subunitcolor\": \"white\"}, \"hoverlabel\": {\"align\": \"left\"}, \"hovermode\": \"closest\", \"mapbox\": {\"style\": \"light\"}, \"paper_bgcolor\": \"white\", \"plot_bgcolor\": \"#E5ECF6\", \"polar\": {\"angularaxis\": {\"gridcolor\": \"white\", \"linecolor\": \"white\", \"ticks\": \"\"}, \"bgcolor\": \"#E5ECF6\", \"radialaxis\": {\"gridcolor\": \"white\", \"linecolor\": \"white\", \"ticks\": \"\"}}, \"scene\": {\"xaxis\": {\"backgroundcolor\": \"#E5ECF6\", \"gridcolor\": \"white\", \"gridwidth\": 2, \"linecolor\": \"white\", \"showbackground\": true, \"ticks\": \"\", \"zerolinecolor\": \"white\"}, \"yaxis\": {\"backgroundcolor\": \"#E5ECF6\", \"gridcolor\": \"white\", \"gridwidth\": 2, \"linecolor\": \"white\", \"showbackground\": true, \"ticks\": \"\", \"zerolinecolor\": \"white\"}, \"zaxis\": {\"backgroundcolor\": \"#E5ECF6\", \"gridcolor\": \"white\", \"gridwidth\": 2, \"linecolor\": \"white\", \"showbackground\": true, \"ticks\": \"\", \"zerolinecolor\": \"white\"}}, \"shapedefaults\": {\"line\": {\"color\": \"#2a3f5f\"}}, \"ternary\": {\"aaxis\": {\"gridcolor\": \"white\", \"linecolor\": \"white\", \"ticks\": \"\"}, \"baxis\": {\"gridcolor\": \"white\", \"linecolor\": \"white\", \"ticks\": \"\"}, \"bgcolor\": \"#E5ECF6\", \"caxis\": {\"gridcolor\": \"white\", \"linecolor\": \"white\", \"ticks\": \"\"}}, \"title\": {\"x\": 0.05}, \"xaxis\": {\"automargin\": true, \"gridcolor\": \"white\", \"linecolor\": \"white\", \"ticks\": \"\", \"title\": {\"standoff\": 15}, \"zerolinecolor\": \"white\", \"zerolinewidth\": 2}, \"yaxis\": {\"automargin\": true, \"gridcolor\": \"white\", \"linecolor\": \"white\", \"ticks\": \"\", \"title\": {\"standoff\": 15}, \"zerolinecolor\": \"white\", \"zerolinewidth\": 2}}}, \"title\": {\"text\": \"Mean Delay before-test vs during-test (Other Zones)\"}, \"xaxis\": {\"anchor\": \"y\", \"domain\": [0.0, 1.0], \"title\": {\"text\": \"new_time\"}}, \"yaxis\": {\"anchor\": \"x\", \"domain\": [0.0, 1.0], \"title\": {\"text\": \"mean_delay\"}}},\n",
              "                        {\"responsive\": true}\n",
              "                    ).then(function(){\n",
              "                            \n",
              "var gd = document.getElementById('1a23a464-0afd-4d40-a49b-597b04dba73f');\n",
              "var x = new MutationObserver(function (mutations, observer) {{\n",
              "        var display = window.getComputedStyle(gd).display;\n",
              "        if (!display || display === 'none') {{\n",
              "            console.log([gd, 'removed!']);\n",
              "            Plotly.purge(gd);\n",
              "            observer.disconnect();\n",
              "        }}\n",
              "}});\n",
              "\n",
              "// Listen for the removal of the full notebook cells\n",
              "var notebookContainer = gd.closest('#notebook-container');\n",
              "if (notebookContainer) {{\n",
              "    x.observe(notebookContainer, {childList: true});\n",
              "}}\n",
              "\n",
              "// Listen for the clearing of the current output cell\n",
              "var outputEl = gd.closest('.output');\n",
              "if (outputEl) {{\n",
              "    x.observe(outputEl, {childList: true});\n",
              "}}\n",
              "\n",
              "                        })\n",
              "                };\n",
              "                \n",
              "            </script>\n",
              "        </div>\n",
              "</body>\n",
              "</html>"
            ]
          },
          "metadata": {
            "tags": []
          }
        }
      ]
    },
    {
      "cell_type": "code",
      "metadata": {
        "id": "FejND8aHc37L",
        "colab": {
          "base_uri": "https://localhost:8080/",
          "height": 301
        },
        "outputId": "d2336199-478b-41b3-c6d8-d0f1bf0f4a37"
      },
      "source": [
        "pp_new[\"real_delay\"] = pp[\"order_delay_mins\"].round(1)\n",
        "pp_new.head()"
      ],
      "execution_count": null,
      "outputs": [
        {
          "output_type": "execute_result",
          "data": {
            "text/html": [
              "<div>\n",
              "<style scoped>\n",
              "    .dataframe tbody tr th:only-of-type {\n",
              "        vertical-align: middle;\n",
              "    }\n",
              "\n",
              "    .dataframe tbody tr th {\n",
              "        vertical-align: top;\n",
              "    }\n",
              "\n",
              "    .dataframe thead th {\n",
              "        text-align: right;\n",
              "    }\n",
              "</style>\n",
              "<table border=\"1\" class=\"dataframe\">\n",
              "  <thead>\n",
              "    <tr style=\"text-align: right;\">\n",
              "      <th></th>\n",
              "      <th>zone_name</th>\n",
              "      <th>zone_id</th>\n",
              "      <th>vertical_type</th>\n",
              "      <th>operating_system</th>\n",
              "      <th>local_time</th>\n",
              "      <th>vendor_code</th>\n",
              "      <th>platform_order_code</th>\n",
              "      <th>platform_order_code_ga</th>\n",
              "      <th>variant</th>\n",
              "      <th>dps_delivery_fee</th>\n",
              "      <th>dps_surge_fee</th>\n",
              "      <th>dps_travel_time</th>\n",
              "      <th>gmv_eur</th>\n",
              "      <th>gfv_eur</th>\n",
              "      <th>delivery_fee_eur</th>\n",
              "      <th>delivery_fee_local_accounting</th>\n",
              "      <th>travel_time_distance_km</th>\n",
              "      <th>delay</th>\n",
              "      <th>mean_delay</th>\n",
              "      <th>travel_time</th>\n",
              "      <th>to_customer_time</th>\n",
              "      <th>to_vendor_time</th>\n",
              "      <th>delivery_distance</th>\n",
              "      <th>actual_delivery_time</th>\n",
              "      <th>order_delay_mins</th>\n",
              "      <th>local_date</th>\n",
              "      <th>new_time</th>\n",
              "      <th>period_variant</th>\n",
              "      <th>tt</th>\n",
              "      <th>real_delay</th>\n",
              "    </tr>\n",
              "  </thead>\n",
              "  <tbody>\n",
              "    <tr>\n",
              "      <th>0</th>\n",
              "      <td>Far_east</td>\n",
              "      <td>3</td>\n",
              "      <td>restaurants</td>\n",
              "      <td>Web</td>\n",
              "      <td>2020-09-22 20:21:44.331155</td>\n",
              "      <td>v6tv</td>\n",
              "      <td>v6tv-xmfp</td>\n",
              "      <td>v6tv-xmfp</td>\n",
              "      <td>Variation1</td>\n",
              "      <td>1.990</td>\n",
              "      <td>-1.000</td>\n",
              "      <td>2.99</td>\n",
              "      <td>6.702253</td>\n",
              "      <td>5.456923</td>\n",
              "      <td>1.245330</td>\n",
              "      <td>1.99</td>\n",
              "      <td>0.411408</td>\n",
              "      <td>4.844058</td>\n",
              "      <td>3.199177</td>\n",
              "      <td>1.85</td>\n",
              "      <td>3.20</td>\n",
              "      <td>0.40</td>\n",
              "      <td>0.49</td>\n",
              "      <td>20.33</td>\n",
              "      <td>3.43</td>\n",
              "      <td>2020-09-22</td>\n",
              "      <td>20:30:00</td>\n",
              "      <td>during_test_variation</td>\n",
              "      <td>1.8</td>\n",
              "      <td>3.4</td>\n",
              "    </tr>\n",
              "    <tr>\n",
              "      <th>1</th>\n",
              "      <td>Far_east</td>\n",
              "      <td>3</td>\n",
              "      <td>restaurants</td>\n",
              "      <td>Android</td>\n",
              "      <td>2020-09-23 06:57:36.330984</td>\n",
              "      <td>x1qw</td>\n",
              "      <td>x1qw-pa5b</td>\n",
              "      <td>x1qw-pa5b</td>\n",
              "      <td>Variation1</td>\n",
              "      <td>2.115</td>\n",
              "      <td>-0.875</td>\n",
              "      <td>2.99</td>\n",
              "      <td>10.882557</td>\n",
              "      <td>9.637227</td>\n",
              "      <td>1.245330</td>\n",
              "      <td>1.99</td>\n",
              "      <td>0.574140</td>\n",
              "      <td>4.614669</td>\n",
              "      <td>3.385426</td>\n",
              "      <td>2.58</td>\n",
              "      <td>6.73</td>\n",
              "      <td>0.00</td>\n",
              "      <td>0.73</td>\n",
              "      <td>12.65</td>\n",
              "      <td>-1.25</td>\n",
              "      <td>2020-09-23</td>\n",
              "      <td>07:00:00</td>\n",
              "      <td>during_test_variation</td>\n",
              "      <td>2.6</td>\n",
              "      <td>-1.2</td>\n",
              "    </tr>\n",
              "    <tr>\n",
              "      <th>2</th>\n",
              "      <td>Far_east</td>\n",
              "      <td>3</td>\n",
              "      <td>restaurants</td>\n",
              "      <td>Android</td>\n",
              "      <td>2020-09-22 20:16:24.110821</td>\n",
              "      <td>g3sm</td>\n",
              "      <td>g3sm-fj40</td>\n",
              "      <td>g3sm-fj40</td>\n",
              "      <td>Variation1</td>\n",
              "      <td>1.990</td>\n",
              "      <td>-1.000</td>\n",
              "      <td>2.99</td>\n",
              "      <td>7.440690</td>\n",
              "      <td>6.195360</td>\n",
              "      <td>1.245330</td>\n",
              "      <td>1.99</td>\n",
              "      <td>0.482642</td>\n",
              "      <td>3.737256</td>\n",
              "      <td>2.305163</td>\n",
              "      <td>2.17</td>\n",
              "      <td>5.12</td>\n",
              "      <td>0.00</td>\n",
              "      <td>0.59</td>\n",
              "      <td>12.12</td>\n",
              "      <td>-1.78</td>\n",
              "      <td>2020-09-22</td>\n",
              "      <td>20:30:00</td>\n",
              "      <td>during_test_variation</td>\n",
              "      <td>2.2</td>\n",
              "      <td>-1.8</td>\n",
              "    </tr>\n",
              "    <tr>\n",
              "      <th>3</th>\n",
              "      <td>Far_east</td>\n",
              "      <td>3</td>\n",
              "      <td>restaurants</td>\n",
              "      <td>Android</td>\n",
              "      <td>2020-09-22 19:22:28.706929</td>\n",
              "      <td>y3ph</td>\n",
              "      <td>y3ph-dqoo</td>\n",
              "      <td>y3ph-dqoo</td>\n",
              "      <td>Variation1</td>\n",
              "      <td>1.990</td>\n",
              "      <td>-1.000</td>\n",
              "      <td>2.99</td>\n",
              "      <td>22.603678</td>\n",
              "      <td>21.358348</td>\n",
              "      <td>1.163977</td>\n",
              "      <td>1.99</td>\n",
              "      <td>0.626494</td>\n",
              "      <td>5.001153</td>\n",
              "      <td>3.303494</td>\n",
              "      <td>2.82</td>\n",
              "      <td>4.23</td>\n",
              "      <td>6.77</td>\n",
              "      <td>0.79</td>\n",
              "      <td>45.47</td>\n",
              "      <td>19.55</td>\n",
              "      <td>2020-09-22</td>\n",
              "      <td>19:30:00</td>\n",
              "      <td>during_test_variation</td>\n",
              "      <td>2.8</td>\n",
              "      <td>19.6</td>\n",
              "    </tr>\n",
              "    <tr>\n",
              "      <th>4</th>\n",
              "      <td>Far_east</td>\n",
              "      <td>3</td>\n",
              "      <td>restaurants</td>\n",
              "      <td>iOS</td>\n",
              "      <td>2020-09-22 20:17:50.925290</td>\n",
              "      <td>v7fw</td>\n",
              "      <td>v7fw-4pry</td>\n",
              "      <td>v7fw-4pry</td>\n",
              "      <td>Variation1</td>\n",
              "      <td>1.990</td>\n",
              "      <td>-1.000</td>\n",
              "      <td>2.99</td>\n",
              "      <td>4.374300</td>\n",
              "      <td>2.941232</td>\n",
              "      <td>1.245330</td>\n",
              "      <td>1.99</td>\n",
              "      <td>0.412424</td>\n",
              "      <td>4.607689</td>\n",
              "      <td>3.021993</td>\n",
              "      <td>1.86</td>\n",
              "      <td>2.48</td>\n",
              "      <td>0.00</td>\n",
              "      <td>0.55</td>\n",
              "      <td>8.90</td>\n",
              "      <td>-6.00</td>\n",
              "      <td>2020-09-22</td>\n",
              "      <td>20:30:00</td>\n",
              "      <td>during_test_variation</td>\n",
              "      <td>1.9</td>\n",
              "      <td>-6.0</td>\n",
              "    </tr>\n",
              "  </tbody>\n",
              "</table>\n",
              "</div>"
            ],
            "text/plain": [
              "  zone_name  zone_id vertical_type  ...         period_variant   tt real_delay\n",
              "0  Far_east        3   restaurants  ...  during_test_variation  1.8        3.4\n",
              "1  Far_east        3   restaurants  ...  during_test_variation  2.6       -1.2\n",
              "2  Far_east        3   restaurants  ...  during_test_variation  2.2       -1.8\n",
              "3  Far_east        3   restaurants  ...  during_test_variation  2.8       19.6\n",
              "4  Far_east        3   restaurants  ...  during_test_variation  1.9       -6.0\n",
              "\n",
              "[5 rows x 30 columns]"
            ]
          },
          "metadata": {
            "tags": []
          },
          "execution_count": 43
        }
      ]
    },
    {
      "cell_type": "code",
      "metadata": {
        "id": "Q6-Ow2HsZVLi",
        "colab": {
          "base_uri": "https://localhost:8080/",
          "height": 406
        },
        "outputId": "e86361dd-d181-44e9-928a-eeb11f770540"
      },
      "source": [
        "real_delay = pp_new.pivot_table(\"order_delay_mins\", index=[\"new_time\",\"period_variant\"],  aggfunc = \"mean\").reset_index()\n",
        "real_delay\n"
      ],
      "execution_count": null,
      "outputs": [
        {
          "output_type": "execute_result",
          "data": {
            "text/html": [
              "<div>\n",
              "<style scoped>\n",
              "    .dataframe tbody tr th:only-of-type {\n",
              "        vertical-align: middle;\n",
              "    }\n",
              "\n",
              "    .dataframe tbody tr th {\n",
              "        vertical-align: top;\n",
              "    }\n",
              "\n",
              "    .dataframe thead th {\n",
              "        text-align: right;\n",
              "    }\n",
              "</style>\n",
              "<table border=\"1\" class=\"dataframe\">\n",
              "  <thead>\n",
              "    <tr style=\"text-align: right;\">\n",
              "      <th></th>\n",
              "      <th>new_time</th>\n",
              "      <th>period_variant</th>\n",
              "      <th>order_delay_mins</th>\n",
              "    </tr>\n",
              "  </thead>\n",
              "  <tbody>\n",
              "    <tr>\n",
              "      <th>0</th>\n",
              "      <td>00:00:00</td>\n",
              "      <td>before_test</td>\n",
              "      <td>0.274807</td>\n",
              "    </tr>\n",
              "    <tr>\n",
              "      <th>1</th>\n",
              "      <td>00:00:00</td>\n",
              "      <td>during_test_control</td>\n",
              "      <td>-1.086524</td>\n",
              "    </tr>\n",
              "    <tr>\n",
              "      <th>2</th>\n",
              "      <td>00:00:00</td>\n",
              "      <td>during_test_variation</td>\n",
              "      <td>-0.623434</td>\n",
              "    </tr>\n",
              "    <tr>\n",
              "      <th>3</th>\n",
              "      <td>00:30:00</td>\n",
              "      <td>before_test</td>\n",
              "      <td>0.958032</td>\n",
              "    </tr>\n",
              "    <tr>\n",
              "      <th>4</th>\n",
              "      <td>00:30:00</td>\n",
              "      <td>during_test_control</td>\n",
              "      <td>0.793299</td>\n",
              "    </tr>\n",
              "    <tr>\n",
              "      <th>...</th>\n",
              "      <td>...</td>\n",
              "      <td>...</td>\n",
              "      <td>...</td>\n",
              "    </tr>\n",
              "    <tr>\n",
              "      <th>139</th>\n",
              "      <td>23:00:00</td>\n",
              "      <td>during_test_control</td>\n",
              "      <td>1.061189</td>\n",
              "    </tr>\n",
              "    <tr>\n",
              "      <th>140</th>\n",
              "      <td>23:00:00</td>\n",
              "      <td>during_test_variation</td>\n",
              "      <td>0.606564</td>\n",
              "    </tr>\n",
              "    <tr>\n",
              "      <th>141</th>\n",
              "      <td>23:30:00</td>\n",
              "      <td>before_test</td>\n",
              "      <td>-0.541464</td>\n",
              "    </tr>\n",
              "    <tr>\n",
              "      <th>142</th>\n",
              "      <td>23:30:00</td>\n",
              "      <td>during_test_control</td>\n",
              "      <td>-0.425826</td>\n",
              "    </tr>\n",
              "    <tr>\n",
              "      <th>143</th>\n",
              "      <td>23:30:00</td>\n",
              "      <td>during_test_variation</td>\n",
              "      <td>-0.894438</td>\n",
              "    </tr>\n",
              "  </tbody>\n",
              "</table>\n",
              "<p>144 rows × 3 columns</p>\n",
              "</div>"
            ],
            "text/plain": [
              "     new_time         period_variant  order_delay_mins\n",
              "0    00:00:00            before_test          0.274807\n",
              "1    00:00:00    during_test_control         -1.086524\n",
              "2    00:00:00  during_test_variation         -0.623434\n",
              "3    00:30:00            before_test          0.958032\n",
              "4    00:30:00    during_test_control          0.793299\n",
              "..        ...                    ...               ...\n",
              "139  23:00:00    during_test_control          1.061189\n",
              "140  23:00:00  during_test_variation          0.606564\n",
              "141  23:30:00            before_test         -0.541464\n",
              "142  23:30:00    during_test_control         -0.425826\n",
              "143  23:30:00  during_test_variation         -0.894438\n",
              "\n",
              "[144 rows x 3 columns]"
            ]
          },
          "metadata": {
            "tags": []
          },
          "execution_count": 38
        }
      ]
    },
    {
      "cell_type": "code",
      "metadata": {
        "id": "CoDRwlvQdKim",
        "colab": {
          "base_uri": "https://localhost:8080/",
          "height": 197
        },
        "outputId": "9c33ab90-2723-4fa2-8189-af701bdeb238"
      },
      "source": [
        "delay_order = pp_new.pivot_table(\"platform_order_code\", index=[\"real_delay\"], columns =\"period_variant\", aggfunc = \"count\")\n",
        "delay_order = delay_order.fillna(0)\n",
        "delay_order[\"before_pp\"] = delay_order[\"before_test\"]/(delay_order[\"before_test\"].sum())\n",
        "delay_order[\"control_pp\"] = delay_order[\"during_test_control\"]/(delay_order[\"during_test_control\"].sum())\n",
        "delay_order[\"variation_pp\"] = delay_order[\"during_test_variation\"]/(delay_order[\"during_test_variation\"].sum())\n",
        "delay_order = delay_order.reset_index()\n",
        "delay_order.head()"
      ],
      "execution_count": null,
      "outputs": [
        {
          "output_type": "execute_result",
          "data": {
            "text/html": [
              "<div>\n",
              "<style scoped>\n",
              "    .dataframe tbody tr th:only-of-type {\n",
              "        vertical-align: middle;\n",
              "    }\n",
              "\n",
              "    .dataframe tbody tr th {\n",
              "        vertical-align: top;\n",
              "    }\n",
              "\n",
              "    .dataframe thead th {\n",
              "        text-align: right;\n",
              "    }\n",
              "</style>\n",
              "<table border=\"1\" class=\"dataframe\">\n",
              "  <thead>\n",
              "    <tr style=\"text-align: right;\">\n",
              "      <th>period_variant</th>\n",
              "      <th>real_delay</th>\n",
              "      <th>before_test</th>\n",
              "      <th>during_test_control</th>\n",
              "      <th>during_test_variation</th>\n",
              "      <th>before_pp</th>\n",
              "      <th>control_pp</th>\n",
              "      <th>variation_pp</th>\n",
              "    </tr>\n",
              "  </thead>\n",
              "  <tbody>\n",
              "    <tr>\n",
              "      <th>0</th>\n",
              "      <td>-147.3</td>\n",
              "      <td>1.0</td>\n",
              "      <td>0.0</td>\n",
              "      <td>0.0</td>\n",
              "      <td>0.000006</td>\n",
              "      <td>0.000000</td>\n",
              "      <td>0.0</td>\n",
              "    </tr>\n",
              "    <tr>\n",
              "      <th>1</th>\n",
              "      <td>-44.4</td>\n",
              "      <td>1.0</td>\n",
              "      <td>0.0</td>\n",
              "      <td>0.0</td>\n",
              "      <td>0.000006</td>\n",
              "      <td>0.000000</td>\n",
              "      <td>0.0</td>\n",
              "    </tr>\n",
              "    <tr>\n",
              "      <th>2</th>\n",
              "      <td>-42.9</td>\n",
              "      <td>1.0</td>\n",
              "      <td>0.0</td>\n",
              "      <td>0.0</td>\n",
              "      <td>0.000006</td>\n",
              "      <td>0.000000</td>\n",
              "      <td>0.0</td>\n",
              "    </tr>\n",
              "    <tr>\n",
              "      <th>3</th>\n",
              "      <td>-39.4</td>\n",
              "      <td>0.0</td>\n",
              "      <td>1.0</td>\n",
              "      <td>0.0</td>\n",
              "      <td>0.000000</td>\n",
              "      <td>0.000016</td>\n",
              "      <td>0.0</td>\n",
              "    </tr>\n",
              "    <tr>\n",
              "      <th>4</th>\n",
              "      <td>-38.4</td>\n",
              "      <td>1.0</td>\n",
              "      <td>0.0</td>\n",
              "      <td>0.0</td>\n",
              "      <td>0.000006</td>\n",
              "      <td>0.000000</td>\n",
              "      <td>0.0</td>\n",
              "    </tr>\n",
              "  </tbody>\n",
              "</table>\n",
              "</div>"
            ],
            "text/plain": [
              "period_variant  real_delay  before_test  ...  control_pp  variation_pp\n",
              "0                   -147.3          1.0  ...    0.000000           0.0\n",
              "1                    -44.4          1.0  ...    0.000000           0.0\n",
              "2                    -42.9          1.0  ...    0.000000           0.0\n",
              "3                    -39.4          0.0  ...    0.000016           0.0\n",
              "4                    -38.4          1.0  ...    0.000000           0.0\n",
              "\n",
              "[5 rows x 7 columns]"
            ]
          },
          "metadata": {
            "tags": []
          },
          "execution_count": 44
        }
      ]
    },
    {
      "cell_type": "code",
      "metadata": {
        "id": "Jg8r0KDKcQ8_",
        "colab": {
          "base_uri": "https://localhost:8080/",
          "height": 542
        },
        "outputId": "2e73b4ab-8c2a-4b41-83c7-025118fecc69"
      },
      "source": [
        "fig = go.Figure()\n",
        "\n",
        "fig = make_subplots(specs=[[{\"secondary_y\": True}]])\n",
        "fig.add_trace(go.Scatter(x =delay_order.real_delay, y=signal.savgol_filter(delay_order.before_pp,53, 3), mode=\"lines\", name =\"before test\"), secondary_y=False)\n",
        "fig.add_trace(go.Scatter(x =delay_order.real_delay, y=signal.savgol_filter(delay_order.control_pp,53,3), mode=\"lines\", name =\"during test control\"), secondary_y=False)\n",
        "fig.add_trace(go.Scatter(x =delay_order.real_delay, y=signal.savgol_filter(delay_order.variation_pp,53,3), mode=\"lines\", name =\"during test variation\"), secondary_y=False)\n",
        "# Add figure title\n",
        "fig.update_layout(title_text=\"Order across travel time (Before test, Test-Contro, Test-Variation\")\n",
        "# Set x-axis title\n",
        "fig.update_xaxes(title_text=\"Travel Time (in minutes)\")\n",
        "# Set y-axes titles\n",
        "fig.update_yaxes(title_text=\"Share of orders\", showgrid=False, secondary_y=False)\n",
        "fig.update_yaxes(title_text=\"Delta % difference of Variation1 vs Control\", showgrid=False,secondary_y=True)\n",
        "\n",
        "\n",
        "fig.show()"
      ],
      "execution_count": null,
      "outputs": [
        {
          "output_type": "display_data",
          "data": {
            "text/html": [
              "<html>\n",
              "<head><meta charset=\"utf-8\" /></head>\n",
              "<body>\n",
              "    <div>\n",
              "            <script src=\"https://cdnjs.cloudflare.com/ajax/libs/mathjax/2.7.5/MathJax.js?config=TeX-AMS-MML_SVG\"></script><script type=\"text/javascript\">if (window.MathJax) {MathJax.Hub.Config({SVG: {font: \"STIX-Web\"}});}</script>\n",
              "                <script type=\"text/javascript\">window.PlotlyConfig = {MathJaxConfig: 'local'};</script>\n",
              "        <script src=\"https://cdn.plot.ly/plotly-latest.min.js\"></script>    \n",
              "            <div id=\"87ae17f0-e2c8-478b-98d4-e94e7c452998\" class=\"plotly-graph-div\" style=\"height:525px; width:100%;\"></div>\n",
              "            <script type=\"text/javascript\">\n",
              "                \n",
              "                    window.PLOTLYENV=window.PLOTLYENV || {};\n",
              "                    \n",
              "                if (document.getElementById(\"87ae17f0-e2c8-478b-98d4-e94e7c452998\")) {\n",
              "                    Plotly.newPlot(\n",
              "                        '87ae17f0-e2c8-478b-98d4-e94e7c452998',\n",
              "                        [{\"mode\": \"lines\", \"name\": \"before test\", \"type\": \"scatter\", \"x\": [-147.3, -44.4, -42.9, -39.4, -38.4, -38.0, -36.4, -36.3, -36.0, -35.8, -35.2, -35.0, -34.9, -34.8, -34.7, -34.6, -34.4, -34.2, -34.0, -33.8, -33.6, -33.4, -33.2, -32.9, -32.8, -32.6, -32.4, -32.3, -32.2, -32.1, -31.9, -31.8, -31.7, -31.6, -31.5, -31.4, -31.3, -31.2, -31.0, -30.8, -30.7, -30.6, -30.5, -30.4, -30.3, -30.2, -30.1, -30.0, -29.9, -29.8, -29.7, -29.6, -29.5, -29.4, -29.3, -29.2, -29.1, -28.8, -28.7, -28.6, -28.4, -28.2, -28.1, -28.0, -27.9, -27.8, -27.7, -27.6, -27.5, -27.4, -27.3, -27.2, -27.1, -27.0, -26.9, -26.8, -26.7, -26.6, -26.5, -26.4, -26.3, -26.2, -26.1, -26.0, -25.9, -25.8, -25.7, -25.6, -25.5, -25.4, -25.3, -25.2, -25.1, -25.0, -24.9, -24.8, -24.7, -24.6, -24.5, -24.4, -24.3, -24.2, -24.1, -24.0, -23.9, -23.8, -23.7, -23.6, -23.5, -23.4, -23.3, -23.2, -23.1, -23.0, -22.9, -22.8, -22.7, -22.6, -22.5, -22.4, -22.3, -22.2, -22.1, -22.0, -21.9, -21.8, -21.7, -21.6, -21.5, -21.4, -21.3, -21.2, -21.1, -21.0, -20.9, -20.8, -20.7, -20.6, -20.5, -20.4, -20.3, -20.2, -20.1, -20.0, -19.9, -19.8, -19.7, -19.6, -19.5, -19.4, -19.3, -19.2, -19.1, -19.0, -18.9, -18.8, -18.7, -18.6, -18.5, -18.4, -18.3, -18.2, -18.1, -18.0, -17.9, -17.8, -17.7, -17.6, -17.5, -17.4, -17.3, -17.2, -17.1, -17.0, -16.9, -16.8, -16.7, -16.6, -16.5, -16.4, -16.3, -16.2, -16.1, -16.0, -15.9, -15.8, -15.7, -15.6, -15.5, -15.4, -15.3, -15.2, -15.1, -15.0, -14.9, -14.8, -14.7, -14.6, -14.5, -14.4, -14.3, -14.2, -14.1, -14.0, -13.9, -13.8, -13.7, -13.6, -13.5, -13.4, -13.3, -13.2, -13.1, -13.0, -12.9, -12.8, -12.7, -12.6, -12.5, -12.4, -12.3, -12.2, -12.1, -12.0, -11.9, -11.8, -11.7, -11.6, -11.5, -11.4, -11.3, -11.2, -11.1, -11.0, -10.9, -10.8, -10.7, -10.6, -10.5, -10.4, -10.3, -10.2, -10.1, -10.0, -9.9, -9.8, -9.7, -9.6, -9.5, -9.4, -9.3, -9.2, -9.1, -9.0, -8.9, -8.8, -8.7, -8.6, -8.5, -8.4, -8.3, -8.2, -8.1, -8.0, -7.9, -7.8, -7.7, -7.6, -7.5, -7.4, -7.3, -7.2, -7.1, -7.0, -6.9, -6.8, -6.7, -6.6, -6.5, -6.4, -6.3, -6.2, -6.1, -6.0, -5.9, -5.8, -5.7, -5.6, -5.5, -5.4, -5.3, -5.2, -5.1, -5.0, -4.9, -4.8, -4.7, -4.6, -4.5, -4.4, -4.3, -4.2, -4.1, -4.0, -3.9, -3.8, -3.7, -3.6, -3.5, -3.4, -3.3, -3.2, -3.1, -3.0, -2.9, -2.8, -2.7, -2.6, -2.5, -2.4, -2.3, -2.2, -2.1, -2.0, -1.9, -1.8, -1.7, -1.6, -1.5, -1.4, -1.3, -1.2, -1.1, -1.0, -0.9, -0.8, -0.7, -0.6, -0.5, -0.4, -0.3, -0.2, -0.1, 0.0, 0.1, 0.2, 0.3, 0.4, 0.5, 0.6, 0.7, 0.8, 0.9, 1.0, 1.1, 1.2, 1.3, 1.4, 1.5, 1.6, 1.7, 1.8, 1.9, 2.0, 2.1, 2.2, 2.3, 2.4, 2.5, 2.6, 2.7, 2.8, 2.9, 3.0, 3.1, 3.2, 3.3, 3.4, 3.5, 3.6, 3.7, 3.8, 3.9, 4.0, 4.1, 4.2, 4.3, 4.4, 4.5, 4.6, 4.7, 4.8, 4.9, 5.0, 5.1, 5.2, 5.3, 5.4, 5.5, 5.6, 5.7, 5.8, 5.9, 6.0, 6.1, 6.2, 6.3, 6.4, 6.5, 6.6, 6.7, 6.8, 6.9, 7.0, 7.1, 7.2, 7.3, 7.4, 7.5, 7.6, 7.7, 7.8, 7.9, 8.0, 8.1, 8.2, 8.3, 8.4, 8.5, 8.6, 8.7, 8.8, 8.9, 9.0, 9.1, 9.2, 9.3, 9.4, 9.5, 9.6, 9.7, 9.8, 9.9, 10.0, 10.1, 10.2, 10.3, 10.4, 10.5, 10.6, 10.7, 10.8, 10.9, 11.0, 11.1, 11.2, 11.3, 11.4, 11.5, 11.6, 11.7, 11.8, 11.9, 12.0, 12.1, 12.2, 12.3, 12.4, 12.5, 12.6, 12.7, 12.8, 12.9, 13.0, 13.1, 13.2, 13.3, 13.4, 13.5, 13.6, 13.7, 13.8, 13.9, 14.0, 14.1, 14.2, 14.3, 14.4, 14.5, 14.6, 14.7, 14.8, 14.9, 15.0, 15.1, 15.2, 15.3, 15.4, 15.5, 15.6, 15.7, 15.8, 15.9, 16.0, 16.1, 16.2, 16.3, 16.4, 16.5, 16.6, 16.7, 16.8, 16.9, 17.0, 17.1, 17.2, 17.3, 17.4, 17.5, 17.6, 17.7, 17.8, 17.9, 18.0, 18.1, 18.2, 18.3, 18.4, 18.5, 18.6, 18.7, 18.8, 18.9, 19.0, 19.1, 19.2, 19.3, 19.4, 19.5, 19.6, 19.7, 19.8, 19.9, 20.0, 20.1, 20.2, 20.3, 20.4, 20.5, 20.6, 20.7, 20.8, 20.9, 21.0, 21.1, 21.2, 21.3, 21.4, 21.5, 21.6, 21.7, 21.8, 21.9, 22.0, 22.1, 22.2, 22.3, 22.4, 22.5, 22.6, 22.7, 22.8, 22.9, 23.0, 23.1, 23.2, 23.3, 23.4, 23.5, 23.6, 23.7, 23.8, 23.9, 24.0, 24.1, 24.2, 24.3, 24.4, 24.5, 24.6, 24.7, 24.8, 24.9, 25.0, 25.1, 25.2, 25.3, 25.4, 25.5, 25.6, 25.7, 25.8, 25.9, 26.0, 26.1, 26.2, 26.3, 26.4, 26.5, 26.6, 26.7, 26.8, 26.9, 27.0, 27.1, 27.2, 27.3, 27.4, 27.5, 27.6, 27.7, 27.8, 27.9, 28.0, 28.1, 28.2, 28.3, 28.4, 28.5, 28.6, 28.7, 28.8, 28.9, 29.0, 29.1, 29.2, 29.3, 29.4, 29.5, 29.6, 29.7, 29.8, 29.9, 30.0, 30.1, 30.2, 30.3, 30.4, 30.5, 30.6, 30.7, 30.8, 30.9, 31.0, 31.1, 31.2, 31.3, 31.4, 31.5, 31.6, 31.7, 31.8, 31.9, 32.0, 32.1, 32.2, 32.3, 32.4, 32.5, 32.6, 32.7, 32.8, 32.9, 33.0, 33.1, 33.2, 33.3, 33.4, 33.5, 33.6, 33.7, 33.8, 33.9, 34.0, 34.1, 34.2, 34.3, 34.4, 34.5, 34.6, 34.7, 34.8, 34.9, 35.0, 35.1, 35.2, 35.3, 35.4, 35.5, 35.6, 35.7, 35.8, 35.9, 36.0, 36.1, 36.2, 36.3, 36.4, 36.5, 36.6, 36.7, 36.8, 36.9, 37.0, 37.1, 37.2, 37.3, 37.4, 37.5, 37.6, 37.7, 37.8, 37.9, 38.0, 38.1, 38.2, 38.3, 38.4, 38.5, 38.6, 38.7, 38.8, 38.9, 39.0, 39.1, 39.2, 39.3, 39.4, 39.5, 39.6, 39.7, 39.8, 39.9, 40.0, 40.1, 40.2, 40.3, 40.4, 40.5, 40.6, 40.7, 40.8, 40.9, 41.0, 41.1, 41.2, 41.3, 41.4, 41.5, 41.6, 41.7, 41.8, 41.9, 42.0, 42.1, 42.2, 42.3, 42.4, 42.5, 42.6, 42.7, 42.8, 42.9, 43.0, 43.1, 43.2, 43.3, 43.4, 43.5, 43.6, 43.7, 43.8, 43.9, 44.0, 44.1, 44.2, 44.3, 44.4, 44.5, 44.6, 44.7, 44.8, 44.9, 45.0, 45.1, 45.2, 45.4, 45.5, 45.6, 45.7, 45.8, 45.9, 46.0, 46.1, 46.2, 46.3, 46.4, 46.5, 46.6, 46.7, 46.8, 46.9, 47.0, 47.1, 47.2, 47.3, 47.4, 47.5, 47.6, 47.7, 47.8, 47.9, 48.0, 48.1, 48.2, 48.3, 48.4, 48.5, 48.6, 48.7, 48.8, 48.9, 49.0, 49.1, 49.2, 49.3, 49.4, 49.5, 49.6, 49.7, 49.8, 49.9, 50.0, 50.1, 50.2, 50.3, 50.4, 50.5, 50.6, 50.7, 50.8, 50.9, 51.0, 51.1, 51.2, 51.3, 51.4, 51.5, 51.6, 51.7, 51.8, 51.9, 52.0, 52.1, 52.2, 52.3, 52.4, 52.5, 52.6, 52.7, 52.8, 52.9, 53.0, 53.1, 53.3, 53.4, 53.5, 53.6, 53.7, 53.8, 53.9, 54.0, 54.1, 54.2, 54.3, 54.4, 54.5, 54.6, 54.7, 54.8, 54.9, 55.0, 55.1, 55.2, 55.3, 55.4, 55.5, 55.6, 55.7, 55.8, 55.9, 56.0, 56.1, 56.2, 56.3, 56.4, 56.5, 56.6, 56.7, 56.8, 56.9, 57.0, 57.1, 57.2, 57.3, 57.5, 57.6, 57.7, 57.8, 58.1, 58.2, 58.3, 58.5, 58.6, 58.7, 58.8, 58.9, 59.0, 59.2, 59.3, 59.4, 59.5, 59.6, 59.8, 60.0, 60.1, 60.2, 60.3, 60.4, 60.5, 60.6, 60.7, 60.8, 60.9, 61.0, 61.2, 61.3, 61.4, 61.5, 61.6, 61.7, 61.8, 62.0, 62.2, 62.3, 62.4, 62.5, 62.7, 62.8, 62.9, 63.0, 63.1, 63.2, 63.3, 63.4, 63.5, 63.6, 63.7, 63.8, 63.9, 64.0, 64.2, 64.3, 64.6, 64.7, 64.9, 65.0, 65.1, 65.2, 65.4, 65.6, 65.7, 65.8, 65.9, 66.2, 66.3, 66.4, 66.5, 66.6, 66.7, 67.0, 67.1, 67.2, 67.3, 67.4, 67.5, 67.7, 67.8, 68.0, 68.1, 68.2, 68.3, 68.5, 68.8, 68.9, 69.0, 69.4, 69.7, 69.8, 70.0, 70.2, 70.4, 70.6, 70.7, 70.8, 70.9, 71.0, 71.1, 71.2, 71.3, 71.5, 71.6, 71.7, 71.8, 71.9, 72.0, 72.1, 72.4, 72.6, 73.1, 73.3, 73.6, 73.7, 73.8, 73.9, 74.1, 74.2, 74.3, 74.7, 74.8, 75.1, 75.5, 75.6, 76.1, 76.3, 76.4, 76.5, 76.6, 76.7, 77.2, 77.6, 77.7, 77.8, 78.0, 78.4, 78.5, 78.6, 78.7, 78.9, 79.4, 79.6, 79.8, 79.9, 80.1, 80.2, 80.8, 80.9, 81.0, 81.5, 81.7, 82.4, 82.6, 83.0, 83.1, 83.4, 83.8, 84.2, 84.4, 84.8, 85.4, 85.6, 85.7, 85.8, 85.9, 86.2, 86.6, 86.8, 86.9, 88.1, 88.6, 89.3, 89.9, 90.0, 90.9, 92.8, 93.1, 93.4, 94.0, 94.1, 95.1, 95.2, 95.5, 95.7, 97.2, 97.4, 97.8, 98.0, 98.8, 99.4, 99.5, 99.6, 100.7, 103.0, 103.2, 105.7, 106.2, 107.2, 108.4, 108.5, 109.6, 110.0, 114.5, 120.2, 120.7, 121.3, 123.6, 125.2, 133.7, 143.3, 373.2, 690.6], \"xaxis\": \"x\", \"y\": [6.379826324654357e-06, 6.241671380056742e-06, 6.1306266964400434e-06, 6.045541509003228e-06, 5.9852650529452625e-06, 5.948646563465112e-06, 5.934535275761745e-06, 5.941780425034125e-06, 5.969231246481221e-06, 6.015736975301997e-06, 6.0801468466954195e-06, 6.1613100958604555e-06, 6.258075957996071e-06, 6.3692936683012325e-06, 6.493812461974906e-06, 6.6304815742160575e-06, 6.778150240223654e-06, 6.9356676951966605e-06, 7.101883174334043e-06, 7.27564591283477e-06, 7.455805145897807e-06, 7.641210108722118e-06, 7.830710036506671e-06, 8.023154164450434e-06, 8.217391727752369e-06, 8.412271961611446e-06, 8.606644101225438e-06, 8.714612754825041e-06, 8.997387799966858e-06, 9.093145712980789e-06, 8.672839168610906e-06, 8.816797373410375e-06, 9.127849923066374e-06, 8.916411309767152e-06, 8.772453104967681e-06, 9.545585785207693e-06, 9.920905390577736e-06, 9.966535000134715e-06, 1.0075788994848596e-05, 9.68633063722146e-06, 1.0041084784763009e-05, 9.725533541207028e-06, 1.0016663303591671e-05, 1.0154194802819734e-05, 1.0823857523360127e-05, 1.077629990213173e-05, 1.096203169314533e-05, 1.1179254341458818e-05, 1.1587992815800169e-05, 1.178979137074228e-05, 1.2306498498683236e-05, 1.1955600374484526e-05, 1.3132330164608768e-05, 1.2978731901452188e-05, 1.3460092148750412e-05, 1.3685026843749583e-05, 1.3845051812477566e-05, 1.3700450937120954e-05, 1.4818055035988266e-05, 1.4697875641802994e-05, 1.5206870723058262e-05, 1.574478597938485e-05, 1.650313723681063e-05, 1.7183082686265266e-05, 1.7614314630106536e-05, 1.851148272787466e-05, 1.9997979726540613e-05, 2.0855944920323166e-05, 2.2688841349287847e-05, 2.3420200443313724e-05, 2.4522380448809666e-05, 2.5559008057477273e-05, 2.672159909534442e-05, 2.6693964261387378e-05, 2.8288429913652937e-05, 2.9099480156764237e-05, 3.010911560203194e-05, 3.0259500512402814e-05, 3.170872261875462e-05, 3.208404222412467e-05, 3.334688986890573e-05, 3.351912557821938e-05, 3.459495609087256e-05, 3.617206963809532e-05, 3.6998543974577995e-05, 3.742849057730498e-05, 3.791563485961747e-05, 3.838799771911573e-05, 3.856794547511507e-05, 3.8407277835829945e-05, 3.956858353258281e-05, 3.990727091619584e-05, 4.2563428328857496e-05, 4.198245414520248e-05, 4.321573894435508e-05, 4.4506864093650335e-05, 4.561482813416054e-05, 4.420095290845144e-05, 4.6352613933757814e-05, 4.5128326522405176e-05, 4.7208008445311805e-05, 4.852805376967837e-05, 4.999591332218724e-05, 5.120284862849708e-05, 5.361607657055963e-05, 5.2731119213377174e-05, 5.411607426401493e-05, 5.466298690814147e-05, 5.717518611600366e-05, 5.825615799311395e-05, 6.0648820477348e-05, 6.104856156388937e-05, 6.527669115931667e-05, 6.504918578208892e-05, 6.65215440284978e-05, 6.762565204566513e-05, 7.082807943189622e-05, 7.190390994454938e-05, 7.620916000683352e-05, 7.731005467121518e-05, 8.210823305082608e-05, 8.433380119020361e-05, 8.783507038550499e-05, 8.920395867221422e-05, 9.368530046715487e-05, 9.611973653760305e-05, 0.00010186585398899617, 0.00010399566421535973, 0.00010910553781518375, 0.00011151683774557488, 0.0001175662956999383, 0.00011934006643764607, 0.00012366523928720156, 0.00012550584776285193, 0.0001332480999647234, 0.0001356574718834431, 0.00014041194866516843, 0.00014430974559422554, 0.00014921460728632173, 0.00015095431648450103, 0.00015617922811405322, 0.00016131416586560575, 0.00016641247139540126, 0.00016899857771733454, 0.00017760843517134573, 0.00018088476967164792, 0.0001884040151901917, 0.00019083395256673982, 0.0001959251887204068, 0.0001998930367401922, 0.00020849261146528906, 0.0002130909193016293, 0.00022439870775451618, 0.0002241846984589884, 0.00023154263366768985, 0.00023305098146529857, 0.00024207857478145104, 0.0002442180250661717, 0.000254726974016533, 0.0002604236058350263, 0.00027146982737115703, 0.0002765848423354382, 0.00028655459068835864, 0.0002891137048468921, 0.00030034501550347924, 0.0003015493801275605, 0.0003150750246731393, 0.0003200685749021209, 0.0003330325253807588, 0.0003396873789999486, 0.0003567220047875144, 0.00036402017163440184, 0.0003799474760520146, 0.0003884480795113119, 0.00040684452420945835, 0.00041534448499819845, 0.0004350326975161974, 0.00044212392444368555, 0.0004615120098114998, 0.0004717195462705622, 0.0004932014523135402, 0.0005032714572733746, 0.0005274686464202712, 0.0005389274624540861, 0.0005653894226443456, 0.0005747904075541967, 0.0005963834956035601, 0.0006059393641176819, 0.0006370375497071532, 0.0006492020180127083, 0.0006763509930285512, 0.0006903914166903995, 0.0007213964150490853, 0.0007340673077536672, 0.0007670980037084599, 0.000779976479002998, 0.0008102867504894149, 0.000822295049849585, 0.0008571123699532281, 0.0008707768313391493, 0.0009098563425777483, 0.0009250779947236207, 0.0009672224018492225, 0.000986272442503981, 0.0010196778153935865, 0.0010322780143368828, 0.001068970004455705, 0.0010852539910325306, 0.0011286053334644422, 0.0011370236750924256, 0.0011820915905824594, 0.0012070818351968674, 0.0012529710836589269, 0.0012634093388480027, 0.001311432253559769, 0.0013311108260194106, 0.0013808451724248417, 0.0014027711638228038, 0.0014627638176613114, 0.0014851525318604147, 0.0015403855675527398, 0.0015673764456115259, 0.0016191075694379925, 0.0016320856586688874, 0.0016892736981960342, 0.0017094709057952884, 0.0017707251219374626, 0.0017938169177260772, 0.0018568320511948174, 0.0018846384781906148, 0.0019622248812014, 0.0019925319393350313, 0.002055427536080143, 0.0020851433373012046, 0.0021631776816903167, 0.0021896402845511336, 0.0022496753546464125, 0.0022707600902850777, 0.002352483363672177, 0.0023887479778705004, 0.002470737316868256, 0.0024953689513117793, 0.0025797316726770534, 0.0026162989847077905, 0.0027038981949988254, 0.0027384642309146263, 0.0028237331177654694, 0.0028436391956023392, 0.00293334507997968, 0.0029639008516189245, 0.0030519949182389572, 0.0030811027531129644, 0.003164147999836101, 0.003183929399584885, 0.0032821750903255092, 0.0032958569038164724, 0.0033845216618912464, 0.003408251629543102, 0.00349680520561149, 0.0035297170075132113, 0.003620064277106579, 0.0036502280197059675, 0.0037544537599807836, 0.0037820352522815823, 0.003874922998587326, 0.0038951536250555513, 0.003997133874403718, 0.0040241710247426185, 0.004111588359265983, 0.0041317155157745075, 0.00423582557534904, 0.004248432843668463, 0.004335955576163199, 0.004358981176884428, 0.0044387693692239764, 0.004442656240753563, 0.004545362707831298, 0.004551007926005221, 0.004645795406477872, 0.004668410983383646, 0.004759828299454651, 0.0047668822514898256, 0.004866197346037532, 0.004862274484956745, 0.004955637164804216, 0.004961417343795138, 0.0050435255768459634, 0.005036808384182731, 0.005126753342007328, 0.005131423628946069, 0.005230024073834233, 0.005229065852033537, 0.005319275590127678, 0.005308178597617531, 0.005403311834849923, 0.00539281895266349, 0.0054719959653032, 0.005447465230137147, 0.005516431492965008, 0.005490900762412044, 0.005572245502840988, 0.005545688427408271, 0.005609267182955623, 0.005585163823710068, 0.0056455401518711885, 0.00562055697663291, 0.005701737836069782, 0.005658155774907857, 0.005729976780350535, 0.005694541853841479, 0.005758895670080743, 0.0057244581682763685, 0.005783486816279166, 0.0057478160296756415, 0.005798132635605841, 0.005746936856353473, 0.005798155771745899, 0.005753528085587505, 0.0057972682437064885, 0.005741411174903179, 0.0057816937654247445, 0.00572998449239722, 0.005774411665341785, 0.005705690259996197, 0.005739557070345828, 0.005670487980228824, 0.005683132523440563, 0.005612083365337012, 0.005645321643881761, 0.005563275749874977, 0.005590461357112577, 0.005518993820476327, 0.005531638363688066, 0.00546206863320705, 0.005487814015726097, 0.005402153099835399, 0.005414671679617939, 0.005331551883110173, 0.00534668934541306, 0.005274210887990428, 0.005286422271246654, 0.005200390534444485, 0.0052160389198402995, 0.005126342675521315, 0.005127574674979354, 0.005037778816724013, 0.00504737196013045, 0.004952025998943643, 0.004952966225968739, 0.0048580502113846616, 0.004866956982636071, 0.004766482510403284, 0.004779945173234264, 0.004689134538169198, 0.004688317703891072, 0.004609141976592478, 0.004602165145024161, 0.004517511293896501, 0.004523565893215321, 0.004427471220829447, 0.004427912092831645, 0.004337152871411152, 0.004335035271925374, 0.004252292723034649, 0.004245664218908303, 0.004158021307019383, 0.004151033550051594, 0.004075799321279943, 0.004076776823197353, 0.0039962187115303496, 0.00397806583897336, 0.003900323267017189, 0.0038971568291821584, 0.0038100730406779495, 0.003800355219183429, 0.003713225158399107, 0.0036963062133118264, 0.003606465368117486, 0.003589104265686893, 0.003510826991827181, 0.0034978842494769284, 0.003418722018260035, 0.003409969487942338, 0.0033363605730096957, 0.0033280746215164827, 0.003250110970888656, 0.003226963905432127, 0.0031478113142735893, 0.0031305729619194103, 0.0030569634043162105, 0.0030393625857678035, 0.002958699718799986, 0.0029397190865653997, 0.002867940497379492, 0.0028512901885850966, 0.002774221135372809, 0.002760759115212387, 0.0026885178032253383, 0.0026781451004330914, 0.0026114770275175656, 0.002599711014957437, 0.0025387247924375904, 0.0025298180211861805, 0.002461490572892118, 0.002462709076268456, 0.002392572510356044, 0.0023796278399941194, 0.002319572847111569, 0.0023106500090962307, 0.002258598835332308, 0.002252757602638458, 0.0021951736780481137, 0.0021923844878301234, 0.002138714426932764, 0.00213953575990479, 0.0020915366240036376, 0.0020811266463190764, 0.0020386994641483328, 0.002037698826090865, 0.001997278061399514, 0.001986697133346753, 0.0019394865542192124, 0.0019338458347391903, 0.0018889655790518415, 0.0018844733118574294, 0.0018393745481806525, 0.0018346078606583415, 0.0017931151214776802, 0.001786425563648405, 0.0017437792308176762, 0.0017352233576904649, 0.0017022376486746725, 0.0016953302255265262, 0.0016548194869571754, 0.0016458143871105229, 0.0016061114854314976, 0.001600367938662333, 0.0015596419054563406, 0.0015464883671633457, 0.001509723755271567, 0.0014988105665407641, 0.0014678415577332785, 0.0014606320794232762, 0.0014214979411873207, 0.0014213179934313212, 0.001388609275425656, 0.0013799165134697738, 0.001342429539871769, 0.0013396435630065647, 0.0013067857454316435, 0.0013076160757914687, 0.0012710911800175033, 0.0012663302765302063, 0.001236881826260915, 0.0012306003642354238, 0.0012018594942495439, 0.0011958743033508945, 0.0011678924272929977, 0.0011628770262650731, 0.0011352878219175891, 0.0011318521051191161, 0.0011023303904063107, 0.0010951871071636942, 0.0010716107377749951, 0.0010614559003016184, 0.0010321886831294402, 0.001030906555367945, 0.0010031811048623472, 0.0009932704822006838, 0.0009702937244417969, 0.0009646292261511607, 0.0009418478402416447, 0.0009364474795499932, 0.000913358897114164, 0.0009126918050758521, 0.0008898339413700361, 0.0008933956215977088, 0.0008720351802900304, 0.0008691650135818409, 0.0008491220469163006, 0.0008439446929079767, 0.0008232410609096957, 0.0008193863229079671, 0.0008021633946471592, 0.0008004963072219366, 0.000781714260189506, 0.0007808877858530234, 0.0007654347723065802, 0.0007649251345547679, 0.0007417311541475676, 0.0007405422136168577, 0.0007273173388920207, 0.0007303860908023665, 0.0007191657055452508, 0.0007135841117564856, 0.0006994884184267231, 0.0007003078233870772, 0.0006838278222903239, 0.0006795810552487394, 0.0006620393623915896, 0.0006630200776617861, 0.0006488299117601242, 0.000646615269020218, 0.0006331487501658961, 0.0006328614764268544, 0.0006199418702166591, 0.0006180087171807804, 0.0006021578905594676, 0.0005962941643961176, 0.0005791451432493808, 0.0005750024888380532, 0.0005605983136408633, 0.00055611761451648, 0.0005416845191442188, 0.000538502014545259, 0.0005257366492687775, 0.0005207501684159245, 0.0005111795184789884, 0.0005076538278025156, 0.0004962046518270578, 0.0004967078628732988, 0.00048556074205969695, 0.00048639749912509386, 0.0004760106575805894, 0.0004749149042806648, 0.0004660505492860259, 0.0004662574892054252, 0.0004552806760894656, 0.0004550493146888951, 0.0004427903738114403, 0.00043854424944041306, 0.00042686628274661326, 0.00042338043764468314, 0.00041485541270421455, 0.00041492032243048573, 0.0004095251031032913, 0.000411897842800254, 0.0004025495568760884, 0.0004039460799967548, 0.00039753158516593547, 0.0003982346667554472, 0.0003931055130389089, 0.00039805022030554795, 0.00039192107120209906, 0.00039023920235406245, 0.0003805046714250554, 0.0003792148316168745, 0.0003717630665068304, 0.0003700561335070654, 0.00036227724908343686, 0.0003629726186262629, 0.00035662946022728626, 0.00035700028113875627, 0.0003496564846823119, 0.00034809800858124626, 0.00034140588006974237, 0.00033638855103014644, 0.00032983074066508496, 0.00032576970541451424, 0.00031642270483146285, 0.0003149554879495112, 0.0003091264659962469, 0.0003062562992880575, 0.0002962428493372515, 0.00029582190012232454, 0.00028990676031440344, 0.00028963233998650445, 0.00028311116184319993, 0.00028178597515437625, 0.0002737403824495344, 0.00027053409903996054, 0.00026582525186779216, 0.0002629814346524455, 0.0002546723470191761, 0.0002532520450878956, 0.0002469076013478047, 0.00024676749916634807, 0.00024065313148571345, 0.00023938128645313247, 0.00023459146279076437, 0.00023574441377027436, 0.0002328337588169851, 0.0002317527869398748, 0.00022825665910903054, 0.0002305066487295794, 0.00022613263291768125, 0.00022527723840612727, 0.00022206260027931058, 0.000221739979659626, 0.0002168466860375583, 0.0002191577293610355, 0.00021290390216950134, 0.00021403307433839726, 0.0002089026352807447, 0.00020773940157232042, 0.0002020517671416271, 0.00020041745591481883, 0.00019905242365145242, 0.00019990139145743499, 0.0001965466511491617, 0.00019740847236628708, 0.00019401967051848527, 0.00019454601770478334, 0.0001899284297517289, 0.00018877997746611887, 0.00018504092016467547, 0.00018450557559057746, 0.00018025945121955025, 0.00017868812170734175, 0.0001770891573611762, 0.00017699211410704798, 0.00017414765422114418, 0.00017436294885778624, 0.00016829678146893718, 0.00016661298460922907, 0.0001654176173729478, 0.00016753778754095424, 0.0001647845868741644, 0.0001673257062570979, 0.00016100182797483548, 0.00016059823086495126, 0.0001574581425227628, 0.00015764451698433354, 0.00015685274685793647, 0.00015585596482381157, 0.00015246202161155265, 0.00015236690636909585, 0.00015263361465030917, 0.00015270302307048036, 0.00015105778644420068, 0.0001537923496648335, 0.0001512403048824286, 0.00015171331041248398, 0.0001468470089538162, 0.0001431439412035727, 0.00013942287867772926, 0.00013858612161233235, 0.00013512598333268792, 0.0001349653156934028, 0.0001333946288517515, 0.00013280208659806794, 0.00012989657300923577, 0.00012985608476413592, 0.0001242860590453993, 0.00012495250841315398, 0.00012205149351822181, 0.00012131177970695311, 0.00011756758104105261, 0.0001180213064543938, 0.00011680344574861257, 0.00011629316532624302, 0.00011316785840686883, 0.00011164344384533157, 0.00010791145592001675, 0.00010947314537386818, 0.00010712097113473394, 0.00010740310350931863, 0.00010531506686916917, 0.00010455350225895769, 0.00010155351609822588, 0.00010065956135324347, 9.91917018007346e-05, 9.821291454220961e-05, 9.51364505851781e-05, 9.463066885670852e-05, 9.263646211790159e-05, 9.459275129383725e-05, 9.279584441607243e-05, 9.250535732424495e-05, 9.093531315315072e-05, 8.970074301288383e-05, 8.689677137207987e-05, 8.778944077594802e-05, 8.70413722474365e-05, 8.715383959493607e-05, 8.505616289642952e-05, 8.545076261851379e-05, 8.463264299927393e-05, 8.648610488606712e-05, 8.62650262144108e-05, 8.427467549894668e-05, 8.308830565046535e-05, 8.320912771520775e-05, 8.187879966192694e-05, 8.215836135428305e-05, 7.981582717350598e-05, 8.050669802243201e-05, 8.106068004268709e-05, 8.211594509751179e-05, 8.053883155028903e-05, 8.096620747078745e-05, 7.7986144097327e-05, 7.707869327064462e-05, 7.50896278962948e-05, 7.472202033761045e-05, 7.329079300685858e-05, 7.412433671946978e-05, 7.20465828082346e-05, 7.126059671685177e-05, 7.029144951668391e-05, 7.11577694277093e-05, 7.06815505448682e-05, 6.895855078117453e-05, 6.674519338238268e-05, 6.766228426742217e-05, 6.673041195956846e-05, 6.746948310028004e-05, 6.610637884858505e-05, 6.533903020335932e-05, 6.270922228354042e-05, 6.248428758854124e-05, 6.109162049121779e-05, 6.100614530711812e-05, 6.006977430536442e-05, 6.01597481833641e-05, 5.862762157514117e-05, 5.9326204470752884e-05, 5.7535724298559474e-05, 5.8321710389942305e-05, 5.64727471970491e-05, 5.682107463901925e-05, 5.6254239207621336e-05, 5.566748098895207e-05, 5.546439709289569e-05, 5.5587147169309516e-05, 5.5161056589925375e-05, 5.370347976633073e-05, 5.325039702354669e-05, 5.391299036795853e-05, 5.238986114753557e-05, 5.1705417004180956e-05, 4.968743145475982e-05, 4.8236924007293724e-05, 4.7983069137223234e-05, 4.8840391660448655e-05, 4.7802478710666757e-05, 4.750170888992501e-05, 4.646572395181455e-05, 4.614567401435859e-05, 4.477550038653506e-05, 4.317589336981238e-05, 4.1244668345605205e-05, 4.128772727293362e-05, 3.95017457946402e-05, 3.9805086297610506e-05, 3.839570976580141e-05, 3.737771960329087e-05, 3.56418664284544e-05, 3.594392159031044e-05, 3.4936856827271296e-05, 3.578389662158247e-05, 3.540793434565528e-05, 3.506474826814225e-05, 3.433724519745922e-05, 3.417722022873124e-05, 3.2979924980778506e-05, 3.4068608904574494e-05, 3.3866810349632385e-05, 3.405896884621738e-05, 3.254997837805152e-05, 3.1505638722698224e-05, 3.1449083713669856e-05, 3.2384169374309276e-05, 3.2211933664995625e-05, 3.234817982310941e-05, 3.2340467776423714e-05, 3.2028772556210586e-05, 3.1346256424527385e-05, 3.210075165861032e-05, 3.1078905472756944e-05, 3.173121608825454e-05, 3.1628388799112056e-05, 3.241823091383772e-05, 3.1972860217739364e-05, 3.18353287185113e-05, 3.168044511424044e-05, 3.11830181030137e-05, 2.9455519645420063e-05, 2.9383540543020327e-05, 2.988418090703277e-05, 2.89227457535506e-05, 2.8632258661723096e-05, 2.9116189591249882e-05, 2.9691379739890626e-05, 2.9408604694748803e-05, 2.971515855050482e-05, 2.9263361148835054e-05, 2.8379689132766887e-05, 2.873958464476556e-05, 2.8505009891409278e-05, 2.840089726115252e-05, 2.7904112920482924e-05, 2.8461950964080865e-05, 2.827300582028157e-05, 2.806349521865377e-05, 2.7801928301897585e-05, 2.729293322064232e-05, 2.7165684450328495e-05, 2.6666329427430337e-05, 2.7079566595671673e-05, 2.7955526565054163e-05, 2.7359128288027794e-05, 2.670360431974449e-05, 2.5695254215591066e-05, 2.498703126162224e-05, 2.47768779894373e-05, 2.4317368541081856e-05, 2.3541665178613278e-05, 2.4223538639739336e-05, 2.3607217575441607e-05, 2.3003749922286687e-05, 2.284436762411585e-05, 2.274475368775907e-05, 2.350181960407057e-05, 2.3542307849170424e-05, 2.2837298247987303e-05, 2.191249531626214e-05, 2.1490260760220836e-05, 2.1211341738421867e-05, 2.1113655813736513e-05, 2.0184996858668503e-05, 1.980325054772705e-05, 1.9609164039470617e-05, 1.927883137310041e-05, 1.802305310444789e-05, 1.7974852812662358e-05, 1.7002492259708792e-05, 1.6422160746610927e-05, 1.5511496567142854e-05, 1.538874649072902e-05, 1.592794708816989e-05, 1.6345040279754074e-05, 1.5328978128914957e-05, 1.5640673349128096e-05, 1.4950445170759208e-05, 1.5392602514071866e-05, 1.4767284061974168e-05, 1.5440802805857404e-05, 1.5248644309272395e-05, 1.5276279143229437e-05, 1.5395173196300432e-05, 1.5244788285929555e-05, 1.528142050768656e-05, 1.5341188869500627e-05, 1.5622035902971023e-05, 1.5367538362343387e-05, 1.579041558894183e-05, 1.6005710225583894e-05, 1.5850826621313038e-05, 1.5720364498213515e-05, 1.60089235783696e-05, 1.5960080616026922e-05, 1.6262135777882953e-05, 1.6322546810254154e-05, 1.6141313713140535e-05, 1.6836683255966548e-05, 1.7198506779636644e-05, 1.755711695052104e-05, 1.7683080379720576e-05, 1.8403514074275065e-05, 1.8474207835560522e-05, 1.8714566623931065e-05, 1.8368167193632336e-05, 1.8156085909775977e-05, 1.7715213907577597e-05, 1.8490274599489036e-05, 1.8282692009532653e-05, 1.7945932637591035e-05, 1.8073824078461995e-05, 1.7816755855605797e-05, 1.7701717825877652e-05, 1.680969109256665e-05, 1.6421518076053795e-05, 1.6408664664910986e-05, 1.5853397303541604e-05, 1.4625896539403263e-05, 1.4366257634318504e-05, 1.444787679507535e-05, 1.37550779344779e-05, 1.3078345837808963e-05, 1.3010222758752073e-05, 1.2795570792667145e-05, 1.2961379796409395e-05, 1.2883616658995397e-05, 1.2005086007384343e-05, 1.2200457856755056e-05, 1.153593650067179e-05, 1.165547322429992e-05, 1.1245449408844287e-05, 1.1521155077857558e-05, 1.1204318493187295e-05, 1.085599105121715e-05, 1.0545581172118292e-05, 1.080007871274593e-05, 1.0900977990216986e-05, 1.049031150420421e-05, 1.0653549825717896e-05, 1.0636840391232245e-05, 1.0476815422504261e-05, 9.976817729048961e-06, 1.0152909461705456e-05, 9.957537612334746e-06, 1.0347638640519025e-05, 1.00790023476343e-05, 1.0237099304690861e-05, 9.902910614977806e-06, 9.600855453121774e-06, 9.363710017536935e-06, 9.32000841965138e-06, 9.599570112007493e-06, 9.645199721564468e-06, 9.458182589436587e-06, 9.63234631042166e-06, 9.644557051007328e-06, 9.6599811443787e-06, 9.679903931650057e-06, 9.903553285534946e-06, 9.97167636459184e-06, 9.653554438807295e-06, 9.111783159137863e-06, 9.06743889069517e-06, 8.27245541151238e-06, 8.368213324526314e-06, 8.039808669827525e-06, 8.208831026355474e-06, 7.991608378041989e-06, 7.91513058174227e-06, 7.12850181980231e-06, 8.066158162670286e-06, 7.972328261327775e-06, 7.503821425172356e-06, 7.21911836835912e-06, 7.548165693615051e-06, 7.409348853272706e-06, 7.656134347214654e-06, 7.369503278729994e-06, 6.8759322908460975e-06, 6.9305592882030405e-06, 6.811022564574909e-06, 6.913207183160246e-06, 7.238398485073335e-06, 7.195339557744923e-06, 7.111792385316658e-06, 6.789814436189272e-06, 6.658066971975472e-06, 6.9144925242745285e-06, 6.606010656847093e-06, 6.618864067989902e-06, 6.790457106746414e-06, 6.597655939604268e-06, 6.368222550705112e-06, 6.4980420032474915e-06, 6.300099471648221e-06, 6.068095400520503e-06, 5.965910781935166e-06, 5.830949964935662e-06, 5.5346788380938955e-06, 5.309101472537584e-06, 5.318098860337551e-06, 5.2351943584664275e-06, 5.7840350142644075e-06, 5.4871212168655e-06, 5.393291315522988e-06, 4.941493913853223e-06, 5.049462567452826e-06, 5.321312213123253e-06, 5.560385660379517e-06, 5.767968250335894e-06, 5.945345324106671e-06, 5.766040238664474e-06, 5.460771724022739e-06, 5.55267361369383e-06, 6.007684368149297e-06, 5.906785090678241e-06, 6.204341558634288e-06, 6.177992065791528e-06, 6.284032707719708e-06, 6.160639960748735e-06, 6.004471015363594e-06, 5.650359538379184e-06, 6.215266958105676e-06, 6.057812671606255e-06, 5.702415853507563e-06, 5.904214408449679e-06, 5.940846630206685e-06, 6.338017034519509e-06, 6.374649256276517e-06, 6.576447811218632e-06, 6.5828745167900365e-06, 6.789814436189275e-06, 6.672848394789706e-06, 6.592514575147142e-06, 6.745470167746581e-06, 6.571949117318648e-06, 6.922847241517355e-06, 6.877860302517521e-06, 7.159350006545056e-06, 7.440839710572591e-06, 7.36179123204431e-06, 7.6105047376576795e-06, 7.464618521186789e-06, 7.448551757258276e-06, 7.562304445872144e-06, 7.445338404472575e-06, 7.459477156729665e-06, 7.114363067545222e-06, 6.934415311545886e-06, 6.523748825533111e-06, 6.2429017920627166e-06, 6.1259357506631476e-06, 6.044316589906305e-06, 5.965268111378024e-06, 6.251899179862685e-06, 5.822595247692836e-06, 5.959484076363761e-06, 5.9414893007638276e-06, 6.131719785677414e-06, 6.0070416975921576e-06, 5.861155481121267e-06, 5.496118604665468e-06, 5.108588258709752e-06, 4.697279102139838e-06, 4.656790857039988e-06, 4.858589411982101e-06, 4.9093603859962e-06, 4.578385049068848e-06, 4.42414411535513e-06, 4.316818132312668e-06, 4.420288092012288e-06, 4.1420117407704545e-06, 4.204350784813083e-06, 4.082886049513531e-06, 4.1735025980703396e-06, 3.917719716328424e-06, 3.6760755868435987e-06, 3.843169931700127e-06, 3.696641044672095e-06, 3.924789092456969e-06, 3.935071821371217e-06, 3.9254317630141106e-06, 3.731987925314822e-06, 3.879159482899994e-06, 4.006408253213812e-06, 4.312962108969826e-06, 4.637510740325774e-06, 4.982624829510218e-06, 5.186994066680894e-06, 5.217842253423637e-06, 5.239050381809274e-06, 5.250618451837802e-06, 5.416427455580048e-06, 5.573881742079469e-06, 5.526324120851073e-06, 5.4716971234941305e-06, 5.410000750008645e-06, 5.307173460866166e-06, 5.163215256066696e-06, 4.978126135610234e-06, 5.147791162695324e-06, 4.951133972210334e-06, 4.913859079896186e-06, 4.5115473111262385e-06, 4.466560372126404e-06, 4.418360080340867e-06, 4.006408253213814e-06, 3.591243073301056e-06, 3.533402723158412e-06, 3.3084680281592403e-06, 2.9164389883035416e-06, 2.8817347782179547e-06, 2.8438172153466665e-06, 2.606029109204685e-06, 2.3663129913912817e-06, 2.158730401434904e-06, 2.147162331406375e-06, 1.9710705987498803e-06, 1.9922787271355168e-06, 1.6523060024081968e-06, 1.673514130793834e-06, 1.5314839376657852e-06, 1.78598147829342e-06, 1.5179878559658346e-06, 1.6137457689797684e-06, 1.5147745031801326e-06, 1.5828975822370248e-06, 1.6555193551939008e-06, 1.7339251631650403e-06, 1.853461886793172e-06, 2.015414867192575e-06, 2.384950437548357e-06, 2.2409922327488872e-06, 2.107959427420806e-06, 2.1825092120491023e-06, 2.300760594562953e-06, 2.2647710433630853e-06, 2.401017201476869e-06, 2.347675545234208e-06, 2.465284257190918e-06, 2.5559008057477275e-06, 2.4897057383622564e-06, 2.6272372375903217e-06, 2.9344337639034767e-06, 3.0507571347459055e-06, 2.976207350117608e-06, 2.907441600503576e-06, 2.908935672226562e-06, 2.9098277209315163e-06, 2.9107406426973006e-06, 2.9122973336023747e-06, 2.915120689725198e-06, 2.919833607144229e-06, 2.9270589819379273e-06, 2.9374197101847533e-06, 2.9515386879631644e-06, 2.9700388113516222e-06, 2.9935429764285845e-06, 3.02267407927251e-06, 3.05805501596186e-06, 3.1003086825750927e-06, 3.1500579751906674e-06, 3.207925789887044e-06, 3.274535022742681e-06, 3.3505085698360376e-06, 3.436469327245574e-06, 3.5330401910497493e-06, 3.6408440573270225e-06, 3.7605038221558557e-06, 3.892642381614703e-06, 4.0378826317820275e-06, 4.196847468736287e-06, 4.370159788555941e-06], \"yaxis\": \"y\"}, {\"mode\": \"lines\", \"name\": \"during test control\", \"type\": \"scatter\", \"x\": [-147.3, -44.4, -42.9, -39.4, -38.4, -38.0, -36.4, -36.3, -36.0, -35.8, -35.2, -35.0, -34.9, -34.8, -34.7, -34.6, -34.4, -34.2, -34.0, -33.8, -33.6, -33.4, -33.2, -32.9, -32.8, -32.6, -32.4, -32.3, -32.2, -32.1, -31.9, -31.8, -31.7, -31.6, -31.5, -31.4, -31.3, -31.2, -31.0, -30.8, -30.7, -30.6, -30.5, -30.4, -30.3, -30.2, -30.1, -30.0, -29.9, -29.8, -29.7, -29.6, -29.5, -29.4, -29.3, -29.2, -29.1, -28.8, -28.7, -28.6, -28.4, -28.2, -28.1, -28.0, -27.9, -27.8, -27.7, -27.6, -27.5, -27.4, -27.3, -27.2, -27.1, -27.0, -26.9, -26.8, -26.7, -26.6, -26.5, -26.4, -26.3, -26.2, -26.1, -26.0, -25.9, -25.8, -25.7, -25.6, -25.5, -25.4, -25.3, -25.2, -25.1, -25.0, -24.9, -24.8, -24.7, -24.6, -24.5, -24.4, -24.3, -24.2, -24.1, -24.0, -23.9, -23.8, -23.7, -23.6, -23.5, -23.4, -23.3, -23.2, -23.1, -23.0, -22.9, -22.8, -22.7, -22.6, -22.5, -22.4, -22.3, -22.2, -22.1, -22.0, -21.9, -21.8, -21.7, -21.6, -21.5, -21.4, -21.3, -21.2, -21.1, -21.0, -20.9, -20.8, -20.7, -20.6, -20.5, -20.4, -20.3, -20.2, -20.1, -20.0, -19.9, -19.8, -19.7, -19.6, -19.5, -19.4, -19.3, -19.2, -19.1, -19.0, -18.9, -18.8, -18.7, -18.6, -18.5, -18.4, -18.3, -18.2, -18.1, -18.0, -17.9, -17.8, -17.7, -17.6, -17.5, -17.4, -17.3, -17.2, -17.1, -17.0, -16.9, -16.8, -16.7, -16.6, -16.5, -16.4, -16.3, -16.2, -16.1, -16.0, -15.9, -15.8, -15.7, -15.6, -15.5, -15.4, -15.3, -15.2, -15.1, -15.0, -14.9, -14.8, -14.7, -14.6, -14.5, -14.4, -14.3, -14.2, -14.1, -14.0, -13.9, -13.8, -13.7, -13.6, -13.5, -13.4, -13.3, -13.2, -13.1, -13.0, -12.9, -12.8, -12.7, -12.6, -12.5, -12.4, -12.3, -12.2, -12.1, -12.0, -11.9, -11.8, -11.7, -11.6, -11.5, -11.4, -11.3, -11.2, -11.1, -11.0, -10.9, -10.8, -10.7, -10.6, -10.5, -10.4, -10.3, -10.2, -10.1, -10.0, -9.9, -9.8, -9.7, -9.6, -9.5, -9.4, -9.3, -9.2, -9.1, -9.0, -8.9, -8.8, -8.7, -8.6, -8.5, -8.4, -8.3, -8.2, -8.1, -8.0, -7.9, -7.8, -7.7, -7.6, -7.5, -7.4, -7.3, -7.2, -7.1, -7.0, -6.9, -6.8, -6.7, -6.6, -6.5, -6.4, -6.3, -6.2, -6.1, -6.0, -5.9, -5.8, -5.7, -5.6, -5.5, -5.4, -5.3, -5.2, -5.1, -5.0, -4.9, -4.8, -4.7, -4.6, -4.5, -4.4, -4.3, -4.2, -4.1, -4.0, -3.9, -3.8, -3.7, -3.6, -3.5, -3.4, -3.3, -3.2, -3.1, -3.0, -2.9, -2.8, -2.7, -2.6, -2.5, -2.4, -2.3, -2.2, -2.1, -2.0, -1.9, -1.8, -1.7, -1.6, -1.5, -1.4, -1.3, -1.2, -1.1, -1.0, -0.9, -0.8, -0.7, -0.6, -0.5, -0.4, -0.3, -0.2, -0.1, 0.0, 0.1, 0.2, 0.3, 0.4, 0.5, 0.6, 0.7, 0.8, 0.9, 1.0, 1.1, 1.2, 1.3, 1.4, 1.5, 1.6, 1.7, 1.8, 1.9, 2.0, 2.1, 2.2, 2.3, 2.4, 2.5, 2.6, 2.7, 2.8, 2.9, 3.0, 3.1, 3.2, 3.3, 3.4, 3.5, 3.6, 3.7, 3.8, 3.9, 4.0, 4.1, 4.2, 4.3, 4.4, 4.5, 4.6, 4.7, 4.8, 4.9, 5.0, 5.1, 5.2, 5.3, 5.4, 5.5, 5.6, 5.7, 5.8, 5.9, 6.0, 6.1, 6.2, 6.3, 6.4, 6.5, 6.6, 6.7, 6.8, 6.9, 7.0, 7.1, 7.2, 7.3, 7.4, 7.5, 7.6, 7.7, 7.8, 7.9, 8.0, 8.1, 8.2, 8.3, 8.4, 8.5, 8.6, 8.7, 8.8, 8.9, 9.0, 9.1, 9.2, 9.3, 9.4, 9.5, 9.6, 9.7, 9.8, 9.9, 10.0, 10.1, 10.2, 10.3, 10.4, 10.5, 10.6, 10.7, 10.8, 10.9, 11.0, 11.1, 11.2, 11.3, 11.4, 11.5, 11.6, 11.7, 11.8, 11.9, 12.0, 12.1, 12.2, 12.3, 12.4, 12.5, 12.6, 12.7, 12.8, 12.9, 13.0, 13.1, 13.2, 13.3, 13.4, 13.5, 13.6, 13.7, 13.8, 13.9, 14.0, 14.1, 14.2, 14.3, 14.4, 14.5, 14.6, 14.7, 14.8, 14.9, 15.0, 15.1, 15.2, 15.3, 15.4, 15.5, 15.6, 15.7, 15.8, 15.9, 16.0, 16.1, 16.2, 16.3, 16.4, 16.5, 16.6, 16.7, 16.8, 16.9, 17.0, 17.1, 17.2, 17.3, 17.4, 17.5, 17.6, 17.7, 17.8, 17.9, 18.0, 18.1, 18.2, 18.3, 18.4, 18.5, 18.6, 18.7, 18.8, 18.9, 19.0, 19.1, 19.2, 19.3, 19.4, 19.5, 19.6, 19.7, 19.8, 19.9, 20.0, 20.1, 20.2, 20.3, 20.4, 20.5, 20.6, 20.7, 20.8, 20.9, 21.0, 21.1, 21.2, 21.3, 21.4, 21.5, 21.6, 21.7, 21.8, 21.9, 22.0, 22.1, 22.2, 22.3, 22.4, 22.5, 22.6, 22.7, 22.8, 22.9, 23.0, 23.1, 23.2, 23.3, 23.4, 23.5, 23.6, 23.7, 23.8, 23.9, 24.0, 24.1, 24.2, 24.3, 24.4, 24.5, 24.6, 24.7, 24.8, 24.9, 25.0, 25.1, 25.2, 25.3, 25.4, 25.5, 25.6, 25.7, 25.8, 25.9, 26.0, 26.1, 26.2, 26.3, 26.4, 26.5, 26.6, 26.7, 26.8, 26.9, 27.0, 27.1, 27.2, 27.3, 27.4, 27.5, 27.6, 27.7, 27.8, 27.9, 28.0, 28.1, 28.2, 28.3, 28.4, 28.5, 28.6, 28.7, 28.8, 28.9, 29.0, 29.1, 29.2, 29.3, 29.4, 29.5, 29.6, 29.7, 29.8, 29.9, 30.0, 30.1, 30.2, 30.3, 30.4, 30.5, 30.6, 30.7, 30.8, 30.9, 31.0, 31.1, 31.2, 31.3, 31.4, 31.5, 31.6, 31.7, 31.8, 31.9, 32.0, 32.1, 32.2, 32.3, 32.4, 32.5, 32.6, 32.7, 32.8, 32.9, 33.0, 33.1, 33.2, 33.3, 33.4, 33.5, 33.6, 33.7, 33.8, 33.9, 34.0, 34.1, 34.2, 34.3, 34.4, 34.5, 34.6, 34.7, 34.8, 34.9, 35.0, 35.1, 35.2, 35.3, 35.4, 35.5, 35.6, 35.7, 35.8, 35.9, 36.0, 36.1, 36.2, 36.3, 36.4, 36.5, 36.6, 36.7, 36.8, 36.9, 37.0, 37.1, 37.2, 37.3, 37.4, 37.5, 37.6, 37.7, 37.8, 37.9, 38.0, 38.1, 38.2, 38.3, 38.4, 38.5, 38.6, 38.7, 38.8, 38.9, 39.0, 39.1, 39.2, 39.3, 39.4, 39.5, 39.6, 39.7, 39.8, 39.9, 40.0, 40.1, 40.2, 40.3, 40.4, 40.5, 40.6, 40.7, 40.8, 40.9, 41.0, 41.1, 41.2, 41.3, 41.4, 41.5, 41.6, 41.7, 41.8, 41.9, 42.0, 42.1, 42.2, 42.3, 42.4, 42.5, 42.6, 42.7, 42.8, 42.9, 43.0, 43.1, 43.2, 43.3, 43.4, 43.5, 43.6, 43.7, 43.8, 43.9, 44.0, 44.1, 44.2, 44.3, 44.4, 44.5, 44.6, 44.7, 44.8, 44.9, 45.0, 45.1, 45.2, 45.4, 45.5, 45.6, 45.7, 45.8, 45.9, 46.0, 46.1, 46.2, 46.3, 46.4, 46.5, 46.6, 46.7, 46.8, 46.9, 47.0, 47.1, 47.2, 47.3, 47.4, 47.5, 47.6, 47.7, 47.8, 47.9, 48.0, 48.1, 48.2, 48.3, 48.4, 48.5, 48.6, 48.7, 48.8, 48.9, 49.0, 49.1, 49.2, 49.3, 49.4, 49.5, 49.6, 49.7, 49.8, 49.9, 50.0, 50.1, 50.2, 50.3, 50.4, 50.5, 50.6, 50.7, 50.8, 50.9, 51.0, 51.1, 51.2, 51.3, 51.4, 51.5, 51.6, 51.7, 51.8, 51.9, 52.0, 52.1, 52.2, 52.3, 52.4, 52.5, 52.6, 52.7, 52.8, 52.9, 53.0, 53.1, 53.3, 53.4, 53.5, 53.6, 53.7, 53.8, 53.9, 54.0, 54.1, 54.2, 54.3, 54.4, 54.5, 54.6, 54.7, 54.8, 54.9, 55.0, 55.1, 55.2, 55.3, 55.4, 55.5, 55.6, 55.7, 55.8, 55.9, 56.0, 56.1, 56.2, 56.3, 56.4, 56.5, 56.6, 56.7, 56.8, 56.9, 57.0, 57.1, 57.2, 57.3, 57.5, 57.6, 57.7, 57.8, 58.1, 58.2, 58.3, 58.5, 58.6, 58.7, 58.8, 58.9, 59.0, 59.2, 59.3, 59.4, 59.5, 59.6, 59.8, 60.0, 60.1, 60.2, 60.3, 60.4, 60.5, 60.6, 60.7, 60.8, 60.9, 61.0, 61.2, 61.3, 61.4, 61.5, 61.6, 61.7, 61.8, 62.0, 62.2, 62.3, 62.4, 62.5, 62.7, 62.8, 62.9, 63.0, 63.1, 63.2, 63.3, 63.4, 63.5, 63.6, 63.7, 63.8, 63.9, 64.0, 64.2, 64.3, 64.6, 64.7, 64.9, 65.0, 65.1, 65.2, 65.4, 65.6, 65.7, 65.8, 65.9, 66.2, 66.3, 66.4, 66.5, 66.6, 66.7, 67.0, 67.1, 67.2, 67.3, 67.4, 67.5, 67.7, 67.8, 68.0, 68.1, 68.2, 68.3, 68.5, 68.8, 68.9, 69.0, 69.4, 69.7, 69.8, 70.0, 70.2, 70.4, 70.6, 70.7, 70.8, 70.9, 71.0, 71.1, 71.2, 71.3, 71.5, 71.6, 71.7, 71.8, 71.9, 72.0, 72.1, 72.4, 72.6, 73.1, 73.3, 73.6, 73.7, 73.8, 73.9, 74.1, 74.2, 74.3, 74.7, 74.8, 75.1, 75.5, 75.6, 76.1, 76.3, 76.4, 76.5, 76.6, 76.7, 77.2, 77.6, 77.7, 77.8, 78.0, 78.4, 78.5, 78.6, 78.7, 78.9, 79.4, 79.6, 79.8, 79.9, 80.1, 80.2, 80.8, 80.9, 81.0, 81.5, 81.7, 82.4, 82.6, 83.0, 83.1, 83.4, 83.8, 84.2, 84.4, 84.8, 85.4, 85.6, 85.7, 85.8, 85.9, 86.2, 86.6, 86.8, 86.9, 88.1, 88.6, 89.3, 89.9, 90.0, 90.9, 92.8, 93.1, 93.4, 94.0, 94.1, 95.1, 95.2, 95.5, 95.7, 97.2, 97.4, 97.8, 98.0, 98.8, 99.4, 99.5, 99.6, 100.7, 103.0, 103.2, 105.7, 106.2, 107.2, 108.4, 108.5, 109.6, 110.0, 114.5, 120.2, 120.7, 121.3, 123.6, 125.2, 133.7, 143.3, 373.2, 690.6], \"xaxis\": \"x\", \"y\": [6.53272312018757e-07, 1.0199833493410307e-06, 1.3476848769103385e-06, 1.6380287279643554e-06, 1.8926667357407572e-06, 2.1132507334772193e-06, 2.3014325544114173e-06, 2.4588640317810257e-06, 2.5871969988237216e-06, 2.688083288777179e-06, 2.7631747348790738e-06, 2.814123170367081e-06, 2.842580428478878e-06, 2.8501983424521373e-06, 2.838628745524537e-06, 2.809523470933751e-06, 2.7645343519174554e-06, 2.705313221713325e-06, 2.6335119135590364e-06, 2.550782260692263e-06, 2.4587760963506824e-06, 2.3591452537719695e-06, 2.2535415661937993e-06, 2.1436168668538474e-06, 2.03102298898979e-06, 1.917411765839302e-06, 1.8044350306398077e-06, 1.802852192893632e-06, 1.7791096267010034e-06, 1.3295837067872256e-06, 1.4261368093039173e-06, 1.581254908429094e-06, 1.3074239783407714e-06, 1.4926159946432784e-06, 1.6493169315146303e-06, 1.7775267889548275e-06, 1.8772455669638696e-06, 1.5448496402670624e-06, 1.2646873591940384e-06, 1.9247306993491276e-06, 2.1494936593060164e-06, 1.9389762390647043e-06, 2.1811504142295212e-06, 2.3885021589784815e-06, 2.5610314733115864e-06, 2.698738357228835e-06, 1.187128309631448e-06, 1.5780892329367406e-06, 2.4090790496787585e-06, 3.279639810075159e-06, 3.7054231637963075e-06, 4.090052736116899e-06, 4.433528527036932e-06, 4.332226911281714e-06, 4.270496239180878e-06, 3.8415472099673786e-06, 4.333809749027889e-06, 4.452522579991033e-06, 4.682034053186448e-06, 4.531664467299796e-06, 4.8862201224430565e-06, 5.255021317301894e-06, 5.63490237638396e-06, 5.619073998922207e-06, 6.0923424850286136e-06, 6.160404508114149e-06, 6.304442743016098e-06, 7.325373089299149e-06, 8.248167495319333e-06, 8.26557871052726e-06, 8.749927060856893e-06, 8.806909219719201e-06, 8.917707861951471e-06, 9.159882037116287e-06, 1.0334347644778338e-05, 1.0171315356922282e-05, 1.0527453849811719e-05, 1.1312541371914653e-05, 1.2523412247738737e-05, 1.2865305200912596e-05, 1.3626650156822901e-05, 1.3509520163605928e-05, 1.4370583897525277e-05, 1.4508290781442523e-05, 1.4804281439977298e-05, 1.4441811596103158e-05, 1.5187328174551711e-05, 1.5165168446105254e-05, 1.4930908459671314e-05, 1.5356691813392458e-05, 1.683031375508164e-05, 1.96620104829892e-05, 2.190172589382721e-05, 2.354629431210332e-05, 2.4353541562652703e-05, 2.447858574460055e-05, 2.6004441331913503e-05, 2.62481983448245e-05, 2.7460652058394754e-05, 2.8586049695925367e-05, 3.171057140687536e-05, 3.2527315683901805e-05, 3.4262105853709903e-05, 3.47163802868622e-05, 3.6945015833476985e-05, 3.818121211323987e-05, 4.067893007670445e-05, 4.2649563070692656e-05, 4.5865889370920804e-05, 4.55524874971781e-05, 4.8409509629024464e-05, 4.868334055911279e-05, 5.129502284030198e-05, 5.0975289615574584e-05, 5.183160483625539e-05, 5.3270404347528716e-05, 5.567631772171513e-05, 5.563991245355309e-05, 5.7265486818875096e-05, 5.753773491121724e-05, 5.8204109602357016e-05, 5.906200766078401e-05, 6.185888195827573e-05, 6.511003068891973e-05, 6.588720402229177e-05, 6.716138840796287e-05, 7.018935701639617e-05, 7.371591951487468e-05, 7.763186009891229e-05, 7.836629681313759e-05, 8.041132318119605e-05, 8.145599609367172e-05, 8.339972084597496e-05, 8.328575652825035e-05, 8.728558751283523e-05, 8.992734371120176e-05, 9.561289689546334e-05, 9.904448912917133e-05, 0.00010608653426190509, 0.00010683679935359217, 0.00011498366523315626, 0.00012020228128229615, 0.0001303688481259799, 0.00013960470637491265, 0.00014407464017011159, 0.00015003085860896913, 0.00015603456218021196, 0.00015751768114837813, 0.000167025787489653, 0.00017331440185520736, 0.00017819270778891952, 0.0001885333867846826, 0.00019917163927672657, 0.00020495849407674337, 0.00021624412720697305, 0.00021688201081868165, 0.00022312788856508929, 0.0002308062344717855, 0.00024601888805027603, 0.0002463006331690952, 0.00025936695876377207, 0.00026422627064453017, 0.00027800962173822434, 0.0002870222998649464, 0.0002985342787928792, 0.00030727154315176664, 0.00031911908368188855, 0.00032654575838694284, 0.000337032058455354, 0.000336147252155242, 0.0003506650399631616, 0.00036117033408452693, 0.0003778882663596301, 0.00039098941438472283, 0.00040907491847252145, 0.00041891858641598544, 0.00043985161560915344, 0.0004479019283862008, 0.00046697195755212055, 0.0004751504801866081, 0.0004945782306831633, 0.000498323224790614, 0.0005190583992655102, 0.000529425986502958, 0.000553184381073049, 0.0005638891127504323, 0.0005874195786850738, 0.00060327961290175, 0.0006251924186598006, 0.0006394585352660782, 0.0006621263546290541, 0.0006739849750233993, 0.0007065138735450475, 0.0007180195211219952, 0.0007488674459572051, 0.0007606421759510031, 0.0007931710744726511, 0.0008036146379219156, 0.0008278922032727517, 0.0008403855416033132, 0.0008822136118837409, 0.0009003830063720867, 0.0009444238838216676, 0.0009672151645288452, 0.0009999846543879117, 0.0010098615619240456, 0.0010389240457815696, 0.0010496050348927605, 0.0010960597399052583, 0.0011200096578426364, 0.0011592228801663824, 0.0011685964452992322, 0.00122424268910377, 0.001244433367393982, 0.0012967983885506986, 0.0013159475596039268, 0.001369221129626948, 0.001395798558222977, 0.001448741315157047, 0.0014724174021643372, 0.001527476413165044, 0.001568497236194922, 0.0016372620392397603, 0.0016673723616852528, 0.001740928414587764, 0.0017641359816221857, 0.0018348999087404432, 0.0018576579498549512, 0.001915126039905337, 0.0019318819602863484, 0.002004977407404722, 0.002048331333272463, 0.0021153027811508848, 0.0021375289887826778, 0.0022112116687048834, 0.0022331529655423648, 0.0023093713515339423, 0.0023338451887653044, 0.002415356584180092, 0.002448806694270014, 0.0025238205407367522, 0.002565031304296172, 0.002629755122575025, 0.002667368095937388, 0.002749563277258523, 0.0027813102539335608, 0.002869499641799462, 0.0028980936056841183, 0.0029915158551388752, 0.0030141820916641054, 0.003111803609659465, 0.003145003631385491, 0.0032398678460270136, 0.0032732435627428657, 0.0033595224654491334, 0.003363685328721574, 0.0034435284131518933, 0.0034649869444767912, 0.0035685171957786236, 0.0036243723741656566, 0.003720312918474578, 0.0037544942996032326, 0.0038523152551546112, 0.0038791839258959368, 0.003983367889186939, 0.004005530783308885, 0.004104774709994074, 0.00413249969595608, 0.004243880822478943, 0.004276610741394354, 0.004382425027563916, 0.0043820720547465206, 0.0044832929457766825, 0.004526091295595516, 0.004614616245063607, 0.004642806585322988, 0.004725619073365133, 0.004738166228179063, 0.0048304757426982595, 0.004826183086730632, 0.00493026891408137, 0.004941692254095517, 0.005039521123835627, 0.005047536614182258, 0.005104648565739754, 0.005105547617579582, 0.005197344292669015, 0.0051951710564435176, 0.005294937319584944, 0.005294913577018752, 0.005380062333574251, 0.0053775424558823405, 0.00546329902213237, 0.005446406977705187, 0.005517159824959222, 0.005511719611625618, 0.0055720858775892505, 0.005558296195144571, 0.005621340622574733, 0.005599343926416134, 0.005664708793982189, 0.00561915630648501, 0.005680093976875012, 0.005634471844517002, 0.00568480450200763, 0.005629835712758456, 0.005682479313358499, 0.005644986635664843, 0.00570946511409304, 0.005670715663228924, 0.005719084019076548, 0.005672409299617331, 0.005696743847127029, 0.005645059446201168, 0.005687683683867922, 0.005642335382440001, 0.005698890175110843, 0.005643441786024578, 0.005692929208158747, 0.00562623317404816, 0.005668808343744783, 0.005607658573096793, 0.005639437206526755, 0.005573060905640893, 0.005632843104476188, 0.005568519744147117, 0.0055763073058583005, 0.0055159521197588905, 0.005539544316365633, 0.005482275663871265, 0.005483727126084508, 0.005429557669897152, 0.005453526581887485, 0.005360887837117084, 0.005383880138218025, 0.005294845514995666, 0.005315267287596821, 0.0052564917735680936, 0.005272320151029847, 0.005186381558439007, 0.005205114443164992, 0.005129223704586872, 0.0051377662799029795, 0.005046890816381818, 0.005044385184229623, 0.004942892045107118, 0.004944702811488743, 0.0048508927667861735, 0.004838287046975634, 0.00474445800822011, 0.004730494213623352, 0.00464434510361227, 0.004630982787359059, 0.004539740105480784, 0.004524297940429099, 0.004431592716473359, 0.004424704206602004, 0.004349815404317214, 0.004346301504520705, 0.004250332469132352, 0.004220290208709945, 0.004137506211747233, 0.004136387145460687, 0.004072152424045402, 0.004061075725497667, 0.003997944241991467, 0.003997162320144855, 0.0039168396358774445, 0.003907279295890546, 0.003814016913048155, 0.003808625767684681, 0.003724154465684545, 0.0037340899382172876, 0.003649083637058945, 0.0036331666206834068, 0.003548332848839396, 0.003530866234310352, 0.0034424473349712555, 0.0034448769909116352, 0.003388678336733682, 0.0033812706560815814, 0.003299464852846005, 0.0032856102740537333, 0.003226396313969316, 0.0032068577648305284, 0.003141548296585591, 0.0031417572311680858, 0.003065382144239637, 0.0030645131663169863, 0.002991115397189093, 0.002982636135382832, 0.0029184552304509174, 0.0029167853366287018, 0.002844775716204205, 0.002823883840792437, 0.002744434882960915, 0.002749621842255132, 0.0026866755507652332, 0.002678390978001752, 0.0026219042473539953, 0.00260444238133819, 0.0025508190041732643, 0.0025477071451642836, 0.0024950097280808706, 0.00246928544903003, 0.0024000378804726083, 0.0023793976762624823, 0.002335747759736207, 0.0023232544214056455, 0.0022543724883675904, 0.002226085595005692, 0.0021653505278472008, 0.002158294237174751, 0.0021185111932623822, 0.002108466504925154, 0.0020485244394774964, 0.002039266421500117, 0.0019964775687077614, 0.0019727207569754167, 0.001919186018724277, 0.001902085039714599, 0.0018518188614093107, 0.0018476322555706771, 0.0018008704800354211, 0.0017894503056967664, 0.0017368810984707932, 0.0017335207339356632, 0.0016963287954137832, 0.0016946620672670608, 0.0016565884881205605, 0.0016697307899270538, 0.0016276890365508922, 0.001623657548811384, 0.0015834075677638932, 0.0015801912414636651, 0.001556907698217427, 0.0015600480483058386, 0.001527180422506509, 0.0015204565277607566, 0.001487978280046986, 0.0014886161636586948, 0.00146271144110479, 0.0014643021930396966, 0.0014294955910013022, 0.0014280251347351058, 0.0014017547766618343, 0.0014054095490177532, 0.001381556184182892, 0.0013922751613999911, 0.0013601989544737487, 0.0013517845890150815, 0.0013171710931817206, 0.0013084544057135332, 0.0012826304078846838, 0.0012777061996563327, 0.0012373501684798478, 0.0012239577783094587, 0.0012066842699854482, 0.0012021241144387171, 0.001175375739366101, 0.0011605334698202158, 0.0011216637232873896, 0.0011171732126014904, 0.0010935271995113779, 0.0010941983227157562, 0.0010651025992655626, 0.001062658697785468, 0.0010289854075733354, 0.0010272522002412732, 0.000990758293165456, 0.0009810254238642245, 0.0009571831388935863, 0.0009597568330688673, 0.0009433507198297607, 0.0009368278454777724, 0.000909072785598589, 0.0009046645824754911, 0.0008791840604375613, 0.0008778972133499209, 0.0008526525341361716, 0.0008521903455142884, 0.000828607645934023, 0.0008296855584391683, 0.000803682699945001, 0.0008103860178000533, 0.0007909012851446357, 0.0007872433471132247, 0.0007751837063251153, 0.0007718565813826549, 0.0007518653406484614, 0.0007536381189241776, 0.0007416259632684535, 0.0007406113642731551, 0.0007234818941840462, 0.0007269150692555005, 0.0007092569313591692, 0.0007097396968717526, 0.0006995050680049834, 0.0006956840976857161, 0.0006829153455873203, 0.0006800377465647736, 0.0006671186248804911, 0.0006675855620156128, 0.0006551112177380055, 0.0006671186248804912, 0.0006533321081113046, 0.0006523871539768378, 0.0006302084314774301, 0.0006383394689795323, 0.0006216516106216065, 0.0006146902902139277, 0.0006023014191746138, 0.0005920936985495296, 0.0005758680288134867, 0.0005772909999472983, 0.000568699356661059, 0.000565096817950764, 0.0005553101321661624, 0.0005508227871557556, 0.0005374493910383206, 0.0005389752466256336, 0.000532295671336774, 0.0005339924734006739, 0.0005260339652129047, 0.0005232070169982356, 0.0005048745902220336, 0.0005023784550963151, 0.0004906939468540492, 0.000488731228048792, 0.00047316401881515813, 0.00047016770696164836, 0.00045414938897035456, 0.00045941232447638746, 0.0004487329182029429, 0.0004517118188412448, 0.00044708518410917447, 0.00044578409148181834, 0.0004344493903814573, 0.00043083893748243143, 0.0004279961608903007, 0.000424043815038101, 0.0004166725396541628, 0.0004160394045556927, 0.00040924744778685464, 0.000401836601459262, 0.00038940815947629377, 0.0003923965571410727, 0.00038337438198787364, 0.00038309896822003915, 0.00037877623833523446, 0.0003763624107723172, 0.000370896872034774, 0.00037150309889155914, 0.0003627294292645095, 0.0003598059279473239, 0.0003485772769759565, 0.00035050833902629036, 0.00033838221905284154, 0.00033463564210764473, 0.0003233626716793844, 0.00032448490364142275, 0.0003134715186035351, 0.00031486758149566177, 0.00030339992202462195, 0.00030237740884059267, 0.0003010145855411358, 0.00030222229074146757, 0.00030085313609102594, 0.00030041310719758926, 0.00029252582670839783, 0.0002946721546922115, 0.0002883724604624339, 0.00028797516818814396, 0.0002843647152891181, 0.0002836366099258775, 0.0002768430703192932, 0.00027338931835713885, 0.00026738878046138836, 0.00026933092237594545, 0.0002655147005699168, 0.00026486098858074646, 0.0002597325942831386, 0.00026051609896749536, 0.0002603008330340155, 0.0002646393912962819, 0.000259221337691124, 0.00025666822040654327, 0.0002498825949886899, 0.00024919089489361135, 0.00024467031029053475, 0.00024363988291777465, 0.00024005792109818, 0.00024201905706569115, 0.00024048845296513965, 0.0002413194427818817, 0.00023967170868811321, 0.0002366073348115179, 0.00023619104848427382, 0.00023919685736426065, 0.00023312509176993235, 0.00023360944012026195, 0.00022749493790678692, 0.0002253881808666276, 0.0002188067415180308, 0.00021786653589680278, 0.00021335544832020315, 0.0002172903829571949, 0.00021370367262436176, 0.00021394742963727276, 0.00020720770651405846, 0.00020676767762062173, 0.00020038251015255066, 0.00019770593152376828, 0.00019314894165252972, 0.00019102793907265487, 0.00018538512250753996, 0.0001896556187467209, 0.00018228592620052878, 0.00018108296951343562, 0.0001803216245575253, 0.000179036360307631, 0.00017659404166528252, 0.00017869288451671095, 0.0001718455284267567, 0.00017224440353879293, 0.00017084517497117398, 0.0001695203397776253, 0.0001619891977813233, 0.00015966559196993802, 0.00015664712038798178, 0.0001560883786635819, 0.00015526055452233227, 0.00015168650689146847, 0.0001485366597765797, 0.0001474539987581958, 0.0001453868126616909, 0.0001452601856419969, 0.00014394168179943288, 0.0001428970088869572, 0.00014118912695883408, 0.00014281786699964842, 0.0001386391753497457, 0.00014023151012239804, 0.00013954139286506562, 0.00014452100041453307, 0.00014232877013608028, 0.00014487239039418396, 0.00014376598680960746, 0.00014331012953870898, 0.0001397234192058758, 0.00013786200201637368, 0.0001334316391648291, 0.00013210838680902654, 0.00012832540459566767, 0.00013041949893385755, 0.00012822252014216628, 0.00012903768158144656, 0.00012648456429686583, 0.0001250869185669931, 0.0001208860671886439, 0.00011953907226664874, 0.00011490452334584753, 0.00011450564823381138, 0.000110176586998022, 0.00011285949697778912, 0.00011175625906870494, 0.00010801284779900043, 0.00010803500752744689, 0.000107963779828869, 0.00010415705504931747, 0.00010617833885118332, 0.00010589342805687177, 0.00010533943484571043, 0.00010290186471660048, 0.00010206454354887377, 9.766425461450651e-05, 9.868676779853573e-05, 9.68206020957951e-05, 9.319906933254607e-05, 9.112871756054883e-05, 9.241398181044314e-05, 9.409020698364277e-05, 9.40680472551963e-05, 9.090078892509959e-05, 8.846638447148203e-05, 8.822737597180956e-05, 8.882094012662528e-05, 8.77636045121802e-05, 8.86294167593381e-05, 8.479894941359392e-05, 8.557453990921981e-05, 8.221575821183588e-05, 8.436366903339573e-05, 8.362290096818568e-05, 8.258930791993325e-05, 8.054269871412862e-05, 8.184853985472323e-05, 7.91418873087635e-05, 8.01786460325083e-05, 7.824916681992065e-05, 7.699872500044219e-05, 7.43284777226445e-05, 7.493945309266816e-05, 7.390427720666954e-05, 7.453899514288583e-05, 7.55646740024074e-05, 7.546970373763688e-05, 7.369217694868206e-05, 7.451683541443936e-05, 7.496636133435313e-05, 7.586066466094219e-05, 7.413853719310348e-05, 7.531141996301937e-05, 7.509140551630099e-05, 7.74529994335945e-05, 7.529242591006524e-05, 7.443769352713061e-05, 7.132741735589621e-05, 7.121187020042541e-05, 7.231827378500192e-05, 7.369059411093588e-05, 7.267757795338371e-05, 7.155534599134545e-05, 6.992660595053108e-05, 6.868566115752968e-05, 6.78388429633259e-05, 6.682424396802757e-05, 6.51638471722897e-05, 6.409068318038288e-05, 6.183197371659075e-05, 6.17844885842055e-05, 6.13745336079461e-05, 5.963974343813801e-05, 5.764220220246481e-05, 5.449077224982984e-05, 5.3488835956500894e-05, 5.33479633970913e-05, 5.1575185121375e-05, 5.076002368209473e-05, 4.79837262753033e-05, 4.8267054231868674e-05, 4.619511962212524e-05, 4.8577290430119034e-05, 4.613022327453206e-05, 4.710683416392221e-05, 4.497158604433176e-05, 4.458379079651883e-05, 4.425772622080672e-05, 4.55524874971781e-05, 4.4757902948598126e-05, 4.53609641298909e-05, 4.203067351193812e-05, 4.139595557572184e-05, 4.038610509366202e-05, 4.046682981871696e-05, 4.0352865500992337e-05, 4.1177523966749656e-05, 3.9708650538299004e-05, 3.942373974398745e-05, 3.9605766084797607e-05, 4.034811698775381e-05, 3.9713399051537525e-05, 3.9890676879109165e-05, 3.8216034543655725e-05, 4.011702267681223e-05, 3.8654480599346276e-05, 3.7305902839604946e-05, 3.6303966546276e-05, 3.532893849463203e-05, 3.592725116268628e-05, 3.5518879024173066e-05, 3.620583060601314e-05, 3.4178215453162605e-05, 3.250040744221682e-05, 3.286129444834478e-05, 3.2274061644513756e-05, 3.220125110818969e-05, 3.2562138114317655e-05, 3.158077871168898e-05, 3.095239212645741e-05, 3.0996711583350314e-05, 3.188784923444699e-05, 3.153645925479608e-05, 3.156020182098871e-05, 3.1394003857640306e-05, 2.9917216240458775e-05, 3.094289509998035e-05, 3.1810290184884404e-05, 3.1873603694731416e-05, 3.185935815501584e-05, 3.3233261318695976e-05, 3.333456293445119e-05, 3.2250319078321136e-05, 3.264761135261113e-05, 3.1284788053154214e-05, 3.082576510676339e-05, 3.1183486437399e-05, 3.009132839253806e-05, 3.0300262975033196e-05, 2.9627556932908705e-05, 3.0172053117593e-05, 3.0157807577877424e-05, 2.918436236397963e-05, 2.8627203477325933e-05, 2.9864982594835e-05, 2.9833325839911494e-05, 2.8619289288595057e-05, 2.9781092194287705e-05, 2.9679790578532498e-05, 2.912263169187879e-05, 2.899758750993095e-05, 2.8817144006866967e-05, 2.7774053932137465e-05, 2.764426123695109e-05, 2.7368847469116597e-05, 2.735143625390867e-05, 2.6384322390995573e-05, 2.5355477855981646e-05, 2.604401227556789e-05, 2.5953790524035904e-05, 2.5811335126880125e-05, 2.65109494106896e-05, 2.5960121875020603e-05, 2.772340312425986e-05, 2.727704287983843e-05, 2.7781968120868347e-05, 2.8840886573059607e-05, 2.8429348759054034e-05, 2.760627313104289e-05, 2.8234659716274476e-05, 2.7883269736623564e-05, 2.8014645269556114e-05, 2.69335670889184e-05, 2.5844574719549815e-05, 2.4741336810465645e-05, 2.499617368759987e-05, 2.3854947672607494e-05, 2.3413335941424595e-05, 2.424274292042044e-05, 2.465428073442601e-05, 2.457039033387872e-05, 2.3994237394270922e-05, 2.3329445540877314e-05, 2.2172391148423185e-05, 2.1411046192512877e-05, 2.250795275061234e-05, 2.2314846545578957e-05, 2.3424415805647822e-05, 2.3259800680045596e-05, 2.2631414094814015e-05, 2.162314645050037e-05, 2.1610483748530967e-05, 2.2025187238028884e-05, 2.1411046192512877e-05, 2.0255574637804932e-05, 2.0421772601153338e-05, 2.053731975662413e-05, 1.9229895778283352e-05, 1.8766124318654e-05, 1.9720575479597692e-05, 1.9348608609246504e-05, 1.7737279783640073e-05, 1.7637561005631036e-05, 1.718645224797108e-05, 1.719120076120961e-05, 1.773886262138625e-05, 1.7541007903114344e-05, 1.732099345639598e-05, 1.6187681630134486e-05, 1.7295668052457178e-05, 1.7089899145454393e-05, 1.6865136185497502e-05, 1.7108893198408495e-05, 1.684930780803575e-05, 1.6490003639653967e-05, 1.7006008744907104e-05, 1.613386514676453e-05, 1.5652682471927247e-05, 1.6049974746217242e-05, 1.506228399260387e-05, 1.3577582186691462e-05, 1.4027108106605241e-05, 1.3659889749492576e-05, 1.360290759063027e-05, 1.3539594080783257e-05, 1.3640895696538476e-05, 1.4313601738662968e-05, 1.5480153157594145e-05, 1.5771395302890392e-05, 1.6485255126415442e-05, 1.5845788676960634e-05, 1.6035729206501668e-05, 1.5275967088337534e-05, 1.4538364698619857e-05, 1.4710894012952962e-05, 1.4418069029910538e-05, 1.5038541426411245e-05, 1.4392743625971732e-05, 1.4663408880567704e-05, 1.3987537162950862e-05, 1.3656724074000232e-05, 1.3670969613715808e-05, 1.3629815832315254e-05, 1.370420920638549e-05, 1.3897315411418876e-05, 1.355700529599119e-05, 1.3086902485377133e-05, 1.3058411405945982e-05, 1.25835600820934e-05, 1.1578458113272101e-05, 1.0611344250359009e-05, 1.016656684368376e-05, 9.672721466877073e-06, 8.642294094116969e-06, 9.913312804295715e-06, 9.933889694995993e-06, 1.0405575343356226e-05, 9.956049423442448e-06, 1.0367587237448021e-05, 1.0351758859986268e-05, 1.0315353591824239e-05, 1.0345427509001568e-05, 9.957632261188625e-06, 9.555591473660107e-06, 9.223195546963299e-06, 8.960444481098204e-06, 8.683447875517531e-06, 8.39220573022128e-06, 8.086718045209454e-06, 7.766984820482049e-06, 7.516896456586357e-06, 6.4453153024256965e-06, 6.328185309208726e-06, 7.165506476935445e-06, 8.072472505493877e-06, 7.676763068950059e-06, 7.269973768183014e-06, 7.336452953522375e-06, 8.363714650790127e-06, 8.491924508230327e-06, 8.12470615111766e-06, 8.150031555056465e-06, 8.080386694224753e-06, 8.40328559444451e-06, 7.82713265483671e-06, 7.727413876827669e-06, 8.188019660964673e-06, 7.83346400582141e-06, 8.358966137551602e-06, 8.389040054728931e-06, 8.89871380899737e-06, 9.000015424752587e-06, 8.692944901994584e-06, 8.461850591052993e-06, 8.219676415888178e-06, 8.366880326282478e-06, 9.39097634805788e-06, 9.516020530005727e-06, 9.14563649740071e-06, 9.167796225847164e-06, 9.17887609007039e-06, 9.17887609007039e-06, 9.57141985112186e-06, 1.0443563449264435e-05, 1.0910500584386142e-05, 1.089150653143204e-05, 1.1277718941498806e-05, 1.1181165838982112e-05, 1.100547084915666e-05, 1.075063397202244e-05, 1.0416655207579457e-05, 1.0003534555827709e-05, 9.511272016767202e-06, 8.536243965123232e-06, 8.45393640232212e-06, 7.4852397016628506e-06, 7.4092634898464396e-06, 7.3380357912685524e-06, 7.274722281421542e-06, 6.734974609975775e-06, 6.609930428027928e-06, 5.60799413469898e-06, 5.508275356689938e-06, 4.615554867847084e-06, 4.389209070144021e-06, 3.938100312484068e-06, 3.578796144102281e-06, 3.22424048895902e-06, 3.358781697383919e-06, 3.982419769376976e-06, 4.610806354608559e-06, 4.759593102749035e-06, 4.832403639073098e-06, 5.316751989402732e-06, 5.324666178133608e-06, 4.856146205265727e-06, 4.799164046403417e-06, 5.153719701546679e-06, 5.115731595638471e-06, 5.172713754500781e-06, 5.3246661781336075e-06, 5.48769846598966e-06, 5.57792021752165e-06, 6.082845458551563e-06, 4.9036313376509825e-06, 5.679221833276868e-06, 6.546616918180916e-06, 7.425091867308193e-06, 7.0230510797796725e-06, 7.520062132078709e-06, 7.941096972561331e-06, 8.37004600177483e-06, 8.40328559444451e-06, 9.332411351449395e-06, 9.781937271363174e-06, 1.0155486979460536e-05, 1.045306047574149e-05, 1.0271034134931332e-05, 1.00937563073597e-05, 1.032168494280894e-05, 1.0467306015457066e-05, 1.0530619525304076e-05, 1.0511625472349972e-05, 1.0410323856594755e-05, 1.0226714678038424e-05, 9.960797936680978e-06, 1.0100087658344403e-05, 9.75661186742437e-06, 9.821508215017554e-06, 9.406804725519634e-06, 8.9161250242053e-06, 8.349469111074551e-06, 7.706836986127391e-06, 6.988228649363818e-06, 6.6811581266058145e-06, 5.897653442249055e-06, 6.016366273212201e-06, 6.236380719930563e-06, 6.160404508114152e-06, 6.1952269385300085e-06, 5.8564996608485e-06, 5.631736700891612e-06, 5.437047658112054e-06, 5.188542131962536e-06, 4.482596497168364e-06, 3.8035591040591726e-06, 3.551887902417304e-06, 2.8364452411460803e-06, 3.0327171216718152e-06, 2.361593917293499e-06, 2.1146712288901567e-06, 2.291949056461788e-06, 2.4929694502260473e-06, 2.720898085675287e-06, 2.4913866124798727e-06, 2.208058655914499e-06, 1.4672905907044708e-06, 2.6195964699200706e-06, 3.001060366748311e-06, 2.530957556134255e-06, 2.500883638956924e-06, 3.3983526410383045e-06, 3.0437969858950427e-06, 3.1324358996808584e-06, 3.66426938239575e-06, 4.238839484257375e-06, 3.968174229661402e-06, 4.143869219486857e-06, 4.278410427911755e-06, 4.371797854936096e-06, 4.911545526381864e-06, 5.497195492466716e-06, 5.6443994028610165e-06, 5.756780882839461e-06, 5.430716307127354e-06, 5.554177651329025e-06, 5.236027264347794e-06, 5.364237121787993e-06, 5.047669572552937e-06, 5.174296592246959e-06, 4.852980529773379e-06, 4.971693360736525e-06, 4.639297434039716e-06, 4.743764725287285e-06, 4.3939575833825495e-06, 4.074224358655144e-06, 3.7813993756127185e-06, 3.915940584037617e-06, 3.990333958107855e-06, 3.600955872548737e-06, 3.635778302964593e-06, 4.094801249355422e-06, 4.090052736116897e-06, 4.512670414345694e-06, 4.962196334259472e-06, 4.954282145528595e-06, 4.892551473427761e-06, 4.860894718504254e-06, 4.943202281305369e-06, 5.055583761283812e-06, 5.601662783714283e-06, 5.289843747717753e-06, 5.495612654720539e-06, 5.731455478900654e-06, 5.913481819710811e-06, 5.9828696385161955e-06, 6.044562430739353e-06, 6.098400559753713e-06, 6.14422438893188e-06, 6.181874281646464e-06, 6.211190601270073e-06, 6.2320137111753164e-06, 6.244183974734799e-06, 6.24754175532113e-06, 6.24192741630692e-06, 6.227181321064771e-06, 6.203143832967295e-06, 6.169655315387102e-06, 6.126556131696796e-06, 6.073686645268985e-06, 6.010887219476279e-06, 5.937998217691285e-06, 5.854860003286611e-06, 5.7613129396348646e-06, 5.657197390108655e-06, 5.542353718080588e-06, 5.416622286923274e-06, 5.27984346000932e-06, 5.1318576007113335e-06, 4.972505072401922e-06, 4.801626238453694e-06], \"yaxis\": \"y\"}, {\"mode\": \"lines\", \"name\": \"during test variation\", \"type\": \"scatter\", \"x\": [-147.3, -44.4, -42.9, -39.4, -38.4, -38.0, -36.4, -36.3, -36.0, -35.8, -35.2, -35.0, -34.9, -34.8, -34.7, -34.6, -34.4, -34.2, -34.0, -33.8, -33.6, -33.4, -33.2, -32.9, -32.8, -32.6, -32.4, -32.3, -32.2, -32.1, -31.9, -31.8, -31.7, -31.6, -31.5, -31.4, -31.3, -31.2, -31.0, -30.8, -30.7, -30.6, -30.5, -30.4, -30.3, -30.2, -30.1, -30.0, -29.9, -29.8, -29.7, -29.6, -29.5, -29.4, -29.3, -29.2, -29.1, -28.8, -28.7, -28.6, -28.4, -28.2, -28.1, -28.0, -27.9, -27.8, -27.7, -27.6, -27.5, -27.4, -27.3, -27.2, -27.1, -27.0, -26.9, -26.8, -26.7, -26.6, -26.5, -26.4, -26.3, -26.2, -26.1, -26.0, -25.9, -25.8, -25.7, -25.6, -25.5, -25.4, -25.3, -25.2, -25.1, -25.0, -24.9, -24.8, -24.7, -24.6, -24.5, -24.4, -24.3, -24.2, -24.1, -24.0, -23.9, -23.8, -23.7, -23.6, -23.5, -23.4, -23.3, -23.2, -23.1, -23.0, -22.9, -22.8, -22.7, -22.6, -22.5, -22.4, -22.3, -22.2, -22.1, -22.0, -21.9, -21.8, -21.7, -21.6, -21.5, -21.4, -21.3, -21.2, -21.1, -21.0, -20.9, -20.8, -20.7, -20.6, -20.5, -20.4, -20.3, -20.2, -20.1, -20.0, -19.9, -19.8, -19.7, -19.6, -19.5, -19.4, -19.3, -19.2, -19.1, -19.0, -18.9, -18.8, -18.7, -18.6, -18.5, -18.4, -18.3, -18.2, -18.1, -18.0, -17.9, -17.8, -17.7, -17.6, -17.5, -17.4, -17.3, -17.2, -17.1, -17.0, -16.9, -16.8, -16.7, -16.6, -16.5, -16.4, -16.3, -16.2, -16.1, -16.0, -15.9, -15.8, -15.7, -15.6, -15.5, -15.4, -15.3, -15.2, -15.1, -15.0, -14.9, -14.8, -14.7, -14.6, -14.5, -14.4, -14.3, -14.2, -14.1, -14.0, -13.9, -13.8, -13.7, -13.6, -13.5, -13.4, -13.3, -13.2, -13.1, -13.0, -12.9, -12.8, -12.7, -12.6, -12.5, -12.4, -12.3, -12.2, -12.1, -12.0, -11.9, -11.8, -11.7, -11.6, -11.5, -11.4, -11.3, -11.2, -11.1, -11.0, -10.9, -10.8, -10.7, -10.6, -10.5, -10.4, -10.3, -10.2, -10.1, -10.0, -9.9, -9.8, -9.7, -9.6, -9.5, -9.4, -9.3, -9.2, -9.1, -9.0, -8.9, -8.8, -8.7, -8.6, -8.5, -8.4, -8.3, -8.2, -8.1, -8.0, -7.9, -7.8, -7.7, -7.6, -7.5, -7.4, -7.3, -7.2, -7.1, -7.0, -6.9, -6.8, -6.7, -6.6, -6.5, -6.4, -6.3, -6.2, -6.1, -6.0, -5.9, -5.8, -5.7, -5.6, -5.5, -5.4, -5.3, -5.2, -5.1, -5.0, -4.9, -4.8, -4.7, -4.6, -4.5, -4.4, -4.3, -4.2, -4.1, -4.0, -3.9, -3.8, -3.7, -3.6, -3.5, -3.4, -3.3, -3.2, -3.1, -3.0, -2.9, -2.8, -2.7, -2.6, -2.5, -2.4, -2.3, -2.2, -2.1, -2.0, -1.9, -1.8, -1.7, -1.6, -1.5, -1.4, -1.3, -1.2, -1.1, -1.0, -0.9, -0.8, -0.7, -0.6, -0.5, -0.4, -0.3, -0.2, -0.1, 0.0, 0.1, 0.2, 0.3, 0.4, 0.5, 0.6, 0.7, 0.8, 0.9, 1.0, 1.1, 1.2, 1.3, 1.4, 1.5, 1.6, 1.7, 1.8, 1.9, 2.0, 2.1, 2.2, 2.3, 2.4, 2.5, 2.6, 2.7, 2.8, 2.9, 3.0, 3.1, 3.2, 3.3, 3.4, 3.5, 3.6, 3.7, 3.8, 3.9, 4.0, 4.1, 4.2, 4.3, 4.4, 4.5, 4.6, 4.7, 4.8, 4.9, 5.0, 5.1, 5.2, 5.3, 5.4, 5.5, 5.6, 5.7, 5.8, 5.9, 6.0, 6.1, 6.2, 6.3, 6.4, 6.5, 6.6, 6.7, 6.8, 6.9, 7.0, 7.1, 7.2, 7.3, 7.4, 7.5, 7.6, 7.7, 7.8, 7.9, 8.0, 8.1, 8.2, 8.3, 8.4, 8.5, 8.6, 8.7, 8.8, 8.9, 9.0, 9.1, 9.2, 9.3, 9.4, 9.5, 9.6, 9.7, 9.8, 9.9, 10.0, 10.1, 10.2, 10.3, 10.4, 10.5, 10.6, 10.7, 10.8, 10.9, 11.0, 11.1, 11.2, 11.3, 11.4, 11.5, 11.6, 11.7, 11.8, 11.9, 12.0, 12.1, 12.2, 12.3, 12.4, 12.5, 12.6, 12.7, 12.8, 12.9, 13.0, 13.1, 13.2, 13.3, 13.4, 13.5, 13.6, 13.7, 13.8, 13.9, 14.0, 14.1, 14.2, 14.3, 14.4, 14.5, 14.6, 14.7, 14.8, 14.9, 15.0, 15.1, 15.2, 15.3, 15.4, 15.5, 15.6, 15.7, 15.8, 15.9, 16.0, 16.1, 16.2, 16.3, 16.4, 16.5, 16.6, 16.7, 16.8, 16.9, 17.0, 17.1, 17.2, 17.3, 17.4, 17.5, 17.6, 17.7, 17.8, 17.9, 18.0, 18.1, 18.2, 18.3, 18.4, 18.5, 18.6, 18.7, 18.8, 18.9, 19.0, 19.1, 19.2, 19.3, 19.4, 19.5, 19.6, 19.7, 19.8, 19.9, 20.0, 20.1, 20.2, 20.3, 20.4, 20.5, 20.6, 20.7, 20.8, 20.9, 21.0, 21.1, 21.2, 21.3, 21.4, 21.5, 21.6, 21.7, 21.8, 21.9, 22.0, 22.1, 22.2, 22.3, 22.4, 22.5, 22.6, 22.7, 22.8, 22.9, 23.0, 23.1, 23.2, 23.3, 23.4, 23.5, 23.6, 23.7, 23.8, 23.9, 24.0, 24.1, 24.2, 24.3, 24.4, 24.5, 24.6, 24.7, 24.8, 24.9, 25.0, 25.1, 25.2, 25.3, 25.4, 25.5, 25.6, 25.7, 25.8, 25.9, 26.0, 26.1, 26.2, 26.3, 26.4, 26.5, 26.6, 26.7, 26.8, 26.9, 27.0, 27.1, 27.2, 27.3, 27.4, 27.5, 27.6, 27.7, 27.8, 27.9, 28.0, 28.1, 28.2, 28.3, 28.4, 28.5, 28.6, 28.7, 28.8, 28.9, 29.0, 29.1, 29.2, 29.3, 29.4, 29.5, 29.6, 29.7, 29.8, 29.9, 30.0, 30.1, 30.2, 30.3, 30.4, 30.5, 30.6, 30.7, 30.8, 30.9, 31.0, 31.1, 31.2, 31.3, 31.4, 31.5, 31.6, 31.7, 31.8, 31.9, 32.0, 32.1, 32.2, 32.3, 32.4, 32.5, 32.6, 32.7, 32.8, 32.9, 33.0, 33.1, 33.2, 33.3, 33.4, 33.5, 33.6, 33.7, 33.8, 33.9, 34.0, 34.1, 34.2, 34.3, 34.4, 34.5, 34.6, 34.7, 34.8, 34.9, 35.0, 35.1, 35.2, 35.3, 35.4, 35.5, 35.6, 35.7, 35.8, 35.9, 36.0, 36.1, 36.2, 36.3, 36.4, 36.5, 36.6, 36.7, 36.8, 36.9, 37.0, 37.1, 37.2, 37.3, 37.4, 37.5, 37.6, 37.7, 37.8, 37.9, 38.0, 38.1, 38.2, 38.3, 38.4, 38.5, 38.6, 38.7, 38.8, 38.9, 39.0, 39.1, 39.2, 39.3, 39.4, 39.5, 39.6, 39.7, 39.8, 39.9, 40.0, 40.1, 40.2, 40.3, 40.4, 40.5, 40.6, 40.7, 40.8, 40.9, 41.0, 41.1, 41.2, 41.3, 41.4, 41.5, 41.6, 41.7, 41.8, 41.9, 42.0, 42.1, 42.2, 42.3, 42.4, 42.5, 42.6, 42.7, 42.8, 42.9, 43.0, 43.1, 43.2, 43.3, 43.4, 43.5, 43.6, 43.7, 43.8, 43.9, 44.0, 44.1, 44.2, 44.3, 44.4, 44.5, 44.6, 44.7, 44.8, 44.9, 45.0, 45.1, 45.2, 45.4, 45.5, 45.6, 45.7, 45.8, 45.9, 46.0, 46.1, 46.2, 46.3, 46.4, 46.5, 46.6, 46.7, 46.8, 46.9, 47.0, 47.1, 47.2, 47.3, 47.4, 47.5, 47.6, 47.7, 47.8, 47.9, 48.0, 48.1, 48.2, 48.3, 48.4, 48.5, 48.6, 48.7, 48.8, 48.9, 49.0, 49.1, 49.2, 49.3, 49.4, 49.5, 49.6, 49.7, 49.8, 49.9, 50.0, 50.1, 50.2, 50.3, 50.4, 50.5, 50.6, 50.7, 50.8, 50.9, 51.0, 51.1, 51.2, 51.3, 51.4, 51.5, 51.6, 51.7, 51.8, 51.9, 52.0, 52.1, 52.2, 52.3, 52.4, 52.5, 52.6, 52.7, 52.8, 52.9, 53.0, 53.1, 53.3, 53.4, 53.5, 53.6, 53.7, 53.8, 53.9, 54.0, 54.1, 54.2, 54.3, 54.4, 54.5, 54.6, 54.7, 54.8, 54.9, 55.0, 55.1, 55.2, 55.3, 55.4, 55.5, 55.6, 55.7, 55.8, 55.9, 56.0, 56.1, 56.2, 56.3, 56.4, 56.5, 56.6, 56.7, 56.8, 56.9, 57.0, 57.1, 57.2, 57.3, 57.5, 57.6, 57.7, 57.8, 58.1, 58.2, 58.3, 58.5, 58.6, 58.7, 58.8, 58.9, 59.0, 59.2, 59.3, 59.4, 59.5, 59.6, 59.8, 60.0, 60.1, 60.2, 60.3, 60.4, 60.5, 60.6, 60.7, 60.8, 60.9, 61.0, 61.2, 61.3, 61.4, 61.5, 61.6, 61.7, 61.8, 62.0, 62.2, 62.3, 62.4, 62.5, 62.7, 62.8, 62.9, 63.0, 63.1, 63.2, 63.3, 63.4, 63.5, 63.6, 63.7, 63.8, 63.9, 64.0, 64.2, 64.3, 64.6, 64.7, 64.9, 65.0, 65.1, 65.2, 65.4, 65.6, 65.7, 65.8, 65.9, 66.2, 66.3, 66.4, 66.5, 66.6, 66.7, 67.0, 67.1, 67.2, 67.3, 67.4, 67.5, 67.7, 67.8, 68.0, 68.1, 68.2, 68.3, 68.5, 68.8, 68.9, 69.0, 69.4, 69.7, 69.8, 70.0, 70.2, 70.4, 70.6, 70.7, 70.8, 70.9, 71.0, 71.1, 71.2, 71.3, 71.5, 71.6, 71.7, 71.8, 71.9, 72.0, 72.1, 72.4, 72.6, 73.1, 73.3, 73.6, 73.7, 73.8, 73.9, 74.1, 74.2, 74.3, 74.7, 74.8, 75.1, 75.5, 75.6, 76.1, 76.3, 76.4, 76.5, 76.6, 76.7, 77.2, 77.6, 77.7, 77.8, 78.0, 78.4, 78.5, 78.6, 78.7, 78.9, 79.4, 79.6, 79.8, 79.9, 80.1, 80.2, 80.8, 80.9, 81.0, 81.5, 81.7, 82.4, 82.6, 83.0, 83.1, 83.4, 83.8, 84.2, 84.4, 84.8, 85.4, 85.6, 85.7, 85.8, 85.9, 86.2, 86.6, 86.8, 86.9, 88.1, 88.6, 89.3, 89.9, 90.0, 90.9, 92.8, 93.1, 93.4, 94.0, 94.1, 95.1, 95.2, 95.5, 95.7, 97.2, 97.4, 97.8, 98.0, 98.8, 99.4, 99.5, 99.6, 100.7, 103.0, 103.2, 105.7, 106.2, 107.2, 108.4, 108.5, 109.6, 110.0, 114.5, 120.2, 120.7, 121.3, 123.6, 125.2, 133.7, 143.3, 373.2, 690.6], \"xaxis\": \"x\", \"y\": [7.331135898657407e-08, -1.127867061333457e-08, -7.705709395744607e-08, -1.2465142531762902e-07, -1.5468917896575203e-07, -1.6779786917368374e-07, -1.646050102132928e-07, -1.4573811635644774e-07, -1.1182470187501723e-07, -6.349228104086993e-08, -1.3683681258743908e-09, 7.391952259810069e-08, 1.6174387685918697e-07, 2.6147718038551537e-07, 3.724919189052176e-07, 4.941605781464251e-07, 6.258556438372687e-07, 7.669496017058803e-07, 9.168149374803917e-07, 1.0748241368889335e-06, 1.240349685659637e-06, 1.4127640695206337e-06, 1.5914397742000563e-06, 1.7757492854260344e-06, 1.9650650889267002e-06, 2.1587596704301848e-06, 2.3562055156642896e-06, 2.7297700140297334e-06, 3.074225590444623e-06, 3.3895722449089585e-06, 3.6758099774227403e-06, 3.5205623936864512e-06, 3.831057561159028e-06, 4.109209482019879e-06, 3.5302653676699685e-06, 3.496304958727656e-06, 3.91838432701069e-06, 4.2984174746984785e-06, 4.636404401791023e-06, 4.932345108288323e-06, 5.186239594190378e-06, 5.398087859497188e-06, 5.5678899042087524e-06, 5.283269334025557e-06, 5.039077822107021e-06, 4.832081043791968e-06, 5.0714210687187465e-06, 4.434259110467728e-06, 3.4979221210582383e-06, 3.575545912926382e-06, 4.080100560069319e-06, 4.513500064666458e-06, 4.961454030238874e-06, 5.423962456786566e-06, 5.815315740788459e-06, 5.808847091466114e-06, 6.39749417979954e-06, 6.585085010147555e-06, 6.7807616521485016e-06, 6.56891338684169e-06, 7.265910351324402e-06, 7.0508277613564185e-06, 7.325745357556095e-06, 6.352213634543117e-06, 7.26105886433264e-06, 7.647560661342775e-06, 7.594194304433424e-06, 8.503039534222946e-06, 8.965547960770637e-06, 9.390861653714843e-06, 1.0273832286214983e-05, 9.552577886773474e-06, 9.533171938806437e-06, 1.094495465340831e-05, 1.1881291642817801e-05, 1.324941097449384e-05, 1.455122665061584e-05, 1.5701029067662723e-05, 1.7196904223455086e-05, 1.730687126193496e-05, 1.7020633529421174e-05, 1.6414197655451297e-05, 1.5972712339201225e-05, 1.6095616676325785e-05, 1.7597960481440497e-05, 1.6923603789585987e-05, 1.852297733453588e-05, 1.8839941151330796e-05, 2.0681889045868636e-05, 2.032126184614788e-05, 1.9734231920145036e-05, 2.063660850061221e-05, 2.1112054225804592e-05, 2.2058094189197597e-05, 2.25545630246876e-05, 2.3498985825750023e-05, 2.529403601270086e-05, 2.620126408015979e-05, 2.7619515444084005e-05, 2.854614945950998e-05, 3.07923879366944e-05, 3.3121101692738726e-05, 3.4621828335522847e-05, 3.3140507640705755e-05, 3.493555782765659e-05, 3.618724147153041e-05, 3.6971565201864785e-05, 3.603846253711646e-05, 3.676295126121914e-05, 3.730793496662674e-05, 3.9303513282570275e-05, 4.083334884730494e-05, 4.0818794386329674e-05, 4.155298608441586e-05, 4.5401832431211345e-05, 4.731493546829498e-05, 4.94431210953466e-05, 4.880110765010382e-05, 5.0232296312672725e-05, 5.024361644898682e-05, 5.409084563345172e-05, 5.60443777288e-05, 5.724916366508682e-05, 5.7847513727403754e-05, 6.202949551430003e-05, 6.275560140073328e-05, 6.618560270390691e-05, 6.592038808169073e-05, 7.133626472682439e-05, 7.181817910133912e-05, 7.641900593185725e-05, 7.898382538816716e-05, 8.205319949162001e-05, 8.287956944254962e-05, 8.951963797193711e-05, 9.318251065071518e-05, 9.888300786603201e-05, 0.00010022525260041866, 0.00010849218643437601, 0.00010828518965606097, 0.00011188661016627672, 0.00011172651109554868, 0.00011724426896750924, 0.00012582169796893918, 0.00012974008229594983, 0.00013301160169072604, 0.00013829972251174334, 0.00013827869940144567, 0.00014682863664325566, 0.00015443738540866437, 0.0001608947145946956, 0.0001640045177564131, 0.00017384333337570036, 0.00017670571070083817, 0.00018375977278685577, 0.00018897026981600494, 0.000202261727011094, 0.0002121587604742824, 0.00021836219517441157, 0.00021958315273400426, 0.00023282286073451458, 0.0002338821020610486, 0.00024316623100094475, 0.000250382009320021, 0.0002607108251254759, 0.0002637527074693088, 0.0002751763421725707, 0.0002755871014045396, 0.0002859062142360109, 0.00029787968413167224, 0.0003121398215627825, 0.00032501728520124146, 0.00034028168043964593, 0.00035144010052069155, 0.0003724599764936528, 0.00038374130091182307, 0.0004009656968948981, 0.0004069022998104806, 0.0004271766639490415, 0.0004402999362617495, 0.00046636535870614015, 0.0004742571108794014, 0.0004981054037685581, 0.0005090681472076029, 0.0005342263415845346, 0.0005407192483418386, 0.0005582298820574275, 0.0005656235482328682, 0.0005889203887672949, 0.0005960925037034452, 0.0006275495453580106, 0.0006339874685960748, 0.0006664115733243309, 0.0006834645501003636, 0.0007151172683969301, 0.0007235782617105579, 0.0007518575793855209, 0.0007668729316250152, 0.0007997013269359176, 0.0008145549629423531, 0.0008516720727539707, 0.0008730816848486032, 0.0009149694235354505, 0.0009350351737333657, 0.0009790656525082398, 0.0009925851295919416, 0.0010237365275660262, 0.0010469735330942212, 0.0010905156288452582, 0.0010980402851694766, 0.0011321915192667989, 0.0011529752895394943, 0.00120638854415643, 0.0012271270338838696, 0.0012868164955058112, 0.0013140155487439428, 0.0013622587353899942, 0.001386892969171816, 0.0014415385014846587, 0.0014609169576920748, 0.0015126467463228706, 0.0015444919069367764, 0.0015903740365801721, 0.001630492599677358, 0.0016919771114862502, 0.001727185969747776, 0.001789328666625217, 0.0018054161974898897, 0.0018687378057063286, 0.001893634019785705, 0.0019687981077490275, 0.001995628447975785, 0.0020538058628186283, 0.0020770137594248728, 0.0021463398913747784, 0.002167003991635011, 0.0022342892647237165, 0.0022679262411999124, 0.0023418531999803358, 0.00237336199082948, 0.0024457138334999127, 0.0024813900516749776, 0.002554620013490919, 0.002580119429119604, 0.002677427320875645, 0.002715744365136558, 0.002804162715561365, 0.002833845730139278, 0.0029233394935139255, 0.002950777886776984, 0.003050762182190145, 0.003085228762941932, 0.003191102763563089, 0.003217093796540272, 0.0033061347544623555, 0.003328029515256164, 0.003409620206321236, 0.003422015755585181, 0.003524092659054121, 0.0035598157749367728, 0.003660662017872137, 0.0037027923309085717, 0.003823458515367602, 0.0038643500820588076, 0.00396626526929469, 0.004005093336852067, 0.0041046086551893585, 0.00413040077719988, 0.004236522203657617, 0.004275769116258616, 0.004365167467055759, 0.004394740514595191, 0.004504096265714101, 0.004523051025390903, 0.0046224402050664085, 0.004662891903603695, 0.0047595658677261465, 0.00477427395912283, 0.004874298683594256, 0.004873412478637094, 0.004982469054724845, 0.004997190083420172, 0.005092130449524235, 0.005104016592654044, 0.0052237642289093, 0.0052448601115118, 0.005339667870304755, 0.0053482889626891095, 0.00546296841220031, 0.005478630629372038, 0.005541541478356508, 0.0055518848486229375, 0.005629241808706536, 0.005636459204187942, 0.005717804086578765, 0.0057022615394195005, 0.005777770082959236, 0.005739050365278008, 0.005798126922376658, 0.005761965555502416, 0.0058364358808259175, 0.005793448471754271, 0.005854876382881593, 0.005813696961295543, 0.005874102825829933, 0.005829121455604675, 0.005886619662268672, 0.005815023034406623, 0.005863641402713371, 0.005825579870100691, 0.005883650552229716, 0.005824328186456818, 0.0058613272434183015, 0.005805284482851831, 0.005833919576239526, 0.00575529961237574, 0.005792343949882482, 0.005729088645321597, 0.00574757766224719, 0.005685016120326127, 0.005720561348352415, 0.005645879174763608, 0.005652606570058845, 0.005580882186372682, 0.00559828285304979, 0.005520846652011994, 0.005566314788098759, 0.005502286479943855, 0.00552025638776133, 0.005434223351774136, 0.005443460583006447, 0.005374155474166838, 0.005414684796495992, 0.0053304354905594365, 0.0053454492256366, 0.005294844981987893, 0.005320738985225242, 0.005227593669308129, 0.005235795916648863, 0.005160630211523211, 0.005169096056323829, 0.005083114769531216, 0.005077833117359521, 0.00500002496898569, 0.004995574538251915, 0.004901803380512867, 0.004901381301144585, 0.0048190046691868466, 0.004832068106493324, 0.004749600913445073, 0.004762352238421746, 0.004674972106213176, 0.004679217157330965, 0.004575566754914363, 0.004587509498725745, 0.0045108349811456535, 0.004502407948240969, 0.004408800123897309, 0.004395093055983259, 0.004302329390376165, 0.00432247438152828, 0.004233334776704031, 0.004233863588786133, 0.004146852169588934, 0.00414035602850697, 0.00406740583577422, 0.004059106558693651, 0.003976233457900423, 0.003988379964165458, 0.0038948449121266743, 0.003890326560575016, 0.0038089703580478787, 0.003816323595165055, 0.003737930034027551, 0.0037277855747277835, 0.003657484293892534, 0.00366102749655885, 0.003584584233192034, 0.003572214558525379, 0.0034742695048110873, 0.0034580396636613216, 0.003375836068072957, 0.0033546027266723585, 0.0032901604249608238, 0.0032672969839309942, 0.0031927231602183353, 0.003180296884870111, 0.0031191519771506413, 0.003104962994862077, 0.0030278000942581497, 0.00301114170509078, 0.00294685141663832, 0.0029288992976064816, 0.0028756720166575626, 0.0028464062299609423, 0.0027726118784916257, 0.002774321219075056, 0.0027051115228129527, 0.002708523735330489, 0.0026349072717175384, 0.0026026076884887376, 0.002536988092600536, 0.0025151224407286782, 0.0024500672344938516, 0.0024358362059846914, 0.002375344631846779, 0.0023599961441671843, 0.002301144372632486, 0.0022815847942440444, 0.002229562299231413, 0.002227818998239041, 0.0021694636955398327, 0.0021583149784327703, 0.0021029902379410817, 0.0020945260103027927, 0.00203083568907498, 0.0020249573040032986, 0.001965796654463459, 0.0019551444061918864, 0.0019089259067837294, 0.001901891250645679, 0.001846310998505757, 0.0018462624836358395, 0.0018101350771705413, 0.0018175271261836514, 0.001759938358429141, 0.0017473730071204854, 0.0017020973133510594, 0.0016934293232591172, 0.001635992568763682, 0.001628419397569546, 0.0015832876312475426, 0.001585748952314695, 0.0015392070204404203, 0.001528954211264503, 0.0015032413302081802, 0.0015024278975558952, 0.0014651134939399463, 0.001457001807689725, 0.0014264374396416436, 0.0014319616661629265, 0.0013977667686826784, 0.0013998221820048535, 0.0013756553081365713, 0.0013710011149491441, 0.0013431212363698355, 0.0013334700115808964, 0.001311219475074359, 0.0013149680573566582, 0.0012776035217084607, 0.0012711025291395036, 0.001241089613446152, 0.0012417785245989817, 0.0012164343565540328, 0.0012097247500444303, 0.0011843660275385058, 0.0011818917691727084, 0.0011547719568887756, 0.001148426211903555, 0.001130380297456542, 0.0011276844878514547, 0.0011152210177696256, 0.0011081507840603024, 0.0010777772411672299, 0.0010726912656375358, 0.0010556124142642135, 0.0010485049858212866, 0.001030675771126572, 0.0010294337904566818, 0.0010028379387678592, 0.0010064781711740089, 0.000988482388759244, 0.000983760274753932, 0.0009643349208389289, 0.0009634503330440984, 0.0009370404550232928, 0.0009287250063194179, 0.0008978372058052189, 0.0008976188888905897, 0.0008813955163901478, 0.0008798705323124047, 0.0008575617779619663, 0.0008581536593749608, 0.0008386555331550814, 0.0008338024290009919, 0.0008094414956530392, 0.0008023437701840958, 0.0007849091430980446, 0.0007830914526384654, 0.000762467781436498, 0.0007633248774717088, 0.0007483467199658181, 0.0007580707170596339, 0.0007380858249782479, 0.0007343113680986593, 0.0007134499740340956, 0.0007080308630643007, 0.0006871484458894395, 0.0006908857080354244, 0.0006750294313840253, 0.0006679220029410985, 0.0006566665531202177, 0.0006606625612390965, 0.0006509207753596445, 0.0006516759901680281, 0.000637419087061579, 0.0006404577350807508, 0.000633353540962485, 0.0006344790859445731, 0.000618150597892643, 0.0006225153190228955, 0.0006089085151733419, 0.0006013773901998013, 0.0005908917096482797, 0.0005789651374602054, 0.0005741799541240005, 0.0005744160598242661, 0.0005675382684322824, 0.0005636231184299329, 0.000556328099156658, 0.0005524275036152837, 0.0005371938344611604, 0.0005355524146956152, 0.00052566346704408, 0.0005230630700164971, 0.0005122313167262298, 0.0005069658361778407, 0.0004926911442857551, 0.0004906535197492163, 0.0004762316660850473, 0.00048006110648387586, 0.000466541629400174, 0.0004542123837917838, 0.00044225831984408964, 0.0004371513212040979, 0.0004254010197100577, 0.00041508190687858626, 0.00040450404807422107, 0.00040745213500287996, 0.00039626622316221423, 0.0003910055941008169, 0.00037789040759976175, 0.0003769573049350134, 0.000366376211805987, 0.0003653525480507259, 0.0003550722471151885, 0.00035516927685502373, 0.00034843541291046224, 0.00034932485219228476, 0.00034492778781542046, 0.00034871518199365364, 0.00034300013031736155, 0.000342286961729573, 0.0003378349138334688, 0.00033796266965758516, 0.000333080456581545, 0.0003318045155027124, 0.0003238642484595335, 0.0003257563283863195, 0.000319171243376172, 0.00031600483953288396, 0.00031214952453676603, 0.0003157590308586348, 0.0003090154639400898, 0.00030946826939265394, 0.00030975935861215944, 0.00030812925898292845, 0.00030503562744451686, 0.00030183364602995587, 0.00029432677849137415, 0.0002897954896410712, 0.0002851817255119084, 0.00028381684050489354, 0.00027804357098470034, 0.0002807862782973747, 0.000275378487463894, 0.0002705027430371762, 0.0002635263047430267, 0.0002633823772956046, 0.00025631052642395054, 0.00025282715876386757, 0.00024651860851225023, 0.00024501788186946617, 0.00024186926681181458, 0.00024214903589500595, 0.00024336514196760694, 0.00024332309574701165, 0.00023626256501167172, 0.0002325382401643314, 0.00022986668799420277, 0.00023107147393048962, 0.0002224422957344809, 0.00022574130688887706, 0.0002244896232450032, 0.00022797622522974733, 0.0002251655970991883, 0.00022825275998827763, 0.00022446051432305266, 0.00022602431029672965, 0.0002186759246665454, 0.0002190219974052908, 0.0002155855274527949, 0.00021399100539483675, 0.0002113582651206422, 0.00020920097057164003, 0.0002044012327744598, 0.00020849427063317382, 0.00020327245346771054, 0.00020046991114880438, 0.00019718383729305298, 0.00019964839268486655, 0.00019766575166756776, 0.00019730835879250817, 0.00019430043685761752, 0.00019295334063623915, 0.0001873353186997822, 0.00018488531776894392, 0.00017834551330405275, 0.0001746729376512912, 0.00016983600512050746, 0.00016766415611052995, 0.00016372636583555228, 0.00016326709173366578, 0.0001597174204180288, 0.0001581309841717236, 0.00015596398664873787, 0.000153915041975885, 0.00014895520510797668, 0.00014670896663079226, 0.00014612031954245886, 0.00014375764537747222, 0.00013641734555894082, 0.00013559906141966417, 0.0001318213702154145, 0.0001334627899809596, 0.0001308138780834592, 0.0001280808737447683, 0.00012469291866218992, 0.00012141493061809142, 0.00011502713941227538, 0.00011561740366293939, 0.0001143738058307185, 0.00011471664424480284, 0.00010954334194925712, 0.00010943660923543842, 0.00010836604777259029, 0.00010872667497231102, 0.00010630901728808446, 0.00010698499114226954, 0.00010689119572709555, 0.00010835957912326793, 0.00010710142683007177, 0.0001124817259039325, 0.00011336631369876324, 0.00011341321140635024, 0.00011263212200067705, 0.00011291674257086024, 0.00010998482726550722, 0.0001116084582454159, 0.00011076753383351101, 0.00011624647980953753, 0.00011634674387403388, 0.00011661357565858065, 0.00011383367361230269, 0.00011313991097248115, 0.00011413284864346118, 0.00011352317844483012, 0.00011141278160341498, 0.00011153568594053954, 0.00010828033816906923, 0.00010678284585094629, 0.00010276096313477807, 0.00010067482372832171, 9.977568147251569e-05, 9.77606972086051e-05, 9.489670272113674e-05, 9.532686790107271e-05, 9.285907818459794e-05, 8.964739379605348e-05, 8.72750166570833e-05, 8.683353134083326e-05, 8.238471776939025e-05, 7.862966683776876e-05, 7.391887296877076e-05, 7.314101788775875e-05, 7.02689375886374e-05, 6.83639203632067e-05, 6.561474440120993e-05, 6.533982680501026e-05, 5.9776788387793246e-05, 5.93336859092126e-05, 5.724107785343388e-05, 5.946305889565952e-05, 5.428167078846089e-05, 5.574358553531094e-05, 5.600394867053532e-05, 5.839088027048078e-05, 5.91331577802199e-05, 5.98899897509343e-05, 6.0823092415682613e-05, 6.276368721238624e-05, 6.381807705192852e-05, 6.663840815647109e-05, 6.718986051120106e-05, 6.952989440355947e-05, 6.994712228485074e-05, 6.753431608761593e-05, 7.113897092249287e-05, 7.200900425634833e-05, 7.106134713062473e-05, 7.235992848208556e-05, 7.218365778805164e-05, 7.250223876717715e-05, 7.173246949781806e-05, 7.29227009731296e-05, 7.243755227395369e-05, 7.317659545903166e-05, 7.423583678556572e-05, 7.27221728441369e-05, 6.929864019028562e-05, 6.958002643580764e-05, 6.835098306456203e-05, 6.825395332472684e-05, 6.682114749982735e-05, 6.794830964424603e-05, 6.833319427892556e-05, 6.755372203558297e-05, 6.610797891203879e-05, 6.780599935915445e-05, 6.529778058441504e-05, 6.436306075733614e-05, 6.277177302403917e-05, 6.243055177228545e-05, 6.0944379590476616e-05, 5.9896458400256674e-05, 5.8382794458827864e-05, 5.95503856615112e-05, 5.76324311374358e-05, 5.709553324368114e-05, 5.6042760566469433e-05, 5.539104414724313e-05, 5.423962456786567e-05, 5.5412067257540755e-05, 5.4378700528296084e-05, 5.255454141939471e-05, 5.0764342719435626e-05, 5.273566360042037e-05, 5.2533518309097085e-05, 5.040856700670664e-05, 4.926038175199034e-05, 4.967599247095103e-05, 4.943503528369367e-05, 5.0107774813217587e-05, 4.9302427972585596e-05, 4.843077747639956e-05, 4.567513286508044e-05, 4.5165726730945745e-05, 4.359384494561582e-05, 4.186994990121079e-05, 4.289684798113312e-05, 4.073308478280859e-05, 3.80211035544153e-05, 3.9392457210752526e-05, 3.9166054484470433e-05, 4.00829855259129e-05, 3.975470157280387e-05, 3.992288645518485e-05, 3.695539357855891e-05, 3.630205999700204e-05, 3.564710925311458e-05, 3.4409980070216026e-05, 3.2264005657527955e-05, 3.4097867740412865e-05, 3.347202591847595e-05, 3.294644816103539e-05, 3.243542486457011e-05, 3.384559041684139e-05, 3.536895733225373e-05, 3.428707573309147e-05, 3.4149616934991626e-05, 3.536895733225373e-05, 3.431295033038084e-05, 3.552743924065119e-05, 3.538027746856783e-05, 3.569238979837099e-05, 3.5556548162601746e-05, 3.571179574633803e-05, 3.6332786081283186e-05, 3.6103149030339925e-05, 3.576192777858621e-05, 3.671767071596273e-05, 3.6334403243613774e-05, 3.6347340542258464e-05, 3.502450175583884e-05, 3.509080541139288e-05, 3.3732389053700356e-05, 3.326179481549973e-05, 3.508757108673171e-05, 3.3848824741502575e-05, 3.4418065881868965e-05, 3.298849438163065e-05, 3.419166315558687e-05, 3.407199314312349e-05, 3.4041267058842354e-05, 3.4102719227404636e-05, 3.3177702374309244e-05, 3.258582096131465e-05, 3.2825160986241426e-05, 3.307743830981289e-05, 3.33491215813514e-05, 3.215242145671751e-05, 3.230120039113145e-05, 3.098483025403418e-05, 3.051908750282531e-05, 3.0168163277088078e-05, 2.9265786696620904e-05, 2.8722420153543894e-05, 2.8128921578218705e-05, 2.7402815691785444e-05, 2.5722584030306232e-05, 2.6812551441121434e-05, 2.6136577586936343e-05, 2.58454883674308e-05, 2.4537204041986458e-05, 2.511453099400578e-05, 2.4446642951473623e-05, 2.344723663117127e-05, 2.352486042303941e-05, 2.2779348588639108e-05, 2.2945916308689506e-05, 2.2038688241230576e-05, 2.2960470769664784e-05, 2.2168061227677474e-05, 2.1809051190287314e-05, 2.023716940495739e-05, 2.01773343987257e-05, 2.0052812899270548e-05, 2.0364925229073712e-05, 1.979730125103791e-05, 1.9587070148061683e-05, 1.93250898505067e-05, 1.8687927892255682e-05, 1.8087960667608154e-05, 1.7851854967342544e-05, 1.7570468721820522e-05, 1.683465986140374e-05, 1.7138686379553974e-05, 1.7080468535652864e-05, 1.790036983726014e-05, 1.787287807764017e-05, 1.691551797793306e-05, 1.7842151993359033e-05, 1.7433009923720686e-05, 1.7835683344036688e-05, 1.7235716119389157e-05, 1.6629280245419277e-05, 1.618779492916921e-05, 1.5911260170638946e-05, 1.612634276060693e-05, 1.5925814631614225e-05, 1.5722052177960343e-05, 1.633980818824433e-05, 1.555225013324878e-05, 1.4850401681774309e-05, 1.4729114506980333e-05, 1.5016969401824704e-05, 1.4892447902369556e-05, 1.5351722004256077e-05, 1.5316144432983172e-05, 1.528380118637145e-05, 1.5254692264420895e-05, 1.5555484457909955e-05, 1.6275121695020874e-05, 1.5186771446536272e-05, 1.5427728633793637e-05, 1.5094593193692849e-05, 1.5097827518354023e-05, 1.4615913143839294e-05, 1.455931246226877e-05, 1.5016969401824706e-05, 1.5084890219709335e-05, 1.5591062029182857e-05, 1.4721028695327405e-05, 1.338201828560192e-05, 1.2976110540624747e-05, 1.3005219462575301e-05, 1.2974493378294164e-05, 1.3969048211604762e-05, 1.4177662152250399e-05, 1.3432150317850098e-05, 1.2313073985084352e-05, 1.2634889288871035e-05, 1.199611016828943e-05, 1.2214427082918588e-05, 1.164356878022161e-05, 1.2101225719777542e-05, 1.2010664629264708e-05, 1.1869971506503697e-05, 1.1764855955015586e-05, 1.2193403972620963e-05, 1.1750301494040307e-05, 1.0844690588911958e-05, 1.1291027392153788e-05, 1.1271621444186752e-05, 1.169693513713096e-05, 1.1574030800006396e-05, 1.1315284827112582e-05, 1.0095944429850484e-05, 1.0726637738779158e-05, 1.0980532224681212e-05, 1.177132460433793e-05, 1.1198849139310368e-05, 1.1578882286998155e-05, 1.1506109982121771e-05, 1.0894822621160136e-05, 1.073795787509326e-05, 1.1206934950963298e-05, 1.1394525781311314e-05, 1.154168755339467e-05, 1.2146506265033959e-05, 1.2387463452291325e-05, 1.2591225905945202e-05, 1.325587962381619e-05, 1.3474196538445342e-05, 1.357284344061111e-05, 1.355182033031349e-05, 1.3994922808894144e-05, 1.3994922808894144e-05, 1.3466110726792413e-05, 1.3315714630047884e-05, 1.3543734518660556e-05, 1.2830565930871983e-05, 1.2581522931961686e-05, 1.2298519524109078e-05, 1.189584610379308e-05, 1.1871588668834285e-05, 1.1902314753115426e-05, 1.1578882286998159e-05, 1.1227958061260923e-05, 1.0763832472382644e-05, 1.0684591518183915e-05, 1.0083007131205797e-05, 9.457165309268886e-06, 1.0301324045834955e-05, 9.395713140706605e-06, 9.382775842061915e-06, 8.857198084621353e-06, 8.48848507324767e-06, 7.864260413641344e-06, 7.222246968398568e-06, 7.469672804978278e-06, 7.699309855921539e-06, 7.914392445889522e-06, 8.1181548995434e-06, 8.399541145065424e-06, 7.851323114996656e-06, 8.205481665395062e-06, 8.05670273098112e-06, 7.817362706054342e-06, 7.487461590614729e-06, 8.063171380303467e-06, 7.730035940202681e-06, 7.810894056731999e-06, 7.398517662432482e-06, 7.403369149424241e-06, 7.0039300537694156e-06, 6.200200375468007e-06, 5.487031787679431e-06, 5.359275963563108e-06, 6.229309297418559e-06, 5.870299260028392e-06, 6.014226707450578e-06, 6.1630056418645205e-06, 6.814722061090815e-06, 6.976438294149449e-06, 7.55861673316053e-06, 6.82927652206609e-06, 7.0152501900835195e-06, 7.120365741571631e-06, 6.817956385751988e-06, 6.190497401484487e-06, 6.966735320165929e-06, 7.243270078696194e-06, 7.4324780713747945e-06, 8.032445296022326e-06, 8.634029683000443e-06, 8.742379559149729e-06, 8.769871318769695e-06, 8.716504961860345e-06, 9.080366486242273e-06, 9.452313822277128e-06, 9.3374952968055e-06, 7.91115812122835e-06, 7.894986497922489e-06, 7.382346039126617e-06, 7.3661744158207545e-06, 6.936009235884788e-06, 7.411454961077171e-06, 7.387197526118377e-06, 7.275613325307919e-06, 8.570960352107577e-06, 8.637264007661616e-06, 8.797363078389664e-06, 8.553171566471126e-06, 8.726207935843864e-06, 8.818386188687284e-06, 8.004953536402357e-06, 8.598452111727543e-06, 9.193567849383314e-06, 9.295449076210256e-06, 9.316472186507878e-06, 9.256637180276184e-06, 9.115944057515173e-06, 8.894392818224844e-06, 8.591983462405198e-06, 7.796339595756719e-06, 7.414689285738345e-06, 6.9489465345294796e-06, 6.897197339950718e-06, 6.850299632363714e-06, 7.309573734250235e-06, 7.371025902812515e-06, 6.952180859190654e-06, 7.461586993325352e-06, 6.672411775999218e-06, 6.814722061090816e-06, 6.483203783320618e-06, 6.090233336988137e-06, 5.223434327793859e-06, 5.786206818837907e-06, 5.053632283082296e-06, 4.757691576584995e-06, 4.984094302867083e-06, 5.8217843901108065e-06, 5.782972494176735e-06, 5.6924114036639e-06, 5.5501011185723025e-06, 4.943665244602426e-06, 4.780331849213205e-06, 4.149638540284533e-06, 3.9588133852753465e-06, 3.7097703863650504e-06, 2.9901331492541296e-06, 1.8823769528024885e-06, 1.702871934107404e-06, 2.9497040909894714e-06, 2.9011892210718822e-06, 3.2925425050737755e-06, 3.3022454790572944e-06, 3.840760535142545e-06, 3.5027736080499996e-06, 3.195512765238595e-06, 2.9157436820471583e-06, 3.0726084281140323e-06, 3.2537306091397027e-06, 3.5448198286452433e-06, 3.945876086630655e-06, 3.958813385275345e-06, 3.9927737942176575e-06, 5.453071378737122e-06, 5.614787611795754e-06, 6.209903349451528e-06, 6.3279561995843285e-06, 6.46379783535358e-06, 7.026570326397626e-06, 7.518187674895871e-06, 7.93864988084832e-06, 8.287956944254968e-06, 9.06419486293641e-06, 8.947759175134193e-06, 8.845877948307256e-06, 8.755316857794419e-06, 9.08521797323403e-06, 9.3374952968055e-06, 9.099772434209308e-06, 9.279277452904392e-06, 9.377924355070158e-06, 9.8937991385272e-06, 9.919673735816581e-06, 9.867924541237819e-06, 9.738551554790908e-06, 1.0029640774296452e-05, 9.833964132295505e-06, 9.649607626608663e-06, 9.476571257235924e-06, 9.727231418476808e-06, 9.494360042872375e-06, 9.190333524722145e-06, 8.402775469726597e-06, 8.038913945344672e-06, 8.098748951576366e-06, 7.675052420962746e-06, 7.678286745623919e-06, 7.20122385810095e-06, 6.656240152693355e-06, 6.1290452329222095e-06, 6.615811094428697e-06, 6.216371998773872e-06, 5.755480734556767e-06, 5.233137301777379e-06, 4.236965306136194e-06, 4.172278812912742e-06, 3.6337637568274915e-06, 3.531882530000553e-06, 3.4574930627935817e-06, 3.3043878735982768e-06, 3.1650257998324202e-06, 3.038761358754288e-06, 2.9249490676216747e-06, 2.822943443692369e-06, 2.732099004224161e-06, 2.6517702664748442e-06, 2.5813117477022137e-06, 2.520077965164052e-06, 2.4674234361181596e-06, 2.422702677822324e-06, 2.385270207534336e-06, 2.3544805425119916e-06, 2.3296882000130776e-06, 2.310247697295385e-06, 2.295513551616706e-06, 2.284840280234835e-06, 2.2775824004075674e-06, 2.2730944293926823e-06, 2.2707308844479804e-06, 2.2698462828312542e-06, 2.269795141800286e-06, 2.2699319786128815e-06, 2.2696113105268198e-06, 2.268187654799893e-06, 2.2650155286899006e-06], \"yaxis\": \"y\"}],\n",
              "                        {\"template\": {\"data\": {\"bar\": [{\"error_x\": {\"color\": \"#2a3f5f\"}, \"error_y\": {\"color\": \"#2a3f5f\"}, \"marker\": {\"line\": {\"color\": \"#E5ECF6\", \"width\": 0.5}}, \"type\": \"bar\"}], \"barpolar\": [{\"marker\": {\"line\": {\"color\": \"#E5ECF6\", \"width\": 0.5}}, \"type\": \"barpolar\"}], \"carpet\": [{\"aaxis\": {\"endlinecolor\": \"#2a3f5f\", \"gridcolor\": \"white\", \"linecolor\": \"white\", \"minorgridcolor\": \"white\", \"startlinecolor\": \"#2a3f5f\"}, \"baxis\": {\"endlinecolor\": \"#2a3f5f\", \"gridcolor\": \"white\", \"linecolor\": \"white\", \"minorgridcolor\": \"white\", \"startlinecolor\": \"#2a3f5f\"}, \"type\": \"carpet\"}], \"choropleth\": [{\"colorbar\": {\"outlinewidth\": 0, \"ticks\": \"\"}, \"type\": \"choropleth\"}], \"contour\": [{\"colorbar\": {\"outlinewidth\": 0, \"ticks\": \"\"}, \"colorscale\": [[0.0, \"#0d0887\"], [0.1111111111111111, \"#46039f\"], [0.2222222222222222, \"#7201a8\"], [0.3333333333333333, \"#9c179e\"], [0.4444444444444444, \"#bd3786\"], [0.5555555555555556, \"#d8576b\"], [0.6666666666666666, \"#ed7953\"], [0.7777777777777778, \"#fb9f3a\"], [0.8888888888888888, \"#fdca26\"], [1.0, \"#f0f921\"]], \"type\": \"contour\"}], \"contourcarpet\": [{\"colorbar\": {\"outlinewidth\": 0, \"ticks\": \"\"}, \"type\": \"contourcarpet\"}], \"heatmap\": [{\"colorbar\": {\"outlinewidth\": 0, \"ticks\": \"\"}, \"colorscale\": [[0.0, \"#0d0887\"], [0.1111111111111111, \"#46039f\"], [0.2222222222222222, \"#7201a8\"], [0.3333333333333333, \"#9c179e\"], [0.4444444444444444, \"#bd3786\"], [0.5555555555555556, \"#d8576b\"], [0.6666666666666666, \"#ed7953\"], [0.7777777777777778, \"#fb9f3a\"], [0.8888888888888888, \"#fdca26\"], [1.0, \"#f0f921\"]], \"type\": \"heatmap\"}], \"heatmapgl\": [{\"colorbar\": {\"outlinewidth\": 0, \"ticks\": \"\"}, \"colorscale\": [[0.0, \"#0d0887\"], [0.1111111111111111, \"#46039f\"], [0.2222222222222222, \"#7201a8\"], [0.3333333333333333, \"#9c179e\"], [0.4444444444444444, \"#bd3786\"], [0.5555555555555556, \"#d8576b\"], [0.6666666666666666, \"#ed7953\"], [0.7777777777777778, \"#fb9f3a\"], [0.8888888888888888, \"#fdca26\"], [1.0, \"#f0f921\"]], \"type\": \"heatmapgl\"}], \"histogram\": [{\"marker\": {\"colorbar\": {\"outlinewidth\": 0, \"ticks\": \"\"}}, \"type\": \"histogram\"}], \"histogram2d\": [{\"colorbar\": {\"outlinewidth\": 0, \"ticks\": \"\"}, \"colorscale\": [[0.0, \"#0d0887\"], [0.1111111111111111, \"#46039f\"], [0.2222222222222222, \"#7201a8\"], [0.3333333333333333, \"#9c179e\"], [0.4444444444444444, \"#bd3786\"], [0.5555555555555556, \"#d8576b\"], [0.6666666666666666, \"#ed7953\"], [0.7777777777777778, \"#fb9f3a\"], [0.8888888888888888, \"#fdca26\"], [1.0, \"#f0f921\"]], \"type\": \"histogram2d\"}], \"histogram2dcontour\": [{\"colorbar\": {\"outlinewidth\": 0, \"ticks\": \"\"}, \"colorscale\": [[0.0, \"#0d0887\"], [0.1111111111111111, \"#46039f\"], [0.2222222222222222, \"#7201a8\"], [0.3333333333333333, \"#9c179e\"], [0.4444444444444444, \"#bd3786\"], [0.5555555555555556, \"#d8576b\"], [0.6666666666666666, \"#ed7953\"], [0.7777777777777778, \"#fb9f3a\"], [0.8888888888888888, \"#fdca26\"], [1.0, \"#f0f921\"]], \"type\": \"histogram2dcontour\"}], \"mesh3d\": [{\"colorbar\": {\"outlinewidth\": 0, \"ticks\": \"\"}, \"type\": \"mesh3d\"}], \"parcoords\": [{\"line\": {\"colorbar\": {\"outlinewidth\": 0, \"ticks\": \"\"}}, \"type\": \"parcoords\"}], \"pie\": [{\"automargin\": true, \"type\": \"pie\"}], \"scatter\": [{\"marker\": {\"colorbar\": {\"outlinewidth\": 0, \"ticks\": \"\"}}, \"type\": \"scatter\"}], \"scatter3d\": [{\"line\": {\"colorbar\": {\"outlinewidth\": 0, \"ticks\": \"\"}}, \"marker\": {\"colorbar\": {\"outlinewidth\": 0, \"ticks\": \"\"}}, \"type\": \"scatter3d\"}], \"scattercarpet\": [{\"marker\": {\"colorbar\": {\"outlinewidth\": 0, \"ticks\": \"\"}}, \"type\": \"scattercarpet\"}], \"scattergeo\": [{\"marker\": {\"colorbar\": {\"outlinewidth\": 0, \"ticks\": \"\"}}, \"type\": \"scattergeo\"}], \"scattergl\": [{\"marker\": {\"colorbar\": {\"outlinewidth\": 0, \"ticks\": \"\"}}, \"type\": \"scattergl\"}], \"scattermapbox\": [{\"marker\": {\"colorbar\": {\"outlinewidth\": 0, \"ticks\": \"\"}}, \"type\": \"scattermapbox\"}], \"scatterpolar\": [{\"marker\": {\"colorbar\": {\"outlinewidth\": 0, \"ticks\": \"\"}}, \"type\": \"scatterpolar\"}], \"scatterpolargl\": [{\"marker\": {\"colorbar\": {\"outlinewidth\": 0, \"ticks\": \"\"}}, \"type\": \"scatterpolargl\"}], \"scatterternary\": [{\"marker\": {\"colorbar\": {\"outlinewidth\": 0, \"ticks\": \"\"}}, \"type\": \"scatterternary\"}], \"surface\": [{\"colorbar\": {\"outlinewidth\": 0, \"ticks\": \"\"}, \"colorscale\": [[0.0, \"#0d0887\"], [0.1111111111111111, \"#46039f\"], [0.2222222222222222, \"#7201a8\"], [0.3333333333333333, \"#9c179e\"], [0.4444444444444444, \"#bd3786\"], [0.5555555555555556, \"#d8576b\"], [0.6666666666666666, \"#ed7953\"], [0.7777777777777778, \"#fb9f3a\"], [0.8888888888888888, \"#fdca26\"], [1.0, \"#f0f921\"]], \"type\": \"surface\"}], \"table\": [{\"cells\": {\"fill\": {\"color\": \"#EBF0F8\"}, \"line\": {\"color\": \"white\"}}, \"header\": {\"fill\": {\"color\": \"#C8D4E3\"}, \"line\": {\"color\": \"white\"}}, \"type\": \"table\"}]}, \"layout\": {\"annotationdefaults\": {\"arrowcolor\": \"#2a3f5f\", \"arrowhead\": 0, \"arrowwidth\": 1}, \"coloraxis\": {\"colorbar\": {\"outlinewidth\": 0, \"ticks\": \"\"}}, \"colorscale\": {\"diverging\": [[0, \"#8e0152\"], [0.1, \"#c51b7d\"], [0.2, \"#de77ae\"], [0.3, \"#f1b6da\"], [0.4, \"#fde0ef\"], [0.5, \"#f7f7f7\"], [0.6, \"#e6f5d0\"], [0.7, \"#b8e186\"], [0.8, \"#7fbc41\"], [0.9, \"#4d9221\"], [1, \"#276419\"]], \"sequential\": [[0.0, \"#0d0887\"], [0.1111111111111111, \"#46039f\"], [0.2222222222222222, \"#7201a8\"], [0.3333333333333333, \"#9c179e\"], [0.4444444444444444, \"#bd3786\"], [0.5555555555555556, \"#d8576b\"], [0.6666666666666666, \"#ed7953\"], [0.7777777777777778, \"#fb9f3a\"], [0.8888888888888888, \"#fdca26\"], [1.0, \"#f0f921\"]], \"sequentialminus\": [[0.0, \"#0d0887\"], [0.1111111111111111, \"#46039f\"], [0.2222222222222222, \"#7201a8\"], [0.3333333333333333, \"#9c179e\"], [0.4444444444444444, \"#bd3786\"], [0.5555555555555556, \"#d8576b\"], [0.6666666666666666, \"#ed7953\"], [0.7777777777777778, \"#fb9f3a\"], [0.8888888888888888, \"#fdca26\"], [1.0, \"#f0f921\"]]}, \"colorway\": [\"#636efa\", \"#EF553B\", \"#00cc96\", \"#ab63fa\", \"#FFA15A\", \"#19d3f3\", \"#FF6692\", \"#B6E880\", \"#FF97FF\", \"#FECB52\"], \"font\": {\"color\": \"#2a3f5f\"}, \"geo\": {\"bgcolor\": \"white\", \"lakecolor\": \"white\", \"landcolor\": \"#E5ECF6\", \"showlakes\": true, \"showland\": true, \"subunitcolor\": \"white\"}, \"hoverlabel\": {\"align\": \"left\"}, \"hovermode\": \"closest\", \"mapbox\": {\"style\": \"light\"}, \"paper_bgcolor\": \"white\", \"plot_bgcolor\": \"#E5ECF6\", \"polar\": {\"angularaxis\": {\"gridcolor\": \"white\", \"linecolor\": \"white\", \"ticks\": \"\"}, \"bgcolor\": \"#E5ECF6\", \"radialaxis\": {\"gridcolor\": \"white\", \"linecolor\": \"white\", \"ticks\": \"\"}}, \"scene\": {\"xaxis\": {\"backgroundcolor\": \"#E5ECF6\", \"gridcolor\": \"white\", \"gridwidth\": 2, \"linecolor\": \"white\", \"showbackground\": true, \"ticks\": \"\", \"zerolinecolor\": \"white\"}, \"yaxis\": {\"backgroundcolor\": \"#E5ECF6\", \"gridcolor\": \"white\", \"gridwidth\": 2, \"linecolor\": \"white\", \"showbackground\": true, \"ticks\": \"\", \"zerolinecolor\": \"white\"}, \"zaxis\": {\"backgroundcolor\": \"#E5ECF6\", \"gridcolor\": \"white\", \"gridwidth\": 2, \"linecolor\": \"white\", \"showbackground\": true, \"ticks\": \"\", \"zerolinecolor\": \"white\"}}, \"shapedefaults\": {\"line\": {\"color\": \"#2a3f5f\"}}, \"ternary\": {\"aaxis\": {\"gridcolor\": \"white\", \"linecolor\": \"white\", \"ticks\": \"\"}, \"baxis\": {\"gridcolor\": \"white\", \"linecolor\": \"white\", \"ticks\": \"\"}, \"bgcolor\": \"#E5ECF6\", \"caxis\": {\"gridcolor\": \"white\", \"linecolor\": \"white\", \"ticks\": \"\"}}, \"title\": {\"x\": 0.05}, \"xaxis\": {\"automargin\": true, \"gridcolor\": \"white\", \"linecolor\": \"white\", \"ticks\": \"\", \"title\": {\"standoff\": 15}, \"zerolinecolor\": \"white\", \"zerolinewidth\": 2}, \"yaxis\": {\"automargin\": true, \"gridcolor\": \"white\", \"linecolor\": \"white\", \"ticks\": \"\", \"title\": {\"standoff\": 15}, \"zerolinecolor\": \"white\", \"zerolinewidth\": 2}}}, \"title\": {\"text\": \"Order across travel time (Before test, Test-Contro, Test-Variation\"}, \"xaxis\": {\"anchor\": \"y\", \"domain\": [0.0, 0.94], \"title\": {\"text\": \"Travel Time (in minutes)\"}}, \"yaxis\": {\"anchor\": \"x\", \"domain\": [0.0, 1.0], \"showgrid\": false, \"title\": {\"text\": \"Share of orders\"}}, \"yaxis2\": {\"anchor\": \"x\", \"overlaying\": \"y\", \"showgrid\": false, \"side\": \"right\", \"title\": {\"text\": \"Delta % difference of Variation1 vs Control\"}}},\n",
              "                        {\"responsive\": true}\n",
              "                    ).then(function(){\n",
              "                            \n",
              "var gd = document.getElementById('87ae17f0-e2c8-478b-98d4-e94e7c452998');\n",
              "var x = new MutationObserver(function (mutations, observer) {{\n",
              "        var display = window.getComputedStyle(gd).display;\n",
              "        if (!display || display === 'none') {{\n",
              "            console.log([gd, 'removed!']);\n",
              "            Plotly.purge(gd);\n",
              "            observer.disconnect();\n",
              "        }}\n",
              "}});\n",
              "\n",
              "// Listen for the removal of the full notebook cells\n",
              "var notebookContainer = gd.closest('#notebook-container');\n",
              "if (notebookContainer) {{\n",
              "    x.observe(notebookContainer, {childList: true});\n",
              "}}\n",
              "\n",
              "// Listen for the clearing of the current output cell\n",
              "var outputEl = gd.closest('.output');\n",
              "if (outputEl) {{\n",
              "    x.observe(outputEl, {childList: true});\n",
              "}}\n",
              "\n",
              "                        })\n",
              "                };\n",
              "                \n",
              "            </script>\n",
              "        </div>\n",
              "</body>\n",
              "</html>"
            ]
          },
          "metadata": {
            "tags": []
          }
        }
      ]
    },
    {
      "cell_type": "markdown",
      "metadata": {
        "id": "R_H3ssf0bs3-"
      },
      "source": [
        "### 7. Shrinking/closure"
      ]
    },
    {
      "cell_type": "code",
      "metadata": {
        "id": "dJ3XTwDUnWcv"
      },
      "source": [
        "query6 = \"\"\"\n",
        "\n",
        "SELECT \n",
        "datetime(start_at,\\\"\"\"\" + time_zone + \"\"\"\\\") as start_time \n",
        ", zone_id\n",
        ", action\n",
        ", duration/60 as duration_min\n",
        "FROM cl.delivery_areas_events\n",
        "WHERE created_date between \\\"\"\"\" + pre_date + \"\"\"\\\" and \\\"\"\"\" + end_date + \"\"\"\\\"\n",
        "and zone_id is not null\n",
        "and country_code = \"sg\"\n",
        "\n",
        "    \"\"\"\n",
        "\n",
        "event = client.query(query6).to_dataframe()"
      ],
      "execution_count": null,
      "outputs": []
    },
    {
      "cell_type": "code",
      "metadata": {
        "id": "qetmoMogYTIL"
      },
      "source": [
        "# 1. define local date\n",
        "event[\"local_date\"] = event.start_time.dt.date\n",
        "\n",
        "# 2. define period\n",
        "event[\"period\"] = event[\"start_time\"]\n",
        "event.loc[event.local_date< date(year=2020, month=9, day=4), \"period\"] = \"before_test\"\n",
        "event.loc[event.local_date>= date(year=2020, month=9, day=4), \"period\"] = \"during_test\"\n",
        "event.head()\n",
        "\n",
        "# 3. define zone\n",
        "event[\"zone_group\"] = event[\"zone_id\"]\n",
        "event.loc[event.zone_id == 3, 'zone_group'] = \"Far_east\"\n",
        "event.loc[event.zone_id != 3 , 'zone_group'] = \"other_zones\""
      ],
      "execution_count": null,
      "outputs": []
    },
    {
      "cell_type": "code",
      "metadata": {
        "id": "nW-Yu5WqZLj2",
        "colab": {
          "base_uri": "https://localhost:8080/",
          "height": 107
        },
        "outputId": "ba2cd465-c560-4b14-8e1e-71bb3a5ba782"
      },
      "source": [
        "close = event[event.action == \"close\"]\n",
        "close_pv = close.pivot_table([\"action\",\"duration_min\"],index=[\"zone_group\"],columns = \"period\",aggfunc = {\"action\":\"count\", \"duration_min\":\"sum\"}).reset_index()\n",
        "close_pv.columns = ['_'.join(col).strip() for col in close_pv.columns.values]\n",
        "close_pv[\"duration_delta (during vs before)\"] = close_pv[\"duration_min_during_test\"]/close_pv[\"duration_min_before_test\"]-1\n",
        "close_pv.rename(columns={'zone_group_': 'zone_group', \"action_before_test\":\"close_count_before_test\", \"action_during_test\":\"close_count_during_test\"}, inplace=True)\n",
        "close_pv['duration_delta (during vs before)'] = close_pv['duration_delta (during vs before)'].astype(float).map(lambda n: '{:.2%}'.format(n))\n",
        "close_pv.drop(['duration_min_before_test',\"duration_min_during_test\"], axis=1, inplace=True)\n",
        "close_pv"
      ],
      "execution_count": null,
      "outputs": [
        {
          "output_type": "execute_result",
          "data": {
            "text/html": [
              "<div>\n",
              "<style scoped>\n",
              "    .dataframe tbody tr th:only-of-type {\n",
              "        vertical-align: middle;\n",
              "    }\n",
              "\n",
              "    .dataframe tbody tr th {\n",
              "        vertical-align: top;\n",
              "    }\n",
              "\n",
              "    .dataframe thead th {\n",
              "        text-align: right;\n",
              "    }\n",
              "</style>\n",
              "<table border=\"1\" class=\"dataframe\">\n",
              "  <thead>\n",
              "    <tr style=\"text-align: right;\">\n",
              "      <th></th>\n",
              "      <th>zone_group</th>\n",
              "      <th>close_count_before_test</th>\n",
              "      <th>close_count_during_test</th>\n",
              "      <th>duration_delta (during vs before)</th>\n",
              "    </tr>\n",
              "  </thead>\n",
              "  <tbody>\n",
              "    <tr>\n",
              "      <th>0</th>\n",
              "      <td>Far_east</td>\n",
              "      <td>40</td>\n",
              "      <td>32</td>\n",
              "      <td>-0.73%</td>\n",
              "    </tr>\n",
              "    <tr>\n",
              "      <th>1</th>\n",
              "      <td>other_zones</td>\n",
              "      <td>806</td>\n",
              "      <td>1630</td>\n",
              "      <td>-0.20%</td>\n",
              "    </tr>\n",
              "  </tbody>\n",
              "</table>\n",
              "</div>"
            ],
            "text/plain": [
              "    zone_group  ...  duration_delta (during vs before)\n",
              "0     Far_east  ...                             -0.73%\n",
              "1  other_zones  ...                             -0.20%\n",
              "\n",
              "[2 rows x 4 columns]"
            ]
          },
          "metadata": {
            "tags": []
          },
          "execution_count": 33
        }
      ]
    },
    {
      "cell_type": "code",
      "metadata": {
        "id": "QMKh6l-zcX4s",
        "colab": {
          "base_uri": "https://localhost:8080/",
          "height": 107
        },
        "outputId": "43f406d9-82b2-4f39-9e5d-0707ccf3bfa4"
      },
      "source": [
        "shrink = event[event.action == \"shrink\"]\n",
        "shrink_pv = shrink.pivot_table([\"action\",\"duration_min\"],index=[\"zone_group\"],columns = \"period\",aggfunc = {\"action\":\"count\", \"duration_min\":\"sum\"}).reset_index()\n",
        "shrink_pv.columns = ['_'.join(col).strip() for col in shrink_pv.columns.values]\n",
        "shrink_pv[\"duration_delta (during vs before)\"] = shrink_pv[\"duration_min_during_test\"]/shrink_pv[\"duration_min_before_test\"]-1\n",
        "shrink_pv.rename(columns={'zone_group_': 'zone_group', \"action_before_test\":\"shrink_count_before_test\", \"action_during_test\":\"shrink_count_during_test\"}, inplace=True)\n",
        "shrink_pv['duration_delta (during vs before)'] = shrink_pv['duration_delta (during vs before)'].astype(float).map(lambda n: '{:.2%}'.format(n))\n",
        "shrink_pv.drop(['duration_min_before_test',\"duration_min_during_test\"], axis=1, inplace=True)\n",
        "shrink_pv"
      ],
      "execution_count": null,
      "outputs": [
        {
          "output_type": "execute_result",
          "data": {
            "text/html": [
              "<div>\n",
              "<style scoped>\n",
              "    .dataframe tbody tr th:only-of-type {\n",
              "        vertical-align: middle;\n",
              "    }\n",
              "\n",
              "    .dataframe tbody tr th {\n",
              "        vertical-align: top;\n",
              "    }\n",
              "\n",
              "    .dataframe thead th {\n",
              "        text-align: right;\n",
              "    }\n",
              "</style>\n",
              "<table border=\"1\" class=\"dataframe\">\n",
              "  <thead>\n",
              "    <tr style=\"text-align: right;\">\n",
              "      <th></th>\n",
              "      <th>zone_group</th>\n",
              "      <th>shrink_count_before_test</th>\n",
              "      <th>shrink_count_during_test</th>\n",
              "      <th>duration_delta (during vs before)</th>\n",
              "    </tr>\n",
              "  </thead>\n",
              "  <tbody>\n",
              "    <tr>\n",
              "      <th>0</th>\n",
              "      <td>Far_east</td>\n",
              "      <td>1282</td>\n",
              "      <td>510</td>\n",
              "      <td>-32.37%</td>\n",
              "    </tr>\n",
              "    <tr>\n",
              "      <th>1</th>\n",
              "      <td>other_zones</td>\n",
              "      <td>13148</td>\n",
              "      <td>15424</td>\n",
              "      <td>9.28%</td>\n",
              "    </tr>\n",
              "  </tbody>\n",
              "</table>\n",
              "</div>"
            ],
            "text/plain": [
              "    zone_group  ...  duration_delta (during vs before)\n",
              "0     Far_east  ...                            -32.37%\n",
              "1  other_zones  ...                              9.28%\n",
              "\n",
              "[2 rows x 4 columns]"
            ]
          },
          "metadata": {
            "tags": []
          },
          "execution_count": 34
        }
      ]
    },
    {
      "cell_type": "code",
      "metadata": {
        "id": "MiRH2mZXYZWh"
      },
      "source": [
        "# define time interval\n",
        "pp[\"new_time\"] = ceil_dt((pp['local_time'].dt.to_pydatetime()), timedelta(minutes=30))\n",
        "pp[\"new_time\"] = pp['new_time'].dt.time\n",
        "#pp.loc[pp.new_time <= time(hour=8, minute=0, second=0), 'new_time'] = time(hour=8, minute=0, second=0)\n",
        "\n",
        "# define pre-post & variant\n",
        "pp[\"period_variant\"] = pp[\"variant\"]\n",
        "pp.loc[pp.local_date < date(year=2020, month=9, day=4) , 'period_variant'] = \"before_test\"\n",
        "pp.loc[(pp.variant == \"Control\") & (pp.local_date >= date(year=2020, month=9, day=4)) , 'period_variant'] = \"during_test_control\"\n",
        "pp.loc[(pp.variant == \"Variation1\") & (pp.local_date >= date(year=2020, month=9, day=4)) , 'period_variant'] = \"during_test_variation\"\n",
        "\n",
        "# define period\n",
        "pp[\"period\"] = pp[\"local_date\"]\n",
        "pp.loc[pp.local_date < date(year=2020, month=9, day=4) , 'period'] = \"before_test\"\n",
        "pp.loc[pp.local_date >= date(year=2020, month=9, day=4), 'period'] = \"during_test\"\n",
        "\n",
        "# define zone group\n",
        "pp[\"zone_group\"] = pp[\"zone_name\"] \n",
        "pp.loc[pp.zone_name == \"Far_east\", 'zone_group'] = \"Far_east\"\n",
        "pp.loc[pp.zone_name == \"Bedok\", 'zone_group'] = \"Bedok\"\n",
        "pp.loc[(pp.zone_name != \"Bedok\") & (pp.zone_name != \"Far_east\") , 'zone_group'] = \"other_zones\"\n",
        "\n",
        "pp[\"tt\"] = pp[\"travel_time\"].round(1)"
      ],
      "execution_count": null,
      "outputs": []
    }
  ]
}