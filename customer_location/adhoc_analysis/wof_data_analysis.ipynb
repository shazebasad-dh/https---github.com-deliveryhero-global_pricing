{
 "cells": [
  {
   "cell_type": "markdown",
   "metadata": {},
   "source": [
    "### Import packages"
   ]
  },
  {
   "cell_type": "code",
   "execution_count": 9,
   "metadata": {},
   "outputs": [],
   "source": [
    "from google.cloud import bigquery, bigquery_storage\n",
    "import pandas as pd\n",
    "import geopandas as gpd\n",
    "import warnings\n",
    "warnings.filterwarnings('ignore')"
   ]
  },
  {
   "cell_type": "markdown",
   "metadata": {},
   "source": [
    "### Instantiate a BQ client"
   ]
  },
  {
   "cell_type": "code",
   "execution_count": 10,
   "metadata": {},
   "outputs": [],
   "source": [
    "bqclient = bigquery.Client(project=\"logistics-customer-staging\")\n",
    "bqstorage_client = bigquery_storage.BigQueryReadClient()"
   ]
  },
  {
   "cell_type": "markdown",
   "metadata": {},
   "source": [
    "### Pull the WoF data"
   ]
  },
  {
   "cell_type": "code",
   "execution_count": 11,
   "metadata": {},
   "outputs": [],
   "source": [
    "wof_data_query = \"\"\"\n",
    "    SELECT\n",
    "        geometry,\n",
    "        wof_country_code,\n",
    "        wof_name,\n",
    "        wof_placetype_eng\n",
    "    FROM `logistics-data-storage-staging.long_term_pricing.wof_data_per_bad_gadm_data_market`\n",
    "\"\"\"\n",
    "\n",
    "df_wof = pd.DataFrame(bqclient.query(query=wof_data_query).result().to_dataframe(bqstorage_client=bqstorage_client, progress_bar_type='tqdm'))"
   ]
  },
  {
   "cell_type": "markdown",
   "metadata": {},
   "source": [
    "### Create sub-dataframes that contain only the data for the respective place types"
   ]
  },
  {
   "cell_type": "code",
   "execution_count": 12,
   "metadata": {},
   "outputs": [],
   "source": [
    "df_wof_locality = df_wof[df_wof['wof_placetype_eng'] == 'locality'].reset_index(drop=True)\n",
    "df_wof_neighbourhood = df_wof[df_wof['wof_placetype_eng'] == 'neighbourhood'].reset_index(drop=True)\n",
    "df_wof_county = df_wof[df_wof['wof_placetype_eng'] == 'county'].reset_index(drop=True)"
   ]
  },
  {
   "cell_type": "markdown",
   "metadata": {},
   "source": [
    "### Create a function that prepares the dataframes by cross joining the locality dataframe with the neighbourhood/county dataframe"
   ]
  },
  {
   "cell_type": "code",
   "execution_count": 14,
   "metadata": {},
   "outputs": [],
   "source": [
    "def dataset_prep(country_code):\n",
    "    \"\"\"\n",
    "    A function that prepares the dataframes by cross joining the locality dataframe with the neighbourhood/county dataframe\n",
    "    \"\"\"\n",
    "    # Filter the dataframes for the respective country\n",
    "    df_wof_locality_func = df_wof_locality[df_wof_locality['wof_country_code'] == country_code]\n",
    "    df_wof_neighbourhood_func = df_wof_neighbourhood[df_wof_neighbourhood['wof_country_code'] == country_code]\n",
    "    df_wof_county_func = df_wof_county[df_wof_county['wof_country_code'] == country_code]\n",
    "\n",
    "    # Merge the locality dataframe with the neighbourhood dataframe\n",
    "    df_wof_locality_neighbourhood = pd.merge(\n",
    "        left=df_wof_locality_func,\n",
    "        right=df_wof_neighbourhood_func,\n",
    "        how='cross',\n",
    "        suffixes=('_locality', '_neighbourhood')\n",
    "    )\n",
    "\n",
    "    # Merge the locality dataframe with the neighbourhood dataframe\n",
    "    df_wof_locality_county = pd.merge(\n",
    "        left=df_wof_locality_func,\n",
    "        right=df_wof_county_func,\n",
    "        how='cross',\n",
    "        suffixes=('_locality', '_county')\n",
    "    )\n",
    "\n",
    "    # Change the geometry columns to geopandas geometry columns\n",
    "    if not df_wof_locality_neighbourhood.empty:\n",
    "        df_wof_locality_neighbourhood['geometry_locality'] = gpd.GeoSeries.from_wkt(df_wof_locality_neighbourhood['geometry_locality'])\n",
    "        df_wof_locality_neighbourhood['geometry_neighbourhood'] = gpd.GeoSeries.from_wkt(df_wof_locality_neighbourhood['geometry_neighbourhood'])\n",
    "    else:\n",
    "        print(f\"Skipping df_wof_locality_neighbourhood for {country_code}\")\n",
    "    \n",
    "    if not df_wof_locality_county.empty:\n",
    "        df_wof_locality_county['geometry_locality'] = gpd.GeoSeries.from_wkt(df_wof_locality_county['geometry_locality'])\n",
    "        df_wof_locality_county['geometry_county'] = gpd.GeoSeries.from_wkt(df_wof_locality_county['geometry_county'])\n",
    "        print(f\"Skipping df_wof_locality_county for {country_code}\")\n",
    "\n",
    "    return df_wof_locality_neighbourhood, df_wof_locality_county"
   ]
  },
  {
   "cell_type": "markdown",
   "metadata": {},
   "source": [
    "### Loop through all countries and prepare the dataframes"
   ]
  },
  {
   "cell_type": "code",
   "execution_count": 15,
   "metadata": {},
   "outputs": [
    {
     "name": "stdout",
     "output_type": "stream",
     "text": [
      "Prepping the data for country code: BH\n",
      "Skipping df_wof_locality_neighbourhood for BH\n",
      "Prepping the data for country code: CZ\n",
      "Prepping the data for country code: HK\n",
      "Skipping df_wof_locality_neighbourhood for HK\n",
      "Prepping the data for country code: KW\n",
      "Skipping df_wof_locality_neighbourhood for KW\n",
      "Prepping the data for country code: MY\n",
      "Skipping df_wof_locality_county for MY\n",
      "Prepping the data for country code: QA\n",
      "Skipping df_wof_locality_county for QA\n",
      "Prepping the data for country code: SG\n",
      "Skipping df_wof_locality_neighbourhood for SG\n",
      "Prepping the data for country code: TW\n",
      "Skipping df_wof_locality_county for TW\n"
     ]
    }
   ],
   "source": [
    "df_wof_locality_neighbourhood = []\n",
    "df_wof_locality_county = []\n",
    "for ctry in df_wof[\"wof_country_code\"].unique():\n",
    "    print(\"Prepping the data for country code: \" + ctry)\n",
    "    df_wof_locality_neighbourhood_iter, df_wof_locality_county_iter = dataset_prep(country_code=ctry)\n",
    "    df_wof_locality_neighbourhood.append(df_wof_locality_neighbourhood_iter)\n",
    "    df_wof_locality_county.append(df_wof_locality_county_iter)\n",
    "\n",
    "# Concatenate the dataframes\n",
    "df_wof_locality_neighbourhood = pd.concat(df_wof_locality_neighbourhood).reset_index(drop=True)\n",
    "df_wof_locality_county = pd.concat(df_wof_locality_county).reset_index(drop=True)"
   ]
  },
  {
   "cell_type": "markdown",
   "metadata": {},
   "source": [
    "### Add the is_intersects column to both dataframes to check whether the `neighbourhood/county` granularities intersects with the `locality` granularity. If they intersect, then we need to choose only one of them per country"
   ]
  },
  {
   "cell_type": "code",
   "execution_count": 17,
   "metadata": {},
   "outputs": [],
   "source": [
    "df_wof_locality_neighbourhood[\"is_intersects\"] = df_wof_locality_neighbourhood.apply(lambda x: x['geometry_locality'].intersects(x['geometry_neighbourhood']), axis=1)\n",
    "df_wof_locality_county[\"is_intersects\"] = df_wof_locality_county.apply(lambda x: x['geometry_locality'].intersects(x['geometry_county']), axis=1)"
   ]
  },
  {
   "cell_type": "code",
   "execution_count": 27,
   "metadata": {},
   "outputs": [
    {
     "name": "stdout",
     "output_type": "stream",
     "text": [
      "The number of intersections between locality and neighbourhood:\n",
      "wof_country_code_locality  is_intersects\n",
      "CZ                         False            154498\n",
      "                           True                181\n",
      "MY                         False             46419\n",
      "                           True                131\n",
      "QA                         True                 54\n",
      "TW                         False             69772\n",
      "                           True                872\n",
      "Name: count, dtype: int64\n",
      "\n",
      "\n",
      "The number of intersections between locality and county:\n",
      "wof_country_code_locality  is_intersects\n",
      "MY                         False            70265\n",
      "                           True               785\n",
      "QA                         False               22\n",
      "                           True                66\n",
      "TW                         False              551\n",
      "                           True                37\n",
      "Name: count, dtype: int64\n"
     ]
    }
   ],
   "source": [
    "print(\"The number of intersections between locality and neighbourhood:\")\n",
    "print(df_wof_locality_neighbourhood[[\"wof_country_code_locality\", \"is_intersects\"]].value_counts().sort_index())\n",
    "print(\"\\n\")\n",
    "print(\"The number of intersections between locality and county:\")\n",
    "print(df_wof_locality_county[[\"wof_country_code_locality\", \"is_intersects\"]].value_counts().sort_index())"
   ]
  }
 ],
 "metadata": {
  "kernelspec": {
   "display_name": "venv_dh",
   "language": "python",
   "name": "python3"
  },
  "language_info": {
   "codemirror_mode": {
    "name": "ipython",
    "version": 3
   },
   "file_extension": ".py",
   "mimetype": "text/x-python",
   "name": "python",
   "nbconvert_exporter": "python",
   "pygments_lexer": "ipython3",
   "version": "3.10.7"
  }
 },
 "nbformat": 4,
 "nbformat_minor": 2
}
