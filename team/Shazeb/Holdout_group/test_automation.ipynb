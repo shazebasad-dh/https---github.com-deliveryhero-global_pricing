{
 "cells": [
  {
   "cell_type": "code",
   "execution_count": 7,
   "metadata": {},
   "outputs": [
    {
     "ename": "FileNotFoundError",
     "evalue": "Credentials file not found at /tmp/credentials.json",
     "output_type": "error",
     "traceback": [
      "\u001b[0;31m---------------------------------------------------------------------------\u001b[0m",
      "\u001b[0;31mFileNotFoundError\u001b[0m                         Traceback (most recent call last)",
      "Cell \u001b[0;32mIn[7], line 44\u001b[0m\n\u001b[1;32m     42\u001b[0m         credentials\u001b[38;5;241m.\u001b[39mrefresh(Request())\n\u001b[1;32m     43\u001b[0m \u001b[38;5;28;01melse\u001b[39;00m:\n\u001b[0;32m---> 44\u001b[0m     \u001b[38;5;28;01mraise\u001b[39;00m \u001b[38;5;167;01mFileNotFoundError\u001b[39;00m(\u001b[38;5;124mf\u001b[39m\u001b[38;5;124m\"\u001b[39m\u001b[38;5;124mCredentials file not found at \u001b[39m\u001b[38;5;132;01m{\u001b[39;00mcredentials_path\u001b[38;5;132;01m}\u001b[39;00m\u001b[38;5;124m\"\u001b[39m)\n\u001b[1;32m     46\u001b[0m \u001b[38;5;66;03m# Now initialize the BigQuery client with the credentials and project_id\u001b[39;00m\n\u001b[1;32m     47\u001b[0m \u001b[38;5;28;01mtry\u001b[39;00m:\n",
      "\u001b[0;31mFileNotFoundError\u001b[0m: Credentials file not found at /tmp/credentials.json"
     ]
    }
   ],
   "source": [
    "import logging\n",
    "from google.auth import credentials\n",
    "from google.auth.transport.requests import Request\n",
    "from google.cloud import bigquery\n",
    "import json\n",
    "import os\n",
    "import numpy as np\n",
    "import pandas as pd\n",
    "from google.cloud import bigquery\n",
    "import matplotlib.pyplot as plt\n",
    "import seaborn as sns\n",
    "from scipy import stats\n",
    "from scipy.stats import ttest_ind\n",
    "import plotly.express as px\n",
    "import db_dtypes\n",
    "import bigframes.pandas as bpd\n",
    "from IPython.display import display, HTML\n",
    "import math\n",
    "import statsmodels.api as sm\n",
    "from typing import Union\n",
    "import logging\n",
    "import time\n",
    "\n",
    "# Define your Google Cloud project ID (this can also come from your GitHub secrets)\n",
    "project_id = \"logistics-data-storage-staging\"  # Replace with your actual project ID or use a secret for the project_id\n",
    "logging.info(f\"Initializing BigQuery client for project: {project_id}\")\n",
    "\n",
    "# Load the credentials from the file created in the GitHub Action workflow\n",
    "credentials_path = '/tmp/credentials.json'\n",
    "\n",
    "# Check if the credentials file exists\n",
    "if os.path.exists(credentials_path):\n",
    "    # Load credentials from the file\n",
    "    with open(credentials_path, 'r') as f:\n",
    "        creds_data = json.load(f)\n",
    "    \n",
    "    # Rebuild credentials object using the loaded data\n",
    "    credentials = credentials.Credentials.from_authorized_user_info(creds_data)\n",
    "    \n",
    "    # Refresh credentials if necessary\n",
    "    if credentials.expired and credentials.refresh_token:\n",
    "        credentials.refresh(Request())\n",
    "else:\n",
    "    raise FileNotFoundError(f\"Credentials file not found at {credentials_path}\")\n",
    "\n",
    "# Now initialize the BigQuery client with the credentials and project_id\n",
    "try:\n",
    "    client = bigquery.Client(credentials=credentials, project=project_id)\n",
    "    logging.info(f\"BigQuery client initialized successfully for project: {project_id}\")\n",
    "except Exception as e:\n",
    "    logging.error(f\"Failed to initialize BigQuery client: {e}\")\n",
    "    raise e\n",
    "\n",
    "# Define the query\n",
    "test_query = \"\"\"\n",
    "Select *\n",
    "FROM `logistics-data-storage-staging.long_term_pricing.abc_performance` \n",
    "\"\"\"\n",
    "\n",
    "# Run the query and store the result in a DataFrame\n",
    "test_df = client.query(test_query).to_dataframe()\n",
    "\n",
    "# Display the result\n",
    "print(test_df)"
   ]
  },
  {
   "cell_type": "code",
   "execution_count": null,
   "metadata": {},
   "outputs": [],
   "source": []
  }
 ],
 "metadata": {
  "kernelspec": {
   "display_name": ".venv",
   "language": "python",
   "name": "python3"
  },
  "language_info": {
   "codemirror_mode": {
    "name": "ipython",
    "version": 3
   },
   "file_extension": ".py",
   "mimetype": "text/x-python",
   "name": "python",
   "nbconvert_exporter": "python",
   "pygments_lexer": "ipython3",
   "version": "3.12.4"
  }
 },
 "nbformat": 4,
 "nbformat_minor": 2
}
