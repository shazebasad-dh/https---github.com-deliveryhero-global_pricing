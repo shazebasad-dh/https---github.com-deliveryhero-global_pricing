{
 "cells": [
  {
   "cell_type": "code",
   "execution_count": 2,
   "metadata": {},
   "outputs": [
    {
     "name": "stderr",
     "output_type": "stream",
     "text": [
      "/Users/shazeb.asad/global_pricing/.venv/lib/python3.12/site-packages/google/auth/_default.py:76: UserWarning: Your application has authenticated using end user credentials from Google Cloud SDK without a quota project. You might receive a \"quota exceeded\" or \"API not enabled\" error. See the following page for troubleshooting: https://cloud.google.com/docs/authentication/adc-troubleshooting/user-creds. \n",
      "  warnings.warn(_CLOUD_SDK_CREDENTIALS_WARNING)\n",
      "WARNING:google.auth._default:No project ID could be determined. Consider running `gcloud config set project` or setting the GOOGLE_CLOUD_PROJECT environment variable\n"
     ]
    }
   ],
   "source": [
    "import numpy as np\n",
    "import pandas as pd\n",
    "from google.cloud import bigquery\n",
    "import matplotlib.pyplot as plt\n",
    "import seaborn as sns\n",
    "from scipy import stats\n",
    "import plotly.express as px\n",
    "import db_dtypes\n",
    "import bigframes.pandas as bpd\n",
    "from IPython.display import display, HTML\n",
    "import plotly.express as px\n",
    "import seaborn as sns\n",
    "import matplotlib.pyplot as plt\n",
    "import math\n",
    "import statsmodels.api as sm\n",
    "from datetime import datetime\n",
    "from typing import Union\n",
    "import logging\n",
    "import sys\n",
    "import io\n",
    "from sklearn.preprocessing import StandardScaler\n",
    "from sklearn.cluster import KMeans\n",
    "\n",
    "test_data = \"\"\"\n",
    "\n",
    "SELECT dto.test_id\n",
    "       ,dto.entity_id\n",
    "       ,dto.created_date\n",
    "       ,order_day\n",
    "       ,order_hour\n",
    "       ,vendor_id\n",
    "       ,vendor_vertical_parent\n",
    "       ,platform_order_code\n",
    "       ,is_sent\n",
    "       ,is_own_delivery\n",
    "       ,is_pickup\n",
    "       ,customer_id\n",
    "       ,dps_session_id\n",
    "       ,test_variant\n",
    "       ,is_in_treatment\n",
    "       ,dps_basket_value_local\n",
    "       ,dps_basket_value_eur\n",
    "       ,gmv_local\n",
    "       ,gmv_eur\n",
    "       ,gfv_local\n",
    "       ,gfv_eur\n",
    "       ,discount_dh_local\n",
    "       ,discount_dh_eur\n",
    "       ,voucher_dh_local\n",
    "       ,voucher_dh_eur\n",
    "       ,revenue_local\n",
    "       ,revenue_eur\n",
    "       ,profit_local\n",
    "       ,profit_eur\n",
    "       ,delivery_costs_local\n",
    "       ,delivery_costs_eur\n",
    "       ,fully_loaded_gross_profit_local\n",
    "       ,fully_loaded_gross_profit_eur\n",
    "FROM `fulfillment-dwh-production.cl.dps_test_orders` dto\n",
    "WHERE dto.test_id = 451\n",
    "  AND dto.entity_id = 'HS_SA'\n",
    "  AND is_sent\n",
    "\n",
    "\n",
    "\"\"\"\n",
    "\n",
    "project_id = \"logistics-customer-staging\"\n",
    "\n",
    "try:\n",
    "    logging.info(f\"Initializing BigQuery client for project: {project_id}\")\n",
    "    client = bigquery.Client(project=project_id)\n",
    "except Exception as e:\n",
    "    logging.error(f\"Failed to initialize BigQuery client: {e}\")\n",
    "    sys.exit(1)\n"
   ]
  },
  {
   "cell_type": "code",
   "execution_count": 6,
   "metadata": {},
   "outputs": [],
   "source": [
    "test_df = client.query(test_data).to_dataframe()"
   ]
  },
  {
   "cell_type": "code",
   "execution_count": 12,
   "metadata": {},
   "outputs": [
    {
     "data": {
      "text/plain": [
       "test_variant\n",
       "Control       120098.020000000\n",
       "Variation1    117280.860000000\n",
       "Name: voucher_dh_eur, dtype: object"
      ]
     },
     "execution_count": 12,
     "metadata": {},
     "output_type": "execute_result"
    }
   ],
   "source": [
    "test_df.groupby('test_variant')['voucher_dh_eur'].sum()"
   ]
  },
  {
   "cell_type": "code",
   "execution_count": null,
   "metadata": {},
   "outputs": [],
   "source": []
  }
 ],
 "metadata": {
  "kernelspec": {
   "display_name": ".venv",
   "language": "python",
   "name": "python3"
  },
  "language_info": {
   "codemirror_mode": {
    "name": "ipython",
    "version": 3
   },
   "file_extension": ".py",
   "mimetype": "text/x-python",
   "name": "python",
   "nbconvert_exporter": "python",
   "pygments_lexer": "ipython3",
   "version": "3.12.4"
  }
 },
 "nbformat": 4,
 "nbformat_minor": 2
}
