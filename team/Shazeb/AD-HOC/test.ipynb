{
 "cells": [
  {
   "cell_type": "code",
   "execution_count": 3,
   "metadata": {},
   "outputs": [
    {
     "name": "stderr",
     "output_type": "stream",
     "text": [
      "/Users/shazeb.asad/global_pricing/venv_bayesian/lib/python3.13/site-packages/google/auth/_default.py:76: UserWarning: Your application has authenticated using end user credentials from Google Cloud SDK without a quota project. You might receive a \"quota exceeded\" or \"API not enabled\" error. See the following page for troubleshooting: https://cloud.google.com/docs/authentication/adc-troubleshooting/user-creds. \n",
      "  warnings.warn(_CLOUD_SDK_CREDENTIALS_WARNING)\n"
     ]
    },
    {
     "ename": "Forbidden",
     "evalue": "403 POST https://bigquery.googleapis.com/upload/bigquery/v2/projects/logistics-data-storage-staging/jobs?uploadType=multipart: Access Denied: Project logistics-data-storage-staging: User does not have bigquery.jobs.create permission in project logistics-data-storage-staging.",
     "output_type": "error",
     "traceback": [
      "\u001b[31m---------------------------------------------------------------------------\u001b[39m",
      "\u001b[31mInvalidResponse\u001b[39m                           Traceback (most recent call last)",
      "\u001b[36mFile \u001b[39m\u001b[32m~/global_pricing/venv_bayesian/lib/python3.13/site-packages/google/cloud/bigquery/client.py:2603\u001b[39m, in \u001b[36mClient.load_table_from_file\u001b[39m\u001b[34m(self, file_obj, destination, rewind, size, num_retries, job_id, job_id_prefix, location, project, job_config, timeout)\u001b[39m\n\u001b[32m   2602\u001b[39m     \u001b[38;5;28;01melse\u001b[39;00m:\n\u001b[32m-> \u001b[39m\u001b[32m2603\u001b[39m         response = \u001b[38;5;28;43mself\u001b[39;49m\u001b[43m.\u001b[49m\u001b[43m_do_multipart_upload\u001b[49m\u001b[43m(\u001b[49m\n\u001b[32m   2604\u001b[39m \u001b[43m            \u001b[49m\u001b[43mfile_obj\u001b[49m\u001b[43m,\u001b[49m\u001b[43m \u001b[49m\u001b[43mjob_resource\u001b[49m\u001b[43m,\u001b[49m\u001b[43m \u001b[49m\u001b[43msize\u001b[49m\u001b[43m,\u001b[49m\u001b[43m \u001b[49m\u001b[43mnum_retries\u001b[49m\u001b[43m,\u001b[49m\u001b[43m \u001b[49m\u001b[43mtimeout\u001b[49m\u001b[43m,\u001b[49m\u001b[43m \u001b[49m\u001b[43mproject\u001b[49m\u001b[43m=\u001b[49m\u001b[43mproject\u001b[49m\n\u001b[32m   2605\u001b[39m \u001b[43m        \u001b[49m\u001b[43m)\u001b[49m\n\u001b[32m   2606\u001b[39m \u001b[38;5;28;01mexcept\u001b[39;00m resumable_media.InvalidResponse \u001b[38;5;28;01mas\u001b[39;00m exc:\n",
      "\u001b[36mFile \u001b[39m\u001b[32m~/global_pricing/venv_bayesian/lib/python3.13/site-packages/google/cloud/bigquery/client.py:3167\u001b[39m, in \u001b[36mClient._do_multipart_upload\u001b[39m\u001b[34m(self, stream, metadata, size, num_retries, timeout, project)\u001b[39m\n\u001b[32m   3163\u001b[39m     upload._retry_strategy = resumable_media.RetryStrategy(\n\u001b[32m   3164\u001b[39m         max_retries=num_retries\n\u001b[32m   3165\u001b[39m     )\n\u001b[32m-> \u001b[39m\u001b[32m3167\u001b[39m response = \u001b[43mupload\u001b[49m\u001b[43m.\u001b[49m\u001b[43mtransmit\u001b[49m\u001b[43m(\u001b[49m\n\u001b[32m   3168\u001b[39m \u001b[43m    \u001b[49m\u001b[38;5;28;43mself\u001b[39;49m\u001b[43m.\u001b[49m\u001b[43m_http\u001b[49m\u001b[43m,\u001b[49m\u001b[43m \u001b[49m\u001b[43mdata\u001b[49m\u001b[43m,\u001b[49m\u001b[43m \u001b[49m\u001b[43mmetadata\u001b[49m\u001b[43m,\u001b[49m\u001b[43m \u001b[49m\u001b[43m_GENERIC_CONTENT_TYPE\u001b[49m\u001b[43m,\u001b[49m\u001b[43m \u001b[49m\u001b[43mtimeout\u001b[49m\u001b[43m=\u001b[49m\u001b[43mtimeout\u001b[49m\n\u001b[32m   3169\u001b[39m \u001b[43m\u001b[49m\u001b[43m)\u001b[49m\n\u001b[32m   3171\u001b[39m \u001b[38;5;28;01mreturn\u001b[39;00m response\n",
      "\u001b[36mFile \u001b[39m\u001b[32m~/global_pricing/venv_bayesian/lib/python3.13/site-packages/google/resumable_media/requests/upload.py:153\u001b[39m, in \u001b[36mMultipartUpload.transmit\u001b[39m\u001b[34m(self, transport, data, metadata, content_type, timeout)\u001b[39m\n\u001b[32m    151\u001b[39m     \u001b[38;5;28;01mreturn\u001b[39;00m result\n\u001b[32m--> \u001b[39m\u001b[32m153\u001b[39m \u001b[38;5;28;01mreturn\u001b[39;00m \u001b[43m_request_helpers\u001b[49m\u001b[43m.\u001b[49m\u001b[43mwait_and_retry\u001b[49m\u001b[43m(\u001b[49m\n\u001b[32m    154\u001b[39m \u001b[43m    \u001b[49m\u001b[43mretriable_request\u001b[49m\u001b[43m,\u001b[49m\u001b[43m \u001b[49m\u001b[38;5;28;43mself\u001b[39;49m\u001b[43m.\u001b[49m\u001b[43m_get_status_code\u001b[49m\u001b[43m,\u001b[49m\u001b[43m \u001b[49m\u001b[38;5;28;43mself\u001b[39;49m\u001b[43m.\u001b[49m\u001b[43m_retry_strategy\u001b[49m\n\u001b[32m    155\u001b[39m \u001b[43m\u001b[49m\u001b[43m)\u001b[49m\n",
      "\u001b[36mFile \u001b[39m\u001b[32m~/global_pricing/venv_bayesian/lib/python3.13/site-packages/google/resumable_media/requests/_request_helpers.py:155\u001b[39m, in \u001b[36mwait_and_retry\u001b[39m\u001b[34m(func, get_status_code, retry_strategy)\u001b[39m\n\u001b[32m    154\u001b[39m \u001b[38;5;28;01mtry\u001b[39;00m:\n\u001b[32m--> \u001b[39m\u001b[32m155\u001b[39m     response = \u001b[43mfunc\u001b[49m\u001b[43m(\u001b[49m\u001b[43m)\u001b[49m\n\u001b[32m    156\u001b[39m \u001b[38;5;28;01mexcept\u001b[39;00m _CONNECTION_ERROR_CLASSES \u001b[38;5;28;01mas\u001b[39;00m e:\n",
      "\u001b[36mFile \u001b[39m\u001b[32m~/global_pricing/venv_bayesian/lib/python3.13/site-packages/google/resumable_media/requests/upload.py:149\u001b[39m, in \u001b[36mMultipartUpload.transmit.<locals>.retriable_request\u001b[39m\u001b[34m()\u001b[39m\n\u001b[32m    145\u001b[39m result = transport.request(\n\u001b[32m    146\u001b[39m     method, url, data=payload, headers=headers, timeout=timeout\n\u001b[32m    147\u001b[39m )\n\u001b[32m--> \u001b[39m\u001b[32m149\u001b[39m \u001b[38;5;28;43mself\u001b[39;49m\u001b[43m.\u001b[49m\u001b[43m_process_response\u001b[49m\u001b[43m(\u001b[49m\u001b[43mresult\u001b[49m\u001b[43m)\u001b[49m\n\u001b[32m    151\u001b[39m \u001b[38;5;28;01mreturn\u001b[39;00m result\n",
      "\u001b[36mFile \u001b[39m\u001b[32m~/global_pricing/venv_bayesian/lib/python3.13/site-packages/google/resumable_media/_upload.py:125\u001b[39m, in \u001b[36mUploadBase._process_response\u001b[39m\u001b[34m(self, response)\u001b[39m\n\u001b[32m    124\u001b[39m \u001b[38;5;28mself\u001b[39m._finished = \u001b[38;5;28;01mTrue\u001b[39;00m\n\u001b[32m--> \u001b[39m\u001b[32m125\u001b[39m \u001b[43m_helpers\u001b[49m\u001b[43m.\u001b[49m\u001b[43mrequire_status_code\u001b[49m\u001b[43m(\u001b[49m\u001b[43mresponse\u001b[49m\u001b[43m,\u001b[49m\u001b[43m \u001b[49m\u001b[43m(\u001b[49m\u001b[43mhttp\u001b[49m\u001b[43m.\u001b[49m\u001b[43mclient\u001b[49m\u001b[43m.\u001b[49m\u001b[43mOK\u001b[49m\u001b[43m,\u001b[49m\u001b[43m)\u001b[49m\u001b[43m,\u001b[49m\u001b[43m \u001b[49m\u001b[38;5;28;43mself\u001b[39;49m\u001b[43m.\u001b[49m\u001b[43m_get_status_code\u001b[49m\u001b[43m)\u001b[49m\n",
      "\u001b[36mFile \u001b[39m\u001b[32m~/global_pricing/venv_bayesian/lib/python3.13/site-packages/google/resumable_media/_helpers.py:108\u001b[39m, in \u001b[36mrequire_status_code\u001b[39m\u001b[34m(response, status_codes, get_status_code, callback)\u001b[39m\n\u001b[32m    107\u001b[39m         callback()\n\u001b[32m--> \u001b[39m\u001b[32m108\u001b[39m     \u001b[38;5;28;01mraise\u001b[39;00m common.InvalidResponse(\n\u001b[32m    109\u001b[39m         response,\n\u001b[32m    110\u001b[39m         \u001b[33m\"\u001b[39m\u001b[33mRequest failed with status code\u001b[39m\u001b[33m\"\u001b[39m,\n\u001b[32m    111\u001b[39m         status_code,\n\u001b[32m    112\u001b[39m         \u001b[33m\"\u001b[39m\u001b[33mExpected one of\u001b[39m\u001b[33m\"\u001b[39m,\n\u001b[32m    113\u001b[39m         *status_codes\n\u001b[32m    114\u001b[39m     )\n\u001b[32m    115\u001b[39m \u001b[38;5;28;01mreturn\u001b[39;00m status_code\n",
      "\u001b[31mInvalidResponse\u001b[39m: ('Request failed with status code', 403, 'Expected one of', <HTTPStatus.OK: 200>)",
      "\nDuring handling of the above exception, another exception occurred:\n",
      "\u001b[31mForbidden\u001b[39m                                 Traceback (most recent call last)",
      "\u001b[36mCell\u001b[39m\u001b[36m \u001b[39m\u001b[32mIn[3]\u001b[39m\u001b[32m, line 9\u001b[39m\n\u001b[32m      6\u001b[39m table_id = \u001b[33m'\u001b[39m\u001b[33mlogistics-data-storage-staging.shazeb.test\u001b[39m\u001b[33m'\u001b[39m\n\u001b[32m      8\u001b[39m job_config = bigquery.LoadJobConfig(write_disposition=\u001b[33m\"\u001b[39m\u001b[33mWRITE_TRUNCATE\u001b[39m\u001b[33m\"\u001b[39m)  \u001b[38;5;66;03m# overwrites table\u001b[39;00m\n\u001b[32m----> \u001b[39m\u001b[32m9\u001b[39m job = \u001b[43mclient\u001b[49m\u001b[43m.\u001b[49m\u001b[43mload_table_from_dataframe\u001b[49m\u001b[43m(\u001b[49m\u001b[43mdf\u001b[49m\u001b[43m,\u001b[49m\u001b[43m \u001b[49m\u001b[43mtable_id\u001b[49m\u001b[43m,\u001b[49m\u001b[43m \u001b[49m\u001b[43mjob_config\u001b[49m\u001b[43m=\u001b[49m\u001b[43mjob_config\u001b[49m\u001b[43m)\u001b[49m\n\u001b[32m     10\u001b[39m job.result()\n",
      "\u001b[36mFile \u001b[39m\u001b[32m~/global_pricing/venv_bayesian/lib/python3.13/site-packages/google/cloud/bigquery/client.py:2843\u001b[39m, in \u001b[36mClient.load_table_from_dataframe\u001b[39m\u001b[34m(self, dataframe, destination, num_retries, job_id, job_id_prefix, location, project, job_config, parquet_compression, timeout)\u001b[39m\n\u001b[32m   2841\u001b[39m     \u001b[38;5;28;01mwith\u001b[39;00m \u001b[38;5;28mopen\u001b[39m(tmppath, \u001b[33m\"\u001b[39m\u001b[33mrb\u001b[39m\u001b[33m\"\u001b[39m) \u001b[38;5;28;01mas\u001b[39;00m tmpfile:\n\u001b[32m   2842\u001b[39m         file_size = os.path.getsize(tmppath)\n\u001b[32m-> \u001b[39m\u001b[32m2843\u001b[39m         \u001b[38;5;28;01mreturn\u001b[39;00m \u001b[38;5;28;43mself\u001b[39;49m\u001b[43m.\u001b[49m\u001b[43mload_table_from_file\u001b[49m\u001b[43m(\u001b[49m\n\u001b[32m   2844\u001b[39m \u001b[43m            \u001b[49m\u001b[43mtmpfile\u001b[49m\u001b[43m,\u001b[49m\n\u001b[32m   2845\u001b[39m \u001b[43m            \u001b[49m\u001b[43mdestination\u001b[49m\u001b[43m,\u001b[49m\n\u001b[32m   2846\u001b[39m \u001b[43m            \u001b[49m\u001b[43mnum_retries\u001b[49m\u001b[43m=\u001b[49m\u001b[43mnum_retries\u001b[49m\u001b[43m,\u001b[49m\n\u001b[32m   2847\u001b[39m \u001b[43m            \u001b[49m\u001b[43mrewind\u001b[49m\u001b[43m=\u001b[49m\u001b[38;5;28;43;01mTrue\u001b[39;49;00m\u001b[43m,\u001b[49m\n\u001b[32m   2848\u001b[39m \u001b[43m            \u001b[49m\u001b[43msize\u001b[49m\u001b[43m=\u001b[49m\u001b[43mfile_size\u001b[49m\u001b[43m,\u001b[49m\n\u001b[32m   2849\u001b[39m \u001b[43m            \u001b[49m\u001b[43mjob_id\u001b[49m\u001b[43m=\u001b[49m\u001b[43mjob_id\u001b[49m\u001b[43m,\u001b[49m\n\u001b[32m   2850\u001b[39m \u001b[43m            \u001b[49m\u001b[43mjob_id_prefix\u001b[49m\u001b[43m=\u001b[49m\u001b[43mjob_id_prefix\u001b[49m\u001b[43m,\u001b[49m\n\u001b[32m   2851\u001b[39m \u001b[43m            \u001b[49m\u001b[43mlocation\u001b[49m\u001b[43m=\u001b[49m\u001b[43mlocation\u001b[49m\u001b[43m,\u001b[49m\n\u001b[32m   2852\u001b[39m \u001b[43m            \u001b[49m\u001b[43mproject\u001b[49m\u001b[43m=\u001b[49m\u001b[43mproject\u001b[49m\u001b[43m,\u001b[49m\n\u001b[32m   2853\u001b[39m \u001b[43m            \u001b[49m\u001b[43mjob_config\u001b[49m\u001b[43m=\u001b[49m\u001b[43mnew_job_config\u001b[49m\u001b[43m,\u001b[49m\n\u001b[32m   2854\u001b[39m \u001b[43m            \u001b[49m\u001b[43mtimeout\u001b[49m\u001b[43m=\u001b[49m\u001b[43mtimeout\u001b[49m\u001b[43m,\u001b[49m\n\u001b[32m   2855\u001b[39m \u001b[43m        \u001b[49m\u001b[43m)\u001b[49m\n\u001b[32m   2857\u001b[39m \u001b[38;5;28;01mfinally\u001b[39;00m:\n\u001b[32m   2858\u001b[39m     os.remove(tmppath)\n",
      "\u001b[36mFile \u001b[39m\u001b[32m~/global_pricing/venv_bayesian/lib/python3.13/site-packages/google/cloud/bigquery/client.py:2607\u001b[39m, in \u001b[36mClient.load_table_from_file\u001b[39m\u001b[34m(self, file_obj, destination, rewind, size, num_retries, job_id, job_id_prefix, location, project, job_config, timeout)\u001b[39m\n\u001b[32m   2603\u001b[39m         response = \u001b[38;5;28mself\u001b[39m._do_multipart_upload(\n\u001b[32m   2604\u001b[39m             file_obj, job_resource, size, num_retries, timeout, project=project\n\u001b[32m   2605\u001b[39m         )\n\u001b[32m   2606\u001b[39m \u001b[38;5;28;01mexcept\u001b[39;00m resumable_media.InvalidResponse \u001b[38;5;28;01mas\u001b[39;00m exc:\n\u001b[32m-> \u001b[39m\u001b[32m2607\u001b[39m     \u001b[38;5;28;01mraise\u001b[39;00m exceptions.from_http_response(exc.response)\n\u001b[32m   2609\u001b[39m \u001b[38;5;28;01mreturn\u001b[39;00m typing.cast(LoadJob, \u001b[38;5;28mself\u001b[39m.job_from_resource(response.json()))\n",
      "\u001b[31mForbidden\u001b[39m: 403 POST https://bigquery.googleapis.com/upload/bigquery/v2/projects/logistics-data-storage-staging/jobs?uploadType=multipart: Access Denied: Project logistics-data-storage-staging: User does not have bigquery.jobs.create permission in project logistics-data-storage-staging."
     ]
    }
   ],
   "source": [
    "from google.cloud import bigquery\n",
    "import pandas as pd\n",
    "\n",
    "client = bigquery.Client(project=\"logistics-data-storage-staging\")\n",
    "df = pd.DataFrame({'name': ['Alice', 'Bob'], 'age': [30, 25]})\n",
    "table_id = 'logistics-data-storage-staging.shazeb.test'\n",
    "\n",
    "job_config = bigquery.LoadJobConfig(write_disposition=\"WRITE_TRUNCATE\")  # overwrites table\n",
    "job = client.load_table_from_dataframe(df, table_id, job_config=job_config)\n",
    "job.result()"
   ]
  },
  {
   "cell_type": "code",
   "execution_count": 4,
   "metadata": {},
   "outputs": [
    {
     "ename": "SyntaxError",
     "evalue": "invalid syntax (1433268753.py, line 1)",
     "output_type": "error",
     "traceback": [
      "  \u001b[36mCell\u001b[39m\u001b[36m \u001b[39m\u001b[32mIn[4]\u001b[39m\u001b[32m, line 1\u001b[39m\n\u001b[31m    \u001b[39m\u001b[31mgcloud projects get-iam-policy logistics-data-storage-staging\u001b[39m\n           ^\n\u001b[31mSyntaxError\u001b[39m\u001b[31m:\u001b[39m invalid syntax\n"
     ]
    }
   ],
   "source": [
    "gcloud projects get-iam-policy logistics-data-storage-staging\n"
   ]
  },
  {
   "cell_type": "code",
   "execution_count": null,
   "metadata": {},
   "outputs": [],
   "source": []
  }
 ],
 "metadata": {
  "kernelspec": {
   "display_name": "venv_bayesian",
   "language": "python",
   "name": "python3"
  },
  "language_info": {
   "codemirror_mode": {
    "name": "ipython",
    "version": 3
   },
   "file_extension": ".py",
   "mimetype": "text/x-python",
   "name": "python",
   "nbconvert_exporter": "python",
   "pygments_lexer": "ipython3",
   "version": "3.13.2"
  }
 },
 "nbformat": 4,
 "nbformat_minor": 2
}
