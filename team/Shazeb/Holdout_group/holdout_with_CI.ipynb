{
 "cells": [
  {
   "cell_type": "code",
   "execution_count": 123,
   "metadata": {},
   "outputs": [
    {
     "name": "stdout",
     "output_type": "stream",
     "text": [
      "Collecting fastparquet\n",
      "  Downloading fastparquet-2024.11.0-cp313-cp313-macosx_11_0_arm64.whl.metadata (4.2 kB)\n",
      "Requirement already satisfied: pandas>=1.5.0 in /Users/shazeb.asad/global_pricing/venv_bayesian/lib/python3.13/site-packages (from fastparquet) (2.2.3)\n",
      "Requirement already satisfied: numpy in /Users/shazeb.asad/global_pricing/venv_bayesian/lib/python3.13/site-packages (from fastparquet) (2.1.3)\n",
      "Collecting cramjam>=2.3 (from fastparquet)\n",
      "  Downloading cramjam-2.9.1-cp313-cp313-macosx_11_0_arm64.whl.metadata (4.9 kB)\n",
      "Requirement already satisfied: fsspec in /Users/shazeb.asad/global_pricing/venv_bayesian/lib/python3.13/site-packages (from fastparquet) (2025.3.0)\n",
      "Requirement already satisfied: packaging in /Users/shazeb.asad/global_pricing/venv_bayesian/lib/python3.13/site-packages (from fastparquet) (24.2)\n",
      "Requirement already satisfied: python-dateutil>=2.8.2 in /Users/shazeb.asad/global_pricing/venv_bayesian/lib/python3.13/site-packages (from pandas>=1.5.0->fastparquet) (2.9.0.post0)\n",
      "Requirement already satisfied: pytz>=2020.1 in /Users/shazeb.asad/global_pricing/venv_bayesian/lib/python3.13/site-packages (from pandas>=1.5.0->fastparquet) (2025.1)\n",
      "Requirement already satisfied: tzdata>=2022.7 in /Users/shazeb.asad/global_pricing/venv_bayesian/lib/python3.13/site-packages (from pandas>=1.5.0->fastparquet) (2025.1)\n",
      "Requirement already satisfied: six>=1.5 in /Users/shazeb.asad/global_pricing/venv_bayesian/lib/python3.13/site-packages (from python-dateutil>=2.8.2->pandas>=1.5.0->fastparquet) (1.17.0)\n",
      "Downloading fastparquet-2024.11.0-cp313-cp313-macosx_11_0_arm64.whl (683 kB)\n",
      "\u001b[2K   \u001b[90m━━━━━━━━━━━━━━━━━━━━━━━━━━━━━━━━━━━━━━━━\u001b[0m \u001b[32m683.8/683.8 kB\u001b[0m \u001b[31m11.0 MB/s\u001b[0m eta \u001b[36m0:00:00\u001b[0m\n",
      "\u001b[?25hDownloading cramjam-2.9.1-cp313-cp313-macosx_11_0_arm64.whl (1.9 MB)\n",
      "\u001b[2K   \u001b[90m━━━━━━━━━━━━━━━━━━━━━━━━━━━━━━━━━━━━━━━━\u001b[0m \u001b[32m1.9/1.9 MB\u001b[0m \u001b[31m13.8 MB/s\u001b[0m eta \u001b[36m0:00:00\u001b[0m\n",
      "\u001b[?25hInstalling collected packages: cramjam, fastparquet\n",
      "Successfully installed cramjam-2.9.1 fastparquet-2024.11.0\n"
     ]
    }
   ],
   "source": [
    "!pip install fastparquet"
   ]
  },
  {
   "cell_type": "code",
   "execution_count": 5,
   "metadata": {},
   "outputs": [],
   "source": [
    "import numpy as np\n",
    "import pandas as pd\n",
    "from google.cloud import bigquery, storage\n",
    "import matplotlib.pyplot as plt\n",
    "import seaborn as sns\n",
    "from scipy import stats\n",
    "from scipy.stats import ttest_ind, t\n",
    "import plotly.express as px\n",
    "import db_dtypes\n",
    "import bigframes.pandas as bpd\n",
    "from IPython.display import display, HTML\n",
    "import math\n",
    "import statsmodels.api as sm\n",
    "from typing import Union\n",
    "import logging\n",
    "import sys\n",
    "from google.cloud.exceptions import NotFound\n",
    "import time\n",
    "import os\n",
    "import json\n",
    "from google.auth.transport.requests import Request\n",
    "from google.oauth2.credentials import Credentials\n",
    "from google.auth import default\n",
    "from typing import Union\n",
    "from datetime import date, timedelta, datetime\n",
    "from tqdm.auto import tqdm\n",
    "import fastparquet as fp\n",
    "import io\n",
    "\n",
    "\n",
    "# Configure logging\n",
    "logging.basicConfig(\n",
    "    level=logging.INFO,\n",
    "    format='%(asctime)s %(levelname)s:%(message)s',\n",
    "    handlers=[\n",
    "        logging.StreamHandler(sys.stdout)\n",
    "    ],\n",
    "    force=True\n",
    ")\n",
    "\n",
    "\n",
    "# ------------------------------------------------------------------------------\n",
    "# Data Queries\n",
    "# ------------------------------------------------------------------------------\n",
    "\n",
    "def get_marketing_data(entities, week):\n",
    "    \n",
    "    mkt_data = f\"\"\"\n",
    "\n",
    "    WITH holdout_entities AS (\n",
    "    SELECT\n",
    "            entity_id,\n",
    "            `Release Date` AS release_date\n",
    "    FROM `logistics-data-storage-staging.long_term_pricing.global_holdout_rollout`\n",
    "    WHERE `Release Date` < '{week}'\n",
    "    AND entity_id in {entities}\n",
    "    ),\n",
    "    orders as (\n",
    "    SELECT\n",
    "         dps.entity_id entity_id\n",
    "        ,dps.dps_customer_id customer_id\n",
    "        ,COUNT(case when mkt.order_date <= e.release_date then mkt.order_id end) AS orders_pre\n",
    "        ,COUNT(case when mkt.order_date > e.release_date then mkt.order_id end) AS orders_post\n",
    "        ,SUM(case when mkt.order_date <= e.release_date then mkt.analytical_profit end) AS analytical_profit_pre\n",
    "        ,SUM(case when mkt.order_date > e.release_date then mkt.analytical_profit end) AS analytical_profit_post\n",
    "    FROM `fulfillment-dwh-production.cl.dps_sessions_mapped_to_orders` dps\n",
    "    JOIN holdout_entities AS e\n",
    "        ON dps.entity_id = e.entity_id\n",
    "    left join fulfillment-dwh-production.curated_data_shared_mkt.bima_order_profitability mkt\n",
    "        ON mkt.global_entity_id = dps.entity_id\n",
    "        AND mkt.order_id = dps.platform_order_code\n",
    "        AND order_date >= DATE_SUB(release_date, INTERVAL 8 WEEK)\n",
    "        AND order_date < '{week}'\n",
    "        AND global_entity_id in {entities}\n",
    "    WHERE dps.created_date >= DATE_SUB(e.release_date, INTERVAL 8 WEEK) \n",
    "        AND dps.created_date < '{week}'\n",
    "        AND dps.platform_order_code IS NOT NULL\n",
    "        AND dps.is_own_delivery\n",
    "        AND dps.is_sent\n",
    "        AND vendor_vertical_parent IN ('Restaurant','restaurant','restaurants')\n",
    "        AND dps.entity_id in {entities}\n",
    "    GROUP BY 1, 2\n",
    "    ), \n",
    "    customer_information AS (\n",
    "    SELECT\n",
    "            e.entity_id,\n",
    "            e.release_date,\n",
    "            CASE WHEN d.created_date <= e.release_date THEN FALSE ELSE COALESCE(is_customer_holdout, FALSE) END AS is_customer_holdout,\n",
    "            d.customer_id\n",
    "    FROM `fulfillment-dwh-production.cl.dps_holdout_users` AS d\n",
    "    JOIN holdout_entities AS e\n",
    "            ON d.entity_id = e.entity_id\n",
    "    LEFT JOIN `fulfillment-dwh-production.cl._bad_dps_logs_ids` bad_ids\n",
    "        ON d.customer_id = bad_ids.id\n",
    "    WHERE d.created_date >= '2025-01-01' \n",
    "        AND d.created_date < '{week}'\n",
    "        AND d.customer_id IS NOT NULL\n",
    "        AND bad_ids.id IS NULL\n",
    "        AND d.entity_id in {entities}\n",
    "    GROUP BY 1, 2, 3, 4\n",
    "    )\n",
    "    SELECT \n",
    "            e.entity_id,\n",
    "            e.customer_id,\n",
    "            e.is_customer_holdout,\n",
    "            o.orders_pre,\n",
    "            o.orders_post,\n",
    "            o.analytical_profit_pre,\n",
    "            o.analytical_profit_post\n",
    "    FROM customer_information e\n",
    "    LEFT JOIN orders o\n",
    "        ON o.customer_id = e.customer_id\n",
    "        AND o.entity_id = e.entity_id\n",
    "\n",
    "    \"\"\"\n",
    "\n",
    "    return mkt_data\n",
    "\n",
    "def get_dps_data(entities, week):\n",
    "\n",
    "    dps_data = f\"\"\"\n",
    "\n",
    "    WITH holdout_entities AS (\n",
    "    SELECT\n",
    "            entity_id,\n",
    "            `Release Date` AS release_date\n",
    "    FROM `logistics-data-storage-staging.long_term_pricing.global_holdout_rollout`\n",
    "    WHERE `Release Date` < '{week}'\n",
    "    AND entity_id not in {entities}\n",
    "    ),\n",
    "    orders as (\n",
    "    SELECT\n",
    "        dps.entity_id entity_id\n",
    "        ,dps.dps_customer_id customer_id\n",
    "        ,COUNT(case when dps.created_date <= e.release_date then dps.platform_order_code end) AS orders_pre\n",
    "        ,COUNT(case when dps.created_date > e.release_date then dps.platform_order_code end) AS orders_post\n",
    "        ,SUM(case when dps.created_date <= e.release_date then dps.fully_loaded_gross_profit_eur end) AS analytical_profit_pre\n",
    "        ,SUM(case when dps.created_date > e.release_date then dps.fully_loaded_gross_profit_eur end) AS analytical_profit_post\n",
    "    FROM `fulfillment-dwh-production.cl.dps_sessions_mapped_to_orders` dps\n",
    "    JOIN holdout_entities AS e\n",
    "        ON dps.entity_id = e.entity_id\n",
    "    WHERE dps.created_date >= DATE_SUB(e.release_date, INTERVAL 8 WEEK) \n",
    "        AND dps.created_date < '{week}'\n",
    "        AND dps.platform_order_code IS NOT NULL\n",
    "        AND dps.is_own_delivery\n",
    "        AND dps.is_sent\n",
    "        AND vendor_vertical_parent IN ('Restaurant','restaurant','restaurants')\n",
    "        AND dps.entity_id not in {entities}\n",
    "    GROUP BY 1, 2\n",
    "    ), \n",
    "    customer_information AS (\n",
    "    SELECT\n",
    "            e.entity_id,\n",
    "            e.release_date,\n",
    "            CASE WHEN d.created_date <= e.release_date THEN FALSE ELSE COALESCE(is_customer_holdout, FALSE) END AS is_customer_holdout,\n",
    "            d.customer_id\n",
    "    FROM `fulfillment-dwh-production.cl.dps_holdout_users` AS d\n",
    "    JOIN holdout_entities AS e\n",
    "            ON d.entity_id = e.entity_id\n",
    "    LEFT JOIN `fulfillment-dwh-production.cl._bad_dps_logs_ids` bad_ids\n",
    "        ON d.customer_id = bad_ids.id\n",
    "    WHERE d.created_date BETWEEN '2025-01-01' AND '{week}'\n",
    "        AND d.customer_id IS NOT NULL\n",
    "        AND bad_ids.id IS NULL\n",
    "    GROUP BY 1, 2, 3, 4\n",
    "    )\n",
    "    SELECT \n",
    "    e.entity_id,\n",
    "    e.customer_id,\n",
    "    e.is_customer_holdout,\n",
    "    o.orders_pre,\n",
    "    o.orders_post,\n",
    "    o.analytical_profit_pre,\n",
    "    o.analytical_profit_post\n",
    "    FROM customer_information e\n",
    "    LEFT JOIN orders o\n",
    "    ON o.customer_id = e.customer_id\n",
    "    AND o.entity_id = e.entity_id\n",
    "\n",
    "    \"\"\"\n",
    "\n",
    "    return dps_data\n",
    "\n",
    "# ------------------------------------------------------------------------------\n",
    "# Data Extraction\n",
    "# ------------------------------------------------------------------------------\n",
    "\n",
    "def initialize_bigquery_client(project_id_pass):\n",
    "   \n",
    "    project_id = project_id_pass \n",
    "\n",
    "    logging.info(f\"Initializing BigQuery client for project: {project_id}\")\n",
    "\n",
    "    if os.getenv(\"GITHUB_ACTIONS\"):\n",
    "        credentials_path = \"/tmp/credentials.json\" \n",
    "    else:\n",
    "        credentials, project = default()  \n",
    "        project_id = project if project else project_id \n",
    "\n",
    "    if os.getenv(\"GITHUB_ACTIONS\") and not os.path.exists(credentials_path):\n",
    "        raise FileNotFoundError(f\"Credentials file not found at {credentials_path}. Make sure to set up authentication in GitHub Actions.\")\n",
    "\n",
    "    if os.getenv(\"GITHUB_ACTIONS\"):\n",
    "        with open(credentials_path, \"r\") as f:\n",
    "            creds_data = json.load(f)\n",
    "\n",
    "        credentials = Credentials.from_authorized_user_info(creds_data)\n",
    "\n",
    "        if credentials.expired and credentials.refresh_token:\n",
    "            credentials.refresh(Request())\n",
    "\n",
    "    try:\n",
    "        client = bigquery.Client(credentials=credentials, project=project_id)\n",
    "        logging.info(f\"BigQuery client initialized successfully for project: {project_id}\")\n",
    "        return client \n",
    "    except Exception as e:\n",
    "        logging.error(f\"Failed to initialize BigQuery client: {e}\")\n",
    "        raise e\n",
    "\n",
    "\n",
    "def get_iso_week_mondays(year, min_date=None, max_date=None):\n",
    "    d = date(year, 1, 4)\n",
    "    d -= timedelta(days=d.weekday())  # Get Monday of ISO week 1\n",
    "\n",
    "    mondays = []\n",
    "    while d.year <= year or (d.year == year + 1 and d.isocalendar()[1] == 1):\n",
    "        if (\n",
    "            d.isocalendar()[0] == year and\n",
    "            (min_date is None or d > min_date) and\n",
    "            (max_date is None or d <= max_date)\n",
    "        ):\n",
    "            mondays.append(d)\n",
    "        d += timedelta(weeks=1)\n",
    "\n",
    "    return mondays\n",
    "\n",
    "def combined_data(client, mkt, dps):\n",
    "    \n",
    "    try:\n",
    "        mkt_df = client.query(mkt).to_dataframe()\n",
    "    except Exception as e:\n",
    "        logging.error(f\"Error executing marketing data query: {e}\")\n",
    "        mkt_df = pd.DataFrame() \n",
    "\n",
    "    # try:\n",
    "    #     dps_df = client.query(dps).to_dataframe()\n",
    "    # except Exception as e:\n",
    "    #     logging.error(f\"Error executing DPS data query: {e}\")\n",
    "    #     dps_df = pd.DataFrame()\n",
    "\n",
    "    # combined = pd.concat([mkt_df, dps_df], ignore_index=True)\n",
    "\n",
    "    return mkt_df\n",
    "\n",
    "\n",
    "def extract_data(client, mkt_data, dps_data):\n",
    "    \n",
    "    start_time = time.time()\n",
    "    logging.info(f\"start_time: {start_time:.2f}\")\n",
    "\n",
    "    combined_df = combined_data(client,mkt_data, dps_data)\n",
    "    elapsed_time = time.time() - start_time\n",
    "    logging.info(f\"Time to extract and combine data from DB: {elapsed_time:.2f} seconds\")\n",
    "    \n",
    "    return combined_df \n",
    "\n",
    "\n",
    "def get_cumm_data(project,entities, week):\n",
    "\n",
    "    client = initialize_bigquery_client(project)\n",
    "    \n",
    "    final_df = pd.DataFrame()\n",
    "\n",
    "    for w_no in week:\n",
    "        \n",
    "        print(f\"Querying for week starting {w_no}\")\n",
    "        \n",
    "        tmp = extract_data(client ,get_marketing_data(entities, w_no), get_dps_data(entities,w_no))\n",
    "\n",
    "        # Add the as_of_date column\n",
    "        tmp[\"as_of_date\"] = w_no\n",
    "\n",
    "        # Append to the final dataframe\n",
    "        final_df = pd.concat([final_df, tmp], ignore_index=True)\n",
    "\n",
    "    return final_df\n",
    "\n",
    "\n",
    "# ------------------------------------------------------------------------------\n",
    "# Data Clean Up\n",
    "# ------------------------------------------------------------------------------\n",
    "\n",
    "def fill_nans(df):\n",
    "\n",
    "    df = df.fillna({\n",
    "        'orders_pre': 0,\n",
    "        'orders_post': 0,\n",
    "        'analytical_profit_pre': 0,\n",
    "        'analytical_profit_post': 0,\n",
    "    })\n",
    "\n",
    "    return df\n",
    "\n",
    "def drop_users_with_no_data(df):\n",
    "\n",
    "    mask1 = (\n",
    "        (df['orders_pre'] == 0) &\n",
    "        (df['orders_post'] == 0) &\n",
    "        (df['analytical_profit_pre'] == 0) &\n",
    "        (df['analytical_profit_post'] == 0)\n",
    "    )\n",
    "\n",
    "    mask2 = (\n",
    "        (df['orders_pre'].isna()) &\n",
    "        (df['orders_post'].isna()) &\n",
    "        (df['analytical_profit_pre'].isna()) &\n",
    "        (df['analytical_profit_post'].isna())\n",
    "    ) \n",
    "\n",
    "    df = df[~(mask1 |   mask2)]\n",
    "    \n",
    "    return df\n",
    "\n",
    "def apply_cleanup(df):\n",
    "\n",
    "    #NaN's are converted to 0's where applicable\n",
    "    data_cleaned = fill_nans(df) \n",
    "    \n",
    "    #remove customers with no data in the pre and the post period\n",
    "    raw_data_final = drop_users_with_no_data(data_cleaned)\n",
    "\n",
    "    return raw_data_final\n",
    "\n",
    "# ------------------------------------------------------------------------------\n",
    "# Performing Statistical Analysis\n",
    "# ------------------------------------------------------------------------------\n",
    "\n",
    "\n",
    "## Confidence Intervals for separate groups ##\n",
    "\n",
    "def bootstrap_single_group(\n",
    "    df: pd.DataFrame,\n",
    "    adjusted_metric: str,\n",
    "    n_resamples: int = 10000,\n",
    "    alpha: float = 0.05,\n",
    "    seed: int = 42\n",
    ") -> dict:\n",
    "    \n",
    "    np.random.seed(seed)\n",
    "\n",
    "    group = df[adjusted_metric].values\n",
    "    \n",
    "    res = stats.bootstrap(\n",
    "        (group,),\n",
    "        statistic=np.mean,\n",
    "        n_resamples=n_resamples,\n",
    "        method='percentile',\n",
    "        confidence_level=1 - alpha,\n",
    "        random_state=seed\n",
    "    )\n",
    "\n",
    "    ci = res.confidence_interval\n",
    "    mean_val = np.mean(group)\n",
    "\n",
    "    # print(f\"Group Mean: {mean_val:.4f}\")\n",
    "    # print(f\"{100*(1-alpha):.0f}% CI: ({ci.low:.4f}, {ci.high:.4f})\")\n",
    "\n",
    "    return {\n",
    "        \"mean\": round(mean_val, 3),\n",
    "        \"ci\": (round(ci.low, 3), round(ci.high, 3))\n",
    "    }\n",
    "\n",
    "    # return {\n",
    "    #     \"mean\": round(mean_val, 4),\n",
    "    #     \"ci\": (round(ci.low, 4), round(ci.high, 4)),\n",
    "    #     \"boot_means\": res.bootstrap_distribution\n",
    "    # }\n",
    "\n",
    "def plot_bootstrap_single_distribution(boot_result: dict, alpha: float = 0.05):\n",
    "    boot_means = boot_result[\"boot_means\"]\n",
    "    mean_val = boot_result[\"mean\"]\n",
    "    ci_low, ci_high = boot_result[\"ci\"]\n",
    "\n",
    "    plt.figure(figsize=(10, 6))\n",
    "    plt.hist(boot_means, bins=50, edgecolor='black', alpha=0.7)\n",
    "    plt.axvline(mean_val, color='red', linestyle='--', linewidth=2, label=f'Mean: {mean_val}')\n",
    "    plt.axvline(ci_low, color='green', linestyle='--', linewidth=2, label=f'{100*(1-alpha):.0f}% CI Low: {ci_low}')\n",
    "    plt.axvline(ci_high, color='green', linestyle='--', linewidth=2, label=f'{100*(1-alpha):.0f}% CI High: {ci_high}')\n",
    "    \n",
    "    plt.title(\"Bootstrap Distribution of the Mean\")\n",
    "    plt.xlabel(\"Mean Values\")\n",
    "    plt.ylabel(\"Frequency\")\n",
    "    plt.legend()\n",
    "    plt.grid(True)\n",
    "    plt.tight_layout()\n",
    "    plt.show()\n",
    "\n",
    "def plot_bootstrap_comparison_single_group(\n",
    "    result1: dict, label1: str,\n",
    "    result2: dict, label2: str,\n",
    "    alpha: float = 0.05\n",
    "):\n",
    "    plt.figure(figsize=(12, 6))\n",
    "\n",
    "    # Plot 1\n",
    "    plt.hist(result1[\"boot_means\"], bins=50, alpha=0.5, label=f'{label1} Dist', edgecolor='black')\n",
    "    plt.axvline(result1[\"mean\"], color='red', linestyle='--', label=f'{label1} Mean: {result1[\"mean\"]}')\n",
    "    plt.axvline(result1[\"ci\"][0], color='green', linestyle='--', label=f'{label1} CI Low: {result1[\"ci\"][0]}')\n",
    "    plt.axvline(result1[\"ci\"][1], color='green', linestyle='--', label=f'{label1} CI High: {result1[\"ci\"][1]}')\n",
    "\n",
    "    # Plot 2\n",
    "    plt.hist(result2[\"boot_means\"], bins=50, alpha=0.5, label=f'{label2} Dist', edgecolor='black')\n",
    "    plt.axvline(result2[\"mean\"], color='blue', linestyle='--', label=f'{label2} Mean: {result2[\"mean\"]}')\n",
    "    plt.axvline(result2[\"ci\"][0], color='purple', linestyle='--', label=f'{label2} CI Low: {result2[\"ci\"][0]}')\n",
    "    plt.axvline(result2[\"ci\"][1], color='purple', linestyle='--', label=f'{label2} CI High: {result2[\"ci\"][1]}')\n",
    "\n",
    "    plt.title(\"Bootstrap Distribution Comparison\")\n",
    "    plt.xlabel(\"Mean Values\")\n",
    "    plt.ylabel(\"Frequency\")\n",
    "    plt.legend()\n",
    "    plt.grid(True)\n",
    "    plt.tight_layout()\n",
    "    plt.show()\n",
    "\n",
    "\n",
    "def t_confidence_interval(data, alpha=0.05):\n",
    "    \n",
    "    data = np.array(data)\n",
    "    n = len(data)\n",
    "    mean = np.mean(data)\n",
    "    sem = np.std(data, ddof=1) / np.sqrt(n)\n",
    "    t_crit = t.ppf(1 - alpha / 2, df=n - 1)\n",
    "\n",
    "    ci_lower = mean - t_crit * sem\n",
    "    ci_upper = mean + t_crit * sem\n",
    "\n",
    "    return {\n",
    "        \"mean\": round(mean,3),\n",
    "        \"ci\": (round(ci_lower,3), round(ci_upper,3))\n",
    "    }\n",
    "\n",
    "\n",
    "## Confidence Intervals for the Difference in Means of Two Groups ##\n",
    "\n",
    "# def bootstrap_diff_means(df: pd.DataFrame, adjusted_metric: str, n_resamples: int = 5000, alpha: float = 0.05, seed: int = 42):\n",
    "    \n",
    "#     np.random.seed(seed)\n",
    "\n",
    "#     # Split the data\n",
    "#     group_a = df[df[\"is_customer_holdout\"] == False][adjusted_metric].values\n",
    "#     group_b = df[df[\"is_customer_holdout\"] == True][adjusted_metric].values\n",
    "\n",
    "#     logging.info(\"\")\n",
    "#     res = stats.bootstrap(\n",
    "#         (group_a, group_b),\n",
    "#         statistic=lambda a, b: np.mean(a) - np.mean(b),\n",
    "#         n_resamples=n_resamples,\n",
    "#         method='percentile',\n",
    "#         random_state=seed\n",
    "#     )\n",
    "\n",
    "#     ci = res.confidence_interval\n",
    "#     boot_diffs = res.bootstrap_distribution\n",
    "\n",
    "#     observed_diff = np.mean(group_a) - np.mean(group_b)\n",
    "\n",
    "#     # Compute two-tailed bootstrap p-value\n",
    "#     p_value = np.mean(np.abs(boot_diffs) >= np.abs(observed_diff))\n",
    "\n",
    "#     bootstrap_ci_lb = round(ci.low, 4)\n",
    "#     bootstrap_ci_ub = round(ci.high, 4)\n",
    "#     bootstrap_mean = round(np.mean(boot_diffs), 4)\n",
    "\n",
    "#     print(f\"Observed Mean Diff: {observed_diff:.4f}\")\n",
    "#     print(f\"Bootstrap Mean Diff: {bootstrap_mean}\")\n",
    "#     print(f\"Bootstrap {100*(1-alpha):.0f}% CI: ({bootstrap_ci_lb}, {bootstrap_ci_ub})\")\n",
    "#     print(f\"Bootstrap P-value: {p_value:.4f}\")\n",
    "\n",
    "#     return {\n",
    "#         \"observed_diff\": observed_diff,\n",
    "#         \"bootstrap_mean\": bootstrap_mean,\n",
    "#         \"ci\": (bootstrap_ci_lb, bootstrap_ci_ub),\n",
    "#         \"p_value\": p_value,\n",
    "#         \"boot_diffs\": boot_diffs\n",
    "#     }\n",
    "\n",
    "\n",
    "def bootstrap_diff_means(df: pd.DataFrame, adjusted_metric: str, n_resamples: int = 5000, alpha: float = 0.05, seed: int = 42):\n",
    "    np.random.seed(seed)\n",
    "\n",
    "    # Split the data\n",
    "    group_a = df[df[\"is_customer_holdout\"] == False][adjusted_metric].values\n",
    "    group_b = df[df[\"is_customer_holdout\"] == True][adjusted_metric].values\n",
    "\n",
    "    n_a, n_b = len(group_a), len(group_b)\n",
    "\n",
    "    # Pre-allocate\n",
    "    boot_means_a = np.empty(n_resamples)\n",
    "    boot_means_b = np.empty(n_resamples)\n",
    "    boot_diffs = np.empty(n_resamples)\n",
    "\n",
    "    for i in range(n_resamples):\n",
    "        sample_a = np.random.choice(group_a, n_a, replace=True)\n",
    "        sample_b = np.random.choice(group_b, n_b, replace=True)\n",
    "        boot_means_a[i] = np.mean(sample_a)\n",
    "        boot_means_b[i] = np.mean(sample_b)\n",
    "        boot_diffs[i] = boot_means_a[i] - boot_means_b[i]\n",
    "\n",
    "    # Observed\n",
    "    observed_a = np.mean(group_a)\n",
    "    observed_b = np.mean(group_b)\n",
    "    observed_diff = observed_a - observed_b\n",
    "\n",
    "    # Confidence Intervals\n",
    "    ci_a = np.percentile(boot_means_a, [100 * alpha / 2, 100 * (1 - alpha / 2)])\n",
    "    ci_b = np.percentile(boot_means_b, [100 * alpha / 2, 100 * (1 - alpha / 2)])\n",
    "    ci_diff = np.percentile(boot_diffs, [100 * alpha / 2, 100 * (1 - alpha / 2)])\n",
    "\n",
    "    # Two-tailed p-value\n",
    "    p_value = np.mean(np.abs(boot_diffs) >= np.abs(observed_diff))\n",
    "\n",
    "    # Round for display\n",
    "    print(f\"Control Mean: {observed_a:.4f}, 95% CI: ({ci_a[0]:.4f}, {ci_a[1]:.4f})\")\n",
    "    print(f\"Treatment Mean: {observed_b:.4f}, 95% CI: ({ci_b[0]:.4f}, {ci_b[1]:.4f})\")\n",
    "    print(f\"Observed Mean Diff (Control - Treatment): {observed_diff:.4f}\")\n",
    "    print(f\"Bootstrap Mean Diff: {np.mean(boot_diffs):.4f}, 95% CI: ({ci_diff[0]:.4f}, {ci_diff[1]:.4f})\")\n",
    "    print(f\"Bootstrap P-value: {p_value:.4f}\")\n",
    "\n",
    "    return {\n",
    "        \"means\": {\n",
    "            \"control\": observed_a,\n",
    "            \"treatment\": observed_b\n",
    "        },\n",
    "        \"ci\": {\n",
    "            \"control\": tuple(ci_a),\n",
    "            \"treatment\": tuple(ci_b),\n",
    "            \"diff\": tuple(ci_diff)\n",
    "        },\n",
    "        \"observed_diff\": observed_diff,\n",
    "        \"bootstrap_mean_diff\": np.mean(boot_diffs),\n",
    "        \"p_value\": p_value,\n",
    "        \"boot_diffs\": boot_diffs\n",
    "    }\n",
    "\n",
    "\n",
    "def plot_bootstrap_distribution(result_dict):\n",
    "    \n",
    "    diffs = result_dict[\"boot_diffs\"]\n",
    "    observed = result_dict[\"observed_diff\"]\n",
    "    ci_low, ci_high = result_dict[\"ci\"]\n",
    "\n",
    "    plt.figure(figsize=(10, 6))\n",
    "    sns.histplot(diffs, bins=50, kde=True, color=\"skyblue\")\n",
    "\n",
    "    # Plot observed mean difference\n",
    "    plt.axvline(observed, color=\"red\", linestyle=\"solid\", linewidth=2, label=f'Observed Mean Diff ({observed:.4f})')\n",
    "\n",
    "    # Plot confidence interval bounds\n",
    "    plt.axvline(ci_low, color=\"black\", linestyle=\"dotted\", linewidth=2, label=f'Lower CI ({ci_low:.4f})')\n",
    "    plt.axvline(ci_high, color=\"black\", linestyle=\"dotted\", linewidth=2, label=f'Upper CI ({ci_high:.4f})')\n",
    "\n",
    "    plt.title(\"Bootstrap Distribution of Mean Differences\", fontsize=14)\n",
    "    plt.xlabel(\"Mean Difference\", fontsize=12)\n",
    "    plt.ylabel(\"Frequency\", fontsize=12)\n",
    "    plt.legend()\n",
    "    plt.grid(True)\n",
    "    plt.tight_layout()\n",
    "    plt.show()\n",
    "\n",
    "\n",
    "def welchs_ttest_with_ci(df: pd.DataFrame, adjusted_metric: str, alpha: float = 0.05):\n",
    "    \n",
    "    group_a = df[df[\"is_customer_holdout\"] == False][adjusted_metric].values\n",
    "    group_b = df[df[\"is_customer_holdout\"] == True][adjusted_metric].values\n",
    "\n",
    "    # Means and sizes\n",
    "    mean_a, mean_b = np.mean(group_a), np.mean(group_b)\n",
    "    n_a, n_b = len(group_a), len(group_b)\n",
    "    var_a, var_b = np.var(group_a, ddof=1), np.var(group_b, ddof=1)\n",
    "\n",
    "    # Welch's t-test\n",
    "    t_stat, p_value = ttest_ind(group_a, group_b, equal_var=False)\n",
    "\n",
    "    # Observed difference\n",
    "    observed_diff = mean_a - mean_b\n",
    "\n",
    "    # Standard error of the difference\n",
    "    se_diff = np.sqrt(var_a / n_a + var_b / n_b)\n",
    "\n",
    "    # Degrees of freedom (Welch-Satterthwaite equation)\n",
    "    df_denom = (var_a / n_a + var_b / n_b) ** 2\n",
    "    df_numer = ((var_a / n_a) ** 2) / (n_a - 1) + ((var_b / n_b) ** 2) / (n_b - 1)\n",
    "    df_eff = df_denom / df_numer\n",
    "\n",
    "    # t critical value\n",
    "    t_crit = t.ppf(1 - alpha / 2, df=df_eff)\n",
    "\n",
    "    # Confidence interval\n",
    "    ci_lower = observed_diff - t_crit * se_diff\n",
    "    ci_upper = observed_diff + t_crit * se_diff\n",
    "\n",
    "    print(f\"Observed Mean Diff: {observed_diff:.4f}\")\n",
    "    print(f\"T-statistic: {t_stat:.4f}\")\n",
    "    print(f\"P-value: {p_value:.4f}\")\n",
    "    print(f\"{100*(1-alpha):.0f}% CI: ({ci_lower:.4f}, {ci_upper:.4f})\")\n",
    "\n",
    "    return {\n",
    "        \"observed_diff\": observed_diff,\n",
    "        \"t_statistic\": t_stat,\n",
    "        \"p_value\": p_value,\n",
    "        \"ci\": (ci_lower, ci_upper)\n",
    "    }\n",
    "\n",
    "\n",
    "def plot_ttest_distribution(observed_diff, se_diff, ci, alpha=0.05, n_points=1000):\n",
    "    \n",
    "    # Simulate normal distribution around observed_diff\n",
    "    x = np.linspace(observed_diff - 4*se_diff, observed_diff + 4*se_diff, n_points)\n",
    "    y = norm.pdf(x, loc=observed_diff, scale=se_diff)\n",
    "\n",
    "    plt.figure(figsize=(10, 6))\n",
    "    plt.plot(x, y, label=\"Sampling Distribution (Normal)\", color='skyblue')\n",
    "    \n",
    "    # Observed difference\n",
    "    plt.axvline(observed_diff, color='red', linestyle='-', label='Observed Mean Diff')\n",
    "    plt.text(observed_diff, max(y)*0.9, f\"{observed_diff:.4f}\", color='red', ha='center', va='bottom', fontsize=10)\n",
    "\n",
    "    # CI bounds\n",
    "    plt.axvline(ci[0], color='black', linestyle='--', label=f'{100*(1-alpha):.0f}% CI')\n",
    "    plt.axvline(ci[1], color='black', linestyle='--')\n",
    "    plt.text(ci[0], max(y)*0.6, f\"{ci[0]:.4f}\", color='black', ha='right', va='bottom', fontsize=10)\n",
    "    plt.text(ci[1], max(y)*0.6, f\"{ci[1]:.4f}\", color='black', ha='left', va='bottom', fontsize=10)\n",
    "\n",
    "    # Labels and formatting\n",
    "    plt.title(\"Sampling Distribution of Mean Difference (Welch’s t-test)\")\n",
    "    plt.xlabel(\"Mean Difference\")\n",
    "    plt.ylabel(\"Density\")\n",
    "    plt.legend()\n",
    "    plt.grid(True)\n",
    "    plt.tight_layout()\n",
    "    plt.show()\n",
    "\n",
    "\n",
    "## applying CUPED ##\n",
    "\n",
    "def cuped_adjustment(df, pre_metric_profit, post_metric_profit,  pre_metric_orders, post_metric_orders):\n",
    "    \n",
    "    theta_flgp = np.cov(df[pre_metric_profit], df[post_metric_profit])[0, 1] / np.var(df[pre_metric_profit])\n",
    "    df[post_metric_profit + '_cuped'] = df[post_metric_profit] - theta_flgp * (df[pre_metric_profit] - df[pre_metric_profit].mean())\n",
    "\n",
    "    theta_orders = np.cov(df[pre_metric_orders], df[post_metric_orders])[0, 1] / np.var(df[pre_metric_orders])\n",
    "    df[post_metric_orders + '_cuped'] = df[post_metric_orders] - theta_orders * (df[pre_metric_orders] - df[pre_metric_orders].mean())\n",
    "\n",
    "    return df\n",
    "\n",
    "\n",
    "def apply_cuped_adjustment(df, entities, week):\n",
    "    \n",
    "    final_df = pd.DataFrame()\n",
    "\n",
    "    for holdout_flag in [True, False]:\n",
    "        \n",
    "        group_label = 'Holdout' if holdout_flag else 'Non-holdout'\n",
    "        \n",
    "        df_subset = df[df['is_customer_holdout'] == holdout_flag]\n",
    "\n",
    "        for i in tqdm(entities, desc=f'{group_label} - Entities', position=1):\n",
    "            tmp = df_subset[df_subset['entity_id'] == i]\n",
    "\n",
    "            for j in tqdm(week, desc=f'{group_label} - Weeks', leave=False, position=2):\n",
    "                tmp2 = tmp[tmp['as_of_date'] == j]\n",
    "                tmp2[\"as_of_date\"] = pd.to_datetime(tmp2[\"as_of_date\"])\n",
    "\n",
    "                adjusted = cuped_adjustment(\n",
    "                    tmp2,\n",
    "                    \"analytical_profit_pre\",\n",
    "                    \"analytical_profit_post\",\n",
    "                    \"orders_pre\",\n",
    "                    \"orders_post\"\n",
    "                )\n",
    "                \n",
    "                final_df = pd.concat([final_df, adjusted], ignore_index=True)\n",
    "\n",
    "    return final_df\n",
    "\n",
    "\n",
    "# ------------------------------------------------------------------------------\n",
    "# Data Storage Cloud Bucket\n",
    "# ------------------------------------------------------------------------------\n",
    "\n",
    "\n",
    "def upload_parquet_to_gcs(df, bucket, destination_blob, overwrite=True):\n",
    "    \n",
    "    parquet_buffer = io.BytesIO()\n",
    "    \n",
    "    try:\n",
    "        # Check if the blob (file) already exists in GCS\n",
    "        blob = bucket.blob(destination_blob)\n",
    "        if blob.exists() and not overwrite:\n",
    "            logging.info(f\"⚠️ File already exists at {destination_blob}. Skipping upload due to overwrite=False.\")\n",
    "            return\n",
    "\n",
    "        # Convert DataFrame to parquet and upload\n",
    "        df.to_parquet(parquet_buffer, engine=\"fastparquet\", index=False)\n",
    "        parquet_buffer.seek(0)\n",
    "\n",
    "        blob.upload_from_file(parquet_buffer, content_type=\"application/octet-stream\")\n",
    "        logging.info(f\"✅ Data uploaded to GCS at {destination_blob} {'(overwritten)' if overwrite else ''}\")\n",
    "\n",
    "    except Exception as e:\n",
    "        logging.error(f\"❌ Error uploading Parquet to GCS: {e}\")\n",
    "\n",
    "\n",
    "def store_data_cloud(df, week):\n",
    "\n",
    "    #Configuration\n",
    "    GCS_BUCKET_NAME = \"holdout_data\"\n",
    "    PROJECT_ID = \"logistics-data-storage-staging\"\n",
    "\n",
    "    #Initialize Google Cloud clients\n",
    "    storage_client = storage.Client(project=PROJECT_ID)\n",
    "    bigquery_client = bigquery.Client(project=PROJECT_ID)\n",
    "    bucket = storage_client.bucket(GCS_BUCKET_NAME)\n",
    "   \n",
    "    for i in tqdm(week, desc= 'Week', position=0):\n",
    "    \n",
    "        GCS_PARQUET_PATH = \"parquet_files/cuped_holdout_as_of_\" + str(i) + \".parquet\"  \n",
    "        \n",
    "        df = df[df['as_of_date'] == i]\n",
    "\n",
    "        upload_parquet_to_gcs(df, bucket, GCS_PARQUET_PATH, overwrite=True)\n",
    "\n",
    "\n",
    "def CI_comparison_single(df, metric, entity, holdout=True):\n",
    "    \n",
    "    filtered_df = df[(df[\"is_customer_holdout\"] == holdout) & (df[\"entity_id\"] == entity)]\n",
    "\n",
    "    if len(filtered_df) < 2:\n",
    "        logging.warning(f\"Not enough data for entity '{entity}' and holdout={holdout}. Rows: {len(filtered_df)}\")\n",
    "        return None\n",
    "\n",
    "    CI_bootstrap = bootstrap_single_group(filtered_df, metric)   \n",
    "    CI_t_interval = t_confidence_interval(filtered_df[metric])\n",
    "\n",
    "    return CI_bootstrap, CI_t_interval\n",
    "\n",
    "def CI_comparison_differences(df, metric, entity):\n",
    "\n",
    "    filtered_df = df[df['entity_id'] == entity]\n",
    "\n",
    "    CI_bootstrap = bootstrap_diff_means(filtered_df, metric)\n",
    "    CI_welch = welchs_ttest_with_ci(filtered_df, metric)\n",
    "\n",
    "    return CI_bootstrap, CI_welch\n",
    "\n",
    "\n",
    "\n"
   ]
  },
  {
   "cell_type": "code",
   "execution_count": 3,
   "metadata": {},
   "outputs": [
    {
     "name": "stdout",
     "output_type": "stream",
     "text": [
      "2025-04-01 14:18:03,915 INFO:Initializing BigQuery client for project: logistics-customer-staging\n"
     ]
    },
    {
     "name": "stderr",
     "output_type": "stream",
     "text": [
      "/Users/shazeb.asad/global_pricing/venv_bayesian/lib/python3.13/site-packages/google/auth/_default.py:76: UserWarning: Your application has authenticated using end user credentials from Google Cloud SDK without a quota project. You might receive a \"quota exceeded\" or \"API not enabled\" error. See the following page for troubleshooting: https://cloud.google.com/docs/authentication/adc-troubleshooting/user-creds. \n",
      "  warnings.warn(_CLOUD_SDK_CREDENTIALS_WARNING)\n"
     ]
    },
    {
     "name": "stdout",
     "output_type": "stream",
     "text": [
      "2025-04-01 14:18:04,762 WARNING:No project ID could be determined. Consider running `gcloud config set project` or setting the GOOGLE_CLOUD_PROJECT environment variable\n",
      "2025-04-01 14:18:04,763 INFO:BigQuery client initialized successfully for project: logistics-customer-staging\n",
      "Querying for week starting 2025-03-31\n",
      "2025-04-01 14:18:04,765 INFO:start_time: 1743509884.77\n",
      "2025-04-01 14:20:13,937 INFO:Time to extract and combine data from DB: 129.17 seconds\n",
      "2025-04-01 14:20:13,967 INFO:length of dataframe before cleanup: 9133484\n",
      "2025-04-01 14:20:14,881 INFO:length of dataframe after cleanup: 3112686\n"
     ]
    },
    {
     "data": {
      "application/vnd.jupyter.widget-view+json": {
       "model_id": "6e6ac28e7e55438ab885a5c7577dc332",
       "version_major": 2,
       "version_minor": 0
      },
      "text/plain": [
       "Holdout - Entities:   0%|          | 0/2 [00:00<?, ?it/s]"
      ]
     },
     "metadata": {},
     "output_type": "display_data"
    },
    {
     "data": {
      "application/vnd.jupyter.widget-view+json": {
       "model_id": "d2fcf32c80084f6aa77d424e72306d29",
       "version_major": 2,
       "version_minor": 0
      },
      "text/plain": [
       "Holdout - Weeks:   0%|          | 0/1 [00:00<?, ?it/s]"
      ]
     },
     "metadata": {},
     "output_type": "display_data"
    },
    {
     "data": {
      "application/vnd.jupyter.widget-view+json": {
       "model_id": "8194bfb6ec0341fa87396d6f24eab1ac",
       "version_major": 2,
       "version_minor": 0
      },
      "text/plain": [
       "Holdout - Weeks:   0%|          | 0/1 [00:00<?, ?it/s]"
      ]
     },
     "metadata": {},
     "output_type": "display_data"
    },
    {
     "data": {
      "application/vnd.jupyter.widget-view+json": {
       "model_id": "8019e5af2c874c03910b7d4e27d34505",
       "version_major": 2,
       "version_minor": 0
      },
      "text/plain": [
       "Non-holdout - Entities:   0%|          | 0/2 [00:00<?, ?it/s]"
      ]
     },
     "metadata": {},
     "output_type": "display_data"
    },
    {
     "data": {
      "application/vnd.jupyter.widget-view+json": {
       "model_id": "28eef73c6a6f431686c84cd441861bc3",
       "version_major": 2,
       "version_minor": 0
      },
      "text/plain": [
       "Non-holdout - Weeks:   0%|          | 0/1 [00:00<?, ?it/s]"
      ]
     },
     "metadata": {},
     "output_type": "display_data"
    },
    {
     "data": {
      "application/vnd.jupyter.widget-view+json": {
       "model_id": "f776ac7770ef406890bbda9f6d094901",
       "version_major": 2,
       "version_minor": 0
      },
      "text/plain": [
       "Non-holdout - Weeks:   0%|          | 0/1 [00:00<?, ?it/s]"
      ]
     },
     "metadata": {},
     "output_type": "display_data"
    }
   ],
   "source": [
    "if __name__ == \"__main__\":\n",
    "\n",
    "    # ------------------------------------------------------------------------------\n",
    "    # GET DATA FROM DB\n",
    "    # ------------------------------------------------------------------------------\n",
    "\n",
    "    ## extract cummulative data for entities YTD ##\n",
    "    \n",
    "    # list of weeks \n",
    "    today = date.today()\n",
    "    this_monday = today - timedelta(days=today.weekday())\n",
    "\n",
    "    week_mondays = get_iso_week_mondays(2025, min_date=date(2025, 3, 28), max_date=this_monday)\n",
    "    \n",
    "    # list of entities\n",
    "    \n",
    "    # entities = tuple(set((\n",
    "    # 'FP_PK','PY_DO','PY_BO', 'FP_TW', \n",
    "    # 'PY_PY', 'DJ_CZ', 'PY_EC','MJM_AT' ,'PY_PE', 'PY_AR',\n",
    "    # 'PY_GT','PY_SV' ,'FP_PH','PY_NI' ,'NP_HU' ,'FP_MM','EF_GR',\n",
    "    # 'AP_PA','YS_TR', 'PY_UY' ,'OP_SE' ,'PY_CL' ,'FP_BD' ,'FP_SG',\n",
    "    # 'FO_NO' ,'PY_CR', 'FP_LA','PY_HN', 'FP_MY' ,'FP_TH', 'FY_CY',\n",
    "    # 'PY_VE','PO_FI','TB_QA','TB_OM','TB_KW','TB_JO','TB_IQ',\n",
    "    # 'TB_BH','TB_AE','HS_SA'\n",
    "    # )))\n",
    "\n",
    "    entities = (\n",
    "        'FP_PK','PY_DO'\n",
    "    )\n",
    "    \n",
    "    project = \"logistics-customer-staging\"\n",
    "\n",
    "    raw_cumm_df = get_cumm_data(project, entities, week_mondays)\n",
    "\n",
    "    # ------------------------------------------------------------------------------\n",
    "    # CLEAN DATA\n",
    "    # ------------------------------------------------------------------------------\n",
    "\n",
    "    logging.info(f\"length of dataframe before cleanup: {len(raw_cumm_df)}\")\n",
    "    cleaned_cumm_df = apply_cleanup(raw_cumm_df)\n",
    "    logging.info(f\"length of dataframe after cleanup: {len(cleaned_cumm_df)}\")\n",
    "\n",
    "\n",
    "    # ------------------------------------------------------------------------------\n",
    "    # CUPED ADJUSTED DATA\n",
    "    # ------------------------------------------------------------------------------\n",
    "\n",
    "    raw_cuped_cumm_df = apply_cuped_adjustment(cleaned_cumm_df, entities, week_mondays)\n",
    "    \n",
    "    # ------------------------------------------------------------------------------\n",
    "    # Store CUPED adjusted raw data in big query buckets and in a table\n",
    "    # ------------------------------------------------------------------------------\n",
    "\n",
    "    #store_data_cloud(raw_cuped_cumm_df, week_mondays)\n",
    "\n",
    "    # ------------------------------------------------------------------------------\n",
    "    # Comparison of Bootstrapped CI and t-test CI\n",
    "    # ------------------------------------------------------------------------------\n",
    "\n",
    "    #CI_comparison_single(raw_cuped_cumm_df, \"orders_post_cuped\",\"PY_DO\", holdout = True)\n",
    "\n",
    "    # ------------------------------------------------------------------------------\n",
    "    # Calculate CI \n",
    "    # ------------------------------------------------------------------------------\n",
    "\n"
   ]
  },
  {
   "cell_type": "code",
   "execution_count": 7,
   "metadata": {},
   "outputs": [],
   "source": [
    "a = raw_cuped_cumm_df[raw_cuped_cumm_df['entity_id'] == \"FP_PK\"]"
   ]
  },
  {
   "cell_type": "code",
   "execution_count": 10,
   "metadata": {},
   "outputs": [
    {
     "data": {
      "text/plain": [
       "{'means': {'control': np.float64(4.452081635281639),\n",
       "  'treatment': np.float64(4.473012153467313)},\n",
       " 'ci': {'control': (np.float64(4.445024449953948),\n",
       "   np.float64(4.459123171968059)),\n",
       "  'treatment': (np.float64(4.421126987538778), np.float64(4.521591887875322)),\n",
       "  'diff': (np.float64(-0.06977923268956454), np.float64(0.03177604666349303))},\n",
       " 'observed_diff': np.float64(-0.020930518185674707),\n",
       " 'bootstrap_mean_diff': np.float64(-0.019909817681120275),\n",
       " 'p_value': np.float64(0.539),\n",
       " 'boot_diffs': array([-0.00610676, -0.04948335, -0.03744815, ..., -0.02085673,\n",
       "        -0.00466455, -0.04752544])}"
      ]
     },
     "execution_count": 10,
     "metadata": {},
     "output_type": "execute_result"
    }
   ],
   "source": [
    "results"
   ]
  },
  {
   "cell_type": "code",
   "execution_count": 9,
   "metadata": {},
   "outputs": [
    {
     "ename": "TypeError",
     "evalue": "string indices must be integers, not 'str'",
     "output_type": "error",
     "traceback": [
      "\u001b[31m---------------------------------------------------------------------------\u001b[39m",
      "\u001b[31mTypeError\u001b[39m                                 Traceback (most recent call last)",
      "\u001b[36mCell\u001b[39m\u001b[36m \u001b[39m\u001b[32mIn[9]\u001b[39m\u001b[32m, line 7\u001b[39m\n\u001b[32m      3\u001b[39m \u001b[38;5;66;03m#results = bootstrap_diff_means(a, \"orders_post_cuped\")\u001b[39;00m\n\u001b[32m      4\u001b[39m \n\u001b[32m      5\u001b[39m \u001b[38;5;66;03m# Convert % for plotting\u001b[39;00m\n\u001b[32m      6\u001b[39m \u001b[38;5;28;01mfor\u001b[39;00m r \u001b[38;5;129;01min\u001b[39;00m results:\n\u001b[32m----> \u001b[39m\u001b[32m7\u001b[39m     r[\u001b[33m\"\u001b[39m\u001b[33mmean_pct\u001b[39m\u001b[33m\"\u001b[39m] = \u001b[43mr\u001b[49m\u001b[43m[\u001b[49m\u001b[33;43m\"\u001b[39;49m\u001b[33;43mbootstrap_mean_diff\u001b[39;49m\u001b[33;43m\"\u001b[39;49m\u001b[43m]\u001b[49m * \u001b[32m100\u001b[39m\n\u001b[32m      8\u001b[39m     r[\u001b[33m\"\u001b[39m\u001b[33mci_low\u001b[39m\u001b[33m\"\u001b[39m] = r[\u001b[33m\"\u001b[39m\u001b[33mci\u001b[39m\u001b[33m\"\u001b[39m][\u001b[33m\"\u001b[39m\u001b[33mdiff\u001b[39m\u001b[33m\"\u001b[39m][\u001b[32m0\u001b[39m] * \u001b[32m100\u001b[39m\n\u001b[32m      9\u001b[39m     r[\u001b[33m\"\u001b[39m\u001b[33mci_high\u001b[39m\u001b[33m\"\u001b[39m] = r[\u001b[33m\"\u001b[39m\u001b[33mci\u001b[39m\u001b[33m\"\u001b[39m][\u001b[33m\"\u001b[39m\u001b[33mdiff\u001b[39m\u001b[33m\"\u001b[39m][\u001b[32m1\u001b[39m] * \u001b[32m100\u001b[39m\n",
      "\u001b[31mTypeError\u001b[39m: string indices must be integers, not 'str'"
     ]
    }
   ],
   "source": [
    "import matplotlib.pyplot as plt\n",
    "\n",
    "results = bootstrap_diff_means(a, \"orders_post_cuped\")\n",
    "\n",
    "# Convert % for plotting\n",
    "for r in results:\n",
    "    r[\"mean_pct\"] = r[\"bootstrap_mean_diff\"] * 100\n",
    "    r[\"ci_low\"] = r[\"ci\"][\"diff\"][0] * 100\n",
    "    r[\"ci_high\"] = r[\"ci\"][\"diff\"][1] * 100\n",
    "\n",
    "# Plot\n",
    "fig, ax = plt.subplots(figsize=(9, 3))\n",
    "\n",
    "for i, r in enumerate(results):\n",
    "    ax.errorbar(r[\"mean_pct\"], i, xerr=[[r[\"mean_pct\"] - r[\"ci_low\"]], [r[\"ci_high\"] - r[\"mean_pct\"]]],\n",
    "                fmt='o', capsize=5, capthick=2, label=r[\"label\"])\n",
    "\n",
    "    # Optional: background bar\n",
    "    ax.axhspan(i - 0.3, i + 0.3, color='gray', alpha=0.05)\n",
    "\n",
    "# Formatting\n",
    "ax.axvline(0, color='gray', linestyle='--')\n",
    "ax.set_yticks(range(len(results)))\n",
    "ax.set_yticklabels([r[\"label\"] for r in results])\n",
    "ax.set_xlabel(\"Uplift (percentage points)\")\n",
    "ax.set_title(\"Bootstrapped Differences in Means\")\n",
    "plt.grid(True, axis='x', linestyle='--', alpha=0.5)\n",
    "plt.tight_layout()\n",
    "plt.show()"
   ]
  },
  {
   "cell_type": "code",
   "execution_count": 29,
   "metadata": {},
   "outputs": [
    {
     "data": {
      "text/plain": [
       "({'mean': np.float64(5.17), 'ci': (np.float64(5.068), np.float64(5.276))},\n",
       " {'mean': np.float64(5.17), 'ci': (np.float64(5.069), np.float64(5.271))})"
      ]
     },
     "execution_count": 29,
     "metadata": {},
     "output_type": "execute_result"
    }
   ],
   "source": [
    "CI_comparison_single(raw_cuped_cumm_df, \"orders_post_cuped\",\"PY_DO\", holdout = True)"
   ]
  },
  {
   "cell_type": "markdown",
   "metadata": {},
   "source": []
  },
  {
   "cell_type": "code",
   "execution_count": 4,
   "metadata": {},
   "outputs": [
    {
     "name": "stdout",
     "output_type": "stream",
     "text": [
      "2025-04-01 14:20:25,720 INFO:\n",
      "Observed Mean Diff: 0.0303\n",
      "Bootstrap Mean Diff: 0.0319\n",
      "Bootstrap 95% CI: (-0.0709, 0.135)\n",
      "Bootstrap P-value: 0.6338\n",
      "Observed Mean Diff: 0.0303\n",
      "T-statistic: 0.5801\n",
      "P-value: 0.5619\n",
      "95% CI: (-0.0720, 0.1326)\n"
     ]
    },
    {
     "data": {
      "text/plain": [
       "({'observed_diff': np.float64(0.03027363815769757),\n",
       "  'bootstrap_mean': np.float64(0.0319),\n",
       "  'ci': (np.float64(-0.0709), np.float64(0.135)),\n",
       "  'p_value': np.float64(0.6338),\n",
       "  'boot_diffs': array([ 0.05581707,  0.01527045,  0.05284401, ...,  0.08791726,\n",
       "         -0.08888882,  0.12259612])},\n",
       " {'observed_diff': np.float64(0.03027363815769757),\n",
       "  't_statistic': np.float64(0.5801041089113215),\n",
       "  'p_value': np.float64(0.5618553928968157),\n",
       "  'ci': (np.float64(-0.07202054200062476), np.float64(0.13256781831601988))})"
      ]
     },
     "execution_count": 4,
     "metadata": {},
     "output_type": "execute_result"
    }
   ],
   "source": [
    "CI_comparison_differences(raw_cuped_cumm_df, \"orders_post_cuped\",\"PY_DO\")"
   ]
  },
  {
   "cell_type": "code",
   "execution_count": 15,
   "metadata": {},
   "outputs": [],
   "source": [
    "a = raw_cuped_cumm_df[(raw_cuped_cumm_df[\"is_customer_holdout\"] == True) & (raw_cuped_cumm_df[\"entity_id\"] == \"PY_DO\")]"
   ]
  },
  {
   "cell_type": "code",
   "execution_count": 21,
   "metadata": {},
   "outputs": [
    {
     "data": {
      "text/html": [
       "<div>\n",
       "<style scoped>\n",
       "    .dataframe tbody tr th:only-of-type {\n",
       "        vertical-align: middle;\n",
       "    }\n",
       "\n",
       "    .dataframe tbody tr th {\n",
       "        vertical-align: top;\n",
       "    }\n",
       "\n",
       "    .dataframe thead th {\n",
       "        text-align: right;\n",
       "    }\n",
       "</style>\n",
       "<table border=\"1\" class=\"dataframe\">\n",
       "  <thead>\n",
       "    <tr style=\"text-align: right;\">\n",
       "      <th></th>\n",
       "      <th>entity_id</th>\n",
       "      <th>customer_id</th>\n",
       "      <th>is_customer_holdout</th>\n",
       "      <th>orders_pre</th>\n",
       "      <th>orders_post</th>\n",
       "      <th>analytical_profit_pre</th>\n",
       "      <th>analytical_profit_post</th>\n",
       "      <th>as_of_date</th>\n",
       "      <th>analytical_profit_post_cuped</th>\n",
       "      <th>orders_post_cuped</th>\n",
       "    </tr>\n",
       "  </thead>\n",
       "  <tbody>\n",
       "    <tr>\n",
       "      <th>50356</th>\n",
       "      <td>PY_DO</td>\n",
       "      <td>16496517</td>\n",
       "      <td>True</td>\n",
       "      <td>11</td>\n",
       "      <td>27</td>\n",
       "      <td>42.628823</td>\n",
       "      <td>90.977305</td>\n",
       "      <td>2025-03-31</td>\n",
       "      <td>52.081002</td>\n",
       "      <td>19.122292</td>\n",
       "    </tr>\n",
       "    <tr>\n",
       "      <th>50357</th>\n",
       "      <td>PY_DO</td>\n",
       "      <td>78054397</td>\n",
       "      <td>True</td>\n",
       "      <td>0</td>\n",
       "      <td>1</td>\n",
       "      <td>0.000000</td>\n",
       "      <td>2.754215</td>\n",
       "      <td>2025-03-31</td>\n",
       "      <td>9.396003</td>\n",
       "      <td>5.024267</td>\n",
       "    </tr>\n",
       "    <tr>\n",
       "      <th>50358</th>\n",
       "      <td>PY_DO</td>\n",
       "      <td>84376670</td>\n",
       "      <td>True</td>\n",
       "      <td>7</td>\n",
       "      <td>15</td>\n",
       "      <td>25.782875</td>\n",
       "      <td>14.553229</td>\n",
       "      <td>2025-03-31</td>\n",
       "      <td>-6.347449</td>\n",
       "      <td>11.450283</td>\n",
       "    </tr>\n",
       "    <tr>\n",
       "      <th>50359</th>\n",
       "      <td>PY_DO</td>\n",
       "      <td>59379790</td>\n",
       "      <td>True</td>\n",
       "      <td>2</td>\n",
       "      <td>3</td>\n",
       "      <td>0.251678</td>\n",
       "      <td>0.636564</td>\n",
       "      <td>2025-03-31</td>\n",
       "      <td>7.009498</td>\n",
       "      <td>4.860272</td>\n",
       "    </tr>\n",
       "    <tr>\n",
       "      <th>50360</th>\n",
       "      <td>PY_DO</td>\n",
       "      <td>67657819</td>\n",
       "      <td>True</td>\n",
       "      <td>11</td>\n",
       "      <td>7</td>\n",
       "      <td>34.286351</td>\n",
       "      <td>22.118214</td>\n",
       "      <td>2025-03-31</td>\n",
       "      <td>-7.866272</td>\n",
       "      <td>-0.877708</td>\n",
       "    </tr>\n",
       "    <tr>\n",
       "      <th>...</th>\n",
       "      <td>...</td>\n",
       "      <td>...</td>\n",
       "      <td>...</td>\n",
       "      <td>...</td>\n",
       "      <td>...</td>\n",
       "      <td>...</td>\n",
       "      <td>...</td>\n",
       "      <td>...</td>\n",
       "      <td>...</td>\n",
       "      <td>...</td>\n",
       "    </tr>\n",
       "    <tr>\n",
       "      <th>61790</th>\n",
       "      <td>PY_DO</td>\n",
       "      <td>20815034</td>\n",
       "      <td>True</td>\n",
       "      <td>0</td>\n",
       "      <td>4</td>\n",
       "      <td>0.000000</td>\n",
       "      <td>5.438421</td>\n",
       "      <td>2025-03-31</td>\n",
       "      <td>12.080209</td>\n",
       "      <td>8.024267</td>\n",
       "    </tr>\n",
       "    <tr>\n",
       "      <th>61791</th>\n",
       "      <td>PY_DO</td>\n",
       "      <td>16499131</td>\n",
       "      <td>True</td>\n",
       "      <td>15</td>\n",
       "      <td>18</td>\n",
       "      <td>39.712943</td>\n",
       "      <td>72.608401</td>\n",
       "      <td>2025-03-31</td>\n",
       "      <td>36.826977</td>\n",
       "      <td>5.794301</td>\n",
       "    </tr>\n",
       "    <tr>\n",
       "      <th>61792</th>\n",
       "      <td>PY_DO</td>\n",
       "      <td>89269107</td>\n",
       "      <td>True</td>\n",
       "      <td>0</td>\n",
       "      <td>5</td>\n",
       "      <td>0.000000</td>\n",
       "      <td>2.307820</td>\n",
       "      <td>2025-03-31</td>\n",
       "      <td>8.949608</td>\n",
       "      <td>9.024267</td>\n",
       "    </tr>\n",
       "    <tr>\n",
       "      <th>61793</th>\n",
       "      <td>PY_DO</td>\n",
       "      <td>41086030</td>\n",
       "      <td>True</td>\n",
       "      <td>3</td>\n",
       "      <td>0</td>\n",
       "      <td>3.558943</td>\n",
       "      <td>0.000000</td>\n",
       "      <td>2025-03-31</td>\n",
       "      <td>2.839960</td>\n",
       "      <td>0.778274</td>\n",
       "    </tr>\n",
       "    <tr>\n",
       "      <th>61794</th>\n",
       "      <td>PY_DO</td>\n",
       "      <td>30144135</td>\n",
       "      <td>True</td>\n",
       "      <td>30</td>\n",
       "      <td>12</td>\n",
       "      <td>100.032442</td>\n",
       "      <td>47.092505</td>\n",
       "      <td>2025-03-31</td>\n",
       "      <td>-53.125013</td>\n",
       "      <td>-16.435665</td>\n",
       "    </tr>\n",
       "  </tbody>\n",
       "</table>\n",
       "<p>11439 rows × 10 columns</p>\n",
       "</div>"
      ],
      "text/plain": [
       "      entity_id customer_id  is_customer_holdout  orders_pre  orders_post  \\\n",
       "50356     PY_DO    16496517                 True          11           27   \n",
       "50357     PY_DO    78054397                 True           0            1   \n",
       "50358     PY_DO    84376670                 True           7           15   \n",
       "50359     PY_DO    59379790                 True           2            3   \n",
       "50360     PY_DO    67657819                 True          11            7   \n",
       "...         ...         ...                  ...         ...          ...   \n",
       "61790     PY_DO    20815034                 True           0            4   \n",
       "61791     PY_DO    16499131                 True          15           18   \n",
       "61792     PY_DO    89269107                 True           0            5   \n",
       "61793     PY_DO    41086030                 True           3            0   \n",
       "61794     PY_DO    30144135                 True          30           12   \n",
       "\n",
       "       analytical_profit_pre  analytical_profit_post as_of_date  \\\n",
       "50356              42.628823               90.977305 2025-03-31   \n",
       "50357               0.000000                2.754215 2025-03-31   \n",
       "50358              25.782875               14.553229 2025-03-31   \n",
       "50359               0.251678                0.636564 2025-03-31   \n",
       "50360              34.286351               22.118214 2025-03-31   \n",
       "...                      ...                     ...        ...   \n",
       "61790               0.000000                5.438421 2025-03-31   \n",
       "61791              39.712943               72.608401 2025-03-31   \n",
       "61792               0.000000                2.307820 2025-03-31   \n",
       "61793               3.558943                0.000000 2025-03-31   \n",
       "61794             100.032442               47.092505 2025-03-31   \n",
       "\n",
       "       analytical_profit_post_cuped  orders_post_cuped  \n",
       "50356                     52.081002          19.122292  \n",
       "50357                      9.396003           5.024267  \n",
       "50358                     -6.347449          11.450283  \n",
       "50359                      7.009498           4.860272  \n",
       "50360                     -7.866272          -0.877708  \n",
       "...                             ...                ...  \n",
       "61790                     12.080209           8.024267  \n",
       "61791                     36.826977           5.794301  \n",
       "61792                      8.949608           9.024267  \n",
       "61793                      2.839960           0.778274  \n",
       "61794                    -53.125013         -16.435665  \n",
       "\n",
       "[11439 rows x 10 columns]"
      ]
     },
     "execution_count": 21,
     "metadata": {},
     "output_type": "execute_result"
    }
   ],
   "source": [
    "a"
   ]
  },
  {
   "cell_type": "code",
   "execution_count": 24,
   "metadata": {},
   "outputs": [
    {
     "name": "stdout",
     "output_type": "stream",
     "text": [
      "Group Mean: 5.1699\n",
      "95% CI: (5.0680, 5.2763)\n"
     ]
    },
    {
     "data": {
      "text/plain": [
       "({'mean': np.float64(5.1699),\n",
       "  'ci': (np.float64(5.068), np.float64(5.2763)),\n",
       "  'boot_means': array([5.11838038, 5.08946885, 5.20810651, ..., 5.15020509, 5.13606836,\n",
       "         5.14838947])},\n",
       " {'mean': np.float64(5.169944925255704),\n",
       "  'ci': (np.float64(5.068666199884451), np.float64(5.271223650626958))})"
      ]
     },
     "execution_count": 24,
     "metadata": {},
     "output_type": "execute_result"
    }
   ],
   "source": []
  },
  {
   "cell_type": "code",
   "execution_count": 142,
   "metadata": {},
   "outputs": [
    {
     "data": {
      "application/vnd.jupyter.widget-view+json": {
       "model_id": "ac0f873a3dd8431680e4bcc51d7b5f38",
       "version_major": 2,
       "version_minor": 0
      },
      "text/plain": [
       "Holdout - Entities:   0%|          | 0/2 [00:00<?, ?it/s]"
      ]
     },
     "metadata": {},
     "output_type": "display_data"
    },
    {
     "data": {
      "application/vnd.jupyter.widget-view+json": {
       "model_id": "45f52ed7afa043f4aaa1a9c131fe7ce8",
       "version_major": 2,
       "version_minor": 0
      },
      "text/plain": [
       "Holdout - Weeks:   0%|          | 0/1 [00:00<?, ?it/s]"
      ]
     },
     "metadata": {},
     "output_type": "display_data"
    },
    {
     "data": {
      "application/vnd.jupyter.widget-view+json": {
       "model_id": "1e59cc4949ff4899b4963354de1c5ec8",
       "version_major": 2,
       "version_minor": 0
      },
      "text/plain": [
       "Holdout - Weeks:   0%|          | 0/1 [00:00<?, ?it/s]"
      ]
     },
     "metadata": {},
     "output_type": "display_data"
    },
    {
     "data": {
      "application/vnd.jupyter.widget-view+json": {
       "model_id": "5b7395c4852e4589887b190d58923b94",
       "version_major": 2,
       "version_minor": 0
      },
      "text/plain": [
       "Non-holdout - Entities:   0%|          | 0/2 [00:00<?, ?it/s]"
      ]
     },
     "metadata": {},
     "output_type": "display_data"
    },
    {
     "data": {
      "application/vnd.jupyter.widget-view+json": {
       "model_id": "9cf7b84ce7ad4b9da95ab8916c459b28",
       "version_major": 2,
       "version_minor": 0
      },
      "text/plain": [
       "Non-holdout - Weeks:   0%|          | 0/1 [00:00<?, ?it/s]"
      ]
     },
     "metadata": {},
     "output_type": "display_data"
    },
    {
     "data": {
      "application/vnd.jupyter.widget-view+json": {
       "model_id": "be8911ae18a945428fe3a523c5b194e0",
       "version_major": 2,
       "version_minor": 0
      },
      "text/plain": [
       "Non-holdout - Weeks:   0%|          | 0/1 [00:00<?, ?it/s]"
      ]
     },
     "metadata": {},
     "output_type": "display_data"
    }
   ],
   "source": [
    "raw_cuped_cumm_df = apply_cuped_adjustment(cleaned_cumm_df, entities, week_mondays)"
   ]
  },
  {
   "cell_type": "code",
   "execution_count": 134,
   "metadata": {},
   "outputs": [
    {
     "data": {
      "text/plain": [
       "[datetime.date(2025, 3, 31)]"
      ]
     },
     "execution_count": 134,
     "metadata": {},
     "output_type": "execute_result"
    }
   ],
   "source": [
    "week_mondays"
   ]
  },
  {
   "cell_type": "code",
   "execution_count": 143,
   "metadata": {},
   "outputs": [
    {
     "name": "stderr",
     "output_type": "stream",
     "text": [
      "/Users/shazeb.asad/global_pricing/venv_bayesian/lib/python3.13/site-packages/google/auth/_default.py:76: UserWarning: Your application has authenticated using end user credentials from Google Cloud SDK without a quota project. You might receive a \"quota exceeded\" or \"API not enabled\" error. See the following page for troubleshooting: https://cloud.google.com/docs/authentication/adc-troubleshooting/user-creds. \n",
      "  warnings.warn(_CLOUD_SDK_CREDENTIALS_WARNING)\n",
      "/Users/shazeb.asad/global_pricing/venv_bayesian/lib/python3.13/site-packages/google/auth/_default.py:76: UserWarning: Your application has authenticated using end user credentials from Google Cloud SDK without a quota project. You might receive a \"quota exceeded\" or \"API not enabled\" error. See the following page for troubleshooting: https://cloud.google.com/docs/authentication/adc-troubleshooting/user-creds. \n",
      "  warnings.warn(_CLOUD_SDK_CREDENTIALS_WARNING)\n"
     ]
    },
    {
     "data": {
      "application/vnd.jupyter.widget-view+json": {
       "model_id": "2b345acd85634a2a8c2b98469d8bf2d9",
       "version_major": 2,
       "version_minor": 0
      },
      "text/plain": [
       "Week:   0%|          | 0/1 [00:00<?, ?it/s]"
      ]
     },
     "metadata": {},
     "output_type": "display_data"
    },
    {
     "name": "stdout",
     "output_type": "stream",
     "text": [
      "2025-04-01 12:35:36,401 INFO:✅ Data uploaded to GCS at parquet_files/cuped_holdout_as_of_2025-03-31.parquet (overwritten)\n"
     ]
    }
   ],
   "source": [
    "\n"
   ]
  },
  {
   "cell_type": "code",
   "execution_count": 127,
   "metadata": {},
   "outputs": [
    {
     "data": {
      "text/plain": [
       "entity_id                       0\n",
       "customer_id                     0\n",
       "is_customer_holdout             0\n",
       "orders_pre                      0\n",
       "orders_post                     0\n",
       "analytical_profit_pre           0\n",
       "analytical_profit_post          0\n",
       "as_of_date                      0\n",
       "analytical_profit_post_cuped    0\n",
       "orders_post_cuped               0\n",
       "dtype: int64"
      ]
     },
     "execution_count": 127,
     "metadata": {},
     "output_type": "execute_result"
    }
   ],
   "source": [
    "raw_cuped_cumm_df.isna().sum()"
   ]
  },
  {
   "cell_type": "code",
   "execution_count": 114,
   "metadata": {},
   "outputs": [],
   "source": [
    "holdout = raw_cuped_cumm_df[(raw_cuped_cumm_df['is_customer_holdout'] == True) & (raw_cuped_cumm_df['entity_id'] == 'PY_DO')]\n",
    "non_holdout = raw_cuped_cumm_df[(raw_cuped_cumm_df['is_customer_holdout'] == False) & (raw_cuped_cumm_df['entity_id'] == 'PY_DO')]"
   ]
  },
  {
   "cell_type": "code",
   "execution_count": 98,
   "metadata": {},
   "outputs": [],
   "source": []
  },
  {
   "cell_type": "code",
   "execution_count": 116,
   "metadata": {},
   "outputs": [
    {
     "name": "stdout",
     "output_type": "stream",
     "text": [
      "Group Mean: 8.1501\n",
      "95% CI: (8.1165, 8.1852)\n",
      "Group Mean: 8.1501\n",
      "95% CI: (8.0920, 8.2083)\n"
     ]
    },
    {
     "data": {
      "image/png": "[encoded data removed]",
      "text/plain": [
       "<Figure size 1200x600 with 1 Axes>"
      ]
     },
     "metadata": {},
     "output_type": "display_data"
    }
   ],
   "source": [
    "a = bootstrap_single_group(non_holdout, \"analytical_profit_post_cuped\")\n",
    "b = bootstrap_single_group(non_holdout, \"analytical_profit_post\")\n",
    "\n",
    "plot_bootstrap_comparison(a, \"Post-CUPED\", b, \"Post-Raw\")"
   ]
  },
  {
   "cell_type": "code",
   "execution_count": 101,
   "metadata": {},
   "outputs": [],
   "source": [
    "a = t_confidence_interval(h[\"analytical_profit_post_cuped\"])\n",
    "b = t_confidence_interval(h[\"analytical_profit_post\"])"
   ]
  },
  {
   "cell_type": "code",
   "execution_count": 102,
   "metadata": {},
   "outputs": [
    {
     "data": {
      "text/plain": [
       "{'mean': np.float64(8.12553977582006),\n",
       " 'ci': (np.float64(7.878891231985968), np.float64(8.372188319654153))}"
      ]
     },
     "execution_count": 102,
     "metadata": {},
     "output_type": "execute_result"
    }
   ],
   "source": [
    "a"
   ]
  },
  {
   "cell_type": "code",
   "execution_count": 103,
   "metadata": {},
   "outputs": [
    {
     "data": {
      "text/plain": [
       "{'mean': np.float64(8.12553977582006),\n",
       " 'ci': (np.float64(7.713358693671499), np.float64(8.537720857968623))}"
      ]
     },
     "execution_count": 103,
     "metadata": {},
     "output_type": "execute_result"
    }
   ],
   "source": [
    "b"
   ]
  },
  {
   "cell_type": "code",
   "execution_count": 83,
   "metadata": {},
   "outputs": [
    {
     "ename": "TypeError",
     "evalue": "bootstrap_single_group() missing 1 required positional argument: 'adjusted_metric'",
     "output_type": "error",
     "traceback": [
      "\u001b[31m---------------------------------------------------------------------------\u001b[39m",
      "\u001b[31mTypeError\u001b[39m                                 Traceback (most recent call last)",
      "\u001b[36mCell\u001b[39m\u001b[36m \u001b[39m\u001b[32mIn[83]\u001b[39m\u001b[32m, line 1\u001b[39m\n\u001b[32m----> \u001b[39m\u001b[32m1\u001b[39m hb = \u001b[43mbootstrap_single_group\u001b[49m\u001b[43m(\u001b[49m\u001b[43mh\u001b[49m\u001b[43m)\u001b[49m\n\u001b[32m      2\u001b[39m nhb = bootstrap_single_group(nh)\n",
      "\u001b[31mTypeError\u001b[39m: bootstrap_single_group() missing 1 required positional argument: 'adjusted_metric'"
     ]
    }
   ],
   "source": [
    "hb_cuped = bootstrap_single_group(h,\"\")\n",
    "hb_non_cuped = bootstrap_single_group(nh)"
   ]
  },
  {
   "cell_type": "code",
   "execution_count": 75,
   "metadata": {},
   "outputs": [
    {
     "name": "stdout",
     "output_type": "stream",
     "text": [
      "8.125539775820057\n",
      "Original variance: 181.11610552838715\n",
      "CUPED variance:    181.11610304667784\n",
      "8.150088258859702\n",
      "Original variance: 169.93911518808042\n",
      "CUPED variance:    169.9391151870383\n"
     ]
    },
    {
     "name": "stderr",
     "output_type": "stream",
     "text": [
      "/var/folders/7c/hjrbzbpn61jgnsn14y5f3l7c0000gq/T/ipykernel_84025/2251284275.py:11: SettingWithCopyWarning: \n",
      "A value is trying to be set on a copy of a slice from a DataFrame.\n",
      "Try using .loc[row_indexer,col_indexer] = value instead\n",
      "\n",
      "See the caveats in the documentation: https://pandas.pydata.org/pandas-docs/stable/user_guide/indexing.html#returning-a-view-versus-a-copy\n",
      "  holdout[\"cuped_ridge\"] = (\n",
      "/var/folders/7c/hjrbzbpn61jgnsn14y5f3l7c0000gq/T/ipykernel_84025/2251284275.py:28: SettingWithCopyWarning: \n",
      "A value is trying to be set on a copy of a slice from a DataFrame.\n",
      "Try using .loc[row_indexer,col_indexer] = value instead\n",
      "\n",
      "See the caveats in the documentation: https://pandas.pydata.org/pandas-docs/stable/user_guide/indexing.html#returning-a-view-versus-a-copy\n",
      "  non_holdout[\"cuped_ridge\"] = (\n"
     ]
    }
   ],
   "source": [
    "from sklearn.linear_model import Ridge\n",
    "\n",
    "X = holdout[['analytical_profit_pre']]\n",
    "y = holdout['analytical_profit_post']\n",
    "\n",
    "ridge = Ridge(alpha=1.0)\n",
    "ridge.fit(X, y)\n",
    "\n",
    "theta_ridge = ridge.coef_[0]\n",
    "\n",
    "holdout[\"cuped_ridge\"] = (\n",
    "    holdout['analytical_profit_post'] - theta_ridge * (holdout['analytical_profit_pre'] - holdout['analytical_profit_pre'].mean())\n",
    ")\n",
    "\n",
    "print(holdout['cuped_ridge'].mean())\n",
    "\n",
    "print(\"Original variance:\", holdout['cuped_standard'].var())\n",
    "print(\"CUPED variance:   \", holdout['cuped_ridge'].var())\n",
    "\n",
    "X = non_holdout[['analytical_profit_pre']]\n",
    "y = non_holdout['analytical_profit_post']\n",
    "\n",
    "ridge = Ridge(alpha=1.0)\n",
    "ridge.fit(X, y)\n",
    "\n",
    "theta_ridge = ridge.coef_[0]\n",
    "\n",
    "non_holdout[\"cuped_ridge\"] = (\n",
    "    non_holdout['analytical_profit_post'] - theta_ridge * (non_holdout['analytical_profit_pre'] - non_holdout['analytical_profit_pre'].mean())\n",
    ")\n",
    "\n",
    "print(non_holdout['cuped_ridge'].mean())\n",
    "\n",
    "print(\"Original variance:\", non_holdout['cuped_standard'].var())\n",
    "print(\"CUPED variance:   \", non_holdout['cuped_ridge'].var())\n",
    "\n"
   ]
  },
  {
   "cell_type": "code",
   "execution_count": null,
   "metadata": {},
   "outputs": [],
   "source": []
  },
  {
   "cell_type": "code",
   "execution_count": 56,
   "metadata": {},
   "outputs": [],
   "source": [
    "group_a = test[test[\"is_customer_holdout\"] == False]\n",
    "group_b = test[test[\"is_customer_holdout\"] == True]"
   ]
  },
  {
   "cell_type": "code",
   "execution_count": 57,
   "metadata": {},
   "outputs": [
    {
     "name": "stdout",
     "output_type": "stream",
     "text": [
      "Group Mean: 5.2002\n",
      "95% CI: (5.1761, 5.2237)\n",
      "Group Mean: 5.1699\n",
      "95% CI: (5.0045, 5.3362)\n"
     ]
    }
   ],
   "source": [
    "a = bootstrap_single_group(\n",
    "    group_a,\n",
    "    \"orders_post\"\n",
    ")\n",
    "\n",
    "b = bootstrap_single_group(\n",
    "    group_b,\n",
    "    \"orders_post\"\n",
    ")"
   ]
  },
  {
   "cell_type": "code",
   "execution_count": 37,
   "metadata": {},
   "outputs": [
    {
     "name": "stdout",
     "output_type": "stream",
     "text": [
      "2025-03-31 16:55:15,787 INFO:\n",
      "Observed Mean Diff: 0.0303\n",
      "Bootstrap Mean Diff: 0.0291\n",
      "Bootstrap 95% CI: (-0.1427, 0.1965)\n",
      "Bootstrap P-value: 0.7438\n"
     ]
    }
   ],
   "source": [
    "a = bootstrap_with_pvalue(test, \"orders_post\")"
   ]
  },
  {
   "cell_type": "code",
   "execution_count": 47,
   "metadata": {},
   "outputs": [
    {
     "name": "stdout",
     "output_type": "stream",
     "text": [
      "Observed Mean Diff: 0.0303\n",
      "T-statistic: 0.3533\n",
      "P-value: 0.7239\n",
      "95% CI: (-0.1377, 0.1982)\n"
     ]
    },
    {
     "data": {
      "image/png": "[encoded data removed]",
      "text/plain": [
       "<Figure size 1000x600 with 1 Axes>"
      ]
     },
     "metadata": {},
     "output_type": "display_data"
    }
   ],
   "source": [
    "from scipy.stats import norm\n",
    "\n",
    "result_ttest = welchs_ttest_with_ci(test, \"orders_post\")\n",
    "\n",
    "# Recalculate standard error using same logic as in your function\n",
    "group_a = test[test[\"is_customer_holdout\"] == False][\"orders_post\"].values\n",
    "group_b = test[test[\"is_customer_holdout\"] == True][\"orders_post\"].values\n",
    "\n",
    "se_diff = np.sqrt(np.var(group_a, ddof=1) / len(group_a) + np.var(group_b, ddof=1) / len(group_b))\n",
    "\n",
    "# Now plot\n",
    "plot_ttest_distribution(\n",
    "    observed_diff=result_ttest[\"observed_diff\"],\n",
    "    se_diff=se_diff,\n",
    "    ci=result_ttest[\"ci\"],\n",
    "    alpha=0.05\n",
    ")\n"
   ]
  },
  {
   "cell_type": "code",
   "execution_count": 39,
   "metadata": {},
   "outputs": [
    {
     "data": {
      "image/png": "[encoded data removed]",
      "text/plain": [
       "<Figure size 1000x600 with 1 Axes>"
      ]
     },
     "metadata": {},
     "output_type": "display_data"
    }
   ],
   "source": [
    "plot_bootstrap_distribution(a)\n"
   ]
  },
  {
   "cell_type": "code",
   "execution_count": null,
   "metadata": {},
   "outputs": [],
   "source": [
    "cleaned_cumm_df[(cleaned_cumm_df['entity_id'] == 'PY_DO') & (cleaned_cumm_df['entity_id'] == 'PY_DO')]"
   ]
  },
  {
   "cell_type": "code",
   "execution_count": 18,
   "metadata": {},
   "outputs": [
    {
     "name": "stdout",
     "output_type": "stream",
     "text": [
      "Observed diff: -0.0303\n",
      "P-value: 0.7383\n",
      "95% CI: (np.float64(-0.19423178411817624), np.float64(0.13973274537831404))\n"
     ]
    }
   ],
   "source": [
    "# Example: conversion rates in two groups\n",
    "a = cleaned_cumm_df[(cleaned_cumm_df['entity_id'] == 'PY_DO') & (cleaned_cumm_df['is_customer_holdout'] == True)]['orders_post']\n",
    "b = cleaned_cumm_df[(cleaned_cumm_df['entity_id'] == 'PY_DO') & (cleaned_cumm_df['is_customer_holdout'] == False)]['orders_post']\n",
    "\n",
    "result = bootstrap_ttest(a, b)\n",
    "\n",
    "print(f\"Observed diff: {result['observed_diff']:.4f}\")\n",
    "print(f\"P-value: {result['p_value']:.4f}\")\n",
    "print(f\"95% CI: {result['ci']}\")"
   ]
  },
  {
   "cell_type": "code",
   "execution_count": 19,
   "metadata": {},
   "outputs": [
    {
     "data": {
      "image/png": "[encoded data removed]",
      "text/plain": [
       "<Figure size 640x480 with 1 Axes>"
      ]
     },
     "metadata": {},
     "output_type": "display_data"
    }
   ],
   "source": [
    "import matplotlib.pyplot as plt\n",
    "import seaborn as sns\n",
    "\n",
    "sns.histplot(result[\"boot_diffs\"], bins=50, kde=True)\n",
    "plt.axvline(result[\"observed_diff\"], color='red', linestyle='--', label='Observed Diff')\n",
    "plt.title(\"Bootstrapped Distribution of Difference in Means\")\n",
    "plt.xlabel(\"Difference in Means\")\n",
    "plt.legend()\n",
    "plt.show()"
   ]
  },
  {
   "cell_type": "code",
   "execution_count": 88,
   "metadata": {},
   "outputs": [],
   "source": [
    "# ## Define the list of entities that have data in marketing tables ## \n",
    "# ## --> rest of the data is extracted from DPS with condition not in the following entities ##\n",
    "\n",
    "# # mkt_entity_id = tuple(set((\n",
    "# #     'FP_PK','PY_DO','PY_BO', 'FP_TW', \n",
    "# #     'PY_PY', 'DJ_CZ', 'PY_EC','MJM_AT' ,'PY_PE', 'PY_AR',\n",
    "# #     'PY_GT','PY_SV' ,'FP_PH','PY_NI' ,'NP_HU' ,'FP_MM','EF_GR',\n",
    "# #     'AP_PA','YS_TR', 'PY_UY' ,'OP_SE' ,'PY_CL' ,'FP_BD' ,'FP_SG',\n",
    "# #     'FO_NO' ,'PY_CR', 'FP_LA','PY_HN', 'FP_MY' ,'FP_TH', 'FY_CY',\n",
    "# #     'PY_VE','PO_FI','TB_QA','TB_OM','TB_KW','TB_JO','TB_IQ',\n",
    "# #     'TB_BH','TB_AE','HS_SA'\n",
    "# # )))\n",
    "\n",
    "# mkt_entity_id = (\n",
    "#     'FP_PK','PY_DO'\n",
    "# )\n",
    "\n",
    "\n",
    "# client = initialize_bigquery_client(project)\n",
    "\n",
    "# final_df = pd.DataFrame()  # Empty DataFrame to store the results\n",
    "\n",
    "# for m in week_mondays:\n",
    "#     print(f\"Querying for week starting {m}\")\n",
    "    \n",
    "#     # Run your query\n",
    "#     test = client.query(marketing_data(mkt_entity_id, m)).to_dataframe()\n",
    "\n",
    "#     # Add the as_of_date column\n",
    "#     test[\"as_of_date\"] = m\n",
    "\n",
    "#     # Append to the final dataframe\n",
    "#     final_df = pd.concat([final_df, test], ignore_index=True)"
   ]
  },
  {
   "cell_type": "code",
   "execution_count": 89,
   "metadata": {},
   "outputs": [],
   "source": [
    "# get_cumm_data(project, mkt_entity_id, week_mondays)"
   ]
  },
  {
   "cell_type": "code",
   "execution_count": 77,
   "metadata": {},
   "outputs": [
    {
     "data": {
      "text/plain": [
       "[datetime.date(2025, 2, 3),\n",
       " datetime.date(2025, 2, 10),\n",
       " datetime.date(2025, 2, 17),\n",
       " datetime.date(2025, 2, 24),\n",
       " datetime.date(2025, 3, 3),\n",
       " datetime.date(2025, 3, 10),\n",
       " datetime.date(2025, 3, 17),\n",
       " datetime.date(2025, 3, 24)]"
      ]
     },
     "execution_count": 77,
     "metadata": {},
     "output_type": "execute_result"
    }
   ],
   "source": [
    "week_mondays"
   ]
  },
  {
   "cell_type": "code",
   "execution_count": 70,
   "metadata": {},
   "outputs": [],
   "source": [
    "# extract_data(project, get_marketing_data(mkt_entity_id, '2025-02-03'), get_dps_data(mkt_entity_id, '2025-02-03'))"
   ]
  },
  {
   "cell_type": "code",
   "execution_count": 71,
   "metadata": {},
   "outputs": [],
   "source": [
    "# a = fill_nans(final_df)"
   ]
  },
  {
   "cell_type": "code",
   "execution_count": 72,
   "metadata": {},
   "outputs": [],
   "source": [
    "# b = drop_users_with_no_data(a)"
   ]
  },
  {
   "cell_type": "code",
   "execution_count": 73,
   "metadata": {},
   "outputs": [],
   "source": [
    "# b"
   ]
  },
  {
   "cell_type": "code",
   "execution_count": 74,
   "metadata": {},
   "outputs": [],
   "source": [
    "# c = b[b['as_of_date'] == date(2025, 2, 3)]\n"
   ]
  },
  {
   "cell_type": "code",
   "execution_count": 75,
   "metadata": {},
   "outputs": [],
   "source": [
    "# d = c[c['entity_id'] == 'FP_PK']"
   ]
  },
  {
   "cell_type": "code",
   "execution_count": 76,
   "metadata": {},
   "outputs": [],
   "source": [
    "# d.describe()"
   ]
  },
  {
   "cell_type": "markdown",
   "metadata": {},
   "source": []
  },
  {
   "cell_type": "markdown",
   "metadata": {},
   "source": []
  },
  {
   "cell_type": "code",
   "execution_count": 45,
   "metadata": {},
   "outputs": [
    {
     "data": {
      "text/plain": [
       "<Axes: >"
      ]
     },
     "execution_count": 45,
     "metadata": {},
     "output_type": "execute_result"
    },
    {
     "data": {
      "image/png": "[encoded data removed]",
      "text/plain": [
       "<Figure size 640x480 with 1 Axes>"
      ]
     },
     "metadata": {},
     "output_type": "display_data"
    }
   ],
   "source": [
    "d[d['orders_pre'] < ]['orders_pre'].hist()"
   ]
  },
  {
   "cell_type": "code",
   "execution_count": 36,
   "metadata": {},
   "outputs": [
    {
     "data": {
      "text/html": [
       "<div>\n",
       "<style scoped>\n",
       "    .dataframe tbody tr th:only-of-type {\n",
       "        vertical-align: middle;\n",
       "    }\n",
       "\n",
       "    .dataframe tbody tr th {\n",
       "        vertical-align: top;\n",
       "    }\n",
       "\n",
       "    .dataframe thead th {\n",
       "        text-align: right;\n",
       "    }\n",
       "</style>\n",
       "<table border=\"1\" class=\"dataframe\">\n",
       "  <thead>\n",
       "    <tr style=\"text-align: right;\">\n",
       "      <th></th>\n",
       "      <th>entity_id</th>\n",
       "      <th>customer_id</th>\n",
       "      <th>is_customer_holdout</th>\n",
       "      <th>orders_pre</th>\n",
       "      <th>orders_post</th>\n",
       "      <th>analytical_profit_pre</th>\n",
       "      <th>analytical_profit_post</th>\n",
       "      <th>as_of_date</th>\n",
       "    </tr>\n",
       "  </thead>\n",
       "  <tbody>\n",
       "    <tr>\n",
       "      <th>1912</th>\n",
       "      <td>FP_PK</td>\n",
       "      <td>pkl5vh4v</td>\n",
       "      <td>False</td>\n",
       "      <td>299</td>\n",
       "      <td>162</td>\n",
       "      <td>-232.459968</td>\n",
       "      <td>-139.015658</td>\n",
       "      <td>2025-02-03</td>\n",
       "    </tr>\n",
       "    <tr>\n",
       "      <th>30450</th>\n",
       "      <td>FP_PK</td>\n",
       "      <td>pkmi7z73</td>\n",
       "      <td>False</td>\n",
       "      <td>180</td>\n",
       "      <td>101</td>\n",
       "      <td>129.225454</td>\n",
       "      <td>68.925644</td>\n",
       "      <td>2025-02-03</td>\n",
       "    </tr>\n",
       "    <tr>\n",
       "      <th>40095</th>\n",
       "      <td>FP_PK</td>\n",
       "      <td>pkfuznbn</td>\n",
       "      <td>False</td>\n",
       "      <td>421</td>\n",
       "      <td>115</td>\n",
       "      <td>-374.943772</td>\n",
       "      <td>-101.499222</td>\n",
       "      <td>2025-02-03</td>\n",
       "    </tr>\n",
       "    <tr>\n",
       "      <th>51087</th>\n",
       "      <td>FP_PK</td>\n",
       "      <td>pkqfcp46</td>\n",
       "      <td>False</td>\n",
       "      <td>153</td>\n",
       "      <td>102</td>\n",
       "      <td>161.496542</td>\n",
       "      <td>90.558404</td>\n",
       "      <td>2025-02-03</td>\n",
       "    </tr>\n",
       "    <tr>\n",
       "      <th>52232</th>\n",
       "      <td>FP_PK</td>\n",
       "      <td>pkrr6mgt</td>\n",
       "      <td>False</td>\n",
       "      <td>25</td>\n",
       "      <td>201</td>\n",
       "      <td>-17.522617</td>\n",
       "      <td>-171.586692</td>\n",
       "      <td>2025-02-03</td>\n",
       "    </tr>\n",
       "    <tr>\n",
       "      <th>63715</th>\n",
       "      <td>FP_PK</td>\n",
       "      <td>pkt0qzds</td>\n",
       "      <td>False</td>\n",
       "      <td>824</td>\n",
       "      <td>375</td>\n",
       "      <td>-717.823972</td>\n",
       "      <td>-329.789174</td>\n",
       "      <td>2025-02-03</td>\n",
       "    </tr>\n",
       "    <tr>\n",
       "      <th>92675</th>\n",
       "      <td>FP_PK</td>\n",
       "      <td>q2jnh3sa</td>\n",
       "      <td>False</td>\n",
       "      <td>154</td>\n",
       "      <td>103</td>\n",
       "      <td>69.738388</td>\n",
       "      <td>43.793499</td>\n",
       "      <td>2025-02-03</td>\n",
       "    </tr>\n",
       "    <tr>\n",
       "      <th>96438</th>\n",
       "      <td>FP_PK</td>\n",
       "      <td>pkc3pqe1</td>\n",
       "      <td>False</td>\n",
       "      <td>236</td>\n",
       "      <td>108</td>\n",
       "      <td>178.419564</td>\n",
       "      <td>85.678784</td>\n",
       "      <td>2025-02-03</td>\n",
       "    </tr>\n",
       "    <tr>\n",
       "      <th>99884</th>\n",
       "      <td>FP_PK</td>\n",
       "      <td>pkq9rg9b</td>\n",
       "      <td>False</td>\n",
       "      <td>86</td>\n",
       "      <td>203</td>\n",
       "      <td>-41.419323</td>\n",
       "      <td>-84.283658</td>\n",
       "      <td>2025-02-03</td>\n",
       "    </tr>\n",
       "    <tr>\n",
       "      <th>105347</th>\n",
       "      <td>FP_PK</td>\n",
       "      <td>pkzmz6d6</td>\n",
       "      <td>False</td>\n",
       "      <td>203</td>\n",
       "      <td>106</td>\n",
       "      <td>175.247182</td>\n",
       "      <td>77.061637</td>\n",
       "      <td>2025-02-03</td>\n",
       "    </tr>\n",
       "    <tr>\n",
       "      <th>127376</th>\n",
       "      <td>FP_PK</td>\n",
       "      <td>pkn5niba</td>\n",
       "      <td>False</td>\n",
       "      <td>122</td>\n",
       "      <td>101</td>\n",
       "      <td>-104.986631</td>\n",
       "      <td>-95.165917</td>\n",
       "      <td>2025-02-03</td>\n",
       "    </tr>\n",
       "    <tr>\n",
       "      <th>138064</th>\n",
       "      <td>FP_PK</td>\n",
       "      <td>pkdrc9ob</td>\n",
       "      <td>False</td>\n",
       "      <td>276</td>\n",
       "      <td>134</td>\n",
       "      <td>-115.801286</td>\n",
       "      <td>-54.924817</td>\n",
       "      <td>2025-02-03</td>\n",
       "    </tr>\n",
       "    <tr>\n",
       "      <th>167167</th>\n",
       "      <td>FP_PK</td>\n",
       "      <td>pk9w841o</td>\n",
       "      <td>False</td>\n",
       "      <td>247</td>\n",
       "      <td>122</td>\n",
       "      <td>142.407603</td>\n",
       "      <td>70.135782</td>\n",
       "      <td>2025-02-03</td>\n",
       "    </tr>\n",
       "    <tr>\n",
       "      <th>182720</th>\n",
       "      <td>FP_PK</td>\n",
       "      <td>pkqlp9nv</td>\n",
       "      <td>False</td>\n",
       "      <td>267</td>\n",
       "      <td>115</td>\n",
       "      <td>269.026710</td>\n",
       "      <td>106.925437</td>\n",
       "      <td>2025-02-03</td>\n",
       "    </tr>\n",
       "    <tr>\n",
       "      <th>184176</th>\n",
       "      <td>FP_PK</td>\n",
       "      <td>s8mbd7dx</td>\n",
       "      <td>False</td>\n",
       "      <td>278</td>\n",
       "      <td>158</td>\n",
       "      <td>159.609423</td>\n",
       "      <td>84.865316</td>\n",
       "      <td>2025-02-03</td>\n",
       "    </tr>\n",
       "    <tr>\n",
       "      <th>202480</th>\n",
       "      <td>FP_PK</td>\n",
       "      <td>pkxxu8bg</td>\n",
       "      <td>False</td>\n",
       "      <td>345</td>\n",
       "      <td>193</td>\n",
       "      <td>148.973121</td>\n",
       "      <td>86.814095</td>\n",
       "      <td>2025-02-03</td>\n",
       "    </tr>\n",
       "    <tr>\n",
       "      <th>236430</th>\n",
       "      <td>FP_PK</td>\n",
       "      <td>k5twa4pt</td>\n",
       "      <td>False</td>\n",
       "      <td>281</td>\n",
       "      <td>120</td>\n",
       "      <td>207.134304</td>\n",
       "      <td>104.980946</td>\n",
       "      <td>2025-02-03</td>\n",
       "    </tr>\n",
       "    <tr>\n",
       "      <th>253278</th>\n",
       "      <td>FP_PK</td>\n",
       "      <td>pk8rzsfz</td>\n",
       "      <td>False</td>\n",
       "      <td>102</td>\n",
       "      <td>235</td>\n",
       "      <td>-84.454311</td>\n",
       "      <td>-207.690950</td>\n",
       "      <td>2025-02-03</td>\n",
       "    </tr>\n",
       "    <tr>\n",
       "      <th>5000999</th>\n",
       "      <td>FP_PK</td>\n",
       "      <td>pkcwwoyt</td>\n",
       "      <td>False</td>\n",
       "      <td>1</td>\n",
       "      <td>191</td>\n",
       "      <td>-0.944472</td>\n",
       "      <td>-170.113301</td>\n",
       "      <td>2025-02-03</td>\n",
       "    </tr>\n",
       "    <tr>\n",
       "      <th>5075864</th>\n",
       "      <td>FP_PK</td>\n",
       "      <td>pkzxhn3i</td>\n",
       "      <td>False</td>\n",
       "      <td>1</td>\n",
       "      <td>126</td>\n",
       "      <td>-0.963974</td>\n",
       "      <td>-110.076116</td>\n",
       "      <td>2025-02-03</td>\n",
       "    </tr>\n",
       "    <tr>\n",
       "      <th>6044321</th>\n",
       "      <td>FP_PK</td>\n",
       "      <td>pkcdo1w4</td>\n",
       "      <td>False</td>\n",
       "      <td>3</td>\n",
       "      <td>127</td>\n",
       "      <td>-2.082291</td>\n",
       "      <td>-70.869225</td>\n",
       "      <td>2025-02-03</td>\n",
       "    </tr>\n",
       "    <tr>\n",
       "      <th>6560991</th>\n",
       "      <td>FP_PK</td>\n",
       "      <td>pkw7glky</td>\n",
       "      <td>False</td>\n",
       "      <td>10</td>\n",
       "      <td>125</td>\n",
       "      <td>15.982350</td>\n",
       "      <td>276.995580</td>\n",
       "      <td>2025-02-03</td>\n",
       "    </tr>\n",
       "  </tbody>\n",
       "</table>\n",
       "</div>"
      ],
      "text/plain": [
       "        entity_id customer_id  is_customer_holdout  orders_pre  orders_post  \\\n",
       "1912        FP_PK    pkl5vh4v                False         299          162   \n",
       "30450       FP_PK    pkmi7z73                False         180          101   \n",
       "40095       FP_PK    pkfuznbn                False         421          115   \n",
       "51087       FP_PK    pkqfcp46                False         153          102   \n",
       "52232       FP_PK    pkrr6mgt                False          25          201   \n",
       "63715       FP_PK    pkt0qzds                False         824          375   \n",
       "92675       FP_PK    q2jnh3sa                False         154          103   \n",
       "96438       FP_PK    pkc3pqe1                False         236          108   \n",
       "99884       FP_PK    pkq9rg9b                False          86          203   \n",
       "105347      FP_PK    pkzmz6d6                False         203          106   \n",
       "127376      FP_PK    pkn5niba                False         122          101   \n",
       "138064      FP_PK    pkdrc9ob                False         276          134   \n",
       "167167      FP_PK    pk9w841o                False         247          122   \n",
       "182720      FP_PK    pkqlp9nv                False         267          115   \n",
       "184176      FP_PK    s8mbd7dx                False         278          158   \n",
       "202480      FP_PK    pkxxu8bg                False         345          193   \n",
       "236430      FP_PK    k5twa4pt                False         281          120   \n",
       "253278      FP_PK    pk8rzsfz                False         102          235   \n",
       "5000999     FP_PK    pkcwwoyt                False           1          191   \n",
       "5075864     FP_PK    pkzxhn3i                False           1          126   \n",
       "6044321     FP_PK    pkcdo1w4                False           3          127   \n",
       "6560991     FP_PK    pkw7glky                False          10          125   \n",
       "\n",
       "         analytical_profit_pre  analytical_profit_post  as_of_date  \n",
       "1912               -232.459968             -139.015658  2025-02-03  \n",
       "30450               129.225454               68.925644  2025-02-03  \n",
       "40095              -374.943772             -101.499222  2025-02-03  \n",
       "51087               161.496542               90.558404  2025-02-03  \n",
       "52232               -17.522617             -171.586692  2025-02-03  \n",
       "63715              -717.823972             -329.789174  2025-02-03  \n",
       "92675                69.738388               43.793499  2025-02-03  \n",
       "96438               178.419564               85.678784  2025-02-03  \n",
       "99884               -41.419323              -84.283658  2025-02-03  \n",
       "105347              175.247182               77.061637  2025-02-03  \n",
       "127376             -104.986631              -95.165917  2025-02-03  \n",
       "138064             -115.801286              -54.924817  2025-02-03  \n",
       "167167              142.407603               70.135782  2025-02-03  \n",
       "182720              269.026710              106.925437  2025-02-03  \n",
       "184176              159.609423               84.865316  2025-02-03  \n",
       "202480              148.973121               86.814095  2025-02-03  \n",
       "236430              207.134304              104.980946  2025-02-03  \n",
       "253278              -84.454311             -207.690950  2025-02-03  \n",
       "5000999              -0.944472             -170.113301  2025-02-03  \n",
       "5075864              -0.963974             -110.076116  2025-02-03  \n",
       "6044321              -2.082291              -70.869225  2025-02-03  \n",
       "6560991              15.982350              276.995580  2025-02-03  "
      ]
     },
     "execution_count": 36,
     "metadata": {},
     "output_type": "execute_result"
    }
   ],
   "source": [
    "d[d['orders_post'] > 100]"
   ]
  },
  {
   "cell_type": "code",
   "execution_count": null,
   "metadata": {},
   "outputs": [],
   "source": [
    "df = drop_users_with_no_data(raw_data)"
   ]
  }
 ],
 "metadata": {
  "kernelspec": {
   "display_name": "venv_bayesian",
   "language": "python",
   "name": "python3"
  },
  "language_info": {
   "codemirror_mode": {
    "name": "ipython",
    "version": 3
   },
   "file_extension": ".py",
   "mimetype": "text/x-python",
   "name": "python",
   "nbconvert_exporter": "python",
   "pygments_lexer": "ipython3",
   "version": "3.13.2"
  }
 },
 "nbformat": 4,
 "nbformat_minor": 2
}
