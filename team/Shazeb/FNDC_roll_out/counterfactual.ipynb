{
 "cells": [
  {
   "cell_type": "code",
   "execution_count": 195,
   "metadata": {},
   "outputs": [
    {
     "name": "stdout",
     "output_type": "stream",
     "text": [
      "Collecting linearmodels\n",
      "  Downloading linearmodels-6.1-cp312-cp312-macosx_11_0_arm64.whl.metadata (7.9 kB)\n",
      "Requirement already satisfied: numpy<3,>=1.22.3 in /Users/shazeb.asad/global_pricing/.venv/lib/python3.12/site-packages (from linearmodels) (1.26.4)\n",
      "Requirement already satisfied: pandas>=1.4.0 in /Users/shazeb.asad/global_pricing/.venv/lib/python3.12/site-packages (from linearmodels) (2.2.2)\n",
      "Requirement already satisfied: scipy>=1.8.0 in /Users/shazeb.asad/global_pricing/.venv/lib/python3.12/site-packages (from linearmodels) (1.14.0)\n",
      "Requirement already satisfied: statsmodels>=0.13.0 in /Users/shazeb.asad/global_pricing/.venv/lib/python3.12/site-packages (from linearmodels) (0.14.2)\n",
      "Collecting mypy-extensions>=0.4 (from linearmodels)\n",
      "  Downloading mypy_extensions-1.0.0-py3-none-any.whl.metadata (1.1 kB)\n",
      "Collecting Cython>=3.0.10 (from linearmodels)\n",
      "  Downloading Cython-3.0.11-py2.py3-none-any.whl.metadata (3.2 kB)\n",
      "Collecting pyhdfe>=0.1 (from linearmodels)\n",
      "  Downloading pyhdfe-0.2.0-py3-none-any.whl.metadata (4.0 kB)\n",
      "Collecting formulaic>=1.0.0 (from linearmodels)\n",
      "  Downloading formulaic-1.0.2-py3-none-any.whl.metadata (6.8 kB)\n",
      "Collecting setuptools-scm<9.0.0,>=8.0.0 (from setuptools-scm[toml]<9.0.0,>=8.0.0->linearmodels)\n",
      "  Downloading setuptools_scm-8.1.0-py3-none-any.whl.metadata (6.6 kB)\n",
      "Collecting interface-meta>=1.2.0 (from formulaic>=1.0.0->linearmodels)\n",
      "  Downloading interface_meta-1.3.0-py3-none-any.whl.metadata (6.7 kB)\n",
      "Requirement already satisfied: typing-extensions>=4.2.0 in /Users/shazeb.asad/global_pricing/.venv/lib/python3.12/site-packages (from formulaic>=1.0.0->linearmodels) (4.12.2)\n",
      "Collecting wrapt>=1.0 (from formulaic>=1.0.0->linearmodels)\n",
      "  Downloading wrapt-1.16.0-cp312-cp312-macosx_11_0_arm64.whl.metadata (6.6 kB)\n",
      "Requirement already satisfied: python-dateutil>=2.8.2 in /Users/shazeb.asad/global_pricing/.venv/lib/python3.12/site-packages (from pandas>=1.4.0->linearmodels) (2.9.0.post0)\n",
      "Requirement already satisfied: pytz>=2020.1 in /Users/shazeb.asad/global_pricing/.venv/lib/python3.12/site-packages (from pandas>=1.4.0->linearmodels) (2024.1)\n",
      "Requirement already satisfied: tzdata>=2022.7 in /Users/shazeb.asad/global_pricing/.venv/lib/python3.12/site-packages (from pandas>=1.4.0->linearmodels) (2024.1)\n",
      "Requirement already satisfied: packaging>=20 in /Users/shazeb.asad/global_pricing/.venv/lib/python3.12/site-packages (from setuptools-scm<9.0.0,>=8.0.0->setuptools-scm[toml]<9.0.0,>=8.0.0->linearmodels) (24.1)\n",
      "Requirement already satisfied: setuptools in /Users/shazeb.asad/global_pricing/.venv/lib/python3.12/site-packages (from setuptools-scm<9.0.0,>=8.0.0->setuptools-scm[toml]<9.0.0,>=8.0.0->linearmodels) (73.0.1)\n",
      "Requirement already satisfied: patsy>=0.5.6 in /Users/shazeb.asad/global_pricing/.venv/lib/python3.12/site-packages (from statsmodels>=0.13.0->linearmodels) (0.5.6)\n",
      "Requirement already satisfied: six in /Users/shazeb.asad/global_pricing/.venv/lib/python3.12/site-packages (from patsy>=0.5.6->statsmodels>=0.13.0->linearmodels) (1.16.0)\n",
      "Downloading linearmodels-6.1-cp312-cp312-macosx_11_0_arm64.whl (1.7 MB)\n",
      "\u001b[2K   \u001b[90m━━━━━━━━━━━━━━━━━━━━━━━━━━━━━━━━━━━━━━━━\u001b[0m \u001b[32m1.7/1.7 MB\u001b[0m \u001b[31m11.6 MB/s\u001b[0m eta \u001b[36m0:00:00\u001b[0m\n",
      "\u001b[?25hDownloading Cython-3.0.11-py2.py3-none-any.whl (1.2 MB)\n",
      "\u001b[2K   \u001b[90m━━━━━━━━━━━━━━━━━━━━━━━━━━━━━━━━━━━━━━━━\u001b[0m \u001b[32m1.2/1.2 MB\u001b[0m \u001b[31m11.9 MB/s\u001b[0m eta \u001b[36m0:00:00\u001b[0m\n",
      "\u001b[?25hDownloading formulaic-1.0.2-py3-none-any.whl (94 kB)\n",
      "Downloading mypy_extensions-1.0.0-py3-none-any.whl (4.7 kB)\n",
      "Downloading pyhdfe-0.2.0-py3-none-any.whl (19 kB)\n",
      "Downloading setuptools_scm-8.1.0-py3-none-any.whl (43 kB)\n",
      "Downloading interface_meta-1.3.0-py3-none-any.whl (14 kB)\n",
      "Downloading wrapt-1.16.0-cp312-cp312-macosx_11_0_arm64.whl (38 kB)\n",
      "Installing collected packages: wrapt, setuptools-scm, mypy-extensions, interface-meta, Cython, pyhdfe, formulaic, linearmodels\n",
      "Successfully installed Cython-3.0.11 formulaic-1.0.2 interface-meta-1.3.0 linearmodels-6.1 mypy-extensions-1.0.0 pyhdfe-0.2.0 setuptools-scm-8.1.0 wrapt-1.16.0\n"
     ]
    }
   ],
   "source": [
    "!pip install linearmodels"
   ]
  },
  {
   "cell_type": "code",
   "execution_count": 426,
   "metadata": {},
   "outputs": [
    {
     "name": "stderr",
     "output_type": "stream",
     "text": [
      "/Users/shazeb.asad/global_pricing/.venv/lib/python3.12/site-packages/google/auth/_default.py:76: UserWarning:\n",
      "\n",
      "Your application has authenticated using end user credentials from Google Cloud SDK without a quota project. You might receive a \"quota exceeded\" or \"API not enabled\" error. See the following page for troubleshooting: https://cloud.google.com/docs/authentication/adc-troubleshooting/user-creds. \n",
      "\n"
     ]
    }
   ],
   "source": [
    "import numpy as np\n",
    "import pandas as pd\n",
    "from google.cloud import bigquery\n",
    "import matplotlib.pyplot as plt\n",
    "import seaborn as sns\n",
    "from scipy import stats\n",
    "import plotly.express as px\n",
    "import db_dtypes\n",
    "import bigframes.pandas as bpd\n",
    "from IPython.display import display, HTML\n",
    "from datetime import datetime\n",
    "from datetime import timedelta\n",
    "\n",
    "\n",
    "def dps_all_f(city,entity,start_date, end_date):\n",
    "\n",
    "    query = \"\"\"\n",
    "    with details as (\n",
    "    SELECT   smto.entity_id\n",
    "            ,smto.country_code\n",
    "            ,smto.city_id\n",
    "            ,smto.city_name\n",
    "            ,CONCAT(smto.city_name , \"-\", \"post\") city_name_var\n",
    "            ,smto.created_date_local\n",
    "            ,date_trunc(created_date_local, ISOWEEK) week\n",
    "            ,date_trunc(created_date_local, MONTH) month\n",
    "            ,smto.customer_account_id\n",
    "            ,smto.customer_first_order_date\n",
    "            ,smto.order_id\n",
    "            ,smto.dps_delivery_fee_eur\n",
    "            ,smto.delivery_fee_eur\n",
    "            ,smto.delivery_fee_local\n",
    "            ,dps_travel_time_fee_eur\n",
    "            ,dps_standard_fee_eur\n",
    "            ,vendor_funding_amount_local\n",
    "            ,dps_last_non_zero_df_eur\n",
    "            ,delivery_fee_vat_eur\n",
    "            ,delivery_fee_vat_local\n",
    "            ,smto.delivery_fee_option\n",
    "            ,smto.priority_fee_eur\n",
    "            ,smto.saver_discount_eur\n",
    "            ,smto.gfv_eur\n",
    "            ,smto.gfv_local\n",
    "            ,smto.gmv_eur\n",
    "            ,smto.gmv_local\n",
    "            ,smto.profit_eur\n",
    "            ,smto.profit_local\n",
    "            ,smto.revenue_eur\n",
    "            ,smto.revenue_local\n",
    "            ,smto.mov_customer_fee_eur\n",
    "            ,smto.service_fee_eur\n",
    "            ,smto.dps_service_fee_eur\n",
    "            ,smto.delivery_distance\n",
    "            ,smto.delivery_costs_eur\n",
    "            ,smto.delivery_costs_local\n",
    "            ,smto.joker_vendor_fee_eur\n",
    "            ,smto.is_sent\n",
    "            ,smto.is_own_delivery\n",
    "            ,smto.vertical_type\n",
    "            ,(case when is_sent = TRUE then 1 else 0 end) completed_orders\n",
    "            ,fully_loaded_gross_profit_eur\n",
    "            ,smto.commission_eur\n",
    "            ,smto.platform_order_code\n",
    "            ,smto.has_new_customer_condition\n",
    "            ,smto.new_customer_condition_type\n",
    "    FROM `fulfillment-dwh-production.curated_data_shared.dps_sessions_mapped_to_orders` smto\n",
    "    join\n",
    "    (   SELECT  o.customer_account_id\n",
    "        FROM `fulfillment-dwh-production.curated_data_shared.dps_sessions_mapped_to_orders` o\n",
    "        WHERE o.entity_id = \\\"\"\"\" + entity + \"\"\"\\\"\n",
    "            AND (o.customer_first_order_date is null\n",
    "            OR date(o.customer_first_order_date) = '0001-01-01')\n",
    "            AND o.city_name in (\"\"\" + city + \"\"\")\n",
    "            group by 1\n",
    "    ) tm on tm.customer_account_id = smto.customer_account_id\n",
    "    WHERE smto.created_date_local BETWEEN \\\"\"\"\" + start_date + \"\"\"\\\" AND \\\"\"\"\" + end_date + \"\"\"\\\"\n",
    "    AND city_name in (\"\"\" + city + \"\"\")\n",
    "    AND is_own_delivery = TRUE\n",
    "    AND is_sent = TRUE\n",
    "    ),\n",
    "    voucher_data as (\n",
    "    SELECT  o.global_entity_id\n",
    "            ,order_id\n",
    "            ,o.customer_account_id\n",
    "            ,vouchers[SAFE_OFFSET(0)].voucher_code voucher_code\n",
    "            ,vouchers[SAFE_OFFSET(0)].amount_eur voucher_amount_eur\n",
    "            ,(case when vouchers[SAFE_OFFSET(0)].voucher_code not in ('nyburgare', 'mumsigt','megagott','mums150') or\n",
    "            vouchers[SAFE_OFFSET(0)].voucher_code not in ('mieletön', 'tajuton','uskomaton','arena','huikea') or \n",
    "            vouchers[SAFE_OFFSET(0)].voucher_code not like 'mieletön%' or \n",
    "            vouchers[SAFE_OFFSET(0)].voucher_code not like 'tajuton%' then vouchers[SAFE_OFFSET(0)].amount_eur else 0 end) voucher_amount_nc_eur\n",
    "    FROM `fulfillment-dwh-production.curated_data_shared_coredata_business.orders` o\n",
    "    where global_entity_id = \\\"\"\"\" + entity + \"\"\"\\\"\n",
    "    AND partition_date_local BETWEEN \\\"\"\"\" + start_date + \"\"\"\\\" AND \\\"\"\"\" + end_date + \"\"\"\\\"\n",
    "    )\n",
    "    select d.*\n",
    "           ,vd.voucher_amount_eur\n",
    "           ,voucher_amount_nc_eur\n",
    "    from details d \n",
    "    left join voucher_data vd on vd.global_entity_id = d.entity_id and vd.order_id = d.platform_order_code\n",
    "    \"\"\"\n",
    "\n",
    "    return query\n",
    "\n",
    "\n",
    "def sessions(entity, city, start_date, end_date):\n",
    "\n",
    "    query = \"\"\"\n",
    "    SELECT count(distinct perseus_session_key) total_sessions,\n",
    "       count(distinct sessions.perseus_client_id) total_users,\n",
    "       count(distinct case when has_transaction = True then sessions.perseus_client_id else null end) total_orders,\n",
    "       count(distinct case when has_transaction = True then sessions.perseus_client_id else null end) / count(distinct perseus_session_key)   \n",
    "    FROM `fulfillment-dwh-production.cl.dps_sessions_mapped_to_perseus_sessions` \n",
    "    WHERE created_date BETWEEN \\\"\"\"\" + start_date + \"\"\"\\\" AND \\\"\"\"\" + end_date + \"\"\"\\\"\n",
    "    AND entity_id = \\\"\"\"\" + entity + \"\"\"\\\" \n",
    "    and dps_zone[SAFE_OFFSET(0)].city_name in (\"\"\" + city + \"\"\")\n",
    "    \"\"\"\n",
    "    \n",
    "    return query\n",
    "\n",
    "def analyze_city_orders(df, period):\n",
    "    \n",
    "    df['entity_id_period'] = df['entity_id'] + '_' + period\n",
    "        \n",
    "    grouped_data_post = df.groupby('entity_id_period').agg({\n",
    "        'platform_order_code': 'nunique',\n",
    "        'customer_account_id': 'nunique',\n",
    "        'gfv_eur': 'sum',\n",
    "        'voucher_amount_eur': 'sum',\n",
    "        'fully_loaded_gross_profit_eur': 'sum',\n",
    "        'foregone_delivery_fee': 'sum'\n",
    "    }).reset_index()\n",
    "\n",
    "    grouped_data_post.columns = ['_'.join(col).strip() if isinstance(col, tuple) else col for col in grouped_data_post.columns]\n",
    "\n",
    "    grouped_data_post = grouped_data_post.rename(columns={\n",
    "        'platform_order_code': 'Orders',\n",
    "        'customer_account_id': 'Acquistions',\n",
    "        'voucher_amount_eur': 'Voucher_cost_eur',\n",
    "        'gfv_eur':'GFV_eur',\n",
    "        'fully_loaded_gross_profit_eur' : 'FLGP_eur',\n",
    "        'foregone_delivery_fee': 'FDNC_cost_eur',\n",
    "        })\n",
    "\n",
    "\n",
    "    voucher_counts = df[(df['voucher_amount_eur'] > 0) & ((df['dps_delivery_fee_eur'] == 0) | (df['dps_delivery_fee_eur'].isna()))].groupby('entity_id_period')['platform_order_code'].nunique().reset_index()\n",
    "    voucher_counts = voucher_counts.rename(columns={'platform_order_code': 'Stacked_orders'})\n",
    "\n",
    "    grouped_data_post = grouped_data_post.merge(voucher_counts, on='entity_id_period', how='left').fillna(0)\n",
    "    grouped_data_post[['GFV_eur','Voucher_cost_eur','FLGP_eur','FDNC_cost_eur']] = grouped_data_post[['GFV_eur','Voucher_cost_eur','FLGP_eur','FDNC_cost_eur']].astype(int)\n",
    "\n",
    "    grouped_data_post['total_acquistion_cost'] = grouped_data_post['FDNC_cost_eur'] + grouped_data_post['Voucher_cost_eur']\n",
    "\n",
    "    grouped_data_post = grouped_data_post[['entity_id_period','Orders','Stacked_orders','Acquistions','FDNC_cost_eur','Voucher_cost_eur','total_acquistion_cost','GFV_eur','FLGP_eur']]\n",
    "\n",
    "    return grouped_data_post.round(0).set_index('entity_id_period').T\n",
    "\n",
    "def cities_summary(pre_df, post_df):\n",
    "    \n",
    "    df2 = analyze_city_orders(pre_df, 'pre')\n",
    "    df1 = analyze_city_orders(post_df, 'post')\n",
    "\n",
    "    merged_df = pd.merge(df2, df1, left_index=True, right_index=True, how='outer')\n",
    "\n",
    "    for col in merged_df.columns:\n",
    "        if col.endswith('_post'):\n",
    "            post = col\n",
    "            pre = post.replace('_post', '_pre')  # Find the corresponding _pre column\n",
    "            \n",
    "            if pre in merged_df.columns:  # Ensure the _pre column exists\n",
    "                # Calculate percentage change and store it in 'percentage_change'\n",
    "                merged_df['percentage_change'] = round(\n",
    "                    ((merged_df[post] - merged_df[pre]) / abs(merged_df[pre])) * 100, 0\n",
    "                )\n",
    "    \n",
    "    return merged_df\n",
    "\n",
    "def user_retention_wow(df):\n",
    "\n",
    "    post_inter_df = df.copy()\n",
    "\n",
    "    post_inter_df['first_order_date'] = post_inter_df.groupby('customer_account_id')['created_date_local'].transform('min')\n",
    "    post_inter_df['week_diff'] = ((post_inter_df['created_date_local'] - post_inter_df['first_order_date']).dt.days // 7)\n",
    "\n",
    "    total_users = post_inter_df['customer_account_id'].nunique()\n",
    "\n",
    "    retention_df = post_inter_df.groupby('week_diff').agg(\n",
    "        users_retained=('customer_account_id', 'nunique')\n",
    "    ).reset_index()\n",
    "\n",
    "    retention_df['wow_retention'] = round((retention_df['users_retained'] / retention_df['users_retained'][0]) * 100,2)\n",
    "    \n",
    "    return retention_df\n",
    "  \n",
    "\n",
    "# define a few things (project id, start date etc.)\n",
    "project_id = \"logistics-customer-staging\"\n",
    "client = bigquery.Client(project = project_id)"
   ]
  },
  {
   "cell_type": "code",
   "execution_count": 427,
   "metadata": {},
   "outputs": [
    {
     "data": {
      "text/html": [
       "<div>\n",
       "<style scoped>\n",
       "    .dataframe tbody tr th:only-of-type {\n",
       "        vertical-align: middle;\n",
       "    }\n",
       "\n",
       "    .dataframe tbody tr th {\n",
       "        vertical-align: top;\n",
       "    }\n",
       "\n",
       "    .dataframe thead th {\n",
       "        text-align: right;\n",
       "    }\n",
       "</style>\n",
       "<table border=\"1\" class=\"dataframe\">\n",
       "  <thead>\n",
       "    <tr style=\"text-align: right;\">\n",
       "      <th>entity_id_period</th>\n",
       "      <th>OP_SE_pre</th>\n",
       "      <th>OP_SE_post</th>\n",
       "      <th>percentage_change</th>\n",
       "    </tr>\n",
       "  </thead>\n",
       "  <tbody>\n",
       "    <tr>\n",
       "      <th>Acquistions</th>\n",
       "      <td>242561</td>\n",
       "      <td>250516</td>\n",
       "      <td>3.0</td>\n",
       "    </tr>\n",
       "    <tr>\n",
       "      <th>FDNC_cost_eur</th>\n",
       "      <td>771871</td>\n",
       "      <td>577808</td>\n",
       "      <td>-25.0</td>\n",
       "    </tr>\n",
       "    <tr>\n",
       "      <th>FLGP_eur</th>\n",
       "      <td>2941378</td>\n",
       "      <td>3350331</td>\n",
       "      <td>14.0</td>\n",
       "    </tr>\n",
       "    <tr>\n",
       "      <th>GFV_eur</th>\n",
       "      <td>19993766</td>\n",
       "      <td>22774314</td>\n",
       "      <td>14.0</td>\n",
       "    </tr>\n",
       "    <tr>\n",
       "      <th>Orders</th>\n",
       "      <td>780065</td>\n",
       "      <td>877985</td>\n",
       "      <td>13.0</td>\n",
       "    </tr>\n",
       "    <tr>\n",
       "      <th>Stacked_orders</th>\n",
       "      <td>19339</td>\n",
       "      <td>26629</td>\n",
       "      <td>38.0</td>\n",
       "    </tr>\n",
       "    <tr>\n",
       "      <th>Voucher_cost_eur</th>\n",
       "      <td>453686</td>\n",
       "      <td>589733</td>\n",
       "      <td>30.0</td>\n",
       "    </tr>\n",
       "    <tr>\n",
       "      <th>total_acquistion_cost</th>\n",
       "      <td>1225557</td>\n",
       "      <td>1167541</td>\n",
       "      <td>-5.0</td>\n",
       "    </tr>\n",
       "  </tbody>\n",
       "</table>\n",
       "</div>"
      ],
      "text/plain": [
       "entity_id_period       OP_SE_pre  OP_SE_post  percentage_change\n",
       "Acquistions               242561      250516                3.0\n",
       "FDNC_cost_eur             771871      577808              -25.0\n",
       "FLGP_eur                 2941378     3350331               14.0\n",
       "GFV_eur                 19993766    22774314               14.0\n",
       "Orders                    780065      877985               13.0\n",
       "Stacked_orders             19339       26629               38.0\n",
       "Voucher_cost_eur          453686      589733               30.0\n",
       "total_acquistion_cost    1225557     1167541               -5.0"
      ]
     },
     "execution_count": 427,
     "metadata": {},
     "output_type": "execute_result"
    }
   ],
   "source": [
    "## Treatment Cities ##\n",
    "\n",
    "entity_id = 'OP_SE'\n",
    "\n",
    "city = ('Uppsala','Vasteras','Orebro','Stockholm')\n",
    "city_str = \",\".join([f\"'{c}'\" for c in city])\n",
    "\n",
    "## post time period ##\n",
    "start_date_post = '2024-08-05'\n",
    "end_date_post = '2024-09-29'\n",
    "dps_post_treatment = client.query(dps_all_f(city_str, entity_id, start_date_post, end_date_post)).to_dataframe()\n",
    "\n",
    "# Create a new column for the conditional forgone delivery fee\n",
    "dps_post_treatment['foregone_delivery_fee'] = np.where(\n",
    "    (dps_post_treatment['dps_delivery_fee_eur'] == 0) | (dps_post_treatment['dps_delivery_fee_eur'].isnull()), \n",
    "    dps_post_treatment['dps_standard_fee_eur'], \n",
    "    0\n",
    ")\n",
    "dps_post_treatment['foregone_delivery_fee_final'] = dps_post_treatment[(dps_post_treatment['has_new_customer_condition'] == False) & (dps_post_treatment['new_customer_condition_type'] != 'TOTAL')]['foregone_delivery_fee']\n",
    "\n",
    "## pre time period ##\n",
    "\n",
    "# Convert the strings to datetime objects\n",
    "date_format = \"%Y-%m-%d\"\n",
    "start_date = datetime.strptime(start_date_post, date_format)\n",
    "end_date = datetime.strptime(end_date_post, date_format)\n",
    "\n",
    "# Calculate the difference in days\n",
    "days_difference = (end_date - start_date).days\n",
    "days_difference\n",
    "\n",
    "# Subtract the number of days from date1\n",
    "new_date = start_date - timedelta(days=days_difference)\n",
    "new_date_only = new_date.date()\n",
    "new_date_string = new_date_only.strftime(\"%Y-%m-%d\")\n",
    "\n",
    "start_date_pre = new_date_string\n",
    "\n",
    "tmp_dt = datetime.strptime(start_date_post, '%Y-%m-%d')\n",
    "new_end_d = tmp_dt - timedelta(days=1)\n",
    "new_end_d_s = new_end_d.strftime('%Y-%m-%d')\n",
    "end_date_pre = new_end_d_s\n",
    "\n",
    "dps_pre_treatment = client.query(dps_all_f(city_str, entity_id, start_date_pre, end_date_pre)).to_dataframe()\n",
    "# Create a new column for the conditional forgone delivery fee\n",
    "dps_pre_treatment['foregone_delivery_fee'] = np.where(\n",
    "    (dps_pre_treatment['dps_delivery_fee_eur'] == 0) | (dps_pre_treatment['dps_delivery_fee_eur'].isnull()), \n",
    "    dps_pre_treatment['dps_standard_fee_eur'], \n",
    "    0\n",
    ")\n",
    "dps_pre_treatment['foregone_delivery_fee_final'] = dps_pre_treatment[(dps_pre_treatment['has_new_customer_condition'] == False) & (dps_pre_treatment['new_customer_condition_type'] != 'TOTAL')]['foregone_delivery_fee']\n",
    "\n",
    "cities_summary(dps_pre_treatment, dps_post_treatment)"
   ]
  },
  {
   "cell_type": "code",
   "execution_count": null,
   "metadata": {},
   "outputs": [],
   "source": []
  },
  {
   "cell_type": "code",
   "execution_count": 428,
   "metadata": {},
   "outputs": [
    {
     "data": {
      "text/html": [
       "<div>\n",
       "<style scoped>\n",
       "    .dataframe tbody tr th:only-of-type {\n",
       "        vertical-align: middle;\n",
       "    }\n",
       "\n",
       "    .dataframe tbody tr th {\n",
       "        vertical-align: top;\n",
       "    }\n",
       "\n",
       "    .dataframe thead th {\n",
       "        text-align: right;\n",
       "    }\n",
       "</style>\n",
       "<table border=\"1\" class=\"dataframe\">\n",
       "  <thead>\n",
       "    <tr style=\"text-align: right;\">\n",
       "      <th>entity_id_period</th>\n",
       "      <th>OP_SE_pre</th>\n",
       "      <th>OP_SE_post</th>\n",
       "      <th>percentage_change</th>\n",
       "    </tr>\n",
       "  </thead>\n",
       "  <tbody>\n",
       "    <tr>\n",
       "      <th>Acquistions</th>\n",
       "      <td>47048</td>\n",
       "      <td>48775</td>\n",
       "      <td>4.0</td>\n",
       "    </tr>\n",
       "    <tr>\n",
       "      <th>FDNC_cost_eur</th>\n",
       "      <td>194319</td>\n",
       "      <td>109454</td>\n",
       "      <td>-44.0</td>\n",
       "    </tr>\n",
       "    <tr>\n",
       "      <th>FLGP_eur</th>\n",
       "      <td>705413</td>\n",
       "      <td>822013</td>\n",
       "      <td>17.0</td>\n",
       "    </tr>\n",
       "    <tr>\n",
       "      <th>GFV_eur</th>\n",
       "      <td>3742173</td>\n",
       "      <td>4082867</td>\n",
       "      <td>9.0</td>\n",
       "    </tr>\n",
       "    <tr>\n",
       "      <th>Orders</th>\n",
       "      <td>143347</td>\n",
       "      <td>154278</td>\n",
       "      <td>8.0</td>\n",
       "    </tr>\n",
       "    <tr>\n",
       "      <th>Stacked_orders</th>\n",
       "      <td>2687</td>\n",
       "      <td>3108</td>\n",
       "      <td>16.0</td>\n",
       "    </tr>\n",
       "    <tr>\n",
       "      <th>Voucher_cost_eur</th>\n",
       "      <td>63627</td>\n",
       "      <td>91216</td>\n",
       "      <td>43.0</td>\n",
       "    </tr>\n",
       "    <tr>\n",
       "      <th>total_acquistion_cost</th>\n",
       "      <td>257946</td>\n",
       "      <td>200670</td>\n",
       "      <td>-22.0</td>\n",
       "    </tr>\n",
       "  </tbody>\n",
       "</table>\n",
       "</div>"
      ],
      "text/plain": [
       "entity_id_period       OP_SE_pre  OP_SE_post  percentage_change\n",
       "Acquistions                47048       48775                4.0\n",
       "FDNC_cost_eur             194319      109454              -44.0\n",
       "FLGP_eur                  705413      822013               17.0\n",
       "GFV_eur                  3742173     4082867                9.0\n",
       "Orders                    143347      154278                8.0\n",
       "Stacked_orders              2687        3108               16.0\n",
       "Voucher_cost_eur           63627       91216               43.0\n",
       "total_acquistion_cost     257946      200670              -22.0"
      ]
     },
     "execution_count": 428,
     "metadata": {},
     "output_type": "execute_result"
    }
   ],
   "source": [
    "## Control Cities ##\n",
    "\n",
    "entity_id_control = 'OP_SE'\n",
    "\n",
    "city = ('Umea','Malmo')\n",
    "#city = ('Umea','Malmo')\n",
    "\n",
    "city_str_control = \",\".join([f\"'{c}'\" for c in city])\n",
    "\n",
    "## post time period ##\n",
    "start_date_post_control = '2024-08-05'\n",
    "end_date_post_control = '2024-09-29'\n",
    "post_control = client.query(dps_all_f(city_str_control, entity_id_control, start_date_post_control, end_date_post_control)).to_dataframe()\n",
    "post_control['foregone_delivery_fee'] = np.where(\n",
    "    (post_control['dps_delivery_fee_eur'] == 0) | (post_control['dps_delivery_fee_eur'].isnull()), \n",
    "    post_control['dps_standard_fee_eur'], \n",
    "    0\n",
    ")\n",
    "post_control['foregone_delivery_fee_final'] = post_control[(post_control['has_new_customer_condition'] == False) & (post_control['new_customer_condition_type'] != 'TOTAL')]['foregone_delivery_fee']\n",
    "\n",
    "\n",
    "## pre time period ##\n",
    "\n",
    "# Convert the strings to datetime objects\n",
    "date_format = \"%Y-%m-%d\"\n",
    "start_date = datetime.strptime(start_date_post_control, date_format)\n",
    "end_date = datetime.strptime(end_date_post_control, date_format)\n",
    "\n",
    "# Calculate the difference in days\n",
    "days_difference = (end_date - start_date).days\n",
    "days_difference\n",
    "\n",
    "# Subtract the number of days from date1\n",
    "new_date = start_date - timedelta(days=days_difference)\n",
    "new_date_only = new_date.date()\n",
    "new_date_string = new_date_only.strftime(\"%Y-%m-%d\")\n",
    "\n",
    "start_date_pre_control = new_date_string\n",
    "\n",
    "tmp_dt_control = datetime.strptime(start_date_post_control, '%Y-%m-%d')\n",
    "new_end_d_control = tmp_dt_control - timedelta(days=1)\n",
    "new_end_d_s_control = new_end_d_control.strftime('%Y-%m-%d')\n",
    "end_date_pre_control = new_end_d_s_control\n",
    "\n",
    "pre_control = client.query(dps_all_f(city_str_control, entity_id_control, start_date_pre_control, end_date_pre_control)).to_dataframe()\n",
    "pre_control['foregone_delivery_fee'] = np.where(\n",
    "    (pre_control['dps_delivery_fee_eur'] == 0) | (pre_control['dps_delivery_fee_eur'].isnull()), \n",
    "    pre_control['dps_standard_fee_eur'], \n",
    "    0\n",
    ")\n",
    "pre_control['foregone_delivery_fee_final'] = pre_control[(pre_control['has_new_customer_condition'] == False) & (pre_control['new_customer_condition_type'] != 'TOTAL')]['foregone_delivery_fee']\n",
    "\n",
    "cities_summary(pre_control, post_control)"
   ]
  },
  {
   "cell_type": "code",
   "execution_count": 429,
   "metadata": {},
   "outputs": [],
   "source": [
    "a = dps_post_treatment.groupby(['week']).agg({'customer_account_id':'nunique','platform_order_code':'nunique'}).reset_index()\n",
    "b = dps_pre_treatment.groupby(['week']).agg({'customer_account_id':'nunique','platform_order_code':'nunique'}).reset_index()\n",
    "\n",
    "c = post_control.groupby(['week']).agg({'customer_account_id':'nunique','platform_order_code':'nunique'}).reset_index()\n",
    "d = pre_control.groupby(['week']).agg({'customer_account_id':'nunique','platform_order_code':'nunique'}).reset_index()\n",
    "\n",
    "frames_t = [a,b]\n",
    "combined_treatment  = pd.concat(frames_t)\n",
    "combined_treatment['group'] = 'treatment'\n",
    "\n",
    "frames_c = [c,d]\n",
    "combined_control = pd.concat(frames_c)\n",
    "combined_control['group'] = 'control'\n",
    "\n",
    "frames_f = [combined_treatment,combined_control]\n",
    "final_df = pd.concat(frames_f)"
   ]
  },
  {
   "cell_type": "code",
   "execution_count": 430,
   "metadata": {},
   "outputs": [
    {
     "data": {
      "image/png": "[encoded data removed]",
      "text/plain": [
       "<Figure size 1800x800 with 1 Axes>"
      ]
     },
     "metadata": {},
     "output_type": "display_data"
    }
   ],
   "source": [
    "treatment_date = pd.to_datetime('2024-08-06')\n",
    "plt.figure(figsize=(18, 8))\n",
    "sns.lineplot(data=final_df, x='week', y='customer_account_id', hue='group')\n",
    "plt.axvline(x=treatment_date, color='red', linestyle='--', label='Treatment Date')\n",
    "plt.legend()\n",
    "plt.show()"
   ]
  },
  {
   "cell_type": "code",
   "execution_count": 431,
   "metadata": {},
   "outputs": [
    {
     "data": {
      "application/vnd.plotly.v1+json": {
       "config": {
        "plotlyServerURL": "https://plot.ly"
       },
       "data": [
        {
         "hovertemplate": "week=%{x}<br>customer_account_id=%{y}<extra></extra>",
         "legendgroup": "",
         "marker": {
          "color": "blue",
          "symbol": "circle"
         },
         "mode": "markers",
         "name": "",
         "orientation": "v",
         "showlegend": false,
         "type": "scatter",
         "x": [
          "2024-06-10T00:00:00",
          "2024-06-17T00:00:00",
          "2024-06-24T00:00:00",
          "2024-07-01T00:00:00",
          "2024-07-08T00:00:00",
          "2024-07-15T00:00:00",
          "2024-07-22T00:00:00",
          "2024-07-29T00:00:00"
         ],
         "xaxis": "x",
         "y": [
          12216,
          12593,
          13511,
          13081,
          12404,
          11575,
          13292,
          12705
         ],
         "yaxis": "y"
        },
        {
         "hovertemplate": "<b>OLS trendline</b><br>customer_account_id = 8.52309e-06 * week + -1988.39<br>R<sup>2</sup>=0.000406<br><br>week=%{x}<br>customer_account_id=%{y} <b>(trend)</b><extra></extra>",
         "legendgroup": "",
         "line": {
          "color": "blue"
         },
         "marker": {
          "color": "blue",
          "symbol": "circle"
         },
         "mode": "lines",
         "name": "",
         "showlegend": false,
         "type": "scatter",
         "x": [
          "2024-06-10T00:00:00",
          "2024-06-17T00:00:00",
          "2024-06-24T00:00:00",
          "2024-07-01T00:00:00",
          "2024-07-08T00:00:00",
          "2024-07-15T00:00:00",
          "2024-07-22T00:00:00",
          "2024-07-29T00:00:00"
         ],
         "xaxis": "x",
         "y": [
          12654.083333333429,
          12659.23809523819,
          12664.392857142953,
          12669.547619047717,
          12674.702380952478,
          12679.857142857241,
          12685.011904762005,
          12690.166666666768
         ],
         "yaxis": "y"
        },
        {
         "hovertemplate": "<b>OLS trendline</b><br>customer_account_id = 8.52309e-06 * week + -1988.39<br>R<sup>2</sup>=0.000406<br><br>week=%{x}<br>customer_account_id=%{y} <b>(trend)</b><extra></extra>",
         "legendgroup": "",
         "line": {
          "color": "blue"
         },
         "marker": {
          "color": "blue",
          "symbol": "circle"
         },
         "mode": "lines",
         "name": "",
         "showlegend": false,
         "type": "scatter",
         "x": [
          "2024-06-10T00:00:00",
          "2024-06-17T00:00:00",
          "2024-06-24T00:00:00",
          "2024-07-01T00:00:00",
          "2024-07-08T00:00:00",
          "2024-07-15T00:00:00",
          "2024-07-22T00:00:00",
          "2024-07-29T00:00:00"
         ],
         "xaxis": "x",
         "y": [
          12654.083333333429,
          12659.23809523819,
          12664.392857142953,
          12669.547619047717,
          12674.702380952478,
          12679.857142857241,
          12685.011904762005,
          12690.166666666768
         ],
         "yaxis": "y"
        },
        {
         "hovertemplate": "week=%{x}<br>customer_account_id=%{y}<extra></extra>",
         "legendgroup": "",
         "marker": {
          "color": "lightblue",
          "symbol": "circle"
         },
         "mode": "markers",
         "name": "",
         "orientation": "v",
         "showlegend": false,
         "type": "scatter",
         "x": [
          "2024-08-05T00:00:00",
          "2024-08-12T00:00:00",
          "2024-08-19T00:00:00",
          "2024-08-26T00:00:00",
          "2024-09-02T00:00:00",
          "2024-09-09T00:00:00",
          "2024-09-16T00:00:00",
          "2024-09-23T00:00:00"
         ],
         "xaxis": "x",
         "y": [
          12391,
          12400,
          13953,
          14347,
          13009,
          13393,
          13087,
          15561
         ],
         "yaxis": "y"
        },
        {
         "hovertemplate": "<b>OLS trendline</b><br>customer_account_id = 0.000444992 * week + -754063<br>R<sup>2</sup>=0.378805<br><br>week=%{x}<br>customer_account_id=%{y} <b>(trend)</b><extra></extra>",
         "legendgroup": "",
         "line": {
          "color": "lightblue"
         },
         "marker": {
          "color": "lightblue",
          "symbol": "circle"
         },
         "mode": "lines",
         "name": "",
         "showlegend": false,
         "type": "scatter",
         "x": [
          "2024-08-05T00:00:00",
          "2024-08-12T00:00:00",
          "2024-08-19T00:00:00",
          "2024-08-26T00:00:00",
          "2024-09-02T00:00:00",
          "2024-09-09T00:00:00",
          "2024-09-16T00:00:00",
          "2024-09-23T00:00:00"
         ],
         "xaxis": "x",
         "y": [
          12575.666666667128,
          12844.797619048042,
          13113.928571428954,
          13383.059523809869,
          13652.19047619078,
          13921.321428571695,
          14190.452380952609,
          14459.583333333521
         ],
         "yaxis": "y"
        },
        {
         "hovertemplate": "week=%{x}<br>customer_account_id=%{y}<extra></extra>",
         "legendgroup": "",
         "marker": {
          "color": "green",
          "symbol": "circle"
         },
         "mode": "markers",
         "name": "",
         "orientation": "v",
         "showlegend": false,
         "type": "scatter",
         "x": [
          "2024-06-10T00:00:00",
          "2024-06-17T00:00:00",
          "2024-06-24T00:00:00",
          "2024-07-01T00:00:00",
          "2024-07-08T00:00:00",
          "2024-07-15T00:00:00",
          "2024-07-22T00:00:00",
          "2024-07-29T00:00:00"
         ],
         "xaxis": "x",
         "y": [
          67414,
          67274,
          74075,
          68719,
          62656,
          59697,
          67042,
          67444
         ],
         "yaxis": "y"
        },
        {
         "hovertemplate": "<b>OLS trendline</b><br>customer_account_id = -0.000987083 * week + 1.76467e+06<br>R<sup>2</sup>=0.119455<br><br>week=%{x}<br>customer_account_id=%{y} <b>(trend)</b><extra></extra>",
         "legendgroup": "",
         "line": {
          "color": "green"
         },
         "marker": {
          "color": "green",
          "symbol": "circle"
         },
         "mode": "lines",
         "name": "",
         "showlegend": false,
         "type": "scatter",
         "x": [
          "2024-06-10T00:00:00",
          "2024-06-17T00:00:00",
          "2024-06-24T00:00:00",
          "2024-07-01T00:00:00",
          "2024-07-08T00:00:00",
          "2024-07-15T00:00:00",
          "2024-07-22T00:00:00",
          "2024-07-29T00:00:00"
         ],
         "xaxis": "x",
         "y": [
          68879.58333333087,
          68282.59523809278,
          67685.6071428547,
          67088.61904761661,
          66491.63095237852,
          65894.64285714042,
          65297.65476190233,
          64700.66666666424
         ],
         "yaxis": "y"
        },
        {
         "hovertemplate": "week=%{x}<br>customer_account_id=%{y}<extra></extra>",
         "legendgroup": "",
         "marker": {
          "color": "red",
          "symbol": "circle"
         },
         "mode": "markers",
         "name": "",
         "orientation": "v",
         "showlegend": false,
         "type": "scatter",
         "x": [
          "2024-08-05T00:00:00",
          "2024-08-12T00:00:00",
          "2024-08-19T00:00:00",
          "2024-08-26T00:00:00",
          "2024-09-02T00:00:00",
          "2024-09-09T00:00:00",
          "2024-09-16T00:00:00",
          "2024-09-23T00:00:00"
         ],
         "xaxis": "x",
         "y": [
          65589,
          68129,
          76591,
          77464,
          71762,
          72978,
          73452,
          85140
         ],
         "yaxis": "y"
        },
        {
         "hovertemplate": "<b>OLS trendline</b><br>customer_account_id = 0.00289216 * week + -4.91489e+06<br>R<sup>2</sup>=0.505367<br><br>week=%{x}<br>customer_account_id=%{y} <b>(trend)</b><extra></extra>",
         "legendgroup": "",
         "line": {
          "color": "red"
         },
         "marker": {
          "color": "red",
          "symbol": "circle"
         },
         "mode": "lines",
         "name": "",
         "showlegend": false,
         "type": "scatter",
         "x": [
          "2024-08-05T00:00:00",
          "2024-08-12T00:00:00",
          "2024-08-19T00:00:00",
          "2024-08-26T00:00:00",
          "2024-09-02T00:00:00",
          "2024-09-09T00:00:00",
          "2024-09-16T00:00:00",
          "2024-09-23T00:00:00"
         ],
         "xaxis": "x",
         "y": [
          67766.00000000114,
          69515.1785714295,
          71264.35714285787,
          73013.53571428623,
          74762.71428571461,
          76511.89285714297,
          78261.07142857135,
          80010.24999999971
         ],
         "yaxis": "y"
        }
       ],
       "layout": {
        "height": 600,
        "legend": {
         "title": {
          "text": "Group"
         },
         "tracegroupgap": 0
        },
        "margin": {
         "t": 60
        },
        "showlegend": false,
        "template": {
         "data": {
          "bar": [
           {
            "error_x": {
             "color": "#2a3f5f"
            },
            "error_y": {
             "color": "#2a3f5f"
            },
            "marker": {
             "line": {
              "color": "#E5ECF6",
              "width": 0.5
             },
             "pattern": {
              "fillmode": "overlay",
              "size": 10,
              "solidity": 0.2
             }
            },
            "type": "bar"
           }
          ],
          "barpolar": [
           {
            "marker": {
             "line": {
              "color": "#E5ECF6",
              "width": 0.5
             },
             "pattern": {
              "fillmode": "overlay",
              "size": 10,
              "solidity": 0.2
             }
            },
            "type": "barpolar"
           }
          ],
          "carpet": [
           {
            "aaxis": {
             "endlinecolor": "#2a3f5f",
             "gridcolor": "white",
             "linecolor": "white",
             "minorgridcolor": "white",
             "startlinecolor": "#2a3f5f"
            },
            "baxis": {
             "endlinecolor": "#2a3f5f",
             "gridcolor": "white",
             "linecolor": "white",
             "minorgridcolor": "white",
             "startlinecolor": "#2a3f5f"
            },
            "type": "carpet"
           }
          ],
          "choropleth": [
           {
            "colorbar": {
             "outlinewidth": 0,
             "ticks": ""
            },
            "type": "choropleth"
           }
          ],
          "contour": [
           {
            "colorbar": {
             "outlinewidth": 0,
             "ticks": ""
            },
            "colorscale": [
             [
              0,
              "#0d0887"
             ],
             [
              0.1111111111111111,
              "#46039f"
             ],
             [
              0.2222222222222222,
              "#7201a8"
             ],
             [
              0.3333333333333333,
              "#9c179e"
             ],
             [
              0.4444444444444444,
              "#bd3786"
             ],
             [
              0.5555555555555556,
              "#d8576b"
             ],
             [
              0.6666666666666666,
              "#ed7953"
             ],
             [
              0.7777777777777778,
              "#fb9f3a"
             ],
             [
              0.8888888888888888,
              "#fdca26"
             ],
             [
              1,
              "#f0f921"
             ]
            ],
            "type": "contour"
           }
          ],
          "contourcarpet": [
           {
            "colorbar": {
             "outlinewidth": 0,
             "ticks": ""
            },
            "type": "contourcarpet"
           }
          ],
          "heatmap": [
           {
            "colorbar": {
             "outlinewidth": 0,
             "ticks": ""
            },
            "colorscale": [
             [
              0,
              "#0d0887"
             ],
             [
              0.1111111111111111,
              "#46039f"
             ],
             [
              0.2222222222222222,
              "#7201a8"
             ],
             [
              0.3333333333333333,
              "#9c179e"
             ],
             [
              0.4444444444444444,
              "#bd3786"
             ],
             [
              0.5555555555555556,
              "#d8576b"
             ],
             [
              0.6666666666666666,
              "#ed7953"
             ],
             [
              0.7777777777777778,
              "#fb9f3a"
             ],
             [
              0.8888888888888888,
              "#fdca26"
             ],
             [
              1,
              "#f0f921"
             ]
            ],
            "type": "heatmap"
           }
          ],
          "heatmapgl": [
           {
            "colorbar": {
             "outlinewidth": 0,
             "ticks": ""
            },
            "colorscale": [
             [
              0,
              "#0d0887"
             ],
             [
              0.1111111111111111,
              "#46039f"
             ],
             [
              0.2222222222222222,
              "#7201a8"
             ],
             [
              0.3333333333333333,
              "#9c179e"
             ],
             [
              0.4444444444444444,
              "#bd3786"
             ],
             [
              0.5555555555555556,
              "#d8576b"
             ],
             [
              0.6666666666666666,
              "#ed7953"
             ],
             [
              0.7777777777777778,
              "#fb9f3a"
             ],
             [
              0.8888888888888888,
              "#fdca26"
             ],
             [
              1,
              "#f0f921"
             ]
            ],
            "type": "heatmapgl"
           }
          ],
          "histogram": [
           {
            "marker": {
             "pattern": {
              "fillmode": "overlay",
              "size": 10,
              "solidity": 0.2
             }
            },
            "type": "histogram"
           }
          ],
          "histogram2d": [
           {
            "colorbar": {
             "outlinewidth": 0,
             "ticks": ""
            },
            "colorscale": [
             [
              0,
              "#0d0887"
             ],
             [
              0.1111111111111111,
              "#46039f"
             ],
             [
              0.2222222222222222,
              "#7201a8"
             ],
             [
              0.3333333333333333,
              "#9c179e"
             ],
             [
              0.4444444444444444,
              "#bd3786"
             ],
             [
              0.5555555555555556,
              "#d8576b"
             ],
             [
              0.6666666666666666,
              "#ed7953"
             ],
             [
              0.7777777777777778,
              "#fb9f3a"
             ],
             [
              0.8888888888888888,
              "#fdca26"
             ],
             [
              1,
              "#f0f921"
             ]
            ],
            "type": "histogram2d"
           }
          ],
          "histogram2dcontour": [
           {
            "colorbar": {
             "outlinewidth": 0,
             "ticks": ""
            },
            "colorscale": [
             [
              0,
              "#0d0887"
             ],
             [
              0.1111111111111111,
              "#46039f"
             ],
             [
              0.2222222222222222,
              "#7201a8"
             ],
             [
              0.3333333333333333,
              "#9c179e"
             ],
             [
              0.4444444444444444,
              "#bd3786"
             ],
             [
              0.5555555555555556,
              "#d8576b"
             ],
             [
              0.6666666666666666,
              "#ed7953"
             ],
             [
              0.7777777777777778,
              "#fb9f3a"
             ],
             [
              0.8888888888888888,
              "#fdca26"
             ],
             [
              1,
              "#f0f921"
             ]
            ],
            "type": "histogram2dcontour"
           }
          ],
          "mesh3d": [
           {
            "colorbar": {
             "outlinewidth": 0,
             "ticks": ""
            },
            "type": "mesh3d"
           }
          ],
          "parcoords": [
           {
            "line": {
             "colorbar": {
              "outlinewidth": 0,
              "ticks": ""
             }
            },
            "type": "parcoords"
           }
          ],
          "pie": [
           {
            "automargin": true,
            "type": "pie"
           }
          ],
          "scatter": [
           {
            "fillpattern": {
             "fillmode": "overlay",
             "size": 10,
             "solidity": 0.2
            },
            "type": "scatter"
           }
          ],
          "scatter3d": [
           {
            "line": {
             "colorbar": {
              "outlinewidth": 0,
              "ticks": ""
             }
            },
            "marker": {
             "colorbar": {
              "outlinewidth": 0,
              "ticks": ""
             }
            },
            "type": "scatter3d"
           }
          ],
          "scattercarpet": [
           {
            "marker": {
             "colorbar": {
              "outlinewidth": 0,
              "ticks": ""
             }
            },
            "type": "scattercarpet"
           }
          ],
          "scattergeo": [
           {
            "marker": {
             "colorbar": {
              "outlinewidth": 0,
              "ticks": ""
             }
            },
            "type": "scattergeo"
           }
          ],
          "scattergl": [
           {
            "marker": {
             "colorbar": {
              "outlinewidth": 0,
              "ticks": ""
             }
            },
            "type": "scattergl"
           }
          ],
          "scattermapbox": [
           {
            "marker": {
             "colorbar": {
              "outlinewidth": 0,
              "ticks": ""
             }
            },
            "type": "scattermapbox"
           }
          ],
          "scatterpolar": [
           {
            "marker": {
             "colorbar": {
              "outlinewidth": 0,
              "ticks": ""
             }
            },
            "type": "scatterpolar"
           }
          ],
          "scatterpolargl": [
           {
            "marker": {
             "colorbar": {
              "outlinewidth": 0,
              "ticks": ""
             }
            },
            "type": "scatterpolargl"
           }
          ],
          "scatterternary": [
           {
            "marker": {
             "colorbar": {
              "outlinewidth": 0,
              "ticks": ""
             }
            },
            "type": "scatterternary"
           }
          ],
          "surface": [
           {
            "colorbar": {
             "outlinewidth": 0,
             "ticks": ""
            },
            "colorscale": [
             [
              0,
              "#0d0887"
             ],
             [
              0.1111111111111111,
              "#46039f"
             ],
             [
              0.2222222222222222,
              "#7201a8"
             ],
             [
              0.3333333333333333,
              "#9c179e"
             ],
             [
              0.4444444444444444,
              "#bd3786"
             ],
             [
              0.5555555555555556,
              "#d8576b"
             ],
             [
              0.6666666666666666,
              "#ed7953"
             ],
             [
              0.7777777777777778,
              "#fb9f3a"
             ],
             [
              0.8888888888888888,
              "#fdca26"
             ],
             [
              1,
              "#f0f921"
             ]
            ],
            "type": "surface"
           }
          ],
          "table": [
           {
            "cells": {
             "fill": {
              "color": "#EBF0F8"
             },
             "line": {
              "color": "white"
             }
            },
            "header": {
             "fill": {
              "color": "#C8D4E3"
             },
             "line": {
              "color": "white"
             }
            },
            "type": "table"
           }
          ]
         },
         "layout": {
          "annotationdefaults": {
           "arrowcolor": "#2a3f5f",
           "arrowhead": 0,
           "arrowwidth": 1
          },
          "autotypenumbers": "strict",
          "coloraxis": {
           "colorbar": {
            "outlinewidth": 0,
            "ticks": ""
           }
          },
          "colorscale": {
           "diverging": [
            [
             0,
             "#8e0152"
            ],
            [
             0.1,
             "#c51b7d"
            ],
            [
             0.2,
             "#de77ae"
            ],
            [
             0.3,
             "#f1b6da"
            ],
            [
             0.4,
             "#fde0ef"
            ],
            [
             0.5,
             "#f7f7f7"
            ],
            [
             0.6,
             "#e6f5d0"
            ],
            [
             0.7,
             "#b8e186"
            ],
            [
             0.8,
             "#7fbc41"
            ],
            [
             0.9,
             "#4d9221"
            ],
            [
             1,
             "#276419"
            ]
           ],
           "sequential": [
            [
             0,
             "#0d0887"
            ],
            [
             0.1111111111111111,
             "#46039f"
            ],
            [
             0.2222222222222222,
             "#7201a8"
            ],
            [
             0.3333333333333333,
             "#9c179e"
            ],
            [
             0.4444444444444444,
             "#bd3786"
            ],
            [
             0.5555555555555556,
             "#d8576b"
            ],
            [
             0.6666666666666666,
             "#ed7953"
            ],
            [
             0.7777777777777778,
             "#fb9f3a"
            ],
            [
             0.8888888888888888,
             "#fdca26"
            ],
            [
             1,
             "#f0f921"
            ]
           ],
           "sequentialminus": [
            [
             0,
             "#0d0887"
            ],
            [
             0.1111111111111111,
             "#46039f"
            ],
            [
             0.2222222222222222,
             "#7201a8"
            ],
            [
             0.3333333333333333,
             "#9c179e"
            ],
            [
             0.4444444444444444,
             "#bd3786"
            ],
            [
             0.5555555555555556,
             "#d8576b"
            ],
            [
             0.6666666666666666,
             "#ed7953"
            ],
            [
             0.7777777777777778,
             "#fb9f3a"
            ],
            [
             0.8888888888888888,
             "#fdca26"
            ],
            [
             1,
             "#f0f921"
            ]
           ]
          },
          "colorway": [
           "#636efa",
           "#EF553B",
           "#00cc96",
           "#ab63fa",
           "#FFA15A",
           "#19d3f3",
           "#FF6692",
           "#B6E880",
           "#FF97FF",
           "#FECB52"
          ],
          "font": {
           "color": "#2a3f5f"
          },
          "geo": {
           "bgcolor": "white",
           "lakecolor": "white",
           "landcolor": "#E5ECF6",
           "showlakes": true,
           "showland": true,
           "subunitcolor": "white"
          },
          "hoverlabel": {
           "align": "left"
          },
          "hovermode": "closest",
          "mapbox": {
           "style": "light"
          },
          "paper_bgcolor": "white",
          "plot_bgcolor": "#E5ECF6",
          "polar": {
           "angularaxis": {
            "gridcolor": "white",
            "linecolor": "white",
            "ticks": ""
           },
           "bgcolor": "#E5ECF6",
           "radialaxis": {
            "gridcolor": "white",
            "linecolor": "white",
            "ticks": ""
           }
          },
          "scene": {
           "xaxis": {
            "backgroundcolor": "#E5ECF6",
            "gridcolor": "white",
            "gridwidth": 2,
            "linecolor": "white",
            "showbackground": true,
            "ticks": "",
            "zerolinecolor": "white"
           },
           "yaxis": {
            "backgroundcolor": "#E5ECF6",
            "gridcolor": "white",
            "gridwidth": 2,
            "linecolor": "white",
            "showbackground": true,
            "ticks": "",
            "zerolinecolor": "white"
           },
           "zaxis": {
            "backgroundcolor": "#E5ECF6",
            "gridcolor": "white",
            "gridwidth": 2,
            "linecolor": "white",
            "showbackground": true,
            "ticks": "",
            "zerolinecolor": "white"
           }
          },
          "shapedefaults": {
           "line": {
            "color": "#2a3f5f"
           }
          },
          "ternary": {
           "aaxis": {
            "gridcolor": "white",
            "linecolor": "white",
            "ticks": ""
           },
           "baxis": {
            "gridcolor": "white",
            "linecolor": "white",
            "ticks": ""
           },
           "bgcolor": "#E5ECF6",
           "caxis": {
            "gridcolor": "white",
            "linecolor": "white",
            "ticks": ""
           }
          },
          "title": {
           "x": 0.05
          },
          "xaxis": {
           "automargin": true,
           "gridcolor": "white",
           "linecolor": "white",
           "ticks": "",
           "title": {
            "standoff": 15
           },
           "zerolinecolor": "white",
           "zerolinewidth": 2
          },
          "yaxis": {
           "automargin": true,
           "gridcolor": "white",
           "linecolor": "white",
           "ticks": "",
           "title": {
            "standoff": 15
           },
           "zerolinecolor": "white",
           "zerolinewidth": 2
          }
         }
        },
        "width": 1200,
        "xaxis": {
         "anchor": "y",
         "domain": [
          0,
          1
         ],
         "title": {
          "text": "Week"
         }
        },
        "yaxis": {
         "anchor": "x",
         "domain": [
          0,
          1
         ],
         "range": [
          0,
          null
         ],
         "title": {
          "text": "Log Customer Account ID"
         }
        }
       }
      }
     },
     "metadata": {},
     "output_type": "display_data"
    }
   ],
   "source": [
    "import pandas as pd\n",
    "import plotly.express as px\n",
    "\n",
    "\n",
    "# Example intervention date (replace this with your actual intervention date)\n",
    "intervention_date = '2024-08-05'\n",
    "\n",
    "# Ensure created_date_local is in datetime format\n",
    "final_df['week'] = pd.to_datetime(final_df['week'], errors='coerce')\n",
    "\n",
    "# Ensure platform_order_code is numeric\n",
    "final_df['customer_account_id'] = pd.to_numeric(final_df['customer_account_id'], errors='coerce')\n",
    "#final_df['log_customer_account_id'] = np.log(final_df_clean['customer_account_id'] + 1)  # Adding 1 to avoid log(0) errors\n",
    "\n",
    "\n",
    "# Drop rows with missing values in either column\n",
    "final_df_clean = final_df.dropna(subset=['week', 'customer_account_id'])\n",
    "\n",
    "# Separate control and treatment groups\n",
    "control_group = final_df_clean[final_df_clean['group'] == 'control']\n",
    "treatment_group = final_df_clean[final_df_clean['group'] == 'treatment']\n",
    "\n",
    "# Split control group into pre- and post-intervention\n",
    "control_pre = control_group[control_group['week'] < intervention_date]\n",
    "control_post = control_group[control_group['week'] >= intervention_date]\n",
    "\n",
    "# Split treatment group into pre- and post-intervention\n",
    "treatment_pre = treatment_group[treatment_group['week'] < intervention_date]\n",
    "treatment_post = treatment_group[treatment_group['week'] >= intervention_date]\n",
    "\n",
    "# Scatter plot for the control group (pre-intervention) with regression line and confidence intervals\n",
    "fig = px.scatter(\n",
    "    control_pre,\n",
    "    x='week',\n",
    "    y='customer_account_id',\n",
    "    color_discrete_sequence=['blue'],  # Pre-intervention control in blue\n",
    "    trendline='ols',  # Regression line for pre-intervention control\n",
    "    trendline_scope='trace',  # Ensures confidence intervals are plotted\n",
    "    trendline_color_override='blue'\n",
    ")\n",
    "\n",
    "# Add confidence intervals for the pre-intervention control group\n",
    "fig.add_trace(\n",
    "    px.scatter(\n",
    "        control_pre,\n",
    "        x='week',\n",
    "        y='customer_account_id',\n",
    "        color_discrete_sequence=['blue'],\n",
    "        trendline='ols',  # Regression line for pre-intervention control\n",
    "        trendline_scope='trace',  # Ensures confidence intervals are plotted\n",
    "        trendline_color_override='blue'\n",
    "    ).data[1]  # Selecting only the trendline trace\n",
    ")\n",
    "\n",
    "# Scatter plot for the control group (post-intervention) with regression line and confidence intervals\n",
    "fig.add_trace(\n",
    "    px.scatter(\n",
    "        control_post,\n",
    "        x='week',\n",
    "        y='customer_account_id',\n",
    "        color_discrete_sequence=['lightblue'],  # Post-intervention control in light blue\n",
    "        trendline='ols',  # Regression line for post-intervention control\n",
    "        trendline_scope='trace',  # Ensures confidence intervals are plotted\n",
    "        trendline_color_override='lightblue'\n",
    "    ).data[0]  # Selecting only the scatter trace\n",
    ")\n",
    "\n",
    "fig.add_trace(\n",
    "    px.scatter(\n",
    "        control_post,\n",
    "        x='week',\n",
    "        y='customer_account_id',\n",
    "        color_discrete_sequence=['lightblue'],\n",
    "        trendline='ols',  # Regression line for post-intervention control\n",
    "        trendline_scope='trace',  # Ensures confidence intervals are plotted\n",
    "        trendline_color_override='lightblue'\n",
    "    ).data[1]  # Selecting only the trendline trace\n",
    ")\n",
    "\n",
    "# Scatter plot for the treatment group (pre-intervention) with regression line and confidence intervals\n",
    "fig.add_trace(\n",
    "    px.scatter(\n",
    "        treatment_pre,\n",
    "        x='week',\n",
    "        y='customer_account_id',\n",
    "        color_discrete_sequence=['green'],  # Pre-intervention treatment in green\n",
    "        trendline='ols',  # Regression line for pre-intervention treatment\n",
    "        trendline_scope='trace',  # Ensures confidence intervals are plotted\n",
    "        trendline_color_override='green'\n",
    "    ).data[0]  # Selecting only the scatter trace\n",
    ")\n",
    "\n",
    "fig.add_trace(\n",
    "    px.scatter(\n",
    "        treatment_pre,\n",
    "        x='week',\n",
    "        y='customer_account_id',\n",
    "        color_discrete_sequence=['green'],\n",
    "        trendline='ols',  # Regression line for pre-intervention treatment\n",
    "        trendline_scope='trace',  # Ensures confidence intervals are plotted\n",
    "        trendline_color_override='green'\n",
    "    ).data[1]  # Selecting only the trendline trace\n",
    ")\n",
    "\n",
    "# Scatter plot for the treatment group (post-intervention) with regression line and confidence intervals\n",
    "fig.add_trace(\n",
    "    px.scatter(\n",
    "        treatment_post,\n",
    "        x='week',\n",
    "        y='customer_account_id',\n",
    "        color_discrete_sequence=['red'],  # Post-intervention treatment in red\n",
    "        trendline='ols',  # Regression line for post-intervention treatment\n",
    "        trendline_scope='trace',  # Ensures confidence intervals are plotted\n",
    "        trendline_color_override='red'\n",
    "    ).data[0]  # Selecting only the scatter trace\n",
    ")\n",
    "\n",
    "fig.add_trace(\n",
    "    px.scatter(\n",
    "        treatment_post,\n",
    "        x='week',\n",
    "        y='customer_account_id',\n",
    "        color_discrete_sequence=['red'],\n",
    "        trendline='ols',  # Regression line for post-intervention treatment\n",
    "        trendline_scope='trace',  # Ensures confidence intervals are plotted\n",
    "        trendline_color_override='red'\n",
    "    ).data[1]  # Selecting only the trendline trace\n",
    ")\n",
    "\n",
    "# Update layout for better visualization\n",
    "fig.update_layout(\n",
    "    xaxis_title='Week',\n",
    "    yaxis_title='Log Customer Account ID',\n",
    "    yaxis_range=[0, None],  # Start y-axis at 0\n",
    "    legend_title='Group',\n",
    "    height=600,  # Height of the plot\n",
    "    width=1200,  # Width of the plot\n",
    "    showlegend=False  # Hide duplicate legends from added traces\n",
    ")\n",
    "\n",
    "# Show the plot\n",
    "fig.show()"
   ]
  },
  {
   "cell_type": "code",
   "execution_count": 484,
   "metadata": {},
   "outputs": [
    {
     "data": {
      "application/vnd.plotly.v1+json": {
       "config": {
        "plotlyServerURL": "https://plot.ly"
       },
       "data": [
        {
         "hovertemplate": "created_date_local=%{x}<br>customer_account_id=%{y}<extra></extra>",
         "legendgroup": "",
         "marker": {
          "color": "blue",
          "symbol": "circle"
         },
         "mode": "markers",
         "name": "",
         "orientation": "v",
         "showlegend": false,
         "type": "scatter",
         "x": [
          "2024-06-11T00:00:00",
          "2024-06-12T00:00:00",
          "2024-06-13T00:00:00",
          "2024-06-14T00:00:00",
          "2024-06-15T00:00:00",
          "2024-06-16T00:00:00",
          "2024-06-17T00:00:00",
          "2024-06-18T00:00:00",
          "2024-06-19T00:00:00",
          "2024-06-20T00:00:00",
          "2024-06-21T00:00:00",
          "2024-06-22T00:00:00",
          "2024-06-23T00:00:00",
          "2024-06-24T00:00:00",
          "2024-06-25T00:00:00",
          "2024-06-26T00:00:00",
          "2024-06-27T00:00:00",
          "2024-06-28T00:00:00",
          "2024-06-29T00:00:00",
          "2024-06-30T00:00:00",
          "2024-07-01T00:00:00",
          "2024-07-02T00:00:00",
          "2024-07-03T00:00:00",
          "2024-07-04T00:00:00",
          "2024-07-05T00:00:00",
          "2024-07-06T00:00:00",
          "2024-07-07T00:00:00",
          "2024-07-08T00:00:00",
          "2024-07-09T00:00:00",
          "2024-07-10T00:00:00",
          "2024-07-11T00:00:00",
          "2024-07-12T00:00:00",
          "2024-07-13T00:00:00",
          "2024-07-14T00:00:00",
          "2024-07-15T00:00:00",
          "2024-07-16T00:00:00",
          "2024-07-17T00:00:00",
          "2024-07-18T00:00:00",
          "2024-07-19T00:00:00",
          "2024-07-20T00:00:00",
          "2024-07-21T00:00:00",
          "2024-07-22T00:00:00",
          "2024-07-23T00:00:00",
          "2024-07-24T00:00:00",
          "2024-07-25T00:00:00",
          "2024-07-26T00:00:00",
          "2024-07-27T00:00:00",
          "2024-07-28T00:00:00",
          "2024-07-29T00:00:00",
          "2024-07-30T00:00:00",
          "2024-07-31T00:00:00",
          "2024-08-01T00:00:00",
          "2024-08-02T00:00:00",
          "2024-08-03T00:00:00",
          "2024-08-04T00:00:00"
         ],
         "xaxis": "x",
         "y": [
          2109,
          2199,
          2370,
          2806,
          3381,
          2994,
          2070,
          2118,
          2383,
          2480,
          1661,
          3399,
          2775,
          2183,
          2286,
          2374,
          2437,
          2922,
          2890,
          3288,
          2176,
          2187,
          2265,
          2429,
          2941,
          3013,
          2828,
          2090,
          2142,
          2246,
          2362,
          2341,
          2976,
          2658,
          1978,
          2062,
          2223,
          2140,
          2366,
          2473,
          2527,
          2246,
          2186,
          2285,
          2458,
          2979,
          2919,
          3034,
          2240,
          2187,
          2271,
          2147,
          2683,
          2738,
          2922
         ],
         "yaxis": "y"
        },
        {
         "hovertemplate": "<b>OLS trendline</b><br>customer_account_id = -4.91606e-06 * created_date_local + 10945.6<br>R<sup>2</sup>=0.000309<br><br>created_date_local=%{x}<br>customer_account_id=%{y} <b>(trend)</b><extra></extra>",
         "legendgroup": "",
         "line": {
          "color": "blue"
         },
         "marker": {
          "color": "blue",
          "symbol": "circle"
         },
         "mode": "lines",
         "name": "",
         "showlegend": false,
         "type": "scatter",
         "x": [
          "2024-06-11T00:00:00",
          "2024-06-12T00:00:00",
          "2024-06-13T00:00:00",
          "2024-06-14T00:00:00",
          "2024-06-15T00:00:00",
          "2024-06-16T00:00:00",
          "2024-06-17T00:00:00",
          "2024-06-18T00:00:00",
          "2024-06-19T00:00:00",
          "2024-06-20T00:00:00",
          "2024-06-21T00:00:00",
          "2024-06-22T00:00:00",
          "2024-06-23T00:00:00",
          "2024-06-24T00:00:00",
          "2024-06-25T00:00:00",
          "2024-06-26T00:00:00",
          "2024-06-27T00:00:00",
          "2024-06-28T00:00:00",
          "2024-06-29T00:00:00",
          "2024-06-30T00:00:00",
          "2024-07-01T00:00:00",
          "2024-07-02T00:00:00",
          "2024-07-03T00:00:00",
          "2024-07-04T00:00:00",
          "2024-07-05T00:00:00",
          "2024-07-06T00:00:00",
          "2024-07-07T00:00:00",
          "2024-07-08T00:00:00",
          "2024-07-09T00:00:00",
          "2024-07-10T00:00:00",
          "2024-07-11T00:00:00",
          "2024-07-12T00:00:00",
          "2024-07-13T00:00:00",
          "2024-07-14T00:00:00",
          "2024-07-15T00:00:00",
          "2024-07-16T00:00:00",
          "2024-07-17T00:00:00",
          "2024-07-18T00:00:00",
          "2024-07-19T00:00:00",
          "2024-07-20T00:00:00",
          "2024-07-21T00:00:00",
          "2024-07-22T00:00:00",
          "2024-07-23T00:00:00",
          "2024-07-24T00:00:00",
          "2024-07-25T00:00:00",
          "2024-07-26T00:00:00",
          "2024-07-27T00:00:00",
          "2024-07-28T00:00:00",
          "2024-07-29T00:00:00",
          "2024-07-30T00:00:00",
          "2024-07-31T00:00:00",
          "2024-08-01T00:00:00",
          "2024-08-02T00:00:00",
          "2024-08-03T00:00:00",
          "2024-08-04T00:00:00"
         ],
         "xaxis": "x",
         "y": [
          2499.5227272727666,
          2499.0979797980185,
          2498.6732323232704,
          2498.2484848485224,
          2497.8237373737743,
          2497.398989899026,
          2496.974242424278,
          2496.54949494953,
          2496.124747474782,
          2495.700000000034,
          2495.2752525252854,
          2494.8505050505373,
          2494.4257575757892,
          2494.001010101041,
          2493.576262626293,
          2493.151515151545,
          2492.726767676797,
          2492.302020202049,
          2491.877272727301,
          2491.4525252525527,
          2491.0277777778047,
          2490.603030303056,
          2490.178282828308,
          2489.75353535356,
          2489.328787878812,
          2488.904040404064,
          2488.4792929293158,
          2488.0545454545677,
          2487.6297979798196,
          2487.2050505050715,
          2486.7803030303235,
          2486.355555555575,
          2485.930808080827,
          2485.506060606079,
          2485.0813131313307,
          2484.6565656565826,
          2484.2318181818346,
          2483.8070707070865,
          2483.3823232323384,
          2482.9575757575903,
          2482.5328282828423,
          2482.108080808094,
          2481.6833333333457,
          2481.2585858585976,
          2480.8338383838495,
          2480.4090909091015,
          2479.9843434343534,
          2479.5595959596053,
          2479.1348484848572,
          2478.710101010109,
          2478.285353535361,
          2477.860606060613,
          2477.435858585865,
          2477.0111111111164,
          2476.5863636363683
         ],
         "yaxis": "y"
        },
        {
         "hovertemplate": "<b>OLS trendline</b><br>customer_account_id = -4.91606e-06 * created_date_local + 10945.6<br>R<sup>2</sup>=0.000309<br><br>created_date_local=%{x}<br>customer_account_id=%{y} <b>(trend)</b><extra></extra>",
         "legendgroup": "",
         "line": {
          "color": "blue"
         },
         "marker": {
          "color": "blue",
          "symbol": "circle"
         },
         "mode": "lines",
         "name": "",
         "showlegend": false,
         "type": "scatter",
         "x": [
          "2024-06-11T00:00:00",
          "2024-06-12T00:00:00",
          "2024-06-13T00:00:00",
          "2024-06-14T00:00:00",
          "2024-06-15T00:00:00",
          "2024-06-16T00:00:00",
          "2024-06-17T00:00:00",
          "2024-06-18T00:00:00",
          "2024-06-19T00:00:00",
          "2024-06-20T00:00:00",
          "2024-06-21T00:00:00",
          "2024-06-22T00:00:00",
          "2024-06-23T00:00:00",
          "2024-06-24T00:00:00",
          "2024-06-25T00:00:00",
          "2024-06-26T00:00:00",
          "2024-06-27T00:00:00",
          "2024-06-28T00:00:00",
          "2024-06-29T00:00:00",
          "2024-06-30T00:00:00",
          "2024-07-01T00:00:00",
          "2024-07-02T00:00:00",
          "2024-07-03T00:00:00",
          "2024-07-04T00:00:00",
          "2024-07-05T00:00:00",
          "2024-07-06T00:00:00",
          "2024-07-07T00:00:00",
          "2024-07-08T00:00:00",
          "2024-07-09T00:00:00",
          "2024-07-10T00:00:00",
          "2024-07-11T00:00:00",
          "2024-07-12T00:00:00",
          "2024-07-13T00:00:00",
          "2024-07-14T00:00:00",
          "2024-07-15T00:00:00",
          "2024-07-16T00:00:00",
          "2024-07-17T00:00:00",
          "2024-07-18T00:00:00",
          "2024-07-19T00:00:00",
          "2024-07-20T00:00:00",
          "2024-07-21T00:00:00",
          "2024-07-22T00:00:00",
          "2024-07-23T00:00:00",
          "2024-07-24T00:00:00",
          "2024-07-25T00:00:00",
          "2024-07-26T00:00:00",
          "2024-07-27T00:00:00",
          "2024-07-28T00:00:00",
          "2024-07-29T00:00:00",
          "2024-07-30T00:00:00",
          "2024-07-31T00:00:00",
          "2024-08-01T00:00:00",
          "2024-08-02T00:00:00",
          "2024-08-03T00:00:00",
          "2024-08-04T00:00:00"
         ],
         "xaxis": "x",
         "y": [
          2499.5227272727666,
          2499.0979797980185,
          2498.6732323232704,
          2498.2484848485224,
          2497.8237373737743,
          2497.398989899026,
          2496.974242424278,
          2496.54949494953,
          2496.124747474782,
          2495.700000000034,
          2495.2752525252854,
          2494.8505050505373,
          2494.4257575757892,
          2494.001010101041,
          2493.576262626293,
          2493.151515151545,
          2492.726767676797,
          2492.302020202049,
          2491.877272727301,
          2491.4525252525527,
          2491.0277777778047,
          2490.603030303056,
          2490.178282828308,
          2489.75353535356,
          2489.328787878812,
          2488.904040404064,
          2488.4792929293158,
          2488.0545454545677,
          2487.6297979798196,
          2487.2050505050715,
          2486.7803030303235,
          2486.355555555575,
          2485.930808080827,
          2485.506060606079,
          2485.0813131313307,
          2484.6565656565826,
          2484.2318181818346,
          2483.8070707070865,
          2483.3823232323384,
          2482.9575757575903,
          2482.5328282828423,
          2482.108080808094,
          2481.6833333333457,
          2481.2585858585976,
          2480.8338383838495,
          2480.4090909091015,
          2479.9843434343534,
          2479.5595959596053,
          2479.1348484848572,
          2478.710101010109,
          2478.285353535361,
          2477.860606060613,
          2477.435858585865,
          2477.0111111111164,
          2476.5863636363683
         ],
         "yaxis": "y"
        },
        {
         "hovertemplate": "created_date_local=%{x}<br>customer_account_id=%{y}<extra></extra>",
         "legendgroup": "",
         "marker": {
          "color": "lightblue",
          "symbol": "circle"
         },
         "mode": "markers",
         "name": "",
         "orientation": "v",
         "showlegend": false,
         "type": "scatter",
         "x": [
          "2024-08-05T00:00:00",
          "2024-08-06T00:00:00",
          "2024-08-07T00:00:00",
          "2024-08-08T00:00:00",
          "2024-08-09T00:00:00",
          "2024-08-10T00:00:00",
          "2024-08-11T00:00:00",
          "2024-08-12T00:00:00",
          "2024-08-13T00:00:00",
          "2024-08-14T00:00:00",
          "2024-08-15T00:00:00",
          "2024-08-16T00:00:00",
          "2024-08-17T00:00:00",
          "2024-08-18T00:00:00",
          "2024-08-19T00:00:00",
          "2024-08-20T00:00:00",
          "2024-08-21T00:00:00",
          "2024-08-22T00:00:00",
          "2024-08-23T00:00:00",
          "2024-08-24T00:00:00",
          "2024-08-25T00:00:00",
          "2024-08-26T00:00:00",
          "2024-08-27T00:00:00",
          "2024-08-28T00:00:00",
          "2024-08-29T00:00:00",
          "2024-08-30T00:00:00",
          "2024-08-31T00:00:00",
          "2024-09-01T00:00:00",
          "2024-09-02T00:00:00",
          "2024-09-03T00:00:00",
          "2024-09-04T00:00:00",
          "2024-09-05T00:00:00",
          "2024-09-06T00:00:00",
          "2024-09-07T00:00:00",
          "2024-09-08T00:00:00",
          "2024-09-09T00:00:00",
          "2024-09-10T00:00:00",
          "2024-09-11T00:00:00",
          "2024-09-12T00:00:00",
          "2024-09-13T00:00:00",
          "2024-09-14T00:00:00",
          "2024-09-15T00:00:00",
          "2024-09-16T00:00:00",
          "2024-09-17T00:00:00",
          "2024-09-18T00:00:00",
          "2024-09-19T00:00:00",
          "2024-09-20T00:00:00",
          "2024-09-21T00:00:00",
          "2024-09-22T00:00:00",
          "2024-09-23T00:00:00",
          "2024-09-24T00:00:00",
          "2024-09-25T00:00:00",
          "2024-09-26T00:00:00",
          "2024-09-27T00:00:00",
          "2024-09-28T00:00:00",
          "2024-09-29T00:00:00"
         ],
         "xaxis": "x",
         "y": [
          2001,
          1997,
          2145,
          2232,
          2718,
          2761,
          2935,
          1959,
          1975,
          2064,
          2291,
          2687,
          2773,
          3064,
          1967,
          2040,
          2267,
          2473,
          3362,
          3304,
          3530,
          2205,
          2316,
          2409,
          2542,
          3237,
          3376,
          3349,
          2124,
          2037,
          2160,
          2208,
          2894,
          3196,
          3181,
          2155,
          2132,
          2247,
          2257,
          3068,
          3151,
          3294,
          1993,
          2031,
          2206,
          2331,
          3028,
          3201,
          3194,
          2016,
          2440,
          2953,
          2872,
          3710,
          3737,
          3556
         ],
         "yaxis": "y"
        },
        {
         "hovertemplate": "<b>OLS trendline</b><br>customer_account_id = 0.00013493 * created_date_local + -230148<br>R<sup>2</sup>=0.121373<br><br>created_date_local=%{x}<br>customer_account_id=%{y} <b>(trend)</b><extra></extra>",
         "legendgroup": "",
         "line": {
          "color": "lightblue"
         },
         "marker": {
          "color": "lightblue",
          "symbol": "circle"
         },
         "mode": "lines",
         "name": "",
         "showlegend": false,
         "type": "scatter",
         "x": [
          "2024-08-05T00:00:00",
          "2024-08-06T00:00:00",
          "2024-08-07T00:00:00",
          "2024-08-08T00:00:00",
          "2024-08-09T00:00:00",
          "2024-08-10T00:00:00",
          "2024-08-11T00:00:00",
          "2024-08-12T00:00:00",
          "2024-08-13T00:00:00",
          "2024-08-14T00:00:00",
          "2024-08-15T00:00:00",
          "2024-08-16T00:00:00",
          "2024-08-17T00:00:00",
          "2024-08-18T00:00:00",
          "2024-08-19T00:00:00",
          "2024-08-20T00:00:00",
          "2024-08-21T00:00:00",
          "2024-08-22T00:00:00",
          "2024-08-23T00:00:00",
          "2024-08-24T00:00:00",
          "2024-08-25T00:00:00",
          "2024-08-26T00:00:00",
          "2024-08-27T00:00:00",
          "2024-08-28T00:00:00",
          "2024-08-29T00:00:00",
          "2024-08-30T00:00:00",
          "2024-08-31T00:00:00",
          "2024-09-01T00:00:00",
          "2024-09-02T00:00:00",
          "2024-09-03T00:00:00",
          "2024-09-04T00:00:00",
          "2024-09-05T00:00:00",
          "2024-09-06T00:00:00",
          "2024-09-07T00:00:00",
          "2024-09-08T00:00:00",
          "2024-09-09T00:00:00",
          "2024-09-10T00:00:00",
          "2024-09-11T00:00:00",
          "2024-09-12T00:00:00",
          "2024-09-13T00:00:00",
          "2024-09-14T00:00:00",
          "2024-09-15T00:00:00",
          "2024-09-16T00:00:00",
          "2024-09-17T00:00:00",
          "2024-09-18T00:00:00",
          "2024-09-19T00:00:00",
          "2024-09-20T00:00:00",
          "2024-09-21T00:00:00",
          "2024-09-22T00:00:00",
          "2024-09-23T00:00:00",
          "2024-09-24T00:00:00",
          "2024-09-25T00:00:00",
          "2024-09-26T00:00:00",
          "2024-09-27T00:00:00",
          "2024-09-28T00:00:00",
          "2024-09-29T00:00:00"
         ],
         "xaxis": "x",
         "y": [
          2310.674812030203,
          2322.332740943395,
          2333.9906698565874,
          2345.6485987697793,
          2357.306527682971,
          2368.9644565961635,
          2380.6223855093554,
          2392.2803144225477,
          2403.9382433357396,
          2415.596172248932,
          2427.254101162124,
          2438.912030075316,
          2450.569958988508,
          2462.2278879017,
          2473.885816814892,
          2485.543745728084,
          2497.2016746412764,
          2508.8596035544683,
          2520.5175324676607,
          2532.1754613808525,
          2543.833390294045,
          2555.4913192072368,
          2567.1492481204286,
          2578.807177033621,
          2590.465105946813,
          2602.123034860005,
          2613.780963773197,
          2625.4388926863894,
          2637.0968215995813,
          2648.7547505127736,
          2660.4126794259655,
          2672.0706083391574,
          2683.7285372523497,
          2695.3864661655416,
          2707.044395078734,
          2718.702323991926,
          2730.360252905118,
          2742.01818181831,
          2753.676110731502,
          2765.3340396446943,
          2776.991968557886,
          2788.6498974710785,
          2800.3078263842704,
          2811.9657552974627,
          2823.6236842106546,
          2835.281613123847,
          2846.939542037039,
          2858.5974709502307,
          2870.255399863423,
          2881.913328776615,
          2893.571257689807,
          2905.229186602999,
          2916.8871155161914,
          2928.5450444293833,
          2940.2029733425757,
          2951.8609022557675
         ],
         "yaxis": "y"
        },
        {
         "hovertemplate": "created_date_local=%{x}<br>customer_account_id=%{y}<extra></extra>",
         "legendgroup": "",
         "marker": {
          "color": "green",
          "symbol": "circle"
         },
         "mode": "markers",
         "name": "",
         "orientation": "v",
         "showlegend": false,
         "type": "scatter",
         "x": [
          "2024-06-11T00:00:00",
          "2024-06-12T00:00:00",
          "2024-06-13T00:00:00",
          "2024-06-14T00:00:00",
          "2024-06-15T00:00:00",
          "2024-06-16T00:00:00",
          "2024-06-17T00:00:00",
          "2024-06-18T00:00:00",
          "2024-06-19T00:00:00",
          "2024-06-20T00:00:00",
          "2024-06-21T00:00:00",
          "2024-06-22T00:00:00",
          "2024-06-23T00:00:00",
          "2024-06-24T00:00:00",
          "2024-06-25T00:00:00",
          "2024-06-26T00:00:00",
          "2024-06-27T00:00:00",
          "2024-06-28T00:00:00",
          "2024-06-29T00:00:00",
          "2024-06-30T00:00:00",
          "2024-07-01T00:00:00",
          "2024-07-02T00:00:00",
          "2024-07-03T00:00:00",
          "2024-07-04T00:00:00",
          "2024-07-05T00:00:00",
          "2024-07-06T00:00:00",
          "2024-07-07T00:00:00",
          "2024-07-08T00:00:00",
          "2024-07-09T00:00:00",
          "2024-07-10T00:00:00",
          "2024-07-11T00:00:00",
          "2024-07-12T00:00:00",
          "2024-07-13T00:00:00",
          "2024-07-14T00:00:00",
          "2024-07-15T00:00:00",
          "2024-07-16T00:00:00",
          "2024-07-17T00:00:00",
          "2024-07-18T00:00:00",
          "2024-07-19T00:00:00",
          "2024-07-20T00:00:00",
          "2024-07-21T00:00:00",
          "2024-07-22T00:00:00",
          "2024-07-23T00:00:00",
          "2024-07-24T00:00:00",
          "2024-07-25T00:00:00",
          "2024-07-26T00:00:00",
          "2024-07-27T00:00:00",
          "2024-07-28T00:00:00",
          "2024-07-29T00:00:00",
          "2024-07-30T00:00:00",
          "2024-07-31T00:00:00",
          "2024-08-01T00:00:00",
          "2024-08-02T00:00:00",
          "2024-08-03T00:00:00",
          "2024-08-04T00:00:00"
         ],
         "xaxis": "x",
         "y": [
          12345,
          13435,
          13944,
          16736,
          16778,
          15644,
          11620,
          12664,
          13597,
          13847,
          7660,
          16751,
          15370,
          11919,
          13303,
          13407,
          13660,
          16712,
          15739,
          18184,
          11554,
          11816,
          12814,
          12760,
          15303,
          15566,
          15681,
          11338,
          10917,
          11762,
          11921,
          12744,
          14040,
          14672,
          10909,
          10733,
          11207,
          11869,
          12287,
          12751,
          13690,
          10875,
          11449,
          11702,
          13766,
          14112,
          15706,
          16220,
          11995,
          11941,
          12817,
          11896,
          13681,
          15010,
          16641
         ],
         "yaxis": "y"
        },
        {
         "hovertemplate": "<b>OLS trendline</b><br>customer_account_id = -0.000196692 * created_date_local + 351797<br>R<sup>2</sup>=0.017435<br><br>created_date_local=%{x}<br>customer_account_id=%{y} <b>(trend)</b><extra></extra>",
         "legendgroup": "",
         "line": {
          "color": "green"
         },
         "marker": {
          "color": "green",
          "symbol": "circle"
         },
         "mode": "lines",
         "name": "",
         "showlegend": false,
         "type": "scatter",
         "x": [
          "2024-06-11T00:00:00",
          "2024-06-12T00:00:00",
          "2024-06-13T00:00:00",
          "2024-06-14T00:00:00",
          "2024-06-15T00:00:00",
          "2024-06-16T00:00:00",
          "2024-06-17T00:00:00",
          "2024-06-18T00:00:00",
          "2024-06-19T00:00:00",
          "2024-06-20T00:00:00",
          "2024-06-21T00:00:00",
          "2024-06-22T00:00:00",
          "2024-06-23T00:00:00",
          "2024-06-24T00:00:00",
          "2024-06-25T00:00:00",
          "2024-06-26T00:00:00",
          "2024-06-27T00:00:00",
          "2024-06-28T00:00:00",
          "2024-06-29T00:00:00",
          "2024-06-30T00:00:00",
          "2024-07-01T00:00:00",
          "2024-07-02T00:00:00",
          "2024-07-03T00:00:00",
          "2024-07-04T00:00:00",
          "2024-07-05T00:00:00",
          "2024-07-06T00:00:00",
          "2024-07-07T00:00:00",
          "2024-07-08T00:00:00",
          "2024-07-09T00:00:00",
          "2024-07-10T00:00:00",
          "2024-07-11T00:00:00",
          "2024-07-12T00:00:00",
          "2024-07-13T00:00:00",
          "2024-07-14T00:00:00",
          "2024-07-15T00:00:00",
          "2024-07-16T00:00:00",
          "2024-07-17T00:00:00",
          "2024-07-18T00:00:00",
          "2024-07-19T00:00:00",
          "2024-07-20T00:00:00",
          "2024-07-21T00:00:00",
          "2024-07-22T00:00:00",
          "2024-07-23T00:00:00",
          "2024-07-24T00:00:00",
          "2024-07-25T00:00:00",
          "2024-07-26T00:00:00",
          "2024-07-27T00:00:00",
          "2024-07-28T00:00:00",
          "2024-07-29T00:00:00",
          "2024-07-30T00:00:00",
          "2024-07-31T00:00:00",
          "2024-08-01T00:00:00",
          "2024-08-02T00:00:00",
          "2024-08-03T00:00:00",
          "2024-08-04T00:00:00"
         ],
         "xaxis": "x",
         "y": [
          13867.207792208055,
          13850.213564213824,
          13833.219336219594,
          13816.225108225362,
          13799.23088023113,
          13782.2366522369,
          13765.242424242668,
          13748.248196248438,
          13731.253968254206,
          13714.259740259975,
          13697.265512265743,
          13680.271284271512,
          13663.277056277282,
          13646.28282828305,
          13629.288600288819,
          13612.294372294587,
          13595.300144300356,
          13578.305916306126,
          13561.311688311895,
          13544.317460317663,
          13527.323232323432,
          13510.3290043292,
          13493.33477633497,
          13476.340548340739,
          13459.346320346507,
          13442.352092352276,
          13425.357864358044,
          13408.363636363812,
          13391.369408369583,
          13374.375180375351,
          13357.38095238112,
          13340.386724386888,
          13323.392496392657,
          13306.398268398427,
          13289.404040404195,
          13272.409812409964,
          13255.415584415732,
          13238.4213564215,
          13221.42712842727,
          13204.43290043304,
          13187.438672438808,
          13170.444444444576,
          13153.450216450345,
          13136.455988456115,
          13119.461760461883,
          13102.467532467652,
          13085.47330447342,
          13068.479076479189,
          13051.484848484959,
          13034.490620490727,
          13017.496392496496,
          13000.502164502264,
          12983.507936508033,
          12966.513708513803,
          12949.519480519572
         ],
         "yaxis": "y"
        },
        {
         "hovertemplate": "created_date_local=%{x}<br>customer_account_id=%{y}<extra></extra>",
         "legendgroup": "",
         "marker": {
          "color": "red",
          "symbol": "circle"
         },
         "mode": "markers",
         "name": "",
         "orientation": "v",
         "showlegend": false,
         "type": "scatter",
         "x": [
          "2024-08-05T00:00:00",
          "2024-08-06T00:00:00",
          "2024-08-07T00:00:00",
          "2024-08-08T00:00:00",
          "2024-08-09T00:00:00",
          "2024-08-10T00:00:00",
          "2024-08-11T00:00:00",
          "2024-08-12T00:00:00",
          "2024-08-13T00:00:00",
          "2024-08-14T00:00:00",
          "2024-08-15T00:00:00",
          "2024-08-16T00:00:00",
          "2024-08-17T00:00:00",
          "2024-08-18T00:00:00",
          "2024-08-19T00:00:00",
          "2024-08-20T00:00:00",
          "2024-08-21T00:00:00",
          "2024-08-22T00:00:00",
          "2024-08-23T00:00:00",
          "2024-08-24T00:00:00",
          "2024-08-25T00:00:00",
          "2024-08-26T00:00:00",
          "2024-08-27T00:00:00",
          "2024-08-28T00:00:00",
          "2024-08-29T00:00:00",
          "2024-08-30T00:00:00",
          "2024-08-31T00:00:00",
          "2024-09-01T00:00:00",
          "2024-09-02T00:00:00",
          "2024-09-03T00:00:00",
          "2024-09-04T00:00:00",
          "2024-09-05T00:00:00",
          "2024-09-06T00:00:00",
          "2024-09-07T00:00:00",
          "2024-09-08T00:00:00",
          "2024-09-09T00:00:00",
          "2024-09-10T00:00:00",
          "2024-09-11T00:00:00",
          "2024-09-12T00:00:00",
          "2024-09-13T00:00:00",
          "2024-09-14T00:00:00",
          "2024-09-15T00:00:00",
          "2024-09-16T00:00:00",
          "2024-09-17T00:00:00",
          "2024-09-18T00:00:00",
          "2024-09-19T00:00:00",
          "2024-09-20T00:00:00",
          "2024-09-21T00:00:00",
          "2024-09-22T00:00:00",
          "2024-09-23T00:00:00",
          "2024-09-24T00:00:00",
          "2024-09-25T00:00:00",
          "2024-09-26T00:00:00",
          "2024-09-27T00:00:00",
          "2024-09-28T00:00:00",
          "2024-09-29T00:00:00"
         ],
         "xaxis": "x",
         "y": [
          11351,
          11292,
          11766,
          12482,
          14182,
          15006,
          15603,
          11172,
          11130,
          11722,
          12766,
          15571,
          15636,
          17173,
          11381,
          11678,
          13387,
          13793,
          18985,
          18358,
          19594,
          12503,
          13190,
          13374,
          14371,
          18513,
          18279,
          18378,
          12047,
          11855,
          12570,
          13380,
          16817,
          17251,
          16872,
          11433,
          11982,
          14037,
          13098,
          17221,
          17436,
          17444,
          11635,
          12187,
          13110,
          13819,
          17547,
          18063,
          17726,
          12006,
          13352,
          16028,
          15788,
          21828,
          20843,
          19643
         ],
         "yaxis": "y"
        },
        {
         "hovertemplate": "<b>OLS trendline</b><br>customer_account_id = 0.000816611 * created_date_local + -1.394e+06<br>R<sup>2</sup>=0.157392<br><br>created_date_local=%{x}<br>customer_account_id=%{y} <b>(trend)</b><extra></extra>",
         "legendgroup": "",
         "line": {
          "color": "red"
         },
         "marker": {
          "color": "red",
          "symbol": "circle"
         },
         "mode": "lines",
         "name": "",
         "showlegend": false,
         "type": "scatter",
         "x": [
          "2024-08-05T00:00:00",
          "2024-08-06T00:00:00",
          "2024-08-07T00:00:00",
          "2024-08-08T00:00:00",
          "2024-08-09T00:00:00",
          "2024-08-10T00:00:00",
          "2024-08-11T00:00:00",
          "2024-08-12T00:00:00",
          "2024-08-13T00:00:00",
          "2024-08-14T00:00:00",
          "2024-08-15T00:00:00",
          "2024-08-16T00:00:00",
          "2024-08-17T00:00:00",
          "2024-08-18T00:00:00",
          "2024-08-19T00:00:00",
          "2024-08-20T00:00:00",
          "2024-08-21T00:00:00",
          "2024-08-22T00:00:00",
          "2024-08-23T00:00:00",
          "2024-08-24T00:00:00",
          "2024-08-25T00:00:00",
          "2024-08-26T00:00:00",
          "2024-08-27T00:00:00",
          "2024-08-28T00:00:00",
          "2024-08-29T00:00:00",
          "2024-08-30T00:00:00",
          "2024-08-31T00:00:00",
          "2024-09-01T00:00:00",
          "2024-09-02T00:00:00",
          "2024-09-03T00:00:00",
          "2024-09-04T00:00:00",
          "2024-09-05T00:00:00",
          "2024-09-06T00:00:00",
          "2024-09-07T00:00:00",
          "2024-09-08T00:00:00",
          "2024-09-09T00:00:00",
          "2024-09-10T00:00:00",
          "2024-09-11T00:00:00",
          "2024-09-12T00:00:00",
          "2024-09-13T00:00:00",
          "2024-09-14T00:00:00",
          "2024-09-15T00:00:00",
          "2024-09-16T00:00:00",
          "2024-09-17T00:00:00",
          "2024-09-18T00:00:00",
          "2024-09-19T00:00:00",
          "2024-09-20T00:00:00",
          "2024-09-21T00:00:00",
          "2024-09-22T00:00:00",
          "2024-09-23T00:00:00",
          "2024-09-24T00:00:00",
          "2024-09-25T00:00:00",
          "2024-09-26T00:00:00",
          "2024-09-27T00:00:00",
          "2024-09-28T00:00:00",
          "2024-09-29T00:00:00"
         ],
         "xaxis": "x",
         "y": [
          12874.981203005835,
          12945.536431987379,
          13016.091660968925,
          13086.64688995047,
          13157.202118932015,
          13227.75734791356,
          13298.312576895107,
          13368.86780587665,
          13439.423034858197,
          13509.978263839743,
          13580.533492821289,
          13651.088721802833,
          13721.643950784379,
          13792.199179765925,
          13862.754408747469,
          13933.309637729015,
          14003.86486671056,
          14074.420095692105,
          14144.97532467365,
          14215.530553655197,
          14286.085782636741,
          14356.641011618287,
          14427.196240599833,
          14497.751469581377,
          14568.306698562923,
          14638.861927544469,
          14709.417156526013,
          14779.972385507559,
          14850.527614489105,
          14921.08284347065,
          14991.638072452195,
          15062.193301433741,
          15132.748530415285,
          15203.303759396831,
          15273.858988378377,
          15344.414217359921,
          15414.969446341467,
          15485.524675323013,
          15556.079904304557,
          15626.635133286103,
          15697.19036226765,
          15767.745591249193,
          15838.30082023074,
          15908.856049212285,
          15979.41127819383,
          16049.966507175375,
          16120.521736156921,
          16191.076965138465,
          16261.632194120011,
          16332.187423101557,
          16402.742652083103,
          16473.297881064645,
          16543.85311004619,
          16614.408339027737,
          16684.963568009283,
          16755.51879699083
         ],
         "yaxis": "y"
        }
       ],
       "layout": {
        "height": 600,
        "legend": {
         "title": {
          "text": "Group"
         },
         "tracegroupgap": 0
        },
        "margin": {
         "t": 60
        },
        "showlegend": false,
        "template": {
         "data": {
          "bar": [
           {
            "error_x": {
             "color": "#2a3f5f"
            },
            "error_y": {
             "color": "#2a3f5f"
            },
            "marker": {
             "line": {
              "color": "#E5ECF6",
              "width": 0.5
             },
             "pattern": {
              "fillmode": "overlay",
              "size": 10,
              "solidity": 0.2
             }
            },
            "type": "bar"
           }
          ],
          "barpolar": [
           {
            "marker": {
             "line": {
              "color": "#E5ECF6",
              "width": 0.5
             },
             "pattern": {
              "fillmode": "overlay",
              "size": 10,
              "solidity": 0.2
             }
            },
            "type": "barpolar"
           }
          ],
          "carpet": [
           {
            "aaxis": {
             "endlinecolor": "#2a3f5f",
             "gridcolor": "white",
             "linecolor": "white",
             "minorgridcolor": "white",
             "startlinecolor": "#2a3f5f"
            },
            "baxis": {
             "endlinecolor": "#2a3f5f",
             "gridcolor": "white",
             "linecolor": "white",
             "minorgridcolor": "white",
             "startlinecolor": "#2a3f5f"
            },
            "type": "carpet"
           }
          ],
          "choropleth": [
           {
            "colorbar": {
             "outlinewidth": 0,
             "ticks": ""
            },
            "type": "choropleth"
           }
          ],
          "contour": [
           {
            "colorbar": {
             "outlinewidth": 0,
             "ticks": ""
            },
            "colorscale": [
             [
              0,
              "#0d0887"
             ],
             [
              0.1111111111111111,
              "#46039f"
             ],
             [
              0.2222222222222222,
              "#7201a8"
             ],
             [
              0.3333333333333333,
              "#9c179e"
             ],
             [
              0.4444444444444444,
              "#bd3786"
             ],
             [
              0.5555555555555556,
              "#d8576b"
             ],
             [
              0.6666666666666666,
              "#ed7953"
             ],
             [
              0.7777777777777778,
              "#fb9f3a"
             ],
             [
              0.8888888888888888,
              "#fdca26"
             ],
             [
              1,
              "#f0f921"
             ]
            ],
            "type": "contour"
           }
          ],
          "contourcarpet": [
           {
            "colorbar": {
             "outlinewidth": 0,
             "ticks": ""
            },
            "type": "contourcarpet"
           }
          ],
          "heatmap": [
           {
            "colorbar": {
             "outlinewidth": 0,
             "ticks": ""
            },
            "colorscale": [
             [
              0,
              "#0d0887"
             ],
             [
              0.1111111111111111,
              "#46039f"
             ],
             [
              0.2222222222222222,
              "#7201a8"
             ],
             [
              0.3333333333333333,
              "#9c179e"
             ],
             [
              0.4444444444444444,
              "#bd3786"
             ],
             [
              0.5555555555555556,
              "#d8576b"
             ],
             [
              0.6666666666666666,
              "#ed7953"
             ],
             [
              0.7777777777777778,
              "#fb9f3a"
             ],
             [
              0.8888888888888888,
              "#fdca26"
             ],
             [
              1,
              "#f0f921"
             ]
            ],
            "type": "heatmap"
           }
          ],
          "heatmapgl": [
           {
            "colorbar": {
             "outlinewidth": 0,
             "ticks": ""
            },
            "colorscale": [
             [
              0,
              "#0d0887"
             ],
             [
              0.1111111111111111,
              "#46039f"
             ],
             [
              0.2222222222222222,
              "#7201a8"
             ],
             [
              0.3333333333333333,
              "#9c179e"
             ],
             [
              0.4444444444444444,
              "#bd3786"
             ],
             [
              0.5555555555555556,
              "#d8576b"
             ],
             [
              0.6666666666666666,
              "#ed7953"
             ],
             [
              0.7777777777777778,
              "#fb9f3a"
             ],
             [
              0.8888888888888888,
              "#fdca26"
             ],
             [
              1,
              "#f0f921"
             ]
            ],
            "type": "heatmapgl"
           }
          ],
          "histogram": [
           {
            "marker": {
             "pattern": {
              "fillmode": "overlay",
              "size": 10,
              "solidity": 0.2
             }
            },
            "type": "histogram"
           }
          ],
          "histogram2d": [
           {
            "colorbar": {
             "outlinewidth": 0,
             "ticks": ""
            },
            "colorscale": [
             [
              0,
              "#0d0887"
             ],
             [
              0.1111111111111111,
              "#46039f"
             ],
             [
              0.2222222222222222,
              "#7201a8"
             ],
             [
              0.3333333333333333,
              "#9c179e"
             ],
             [
              0.4444444444444444,
              "#bd3786"
             ],
             [
              0.5555555555555556,
              "#d8576b"
             ],
             [
              0.6666666666666666,
              "#ed7953"
             ],
             [
              0.7777777777777778,
              "#fb9f3a"
             ],
             [
              0.8888888888888888,
              "#fdca26"
             ],
             [
              1,
              "#f0f921"
             ]
            ],
            "type": "histogram2d"
           }
          ],
          "histogram2dcontour": [
           {
            "colorbar": {
             "outlinewidth": 0,
             "ticks": ""
            },
            "colorscale": [
             [
              0,
              "#0d0887"
             ],
             [
              0.1111111111111111,
              "#46039f"
             ],
             [
              0.2222222222222222,
              "#7201a8"
             ],
             [
              0.3333333333333333,
              "#9c179e"
             ],
             [
              0.4444444444444444,
              "#bd3786"
             ],
             [
              0.5555555555555556,
              "#d8576b"
             ],
             [
              0.6666666666666666,
              "#ed7953"
             ],
             [
              0.7777777777777778,
              "#fb9f3a"
             ],
             [
              0.8888888888888888,
              "#fdca26"
             ],
             [
              1,
              "#f0f921"
             ]
            ],
            "type": "histogram2dcontour"
           }
          ],
          "mesh3d": [
           {
            "colorbar": {
             "outlinewidth": 0,
             "ticks": ""
            },
            "type": "mesh3d"
           }
          ],
          "parcoords": [
           {
            "line": {
             "colorbar": {
              "outlinewidth": 0,
              "ticks": ""
             }
            },
            "type": "parcoords"
           }
          ],
          "pie": [
           {
            "automargin": true,
            "type": "pie"
           }
          ],
          "scatter": [
           {
            "fillpattern": {
             "fillmode": "overlay",
             "size": 10,
             "solidity": 0.2
            },
            "type": "scatter"
           }
          ],
          "scatter3d": [
           {
            "line": {
             "colorbar": {
              "outlinewidth": 0,
              "ticks": ""
             }
            },
            "marker": {
             "colorbar": {
              "outlinewidth": 0,
              "ticks": ""
             }
            },
            "type": "scatter3d"
           }
          ],
          "scattercarpet": [
           {
            "marker": {
             "colorbar": {
              "outlinewidth": 0,
              "ticks": ""
             }
            },
            "type": "scattercarpet"
           }
          ],
          "scattergeo": [
           {
            "marker": {
             "colorbar": {
              "outlinewidth": 0,
              "ticks": ""
             }
            },
            "type": "scattergeo"
           }
          ],
          "scattergl": [
           {
            "marker": {
             "colorbar": {
              "outlinewidth": 0,
              "ticks": ""
             }
            },
            "type": "scattergl"
           }
          ],
          "scattermapbox": [
           {
            "marker": {
             "colorbar": {
              "outlinewidth": 0,
              "ticks": ""
             }
            },
            "type": "scattermapbox"
           }
          ],
          "scatterpolar": [
           {
            "marker": {
             "colorbar": {
              "outlinewidth": 0,
              "ticks": ""
             }
            },
            "type": "scatterpolar"
           }
          ],
          "scatterpolargl": [
           {
            "marker": {
             "colorbar": {
              "outlinewidth": 0,
              "ticks": ""
             }
            },
            "type": "scatterpolargl"
           }
          ],
          "scatterternary": [
           {
            "marker": {
             "colorbar": {
              "outlinewidth": 0,
              "ticks": ""
             }
            },
            "type": "scatterternary"
           }
          ],
          "surface": [
           {
            "colorbar": {
             "outlinewidth": 0,
             "ticks": ""
            },
            "colorscale": [
             [
              0,
              "#0d0887"
             ],
             [
              0.1111111111111111,
              "#46039f"
             ],
             [
              0.2222222222222222,
              "#7201a8"
             ],
             [
              0.3333333333333333,
              "#9c179e"
             ],
             [
              0.4444444444444444,
              "#bd3786"
             ],
             [
              0.5555555555555556,
              "#d8576b"
             ],
             [
              0.6666666666666666,
              "#ed7953"
             ],
             [
              0.7777777777777778,
              "#fb9f3a"
             ],
             [
              0.8888888888888888,
              "#fdca26"
             ],
             [
              1,
              "#f0f921"
             ]
            ],
            "type": "surface"
           }
          ],
          "table": [
           {
            "cells": {
             "fill": {
              "color": "#EBF0F8"
             },
             "line": {
              "color": "white"
             }
            },
            "header": {
             "fill": {
              "color": "#C8D4E3"
             },
             "line": {
              "color": "white"
             }
            },
            "type": "table"
           }
          ]
         },
         "layout": {
          "annotationdefaults": {
           "arrowcolor": "#2a3f5f",
           "arrowhead": 0,
           "arrowwidth": 1
          },
          "autotypenumbers": "strict",
          "coloraxis": {
           "colorbar": {
            "outlinewidth": 0,
            "ticks": ""
           }
          },
          "colorscale": {
           "diverging": [
            [
             0,
             "#8e0152"
            ],
            [
             0.1,
             "#c51b7d"
            ],
            [
             0.2,
             "#de77ae"
            ],
            [
             0.3,
             "#f1b6da"
            ],
            [
             0.4,
             "#fde0ef"
            ],
            [
             0.5,
             "#f7f7f7"
            ],
            [
             0.6,
             "#e6f5d0"
            ],
            [
             0.7,
             "#b8e186"
            ],
            [
             0.8,
             "#7fbc41"
            ],
            [
             0.9,
             "#4d9221"
            ],
            [
             1,
             "#276419"
            ]
           ],
           "sequential": [
            [
             0,
             "#0d0887"
            ],
            [
             0.1111111111111111,
             "#46039f"
            ],
            [
             0.2222222222222222,
             "#7201a8"
            ],
            [
             0.3333333333333333,
             "#9c179e"
            ],
            [
             0.4444444444444444,
             "#bd3786"
            ],
            [
             0.5555555555555556,
             "#d8576b"
            ],
            [
             0.6666666666666666,
             "#ed7953"
            ],
            [
             0.7777777777777778,
             "#fb9f3a"
            ],
            [
             0.8888888888888888,
             "#fdca26"
            ],
            [
             1,
             "#f0f921"
            ]
           ],
           "sequentialminus": [
            [
             0,
             "#0d0887"
            ],
            [
             0.1111111111111111,
             "#46039f"
            ],
            [
             0.2222222222222222,
             "#7201a8"
            ],
            [
             0.3333333333333333,
             "#9c179e"
            ],
            [
             0.4444444444444444,
             "#bd3786"
            ],
            [
             0.5555555555555556,
             "#d8576b"
            ],
            [
             0.6666666666666666,
             "#ed7953"
            ],
            [
             0.7777777777777778,
             "#fb9f3a"
            ],
            [
             0.8888888888888888,
             "#fdca26"
            ],
            [
             1,
             "#f0f921"
            ]
           ]
          },
          "colorway": [
           "#636efa",
           "#EF553B",
           "#00cc96",
           "#ab63fa",
           "#FFA15A",
           "#19d3f3",
           "#FF6692",
           "#B6E880",
           "#FF97FF",
           "#FECB52"
          ],
          "font": {
           "color": "#2a3f5f"
          },
          "geo": {
           "bgcolor": "white",
           "lakecolor": "white",
           "landcolor": "#E5ECF6",
           "showlakes": true,
           "showland": true,
           "subunitcolor": "white"
          },
          "hoverlabel": {
           "align": "left"
          },
          "hovermode": "closest",
          "mapbox": {
           "style": "light"
          },
          "paper_bgcolor": "white",
          "plot_bgcolor": "#E5ECF6",
          "polar": {
           "angularaxis": {
            "gridcolor": "white",
            "linecolor": "white",
            "ticks": ""
           },
           "bgcolor": "#E5ECF6",
           "radialaxis": {
            "gridcolor": "white",
            "linecolor": "white",
            "ticks": ""
           }
          },
          "scene": {
           "xaxis": {
            "backgroundcolor": "#E5ECF6",
            "gridcolor": "white",
            "gridwidth": 2,
            "linecolor": "white",
            "showbackground": true,
            "ticks": "",
            "zerolinecolor": "white"
           },
           "yaxis": {
            "backgroundcolor": "#E5ECF6",
            "gridcolor": "white",
            "gridwidth": 2,
            "linecolor": "white",
            "showbackground": true,
            "ticks": "",
            "zerolinecolor": "white"
           },
           "zaxis": {
            "backgroundcolor": "#E5ECF6",
            "gridcolor": "white",
            "gridwidth": 2,
            "linecolor": "white",
            "showbackground": true,
            "ticks": "",
            "zerolinecolor": "white"
           }
          },
          "shapedefaults": {
           "line": {
            "color": "#2a3f5f"
           }
          },
          "ternary": {
           "aaxis": {
            "gridcolor": "white",
            "linecolor": "white",
            "ticks": ""
           },
           "baxis": {
            "gridcolor": "white",
            "linecolor": "white",
            "ticks": ""
           },
           "bgcolor": "#E5ECF6",
           "caxis": {
            "gridcolor": "white",
            "linecolor": "white",
            "ticks": ""
           }
          },
          "title": {
           "x": 0.05
          },
          "xaxis": {
           "automargin": true,
           "gridcolor": "white",
           "linecolor": "white",
           "ticks": "",
           "title": {
            "standoff": 15
           },
           "zerolinecolor": "white",
           "zerolinewidth": 2
          },
          "yaxis": {
           "automargin": true,
           "gridcolor": "white",
           "linecolor": "white",
           "ticks": "",
           "title": {
            "standoff": 15
           },
           "zerolinecolor": "white",
           "zerolinewidth": 2
          }
         }
        },
        "width": 1200,
        "xaxis": {
         "anchor": "y",
         "domain": [
          0,
          1
         ],
         "title": {
          "text": "created_date_local"
         }
        },
        "yaxis": {
         "anchor": "x",
         "domain": [
          0,
          1
         ],
         "range": [
          0,
          null
         ],
         "title": {
          "text": "Log Customer Account ID"
         }
        }
       }
      }
     },
     "metadata": {},
     "output_type": "display_data"
    }
   ],
   "source": [
    "import pandas as pd\n",
    "import plotly.express as px\n",
    "\n",
    "\n",
    "a = dps_post_treatment.groupby(['created_date_local']).agg({'customer_account_id':'nunique','platform_order_code':'nunique'}).reset_index()\n",
    "b = dps_pre_treatment.groupby(['created_date_local']).agg({'customer_account_id':'nunique','platform_order_code':'nunique'}).reset_index()\n",
    "\n",
    "c = post_control.groupby(['created_date_local']).agg({'customer_account_id':'nunique','platform_order_code':'nunique'}).reset_index()\n",
    "d = pre_control.groupby(['created_date_local']).agg({'customer_account_id':'nunique','platform_order_code':'nunique'}).reset_index()\n",
    "\n",
    "frames_t = [a,b]\n",
    "combined_treatment  = pd.concat(frames_t)\n",
    "combined_treatment['group'] = 'treatment'\n",
    "\n",
    "frames_c = [c,d]\n",
    "combined_control = pd.concat(frames_c)\n",
    "combined_control['group'] = 'control'\n",
    "\n",
    "frames_f = [combined_treatment,combined_control]\n",
    "final_df = pd.concat(frames_f)\n",
    "\n",
    "# Example intervention date (replace this with your actual intervention date)\n",
    "intervention_date = '2024-08-05'\n",
    "\n",
    "# Ensure created_date_local is in datetime format\n",
    "final_df['created_date_local'] = pd.to_datetime(final_df['created_date_local'], errors='coerce')\n",
    "\n",
    "# Ensure platform_order_code is numeric\n",
    "final_df['customer_account_id'] = pd.to_numeric(final_df['customer_account_id'], errors='coerce')\n",
    "#final_df['log_customer_account_id'] = np.log(final_df_clean['customer_account_id'] + 1)  # Adding 1 to avoid log(0) errors\n",
    "\n",
    "\n",
    "# Drop rows with missing values in either column\n",
    "final_df_clean = final_df.dropna(subset=['created_date_local', 'customer_account_id'])\n",
    "\n",
    "# Separate control and treatment groups\n",
    "control_group = final_df_clean[final_df_clean['group'] == 'control']\n",
    "treatment_group = final_df_clean[final_df_clean['group'] == 'treatment']\n",
    "\n",
    "# Split control group into pre- and post-intervention\n",
    "control_pre = control_group[control_group['created_date_local'] < intervention_date]\n",
    "control_post = control_group[control_group['created_date_local'] >= intervention_date]\n",
    "\n",
    "# Split treatment group into pre- and post-intervention\n",
    "treatment_pre = treatment_group[treatment_group['created_date_local'] < intervention_date]\n",
    "treatment_post = treatment_group[treatment_group['created_date_local'] >= intervention_date]\n",
    "\n",
    "# Scatter plot for the control group (pre-intervention) with regression line and confidence intervals\n",
    "fig = px.scatter(\n",
    "    control_pre,\n",
    "    x='created_date_local',\n",
    "    y='customer_account_id',\n",
    "    color_discrete_sequence=['blue'],  # Pre-intervention control in blue\n",
    "    trendline='ols',  # Regression line for pre-intervention control\n",
    "    trendline_scope='trace',  # Ensures confidence intervals are plotted\n",
    "    trendline_color_override='blue'\n",
    ")\n",
    "\n",
    "# Add confidence intervals for the pre-intervention control group\n",
    "fig.add_trace(\n",
    "    px.scatter(\n",
    "        control_pre,\n",
    "        x='created_date_local',\n",
    "        y='customer_account_id',\n",
    "        color_discrete_sequence=['blue'],\n",
    "        trendline='ols',  # Regression line for pre-intervention control\n",
    "        trendline_scope='trace',  # Ensures confidence intervals are plotted\n",
    "        trendline_color_override='blue'\n",
    "    ).data[1]  # Selecting only the trendline trace\n",
    ")\n",
    "\n",
    "# Scatter plot for the control group (post-intervention) with regression line and confidence intervals\n",
    "fig.add_trace(\n",
    "    px.scatter(\n",
    "        control_post,\n",
    "        x='created_date_local',\n",
    "        y='customer_account_id',\n",
    "        color_discrete_sequence=['lightblue'],  # Post-intervention control in light blue\n",
    "        trendline='ols',  # Regression line for post-intervention control\n",
    "        trendline_scope='trace',  # Ensures confidence intervals are plotted\n",
    "        trendline_color_override='lightblue'\n",
    "    ).data[0]  # Selecting only the scatter trace\n",
    ")\n",
    "\n",
    "fig.add_trace(\n",
    "    px.scatter(\n",
    "        control_post,\n",
    "        x='created_date_local',\n",
    "        y='customer_account_id',\n",
    "        color_discrete_sequence=['lightblue'],\n",
    "        trendline='ols',  # Regression line for post-intervention control\n",
    "        trendline_scope='trace',  # Ensures confidence intervals are plotted\n",
    "        trendline_color_override='lightblue'\n",
    "    ).data[1]  # Selecting only the trendline trace\n",
    ")\n",
    "\n",
    "# Scatter plot for the treatment group (pre-intervention) with regression line and confidence intervals\n",
    "fig.add_trace(\n",
    "    px.scatter(\n",
    "        treatment_pre,\n",
    "        x='created_date_local',\n",
    "        y='customer_account_id',\n",
    "        color_discrete_sequence=['green'],  # Pre-intervention treatment in green\n",
    "        trendline='ols',  # Regression line for pre-intervention treatment\n",
    "        trendline_scope='trace',  # Ensures confidence intervals are plotted\n",
    "        trendline_color_override='green'\n",
    "    ).data[0]  # Selecting only the scatter trace\n",
    ")\n",
    "\n",
    "fig.add_trace(\n",
    "    px.scatter(\n",
    "        treatment_pre,\n",
    "        x='created_date_local',\n",
    "        y='customer_account_id',\n",
    "        color_discrete_sequence=['green'],\n",
    "        trendline='ols',  # Regression line for pre-intervention treatment\n",
    "        trendline_scope='trace',  # Ensures confidence intervals are plotted\n",
    "        trendline_color_override='green'\n",
    "    ).data[1]  # Selecting only the trendline trace\n",
    ")\n",
    "\n",
    "# Scatter plot for the treatment group (post-intervention) with regression line and confidence intervals\n",
    "fig.add_trace(\n",
    "    px.scatter(\n",
    "        treatment_post,\n",
    "        x='created_date_local',\n",
    "        y='customer_account_id',\n",
    "        color_discrete_sequence=['red'],  # Post-intervention treatment in red\n",
    "        trendline='ols',  # Regression line for post-intervention treatment\n",
    "        trendline_scope='trace',  # Ensures confidence intervals are plotted\n",
    "        trendline_color_override='red'\n",
    "    ).data[0]  # Selecting only the scatter trace\n",
    ")\n",
    "\n",
    "fig.add_trace(\n",
    "    px.scatter(\n",
    "        treatment_post,\n",
    "        x='created_date_local',\n",
    "        y='customer_account_id',\n",
    "        color_discrete_sequence=['red'],\n",
    "        trendline='ols',  # Regression line for post-intervention treatment\n",
    "        trendline_scope='trace',  # Ensures confidence intervals are plotted\n",
    "        trendline_color_override='red'\n",
    "    ).data[1]  # Selecting only the trendline trace\n",
    ")\n",
    "\n",
    "# Update layout for better visualization\n",
    "fig.update_layout(\n",
    "    xaxis_title='created_date_local',\n",
    "    yaxis_title='Log Customer Account ID',\n",
    "    yaxis_range=[0, None],  # Start y-axis at 0\n",
    "    legend_title='Group',\n",
    "    height=600,  # Height of the plot\n",
    "    width=1200,  # Width of the plot\n",
    "    showlegend=False  # Hide duplicate legends from added traces\n",
    ")\n",
    "\n",
    "# Show the plot\n",
    "fig.show()"
   ]
  },
  {
   "cell_type": "code",
   "execution_count": 507,
   "metadata": {},
   "outputs": [
    {
     "name": "stdout",
     "output_type": "stream",
     "text": [
      "                           PanelOLS Estimation Summary                           \n",
      "=================================================================================\n",
      "Dep. Variable:     customer_account_id   R-squared:                        0.7116\n",
      "Estimator:                    PanelOLS   R-squared (Between):              0.9878\n",
      "No. Observations:                  222   R-squared (Within):               0.6066\n",
      "Date:                 Sun, Oct 13 2024   R-squared (Overall):              0.9753\n",
      "Time:                         14:06:00   Log-likelihood                   -1725.9\n",
      "Cov. Estimator:              Clustered                                           \n",
      "                                         F-statistic:                      133.23\n",
      "Entities:                            2   P-value                           0.0000\n",
      "Avg Obs:                        111.00   Distribution:                   F(2,108)\n",
      "Min Obs:                        111.00                                           \n",
      "Max Obs:                        111.00   F-statistic (robust):             93.803\n",
      "                                         P-value                           0.0000\n",
      "Time periods:                      111   Distribution:                   F(2,108)\n",
      "Avg Obs:                        2.0000                                           \n",
      "Min Obs:                        2.0000                                           \n",
      "Max Obs:                        2.0000                                           \n",
      "                                                                                 \n",
      "                             Parameter Estimates                              \n",
      "==============================================================================\n",
      "            Parameter  Std. Err.     T-stat    P-value    Lower CI    Upper CI\n",
      "------------------------------------------------------------------------------\n",
      "treated        2086.6     230.84     9.0393     0.0000      1629.0      2544.1\n",
      "total_cost     0.5532     0.0447     12.383     0.0000      0.4646      0.6417\n",
      "==============================================================================\n",
      "\n",
      "F-test for Poolability: 2.9544\n",
      "P-value: 0.0000\n",
      "Distribution: F(111,108)\n",
      "\n",
      "Included effects: Entity, Time\n"
     ]
    }
   ],
   "source": [
    "from linearmodels.panel import PanelOLS\n",
    "import pandas as pd\n",
    "\n",
    "# Intervention week\n",
    "intervention_week = '2024-08-06'\n",
    "intervention_week = pd.to_datetime(intervention_week, format='%Y-%m-%d')\n",
    "\n",
    "# Aggregating post and pre-treatment for treatment and control groups\n",
    "a = dps_post_treatment.groupby(['created_date_local']).agg({'fully_loaded_gross_profit_eur':'sum','platform_order_code':'nunique','customer_account_id':'nunique','foregone_delivery_fee':'sum','voucher_amount_eur':'sum','foregone_delivery_fee_final':'sum','voucher_amount_nc_eur':'sum'}).reset_index()\n",
    "b = dps_pre_treatment.groupby(['created_date_local']).agg({'fully_loaded_gross_profit_eur':'sum','platform_order_code':'nunique','customer_account_id':'nunique','foregone_delivery_fee':'sum','voucher_amount_eur':'sum','foregone_delivery_fee_final':'sum','voucher_amount_nc_eur':'sum'}).reset_index()\n",
    "\n",
    "c = post_control.groupby(['created_date_local']).agg({'fully_loaded_gross_profit_eur':'sum','platform_order_code':'nunique','customer_account_id':'nunique','foregone_delivery_fee':'sum','voucher_amount_eur':'sum','foregone_delivery_fee_final':'sum','voucher_amount_nc_eur':'sum'}).reset_index()\n",
    "d = pre_control.groupby(['created_date_local']).agg({'fully_loaded_gross_profit_eur':'sum','platform_order_code':'nunique','customer_account_id':'nunique','foregone_delivery_fee':'sum','voucher_amount_eur':'sum','foregone_delivery_fee_final':'sum','voucher_amount_nc_eur':'sum'}).reset_index()\n",
    "\n",
    "# Combine treatment data\n",
    "frames_t = [a, b]\n",
    "combined_treatment = pd.concat(frames_t)\n",
    "combined_treatment['group'] = 'treatment'\n",
    "\n",
    "# Combine control data\n",
    "frames_c = [c, d]\n",
    "combined_control = pd.concat(frames_c)\n",
    "combined_control['group'] = 'control'\n",
    "\n",
    "# Combine all data\n",
    "frames_f = [combined_treatment, combined_control]\n",
    "final_df = pd.concat(frames_f)\n",
    "\n",
    "# Convert necessary columns to float\n",
    "final_df['foregone_delivery_fee'] = final_df['foregone_delivery_fee_final'].astype(float)\n",
    "final_df['voucher_amount_eur'] = final_df['voucher_amount_nc_eur'].astype(float)\n",
    "\n",
    "# Add the two columns to get the 'total_cost'\n",
    "final_df['total_cost'] = final_df['voucher_amount_eur'] + final_df['foregone_delivery_fee']\n",
    "\n",
    "# Convert week to datetime\n",
    "final_df['created_date_local'] = pd.to_datetime(final_df['created_date_local'], errors='coerce')\n",
    "\n",
    "# Creating flags for treatment, post-intervention\n",
    "final_df['variant_cities'] = final_df['group'] == 'treatment'\n",
    "final_df['after'] = final_df['created_date_local'] >= intervention_week\n",
    "final_df['treated'] = 1 * (final_df['variant_cities'] & final_df['after'])\n",
    "\n",
    "# Set 'group' (entity) and 'week' as a multi-level index for PanelOLS\n",
    "final_df = final_df.set_index(['group', 'created_date_local'])\n",
    "\n",
    "# PanelOLS model, using the formula for difference-in-differences\n",
    "model = PanelOLS.from_formula('customer_account_id ~ treated + EntityEffects + TimeEffects+ total_cost', data=final_df)\n",
    "\n",
    "# Fitting the model\n",
    "results = model.fit(cov_type='clustered', cluster_entity=False)\n",
    "\n",
    "# Display results\n",
    "print(results)\n"
   ]
  },
  {
   "cell_type": "code",
   "execution_count": 514,
   "metadata": {},
   "outputs": [
    {
     "data": {
      "text/plain": [
       "Index(['entity_id', 'country_code', 'city_id', 'city_name', 'city_name_var',\n",
       "       'created_date_local', 'week', 'month', 'customer_account_id',\n",
       "       'customer_first_order_date', 'order_id', 'dps_delivery_fee_eur',\n",
       "       'delivery_fee_eur', 'delivery_fee_local', 'dps_travel_time_fee_eur',\n",
       "       'dps_standard_fee_eur', 'vendor_funding_amount_local',\n",
       "       'dps_last_non_zero_df_eur', 'delivery_fee_vat_eur',\n",
       "       'delivery_fee_vat_local', 'delivery_fee_option', 'priority_fee_eur',\n",
       "       'saver_discount_eur', 'gfv_eur', 'gfv_local', 'gmv_eur', 'gmv_local',\n",
       "       'profit_eur', 'profit_local', 'revenue_eur', 'revenue_local',\n",
       "       'mov_customer_fee_eur', 'service_fee_eur', 'dps_service_fee_eur',\n",
       "       'delivery_distance', 'delivery_costs_eur', 'delivery_costs_local',\n",
       "       'joker_vendor_fee_eur', 'is_sent', 'is_own_delivery', 'vertical_type',\n",
       "       'completed_orders', 'fully_loaded_gross_profit_eur', 'commission_eur',\n",
       "       'platform_order_code', 'has_new_customer_condition',\n",
       "       'new_customer_condition_type', 'voucher_amount_eur',\n",
       "       'voucher_amount_nc_eur', 'foregone_delivery_fee',\n",
       "       'foregone_delivery_fee_final', 'entity_id_period'],\n",
       "      dtype='object')"
      ]
     },
     "execution_count": 514,
     "metadata": {},
     "output_type": "execute_result"
    }
   ],
   "source": [
    "dps_post_treatment.columns"
   ]
  },
  {
   "cell_type": "code",
   "execution_count": 528,
   "metadata": {},
   "outputs": [
    {
     "data": {
      "text/html": [
       "<div>\n",
       "<style scoped>\n",
       "    .dataframe tbody tr th:only-of-type {\n",
       "        vertical-align: middle;\n",
       "    }\n",
       "\n",
       "    .dataframe tbody tr th {\n",
       "        vertical-align: top;\n",
       "    }\n",
       "\n",
       "    .dataframe thead th {\n",
       "        text-align: right;\n",
       "    }\n",
       "</style>\n",
       "<table border=\"1\" class=\"dataframe\">\n",
       "  <thead>\n",
       "    <tr style=\"text-align: right;\">\n",
       "      <th></th>\n",
       "      <th>y_var</th>\n",
       "      <th>coef</th>\n",
       "      <th>ci_low</th>\n",
       "      <th>ci_high</th>\n",
       "      <th>percentage_change</th>\n",
       "      <th>ci_low_pct</th>\n",
       "      <th>ci_high_pct</th>\n",
       "    </tr>\n",
       "  </thead>\n",
       "  <tbody>\n",
       "    <tr>\n",
       "      <th>0</th>\n",
       "      <td>customer_account_id</td>\n",
       "      <td>2086.584316</td>\n",
       "      <td>1629.028734</td>\n",
       "      <td>2544.139898</td>\n",
       "      <td>25.021321</td>\n",
       "      <td>19.534533</td>\n",
       "      <td>30.508109</td>\n",
       "    </tr>\n",
       "    <tr>\n",
       "      <th>1</th>\n",
       "      <td>fully_loaded_gross_profit_eur</td>\n",
       "      <td>8011.980670</td>\n",
       "      <td>5742.072308</td>\n",
       "      <td>10281.889031</td>\n",
       "      <td>22.747519</td>\n",
       "      <td>16.302823</td>\n",
       "      <td>29.192216</td>\n",
       "    </tr>\n",
       "    <tr>\n",
       "      <th>2</th>\n",
       "      <td>platform_order_code</td>\n",
       "      <td>2226.870123</td>\n",
       "      <td>1732.403026</td>\n",
       "      <td>2721.337219</td>\n",
       "      <td>25.278493</td>\n",
       "      <td>19.665510</td>\n",
       "      <td>30.891475</td>\n",
       "    </tr>\n",
       "    <tr>\n",
       "      <th>3</th>\n",
       "      <td>gfv_eur</td>\n",
       "      <td>64296.429024</td>\n",
       "      <td>49907.819973</td>\n",
       "      <td>78685.038074</td>\n",
       "      <td>28.212941</td>\n",
       "      <td>21.899293</td>\n",
       "      <td>34.526588</td>\n",
       "    </tr>\n",
       "    <tr>\n",
       "      <th>4</th>\n",
       "      <td>flgpo</td>\n",
       "      <td>-0.332800</td>\n",
       "      <td>-0.464871</td>\n",
       "      <td>-0.200728</td>\n",
       "      <td>-7.481738</td>\n",
       "      <td>-10.450859</td>\n",
       "      <td>-4.512616</td>\n",
       "    </tr>\n",
       "    <tr>\n",
       "      <th>5</th>\n",
       "      <td>orders_per_user</td>\n",
       "      <td>0.000750</td>\n",
       "      <td>-0.000980</td>\n",
       "      <td>0.002480</td>\n",
       "      <td>0.071270</td>\n",
       "      <td>-0.093132</td>\n",
       "      <td>0.235673</td>\n",
       "    </tr>\n",
       "  </tbody>\n",
       "</table>\n",
       "</div>"
      ],
      "text/plain": [
       "                           y_var          coef        ci_low       ci_high  \\\n",
       "0            customer_account_id   2086.584316   1629.028734   2544.139898   \n",
       "1  fully_loaded_gross_profit_eur   8011.980670   5742.072308  10281.889031   \n",
       "2            platform_order_code   2226.870123   1732.403026   2721.337219   \n",
       "3                        gfv_eur  64296.429024  49907.819973  78685.038074   \n",
       "4                          flgpo     -0.332800     -0.464871     -0.200728   \n",
       "5                orders_per_user      0.000750     -0.000980      0.002480   \n",
       "\n",
       "   percentage_change  ci_low_pct  ci_high_pct  \n",
       "0          25.021321   19.534533    30.508109  \n",
       "1          22.747519   16.302823    29.192216  \n",
       "2          25.278493   19.665510    30.891475  \n",
       "3          28.212941   21.899293    34.526588  \n",
       "4          -7.481738  -10.450859    -4.512616  \n",
       "5           0.071270   -0.093132     0.235673  "
      ]
     },
     "execution_count": 528,
     "metadata": {},
     "output_type": "execute_result"
    }
   ],
   "source": [
    "import pandas as pd\n",
    "from linearmodels.panel import PanelOLS\n",
    "\n",
    "def run_did_regression(final_df, y_var, intervention_week, cluster_entity=True):\n",
    "   \n",
    "    # Convert intervention week to datetime\n",
    "    intervention_week = pd.to_datetime(intervention_week, format='%Y-%m-%d')\n",
    "\n",
    "    # Convert necessary columns to float if not already\n",
    "    final_df['foregone_delivery_fee'] = final_df['foregone_delivery_fee_final'].astype(float)\n",
    "    final_df['voucher_amount_eur'] = final_df['voucher_amount_nc_eur'].astype(float)\n",
    "\n",
    "    # Add the two columns to get the 'total_cost'\n",
    "    final_df['total_cost'] = final_df['voucher_amount_eur'] + final_df['foregone_delivery_fee']\n",
    "\n",
    "    # Convert week to datetime\n",
    "    final_df['created_date_local'] = pd.to_datetime(final_df['created_date_local'], errors='coerce')\n",
    "\n",
    "    # Creating flags for treatment, post-intervention\n",
    "    final_df['variant_cities'] = final_df['group'] == 'treatment'\n",
    "    final_df['after'] = final_df['created_date_local'] >= intervention_week\n",
    "    final_df['treated'] = 1 * (final_df['variant_cities'] & final_df['after'])\n",
    "\n",
    "    # Set 'group' (entity) and 'created_date_local' as a multi-level index for PanelOLS\n",
    "    final_df = final_df.set_index(['group', 'created_date_local'])\n",
    "\n",
    "    # PanelOLS model without formula (EntityEffects and TimeEffects are passed separately)\n",
    "    model = PanelOLS(final_df[y_var], final_df[['treated', 'total_cost']], \n",
    "                     entity_effects=True, time_effects=True)\n",
    "\n",
    "    # Fitting the model\n",
    "    results = model.fit(cov_type='clustered', cluster_entity=False)\n",
    "\n",
    "    # Extracting coefficient, confidence intervals, and calculating percentage change\n",
    "    coef = results.params['treated']\n",
    "    ci_low, ci_high = results.conf_int().loc['treated']\n",
    "\n",
    "    # Assuming percentage change can be calculated based on the ratio to the mean\n",
    "    percentage_change = (coef / final_df[y_var].mean()) * 100\n",
    "    ci_low_pct = (ci_low / final_df[y_var].mean()) * 100\n",
    "    ci_high_pct = (ci_high / final_df[y_var].mean()) * 100\n",
    "\n",
    "    return {\n",
    "        'y_var': y_var,\n",
    "        'coef': coef,\n",
    "        'ci_low': ci_low,\n",
    "        'ci_high': ci_high,\n",
    "        'percentage_change': percentage_change,\n",
    "        'ci_low_pct': ci_low_pct,\n",
    "        'ci_high_pct': ci_high_pct\n",
    "    }\n",
    "\n",
    "# Intervention week\n",
    "intervention_week = '2024-08-06'\n",
    "intervention_week = pd.to_datetime(intervention_week, format='%Y-%m-%d')\n",
    "\n",
    "# Aggregating post and pre-treatment for treatment and control groups\n",
    "a = dps_post_treatment.groupby(['created_date_local']).agg({'fully_loaded_gross_profit_eur':'sum','platform_order_code':'nunique','customer_account_id':'nunique','foregone_delivery_fee':'sum','voucher_amount_eur':'sum','foregone_delivery_fee_final':'sum','voucher_amount_nc_eur':'sum','gfv_eur':'sum'}).reset_index()\n",
    "b = dps_pre_treatment.groupby(['created_date_local']).agg({'fully_loaded_gross_profit_eur':'sum','platform_order_code':'nunique','customer_account_id':'nunique','foregone_delivery_fee':'sum','voucher_amount_eur':'sum','foregone_delivery_fee_final':'sum','voucher_amount_nc_eur':'sum','gfv_eur':'sum'}).reset_index()\n",
    "\n",
    "c = post_control.groupby(['created_date_local']).agg({'fully_loaded_gross_profit_eur':'sum','platform_order_code':'nunique','customer_account_id':'nunique','foregone_delivery_fee':'sum','voucher_amount_eur':'sum','foregone_delivery_fee_final':'sum','voucher_amount_nc_eur':'sum','gfv_eur':'sum'}).reset_index()\n",
    "d = pre_control.groupby(['created_date_local']).agg({'fully_loaded_gross_profit_eur':'sum','platform_order_code':'nunique','customer_account_id':'nunique','foregone_delivery_fee':'sum','voucher_amount_eur':'sum','foregone_delivery_fee_final':'sum','voucher_amount_nc_eur':'sum','gfv_eur':'sum'}).reset_index()\n",
    "\n",
    "# Combine treatment data\n",
    "frames_t = [a, b]\n",
    "combined_treatment = pd.concat(frames_t)\n",
    "combined_treatment['group'] = 'treatment'\n",
    "\n",
    "# Combine control data\n",
    "frames_c = [c, d]\n",
    "combined_control = pd.concat(frames_c)\n",
    "combined_control['group'] = 'control'\n",
    "\n",
    "# Combine all data\n",
    "frames_f = [combined_treatment, combined_control]\n",
    "final_df = pd.concat(frames_f)\n",
    "\n",
    "final_df['flgpo'] = final_df['fully_loaded_gross_profit_eur'] / final_df['platform_order_code']\n",
    "final_df['orders_per_user'] = final_df['platform_order_code'] / final_df['customer_account_id']\n",
    "\n",
    "# Example usage:\n",
    "y_variables = ['customer_account_id', 'fully_loaded_gross_profit_eur', 'platform_order_code', 'gfv_eur','flgpo','orders_per_user']  # Add any other dependent variables\n",
    "results_list = []\n",
    "\n",
    "for y_var in y_variables:\n",
    "    result = run_did_regression(final_df, y_var, '2024-08-06')\n",
    "    results_list.append(result)\n",
    "\n",
    "# Create DataFrame to store all results\n",
    "df_results = pd.DataFrame(results_list)\n",
    "\n",
    "df_results"
   ]
  },
  {
   "cell_type": "code",
   "execution_count": 532,
   "metadata": {},
   "outputs": [
    {
     "data": {
      "image/png": "[encoded data removed]",
      "text/plain": [
       "<Figure size 1200x600 with 2 Axes>"
      ]
     },
     "metadata": {},
     "output_type": "display_data"
    }
   ],
   "source": [
    "import matplotlib.pyplot as plt\n",
    "\n",
    "\n",
    "# Creating the chart\n",
    "fig, axes = plt.subplots(1, 2, figsize=(12, 6), sharey=True)\n",
    "\n",
    "# Panel A: Absolute change\n",
    "axes[0].errorbar(df_results['coef'], df_results['y_var'], \n",
    "                 xerr=[df_results['coef'] - df_results['ci_low'], df_results['ci_high'] - df_results['coef']], \n",
    "                 fmt='o', color='red', label='Impact on Number')\n",
    "axes[0].axvline(x=0, color='grey', linestyle='--')\n",
    "axes[0].set_title('Panel A. Impact on Number')\n",
    "axes[0].set_xlabel('Coefficient (Impact)')\n",
    "\n",
    "# Panel B: Percentage change\n",
    "axes[1].errorbar(df_results['percentage_change'], df_results['y_var'], \n",
    "                 xerr=[df_results['percentage_change'] - df_results['ci_low_pct'], \n",
    "                       df_results['ci_high_pct'] - df_results['percentage_change']], \n",
    "                 fmt='o', color='blue', label='Impact on Percentage')\n",
    "axes[1].axvline(x=0, color='grey', linestyle='--')\n",
    "axes[1].set_title('Panel B. Impact on Percentage')\n",
    "axes[1].set_xlabel('Percentage Change')\n",
    "\n",
    "# Final touches\n",
    "plt.tight_layout()\n",
    "plt.show()\n"
   ]
  },
  {
   "cell_type": "code",
   "execution_count": 524,
   "metadata": {},
   "outputs": [
    {
     "data": {
      "image/png": "[encoded data removed]",
      "text/plain": [
       "<Figure size 1200x600 with 2 Axes>"
      ]
     },
     "metadata": {},
     "output_type": "display_data"
    }
   ],
   "source": [
    "import matplotlib.pyplot as plt\n",
    "\n",
    "# Creating the chart\n",
    "fig, axes = plt.subplots(1, 2, figsize=(12, 6), sharey=True)\n",
    "\n",
    "# Panel A: Absolute change\n",
    "axes[0].errorbar(df_results['coef'], df_results['y_var'], \n",
    "                 xerr=[df_results['coef'] - df_results['ci_low'], df_results['ci_high'] - df_results['coef']], \n",
    "                 fmt='o', color='red', label='Impact on Number')\n",
    "axes[0].axvline(x=0, color='grey', linestyle='--')\n",
    "axes[0].set_title('Panel A. Impact on Number')\n",
    "axes[0].set_xlabel('Coefficient (Impact)')\n",
    "\n",
    "# Add horizontal dashed lines for each y axis value\n",
    "for i, y_var in enumerate(df_results['y_var']):\n",
    "    axes[0].axhline(y=i, color='grey', linestyle='--', linewidth=0.5)\n",
    "\n",
    "# Panel B: Percentage change\n",
    "axes[1].errorbar(df_results['percentage_change'], df_results['y_var'], \n",
    "                 xerr=[df_results['percentage_change'] - df_results['ci_low_pct'], \n",
    "                       df_results['ci_high_pct'] - df_results['percentage_change']], \n",
    "                 fmt='o', color='blue', label='Impact on Percentage')\n",
    "axes[1].axvline(x=0, color='grey', linestyle='--')\n",
    "axes[1].set_title('Panel B. Impact on Percentage')\n",
    "axes[1].set_xlabel('Percentage Change')\n",
    "\n",
    "# Add horizontal dashed lines for each y axis value\n",
    "for i, y_var in enumerate(df_results['y_var']):\n",
    "    axes[1].axhline(y=i, color='grey', linestyle='--', linewidth=0.5)\n",
    "\n",
    "# Adding annotations for coefficients\n",
    "for i, (coef, y_var) in enumerate(zip(df_results['coef'], df_results['y_var'])):\n",
    "    axes[0].annotate(f'{coef:.2f}', xy=(coef, i), xytext=(5, 0), textcoords='offset points', color='black')\n",
    "\n",
    "# Adding annotations for percentage changes\n",
    "for i, (pct_change, y_var) in enumerate(zip(df_results['percentage_change'], df_results['y_var'])):\n",
    "    axes[1].annotate(f'{pct_change:.2f}%', xy=(pct_change, i), xytext=(5, 0), textcoords='offset points', color='black')\n",
    "\n",
    "# Final touches\n",
    "plt.tight_layout()\n",
    "plt.show()\n"
   ]
  },
  {
   "cell_type": "code",
   "execution_count": 492,
   "metadata": {},
   "outputs": [
    {
     "name": "stdout",
     "output_type": "stream",
     "text": [
      "                             PanelOLS Estimation Summary                             \n",
      "=====================================================================================\n",
      "Dep. Variable:     log_customer_account_id   R-squared:                        0.1841\n",
      "Estimator:                        PanelOLS   R-squared (Between):              0.0084\n",
      "No. Observations:                      222   R-squared (Within):               0.0585\n",
      "Date:                     Sun, Oct 13 2024   R-squared (Overall):              0.0084\n",
      "Time:                             12:45:47   Log-likelihood                    506.83\n",
      "Cov. Estimator:                  Clustered                                           \n",
      "                                             F-statistic:                      12.187\n",
      "Entities:                                2   P-value                           0.0000\n",
      "Avg Obs:                            111.00   Distribution:                   F(2,108)\n",
      "Min Obs:                            111.00                                           \n",
      "Max Obs:                            111.00   F-statistic (robust):          1.725e+31\n",
      "                                             P-value                           0.0000\n",
      "Time periods:                          111   Distribution:                   F(2,108)\n",
      "Avg Obs:                            2.0000                                           \n",
      "Min Obs:                            2.0000                                           \n",
      "Max Obs:                            2.0000                                           \n",
      "                                                                                     \n",
      "                             Parameter Estimates                              \n",
      "==============================================================================\n",
      "            Parameter  Std. Err.     T-stat    P-value    Lower CI    Upper CI\n",
      "------------------------------------------------------------------------------\n",
      "treated        0.0480  3.519e-16  1.365e+14     0.0000      0.0480      0.0480\n",
      "total_cost  1.803e-06  1.533e-20  1.176e+14     0.0000   1.803e-06   1.803e-06\n",
      "==============================================================================\n",
      "\n",
      "F-test for Poolability: 58.535\n",
      "P-value: 0.0000\n",
      "Distribution: F(111,108)\n",
      "\n",
      "Included effects: Entity, Time\n"
     ]
    }
   ],
   "source": [
    "from linearmodels.panel import PanelOLS\n",
    "import pandas as pd\n",
    "import numpy as np\n",
    "\n",
    "# Intervention week\n",
    "intervention_week = '2024-08-06'\n",
    "intervention_week = pd.to_datetime(intervention_week, format='%Y-%m-%d')\n",
    "\n",
    "# Aggregating post and pre-treatment for treatment and control groups\n",
    "a = dps_post_treatment.groupby(['created_date_local']).agg({'fully_loaded_gross_profit_eur':'sum','platform_order_code':'nunique','customer_account_id':'nunique','foregone_delivery_fee':'sum','voucher_amount_eur':'sum','foregone_delivery_fee_final':'sum','voucher_amount_nc_eur':'sum'}).reset_index()\n",
    "b = dps_pre_treatment.groupby(['created_date_local']).agg({'fully_loaded_gross_profit_eur':'sum','platform_order_code':'nunique','customer_account_id':'nunique','foregone_delivery_fee':'sum','voucher_amount_eur':'sum','foregone_delivery_fee_final':'sum','voucher_amount_nc_eur':'sum'}).reset_index()\n",
    "\n",
    "c = post_control.groupby(['created_date_local']).agg({'fully_loaded_gross_profit_eur':'sum','platform_order_code':'nunique','customer_account_id':'nunique','foregone_delivery_fee':'sum','voucher_amount_eur':'sum','foregone_delivery_fee_final':'sum','voucher_amount_nc_eur':'sum'}).reset_index()\n",
    "d = pre_control.groupby(['created_date_local']).agg({'fully_loaded_gross_profit_eur':'sum','platform_order_code':'nunique','customer_account_id':'nunique','foregone_delivery_fee':'sum','voucher_amount_eur':'sum','foregone_delivery_fee_final':'sum','voucher_amount_nc_eur':'sum'}).reset_index()\n",
    "\n",
    "# Combine treatment data\n",
    "frames_t = [a, b]\n",
    "combined_treatment = pd.concat(frames_t)\n",
    "combined_treatment['group'] = 'treatment'\n",
    "\n",
    "# Combine control data\n",
    "frames_c = [c, d]\n",
    "combined_control = pd.concat(frames_c)\n",
    "combined_control['group'] = 'control'\n",
    "\n",
    "# Combine all data\n",
    "frames_f = [combined_treatment, combined_control]\n",
    "final_df = pd.concat(frames_f)\n",
    "\n",
    "# Convert necessary columns to float\n",
    "final_df['foregone_delivery_fee'] = final_df['foregone_delivery_fee_final'].astype(float)\n",
    "final_df['voucher_amount_eur'] = final_df['voucher_amount_nc_eur'].astype(float)\n",
    "\n",
    "# Add the two columns to get the 'total_cost'\n",
    "final_df['total_cost'] = final_df['voucher_amount_eur'] + final_df['foregone_delivery_fee']\n",
    "\n",
    "# Convert 'created_date_local' to datetime\n",
    "final_df['created_date_local'] = pd.to_datetime(final_df['created_date_local'], errors='coerce')\n",
    "\n",
    "# Creating flags for treatment, post-intervention\n",
    "final_df['variant_cities'] = final_df['group'] == 'treatment'\n",
    "final_df['after'] = final_df['created_date_local'] >= intervention_week\n",
    "final_df['treated'] = 1 * (final_df['variant_cities'] & final_df['after'])\n",
    "\n",
    "# Apply log transformation to 'customer_account_id' (log of the dependent variable)\n",
    "final_df['log_customer_account_id'] = np.log1p(final_df['customer_account_id'])  # Use log1p to handle zero values\n",
    "\n",
    "# Set 'group' (entity) and 'created_date_local' as a multi-level index for PanelOLS\n",
    "final_df = final_df.set_index(['group', 'created_date_local'])\n",
    "\n",
    "# PanelOLS model with the log-transformed dependent variable\n",
    "model = PanelOLS.from_formula('log_customer_account_id ~ treated + EntityEffects + TimeEffects + total_cost', data=final_df)\n",
    "\n",
    "# Fitting the model\n",
    "results = model.fit(cov_type='clustered', cluster_entity=True)\n",
    "\n",
    "# Display results\n",
    "print(results)\n"
   ]
  },
  {
   "cell_type": "code",
   "execution_count": 495,
   "metadata": {},
   "outputs": [
    {
     "data": {
      "image/png": "[encoded data removed]",
      "text/plain": [
       "<Figure size 1200x600 with 2 Axes>"
      ]
     },
     "metadata": {},
     "output_type": "display_data"
    }
   ],
   "source": [
    "results = {\n",
    "    'cause': ['Total Deaths', 'CVD', 'Injury', 'Non-COVID Pneumonia', 'Neoplasms', 'Chronic Respiratory Diseases', 'Other Causes'],\n",
    "    'coef': [-0.429, -0.270, -0.044, -0.022, -0.037, -0.032, -0.026],\n",
    "    'ci_low': [-0.50, -0.35, -0.10, -0.06, -0.09, -0.09, -0.07],\n",
    "    'ci_high': [-0.35, -0.20, 0.01, 0.02, 0.02, 0.03, 0.02],\n",
    "    'percentage_change': [-4.92, -6.23, -9.18, -14.3, -1.88, -4.2, -2.42],\n",
    "    'ci_low_pct': [-6.0, -7.5, -11.0, -18.0, -3.0, -6.5, -4.0],\n",
    "    'ci_high_pct': [-3.8, -5.0, -7.0, -10.0, -0.8, -2.0, -1.0]\n",
    "}\n",
    "\n",
    "df_results = pd.DataFrame(results)\n",
    "\n",
    "fig, axes = plt.subplots(1, 2, figsize=(12, 6), sharey=True)\n",
    "\n",
    "# Panel A: Absolute change in deaths\n",
    "axes[0].errorbar(df_results['coef'], df_results['cause'], \n",
    "                 xerr=[df_results['coef'] - df_results['ci_low'], df_results['ci_high'] - df_results['coef']], \n",
    "                 fmt='o', color='red', label='Impact on Deaths (Number)')\n",
    "axes[0].axvline(x=0, color='yellow', linestyle='--')\n",
    "axes[0].set_title('Panel A. Impact on Deaths, Number')\n",
    "axes[0].set_xlabel('Coefficient (Impact on Deaths)')\n",
    "\n",
    "# Panel B: Percentage change in deaths\n",
    "axes[1].errorbar(df_results['percentage_change'], df_results['cause'], \n",
    "                 xerr=[df_results['percentage_change'] - df_results['ci_low_pct'], \n",
    "                       df_results['ci_high_pct'] - df_results['percentage_change']], \n",
    "                 fmt='o', color='blue', label='Impact on Deaths (Percentage)')\n",
    "axes[1].axvline(x=0, color='yellow', linestyle='--')\n",
    "axes[1].set_title('Panel B. Impact on Deaths, Percentage')\n",
    "axes[1].set_xlabel('Percentage Change')\n",
    "\n",
    "# Final touches\n",
    "plt.tight_layout()\n",
    "plt.show()\n",
    "\n"
   ]
  },
  {
   "cell_type": "code",
   "execution_count": 493,
   "metadata": {},
   "outputs": [
    {
     "name": "stdout",
     "output_type": "stream",
     "text": [
      "Percentage Change due to Treatment: 4.92%\n"
     ]
    }
   ],
   "source": [
    "import numpy as np\n",
    "\n",
    "# Extract the coefficient for the 'treated' variable\n",
    "treated_coefficient = results.params['treated']\n",
    "\n",
    "# Calculate the percentage change using the formula\n",
    "percentage_change = (np.exp(treated_coefficient) - 1) * 100\n",
    "\n",
    "# Print the result\n",
    "print(f\"Percentage Change due to Treatment: {percentage_change:.2f}%\")"
   ]
  },
  {
   "cell_type": "code",
   "execution_count": 491,
   "metadata": {},
   "outputs": [
    {
     "name": "stdout",
     "output_type": "stream",
     "text": [
      "Percentage Change in Treatment Group: 11.27%\n",
      "Percentage Change in Control Group: 6.59%\n",
      "Difference-in-Differences (DiD) Percentage Effect: 4.68%\n",
      "Treated Effect as a Percentage: 84.16%\n"
     ]
    }
   ],
   "source": [
    "# Step 1: Calculate pre- and post-treatment means for the treatment group\n",
    "pre_treatment_mean_treatment = final_df[(final_df['variant_cities'] == True) & (final_df['after'] == False)]['customer_account_id'].mean()\n",
    "post_treatment_mean_treatment = final_df[(final_df['variant_cities'] == True) & (final_df['after'] == True)]['customer_account_id'].mean()\n",
    "\n",
    "# Step 2: Calculate pre- and post-treatment means for the control group\n",
    "pre_treatment_mean_control = final_df[(final_df['variant_cities'] == False) & (final_df['after'] == False)]['customer_account_id'].mean()\n",
    "post_treatment_mean_control = final_df[(final_df['variant_cities'] == False) & (final_df['after'] == True)]['customer_account_id'].mean()\n",
    "\n",
    "# Step 3: Calculate the percentage change for treatment and control groups\n",
    "percentage_change_treatment = ((post_treatment_mean_treatment - pre_treatment_mean_treatment) / pre_treatment_mean_treatment) * 100\n",
    "percentage_change_control = ((post_treatment_mean_control - pre_treatment_mean_control) / pre_treatment_mean_control) * 100\n",
    "\n",
    "# Step 4: Compute the Difference-in-Differences (DiD) percentage effect\n",
    "did_percentage_effect = percentage_change_treatment - percentage_change_control\n",
    "\n",
    "# Step 5: Print the results\n",
    "print(f\"Percentage Change in Treatment Group: {percentage_change_treatment:.2f}%\")\n",
    "print(f\"Percentage Change in Control Group: {percentage_change_control:.2f}%\")\n",
    "print(f\"Difference-in-Differences (DiD) Percentage Effect: {did_percentage_effect:.2f}%\")\n",
    "\n",
    "# Extracting the coefficient for 'treated' (DiD effect)\n",
    "treated_effect = results.params['treated']\n",
    "\n",
    "# Converting the treated effect into a percentage effect based on the baseline mean\n",
    "baseline_mean_control = pre_treatment_mean_control  # Baseline for control group\n",
    "treated_percentage_effect = (treated_effect / baseline_mean_control) * 100\n",
    "\n",
    "print(f\"Treated Effect as a Percentage: {treated_percentage_effect:.2f}%\")\n",
    "\n"
   ]
  },
  {
   "cell_type": "code",
   "execution_count": 490,
   "metadata": {},
   "outputs": [
    {
     "data": {
      "text/plain": [
       "15.163472493669031"
      ]
     },
     "execution_count": 490,
     "metadata": {},
     "output_type": "execute_result"
    }
   ],
   "source": [
    "# Getting the treated coefficient\n",
    "treated_coefficient = results.params['treated']\n",
    "\n",
    "final_df.reset_index(inplace=True)\n",
    "\n",
    "# Calculate the average value of fully_loaded_gross_profit_eur for the control group\n",
    "# (In practice, this needs to be calculated from your data. For the sake of this example, assume it's a calculated value)\n",
    "# Example: \n",
    "control_avg_value = final_df.loc[final_df['group'] == 'control', 'fully_loaded_gross_profit_eur'].mean()\n",
    "\n",
    "# Calculate percentage change\n",
    "percentage_change = (treated_coefficient / control_avg_value) * 100\n",
    "\n",
    "# Output the percentage change\n",
    "percentage_change"
   ]
  },
  {
   "cell_type": "code",
   "execution_count": 536,
   "metadata": {},
   "outputs": [
    {
     "data": {
      "text/html": [
       "<div>\n",
       "<style scoped>\n",
       "    .dataframe tbody tr th:only-of-type {\n",
       "        vertical-align: middle;\n",
       "    }\n",
       "\n",
       "    .dataframe tbody tr th {\n",
       "        vertical-align: top;\n",
       "    }\n",
       "\n",
       "    .dataframe thead th {\n",
       "        text-align: right;\n",
       "    }\n",
       "</style>\n",
       "<table border=\"1\" class=\"dataframe\">\n",
       "  <thead>\n",
       "    <tr style=\"text-align: right;\">\n",
       "      <th>entity_id_period</th>\n",
       "      <th>PO_FI_pre</th>\n",
       "      <th>PO_FI_post</th>\n",
       "      <th>percentage_change</th>\n",
       "    </tr>\n",
       "  </thead>\n",
       "  <tbody>\n",
       "    <tr>\n",
       "      <th>Acquistions</th>\n",
       "      <td>62030</td>\n",
       "      <td>61088</td>\n",
       "      <td>-2.0</td>\n",
       "    </tr>\n",
       "    <tr>\n",
       "      <th>FDNC_cost_eur</th>\n",
       "      <td>51875</td>\n",
       "      <td>102053</td>\n",
       "      <td>97.0</td>\n",
       "    </tr>\n",
       "    <tr>\n",
       "      <th>FLGP_eur</th>\n",
       "      <td>62728</td>\n",
       "      <td>37963</td>\n",
       "      <td>-39.0</td>\n",
       "    </tr>\n",
       "    <tr>\n",
       "      <th>GFV_eur</th>\n",
       "      <td>3321059</td>\n",
       "      <td>3251449</td>\n",
       "      <td>-2.0</td>\n",
       "    </tr>\n",
       "    <tr>\n",
       "      <th>Orders</th>\n",
       "      <td>128556</td>\n",
       "      <td>130816</td>\n",
       "      <td>2.0</td>\n",
       "    </tr>\n",
       "    <tr>\n",
       "      <th>Stacked_orders</th>\n",
       "      <td>3944</td>\n",
       "      <td>11197</td>\n",
       "      <td>184.0</td>\n",
       "    </tr>\n",
       "    <tr>\n",
       "      <th>Voucher_cost_eur</th>\n",
       "      <td>159107</td>\n",
       "      <td>209273</td>\n",
       "      <td>32.0</td>\n",
       "    </tr>\n",
       "    <tr>\n",
       "      <th>total_acquistion_cost</th>\n",
       "      <td>210982</td>\n",
       "      <td>311326</td>\n",
       "      <td>48.0</td>\n",
       "    </tr>\n",
       "  </tbody>\n",
       "</table>\n",
       "</div>"
      ],
      "text/plain": [
       "entity_id_period       PO_FI_pre  PO_FI_post  percentage_change\n",
       "Acquistions                62030       61088               -2.0\n",
       "FDNC_cost_eur              51875      102053               97.0\n",
       "FLGP_eur                   62728       37963              -39.0\n",
       "GFV_eur                  3321059     3251449               -2.0\n",
       "Orders                    128556      130816                2.0\n",
       "Stacked_orders              3944       11197              184.0\n",
       "Voucher_cost_eur          159107      209273               32.0\n",
       "total_acquistion_cost     210982      311326               48.0"
      ]
     },
     "execution_count": 536,
     "metadata": {},
     "output_type": "execute_result"
    }
   ],
   "source": [
    "## Treatment Cities ##\n",
    "\n",
    "entity_id = 'PO_FI'\n",
    "\n",
    "city = ('Helsinki','Oulu')\n",
    "city_str = \",\".join([f\"'{c}'\" for c in city])\n",
    "\n",
    "## post time period ##\n",
    "start_date_post = '2024-08-16'\n",
    "end_date_post = '2024-09-15'\n",
    "dps_post = client.query(dps_all_f(city_str, entity_id, start_date_post, end_date_post)).to_dataframe()\n",
    "dps_post['foregone_delivery_fee'] = np.where(\n",
    "    (dps_post['dps_delivery_fee_eur'] == 0) | (dps_post['dps_delivery_fee_eur'].isnull()), \n",
    "    dps_post['dps_standard_fee_eur'], \n",
    "    0\n",
    ")\n",
    "dps_post['foregone_delivery_fee_final'] = dps_post[(dps_post['has_new_customer_condition'] == False) & (dps_post['new_customer_condition_type'] != 'TOTAL')]['foregone_delivery_fee']\n",
    "\n",
    "\n",
    "## pre time period ##\n",
    "\n",
    "# Convert the strings to datetime objects\n",
    "date_format = \"%Y-%m-%d\"\n",
    "start_date = datetime.strptime(start_date_post, date_format)\n",
    "end_date = datetime.strptime(end_date_post, date_format)\n",
    "\n",
    "# Calculate the difference in days\n",
    "days_difference = (end_date - start_date).days\n",
    "days_difference\n",
    "\n",
    "# Subtract the number of days from date1\n",
    "new_date = start_date - timedelta(days=days_difference)\n",
    "new_date_only = new_date.date()\n",
    "new_date_string = new_date_only.strftime(\"%Y-%m-%d\")\n",
    "\n",
    "start_date_pre = new_date_string\n",
    "\n",
    "tmp_dt_control = datetime.strptime(start_date_post, '%Y-%m-%d')\n",
    "new_end_d_control = tmp_dt_control - timedelta(days=1)\n",
    "new_end_d_s_control = new_end_d_control.strftime('%Y-%m-%d')\n",
    "end_date_pre_control = new_end_d_s_control\n",
    "end_date_pre = end_date_pre_control\n",
    "\n",
    "\n",
    "dps_pre = client.query(dps_all_f(city_str, entity_id, start_date_pre, end_date_pre)).to_dataframe()\n",
    "dps_pre['foregone_delivery_fee'] = np.where(\n",
    "    (dps_pre['dps_delivery_fee_eur'] == 0) | (dps_pre['dps_delivery_fee_eur'].isnull()), \n",
    "    dps_pre['dps_standard_fee_eur'], \n",
    "    0\n",
    ")\n",
    "dps_pre['foregone_delivery_fee_final'] = dps_pre[(dps_pre['has_new_customer_condition'] == False) & (dps_pre['new_customer_condition_type'] != 'TOTAL')]['foregone_delivery_fee']\n",
    "\n",
    "\n",
    "cities_summary(dps_pre, dps_post)"
   ]
  },
  {
   "cell_type": "code",
   "execution_count": 537,
   "metadata": {},
   "outputs": [
    {
     "data": {
      "text/html": [
       "<div>\n",
       "<style scoped>\n",
       "    .dataframe tbody tr th:only-of-type {\n",
       "        vertical-align: middle;\n",
       "    }\n",
       "\n",
       "    .dataframe tbody tr th {\n",
       "        vertical-align: top;\n",
       "    }\n",
       "\n",
       "    .dataframe thead th {\n",
       "        text-align: right;\n",
       "    }\n",
       "</style>\n",
       "<table border=\"1\" class=\"dataframe\">\n",
       "  <thead>\n",
       "    <tr style=\"text-align: right;\">\n",
       "      <th>entity_id_period</th>\n",
       "      <th>PO_FI_pre</th>\n",
       "      <th>PO_FI_post</th>\n",
       "      <th>percentage_change</th>\n",
       "    </tr>\n",
       "  </thead>\n",
       "  <tbody>\n",
       "    <tr>\n",
       "      <th>Acquistions</th>\n",
       "      <td>29932</td>\n",
       "      <td>33362</td>\n",
       "      <td>11.0</td>\n",
       "    </tr>\n",
       "    <tr>\n",
       "      <th>FDNC_cost_eur</th>\n",
       "      <td>35479</td>\n",
       "      <td>53411</td>\n",
       "      <td>51.0</td>\n",
       "    </tr>\n",
       "    <tr>\n",
       "      <th>FLGP_eur</th>\n",
       "      <td>87580</td>\n",
       "      <td>68904</td>\n",
       "      <td>-21.0</td>\n",
       "    </tr>\n",
       "    <tr>\n",
       "      <th>GFV_eur</th>\n",
       "      <td>1560975</td>\n",
       "      <td>1735436</td>\n",
       "      <td>11.0</td>\n",
       "    </tr>\n",
       "    <tr>\n",
       "      <th>Orders</th>\n",
       "      <td>64269</td>\n",
       "      <td>72212</td>\n",
       "      <td>12.0</td>\n",
       "    </tr>\n",
       "    <tr>\n",
       "      <th>Stacked_orders</th>\n",
       "      <td>1798</td>\n",
       "      <td>4580</td>\n",
       "      <td>155.0</td>\n",
       "    </tr>\n",
       "    <tr>\n",
       "      <th>Voucher_cost_eur</th>\n",
       "      <td>73675</td>\n",
       "      <td>103440</td>\n",
       "      <td>40.0</td>\n",
       "    </tr>\n",
       "    <tr>\n",
       "      <th>total_acquistion_cost</th>\n",
       "      <td>109154</td>\n",
       "      <td>156851</td>\n",
       "      <td>44.0</td>\n",
       "    </tr>\n",
       "  </tbody>\n",
       "</table>\n",
       "</div>"
      ],
      "text/plain": [
       "entity_id_period       PO_FI_pre  PO_FI_post  percentage_change\n",
       "Acquistions                29932       33362               11.0\n",
       "FDNC_cost_eur              35479       53411               51.0\n",
       "FLGP_eur                   87580       68904              -21.0\n",
       "GFV_eur                  1560975     1735436               11.0\n",
       "Orders                     64269       72212               12.0\n",
       "Stacked_orders              1798        4580              155.0\n",
       "Voucher_cost_eur           73675      103440               40.0\n",
       "total_acquistion_cost     109154      156851               44.0"
      ]
     },
     "execution_count": 537,
     "metadata": {},
     "output_type": "execute_result"
    }
   ],
   "source": [
    "## Control Cities ##\n",
    "\n",
    "entity_id = 'PO_FI'\n",
    "\n",
    "city = ('Tampere','Turku')\n",
    "city_str = \",\".join([f\"'{c}'\" for c in city])\n",
    "\n",
    "## post time period ##\n",
    "start_date_post = '2024-08-16'\n",
    "end_date_post = '2024-09-15'\n",
    "voucher_post_control = client.query(dps_all_f(city_str, entity_id, start_date_post, end_date_post)).to_dataframe()\n",
    "voucher_post_control['foregone_delivery_fee'] = np.where(\n",
    "    (voucher_post_control['dps_delivery_fee_eur'] == 0) | (voucher_post_control['dps_delivery_fee_eur'].isnull()), \n",
    "    voucher_post_control['dps_standard_fee_eur'], \n",
    "    0\n",
    ")\n",
    "voucher_post_control['foregone_delivery_fee_final'] = voucher_post_control[(voucher_post_control['has_new_customer_condition'] == False) & (voucher_post_control['new_customer_condition_type'] != 'TOTAL')]['foregone_delivery_fee']\n",
    "\n",
    "\n",
    "## pre time period ##\n",
    "\n",
    "# Convert the strings to datetime objects\n",
    "date_format = \"%Y-%m-%d\"\n",
    "start_date = datetime.strptime(start_date_post, date_format)\n",
    "end_date = datetime.strptime(end_date_post, date_format)\n",
    "\n",
    "# Calculate the difference in days\n",
    "days_difference = (end_date - start_date).days\n",
    "days_difference\n",
    "\n",
    "# Subtract the number of days from date1\n",
    "new_date = start_date - timedelta(days=days_difference)\n",
    "new_date_only = new_date.date()\n",
    "new_date_string = new_date_only.strftime(\"%Y-%m-%d\")\n",
    "\n",
    "start_date_pre = new_date_string\n",
    "\n",
    "tmp_dt_control = datetime.strptime(start_date_post, '%Y-%m-%d')\n",
    "new_end_d_control = tmp_dt_control - timedelta(days=1)\n",
    "new_end_d_s_control = new_end_d_control.strftime('%Y-%m-%d')\n",
    "end_date_pre_control = new_end_d_s_control\n",
    "end_date_pre = end_date_pre_control\n",
    "\n",
    "voucher_pre_control = client.query(dps_all_f(city_str, entity_id, start_date_pre, end_date_pre)).to_dataframe()\n",
    "voucher_pre_control['foregone_delivery_fee'] = np.where(\n",
    "    (voucher_pre_control['dps_delivery_fee_eur'] == 0) | (voucher_pre_control['dps_delivery_fee_eur'].isnull()), \n",
    "    voucher_pre_control['dps_standard_fee_eur'], \n",
    "    0\n",
    ")\n",
    "voucher_pre_control['foregone_delivery_fee_final'] = voucher_pre_control[(voucher_pre_control['has_new_customer_condition'] == False) & (voucher_pre_control['new_customer_condition_type'] != 'TOTAL')]['foregone_delivery_fee']\n",
    "\n",
    "\n",
    "cities_summary(voucher_pre_control, voucher_post_control)"
   ]
  },
  {
   "cell_type": "code",
   "execution_count": 538,
   "metadata": {},
   "outputs": [],
   "source": [
    "a = dps_post.groupby(['created_date_local']).agg({'customer_account_id':'nunique','platform_order_code':'nunique'}).reset_index()\n",
    "b = dps_pre.groupby(['created_date_local']).agg({'customer_account_id':'nunique','platform_order_code':'nunique'}).reset_index()\n",
    "\n",
    "c = voucher_post_control.groupby(['created_date_local']).agg({'customer_account_id':'nunique','platform_order_code':'nunique'}).reset_index()\n",
    "d = voucher_pre_control.groupby(['created_date_local']).agg({'customer_account_id':'nunique','platform_order_code':'nunique'}).reset_index()\n",
    "\n",
    "frames_t = [a,b]\n",
    "combined_treatment  = pd.concat(frames_t)\n",
    "combined_treatment['group'] = 'treatment'\n",
    "\n",
    "frames_c = [c,d]\n",
    "combined_control = pd.concat(frames_c)\n",
    "combined_control['group'] = 'control'\n",
    "\n",
    "frames_f = [combined_treatment,combined_control]\n",
    "final_df = pd.concat(frames_f)"
   ]
  },
  {
   "cell_type": "code",
   "execution_count": 539,
   "metadata": {},
   "outputs": [
    {
     "data": {
      "image/png": "[encoded data removed]",
      "text/plain": [
       "<Figure size 1800x800 with 1 Axes>"
      ]
     },
     "metadata": {},
     "output_type": "display_data"
    }
   ],
   "source": [
    "treatment_date = pd.to_datetime('2024-08-16')\n",
    "plt.figure(figsize=(18, 8))\n",
    "sns.lineplot(data=final_df, x='created_date_local', y='customer_account_id', hue='group')\n",
    "plt.axvline(x=treatment_date, color='red', linestyle='--', label='Treatment Date')\n",
    "plt.legend()\n",
    "plt.show()"
   ]
  },
  {
   "cell_type": "code",
   "execution_count": 540,
   "metadata": {},
   "outputs": [
    {
     "data": {
      "application/vnd.plotly.v1+json": {
       "config": {
        "plotlyServerURL": "https://plot.ly"
       },
       "data": [
        {
         "hovertemplate": "created_date_local=%{x}<br>customer_account_id=%{y}<extra></extra>",
         "legendgroup": "",
         "marker": {
          "color": "blue",
          "symbol": "circle"
         },
         "mode": "markers",
         "name": "",
         "orientation": "v",
         "showlegend": false,
         "type": "scatter",
         "x": [
          "2024-07-17T00:00:00",
          "2024-07-18T00:00:00",
          "2024-07-19T00:00:00",
          "2024-07-20T00:00:00",
          "2024-07-21T00:00:00",
          "2024-07-22T00:00:00",
          "2024-07-23T00:00:00",
          "2024-07-24T00:00:00",
          "2024-07-25T00:00:00",
          "2024-07-26T00:00:00",
          "2024-07-27T00:00:00",
          "2024-07-28T00:00:00",
          "2024-07-29T00:00:00",
          "2024-07-30T00:00:00",
          "2024-07-31T00:00:00",
          "2024-08-01T00:00:00",
          "2024-08-02T00:00:00",
          "2024-08-03T00:00:00",
          "2024-08-04T00:00:00",
          "2024-08-05T00:00:00",
          "2024-08-06T00:00:00",
          "2024-08-07T00:00:00",
          "2024-08-08T00:00:00",
          "2024-08-09T00:00:00",
          "2024-08-10T00:00:00",
          "2024-08-11T00:00:00",
          "2024-08-12T00:00:00",
          "2024-08-13T00:00:00",
          "2024-08-14T00:00:00",
          "2024-08-15T00:00:00"
         ],
         "xaxis": "x",
         "y": [
          1933,
          1978,
          2196,
          2323,
          2788,
          1706,
          2085,
          1862,
          1840,
          2032,
          2269,
          2647,
          1759,
          1638,
          1936,
          2009,
          2131,
          2305,
          2769,
          2049,
          1836,
          1860,
          1882,
          2159,
          2508,
          2876,
          1759,
          1631,
          1766,
          1971
         ],
         "yaxis": "y"
        },
        {
         "hovertemplate": "<b>OLS trendline</b><br>customer_account_id = -3.04222e-05 * created_date_local + 54483.4<br>R<sup>2</sup>=0.004503<br><br>created_date_local=%{x}<br>customer_account_id=%{y} <b>(trend)</b><extra></extra>",
         "legendgroup": "",
         "line": {
          "color": "blue"
         },
         "marker": {
          "color": "blue",
          "symbol": "circle"
         },
         "mode": "lines",
         "name": "",
         "showlegend": false,
         "type": "scatter",
         "x": [
          "2024-07-17T00:00:00",
          "2024-07-18T00:00:00",
          "2024-07-19T00:00:00",
          "2024-07-20T00:00:00",
          "2024-07-21T00:00:00",
          "2024-07-22T00:00:00",
          "2024-07-23T00:00:00",
          "2024-07-24T00:00:00",
          "2024-07-25T00:00:00",
          "2024-07-26T00:00:00",
          "2024-07-27T00:00:00",
          "2024-07-28T00:00:00",
          "2024-07-29T00:00:00",
          "2024-07-30T00:00:00",
          "2024-07-31T00:00:00",
          "2024-08-01T00:00:00",
          "2024-08-02T00:00:00",
          "2024-08-03T00:00:00",
          "2024-08-04T00:00:00",
          "2024-08-05T00:00:00",
          "2024-08-06T00:00:00",
          "2024-08-07T00:00:00",
          "2024-08-08T00:00:00",
          "2024-08-09T00:00:00",
          "2024-08-10T00:00:00",
          "2024-08-11T00:00:00",
          "2024-08-12T00:00:00",
          "2024-08-13T00:00:00",
          "2024-08-14T00:00:00",
          "2024-08-15T00:00:00"
         ],
         "xaxis": "x",
         "y": [
          2121.546236558869,
          2118.917760474332,
          2116.2892843897957,
          2113.660808305259,
          2111.0323322207223,
          2108.4038561361854,
          2105.7753800516484,
          2103.146903967112,
          2100.518427882575,
          2097.8899517980385,
          2095.2614757135016,
          2092.632999628965,
          2090.004523544428,
          2087.376047459891,
          2084.7475713753547,
          2082.1190952908178,
          2079.4906192062813,
          2076.8621431217443,
          2074.233667037208,
          2071.605190952671,
          2068.9767148681344,
          2066.3482387835975,
          2063.7197626990605,
          2061.091286614524,
          2058.462810529987,
          2055.8343344454506,
          2053.2058583609137,
          2050.577382276377,
          2047.9489061918403,
          2045.3204301073035
         ],
         "yaxis": "y"
        },
        {
         "hovertemplate": "<b>OLS trendline</b><br>customer_account_id = -3.04222e-05 * created_date_local + 54483.4<br>R<sup>2</sup>=0.004503<br><br>created_date_local=%{x}<br>customer_account_id=%{y} <b>(trend)</b><extra></extra>",
         "legendgroup": "",
         "line": {
          "color": "blue"
         },
         "marker": {
          "color": "blue",
          "symbol": "circle"
         },
         "mode": "lines",
         "name": "",
         "showlegend": false,
         "type": "scatter",
         "x": [
          "2024-07-17T00:00:00",
          "2024-07-18T00:00:00",
          "2024-07-19T00:00:00",
          "2024-07-20T00:00:00",
          "2024-07-21T00:00:00",
          "2024-07-22T00:00:00",
          "2024-07-23T00:00:00",
          "2024-07-24T00:00:00",
          "2024-07-25T00:00:00",
          "2024-07-26T00:00:00",
          "2024-07-27T00:00:00",
          "2024-07-28T00:00:00",
          "2024-07-29T00:00:00",
          "2024-07-30T00:00:00",
          "2024-07-31T00:00:00",
          "2024-08-01T00:00:00",
          "2024-08-02T00:00:00",
          "2024-08-03T00:00:00",
          "2024-08-04T00:00:00",
          "2024-08-05T00:00:00",
          "2024-08-06T00:00:00",
          "2024-08-07T00:00:00",
          "2024-08-08T00:00:00",
          "2024-08-09T00:00:00",
          "2024-08-10T00:00:00",
          "2024-08-11T00:00:00",
          "2024-08-12T00:00:00",
          "2024-08-13T00:00:00",
          "2024-08-14T00:00:00",
          "2024-08-15T00:00:00"
         ],
         "xaxis": "x",
         "y": [
          2121.546236558869,
          2118.917760474332,
          2116.2892843897957,
          2113.660808305259,
          2111.0323322207223,
          2108.4038561361854,
          2105.7753800516484,
          2103.146903967112,
          2100.518427882575,
          2097.8899517980385,
          2095.2614757135016,
          2092.632999628965,
          2090.004523544428,
          2087.376047459891,
          2084.7475713753547,
          2082.1190952908178,
          2079.4906192062813,
          2076.8621431217443,
          2074.233667037208,
          2071.605190952671,
          2068.9767148681344,
          2066.3482387835975,
          2063.7197626990605,
          2061.091286614524,
          2058.462810529987,
          2055.8343344454506,
          2053.2058583609137,
          2050.577382276377,
          2047.9489061918403,
          2045.3204301073035
         ],
         "yaxis": "y"
        },
        {
         "hovertemplate": "created_date_local=%{x}<br>customer_account_id=%{y}<extra></extra>",
         "legendgroup": "",
         "marker": {
          "color": "lightblue",
          "symbol": "circle"
         },
         "mode": "markers",
         "name": "",
         "orientation": "v",
         "showlegend": false,
         "type": "scatter",
         "x": [
          "2024-08-16T00:00:00",
          "2024-08-17T00:00:00",
          "2024-08-18T00:00:00",
          "2024-08-19T00:00:00",
          "2024-08-20T00:00:00",
          "2024-08-21T00:00:00",
          "2024-08-22T00:00:00",
          "2024-08-23T00:00:00",
          "2024-08-24T00:00:00",
          "2024-08-25T00:00:00",
          "2024-08-26T00:00:00",
          "2024-08-27T00:00:00",
          "2024-08-28T00:00:00",
          "2024-08-29T00:00:00",
          "2024-08-30T00:00:00",
          "2024-08-31T00:00:00",
          "2024-09-01T00:00:00",
          "2024-09-02T00:00:00",
          "2024-09-03T00:00:00",
          "2024-09-04T00:00:00",
          "2024-09-05T00:00:00",
          "2024-09-06T00:00:00",
          "2024-09-07T00:00:00",
          "2024-09-08T00:00:00",
          "2024-09-09T00:00:00",
          "2024-09-10T00:00:00",
          "2024-09-11T00:00:00",
          "2024-09-12T00:00:00",
          "2024-09-13T00:00:00",
          "2024-09-14T00:00:00",
          "2024-09-15T00:00:00"
         ],
         "xaxis": "x",
         "y": [
          2387,
          2576,
          3016,
          1790,
          1681,
          1738,
          1877,
          2321,
          2376,
          2830,
          1584,
          1655,
          1688,
          1691,
          2603,
          2610,
          3168,
          2131,
          1907,
          1948,
          2050,
          2421,
          2489,
          2927,
          1925,
          2014,
          2067,
          2110,
          2843,
          2952,
          2904
         ],
         "yaxis": "y"
        },
        {
         "hovertemplate": "<b>OLS trendline</b><br>customer_account_id = 0.000143915 * created_date_local + -245996<br>R<sup>2</sup>=0.056273<br><br>created_date_local=%{x}<br>customer_account_id=%{y} <b>(trend)</b><extra></extra>",
         "legendgroup": "",
         "line": {
          "color": "lightblue"
         },
         "marker": {
          "color": "lightblue",
          "symbol": "circle"
         },
         "mode": "lines",
         "name": "",
         "showlegend": false,
         "type": "scatter",
         "x": [
          "2024-08-16T00:00:00",
          "2024-08-17T00:00:00",
          "2024-08-18T00:00:00",
          "2024-08-19T00:00:00",
          "2024-08-20T00:00:00",
          "2024-08-21T00:00:00",
          "2024-08-22T00:00:00",
          "2024-08-23T00:00:00",
          "2024-08-24T00:00:00",
          "2024-08-25T00:00:00",
          "2024-08-26T00:00:00",
          "2024-08-27T00:00:00",
          "2024-08-28T00:00:00",
          "2024-08-29T00:00:00",
          "2024-08-30T00:00:00",
          "2024-08-31T00:00:00",
          "2024-09-01T00:00:00",
          "2024-09-02T00:00:00",
          "2024-09-03T00:00:00",
          "2024-09-04T00:00:00",
          "2024-09-05T00:00:00",
          "2024-09-06T00:00:00",
          "2024-09-07T00:00:00",
          "2024-09-08T00:00:00",
          "2024-09-09T00:00:00",
          "2024-09-10T00:00:00",
          "2024-09-11T00:00:00",
          "2024-09-12T00:00:00",
          "2024-09-13T00:00:00",
          "2024-09-14T00:00:00",
          "2024-09-15T00:00:00"
         ],
         "xaxis": "x",
         "y": [
          2080.5504032257068,
          2092.9846774192597,
          2105.418951612812,
          2117.853225806365,
          2130.2874999999176,
          2142.7217741934705,
          2155.156048387023,
          2167.5903225805755,
          2180.0245967741284,
          2192.458870967681,
          2204.893145161234,
          2217.3274193547863,
          2229.7616935483393,
          2242.1959677418918,
          2254.6302419354442,
          2267.064516128997,
          2279.4987903225497,
          2291.9330645161026,
          2304.367338709655,
          2316.8016129032076,
          2329.2358870967605,
          2341.670161290313,
          2354.104435483866,
          2366.5387096774184,
          2378.9729838709713,
          2391.407258064524,
          2403.8415322580763,
          2416.2758064516293,
          2428.7100806451817,
          2441.1443548387347,
          2453.578629032287
         ],
         "yaxis": "y"
        },
        {
         "hovertemplate": "created_date_local=%{x}<br>customer_account_id=%{y}<extra></extra>",
         "legendgroup": "",
         "marker": {
          "color": "green",
          "symbol": "circle"
         },
         "mode": "markers",
         "name": "",
         "orientation": "v",
         "showlegend": false,
         "type": "scatter",
         "x": [
          "2024-07-17T00:00:00",
          "2024-07-18T00:00:00",
          "2024-07-19T00:00:00",
          "2024-07-20T00:00:00",
          "2024-07-21T00:00:00",
          "2024-07-22T00:00:00",
          "2024-07-23T00:00:00",
          "2024-07-24T00:00:00",
          "2024-07-25T00:00:00",
          "2024-07-26T00:00:00",
          "2024-07-27T00:00:00",
          "2024-07-28T00:00:00",
          "2024-07-29T00:00:00",
          "2024-07-30T00:00:00",
          "2024-07-31T00:00:00",
          "2024-08-01T00:00:00",
          "2024-08-02T00:00:00",
          "2024-08-03T00:00:00",
          "2024-08-04T00:00:00",
          "2024-08-05T00:00:00",
          "2024-08-06T00:00:00",
          "2024-08-07T00:00:00",
          "2024-08-08T00:00:00",
          "2024-08-09T00:00:00",
          "2024-08-10T00:00:00",
          "2024-08-11T00:00:00",
          "2024-08-12T00:00:00",
          "2024-08-13T00:00:00",
          "2024-08-14T00:00:00",
          "2024-08-15T00:00:00"
         ],
         "xaxis": "x",
         "y": [
          3632,
          3638,
          4281,
          4623,
          5267,
          3322,
          3895,
          3506,
          3665,
          4104,
          4806,
          5803,
          3602,
          3489,
          4066,
          4064,
          4402,
          4866,
          6075,
          3879,
          3535,
          3668,
          3810,
          4139,
          5064,
          5810,
          3659,
          3193,
          3401,
          3687
         ],
         "yaxis": "y"
        },
        {
         "hovertemplate": "<b>OLS trendline</b><br>customer_account_id = -1.17646e-05 * created_date_local + 24428.7<br>R<sup>2</sup>=0.000129<br><br>created_date_local=%{x}<br>customer_account_id=%{y} <b>(trend)</b><extra></extra>",
         "legendgroup": "",
         "line": {
          "color": "green"
         },
         "marker": {
          "color": "green",
          "symbol": "circle"
         },
         "mode": "lines",
         "name": "",
         "showlegend": false,
         "type": "scatter",
         "x": [
          "2024-07-17T00:00:00",
          "2024-07-18T00:00:00",
          "2024-07-19T00:00:00",
          "2024-07-20T00:00:00",
          "2024-07-21T00:00:00",
          "2024-07-22T00:00:00",
          "2024-07-23T00:00:00",
          "2024-07-24T00:00:00",
          "2024-07-25T00:00:00",
          "2024-07-26T00:00:00",
          "2024-07-27T00:00:00",
          "2024-07-28T00:00:00",
          "2024-07-29T00:00:00",
          "2024-07-30T00:00:00",
          "2024-07-31T00:00:00",
          "2024-08-01T00:00:00",
          "2024-08-02T00:00:00",
          "2024-08-03T00:00:00",
          "2024-08-04T00:00:00",
          "2024-08-05T00:00:00",
          "2024-08-06T00:00:00",
          "2024-08-07T00:00:00",
          "2024-08-08T00:00:00",
          "2024-08-09T00:00:00",
          "2024-08-10T00:00:00",
          "2024-08-11T00:00:00",
          "2024-08-12T00:00:00",
          "2024-08-13T00:00:00",
          "2024-08-14T00:00:00",
          "2024-08-15T00:00:00"
         ],
         "xaxis": "x",
         "y": [
          4179.772043010982,
          4178.755580274612,
          4177.739117538243,
          4176.722654801873,
          4175.706192065503,
          4174.689729329134,
          4173.673266592764,
          4172.656803856395,
          4171.6403411200245,
          4170.623878383655,
          4169.607415647285,
          4168.590952910916,
          4167.574490174546,
          4166.558027438176,
          4165.541564701807,
          4164.525101965437,
          4163.508639229068,
          4162.492176492698,
          4161.475713756328,
          4160.459251019958,
          4159.442788283589,
          4158.426325547219,
          4157.4098628108495,
          4156.393400074479,
          4155.37693733811,
          4154.36047460174,
          4153.344011865371,
          4152.327549129001,
          4151.311086392631,
          4150.294623656262
         ],
         "yaxis": "y"
        },
        {
         "hovertemplate": "created_date_local=%{x}<br>customer_account_id=%{y}<extra></extra>",
         "legendgroup": "",
         "marker": {
          "color": "red",
          "symbol": "circle"
         },
         "mode": "markers",
         "name": "",
         "orientation": "v",
         "showlegend": false,
         "type": "scatter",
         "x": [
          "2024-08-16T00:00:00",
          "2024-08-17T00:00:00",
          "2024-08-18T00:00:00",
          "2024-08-19T00:00:00",
          "2024-08-20T00:00:00",
          "2024-08-21T00:00:00",
          "2024-08-22T00:00:00",
          "2024-08-23T00:00:00",
          "2024-08-24T00:00:00",
          "2024-08-25T00:00:00",
          "2024-08-26T00:00:00",
          "2024-08-27T00:00:00",
          "2024-08-28T00:00:00",
          "2024-08-29T00:00:00",
          "2024-08-30T00:00:00",
          "2024-08-31T00:00:00",
          "2024-09-01T00:00:00",
          "2024-09-02T00:00:00",
          "2024-09-03T00:00:00",
          "2024-09-04T00:00:00",
          "2024-09-05T00:00:00",
          "2024-09-06T00:00:00",
          "2024-09-07T00:00:00",
          "2024-09-08T00:00:00",
          "2024-09-09T00:00:00",
          "2024-09-10T00:00:00",
          "2024-09-11T00:00:00",
          "2024-09-12T00:00:00",
          "2024-09-13T00:00:00",
          "2024-09-14T00:00:00",
          "2024-09-15T00:00:00"
         ],
         "xaxis": "x",
         "y": [
          4380,
          4304,
          5091,
          3203,
          3035,
          3166,
          3550,
          4588,
          4799,
          5342,
          3040,
          3009,
          3177,
          3269,
          4581,
          4548,
          5203,
          3715,
          3483,
          3477,
          3593,
          4519,
          4482,
          5293,
          3384,
          3453,
          3785,
          3842,
          5370,
          5236,
          5321
         ],
         "yaxis": "y"
        },
        {
         "hovertemplate": "<b>OLS trendline</b><br>customer_account_id = 0.000250317 * created_date_local + -427709<br>R<sup>2</sup>=0.056864<br><br>created_date_local=%{x}<br>customer_account_id=%{y} <b>(trend)</b><extra></extra>",
         "legendgroup": "",
         "line": {
          "color": "red"
         },
         "marker": {
          "color": "red",
          "symbol": "circle"
         },
         "mode": "lines",
         "name": "",
         "showlegend": false,
         "type": "scatter",
         "x": [
          "2024-08-16T00:00:00",
          "2024-08-17T00:00:00",
          "2024-08-18T00:00:00",
          "2024-08-19T00:00:00",
          "2024-08-20T00:00:00",
          "2024-08-21T00:00:00",
          "2024-08-22T00:00:00",
          "2024-08-23T00:00:00",
          "2024-08-24T00:00:00",
          "2024-08-25T00:00:00",
          "2024-08-26T00:00:00",
          "2024-08-27T00:00:00",
          "2024-08-28T00:00:00",
          "2024-08-29T00:00:00",
          "2024-08-30T00:00:00",
          "2024-08-31T00:00:00",
          "2024-09-01T00:00:00",
          "2024-09-02T00:00:00",
          "2024-09-03T00:00:00",
          "2024-09-04T00:00:00",
          "2024-09-05T00:00:00",
          "2024-09-06T00:00:00",
          "2024-09-07T00:00:00",
          "2024-09-08T00:00:00",
          "2024-09-09T00:00:00",
          "2024-09-10T00:00:00",
          "2024-09-11T00:00:00",
          "2024-09-12T00:00:00",
          "2024-09-13T00:00:00",
          "2024-09-14T00:00:00",
          "2024-09-15T00:00:00"
         ],
         "xaxis": "x",
         "y": [
          3780.0403225806085,
          3801.667741935455,
          3823.295161290302,
          3844.9225806451486,
          3866.549999999995,
          3888.177419354842,
          3909.8048387096887,
          3931.4322580645357,
          3953.0596774193823,
          3974.687096774229,
          3996.314516129076,
          4017.9419354839224,
          4039.5693548387694,
          4061.196774193616,
          4082.8241935484625,
          4104.451612903309,
          4126.079032258156,
          4147.706451613003,
          4169.33387096785,
          4190.961290322696,
          4212.588709677543,
          4234.21612903239,
          4255.843548387236,
          4277.470967742083,
          4299.09838709693,
          4320.725806451776,
          4342.353225806623,
          4363.98064516147,
          4385.608064516317,
          4407.2354838711635,
          4428.8629032260105
         ],
         "yaxis": "y"
        }
       ],
       "layout": {
        "height": 600,
        "legend": {
         "title": {
          "text": "Group"
         },
         "tracegroupgap": 0
        },
        "margin": {
         "t": 60
        },
        "showlegend": false,
        "template": {
         "data": {
          "bar": [
           {
            "error_x": {
             "color": "#2a3f5f"
            },
            "error_y": {
             "color": "#2a3f5f"
            },
            "marker": {
             "line": {
              "color": "#E5ECF6",
              "width": 0.5
             },
             "pattern": {
              "fillmode": "overlay",
              "size": 10,
              "solidity": 0.2
             }
            },
            "type": "bar"
           }
          ],
          "barpolar": [
           {
            "marker": {
             "line": {
              "color": "#E5ECF6",
              "width": 0.5
             },
             "pattern": {
              "fillmode": "overlay",
              "size": 10,
              "solidity": 0.2
             }
            },
            "type": "barpolar"
           }
          ],
          "carpet": [
           {
            "aaxis": {
             "endlinecolor": "#2a3f5f",
             "gridcolor": "white",
             "linecolor": "white",
             "minorgridcolor": "white",
             "startlinecolor": "#2a3f5f"
            },
            "baxis": {
             "endlinecolor": "#2a3f5f",
             "gridcolor": "white",
             "linecolor": "white",
             "minorgridcolor": "white",
             "startlinecolor": "#2a3f5f"
            },
            "type": "carpet"
           }
          ],
          "choropleth": [
           {
            "colorbar": {
             "outlinewidth": 0,
             "ticks": ""
            },
            "type": "choropleth"
           }
          ],
          "contour": [
           {
            "colorbar": {
             "outlinewidth": 0,
             "ticks": ""
            },
            "colorscale": [
             [
              0,
              "#0d0887"
             ],
             [
              0.1111111111111111,
              "#46039f"
             ],
             [
              0.2222222222222222,
              "#7201a8"
             ],
             [
              0.3333333333333333,
              "#9c179e"
             ],
             [
              0.4444444444444444,
              "#bd3786"
             ],
             [
              0.5555555555555556,
              "#d8576b"
             ],
             [
              0.6666666666666666,
              "#ed7953"
             ],
             [
              0.7777777777777778,
              "#fb9f3a"
             ],
             [
              0.8888888888888888,
              "#fdca26"
             ],
             [
              1,
              "#f0f921"
             ]
            ],
            "type": "contour"
           }
          ],
          "contourcarpet": [
           {
            "colorbar": {
             "outlinewidth": 0,
             "ticks": ""
            },
            "type": "contourcarpet"
           }
          ],
          "heatmap": [
           {
            "colorbar": {
             "outlinewidth": 0,
             "ticks": ""
            },
            "colorscale": [
             [
              0,
              "#0d0887"
             ],
             [
              0.1111111111111111,
              "#46039f"
             ],
             [
              0.2222222222222222,
              "#7201a8"
             ],
             [
              0.3333333333333333,
              "#9c179e"
             ],
             [
              0.4444444444444444,
              "#bd3786"
             ],
             [
              0.5555555555555556,
              "#d8576b"
             ],
             [
              0.6666666666666666,
              "#ed7953"
             ],
             [
              0.7777777777777778,
              "#fb9f3a"
             ],
             [
              0.8888888888888888,
              "#fdca26"
             ],
             [
              1,
              "#f0f921"
             ]
            ],
            "type": "heatmap"
           }
          ],
          "heatmapgl": [
           {
            "colorbar": {
             "outlinewidth": 0,
             "ticks": ""
            },
            "colorscale": [
             [
              0,
              "#0d0887"
             ],
             [
              0.1111111111111111,
              "#46039f"
             ],
             [
              0.2222222222222222,
              "#7201a8"
             ],
             [
              0.3333333333333333,
              "#9c179e"
             ],
             [
              0.4444444444444444,
              "#bd3786"
             ],
             [
              0.5555555555555556,
              "#d8576b"
             ],
             [
              0.6666666666666666,
              "#ed7953"
             ],
             [
              0.7777777777777778,
              "#fb9f3a"
             ],
             [
              0.8888888888888888,
              "#fdca26"
             ],
             [
              1,
              "#f0f921"
             ]
            ],
            "type": "heatmapgl"
           }
          ],
          "histogram": [
           {
            "marker": {
             "pattern": {
              "fillmode": "overlay",
              "size": 10,
              "solidity": 0.2
             }
            },
            "type": "histogram"
           }
          ],
          "histogram2d": [
           {
            "colorbar": {
             "outlinewidth": 0,
             "ticks": ""
            },
            "colorscale": [
             [
              0,
              "#0d0887"
             ],
             [
              0.1111111111111111,
              "#46039f"
             ],
             [
              0.2222222222222222,
              "#7201a8"
             ],
             [
              0.3333333333333333,
              "#9c179e"
             ],
             [
              0.4444444444444444,
              "#bd3786"
             ],
             [
              0.5555555555555556,
              "#d8576b"
             ],
             [
              0.6666666666666666,
              "#ed7953"
             ],
             [
              0.7777777777777778,
              "#fb9f3a"
             ],
             [
              0.8888888888888888,
              "#fdca26"
             ],
             [
              1,
              "#f0f921"
             ]
            ],
            "type": "histogram2d"
           }
          ],
          "histogram2dcontour": [
           {
            "colorbar": {
             "outlinewidth": 0,
             "ticks": ""
            },
            "colorscale": [
             [
              0,
              "#0d0887"
             ],
             [
              0.1111111111111111,
              "#46039f"
             ],
             [
              0.2222222222222222,
              "#7201a8"
             ],
             [
              0.3333333333333333,
              "#9c179e"
             ],
             [
              0.4444444444444444,
              "#bd3786"
             ],
             [
              0.5555555555555556,
              "#d8576b"
             ],
             [
              0.6666666666666666,
              "#ed7953"
             ],
             [
              0.7777777777777778,
              "#fb9f3a"
             ],
             [
              0.8888888888888888,
              "#fdca26"
             ],
             [
              1,
              "#f0f921"
             ]
            ],
            "type": "histogram2dcontour"
           }
          ],
          "mesh3d": [
           {
            "colorbar": {
             "outlinewidth": 0,
             "ticks": ""
            },
            "type": "mesh3d"
           }
          ],
          "parcoords": [
           {
            "line": {
             "colorbar": {
              "outlinewidth": 0,
              "ticks": ""
             }
            },
            "type": "parcoords"
           }
          ],
          "pie": [
           {
            "automargin": true,
            "type": "pie"
           }
          ],
          "scatter": [
           {
            "fillpattern": {
             "fillmode": "overlay",
             "size": 10,
             "solidity": 0.2
            },
            "type": "scatter"
           }
          ],
          "scatter3d": [
           {
            "line": {
             "colorbar": {
              "outlinewidth": 0,
              "ticks": ""
             }
            },
            "marker": {
             "colorbar": {
              "outlinewidth": 0,
              "ticks": ""
             }
            },
            "type": "scatter3d"
           }
          ],
          "scattercarpet": [
           {
            "marker": {
             "colorbar": {
              "outlinewidth": 0,
              "ticks": ""
             }
            },
            "type": "scattercarpet"
           }
          ],
          "scattergeo": [
           {
            "marker": {
             "colorbar": {
              "outlinewidth": 0,
              "ticks": ""
             }
            },
            "type": "scattergeo"
           }
          ],
          "scattergl": [
           {
            "marker": {
             "colorbar": {
              "outlinewidth": 0,
              "ticks": ""
             }
            },
            "type": "scattergl"
           }
          ],
          "scattermapbox": [
           {
            "marker": {
             "colorbar": {
              "outlinewidth": 0,
              "ticks": ""
             }
            },
            "type": "scattermapbox"
           }
          ],
          "scatterpolar": [
           {
            "marker": {
             "colorbar": {
              "outlinewidth": 0,
              "ticks": ""
             }
            },
            "type": "scatterpolar"
           }
          ],
          "scatterpolargl": [
           {
            "marker": {
             "colorbar": {
              "outlinewidth": 0,
              "ticks": ""
             }
            },
            "type": "scatterpolargl"
           }
          ],
          "scatterternary": [
           {
            "marker": {
             "colorbar": {
              "outlinewidth": 0,
              "ticks": ""
             }
            },
            "type": "scatterternary"
           }
          ],
          "surface": [
           {
            "colorbar": {
             "outlinewidth": 0,
             "ticks": ""
            },
            "colorscale": [
             [
              0,
              "#0d0887"
             ],
             [
              0.1111111111111111,
              "#46039f"
             ],
             [
              0.2222222222222222,
              "#7201a8"
             ],
             [
              0.3333333333333333,
              "#9c179e"
             ],
             [
              0.4444444444444444,
              "#bd3786"
             ],
             [
              0.5555555555555556,
              "#d8576b"
             ],
             [
              0.6666666666666666,
              "#ed7953"
             ],
             [
              0.7777777777777778,
              "#fb9f3a"
             ],
             [
              0.8888888888888888,
              "#fdca26"
             ],
             [
              1,
              "#f0f921"
             ]
            ],
            "type": "surface"
           }
          ],
          "table": [
           {
            "cells": {
             "fill": {
              "color": "#EBF0F8"
             },
             "line": {
              "color": "white"
             }
            },
            "header": {
             "fill": {
              "color": "#C8D4E3"
             },
             "line": {
              "color": "white"
             }
            },
            "type": "table"
           }
          ]
         },
         "layout": {
          "annotationdefaults": {
           "arrowcolor": "#2a3f5f",
           "arrowhead": 0,
           "arrowwidth": 1
          },
          "autotypenumbers": "strict",
          "coloraxis": {
           "colorbar": {
            "outlinewidth": 0,
            "ticks": ""
           }
          },
          "colorscale": {
           "diverging": [
            [
             0,
             "#8e0152"
            ],
            [
             0.1,
             "#c51b7d"
            ],
            [
             0.2,
             "#de77ae"
            ],
            [
             0.3,
             "#f1b6da"
            ],
            [
             0.4,
             "#fde0ef"
            ],
            [
             0.5,
             "#f7f7f7"
            ],
            [
             0.6,
             "#e6f5d0"
            ],
            [
             0.7,
             "#b8e186"
            ],
            [
             0.8,
             "#7fbc41"
            ],
            [
             0.9,
             "#4d9221"
            ],
            [
             1,
             "#276419"
            ]
           ],
           "sequential": [
            [
             0,
             "#0d0887"
            ],
            [
             0.1111111111111111,
             "#46039f"
            ],
            [
             0.2222222222222222,
             "#7201a8"
            ],
            [
             0.3333333333333333,
             "#9c179e"
            ],
            [
             0.4444444444444444,
             "#bd3786"
            ],
            [
             0.5555555555555556,
             "#d8576b"
            ],
            [
             0.6666666666666666,
             "#ed7953"
            ],
            [
             0.7777777777777778,
             "#fb9f3a"
            ],
            [
             0.8888888888888888,
             "#fdca26"
            ],
            [
             1,
             "#f0f921"
            ]
           ],
           "sequentialminus": [
            [
             0,
             "#0d0887"
            ],
            [
             0.1111111111111111,
             "#46039f"
            ],
            [
             0.2222222222222222,
             "#7201a8"
            ],
            [
             0.3333333333333333,
             "#9c179e"
            ],
            [
             0.4444444444444444,
             "#bd3786"
            ],
            [
             0.5555555555555556,
             "#d8576b"
            ],
            [
             0.6666666666666666,
             "#ed7953"
            ],
            [
             0.7777777777777778,
             "#fb9f3a"
            ],
            [
             0.8888888888888888,
             "#fdca26"
            ],
            [
             1,
             "#f0f921"
            ]
           ]
          },
          "colorway": [
           "#636efa",
           "#EF553B",
           "#00cc96",
           "#ab63fa",
           "#FFA15A",
           "#19d3f3",
           "#FF6692",
           "#B6E880",
           "#FF97FF",
           "#FECB52"
          ],
          "font": {
           "color": "#2a3f5f"
          },
          "geo": {
           "bgcolor": "white",
           "lakecolor": "white",
           "landcolor": "#E5ECF6",
           "showlakes": true,
           "showland": true,
           "subunitcolor": "white"
          },
          "hoverlabel": {
           "align": "left"
          },
          "hovermode": "closest",
          "mapbox": {
           "style": "light"
          },
          "paper_bgcolor": "white",
          "plot_bgcolor": "#E5ECF6",
          "polar": {
           "angularaxis": {
            "gridcolor": "white",
            "linecolor": "white",
            "ticks": ""
           },
           "bgcolor": "#E5ECF6",
           "radialaxis": {
            "gridcolor": "white",
            "linecolor": "white",
            "ticks": ""
           }
          },
          "scene": {
           "xaxis": {
            "backgroundcolor": "#E5ECF6",
            "gridcolor": "white",
            "gridwidth": 2,
            "linecolor": "white",
            "showbackground": true,
            "ticks": "",
            "zerolinecolor": "white"
           },
           "yaxis": {
            "backgroundcolor": "#E5ECF6",
            "gridcolor": "white",
            "gridwidth": 2,
            "linecolor": "white",
            "showbackground": true,
            "ticks": "",
            "zerolinecolor": "white"
           },
           "zaxis": {
            "backgroundcolor": "#E5ECF6",
            "gridcolor": "white",
            "gridwidth": 2,
            "linecolor": "white",
            "showbackground": true,
            "ticks": "",
            "zerolinecolor": "white"
           }
          },
          "shapedefaults": {
           "line": {
            "color": "#2a3f5f"
           }
          },
          "ternary": {
           "aaxis": {
            "gridcolor": "white",
            "linecolor": "white",
            "ticks": ""
           },
           "baxis": {
            "gridcolor": "white",
            "linecolor": "white",
            "ticks": ""
           },
           "bgcolor": "#E5ECF6",
           "caxis": {
            "gridcolor": "white",
            "linecolor": "white",
            "ticks": ""
           }
          },
          "title": {
           "x": 0.05
          },
          "xaxis": {
           "automargin": true,
           "gridcolor": "white",
           "linecolor": "white",
           "ticks": "",
           "title": {
            "standoff": 15
           },
           "zerolinecolor": "white",
           "zerolinewidth": 2
          },
          "yaxis": {
           "automargin": true,
           "gridcolor": "white",
           "linecolor": "white",
           "ticks": "",
           "title": {
            "standoff": 15
           },
           "zerolinecolor": "white",
           "zerolinewidth": 2
          }
         }
        },
        "width": 1200,
        "xaxis": {
         "anchor": "y",
         "domain": [
          0,
          1
         ],
         "title": {
          "text": "created_date_local"
         }
        },
        "yaxis": {
         "anchor": "x",
         "domain": [
          0,
          1
         ],
         "range": [
          0,
          null
         ],
         "title": {
          "text": "Log Customer Account ID"
         }
        }
       }
      }
     },
     "metadata": {},
     "output_type": "display_data"
    }
   ],
   "source": [
    "import pandas as pd\n",
    "import plotly.express as px\n",
    "\n",
    "\n",
    "# Example intervention date (replace this with your actual intervention date)\n",
    "intervention_date = '2024-08-16'\n",
    "\n",
    "# Ensure created_date_local is in datetime format\n",
    "final_df['created_date_local'] = pd.to_datetime(final_df['created_date_local'], errors='coerce')\n",
    "\n",
    "# Ensure platform_order_code is numeric\n",
    "final_df['customer_account_id'] = pd.to_numeric(final_df['customer_account_id'], errors='coerce')\n",
    "#final_df['log_customer_account_id'] = np.log(final_df_clean['customer_account_id'] + 1)  # Adding 1 to avoid log(0) errors\n",
    "\n",
    "\n",
    "# Drop rows with missing values in either column\n",
    "final_df_clean = final_df.dropna(subset=['created_date_local', 'customer_account_id'])\n",
    "\n",
    "# Separate control and treatment groups\n",
    "control_group = final_df_clean[final_df_clean['group'] == 'control']\n",
    "treatment_group = final_df_clean[final_df_clean['group'] == 'treatment']\n",
    "\n",
    "# Split control group into pre- and post-intervention\n",
    "control_pre = control_group[control_group['created_date_local'] < intervention_date]\n",
    "control_post = control_group[control_group['created_date_local'] >= intervention_date]\n",
    "\n",
    "# Split treatment group into pre- and post-intervention\n",
    "treatment_pre = treatment_group[treatment_group['created_date_local'] < intervention_date]\n",
    "treatment_post = treatment_group[treatment_group['created_date_local'] >= intervention_date]\n",
    "\n",
    "# Scatter plot for the control group (pre-intervention) with regression line and confidence intervals\n",
    "fig = px.scatter(\n",
    "    control_pre,\n",
    "    x='created_date_local',\n",
    "    y='customer_account_id',\n",
    "    color_discrete_sequence=['blue'],  # Pre-intervention control in blue\n",
    "    trendline='ols',  # Regression line for pre-intervention control\n",
    "    trendline_scope='trace',  # Ensures confidence intervals are plotted\n",
    "    trendline_color_override='blue'\n",
    ")\n",
    "\n",
    "# Add confidence intervals for the pre-intervention control group\n",
    "fig.add_trace(\n",
    "    px.scatter(\n",
    "        control_pre,\n",
    "        x='created_date_local',\n",
    "        y='customer_account_id',\n",
    "        color_discrete_sequence=['blue'],\n",
    "        trendline='ols',  # Regression line for pre-intervention control\n",
    "        trendline_scope='trace',  # Ensures confidence intervals are plotted\n",
    "        trendline_color_override='blue'\n",
    "    ).data[1]  # Selecting only the trendline trace\n",
    ")\n",
    "\n",
    "# Scatter plot for the control group (post-intervention) with regression line and confidence intervals\n",
    "fig.add_trace(\n",
    "    px.scatter(\n",
    "        control_post,\n",
    "        x='created_date_local',\n",
    "        y='customer_account_id',\n",
    "        color_discrete_sequence=['lightblue'],  # Post-intervention control in light blue\n",
    "        trendline='ols',  # Regression line for post-intervention control\n",
    "        trendline_scope='trace',  # Ensures confidence intervals are plotted\n",
    "        trendline_color_override='lightblue'\n",
    "    ).data[0]  # Selecting only the scatter trace\n",
    ")\n",
    "\n",
    "fig.add_trace(\n",
    "    px.scatter(\n",
    "        control_post,\n",
    "        x='created_date_local',\n",
    "        y='customer_account_id',\n",
    "        color_discrete_sequence=['lightblue'],\n",
    "        trendline='ols',  # Regression line for post-intervention control\n",
    "        trendline_scope='trace',  # Ensures confidence intervals are plotted\n",
    "        trendline_color_override='lightblue'\n",
    "    ).data[1]  # Selecting only the trendline trace\n",
    ")\n",
    "\n",
    "# Scatter plot for the treatment group (pre-intervention) with regression line and confidence intervals\n",
    "fig.add_trace(\n",
    "    px.scatter(\n",
    "        treatment_pre,\n",
    "        x='created_date_local',\n",
    "        y='customer_account_id',\n",
    "        color_discrete_sequence=['green'],  # Pre-intervention treatment in green\n",
    "        trendline='ols',  # Regression line for pre-intervention treatment\n",
    "        trendline_scope='trace',  # Ensures confidence intervals are plotted\n",
    "        trendline_color_override='green'\n",
    "    ).data[0]  # Selecting only the scatter trace\n",
    ")\n",
    "\n",
    "fig.add_trace(\n",
    "    px.scatter(\n",
    "        treatment_pre,\n",
    "        x='created_date_local',\n",
    "        y='customer_account_id',\n",
    "        color_discrete_sequence=['green'],\n",
    "        trendline='ols',  # Regression line for pre-intervention treatment\n",
    "        trendline_scope='trace',  # Ensures confidence intervals are plotted\n",
    "        trendline_color_override='green'\n",
    "    ).data[1]  # Selecting only the trendline trace\n",
    ")\n",
    "\n",
    "# Scatter plot for the treatment group (post-intervention) with regression line and confidence intervals\n",
    "fig.add_trace(\n",
    "    px.scatter(\n",
    "        treatment_post,\n",
    "        x='created_date_local',\n",
    "        y='customer_account_id',\n",
    "        color_discrete_sequence=['red'],  # Post-intervention treatment in red\n",
    "        trendline='ols',  # Regression line for post-intervention treatment\n",
    "        trendline_scope='trace',  # Ensures confidence intervals are plotted\n",
    "        trendline_color_override='red'\n",
    "    ).data[0]  # Selecting only the scatter trace\n",
    ")\n",
    "\n",
    "fig.add_trace(\n",
    "    px.scatter(\n",
    "        treatment_post,\n",
    "        x='created_date_local',\n",
    "        y='customer_account_id',\n",
    "        color_discrete_sequence=['red'],\n",
    "        trendline='ols',  # Regression line for post-intervention treatment\n",
    "        trendline_scope='trace',  # Ensures confidence intervals are plotted\n",
    "        trendline_color_override='red'\n",
    "    ).data[1]  # Selecting only the trendline trace\n",
    ")\n",
    "\n",
    "# Update layout for better visualization\n",
    "fig.update_layout(\n",
    "    xaxis_title='created_date_local',\n",
    "    yaxis_title='Log Customer Account ID',\n",
    "    yaxis_range=[0, None],  # Start y-axis at 0\n",
    "    legend_title='Group',\n",
    "    height=600,  # Height of the plot\n",
    "    width=1200,  # Width of the plot\n",
    "    showlegend=False  # Hide duplicate legends from added traces\n",
    ")\n",
    "\n",
    "# Show the plot\n",
    "fig.show()"
   ]
  },
  {
   "cell_type": "code",
   "execution_count": 546,
   "metadata": {},
   "outputs": [
    {
     "data": {
      "text/plain": [
       "group      created_date_local\n",
       "treatment  2024-08-16            7461.99\n",
       "           2024-08-17            7787.52\n",
       "           2024-08-18            8203.17\n",
       "           2024-08-19            5977.86\n",
       "           2024-08-20            5694.43\n",
       "                                  ...   \n",
       "control    2024-09-11            6394.78\n",
       "           2024-09-12            6195.25\n",
       "           2024-09-13            8458.41\n",
       "           2024-09-14            9241.36\n",
       "           2024-09-15            8798.64\n",
       "Name: total_cost, Length: 123, dtype: float64"
      ]
     },
     "execution_count": 546,
     "metadata": {},
     "output_type": "execute_result"
    }
   ],
   "source": [
    "final_df['total_cost']"
   ]
  },
  {
   "cell_type": "code",
   "execution_count": 548,
   "metadata": {},
   "outputs": [
    {
     "name": "stdout",
     "output_type": "stream",
     "text": [
      "                           PanelOLS Estimation Summary                           \n",
      "=================================================================================\n",
      "Dep. Variable:     customer_account_id   R-squared:                     -2.22e-16\n",
      "Estimator:                    PanelOLS   R-squared (Between):             -0.4817\n",
      "No. Observations:                  123   R-squared (Within):              -0.8605\n",
      "Date:                 Sun, Oct 13 2024   R-squared (Overall):             -0.4939\n",
      "Time:                         15:59:36   Log-likelihood                   -793.64\n",
      "Cov. Estimator:              Clustered                                           \n",
      "                                         F-statistic:                  -9.647e-15\n",
      "Entities:                            2   P-value                           1.0000\n",
      "Avg Obs:                        61.500   Distribution:                    F(1,60)\n",
      "Min Obs:                        61.000                                           \n",
      "Max Obs:                        62.000   F-statistic (robust):          2.356e-29\n",
      "                                         P-value                           1.0000\n",
      "Time periods:                       61   Distribution:                    F(1,60)\n",
      "Avg Obs:                        2.0164                                           \n",
      "Min Obs:                        1.0000                                           \n",
      "Max Obs:                        3.0000                                           \n",
      "                                                                                 \n",
      "                             Parameter Estimates                              \n",
      "==============================================================================\n",
      "            Parameter  Std. Err.     T-stat    P-value    Lower CI    Upper CI\n",
      "------------------------------------------------------------------------------\n",
      "treated       -1984.2  4.088e+17 -4.854e-15     1.0000  -8.176e+17   8.176e+17\n",
      "==============================================================================\n",
      "\n",
      "F-test for Poolability: 41.348\n",
      "P-value: 0.0000\n",
      "Distribution: F(61,60)\n",
      "\n",
      "Included effects: Entity, Time\n"
     ]
    }
   ],
   "source": [
    "from linearmodels.panel import PanelOLS\n",
    "import pandas as pd\n",
    "\n",
    "# Intervention week\n",
    "intervention_week = '2024-08-12'\n",
    "intervention_week = pd.to_datetime(intervention_week, format='%Y-%m-%d')\n",
    "\n",
    "# Aggregating post and pre-treatment for treatment and control groups\n",
    "a = dps_post.groupby(['created_date_local']).agg({'fully_loaded_gross_profit_eur':'sum','platform_order_code':'nunique','customer_account_id':'nunique','voucher_amount_eur':'sum','foregone_delivery_fee_final':'sum','voucher_amount_nc_eur':'sum'}).reset_index()\n",
    "b = dps_pre.groupby(['created_date_local']).agg({'fully_loaded_gross_profit_eur':'sum','platform_order_code':'nunique','customer_account_id':'nunique','voucher_amount_eur':'sum','foregone_delivery_fee_final':'sum','voucher_amount_nc_eur':'sum'}).reset_index()\n",
    "\n",
    "c = voucher_post_control.groupby(['created_date_local']).agg({'fully_loaded_gross_profit_eur':'sum','platform_order_code':'nunique','customer_account_id':'nunique','voucher_amount_eur':'sum','foregone_delivery_fee_final':'sum','voucher_amount_nc_eur':'sum'}).reset_index()\n",
    "d = voucher_post_control.groupby(['created_date_local']).agg({'fully_loaded_gross_profit_eur':'sum','platform_order_code':'nunique','customer_account_id':'nunique','voucher_amount_eur':'sum','foregone_delivery_fee_final':'sum','voucher_amount_nc_eur':'sum'}).reset_index()\n",
    "\n",
    "# Combine treatment data\n",
    "frames_t = [a, b]\n",
    "combined_treatment = pd.concat(frames_t)\n",
    "combined_treatment['group'] = 'treatment'\n",
    "\n",
    "# Combine control data\n",
    "frames_c = [c, d]\n",
    "combined_control = pd.concat(frames_c)\n",
    "combined_control['group'] = 'control'\n",
    "\n",
    "# Combine all data\n",
    "frames_f = [combined_treatment, combined_control]\n",
    "final_df = pd.concat(frames_f)\n",
    "\n",
    "# Convert necessary columns to float\n",
    "final_df['foregone_delivery_fee'] = final_df['foregone_delivery_fee_final'].astype(float)\n",
    "final_df['voucher_amount_eur'] = final_df['voucher_amount_nc_eur'].astype(float)\n",
    "\n",
    "# Add the two columns to get the 'total_cost'\n",
    "final_df['total_cost'] = final_df['voucher_amount_eur'] + final_df['foregone_delivery_fee']\n",
    "\n",
    "# Convert week to datetime\n",
    "final_df['created_date_local'] = pd.to_datetime(final_df['created_date_local'], errors='coerce')\n",
    "\n",
    "# Creating flags for treatment, post-intervention\n",
    "final_df['variant_cities'] = final_df['group'] == 'treatment'\n",
    "final_df['after'] = final_df['created_date_local'] >= intervention_week\n",
    "final_df['treated'] = 1 * (final_df['variant_cities'] & final_df['after'])\n",
    "\n",
    "# Set 'group' (entity) and 'week' as a multi-level index for PanelOLS\n",
    "final_df = final_df.set_index(['group', 'created_date_local'])\n",
    "\n",
    "# PanelOLS model, using the formula for difference-in-differences\n",
    "model = PanelOLS.from_formula('customer_account_id ~ treated + EntityEffects + TimeEffects', data=final_df)\n",
    "\n",
    "# Fitting the model\n",
    "results = model.fit(cov_type='clustered', cluster_entity=False)\n",
    "\n",
    "# Display results\n",
    "print(results)\n"
   ]
  },
  {
   "cell_type": "code",
   "execution_count": 479,
   "metadata": {},
   "outputs": [
    {
     "data": {
      "text/html": [
       "<div>\n",
       "<style scoped>\n",
       "    .dataframe tbody tr th:only-of-type {\n",
       "        vertical-align: middle;\n",
       "    }\n",
       "\n",
       "    .dataframe tbody tr th {\n",
       "        vertical-align: top;\n",
       "    }\n",
       "\n",
       "    .dataframe thead th {\n",
       "        text-align: right;\n",
       "    }\n",
       "</style>\n",
       "<table border=\"1\" class=\"dataframe\">\n",
       "  <thead>\n",
       "    <tr style=\"text-align: right;\">\n",
       "      <th></th>\n",
       "      <th></th>\n",
       "      <th>fully_loaded_gross_profit_eur</th>\n",
       "      <th>platform_order_code</th>\n",
       "      <th>customer_account_id</th>\n",
       "      <th>voucher_amount_eur</th>\n",
       "      <th>foregone_delivery_fee_final</th>\n",
       "      <th>voucher_amount_nc_eur</th>\n",
       "      <th>foregone_delivery_fee</th>\n",
       "      <th>total_cost</th>\n",
       "      <th>variant_cities</th>\n",
       "      <th>after</th>\n",
       "      <th>treated</th>\n",
       "    </tr>\n",
       "    <tr>\n",
       "      <th>group</th>\n",
       "      <th>week</th>\n",
       "      <th></th>\n",
       "      <th></th>\n",
       "      <th></th>\n",
       "      <th></th>\n",
       "      <th></th>\n",
       "      <th></th>\n",
       "      <th></th>\n",
       "      <th></th>\n",
       "      <th></th>\n",
       "      <th></th>\n",
       "      <th></th>\n",
       "    </tr>\n",
       "  </thead>\n",
       "  <tbody>\n",
       "    <tr>\n",
       "      <th rowspan=\"10\" valign=\"top\">treatment</th>\n",
       "      <th>2024-08-12</th>\n",
       "      <td>25841.700526</td>\n",
       "      <td>28460</td>\n",
       "      <td>21464</td>\n",
       "      <td>35257.53</td>\n",
       "      <td>12240.190000000</td>\n",
       "      <td>35257.53</td>\n",
       "      <td>12240.19</td>\n",
       "      <td>47497.72</td>\n",
       "      <td>True</td>\n",
       "      <td>True</td>\n",
       "      <td>1</td>\n",
       "    </tr>\n",
       "    <tr>\n",
       "      <th>2024-08-19</th>\n",
       "      <td>26581.889515</td>\n",
       "      <td>28427</td>\n",
       "      <td>21429</td>\n",
       "      <td>34868.88</td>\n",
       "      <td>13850.720000000</td>\n",
       "      <td>34868.88</td>\n",
       "      <td>13850.72</td>\n",
       "      <td>48719.60</td>\n",
       "      <td>True</td>\n",
       "      <td>True</td>\n",
       "      <td>1</td>\n",
       "    </tr>\n",
       "    <tr>\n",
       "      <th>2024-08-26</th>\n",
       "      <td>14039.139617</td>\n",
       "      <td>27576</td>\n",
       "      <td>20929</td>\n",
       "      <td>44351.05</td>\n",
       "      <td>13402.260000000</td>\n",
       "      <td>44351.05</td>\n",
       "      <td>13402.26</td>\n",
       "      <td>57753.31</td>\n",
       "      <td>True</td>\n",
       "      <td>True</td>\n",
       "      <td>1</td>\n",
       "    </tr>\n",
       "    <tr>\n",
       "      <th>2024-09-02</th>\n",
       "      <td>64.012926</td>\n",
       "      <td>29286</td>\n",
       "      <td>22056</td>\n",
       "      <td>53876.09</td>\n",
       "      <td>15739.350000000</td>\n",
       "      <td>53876.09</td>\n",
       "      <td>15739.35</td>\n",
       "      <td>69615.44</td>\n",
       "      <td>True</td>\n",
       "      <td>True</td>\n",
       "      <td>1</td>\n",
       "    </tr>\n",
       "    <tr>\n",
       "      <th>2024-09-09</th>\n",
       "      <td>-12089.007018</td>\n",
       "      <td>31269</td>\n",
       "      <td>23508</td>\n",
       "      <td>58482.07</td>\n",
       "      <td>35889.510000000</td>\n",
       "      <td>58482.07</td>\n",
       "      <td>35889.51</td>\n",
       "      <td>94371.58</td>\n",
       "      <td>True</td>\n",
       "      <td>True</td>\n",
       "      <td>1</td>\n",
       "    </tr>\n",
       "    <tr>\n",
       "      <th>2024-07-08</th>\n",
       "      <td>1839.622381</td>\n",
       "      <td>25743</td>\n",
       "      <td>20066</td>\n",
       "      <td>31342.99</td>\n",
       "      <td>10434.590000000</td>\n",
       "      <td>31342.99</td>\n",
       "      <td>10434.59</td>\n",
       "      <td>41777.58</td>\n",
       "      <td>True</td>\n",
       "      <td>False</td>\n",
       "      <td>0</td>\n",
       "    </tr>\n",
       "    <tr>\n",
       "      <th>2024-07-15</th>\n",
       "      <td>1673.534961</td>\n",
       "      <td>29338</td>\n",
       "      <td>22190</td>\n",
       "      <td>40434.60</td>\n",
       "      <td>12013.420000000</td>\n",
       "      <td>40434.60</td>\n",
       "      <td>12013.42</td>\n",
       "      <td>52448.02</td>\n",
       "      <td>True</td>\n",
       "      <td>False</td>\n",
       "      <td>0</td>\n",
       "    </tr>\n",
       "    <tr>\n",
       "      <th>2024-07-22</th>\n",
       "      <td>9228.032126</td>\n",
       "      <td>29942</td>\n",
       "      <td>22821</td>\n",
       "      <td>40997.48</td>\n",
       "      <td>11851.130000000</td>\n",
       "      <td>40997.48</td>\n",
       "      <td>11851.13</td>\n",
       "      <td>52848.61</td>\n",
       "      <td>True</td>\n",
       "      <td>False</td>\n",
       "      <td>0</td>\n",
       "    </tr>\n",
       "    <tr>\n",
       "      <th>2024-07-29</th>\n",
       "      <td>15478.426410</td>\n",
       "      <td>31480</td>\n",
       "      <td>23406</td>\n",
       "      <td>33481.65</td>\n",
       "      <td>12157.780000000</td>\n",
       "      <td>33481.65</td>\n",
       "      <td>12157.78</td>\n",
       "      <td>45639.43</td>\n",
       "      <td>True</td>\n",
       "      <td>False</td>\n",
       "      <td>0</td>\n",
       "    </tr>\n",
       "    <tr>\n",
       "      <th>2024-08-05</th>\n",
       "      <td>23532.068246</td>\n",
       "      <td>30787</td>\n",
       "      <td>22962</td>\n",
       "      <td>35454.25</td>\n",
       "      <td>11875.660000000</td>\n",
       "      <td>35454.25</td>\n",
       "      <td>11875.66</td>\n",
       "      <td>47329.91</td>\n",
       "      <td>True</td>\n",
       "      <td>False</td>\n",
       "      <td>0</td>\n",
       "    </tr>\n",
       "    <tr>\n",
       "      <th rowspan=\"10\" valign=\"top\">control</th>\n",
       "      <th>2024-08-12</th>\n",
       "      <td>23337.487368</td>\n",
       "      <td>15510</td>\n",
       "      <td>11639</td>\n",
       "      <td>16821.09</td>\n",
       "      <td>8596.140000000</td>\n",
       "      <td>16821.09</td>\n",
       "      <td>8596.14</td>\n",
       "      <td>25417.23</td>\n",
       "      <td>False</td>\n",
       "      <td>True</td>\n",
       "      <td>0</td>\n",
       "    </tr>\n",
       "    <tr>\n",
       "      <th>2024-08-19</th>\n",
       "      <td>22198.591404</td>\n",
       "      <td>15022</td>\n",
       "      <td>11201</td>\n",
       "      <td>16188.28</td>\n",
       "      <td>9330.980000000</td>\n",
       "      <td>16188.28</td>\n",
       "      <td>9330.98</td>\n",
       "      <td>25519.26</td>\n",
       "      <td>False</td>\n",
       "      <td>True</td>\n",
       "      <td>0</td>\n",
       "    </tr>\n",
       "    <tr>\n",
       "      <th>2024-08-26</th>\n",
       "      <td>19493.888596</td>\n",
       "      <td>15438</td>\n",
       "      <td>11634</td>\n",
       "      <td>20988.61</td>\n",
       "      <td>9014.570000000</td>\n",
       "      <td>20988.61</td>\n",
       "      <td>9014.57</td>\n",
       "      <td>30003.18</td>\n",
       "      <td>False</td>\n",
       "      <td>True</td>\n",
       "      <td>0</td>\n",
       "    </tr>\n",
       "    <tr>\n",
       "      <th>2024-09-02</th>\n",
       "      <td>11687.617368</td>\n",
       "      <td>16274</td>\n",
       "      <td>12094</td>\n",
       "      <td>26995.23</td>\n",
       "      <td>11348.550000000</td>\n",
       "      <td>26995.23</td>\n",
       "      <td>11348.55</td>\n",
       "      <td>38343.78</td>\n",
       "      <td>False</td>\n",
       "      <td>True</td>\n",
       "      <td>0</td>\n",
       "    </tr>\n",
       "    <tr>\n",
       "      <th>2024-09-09</th>\n",
       "      <td>2559.280175</td>\n",
       "      <td>17265</td>\n",
       "      <td>12967</td>\n",
       "      <td>30216.07</td>\n",
       "      <td>19267.750000000</td>\n",
       "      <td>30216.07</td>\n",
       "      <td>19267.75</td>\n",
       "      <td>49483.82</td>\n",
       "      <td>False</td>\n",
       "      <td>True</td>\n",
       "      <td>0</td>\n",
       "    </tr>\n",
       "    <tr>\n",
       "      <th>2024-08-12</th>\n",
       "      <td>23337.487368</td>\n",
       "      <td>15510</td>\n",
       "      <td>11639</td>\n",
       "      <td>16821.09</td>\n",
       "      <td>8596.140000000</td>\n",
       "      <td>16821.09</td>\n",
       "      <td>8596.14</td>\n",
       "      <td>25417.23</td>\n",
       "      <td>False</td>\n",
       "      <td>True</td>\n",
       "      <td>0</td>\n",
       "    </tr>\n",
       "    <tr>\n",
       "      <th>2024-08-19</th>\n",
       "      <td>22198.591404</td>\n",
       "      <td>15022</td>\n",
       "      <td>11201</td>\n",
       "      <td>16188.28</td>\n",
       "      <td>9330.980000000</td>\n",
       "      <td>16188.28</td>\n",
       "      <td>9330.98</td>\n",
       "      <td>25519.26</td>\n",
       "      <td>False</td>\n",
       "      <td>True</td>\n",
       "      <td>0</td>\n",
       "    </tr>\n",
       "    <tr>\n",
       "      <th>2024-08-26</th>\n",
       "      <td>19493.888596</td>\n",
       "      <td>15438</td>\n",
       "      <td>11634</td>\n",
       "      <td>20988.61</td>\n",
       "      <td>9014.570000000</td>\n",
       "      <td>20988.61</td>\n",
       "      <td>9014.57</td>\n",
       "      <td>30003.18</td>\n",
       "      <td>False</td>\n",
       "      <td>True</td>\n",
       "      <td>0</td>\n",
       "    </tr>\n",
       "    <tr>\n",
       "      <th>2024-09-02</th>\n",
       "      <td>11687.617368</td>\n",
       "      <td>16274</td>\n",
       "      <td>12094</td>\n",
       "      <td>26995.23</td>\n",
       "      <td>11348.550000000</td>\n",
       "      <td>26995.23</td>\n",
       "      <td>11348.55</td>\n",
       "      <td>38343.78</td>\n",
       "      <td>False</td>\n",
       "      <td>True</td>\n",
       "      <td>0</td>\n",
       "    </tr>\n",
       "    <tr>\n",
       "      <th>2024-09-09</th>\n",
       "      <td>2559.280175</td>\n",
       "      <td>17265</td>\n",
       "      <td>12967</td>\n",
       "      <td>30216.07</td>\n",
       "      <td>19267.750000000</td>\n",
       "      <td>30216.07</td>\n",
       "      <td>19267.75</td>\n",
       "      <td>49483.82</td>\n",
       "      <td>False</td>\n",
       "      <td>True</td>\n",
       "      <td>0</td>\n",
       "    </tr>\n",
       "  </tbody>\n",
       "</table>\n",
       "</div>"
      ],
      "text/plain": [
       "                      fully_loaded_gross_profit_eur  platform_order_code  \\\n",
       "group     week                                                             \n",
       "treatment 2024-08-12                   25841.700526                28460   \n",
       "          2024-08-19                   26581.889515                28427   \n",
       "          2024-08-26                   14039.139617                27576   \n",
       "          2024-09-02                      64.012926                29286   \n",
       "          2024-09-09                  -12089.007018                31269   \n",
       "          2024-07-08                    1839.622381                25743   \n",
       "          2024-07-15                    1673.534961                29338   \n",
       "          2024-07-22                    9228.032126                29942   \n",
       "          2024-07-29                   15478.426410                31480   \n",
       "          2024-08-05                   23532.068246                30787   \n",
       "control   2024-08-12                   23337.487368                15510   \n",
       "          2024-08-19                   22198.591404                15022   \n",
       "          2024-08-26                   19493.888596                15438   \n",
       "          2024-09-02                   11687.617368                16274   \n",
       "          2024-09-09                    2559.280175                17265   \n",
       "          2024-08-12                   23337.487368                15510   \n",
       "          2024-08-19                   22198.591404                15022   \n",
       "          2024-08-26                   19493.888596                15438   \n",
       "          2024-09-02                   11687.617368                16274   \n",
       "          2024-09-09                    2559.280175                17265   \n",
       "\n",
       "                      customer_account_id  voucher_amount_eur  \\\n",
       "group     week                                                  \n",
       "treatment 2024-08-12                21464            35257.53   \n",
       "          2024-08-19                21429            34868.88   \n",
       "          2024-08-26                20929            44351.05   \n",
       "          2024-09-02                22056            53876.09   \n",
       "          2024-09-09                23508            58482.07   \n",
       "          2024-07-08                20066            31342.99   \n",
       "          2024-07-15                22190            40434.60   \n",
       "          2024-07-22                22821            40997.48   \n",
       "          2024-07-29                23406            33481.65   \n",
       "          2024-08-05                22962            35454.25   \n",
       "control   2024-08-12                11639            16821.09   \n",
       "          2024-08-19                11201            16188.28   \n",
       "          2024-08-26                11634            20988.61   \n",
       "          2024-09-02                12094            26995.23   \n",
       "          2024-09-09                12967            30216.07   \n",
       "          2024-08-12                11639            16821.09   \n",
       "          2024-08-19                11201            16188.28   \n",
       "          2024-08-26                11634            20988.61   \n",
       "          2024-09-02                12094            26995.23   \n",
       "          2024-09-09                12967            30216.07   \n",
       "\n",
       "                     foregone_delivery_fee_final  voucher_amount_nc_eur  \\\n",
       "group     week                                                            \n",
       "treatment 2024-08-12             12240.190000000               35257.53   \n",
       "          2024-08-19             13850.720000000               34868.88   \n",
       "          2024-08-26             13402.260000000               44351.05   \n",
       "          2024-09-02             15739.350000000               53876.09   \n",
       "          2024-09-09             35889.510000000               58482.07   \n",
       "          2024-07-08             10434.590000000               31342.99   \n",
       "          2024-07-15             12013.420000000               40434.60   \n",
       "          2024-07-22             11851.130000000               40997.48   \n",
       "          2024-07-29             12157.780000000               33481.65   \n",
       "          2024-08-05             11875.660000000               35454.25   \n",
       "control   2024-08-12              8596.140000000               16821.09   \n",
       "          2024-08-19              9330.980000000               16188.28   \n",
       "          2024-08-26              9014.570000000               20988.61   \n",
       "          2024-09-02             11348.550000000               26995.23   \n",
       "          2024-09-09             19267.750000000               30216.07   \n",
       "          2024-08-12              8596.140000000               16821.09   \n",
       "          2024-08-19              9330.980000000               16188.28   \n",
       "          2024-08-26              9014.570000000               20988.61   \n",
       "          2024-09-02             11348.550000000               26995.23   \n",
       "          2024-09-09             19267.750000000               30216.07   \n",
       "\n",
       "                      foregone_delivery_fee  total_cost  variant_cities  \\\n",
       "group     week                                                            \n",
       "treatment 2024-08-12               12240.19    47497.72            True   \n",
       "          2024-08-19               13850.72    48719.60            True   \n",
       "          2024-08-26               13402.26    57753.31            True   \n",
       "          2024-09-02               15739.35    69615.44            True   \n",
       "          2024-09-09               35889.51    94371.58            True   \n",
       "          2024-07-08               10434.59    41777.58            True   \n",
       "          2024-07-15               12013.42    52448.02            True   \n",
       "          2024-07-22               11851.13    52848.61            True   \n",
       "          2024-07-29               12157.78    45639.43            True   \n",
       "          2024-08-05               11875.66    47329.91            True   \n",
       "control   2024-08-12                8596.14    25417.23           False   \n",
       "          2024-08-19                9330.98    25519.26           False   \n",
       "          2024-08-26                9014.57    30003.18           False   \n",
       "          2024-09-02               11348.55    38343.78           False   \n",
       "          2024-09-09               19267.75    49483.82           False   \n",
       "          2024-08-12                8596.14    25417.23           False   \n",
       "          2024-08-19                9330.98    25519.26           False   \n",
       "          2024-08-26                9014.57    30003.18           False   \n",
       "          2024-09-02               11348.55    38343.78           False   \n",
       "          2024-09-09               19267.75    49483.82           False   \n",
       "\n",
       "                      after  treated  \n",
       "group     week                        \n",
       "treatment 2024-08-12   True        1  \n",
       "          2024-08-19   True        1  \n",
       "          2024-08-26   True        1  \n",
       "          2024-09-02   True        1  \n",
       "          2024-09-09   True        1  \n",
       "          2024-07-08  False        0  \n",
       "          2024-07-15  False        0  \n",
       "          2024-07-22  False        0  \n",
       "          2024-07-29  False        0  \n",
       "          2024-08-05  False        0  \n",
       "control   2024-08-12   True        0  \n",
       "          2024-08-19   True        0  \n",
       "          2024-08-26   True        0  \n",
       "          2024-09-02   True        0  \n",
       "          2024-09-09   True        0  \n",
       "          2024-08-12   True        0  \n",
       "          2024-08-19   True        0  \n",
       "          2024-08-26   True        0  \n",
       "          2024-09-02   True        0  \n",
       "          2024-09-09   True        0  "
      ]
     },
     "execution_count": 479,
     "metadata": {},
     "output_type": "execute_result"
    }
   ],
   "source": [
    "final_df"
   ]
  },
  {
   "cell_type": "code",
   "execution_count": null,
   "metadata": {},
   "outputs": [],
   "source": [
    "# from linearmodels.panel import PanelOLS\n",
    "# import pandas as pd\n",
    "\n",
    "# intervention_week = '2024-08-06'\n",
    "# intervention_week = pd.to_datetime(intervention_week, format='%Y-%m-%d')\n",
    "\n",
    "# a = dps_post_treatment.groupby(['city_name','week']).agg({'fully_loaded_gross_profit_eur':'sum','platform_order_code':'nunique','customer_account_id':'nunique','foregone_delivery_fee':'sum','voucher_amount_eur':'sum','foregone_delivery_fee_final':'sum'}).reset_index()\n",
    "# b = dps_pre_treatment.groupby(['city_name','week']).agg({'fully_loaded_gross_profit_eur':'sum','platform_order_code':'nunique','customer_account_id':'nunique','foregone_delivery_fee':'sum','voucher_amount_eur':'sum','foregone_delivery_fee_final':'sum'}).reset_index()\n",
    "\n",
    "# c = post_control.groupby(['city_name','week']).agg({'fully_loaded_gross_profit_eur':'sum','platform_order_code':'nunique','customer_account_id':'nunique','foregone_delivery_fee':'sum','voucher_amount_eur':'sum','foregone_delivery_fee_final':'sum'}).reset_index()\n",
    "# d = pre_control.groupby(['city_name','week']).agg({'fully_loaded_gross_profit_eur':'sum','platform_order_code':'nunique','customer_account_id':'nunique','foregone_delivery_fee':'sum','voucher_amount_eur':'sum','foregone_delivery_fee_final':'sum'}).reset_index()\n",
    "\n",
    "# frames_t = [a,b]\n",
    "# combined_treatment  = pd.concat(frames_t)\n",
    "# combined_treatment['group'] = 'treatment'\n",
    "\n",
    "# frames_c = [c,d]\n",
    "# combined_control = pd.concat(frames_c)\n",
    "# combined_control['group'] = 'control'\n",
    "\n",
    "# frames_f = [combined_treatment,combined_control]\n",
    "# final_df = pd.concat(frames_f)\n",
    "\n",
    "# # Convert the columns to float\n",
    "# final_df['foregone_delivery_fee_final'] = final_df['foregone_delivery_fee'].astype(float)\n",
    "# final_df['voucher_amount_eur'] = final_df['voucher_amount_eur'].astype(float)\n",
    "\n",
    "# # Add the two columns to get the 'total_cost'\n",
    "# final_df['total_cost'] = final_df['voucher_amount_eur'] + final_df['foregone_delivery_fee_final']\n",
    "\n",
    "# final_df['week'] = pd.to_datetime(final_df['week'], errors='coerce')\n",
    "# final_df['variant_cities'] = final_df['group'].isin(['treatment'])\n",
    "# final_df['after'] = final_df['week'] >= intervention_week\n",
    "# final_df['treated'] = 1*(final_df['variant_cities'] & final_df['after'])\n",
    "\n",
    "# final_df.set_index(['city_name', 'week'], inplace=True)\n",
    "\n",
    "# model = PanelOLS.from_formula('fully_loaded_gross_profit_eur ~ treated + EntityEffects + TimeEffects + voucher_amount_eur', data=final_df)\n",
    "# results = model.fit(cov_type='clustered', cluster_entity=True)\n",
    "\n",
    "# results"
   ]
  },
  {
   "cell_type": "code",
   "execution_count": null,
   "metadata": {},
   "outputs": [],
   "source": [
    "# from linearmodels.panel import PanelOLS\n",
    "# import pandas as pd\n",
    "\n",
    "# # Intervention week\n",
    "# intervention_week = '2024-08-05'\n",
    "# intervention_week = pd.to_datetime(intervention_week, format='%Y-%m-%d')\n",
    "\n",
    "# # Aggregating post and pre-treatment for treatment and control groups\n",
    "# a = dps_post_treatment.groupby(['week']).agg({'fully_loaded_gross_profit_eur':'sum','platform_order_code':'nunique','customer_account_id':'nunique','foregone_delivery_fee':'sum','voucher_amount_eur':'sum','foregone_delivery_fee_final':'sum'}).reset_index()\n",
    "# b = dps_pre_treatment.groupby(['week']).agg({'fully_loaded_gross_profit_eur':'sum','platform_order_code':'nunique','customer_account_id':'nunique','foregone_delivery_fee':'sum','voucher_amount_eur':'sum','foregone_delivery_fee_final':'sum'}).reset_index()\n",
    "\n",
    "# c = post_control.groupby(['week']).agg({'fully_loaded_gross_profit_eur':'sum','platform_order_code':'nunique','customer_account_id':'nunique','foregone_delivery_fee':'sum','voucher_amount_eur':'sum','foregone_delivery_fee_final':'sum'}).reset_index()\n",
    "# d = pre_control.groupby(['week']).agg({'fully_loaded_gross_profit_eur':'sum','platform_order_code':'nunique','customer_account_id':'nunique','foregone_delivery_fee':'sum','voucher_amount_eur':'sum','foregone_delivery_fee_final':'sum'}).reset_index()\n",
    "\n",
    "# # Combine treatment data\n",
    "# frames_t = [a, b]\n",
    "# combined_treatment = pd.concat(frames_t)\n",
    "# combined_treatment['group'] = 'treatment'\n",
    "\n",
    "# # Combine control data\n",
    "# frames_c = [c, d]\n",
    "# combined_control = pd.concat(frames_c)\n",
    "# combined_control['group'] = 'control'\n",
    "\n",
    "# # Combine all data\n",
    "# frames_f = [combined_treatment, combined_control]\n",
    "# final_df = pd.concat(frames_f)\n",
    "\n",
    "# # Convert necessary columns to float\n",
    "# final_df['foregone_delivery_fee'] = final_df['foregone_delivery_fee'].astype(float)\n",
    "# final_df['voucher_amount_eur'] = final_df['voucher_amount_eur'].astype(float)\n",
    "\n",
    "# # Add the two columns to get the 'total_cost'\n",
    "# final_df['total_cost'] = final_df['voucher_amount_eur'] + final_df['foregone_delivery_fee']\n",
    "\n",
    "# # Convert week to datetime\n",
    "# final_df['week'] = pd.to_datetime(final_df['week'], errors='coerce')\n",
    "\n",
    "# # Creating flags for treatment, post-intervention\n",
    "# final_df['variant_cities'] = final_df['group'] == 'treatment'\n",
    "# final_df['after'] = final_df['week'] >= intervention_week\n",
    "# final_df['treated'] = 1 * (final_df['variant_cities'] & final_df['after'])\n",
    "\n",
    "# # Set 'group' (entity) and 'week' as a multi-level index for PanelOLS\n",
    "# final_df = final_df.set_index(['group', 'week'])\n",
    "\n",
    "# # PanelOLS model, using the formula for difference-in-differences\n",
    "# model = PanelOLS.from_formula('fully_loaded_gross_profit_eur ~ treated + EntityEffects + TimeEffects+ total_cost', data=final_df)\n",
    "\n",
    "# # Fitting the model\n",
    "# results = model.fit(cov_type='clustered', cluster_entity=True)\n",
    "\n",
    "# # Display results\n",
    "# print(results)\n"
   ]
  },
  {
   "cell_type": "code",
   "execution_count": 435,
   "metadata": {},
   "outputs": [
    {
     "data": {
      "text/plain": [
       "38.43648648270954"
      ]
     },
     "execution_count": 435,
     "metadata": {},
     "output_type": "execute_result"
    }
   ],
   "source": [
    "# # Getting the treated coefficient\n",
    "# treated_coefficient = results.params['treated']\n",
    "\n",
    "# final_df.reset_index(inplace=True)\n",
    "\n",
    "# # Calculate the average value of fully_loaded_gross_profit_eur for the control group\n",
    "# # (In practice, this needs to be calculated from your data. For the sake of this example, assume it's a calculated value)\n",
    "# # Example: \n",
    "# control_avg_value = final_df.loc[final_df['group'] == 'control', 'fully_loaded_gross_profit_eur'].mean()\n",
    "\n",
    "# # Calculate percentage change\n",
    "# percentage_change = (treated_coefficient / control_avg_value) * 100\n",
    "\n",
    "# # Output the percentage change\n",
    "# percentage_change"
   ]
  },
  {
   "cell_type": "code",
   "execution_count": 436,
   "metadata": {},
   "outputs": [
    {
     "data": {
      "text/plain": [
       "2851718.272230131"
      ]
     },
     "execution_count": 436,
     "metadata": {},
     "output_type": "execute_result"
    }
   ],
   "source": [
    "final_df['total_cost'].sum()"
   ]
  },
  {
   "cell_type": "code",
   "execution_count": 437,
   "metadata": {},
   "outputs": [
    {
     "data": {
      "text/plain": [
       "0.012623967925080797"
      ]
     },
     "execution_count": 437,
     "metadata": {},
     "output_type": "execute_result"
    }
   ],
   "source": [
    "36000 / 2851718.272230131"
   ]
  },
  {
   "cell_type": "code",
   "execution_count": 438,
   "metadata": {},
   "outputs": [],
   "source": [
    "# import seaborn as sns\n",
    "# import matplotlib.pyplot as plt\n",
    "\n",
    "# Convert the 'week' column to numeric format (e.g., ordinal or integer representing week)\n",
    "# control_pre['week_numeric'] = control_pre['week'].apply(lambda x: x.toordinal())\n",
    "# control_post['week_numeric'] = control_post['week'].apply(lambda x: x.toordinal())\n",
    "# treatment_pre['week_numeric'] = treatment_pre['week'].apply(lambda x: x.toordinal())\n",
    "# treatment_post['week_numeric'] = treatment_post['week'].apply(lambda x: x.toordinal())\n",
    "\n",
    "\n",
    "# # Create a figure with subplots to display all the groups\n",
    "# plt.figure(figsize=(12, 8))\n",
    "\n",
    "# # Scatter plot with regression line and confidence intervals for control group pre-intervention\n",
    "# sns.regplot(\n",
    "#     x='week_numeric',\n",
    "#     y='customer_account_id',\n",
    "#     data=control_pre,\n",
    "#     scatter_kws={'color': 'blue'},  # Blue for control pre-intervention\n",
    "#     line_kws={'color': 'blue'},\n",
    "#     ci=95,  # 95% confidence interval\n",
    "#     label='Control Pre'\n",
    "# )\n",
    "\n",
    "# # Scatter plot with regression line and confidence intervals for control group post-intervention\n",
    "# sns.regplot(\n",
    "#     x='week_numeric',\n",
    "#     y='customer_account_id',\n",
    "#     data=control_post,\n",
    "#     scatter_kws={'color': 'lightblue'},  # Light blue for control post-intervention\n",
    "#     line_kws={'color': 'lightblue'},\n",
    "#     ci=95,  # 95% confidence interval\n",
    "#     label='Control Post'\n",
    "# )\n",
    "\n",
    "# # Scatter plot with regression line and confidence intervals for treatment group pre-intervention\n",
    "# sns.regplot(\n",
    "#     x='week_numeric',\n",
    "#     y='customer_account_id',\n",
    "#     data=treatment_pre,\n",
    "#     scatter_kws={'color': 'green'},  # Green for treatment pre-intervention\n",
    "#     line_kws={'color': 'green'},\n",
    "#     ci=95,  # 95% confidence interval\n",
    "#     label='Treatment Pre'\n",
    "# )\n",
    "\n",
    "# # Scatter plot with regression line and confidence intervals for treatment group post-intervention\n",
    "# sns.regplot(\n",
    "#     x='week_numeric',\n",
    "#     y='customer_account_id',\n",
    "#     data=treatment_post,\n",
    "#     scatter_kws={'color': 'red'},  # Red for treatment post-intervention\n",
    "#     line_kws={'color': 'red'},\n",
    "#     ci=95,  # 95% confidence interval\n",
    "#     label='Treatment Post'\n",
    "# )\n",
    "\n",
    "# # Add labels and a legend\n",
    "# plt.xlabel('Week (Ordinal)')\n",
    "# plt.ylabel('Customer Account ID')\n",
    "# plt.title('Regression Plots with Confidence Intervals for Control and Treatment Groups')\n",
    "# plt.legend()\n",
    "\n",
    "# # Show the plot\n",
    "# plt.show()\n"
   ]
  },
  {
   "cell_type": "code",
   "execution_count": null,
   "metadata": {},
   "outputs": [],
   "source": []
  },
  {
   "cell_type": "code",
   "execution_count": null,
   "metadata": {},
   "outputs": [],
   "source": []
  },
  {
   "cell_type": "code",
   "execution_count": null,
   "metadata": {},
   "outputs": [],
   "source": []
  }
 ],
 "metadata": {
  "kernelspec": {
   "display_name": ".venv",
   "language": "python",
   "name": "python3"
  },
  "language_info": {
   "codemirror_mode": {
    "name": "ipython",
    "version": 3
   },
   "file_extension": ".py",
   "mimetype": "text/x-python",
   "name": "python",
   "nbconvert_exporter": "python",
   "pygments_lexer": "ipython3",
   "version": "3.12.4"
  }
 },
 "nbformat": 4,
 "nbformat_minor": 2
}
